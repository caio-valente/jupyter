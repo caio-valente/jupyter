{
 "cells": [
  {
   "cell_type": "code",
   "execution_count": 1,
   "metadata": {},
   "outputs": [],
   "source": [
    "import plotly.express as px\n",
    "import nltk.tokenize as tk\n",
    "import nltk.corpus as cp\n",
    "\n",
    "from nltk.probability import FreqDist"
   ]
  },
  {
   "cell_type": "raw",
   "metadata": {},
   "source": [
    "import nltk\n",
    "nltk.download('punkt')"
   ]
  },
  {
   "cell_type": "code",
   "execution_count": 2,
   "metadata": {},
   "outputs": [
    {
     "data": {
      "text/plain": [
       "['ASHBY',\n",
       " ',',\n",
       " 'M.',\n",
       " 'F.',\n",
       " ',',\n",
       " '2011',\n",
       " '.',\n",
       " '“',\n",
       " 'Materials',\n",
       " 'Selection',\n",
       " 'in',\n",
       " 'Mechanical',\n",
       " 'Design',\n",
       " '”',\n",
       " ',',\n",
       " '4ª',\n",
       " 'Edição',\n",
       " '.',\n",
       " 'Editora',\n",
       " 'Butterworth-Heinemann',\n",
       " ',',\n",
       " 'Oxford',\n",
       " '.',\n",
       " 'p.',\n",
       " '341',\n",
       " '–',\n",
       " '366.',\n",
       " 'de',\n",
       " 'BELLIS',\n",
       " ',',\n",
       " 'G.',\n",
       " 'et',\n",
       " 'al.',\n",
       " ',',\n",
       " '2011',\n",
       " '.',\n",
       " '“',\n",
       " 'Electromagnetic',\n",
       " 'properties',\n",
       " 'of',\n",
       " 'composites',\n",
       " 'containing',\n",
       " 'graphite',\n",
       " 'nanoplatelets',\n",
       " 'at',\n",
       " 'radio',\n",
       " 'frequency',\n",
       " '”',\n",
       " '.',\n",
       " 'Carbon',\n",
       " ',',\n",
       " 'v.',\n",
       " '49',\n",
       " ',',\n",
       " 'n.',\n",
       " '13',\n",
       " ',',\n",
       " 'p.',\n",
       " '4291',\n",
       " '–',\n",
       " '4300.',\n",
       " 'de',\n",
       " 'BARROS',\n",
       " 'NETO',\n",
       " ',',\n",
       " 'B.',\n",
       " ';',\n",
       " 'SCARMINIO',\n",
       " ',',\n",
       " 'I.',\n",
       " 'S.',\n",
       " ';',\n",
       " 'BRUNS',\n",
       " ',',\n",
       " 'R.',\n",
       " 'E.',\n",
       " ',',\n",
       " '2001',\n",
       " '.',\n",
       " '“',\n",
       " 'Como',\n",
       " 'fazer',\n",
       " 'experimentos',\n",
       " ':',\n",
       " 'Pesquisa',\n",
       " 'e',\n",
       " 'desenvolvimento',\n",
       " 'na',\n",
       " 'ciência',\n",
       " 'e',\n",
       " 'na',\n",
       " 'indústria',\n",
       " '.',\n",
       " '2ª',\n",
       " 'Edição',\n",
       " '.',\n",
       " 'Editora',\n",
       " 'da',\n",
       " 'Unicamp',\n",
       " ',',\n",
       " 'Campinas',\n",
       " '.',\n",
       " 'BERA',\n",
       " ',',\n",
       " 'M.',\n",
       " ';',\n",
       " 'MAJI',\n",
       " ',',\n",
       " 'P.',\n",
       " ',',\n",
       " '2017',\n",
       " '.',\n",
       " '“',\n",
       " 'Effect',\n",
       " 'of',\n",
       " 'structural',\n",
       " 'disparity',\n",
       " 'of',\n",
       " 'graphene-based',\n",
       " 'materials',\n",
       " 'on',\n",
       " 'thermo-mechanical',\n",
       " 'and',\n",
       " 'surface',\n",
       " 'properties',\n",
       " 'of',\n",
       " 'thermoplastic',\n",
       " 'polyurethane',\n",
       " 'nanocomposites',\n",
       " '”',\n",
       " '.',\n",
       " 'Polymer',\n",
       " ',',\n",
       " 'v.',\n",
       " '119',\n",
       " ',',\n",
       " 'p.',\n",
       " '118',\n",
       " '–',\n",
       " '133',\n",
       " '.',\n",
       " 'FINK',\n",
       " ',',\n",
       " 'J.',\n",
       " 'K.',\n",
       " ',',\n",
       " '2018',\n",
       " '.',\n",
       " '“',\n",
       " '2',\n",
       " '–',\n",
       " 'Poly',\n",
       " '(',\n",
       " 'Urethane',\n",
       " ')',\n",
       " 's',\n",
       " '”',\n",
       " ',',\n",
       " 'Reactive',\n",
       " 'Polymers',\n",
       " ':',\n",
       " 'Fundamentals',\n",
       " 'and',\n",
       " 'Applications',\n",
       " ',',\n",
       " '3ª',\n",
       " 'Edição',\n",
       " '.',\n",
       " 'Editora',\n",
       " 'William',\n",
       " 'Andrew',\n",
       " 'Publishing',\n",
       " ',',\n",
       " 'S.l',\n",
       " '.',\n",
       " 'p.',\n",
       " '71',\n",
       " '–',\n",
       " '138',\n",
       " '.',\n",
       " 'FUKUSHIMA',\n",
       " ',',\n",
       " 'H.',\n",
       " 'et',\n",
       " 'al.',\n",
       " ',',\n",
       " '2006',\n",
       " '.',\n",
       " '“',\n",
       " 'Thermal',\n",
       " 'conductivity',\n",
       " 'of',\n",
       " 'exfoliated',\n",
       " 'graphite',\n",
       " 'nanocomposites',\n",
       " '”',\n",
       " '.',\n",
       " 'Journal',\n",
       " 'of',\n",
       " 'Thermal',\n",
       " 'Analysis',\n",
       " 'and',\n",
       " 'Calorimetry',\n",
       " ',',\n",
       " 'v.',\n",
       " '85',\n",
       " ',',\n",
       " 'n.',\n",
       " '1',\n",
       " ',',\n",
       " 'p.',\n",
       " '235–238',\n",
       " '.',\n",
       " 'JANG',\n",
       " ',',\n",
       " 'B.',\n",
       " ';',\n",
       " 'ZHAMU',\n",
       " ',',\n",
       " 'A.',\n",
       " ',',\n",
       " '2008',\n",
       " '.',\n",
       " '“',\n",
       " 'Processing',\n",
       " 'of',\n",
       " 'nanographene',\n",
       " 'platelets',\n",
       " '(',\n",
       " 'NGPs',\n",
       " ')',\n",
       " 'and',\n",
       " 'NGP',\n",
       " 'nanocomposites',\n",
       " ':',\n",
       " 'a',\n",
       " 'review',\n",
       " '”',\n",
       " '.',\n",
       " 'Journal',\n",
       " 'of',\n",
       " 'Materials',\n",
       " 'Science',\n",
       " ',',\n",
       " 'v.',\n",
       " '43',\n",
       " ',',\n",
       " 'p.',\n",
       " '5092–5101',\n",
       " '.',\n",
       " 'KIM',\n",
       " ',',\n",
       " 'H.',\n",
       " ';',\n",
       " 'MIURA',\n",
       " ',',\n",
       " 'Y.',\n",
       " ';',\n",
       " 'MACOSKO',\n",
       " ',',\n",
       " 'C.',\n",
       " 'W.',\n",
       " ',',\n",
       " '2010',\n",
       " '.',\n",
       " '“',\n",
       " 'Graphene/polyurethane',\n",
       " 'nanocomposites',\n",
       " 'for',\n",
       " 'improved',\n",
       " 'gas',\n",
       " 'barrier',\n",
       " 'and',\n",
       " 'electrical',\n",
       " 'conductivity',\n",
       " '”',\n",
       " '.',\n",
       " 'Chemistry',\n",
       " 'of',\n",
       " 'Materials',\n",
       " ',',\n",
       " 'v',\n",
       " '.',\n",
       " '22',\n",
       " ',',\n",
       " 'n.',\n",
       " '11',\n",
       " ',',\n",
       " 'p.',\n",
       " '3441–3450',\n",
       " '.',\n",
       " 'MENES',\n",
       " ',',\n",
       " 'O.',\n",
       " 'et',\n",
       " 'al.',\n",
       " ',',\n",
       " '2012',\n",
       " '.',\n",
       " '“',\n",
       " 'The',\n",
       " 'effect',\n",
       " 'of',\n",
       " 'ultra-thin',\n",
       " 'graphite',\n",
       " 'on',\n",
       " 'the',\n",
       " 'morphology',\n",
       " 'and',\n",
       " 'physicalproperties',\n",
       " 'of',\n",
       " 'thermoplastic',\n",
       " 'polyurethane',\n",
       " 'elastomer',\n",
       " 'composites',\n",
       " '”',\n",
       " '.',\n",
       " 'Composites',\n",
       " 'Science',\n",
       " 'and',\n",
       " 'Technology',\n",
       " ',',\n",
       " 'v.',\n",
       " '72',\n",
       " ',',\n",
       " 'n.',\n",
       " '13',\n",
       " ',',\n",
       " 'p.',\n",
       " '1595',\n",
       " '–',\n",
       " '1601',\n",
       " '.',\n",
       " 'NGUYEN',\n",
       " ',',\n",
       " 'D.',\n",
       " 'A.',\n",
       " 'et',\n",
       " 'al.',\n",
       " ',',\n",
       " '2009',\n",
       " '.',\n",
       " '“',\n",
       " 'Morphological',\n",
       " 'and',\n",
       " 'physical',\n",
       " 'properties',\n",
       " 'of',\n",
       " 'a',\n",
       " 'thermoplastic',\n",
       " 'polyurethane',\n",
       " 'reinforced',\n",
       " 'with',\n",
       " 'functionalized',\n",
       " 'graphene',\n",
       " 'sheet',\n",
       " '”',\n",
       " '.',\n",
       " 'Polymer',\n",
       " 'International',\n",
       " ',',\n",
       " 'v.',\n",
       " '58',\n",
       " ',',\n",
       " 'n.',\n",
       " '4',\n",
       " ',',\n",
       " 'p.',\n",
       " '412–417',\n",
       " '.',\n",
       " 'NOH',\n",
       " ',',\n",
       " 'H.',\n",
       " 'et',\n",
       " 'al.',\n",
       " ',',\n",
       " '2020',\n",
       " '.',\n",
       " '“',\n",
       " 'Investigations',\n",
       " 'of',\n",
       " 'FeCl3',\n",
       " 'adducted',\n",
       " 'n-heterocyclic',\n",
       " 'carbene',\n",
       " 'complex',\n",
       " 'ascuring-delayed',\n",
       " 'action',\n",
       " 'catalyst',\n",
       " 'for',\n",
       " 'polyurethane',\n",
       " 'polymerization',\n",
       " '”',\n",
       " '.',\n",
       " 'Journal',\n",
       " 'of',\n",
       " 'Catalysis',\n",
       " ',',\n",
       " 'v.',\n",
       " '382',\n",
       " ',',\n",
       " 'p.',\n",
       " '77',\n",
       " '–',\n",
       " '85',\n",
       " '.',\n",
       " 'PIONTECK',\n",
       " ',',\n",
       " 'J.',\n",
       " ';',\n",
       " 'WYPYCH',\n",
       " ',',\n",
       " 'G.',\n",
       " ',',\n",
       " '2016',\n",
       " '.',\n",
       " '“',\n",
       " 'Handbook',\n",
       " 'of',\n",
       " 'antistatics',\n",
       " '”',\n",
       " ',',\n",
       " '2ª',\n",
       " 'Edição',\n",
       " ',',\n",
       " 'Editora',\n",
       " 'ChemTec',\n",
       " 'Publishing',\n",
       " ',',\n",
       " 'Toronto',\n",
       " '.',\n",
       " 'QUAN',\n",
       " ',',\n",
       " 'H.',\n",
       " 'et',\n",
       " 'al.',\n",
       " ',',\n",
       " '2009',\n",
       " '.',\n",
       " '“',\n",
       " 'Facile',\n",
       " 'preparation',\n",
       " 'and',\n",
       " 'thermal',\n",
       " 'degradation',\n",
       " 'studies',\n",
       " 'of',\n",
       " 'graphite',\n",
       " 'nanoplatelets',\n",
       " '(',\n",
       " 'GNPs',\n",
       " ')',\n",
       " 'filled',\n",
       " 'thermoplastic',\n",
       " 'polyurethane',\n",
       " '(',\n",
       " 'TPU',\n",
       " ')',\n",
       " 'nanocomposites',\n",
       " '”',\n",
       " '.',\n",
       " 'Composites',\n",
       " 'Part',\n",
       " 'A',\n",
       " ':',\n",
       " 'Applied',\n",
       " 'Science',\n",
       " 'and',\n",
       " 'Manufacturing',\n",
       " ',',\n",
       " 'v.',\n",
       " '40',\n",
       " ',',\n",
       " 'n.',\n",
       " '9',\n",
       " ',',\n",
       " 'p.',\n",
       " '1506',\n",
       " '–',\n",
       " '1513',\n",
       " '.',\n",
       " 'RATHNAYAKE',\n",
       " ',',\n",
       " 'R.',\n",
       " 'M.',\n",
       " 'N.',\n",
       " 'M.',\n",
       " 'et',\n",
       " 'al.',\n",
       " ',',\n",
       " '2017',\n",
       " '.',\n",
       " '“',\n",
       " 'Graphite',\n",
       " 'intercalated',\n",
       " 'polyaniline',\n",
       " 'composite',\n",
       " 'with',\n",
       " 'superior',\n",
       " 'anticorrosive',\n",
       " 'and',\n",
       " 'hydrophobic',\n",
       " 'properties',\n",
       " ',',\n",
       " 'as',\n",
       " 'protective',\n",
       " 'coating',\n",
       " 'material',\n",
       " 'on',\n",
       " 'steel',\n",
       " 'surfaces',\n",
       " '.',\n",
       " 'Applied',\n",
       " 'Surface',\n",
       " 'Science',\n",
       " ',',\n",
       " 'v.',\n",
       " '410',\n",
       " ',',\n",
       " 'p.',\n",
       " '445',\n",
       " '–',\n",
       " '453',\n",
       " '.',\n",
       " 'SENGUPTA',\n",
       " ',',\n",
       " 'R.',\n",
       " 'et',\n",
       " 'al.',\n",
       " ',',\n",
       " '2011',\n",
       " '.',\n",
       " '“',\n",
       " 'A',\n",
       " 'review',\n",
       " 'on',\n",
       " 'the',\n",
       " 'mechanical',\n",
       " 'and',\n",
       " 'electrical',\n",
       " 'properties',\n",
       " 'of',\n",
       " 'graphiteand',\n",
       " 'modified',\n",
       " 'graphite',\n",
       " 'reinforced',\n",
       " 'polymer',\n",
       " 'composites',\n",
       " '”',\n",
       " '.',\n",
       " 'Progress',\n",
       " 'in',\n",
       " 'Polymer',\n",
       " 'Science',\n",
       " ',',\n",
       " 'v.',\n",
       " '36',\n",
       " ',',\n",
       " 'n',\n",
       " '.',\n",
       " '5',\n",
       " ',',\n",
       " 'p.',\n",
       " '638',\n",
       " '–',\n",
       " '670',\n",
       " '.',\n",
       " 'SONG',\n",
       " ',',\n",
       " 'K.',\n",
       " ';',\n",
       " 'LEE',\n",
       " ',',\n",
       " 'S.',\n",
       " ';',\n",
       " 'LEE',\n",
       " ',',\n",
       " 'D.',\n",
       " ',',\n",
       " '2002',\n",
       " '.',\n",
       " '“',\n",
       " 'Influence',\n",
       " 'of',\n",
       " 'cell',\n",
       " 'opener',\n",
       " 'in',\n",
       " 'high',\n",
       " 'resilience',\n",
       " 'molded',\n",
       " 'polyurethane',\n",
       " 'foam',\n",
       " '”',\n",
       " '.',\n",
       " 'Journal',\n",
       " 'of',\n",
       " 'Cellular',\n",
       " 'Plastics',\n",
       " ',',\n",
       " 'v.',\n",
       " '38',\n",
       " ',',\n",
       " 'n.',\n",
       " '6',\n",
       " ',',\n",
       " 'p.',\n",
       " '507–522',\n",
       " '.',\n",
       " 'SZYCHER',\n",
       " ',',\n",
       " 'M.',\n",
       " ',',\n",
       " '2012',\n",
       " '.',\n",
       " '“',\n",
       " 'Szycher',\n",
       " '’',\n",
       " 's',\n",
       " 'Handbook',\n",
       " 'of',\n",
       " 'Polyurethanes',\n",
       " '”',\n",
       " ',',\n",
       " '2ª',\n",
       " 'Edição',\n",
       " ',',\n",
       " 'Editora',\n",
       " 'Taylor',\n",
       " '&',\n",
       " 'Francis',\n",
       " ',',\n",
       " 'Boca',\n",
       " 'Raton',\n",
       " '.',\n",
       " 'TOUCHET',\n",
       " ',',\n",
       " 'T.J.',\n",
       " ';',\n",
       " 'COSGRIFF-HERNANDEZ',\n",
       " ',',\n",
       " 'E.M.',\n",
       " ',',\n",
       " '2016',\n",
       " '“',\n",
       " '1',\n",
       " '-',\n",
       " 'Hierarchal',\n",
       " 'structure–property',\n",
       " 'relationships',\n",
       " 'of',\n",
       " 'segmented',\n",
       " 'polyurethanes',\n",
       " '”',\n",
       " ',',\n",
       " 'Advances',\n",
       " 'in',\n",
       " 'Polyurethane',\n",
       " 'Biomaterials',\n",
       " ',',\n",
       " '1ª',\n",
       " 'Edição',\n",
       " '.',\n",
       " 'Editora',\n",
       " 'Woodhead',\n",
       " 'Publishing',\n",
       " ',',\n",
       " 'S.',\n",
       " 'l.',\n",
       " 'p.',\n",
       " '3',\n",
       " '–',\n",
       " '22',\n",
       " '.']"
      ]
     },
     "execution_count": 2,
     "metadata": {},
     "output_type": "execute_result"
    }
   ],
   "source": [
    "# sample text for performing tokenization\n",
    "text = '''\n",
    "ASHBY, M. F., 2011. “Materials Selection in Mechanical Design”, 4ª Edição. Editora Butterworth-Heinemann, Oxford. p. 341 – 366.\n",
    "de BELLIS, G. et al., 2011. “Electromagnetic properties of composites containing graphite nanoplatelets at radio frequency”. Carbon, v. 49, n. 13, p. 4291 – 4300.\n",
    "de BARROS NETO, B.; SCARMINIO, I. S.; BRUNS, R. E., 2001. “Como fazer experimentos: Pesquisa e desenvolvimento na ciência e na indústria. 2ª Edição. Editora da Unicamp, Campinas.\n",
    "BERA, M.; MAJI, P., 2017. “Effect of structural disparity of graphene-based materials on thermo-mechanical and surface properties of thermoplastic polyurethane nanocomposites”. Polymer, v. 119, p. 118 – 133.\n",
    "FINK, J. K., 2018. “2 – Poly(Urethane)s”, Reactive Polymers: Fundamentals and Applications, 3ª Edição. Editora William Andrew Publishing, S.l. p. 71 – 138.\n",
    "FUKUSHIMA, H. et al., 2006. “Thermal conductivity of exfoliated graphite nanocomposites”. Journal of Thermal Analysis and Calorimetry, v. 85, n. 1, p. 235–238.\n",
    "JANG, B.; ZHAMU, A., 2008. “Processing of nanographene platelets (NGPs) and NGP nanocomposites:a review”. Journal of Materials Science, v. 43, p. 5092–5101.\n",
    "KIM, H.; MIURA, Y.; MACOSKO, C. W., 2010. “Graphene/polyurethane nanocomposites for improved gas barrier and electrical conductivity”. Chemistry of Materials,v. 22, n. 11, p. 3441–3450.\n",
    "MENES, O. et al., 2012. “The effect of ultra-thin graphite on the morphology and physicalproperties of thermoplastic polyurethane elastomer composites”. Composites Science and Technology, v. 72, n. 13, p. 1595 – 1601.\n",
    "NGUYEN, D. A. et al., 2009. “Morphological and physical properties of a thermoplastic polyurethane reinforced with functionalized graphene sheet”. Polymer International, v. 58, n. 4, p. 412–417.\n",
    "NOH, H. et al., 2020. “Investigations of FeCl3 adducted n-heterocyclic carbene complex ascuring-delayed action catalyst for polyurethane polymerization”. Journal of Catalysis, v. 382, p. 77 – 85.\n",
    "PIONTECK, J.; WYPYCH, G., 2016. “Handbook of antistatics”, 2ª Edição, Editora ChemTec Publishing, Toronto.\n",
    "QUAN, H. et al., 2009. “Facile preparation and thermal degradation studies of graphite nanoplatelets (GNPs) filled thermoplastic polyurethane (TPU) nanocomposites”. Composites Part A: Applied Science and Manufacturing, v. 40, n. 9, p. 1506 – 1513.\n",
    "RATHNAYAKE, R. M. N. M. et al., 2017. “Graphite intercalated polyaniline composite with superior anticorrosive and hydrophobic properties, as protective coating material on steel surfaces. Applied Surface Science, v. 410, p. 445 – 453.\n",
    "SENGUPTA, R. et al., 2011. “A review on the mechanical and electrical properties of graphiteand modified graphite reinforced polymer composites”. Progress in Polymer Science, v. 36,n. 5, p. 638 – 670.\n",
    "SONG, K.; LEE, S.; LEE, D., 2002. “Influence of cell opener in high resilience molded polyurethane foam”. Journal of Cellular Plastics, v. 38, n. 6, p. 507–522.\n",
    "SZYCHER, M., 2012. “Szycher’s Handbook of Polyurethanes”, 2ª Edição, Editora Taylor & Francis, Boca Raton.\n",
    "TOUCHET, T.J.; COSGRIFF-HERNANDEZ, E.M., 2016 “1 - Hierarchal structure–property relationships of segmented polyurethanes”, Advances in Polyurethane Biomaterials, 1ª Edição. Editora Woodhead Publishing, S. l. p. 3 – 22.\n",
    "'''\n",
    "\n",
    "# Passing the string text into word tokenize for breaking the sentences\n",
    "token = tk.word_tokenize(text)\n",
    "token"
   ]
  },
  {
   "cell_type": "code",
   "execution_count": 3,
   "metadata": {},
   "outputs": [],
   "source": [
    "fdist = FreqDist(token)"
   ]
  },
  {
   "cell_type": "code",
   "execution_count": 4,
   "metadata": {},
   "outputs": [
    {
     "data": {
      "text/plain": [
       "FreqDist({',': 94, '.': 54, 'of': 21, '“': 18, '”': 16, 'p.': 15, 'and': 12, '–': 11, 'v.': 11, ';': 10, ...})"
      ]
     },
     "execution_count": 4,
     "metadata": {},
     "output_type": "execute_result"
    }
   ],
   "source": [
    "fdist"
   ]
  },
  {
   "cell_type": "code",
   "execution_count": 5,
   "metadata": {},
   "outputs": [],
   "source": [
    "years = dict()\n",
    "for word, freq in dict(fdist).items():\n",
    "    try:\n",
    "        number = float(word)\n",
    "        if number > 1950 and number < 2021:\n",
    "            years[float(word)] = freq\n",
    "    except ValueError:\n",
    "        continue"
   ]
  },
  {
   "cell_type": "code",
   "execution_count": 6,
   "metadata": {},
   "outputs": [
    {
     "data": {
      "text/plain": [
       "{2011.0: 3,\n",
       " 2001.0: 1,\n",
       " 2017.0: 2,\n",
       " 2018.0: 1,\n",
       " 2006.0: 1,\n",
       " 2008.0: 1,\n",
       " 2010.0: 1,\n",
       " 2012.0: 2,\n",
       " 2009.0: 2,\n",
       " 2020.0: 1,\n",
       " 2016.0: 2,\n",
       " 2002.0: 1}"
      ]
     },
     "execution_count": 6,
     "metadata": {},
     "output_type": "execute_result"
    }
   ],
   "source": [
    "years"
   ]
  },
  {
   "cell_type": "code",
   "execution_count": 8,
   "metadata": {},
   "outputs": [
    {
     "data": {
      "application/vnd.plotly.v1+json": {
       "config": {
        "plotlyServerURL": "https://plot.ly"
       },
       "data": [
        {
         "alignmentgroup": "True",
         "hovertemplate": "x=%{x}<br>y=%{y}<extra></extra>",
         "legendgroup": "",
         "marker": {
          "color": "#636efa"
         },
         "name": "",
         "offsetgroup": "",
         "orientation": "v",
         "showlegend": false,
         "textposition": "auto",
         "type": "bar",
         "x": [
          2011,
          2001,
          2017,
          2018,
          2006,
          2008,
          2010,
          2012,
          2009,
          2020,
          2016,
          2002
         ],
         "xaxis": "x",
         "y": [
          3,
          1,
          2,
          1,
          1,
          1,
          1,
          2,
          2,
          1,
          2,
          1
         ],
         "yaxis": "y"
        }
       ],
       "layout": {
        "barmode": "relative",
        "legend": {
         "tracegroupgap": 0
        },
        "margin": {
         "t": 60
        },
        "template": {
         "data": {
          "bar": [
           {
            "error_x": {
             "color": "#2a3f5f"
            },
            "error_y": {
             "color": "#2a3f5f"
            },
            "marker": {
             "line": {
              "color": "#E5ECF6",
              "width": 0.5
             }
            },
            "type": "bar"
           }
          ],
          "barpolar": [
           {
            "marker": {
             "line": {
              "color": "#E5ECF6",
              "width": 0.5
             }
            },
            "type": "barpolar"
           }
          ],
          "carpet": [
           {
            "aaxis": {
             "endlinecolor": "#2a3f5f",
             "gridcolor": "white",
             "linecolor": "white",
             "minorgridcolor": "white",
             "startlinecolor": "#2a3f5f"
            },
            "baxis": {
             "endlinecolor": "#2a3f5f",
             "gridcolor": "white",
             "linecolor": "white",
             "minorgridcolor": "white",
             "startlinecolor": "#2a3f5f"
            },
            "type": "carpet"
           }
          ],
          "choropleth": [
           {
            "colorbar": {
             "outlinewidth": 0,
             "ticks": ""
            },
            "type": "choropleth"
           }
          ],
          "contour": [
           {
            "colorbar": {
             "outlinewidth": 0,
             "ticks": ""
            },
            "colorscale": [
             [
              0,
              "#0d0887"
             ],
             [
              0.1111111111111111,
              "#46039f"
             ],
             [
              0.2222222222222222,
              "#7201a8"
             ],
             [
              0.3333333333333333,
              "#9c179e"
             ],
             [
              0.4444444444444444,
              "#bd3786"
             ],
             [
              0.5555555555555556,
              "#d8576b"
             ],
             [
              0.6666666666666666,
              "#ed7953"
             ],
             [
              0.7777777777777778,
              "#fb9f3a"
             ],
             [
              0.8888888888888888,
              "#fdca26"
             ],
             [
              1,
              "#f0f921"
             ]
            ],
            "type": "contour"
           }
          ],
          "contourcarpet": [
           {
            "colorbar": {
             "outlinewidth": 0,
             "ticks": ""
            },
            "type": "contourcarpet"
           }
          ],
          "heatmap": [
           {
            "colorbar": {
             "outlinewidth": 0,
             "ticks": ""
            },
            "colorscale": [
             [
              0,
              "#0d0887"
             ],
             [
              0.1111111111111111,
              "#46039f"
             ],
             [
              0.2222222222222222,
              "#7201a8"
             ],
             [
              0.3333333333333333,
              "#9c179e"
             ],
             [
              0.4444444444444444,
              "#bd3786"
             ],
             [
              0.5555555555555556,
              "#d8576b"
             ],
             [
              0.6666666666666666,
              "#ed7953"
             ],
             [
              0.7777777777777778,
              "#fb9f3a"
             ],
             [
              0.8888888888888888,
              "#fdca26"
             ],
             [
              1,
              "#f0f921"
             ]
            ],
            "type": "heatmap"
           }
          ],
          "heatmapgl": [
           {
            "colorbar": {
             "outlinewidth": 0,
             "ticks": ""
            },
            "colorscale": [
             [
              0,
              "#0d0887"
             ],
             [
              0.1111111111111111,
              "#46039f"
             ],
             [
              0.2222222222222222,
              "#7201a8"
             ],
             [
              0.3333333333333333,
              "#9c179e"
             ],
             [
              0.4444444444444444,
              "#bd3786"
             ],
             [
              0.5555555555555556,
              "#d8576b"
             ],
             [
              0.6666666666666666,
              "#ed7953"
             ],
             [
              0.7777777777777778,
              "#fb9f3a"
             ],
             [
              0.8888888888888888,
              "#fdca26"
             ],
             [
              1,
              "#f0f921"
             ]
            ],
            "type": "heatmapgl"
           }
          ],
          "histogram": [
           {
            "marker": {
             "colorbar": {
              "outlinewidth": 0,
              "ticks": ""
             }
            },
            "type": "histogram"
           }
          ],
          "histogram2d": [
           {
            "colorbar": {
             "outlinewidth": 0,
             "ticks": ""
            },
            "colorscale": [
             [
              0,
              "#0d0887"
             ],
             [
              0.1111111111111111,
              "#46039f"
             ],
             [
              0.2222222222222222,
              "#7201a8"
             ],
             [
              0.3333333333333333,
              "#9c179e"
             ],
             [
              0.4444444444444444,
              "#bd3786"
             ],
             [
              0.5555555555555556,
              "#d8576b"
             ],
             [
              0.6666666666666666,
              "#ed7953"
             ],
             [
              0.7777777777777778,
              "#fb9f3a"
             ],
             [
              0.8888888888888888,
              "#fdca26"
             ],
             [
              1,
              "#f0f921"
             ]
            ],
            "type": "histogram2d"
           }
          ],
          "histogram2dcontour": [
           {
            "colorbar": {
             "outlinewidth": 0,
             "ticks": ""
            },
            "colorscale": [
             [
              0,
              "#0d0887"
             ],
             [
              0.1111111111111111,
              "#46039f"
             ],
             [
              0.2222222222222222,
              "#7201a8"
             ],
             [
              0.3333333333333333,
              "#9c179e"
             ],
             [
              0.4444444444444444,
              "#bd3786"
             ],
             [
              0.5555555555555556,
              "#d8576b"
             ],
             [
              0.6666666666666666,
              "#ed7953"
             ],
             [
              0.7777777777777778,
              "#fb9f3a"
             ],
             [
              0.8888888888888888,
              "#fdca26"
             ],
             [
              1,
              "#f0f921"
             ]
            ],
            "type": "histogram2dcontour"
           }
          ],
          "mesh3d": [
           {
            "colorbar": {
             "outlinewidth": 0,
             "ticks": ""
            },
            "type": "mesh3d"
           }
          ],
          "parcoords": [
           {
            "line": {
             "colorbar": {
              "outlinewidth": 0,
              "ticks": ""
             }
            },
            "type": "parcoords"
           }
          ],
          "pie": [
           {
            "automargin": true,
            "type": "pie"
           }
          ],
          "scatter": [
           {
            "marker": {
             "colorbar": {
              "outlinewidth": 0,
              "ticks": ""
             }
            },
            "type": "scatter"
           }
          ],
          "scatter3d": [
           {
            "line": {
             "colorbar": {
              "outlinewidth": 0,
              "ticks": ""
             }
            },
            "marker": {
             "colorbar": {
              "outlinewidth": 0,
              "ticks": ""
             }
            },
            "type": "scatter3d"
           }
          ],
          "scattercarpet": [
           {
            "marker": {
             "colorbar": {
              "outlinewidth": 0,
              "ticks": ""
             }
            },
            "type": "scattercarpet"
           }
          ],
          "scattergeo": [
           {
            "marker": {
             "colorbar": {
              "outlinewidth": 0,
              "ticks": ""
             }
            },
            "type": "scattergeo"
           }
          ],
          "scattergl": [
           {
            "marker": {
             "colorbar": {
              "outlinewidth": 0,
              "ticks": ""
             }
            },
            "type": "scattergl"
           }
          ],
          "scattermapbox": [
           {
            "marker": {
             "colorbar": {
              "outlinewidth": 0,
              "ticks": ""
             }
            },
            "type": "scattermapbox"
           }
          ],
          "scatterpolar": [
           {
            "marker": {
             "colorbar": {
              "outlinewidth": 0,
              "ticks": ""
             }
            },
            "type": "scatterpolar"
           }
          ],
          "scatterpolargl": [
           {
            "marker": {
             "colorbar": {
              "outlinewidth": 0,
              "ticks": ""
             }
            },
            "type": "scatterpolargl"
           }
          ],
          "scatterternary": [
           {
            "marker": {
             "colorbar": {
              "outlinewidth": 0,
              "ticks": ""
             }
            },
            "type": "scatterternary"
           }
          ],
          "surface": [
           {
            "colorbar": {
             "outlinewidth": 0,
             "ticks": ""
            },
            "colorscale": [
             [
              0,
              "#0d0887"
             ],
             [
              0.1111111111111111,
              "#46039f"
             ],
             [
              0.2222222222222222,
              "#7201a8"
             ],
             [
              0.3333333333333333,
              "#9c179e"
             ],
             [
              0.4444444444444444,
              "#bd3786"
             ],
             [
              0.5555555555555556,
              "#d8576b"
             ],
             [
              0.6666666666666666,
              "#ed7953"
             ],
             [
              0.7777777777777778,
              "#fb9f3a"
             ],
             [
              0.8888888888888888,
              "#fdca26"
             ],
             [
              1,
              "#f0f921"
             ]
            ],
            "type": "surface"
           }
          ],
          "table": [
           {
            "cells": {
             "fill": {
              "color": "#EBF0F8"
             },
             "line": {
              "color": "white"
             }
            },
            "header": {
             "fill": {
              "color": "#C8D4E3"
             },
             "line": {
              "color": "white"
             }
            },
            "type": "table"
           }
          ]
         },
         "layout": {
          "annotationdefaults": {
           "arrowcolor": "#2a3f5f",
           "arrowhead": 0,
           "arrowwidth": 1
          },
          "coloraxis": {
           "colorbar": {
            "outlinewidth": 0,
            "ticks": ""
           }
          },
          "colorscale": {
           "diverging": [
            [
             0,
             "#8e0152"
            ],
            [
             0.1,
             "#c51b7d"
            ],
            [
             0.2,
             "#de77ae"
            ],
            [
             0.3,
             "#f1b6da"
            ],
            [
             0.4,
             "#fde0ef"
            ],
            [
             0.5,
             "#f7f7f7"
            ],
            [
             0.6,
             "#e6f5d0"
            ],
            [
             0.7,
             "#b8e186"
            ],
            [
             0.8,
             "#7fbc41"
            ],
            [
             0.9,
             "#4d9221"
            ],
            [
             1,
             "#276419"
            ]
           ],
           "sequential": [
            [
             0,
             "#0d0887"
            ],
            [
             0.1111111111111111,
             "#46039f"
            ],
            [
             0.2222222222222222,
             "#7201a8"
            ],
            [
             0.3333333333333333,
             "#9c179e"
            ],
            [
             0.4444444444444444,
             "#bd3786"
            ],
            [
             0.5555555555555556,
             "#d8576b"
            ],
            [
             0.6666666666666666,
             "#ed7953"
            ],
            [
             0.7777777777777778,
             "#fb9f3a"
            ],
            [
             0.8888888888888888,
             "#fdca26"
            ],
            [
             1,
             "#f0f921"
            ]
           ],
           "sequentialminus": [
            [
             0,
             "#0d0887"
            ],
            [
             0.1111111111111111,
             "#46039f"
            ],
            [
             0.2222222222222222,
             "#7201a8"
            ],
            [
             0.3333333333333333,
             "#9c179e"
            ],
            [
             0.4444444444444444,
             "#bd3786"
            ],
            [
             0.5555555555555556,
             "#d8576b"
            ],
            [
             0.6666666666666666,
             "#ed7953"
            ],
            [
             0.7777777777777778,
             "#fb9f3a"
            ],
            [
             0.8888888888888888,
             "#fdca26"
            ],
            [
             1,
             "#f0f921"
            ]
           ]
          },
          "colorway": [
           "#636efa",
           "#EF553B",
           "#00cc96",
           "#ab63fa",
           "#FFA15A",
           "#19d3f3",
           "#FF6692",
           "#B6E880",
           "#FF97FF",
           "#FECB52"
          ],
          "font": {
           "color": "#2a3f5f"
          },
          "geo": {
           "bgcolor": "white",
           "lakecolor": "white",
           "landcolor": "#E5ECF6",
           "showlakes": true,
           "showland": true,
           "subunitcolor": "white"
          },
          "hoverlabel": {
           "align": "left"
          },
          "hovermode": "closest",
          "mapbox": {
           "style": "light"
          },
          "paper_bgcolor": "white",
          "plot_bgcolor": "#E5ECF6",
          "polar": {
           "angularaxis": {
            "gridcolor": "white",
            "linecolor": "white",
            "ticks": ""
           },
           "bgcolor": "#E5ECF6",
           "radialaxis": {
            "gridcolor": "white",
            "linecolor": "white",
            "ticks": ""
           }
          },
          "scene": {
           "xaxis": {
            "backgroundcolor": "#E5ECF6",
            "gridcolor": "white",
            "gridwidth": 2,
            "linecolor": "white",
            "showbackground": true,
            "ticks": "",
            "zerolinecolor": "white"
           },
           "yaxis": {
            "backgroundcolor": "#E5ECF6",
            "gridcolor": "white",
            "gridwidth": 2,
            "linecolor": "white",
            "showbackground": true,
            "ticks": "",
            "zerolinecolor": "white"
           },
           "zaxis": {
            "backgroundcolor": "#E5ECF6",
            "gridcolor": "white",
            "gridwidth": 2,
            "linecolor": "white",
            "showbackground": true,
            "ticks": "",
            "zerolinecolor": "white"
           }
          },
          "shapedefaults": {
           "line": {
            "color": "#2a3f5f"
           }
          },
          "ternary": {
           "aaxis": {
            "gridcolor": "white",
            "linecolor": "white",
            "ticks": ""
           },
           "baxis": {
            "gridcolor": "white",
            "linecolor": "white",
            "ticks": ""
           },
           "bgcolor": "#E5ECF6",
           "caxis": {
            "gridcolor": "white",
            "linecolor": "white",
            "ticks": ""
           }
          },
          "title": {
           "x": 0.05
          },
          "xaxis": {
           "automargin": true,
           "gridcolor": "white",
           "linecolor": "white",
           "ticks": "",
           "title": {
            "standoff": 15
           },
           "zerolinecolor": "white",
           "zerolinewidth": 2
          },
          "yaxis": {
           "automargin": true,
           "gridcolor": "white",
           "linecolor": "white",
           "ticks": "",
           "title": {
            "standoff": 15
           },
           "zerolinecolor": "white",
           "zerolinewidth": 2
          }
         }
        },
        "xaxis": {
         "anchor": "y",
         "domain": [
          0,
          1
         ],
         "dtick": 1,
         "title": {
          "text": "Ano de Publicação"
         }
        },
        "yaxis": {
         "anchor": "x",
         "domain": [
          0,
          1
         ],
         "title": {
          "text": "Frequência"
         }
        }
       }
      },
      "text/html": [
       "<div>\n",
       "        \n",
       "        \n",
       "            <div id=\"82e30174-2422-4781-a178-a52740aa58b3\" class=\"plotly-graph-div\" style=\"height:525px; width:100%;\"></div>\n",
       "            <script type=\"text/javascript\">\n",
       "                require([\"plotly\"], function(Plotly) {\n",
       "                    window.PLOTLYENV=window.PLOTLYENV || {};\n",
       "                    \n",
       "                if (document.getElementById(\"82e30174-2422-4781-a178-a52740aa58b3\")) {\n",
       "                    Plotly.newPlot(\n",
       "                        '82e30174-2422-4781-a178-a52740aa58b3',\n",
       "                        [{\"alignmentgroup\": \"True\", \"hovertemplate\": \"x=%{x}<br>y=%{y}<extra></extra>\", \"legendgroup\": \"\", \"marker\": {\"color\": \"#636efa\"}, \"name\": \"\", \"offsetgroup\": \"\", \"orientation\": \"v\", \"showlegend\": false, \"textposition\": \"auto\", \"type\": \"bar\", \"x\": [2011.0, 2001.0, 2017.0, 2018.0, 2006.0, 2008.0, 2010.0, 2012.0, 2009.0, 2020.0, 2016.0, 2002.0], \"xaxis\": \"x\", \"y\": [3, 1, 2, 1, 1, 1, 1, 2, 2, 1, 2, 1], \"yaxis\": \"y\"}],\n",
       "                        {\"barmode\": \"relative\", \"legend\": {\"tracegroupgap\": 0}, \"margin\": {\"t\": 60}, \"template\": {\"data\": {\"bar\": [{\"error_x\": {\"color\": \"#2a3f5f\"}, \"error_y\": {\"color\": \"#2a3f5f\"}, \"marker\": {\"line\": {\"color\": \"#E5ECF6\", \"width\": 0.5}}, \"type\": \"bar\"}], \"barpolar\": [{\"marker\": {\"line\": {\"color\": \"#E5ECF6\", \"width\": 0.5}}, \"type\": \"barpolar\"}], \"carpet\": [{\"aaxis\": {\"endlinecolor\": \"#2a3f5f\", \"gridcolor\": \"white\", \"linecolor\": \"white\", \"minorgridcolor\": \"white\", \"startlinecolor\": \"#2a3f5f\"}, \"baxis\": {\"endlinecolor\": \"#2a3f5f\", \"gridcolor\": \"white\", \"linecolor\": \"white\", \"minorgridcolor\": \"white\", \"startlinecolor\": \"#2a3f5f\"}, \"type\": \"carpet\"}], \"choropleth\": [{\"colorbar\": {\"outlinewidth\": 0, \"ticks\": \"\"}, \"type\": \"choropleth\"}], \"contour\": [{\"colorbar\": {\"outlinewidth\": 0, \"ticks\": \"\"}, \"colorscale\": [[0.0, \"#0d0887\"], [0.1111111111111111, \"#46039f\"], [0.2222222222222222, \"#7201a8\"], [0.3333333333333333, \"#9c179e\"], [0.4444444444444444, \"#bd3786\"], [0.5555555555555556, \"#d8576b\"], [0.6666666666666666, \"#ed7953\"], [0.7777777777777778, \"#fb9f3a\"], [0.8888888888888888, \"#fdca26\"], [1.0, \"#f0f921\"]], \"type\": \"contour\"}], \"contourcarpet\": [{\"colorbar\": {\"outlinewidth\": 0, \"ticks\": \"\"}, \"type\": \"contourcarpet\"}], \"heatmap\": [{\"colorbar\": {\"outlinewidth\": 0, \"ticks\": \"\"}, \"colorscale\": [[0.0, \"#0d0887\"], [0.1111111111111111, \"#46039f\"], [0.2222222222222222, \"#7201a8\"], [0.3333333333333333, \"#9c179e\"], [0.4444444444444444, \"#bd3786\"], [0.5555555555555556, \"#d8576b\"], [0.6666666666666666, \"#ed7953\"], [0.7777777777777778, \"#fb9f3a\"], [0.8888888888888888, \"#fdca26\"], [1.0, \"#f0f921\"]], \"type\": \"heatmap\"}], \"heatmapgl\": [{\"colorbar\": {\"outlinewidth\": 0, \"ticks\": \"\"}, \"colorscale\": [[0.0, \"#0d0887\"], [0.1111111111111111, \"#46039f\"], [0.2222222222222222, \"#7201a8\"], [0.3333333333333333, \"#9c179e\"], [0.4444444444444444, \"#bd3786\"], [0.5555555555555556, \"#d8576b\"], [0.6666666666666666, \"#ed7953\"], [0.7777777777777778, \"#fb9f3a\"], [0.8888888888888888, \"#fdca26\"], [1.0, \"#f0f921\"]], \"type\": \"heatmapgl\"}], \"histogram\": [{\"marker\": {\"colorbar\": {\"outlinewidth\": 0, \"ticks\": \"\"}}, \"type\": \"histogram\"}], \"histogram2d\": [{\"colorbar\": {\"outlinewidth\": 0, \"ticks\": \"\"}, \"colorscale\": [[0.0, \"#0d0887\"], [0.1111111111111111, \"#46039f\"], [0.2222222222222222, \"#7201a8\"], [0.3333333333333333, \"#9c179e\"], [0.4444444444444444, \"#bd3786\"], [0.5555555555555556, \"#d8576b\"], [0.6666666666666666, \"#ed7953\"], [0.7777777777777778, \"#fb9f3a\"], [0.8888888888888888, \"#fdca26\"], [1.0, \"#f0f921\"]], \"type\": \"histogram2d\"}], \"histogram2dcontour\": [{\"colorbar\": {\"outlinewidth\": 0, \"ticks\": \"\"}, \"colorscale\": [[0.0, \"#0d0887\"], [0.1111111111111111, \"#46039f\"], [0.2222222222222222, \"#7201a8\"], [0.3333333333333333, \"#9c179e\"], [0.4444444444444444, \"#bd3786\"], [0.5555555555555556, \"#d8576b\"], [0.6666666666666666, \"#ed7953\"], [0.7777777777777778, \"#fb9f3a\"], [0.8888888888888888, \"#fdca26\"], [1.0, \"#f0f921\"]], \"type\": \"histogram2dcontour\"}], \"mesh3d\": [{\"colorbar\": {\"outlinewidth\": 0, \"ticks\": \"\"}, \"type\": \"mesh3d\"}], \"parcoords\": [{\"line\": {\"colorbar\": {\"outlinewidth\": 0, \"ticks\": \"\"}}, \"type\": \"parcoords\"}], \"pie\": [{\"automargin\": true, \"type\": \"pie\"}], \"scatter\": [{\"marker\": {\"colorbar\": {\"outlinewidth\": 0, \"ticks\": \"\"}}, \"type\": \"scatter\"}], \"scatter3d\": [{\"line\": {\"colorbar\": {\"outlinewidth\": 0, \"ticks\": \"\"}}, \"marker\": {\"colorbar\": {\"outlinewidth\": 0, \"ticks\": \"\"}}, \"type\": \"scatter3d\"}], \"scattercarpet\": [{\"marker\": {\"colorbar\": {\"outlinewidth\": 0, \"ticks\": \"\"}}, \"type\": \"scattercarpet\"}], \"scattergeo\": [{\"marker\": {\"colorbar\": {\"outlinewidth\": 0, \"ticks\": \"\"}}, \"type\": \"scattergeo\"}], \"scattergl\": [{\"marker\": {\"colorbar\": {\"outlinewidth\": 0, \"ticks\": \"\"}}, \"type\": \"scattergl\"}], \"scattermapbox\": [{\"marker\": {\"colorbar\": {\"outlinewidth\": 0, \"ticks\": \"\"}}, \"type\": \"scattermapbox\"}], \"scatterpolar\": [{\"marker\": {\"colorbar\": {\"outlinewidth\": 0, \"ticks\": \"\"}}, \"type\": \"scatterpolar\"}], \"scatterpolargl\": [{\"marker\": {\"colorbar\": {\"outlinewidth\": 0, \"ticks\": \"\"}}, \"type\": \"scatterpolargl\"}], \"scatterternary\": [{\"marker\": {\"colorbar\": {\"outlinewidth\": 0, \"ticks\": \"\"}}, \"type\": \"scatterternary\"}], \"surface\": [{\"colorbar\": {\"outlinewidth\": 0, \"ticks\": \"\"}, \"colorscale\": [[0.0, \"#0d0887\"], [0.1111111111111111, \"#46039f\"], [0.2222222222222222, \"#7201a8\"], [0.3333333333333333, \"#9c179e\"], [0.4444444444444444, \"#bd3786\"], [0.5555555555555556, \"#d8576b\"], [0.6666666666666666, \"#ed7953\"], [0.7777777777777778, \"#fb9f3a\"], [0.8888888888888888, \"#fdca26\"], [1.0, \"#f0f921\"]], \"type\": \"surface\"}], \"table\": [{\"cells\": {\"fill\": {\"color\": \"#EBF0F8\"}, \"line\": {\"color\": \"white\"}}, \"header\": {\"fill\": {\"color\": \"#C8D4E3\"}, \"line\": {\"color\": \"white\"}}, \"type\": \"table\"}]}, \"layout\": {\"annotationdefaults\": {\"arrowcolor\": \"#2a3f5f\", \"arrowhead\": 0, \"arrowwidth\": 1}, \"coloraxis\": {\"colorbar\": {\"outlinewidth\": 0, \"ticks\": \"\"}}, \"colorscale\": {\"diverging\": [[0, \"#8e0152\"], [0.1, \"#c51b7d\"], [0.2, \"#de77ae\"], [0.3, \"#f1b6da\"], [0.4, \"#fde0ef\"], [0.5, \"#f7f7f7\"], [0.6, \"#e6f5d0\"], [0.7, \"#b8e186\"], [0.8, \"#7fbc41\"], [0.9, \"#4d9221\"], [1, \"#276419\"]], \"sequential\": [[0.0, \"#0d0887\"], [0.1111111111111111, \"#46039f\"], [0.2222222222222222, \"#7201a8\"], [0.3333333333333333, \"#9c179e\"], [0.4444444444444444, \"#bd3786\"], [0.5555555555555556, \"#d8576b\"], [0.6666666666666666, \"#ed7953\"], [0.7777777777777778, \"#fb9f3a\"], [0.8888888888888888, \"#fdca26\"], [1.0, \"#f0f921\"]], \"sequentialminus\": [[0.0, \"#0d0887\"], [0.1111111111111111, \"#46039f\"], [0.2222222222222222, \"#7201a8\"], [0.3333333333333333, \"#9c179e\"], [0.4444444444444444, \"#bd3786\"], [0.5555555555555556, \"#d8576b\"], [0.6666666666666666, \"#ed7953\"], [0.7777777777777778, \"#fb9f3a\"], [0.8888888888888888, \"#fdca26\"], [1.0, \"#f0f921\"]]}, \"colorway\": [\"#636efa\", \"#EF553B\", \"#00cc96\", \"#ab63fa\", \"#FFA15A\", \"#19d3f3\", \"#FF6692\", \"#B6E880\", \"#FF97FF\", \"#FECB52\"], \"font\": {\"color\": \"#2a3f5f\"}, \"geo\": {\"bgcolor\": \"white\", \"lakecolor\": \"white\", \"landcolor\": \"#E5ECF6\", \"showlakes\": true, \"showland\": true, \"subunitcolor\": \"white\"}, \"hoverlabel\": {\"align\": \"left\"}, \"hovermode\": \"closest\", \"mapbox\": {\"style\": \"light\"}, \"paper_bgcolor\": \"white\", \"plot_bgcolor\": \"#E5ECF6\", \"polar\": {\"angularaxis\": {\"gridcolor\": \"white\", \"linecolor\": \"white\", \"ticks\": \"\"}, \"bgcolor\": \"#E5ECF6\", \"radialaxis\": {\"gridcolor\": \"white\", \"linecolor\": \"white\", \"ticks\": \"\"}}, \"scene\": {\"xaxis\": {\"backgroundcolor\": \"#E5ECF6\", \"gridcolor\": \"white\", \"gridwidth\": 2, \"linecolor\": \"white\", \"showbackground\": true, \"ticks\": \"\", \"zerolinecolor\": \"white\"}, \"yaxis\": {\"backgroundcolor\": \"#E5ECF6\", \"gridcolor\": \"white\", \"gridwidth\": 2, \"linecolor\": \"white\", \"showbackground\": true, \"ticks\": \"\", \"zerolinecolor\": \"white\"}, \"zaxis\": {\"backgroundcolor\": \"#E5ECF6\", \"gridcolor\": \"white\", \"gridwidth\": 2, \"linecolor\": \"white\", \"showbackground\": true, \"ticks\": \"\", \"zerolinecolor\": \"white\"}}, \"shapedefaults\": {\"line\": {\"color\": \"#2a3f5f\"}}, \"ternary\": {\"aaxis\": {\"gridcolor\": \"white\", \"linecolor\": \"white\", \"ticks\": \"\"}, \"baxis\": {\"gridcolor\": \"white\", \"linecolor\": \"white\", \"ticks\": \"\"}, \"bgcolor\": \"#E5ECF6\", \"caxis\": {\"gridcolor\": \"white\", \"linecolor\": \"white\", \"ticks\": \"\"}}, \"title\": {\"x\": 0.05}, \"xaxis\": {\"automargin\": true, \"gridcolor\": \"white\", \"linecolor\": \"white\", \"ticks\": \"\", \"title\": {\"standoff\": 15}, \"zerolinecolor\": \"white\", \"zerolinewidth\": 2}, \"yaxis\": {\"automargin\": true, \"gridcolor\": \"white\", \"linecolor\": \"white\", \"ticks\": \"\", \"title\": {\"standoff\": 15}, \"zerolinecolor\": \"white\", \"zerolinewidth\": 2}}}, \"xaxis\": {\"anchor\": \"y\", \"domain\": [0.0, 1.0], \"dtick\": 1, \"title\": {\"text\": \"Ano de Publica\\u00e7\\u00e3o\"}}, \"yaxis\": {\"anchor\": \"x\", \"domain\": [0.0, 1.0], \"title\": {\"text\": \"Frequ\\u00eancia\"}}},\n",
       "                        {\"responsive\": true}\n",
       "                    ).then(function(){\n",
       "                            \n",
       "var gd = document.getElementById('82e30174-2422-4781-a178-a52740aa58b3');\n",
       "var x = new MutationObserver(function (mutations, observer) {{\n",
       "        var display = window.getComputedStyle(gd).display;\n",
       "        if (!display || display === 'none') {{\n",
       "            console.log([gd, 'removed!']);\n",
       "            Plotly.purge(gd);\n",
       "            observer.disconnect();\n",
       "        }}\n",
       "}});\n",
       "\n",
       "// Listen for the removal of the full notebook cells\n",
       "var notebookContainer = gd.closest('#notebook-container');\n",
       "if (notebookContainer) {{\n",
       "    x.observe(notebookContainer, {childList: true});\n",
       "}}\n",
       "\n",
       "// Listen for the clearing of the current output cell\n",
       "var outputEl = gd.closest('.output');\n",
       "if (outputEl) {{\n",
       "    x.observe(outputEl, {childList: true});\n",
       "}}\n",
       "\n",
       "                        })\n",
       "                };\n",
       "                });\n",
       "            </script>\n",
       "        </div>"
      ]
     },
     "metadata": {},
     "output_type": "display_data"
    }
   ],
   "source": [
    "x, y = [], []\n",
    "for t in list(years.items()):\n",
    "    x.append(t[0])\n",
    "    y.append(t[1])\n",
    "fig = px.bar(x = x, y = y)\n",
    "fig.update_xaxes(title_text = 'Ano de Publicação', dtick = 1)\n",
    "fig.update_yaxes(title_text = 'Frequência')"
   ]
  },
  {
   "cell_type": "code",
   "execution_count": null,
   "metadata": {},
   "outputs": [],
   "source": []
  }
 ],
 "metadata": {
  "kernelspec": {
   "display_name": "Python 3",
   "language": "python",
   "name": "python3"
  },
  "language_info": {
   "codemirror_mode": {
    "name": "ipython",
    "version": 3
   },
   "file_extension": ".py",
   "mimetype": "text/x-python",
   "name": "python",
   "nbconvert_exporter": "python",
   "pygments_lexer": "ipython3",
   "version": "3.7.6"
  }
 },
 "nbformat": 4,
 "nbformat_minor": 4
}
