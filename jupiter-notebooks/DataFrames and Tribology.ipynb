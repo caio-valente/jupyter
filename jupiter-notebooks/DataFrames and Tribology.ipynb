{
 "cells": [
  {
   "cell_type": "code",
   "execution_count": 87,
   "metadata": {},
   "outputs": [],
   "source": [
    "import numpy as np\n",
    "\n",
    "import pandas as pd"
   ]
  },
  {
   "cell_type": "code",
   "execution_count": 80,
   "metadata": {},
   "outputs": [],
   "source": [
    "data_001 = pd.read_csv('Downloads\\PU_fatorial_001.csv', header=17, skiprows = [21], usecols = [0,1,2,5,10],\n",
    "                       dtype = {'Fx': np.float64, 'Fz': np.float64, 'COF': np.float64}\n",
    "                      )"
   ]
  },
  {
   "cell_type": "code",
   "execution_count": 81,
   "metadata": {},
   "outputs": [
    {
     "data": {
      "text/html": [
       "<div>\n",
       "<style scoped>\n",
       "    .dataframe tbody tr th:only-of-type {\n",
       "        vertical-align: middle;\n",
       "    }\n",
       "\n",
       "    .dataframe tbody tr th {\n",
       "        vertical-align: top;\n",
       "    }\n",
       "\n",
       "    .dataframe thead th {\n",
       "        text-align: right;\n",
       "    }\n",
       "</style>\n",
       "<table border=\"1\" class=\"dataframe\">\n",
       "  <thead>\n",
       "    <tr style=\"text-align: right;\">\n",
       "      <th></th>\n",
       "      <th>T</th>\n",
       "      <th>Fx</th>\n",
       "      <th>Fz</th>\n",
       "      <th>Z</th>\n",
       "      <th>COF</th>\n",
       "    </tr>\n",
       "  </thead>\n",
       "  <tbody>\n",
       "    <tr>\n",
       "      <td>0</td>\n",
       "      <td>0.000</td>\n",
       "      <td>-0.027</td>\n",
       "      <td>-5.154</td>\n",
       "      <td>-0.025</td>\n",
       "      <td>0.005</td>\n",
       "    </tr>\n",
       "    <tr>\n",
       "      <td>1</td>\n",
       "      <td>0.001</td>\n",
       "      <td>0.003</td>\n",
       "      <td>-5.109</td>\n",
       "      <td>-0.025</td>\n",
       "      <td>0.001</td>\n",
       "    </tr>\n",
       "    <tr>\n",
       "      <td>2</td>\n",
       "      <td>0.002</td>\n",
       "      <td>-0.016</td>\n",
       "      <td>-5.110</td>\n",
       "      <td>-0.025</td>\n",
       "      <td>0.003</td>\n",
       "    </tr>\n",
       "    <tr>\n",
       "      <td>3</td>\n",
       "      <td>0.003</td>\n",
       "      <td>-0.041</td>\n",
       "      <td>-5.136</td>\n",
       "      <td>-0.025</td>\n",
       "      <td>0.008</td>\n",
       "    </tr>\n",
       "    <tr>\n",
       "      <td>4</td>\n",
       "      <td>0.004</td>\n",
       "      <td>-0.058</td>\n",
       "      <td>-5.163</td>\n",
       "      <td>-0.025</td>\n",
       "      <td>0.011</td>\n",
       "    </tr>\n",
       "    <tr>\n",
       "      <td>...</td>\n",
       "      <td>...</td>\n",
       "      <td>...</td>\n",
       "      <td>...</td>\n",
       "      <td>...</td>\n",
       "      <td>...</td>\n",
       "    </tr>\n",
       "    <tr>\n",
       "      <td>218069</td>\n",
       "      <td>218.069</td>\n",
       "      <td>-0.751</td>\n",
       "      <td>-4.928</td>\n",
       "      <td>-0.039</td>\n",
       "      <td>0.152</td>\n",
       "    </tr>\n",
       "    <tr>\n",
       "      <td>218070</td>\n",
       "      <td>218.070</td>\n",
       "      <td>-0.723</td>\n",
       "      <td>-4.884</td>\n",
       "      <td>-0.039</td>\n",
       "      <td>0.148</td>\n",
       "    </tr>\n",
       "    <tr>\n",
       "      <td>218071</td>\n",
       "      <td>218.071</td>\n",
       "      <td>-0.745</td>\n",
       "      <td>-4.875</td>\n",
       "      <td>-0.039</td>\n",
       "      <td>0.153</td>\n",
       "    </tr>\n",
       "    <tr>\n",
       "      <td>218072</td>\n",
       "      <td>218.072</td>\n",
       "      <td>-0.782</td>\n",
       "      <td>-4.899</td>\n",
       "      <td>-0.039</td>\n",
       "      <td>0.160</td>\n",
       "    </tr>\n",
       "    <tr>\n",
       "      <td>218073</td>\n",
       "      <td>218.073</td>\n",
       "      <td>-0.802</td>\n",
       "      <td>-4.928</td>\n",
       "      <td>-0.039</td>\n",
       "      <td>0.163</td>\n",
       "    </tr>\n",
       "  </tbody>\n",
       "</table>\n",
       "<p>218074 rows × 5 columns</p>\n",
       "</div>"
      ],
      "text/plain": [
       "              T     Fx     Fz      Z    COF\n",
       "0         0.000 -0.027 -5.154 -0.025  0.005\n",
       "1         0.001  0.003 -5.109 -0.025  0.001\n",
       "2         0.002 -0.016 -5.110 -0.025  0.003\n",
       "3         0.003 -0.041 -5.136 -0.025  0.008\n",
       "4         0.004 -0.058 -5.163 -0.025  0.011\n",
       "...         ...    ...    ...    ...    ...\n",
       "218069  218.069 -0.751 -4.928 -0.039  0.152\n",
       "218070  218.070 -0.723 -4.884 -0.039  0.148\n",
       "218071  218.071 -0.745 -4.875 -0.039  0.153\n",
       "218072  218.072 -0.782 -4.899 -0.039  0.160\n",
       "218073  218.073 -0.802 -4.928 -0.039  0.163\n",
       "\n",
       "[218074 rows x 5 columns]"
      ]
     },
     "execution_count": 81,
     "metadata": {},
     "output_type": "execute_result"
    }
   ],
   "source": [
    "data_001"
   ]
  },
  {
   "cell_type": "code",
   "execution_count": 83,
   "metadata": {},
   "outputs": [],
   "source": [
    "fim_001 = data_001.tail(n=10000)"
   ]
  },
  {
   "cell_type": "code",
   "execution_count": 84,
   "metadata": {},
   "outputs": [
    {
     "data": {
      "text/plain": [
       "<matplotlib.axes._subplots.AxesSubplot at 0x23163e480c8>"
      ]
     },
     "execution_count": 84,
     "metadata": {},
     "output_type": "execute_result"
    },
    {
     "data": {
      "image/png": "[encoded data removed]",
      "text/plain": [
       "<Figure size 432x288 with 1 Axes>"
      ]
     },
     "metadata": {
      "needs_background": "light"
     },
     "output_type": "display_data"
    }
   ],
   "source": [
    "fim_001.plot.scatter('T','COF',s=0.1)"
   ]
  },
  {
   "cell_type": "code",
   "execution_count": 85,
   "metadata": {},
   "outputs": [],
   "source": [
    "stat_001 = fim_001.describe()"
   ]
  },
  {
   "cell_type": "code",
   "execution_count": 86,
   "metadata": {},
   "outputs": [
    {
     "data": {
      "text/html": [
       "<div>\n",
       "<style scoped>\n",
       "    .dataframe tbody tr th:only-of-type {\n",
       "        vertical-align: middle;\n",
       "    }\n",
       "\n",
       "    .dataframe tbody tr th {\n",
       "        vertical-align: top;\n",
       "    }\n",
       "\n",
       "    .dataframe thead th {\n",
       "        text-align: right;\n",
       "    }\n",
       "</style>\n",
       "<table border=\"1\" class=\"dataframe\">\n",
       "  <thead>\n",
       "    <tr style=\"text-align: right;\">\n",
       "      <th></th>\n",
       "      <th>T</th>\n",
       "      <th>Fx</th>\n",
       "      <th>Fz</th>\n",
       "      <th>Z</th>\n",
       "      <th>COF</th>\n",
       "    </tr>\n",
       "  </thead>\n",
       "  <tbody>\n",
       "    <tr>\n",
       "      <td>count</td>\n",
       "      <td>10000.000000</td>\n",
       "      <td>10000.000000</td>\n",
       "      <td>10000.000000</td>\n",
       "      <td>10000.000000</td>\n",
       "      <td>10000.000000</td>\n",
       "    </tr>\n",
       "    <tr>\n",
       "      <td>mean</td>\n",
       "      <td>213.073500</td>\n",
       "      <td>0.078390</td>\n",
       "      <td>-4.952498</td>\n",
       "      <td>-0.035759</td>\n",
       "      <td>0.169640</td>\n",
       "    </tr>\n",
       "    <tr>\n",
       "      <td>std</td>\n",
       "      <td>2.886896</td>\n",
       "      <td>0.850413</td>\n",
       "      <td>0.176200</td>\n",
       "      <td>0.003344</td>\n",
       "      <td>0.030745</td>\n",
       "    </tr>\n",
       "    <tr>\n",
       "      <td>min</td>\n",
       "      <td>208.074000</td>\n",
       "      <td>-1.267000</td>\n",
       "      <td>-5.291000</td>\n",
       "      <td>-0.042000</td>\n",
       "      <td>0.001000</td>\n",
       "    </tr>\n",
       "    <tr>\n",
       "      <td>25%</td>\n",
       "      <td>210.573750</td>\n",
       "      <td>-0.760000</td>\n",
       "      <td>-5.113000</td>\n",
       "      <td>-0.038500</td>\n",
       "      <td>0.152000</td>\n",
       "    </tr>\n",
       "    <tr>\n",
       "      <td>50%</td>\n",
       "      <td>213.073500</td>\n",
       "      <td>0.027500</td>\n",
       "      <td>-4.966000</td>\n",
       "      <td>-0.035500</td>\n",
       "      <td>0.172000</td>\n",
       "    </tr>\n",
       "    <tr>\n",
       "      <td>75%</td>\n",
       "      <td>215.573250</td>\n",
       "      <td>0.920000</td>\n",
       "      <td>-4.788000</td>\n",
       "      <td>-0.033500</td>\n",
       "      <td>0.188000</td>\n",
       "    </tr>\n",
       "    <tr>\n",
       "      <td>max</td>\n",
       "      <td>218.073000</td>\n",
       "      <td>1.371000</td>\n",
       "      <td>-4.602000</td>\n",
       "      <td>-0.029500</td>\n",
       "      <td>0.295000</td>\n",
       "    </tr>\n",
       "  </tbody>\n",
       "</table>\n",
       "</div>"
      ],
      "text/plain": [
       "                  T            Fx            Fz             Z           COF\n",
       "count  10000.000000  10000.000000  10000.000000  10000.000000  10000.000000\n",
       "mean     213.073500      0.078390     -4.952498     -0.035759      0.169640\n",
       "std        2.886896      0.850413      0.176200      0.003344      0.030745\n",
       "min      208.074000     -1.267000     -5.291000     -0.042000      0.001000\n",
       "25%      210.573750     -0.760000     -5.113000     -0.038500      0.152000\n",
       "50%      213.073500      0.027500     -4.966000     -0.035500      0.172000\n",
       "75%      215.573250      0.920000     -4.788000     -0.033500      0.188000\n",
       "max      218.073000      1.371000     -4.602000     -0.029500      0.295000"
      ]
     },
     "execution_count": 86,
     "metadata": {},
     "output_type": "execute_result"
    }
   ],
   "source": [
    "stat_001"
   ]
  },
  {
   "cell_type": "code",
   "execution_count": null,
   "metadata": {},
   "outputs": [],
   "source": []
  }
 ],
 "metadata": {
  "kernelspec": {
   "display_name": "Python 3",
   "language": "python",
   "name": "python3"
  },
  "language_info": {
   "codemirror_mode": {
    "name": "ipython",
    "version": 3
   },
   "file_extension": ".py",
   "mimetype": "text/x-python",
   "name": "python",
   "nbconvert_exporter": "python",
   "pygments_lexer": "ipython3",
   "version": "3.7.4"
  }
 },
 "nbformat": 4,
 "nbformat_minor": 2
}
