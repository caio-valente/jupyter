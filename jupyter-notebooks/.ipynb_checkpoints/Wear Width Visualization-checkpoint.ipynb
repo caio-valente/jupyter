{
 "cells": [
  {
   "cell_type": "markdown",
   "metadata": {},
   "source": [
    "# Visualização de Resultados\n",
    "## Largura de desgaste"
   ]
  },
  {
   "cell_type": "code",
   "execution_count": 1,
   "metadata": {},
   "outputs": [],
   "source": [
    "import plotly.express as px\n",
    "import plotly.graph_objects as go\n",
    "import plotly.io as pio #graph output\n",
    "\n",
    "import pandas as pd\n",
    "pd.options.plotting.backend = \"plotly\"\n",
    "import numpy as np"
   ]
  },
  {
   "cell_type": "code",
   "execution_count": 2,
   "metadata": {},
   "outputs": [],
   "source": [
    "filename = r'C:\\Users\\Caio\\OneDrive\\Documentos\\Python\\Results\\Excel\\Resultados Largura de Desgaste.xlsx'\n",
    "\n",
    "df = pd.read_excel(filename) "
   ]
  },
  {
   "cell_type": "code",
   "execution_count": 3,
   "metadata": {},
   "outputs": [],
   "source": [
    "df['Largura Média'] = df[['Largura 1', 'Largura 2', 'Largura 3']].mean(1)\n",
    "df['Largura Desv. Pad.'] = df[['Largura 1', 'Largura 2', 'Largura 3']].std(1)\n",
    "df['Ensaio - Geral'] = 12*df['EG']+df['Ensaio']\n",
    "df.sort_values(by = ['EG', 'Força Normal', 'Frequência'], inplace = True)"
   ]
  },
  {
   "cell_type": "code",
   "execution_count": 4,
   "metadata": {},
   "outputs": [
    {
     "data": {
      "text/html": [
       "<div>\n",
       "<style scoped>\n",
       "    .dataframe tbody tr th:only-of-type {\n",
       "        vertical-align: middle;\n",
       "    }\n",
       "\n",
       "    .dataframe tbody tr th {\n",
       "        vertical-align: top;\n",
       "    }\n",
       "\n",
       "    .dataframe thead th {\n",
       "        text-align: right;\n",
       "    }\n",
       "</style>\n",
       "<table border=\"1\" class=\"dataframe\">\n",
       "  <thead>\n",
       "    <tr style=\"text-align: right;\">\n",
       "      <th></th>\n",
       "      <th>Foto</th>\n",
       "      <th>PU</th>\n",
       "      <th>EG</th>\n",
       "      <th>Posição</th>\n",
       "      <th>Ensaio</th>\n",
       "      <th>Largura 1</th>\n",
       "      <th>Largura 2</th>\n",
       "      <th>Largura 3</th>\n",
       "      <th>Força Normal</th>\n",
       "      <th>Frequência</th>\n",
       "      <th>Largura Média</th>\n",
       "      <th>Largura Desv. Pad.</th>\n",
       "      <th>Ensaio - Geral</th>\n",
       "    </tr>\n",
       "  </thead>\n",
       "  <tbody>\n",
       "    <tr>\n",
       "      <th>56</th>\n",
       "      <td>NaN</td>\n",
       "      <td>100</td>\n",
       "      <td>0</td>\n",
       "      <td>Meio</td>\n",
       "      <td>4</td>\n",
       "      <td>264.30</td>\n",
       "      <td>NaN</td>\n",
       "      <td>NaN</td>\n",
       "      <td>2.5</td>\n",
       "      <td>2</td>\n",
       "      <td>264.300000</td>\n",
       "      <td>NaN</td>\n",
       "      <td>4</td>\n",
       "    </tr>\n",
       "    <tr>\n",
       "      <th>62</th>\n",
       "      <td>NaN</td>\n",
       "      <td>100</td>\n",
       "      <td>0</td>\n",
       "      <td>Meio</td>\n",
       "      <td>10</td>\n",
       "      <td>262.40</td>\n",
       "      <td>NaN</td>\n",
       "      <td>NaN</td>\n",
       "      <td>2.5</td>\n",
       "      <td>2</td>\n",
       "      <td>262.400000</td>\n",
       "      <td>NaN</td>\n",
       "      <td>10</td>\n",
       "    </tr>\n",
       "    <tr>\n",
       "      <th>57</th>\n",
       "      <td>NaN</td>\n",
       "      <td>100</td>\n",
       "      <td>0</td>\n",
       "      <td>Meio</td>\n",
       "      <td>5</td>\n",
       "      <td>255.10</td>\n",
       "      <td>NaN</td>\n",
       "      <td>NaN</td>\n",
       "      <td>2.5</td>\n",
       "      <td>4</td>\n",
       "      <td>255.100000</td>\n",
       "      <td>NaN</td>\n",
       "      <td>5</td>\n",
       "    </tr>\n",
       "    <tr>\n",
       "      <th>58</th>\n",
       "      <td>NaN</td>\n",
       "      <td>100</td>\n",
       "      <td>0</td>\n",
       "      <td>Meio</td>\n",
       "      <td>6</td>\n",
       "      <td>241.30</td>\n",
       "      <td>NaN</td>\n",
       "      <td>NaN</td>\n",
       "      <td>2.5</td>\n",
       "      <td>4</td>\n",
       "      <td>241.300000</td>\n",
       "      <td>NaN</td>\n",
       "      <td>6</td>\n",
       "    </tr>\n",
       "    <tr>\n",
       "      <th>59</th>\n",
       "      <td>NaN</td>\n",
       "      <td>100</td>\n",
       "      <td>0</td>\n",
       "      <td>Meio</td>\n",
       "      <td>7</td>\n",
       "      <td>324.80</td>\n",
       "      <td>NaN</td>\n",
       "      <td>NaN</td>\n",
       "      <td>5.0</td>\n",
       "      <td>2</td>\n",
       "      <td>324.800000</td>\n",
       "      <td>NaN</td>\n",
       "      <td>7</td>\n",
       "    </tr>\n",
       "    <tr>\n",
       "      <th>...</th>\n",
       "      <td>...</td>\n",
       "      <td>...</td>\n",
       "      <td>...</td>\n",
       "      <td>...</td>\n",
       "      <td>...</td>\n",
       "      <td>...</td>\n",
       "      <td>...</td>\n",
       "      <td>...</td>\n",
       "      <td>...</td>\n",
       "      <td>...</td>\n",
       "      <td>...</td>\n",
       "      <td>...</td>\n",
       "      <td>...</td>\n",
       "    </tr>\n",
       "    <tr>\n",
       "      <th>30</th>\n",
       "      <td>PU+2GE-5-b</td>\n",
       "      <td>99</td>\n",
       "      <td>2</td>\n",
       "      <td>Meio</td>\n",
       "      <td>5</td>\n",
       "      <td>462.45</td>\n",
       "      <td>473.94</td>\n",
       "      <td>455.11</td>\n",
       "      <td>8.0</td>\n",
       "      <td>4</td>\n",
       "      <td>463.833333</td>\n",
       "      <td>9.490913</td>\n",
       "      <td>29</td>\n",
       "    </tr>\n",
       "    <tr>\n",
       "      <th>31</th>\n",
       "      <td>PU+2GE-5-c</td>\n",
       "      <td>99</td>\n",
       "      <td>2</td>\n",
       "      <td>Ponta</td>\n",
       "      <td>5</td>\n",
       "      <td>452.33</td>\n",
       "      <td>474.99</td>\n",
       "      <td>486.47</td>\n",
       "      <td>8.0</td>\n",
       "      <td>4</td>\n",
       "      <td>471.263333</td>\n",
       "      <td>17.372419</td>\n",
       "      <td>29</td>\n",
       "    </tr>\n",
       "    <tr>\n",
       "      <th>38</th>\n",
       "      <td>PU+2GE-8-a</td>\n",
       "      <td>99</td>\n",
       "      <td>2</td>\n",
       "      <td>Ponta</td>\n",
       "      <td>8</td>\n",
       "      <td>463.71</td>\n",
       "      <td>462.39</td>\n",
       "      <td>439.37</td>\n",
       "      <td>8.0</td>\n",
       "      <td>4</td>\n",
       "      <td>455.156667</td>\n",
       "      <td>13.687576</td>\n",
       "      <td>32</td>\n",
       "    </tr>\n",
       "    <tr>\n",
       "      <th>39</th>\n",
       "      <td>PU+2GE-8-b</td>\n",
       "      <td>99</td>\n",
       "      <td>2</td>\n",
       "      <td>Meio</td>\n",
       "      <td>8</td>\n",
       "      <td>439.68</td>\n",
       "      <td>453.71</td>\n",
       "      <td>442.21</td>\n",
       "      <td>8.0</td>\n",
       "      <td>4</td>\n",
       "      <td>445.200000</td>\n",
       "      <td>7.477653</td>\n",
       "      <td>32</td>\n",
       "    </tr>\n",
       "    <tr>\n",
       "      <th>40</th>\n",
       "      <td>PU+2GE-8-c</td>\n",
       "      <td>99</td>\n",
       "      <td>2</td>\n",
       "      <td>Ponta</td>\n",
       "      <td>8</td>\n",
       "      <td>454.86</td>\n",
       "      <td>457.23</td>\n",
       "      <td>464.92</td>\n",
       "      <td>8.0</td>\n",
       "      <td>4</td>\n",
       "      <td>459.003333</td>\n",
       "      <td>5.259224</td>\n",
       "      <td>32</td>\n",
       "    </tr>\n",
       "  </tbody>\n",
       "</table>\n",
       "<p>65 rows × 13 columns</p>\n",
       "</div>"
      ],
      "text/plain": [
       "          Foto   PU  EG Posição  Ensaio  Largura 1  Largura 2  Largura 3  \\\n",
       "56         NaN  100   0    Meio       4     264.30        NaN        NaN   \n",
       "62         NaN  100   0    Meio      10     262.40        NaN        NaN   \n",
       "57         NaN  100   0    Meio       5     255.10        NaN        NaN   \n",
       "58         NaN  100   0    Meio       6     241.30        NaN        NaN   \n",
       "59         NaN  100   0    Meio       7     324.80        NaN        NaN   \n",
       "..         ...  ...  ..     ...     ...        ...        ...        ...   \n",
       "30  PU+2GE-5-b   99   2    Meio       5     462.45     473.94     455.11   \n",
       "31  PU+2GE-5-c   99   2   Ponta       5     452.33     474.99     486.47   \n",
       "38  PU+2GE-8-a   99   2   Ponta       8     463.71     462.39     439.37   \n",
       "39  PU+2GE-8-b   99   2    Meio       8     439.68     453.71     442.21   \n",
       "40  PU+2GE-8-c   99   2   Ponta       8     454.86     457.23     464.92   \n",
       "\n",
       "    Força Normal  Frequência  Largura Média  Largura Desv. Pad.  \\\n",
       "56           2.5           2     264.300000                 NaN   \n",
       "62           2.5           2     262.400000                 NaN   \n",
       "57           2.5           4     255.100000                 NaN   \n",
       "58           2.5           4     241.300000                 NaN   \n",
       "59           5.0           2     324.800000                 NaN   \n",
       "..           ...         ...            ...                 ...   \n",
       "30           8.0           4     463.833333            9.490913   \n",
       "31           8.0           4     471.263333           17.372419   \n",
       "38           8.0           4     455.156667           13.687576   \n",
       "39           8.0           4     445.200000            7.477653   \n",
       "40           8.0           4     459.003333            5.259224   \n",
       "\n",
       "    Ensaio - Geral  \n",
       "56               4  \n",
       "62              10  \n",
       "57               5  \n",
       "58               6  \n",
       "59               7  \n",
       "..             ...  \n",
       "30              29  \n",
       "31              29  \n",
       "38              32  \n",
       "39              32  \n",
       "40              32  \n",
       "\n",
       "[65 rows x 13 columns]"
      ]
     },
     "execution_count": 4,
     "metadata": {},
     "output_type": "execute_result"
    }
   ],
   "source": [
    "df"
   ]
  },
  {
   "cell_type": "markdown",
   "metadata": {},
   "source": [
    "### Visão geral dos ensaios (ordem cronológica)\n",
    "\n",
    "Os ensaios foram realizados em ordem aleatorizada de força normal e frequência. Os primeiros 12 ensaios foram PU Puro, depois PU+1%EG e por último PU+2%EG."
   ]
  },
  {
   "cell_type": "code",
   "execution_count": 76,
   "metadata": {},
   "outputs": [
    {
     "data": {
      "application/vnd.plotly.v1+json": {
       "config": {
        "plotlyServerURL": "https://plot.ly"
       },
       "data": [
        {
         "error_y": {
          "array": [
           null,
           null,
           null,
           null,
           10.291231926256428,
           5.015264300114183,
           7.5234985726942885,
           34.79653824007977,
           9.992258646238778,
           7.049908667020638,
           null,
           null,
           2.4794064558545457,
           16.13908559987218,
           18.094763451709827,
           18.660356336719158,
           16.293063183248677,
           20.379781165982454
          ],
          "thickness": 1,
          "type": "data",
          "visible": true
         },
         "hovertemplate": "Ensaio - Geral=%{x}<br>Largura Média=%{y}<br>EG=%{marker.color}<extra></extra>",
         "legendgroup": "",
         "marker": {
          "color": [
           0,
           0,
           0,
           0,
           1,
           1,
           1,
           1,
           1,
           1,
           1,
           1,
           2,
           2,
           2,
           2,
           2,
           2
          ],
          "coloraxis": "coloraxis",
          "symbol": "circle"
         },
         "mode": "markers",
         "name": "2,5N",
         "orientation": "v",
         "showlegend": true,
         "type": "scatter",
         "x": [
          4,
          10,
          5,
          6,
          17,
          17,
          17,
          23,
          23,
          23,
          21,
          21,
          33,
          33,
          33,
          34,
          34,
          34
         ],
         "xaxis": "x",
         "y": [
          264.3,
          262.4,
          255.1,
          241.3,
          267.62000000000006,
          274.02,
          280.2366666666667,
          287.9166666666667,
          268.83333333333337,
          267.99666666666667,
          260.76,
          255.73,
          298.9866666666667,
          293.02,
          290.9666666666667,
          279.0466666666667,
          274.8566666666666,
          293.8066666666667
         ],
         "yaxis": "y"
        },
        {
         "error_y": {
          "array": [
           null,
           null,
           null,
           null,
           24.974348405780937,
           14.456436154645221,
           24.465817273902772,
           null,
           null,
           15.958605178816017,
           9.289000879176047,
           6.2260575690666995,
           45.38336018645307,
           19.895287314671627,
           8.739607545727322,
           41.919760129720814,
           16.853040747987677,
           2.374864419989728,
           23.80444812550794
          ],
          "thickness": 1,
          "type": "data",
          "visible": true
         },
         "hovertemplate": "Ensaio - Geral=%{x}<br>Largura Média=%{y}<br>EG=%{marker.color}<extra></extra>",
         "legendgroup": "",
         "marker": {
          "color": [
           0,
           0,
           0,
           0,
           1,
           1,
           1,
           1,
           1,
           1,
           1,
           1,
           1,
           2,
           2,
           2,
           2,
           2,
           2
          ],
          "coloraxis": "coloraxis",
          "symbol": "square"
         },
         "mode": "markers",
         "name": "5N",
         "orientation": "v",
         "showlegend": true,
         "type": "scatter",
         "x": [
          7,
          11,
          2,
          3,
          14,
          14,
          14,
          22,
          22,
          15,
          20,
          20,
          20,
          35,
          35,
          35,
          31,
          31,
          31
         ],
         "xaxis": "x",
         "y": [
          324.8,
          321,
          329.2,
          339.4,
          326.17333333333335,
          311.0466666666666,
          326.15000000000003,
          359.51,
          340.53,
          316.02333333333337,
          345.2833333333333,
          341.4266666666667,
          358.3933333333334,
          377.3666666666666,
          370.3566666666666,
          377.06333333333333,
          372.8833333333334,
          361.0833333333333,
          366.14000000000004
         ],
         "yaxis": "y"
        },
        {
         "error_y": {
          "array": [
           null,
           null,
           null,
           null,
           20.006957019330358,
           10.429023524760153,
           21.36939381451893,
           35.09775562739018,
           12.603048934814648,
           38.613762633202846,
           2.4598065072955,
           42.076813278574235,
           28.06506814529407,
           12.53812372778848,
           1.3305402411552096,
           23.829032676408243,
           33.56621937444451,
           28.660890406266148,
           29.052932632696475,
           11.065567054606786,
           13.704409141586517,
           21.08257063769346,
           20.273775511565006,
           18.602189868220698,
           34.04994075609143,
           26.82764871496069,
           14.656200615439168,
           10.308078341443343
          ],
          "thickness": 1,
          "type": "data",
          "visible": true
         },
         "hovertemplate": "Ensaio - Geral=%{x}<br>Largura Média=%{y}<br>EG=%{marker.color}<extra></extra>",
         "legendgroup": "",
         "marker": {
          "color": [
           0,
           0,
           0,
           0,
           1,
           1,
           1,
           1,
           1,
           1,
           1,
           1,
           1,
           1,
           1,
           1,
           2,
           2,
           2,
           2,
           2,
           2,
           2,
           2,
           2,
           2,
           2,
           2
          ],
          "coloraxis": "coloraxis",
          "symbol": "diamond"
         },
         "mode": "markers",
         "name": "8N",
         "orientation": "v",
         "showlegend": true,
         "type": "scatter",
         "x": [
          8,
          9,
          1,
          12,
          18,
          18,
          18,
          24,
          24,
          24,
          13,
          13,
          13,
          19,
          19,
          19,
          30,
          30,
          30,
          36,
          36,
          36,
          29,
          29,
          29,
          32,
          32,
          32
         ],
         "xaxis": "x",
         "y": [
          413.5,
          384.7,
          389.6,
          408,
          452.92333333333335,
          445.27,
          459.07,
          433.08,
          418.7033333333334,
          417.42333333333335,
          396.20666666666665,
          424.05,
          416.435,
          445.3333333333333,
          428.79333333333335,
          447.49333333333334,
          474.48333333333335,
          455.99,
          486.93,
          470.48,
          461.12999999999994,
          472.75666666666666,
          489.70666666666665,
          463.8333333333333,
          471.2633333333333,
          455.1566666666666,
          445.2,
          459.00333333333333
         ],
         "yaxis": "y"
        }
       ],
       "layout": {
        "annotations": [
         {
          "showarrow": false,
          "text": "Os pontos sem barra de erro representam uma única medição",
          "visible": true,
          "x": 1,
          "xanchor": "right",
          "xref": "paper",
          "y": 1,
          "yanchor": "bottom",
          "yref": "paper"
         }
        ],
        "coloraxis": {
         "colorbar": {
          "title": {
           "text": "EG (%)"
          }
         },
         "colorscale": [
          [
           0,
           "#440154"
          ],
          [
           0.1111111111111111,
           "#482878"
          ],
          [
           0.2222222222222222,
           "#3e4989"
          ],
          [
           0.3333333333333333,
           "#31688e"
          ],
          [
           0.4444444444444444,
           "#26828e"
          ],
          [
           0.5555555555555556,
           "#1f9e89"
          ],
          [
           0.6666666666666666,
           "#35b779"
          ],
          [
           0.7777777777777778,
           "#6ece58"
          ],
          [
           0.8888888888888888,
           "#b5de2b"
          ],
          [
           1,
           "#fde725"
          ]
         ]
        },
        "legend": {
         "orientation": "h",
         "title": {
          "text": "Força Normal: "
         },
         "x": 0,
         "xanchor": "left",
         "y": 1,
         "yanchor": "bottom"
        },
        "showlegend": true,
        "template": {
         "data": {
          "bar": [
           {
            "error_x": {
             "color": "#2a3f5f"
            },
            "error_y": {
             "color": "#2a3f5f"
            },
            "marker": {
             "line": {
              "color": "#E5ECF6",
              "width": 0.5
             }
            },
            "type": "bar"
           }
          ],
          "barpolar": [
           {
            "marker": {
             "line": {
              "color": "#E5ECF6",
              "width": 0.5
             }
            },
            "type": "barpolar"
           }
          ],
          "carpet": [
           {
            "aaxis": {
             "endlinecolor": "#2a3f5f",
             "gridcolor": "white",
             "linecolor": "white",
             "minorgridcolor": "white",
             "startlinecolor": "#2a3f5f"
            },
            "baxis": {
             "endlinecolor": "#2a3f5f",
             "gridcolor": "white",
             "linecolor": "white",
             "minorgridcolor": "white",
             "startlinecolor": "#2a3f5f"
            },
            "type": "carpet"
           }
          ],
          "choropleth": [
           {
            "colorbar": {
             "outlinewidth": 0,
             "ticks": ""
            },
            "type": "choropleth"
           }
          ],
          "contour": [
           {
            "colorbar": {
             "outlinewidth": 0,
             "ticks": ""
            },
            "colorscale": [
             [
              0,
              "#0d0887"
             ],
             [
              0.1111111111111111,
              "#46039f"
             ],
             [
              0.2222222222222222,
              "#7201a8"
             ],
             [
              0.3333333333333333,
              "#9c179e"
             ],
             [
              0.4444444444444444,
              "#bd3786"
             ],
             [
              0.5555555555555556,
              "#d8576b"
             ],
             [
              0.6666666666666666,
              "#ed7953"
             ],
             [
              0.7777777777777778,
              "#fb9f3a"
             ],
             [
              0.8888888888888888,
              "#fdca26"
             ],
             [
              1,
              "#f0f921"
             ]
            ],
            "type": "contour"
           }
          ],
          "contourcarpet": [
           {
            "colorbar": {
             "outlinewidth": 0,
             "ticks": ""
            },
            "type": "contourcarpet"
           }
          ],
          "heatmap": [
           {
            "colorbar": {
             "outlinewidth": 0,
             "ticks": ""
            },
            "colorscale": [
             [
              0,
              "#0d0887"
             ],
             [
              0.1111111111111111,
              "#46039f"
             ],
             [
              0.2222222222222222,
              "#7201a8"
             ],
             [
              0.3333333333333333,
              "#9c179e"
             ],
             [
              0.4444444444444444,
              "#bd3786"
             ],
             [
              0.5555555555555556,
              "#d8576b"
             ],
             [
              0.6666666666666666,
              "#ed7953"
             ],
             [
              0.7777777777777778,
              "#fb9f3a"
             ],
             [
              0.8888888888888888,
              "#fdca26"
             ],
             [
              1,
              "#f0f921"
             ]
            ],
            "type": "heatmap"
           }
          ],
          "heatmapgl": [
           {
            "colorbar": {
             "outlinewidth": 0,
             "ticks": ""
            },
            "colorscale": [
             [
              0,
              "#0d0887"
             ],
             [
              0.1111111111111111,
              "#46039f"
             ],
             [
              0.2222222222222222,
              "#7201a8"
             ],
             [
              0.3333333333333333,
              "#9c179e"
             ],
             [
              0.4444444444444444,
              "#bd3786"
             ],
             [
              0.5555555555555556,
              "#d8576b"
             ],
             [
              0.6666666666666666,
              "#ed7953"
             ],
             [
              0.7777777777777778,
              "#fb9f3a"
             ],
             [
              0.8888888888888888,
              "#fdca26"
             ],
             [
              1,
              "#f0f921"
             ]
            ],
            "type": "heatmapgl"
           }
          ],
          "histogram": [
           {
            "marker": {
             "colorbar": {
              "outlinewidth": 0,
              "ticks": ""
             }
            },
            "type": "histogram"
           }
          ],
          "histogram2d": [
           {
            "colorbar": {
             "outlinewidth": 0,
             "ticks": ""
            },
            "colorscale": [
             [
              0,
              "#0d0887"
             ],
             [
              0.1111111111111111,
              "#46039f"
             ],
             [
              0.2222222222222222,
              "#7201a8"
             ],
             [
              0.3333333333333333,
              "#9c179e"
             ],
             [
              0.4444444444444444,
              "#bd3786"
             ],
             [
              0.5555555555555556,
              "#d8576b"
             ],
             [
              0.6666666666666666,
              "#ed7953"
             ],
             [
              0.7777777777777778,
              "#fb9f3a"
             ],
             [
              0.8888888888888888,
              "#fdca26"
             ],
             [
              1,
              "#f0f921"
             ]
            ],
            "type": "histogram2d"
           }
          ],
          "histogram2dcontour": [
           {
            "colorbar": {
             "outlinewidth": 0,
             "ticks": ""
            },
            "colorscale": [
             [
              0,
              "#0d0887"
             ],
             [
              0.1111111111111111,
              "#46039f"
             ],
             [
              0.2222222222222222,
              "#7201a8"
             ],
             [
              0.3333333333333333,
              "#9c179e"
             ],
             [
              0.4444444444444444,
              "#bd3786"
             ],
             [
              0.5555555555555556,
              "#d8576b"
             ],
             [
              0.6666666666666666,
              "#ed7953"
             ],
             [
              0.7777777777777778,
              "#fb9f3a"
             ],
             [
              0.8888888888888888,
              "#fdca26"
             ],
             [
              1,
              "#f0f921"
             ]
            ],
            "type": "histogram2dcontour"
           }
          ],
          "mesh3d": [
           {
            "colorbar": {
             "outlinewidth": 0,
             "ticks": ""
            },
            "type": "mesh3d"
           }
          ],
          "parcoords": [
           {
            "line": {
             "colorbar": {
              "outlinewidth": 0,
              "ticks": ""
             }
            },
            "type": "parcoords"
           }
          ],
          "pie": [
           {
            "automargin": true,
            "type": "pie"
           }
          ],
          "scatter": [
           {
            "marker": {
             "colorbar": {
              "outlinewidth": 0,
              "ticks": ""
             }
            },
            "type": "scatter"
           }
          ],
          "scatter3d": [
           {
            "line": {
             "colorbar": {
              "outlinewidth": 0,
              "ticks": ""
             }
            },
            "marker": {
             "colorbar": {
              "outlinewidth": 0,
              "ticks": ""
             }
            },
            "type": "scatter3d"
           }
          ],
          "scattercarpet": [
           {
            "marker": {
             "colorbar": {
              "outlinewidth": 0,
              "ticks": ""
             }
            },
            "type": "scattercarpet"
           }
          ],
          "scattergeo": [
           {
            "marker": {
             "colorbar": {
              "outlinewidth": 0,
              "ticks": ""
             }
            },
            "type": "scattergeo"
           }
          ],
          "scattergl": [
           {
            "marker": {
             "colorbar": {
              "outlinewidth": 0,
              "ticks": ""
             }
            },
            "type": "scattergl"
           }
          ],
          "scattermapbox": [
           {
            "marker": {
             "colorbar": {
              "outlinewidth": 0,
              "ticks": ""
             }
            },
            "type": "scattermapbox"
           }
          ],
          "scatterpolar": [
           {
            "marker": {
             "colorbar": {
              "outlinewidth": 0,
              "ticks": ""
             }
            },
            "type": "scatterpolar"
           }
          ],
          "scatterpolargl": [
           {
            "marker": {
             "colorbar": {
              "outlinewidth": 0,
              "ticks": ""
             }
            },
            "type": "scatterpolargl"
           }
          ],
          "scatterternary": [
           {
            "marker": {
             "colorbar": {
              "outlinewidth": 0,
              "ticks": ""
             }
            },
            "type": "scatterternary"
           }
          ],
          "surface": [
           {
            "colorbar": {
             "outlinewidth": 0,
             "ticks": ""
            },
            "colorscale": [
             [
              0,
              "#0d0887"
             ],
             [
              0.1111111111111111,
              "#46039f"
             ],
             [
              0.2222222222222222,
              "#7201a8"
             ],
             [
              0.3333333333333333,
              "#9c179e"
             ],
             [
              0.4444444444444444,
              "#bd3786"
             ],
             [
              0.5555555555555556,
              "#d8576b"
             ],
             [
              0.6666666666666666,
              "#ed7953"
             ],
             [
              0.7777777777777778,
              "#fb9f3a"
             ],
             [
              0.8888888888888888,
              "#fdca26"
             ],
             [
              1,
              "#f0f921"
             ]
            ],
            "type": "surface"
           }
          ],
          "table": [
           {
            "cells": {
             "fill": {
              "color": "#EBF0F8"
             },
             "line": {
              "color": "white"
             }
            },
            "header": {
             "fill": {
              "color": "#C8D4E3"
             },
             "line": {
              "color": "white"
             }
            },
            "type": "table"
           }
          ]
         },
         "layout": {
          "annotationdefaults": {
           "arrowcolor": "#2a3f5f",
           "arrowhead": 0,
           "arrowwidth": 1
          },
          "coloraxis": {
           "colorbar": {
            "outlinewidth": 0,
            "ticks": ""
           }
          },
          "colorscale": {
           "diverging": [
            [
             0,
             "#8e0152"
            ],
            [
             0.1,
             "#c51b7d"
            ],
            [
             0.2,
             "#de77ae"
            ],
            [
             0.3,
             "#f1b6da"
            ],
            [
             0.4,
             "#fde0ef"
            ],
            [
             0.5,
             "#f7f7f7"
            ],
            [
             0.6,
             "#e6f5d0"
            ],
            [
             0.7,
             "#b8e186"
            ],
            [
             0.8,
             "#7fbc41"
            ],
            [
             0.9,
             "#4d9221"
            ],
            [
             1,
             "#276419"
            ]
           ],
           "sequential": [
            [
             0,
             "#0d0887"
            ],
            [
             0.1111111111111111,
             "#46039f"
            ],
            [
             0.2222222222222222,
             "#7201a8"
            ],
            [
             0.3333333333333333,
             "#9c179e"
            ],
            [
             0.4444444444444444,
             "#bd3786"
            ],
            [
             0.5555555555555556,
             "#d8576b"
            ],
            [
             0.6666666666666666,
             "#ed7953"
            ],
            [
             0.7777777777777778,
             "#fb9f3a"
            ],
            [
             0.8888888888888888,
             "#fdca26"
            ],
            [
             1,
             "#f0f921"
            ]
           ],
           "sequentialminus": [
            [
             0,
             "#0d0887"
            ],
            [
             0.1111111111111111,
             "#46039f"
            ],
            [
             0.2222222222222222,
             "#7201a8"
            ],
            [
             0.3333333333333333,
             "#9c179e"
            ],
            [
             0.4444444444444444,
             "#bd3786"
            ],
            [
             0.5555555555555556,
             "#d8576b"
            ],
            [
             0.6666666666666666,
             "#ed7953"
            ],
            [
             0.7777777777777778,
             "#fb9f3a"
            ],
            [
             0.8888888888888888,
             "#fdca26"
            ],
            [
             1,
             "#f0f921"
            ]
           ]
          },
          "colorway": [
           "#636efa",
           "#EF553B",
           "#00cc96",
           "#ab63fa",
           "#FFA15A",
           "#19d3f3",
           "#FF6692",
           "#B6E880",
           "#FF97FF",
           "#FECB52"
          ],
          "font": {
           "color": "#2a3f5f"
          },
          "geo": {
           "bgcolor": "white",
           "lakecolor": "white",
           "landcolor": "#E5ECF6",
           "showlakes": true,
           "showland": true,
           "subunitcolor": "white"
          },
          "hoverlabel": {
           "align": "left"
          },
          "hovermode": "closest",
          "mapbox": {
           "style": "light"
          },
          "paper_bgcolor": "white",
          "plot_bgcolor": "#E5ECF6",
          "polar": {
           "angularaxis": {
            "gridcolor": "white",
            "linecolor": "white",
            "ticks": ""
           },
           "bgcolor": "#E5ECF6",
           "radialaxis": {
            "gridcolor": "white",
            "linecolor": "white",
            "ticks": ""
           }
          },
          "scene": {
           "xaxis": {
            "backgroundcolor": "#E5ECF6",
            "gridcolor": "white",
            "gridwidth": 2,
            "linecolor": "white",
            "showbackground": true,
            "ticks": "",
            "zerolinecolor": "white"
           },
           "yaxis": {
            "backgroundcolor": "#E5ECF6",
            "gridcolor": "white",
            "gridwidth": 2,
            "linecolor": "white",
            "showbackground": true,
            "ticks": "",
            "zerolinecolor": "white"
           },
           "zaxis": {
            "backgroundcolor": "#E5ECF6",
            "gridcolor": "white",
            "gridwidth": 2,
            "linecolor": "white",
            "showbackground": true,
            "ticks": "",
            "zerolinecolor": "white"
           }
          },
          "shapedefaults": {
           "line": {
            "color": "#2a3f5f"
           }
          },
          "ternary": {
           "aaxis": {
            "gridcolor": "white",
            "linecolor": "white",
            "ticks": ""
           },
           "baxis": {
            "gridcolor": "white",
            "linecolor": "white",
            "ticks": ""
           },
           "bgcolor": "#E5ECF6",
           "caxis": {
            "gridcolor": "white",
            "linecolor": "white",
            "ticks": ""
           }
          },
          "title": {
           "x": 0.05
          },
          "xaxis": {
           "automargin": true,
           "gridcolor": "white",
           "linecolor": "white",
           "ticks": "",
           "title": {
            "standoff": 15
           },
           "zerolinecolor": "white",
           "zerolinewidth": 2
          },
          "yaxis": {
           "automargin": true,
           "gridcolor": "white",
           "linecolor": "white",
           "ticks": "",
           "title": {
            "standoff": 15
           },
           "zerolinecolor": "white",
           "zerolinewidth": 2
          }
         }
        }
       }
      },
      "text/html": [
       "<div>\n",
       "        \n",
       "        \n",
       "            <div id=\"73a4527e-091f-4879-a2d5-b865cb8f2bdd\" class=\"plotly-graph-div\" style=\"height:525px; width:100%;\"></div>\n",
       "            <script type=\"text/javascript\">\n",
       "                require([\"plotly\"], function(Plotly) {\n",
       "                    window.PLOTLYENV=window.PLOTLYENV || {};\n",
       "                    \n",
       "                if (document.getElementById(\"73a4527e-091f-4879-a2d5-b865cb8f2bdd\")) {\n",
       "                    Plotly.newPlot(\n",
       "                        '73a4527e-091f-4879-a2d5-b865cb8f2bdd',\n",
       "                        [{\"error_y\": {\"array\": [null, null, null, null, 10.291231926256428, 5.015264300114183, 7.5234985726942885, 34.79653824007977, 9.992258646238778, 7.049908667020638, null, null, 2.4794064558545457, 16.13908559987218, 18.094763451709827, 18.660356336719158, 16.293063183248677, 20.379781165982454], \"thickness\": 1, \"type\": \"data\", \"visible\": true}, \"hovertemplate\": \"Ensaio - Geral=%{x}<br>Largura M\\u00e9dia=%{y}<br>EG=%{marker.color}<extra></extra>\", \"legendgroup\": \"\", \"marker\": {\"color\": [0, 0, 0, 0, 1, 1, 1, 1, 1, 1, 1, 1, 2, 2, 2, 2, 2, 2], \"coloraxis\": \"coloraxis\", \"symbol\": \"circle\"}, \"mode\": \"markers\", \"name\": \"2,5N\", \"orientation\": \"v\", \"showlegend\": true, \"type\": \"scatter\", \"x\": [4, 10, 5, 6, 17, 17, 17, 23, 23, 23, 21, 21, 33, 33, 33, 34, 34, 34], \"xaxis\": \"x\", \"y\": [264.3, 262.4, 255.1, 241.3, 267.62000000000006, 274.02, 280.2366666666667, 287.9166666666667, 268.83333333333337, 267.99666666666667, 260.76, 255.73, 298.9866666666667, 293.02, 290.9666666666667, 279.0466666666667, 274.8566666666666, 293.8066666666667], \"yaxis\": \"y\"}, {\"error_y\": {\"array\": [null, null, null, null, 24.974348405780937, 14.456436154645221, 24.465817273902772, null, null, 15.958605178816017, 9.289000879176047, 6.2260575690666995, 45.38336018645307, 19.895287314671627, 8.739607545727322, 41.919760129720814, 16.853040747987677, 2.374864419989728, 23.80444812550794], \"thickness\": 1, \"type\": \"data\", \"visible\": true}, \"hovertemplate\": \"Ensaio - Geral=%{x}<br>Largura M\\u00e9dia=%{y}<br>EG=%{marker.color}<extra></extra>\", \"legendgroup\": \"\", \"marker\": {\"color\": [0, 0, 0, 0, 1, 1, 1, 1, 1, 1, 1, 1, 1, 2, 2, 2, 2, 2, 2], \"coloraxis\": \"coloraxis\", \"symbol\": \"square\"}, \"mode\": \"markers\", \"name\": \"5N\", \"orientation\": \"v\", \"showlegend\": true, \"type\": \"scatter\", \"x\": [7, 11, 2, 3, 14, 14, 14, 22, 22, 15, 20, 20, 20, 35, 35, 35, 31, 31, 31], \"xaxis\": \"x\", \"y\": [324.8, 321.0, 329.2, 339.4, 326.17333333333335, 311.0466666666666, 326.15000000000003, 359.51, 340.53, 316.02333333333337, 345.2833333333333, 341.4266666666667, 358.3933333333334, 377.3666666666666, 370.3566666666666, 377.06333333333333, 372.8833333333334, 361.0833333333333, 366.14000000000004], \"yaxis\": \"y\"}, {\"error_y\": {\"array\": [null, null, null, null, 20.006957019330358, 10.429023524760153, 21.36939381451893, 35.09775562739018, 12.603048934814648, 38.613762633202846, 2.4598065072955, 42.076813278574235, 28.06506814529407, 12.53812372778848, 1.3305402411552096, 23.829032676408243, 33.56621937444451, 28.660890406266148, 29.052932632696475, 11.065567054606786, 13.704409141586517, 21.08257063769346, 20.273775511565006, 18.602189868220698, 34.04994075609143, 26.82764871496069, 14.656200615439168, 10.308078341443343], \"thickness\": 1, \"type\": \"data\", \"visible\": true}, \"hovertemplate\": \"Ensaio - Geral=%{x}<br>Largura M\\u00e9dia=%{y}<br>EG=%{marker.color}<extra></extra>\", \"legendgroup\": \"\", \"marker\": {\"color\": [0, 0, 0, 0, 1, 1, 1, 1, 1, 1, 1, 1, 1, 1, 1, 1, 2, 2, 2, 2, 2, 2, 2, 2, 2, 2, 2, 2], \"coloraxis\": \"coloraxis\", \"symbol\": \"diamond\"}, \"mode\": \"markers\", \"name\": \"8N\", \"orientation\": \"v\", \"showlegend\": true, \"type\": \"scatter\", \"x\": [8, 9, 1, 12, 18, 18, 18, 24, 24, 24, 13, 13, 13, 19, 19, 19, 30, 30, 30, 36, 36, 36, 29, 29, 29, 32, 32, 32], \"xaxis\": \"x\", \"y\": [413.5, 384.7, 389.6, 408.0, 452.92333333333335, 445.27, 459.07, 433.08, 418.7033333333334, 417.42333333333335, 396.20666666666665, 424.05, 416.435, 445.3333333333333, 428.79333333333335, 447.49333333333334, 474.48333333333335, 455.99, 486.93, 470.48, 461.12999999999994, 472.75666666666666, 489.70666666666665, 463.8333333333333, 471.2633333333333, 455.1566666666666, 445.2, 459.00333333333333], \"yaxis\": \"y\"}],\n",
       "                        {\"annotations\": [{\"showarrow\": false, \"text\": \"Os pontos sem barra de erro representam uma \\u00fanica medi\\u00e7\\u00e3o\", \"visible\": true, \"x\": 1, \"xanchor\": \"right\", \"xref\": \"paper\", \"y\": 1, \"yanchor\": \"bottom\", \"yref\": \"paper\"}], \"coloraxis\": {\"colorbar\": {\"title\": {\"text\": \"EG (%)\"}}, \"colorscale\": [[0.0, \"#440154\"], [0.1111111111111111, \"#482878\"], [0.2222222222222222, \"#3e4989\"], [0.3333333333333333, \"#31688e\"], [0.4444444444444444, \"#26828e\"], [0.5555555555555556, \"#1f9e89\"], [0.6666666666666666, \"#35b779\"], [0.7777777777777778, \"#6ece58\"], [0.8888888888888888, \"#b5de2b\"], [1.0, \"#fde725\"]]}, \"legend\": {\"orientation\": \"h\", \"title\": {\"text\": \"For\\u00e7a Normal: \"}, \"x\": 0, \"xanchor\": \"left\", \"y\": 1, \"yanchor\": \"bottom\"}, \"showlegend\": true, \"template\": {\"data\": {\"bar\": [{\"error_x\": {\"color\": \"#2a3f5f\"}, \"error_y\": {\"color\": \"#2a3f5f\"}, \"marker\": {\"line\": {\"color\": \"#E5ECF6\", \"width\": 0.5}}, \"type\": \"bar\"}], \"barpolar\": [{\"marker\": {\"line\": {\"color\": \"#E5ECF6\", \"width\": 0.5}}, \"type\": \"barpolar\"}], \"carpet\": [{\"aaxis\": {\"endlinecolor\": \"#2a3f5f\", \"gridcolor\": \"white\", \"linecolor\": \"white\", \"minorgridcolor\": \"white\", \"startlinecolor\": \"#2a3f5f\"}, \"baxis\": {\"endlinecolor\": \"#2a3f5f\", \"gridcolor\": \"white\", \"linecolor\": \"white\", \"minorgridcolor\": \"white\", \"startlinecolor\": \"#2a3f5f\"}, \"type\": \"carpet\"}], \"choropleth\": [{\"colorbar\": {\"outlinewidth\": 0, \"ticks\": \"\"}, \"type\": \"choropleth\"}], \"contour\": [{\"colorbar\": {\"outlinewidth\": 0, \"ticks\": \"\"}, \"colorscale\": [[0.0, \"#0d0887\"], [0.1111111111111111, \"#46039f\"], [0.2222222222222222, \"#7201a8\"], [0.3333333333333333, \"#9c179e\"], [0.4444444444444444, \"#bd3786\"], [0.5555555555555556, \"#d8576b\"], [0.6666666666666666, \"#ed7953\"], [0.7777777777777778, \"#fb9f3a\"], [0.8888888888888888, \"#fdca26\"], [1.0, \"#f0f921\"]], \"type\": \"contour\"}], \"contourcarpet\": [{\"colorbar\": {\"outlinewidth\": 0, \"ticks\": \"\"}, \"type\": \"contourcarpet\"}], \"heatmap\": [{\"colorbar\": {\"outlinewidth\": 0, \"ticks\": \"\"}, \"colorscale\": [[0.0, \"#0d0887\"], [0.1111111111111111, \"#46039f\"], [0.2222222222222222, \"#7201a8\"], [0.3333333333333333, \"#9c179e\"], [0.4444444444444444, \"#bd3786\"], [0.5555555555555556, \"#d8576b\"], [0.6666666666666666, \"#ed7953\"], [0.7777777777777778, \"#fb9f3a\"], [0.8888888888888888, \"#fdca26\"], [1.0, \"#f0f921\"]], \"type\": \"heatmap\"}], \"heatmapgl\": [{\"colorbar\": {\"outlinewidth\": 0, \"ticks\": \"\"}, \"colorscale\": [[0.0, \"#0d0887\"], [0.1111111111111111, \"#46039f\"], [0.2222222222222222, \"#7201a8\"], [0.3333333333333333, \"#9c179e\"], [0.4444444444444444, \"#bd3786\"], [0.5555555555555556, \"#d8576b\"], [0.6666666666666666, \"#ed7953\"], [0.7777777777777778, \"#fb9f3a\"], [0.8888888888888888, \"#fdca26\"], [1.0, \"#f0f921\"]], \"type\": \"heatmapgl\"}], \"histogram\": [{\"marker\": {\"colorbar\": {\"outlinewidth\": 0, \"ticks\": \"\"}}, \"type\": \"histogram\"}], \"histogram2d\": [{\"colorbar\": {\"outlinewidth\": 0, \"ticks\": \"\"}, \"colorscale\": [[0.0, \"#0d0887\"], [0.1111111111111111, \"#46039f\"], [0.2222222222222222, \"#7201a8\"], [0.3333333333333333, \"#9c179e\"], [0.4444444444444444, \"#bd3786\"], [0.5555555555555556, \"#d8576b\"], [0.6666666666666666, \"#ed7953\"], [0.7777777777777778, \"#fb9f3a\"], [0.8888888888888888, \"#fdca26\"], [1.0, \"#f0f921\"]], \"type\": \"histogram2d\"}], \"histogram2dcontour\": [{\"colorbar\": {\"outlinewidth\": 0, \"ticks\": \"\"}, \"colorscale\": [[0.0, \"#0d0887\"], [0.1111111111111111, \"#46039f\"], [0.2222222222222222, \"#7201a8\"], [0.3333333333333333, \"#9c179e\"], [0.4444444444444444, \"#bd3786\"], [0.5555555555555556, \"#d8576b\"], [0.6666666666666666, \"#ed7953\"], [0.7777777777777778, \"#fb9f3a\"], [0.8888888888888888, \"#fdca26\"], [1.0, \"#f0f921\"]], \"type\": \"histogram2dcontour\"}], \"mesh3d\": [{\"colorbar\": {\"outlinewidth\": 0, \"ticks\": \"\"}, \"type\": \"mesh3d\"}], \"parcoords\": [{\"line\": {\"colorbar\": {\"outlinewidth\": 0, \"ticks\": \"\"}}, \"type\": \"parcoords\"}], \"pie\": [{\"automargin\": true, \"type\": \"pie\"}], \"scatter\": [{\"marker\": {\"colorbar\": {\"outlinewidth\": 0, \"ticks\": \"\"}}, \"type\": \"scatter\"}], \"scatter3d\": [{\"line\": {\"colorbar\": {\"outlinewidth\": 0, \"ticks\": \"\"}}, \"marker\": {\"colorbar\": {\"outlinewidth\": 0, \"ticks\": \"\"}}, \"type\": \"scatter3d\"}], \"scattercarpet\": [{\"marker\": {\"colorbar\": {\"outlinewidth\": 0, \"ticks\": \"\"}}, \"type\": \"scattercarpet\"}], \"scattergeo\": [{\"marker\": {\"colorbar\": {\"outlinewidth\": 0, \"ticks\": \"\"}}, \"type\": \"scattergeo\"}], \"scattergl\": [{\"marker\": {\"colorbar\": {\"outlinewidth\": 0, \"ticks\": \"\"}}, \"type\": \"scattergl\"}], \"scattermapbox\": [{\"marker\": {\"colorbar\": {\"outlinewidth\": 0, \"ticks\": \"\"}}, \"type\": \"scattermapbox\"}], \"scatterpolar\": [{\"marker\": {\"colorbar\": {\"outlinewidth\": 0, \"ticks\": \"\"}}, \"type\": \"scatterpolar\"}], \"scatterpolargl\": [{\"marker\": {\"colorbar\": {\"outlinewidth\": 0, \"ticks\": \"\"}}, \"type\": \"scatterpolargl\"}], \"scatterternary\": [{\"marker\": {\"colorbar\": {\"outlinewidth\": 0, \"ticks\": \"\"}}, \"type\": \"scatterternary\"}], \"surface\": [{\"colorbar\": {\"outlinewidth\": 0, \"ticks\": \"\"}, \"colorscale\": [[0.0, \"#0d0887\"], [0.1111111111111111, \"#46039f\"], [0.2222222222222222, \"#7201a8\"], [0.3333333333333333, \"#9c179e\"], [0.4444444444444444, \"#bd3786\"], [0.5555555555555556, \"#d8576b\"], [0.6666666666666666, \"#ed7953\"], [0.7777777777777778, \"#fb9f3a\"], [0.8888888888888888, \"#fdca26\"], [1.0, \"#f0f921\"]], \"type\": \"surface\"}], \"table\": [{\"cells\": {\"fill\": {\"color\": \"#EBF0F8\"}, \"line\": {\"color\": \"white\"}}, \"header\": {\"fill\": {\"color\": \"#C8D4E3\"}, \"line\": {\"color\": \"white\"}}, \"type\": \"table\"}]}, \"layout\": {\"annotationdefaults\": {\"arrowcolor\": \"#2a3f5f\", \"arrowhead\": 0, \"arrowwidth\": 1}, \"coloraxis\": {\"colorbar\": {\"outlinewidth\": 0, \"ticks\": \"\"}}, \"colorscale\": {\"diverging\": [[0, \"#8e0152\"], [0.1, \"#c51b7d\"], [0.2, \"#de77ae\"], [0.3, \"#f1b6da\"], [0.4, \"#fde0ef\"], [0.5, \"#f7f7f7\"], [0.6, \"#e6f5d0\"], [0.7, \"#b8e186\"], [0.8, \"#7fbc41\"], [0.9, \"#4d9221\"], [1, \"#276419\"]], \"sequential\": [[0.0, \"#0d0887\"], [0.1111111111111111, \"#46039f\"], [0.2222222222222222, \"#7201a8\"], [0.3333333333333333, \"#9c179e\"], [0.4444444444444444, \"#bd3786\"], [0.5555555555555556, \"#d8576b\"], [0.6666666666666666, \"#ed7953\"], [0.7777777777777778, \"#fb9f3a\"], [0.8888888888888888, \"#fdca26\"], [1.0, \"#f0f921\"]], \"sequentialminus\": [[0.0, \"#0d0887\"], [0.1111111111111111, \"#46039f\"], [0.2222222222222222, \"#7201a8\"], [0.3333333333333333, \"#9c179e\"], [0.4444444444444444, \"#bd3786\"], [0.5555555555555556, \"#d8576b\"], [0.6666666666666666, \"#ed7953\"], [0.7777777777777778, \"#fb9f3a\"], [0.8888888888888888, \"#fdca26\"], [1.0, \"#f0f921\"]]}, \"colorway\": [\"#636efa\", \"#EF553B\", \"#00cc96\", \"#ab63fa\", \"#FFA15A\", \"#19d3f3\", \"#FF6692\", \"#B6E880\", \"#FF97FF\", \"#FECB52\"], \"font\": {\"color\": \"#2a3f5f\"}, \"geo\": {\"bgcolor\": \"white\", \"lakecolor\": \"white\", \"landcolor\": \"#E5ECF6\", \"showlakes\": true, \"showland\": true, \"subunitcolor\": \"white\"}, \"hoverlabel\": {\"align\": \"left\"}, \"hovermode\": \"closest\", \"mapbox\": {\"style\": \"light\"}, \"paper_bgcolor\": \"white\", \"plot_bgcolor\": \"#E5ECF6\", \"polar\": {\"angularaxis\": {\"gridcolor\": \"white\", \"linecolor\": \"white\", \"ticks\": \"\"}, \"bgcolor\": \"#E5ECF6\", \"radialaxis\": {\"gridcolor\": \"white\", \"linecolor\": \"white\", \"ticks\": \"\"}}, \"scene\": {\"xaxis\": {\"backgroundcolor\": \"#E5ECF6\", \"gridcolor\": \"white\", \"gridwidth\": 2, \"linecolor\": \"white\", \"showbackground\": true, \"ticks\": \"\", \"zerolinecolor\": \"white\"}, \"yaxis\": {\"backgroundcolor\": \"#E5ECF6\", \"gridcolor\": \"white\", \"gridwidth\": 2, \"linecolor\": \"white\", \"showbackground\": true, \"ticks\": \"\", \"zerolinecolor\": \"white\"}, \"zaxis\": {\"backgroundcolor\": \"#E5ECF6\", \"gridcolor\": \"white\", \"gridwidth\": 2, \"linecolor\": \"white\", \"showbackground\": true, \"ticks\": \"\", \"zerolinecolor\": \"white\"}}, \"shapedefaults\": {\"line\": {\"color\": \"#2a3f5f\"}}, \"ternary\": {\"aaxis\": {\"gridcolor\": \"white\", \"linecolor\": \"white\", \"ticks\": \"\"}, \"baxis\": {\"gridcolor\": \"white\", \"linecolor\": \"white\", \"ticks\": \"\"}, \"bgcolor\": \"#E5ECF6\", \"caxis\": {\"gridcolor\": \"white\", \"linecolor\": \"white\", \"ticks\": \"\"}}, \"title\": {\"x\": 0.05}, \"xaxis\": {\"automargin\": true, \"gridcolor\": \"white\", \"linecolor\": \"white\", \"ticks\": \"\", \"title\": {\"standoff\": 15}, \"zerolinecolor\": \"white\", \"zerolinewidth\": 2}, \"yaxis\": {\"automargin\": true, \"gridcolor\": \"white\", \"linecolor\": \"white\", \"ticks\": \"\", \"title\": {\"standoff\": 15}, \"zerolinecolor\": \"white\", \"zerolinewidth\": 2}}}},\n",
       "                        {\"responsive\": true}\n",
       "                    ).then(function(){\n",
       "                            \n",
       "var gd = document.getElementById('73a4527e-091f-4879-a2d5-b865cb8f2bdd');\n",
       "var x = new MutationObserver(function (mutations, observer) {{\n",
       "        var display = window.getComputedStyle(gd).display;\n",
       "        if (!display || display === 'none') {{\n",
       "            console.log([gd, 'removed!']);\n",
       "            Plotly.purge(gd);\n",
       "            observer.disconnect();\n",
       "        }}\n",
       "}});\n",
       "\n",
       "// Listen for the removal of the full notebook cells\n",
       "var notebookContainer = gd.closest('#notebook-container');\n",
       "if (notebookContainer) {{\n",
       "    x.observe(notebookContainer, {childList: true});\n",
       "}}\n",
       "\n",
       "// Listen for the clearing of the current output cell\n",
       "var outputEl = gd.closest('.output');\n",
       "if (outputEl) {{\n",
       "    x.observe(outputEl, {childList: true});\n",
       "}}\n",
       "\n",
       "                        })\n",
       "                };\n",
       "                });\n",
       "            </script>\n",
       "        </div>"
      ]
     },
     "metadata": {},
     "output_type": "display_data"
    }
   ],
   "source": [
    "fig = go.Figure()\n",
    "\n",
    "fig.add_trace(df[df['Força Normal']==2.5].plot(kind = 'scatter', x = 'Ensaio - Geral', y = 'Largura Média', color = 'EG').data[0])\n",
    "fig.add_trace(df[df['Força Normal']==5].plot(kind = 'scatter', x = 'Ensaio - Geral', y = 'Largura Média', color = 'EG').data[0])\n",
    "fig.add_trace(df[df['Força Normal']==8].plot(kind = 'scatter', x = 'Ensaio - Geral', y = 'Largura Média', color = 'EG').data[0])\n",
    "\n",
    "\n",
    "fig.data[0].error_y= dict(array = 1.96*df[df['Força Normal']==2.5]['Largura Desv. Pad.'],\n",
    "                          type = 'data',\n",
    "                          visible = True,\n",
    "                          thickness = 1)\n",
    "fig.data[1].error_y= dict(array = 1.96*df[df['Força Normal']==5]['Largura Desv. Pad.'],\n",
    "                          type = 'data',\n",
    "                          visible = True,\n",
    "                          thickness = 1)\n",
    "fig.data[2].error_y= dict(array = 1.96*df[df['Força Normal']==8]['Largura Desv. Pad.'],\n",
    "                          type = 'data',\n",
    "                          visible = True,\n",
    "                          thickness = 1)\n",
    "\n",
    "fig.data[0].marker.symbol = 'circle'\n",
    "fig.data[1].marker.symbol = 'square'\n",
    "fig.data[2].marker.symbol = 'diamond'\n",
    "\n",
    "fig.data[0].name = '2,5N'\n",
    "fig.data[1].name = '5N'\n",
    "fig.data[2].name = '8N'\n",
    "\n",
    "fig.data[0].showlegend = True\n",
    "fig.data[1].showlegend = True\n",
    "fig.data[2].showlegend = True\n",
    "\n",
    "fig.update_layout(showlegend = True,\n",
    "                  legend = dict(\n",
    "                      xanchor = 'left',\n",
    "                      yanchor = 'bottom',\n",
    "                      x = 0,\n",
    "                      y = 1,\n",
    "                      orientation = 'h',\n",
    "                      title_text = 'Força Normal: '\n",
    "                  ),\n",
    "                  coloraxis = dict(colorscale = 'Viridis',\n",
    "                                  colorbar_title = 'EG (%)',\n",
    "                                  ),\n",
    "                  annotations = (dict(text = 'Os pontos sem barra de erro representam uma única medição',\n",
    "                                      visible = True,\n",
    "                                      x=1,\n",
    "                                      y=1,\n",
    "                                      showarrow = False,\n",
    "                                      xref = 'paper',\n",
    "                                      yref = 'paper',\n",
    "                                      xanchor = 'right',\n",
    "                                      yanchor = 'bottom'\n",
    "                                    ),)\n",
    "                 )"
   ]
  },
  {
   "cell_type": "code",
   "execution_count": 98,
   "metadata": {},
   "outputs": [
    {
     "data": {
      "application/vnd.plotly.v1+json": {
       "config": {
        "plotlyServerURL": "https://plot.ly"
       },
       "data": [
        {
         "alignmentgroup": "True",
         "hovertemplate": "Força Normal=2.5<br>EG=%{x}<br>Largura Média=%{y}<extra></extra>",
         "legendgroup": "2.5",
         "marker": {
          "color": "#636efa"
         },
         "name": "2.5",
         "notched": false,
         "offsetgroup": "2.5",
         "orientation": "v",
         "showlegend": true,
         "type": "box",
         "visible": true,
         "x": [
          0,
          0,
          1,
          1,
          1,
          1,
          1,
          1,
          2,
          2,
          2
         ],
         "x0": " ",
         "xaxis": "x",
         "y": [
          264.3,
          262.4,
          267.62000000000006,
          274.02,
          280.2366666666667,
          287.9166666666667,
          268.83333333333337,
          267.99666666666667,
          298.9866666666667,
          293.02,
          290.9666666666667
         ],
         "y0": " ",
         "yaxis": "y"
        },
        {
         "alignmentgroup": "True",
         "hovertemplate": "Força Normal=5.0<br>EG=%{x}<br>Largura Média=%{y}<extra></extra>",
         "legendgroup": "5.0",
         "marker": {
          "color": "#EF553B"
         },
         "name": "5.0",
         "notched": false,
         "offsetgroup": "5.0",
         "orientation": "v",
         "showlegend": true,
         "type": "box",
         "visible": true,
         "x": [
          0,
          0,
          1,
          1,
          1,
          1,
          1,
          2,
          2,
          2
         ],
         "x0": " ",
         "xaxis": "x",
         "y": [
          324.8,
          321,
          326.17333333333335,
          311.0466666666666,
          326.15000000000003,
          359.51,
          340.53,
          377.3666666666666,
          370.3566666666666,
          377.06333333333333
         ],
         "y0": " ",
         "yaxis": "y"
        },
        {
         "alignmentgroup": "True",
         "hovertemplate": "Força Normal=8.0<br>EG=%{x}<br>Largura Média=%{y}<extra></extra>",
         "legendgroup": "8.0",
         "marker": {
          "color": "#00cc96"
         },
         "name": "8.0",
         "notched": false,
         "offsetgroup": "8.0",
         "orientation": "v",
         "showlegend": true,
         "type": "box",
         "visible": true,
         "x": [
          0,
          0,
          1,
          1,
          1,
          1,
          1,
          1,
          2,
          2,
          2,
          2,
          2,
          2
         ],
         "x0": " ",
         "xaxis": "x",
         "y": [
          413.5,
          384.7,
          452.92333333333335,
          445.27,
          459.07,
          433.08,
          418.7033333333334,
          417.42333333333335,
          474.48333333333335,
          455.99,
          486.93,
          470.48,
          461.12999999999994,
          472.75666666666666
         ],
         "y0": " ",
         "yaxis": "y"
        },
        {
         "alignmentgroup": "True",
         "hovertemplate": "Força Normal=2.5<br>EG=%{x}<br>Largura Média=%{y}<extra></extra>",
         "legendgroup": "2.5",
         "marker": {
          "color": "#636efa"
         },
         "name": "2.5",
         "notched": false,
         "offsetgroup": "2.5",
         "orientation": "v",
         "showlegend": true,
         "type": "box",
         "visible": false,
         "x": [
          0,
          0,
          1,
          1,
          2,
          2,
          2
         ],
         "x0": " ",
         "xaxis": "x",
         "y": [
          255.1,
          241.3,
          260.76,
          255.73,
          279.0466666666667,
          274.8566666666666,
          293.8066666666667
         ],
         "y0": " ",
         "yaxis": "y"
        },
        {
         "alignmentgroup": "True",
         "hovertemplate": "Força Normal=5.0<br>EG=%{x}<br>Largura Média=%{y}<extra></extra>",
         "legendgroup": "5.0",
         "marker": {
          "color": "#EF553B"
         },
         "name": "5.0",
         "notched": false,
         "offsetgroup": "5.0",
         "orientation": "v",
         "showlegend": true,
         "type": "box",
         "visible": false,
         "x": [
          0,
          0,
          1,
          1,
          1,
          1,
          2,
          2,
          2
         ],
         "x0": " ",
         "xaxis": "x",
         "y": [
          329.2,
          339.4,
          316.02333333333337,
          345.2833333333333,
          341.4266666666667,
          358.3933333333334,
          372.8833333333334,
          361.0833333333333,
          366.14000000000004
         ],
         "y0": " ",
         "yaxis": "y"
        },
        {
         "alignmentgroup": "True",
         "hovertemplate": "Força Normal=8.0<br>EG=%{x}<br>Largura Média=%{y}<extra></extra>",
         "legendgroup": "8.0",
         "marker": {
          "color": "#00cc96"
         },
         "name": "8.0",
         "notched": false,
         "offsetgroup": "8.0",
         "orientation": "v",
         "showlegend": true,
         "type": "box",
         "visible": false,
         "x": [
          0,
          0,
          1,
          1,
          1,
          1,
          1,
          1,
          2,
          2,
          2,
          2,
          2,
          2
         ],
         "x0": " ",
         "xaxis": "x",
         "y": [
          389.6,
          408,
          396.20666666666665,
          424.05,
          416.435,
          445.3333333333333,
          428.79333333333335,
          447.49333333333334,
          489.70666666666665,
          463.8333333333333,
          471.2633333333333,
          455.1566666666666,
          445.2,
          459.00333333333333
         ],
         "y0": " ",
         "yaxis": "y"
        }
       ],
       "layout": {
        "legend": {
         "orientation": "h",
         "title": {
          "text": "Força Normal (N):"
         },
         "x": 1,
         "xanchor": "right",
         "y": 1.05,
         "yanchor": "bottom"
        },
        "template": {
         "data": {
          "bar": [
           {
            "error_x": {
             "color": "#2a3f5f"
            },
            "error_y": {
             "color": "#2a3f5f"
            },
            "marker": {
             "line": {
              "color": "#E5ECF6",
              "width": 0.5
             }
            },
            "type": "bar"
           }
          ],
          "barpolar": [
           {
            "marker": {
             "line": {
              "color": "#E5ECF6",
              "width": 0.5
             }
            },
            "type": "barpolar"
           }
          ],
          "carpet": [
           {
            "aaxis": {
             "endlinecolor": "#2a3f5f",
             "gridcolor": "white",
             "linecolor": "white",
             "minorgridcolor": "white",
             "startlinecolor": "#2a3f5f"
            },
            "baxis": {
             "endlinecolor": "#2a3f5f",
             "gridcolor": "white",
             "linecolor": "white",
             "minorgridcolor": "white",
             "startlinecolor": "#2a3f5f"
            },
            "type": "carpet"
           }
          ],
          "choropleth": [
           {
            "colorbar": {
             "outlinewidth": 0,
             "ticks": ""
            },
            "type": "choropleth"
           }
          ],
          "contour": [
           {
            "colorbar": {
             "outlinewidth": 0,
             "ticks": ""
            },
            "colorscale": [
             [
              0,
              "#0d0887"
             ],
             [
              0.1111111111111111,
              "#46039f"
             ],
             [
              0.2222222222222222,
              "#7201a8"
             ],
             [
              0.3333333333333333,
              "#9c179e"
             ],
             [
              0.4444444444444444,
              "#bd3786"
             ],
             [
              0.5555555555555556,
              "#d8576b"
             ],
             [
              0.6666666666666666,
              "#ed7953"
             ],
             [
              0.7777777777777778,
              "#fb9f3a"
             ],
             [
              0.8888888888888888,
              "#fdca26"
             ],
             [
              1,
              "#f0f921"
             ]
            ],
            "type": "contour"
           }
          ],
          "contourcarpet": [
           {
            "colorbar": {
             "outlinewidth": 0,
             "ticks": ""
            },
            "type": "contourcarpet"
           }
          ],
          "heatmap": [
           {
            "colorbar": {
             "outlinewidth": 0,
             "ticks": ""
            },
            "colorscale": [
             [
              0,
              "#0d0887"
             ],
             [
              0.1111111111111111,
              "#46039f"
             ],
             [
              0.2222222222222222,
              "#7201a8"
             ],
             [
              0.3333333333333333,
              "#9c179e"
             ],
             [
              0.4444444444444444,
              "#bd3786"
             ],
             [
              0.5555555555555556,
              "#d8576b"
             ],
             [
              0.6666666666666666,
              "#ed7953"
             ],
             [
              0.7777777777777778,
              "#fb9f3a"
             ],
             [
              0.8888888888888888,
              "#fdca26"
             ],
             [
              1,
              "#f0f921"
             ]
            ],
            "type": "heatmap"
           }
          ],
          "heatmapgl": [
           {
            "colorbar": {
             "outlinewidth": 0,
             "ticks": ""
            },
            "colorscale": [
             [
              0,
              "#0d0887"
             ],
             [
              0.1111111111111111,
              "#46039f"
             ],
             [
              0.2222222222222222,
              "#7201a8"
             ],
             [
              0.3333333333333333,
              "#9c179e"
             ],
             [
              0.4444444444444444,
              "#bd3786"
             ],
             [
              0.5555555555555556,
              "#d8576b"
             ],
             [
              0.6666666666666666,
              "#ed7953"
             ],
             [
              0.7777777777777778,
              "#fb9f3a"
             ],
             [
              0.8888888888888888,
              "#fdca26"
             ],
             [
              1,
              "#f0f921"
             ]
            ],
            "type": "heatmapgl"
           }
          ],
          "histogram": [
           {
            "marker": {
             "colorbar": {
              "outlinewidth": 0,
              "ticks": ""
             }
            },
            "type": "histogram"
           }
          ],
          "histogram2d": [
           {
            "colorbar": {
             "outlinewidth": 0,
             "ticks": ""
            },
            "colorscale": [
             [
              0,
              "#0d0887"
             ],
             [
              0.1111111111111111,
              "#46039f"
             ],
             [
              0.2222222222222222,
              "#7201a8"
             ],
             [
              0.3333333333333333,
              "#9c179e"
             ],
             [
              0.4444444444444444,
              "#bd3786"
             ],
             [
              0.5555555555555556,
              "#d8576b"
             ],
             [
              0.6666666666666666,
              "#ed7953"
             ],
             [
              0.7777777777777778,
              "#fb9f3a"
             ],
             [
              0.8888888888888888,
              "#fdca26"
             ],
             [
              1,
              "#f0f921"
             ]
            ],
            "type": "histogram2d"
           }
          ],
          "histogram2dcontour": [
           {
            "colorbar": {
             "outlinewidth": 0,
             "ticks": ""
            },
            "colorscale": [
             [
              0,
              "#0d0887"
             ],
             [
              0.1111111111111111,
              "#46039f"
             ],
             [
              0.2222222222222222,
              "#7201a8"
             ],
             [
              0.3333333333333333,
              "#9c179e"
             ],
             [
              0.4444444444444444,
              "#bd3786"
             ],
             [
              0.5555555555555556,
              "#d8576b"
             ],
             [
              0.6666666666666666,
              "#ed7953"
             ],
             [
              0.7777777777777778,
              "#fb9f3a"
             ],
             [
              0.8888888888888888,
              "#fdca26"
             ],
             [
              1,
              "#f0f921"
             ]
            ],
            "type": "histogram2dcontour"
           }
          ],
          "mesh3d": [
           {
            "colorbar": {
             "outlinewidth": 0,
             "ticks": ""
            },
            "type": "mesh3d"
           }
          ],
          "parcoords": [
           {
            "line": {
             "colorbar": {
              "outlinewidth": 0,
              "ticks": ""
             }
            },
            "type": "parcoords"
           }
          ],
          "pie": [
           {
            "automargin": true,
            "type": "pie"
           }
          ],
          "scatter": [
           {
            "marker": {
             "colorbar": {
              "outlinewidth": 0,
              "ticks": ""
             }
            },
            "type": "scatter"
           }
          ],
          "scatter3d": [
           {
            "line": {
             "colorbar": {
              "outlinewidth": 0,
              "ticks": ""
             }
            },
            "marker": {
             "colorbar": {
              "outlinewidth": 0,
              "ticks": ""
             }
            },
            "type": "scatter3d"
           }
          ],
          "scattercarpet": [
           {
            "marker": {
             "colorbar": {
              "outlinewidth": 0,
              "ticks": ""
             }
            },
            "type": "scattercarpet"
           }
          ],
          "scattergeo": [
           {
            "marker": {
             "colorbar": {
              "outlinewidth": 0,
              "ticks": ""
             }
            },
            "type": "scattergeo"
           }
          ],
          "scattergl": [
           {
            "marker": {
             "colorbar": {
              "outlinewidth": 0,
              "ticks": ""
             }
            },
            "type": "scattergl"
           }
          ],
          "scattermapbox": [
           {
            "marker": {
             "colorbar": {
              "outlinewidth": 0,
              "ticks": ""
             }
            },
            "type": "scattermapbox"
           }
          ],
          "scatterpolar": [
           {
            "marker": {
             "colorbar": {
              "outlinewidth": 0,
              "ticks": ""
             }
            },
            "type": "scatterpolar"
           }
          ],
          "scatterpolargl": [
           {
            "marker": {
             "colorbar": {
              "outlinewidth": 0,
              "ticks": ""
             }
            },
            "type": "scatterpolargl"
           }
          ],
          "scatterternary": [
           {
            "marker": {
             "colorbar": {
              "outlinewidth": 0,
              "ticks": ""
             }
            },
            "type": "scatterternary"
           }
          ],
          "surface": [
           {
            "colorbar": {
             "outlinewidth": 0,
             "ticks": ""
            },
            "colorscale": [
             [
              0,
              "#0d0887"
             ],
             [
              0.1111111111111111,
              "#46039f"
             ],
             [
              0.2222222222222222,
              "#7201a8"
             ],
             [
              0.3333333333333333,
              "#9c179e"
             ],
             [
              0.4444444444444444,
              "#bd3786"
             ],
             [
              0.5555555555555556,
              "#d8576b"
             ],
             [
              0.6666666666666666,
              "#ed7953"
             ],
             [
              0.7777777777777778,
              "#fb9f3a"
             ],
             [
              0.8888888888888888,
              "#fdca26"
             ],
             [
              1,
              "#f0f921"
             ]
            ],
            "type": "surface"
           }
          ],
          "table": [
           {
            "cells": {
             "fill": {
              "color": "#EBF0F8"
             },
             "line": {
              "color": "white"
             }
            },
            "header": {
             "fill": {
              "color": "#C8D4E3"
             },
             "line": {
              "color": "white"
             }
            },
            "type": "table"
           }
          ]
         },
         "layout": {
          "annotationdefaults": {
           "arrowcolor": "#2a3f5f",
           "arrowhead": 0,
           "arrowwidth": 1
          },
          "coloraxis": {
           "colorbar": {
            "outlinewidth": 0,
            "ticks": ""
           }
          },
          "colorscale": {
           "diverging": [
            [
             0,
             "#8e0152"
            ],
            [
             0.1,
             "#c51b7d"
            ],
            [
             0.2,
             "#de77ae"
            ],
            [
             0.3,
             "#f1b6da"
            ],
            [
             0.4,
             "#fde0ef"
            ],
            [
             0.5,
             "#f7f7f7"
            ],
            [
             0.6,
             "#e6f5d0"
            ],
            [
             0.7,
             "#b8e186"
            ],
            [
             0.8,
             "#7fbc41"
            ],
            [
             0.9,
             "#4d9221"
            ],
            [
             1,
             "#276419"
            ]
           ],
           "sequential": [
            [
             0,
             "#0d0887"
            ],
            [
             0.1111111111111111,
             "#46039f"
            ],
            [
             0.2222222222222222,
             "#7201a8"
            ],
            [
             0.3333333333333333,
             "#9c179e"
            ],
            [
             0.4444444444444444,
             "#bd3786"
            ],
            [
             0.5555555555555556,
             "#d8576b"
            ],
            [
             0.6666666666666666,
             "#ed7953"
            ],
            [
             0.7777777777777778,
             "#fb9f3a"
            ],
            [
             0.8888888888888888,
             "#fdca26"
            ],
            [
             1,
             "#f0f921"
            ]
           ],
           "sequentialminus": [
            [
             0,
             "#0d0887"
            ],
            [
             0.1111111111111111,
             "#46039f"
            ],
            [
             0.2222222222222222,
             "#7201a8"
            ],
            [
             0.3333333333333333,
             "#9c179e"
            ],
            [
             0.4444444444444444,
             "#bd3786"
            ],
            [
             0.5555555555555556,
             "#d8576b"
            ],
            [
             0.6666666666666666,
             "#ed7953"
            ],
            [
             0.7777777777777778,
             "#fb9f3a"
            ],
            [
             0.8888888888888888,
             "#fdca26"
            ],
            [
             1,
             "#f0f921"
            ]
           ]
          },
          "colorway": [
           "#636efa",
           "#EF553B",
           "#00cc96",
           "#ab63fa",
           "#FFA15A",
           "#19d3f3",
           "#FF6692",
           "#B6E880",
           "#FF97FF",
           "#FECB52"
          ],
          "font": {
           "color": "#2a3f5f"
          },
          "geo": {
           "bgcolor": "white",
           "lakecolor": "white",
           "landcolor": "#E5ECF6",
           "showlakes": true,
           "showland": true,
           "subunitcolor": "white"
          },
          "hoverlabel": {
           "align": "left"
          },
          "hovermode": "closest",
          "mapbox": {
           "style": "light"
          },
          "paper_bgcolor": "white",
          "plot_bgcolor": "#E5ECF6",
          "polar": {
           "angularaxis": {
            "gridcolor": "white",
            "linecolor": "white",
            "ticks": ""
           },
           "bgcolor": "#E5ECF6",
           "radialaxis": {
            "gridcolor": "white",
            "linecolor": "white",
            "ticks": ""
           }
          },
          "scene": {
           "xaxis": {
            "backgroundcolor": "#E5ECF6",
            "gridcolor": "white",
            "gridwidth": 2,
            "linecolor": "white",
            "showbackground": true,
            "ticks": "",
            "zerolinecolor": "white"
           },
           "yaxis": {
            "backgroundcolor": "#E5ECF6",
            "gridcolor": "white",
            "gridwidth": 2,
            "linecolor": "white",
            "showbackground": true,
            "ticks": "",
            "zerolinecolor": "white"
           },
           "zaxis": {
            "backgroundcolor": "#E5ECF6",
            "gridcolor": "white",
            "gridwidth": 2,
            "linecolor": "white",
            "showbackground": true,
            "ticks": "",
            "zerolinecolor": "white"
           }
          },
          "shapedefaults": {
           "line": {
            "color": "#2a3f5f"
           }
          },
          "ternary": {
           "aaxis": {
            "gridcolor": "white",
            "linecolor": "white",
            "ticks": ""
           },
           "baxis": {
            "gridcolor": "white",
            "linecolor": "white",
            "ticks": ""
           },
           "bgcolor": "#E5ECF6",
           "caxis": {
            "gridcolor": "white",
            "linecolor": "white",
            "ticks": ""
           }
          },
          "title": {
           "x": 0.05
          },
          "xaxis": {
           "automargin": true,
           "gridcolor": "white",
           "linecolor": "white",
           "ticks": "",
           "title": {
            "standoff": 15
           },
           "zerolinecolor": "white",
           "zerolinewidth": 2
          },
          "yaxis": {
           "automargin": true,
           "gridcolor": "white",
           "linecolor": "white",
           "ticks": "",
           "title": {
            "standoff": 15
           },
           "zerolinecolor": "white",
           "zerolinewidth": 2
          }
         }
        },
        "updatemenus": [
         {
          "active": 0,
          "buttons": [
           {
            "args": [
             {
              "visible": [
               true,
               true,
               true,
               false,
               false,
               false
              ]
             }
            ],
            "label": "2 Hz",
            "method": "update"
           },
           {
            "args": [
             {
              "visible": [
               false,
               false,
               false,
               true,
               true,
               true
              ]
             }
            ],
            "label": "4 Hz",
            "method": "update"
           }
          ],
          "direction": "right",
          "type": "buttons",
          "x": 0.57,
          "y": 1.2
         }
        ],
        "xaxis": {
         "ticksuffix": "%",
         "title": {
          "text": "Fração de Grafite Expandido"
         }
        },
        "yaxis": {
         "dtick": 50,
         "tick0": 200,
         "tickmode": "linear",
         "title": {
          "text": "Largura de Desgaste (µm)"
         }
        }
       }
      },
      "text/html": [
       "<div>\n",
       "        \n",
       "        \n",
       "            <div id=\"f8766d71-2414-4140-b1c4-e6ed4f570816\" class=\"plotly-graph-div\" style=\"height:525px; width:100%;\"></div>\n",
       "            <script type=\"text/javascript\">\n",
       "                require([\"plotly\"], function(Plotly) {\n",
       "                    window.PLOTLYENV=window.PLOTLYENV || {};\n",
       "                    \n",
       "                if (document.getElementById(\"f8766d71-2414-4140-b1c4-e6ed4f570816\")) {\n",
       "                    Plotly.newPlot(\n",
       "                        'f8766d71-2414-4140-b1c4-e6ed4f570816',\n",
       "                        [{\"alignmentgroup\": \"True\", \"hovertemplate\": \"For\\u00e7a Normal=2.5<br>EG=%{x}<br>Largura M\\u00e9dia=%{y}<extra></extra>\", \"legendgroup\": \"2.5\", \"marker\": {\"color\": \"#636efa\"}, \"name\": \"2.5\", \"notched\": false, \"offsetgroup\": \"2.5\", \"orientation\": \"v\", \"showlegend\": true, \"type\": \"box\", \"visible\": true, \"x\": [0, 0, 1, 1, 1, 1, 1, 1, 2, 2, 2], \"x0\": \" \", \"xaxis\": \"x\", \"y\": [264.3, 262.4, 267.62000000000006, 274.02, 280.2366666666667, 287.9166666666667, 268.83333333333337, 267.99666666666667, 298.9866666666667, 293.02, 290.9666666666667], \"y0\": \" \", \"yaxis\": \"y\"}, {\"alignmentgroup\": \"True\", \"hovertemplate\": \"For\\u00e7a Normal=5.0<br>EG=%{x}<br>Largura M\\u00e9dia=%{y}<extra></extra>\", \"legendgroup\": \"5.0\", \"marker\": {\"color\": \"#EF553B\"}, \"name\": \"5.0\", \"notched\": false, \"offsetgroup\": \"5.0\", \"orientation\": \"v\", \"showlegend\": true, \"type\": \"box\", \"visible\": true, \"x\": [0, 0, 1, 1, 1, 1, 1, 2, 2, 2], \"x0\": \" \", \"xaxis\": \"x\", \"y\": [324.8, 321.0, 326.17333333333335, 311.0466666666666, 326.15000000000003, 359.51, 340.53, 377.3666666666666, 370.3566666666666, 377.06333333333333], \"y0\": \" \", \"yaxis\": \"y\"}, {\"alignmentgroup\": \"True\", \"hovertemplate\": \"For\\u00e7a Normal=8.0<br>EG=%{x}<br>Largura M\\u00e9dia=%{y}<extra></extra>\", \"legendgroup\": \"8.0\", \"marker\": {\"color\": \"#00cc96\"}, \"name\": \"8.0\", \"notched\": false, \"offsetgroup\": \"8.0\", \"orientation\": \"v\", \"showlegend\": true, \"type\": \"box\", \"visible\": true, \"x\": [0, 0, 1, 1, 1, 1, 1, 1, 2, 2, 2, 2, 2, 2], \"x0\": \" \", \"xaxis\": \"x\", \"y\": [413.5, 384.7, 452.92333333333335, 445.27, 459.07, 433.08, 418.7033333333334, 417.42333333333335, 474.48333333333335, 455.99, 486.93, 470.48, 461.12999999999994, 472.75666666666666], \"y0\": \" \", \"yaxis\": \"y\"}, {\"alignmentgroup\": \"True\", \"hovertemplate\": \"For\\u00e7a Normal=2.5<br>EG=%{x}<br>Largura M\\u00e9dia=%{y}<extra></extra>\", \"legendgroup\": \"2.5\", \"marker\": {\"color\": \"#636efa\"}, \"name\": \"2.5\", \"notched\": false, \"offsetgroup\": \"2.5\", \"orientation\": \"v\", \"showlegend\": true, \"type\": \"box\", \"visible\": false, \"x\": [0, 0, 1, 1, 2, 2, 2], \"x0\": \" \", \"xaxis\": \"x\", \"y\": [255.1, 241.3, 260.76, 255.73, 279.0466666666667, 274.8566666666666, 293.8066666666667], \"y0\": \" \", \"yaxis\": \"y\"}, {\"alignmentgroup\": \"True\", \"hovertemplate\": \"For\\u00e7a Normal=5.0<br>EG=%{x}<br>Largura M\\u00e9dia=%{y}<extra></extra>\", \"legendgroup\": \"5.0\", \"marker\": {\"color\": \"#EF553B\"}, \"name\": \"5.0\", \"notched\": false, \"offsetgroup\": \"5.0\", \"orientation\": \"v\", \"showlegend\": true, \"type\": \"box\", \"visible\": false, \"x\": [0, 0, 1, 1, 1, 1, 2, 2, 2], \"x0\": \" \", \"xaxis\": \"x\", \"y\": [329.2, 339.4, 316.02333333333337, 345.2833333333333, 341.4266666666667, 358.3933333333334, 372.8833333333334, 361.0833333333333, 366.14000000000004], \"y0\": \" \", \"yaxis\": \"y\"}, {\"alignmentgroup\": \"True\", \"hovertemplate\": \"For\\u00e7a Normal=8.0<br>EG=%{x}<br>Largura M\\u00e9dia=%{y}<extra></extra>\", \"legendgroup\": \"8.0\", \"marker\": {\"color\": \"#00cc96\"}, \"name\": \"8.0\", \"notched\": false, \"offsetgroup\": \"8.0\", \"orientation\": \"v\", \"showlegend\": true, \"type\": \"box\", \"visible\": false, \"x\": [0, 0, 1, 1, 1, 1, 1, 1, 2, 2, 2, 2, 2, 2], \"x0\": \" \", \"xaxis\": \"x\", \"y\": [389.6, 408.0, 396.20666666666665, 424.05, 416.435, 445.3333333333333, 428.79333333333335, 447.49333333333334, 489.70666666666665, 463.8333333333333, 471.2633333333333, 455.1566666666666, 445.2, 459.00333333333333], \"y0\": \" \", \"yaxis\": \"y\"}],\n",
       "                        {\"legend\": {\"orientation\": \"h\", \"title\": {\"text\": \"For\\u00e7a Normal (N):\"}, \"x\": 1.0, \"xanchor\": \"right\", \"y\": 1.05, \"yanchor\": \"bottom\"}, \"template\": {\"data\": {\"bar\": [{\"error_x\": {\"color\": \"#2a3f5f\"}, \"error_y\": {\"color\": \"#2a3f5f\"}, \"marker\": {\"line\": {\"color\": \"#E5ECF6\", \"width\": 0.5}}, \"type\": \"bar\"}], \"barpolar\": [{\"marker\": {\"line\": {\"color\": \"#E5ECF6\", \"width\": 0.5}}, \"type\": \"barpolar\"}], \"carpet\": [{\"aaxis\": {\"endlinecolor\": \"#2a3f5f\", \"gridcolor\": \"white\", \"linecolor\": \"white\", \"minorgridcolor\": \"white\", \"startlinecolor\": \"#2a3f5f\"}, \"baxis\": {\"endlinecolor\": \"#2a3f5f\", \"gridcolor\": \"white\", \"linecolor\": \"white\", \"minorgridcolor\": \"white\", \"startlinecolor\": \"#2a3f5f\"}, \"type\": \"carpet\"}], \"choropleth\": [{\"colorbar\": {\"outlinewidth\": 0, \"ticks\": \"\"}, \"type\": \"choropleth\"}], \"contour\": [{\"colorbar\": {\"outlinewidth\": 0, \"ticks\": \"\"}, \"colorscale\": [[0.0, \"#0d0887\"], [0.1111111111111111, \"#46039f\"], [0.2222222222222222, \"#7201a8\"], [0.3333333333333333, \"#9c179e\"], [0.4444444444444444, \"#bd3786\"], [0.5555555555555556, \"#d8576b\"], [0.6666666666666666, \"#ed7953\"], [0.7777777777777778, \"#fb9f3a\"], [0.8888888888888888, \"#fdca26\"], [1.0, \"#f0f921\"]], \"type\": \"contour\"}], \"contourcarpet\": [{\"colorbar\": {\"outlinewidth\": 0, \"ticks\": \"\"}, \"type\": \"contourcarpet\"}], \"heatmap\": [{\"colorbar\": {\"outlinewidth\": 0, \"ticks\": \"\"}, \"colorscale\": [[0.0, \"#0d0887\"], [0.1111111111111111, \"#46039f\"], [0.2222222222222222, \"#7201a8\"], [0.3333333333333333, \"#9c179e\"], [0.4444444444444444, \"#bd3786\"], [0.5555555555555556, \"#d8576b\"], [0.6666666666666666, \"#ed7953\"], [0.7777777777777778, \"#fb9f3a\"], [0.8888888888888888, \"#fdca26\"], [1.0, \"#f0f921\"]], \"type\": \"heatmap\"}], \"heatmapgl\": [{\"colorbar\": {\"outlinewidth\": 0, \"ticks\": \"\"}, \"colorscale\": [[0.0, \"#0d0887\"], [0.1111111111111111, \"#46039f\"], [0.2222222222222222, \"#7201a8\"], [0.3333333333333333, \"#9c179e\"], [0.4444444444444444, \"#bd3786\"], [0.5555555555555556, \"#d8576b\"], [0.6666666666666666, \"#ed7953\"], [0.7777777777777778, \"#fb9f3a\"], [0.8888888888888888, \"#fdca26\"], [1.0, \"#f0f921\"]], \"type\": \"heatmapgl\"}], \"histogram\": [{\"marker\": {\"colorbar\": {\"outlinewidth\": 0, \"ticks\": \"\"}}, \"type\": \"histogram\"}], \"histogram2d\": [{\"colorbar\": {\"outlinewidth\": 0, \"ticks\": \"\"}, \"colorscale\": [[0.0, \"#0d0887\"], [0.1111111111111111, \"#46039f\"], [0.2222222222222222, \"#7201a8\"], [0.3333333333333333, \"#9c179e\"], [0.4444444444444444, \"#bd3786\"], [0.5555555555555556, \"#d8576b\"], [0.6666666666666666, \"#ed7953\"], [0.7777777777777778, \"#fb9f3a\"], [0.8888888888888888, \"#fdca26\"], [1.0, \"#f0f921\"]], \"type\": \"histogram2d\"}], \"histogram2dcontour\": [{\"colorbar\": {\"outlinewidth\": 0, \"ticks\": \"\"}, \"colorscale\": [[0.0, \"#0d0887\"], [0.1111111111111111, \"#46039f\"], [0.2222222222222222, \"#7201a8\"], [0.3333333333333333, \"#9c179e\"], [0.4444444444444444, \"#bd3786\"], [0.5555555555555556, \"#d8576b\"], [0.6666666666666666, \"#ed7953\"], [0.7777777777777778, \"#fb9f3a\"], [0.8888888888888888, \"#fdca26\"], [1.0, \"#f0f921\"]], \"type\": \"histogram2dcontour\"}], \"mesh3d\": [{\"colorbar\": {\"outlinewidth\": 0, \"ticks\": \"\"}, \"type\": \"mesh3d\"}], \"parcoords\": [{\"line\": {\"colorbar\": {\"outlinewidth\": 0, \"ticks\": \"\"}}, \"type\": \"parcoords\"}], \"pie\": [{\"automargin\": true, \"type\": \"pie\"}], \"scatter\": [{\"marker\": {\"colorbar\": {\"outlinewidth\": 0, \"ticks\": \"\"}}, \"type\": \"scatter\"}], \"scatter3d\": [{\"line\": {\"colorbar\": {\"outlinewidth\": 0, \"ticks\": \"\"}}, \"marker\": {\"colorbar\": {\"outlinewidth\": 0, \"ticks\": \"\"}}, \"type\": \"scatter3d\"}], \"scattercarpet\": [{\"marker\": {\"colorbar\": {\"outlinewidth\": 0, \"ticks\": \"\"}}, \"type\": \"scattercarpet\"}], \"scattergeo\": [{\"marker\": {\"colorbar\": {\"outlinewidth\": 0, \"ticks\": \"\"}}, \"type\": \"scattergeo\"}], \"scattergl\": [{\"marker\": {\"colorbar\": {\"outlinewidth\": 0, \"ticks\": \"\"}}, \"type\": \"scattergl\"}], \"scattermapbox\": [{\"marker\": {\"colorbar\": {\"outlinewidth\": 0, \"ticks\": \"\"}}, \"type\": \"scattermapbox\"}], \"scatterpolar\": [{\"marker\": {\"colorbar\": {\"outlinewidth\": 0, \"ticks\": \"\"}}, \"type\": \"scatterpolar\"}], \"scatterpolargl\": [{\"marker\": {\"colorbar\": {\"outlinewidth\": 0, \"ticks\": \"\"}}, \"type\": \"scatterpolargl\"}], \"scatterternary\": [{\"marker\": {\"colorbar\": {\"outlinewidth\": 0, \"ticks\": \"\"}}, \"type\": \"scatterternary\"}], \"surface\": [{\"colorbar\": {\"outlinewidth\": 0, \"ticks\": \"\"}, \"colorscale\": [[0.0, \"#0d0887\"], [0.1111111111111111, \"#46039f\"], [0.2222222222222222, \"#7201a8\"], [0.3333333333333333, \"#9c179e\"], [0.4444444444444444, \"#bd3786\"], [0.5555555555555556, \"#d8576b\"], [0.6666666666666666, \"#ed7953\"], [0.7777777777777778, \"#fb9f3a\"], [0.8888888888888888, \"#fdca26\"], [1.0, \"#f0f921\"]], \"type\": \"surface\"}], \"table\": [{\"cells\": {\"fill\": {\"color\": \"#EBF0F8\"}, \"line\": {\"color\": \"white\"}}, \"header\": {\"fill\": {\"color\": \"#C8D4E3\"}, \"line\": {\"color\": \"white\"}}, \"type\": \"table\"}]}, \"layout\": {\"annotationdefaults\": {\"arrowcolor\": \"#2a3f5f\", \"arrowhead\": 0, \"arrowwidth\": 1}, \"coloraxis\": {\"colorbar\": {\"outlinewidth\": 0, \"ticks\": \"\"}}, \"colorscale\": {\"diverging\": [[0, \"#8e0152\"], [0.1, \"#c51b7d\"], [0.2, \"#de77ae\"], [0.3, \"#f1b6da\"], [0.4, \"#fde0ef\"], [0.5, \"#f7f7f7\"], [0.6, \"#e6f5d0\"], [0.7, \"#b8e186\"], [0.8, \"#7fbc41\"], [0.9, \"#4d9221\"], [1, \"#276419\"]], \"sequential\": [[0.0, \"#0d0887\"], [0.1111111111111111, \"#46039f\"], [0.2222222222222222, \"#7201a8\"], [0.3333333333333333, \"#9c179e\"], [0.4444444444444444, \"#bd3786\"], [0.5555555555555556, \"#d8576b\"], [0.6666666666666666, \"#ed7953\"], [0.7777777777777778, \"#fb9f3a\"], [0.8888888888888888, \"#fdca26\"], [1.0, \"#f0f921\"]], \"sequentialminus\": [[0.0, \"#0d0887\"], [0.1111111111111111, \"#46039f\"], [0.2222222222222222, \"#7201a8\"], [0.3333333333333333, \"#9c179e\"], [0.4444444444444444, \"#bd3786\"], [0.5555555555555556, \"#d8576b\"], [0.6666666666666666, \"#ed7953\"], [0.7777777777777778, \"#fb9f3a\"], [0.8888888888888888, \"#fdca26\"], [1.0, \"#f0f921\"]]}, \"colorway\": [\"#636efa\", \"#EF553B\", \"#00cc96\", \"#ab63fa\", \"#FFA15A\", \"#19d3f3\", \"#FF6692\", \"#B6E880\", \"#FF97FF\", \"#FECB52\"], \"font\": {\"color\": \"#2a3f5f\"}, \"geo\": {\"bgcolor\": \"white\", \"lakecolor\": \"white\", \"landcolor\": \"#E5ECF6\", \"showlakes\": true, \"showland\": true, \"subunitcolor\": \"white\"}, \"hoverlabel\": {\"align\": \"left\"}, \"hovermode\": \"closest\", \"mapbox\": {\"style\": \"light\"}, \"paper_bgcolor\": \"white\", \"plot_bgcolor\": \"#E5ECF6\", \"polar\": {\"angularaxis\": {\"gridcolor\": \"white\", \"linecolor\": \"white\", \"ticks\": \"\"}, \"bgcolor\": \"#E5ECF6\", \"radialaxis\": {\"gridcolor\": \"white\", \"linecolor\": \"white\", \"ticks\": \"\"}}, \"scene\": {\"xaxis\": {\"backgroundcolor\": \"#E5ECF6\", \"gridcolor\": \"white\", \"gridwidth\": 2, \"linecolor\": \"white\", \"showbackground\": true, \"ticks\": \"\", \"zerolinecolor\": \"white\"}, \"yaxis\": {\"backgroundcolor\": \"#E5ECF6\", \"gridcolor\": \"white\", \"gridwidth\": 2, \"linecolor\": \"white\", \"showbackground\": true, \"ticks\": \"\", \"zerolinecolor\": \"white\"}, \"zaxis\": {\"backgroundcolor\": \"#E5ECF6\", \"gridcolor\": \"white\", \"gridwidth\": 2, \"linecolor\": \"white\", \"showbackground\": true, \"ticks\": \"\", \"zerolinecolor\": \"white\"}}, \"shapedefaults\": {\"line\": {\"color\": \"#2a3f5f\"}}, \"ternary\": {\"aaxis\": {\"gridcolor\": \"white\", \"linecolor\": \"white\", \"ticks\": \"\"}, \"baxis\": {\"gridcolor\": \"white\", \"linecolor\": \"white\", \"ticks\": \"\"}, \"bgcolor\": \"#E5ECF6\", \"caxis\": {\"gridcolor\": \"white\", \"linecolor\": \"white\", \"ticks\": \"\"}}, \"title\": {\"x\": 0.05}, \"xaxis\": {\"automargin\": true, \"gridcolor\": \"white\", \"linecolor\": \"white\", \"ticks\": \"\", \"title\": {\"standoff\": 15}, \"zerolinecolor\": \"white\", \"zerolinewidth\": 2}, \"yaxis\": {\"automargin\": true, \"gridcolor\": \"white\", \"linecolor\": \"white\", \"ticks\": \"\", \"title\": {\"standoff\": 15}, \"zerolinecolor\": \"white\", \"zerolinewidth\": 2}}}, \"updatemenus\": [{\"active\": 0, \"buttons\": [{\"args\": [{\"visible\": [true, true, true, false, false, false]}], \"label\": \"2 Hz\", \"method\": \"update\"}, {\"args\": [{\"visible\": [false, false, false, true, true, true]}], \"label\": \"4 Hz\", \"method\": \"update\"}], \"direction\": \"right\", \"type\": \"buttons\", \"x\": 0.57, \"y\": 1.2}], \"xaxis\": {\"ticksuffix\": \"%\", \"title\": {\"text\": \"Fra\\u00e7\\u00e3o de Grafite Expandido\"}}, \"yaxis\": {\"dtick\": 50, \"tick0\": 200, \"tickmode\": \"linear\", \"title\": {\"text\": \"Largura de Desgaste (\\u00b5m)\"}}},\n",
       "                        {\"responsive\": true}\n",
       "                    ).then(function(){\n",
       "                            \n",
       "var gd = document.getElementById('f8766d71-2414-4140-b1c4-e6ed4f570816');\n",
       "var x = new MutationObserver(function (mutations, observer) {{\n",
       "        var display = window.getComputedStyle(gd).display;\n",
       "        if (!display || display === 'none') {{\n",
       "            console.log([gd, 'removed!']);\n",
       "            Plotly.purge(gd);\n",
       "            observer.disconnect();\n",
       "        }}\n",
       "}});\n",
       "\n",
       "// Listen for the removal of the full notebook cells\n",
       "var notebookContainer = gd.closest('#notebook-container');\n",
       "if (notebookContainer) {{\n",
       "    x.observe(notebookContainer, {childList: true});\n",
       "}}\n",
       "\n",
       "// Listen for the clearing of the current output cell\n",
       "var outputEl = gd.closest('.output');\n",
       "if (outputEl) {{\n",
       "    x.observe(outputEl, {childList: true});\n",
       "}}\n",
       "\n",
       "                        })\n",
       "                };\n",
       "                });\n",
       "            </script>\n",
       "        </div>"
      ]
     },
     "metadata": {},
     "output_type": "display_data"
    }
   ],
   "source": [
    "fig = go.Figure()\n",
    "\n",
    "f2 = px.box(df[df['Frequência']==2],\n",
    "             y='Largura Média',\n",
    "             x = 'EG',\n",
    "             color = 'Força Normal',\n",
    "            )\n",
    "\n",
    "f4 = px.box(df[df['Frequência']==4],\n",
    "             y='Largura Média',\n",
    "             x = 'EG',\n",
    "             color = 'Força Normal',\n",
    "            )\n",
    "\n",
    "for data in f2.data:\n",
    "    data.visible = True\n",
    "    fig.add_trace(data)\n",
    "for data in f4.data:\n",
    "    data.visible = False\n",
    "    fig.add_trace(data)\n",
    "\n",
    "fig.update_layout(xaxis_title = 'Fração de Grafite Expandido',\n",
    "                  yaxis_title = 'Largura de Desgaste (µm)',\n",
    "                  xaxis_ticksuffix = '%',\n",
    "                  yaxis_tickmode = 'linear',\n",
    "                  yaxis_dtick = 50,\n",
    "                  yaxis_tick0 = 200,\n",
    "                  legend = dict(orientation = 'h',\n",
    "                                y = 1.05,\n",
    "                                x = 1.0,\n",
    "                                xanchor= 'right',\n",
    "                                yanchor= 'bottom',\n",
    "                                title = dict(text = 'Força Normal (N):')\n",
    "                               )\n",
    "                 )\n",
    "\n",
    "updatemenus=[\n",
    "       dict(\n",
    "            type=\"buttons\",\n",
    "            direction=\"right\",\n",
    "            active=0,\n",
    "            x=0.57,\n",
    "            y=1.2,\n",
    "            buttons=list([\n",
    "                dict(label='2 Hz',\n",
    "                     method=\"update\",\n",
    "                     args=[{\"visible\": [True]*3+[False]*3},\n",
    "                           ]),\n",
    "                dict(label='4 Hz',\n",
    "                     method=\"update\",\n",
    "                     args=[{\"visible\": [False]*3+[True]*3},\n",
    "                           ]),\n",
    "\n",
    "            ]),\n",
    "        )\n",
    "    ]\n",
    "fig.update_layout(updatemenus=updatemenus)"
   ]
  },
  {
   "cell_type": "code",
   "execution_count": 116,
   "metadata": {},
   "outputs": [
    {
     "data": {
      "application/vnd.plotly.v1+json": {
       "config": {
        "plotlyServerURL": "https://plot.ly"
       },
       "data": [
        {
         "legendgroup": "PU Puro",
         "mode": "markers",
         "name": "PU Puro",
         "type": "scatter3d",
         "x": [
          2.5,
          2.5,
          2.5,
          2.5,
          5,
          5,
          5,
          5,
          8,
          8,
          8,
          8
         ],
         "y": [
          2,
          2,
          4,
          4,
          2,
          2,
          4,
          4,
          2,
          2,
          4,
          4
         ],
         "z": [
          264.3,
          262.4,
          255.1,
          241.3,
          324.8,
          321,
          329.2,
          339.4,
          413.5,
          384.7,
          389.6,
          408
         ]
        },
        {
         "legendgroup": "PU + 1% EG",
         "mode": "markers",
         "name": "PU + 1% EG",
         "type": "scatter3d",
         "x": [
          2.5,
          2.5,
          2.5,
          2.5,
          2.5,
          2.5,
          2.5,
          2.5,
          5,
          5,
          5,
          5,
          5,
          5,
          5,
          5,
          5,
          8,
          8,
          8,
          8,
          8,
          8,
          8,
          8,
          8,
          8,
          8,
          8
         ],
         "y": [
          2,
          2,
          2,
          2,
          2,
          2,
          4,
          4,
          2,
          2,
          2,
          2,
          2,
          4,
          4,
          4,
          4,
          2,
          2,
          2,
          2,
          2,
          2,
          4,
          4,
          4,
          4,
          4,
          4
         ],
         "z": [
          267.62000000000006,
          274.02,
          280.2366666666667,
          287.9166666666667,
          268.83333333333337,
          267.99666666666667,
          260.76,
          255.73,
          326.17333333333335,
          311.0466666666666,
          326.15000000000003,
          359.51,
          340.53,
          316.02333333333337,
          345.2833333333333,
          341.4266666666667,
          358.3933333333334,
          452.92333333333335,
          445.27,
          459.07,
          433.08,
          418.7033333333334,
          417.42333333333335,
          396.20666666666665,
          424.05,
          416.435,
          445.3333333333333,
          428.79333333333335,
          447.49333333333334
         ]
        },
        {
         "legendgroup": "PU + 2% EG",
         "mode": "markers",
         "name": "PU + 2% EG",
         "type": "scatter3d",
         "x": [
          2.5,
          2.5,
          2.5,
          2.5,
          2.5,
          2.5,
          5,
          5,
          5,
          5,
          5,
          5,
          8,
          8,
          8,
          8,
          8,
          8,
          8,
          8,
          8,
          8,
          8,
          8
         ],
         "y": [
          2,
          2,
          2,
          4,
          4,
          4,
          2,
          2,
          2,
          4,
          4,
          4,
          2,
          2,
          2,
          2,
          2,
          2,
          4,
          4,
          4,
          4,
          4,
          4
         ],
         "z": [
          298.9866666666667,
          293.02,
          290.9666666666667,
          279.0466666666667,
          274.8566666666666,
          293.8066666666667,
          377.3666666666666,
          370.3566666666666,
          377.06333333333333,
          372.8833333333334,
          361.0833333333333,
          366.14000000000004,
          474.48333333333335,
          455.99,
          486.93,
          470.48,
          461.12999999999994,
          472.75666666666666,
          489.70666666666665,
          463.8333333333333,
          471.2633333333333,
          455.1566666666666,
          445.2,
          459.00333333333333
         ]
        }
       ],
       "layout": {
        "scene": {
         "xaxis": {
          "title": {
           "text": "Força Normal (N)"
          }
         },
         "yaxis": {
          "title": {
           "text": "Frequência (Hz)"
          }
         },
         "zaxis": {
          "title": {
           "text": "Largura de desgaste (µm)"
          }
         }
        },
        "template": {
         "data": {
          "bar": [
           {
            "error_x": {
             "color": "#2a3f5f"
            },
            "error_y": {
             "color": "#2a3f5f"
            },
            "marker": {
             "line": {
              "color": "#E5ECF6",
              "width": 0.5
             }
            },
            "type": "bar"
           }
          ],
          "barpolar": [
           {
            "marker": {
             "line": {
              "color": "#E5ECF6",
              "width": 0.5
             }
            },
            "type": "barpolar"
           }
          ],
          "carpet": [
           {
            "aaxis": {
             "endlinecolor": "#2a3f5f",
             "gridcolor": "white",
             "linecolor": "white",
             "minorgridcolor": "white",
             "startlinecolor": "#2a3f5f"
            },
            "baxis": {
             "endlinecolor": "#2a3f5f",
             "gridcolor": "white",
             "linecolor": "white",
             "minorgridcolor": "white",
             "startlinecolor": "#2a3f5f"
            },
            "type": "carpet"
           }
          ],
          "choropleth": [
           {
            "colorbar": {
             "outlinewidth": 0,
             "ticks": ""
            },
            "type": "choropleth"
           }
          ],
          "contour": [
           {
            "colorbar": {
             "outlinewidth": 0,
             "ticks": ""
            },
            "colorscale": [
             [
              0,
              "#0d0887"
             ],
             [
              0.1111111111111111,
              "#46039f"
             ],
             [
              0.2222222222222222,
              "#7201a8"
             ],
             [
              0.3333333333333333,
              "#9c179e"
             ],
             [
              0.4444444444444444,
              "#bd3786"
             ],
             [
              0.5555555555555556,
              "#d8576b"
             ],
             [
              0.6666666666666666,
              "#ed7953"
             ],
             [
              0.7777777777777778,
              "#fb9f3a"
             ],
             [
              0.8888888888888888,
              "#fdca26"
             ],
             [
              1,
              "#f0f921"
             ]
            ],
            "type": "contour"
           }
          ],
          "contourcarpet": [
           {
            "colorbar": {
             "outlinewidth": 0,
             "ticks": ""
            },
            "type": "contourcarpet"
           }
          ],
          "heatmap": [
           {
            "colorbar": {
             "outlinewidth": 0,
             "ticks": ""
            },
            "colorscale": [
             [
              0,
              "#0d0887"
             ],
             [
              0.1111111111111111,
              "#46039f"
             ],
             [
              0.2222222222222222,
              "#7201a8"
             ],
             [
              0.3333333333333333,
              "#9c179e"
             ],
             [
              0.4444444444444444,
              "#bd3786"
             ],
             [
              0.5555555555555556,
              "#d8576b"
             ],
             [
              0.6666666666666666,
              "#ed7953"
             ],
             [
              0.7777777777777778,
              "#fb9f3a"
             ],
             [
              0.8888888888888888,
              "#fdca26"
             ],
             [
              1,
              "#f0f921"
             ]
            ],
            "type": "heatmap"
           }
          ],
          "heatmapgl": [
           {
            "colorbar": {
             "outlinewidth": 0,
             "ticks": ""
            },
            "colorscale": [
             [
              0,
              "#0d0887"
             ],
             [
              0.1111111111111111,
              "#46039f"
             ],
             [
              0.2222222222222222,
              "#7201a8"
             ],
             [
              0.3333333333333333,
              "#9c179e"
             ],
             [
              0.4444444444444444,
              "#bd3786"
             ],
             [
              0.5555555555555556,
              "#d8576b"
             ],
             [
              0.6666666666666666,
              "#ed7953"
             ],
             [
              0.7777777777777778,
              "#fb9f3a"
             ],
             [
              0.8888888888888888,
              "#fdca26"
             ],
             [
              1,
              "#f0f921"
             ]
            ],
            "type": "heatmapgl"
           }
          ],
          "histogram": [
           {
            "marker": {
             "colorbar": {
              "outlinewidth": 0,
              "ticks": ""
             }
            },
            "type": "histogram"
           }
          ],
          "histogram2d": [
           {
            "colorbar": {
             "outlinewidth": 0,
             "ticks": ""
            },
            "colorscale": [
             [
              0,
              "#0d0887"
             ],
             [
              0.1111111111111111,
              "#46039f"
             ],
             [
              0.2222222222222222,
              "#7201a8"
             ],
             [
              0.3333333333333333,
              "#9c179e"
             ],
             [
              0.4444444444444444,
              "#bd3786"
             ],
             [
              0.5555555555555556,
              "#d8576b"
             ],
             [
              0.6666666666666666,
              "#ed7953"
             ],
             [
              0.7777777777777778,
              "#fb9f3a"
             ],
             [
              0.8888888888888888,
              "#fdca26"
             ],
             [
              1,
              "#f0f921"
             ]
            ],
            "type": "histogram2d"
           }
          ],
          "histogram2dcontour": [
           {
            "colorbar": {
             "outlinewidth": 0,
             "ticks": ""
            },
            "colorscale": [
             [
              0,
              "#0d0887"
             ],
             [
              0.1111111111111111,
              "#46039f"
             ],
             [
              0.2222222222222222,
              "#7201a8"
             ],
             [
              0.3333333333333333,
              "#9c179e"
             ],
             [
              0.4444444444444444,
              "#bd3786"
             ],
             [
              0.5555555555555556,
              "#d8576b"
             ],
             [
              0.6666666666666666,
              "#ed7953"
             ],
             [
              0.7777777777777778,
              "#fb9f3a"
             ],
             [
              0.8888888888888888,
              "#fdca26"
             ],
             [
              1,
              "#f0f921"
             ]
            ],
            "type": "histogram2dcontour"
           }
          ],
          "mesh3d": [
           {
            "colorbar": {
             "outlinewidth": 0,
             "ticks": ""
            },
            "type": "mesh3d"
           }
          ],
          "parcoords": [
           {
            "line": {
             "colorbar": {
              "outlinewidth": 0,
              "ticks": ""
             }
            },
            "type": "parcoords"
           }
          ],
          "pie": [
           {
            "automargin": true,
            "type": "pie"
           }
          ],
          "scatter": [
           {
            "marker": {
             "colorbar": {
              "outlinewidth": 0,
              "ticks": ""
             }
            },
            "type": "scatter"
           }
          ],
          "scatter3d": [
           {
            "line": {
             "colorbar": {
              "outlinewidth": 0,
              "ticks": ""
             }
            },
            "marker": {
             "colorbar": {
              "outlinewidth": 0,
              "ticks": ""
             }
            },
            "type": "scatter3d"
           }
          ],
          "scattercarpet": [
           {
            "marker": {
             "colorbar": {
              "outlinewidth": 0,
              "ticks": ""
             }
            },
            "type": "scattercarpet"
           }
          ],
          "scattergeo": [
           {
            "marker": {
             "colorbar": {
              "outlinewidth": 0,
              "ticks": ""
             }
            },
            "type": "scattergeo"
           }
          ],
          "scattergl": [
           {
            "marker": {
             "colorbar": {
              "outlinewidth": 0,
              "ticks": ""
             }
            },
            "type": "scattergl"
           }
          ],
          "scattermapbox": [
           {
            "marker": {
             "colorbar": {
              "outlinewidth": 0,
              "ticks": ""
             }
            },
            "type": "scattermapbox"
           }
          ],
          "scatterpolar": [
           {
            "marker": {
             "colorbar": {
              "outlinewidth": 0,
              "ticks": ""
             }
            },
            "type": "scatterpolar"
           }
          ],
          "scatterpolargl": [
           {
            "marker": {
             "colorbar": {
              "outlinewidth": 0,
              "ticks": ""
             }
            },
            "type": "scatterpolargl"
           }
          ],
          "scatterternary": [
           {
            "marker": {
             "colorbar": {
              "outlinewidth": 0,
              "ticks": ""
             }
            },
            "type": "scatterternary"
           }
          ],
          "surface": [
           {
            "colorbar": {
             "outlinewidth": 0,
             "ticks": ""
            },
            "colorscale": [
             [
              0,
              "#0d0887"
             ],
             [
              0.1111111111111111,
              "#46039f"
             ],
             [
              0.2222222222222222,
              "#7201a8"
             ],
             [
              0.3333333333333333,
              "#9c179e"
             ],
             [
              0.4444444444444444,
              "#bd3786"
             ],
             [
              0.5555555555555556,
              "#d8576b"
             ],
             [
              0.6666666666666666,
              "#ed7953"
             ],
             [
              0.7777777777777778,
              "#fb9f3a"
             ],
             [
              0.8888888888888888,
              "#fdca26"
             ],
             [
              1,
              "#f0f921"
             ]
            ],
            "type": "surface"
           }
          ],
          "table": [
           {
            "cells": {
             "fill": {
              "color": "#EBF0F8"
             },
             "line": {
              "color": "white"
             }
            },
            "header": {
             "fill": {
              "color": "#C8D4E3"
             },
             "line": {
              "color": "white"
             }
            },
            "type": "table"
           }
          ]
         },
         "layout": {
          "annotationdefaults": {
           "arrowcolor": "#2a3f5f",
           "arrowhead": 0,
           "arrowwidth": 1
          },
          "coloraxis": {
           "colorbar": {
            "outlinewidth": 0,
            "ticks": ""
           }
          },
          "colorscale": {
           "diverging": [
            [
             0,
             "#8e0152"
            ],
            [
             0.1,
             "#c51b7d"
            ],
            [
             0.2,
             "#de77ae"
            ],
            [
             0.3,
             "#f1b6da"
            ],
            [
             0.4,
             "#fde0ef"
            ],
            [
             0.5,
             "#f7f7f7"
            ],
            [
             0.6,
             "#e6f5d0"
            ],
            [
             0.7,
             "#b8e186"
            ],
            [
             0.8,
             "#7fbc41"
            ],
            [
             0.9,
             "#4d9221"
            ],
            [
             1,
             "#276419"
            ]
           ],
           "sequential": [
            [
             0,
             "#0d0887"
            ],
            [
             0.1111111111111111,
             "#46039f"
            ],
            [
             0.2222222222222222,
             "#7201a8"
            ],
            [
             0.3333333333333333,
             "#9c179e"
            ],
            [
             0.4444444444444444,
             "#bd3786"
            ],
            [
             0.5555555555555556,
             "#d8576b"
            ],
            [
             0.6666666666666666,
             "#ed7953"
            ],
            [
             0.7777777777777778,
             "#fb9f3a"
            ],
            [
             0.8888888888888888,
             "#fdca26"
            ],
            [
             1,
             "#f0f921"
            ]
           ],
           "sequentialminus": [
            [
             0,
             "#0d0887"
            ],
            [
             0.1111111111111111,
             "#46039f"
            ],
            [
             0.2222222222222222,
             "#7201a8"
            ],
            [
             0.3333333333333333,
             "#9c179e"
            ],
            [
             0.4444444444444444,
             "#bd3786"
            ],
            [
             0.5555555555555556,
             "#d8576b"
            ],
            [
             0.6666666666666666,
             "#ed7953"
            ],
            [
             0.7777777777777778,
             "#fb9f3a"
            ],
            [
             0.8888888888888888,
             "#fdca26"
            ],
            [
             1,
             "#f0f921"
            ]
           ]
          },
          "colorway": [
           "#636efa",
           "#EF553B",
           "#00cc96",
           "#ab63fa",
           "#FFA15A",
           "#19d3f3",
           "#FF6692",
           "#B6E880",
           "#FF97FF",
           "#FECB52"
          ],
          "font": {
           "color": "#2a3f5f"
          },
          "geo": {
           "bgcolor": "white",
           "lakecolor": "white",
           "landcolor": "#E5ECF6",
           "showlakes": true,
           "showland": true,
           "subunitcolor": "white"
          },
          "hoverlabel": {
           "align": "left"
          },
          "hovermode": "closest",
          "mapbox": {
           "style": "light"
          },
          "paper_bgcolor": "white",
          "plot_bgcolor": "#E5ECF6",
          "polar": {
           "angularaxis": {
            "gridcolor": "white",
            "linecolor": "white",
            "ticks": ""
           },
           "bgcolor": "#E5ECF6",
           "radialaxis": {
            "gridcolor": "white",
            "linecolor": "white",
            "ticks": ""
           }
          },
          "scene": {
           "xaxis": {
            "backgroundcolor": "#E5ECF6",
            "gridcolor": "white",
            "gridwidth": 2,
            "linecolor": "white",
            "showbackground": true,
            "ticks": "",
            "zerolinecolor": "white"
           },
           "yaxis": {
            "backgroundcolor": "#E5ECF6",
            "gridcolor": "white",
            "gridwidth": 2,
            "linecolor": "white",
            "showbackground": true,
            "ticks": "",
            "zerolinecolor": "white"
           },
           "zaxis": {
            "backgroundcolor": "#E5ECF6",
            "gridcolor": "white",
            "gridwidth": 2,
            "linecolor": "white",
            "showbackground": true,
            "ticks": "",
            "zerolinecolor": "white"
           }
          },
          "shapedefaults": {
           "line": {
            "color": "#2a3f5f"
           }
          },
          "ternary": {
           "aaxis": {
            "gridcolor": "white",
            "linecolor": "white",
            "ticks": ""
           },
           "baxis": {
            "gridcolor": "white",
            "linecolor": "white",
            "ticks": ""
           },
           "bgcolor": "#E5ECF6",
           "caxis": {
            "gridcolor": "white",
            "linecolor": "white",
            "ticks": ""
           }
          },
          "title": {
           "x": 0.05
          },
          "xaxis": {
           "automargin": true,
           "gridcolor": "white",
           "linecolor": "white",
           "ticks": "",
           "title": {
            "standoff": 15
           },
           "zerolinecolor": "white",
           "zerolinewidth": 2
          },
          "yaxis": {
           "automargin": true,
           "gridcolor": "white",
           "linecolor": "white",
           "ticks": "",
           "title": {
            "standoff": 15
           },
           "zerolinecolor": "white",
           "zerolinewidth": 2
          }
         }
        }
       }
      },
      "text/html": [
       "<div>\n",
       "        \n",
       "        \n",
       "            <div id=\"95b98aae-4658-4c7b-b07b-a453992edd88\" class=\"plotly-graph-div\" style=\"height:525px; width:100%;\"></div>\n",
       "            <script type=\"text/javascript\">\n",
       "                require([\"plotly\"], function(Plotly) {\n",
       "                    window.PLOTLYENV=window.PLOTLYENV || {};\n",
       "                    \n",
       "                if (document.getElementById(\"95b98aae-4658-4c7b-b07b-a453992edd88\")) {\n",
       "                    Plotly.newPlot(\n",
       "                        '95b98aae-4658-4c7b-b07b-a453992edd88',\n",
       "                        [{\"legendgroup\": \"PU Puro\", \"mode\": \"markers\", \"name\": \"PU Puro\", \"type\": \"scatter3d\", \"x\": [2.5, 2.5, 2.5, 2.5, 5.0, 5.0, 5.0, 5.0, 8.0, 8.0, 8.0, 8.0], \"y\": [2, 2, 4, 4, 2, 2, 4, 4, 2, 2, 4, 4], \"z\": [264.3, 262.4, 255.1, 241.3, 324.8, 321.0, 329.2, 339.4, 413.5, 384.7, 389.6, 408.0]}, {\"legendgroup\": \"PU + 1% EG\", \"mode\": \"markers\", \"name\": \"PU + 1% EG\", \"type\": \"scatter3d\", \"x\": [2.5, 2.5, 2.5, 2.5, 2.5, 2.5, 2.5, 2.5, 5.0, 5.0, 5.0, 5.0, 5.0, 5.0, 5.0, 5.0, 5.0, 8.0, 8.0, 8.0, 8.0, 8.0, 8.0, 8.0, 8.0, 8.0, 8.0, 8.0, 8.0], \"y\": [2, 2, 2, 2, 2, 2, 4, 4, 2, 2, 2, 2, 2, 4, 4, 4, 4, 2, 2, 2, 2, 2, 2, 4, 4, 4, 4, 4, 4], \"z\": [267.62000000000006, 274.02, 280.2366666666667, 287.9166666666667, 268.83333333333337, 267.99666666666667, 260.76, 255.73, 326.17333333333335, 311.0466666666666, 326.15000000000003, 359.51, 340.53, 316.02333333333337, 345.2833333333333, 341.4266666666667, 358.3933333333334, 452.92333333333335, 445.27, 459.07, 433.08, 418.7033333333334, 417.42333333333335, 396.20666666666665, 424.05, 416.435, 445.3333333333333, 428.79333333333335, 447.49333333333334]}, {\"legendgroup\": \"PU + 2% EG\", \"mode\": \"markers\", \"name\": \"PU + 2% EG\", \"type\": \"scatter3d\", \"x\": [2.5, 2.5, 2.5, 2.5, 2.5, 2.5, 5.0, 5.0, 5.0, 5.0, 5.0, 5.0, 8.0, 8.0, 8.0, 8.0, 8.0, 8.0, 8.0, 8.0, 8.0, 8.0, 8.0, 8.0], \"y\": [2, 2, 2, 4, 4, 4, 2, 2, 2, 4, 4, 4, 2, 2, 2, 2, 2, 2, 4, 4, 4, 4, 4, 4], \"z\": [298.9866666666667, 293.02, 290.9666666666667, 279.0466666666667, 274.8566666666666, 293.8066666666667, 377.3666666666666, 370.3566666666666, 377.06333333333333, 372.8833333333334, 361.0833333333333, 366.14000000000004, 474.48333333333335, 455.99, 486.93, 470.48, 461.12999999999994, 472.75666666666666, 489.70666666666665, 463.8333333333333, 471.2633333333333, 455.1566666666666, 445.2, 459.00333333333333]}],\n",
       "                        {\"scene\": {\"xaxis\": {\"title\": {\"text\": \"For\\u00e7a Normal (N)\"}}, \"yaxis\": {\"title\": {\"text\": \"Frequ\\u00eancia (Hz)\"}}, \"zaxis\": {\"title\": {\"text\": \"Largura de desgaste (\\u00b5m)\"}}}, \"template\": {\"data\": {\"bar\": [{\"error_x\": {\"color\": \"#2a3f5f\"}, \"error_y\": {\"color\": \"#2a3f5f\"}, \"marker\": {\"line\": {\"color\": \"#E5ECF6\", \"width\": 0.5}}, \"type\": \"bar\"}], \"barpolar\": [{\"marker\": {\"line\": {\"color\": \"#E5ECF6\", \"width\": 0.5}}, \"type\": \"barpolar\"}], \"carpet\": [{\"aaxis\": {\"endlinecolor\": \"#2a3f5f\", \"gridcolor\": \"white\", \"linecolor\": \"white\", \"minorgridcolor\": \"white\", \"startlinecolor\": \"#2a3f5f\"}, \"baxis\": {\"endlinecolor\": \"#2a3f5f\", \"gridcolor\": \"white\", \"linecolor\": \"white\", \"minorgridcolor\": \"white\", \"startlinecolor\": \"#2a3f5f\"}, \"type\": \"carpet\"}], \"choropleth\": [{\"colorbar\": {\"outlinewidth\": 0, \"ticks\": \"\"}, \"type\": \"choropleth\"}], \"contour\": [{\"colorbar\": {\"outlinewidth\": 0, \"ticks\": \"\"}, \"colorscale\": [[0.0, \"#0d0887\"], [0.1111111111111111, \"#46039f\"], [0.2222222222222222, \"#7201a8\"], [0.3333333333333333, \"#9c179e\"], [0.4444444444444444, \"#bd3786\"], [0.5555555555555556, \"#d8576b\"], [0.6666666666666666, \"#ed7953\"], [0.7777777777777778, \"#fb9f3a\"], [0.8888888888888888, \"#fdca26\"], [1.0, \"#f0f921\"]], \"type\": \"contour\"}], \"contourcarpet\": [{\"colorbar\": {\"outlinewidth\": 0, \"ticks\": \"\"}, \"type\": \"contourcarpet\"}], \"heatmap\": [{\"colorbar\": {\"outlinewidth\": 0, \"ticks\": \"\"}, \"colorscale\": [[0.0, \"#0d0887\"], [0.1111111111111111, \"#46039f\"], [0.2222222222222222, \"#7201a8\"], [0.3333333333333333, \"#9c179e\"], [0.4444444444444444, \"#bd3786\"], [0.5555555555555556, \"#d8576b\"], [0.6666666666666666, \"#ed7953\"], [0.7777777777777778, \"#fb9f3a\"], [0.8888888888888888, \"#fdca26\"], [1.0, \"#f0f921\"]], \"type\": \"heatmap\"}], \"heatmapgl\": [{\"colorbar\": {\"outlinewidth\": 0, \"ticks\": \"\"}, \"colorscale\": [[0.0, \"#0d0887\"], [0.1111111111111111, \"#46039f\"], [0.2222222222222222, \"#7201a8\"], [0.3333333333333333, \"#9c179e\"], [0.4444444444444444, \"#bd3786\"], [0.5555555555555556, \"#d8576b\"], [0.6666666666666666, \"#ed7953\"], [0.7777777777777778, \"#fb9f3a\"], [0.8888888888888888, \"#fdca26\"], [1.0, \"#f0f921\"]], \"type\": \"heatmapgl\"}], \"histogram\": [{\"marker\": {\"colorbar\": {\"outlinewidth\": 0, \"ticks\": \"\"}}, \"type\": \"histogram\"}], \"histogram2d\": [{\"colorbar\": {\"outlinewidth\": 0, \"ticks\": \"\"}, \"colorscale\": [[0.0, \"#0d0887\"], [0.1111111111111111, \"#46039f\"], [0.2222222222222222, \"#7201a8\"], [0.3333333333333333, \"#9c179e\"], [0.4444444444444444, \"#bd3786\"], [0.5555555555555556, \"#d8576b\"], [0.6666666666666666, \"#ed7953\"], [0.7777777777777778, \"#fb9f3a\"], [0.8888888888888888, \"#fdca26\"], [1.0, \"#f0f921\"]], \"type\": \"histogram2d\"}], \"histogram2dcontour\": [{\"colorbar\": {\"outlinewidth\": 0, \"ticks\": \"\"}, \"colorscale\": [[0.0, \"#0d0887\"], [0.1111111111111111, \"#46039f\"], [0.2222222222222222, \"#7201a8\"], [0.3333333333333333, \"#9c179e\"], [0.4444444444444444, \"#bd3786\"], [0.5555555555555556, \"#d8576b\"], [0.6666666666666666, \"#ed7953\"], [0.7777777777777778, \"#fb9f3a\"], [0.8888888888888888, \"#fdca26\"], [1.0, \"#f0f921\"]], \"type\": \"histogram2dcontour\"}], \"mesh3d\": [{\"colorbar\": {\"outlinewidth\": 0, \"ticks\": \"\"}, \"type\": \"mesh3d\"}], \"parcoords\": [{\"line\": {\"colorbar\": {\"outlinewidth\": 0, \"ticks\": \"\"}}, \"type\": \"parcoords\"}], \"pie\": [{\"automargin\": true, \"type\": \"pie\"}], \"scatter\": [{\"marker\": {\"colorbar\": {\"outlinewidth\": 0, \"ticks\": \"\"}}, \"type\": \"scatter\"}], \"scatter3d\": [{\"line\": {\"colorbar\": {\"outlinewidth\": 0, \"ticks\": \"\"}}, \"marker\": {\"colorbar\": {\"outlinewidth\": 0, \"ticks\": \"\"}}, \"type\": \"scatter3d\"}], \"scattercarpet\": [{\"marker\": {\"colorbar\": {\"outlinewidth\": 0, \"ticks\": \"\"}}, \"type\": \"scattercarpet\"}], \"scattergeo\": [{\"marker\": {\"colorbar\": {\"outlinewidth\": 0, \"ticks\": \"\"}}, \"type\": \"scattergeo\"}], \"scattergl\": [{\"marker\": {\"colorbar\": {\"outlinewidth\": 0, \"ticks\": \"\"}}, \"type\": \"scattergl\"}], \"scattermapbox\": [{\"marker\": {\"colorbar\": {\"outlinewidth\": 0, \"ticks\": \"\"}}, \"type\": \"scattermapbox\"}], \"scatterpolar\": [{\"marker\": {\"colorbar\": {\"outlinewidth\": 0, \"ticks\": \"\"}}, \"type\": \"scatterpolar\"}], \"scatterpolargl\": [{\"marker\": {\"colorbar\": {\"outlinewidth\": 0, \"ticks\": \"\"}}, \"type\": \"scatterpolargl\"}], \"scatterternary\": [{\"marker\": {\"colorbar\": {\"outlinewidth\": 0, \"ticks\": \"\"}}, \"type\": \"scatterternary\"}], \"surface\": [{\"colorbar\": {\"outlinewidth\": 0, \"ticks\": \"\"}, \"colorscale\": [[0.0, \"#0d0887\"], [0.1111111111111111, \"#46039f\"], [0.2222222222222222, \"#7201a8\"], [0.3333333333333333, \"#9c179e\"], [0.4444444444444444, \"#bd3786\"], [0.5555555555555556, \"#d8576b\"], [0.6666666666666666, \"#ed7953\"], [0.7777777777777778, \"#fb9f3a\"], [0.8888888888888888, \"#fdca26\"], [1.0, \"#f0f921\"]], \"type\": \"surface\"}], \"table\": [{\"cells\": {\"fill\": {\"color\": \"#EBF0F8\"}, \"line\": {\"color\": \"white\"}}, \"header\": {\"fill\": {\"color\": \"#C8D4E3\"}, \"line\": {\"color\": \"white\"}}, \"type\": \"table\"}]}, \"layout\": {\"annotationdefaults\": {\"arrowcolor\": \"#2a3f5f\", \"arrowhead\": 0, \"arrowwidth\": 1}, \"coloraxis\": {\"colorbar\": {\"outlinewidth\": 0, \"ticks\": \"\"}}, \"colorscale\": {\"diverging\": [[0, \"#8e0152\"], [0.1, \"#c51b7d\"], [0.2, \"#de77ae\"], [0.3, \"#f1b6da\"], [0.4, \"#fde0ef\"], [0.5, \"#f7f7f7\"], [0.6, \"#e6f5d0\"], [0.7, \"#b8e186\"], [0.8, \"#7fbc41\"], [0.9, \"#4d9221\"], [1, \"#276419\"]], \"sequential\": [[0.0, \"#0d0887\"], [0.1111111111111111, \"#46039f\"], [0.2222222222222222, \"#7201a8\"], [0.3333333333333333, \"#9c179e\"], [0.4444444444444444, \"#bd3786\"], [0.5555555555555556, \"#d8576b\"], [0.6666666666666666, \"#ed7953\"], [0.7777777777777778, \"#fb9f3a\"], [0.8888888888888888, \"#fdca26\"], [1.0, \"#f0f921\"]], \"sequentialminus\": [[0.0, \"#0d0887\"], [0.1111111111111111, \"#46039f\"], [0.2222222222222222, \"#7201a8\"], [0.3333333333333333, \"#9c179e\"], [0.4444444444444444, \"#bd3786\"], [0.5555555555555556, \"#d8576b\"], [0.6666666666666666, \"#ed7953\"], [0.7777777777777778, \"#fb9f3a\"], [0.8888888888888888, \"#fdca26\"], [1.0, \"#f0f921\"]]}, \"colorway\": [\"#636efa\", \"#EF553B\", \"#00cc96\", \"#ab63fa\", \"#FFA15A\", \"#19d3f3\", \"#FF6692\", \"#B6E880\", \"#FF97FF\", \"#FECB52\"], \"font\": {\"color\": \"#2a3f5f\"}, \"geo\": {\"bgcolor\": \"white\", \"lakecolor\": \"white\", \"landcolor\": \"#E5ECF6\", \"showlakes\": true, \"showland\": true, \"subunitcolor\": \"white\"}, \"hoverlabel\": {\"align\": \"left\"}, \"hovermode\": \"closest\", \"mapbox\": {\"style\": \"light\"}, \"paper_bgcolor\": \"white\", \"plot_bgcolor\": \"#E5ECF6\", \"polar\": {\"angularaxis\": {\"gridcolor\": \"white\", \"linecolor\": \"white\", \"ticks\": \"\"}, \"bgcolor\": \"#E5ECF6\", \"radialaxis\": {\"gridcolor\": \"white\", \"linecolor\": \"white\", \"ticks\": \"\"}}, \"scene\": {\"xaxis\": {\"backgroundcolor\": \"#E5ECF6\", \"gridcolor\": \"white\", \"gridwidth\": 2, \"linecolor\": \"white\", \"showbackground\": true, \"ticks\": \"\", \"zerolinecolor\": \"white\"}, \"yaxis\": {\"backgroundcolor\": \"#E5ECF6\", \"gridcolor\": \"white\", \"gridwidth\": 2, \"linecolor\": \"white\", \"showbackground\": true, \"ticks\": \"\", \"zerolinecolor\": \"white\"}, \"zaxis\": {\"backgroundcolor\": \"#E5ECF6\", \"gridcolor\": \"white\", \"gridwidth\": 2, \"linecolor\": \"white\", \"showbackground\": true, \"ticks\": \"\", \"zerolinecolor\": \"white\"}}, \"shapedefaults\": {\"line\": {\"color\": \"#2a3f5f\"}}, \"ternary\": {\"aaxis\": {\"gridcolor\": \"white\", \"linecolor\": \"white\", \"ticks\": \"\"}, \"baxis\": {\"gridcolor\": \"white\", \"linecolor\": \"white\", \"ticks\": \"\"}, \"bgcolor\": \"#E5ECF6\", \"caxis\": {\"gridcolor\": \"white\", \"linecolor\": \"white\", \"ticks\": \"\"}}, \"title\": {\"x\": 0.05}, \"xaxis\": {\"automargin\": true, \"gridcolor\": \"white\", \"linecolor\": \"white\", \"ticks\": \"\", \"title\": {\"standoff\": 15}, \"zerolinecolor\": \"white\", \"zerolinewidth\": 2}, \"yaxis\": {\"automargin\": true, \"gridcolor\": \"white\", \"linecolor\": \"white\", \"ticks\": \"\", \"title\": {\"standoff\": 15}, \"zerolinecolor\": \"white\", \"zerolinewidth\": 2}}}},\n",
       "                        {\"responsive\": true}\n",
       "                    ).then(function(){\n",
       "                            \n",
       "var gd = document.getElementById('95b98aae-4658-4c7b-b07b-a453992edd88');\n",
       "var x = new MutationObserver(function (mutations, observer) {{\n",
       "        var display = window.getComputedStyle(gd).display;\n",
       "        if (!display || display === 'none') {{\n",
       "            console.log([gd, 'removed!']);\n",
       "            Plotly.purge(gd);\n",
       "            observer.disconnect();\n",
       "        }}\n",
       "}});\n",
       "\n",
       "// Listen for the removal of the full notebook cells\n",
       "var notebookContainer = gd.closest('#notebook-container');\n",
       "if (notebookContainer) {{\n",
       "    x.observe(notebookContainer, {childList: true});\n",
       "}}\n",
       "\n",
       "// Listen for the clearing of the current output cell\n",
       "var outputEl = gd.closest('.output');\n",
       "if (outputEl) {{\n",
       "    x.observe(outputEl, {childList: true});\n",
       "}}\n",
       "\n",
       "                        })\n",
       "                };\n",
       "                });\n",
       "            </script>\n",
       "        </div>"
      ]
     },
     "metadata": {},
     "output_type": "display_data"
    }
   ],
   "source": [
    "titles = {0: 'PU Puro',\n",
    "          1: 'PU + 1% EG',\n",
    "          2: 'PU + 2% EG',\n",
    "            }\n",
    "\n",
    "fig = go.Figure()\n",
    "for eg in df['EG'].unique():\n",
    "    mask = (df['EG']==eg)\n",
    "    fig.add_trace(go.Scatter3d(\n",
    "                                x=df[mask]['Força Normal'],\n",
    "                                y=df[mask]['Frequência'],\n",
    "                                z=df[mask]['Largura Média'],\n",
    "                                mode=\"markers\",\n",
    "                                legendgroup=titles[eg],\n",
    "                                name = titles[eg],\n",
    "                                ))\n",
    "scene = dict(xaxis_title = 'Força Normal (N)',\n",
    "             yaxis_title = 'Frequência (Hz)',\n",
    "             zaxis_title = 'Largura de desgaste (µm)'\n",
    "            )\n",
    "fig.update_layout(scene = scene)\n",
    "fig.show()"
   ]
  },
  {
   "cell_type": "code",
   "execution_count": 129,
   "metadata": {},
   "outputs": [],
   "source": [
    "ndf = (df.assign(Intercept=1) #inclui uma coluna de 'intercepto' (fatorial) para o cálculo do coeficiente b0\n",
    "#Aqui devem ser incluídos os parâmetros do modelo, até o máximo de N < número de níveis usados no experimento\n",
    "          #.assign(**{'Força²' : ndf['Força Normal']**2}) #inclui parâmetro quadrático de força normal no modelo\n",
    "          #.assign(**{'EG Percentage²' : ndf['EG Percentage']**2}) #inclui um parâmetro exponencial de porcentagem de grafite expandido\n",
    "          #.assign(**{'Frequência * EG Percentage' : ndf['Frequência']*ndf['EG Percentage']}) #10\n",
    "          #.assign(**{'Força * EG Percentage' : ndf['Força Normal']*ndf['EG Percentage']}) #11\n",
    "          #.assign(**{'Força * Frequência' : ndf['Força Normal']*ndf['Frequência']}) #12\n",
    "          #.assign(**{'Força * Frequência * EG Percentage': ndf['Força Normal']*ndf['Frequência']*ndf['EG Percentage']}) #13\n",
    "          #.assign(**{'Nome do novo parâmetro': definição do novo parâmetro}) #14\n",
    "          )\n",
    "s = df[['Largura 1','Largura 2', 'Largura 3']].std(numeric_only = True)"
   ]
  },
  {
   "cell_type": "markdown",
   "metadata": {},
   "source": [
    "#### Estimativa do desvio padrão"
   ]
  },
  {
   "cell_type": "code",
   "execution_count": 130,
   "metadata": {},
   "outputs": [
    {
     "data": {
      "text/plain": [
       "75.67946878889448"
      ]
     },
     "execution_count": 130,
     "metadata": {},
     "output_type": "execute_result"
    }
   ],
   "source": [
    "s = s.mean()\n",
    "s"
   ]
  },
  {
   "cell_type": "code",
   "execution_count": 132,
   "metadata": {},
   "outputs": [
    {
     "data": {
      "text/plain": [
       "['Foto',\n",
       " 'PU',\n",
       " 'EG',\n",
       " 'Posição',\n",
       " 'Ensaio',\n",
       " 'Largura 1',\n",
       " 'Largura 2',\n",
       " 'Largura 3',\n",
       " 'Força Normal',\n",
       " 'Frequência',\n",
       " 'Largura Média',\n",
       " 'Largura Desv. Pad.',\n",
       " 'Ensaio - Geral',\n",
       " 'Intercept']"
      ]
     },
     "execution_count": 132,
     "metadata": {},
     "output_type": "execute_result"
    }
   ],
   "source": [
    "P = ndf.columns.to_list()\n",
    "P"
   ]
  },
  {
   "cell_type": "code",
   "execution_count": 163,
   "metadata": {},
   "outputs": [],
   "source": [
    "parametros = [P[13], #intercept\n",
    "              P[8], # força\n",
    "              #P[9], # freq\n",
    "              P[2], # egp\n",
    "              ]"
   ]
  },
  {
   "cell_type": "code",
   "execution_count": 164,
   "metadata": {},
   "outputs": [],
   "source": [
    "X = np.asmatrix(ndf[parametros].to_numpy()) #matriz de parâmetros X\n",
    "Y = np.asmatrix(ndf['Largura Média'].to_numpy()).T #matriz de respostas Y\n",
    "\n",
    "b = np.dot(np.dot(np.dot(X.T,X).I,X.T),Y) #cálculo do vetor de parâmetros b \n",
    "Vb = (np.dot(X.T,X).I)*s**2 #variância/covariância dos parâmetros b, com base na variância calculada na primeira parte do programa\n",
    "Vb = np.asmatrix(np.diag(Vb)).T #organizada como o vetor b (exclui covariancias)"
   ]
  },
  {
   "cell_type": "code",
   "execution_count": 165,
   "metadata": {},
   "outputs": [
    {
     "data": {
      "text/plain": [
       "matrix([[168.58840633],\n",
       "        [ 30.0320739 ],\n",
       "        [ 25.67948512]])"
      ]
     },
     "execution_count": 165,
     "metadata": {},
     "output_type": "execute_result"
    }
   ],
   "source": [
    "b"
   ]
  },
  {
   "cell_type": "code",
   "execution_count": 166,
   "metadata": {},
   "outputs": [
    {
     "name": "stderr",
     "output_type": "stream",
     "text": [
      "C:\\Users\\Caio\\anaconda3\\lib\\site-packages\\ipykernel_launcher.py:14: UserWarning:\n",
      "\n",
      "Boolean Series key will be reindexed to match DataFrame index.\n",
      "\n",
      "C:\\Users\\Caio\\anaconda3\\lib\\site-packages\\ipykernel_launcher.py:16: UserWarning:\n",
      "\n",
      "Boolean Series key will be reindexed to match DataFrame index.\n",
      "\n",
      "C:\\Users\\Caio\\anaconda3\\lib\\site-packages\\ipykernel_launcher.py:17: UserWarning:\n",
      "\n",
      "Boolean Series key will be reindexed to match DataFrame index.\n",
      "\n"
     ]
    }
   ],
   "source": [
    "#cálculo das variáveis para a ANOVA\n",
    "#respostas calculadas com o modelo\n",
    "y_hat = 0\n",
    "for i in range(len(b)):\n",
    "    param = ndf[parametros]\n",
    "    y_hat = y_hat + (b.item(i)*param[param.columns[i]])\n",
    "\n",
    "#respostas médias para as repetiçoes de ensaios\n",
    "y_bar = []\n",
    "m = 0\n",
    "for eg in ndf['EG'].unique():\n",
    "    for forca in ndf['Força Normal'].unique():\n",
    "        for freq in ndf['Frequência'].unique():\n",
    "            if ndf[ndf['EG']==eg][ndf['Força Normal']==forca][ndf['Frequência']==freq]['Largura Média'].size>0:\n",
    "                m = m+1\n",
    "                for i in range(ndf[ndf['EG']==eg][ndf['Força Normal']==forca][ndf['Frequência']==freq]['Largura Média'].size):\n",
    "                    y_bar.append(ndf[ndf['EG']==eg][ndf['Força Normal']==forca][ndf['Frequência']==freq]['Largura Média'].mean())\n",
    "                        \n",
    "\n",
    "p = X.shape[1] #número de parâmetros do modelo\n",
    "n = ndf['Largura Média'].count() #número total de observações\n",
    "\n",
    "SQR = ((y_hat-ndf['Largura Média'].mean())**2).sum() #soma quadrática da regressão\n",
    "GLR = p-1 #graus de liberdade da regressão\n",
    "MQR = SQR/GLR #média quadrática da regressão\n",
    "\n",
    "SQr = ((ndf['Largura Média']-y_hat)**2).sum() #soma quadrática dos resíduos\n",
    "GLr = n-p #graus de liberdade dos resíduos\n",
    "MQr = SQr/GLr #média quadrática dos resíduos\n",
    "\n",
    "SQep = ((ndf['Largura Média']-y_bar)**2).sum() #soma quadrática devido ao erro puro\n",
    "GLep = n-m #graus de liberdade devido ao erro puro\n",
    "MQep = SQep/GLep #média quadrática devido ao erro puro\n",
    "\n",
    "SQfaj = SQr - SQep #soma quadrática devido a falta de ajuste\n",
    "GLfaj = m-p #graus de liberdade devido a falta de ajuste\n",
    "MQfaj = SQfaj/GLfaj #média quadrática devido a falta de ajuste\n",
    "\n",
    "SQT = SQR+SQr #soma quadrática total\n",
    "GLT = n-1 #graus de liberdade total\n",
    "\n",
    "pve = SQR/SQT #porcentagem de variação explicada\n",
    "\n",
    "pmve = (SQT-SQep)/SQT #porcentagem de variação máxima explicável"
   ]
  },
  {
   "cell_type": "code",
   "execution_count": 177,
   "metadata": {},
   "outputs": [
    {
     "name": "stdout",
     "output_type": "stream",
     "text": [
      "Modelo:\n",
      "L = 168.6±1535.0 +\n",
      "          30.0±8.1 Força Normal +\n",
      "                  25.679±25.675 EG\n",
      "\n"
     ]
    }
   ],
   "source": [
    "#imprime o modelo e a ANOVA\n",
    "print(\"\"\"Modelo:\n",
    "L = {:.1f}±{:.1f} +\n",
    "          {:.1f}±{:.1f} {} +\n",
    "                  {:.3f}±{:.3f} {}\n",
    "\"\"\".format(b.item(0),1.96*Vb.item(0),\n",
    "          b.item(1),1.96*Vb.item(1)**(1/2),parametros[1],\n",
    "          b.item(2),1.96*Vb.item(2)**(1/2),parametros[2],\n",
    "          #b.item(3),1.96*Vb.item(3)**(1/2),parametros[3],\n",
    "          #b.item(4),1.96*Vb.item(4)**(1/2),parametros[4],\n",
    "          #b.item(5),1.96*Vb.item(5)**(1/2),parametros[5],\n",
    "          #b.item(6),1.96*Vb.item(6)**(1/2),parametros[6],\n",
    "          #b.item(7),1.96*Vb.item(7)**(1/2),parametros[7],\n",
    "          #b.item(8),1.96*Vb.item(8)**(1/2),parametros[8],\n",
    "          #b.item(9),1.96*Vb.item(9)**(1/2),parametros[9]\n",
    "          )\n",
    "    )"
   ]
  },
  {
   "cell_type": "code",
   "execution_count": 168,
   "metadata": {},
   "outputs": [
    {
     "name": "stdout",
     "output_type": "stream",
     "text": [
      "\n",
      "Fonte de variação     Soma Quadrática      No de G. L.     Média Quadrática\n",
      "Regressão             348126.078976              2               174063.039488\n",
      "Resíduos              13439.550913              62              216.766950\n",
      "Falta de ajuste       4616.232895              15              307.748860\n",
      "Erro puro             8823.318018              47              187.730171\n",
      "Total                 361565.629889              64               \n",
      "% de variação explicada: 0.9628\n",
      "% máxima de variação explicável: 0.9756\n",
      "\n"
     ]
    }
   ],
   "source": [
    "print( #imprime a tabela de ANOVA para o modelo\n",
    "\"\"\"\n",
    "Fonte de variação     Soma Quadrática      No de G. L.     Média Quadrática\n",
    "Regressão             {:<7.6f}              {:<2}              {:<6.6f}\n",
    "Resíduos              {:<7.6f}              {:<2}              {:<6.6f}\n",
    "Falta de ajuste       {:<7.6f}              {:<2}              {:<6.6f}\n",
    "Erro puro             {:<7.6f}              {:<2}              {:<6.6f}\n",
    "Total                 {:<7.6f}              {:<2}               \n",
    "% de variação explicada: {:.4f}\n",
    "% máxima de variação explicável: {:.4f}\n",
    "\"\"\".format(SQR,GLR,MQR,\n",
    "           SQr,GLr,MQr,\n",
    "           SQfaj,GLfaj,MQfaj,\n",
    "           SQep,GLep,MQep,\n",
    "           SQT,GLT,\n",
    "           pve,\n",
    "           pmve))\n"
   ]
  },
  {
   "cell_type": "code",
   "execution_count": 169,
   "metadata": {},
   "outputs": [],
   "source": [
    "Fo = np.linspace(2.5, 8.5, 10) #entradas de força de 2,5 a 8,0 N de 0,5 em 0,5N\n",
    "Eg = np.linspace(0, 2.3, 10) #entradas de porcentagem de EG de 0 a 2 %, de 0,1 em 0,1%\n",
    "Fr = np.linspace(2,4,10) #entradas de frequencia de 2 a 4 Hz, de 0,2 em 0,2"
   ]
  },
  {
   "cell_type": "code",
   "execution_count": 170,
   "metadata": {},
   "outputs": [],
   "source": [
    "Ff,ff = np.meshgrid(Fo,Fr)"
   ]
  },
  {
   "cell_type": "code",
   "execution_count": 173,
   "metadata": {},
   "outputs": [],
   "source": [
    "def answer2d(egp,freq,F):\n",
    "    resposta = []\n",
    "    for fr in freq:\n",
    "        #parametros do modelo\n",
    "        P2 = np.array((1,\n",
    "                       F,\n",
    "                       #fr,\n",
    "                       egp,\n",
    "                       ),)\n",
    "        resposta.append(np.diag(b*P2).sum())\n",
    "    return np.array(resposta)"
   ]
  },
  {
   "cell_type": "code",
   "execution_count": 178,
   "metadata": {},
   "outputs": [
    {
     "data": {
      "application/vnd.plotly.v1+json": {
       "config": {
        "plotlyServerURL": "https://plot.ly"
       },
       "data": [
        {
         "coloraxis": "coloraxis",
         "colorbar": {
          "thickness": 5
         },
         "name": "PU+0.0%EG",
         "opacity": 0.6,
         "type": "surface",
         "visible": false,
         "x": [
          [
           2.5,
           3.1666666666666665,
           3.833333333333333,
           4.5,
           5.166666666666666,
           5.833333333333333,
           6.5,
           7.166666666666666,
           7.833333333333333,
           8.5
          ],
          [
           2.5,
           3.1666666666666665,
           3.833333333333333,
           4.5,
           5.166666666666666,
           5.833333333333333,
           6.5,
           7.166666666666666,
           7.833333333333333,
           8.5
          ],
          [
           2.5,
           3.1666666666666665,
           3.833333333333333,
           4.5,
           5.166666666666666,
           5.833333333333333,
           6.5,
           7.166666666666666,
           7.833333333333333,
           8.5
          ],
          [
           2.5,
           3.1666666666666665,
           3.833333333333333,
           4.5,
           5.166666666666666,
           5.833333333333333,
           6.5,
           7.166666666666666,
           7.833333333333333,
           8.5
          ],
          [
           2.5,
           3.1666666666666665,
           3.833333333333333,
           4.5,
           5.166666666666666,
           5.833333333333333,
           6.5,
           7.166666666666666,
           7.833333333333333,
           8.5
          ],
          [
           2.5,
           3.1666666666666665,
           3.833333333333333,
           4.5,
           5.166666666666666,
           5.833333333333333,
           6.5,
           7.166666666666666,
           7.833333333333333,
           8.5
          ],
          [
           2.5,
           3.1666666666666665,
           3.833333333333333,
           4.5,
           5.166666666666666,
           5.833333333333333,
           6.5,
           7.166666666666666,
           7.833333333333333,
           8.5
          ],
          [
           2.5,
           3.1666666666666665,
           3.833333333333333,
           4.5,
           5.166666666666666,
           5.833333333333333,
           6.5,
           7.166666666666666,
           7.833333333333333,
           8.5
          ],
          [
           2.5,
           3.1666666666666665,
           3.833333333333333,
           4.5,
           5.166666666666666,
           5.833333333333333,
           6.5,
           7.166666666666666,
           7.833333333333333,
           8.5
          ],
          [
           2.5,
           3.1666666666666665,
           3.833333333333333,
           4.5,
           5.166666666666666,
           5.833333333333333,
           6.5,
           7.166666666666666,
           7.833333333333333,
           8.5
          ]
         ],
         "y": [
          [
           2,
           2,
           2,
           2,
           2,
           2,
           2,
           2,
           2,
           2
          ],
          [
           2.2222222222222223,
           2.2222222222222223,
           2.2222222222222223,
           2.2222222222222223,
           2.2222222222222223,
           2.2222222222222223,
           2.2222222222222223,
           2.2222222222222223,
           2.2222222222222223,
           2.2222222222222223
          ],
          [
           2.4444444444444446,
           2.4444444444444446,
           2.4444444444444446,
           2.4444444444444446,
           2.4444444444444446,
           2.4444444444444446,
           2.4444444444444446,
           2.4444444444444446,
           2.4444444444444446,
           2.4444444444444446
          ],
          [
           2.6666666666666665,
           2.6666666666666665,
           2.6666666666666665,
           2.6666666666666665,
           2.6666666666666665,
           2.6666666666666665,
           2.6666666666666665,
           2.6666666666666665,
           2.6666666666666665,
           2.6666666666666665
          ],
          [
           2.888888888888889,
           2.888888888888889,
           2.888888888888889,
           2.888888888888889,
           2.888888888888889,
           2.888888888888889,
           2.888888888888889,
           2.888888888888889,
           2.888888888888889,
           2.888888888888889
          ],
          [
           3.111111111111111,
           3.111111111111111,
           3.111111111111111,
           3.111111111111111,
           3.111111111111111,
           3.111111111111111,
           3.111111111111111,
           3.111111111111111,
           3.111111111111111,
           3.111111111111111
          ],
          [
           3.333333333333333,
           3.333333333333333,
           3.333333333333333,
           3.333333333333333,
           3.333333333333333,
           3.333333333333333,
           3.333333333333333,
           3.333333333333333,
           3.333333333333333,
           3.333333333333333
          ],
          [
           3.5555555555555554,
           3.5555555555555554,
           3.5555555555555554,
           3.5555555555555554,
           3.5555555555555554,
           3.5555555555555554,
           3.5555555555555554,
           3.5555555555555554,
           3.5555555555555554,
           3.5555555555555554
          ],
          [
           3.7777777777777777,
           3.7777777777777777,
           3.7777777777777777,
           3.7777777777777777,
           3.7777777777777777,
           3.7777777777777777,
           3.7777777777777777,
           3.7777777777777777,
           3.7777777777777777,
           3.7777777777777777
          ],
          [
           4,
           4,
           4,
           4,
           4,
           4,
           4,
           4,
           4,
           4
          ]
         ],
         "z": [
          [
           243.66859109060087,
           263.6899736938716,
           283.7113562971423,
           303.73273890041304,
           323.75412150368373,
           343.7755041069545,
           363.7968867102252,
           383.8182693134959,
           403.8396519167666,
           423.8610345200374
          ],
          [
           243.66859109060087,
           263.6899736938716,
           283.7113562971423,
           303.73273890041304,
           323.75412150368373,
           343.7755041069545,
           363.7968867102252,
           383.8182693134959,
           403.8396519167666,
           423.8610345200374
          ],
          [
           243.66859109060087,
           263.6899736938716,
           283.7113562971423,
           303.73273890041304,
           323.75412150368373,
           343.7755041069545,
           363.7968867102252,
           383.8182693134959,
           403.8396519167666,
           423.8610345200374
          ],
          [
           243.66859109060087,
           263.6899736938716,
           283.7113562971423,
           303.73273890041304,
           323.75412150368373,
           343.7755041069545,
           363.7968867102252,
           383.8182693134959,
           403.8396519167666,
           423.8610345200374
          ],
          [
           243.66859109060087,
           263.6899736938716,
           283.7113562971423,
           303.73273890041304,
           323.75412150368373,
           343.7755041069545,
           363.7968867102252,
           383.8182693134959,
           403.8396519167666,
           423.8610345200374
          ],
          [
           243.66859109060087,
           263.6899736938716,
           283.7113562971423,
           303.73273890041304,
           323.75412150368373,
           343.7755041069545,
           363.7968867102252,
           383.8182693134959,
           403.8396519167666,
           423.8610345200374
          ],
          [
           243.66859109060087,
           263.6899736938716,
           283.7113562971423,
           303.73273890041304,
           323.75412150368373,
           343.7755041069545,
           363.7968867102252,
           383.8182693134959,
           403.8396519167666,
           423.8610345200374
          ],
          [
           243.66859109060087,
           263.6899736938716,
           283.7113562971423,
           303.73273890041304,
           323.75412150368373,
           343.7755041069545,
           363.7968867102252,
           383.8182693134959,
           403.8396519167666,
           423.8610345200374
          ],
          [
           243.66859109060087,
           263.6899736938716,
           283.7113562971423,
           303.73273890041304,
           323.75412150368373,
           343.7755041069545,
           363.7968867102252,
           383.8182693134959,
           403.8396519167666,
           423.8610345200374
          ],
          [
           243.66859109060087,
           263.6899736938716,
           283.7113562971423,
           303.73273890041304,
           323.75412150368373,
           343.7755041069545,
           363.7968867102252,
           383.8182693134959,
           403.8396519167666,
           423.8610345200374
          ]
         ]
        },
        {
         "coloraxis": "coloraxis",
         "colorbar": {
          "thickness": 5
         },
         "name": "PU+0.1%EG",
         "opacity": 0.6,
         "type": "surface",
         "visible": false,
         "x": [
          [
           2.5,
           3.1666666666666665,
           3.833333333333333,
           4.5,
           5.166666666666666,
           5.833333333333333,
           6.5,
           7.166666666666666,
           7.833333333333333,
           8.5
          ],
          [
           2.5,
           3.1666666666666665,
           3.833333333333333,
           4.5,
           5.166666666666666,
           5.833333333333333,
           6.5,
           7.166666666666666,
           7.833333333333333,
           8.5
          ],
          [
           2.5,
           3.1666666666666665,
           3.833333333333333,
           4.5,
           5.166666666666666,
           5.833333333333333,
           6.5,
           7.166666666666666,
           7.833333333333333,
           8.5
          ],
          [
           2.5,
           3.1666666666666665,
           3.833333333333333,
           4.5,
           5.166666666666666,
           5.833333333333333,
           6.5,
           7.166666666666666,
           7.833333333333333,
           8.5
          ],
          [
           2.5,
           3.1666666666666665,
           3.833333333333333,
           4.5,
           5.166666666666666,
           5.833333333333333,
           6.5,
           7.166666666666666,
           7.833333333333333,
           8.5
          ],
          [
           2.5,
           3.1666666666666665,
           3.833333333333333,
           4.5,
           5.166666666666666,
           5.833333333333333,
           6.5,
           7.166666666666666,
           7.833333333333333,
           8.5
          ],
          [
           2.5,
           3.1666666666666665,
           3.833333333333333,
           4.5,
           5.166666666666666,
           5.833333333333333,
           6.5,
           7.166666666666666,
           7.833333333333333,
           8.5
          ],
          [
           2.5,
           3.1666666666666665,
           3.833333333333333,
           4.5,
           5.166666666666666,
           5.833333333333333,
           6.5,
           7.166666666666666,
           7.833333333333333,
           8.5
          ],
          [
           2.5,
           3.1666666666666665,
           3.833333333333333,
           4.5,
           5.166666666666666,
           5.833333333333333,
           6.5,
           7.166666666666666,
           7.833333333333333,
           8.5
          ],
          [
           2.5,
           3.1666666666666665,
           3.833333333333333,
           4.5,
           5.166666666666666,
           5.833333333333333,
           6.5,
           7.166666666666666,
           7.833333333333333,
           8.5
          ]
         ],
         "y": [
          [
           2,
           2,
           2,
           2,
           2,
           2,
           2,
           2,
           2,
           2
          ],
          [
           2.2222222222222223,
           2.2222222222222223,
           2.2222222222222223,
           2.2222222222222223,
           2.2222222222222223,
           2.2222222222222223,
           2.2222222222222223,
           2.2222222222222223,
           2.2222222222222223,
           2.2222222222222223
          ],
          [
           2.4444444444444446,
           2.4444444444444446,
           2.4444444444444446,
           2.4444444444444446,
           2.4444444444444446,
           2.4444444444444446,
           2.4444444444444446,
           2.4444444444444446,
           2.4444444444444446,
           2.4444444444444446
          ],
          [
           2.6666666666666665,
           2.6666666666666665,
           2.6666666666666665,
           2.6666666666666665,
           2.6666666666666665,
           2.6666666666666665,
           2.6666666666666665,
           2.6666666666666665,
           2.6666666666666665,
           2.6666666666666665
          ],
          [
           2.888888888888889,
           2.888888888888889,
           2.888888888888889,
           2.888888888888889,
           2.888888888888889,
           2.888888888888889,
           2.888888888888889,
           2.888888888888889,
           2.888888888888889,
           2.888888888888889
          ],
          [
           3.111111111111111,
           3.111111111111111,
           3.111111111111111,
           3.111111111111111,
           3.111111111111111,
           3.111111111111111,
           3.111111111111111,
           3.111111111111111,
           3.111111111111111,
           3.111111111111111
          ],
          [
           3.333333333333333,
           3.333333333333333,
           3.333333333333333,
           3.333333333333333,
           3.333333333333333,
           3.333333333333333,
           3.333333333333333,
           3.333333333333333,
           3.333333333333333,
           3.333333333333333
          ],
          [
           3.5555555555555554,
           3.5555555555555554,
           3.5555555555555554,
           3.5555555555555554,
           3.5555555555555554,
           3.5555555555555554,
           3.5555555555555554,
           3.5555555555555554,
           3.5555555555555554,
           3.5555555555555554
          ],
          [
           3.7777777777777777,
           3.7777777777777777,
           3.7777777777777777,
           3.7777777777777777,
           3.7777777777777777,
           3.7777777777777777,
           3.7777777777777777,
           3.7777777777777777,
           3.7777777777777777,
           3.7777777777777777
          ],
          [
           4,
           4,
           4,
           4,
           4,
           4,
           4,
           4,
           4,
           4
          ]
         ],
         "z": [
          [
           246.23653960221003,
           266.2579222054807,
           286.2793048087514,
           306.30068741202217,
           326.32207001529287,
           346.3434526185636,
           366.3648352218343,
           386.386217825105,
           406.40760042837576,
           426.4289830316465
          ],
          [
           246.23653960221003,
           266.2579222054807,
           286.2793048087514,
           306.30068741202217,
           326.32207001529287,
           346.3434526185636,
           366.3648352218343,
           386.386217825105,
           406.40760042837576,
           426.4289830316465
          ],
          [
           246.23653960221003,
           266.2579222054807,
           286.2793048087514,
           306.30068741202217,
           326.32207001529287,
           346.3434526185636,
           366.3648352218343,
           386.386217825105,
           406.40760042837576,
           426.4289830316465
          ],
          [
           246.23653960221003,
           266.2579222054807,
           286.2793048087514,
           306.30068741202217,
           326.32207001529287,
           346.3434526185636,
           366.3648352218343,
           386.386217825105,
           406.40760042837576,
           426.4289830316465
          ],
          [
           246.23653960221003,
           266.2579222054807,
           286.2793048087514,
           306.30068741202217,
           326.32207001529287,
           346.3434526185636,
           366.3648352218343,
           386.386217825105,
           406.40760042837576,
           426.4289830316465
          ],
          [
           246.23653960221003,
           266.2579222054807,
           286.2793048087514,
           306.30068741202217,
           326.32207001529287,
           346.3434526185636,
           366.3648352218343,
           386.386217825105,
           406.40760042837576,
           426.4289830316465
          ],
          [
           246.23653960221003,
           266.2579222054807,
           286.2793048087514,
           306.30068741202217,
           326.32207001529287,
           346.3434526185636,
           366.3648352218343,
           386.386217825105,
           406.40760042837576,
           426.4289830316465
          ],
          [
           246.23653960221003,
           266.2579222054807,
           286.2793048087514,
           306.30068741202217,
           326.32207001529287,
           346.3434526185636,
           366.3648352218343,
           386.386217825105,
           406.40760042837576,
           426.4289830316465
          ],
          [
           246.23653960221003,
           266.2579222054807,
           286.2793048087514,
           306.30068741202217,
           326.32207001529287,
           346.3434526185636,
           366.3648352218343,
           386.386217825105,
           406.40760042837576,
           426.4289830316465
          ],
          [
           246.23653960221003,
           266.2579222054807,
           286.2793048087514,
           306.30068741202217,
           326.32207001529287,
           346.3434526185636,
           366.3648352218343,
           386.386217825105,
           406.40760042837576,
           426.4289830316465
          ]
         ]
        },
        {
         "coloraxis": "coloraxis",
         "colorbar": {
          "thickness": 5
         },
         "name": "PU+0.2%EG",
         "opacity": 0.6,
         "type": "surface",
         "visible": false,
         "x": [
          [
           2.5,
           3.1666666666666665,
           3.833333333333333,
           4.5,
           5.166666666666666,
           5.833333333333333,
           6.5,
           7.166666666666666,
           7.833333333333333,
           8.5
          ],
          [
           2.5,
           3.1666666666666665,
           3.833333333333333,
           4.5,
           5.166666666666666,
           5.833333333333333,
           6.5,
           7.166666666666666,
           7.833333333333333,
           8.5
          ],
          [
           2.5,
           3.1666666666666665,
           3.833333333333333,
           4.5,
           5.166666666666666,
           5.833333333333333,
           6.5,
           7.166666666666666,
           7.833333333333333,
           8.5
          ],
          [
           2.5,
           3.1666666666666665,
           3.833333333333333,
           4.5,
           5.166666666666666,
           5.833333333333333,
           6.5,
           7.166666666666666,
           7.833333333333333,
           8.5
          ],
          [
           2.5,
           3.1666666666666665,
           3.833333333333333,
           4.5,
           5.166666666666666,
           5.833333333333333,
           6.5,
           7.166666666666666,
           7.833333333333333,
           8.5
          ],
          [
           2.5,
           3.1666666666666665,
           3.833333333333333,
           4.5,
           5.166666666666666,
           5.833333333333333,
           6.5,
           7.166666666666666,
           7.833333333333333,
           8.5
          ],
          [
           2.5,
           3.1666666666666665,
           3.833333333333333,
           4.5,
           5.166666666666666,
           5.833333333333333,
           6.5,
           7.166666666666666,
           7.833333333333333,
           8.5
          ],
          [
           2.5,
           3.1666666666666665,
           3.833333333333333,
           4.5,
           5.166666666666666,
           5.833333333333333,
           6.5,
           7.166666666666666,
           7.833333333333333,
           8.5
          ],
          [
           2.5,
           3.1666666666666665,
           3.833333333333333,
           4.5,
           5.166666666666666,
           5.833333333333333,
           6.5,
           7.166666666666666,
           7.833333333333333,
           8.5
          ],
          [
           2.5,
           3.1666666666666665,
           3.833333333333333,
           4.5,
           5.166666666666666,
           5.833333333333333,
           6.5,
           7.166666666666666,
           7.833333333333333,
           8.5
          ]
         ],
         "y": [
          [
           2,
           2,
           2,
           2,
           2,
           2,
           2,
           2,
           2,
           2
          ],
          [
           2.2222222222222223,
           2.2222222222222223,
           2.2222222222222223,
           2.2222222222222223,
           2.2222222222222223,
           2.2222222222222223,
           2.2222222222222223,
           2.2222222222222223,
           2.2222222222222223,
           2.2222222222222223
          ],
          [
           2.4444444444444446,
           2.4444444444444446,
           2.4444444444444446,
           2.4444444444444446,
           2.4444444444444446,
           2.4444444444444446,
           2.4444444444444446,
           2.4444444444444446,
           2.4444444444444446,
           2.4444444444444446
          ],
          [
           2.6666666666666665,
           2.6666666666666665,
           2.6666666666666665,
           2.6666666666666665,
           2.6666666666666665,
           2.6666666666666665,
           2.6666666666666665,
           2.6666666666666665,
           2.6666666666666665,
           2.6666666666666665
          ],
          [
           2.888888888888889,
           2.888888888888889,
           2.888888888888889,
           2.888888888888889,
           2.888888888888889,
           2.888888888888889,
           2.888888888888889,
           2.888888888888889,
           2.888888888888889,
           2.888888888888889
          ],
          [
           3.111111111111111,
           3.111111111111111,
           3.111111111111111,
           3.111111111111111,
           3.111111111111111,
           3.111111111111111,
           3.111111111111111,
           3.111111111111111,
           3.111111111111111,
           3.111111111111111
          ],
          [
           3.333333333333333,
           3.333333333333333,
           3.333333333333333,
           3.333333333333333,
           3.333333333333333,
           3.333333333333333,
           3.333333333333333,
           3.333333333333333,
           3.333333333333333,
           3.333333333333333
          ],
          [
           3.5555555555555554,
           3.5555555555555554,
           3.5555555555555554,
           3.5555555555555554,
           3.5555555555555554,
           3.5555555555555554,
           3.5555555555555554,
           3.5555555555555554,
           3.5555555555555554,
           3.5555555555555554
          ],
          [
           3.7777777777777777,
           3.7777777777777777,
           3.7777777777777777,
           3.7777777777777777,
           3.7777777777777777,
           3.7777777777777777,
           3.7777777777777777,
           3.7777777777777777,
           3.7777777777777777,
           3.7777777777777777
          ],
          [
           4,
           4,
           4,
           4,
           4,
           4,
           4,
           4,
           4,
           4
          ]
         ],
         "z": [
          [
           248.8044881138192,
           268.8258707170899,
           288.8472533203606,
           308.86863592363136,
           328.89001852690205,
           348.9114011301728,
           368.9327837334435,
           388.9541663367142,
           408.97554893998495,
           428.9969315432557
          ],
          [
           248.8044881138192,
           268.8258707170899,
           288.8472533203606,
           308.86863592363136,
           328.89001852690205,
           348.9114011301728,
           368.9327837334435,
           388.9541663367142,
           408.97554893998495,
           428.9969315432557
          ],
          [
           248.8044881138192,
           268.8258707170899,
           288.8472533203606,
           308.86863592363136,
           328.89001852690205,
           348.9114011301728,
           368.9327837334435,
           388.9541663367142,
           408.97554893998495,
           428.9969315432557
          ],
          [
           248.8044881138192,
           268.8258707170899,
           288.8472533203606,
           308.86863592363136,
           328.89001852690205,
           348.9114011301728,
           368.9327837334435,
           388.9541663367142,
           408.97554893998495,
           428.9969315432557
          ],
          [
           248.8044881138192,
           268.8258707170899,
           288.8472533203606,
           308.86863592363136,
           328.89001852690205,
           348.9114011301728,
           368.9327837334435,
           388.9541663367142,
           408.97554893998495,
           428.9969315432557
          ],
          [
           248.8044881138192,
           268.8258707170899,
           288.8472533203606,
           308.86863592363136,
           328.89001852690205,
           348.9114011301728,
           368.9327837334435,
           388.9541663367142,
           408.97554893998495,
           428.9969315432557
          ],
          [
           248.8044881138192,
           268.8258707170899,
           288.8472533203606,
           308.86863592363136,
           328.89001852690205,
           348.9114011301728,
           368.9327837334435,
           388.9541663367142,
           408.97554893998495,
           428.9969315432557
          ],
          [
           248.8044881138192,
           268.8258707170899,
           288.8472533203606,
           308.86863592363136,
           328.89001852690205,
           348.9114011301728,
           368.9327837334435,
           388.9541663367142,
           408.97554893998495,
           428.9969315432557
          ],
          [
           248.8044881138192,
           268.8258707170899,
           288.8472533203606,
           308.86863592363136,
           328.89001852690205,
           348.9114011301728,
           368.9327837334435,
           388.9541663367142,
           408.97554893998495,
           428.9969315432557
          ],
          [
           248.8044881138192,
           268.8258707170899,
           288.8472533203606,
           308.86863592363136,
           328.89001852690205,
           348.9114011301728,
           368.9327837334435,
           388.9541663367142,
           408.97554893998495,
           428.9969315432557
          ]
         ]
        },
        {
         "coloraxis": "coloraxis",
         "colorbar": {
          "thickness": 5
         },
         "name": "PU+0.3%EG",
         "opacity": 0.6,
         "type": "surface",
         "visible": false,
         "x": [
          [
           2.5,
           3.1666666666666665,
           3.833333333333333,
           4.5,
           5.166666666666666,
           5.833333333333333,
           6.5,
           7.166666666666666,
           7.833333333333333,
           8.5
          ],
          [
           2.5,
           3.1666666666666665,
           3.833333333333333,
           4.5,
           5.166666666666666,
           5.833333333333333,
           6.5,
           7.166666666666666,
           7.833333333333333,
           8.5
          ],
          [
           2.5,
           3.1666666666666665,
           3.833333333333333,
           4.5,
           5.166666666666666,
           5.833333333333333,
           6.5,
           7.166666666666666,
           7.833333333333333,
           8.5
          ],
          [
           2.5,
           3.1666666666666665,
           3.833333333333333,
           4.5,
           5.166666666666666,
           5.833333333333333,
           6.5,
           7.166666666666666,
           7.833333333333333,
           8.5
          ],
          [
           2.5,
           3.1666666666666665,
           3.833333333333333,
           4.5,
           5.166666666666666,
           5.833333333333333,
           6.5,
           7.166666666666666,
           7.833333333333333,
           8.5
          ],
          [
           2.5,
           3.1666666666666665,
           3.833333333333333,
           4.5,
           5.166666666666666,
           5.833333333333333,
           6.5,
           7.166666666666666,
           7.833333333333333,
           8.5
          ],
          [
           2.5,
           3.1666666666666665,
           3.833333333333333,
           4.5,
           5.166666666666666,
           5.833333333333333,
           6.5,
           7.166666666666666,
           7.833333333333333,
           8.5
          ],
          [
           2.5,
           3.1666666666666665,
           3.833333333333333,
           4.5,
           5.166666666666666,
           5.833333333333333,
           6.5,
           7.166666666666666,
           7.833333333333333,
           8.5
          ],
          [
           2.5,
           3.1666666666666665,
           3.833333333333333,
           4.5,
           5.166666666666666,
           5.833333333333333,
           6.5,
           7.166666666666666,
           7.833333333333333,
           8.5
          ],
          [
           2.5,
           3.1666666666666665,
           3.833333333333333,
           4.5,
           5.166666666666666,
           5.833333333333333,
           6.5,
           7.166666666666666,
           7.833333333333333,
           8.5
          ]
         ],
         "y": [
          [
           2,
           2,
           2,
           2,
           2,
           2,
           2,
           2,
           2,
           2
          ],
          [
           2.2222222222222223,
           2.2222222222222223,
           2.2222222222222223,
           2.2222222222222223,
           2.2222222222222223,
           2.2222222222222223,
           2.2222222222222223,
           2.2222222222222223,
           2.2222222222222223,
           2.2222222222222223
          ],
          [
           2.4444444444444446,
           2.4444444444444446,
           2.4444444444444446,
           2.4444444444444446,
           2.4444444444444446,
           2.4444444444444446,
           2.4444444444444446,
           2.4444444444444446,
           2.4444444444444446,
           2.4444444444444446
          ],
          [
           2.6666666666666665,
           2.6666666666666665,
           2.6666666666666665,
           2.6666666666666665,
           2.6666666666666665,
           2.6666666666666665,
           2.6666666666666665,
           2.6666666666666665,
           2.6666666666666665,
           2.6666666666666665
          ],
          [
           2.888888888888889,
           2.888888888888889,
           2.888888888888889,
           2.888888888888889,
           2.888888888888889,
           2.888888888888889,
           2.888888888888889,
           2.888888888888889,
           2.888888888888889,
           2.888888888888889
          ],
          [
           3.111111111111111,
           3.111111111111111,
           3.111111111111111,
           3.111111111111111,
           3.111111111111111,
           3.111111111111111,
           3.111111111111111,
           3.111111111111111,
           3.111111111111111,
           3.111111111111111
          ],
          [
           3.333333333333333,
           3.333333333333333,
           3.333333333333333,
           3.333333333333333,
           3.333333333333333,
           3.333333333333333,
           3.333333333333333,
           3.333333333333333,
           3.333333333333333,
           3.333333333333333
          ],
          [
           3.5555555555555554,
           3.5555555555555554,
           3.5555555555555554,
           3.5555555555555554,
           3.5555555555555554,
           3.5555555555555554,
           3.5555555555555554,
           3.5555555555555554,
           3.5555555555555554,
           3.5555555555555554
          ],
          [
           3.7777777777777777,
           3.7777777777777777,
           3.7777777777777777,
           3.7777777777777777,
           3.7777777777777777,
           3.7777777777777777,
           3.7777777777777777,
           3.7777777777777777,
           3.7777777777777777,
           3.7777777777777777
          ],
          [
           4,
           4,
           4,
           4,
           4,
           4,
           4,
           4,
           4,
           4
          ]
         ],
         "z": [
          [
           251.37243662542835,
           271.39381922869904,
           291.41520183196974,
           311.4365844352405,
           331.4579670385112,
           351.47934964178194,
           371.50073224505263,
           391.5221148483233,
           411.5434974515941,
           431.56488005486483
          ],
          [
           251.37243662542835,
           271.39381922869904,
           291.41520183196974,
           311.4365844352405,
           331.4579670385112,
           351.47934964178194,
           371.50073224505263,
           391.5221148483233,
           411.5434974515941,
           431.56488005486483
          ],
          [
           251.37243662542835,
           271.39381922869904,
           291.41520183196974,
           311.4365844352405,
           331.4579670385112,
           351.47934964178194,
           371.50073224505263,
           391.5221148483233,
           411.5434974515941,
           431.56488005486483
          ],
          [
           251.37243662542835,
           271.39381922869904,
           291.41520183196974,
           311.4365844352405,
           331.4579670385112,
           351.47934964178194,
           371.50073224505263,
           391.5221148483233,
           411.5434974515941,
           431.56488005486483
          ],
          [
           251.37243662542835,
           271.39381922869904,
           291.41520183196974,
           311.4365844352405,
           331.4579670385112,
           351.47934964178194,
           371.50073224505263,
           391.5221148483233,
           411.5434974515941,
           431.56488005486483
          ],
          [
           251.37243662542835,
           271.39381922869904,
           291.41520183196974,
           311.4365844352405,
           331.4579670385112,
           351.47934964178194,
           371.50073224505263,
           391.5221148483233,
           411.5434974515941,
           431.56488005486483
          ],
          [
           251.37243662542835,
           271.39381922869904,
           291.41520183196974,
           311.4365844352405,
           331.4579670385112,
           351.47934964178194,
           371.50073224505263,
           391.5221148483233,
           411.5434974515941,
           431.56488005486483
          ],
          [
           251.37243662542835,
           271.39381922869904,
           291.41520183196974,
           311.4365844352405,
           331.4579670385112,
           351.47934964178194,
           371.50073224505263,
           391.5221148483233,
           411.5434974515941,
           431.56488005486483
          ],
          [
           251.37243662542835,
           271.39381922869904,
           291.41520183196974,
           311.4365844352405,
           331.4579670385112,
           351.47934964178194,
           371.50073224505263,
           391.5221148483233,
           411.5434974515941,
           431.56488005486483
          ],
          [
           251.37243662542835,
           271.39381922869904,
           291.41520183196974,
           311.4365844352405,
           331.4579670385112,
           351.47934964178194,
           371.50073224505263,
           391.5221148483233,
           411.5434974515941,
           431.56488005486483
          ]
         ]
        },
        {
         "coloraxis": "coloraxis",
         "colorbar": {
          "thickness": 5
         },
         "name": "PU+0.4%EG",
         "opacity": 0.6,
         "type": "surface",
         "visible": false,
         "x": [
          [
           2.5,
           3.1666666666666665,
           3.833333333333333,
           4.5,
           5.166666666666666,
           5.833333333333333,
           6.5,
           7.166666666666666,
           7.833333333333333,
           8.5
          ],
          [
           2.5,
           3.1666666666666665,
           3.833333333333333,
           4.5,
           5.166666666666666,
           5.833333333333333,
           6.5,
           7.166666666666666,
           7.833333333333333,
           8.5
          ],
          [
           2.5,
           3.1666666666666665,
           3.833333333333333,
           4.5,
           5.166666666666666,
           5.833333333333333,
           6.5,
           7.166666666666666,
           7.833333333333333,
           8.5
          ],
          [
           2.5,
           3.1666666666666665,
           3.833333333333333,
           4.5,
           5.166666666666666,
           5.833333333333333,
           6.5,
           7.166666666666666,
           7.833333333333333,
           8.5
          ],
          [
           2.5,
           3.1666666666666665,
           3.833333333333333,
           4.5,
           5.166666666666666,
           5.833333333333333,
           6.5,
           7.166666666666666,
           7.833333333333333,
           8.5
          ],
          [
           2.5,
           3.1666666666666665,
           3.833333333333333,
           4.5,
           5.166666666666666,
           5.833333333333333,
           6.5,
           7.166666666666666,
           7.833333333333333,
           8.5
          ],
          [
           2.5,
           3.1666666666666665,
           3.833333333333333,
           4.5,
           5.166666666666666,
           5.833333333333333,
           6.5,
           7.166666666666666,
           7.833333333333333,
           8.5
          ],
          [
           2.5,
           3.1666666666666665,
           3.833333333333333,
           4.5,
           5.166666666666666,
           5.833333333333333,
           6.5,
           7.166666666666666,
           7.833333333333333,
           8.5
          ],
          [
           2.5,
           3.1666666666666665,
           3.833333333333333,
           4.5,
           5.166666666666666,
           5.833333333333333,
           6.5,
           7.166666666666666,
           7.833333333333333,
           8.5
          ],
          [
           2.5,
           3.1666666666666665,
           3.833333333333333,
           4.5,
           5.166666666666666,
           5.833333333333333,
           6.5,
           7.166666666666666,
           7.833333333333333,
           8.5
          ]
         ],
         "y": [
          [
           2,
           2,
           2,
           2,
           2,
           2,
           2,
           2,
           2,
           2
          ],
          [
           2.2222222222222223,
           2.2222222222222223,
           2.2222222222222223,
           2.2222222222222223,
           2.2222222222222223,
           2.2222222222222223,
           2.2222222222222223,
           2.2222222222222223,
           2.2222222222222223,
           2.2222222222222223
          ],
          [
           2.4444444444444446,
           2.4444444444444446,
           2.4444444444444446,
           2.4444444444444446,
           2.4444444444444446,
           2.4444444444444446,
           2.4444444444444446,
           2.4444444444444446,
           2.4444444444444446,
           2.4444444444444446
          ],
          [
           2.6666666666666665,
           2.6666666666666665,
           2.6666666666666665,
           2.6666666666666665,
           2.6666666666666665,
           2.6666666666666665,
           2.6666666666666665,
           2.6666666666666665,
           2.6666666666666665,
           2.6666666666666665
          ],
          [
           2.888888888888889,
           2.888888888888889,
           2.888888888888889,
           2.888888888888889,
           2.888888888888889,
           2.888888888888889,
           2.888888888888889,
           2.888888888888889,
           2.888888888888889,
           2.888888888888889
          ],
          [
           3.111111111111111,
           3.111111111111111,
           3.111111111111111,
           3.111111111111111,
           3.111111111111111,
           3.111111111111111,
           3.111111111111111,
           3.111111111111111,
           3.111111111111111,
           3.111111111111111
          ],
          [
           3.333333333333333,
           3.333333333333333,
           3.333333333333333,
           3.333333333333333,
           3.333333333333333,
           3.333333333333333,
           3.333333333333333,
           3.333333333333333,
           3.333333333333333,
           3.333333333333333
          ],
          [
           3.5555555555555554,
           3.5555555555555554,
           3.5555555555555554,
           3.5555555555555554,
           3.5555555555555554,
           3.5555555555555554,
           3.5555555555555554,
           3.5555555555555554,
           3.5555555555555554,
           3.5555555555555554
          ],
          [
           3.7777777777777777,
           3.7777777777777777,
           3.7777777777777777,
           3.7777777777777777,
           3.7777777777777777,
           3.7777777777777777,
           3.7777777777777777,
           3.7777777777777777,
           3.7777777777777777,
           3.7777777777777777
          ],
          [
           4,
           4,
           4,
           4,
           4,
           4,
           4,
           4,
           4,
           4
          ]
         ],
         "z": [
          [
           253.94038513703748,
           273.96176774030823,
           293.9831503435789,
           314.0045329468497,
           334.0259155501204,
           354.0472981533911,
           374.0686807566618,
           394.0900633599325,
           414.11144596320327,
           434.132828566474
          ],
          [
           253.94038513703748,
           273.96176774030823,
           293.9831503435789,
           314.0045329468497,
           334.0259155501204,
           354.0472981533911,
           374.0686807566618,
           394.0900633599325,
           414.11144596320327,
           434.132828566474
          ],
          [
           253.94038513703748,
           273.96176774030823,
           293.9831503435789,
           314.0045329468497,
           334.0259155501204,
           354.0472981533911,
           374.0686807566618,
           394.0900633599325,
           414.11144596320327,
           434.132828566474
          ],
          [
           253.94038513703748,
           273.96176774030823,
           293.9831503435789,
           314.0045329468497,
           334.0259155501204,
           354.0472981533911,
           374.0686807566618,
           394.0900633599325,
           414.11144596320327,
           434.132828566474
          ],
          [
           253.94038513703748,
           273.96176774030823,
           293.9831503435789,
           314.0045329468497,
           334.0259155501204,
           354.0472981533911,
           374.0686807566618,
           394.0900633599325,
           414.11144596320327,
           434.132828566474
          ],
          [
           253.94038513703748,
           273.96176774030823,
           293.9831503435789,
           314.0045329468497,
           334.0259155501204,
           354.0472981533911,
           374.0686807566618,
           394.0900633599325,
           414.11144596320327,
           434.132828566474
          ],
          [
           253.94038513703748,
           273.96176774030823,
           293.9831503435789,
           314.0045329468497,
           334.0259155501204,
           354.0472981533911,
           374.0686807566618,
           394.0900633599325,
           414.11144596320327,
           434.132828566474
          ],
          [
           253.94038513703748,
           273.96176774030823,
           293.9831503435789,
           314.0045329468497,
           334.0259155501204,
           354.0472981533911,
           374.0686807566618,
           394.0900633599325,
           414.11144596320327,
           434.132828566474
          ],
          [
           253.94038513703748,
           273.96176774030823,
           293.9831503435789,
           314.0045329468497,
           334.0259155501204,
           354.0472981533911,
           374.0686807566618,
           394.0900633599325,
           414.11144596320327,
           434.132828566474
          ],
          [
           253.94038513703748,
           273.96176774030823,
           293.9831503435789,
           314.0045329468497,
           334.0259155501204,
           354.0472981533911,
           374.0686807566618,
           394.0900633599325,
           414.11144596320327,
           434.132828566474
          ]
         ]
        },
        {
         "coloraxis": "coloraxis",
         "colorbar": {
          "thickness": 5
         },
         "name": "PU+0.5%EG",
         "opacity": 0.6,
         "type": "surface",
         "visible": false,
         "x": [
          [
           2.5,
           3.1666666666666665,
           3.833333333333333,
           4.5,
           5.166666666666666,
           5.833333333333333,
           6.5,
           7.166666666666666,
           7.833333333333333,
           8.5
          ],
          [
           2.5,
           3.1666666666666665,
           3.833333333333333,
           4.5,
           5.166666666666666,
           5.833333333333333,
           6.5,
           7.166666666666666,
           7.833333333333333,
           8.5
          ],
          [
           2.5,
           3.1666666666666665,
           3.833333333333333,
           4.5,
           5.166666666666666,
           5.833333333333333,
           6.5,
           7.166666666666666,
           7.833333333333333,
           8.5
          ],
          [
           2.5,
           3.1666666666666665,
           3.833333333333333,
           4.5,
           5.166666666666666,
           5.833333333333333,
           6.5,
           7.166666666666666,
           7.833333333333333,
           8.5
          ],
          [
           2.5,
           3.1666666666666665,
           3.833333333333333,
           4.5,
           5.166666666666666,
           5.833333333333333,
           6.5,
           7.166666666666666,
           7.833333333333333,
           8.5
          ],
          [
           2.5,
           3.1666666666666665,
           3.833333333333333,
           4.5,
           5.166666666666666,
           5.833333333333333,
           6.5,
           7.166666666666666,
           7.833333333333333,
           8.5
          ],
          [
           2.5,
           3.1666666666666665,
           3.833333333333333,
           4.5,
           5.166666666666666,
           5.833333333333333,
           6.5,
           7.166666666666666,
           7.833333333333333,
           8.5
          ],
          [
           2.5,
           3.1666666666666665,
           3.833333333333333,
           4.5,
           5.166666666666666,
           5.833333333333333,
           6.5,
           7.166666666666666,
           7.833333333333333,
           8.5
          ],
          [
           2.5,
           3.1666666666666665,
           3.833333333333333,
           4.5,
           5.166666666666666,
           5.833333333333333,
           6.5,
           7.166666666666666,
           7.833333333333333,
           8.5
          ],
          [
           2.5,
           3.1666666666666665,
           3.833333333333333,
           4.5,
           5.166666666666666,
           5.833333333333333,
           6.5,
           7.166666666666666,
           7.833333333333333,
           8.5
          ]
         ],
         "y": [
          [
           2,
           2,
           2,
           2,
           2,
           2,
           2,
           2,
           2,
           2
          ],
          [
           2.2222222222222223,
           2.2222222222222223,
           2.2222222222222223,
           2.2222222222222223,
           2.2222222222222223,
           2.2222222222222223,
           2.2222222222222223,
           2.2222222222222223,
           2.2222222222222223,
           2.2222222222222223
          ],
          [
           2.4444444444444446,
           2.4444444444444446,
           2.4444444444444446,
           2.4444444444444446,
           2.4444444444444446,
           2.4444444444444446,
           2.4444444444444446,
           2.4444444444444446,
           2.4444444444444446,
           2.4444444444444446
          ],
          [
           2.6666666666666665,
           2.6666666666666665,
           2.6666666666666665,
           2.6666666666666665,
           2.6666666666666665,
           2.6666666666666665,
           2.6666666666666665,
           2.6666666666666665,
           2.6666666666666665,
           2.6666666666666665
          ],
          [
           2.888888888888889,
           2.888888888888889,
           2.888888888888889,
           2.888888888888889,
           2.888888888888889,
           2.888888888888889,
           2.888888888888889,
           2.888888888888889,
           2.888888888888889,
           2.888888888888889
          ],
          [
           3.111111111111111,
           3.111111111111111,
           3.111111111111111,
           3.111111111111111,
           3.111111111111111,
           3.111111111111111,
           3.111111111111111,
           3.111111111111111,
           3.111111111111111,
           3.111111111111111
          ],
          [
           3.333333333333333,
           3.333333333333333,
           3.333333333333333,
           3.333333333333333,
           3.333333333333333,
           3.333333333333333,
           3.333333333333333,
           3.333333333333333,
           3.333333333333333,
           3.333333333333333
          ],
          [
           3.5555555555555554,
           3.5555555555555554,
           3.5555555555555554,
           3.5555555555555554,
           3.5555555555555554,
           3.5555555555555554,
           3.5555555555555554,
           3.5555555555555554,
           3.5555555555555554,
           3.5555555555555554
          ],
          [
           3.7777777777777777,
           3.7777777777777777,
           3.7777777777777777,
           3.7777777777777777,
           3.7777777777777777,
           3.7777777777777777,
           3.7777777777777777,
           3.7777777777777777,
           3.7777777777777777,
           3.7777777777777777
          ],
          [
           4,
           4,
           4,
           4,
           4,
           4,
           4,
           4,
           4,
           4
          ]
         ],
         "z": [
          [
           256.50833364864667,
           276.52971625191736,
           296.55109885518806,
           316.5724814584588,
           336.5938640617295,
           356.61524666500026,
           376.63662926827095,
           396.65801187154165,
           416.6793944748124,
           436.70077707808315
          ],
          [
           256.50833364864667,
           276.52971625191736,
           296.55109885518806,
           316.5724814584588,
           336.5938640617295,
           356.61524666500026,
           376.63662926827095,
           396.65801187154165,
           416.6793944748124,
           436.70077707808315
          ],
          [
           256.50833364864667,
           276.52971625191736,
           296.55109885518806,
           316.5724814584588,
           336.5938640617295,
           356.61524666500026,
           376.63662926827095,
           396.65801187154165,
           416.6793944748124,
           436.70077707808315
          ],
          [
           256.50833364864667,
           276.52971625191736,
           296.55109885518806,
           316.5724814584588,
           336.5938640617295,
           356.61524666500026,
           376.63662926827095,
           396.65801187154165,
           416.6793944748124,
           436.70077707808315
          ],
          [
           256.50833364864667,
           276.52971625191736,
           296.55109885518806,
           316.5724814584588,
           336.5938640617295,
           356.61524666500026,
           376.63662926827095,
           396.65801187154165,
           416.6793944748124,
           436.70077707808315
          ],
          [
           256.50833364864667,
           276.52971625191736,
           296.55109885518806,
           316.5724814584588,
           336.5938640617295,
           356.61524666500026,
           376.63662926827095,
           396.65801187154165,
           416.6793944748124,
           436.70077707808315
          ],
          [
           256.50833364864667,
           276.52971625191736,
           296.55109885518806,
           316.5724814584588,
           336.5938640617295,
           356.61524666500026,
           376.63662926827095,
           396.65801187154165,
           416.6793944748124,
           436.70077707808315
          ],
          [
           256.50833364864667,
           276.52971625191736,
           296.55109885518806,
           316.5724814584588,
           336.5938640617295,
           356.61524666500026,
           376.63662926827095,
           396.65801187154165,
           416.6793944748124,
           436.70077707808315
          ],
          [
           256.50833364864667,
           276.52971625191736,
           296.55109885518806,
           316.5724814584588,
           336.5938640617295,
           356.61524666500026,
           376.63662926827095,
           396.65801187154165,
           416.6793944748124,
           436.70077707808315
          ],
          [
           256.50833364864667,
           276.52971625191736,
           296.55109885518806,
           316.5724814584588,
           336.5938640617295,
           356.61524666500026,
           376.63662926827095,
           396.65801187154165,
           416.6793944748124,
           436.70077707808315
          ]
         ]
        },
        {
         "coloraxis": "coloraxis",
         "colorbar": {
          "thickness": 5
         },
         "name": "PU+0.6%EG",
         "opacity": 0.6,
         "type": "surface",
         "visible": false,
         "x": [
          [
           2.5,
           3.1666666666666665,
           3.833333333333333,
           4.5,
           5.166666666666666,
           5.833333333333333,
           6.5,
           7.166666666666666,
           7.833333333333333,
           8.5
          ],
          [
           2.5,
           3.1666666666666665,
           3.833333333333333,
           4.5,
           5.166666666666666,
           5.833333333333333,
           6.5,
           7.166666666666666,
           7.833333333333333,
           8.5
          ],
          [
           2.5,
           3.1666666666666665,
           3.833333333333333,
           4.5,
           5.166666666666666,
           5.833333333333333,
           6.5,
           7.166666666666666,
           7.833333333333333,
           8.5
          ],
          [
           2.5,
           3.1666666666666665,
           3.833333333333333,
           4.5,
           5.166666666666666,
           5.833333333333333,
           6.5,
           7.166666666666666,
           7.833333333333333,
           8.5
          ],
          [
           2.5,
           3.1666666666666665,
           3.833333333333333,
           4.5,
           5.166666666666666,
           5.833333333333333,
           6.5,
           7.166666666666666,
           7.833333333333333,
           8.5
          ],
          [
           2.5,
           3.1666666666666665,
           3.833333333333333,
           4.5,
           5.166666666666666,
           5.833333333333333,
           6.5,
           7.166666666666666,
           7.833333333333333,
           8.5
          ],
          [
           2.5,
           3.1666666666666665,
           3.833333333333333,
           4.5,
           5.166666666666666,
           5.833333333333333,
           6.5,
           7.166666666666666,
           7.833333333333333,
           8.5
          ],
          [
           2.5,
           3.1666666666666665,
           3.833333333333333,
           4.5,
           5.166666666666666,
           5.833333333333333,
           6.5,
           7.166666666666666,
           7.833333333333333,
           8.5
          ],
          [
           2.5,
           3.1666666666666665,
           3.833333333333333,
           4.5,
           5.166666666666666,
           5.833333333333333,
           6.5,
           7.166666666666666,
           7.833333333333333,
           8.5
          ],
          [
           2.5,
           3.1666666666666665,
           3.833333333333333,
           4.5,
           5.166666666666666,
           5.833333333333333,
           6.5,
           7.166666666666666,
           7.833333333333333,
           8.5
          ]
         ],
         "y": [
          [
           2,
           2,
           2,
           2,
           2,
           2,
           2,
           2,
           2,
           2
          ],
          [
           2.2222222222222223,
           2.2222222222222223,
           2.2222222222222223,
           2.2222222222222223,
           2.2222222222222223,
           2.2222222222222223,
           2.2222222222222223,
           2.2222222222222223,
           2.2222222222222223,
           2.2222222222222223
          ],
          [
           2.4444444444444446,
           2.4444444444444446,
           2.4444444444444446,
           2.4444444444444446,
           2.4444444444444446,
           2.4444444444444446,
           2.4444444444444446,
           2.4444444444444446,
           2.4444444444444446,
           2.4444444444444446
          ],
          [
           2.6666666666666665,
           2.6666666666666665,
           2.6666666666666665,
           2.6666666666666665,
           2.6666666666666665,
           2.6666666666666665,
           2.6666666666666665,
           2.6666666666666665,
           2.6666666666666665,
           2.6666666666666665
          ],
          [
           2.888888888888889,
           2.888888888888889,
           2.888888888888889,
           2.888888888888889,
           2.888888888888889,
           2.888888888888889,
           2.888888888888889,
           2.888888888888889,
           2.888888888888889,
           2.888888888888889
          ],
          [
           3.111111111111111,
           3.111111111111111,
           3.111111111111111,
           3.111111111111111,
           3.111111111111111,
           3.111111111111111,
           3.111111111111111,
           3.111111111111111,
           3.111111111111111,
           3.111111111111111
          ],
          [
           3.333333333333333,
           3.333333333333333,
           3.333333333333333,
           3.333333333333333,
           3.333333333333333,
           3.333333333333333,
           3.333333333333333,
           3.333333333333333,
           3.333333333333333,
           3.333333333333333
          ],
          [
           3.5555555555555554,
           3.5555555555555554,
           3.5555555555555554,
           3.5555555555555554,
           3.5555555555555554,
           3.5555555555555554,
           3.5555555555555554,
           3.5555555555555554,
           3.5555555555555554,
           3.5555555555555554
          ],
          [
           3.7777777777777777,
           3.7777777777777777,
           3.7777777777777777,
           3.7777777777777777,
           3.7777777777777777,
           3.7777777777777777,
           3.7777777777777777,
           3.7777777777777777,
           3.7777777777777777,
           3.7777777777777777
          ],
          [
           4,
           4,
           4,
           4,
           4,
           4,
           4,
           4,
           4,
           4
          ]
         ],
         "z": [
          [
           259.0762821602558,
           279.09766476352655,
           299.11904736679725,
           319.140429970068,
           339.1618125733387,
           359.18319517660944,
           379.20457777988014,
           399.22596038315083,
           419.2473429864216,
           439.26872558969234
          ],
          [
           259.0762821602558,
           279.09766476352655,
           299.11904736679725,
           319.140429970068,
           339.1618125733387,
           359.18319517660944,
           379.20457777988014,
           399.22596038315083,
           419.2473429864216,
           439.26872558969234
          ],
          [
           259.0762821602558,
           279.09766476352655,
           299.11904736679725,
           319.140429970068,
           339.1618125733387,
           359.18319517660944,
           379.20457777988014,
           399.22596038315083,
           419.2473429864216,
           439.26872558969234
          ],
          [
           259.0762821602558,
           279.09766476352655,
           299.11904736679725,
           319.140429970068,
           339.1618125733387,
           359.18319517660944,
           379.20457777988014,
           399.22596038315083,
           419.2473429864216,
           439.26872558969234
          ],
          [
           259.0762821602558,
           279.09766476352655,
           299.11904736679725,
           319.140429970068,
           339.1618125733387,
           359.18319517660944,
           379.20457777988014,
           399.22596038315083,
           419.2473429864216,
           439.26872558969234
          ],
          [
           259.0762821602558,
           279.09766476352655,
           299.11904736679725,
           319.140429970068,
           339.1618125733387,
           359.18319517660944,
           379.20457777988014,
           399.22596038315083,
           419.2473429864216,
           439.26872558969234
          ],
          [
           259.0762821602558,
           279.09766476352655,
           299.11904736679725,
           319.140429970068,
           339.1618125733387,
           359.18319517660944,
           379.20457777988014,
           399.22596038315083,
           419.2473429864216,
           439.26872558969234
          ],
          [
           259.0762821602558,
           279.09766476352655,
           299.11904736679725,
           319.140429970068,
           339.1618125733387,
           359.18319517660944,
           379.20457777988014,
           399.22596038315083,
           419.2473429864216,
           439.26872558969234
          ],
          [
           259.0762821602558,
           279.09766476352655,
           299.11904736679725,
           319.140429970068,
           339.1618125733387,
           359.18319517660944,
           379.20457777988014,
           399.22596038315083,
           419.2473429864216,
           439.26872558969234
          ],
          [
           259.0762821602558,
           279.09766476352655,
           299.11904736679725,
           319.140429970068,
           339.1618125733387,
           359.18319517660944,
           379.20457777988014,
           399.22596038315083,
           419.2473429864216,
           439.26872558969234
          ]
         ]
        },
        {
         "coloraxis": "coloraxis",
         "colorbar": {
          "thickness": 5
         },
         "name": "PU+0.7%EG",
         "opacity": 0.6,
         "type": "surface",
         "visible": false,
         "x": [
          [
           2.5,
           3.1666666666666665,
           3.833333333333333,
           4.5,
           5.166666666666666,
           5.833333333333333,
           6.5,
           7.166666666666666,
           7.833333333333333,
           8.5
          ],
          [
           2.5,
           3.1666666666666665,
           3.833333333333333,
           4.5,
           5.166666666666666,
           5.833333333333333,
           6.5,
           7.166666666666666,
           7.833333333333333,
           8.5
          ],
          [
           2.5,
           3.1666666666666665,
           3.833333333333333,
           4.5,
           5.166666666666666,
           5.833333333333333,
           6.5,
           7.166666666666666,
           7.833333333333333,
           8.5
          ],
          [
           2.5,
           3.1666666666666665,
           3.833333333333333,
           4.5,
           5.166666666666666,
           5.833333333333333,
           6.5,
           7.166666666666666,
           7.833333333333333,
           8.5
          ],
          [
           2.5,
           3.1666666666666665,
           3.833333333333333,
           4.5,
           5.166666666666666,
           5.833333333333333,
           6.5,
           7.166666666666666,
           7.833333333333333,
           8.5
          ],
          [
           2.5,
           3.1666666666666665,
           3.833333333333333,
           4.5,
           5.166666666666666,
           5.833333333333333,
           6.5,
           7.166666666666666,
           7.833333333333333,
           8.5
          ],
          [
           2.5,
           3.1666666666666665,
           3.833333333333333,
           4.5,
           5.166666666666666,
           5.833333333333333,
           6.5,
           7.166666666666666,
           7.833333333333333,
           8.5
          ],
          [
           2.5,
           3.1666666666666665,
           3.833333333333333,
           4.5,
           5.166666666666666,
           5.833333333333333,
           6.5,
           7.166666666666666,
           7.833333333333333,
           8.5
          ],
          [
           2.5,
           3.1666666666666665,
           3.833333333333333,
           4.5,
           5.166666666666666,
           5.833333333333333,
           6.5,
           7.166666666666666,
           7.833333333333333,
           8.5
          ],
          [
           2.5,
           3.1666666666666665,
           3.833333333333333,
           4.5,
           5.166666666666666,
           5.833333333333333,
           6.5,
           7.166666666666666,
           7.833333333333333,
           8.5
          ]
         ],
         "y": [
          [
           2,
           2,
           2,
           2,
           2,
           2,
           2,
           2,
           2,
           2
          ],
          [
           2.2222222222222223,
           2.2222222222222223,
           2.2222222222222223,
           2.2222222222222223,
           2.2222222222222223,
           2.2222222222222223,
           2.2222222222222223,
           2.2222222222222223,
           2.2222222222222223,
           2.2222222222222223
          ],
          [
           2.4444444444444446,
           2.4444444444444446,
           2.4444444444444446,
           2.4444444444444446,
           2.4444444444444446,
           2.4444444444444446,
           2.4444444444444446,
           2.4444444444444446,
           2.4444444444444446,
           2.4444444444444446
          ],
          [
           2.6666666666666665,
           2.6666666666666665,
           2.6666666666666665,
           2.6666666666666665,
           2.6666666666666665,
           2.6666666666666665,
           2.6666666666666665,
           2.6666666666666665,
           2.6666666666666665,
           2.6666666666666665
          ],
          [
           2.888888888888889,
           2.888888888888889,
           2.888888888888889,
           2.888888888888889,
           2.888888888888889,
           2.888888888888889,
           2.888888888888889,
           2.888888888888889,
           2.888888888888889,
           2.888888888888889
          ],
          [
           3.111111111111111,
           3.111111111111111,
           3.111111111111111,
           3.111111111111111,
           3.111111111111111,
           3.111111111111111,
           3.111111111111111,
           3.111111111111111,
           3.111111111111111,
           3.111111111111111
          ],
          [
           3.333333333333333,
           3.333333333333333,
           3.333333333333333,
           3.333333333333333,
           3.333333333333333,
           3.333333333333333,
           3.333333333333333,
           3.333333333333333,
           3.333333333333333,
           3.333333333333333
          ],
          [
           3.5555555555555554,
           3.5555555555555554,
           3.5555555555555554,
           3.5555555555555554,
           3.5555555555555554,
           3.5555555555555554,
           3.5555555555555554,
           3.5555555555555554,
           3.5555555555555554,
           3.5555555555555554
          ],
          [
           3.7777777777777777,
           3.7777777777777777,
           3.7777777777777777,
           3.7777777777777777,
           3.7777777777777777,
           3.7777777777777777,
           3.7777777777777777,
           3.7777777777777777,
           3.7777777777777777,
           3.7777777777777777
          ],
          [
           4,
           4,
           4,
           4,
           4,
           4,
           4,
           4,
           4,
           4
          ]
         ],
         "z": [
          [
           261.644230671865,
           281.6656132751357,
           301.6869958784064,
           321.70837848167713,
           341.7297610849478,
           361.7511436882186,
           381.77252629148927,
           401.79390889475997,
           421.8152914980307,
           441.83667410130147
          ],
          [
           261.644230671865,
           281.6656132751357,
           301.6869958784064,
           321.70837848167713,
           341.7297610849478,
           361.7511436882186,
           381.77252629148927,
           401.79390889475997,
           421.8152914980307,
           441.83667410130147
          ],
          [
           261.644230671865,
           281.6656132751357,
           301.6869958784064,
           321.70837848167713,
           341.7297610849478,
           361.7511436882186,
           381.77252629148927,
           401.79390889475997,
           421.8152914980307,
           441.83667410130147
          ],
          [
           261.644230671865,
           281.6656132751357,
           301.6869958784064,
           321.70837848167713,
           341.7297610849478,
           361.7511436882186,
           381.77252629148927,
           401.79390889475997,
           421.8152914980307,
           441.83667410130147
          ],
          [
           261.644230671865,
           281.6656132751357,
           301.6869958784064,
           321.70837848167713,
           341.7297610849478,
           361.7511436882186,
           381.77252629148927,
           401.79390889475997,
           421.8152914980307,
           441.83667410130147
          ],
          [
           261.644230671865,
           281.6656132751357,
           301.6869958784064,
           321.70837848167713,
           341.7297610849478,
           361.7511436882186,
           381.77252629148927,
           401.79390889475997,
           421.8152914980307,
           441.83667410130147
          ],
          [
           261.644230671865,
           281.6656132751357,
           301.6869958784064,
           321.70837848167713,
           341.7297610849478,
           361.7511436882186,
           381.77252629148927,
           401.79390889475997,
           421.8152914980307,
           441.83667410130147
          ],
          [
           261.644230671865,
           281.6656132751357,
           301.6869958784064,
           321.70837848167713,
           341.7297610849478,
           361.7511436882186,
           381.77252629148927,
           401.79390889475997,
           421.8152914980307,
           441.83667410130147
          ],
          [
           261.644230671865,
           281.6656132751357,
           301.6869958784064,
           321.70837848167713,
           341.7297610849478,
           361.7511436882186,
           381.77252629148927,
           401.79390889475997,
           421.8152914980307,
           441.83667410130147
          ],
          [
           261.644230671865,
           281.6656132751357,
           301.6869958784064,
           321.70837848167713,
           341.7297610849478,
           361.7511436882186,
           381.77252629148927,
           401.79390889475997,
           421.8152914980307,
           441.83667410130147
          ]
         ]
        },
        {
         "coloraxis": "coloraxis",
         "colorbar": {
          "thickness": 5
         },
         "name": "PU+0.8%EG",
         "opacity": 0.6,
         "type": "surface",
         "visible": false,
         "x": [
          [
           2.5,
           3.1666666666666665,
           3.833333333333333,
           4.5,
           5.166666666666666,
           5.833333333333333,
           6.5,
           7.166666666666666,
           7.833333333333333,
           8.5
          ],
          [
           2.5,
           3.1666666666666665,
           3.833333333333333,
           4.5,
           5.166666666666666,
           5.833333333333333,
           6.5,
           7.166666666666666,
           7.833333333333333,
           8.5
          ],
          [
           2.5,
           3.1666666666666665,
           3.833333333333333,
           4.5,
           5.166666666666666,
           5.833333333333333,
           6.5,
           7.166666666666666,
           7.833333333333333,
           8.5
          ],
          [
           2.5,
           3.1666666666666665,
           3.833333333333333,
           4.5,
           5.166666666666666,
           5.833333333333333,
           6.5,
           7.166666666666666,
           7.833333333333333,
           8.5
          ],
          [
           2.5,
           3.1666666666666665,
           3.833333333333333,
           4.5,
           5.166666666666666,
           5.833333333333333,
           6.5,
           7.166666666666666,
           7.833333333333333,
           8.5
          ],
          [
           2.5,
           3.1666666666666665,
           3.833333333333333,
           4.5,
           5.166666666666666,
           5.833333333333333,
           6.5,
           7.166666666666666,
           7.833333333333333,
           8.5
          ],
          [
           2.5,
           3.1666666666666665,
           3.833333333333333,
           4.5,
           5.166666666666666,
           5.833333333333333,
           6.5,
           7.166666666666666,
           7.833333333333333,
           8.5
          ],
          [
           2.5,
           3.1666666666666665,
           3.833333333333333,
           4.5,
           5.166666666666666,
           5.833333333333333,
           6.5,
           7.166666666666666,
           7.833333333333333,
           8.5
          ],
          [
           2.5,
           3.1666666666666665,
           3.833333333333333,
           4.5,
           5.166666666666666,
           5.833333333333333,
           6.5,
           7.166666666666666,
           7.833333333333333,
           8.5
          ],
          [
           2.5,
           3.1666666666666665,
           3.833333333333333,
           4.5,
           5.166666666666666,
           5.833333333333333,
           6.5,
           7.166666666666666,
           7.833333333333333,
           8.5
          ]
         ],
         "y": [
          [
           2,
           2,
           2,
           2,
           2,
           2,
           2,
           2,
           2,
           2
          ],
          [
           2.2222222222222223,
           2.2222222222222223,
           2.2222222222222223,
           2.2222222222222223,
           2.2222222222222223,
           2.2222222222222223,
           2.2222222222222223,
           2.2222222222222223,
           2.2222222222222223,
           2.2222222222222223
          ],
          [
           2.4444444444444446,
           2.4444444444444446,
           2.4444444444444446,
           2.4444444444444446,
           2.4444444444444446,
           2.4444444444444446,
           2.4444444444444446,
           2.4444444444444446,
           2.4444444444444446,
           2.4444444444444446
          ],
          [
           2.6666666666666665,
           2.6666666666666665,
           2.6666666666666665,
           2.6666666666666665,
           2.6666666666666665,
           2.6666666666666665,
           2.6666666666666665,
           2.6666666666666665,
           2.6666666666666665,
           2.6666666666666665
          ],
          [
           2.888888888888889,
           2.888888888888889,
           2.888888888888889,
           2.888888888888889,
           2.888888888888889,
           2.888888888888889,
           2.888888888888889,
           2.888888888888889,
           2.888888888888889,
           2.888888888888889
          ],
          [
           3.111111111111111,
           3.111111111111111,
           3.111111111111111,
           3.111111111111111,
           3.111111111111111,
           3.111111111111111,
           3.111111111111111,
           3.111111111111111,
           3.111111111111111,
           3.111111111111111
          ],
          [
           3.333333333333333,
           3.333333333333333,
           3.333333333333333,
           3.333333333333333,
           3.333333333333333,
           3.333333333333333,
           3.333333333333333,
           3.333333333333333,
           3.333333333333333,
           3.333333333333333
          ],
          [
           3.5555555555555554,
           3.5555555555555554,
           3.5555555555555554,
           3.5555555555555554,
           3.5555555555555554,
           3.5555555555555554,
           3.5555555555555554,
           3.5555555555555554,
           3.5555555555555554,
           3.5555555555555554
          ],
          [
           3.7777777777777777,
           3.7777777777777777,
           3.7777777777777777,
           3.7777777777777777,
           3.7777777777777777,
           3.7777777777777777,
           3.7777777777777777,
           3.7777777777777777,
           3.7777777777777777,
           3.7777777777777777
          ],
          [
           4,
           4,
           4,
           4,
           4,
           4,
           4,
           4,
           4,
           4
          ]
         ],
         "z": [
          [
           264.2121791834741,
           284.2335617867449,
           304.25494439001557,
           324.27632699328626,
           344.29770959655696,
           364.31909219982776,
           384.34047480309846,
           404.36185740636915,
           424.38324000963985,
           444.40462261291066
          ],
          [
           264.2121791834741,
           284.2335617867449,
           304.25494439001557,
           324.27632699328626,
           344.29770959655696,
           364.31909219982776,
           384.34047480309846,
           404.36185740636915,
           424.38324000963985,
           444.40462261291066
          ],
          [
           264.2121791834741,
           284.2335617867449,
           304.25494439001557,
           324.27632699328626,
           344.29770959655696,
           364.31909219982776,
           384.34047480309846,
           404.36185740636915,
           424.38324000963985,
           444.40462261291066
          ],
          [
           264.2121791834741,
           284.2335617867449,
           304.25494439001557,
           324.27632699328626,
           344.29770959655696,
           364.31909219982776,
           384.34047480309846,
           404.36185740636915,
           424.38324000963985,
           444.40462261291066
          ],
          [
           264.2121791834741,
           284.2335617867449,
           304.25494439001557,
           324.27632699328626,
           344.29770959655696,
           364.31909219982776,
           384.34047480309846,
           404.36185740636915,
           424.38324000963985,
           444.40462261291066
          ],
          [
           264.2121791834741,
           284.2335617867449,
           304.25494439001557,
           324.27632699328626,
           344.29770959655696,
           364.31909219982776,
           384.34047480309846,
           404.36185740636915,
           424.38324000963985,
           444.40462261291066
          ],
          [
           264.2121791834741,
           284.2335617867449,
           304.25494439001557,
           324.27632699328626,
           344.29770959655696,
           364.31909219982776,
           384.34047480309846,
           404.36185740636915,
           424.38324000963985,
           444.40462261291066
          ],
          [
           264.2121791834741,
           284.2335617867449,
           304.25494439001557,
           324.27632699328626,
           344.29770959655696,
           364.31909219982776,
           384.34047480309846,
           404.36185740636915,
           424.38324000963985,
           444.40462261291066
          ],
          [
           264.2121791834741,
           284.2335617867449,
           304.25494439001557,
           324.27632699328626,
           344.29770959655696,
           364.31909219982776,
           384.34047480309846,
           404.36185740636915,
           424.38324000963985,
           444.40462261291066
          ],
          [
           264.2121791834741,
           284.2335617867449,
           304.25494439001557,
           324.27632699328626,
           344.29770959655696,
           364.31909219982776,
           384.34047480309846,
           404.36185740636915,
           424.38324000963985,
           444.40462261291066
          ]
         ]
        },
        {
         "coloraxis": "coloraxis",
         "colorbar": {
          "thickness": 5
         },
         "name": "PU+0.9%EG",
         "opacity": 0.6,
         "type": "surface",
         "visible": false,
         "x": [
          [
           2.5,
           3.1666666666666665,
           3.833333333333333,
           4.5,
           5.166666666666666,
           5.833333333333333,
           6.5,
           7.166666666666666,
           7.833333333333333,
           8.5
          ],
          [
           2.5,
           3.1666666666666665,
           3.833333333333333,
           4.5,
           5.166666666666666,
           5.833333333333333,
           6.5,
           7.166666666666666,
           7.833333333333333,
           8.5
          ],
          [
           2.5,
           3.1666666666666665,
           3.833333333333333,
           4.5,
           5.166666666666666,
           5.833333333333333,
           6.5,
           7.166666666666666,
           7.833333333333333,
           8.5
          ],
          [
           2.5,
           3.1666666666666665,
           3.833333333333333,
           4.5,
           5.166666666666666,
           5.833333333333333,
           6.5,
           7.166666666666666,
           7.833333333333333,
           8.5
          ],
          [
           2.5,
           3.1666666666666665,
           3.833333333333333,
           4.5,
           5.166666666666666,
           5.833333333333333,
           6.5,
           7.166666666666666,
           7.833333333333333,
           8.5
          ],
          [
           2.5,
           3.1666666666666665,
           3.833333333333333,
           4.5,
           5.166666666666666,
           5.833333333333333,
           6.5,
           7.166666666666666,
           7.833333333333333,
           8.5
          ],
          [
           2.5,
           3.1666666666666665,
           3.833333333333333,
           4.5,
           5.166666666666666,
           5.833333333333333,
           6.5,
           7.166666666666666,
           7.833333333333333,
           8.5
          ],
          [
           2.5,
           3.1666666666666665,
           3.833333333333333,
           4.5,
           5.166666666666666,
           5.833333333333333,
           6.5,
           7.166666666666666,
           7.833333333333333,
           8.5
          ],
          [
           2.5,
           3.1666666666666665,
           3.833333333333333,
           4.5,
           5.166666666666666,
           5.833333333333333,
           6.5,
           7.166666666666666,
           7.833333333333333,
           8.5
          ],
          [
           2.5,
           3.1666666666666665,
           3.833333333333333,
           4.5,
           5.166666666666666,
           5.833333333333333,
           6.5,
           7.166666666666666,
           7.833333333333333,
           8.5
          ]
         ],
         "y": [
          [
           2,
           2,
           2,
           2,
           2,
           2,
           2,
           2,
           2,
           2
          ],
          [
           2.2222222222222223,
           2.2222222222222223,
           2.2222222222222223,
           2.2222222222222223,
           2.2222222222222223,
           2.2222222222222223,
           2.2222222222222223,
           2.2222222222222223,
           2.2222222222222223,
           2.2222222222222223
          ],
          [
           2.4444444444444446,
           2.4444444444444446,
           2.4444444444444446,
           2.4444444444444446,
           2.4444444444444446,
           2.4444444444444446,
           2.4444444444444446,
           2.4444444444444446,
           2.4444444444444446,
           2.4444444444444446
          ],
          [
           2.6666666666666665,
           2.6666666666666665,
           2.6666666666666665,
           2.6666666666666665,
           2.6666666666666665,
           2.6666666666666665,
           2.6666666666666665,
           2.6666666666666665,
           2.6666666666666665,
           2.6666666666666665
          ],
          [
           2.888888888888889,
           2.888888888888889,
           2.888888888888889,
           2.888888888888889,
           2.888888888888889,
           2.888888888888889,
           2.888888888888889,
           2.888888888888889,
           2.888888888888889,
           2.888888888888889
          ],
          [
           3.111111111111111,
           3.111111111111111,
           3.111111111111111,
           3.111111111111111,
           3.111111111111111,
           3.111111111111111,
           3.111111111111111,
           3.111111111111111,
           3.111111111111111,
           3.111111111111111
          ],
          [
           3.333333333333333,
           3.333333333333333,
           3.333333333333333,
           3.333333333333333,
           3.333333333333333,
           3.333333333333333,
           3.333333333333333,
           3.333333333333333,
           3.333333333333333,
           3.333333333333333
          ],
          [
           3.5555555555555554,
           3.5555555555555554,
           3.5555555555555554,
           3.5555555555555554,
           3.5555555555555554,
           3.5555555555555554,
           3.5555555555555554,
           3.5555555555555554,
           3.5555555555555554,
           3.5555555555555554
          ],
          [
           3.7777777777777777,
           3.7777777777777777,
           3.7777777777777777,
           3.7777777777777777,
           3.7777777777777777,
           3.7777777777777777,
           3.7777777777777777,
           3.7777777777777777,
           3.7777777777777777,
           3.7777777777777777
          ],
          [
           4,
           4,
           4,
           4,
           4,
           4,
           4,
           4,
           4,
           4
          ]
         ],
         "z": [
          [
           266.78012769508325,
           286.801510298354,
           306.8228929016247,
           326.84427550489545,
           346.86565810816614,
           366.8870407114369,
           386.9084233147076,
           406.9298059179783,
           426.95118852124904,
           446.9725711245198
          ],
          [
           266.78012769508325,
           286.801510298354,
           306.8228929016247,
           326.84427550489545,
           346.86565810816614,
           366.8870407114369,
           386.9084233147076,
           406.9298059179783,
           426.95118852124904,
           446.9725711245198
          ],
          [
           266.78012769508325,
           286.801510298354,
           306.8228929016247,
           326.84427550489545,
           346.86565810816614,
           366.8870407114369,
           386.9084233147076,
           406.9298059179783,
           426.95118852124904,
           446.9725711245198
          ],
          [
           266.78012769508325,
           286.801510298354,
           306.8228929016247,
           326.84427550489545,
           346.86565810816614,
           366.8870407114369,
           386.9084233147076,
           406.9298059179783,
           426.95118852124904,
           446.9725711245198
          ],
          [
           266.78012769508325,
           286.801510298354,
           306.8228929016247,
           326.84427550489545,
           346.86565810816614,
           366.8870407114369,
           386.9084233147076,
           406.9298059179783,
           426.95118852124904,
           446.9725711245198
          ],
          [
           266.78012769508325,
           286.801510298354,
           306.8228929016247,
           326.84427550489545,
           346.86565810816614,
           366.8870407114369,
           386.9084233147076,
           406.9298059179783,
           426.95118852124904,
           446.9725711245198
          ],
          [
           266.78012769508325,
           286.801510298354,
           306.8228929016247,
           326.84427550489545,
           346.86565810816614,
           366.8870407114369,
           386.9084233147076,
           406.9298059179783,
           426.95118852124904,
           446.9725711245198
          ],
          [
           266.78012769508325,
           286.801510298354,
           306.8228929016247,
           326.84427550489545,
           346.86565810816614,
           366.8870407114369,
           386.9084233147076,
           406.9298059179783,
           426.95118852124904,
           446.9725711245198
          ],
          [
           266.78012769508325,
           286.801510298354,
           306.8228929016247,
           326.84427550489545,
           346.86565810816614,
           366.8870407114369,
           386.9084233147076,
           406.9298059179783,
           426.95118852124904,
           446.9725711245198
          ],
          [
           266.78012769508325,
           286.801510298354,
           306.8228929016247,
           326.84427550489545,
           346.86565810816614,
           366.8870407114369,
           386.9084233147076,
           406.9298059179783,
           426.95118852124904,
           446.9725711245198
          ]
         ]
        },
        {
         "coloraxis": "coloraxis",
         "colorbar": {
          "thickness": 5
         },
         "name": "PU+1.0%EG",
         "opacity": 0.6,
         "type": "surface",
         "visible": true,
         "x": [
          [
           2.5,
           3.1666666666666665,
           3.833333333333333,
           4.5,
           5.166666666666666,
           5.833333333333333,
           6.5,
           7.166666666666666,
           7.833333333333333,
           8.5
          ],
          [
           2.5,
           3.1666666666666665,
           3.833333333333333,
           4.5,
           5.166666666666666,
           5.833333333333333,
           6.5,
           7.166666666666666,
           7.833333333333333,
           8.5
          ],
          [
           2.5,
           3.1666666666666665,
           3.833333333333333,
           4.5,
           5.166666666666666,
           5.833333333333333,
           6.5,
           7.166666666666666,
           7.833333333333333,
           8.5
          ],
          [
           2.5,
           3.1666666666666665,
           3.833333333333333,
           4.5,
           5.166666666666666,
           5.833333333333333,
           6.5,
           7.166666666666666,
           7.833333333333333,
           8.5
          ],
          [
           2.5,
           3.1666666666666665,
           3.833333333333333,
           4.5,
           5.166666666666666,
           5.833333333333333,
           6.5,
           7.166666666666666,
           7.833333333333333,
           8.5
          ],
          [
           2.5,
           3.1666666666666665,
           3.833333333333333,
           4.5,
           5.166666666666666,
           5.833333333333333,
           6.5,
           7.166666666666666,
           7.833333333333333,
           8.5
          ],
          [
           2.5,
           3.1666666666666665,
           3.833333333333333,
           4.5,
           5.166666666666666,
           5.833333333333333,
           6.5,
           7.166666666666666,
           7.833333333333333,
           8.5
          ],
          [
           2.5,
           3.1666666666666665,
           3.833333333333333,
           4.5,
           5.166666666666666,
           5.833333333333333,
           6.5,
           7.166666666666666,
           7.833333333333333,
           8.5
          ],
          [
           2.5,
           3.1666666666666665,
           3.833333333333333,
           4.5,
           5.166666666666666,
           5.833333333333333,
           6.5,
           7.166666666666666,
           7.833333333333333,
           8.5
          ],
          [
           2.5,
           3.1666666666666665,
           3.833333333333333,
           4.5,
           5.166666666666666,
           5.833333333333333,
           6.5,
           7.166666666666666,
           7.833333333333333,
           8.5
          ]
         ],
         "y": [
          [
           2,
           2,
           2,
           2,
           2,
           2,
           2,
           2,
           2,
           2
          ],
          [
           2.2222222222222223,
           2.2222222222222223,
           2.2222222222222223,
           2.2222222222222223,
           2.2222222222222223,
           2.2222222222222223,
           2.2222222222222223,
           2.2222222222222223,
           2.2222222222222223,
           2.2222222222222223
          ],
          [
           2.4444444444444446,
           2.4444444444444446,
           2.4444444444444446,
           2.4444444444444446,
           2.4444444444444446,
           2.4444444444444446,
           2.4444444444444446,
           2.4444444444444446,
           2.4444444444444446,
           2.4444444444444446
          ],
          [
           2.6666666666666665,
           2.6666666666666665,
           2.6666666666666665,
           2.6666666666666665,
           2.6666666666666665,
           2.6666666666666665,
           2.6666666666666665,
           2.6666666666666665,
           2.6666666666666665,
           2.6666666666666665
          ],
          [
           2.888888888888889,
           2.888888888888889,
           2.888888888888889,
           2.888888888888889,
           2.888888888888889,
           2.888888888888889,
           2.888888888888889,
           2.888888888888889,
           2.888888888888889,
           2.888888888888889
          ],
          [
           3.111111111111111,
           3.111111111111111,
           3.111111111111111,
           3.111111111111111,
           3.111111111111111,
           3.111111111111111,
           3.111111111111111,
           3.111111111111111,
           3.111111111111111,
           3.111111111111111
          ],
          [
           3.333333333333333,
           3.333333333333333,
           3.333333333333333,
           3.333333333333333,
           3.333333333333333,
           3.333333333333333,
           3.333333333333333,
           3.333333333333333,
           3.333333333333333,
           3.333333333333333
          ],
          [
           3.5555555555555554,
           3.5555555555555554,
           3.5555555555555554,
           3.5555555555555554,
           3.5555555555555554,
           3.5555555555555554,
           3.5555555555555554,
           3.5555555555555554,
           3.5555555555555554,
           3.5555555555555554
          ],
          [
           3.7777777777777777,
           3.7777777777777777,
           3.7777777777777777,
           3.7777777777777777,
           3.7777777777777777,
           3.7777777777777777,
           3.7777777777777777,
           3.7777777777777777,
           3.7777777777777777,
           3.7777777777777777
          ],
          [
           4,
           4,
           4,
           4,
           4,
           4,
           4,
           4,
           4,
           4
          ]
         ],
         "z": [
          [
           269.34807620669244,
           289.36945880996313,
           309.39084141323383,
           329.4122240165046,
           349.4336066197753,
           369.454989223046,
           389.4763718263167,
           409.4977544295874,
           429.51913703285817,
           449.5405196361289
          ],
          [
           269.34807620669244,
           289.36945880996313,
           309.39084141323383,
           329.4122240165046,
           349.4336066197753,
           369.454989223046,
           389.4763718263167,
           409.4977544295874,
           429.51913703285817,
           449.5405196361289
          ],
          [
           269.34807620669244,
           289.36945880996313,
           309.39084141323383,
           329.4122240165046,
           349.4336066197753,
           369.454989223046,
           389.4763718263167,
           409.4977544295874,
           429.51913703285817,
           449.5405196361289
          ],
          [
           269.34807620669244,
           289.36945880996313,
           309.39084141323383,
           329.4122240165046,
           349.4336066197753,
           369.454989223046,
           389.4763718263167,
           409.4977544295874,
           429.51913703285817,
           449.5405196361289
          ],
          [
           269.34807620669244,
           289.36945880996313,
           309.39084141323383,
           329.4122240165046,
           349.4336066197753,
           369.454989223046,
           389.4763718263167,
           409.4977544295874,
           429.51913703285817,
           449.5405196361289
          ],
          [
           269.34807620669244,
           289.36945880996313,
           309.39084141323383,
           329.4122240165046,
           349.4336066197753,
           369.454989223046,
           389.4763718263167,
           409.4977544295874,
           429.51913703285817,
           449.5405196361289
          ],
          [
           269.34807620669244,
           289.36945880996313,
           309.39084141323383,
           329.4122240165046,
           349.4336066197753,
           369.454989223046,
           389.4763718263167,
           409.4977544295874,
           429.51913703285817,
           449.5405196361289
          ],
          [
           269.34807620669244,
           289.36945880996313,
           309.39084141323383,
           329.4122240165046,
           349.4336066197753,
           369.454989223046,
           389.4763718263167,
           409.4977544295874,
           429.51913703285817,
           449.5405196361289
          ],
          [
           269.34807620669244,
           289.36945880996313,
           309.39084141323383,
           329.4122240165046,
           349.4336066197753,
           369.454989223046,
           389.4763718263167,
           409.4977544295874,
           429.51913703285817,
           449.5405196361289
          ],
          [
           269.34807620669244,
           289.36945880996313,
           309.39084141323383,
           329.4122240165046,
           349.4336066197753,
           369.454989223046,
           389.4763718263167,
           409.4977544295874,
           429.51913703285817,
           449.5405196361289
          ]
         ]
        },
        {
         "coloraxis": "coloraxis",
         "colorbar": {
          "thickness": 5
         },
         "name": "PU+1.1%EG",
         "opacity": 0.6,
         "type": "surface",
         "visible": false,
         "x": [
          [
           2.5,
           3.1666666666666665,
           3.833333333333333,
           4.5,
           5.166666666666666,
           5.833333333333333,
           6.5,
           7.166666666666666,
           7.833333333333333,
           8.5
          ],
          [
           2.5,
           3.1666666666666665,
           3.833333333333333,
           4.5,
           5.166666666666666,
           5.833333333333333,
           6.5,
           7.166666666666666,
           7.833333333333333,
           8.5
          ],
          [
           2.5,
           3.1666666666666665,
           3.833333333333333,
           4.5,
           5.166666666666666,
           5.833333333333333,
           6.5,
           7.166666666666666,
           7.833333333333333,
           8.5
          ],
          [
           2.5,
           3.1666666666666665,
           3.833333333333333,
           4.5,
           5.166666666666666,
           5.833333333333333,
           6.5,
           7.166666666666666,
           7.833333333333333,
           8.5
          ],
          [
           2.5,
           3.1666666666666665,
           3.833333333333333,
           4.5,
           5.166666666666666,
           5.833333333333333,
           6.5,
           7.166666666666666,
           7.833333333333333,
           8.5
          ],
          [
           2.5,
           3.1666666666666665,
           3.833333333333333,
           4.5,
           5.166666666666666,
           5.833333333333333,
           6.5,
           7.166666666666666,
           7.833333333333333,
           8.5
          ],
          [
           2.5,
           3.1666666666666665,
           3.833333333333333,
           4.5,
           5.166666666666666,
           5.833333333333333,
           6.5,
           7.166666666666666,
           7.833333333333333,
           8.5
          ],
          [
           2.5,
           3.1666666666666665,
           3.833333333333333,
           4.5,
           5.166666666666666,
           5.833333333333333,
           6.5,
           7.166666666666666,
           7.833333333333333,
           8.5
          ],
          [
           2.5,
           3.1666666666666665,
           3.833333333333333,
           4.5,
           5.166666666666666,
           5.833333333333333,
           6.5,
           7.166666666666666,
           7.833333333333333,
           8.5
          ],
          [
           2.5,
           3.1666666666666665,
           3.833333333333333,
           4.5,
           5.166666666666666,
           5.833333333333333,
           6.5,
           7.166666666666666,
           7.833333333333333,
           8.5
          ]
         ],
         "y": [
          [
           2,
           2,
           2,
           2,
           2,
           2,
           2,
           2,
           2,
           2
          ],
          [
           2.2222222222222223,
           2.2222222222222223,
           2.2222222222222223,
           2.2222222222222223,
           2.2222222222222223,
           2.2222222222222223,
           2.2222222222222223,
           2.2222222222222223,
           2.2222222222222223,
           2.2222222222222223
          ],
          [
           2.4444444444444446,
           2.4444444444444446,
           2.4444444444444446,
           2.4444444444444446,
           2.4444444444444446,
           2.4444444444444446,
           2.4444444444444446,
           2.4444444444444446,
           2.4444444444444446,
           2.4444444444444446
          ],
          [
           2.6666666666666665,
           2.6666666666666665,
           2.6666666666666665,
           2.6666666666666665,
           2.6666666666666665,
           2.6666666666666665,
           2.6666666666666665,
           2.6666666666666665,
           2.6666666666666665,
           2.6666666666666665
          ],
          [
           2.888888888888889,
           2.888888888888889,
           2.888888888888889,
           2.888888888888889,
           2.888888888888889,
           2.888888888888889,
           2.888888888888889,
           2.888888888888889,
           2.888888888888889,
           2.888888888888889
          ],
          [
           3.111111111111111,
           3.111111111111111,
           3.111111111111111,
           3.111111111111111,
           3.111111111111111,
           3.111111111111111,
           3.111111111111111,
           3.111111111111111,
           3.111111111111111,
           3.111111111111111
          ],
          [
           3.333333333333333,
           3.333333333333333,
           3.333333333333333,
           3.333333333333333,
           3.333333333333333,
           3.333333333333333,
           3.333333333333333,
           3.333333333333333,
           3.333333333333333,
           3.333333333333333
          ],
          [
           3.5555555555555554,
           3.5555555555555554,
           3.5555555555555554,
           3.5555555555555554,
           3.5555555555555554,
           3.5555555555555554,
           3.5555555555555554,
           3.5555555555555554,
           3.5555555555555554,
           3.5555555555555554
          ],
          [
           3.7777777777777777,
           3.7777777777777777,
           3.7777777777777777,
           3.7777777777777777,
           3.7777777777777777,
           3.7777777777777777,
           3.7777777777777777,
           3.7777777777777777,
           3.7777777777777777,
           3.7777777777777777
          ],
          [
           4,
           4,
           4,
           4,
           4,
           4,
           4,
           4,
           4,
           4
          ]
         ],
         "z": [
          [
           271.91602471830157,
           291.9374073215723,
           311.958789924843,
           331.98017252811377,
           352.00155513138446,
           372.0229377346552,
           392.0443203379259,
           412.0657029411966,
           432.08708554446736,
           452.1084681477381
          ],
          [
           271.91602471830157,
           291.9374073215723,
           311.958789924843,
           331.98017252811377,
           352.00155513138446,
           372.0229377346552,
           392.0443203379259,
           412.0657029411966,
           432.08708554446736,
           452.1084681477381
          ],
          [
           271.91602471830157,
           291.9374073215723,
           311.958789924843,
           331.98017252811377,
           352.00155513138446,
           372.0229377346552,
           392.0443203379259,
           412.0657029411966,
           432.08708554446736,
           452.1084681477381
          ],
          [
           271.91602471830157,
           291.9374073215723,
           311.958789924843,
           331.98017252811377,
           352.00155513138446,
           372.0229377346552,
           392.0443203379259,
           412.0657029411966,
           432.08708554446736,
           452.1084681477381
          ],
          [
           271.91602471830157,
           291.9374073215723,
           311.958789924843,
           331.98017252811377,
           352.00155513138446,
           372.0229377346552,
           392.0443203379259,
           412.0657029411966,
           432.08708554446736,
           452.1084681477381
          ],
          [
           271.91602471830157,
           291.9374073215723,
           311.958789924843,
           331.98017252811377,
           352.00155513138446,
           372.0229377346552,
           392.0443203379259,
           412.0657029411966,
           432.08708554446736,
           452.1084681477381
          ],
          [
           271.91602471830157,
           291.9374073215723,
           311.958789924843,
           331.98017252811377,
           352.00155513138446,
           372.0229377346552,
           392.0443203379259,
           412.0657029411966,
           432.08708554446736,
           452.1084681477381
          ],
          [
           271.91602471830157,
           291.9374073215723,
           311.958789924843,
           331.98017252811377,
           352.00155513138446,
           372.0229377346552,
           392.0443203379259,
           412.0657029411966,
           432.08708554446736,
           452.1084681477381
          ],
          [
           271.91602471830157,
           291.9374073215723,
           311.958789924843,
           331.98017252811377,
           352.00155513138446,
           372.0229377346552,
           392.0443203379259,
           412.0657029411966,
           432.08708554446736,
           452.1084681477381
          ],
          [
           271.91602471830157,
           291.9374073215723,
           311.958789924843,
           331.98017252811377,
           352.00155513138446,
           372.0229377346552,
           392.0443203379259,
           412.0657029411966,
           432.08708554446736,
           452.1084681477381
          ]
         ]
        },
        {
         "coloraxis": "coloraxis",
         "colorbar": {
          "thickness": 5
         },
         "name": "PU+1.2%EG",
         "opacity": 0.6,
         "type": "surface",
         "visible": false,
         "x": [
          [
           2.5,
           3.1666666666666665,
           3.833333333333333,
           4.5,
           5.166666666666666,
           5.833333333333333,
           6.5,
           7.166666666666666,
           7.833333333333333,
           8.5
          ],
          [
           2.5,
           3.1666666666666665,
           3.833333333333333,
           4.5,
           5.166666666666666,
           5.833333333333333,
           6.5,
           7.166666666666666,
           7.833333333333333,
           8.5
          ],
          [
           2.5,
           3.1666666666666665,
           3.833333333333333,
           4.5,
           5.166666666666666,
           5.833333333333333,
           6.5,
           7.166666666666666,
           7.833333333333333,
           8.5
          ],
          [
           2.5,
           3.1666666666666665,
           3.833333333333333,
           4.5,
           5.166666666666666,
           5.833333333333333,
           6.5,
           7.166666666666666,
           7.833333333333333,
           8.5
          ],
          [
           2.5,
           3.1666666666666665,
           3.833333333333333,
           4.5,
           5.166666666666666,
           5.833333333333333,
           6.5,
           7.166666666666666,
           7.833333333333333,
           8.5
          ],
          [
           2.5,
           3.1666666666666665,
           3.833333333333333,
           4.5,
           5.166666666666666,
           5.833333333333333,
           6.5,
           7.166666666666666,
           7.833333333333333,
           8.5
          ],
          [
           2.5,
           3.1666666666666665,
           3.833333333333333,
           4.5,
           5.166666666666666,
           5.833333333333333,
           6.5,
           7.166666666666666,
           7.833333333333333,
           8.5
          ],
          [
           2.5,
           3.1666666666666665,
           3.833333333333333,
           4.5,
           5.166666666666666,
           5.833333333333333,
           6.5,
           7.166666666666666,
           7.833333333333333,
           8.5
          ],
          [
           2.5,
           3.1666666666666665,
           3.833333333333333,
           4.5,
           5.166666666666666,
           5.833333333333333,
           6.5,
           7.166666666666666,
           7.833333333333333,
           8.5
          ],
          [
           2.5,
           3.1666666666666665,
           3.833333333333333,
           4.5,
           5.166666666666666,
           5.833333333333333,
           6.5,
           7.166666666666666,
           7.833333333333333,
           8.5
          ]
         ],
         "y": [
          [
           2,
           2,
           2,
           2,
           2,
           2,
           2,
           2,
           2,
           2
          ],
          [
           2.2222222222222223,
           2.2222222222222223,
           2.2222222222222223,
           2.2222222222222223,
           2.2222222222222223,
           2.2222222222222223,
           2.2222222222222223,
           2.2222222222222223,
           2.2222222222222223,
           2.2222222222222223
          ],
          [
           2.4444444444444446,
           2.4444444444444446,
           2.4444444444444446,
           2.4444444444444446,
           2.4444444444444446,
           2.4444444444444446,
           2.4444444444444446,
           2.4444444444444446,
           2.4444444444444446,
           2.4444444444444446
          ],
          [
           2.6666666666666665,
           2.6666666666666665,
           2.6666666666666665,
           2.6666666666666665,
           2.6666666666666665,
           2.6666666666666665,
           2.6666666666666665,
           2.6666666666666665,
           2.6666666666666665,
           2.6666666666666665
          ],
          [
           2.888888888888889,
           2.888888888888889,
           2.888888888888889,
           2.888888888888889,
           2.888888888888889,
           2.888888888888889,
           2.888888888888889,
           2.888888888888889,
           2.888888888888889,
           2.888888888888889
          ],
          [
           3.111111111111111,
           3.111111111111111,
           3.111111111111111,
           3.111111111111111,
           3.111111111111111,
           3.111111111111111,
           3.111111111111111,
           3.111111111111111,
           3.111111111111111,
           3.111111111111111
          ],
          [
           3.333333333333333,
           3.333333333333333,
           3.333333333333333,
           3.333333333333333,
           3.333333333333333,
           3.333333333333333,
           3.333333333333333,
           3.333333333333333,
           3.333333333333333,
           3.333333333333333
          ],
          [
           3.5555555555555554,
           3.5555555555555554,
           3.5555555555555554,
           3.5555555555555554,
           3.5555555555555554,
           3.5555555555555554,
           3.5555555555555554,
           3.5555555555555554,
           3.5555555555555554,
           3.5555555555555554
          ],
          [
           3.7777777777777777,
           3.7777777777777777,
           3.7777777777777777,
           3.7777777777777777,
           3.7777777777777777,
           3.7777777777777777,
           3.7777777777777777,
           3.7777777777777777,
           3.7777777777777777,
           3.7777777777777777
          ],
          [
           4,
           4,
           4,
           4,
           4,
           4,
           4,
           4,
           4,
           4
          ]
         ],
         "z": [
          [
           274.48397322991076,
           294.50535583318145,
           314.52673843645215,
           334.5481210397229,
           354.5695036429936,
           374.59088624626435,
           394.61226884953504,
           414.63365145280574,
           434.6550340560765,
           454.67641665934724
          ],
          [
           274.48397322991076,
           294.50535583318145,
           314.52673843645215,
           334.5481210397229,
           354.5695036429936,
           374.59088624626435,
           394.61226884953504,
           414.63365145280574,
           434.6550340560765,
           454.67641665934724
          ],
          [
           274.48397322991076,
           294.50535583318145,
           314.52673843645215,
           334.5481210397229,
           354.5695036429936,
           374.59088624626435,
           394.61226884953504,
           414.63365145280574,
           434.6550340560765,
           454.67641665934724
          ],
          [
           274.48397322991076,
           294.50535583318145,
           314.52673843645215,
           334.5481210397229,
           354.5695036429936,
           374.59088624626435,
           394.61226884953504,
           414.63365145280574,
           434.6550340560765,
           454.67641665934724
          ],
          [
           274.48397322991076,
           294.50535583318145,
           314.52673843645215,
           334.5481210397229,
           354.5695036429936,
           374.59088624626435,
           394.61226884953504,
           414.63365145280574,
           434.6550340560765,
           454.67641665934724
          ],
          [
           274.48397322991076,
           294.50535583318145,
           314.52673843645215,
           334.5481210397229,
           354.5695036429936,
           374.59088624626435,
           394.61226884953504,
           414.63365145280574,
           434.6550340560765,
           454.67641665934724
          ],
          [
           274.48397322991076,
           294.50535583318145,
           314.52673843645215,
           334.5481210397229,
           354.5695036429936,
           374.59088624626435,
           394.61226884953504,
           414.63365145280574,
           434.6550340560765,
           454.67641665934724
          ],
          [
           274.48397322991076,
           294.50535583318145,
           314.52673843645215,
           334.5481210397229,
           354.5695036429936,
           374.59088624626435,
           394.61226884953504,
           414.63365145280574,
           434.6550340560765,
           454.67641665934724
          ],
          [
           274.48397322991076,
           294.50535583318145,
           314.52673843645215,
           334.5481210397229,
           354.5695036429936,
           374.59088624626435,
           394.61226884953504,
           414.63365145280574,
           434.6550340560765,
           454.67641665934724
          ],
          [
           274.48397322991076,
           294.50535583318145,
           314.52673843645215,
           334.5481210397229,
           354.5695036429936,
           374.59088624626435,
           394.61226884953504,
           414.63365145280574,
           434.6550340560765,
           454.67641665934724
          ]
         ]
        },
        {
         "coloraxis": "coloraxis",
         "colorbar": {
          "thickness": 5
         },
         "name": "PU+1.3%EG",
         "opacity": 0.6,
         "type": "surface",
         "visible": false,
         "x": [
          [
           2.5,
           3.1666666666666665,
           3.833333333333333,
           4.5,
           5.166666666666666,
           5.833333333333333,
           6.5,
           7.166666666666666,
           7.833333333333333,
           8.5
          ],
          [
           2.5,
           3.1666666666666665,
           3.833333333333333,
           4.5,
           5.166666666666666,
           5.833333333333333,
           6.5,
           7.166666666666666,
           7.833333333333333,
           8.5
          ],
          [
           2.5,
           3.1666666666666665,
           3.833333333333333,
           4.5,
           5.166666666666666,
           5.833333333333333,
           6.5,
           7.166666666666666,
           7.833333333333333,
           8.5
          ],
          [
           2.5,
           3.1666666666666665,
           3.833333333333333,
           4.5,
           5.166666666666666,
           5.833333333333333,
           6.5,
           7.166666666666666,
           7.833333333333333,
           8.5
          ],
          [
           2.5,
           3.1666666666666665,
           3.833333333333333,
           4.5,
           5.166666666666666,
           5.833333333333333,
           6.5,
           7.166666666666666,
           7.833333333333333,
           8.5
          ],
          [
           2.5,
           3.1666666666666665,
           3.833333333333333,
           4.5,
           5.166666666666666,
           5.833333333333333,
           6.5,
           7.166666666666666,
           7.833333333333333,
           8.5
          ],
          [
           2.5,
           3.1666666666666665,
           3.833333333333333,
           4.5,
           5.166666666666666,
           5.833333333333333,
           6.5,
           7.166666666666666,
           7.833333333333333,
           8.5
          ],
          [
           2.5,
           3.1666666666666665,
           3.833333333333333,
           4.5,
           5.166666666666666,
           5.833333333333333,
           6.5,
           7.166666666666666,
           7.833333333333333,
           8.5
          ],
          [
           2.5,
           3.1666666666666665,
           3.833333333333333,
           4.5,
           5.166666666666666,
           5.833333333333333,
           6.5,
           7.166666666666666,
           7.833333333333333,
           8.5
          ],
          [
           2.5,
           3.1666666666666665,
           3.833333333333333,
           4.5,
           5.166666666666666,
           5.833333333333333,
           6.5,
           7.166666666666666,
           7.833333333333333,
           8.5
          ]
         ],
         "y": [
          [
           2,
           2,
           2,
           2,
           2,
           2,
           2,
           2,
           2,
           2
          ],
          [
           2.2222222222222223,
           2.2222222222222223,
           2.2222222222222223,
           2.2222222222222223,
           2.2222222222222223,
           2.2222222222222223,
           2.2222222222222223,
           2.2222222222222223,
           2.2222222222222223,
           2.2222222222222223
          ],
          [
           2.4444444444444446,
           2.4444444444444446,
           2.4444444444444446,
           2.4444444444444446,
           2.4444444444444446,
           2.4444444444444446,
           2.4444444444444446,
           2.4444444444444446,
           2.4444444444444446,
           2.4444444444444446
          ],
          [
           2.6666666666666665,
           2.6666666666666665,
           2.6666666666666665,
           2.6666666666666665,
           2.6666666666666665,
           2.6666666666666665,
           2.6666666666666665,
           2.6666666666666665,
           2.6666666666666665,
           2.6666666666666665
          ],
          [
           2.888888888888889,
           2.888888888888889,
           2.888888888888889,
           2.888888888888889,
           2.888888888888889,
           2.888888888888889,
           2.888888888888889,
           2.888888888888889,
           2.888888888888889,
           2.888888888888889
          ],
          [
           3.111111111111111,
           3.111111111111111,
           3.111111111111111,
           3.111111111111111,
           3.111111111111111,
           3.111111111111111,
           3.111111111111111,
           3.111111111111111,
           3.111111111111111,
           3.111111111111111
          ],
          [
           3.333333333333333,
           3.333333333333333,
           3.333333333333333,
           3.333333333333333,
           3.333333333333333,
           3.333333333333333,
           3.333333333333333,
           3.333333333333333,
           3.333333333333333,
           3.333333333333333
          ],
          [
           3.5555555555555554,
           3.5555555555555554,
           3.5555555555555554,
           3.5555555555555554,
           3.5555555555555554,
           3.5555555555555554,
           3.5555555555555554,
           3.5555555555555554,
           3.5555555555555554,
           3.5555555555555554
          ],
          [
           3.7777777777777777,
           3.7777777777777777,
           3.7777777777777777,
           3.7777777777777777,
           3.7777777777777777,
           3.7777777777777777,
           3.7777777777777777,
           3.7777777777777777,
           3.7777777777777777,
           3.7777777777777777
          ],
          [
           4,
           4,
           4,
           4,
           4,
           4,
           4,
           4,
           4,
           4
          ]
         ],
         "z": [
          [
           277.0519217415199,
           297.07330434479064,
           317.09468694806134,
           337.1160695513321,
           357.1374521546028,
           377.15883475787354,
           397.18021736114423,
           417.2015999644149,
           437.2229825676857,
           457.2443651709564
          ],
          [
           277.0519217415199,
           297.07330434479064,
           317.09468694806134,
           337.1160695513321,
           357.1374521546028,
           377.15883475787354,
           397.18021736114423,
           417.2015999644149,
           437.2229825676857,
           457.2443651709564
          ],
          [
           277.0519217415199,
           297.07330434479064,
           317.09468694806134,
           337.1160695513321,
           357.1374521546028,
           377.15883475787354,
           397.18021736114423,
           417.2015999644149,
           437.2229825676857,
           457.2443651709564
          ],
          [
           277.0519217415199,
           297.07330434479064,
           317.09468694806134,
           337.1160695513321,
           357.1374521546028,
           377.15883475787354,
           397.18021736114423,
           417.2015999644149,
           437.2229825676857,
           457.2443651709564
          ],
          [
           277.0519217415199,
           297.07330434479064,
           317.09468694806134,
           337.1160695513321,
           357.1374521546028,
           377.15883475787354,
           397.18021736114423,
           417.2015999644149,
           437.2229825676857,
           457.2443651709564
          ],
          [
           277.0519217415199,
           297.07330434479064,
           317.09468694806134,
           337.1160695513321,
           357.1374521546028,
           377.15883475787354,
           397.18021736114423,
           417.2015999644149,
           437.2229825676857,
           457.2443651709564
          ],
          [
           277.0519217415199,
           297.07330434479064,
           317.09468694806134,
           337.1160695513321,
           357.1374521546028,
           377.15883475787354,
           397.18021736114423,
           417.2015999644149,
           437.2229825676857,
           457.2443651709564
          ],
          [
           277.0519217415199,
           297.07330434479064,
           317.09468694806134,
           337.1160695513321,
           357.1374521546028,
           377.15883475787354,
           397.18021736114423,
           417.2015999644149,
           437.2229825676857,
           457.2443651709564
          ],
          [
           277.0519217415199,
           297.07330434479064,
           317.09468694806134,
           337.1160695513321,
           357.1374521546028,
           377.15883475787354,
           397.18021736114423,
           417.2015999644149,
           437.2229825676857,
           457.2443651709564
          ],
          [
           277.0519217415199,
           297.07330434479064,
           317.09468694806134,
           337.1160695513321,
           357.1374521546028,
           377.15883475787354,
           397.18021736114423,
           417.2015999644149,
           437.2229825676857,
           457.2443651709564
          ]
         ]
        },
        {
         "coloraxis": "coloraxis",
         "colorbar": {
          "thickness": 5
         },
         "name": "PU+1.4%EG",
         "opacity": 0.6,
         "type": "surface",
         "visible": false,
         "x": [
          [
           2.5,
           3.1666666666666665,
           3.833333333333333,
           4.5,
           5.166666666666666,
           5.833333333333333,
           6.5,
           7.166666666666666,
           7.833333333333333,
           8.5
          ],
          [
           2.5,
           3.1666666666666665,
           3.833333333333333,
           4.5,
           5.166666666666666,
           5.833333333333333,
           6.5,
           7.166666666666666,
           7.833333333333333,
           8.5
          ],
          [
           2.5,
           3.1666666666666665,
           3.833333333333333,
           4.5,
           5.166666666666666,
           5.833333333333333,
           6.5,
           7.166666666666666,
           7.833333333333333,
           8.5
          ],
          [
           2.5,
           3.1666666666666665,
           3.833333333333333,
           4.5,
           5.166666666666666,
           5.833333333333333,
           6.5,
           7.166666666666666,
           7.833333333333333,
           8.5
          ],
          [
           2.5,
           3.1666666666666665,
           3.833333333333333,
           4.5,
           5.166666666666666,
           5.833333333333333,
           6.5,
           7.166666666666666,
           7.833333333333333,
           8.5
          ],
          [
           2.5,
           3.1666666666666665,
           3.833333333333333,
           4.5,
           5.166666666666666,
           5.833333333333333,
           6.5,
           7.166666666666666,
           7.833333333333333,
           8.5
          ],
          [
           2.5,
           3.1666666666666665,
           3.833333333333333,
           4.5,
           5.166666666666666,
           5.833333333333333,
           6.5,
           7.166666666666666,
           7.833333333333333,
           8.5
          ],
          [
           2.5,
           3.1666666666666665,
           3.833333333333333,
           4.5,
           5.166666666666666,
           5.833333333333333,
           6.5,
           7.166666666666666,
           7.833333333333333,
           8.5
          ],
          [
           2.5,
           3.1666666666666665,
           3.833333333333333,
           4.5,
           5.166666666666666,
           5.833333333333333,
           6.5,
           7.166666666666666,
           7.833333333333333,
           8.5
          ],
          [
           2.5,
           3.1666666666666665,
           3.833333333333333,
           4.5,
           5.166666666666666,
           5.833333333333333,
           6.5,
           7.166666666666666,
           7.833333333333333,
           8.5
          ]
         ],
         "y": [
          [
           2,
           2,
           2,
           2,
           2,
           2,
           2,
           2,
           2,
           2
          ],
          [
           2.2222222222222223,
           2.2222222222222223,
           2.2222222222222223,
           2.2222222222222223,
           2.2222222222222223,
           2.2222222222222223,
           2.2222222222222223,
           2.2222222222222223,
           2.2222222222222223,
           2.2222222222222223
          ],
          [
           2.4444444444444446,
           2.4444444444444446,
           2.4444444444444446,
           2.4444444444444446,
           2.4444444444444446,
           2.4444444444444446,
           2.4444444444444446,
           2.4444444444444446,
           2.4444444444444446,
           2.4444444444444446
          ],
          [
           2.6666666666666665,
           2.6666666666666665,
           2.6666666666666665,
           2.6666666666666665,
           2.6666666666666665,
           2.6666666666666665,
           2.6666666666666665,
           2.6666666666666665,
           2.6666666666666665,
           2.6666666666666665
          ],
          [
           2.888888888888889,
           2.888888888888889,
           2.888888888888889,
           2.888888888888889,
           2.888888888888889,
           2.888888888888889,
           2.888888888888889,
           2.888888888888889,
           2.888888888888889,
           2.888888888888889
          ],
          [
           3.111111111111111,
           3.111111111111111,
           3.111111111111111,
           3.111111111111111,
           3.111111111111111,
           3.111111111111111,
           3.111111111111111,
           3.111111111111111,
           3.111111111111111,
           3.111111111111111
          ],
          [
           3.333333333333333,
           3.333333333333333,
           3.333333333333333,
           3.333333333333333,
           3.333333333333333,
           3.333333333333333,
           3.333333333333333,
           3.333333333333333,
           3.333333333333333,
           3.333333333333333
          ],
          [
           3.5555555555555554,
           3.5555555555555554,
           3.5555555555555554,
           3.5555555555555554,
           3.5555555555555554,
           3.5555555555555554,
           3.5555555555555554,
           3.5555555555555554,
           3.5555555555555554,
           3.5555555555555554
          ],
          [
           3.7777777777777777,
           3.7777777777777777,
           3.7777777777777777,
           3.7777777777777777,
           3.7777777777777777,
           3.7777777777777777,
           3.7777777777777777,
           3.7777777777777777,
           3.7777777777777777,
           3.7777777777777777
          ],
          [
           4,
           4,
           4,
           4,
           4,
           4,
           4,
           4,
           4,
           4
          ]
         ],
         "z": [
          [
           279.6198702531291,
           299.6412528563998,
           319.66263545967047,
           339.6840180629412,
           359.7054006662119,
           379.72678326948267,
           399.74816587275336,
           419.76954847602406,
           439.7909310792948,
           459.81231368256556
          ],
          [
           279.6198702531291,
           299.6412528563998,
           319.66263545967047,
           339.6840180629412,
           359.7054006662119,
           379.72678326948267,
           399.74816587275336,
           419.76954847602406,
           439.7909310792948,
           459.81231368256556
          ],
          [
           279.6198702531291,
           299.6412528563998,
           319.66263545967047,
           339.6840180629412,
           359.7054006662119,
           379.72678326948267,
           399.74816587275336,
           419.76954847602406,
           439.7909310792948,
           459.81231368256556
          ],
          [
           279.6198702531291,
           299.6412528563998,
           319.66263545967047,
           339.6840180629412,
           359.7054006662119,
           379.72678326948267,
           399.74816587275336,
           419.76954847602406,
           439.7909310792948,
           459.81231368256556
          ],
          [
           279.6198702531291,
           299.6412528563998,
           319.66263545967047,
           339.6840180629412,
           359.7054006662119,
           379.72678326948267,
           399.74816587275336,
           419.76954847602406,
           439.7909310792948,
           459.81231368256556
          ],
          [
           279.6198702531291,
           299.6412528563998,
           319.66263545967047,
           339.6840180629412,
           359.7054006662119,
           379.72678326948267,
           399.74816587275336,
           419.76954847602406,
           439.7909310792948,
           459.81231368256556
          ],
          [
           279.6198702531291,
           299.6412528563998,
           319.66263545967047,
           339.6840180629412,
           359.7054006662119,
           379.72678326948267,
           399.74816587275336,
           419.76954847602406,
           439.7909310792948,
           459.81231368256556
          ],
          [
           279.6198702531291,
           299.6412528563998,
           319.66263545967047,
           339.6840180629412,
           359.7054006662119,
           379.72678326948267,
           399.74816587275336,
           419.76954847602406,
           439.7909310792948,
           459.81231368256556
          ],
          [
           279.6198702531291,
           299.6412528563998,
           319.66263545967047,
           339.6840180629412,
           359.7054006662119,
           379.72678326948267,
           399.74816587275336,
           419.76954847602406,
           439.7909310792948,
           459.81231368256556
          ],
          [
           279.6198702531291,
           299.6412528563998,
           319.66263545967047,
           339.6840180629412,
           359.7054006662119,
           379.72678326948267,
           399.74816587275336,
           419.76954847602406,
           439.7909310792948,
           459.81231368256556
          ]
         ]
        },
        {
         "coloraxis": "coloraxis",
         "colorbar": {
          "thickness": 5
         },
         "name": "PU+1.5%EG",
         "opacity": 0.6,
         "type": "surface",
         "visible": false,
         "x": [
          [
           2.5,
           3.1666666666666665,
           3.833333333333333,
           4.5,
           5.166666666666666,
           5.833333333333333,
           6.5,
           7.166666666666666,
           7.833333333333333,
           8.5
          ],
          [
           2.5,
           3.1666666666666665,
           3.833333333333333,
           4.5,
           5.166666666666666,
           5.833333333333333,
           6.5,
           7.166666666666666,
           7.833333333333333,
           8.5
          ],
          [
           2.5,
           3.1666666666666665,
           3.833333333333333,
           4.5,
           5.166666666666666,
           5.833333333333333,
           6.5,
           7.166666666666666,
           7.833333333333333,
           8.5
          ],
          [
           2.5,
           3.1666666666666665,
           3.833333333333333,
           4.5,
           5.166666666666666,
           5.833333333333333,
           6.5,
           7.166666666666666,
           7.833333333333333,
           8.5
          ],
          [
           2.5,
           3.1666666666666665,
           3.833333333333333,
           4.5,
           5.166666666666666,
           5.833333333333333,
           6.5,
           7.166666666666666,
           7.833333333333333,
           8.5
          ],
          [
           2.5,
           3.1666666666666665,
           3.833333333333333,
           4.5,
           5.166666666666666,
           5.833333333333333,
           6.5,
           7.166666666666666,
           7.833333333333333,
           8.5
          ],
          [
           2.5,
           3.1666666666666665,
           3.833333333333333,
           4.5,
           5.166666666666666,
           5.833333333333333,
           6.5,
           7.166666666666666,
           7.833333333333333,
           8.5
          ],
          [
           2.5,
           3.1666666666666665,
           3.833333333333333,
           4.5,
           5.166666666666666,
           5.833333333333333,
           6.5,
           7.166666666666666,
           7.833333333333333,
           8.5
          ],
          [
           2.5,
           3.1666666666666665,
           3.833333333333333,
           4.5,
           5.166666666666666,
           5.833333333333333,
           6.5,
           7.166666666666666,
           7.833333333333333,
           8.5
          ],
          [
           2.5,
           3.1666666666666665,
           3.833333333333333,
           4.5,
           5.166666666666666,
           5.833333333333333,
           6.5,
           7.166666666666666,
           7.833333333333333,
           8.5
          ]
         ],
         "y": [
          [
           2,
           2,
           2,
           2,
           2,
           2,
           2,
           2,
           2,
           2
          ],
          [
           2.2222222222222223,
           2.2222222222222223,
           2.2222222222222223,
           2.2222222222222223,
           2.2222222222222223,
           2.2222222222222223,
           2.2222222222222223,
           2.2222222222222223,
           2.2222222222222223,
           2.2222222222222223
          ],
          [
           2.4444444444444446,
           2.4444444444444446,
           2.4444444444444446,
           2.4444444444444446,
           2.4444444444444446,
           2.4444444444444446,
           2.4444444444444446,
           2.4444444444444446,
           2.4444444444444446,
           2.4444444444444446
          ],
          [
           2.6666666666666665,
           2.6666666666666665,
           2.6666666666666665,
           2.6666666666666665,
           2.6666666666666665,
           2.6666666666666665,
           2.6666666666666665,
           2.6666666666666665,
           2.6666666666666665,
           2.6666666666666665
          ],
          [
           2.888888888888889,
           2.888888888888889,
           2.888888888888889,
           2.888888888888889,
           2.888888888888889,
           2.888888888888889,
           2.888888888888889,
           2.888888888888889,
           2.888888888888889,
           2.888888888888889
          ],
          [
           3.111111111111111,
           3.111111111111111,
           3.111111111111111,
           3.111111111111111,
           3.111111111111111,
           3.111111111111111,
           3.111111111111111,
           3.111111111111111,
           3.111111111111111,
           3.111111111111111
          ],
          [
           3.333333333333333,
           3.333333333333333,
           3.333333333333333,
           3.333333333333333,
           3.333333333333333,
           3.333333333333333,
           3.333333333333333,
           3.333333333333333,
           3.333333333333333,
           3.333333333333333
          ],
          [
           3.5555555555555554,
           3.5555555555555554,
           3.5555555555555554,
           3.5555555555555554,
           3.5555555555555554,
           3.5555555555555554,
           3.5555555555555554,
           3.5555555555555554,
           3.5555555555555554,
           3.5555555555555554
          ],
          [
           3.7777777777777777,
           3.7777777777777777,
           3.7777777777777777,
           3.7777777777777777,
           3.7777777777777777,
           3.7777777777777777,
           3.7777777777777777,
           3.7777777777777777,
           3.7777777777777777,
           3.7777777777777777
          ],
          [
           4,
           4,
           4,
           4,
           4,
           4,
           4,
           4,
           4,
           4
          ]
         ],
         "z": [
          [
           282.1878187647382,
           302.20920136800896,
           322.23058397127966,
           342.25196657455035,
           362.27334917782105,
           382.29473178109185,
           402.31611438436255,
           422.33749698763324,
           442.35887959090394,
           462.38026219417475
          ],
          [
           282.1878187647382,
           302.20920136800896,
           322.23058397127966,
           342.25196657455035,
           362.27334917782105,
           382.29473178109185,
           402.31611438436255,
           422.33749698763324,
           442.35887959090394,
           462.38026219417475
          ],
          [
           282.1878187647382,
           302.20920136800896,
           322.23058397127966,
           342.25196657455035,
           362.27334917782105,
           382.29473178109185,
           402.31611438436255,
           422.33749698763324,
           442.35887959090394,
           462.38026219417475
          ],
          [
           282.1878187647382,
           302.20920136800896,
           322.23058397127966,
           342.25196657455035,
           362.27334917782105,
           382.29473178109185,
           402.31611438436255,
           422.33749698763324,
           442.35887959090394,
           462.38026219417475
          ],
          [
           282.1878187647382,
           302.20920136800896,
           322.23058397127966,
           342.25196657455035,
           362.27334917782105,
           382.29473178109185,
           402.31611438436255,
           422.33749698763324,
           442.35887959090394,
           462.38026219417475
          ],
          [
           282.1878187647382,
           302.20920136800896,
           322.23058397127966,
           342.25196657455035,
           362.27334917782105,
           382.29473178109185,
           402.31611438436255,
           422.33749698763324,
           442.35887959090394,
           462.38026219417475
          ],
          [
           282.1878187647382,
           302.20920136800896,
           322.23058397127966,
           342.25196657455035,
           362.27334917782105,
           382.29473178109185,
           402.31611438436255,
           422.33749698763324,
           442.35887959090394,
           462.38026219417475
          ],
          [
           282.1878187647382,
           302.20920136800896,
           322.23058397127966,
           342.25196657455035,
           362.27334917782105,
           382.29473178109185,
           402.31611438436255,
           422.33749698763324,
           442.35887959090394,
           462.38026219417475
          ],
          [
           282.1878187647382,
           302.20920136800896,
           322.23058397127966,
           342.25196657455035,
           362.27334917782105,
           382.29473178109185,
           402.31611438436255,
           422.33749698763324,
           442.35887959090394,
           462.38026219417475
          ],
          [
           282.1878187647382,
           302.20920136800896,
           322.23058397127966,
           342.25196657455035,
           362.27334917782105,
           382.29473178109185,
           402.31611438436255,
           422.33749698763324,
           442.35887959090394,
           462.38026219417475
          ]
         ]
        },
        {
         "coloraxis": "coloraxis",
         "colorbar": {
          "thickness": 5
         },
         "name": "PU+1.6%EG",
         "opacity": 0.6,
         "type": "surface",
         "visible": false,
         "x": [
          [
           2.5,
           3.1666666666666665,
           3.833333333333333,
           4.5,
           5.166666666666666,
           5.833333333333333,
           6.5,
           7.166666666666666,
           7.833333333333333,
           8.5
          ],
          [
           2.5,
           3.1666666666666665,
           3.833333333333333,
           4.5,
           5.166666666666666,
           5.833333333333333,
           6.5,
           7.166666666666666,
           7.833333333333333,
           8.5
          ],
          [
           2.5,
           3.1666666666666665,
           3.833333333333333,
           4.5,
           5.166666666666666,
           5.833333333333333,
           6.5,
           7.166666666666666,
           7.833333333333333,
           8.5
          ],
          [
           2.5,
           3.1666666666666665,
           3.833333333333333,
           4.5,
           5.166666666666666,
           5.833333333333333,
           6.5,
           7.166666666666666,
           7.833333333333333,
           8.5
          ],
          [
           2.5,
           3.1666666666666665,
           3.833333333333333,
           4.5,
           5.166666666666666,
           5.833333333333333,
           6.5,
           7.166666666666666,
           7.833333333333333,
           8.5
          ],
          [
           2.5,
           3.1666666666666665,
           3.833333333333333,
           4.5,
           5.166666666666666,
           5.833333333333333,
           6.5,
           7.166666666666666,
           7.833333333333333,
           8.5
          ],
          [
           2.5,
           3.1666666666666665,
           3.833333333333333,
           4.5,
           5.166666666666666,
           5.833333333333333,
           6.5,
           7.166666666666666,
           7.833333333333333,
           8.5
          ],
          [
           2.5,
           3.1666666666666665,
           3.833333333333333,
           4.5,
           5.166666666666666,
           5.833333333333333,
           6.5,
           7.166666666666666,
           7.833333333333333,
           8.5
          ],
          [
           2.5,
           3.1666666666666665,
           3.833333333333333,
           4.5,
           5.166666666666666,
           5.833333333333333,
           6.5,
           7.166666666666666,
           7.833333333333333,
           8.5
          ],
          [
           2.5,
           3.1666666666666665,
           3.833333333333333,
           4.5,
           5.166666666666666,
           5.833333333333333,
           6.5,
           7.166666666666666,
           7.833333333333333,
           8.5
          ]
         ],
         "y": [
          [
           2,
           2,
           2,
           2,
           2,
           2,
           2,
           2,
           2,
           2
          ],
          [
           2.2222222222222223,
           2.2222222222222223,
           2.2222222222222223,
           2.2222222222222223,
           2.2222222222222223,
           2.2222222222222223,
           2.2222222222222223,
           2.2222222222222223,
           2.2222222222222223,
           2.2222222222222223
          ],
          [
           2.4444444444444446,
           2.4444444444444446,
           2.4444444444444446,
           2.4444444444444446,
           2.4444444444444446,
           2.4444444444444446,
           2.4444444444444446,
           2.4444444444444446,
           2.4444444444444446,
           2.4444444444444446
          ],
          [
           2.6666666666666665,
           2.6666666666666665,
           2.6666666666666665,
           2.6666666666666665,
           2.6666666666666665,
           2.6666666666666665,
           2.6666666666666665,
           2.6666666666666665,
           2.6666666666666665,
           2.6666666666666665
          ],
          [
           2.888888888888889,
           2.888888888888889,
           2.888888888888889,
           2.888888888888889,
           2.888888888888889,
           2.888888888888889,
           2.888888888888889,
           2.888888888888889,
           2.888888888888889,
           2.888888888888889
          ],
          [
           3.111111111111111,
           3.111111111111111,
           3.111111111111111,
           3.111111111111111,
           3.111111111111111,
           3.111111111111111,
           3.111111111111111,
           3.111111111111111,
           3.111111111111111,
           3.111111111111111
          ],
          [
           3.333333333333333,
           3.333333333333333,
           3.333333333333333,
           3.333333333333333,
           3.333333333333333,
           3.333333333333333,
           3.333333333333333,
           3.333333333333333,
           3.333333333333333,
           3.333333333333333
          ],
          [
           3.5555555555555554,
           3.5555555555555554,
           3.5555555555555554,
           3.5555555555555554,
           3.5555555555555554,
           3.5555555555555554,
           3.5555555555555554,
           3.5555555555555554,
           3.5555555555555554,
           3.5555555555555554
          ],
          [
           3.7777777777777777,
           3.7777777777777777,
           3.7777777777777777,
           3.7777777777777777,
           3.7777777777777777,
           3.7777777777777777,
           3.7777777777777777,
           3.7777777777777777,
           3.7777777777777777,
           3.7777777777777777
          ],
          [
           4,
           4,
           4,
           4,
           4,
           4,
           4,
           4,
           4,
           4
          ]
         ],
         "z": [
          [
           284.75576727634734,
           304.7771498796181,
           324.7985324828888,
           344.81991508615954,
           364.84129768943023,
           384.862680292701,
           404.8840628959717,
           424.9054454992424,
           444.9268281025131,
           464.9482107057839
          ],
          [
           284.75576727634734,
           304.7771498796181,
           324.7985324828888,
           344.81991508615954,
           364.84129768943023,
           384.862680292701,
           404.8840628959717,
           424.9054454992424,
           444.9268281025131,
           464.9482107057839
          ],
          [
           284.75576727634734,
           304.7771498796181,
           324.7985324828888,
           344.81991508615954,
           364.84129768943023,
           384.862680292701,
           404.8840628959717,
           424.9054454992424,
           444.9268281025131,
           464.9482107057839
          ],
          [
           284.75576727634734,
           304.7771498796181,
           324.7985324828888,
           344.81991508615954,
           364.84129768943023,
           384.862680292701,
           404.8840628959717,
           424.9054454992424,
           444.9268281025131,
           464.9482107057839
          ],
          [
           284.75576727634734,
           304.7771498796181,
           324.7985324828888,
           344.81991508615954,
           364.84129768943023,
           384.862680292701,
           404.8840628959717,
           424.9054454992424,
           444.9268281025131,
           464.9482107057839
          ],
          [
           284.75576727634734,
           304.7771498796181,
           324.7985324828888,
           344.81991508615954,
           364.84129768943023,
           384.862680292701,
           404.8840628959717,
           424.9054454992424,
           444.9268281025131,
           464.9482107057839
          ],
          [
           284.75576727634734,
           304.7771498796181,
           324.7985324828888,
           344.81991508615954,
           364.84129768943023,
           384.862680292701,
           404.8840628959717,
           424.9054454992424,
           444.9268281025131,
           464.9482107057839
          ],
          [
           284.75576727634734,
           304.7771498796181,
           324.7985324828888,
           344.81991508615954,
           364.84129768943023,
           384.862680292701,
           404.8840628959717,
           424.9054454992424,
           444.9268281025131,
           464.9482107057839
          ],
          [
           284.75576727634734,
           304.7771498796181,
           324.7985324828888,
           344.81991508615954,
           364.84129768943023,
           384.862680292701,
           404.8840628959717,
           424.9054454992424,
           444.9268281025131,
           464.9482107057839
          ],
          [
           284.75576727634734,
           304.7771498796181,
           324.7985324828888,
           344.81991508615954,
           364.84129768943023,
           384.862680292701,
           404.8840628959717,
           424.9054454992424,
           444.9268281025131,
           464.9482107057839
          ]
         ]
        },
        {
         "coloraxis": "coloraxis",
         "colorbar": {
          "thickness": 5
         },
         "name": "PU+1.7%EG",
         "opacity": 0.6,
         "type": "surface",
         "visible": false,
         "x": [
          [
           2.5,
           3.1666666666666665,
           3.833333333333333,
           4.5,
           5.166666666666666,
           5.833333333333333,
           6.5,
           7.166666666666666,
           7.833333333333333,
           8.5
          ],
          [
           2.5,
           3.1666666666666665,
           3.833333333333333,
           4.5,
           5.166666666666666,
           5.833333333333333,
           6.5,
           7.166666666666666,
           7.833333333333333,
           8.5
          ],
          [
           2.5,
           3.1666666666666665,
           3.833333333333333,
           4.5,
           5.166666666666666,
           5.833333333333333,
           6.5,
           7.166666666666666,
           7.833333333333333,
           8.5
          ],
          [
           2.5,
           3.1666666666666665,
           3.833333333333333,
           4.5,
           5.166666666666666,
           5.833333333333333,
           6.5,
           7.166666666666666,
           7.833333333333333,
           8.5
          ],
          [
           2.5,
           3.1666666666666665,
           3.833333333333333,
           4.5,
           5.166666666666666,
           5.833333333333333,
           6.5,
           7.166666666666666,
           7.833333333333333,
           8.5
          ],
          [
           2.5,
           3.1666666666666665,
           3.833333333333333,
           4.5,
           5.166666666666666,
           5.833333333333333,
           6.5,
           7.166666666666666,
           7.833333333333333,
           8.5
          ],
          [
           2.5,
           3.1666666666666665,
           3.833333333333333,
           4.5,
           5.166666666666666,
           5.833333333333333,
           6.5,
           7.166666666666666,
           7.833333333333333,
           8.5
          ],
          [
           2.5,
           3.1666666666666665,
           3.833333333333333,
           4.5,
           5.166666666666666,
           5.833333333333333,
           6.5,
           7.166666666666666,
           7.833333333333333,
           8.5
          ],
          [
           2.5,
           3.1666666666666665,
           3.833333333333333,
           4.5,
           5.166666666666666,
           5.833333333333333,
           6.5,
           7.166666666666666,
           7.833333333333333,
           8.5
          ],
          [
           2.5,
           3.1666666666666665,
           3.833333333333333,
           4.5,
           5.166666666666666,
           5.833333333333333,
           6.5,
           7.166666666666666,
           7.833333333333333,
           8.5
          ]
         ],
         "y": [
          [
           2,
           2,
           2,
           2,
           2,
           2,
           2,
           2,
           2,
           2
          ],
          [
           2.2222222222222223,
           2.2222222222222223,
           2.2222222222222223,
           2.2222222222222223,
           2.2222222222222223,
           2.2222222222222223,
           2.2222222222222223,
           2.2222222222222223,
           2.2222222222222223,
           2.2222222222222223
          ],
          [
           2.4444444444444446,
           2.4444444444444446,
           2.4444444444444446,
           2.4444444444444446,
           2.4444444444444446,
           2.4444444444444446,
           2.4444444444444446,
           2.4444444444444446,
           2.4444444444444446,
           2.4444444444444446
          ],
          [
           2.6666666666666665,
           2.6666666666666665,
           2.6666666666666665,
           2.6666666666666665,
           2.6666666666666665,
           2.6666666666666665,
           2.6666666666666665,
           2.6666666666666665,
           2.6666666666666665,
           2.6666666666666665
          ],
          [
           2.888888888888889,
           2.888888888888889,
           2.888888888888889,
           2.888888888888889,
           2.888888888888889,
           2.888888888888889,
           2.888888888888889,
           2.888888888888889,
           2.888888888888889,
           2.888888888888889
          ],
          [
           3.111111111111111,
           3.111111111111111,
           3.111111111111111,
           3.111111111111111,
           3.111111111111111,
           3.111111111111111,
           3.111111111111111,
           3.111111111111111,
           3.111111111111111,
           3.111111111111111
          ],
          [
           3.333333333333333,
           3.333333333333333,
           3.333333333333333,
           3.333333333333333,
           3.333333333333333,
           3.333333333333333,
           3.333333333333333,
           3.333333333333333,
           3.333333333333333,
           3.333333333333333
          ],
          [
           3.5555555555555554,
           3.5555555555555554,
           3.5555555555555554,
           3.5555555555555554,
           3.5555555555555554,
           3.5555555555555554,
           3.5555555555555554,
           3.5555555555555554,
           3.5555555555555554,
           3.5555555555555554
          ],
          [
           3.7777777777777777,
           3.7777777777777777,
           3.7777777777777777,
           3.7777777777777777,
           3.7777777777777777,
           3.7777777777777777,
           3.7777777777777777,
           3.7777777777777777,
           3.7777777777777777,
           3.7777777777777777
          ],
          [
           4,
           4,
           4,
           4,
           4,
           4,
           4,
           4,
           4,
           4
          ]
         ],
         "z": [
          [
           287.32371578795653,
           307.3450983912272,
           327.3664809944979,
           347.3878635977687,
           367.4092462010394,
           387.4306288043101,
           407.4520114075808,
           427.4733940108515,
           447.4947766141223,
           467.516159217393
          ],
          [
           287.32371578795653,
           307.3450983912272,
           327.3664809944979,
           347.3878635977687,
           367.4092462010394,
           387.4306288043101,
           407.4520114075808,
           427.4733940108515,
           447.4947766141223,
           467.516159217393
          ],
          [
           287.32371578795653,
           307.3450983912272,
           327.3664809944979,
           347.3878635977687,
           367.4092462010394,
           387.4306288043101,
           407.4520114075808,
           427.4733940108515,
           447.4947766141223,
           467.516159217393
          ],
          [
           287.32371578795653,
           307.3450983912272,
           327.3664809944979,
           347.3878635977687,
           367.4092462010394,
           387.4306288043101,
           407.4520114075808,
           427.4733940108515,
           447.4947766141223,
           467.516159217393
          ],
          [
           287.32371578795653,
           307.3450983912272,
           327.3664809944979,
           347.3878635977687,
           367.4092462010394,
           387.4306288043101,
           407.4520114075808,
           427.4733940108515,
           447.4947766141223,
           467.516159217393
          ],
          [
           287.32371578795653,
           307.3450983912272,
           327.3664809944979,
           347.3878635977687,
           367.4092462010394,
           387.4306288043101,
           407.4520114075808,
           427.4733940108515,
           447.4947766141223,
           467.516159217393
          ],
          [
           287.32371578795653,
           307.3450983912272,
           327.3664809944979,
           347.3878635977687,
           367.4092462010394,
           387.4306288043101,
           407.4520114075808,
           427.4733940108515,
           447.4947766141223,
           467.516159217393
          ],
          [
           287.32371578795653,
           307.3450983912272,
           327.3664809944979,
           347.3878635977687,
           367.4092462010394,
           387.4306288043101,
           407.4520114075808,
           427.4733940108515,
           447.4947766141223,
           467.516159217393
          ],
          [
           287.32371578795653,
           307.3450983912272,
           327.3664809944979,
           347.3878635977687,
           367.4092462010394,
           387.4306288043101,
           407.4520114075808,
           427.4733940108515,
           447.4947766141223,
           467.516159217393
          ],
          [
           287.32371578795653,
           307.3450983912272,
           327.3664809944979,
           347.3878635977687,
           367.4092462010394,
           387.4306288043101,
           407.4520114075808,
           427.4733940108515,
           447.4947766141223,
           467.516159217393
          ]
         ]
        },
        {
         "coloraxis": "coloraxis",
         "colorbar": {
          "thickness": 5
         },
         "name": "PU+1.8%EG",
         "opacity": 0.6,
         "type": "surface",
         "visible": false,
         "x": [
          [
           2.5,
           3.1666666666666665,
           3.833333333333333,
           4.5,
           5.166666666666666,
           5.833333333333333,
           6.5,
           7.166666666666666,
           7.833333333333333,
           8.5
          ],
          [
           2.5,
           3.1666666666666665,
           3.833333333333333,
           4.5,
           5.166666666666666,
           5.833333333333333,
           6.5,
           7.166666666666666,
           7.833333333333333,
           8.5
          ],
          [
           2.5,
           3.1666666666666665,
           3.833333333333333,
           4.5,
           5.166666666666666,
           5.833333333333333,
           6.5,
           7.166666666666666,
           7.833333333333333,
           8.5
          ],
          [
           2.5,
           3.1666666666666665,
           3.833333333333333,
           4.5,
           5.166666666666666,
           5.833333333333333,
           6.5,
           7.166666666666666,
           7.833333333333333,
           8.5
          ],
          [
           2.5,
           3.1666666666666665,
           3.833333333333333,
           4.5,
           5.166666666666666,
           5.833333333333333,
           6.5,
           7.166666666666666,
           7.833333333333333,
           8.5
          ],
          [
           2.5,
           3.1666666666666665,
           3.833333333333333,
           4.5,
           5.166666666666666,
           5.833333333333333,
           6.5,
           7.166666666666666,
           7.833333333333333,
           8.5
          ],
          [
           2.5,
           3.1666666666666665,
           3.833333333333333,
           4.5,
           5.166666666666666,
           5.833333333333333,
           6.5,
           7.166666666666666,
           7.833333333333333,
           8.5
          ],
          [
           2.5,
           3.1666666666666665,
           3.833333333333333,
           4.5,
           5.166666666666666,
           5.833333333333333,
           6.5,
           7.166666666666666,
           7.833333333333333,
           8.5
          ],
          [
           2.5,
           3.1666666666666665,
           3.833333333333333,
           4.5,
           5.166666666666666,
           5.833333333333333,
           6.5,
           7.166666666666666,
           7.833333333333333,
           8.5
          ],
          [
           2.5,
           3.1666666666666665,
           3.833333333333333,
           4.5,
           5.166666666666666,
           5.833333333333333,
           6.5,
           7.166666666666666,
           7.833333333333333,
           8.5
          ]
         ],
         "y": [
          [
           2,
           2,
           2,
           2,
           2,
           2,
           2,
           2,
           2,
           2
          ],
          [
           2.2222222222222223,
           2.2222222222222223,
           2.2222222222222223,
           2.2222222222222223,
           2.2222222222222223,
           2.2222222222222223,
           2.2222222222222223,
           2.2222222222222223,
           2.2222222222222223,
           2.2222222222222223
          ],
          [
           2.4444444444444446,
           2.4444444444444446,
           2.4444444444444446,
           2.4444444444444446,
           2.4444444444444446,
           2.4444444444444446,
           2.4444444444444446,
           2.4444444444444446,
           2.4444444444444446,
           2.4444444444444446
          ],
          [
           2.6666666666666665,
           2.6666666666666665,
           2.6666666666666665,
           2.6666666666666665,
           2.6666666666666665,
           2.6666666666666665,
           2.6666666666666665,
           2.6666666666666665,
           2.6666666666666665,
           2.6666666666666665
          ],
          [
           2.888888888888889,
           2.888888888888889,
           2.888888888888889,
           2.888888888888889,
           2.888888888888889,
           2.888888888888889,
           2.888888888888889,
           2.888888888888889,
           2.888888888888889,
           2.888888888888889
          ],
          [
           3.111111111111111,
           3.111111111111111,
           3.111111111111111,
           3.111111111111111,
           3.111111111111111,
           3.111111111111111,
           3.111111111111111,
           3.111111111111111,
           3.111111111111111,
           3.111111111111111
          ],
          [
           3.333333333333333,
           3.333333333333333,
           3.333333333333333,
           3.333333333333333,
           3.333333333333333,
           3.333333333333333,
           3.333333333333333,
           3.333333333333333,
           3.333333333333333,
           3.333333333333333
          ],
          [
           3.5555555555555554,
           3.5555555555555554,
           3.5555555555555554,
           3.5555555555555554,
           3.5555555555555554,
           3.5555555555555554,
           3.5555555555555554,
           3.5555555555555554,
           3.5555555555555554,
           3.5555555555555554
          ],
          [
           3.7777777777777777,
           3.7777777777777777,
           3.7777777777777777,
           3.7777777777777777,
           3.7777777777777777,
           3.7777777777777777,
           3.7777777777777777,
           3.7777777777777777,
           3.7777777777777777,
           3.7777777777777777
          ],
          [
           4,
           4,
           4,
           4,
           4,
           4,
           4,
           4,
           4,
           4
          ]
         ],
         "z": [
          [
           289.89166429956566,
           309.9130469028364,
           329.9344295061071,
           349.95581210937786,
           369.97719471264855,
           389.9985773159193,
           410.01995991919,
           430.0413425224607,
           450.06272512573145,
           470.0841077290022
          ],
          [
           289.89166429956566,
           309.9130469028364,
           329.9344295061071,
           349.95581210937786,
           369.97719471264855,
           389.9985773159193,
           410.01995991919,
           430.0413425224607,
           450.06272512573145,
           470.0841077290022
          ],
          [
           289.89166429956566,
           309.9130469028364,
           329.9344295061071,
           349.95581210937786,
           369.97719471264855,
           389.9985773159193,
           410.01995991919,
           430.0413425224607,
           450.06272512573145,
           470.0841077290022
          ],
          [
           289.89166429956566,
           309.9130469028364,
           329.9344295061071,
           349.95581210937786,
           369.97719471264855,
           389.9985773159193,
           410.01995991919,
           430.0413425224607,
           450.06272512573145,
           470.0841077290022
          ],
          [
           289.89166429956566,
           309.9130469028364,
           329.9344295061071,
           349.95581210937786,
           369.97719471264855,
           389.9985773159193,
           410.01995991919,
           430.0413425224607,
           450.06272512573145,
           470.0841077290022
          ],
          [
           289.89166429956566,
           309.9130469028364,
           329.9344295061071,
           349.95581210937786,
           369.97719471264855,
           389.9985773159193,
           410.01995991919,
           430.0413425224607,
           450.06272512573145,
           470.0841077290022
          ],
          [
           289.89166429956566,
           309.9130469028364,
           329.9344295061071,
           349.95581210937786,
           369.97719471264855,
           389.9985773159193,
           410.01995991919,
           430.0413425224607,
           450.06272512573145,
           470.0841077290022
          ],
          [
           289.89166429956566,
           309.9130469028364,
           329.9344295061071,
           349.95581210937786,
           369.97719471264855,
           389.9985773159193,
           410.01995991919,
           430.0413425224607,
           450.06272512573145,
           470.0841077290022
          ],
          [
           289.89166429956566,
           309.9130469028364,
           329.9344295061071,
           349.95581210937786,
           369.97719471264855,
           389.9985773159193,
           410.01995991919,
           430.0413425224607,
           450.06272512573145,
           470.0841077290022
          ],
          [
           289.89166429956566,
           309.9130469028364,
           329.9344295061071,
           349.95581210937786,
           369.97719471264855,
           389.9985773159193,
           410.01995991919,
           430.0413425224607,
           450.06272512573145,
           470.0841077290022
          ]
         ]
        },
        {
         "coloraxis": "coloraxis",
         "colorbar": {
          "thickness": 5
         },
         "name": "PU+1.9%EG",
         "opacity": 0.6,
         "type": "surface",
         "visible": false,
         "x": [
          [
           2.5,
           3.1666666666666665,
           3.833333333333333,
           4.5,
           5.166666666666666,
           5.833333333333333,
           6.5,
           7.166666666666666,
           7.833333333333333,
           8.5
          ],
          [
           2.5,
           3.1666666666666665,
           3.833333333333333,
           4.5,
           5.166666666666666,
           5.833333333333333,
           6.5,
           7.166666666666666,
           7.833333333333333,
           8.5
          ],
          [
           2.5,
           3.1666666666666665,
           3.833333333333333,
           4.5,
           5.166666666666666,
           5.833333333333333,
           6.5,
           7.166666666666666,
           7.833333333333333,
           8.5
          ],
          [
           2.5,
           3.1666666666666665,
           3.833333333333333,
           4.5,
           5.166666666666666,
           5.833333333333333,
           6.5,
           7.166666666666666,
           7.833333333333333,
           8.5
          ],
          [
           2.5,
           3.1666666666666665,
           3.833333333333333,
           4.5,
           5.166666666666666,
           5.833333333333333,
           6.5,
           7.166666666666666,
           7.833333333333333,
           8.5
          ],
          [
           2.5,
           3.1666666666666665,
           3.833333333333333,
           4.5,
           5.166666666666666,
           5.833333333333333,
           6.5,
           7.166666666666666,
           7.833333333333333,
           8.5
          ],
          [
           2.5,
           3.1666666666666665,
           3.833333333333333,
           4.5,
           5.166666666666666,
           5.833333333333333,
           6.5,
           7.166666666666666,
           7.833333333333333,
           8.5
          ],
          [
           2.5,
           3.1666666666666665,
           3.833333333333333,
           4.5,
           5.166666666666666,
           5.833333333333333,
           6.5,
           7.166666666666666,
           7.833333333333333,
           8.5
          ],
          [
           2.5,
           3.1666666666666665,
           3.833333333333333,
           4.5,
           5.166666666666666,
           5.833333333333333,
           6.5,
           7.166666666666666,
           7.833333333333333,
           8.5
          ],
          [
           2.5,
           3.1666666666666665,
           3.833333333333333,
           4.5,
           5.166666666666666,
           5.833333333333333,
           6.5,
           7.166666666666666,
           7.833333333333333,
           8.5
          ]
         ],
         "y": [
          [
           2,
           2,
           2,
           2,
           2,
           2,
           2,
           2,
           2,
           2
          ],
          [
           2.2222222222222223,
           2.2222222222222223,
           2.2222222222222223,
           2.2222222222222223,
           2.2222222222222223,
           2.2222222222222223,
           2.2222222222222223,
           2.2222222222222223,
           2.2222222222222223,
           2.2222222222222223
          ],
          [
           2.4444444444444446,
           2.4444444444444446,
           2.4444444444444446,
           2.4444444444444446,
           2.4444444444444446,
           2.4444444444444446,
           2.4444444444444446,
           2.4444444444444446,
           2.4444444444444446,
           2.4444444444444446
          ],
          [
           2.6666666666666665,
           2.6666666666666665,
           2.6666666666666665,
           2.6666666666666665,
           2.6666666666666665,
           2.6666666666666665,
           2.6666666666666665,
           2.6666666666666665,
           2.6666666666666665,
           2.6666666666666665
          ],
          [
           2.888888888888889,
           2.888888888888889,
           2.888888888888889,
           2.888888888888889,
           2.888888888888889,
           2.888888888888889,
           2.888888888888889,
           2.888888888888889,
           2.888888888888889,
           2.888888888888889
          ],
          [
           3.111111111111111,
           3.111111111111111,
           3.111111111111111,
           3.111111111111111,
           3.111111111111111,
           3.111111111111111,
           3.111111111111111,
           3.111111111111111,
           3.111111111111111,
           3.111111111111111
          ],
          [
           3.333333333333333,
           3.333333333333333,
           3.333333333333333,
           3.333333333333333,
           3.333333333333333,
           3.333333333333333,
           3.333333333333333,
           3.333333333333333,
           3.333333333333333,
           3.333333333333333
          ],
          [
           3.5555555555555554,
           3.5555555555555554,
           3.5555555555555554,
           3.5555555555555554,
           3.5555555555555554,
           3.5555555555555554,
           3.5555555555555554,
           3.5555555555555554,
           3.5555555555555554,
           3.5555555555555554
          ],
          [
           3.7777777777777777,
           3.7777777777777777,
           3.7777777777777777,
           3.7777777777777777,
           3.7777777777777777,
           3.7777777777777777,
           3.7777777777777777,
           3.7777777777777777,
           3.7777777777777777,
           3.7777777777777777
          ],
          [
           4,
           4,
           4,
           4,
           4,
           4,
           4,
           4,
           4,
           4
          ]
         ],
         "z": [
          [
           292.45961281117485,
           312.48099541444554,
           332.50237801771624,
           352.523760620987,
           372.5451432242577,
           392.56652582752844,
           412.58790843079913,
           432.6092910340698,
           452.6306736373406,
           472.65205624061133
          ],
          [
           292.45961281117485,
           312.48099541444554,
           332.50237801771624,
           352.523760620987,
           372.5451432242577,
           392.56652582752844,
           412.58790843079913,
           432.6092910340698,
           452.6306736373406,
           472.65205624061133
          ],
          [
           292.45961281117485,
           312.48099541444554,
           332.50237801771624,
           352.523760620987,
           372.5451432242577,
           392.56652582752844,
           412.58790843079913,
           432.6092910340698,
           452.6306736373406,
           472.65205624061133
          ],
          [
           292.45961281117485,
           312.48099541444554,
           332.50237801771624,
           352.523760620987,
           372.5451432242577,
           392.56652582752844,
           412.58790843079913,
           432.6092910340698,
           452.6306736373406,
           472.65205624061133
          ],
          [
           292.45961281117485,
           312.48099541444554,
           332.50237801771624,
           352.523760620987,
           372.5451432242577,
           392.56652582752844,
           412.58790843079913,
           432.6092910340698,
           452.6306736373406,
           472.65205624061133
          ],
          [
           292.45961281117485,
           312.48099541444554,
           332.50237801771624,
           352.523760620987,
           372.5451432242577,
           392.56652582752844,
           412.58790843079913,
           432.6092910340698,
           452.6306736373406,
           472.65205624061133
          ],
          [
           292.45961281117485,
           312.48099541444554,
           332.50237801771624,
           352.523760620987,
           372.5451432242577,
           392.56652582752844,
           412.58790843079913,
           432.6092910340698,
           452.6306736373406,
           472.65205624061133
          ],
          [
           292.45961281117485,
           312.48099541444554,
           332.50237801771624,
           352.523760620987,
           372.5451432242577,
           392.56652582752844,
           412.58790843079913,
           432.6092910340698,
           452.6306736373406,
           472.65205624061133
          ],
          [
           292.45961281117485,
           312.48099541444554,
           332.50237801771624,
           352.523760620987,
           372.5451432242577,
           392.56652582752844,
           412.58790843079913,
           432.6092910340698,
           452.6306736373406,
           472.65205624061133
          ],
          [
           292.45961281117485,
           312.48099541444554,
           332.50237801771624,
           352.523760620987,
           372.5451432242577,
           392.56652582752844,
           412.58790843079913,
           432.6092910340698,
           452.6306736373406,
           472.65205624061133
          ]
         ]
        },
        {
         "coloraxis": "coloraxis",
         "colorbar": {
          "thickness": 5
         },
         "name": "PU+2.0%EG",
         "opacity": 0.6,
         "type": "surface",
         "visible": false,
         "x": [
          [
           2.5,
           3.1666666666666665,
           3.833333333333333,
           4.5,
           5.166666666666666,
           5.833333333333333,
           6.5,
           7.166666666666666,
           7.833333333333333,
           8.5
          ],
          [
           2.5,
           3.1666666666666665,
           3.833333333333333,
           4.5,
           5.166666666666666,
           5.833333333333333,
           6.5,
           7.166666666666666,
           7.833333333333333,
           8.5
          ],
          [
           2.5,
           3.1666666666666665,
           3.833333333333333,
           4.5,
           5.166666666666666,
           5.833333333333333,
           6.5,
           7.166666666666666,
           7.833333333333333,
           8.5
          ],
          [
           2.5,
           3.1666666666666665,
           3.833333333333333,
           4.5,
           5.166666666666666,
           5.833333333333333,
           6.5,
           7.166666666666666,
           7.833333333333333,
           8.5
          ],
          [
           2.5,
           3.1666666666666665,
           3.833333333333333,
           4.5,
           5.166666666666666,
           5.833333333333333,
           6.5,
           7.166666666666666,
           7.833333333333333,
           8.5
          ],
          [
           2.5,
           3.1666666666666665,
           3.833333333333333,
           4.5,
           5.166666666666666,
           5.833333333333333,
           6.5,
           7.166666666666666,
           7.833333333333333,
           8.5
          ],
          [
           2.5,
           3.1666666666666665,
           3.833333333333333,
           4.5,
           5.166666666666666,
           5.833333333333333,
           6.5,
           7.166666666666666,
           7.833333333333333,
           8.5
          ],
          [
           2.5,
           3.1666666666666665,
           3.833333333333333,
           4.5,
           5.166666666666666,
           5.833333333333333,
           6.5,
           7.166666666666666,
           7.833333333333333,
           8.5
          ],
          [
           2.5,
           3.1666666666666665,
           3.833333333333333,
           4.5,
           5.166666666666666,
           5.833333333333333,
           6.5,
           7.166666666666666,
           7.833333333333333,
           8.5
          ],
          [
           2.5,
           3.1666666666666665,
           3.833333333333333,
           4.5,
           5.166666666666666,
           5.833333333333333,
           6.5,
           7.166666666666666,
           7.833333333333333,
           8.5
          ]
         ],
         "y": [
          [
           2,
           2,
           2,
           2,
           2,
           2,
           2,
           2,
           2,
           2
          ],
          [
           2.2222222222222223,
           2.2222222222222223,
           2.2222222222222223,
           2.2222222222222223,
           2.2222222222222223,
           2.2222222222222223,
           2.2222222222222223,
           2.2222222222222223,
           2.2222222222222223,
           2.2222222222222223
          ],
          [
           2.4444444444444446,
           2.4444444444444446,
           2.4444444444444446,
           2.4444444444444446,
           2.4444444444444446,
           2.4444444444444446,
           2.4444444444444446,
           2.4444444444444446,
           2.4444444444444446,
           2.4444444444444446
          ],
          [
           2.6666666666666665,
           2.6666666666666665,
           2.6666666666666665,
           2.6666666666666665,
           2.6666666666666665,
           2.6666666666666665,
           2.6666666666666665,
           2.6666666666666665,
           2.6666666666666665,
           2.6666666666666665
          ],
          [
           2.888888888888889,
           2.888888888888889,
           2.888888888888889,
           2.888888888888889,
           2.888888888888889,
           2.888888888888889,
           2.888888888888889,
           2.888888888888889,
           2.888888888888889,
           2.888888888888889
          ],
          [
           3.111111111111111,
           3.111111111111111,
           3.111111111111111,
           3.111111111111111,
           3.111111111111111,
           3.111111111111111,
           3.111111111111111,
           3.111111111111111,
           3.111111111111111,
           3.111111111111111
          ],
          [
           3.333333333333333,
           3.333333333333333,
           3.333333333333333,
           3.333333333333333,
           3.333333333333333,
           3.333333333333333,
           3.333333333333333,
           3.333333333333333,
           3.333333333333333,
           3.333333333333333
          ],
          [
           3.5555555555555554,
           3.5555555555555554,
           3.5555555555555554,
           3.5555555555555554,
           3.5555555555555554,
           3.5555555555555554,
           3.5555555555555554,
           3.5555555555555554,
           3.5555555555555554,
           3.5555555555555554
          ],
          [
           3.7777777777777777,
           3.7777777777777777,
           3.7777777777777777,
           3.7777777777777777,
           3.7777777777777777,
           3.7777777777777777,
           3.7777777777777777,
           3.7777777777777777,
           3.7777777777777777,
           3.7777777777777777
          ],
          [
           4,
           4,
           4,
           4,
           4,
           4,
           4,
           4,
           4,
           4
          ]
         ],
         "z": [
          [
           295.027561322784,
           315.04894392605473,
           335.0703265293254,
           355.0917091325962,
           375.1130917358669,
           395.1344743391376,
           415.1558569424083,
           435.177239545679,
           455.19862214894977,
           475.2200047522205
          ],
          [
           295.027561322784,
           315.04894392605473,
           335.0703265293254,
           355.0917091325962,
           375.1130917358669,
           395.1344743391376,
           415.1558569424083,
           435.177239545679,
           455.19862214894977,
           475.2200047522205
          ],
          [
           295.027561322784,
           315.04894392605473,
           335.0703265293254,
           355.0917091325962,
           375.1130917358669,
           395.1344743391376,
           415.1558569424083,
           435.177239545679,
           455.19862214894977,
           475.2200047522205
          ],
          [
           295.027561322784,
           315.04894392605473,
           335.0703265293254,
           355.0917091325962,
           375.1130917358669,
           395.1344743391376,
           415.1558569424083,
           435.177239545679,
           455.19862214894977,
           475.2200047522205
          ],
          [
           295.027561322784,
           315.04894392605473,
           335.0703265293254,
           355.0917091325962,
           375.1130917358669,
           395.1344743391376,
           415.1558569424083,
           435.177239545679,
           455.19862214894977,
           475.2200047522205
          ],
          [
           295.027561322784,
           315.04894392605473,
           335.0703265293254,
           355.0917091325962,
           375.1130917358669,
           395.1344743391376,
           415.1558569424083,
           435.177239545679,
           455.19862214894977,
           475.2200047522205
          ],
          [
           295.027561322784,
           315.04894392605473,
           335.0703265293254,
           355.0917091325962,
           375.1130917358669,
           395.1344743391376,
           415.1558569424083,
           435.177239545679,
           455.19862214894977,
           475.2200047522205
          ],
          [
           295.027561322784,
           315.04894392605473,
           335.0703265293254,
           355.0917091325962,
           375.1130917358669,
           395.1344743391376,
           415.1558569424083,
           435.177239545679,
           455.19862214894977,
           475.2200047522205
          ],
          [
           295.027561322784,
           315.04894392605473,
           335.0703265293254,
           355.0917091325962,
           375.1130917358669,
           395.1344743391376,
           415.1558569424083,
           435.177239545679,
           455.19862214894977,
           475.2200047522205
          ],
          [
           295.027561322784,
           315.04894392605473,
           335.0703265293254,
           355.0917091325962,
           375.1130917358669,
           395.1344743391376,
           415.1558569424083,
           435.177239545679,
           455.19862214894977,
           475.2200047522205
          ]
         ]
        }
       ],
       "layout": {
        "coloraxis": {
         "colorbar": {
          "thickness": 5
         },
         "colorscale": [
          [
           0,
           "rgb(0,0,0)"
          ],
          [
           0.3333333333333333,
           "rgb(230,0,0)"
          ],
          [
           0.6666666666666666,
           "rgb(255,210,0)"
          ],
          [
           1,
           "rgb(255,255,255)"
          ]
         ]
        },
        "legend": {
         "x": 0.05,
         "xanchor": "left",
         "y": 0.95,
         "yanchor": "top"
        },
        "margin": {
         "b": 65,
         "l": 65,
         "r": 50,
         "t": 90
        },
        "scene": {
         "xaxis": {
          "showspikes": false,
          "title": {
           "text": "Normal Load (N)"
          }
         },
         "yaxis": {
          "showspikes": false,
          "title": {
           "text": "Frequency (Hz)"
          }
         },
         "zaxis": {
          "range": [
           220,
           500
          ],
          "title": {
           "text": "Wear Width (µm)"
          }
         }
        },
        "showlegend": true,
        "sliders": [
         {
          "active": 10,
          "currentvalue": {
           "prefix": "Content: "
          },
          "pad": {
           "t": 50
          },
          "steps": [
           {
            "args": [
             {
              "visible": [
               true,
               false,
               false,
               false,
               false,
               false,
               false,
               false,
               false,
               false,
               false,
               false,
               false,
               false,
               false,
               false,
               false,
               false,
               false,
               false,
               false
              ]
             },
             {
              "title": "PU + 0.0% Expanded Graphite"
             }
            ],
            "label": "0.0% EG",
            "method": "update"
           },
           {
            "args": [
             {
              "visible": [
               false,
               true,
               false,
               false,
               false,
               false,
               false,
               false,
               false,
               false,
               false,
               false,
               false,
               false,
               false,
               false,
               false,
               false,
               false,
               false,
               false
              ]
             },
             {
              "title": "PU + 0.1% Expanded Graphite"
             }
            ],
            "label": "0.1% EG",
            "method": "update"
           },
           {
            "args": [
             {
              "visible": [
               false,
               false,
               true,
               false,
               false,
               false,
               false,
               false,
               false,
               false,
               false,
               false,
               false,
               false,
               false,
               false,
               false,
               false,
               false,
               false,
               false
              ]
             },
             {
              "title": "PU + 0.2% Expanded Graphite"
             }
            ],
            "label": "0.2% EG",
            "method": "update"
           },
           {
            "args": [
             {
              "visible": [
               false,
               false,
               false,
               true,
               false,
               false,
               false,
               false,
               false,
               false,
               false,
               false,
               false,
               false,
               false,
               false,
               false,
               false,
               false,
               false,
               false
              ]
             },
             {
              "title": "PU + 0.3% Expanded Graphite"
             }
            ],
            "label": "0.3% EG",
            "method": "update"
           },
           {
            "args": [
             {
              "visible": [
               false,
               false,
               false,
               false,
               true,
               false,
               false,
               false,
               false,
               false,
               false,
               false,
               false,
               false,
               false,
               false,
               false,
               false,
               false,
               false,
               false
              ]
             },
             {
              "title": "PU + 0.4% Expanded Graphite"
             }
            ],
            "label": "0.4% EG",
            "method": "update"
           },
           {
            "args": [
             {
              "visible": [
               false,
               false,
               false,
               false,
               false,
               true,
               false,
               false,
               false,
               false,
               false,
               false,
               false,
               false,
               false,
               false,
               false,
               false,
               false,
               false,
               false
              ]
             },
             {
              "title": "PU + 0.5% Expanded Graphite"
             }
            ],
            "label": "0.5% EG",
            "method": "update"
           },
           {
            "args": [
             {
              "visible": [
               false,
               false,
               false,
               false,
               false,
               false,
               true,
               false,
               false,
               false,
               false,
               false,
               false,
               false,
               false,
               false,
               false,
               false,
               false,
               false,
               false
              ]
             },
             {
              "title": "PU + 0.6% Expanded Graphite"
             }
            ],
            "label": "0.6% EG",
            "method": "update"
           },
           {
            "args": [
             {
              "visible": [
               false,
               false,
               false,
               false,
               false,
               false,
               false,
               true,
               false,
               false,
               false,
               false,
               false,
               false,
               false,
               false,
               false,
               false,
               false,
               false,
               false
              ]
             },
             {
              "title": "PU + 0.7% Expanded Graphite"
             }
            ],
            "label": "0.7% EG",
            "method": "update"
           },
           {
            "args": [
             {
              "visible": [
               false,
               false,
               false,
               false,
               false,
               false,
               false,
               false,
               true,
               false,
               false,
               false,
               false,
               false,
               false,
               false,
               false,
               false,
               false,
               false,
               false
              ]
             },
             {
              "title": "PU + 0.8% Expanded Graphite"
             }
            ],
            "label": "0.8% EG",
            "method": "update"
           },
           {
            "args": [
             {
              "visible": [
               false,
               false,
               false,
               false,
               false,
               false,
               false,
               false,
               false,
               true,
               false,
               false,
               false,
               false,
               false,
               false,
               false,
               false,
               false,
               false,
               false
              ]
             },
             {
              "title": "PU + 0.9% Expanded Graphite"
             }
            ],
            "label": "0.9% EG",
            "method": "update"
           },
           {
            "args": [
             {
              "visible": [
               false,
               false,
               false,
               false,
               false,
               false,
               false,
               false,
               false,
               false,
               true,
               false,
               false,
               false,
               false,
               false,
               false,
               false,
               false,
               false,
               false
              ]
             },
             {
              "title": "PU + 1.0% Expanded Graphite"
             }
            ],
            "label": "1.0% EG",
            "method": "update"
           },
           {
            "args": [
             {
              "visible": [
               false,
               false,
               false,
               false,
               false,
               false,
               false,
               false,
               false,
               false,
               false,
               true,
               false,
               false,
               false,
               false,
               false,
               false,
               false,
               false,
               false
              ]
             },
             {
              "title": "PU + 1.1% Expanded Graphite"
             }
            ],
            "label": "1.1% EG",
            "method": "update"
           },
           {
            "args": [
             {
              "visible": [
               false,
               false,
               false,
               false,
               false,
               false,
               false,
               false,
               false,
               false,
               false,
               false,
               true,
               false,
               false,
               false,
               false,
               false,
               false,
               false,
               false
              ]
             },
             {
              "title": "PU + 1.2% Expanded Graphite"
             }
            ],
            "label": "1.2% EG",
            "method": "update"
           },
           {
            "args": [
             {
              "visible": [
               false,
               false,
               false,
               false,
               false,
               false,
               false,
               false,
               false,
               false,
               false,
               false,
               false,
               true,
               false,
               false,
               false,
               false,
               false,
               false,
               false
              ]
             },
             {
              "title": "PU + 1.3% Expanded Graphite"
             }
            ],
            "label": "1.3% EG",
            "method": "update"
           },
           {
            "args": [
             {
              "visible": [
               false,
               false,
               false,
               false,
               false,
               false,
               false,
               false,
               false,
               false,
               false,
               false,
               false,
               false,
               true,
               false,
               false,
               false,
               false,
               false,
               false
              ]
             },
             {
              "title": "PU + 1.4% Expanded Graphite"
             }
            ],
            "label": "1.4% EG",
            "method": "update"
           },
           {
            "args": [
             {
              "visible": [
               false,
               false,
               false,
               false,
               false,
               false,
               false,
               false,
               false,
               false,
               false,
               false,
               false,
               false,
               false,
               true,
               false,
               false,
               false,
               false,
               false
              ]
             },
             {
              "title": "PU + 1.5% Expanded Graphite"
             }
            ],
            "label": "1.5% EG",
            "method": "update"
           },
           {
            "args": [
             {
              "visible": [
               false,
               false,
               false,
               false,
               false,
               false,
               false,
               false,
               false,
               false,
               false,
               false,
               false,
               false,
               false,
               false,
               true,
               false,
               false,
               false,
               false
              ]
             },
             {
              "title": "PU + 1.6% Expanded Graphite"
             }
            ],
            "label": "1.6% EG",
            "method": "update"
           },
           {
            "args": [
             {
              "visible": [
               false,
               false,
               false,
               false,
               false,
               false,
               false,
               false,
               false,
               false,
               false,
               false,
               false,
               false,
               false,
               false,
               false,
               true,
               false,
               false,
               false
              ]
             },
             {
              "title": "PU + 1.7% Expanded Graphite"
             }
            ],
            "label": "1.7% EG",
            "method": "update"
           },
           {
            "args": [
             {
              "visible": [
               false,
               false,
               false,
               false,
               false,
               false,
               false,
               false,
               false,
               false,
               false,
               false,
               false,
               false,
               false,
               false,
               false,
               false,
               true,
               false,
               false
              ]
             },
             {
              "title": "PU + 1.8% Expanded Graphite"
             }
            ],
            "label": "1.8% EG",
            "method": "update"
           },
           {
            "args": [
             {
              "visible": [
               false,
               false,
               false,
               false,
               false,
               false,
               false,
               false,
               false,
               false,
               false,
               false,
               false,
               false,
               false,
               false,
               false,
               false,
               false,
               true,
               false
              ]
             },
             {
              "title": "PU + 1.9% Expanded Graphite"
             }
            ],
            "label": "1.9% EG",
            "method": "update"
           },
           {
            "args": [
             {
              "visible": [
               false,
               false,
               false,
               false,
               false,
               false,
               false,
               false,
               false,
               false,
               false,
               false,
               false,
               false,
               false,
               false,
               false,
               false,
               false,
               false,
               true
              ]
             },
             {
              "title": "PU + 2.0% Expanded Graphite"
             }
            ],
            "label": "2.0% EG",
            "method": "update"
           }
          ]
         }
        ],
        "template": {
         "data": {
          "bar": [
           {
            "error_x": {
             "color": "#2a3f5f"
            },
            "error_y": {
             "color": "#2a3f5f"
            },
            "marker": {
             "line": {
              "color": "#E5ECF6",
              "width": 0.5
             }
            },
            "type": "bar"
           }
          ],
          "barpolar": [
           {
            "marker": {
             "line": {
              "color": "#E5ECF6",
              "width": 0.5
             }
            },
            "type": "barpolar"
           }
          ],
          "carpet": [
           {
            "aaxis": {
             "endlinecolor": "#2a3f5f",
             "gridcolor": "white",
             "linecolor": "white",
             "minorgridcolor": "white",
             "startlinecolor": "#2a3f5f"
            },
            "baxis": {
             "endlinecolor": "#2a3f5f",
             "gridcolor": "white",
             "linecolor": "white",
             "minorgridcolor": "white",
             "startlinecolor": "#2a3f5f"
            },
            "type": "carpet"
           }
          ],
          "choropleth": [
           {
            "colorbar": {
             "outlinewidth": 0,
             "ticks": ""
            },
            "type": "choropleth"
           }
          ],
          "contour": [
           {
            "colorbar": {
             "outlinewidth": 0,
             "ticks": ""
            },
            "colorscale": [
             [
              0,
              "#0d0887"
             ],
             [
              0.1111111111111111,
              "#46039f"
             ],
             [
              0.2222222222222222,
              "#7201a8"
             ],
             [
              0.3333333333333333,
              "#9c179e"
             ],
             [
              0.4444444444444444,
              "#bd3786"
             ],
             [
              0.5555555555555556,
              "#d8576b"
             ],
             [
              0.6666666666666666,
              "#ed7953"
             ],
             [
              0.7777777777777778,
              "#fb9f3a"
             ],
             [
              0.8888888888888888,
              "#fdca26"
             ],
             [
              1,
              "#f0f921"
             ]
            ],
            "type": "contour"
           }
          ],
          "contourcarpet": [
           {
            "colorbar": {
             "outlinewidth": 0,
             "ticks": ""
            },
            "type": "contourcarpet"
           }
          ],
          "heatmap": [
           {
            "colorbar": {
             "outlinewidth": 0,
             "ticks": ""
            },
            "colorscale": [
             [
              0,
              "#0d0887"
             ],
             [
              0.1111111111111111,
              "#46039f"
             ],
             [
              0.2222222222222222,
              "#7201a8"
             ],
             [
              0.3333333333333333,
              "#9c179e"
             ],
             [
              0.4444444444444444,
              "#bd3786"
             ],
             [
              0.5555555555555556,
              "#d8576b"
             ],
             [
              0.6666666666666666,
              "#ed7953"
             ],
             [
              0.7777777777777778,
              "#fb9f3a"
             ],
             [
              0.8888888888888888,
              "#fdca26"
             ],
             [
              1,
              "#f0f921"
             ]
            ],
            "type": "heatmap"
           }
          ],
          "heatmapgl": [
           {
            "colorbar": {
             "outlinewidth": 0,
             "ticks": ""
            },
            "colorscale": [
             [
              0,
              "#0d0887"
             ],
             [
              0.1111111111111111,
              "#46039f"
             ],
             [
              0.2222222222222222,
              "#7201a8"
             ],
             [
              0.3333333333333333,
              "#9c179e"
             ],
             [
              0.4444444444444444,
              "#bd3786"
             ],
             [
              0.5555555555555556,
              "#d8576b"
             ],
             [
              0.6666666666666666,
              "#ed7953"
             ],
             [
              0.7777777777777778,
              "#fb9f3a"
             ],
             [
              0.8888888888888888,
              "#fdca26"
             ],
             [
              1,
              "#f0f921"
             ]
            ],
            "type": "heatmapgl"
           }
          ],
          "histogram": [
           {
            "marker": {
             "colorbar": {
              "outlinewidth": 0,
              "ticks": ""
             }
            },
            "type": "histogram"
           }
          ],
          "histogram2d": [
           {
            "colorbar": {
             "outlinewidth": 0,
             "ticks": ""
            },
            "colorscale": [
             [
              0,
              "#0d0887"
             ],
             [
              0.1111111111111111,
              "#46039f"
             ],
             [
              0.2222222222222222,
              "#7201a8"
             ],
             [
              0.3333333333333333,
              "#9c179e"
             ],
             [
              0.4444444444444444,
              "#bd3786"
             ],
             [
              0.5555555555555556,
              "#d8576b"
             ],
             [
              0.6666666666666666,
              "#ed7953"
             ],
             [
              0.7777777777777778,
              "#fb9f3a"
             ],
             [
              0.8888888888888888,
              "#fdca26"
             ],
             [
              1,
              "#f0f921"
             ]
            ],
            "type": "histogram2d"
           }
          ],
          "histogram2dcontour": [
           {
            "colorbar": {
             "outlinewidth": 0,
             "ticks": ""
            },
            "colorscale": [
             [
              0,
              "#0d0887"
             ],
             [
              0.1111111111111111,
              "#46039f"
             ],
             [
              0.2222222222222222,
              "#7201a8"
             ],
             [
              0.3333333333333333,
              "#9c179e"
             ],
             [
              0.4444444444444444,
              "#bd3786"
             ],
             [
              0.5555555555555556,
              "#d8576b"
             ],
             [
              0.6666666666666666,
              "#ed7953"
             ],
             [
              0.7777777777777778,
              "#fb9f3a"
             ],
             [
              0.8888888888888888,
              "#fdca26"
             ],
             [
              1,
              "#f0f921"
             ]
            ],
            "type": "histogram2dcontour"
           }
          ],
          "mesh3d": [
           {
            "colorbar": {
             "outlinewidth": 0,
             "ticks": ""
            },
            "type": "mesh3d"
           }
          ],
          "parcoords": [
           {
            "line": {
             "colorbar": {
              "outlinewidth": 0,
              "ticks": ""
             }
            },
            "type": "parcoords"
           }
          ],
          "pie": [
           {
            "automargin": true,
            "type": "pie"
           }
          ],
          "scatter": [
           {
            "marker": {
             "colorbar": {
              "outlinewidth": 0,
              "ticks": ""
             }
            },
            "type": "scatter"
           }
          ],
          "scatter3d": [
           {
            "line": {
             "colorbar": {
              "outlinewidth": 0,
              "ticks": ""
             }
            },
            "marker": {
             "colorbar": {
              "outlinewidth": 0,
              "ticks": ""
             }
            },
            "type": "scatter3d"
           }
          ],
          "scattercarpet": [
           {
            "marker": {
             "colorbar": {
              "outlinewidth": 0,
              "ticks": ""
             }
            },
            "type": "scattercarpet"
           }
          ],
          "scattergeo": [
           {
            "marker": {
             "colorbar": {
              "outlinewidth": 0,
              "ticks": ""
             }
            },
            "type": "scattergeo"
           }
          ],
          "scattergl": [
           {
            "marker": {
             "colorbar": {
              "outlinewidth": 0,
              "ticks": ""
             }
            },
            "type": "scattergl"
           }
          ],
          "scattermapbox": [
           {
            "marker": {
             "colorbar": {
              "outlinewidth": 0,
              "ticks": ""
             }
            },
            "type": "scattermapbox"
           }
          ],
          "scatterpolar": [
           {
            "marker": {
             "colorbar": {
              "outlinewidth": 0,
              "ticks": ""
             }
            },
            "type": "scatterpolar"
           }
          ],
          "scatterpolargl": [
           {
            "marker": {
             "colorbar": {
              "outlinewidth": 0,
              "ticks": ""
             }
            },
            "type": "scatterpolargl"
           }
          ],
          "scatterternary": [
           {
            "marker": {
             "colorbar": {
              "outlinewidth": 0,
              "ticks": ""
             }
            },
            "type": "scatterternary"
           }
          ],
          "surface": [
           {
            "colorbar": {
             "outlinewidth": 0,
             "ticks": ""
            },
            "colorscale": [
             [
              0,
              "#0d0887"
             ],
             [
              0.1111111111111111,
              "#46039f"
             ],
             [
              0.2222222222222222,
              "#7201a8"
             ],
             [
              0.3333333333333333,
              "#9c179e"
             ],
             [
              0.4444444444444444,
              "#bd3786"
             ],
             [
              0.5555555555555556,
              "#d8576b"
             ],
             [
              0.6666666666666666,
              "#ed7953"
             ],
             [
              0.7777777777777778,
              "#fb9f3a"
             ],
             [
              0.8888888888888888,
              "#fdca26"
             ],
             [
              1,
              "#f0f921"
             ]
            ],
            "type": "surface"
           }
          ],
          "table": [
           {
            "cells": {
             "fill": {
              "color": "#EBF0F8"
             },
             "line": {
              "color": "white"
             }
            },
            "header": {
             "fill": {
              "color": "#C8D4E3"
             },
             "line": {
              "color": "white"
             }
            },
            "type": "table"
           }
          ]
         },
         "layout": {
          "annotationdefaults": {
           "arrowcolor": "#2a3f5f",
           "arrowhead": 0,
           "arrowwidth": 1
          },
          "coloraxis": {
           "colorbar": {
            "outlinewidth": 0,
            "ticks": ""
           }
          },
          "colorscale": {
           "diverging": [
            [
             0,
             "#8e0152"
            ],
            [
             0.1,
             "#c51b7d"
            ],
            [
             0.2,
             "#de77ae"
            ],
            [
             0.3,
             "#f1b6da"
            ],
            [
             0.4,
             "#fde0ef"
            ],
            [
             0.5,
             "#f7f7f7"
            ],
            [
             0.6,
             "#e6f5d0"
            ],
            [
             0.7,
             "#b8e186"
            ],
            [
             0.8,
             "#7fbc41"
            ],
            [
             0.9,
             "#4d9221"
            ],
            [
             1,
             "#276419"
            ]
           ],
           "sequential": [
            [
             0,
             "#0d0887"
            ],
            [
             0.1111111111111111,
             "#46039f"
            ],
            [
             0.2222222222222222,
             "#7201a8"
            ],
            [
             0.3333333333333333,
             "#9c179e"
            ],
            [
             0.4444444444444444,
             "#bd3786"
            ],
            [
             0.5555555555555556,
             "#d8576b"
            ],
            [
             0.6666666666666666,
             "#ed7953"
            ],
            [
             0.7777777777777778,
             "#fb9f3a"
            ],
            [
             0.8888888888888888,
             "#fdca26"
            ],
            [
             1,
             "#f0f921"
            ]
           ],
           "sequentialminus": [
            [
             0,
             "#0d0887"
            ],
            [
             0.1111111111111111,
             "#46039f"
            ],
            [
             0.2222222222222222,
             "#7201a8"
            ],
            [
             0.3333333333333333,
             "#9c179e"
            ],
            [
             0.4444444444444444,
             "#bd3786"
            ],
            [
             0.5555555555555556,
             "#d8576b"
            ],
            [
             0.6666666666666666,
             "#ed7953"
            ],
            [
             0.7777777777777778,
             "#fb9f3a"
            ],
            [
             0.8888888888888888,
             "#fdca26"
            ],
            [
             1,
             "#f0f921"
            ]
           ]
          },
          "colorway": [
           "#636efa",
           "#EF553B",
           "#00cc96",
           "#ab63fa",
           "#FFA15A",
           "#19d3f3",
           "#FF6692",
           "#B6E880",
           "#FF97FF",
           "#FECB52"
          ],
          "font": {
           "color": "#2a3f5f"
          },
          "geo": {
           "bgcolor": "white",
           "lakecolor": "white",
           "landcolor": "#E5ECF6",
           "showlakes": true,
           "showland": true,
           "subunitcolor": "white"
          },
          "hoverlabel": {
           "align": "left"
          },
          "hovermode": "closest",
          "mapbox": {
           "style": "light"
          },
          "paper_bgcolor": "white",
          "plot_bgcolor": "#E5ECF6",
          "polar": {
           "angularaxis": {
            "gridcolor": "white",
            "linecolor": "white",
            "ticks": ""
           },
           "bgcolor": "#E5ECF6",
           "radialaxis": {
            "gridcolor": "white",
            "linecolor": "white",
            "ticks": ""
           }
          },
          "scene": {
           "xaxis": {
            "backgroundcolor": "#E5ECF6",
            "gridcolor": "white",
            "gridwidth": 2,
            "linecolor": "white",
            "showbackground": true,
            "ticks": "",
            "zerolinecolor": "white"
           },
           "yaxis": {
            "backgroundcolor": "#E5ECF6",
            "gridcolor": "white",
            "gridwidth": 2,
            "linecolor": "white",
            "showbackground": true,
            "ticks": "",
            "zerolinecolor": "white"
           },
           "zaxis": {
            "backgroundcolor": "#E5ECF6",
            "gridcolor": "white",
            "gridwidth": 2,
            "linecolor": "white",
            "showbackground": true,
            "ticks": "",
            "zerolinecolor": "white"
           }
          },
          "shapedefaults": {
           "line": {
            "color": "#2a3f5f"
           }
          },
          "ternary": {
           "aaxis": {
            "gridcolor": "white",
            "linecolor": "white",
            "ticks": ""
           },
           "baxis": {
            "gridcolor": "white",
            "linecolor": "white",
            "ticks": ""
           },
           "bgcolor": "#E5ECF6",
           "caxis": {
            "gridcolor": "white",
            "linecolor": "white",
            "ticks": ""
           }
          },
          "title": {
           "x": 0.05
          },
          "xaxis": {
           "automargin": true,
           "gridcolor": "white",
           "linecolor": "white",
           "ticks": "",
           "title": {
            "standoff": 15
           },
           "zerolinecolor": "white",
           "zerolinewidth": 2
          },
          "yaxis": {
           "automargin": true,
           "gridcolor": "white",
           "linecolor": "white",
           "ticks": "",
           "title": {
            "standoff": 15
           },
           "zerolinecolor": "white",
           "zerolinewidth": 2
          }
         }
        },
        "title": {
         "text": "PU + 1.0% Expanded Graphite"
        }
       }
      },
      "text/html": [
       "<div>\n",
       "        \n",
       "        \n",
       "            <div id=\"9c4b6541-632e-45f1-ab70-a20394ac1e3e\" class=\"plotly-graph-div\" style=\"height:525px; width:100%;\"></div>\n",
       "            <script type=\"text/javascript\">\n",
       "                require([\"plotly\"], function(Plotly) {\n",
       "                    window.PLOTLYENV=window.PLOTLYENV || {};\n",
       "                    \n",
       "                if (document.getElementById(\"9c4b6541-632e-45f1-ab70-a20394ac1e3e\")) {\n",
       "                    Plotly.newPlot(\n",
       "                        '9c4b6541-632e-45f1-ab70-a20394ac1e3e',\n",
       "                        [{\"coloraxis\": \"coloraxis\", \"colorbar\": {\"thickness\": 5}, \"name\": \"PU+0.0%EG\", \"opacity\": 0.6, \"type\": \"surface\", \"visible\": false, \"x\": [[2.5, 3.1666666666666665, 3.833333333333333, 4.5, 5.166666666666666, 5.833333333333333, 6.5, 7.166666666666666, 7.833333333333333, 8.5], [2.5, 3.1666666666666665, 3.833333333333333, 4.5, 5.166666666666666, 5.833333333333333, 6.5, 7.166666666666666, 7.833333333333333, 8.5], [2.5, 3.1666666666666665, 3.833333333333333, 4.5, 5.166666666666666, 5.833333333333333, 6.5, 7.166666666666666, 7.833333333333333, 8.5], [2.5, 3.1666666666666665, 3.833333333333333, 4.5, 5.166666666666666, 5.833333333333333, 6.5, 7.166666666666666, 7.833333333333333, 8.5], [2.5, 3.1666666666666665, 3.833333333333333, 4.5, 5.166666666666666, 5.833333333333333, 6.5, 7.166666666666666, 7.833333333333333, 8.5], [2.5, 3.1666666666666665, 3.833333333333333, 4.5, 5.166666666666666, 5.833333333333333, 6.5, 7.166666666666666, 7.833333333333333, 8.5], [2.5, 3.1666666666666665, 3.833333333333333, 4.5, 5.166666666666666, 5.833333333333333, 6.5, 7.166666666666666, 7.833333333333333, 8.5], [2.5, 3.1666666666666665, 3.833333333333333, 4.5, 5.166666666666666, 5.833333333333333, 6.5, 7.166666666666666, 7.833333333333333, 8.5], [2.5, 3.1666666666666665, 3.833333333333333, 4.5, 5.166666666666666, 5.833333333333333, 6.5, 7.166666666666666, 7.833333333333333, 8.5], [2.5, 3.1666666666666665, 3.833333333333333, 4.5, 5.166666666666666, 5.833333333333333, 6.5, 7.166666666666666, 7.833333333333333, 8.5]], \"y\": [[2.0, 2.0, 2.0, 2.0, 2.0, 2.0, 2.0, 2.0, 2.0, 2.0], [2.2222222222222223, 2.2222222222222223, 2.2222222222222223, 2.2222222222222223, 2.2222222222222223, 2.2222222222222223, 2.2222222222222223, 2.2222222222222223, 2.2222222222222223, 2.2222222222222223], [2.4444444444444446, 2.4444444444444446, 2.4444444444444446, 2.4444444444444446, 2.4444444444444446, 2.4444444444444446, 2.4444444444444446, 2.4444444444444446, 2.4444444444444446, 2.4444444444444446], [2.6666666666666665, 2.6666666666666665, 2.6666666666666665, 2.6666666666666665, 2.6666666666666665, 2.6666666666666665, 2.6666666666666665, 2.6666666666666665, 2.6666666666666665, 2.6666666666666665], [2.888888888888889, 2.888888888888889, 2.888888888888889, 2.888888888888889, 2.888888888888889, 2.888888888888889, 2.888888888888889, 2.888888888888889, 2.888888888888889, 2.888888888888889], [3.111111111111111, 3.111111111111111, 3.111111111111111, 3.111111111111111, 3.111111111111111, 3.111111111111111, 3.111111111111111, 3.111111111111111, 3.111111111111111, 3.111111111111111], [3.333333333333333, 3.333333333333333, 3.333333333333333, 3.333333333333333, 3.333333333333333, 3.333333333333333, 3.333333333333333, 3.333333333333333, 3.333333333333333, 3.333333333333333], [3.5555555555555554, 3.5555555555555554, 3.5555555555555554, 3.5555555555555554, 3.5555555555555554, 3.5555555555555554, 3.5555555555555554, 3.5555555555555554, 3.5555555555555554, 3.5555555555555554], [3.7777777777777777, 3.7777777777777777, 3.7777777777777777, 3.7777777777777777, 3.7777777777777777, 3.7777777777777777, 3.7777777777777777, 3.7777777777777777, 3.7777777777777777, 3.7777777777777777], [4.0, 4.0, 4.0, 4.0, 4.0, 4.0, 4.0, 4.0, 4.0, 4.0]], \"z\": [[243.66859109060087, 263.6899736938716, 283.7113562971423, 303.73273890041304, 323.75412150368373, 343.7755041069545, 363.7968867102252, 383.8182693134959, 403.8396519167666, 423.8610345200374], [243.66859109060087, 263.6899736938716, 283.7113562971423, 303.73273890041304, 323.75412150368373, 343.7755041069545, 363.7968867102252, 383.8182693134959, 403.8396519167666, 423.8610345200374], [243.66859109060087, 263.6899736938716, 283.7113562971423, 303.73273890041304, 323.75412150368373, 343.7755041069545, 363.7968867102252, 383.8182693134959, 403.8396519167666, 423.8610345200374], [243.66859109060087, 263.6899736938716, 283.7113562971423, 303.73273890041304, 323.75412150368373, 343.7755041069545, 363.7968867102252, 383.8182693134959, 403.8396519167666, 423.8610345200374], [243.66859109060087, 263.6899736938716, 283.7113562971423, 303.73273890041304, 323.75412150368373, 343.7755041069545, 363.7968867102252, 383.8182693134959, 403.8396519167666, 423.8610345200374], [243.66859109060087, 263.6899736938716, 283.7113562971423, 303.73273890041304, 323.75412150368373, 343.7755041069545, 363.7968867102252, 383.8182693134959, 403.8396519167666, 423.8610345200374], [243.66859109060087, 263.6899736938716, 283.7113562971423, 303.73273890041304, 323.75412150368373, 343.7755041069545, 363.7968867102252, 383.8182693134959, 403.8396519167666, 423.8610345200374], [243.66859109060087, 263.6899736938716, 283.7113562971423, 303.73273890041304, 323.75412150368373, 343.7755041069545, 363.7968867102252, 383.8182693134959, 403.8396519167666, 423.8610345200374], [243.66859109060087, 263.6899736938716, 283.7113562971423, 303.73273890041304, 323.75412150368373, 343.7755041069545, 363.7968867102252, 383.8182693134959, 403.8396519167666, 423.8610345200374], [243.66859109060087, 263.6899736938716, 283.7113562971423, 303.73273890041304, 323.75412150368373, 343.7755041069545, 363.7968867102252, 383.8182693134959, 403.8396519167666, 423.8610345200374]]}, {\"coloraxis\": \"coloraxis\", \"colorbar\": {\"thickness\": 5}, \"name\": \"PU+0.1%EG\", \"opacity\": 0.6, \"type\": \"surface\", \"visible\": false, \"x\": [[2.5, 3.1666666666666665, 3.833333333333333, 4.5, 5.166666666666666, 5.833333333333333, 6.5, 7.166666666666666, 7.833333333333333, 8.5], [2.5, 3.1666666666666665, 3.833333333333333, 4.5, 5.166666666666666, 5.833333333333333, 6.5, 7.166666666666666, 7.833333333333333, 8.5], [2.5, 3.1666666666666665, 3.833333333333333, 4.5, 5.166666666666666, 5.833333333333333, 6.5, 7.166666666666666, 7.833333333333333, 8.5], [2.5, 3.1666666666666665, 3.833333333333333, 4.5, 5.166666666666666, 5.833333333333333, 6.5, 7.166666666666666, 7.833333333333333, 8.5], [2.5, 3.1666666666666665, 3.833333333333333, 4.5, 5.166666666666666, 5.833333333333333, 6.5, 7.166666666666666, 7.833333333333333, 8.5], [2.5, 3.1666666666666665, 3.833333333333333, 4.5, 5.166666666666666, 5.833333333333333, 6.5, 7.166666666666666, 7.833333333333333, 8.5], [2.5, 3.1666666666666665, 3.833333333333333, 4.5, 5.166666666666666, 5.833333333333333, 6.5, 7.166666666666666, 7.833333333333333, 8.5], [2.5, 3.1666666666666665, 3.833333333333333, 4.5, 5.166666666666666, 5.833333333333333, 6.5, 7.166666666666666, 7.833333333333333, 8.5], [2.5, 3.1666666666666665, 3.833333333333333, 4.5, 5.166666666666666, 5.833333333333333, 6.5, 7.166666666666666, 7.833333333333333, 8.5], [2.5, 3.1666666666666665, 3.833333333333333, 4.5, 5.166666666666666, 5.833333333333333, 6.5, 7.166666666666666, 7.833333333333333, 8.5]], \"y\": [[2.0, 2.0, 2.0, 2.0, 2.0, 2.0, 2.0, 2.0, 2.0, 2.0], [2.2222222222222223, 2.2222222222222223, 2.2222222222222223, 2.2222222222222223, 2.2222222222222223, 2.2222222222222223, 2.2222222222222223, 2.2222222222222223, 2.2222222222222223, 2.2222222222222223], [2.4444444444444446, 2.4444444444444446, 2.4444444444444446, 2.4444444444444446, 2.4444444444444446, 2.4444444444444446, 2.4444444444444446, 2.4444444444444446, 2.4444444444444446, 2.4444444444444446], [2.6666666666666665, 2.6666666666666665, 2.6666666666666665, 2.6666666666666665, 2.6666666666666665, 2.6666666666666665, 2.6666666666666665, 2.6666666666666665, 2.6666666666666665, 2.6666666666666665], [2.888888888888889, 2.888888888888889, 2.888888888888889, 2.888888888888889, 2.888888888888889, 2.888888888888889, 2.888888888888889, 2.888888888888889, 2.888888888888889, 2.888888888888889], [3.111111111111111, 3.111111111111111, 3.111111111111111, 3.111111111111111, 3.111111111111111, 3.111111111111111, 3.111111111111111, 3.111111111111111, 3.111111111111111, 3.111111111111111], [3.333333333333333, 3.333333333333333, 3.333333333333333, 3.333333333333333, 3.333333333333333, 3.333333333333333, 3.333333333333333, 3.333333333333333, 3.333333333333333, 3.333333333333333], [3.5555555555555554, 3.5555555555555554, 3.5555555555555554, 3.5555555555555554, 3.5555555555555554, 3.5555555555555554, 3.5555555555555554, 3.5555555555555554, 3.5555555555555554, 3.5555555555555554], [3.7777777777777777, 3.7777777777777777, 3.7777777777777777, 3.7777777777777777, 3.7777777777777777, 3.7777777777777777, 3.7777777777777777, 3.7777777777777777, 3.7777777777777777, 3.7777777777777777], [4.0, 4.0, 4.0, 4.0, 4.0, 4.0, 4.0, 4.0, 4.0, 4.0]], \"z\": [[246.23653960221003, 266.2579222054807, 286.2793048087514, 306.30068741202217, 326.32207001529287, 346.3434526185636, 366.3648352218343, 386.386217825105, 406.40760042837576, 426.4289830316465], [246.23653960221003, 266.2579222054807, 286.2793048087514, 306.30068741202217, 326.32207001529287, 346.3434526185636, 366.3648352218343, 386.386217825105, 406.40760042837576, 426.4289830316465], [246.23653960221003, 266.2579222054807, 286.2793048087514, 306.30068741202217, 326.32207001529287, 346.3434526185636, 366.3648352218343, 386.386217825105, 406.40760042837576, 426.4289830316465], [246.23653960221003, 266.2579222054807, 286.2793048087514, 306.30068741202217, 326.32207001529287, 346.3434526185636, 366.3648352218343, 386.386217825105, 406.40760042837576, 426.4289830316465], [246.23653960221003, 266.2579222054807, 286.2793048087514, 306.30068741202217, 326.32207001529287, 346.3434526185636, 366.3648352218343, 386.386217825105, 406.40760042837576, 426.4289830316465], [246.23653960221003, 266.2579222054807, 286.2793048087514, 306.30068741202217, 326.32207001529287, 346.3434526185636, 366.3648352218343, 386.386217825105, 406.40760042837576, 426.4289830316465], [246.23653960221003, 266.2579222054807, 286.2793048087514, 306.30068741202217, 326.32207001529287, 346.3434526185636, 366.3648352218343, 386.386217825105, 406.40760042837576, 426.4289830316465], [246.23653960221003, 266.2579222054807, 286.2793048087514, 306.30068741202217, 326.32207001529287, 346.3434526185636, 366.3648352218343, 386.386217825105, 406.40760042837576, 426.4289830316465], [246.23653960221003, 266.2579222054807, 286.2793048087514, 306.30068741202217, 326.32207001529287, 346.3434526185636, 366.3648352218343, 386.386217825105, 406.40760042837576, 426.4289830316465], [246.23653960221003, 266.2579222054807, 286.2793048087514, 306.30068741202217, 326.32207001529287, 346.3434526185636, 366.3648352218343, 386.386217825105, 406.40760042837576, 426.4289830316465]]}, {\"coloraxis\": \"coloraxis\", \"colorbar\": {\"thickness\": 5}, \"name\": \"PU+0.2%EG\", \"opacity\": 0.6, \"type\": \"surface\", \"visible\": false, \"x\": [[2.5, 3.1666666666666665, 3.833333333333333, 4.5, 5.166666666666666, 5.833333333333333, 6.5, 7.166666666666666, 7.833333333333333, 8.5], [2.5, 3.1666666666666665, 3.833333333333333, 4.5, 5.166666666666666, 5.833333333333333, 6.5, 7.166666666666666, 7.833333333333333, 8.5], [2.5, 3.1666666666666665, 3.833333333333333, 4.5, 5.166666666666666, 5.833333333333333, 6.5, 7.166666666666666, 7.833333333333333, 8.5], [2.5, 3.1666666666666665, 3.833333333333333, 4.5, 5.166666666666666, 5.833333333333333, 6.5, 7.166666666666666, 7.833333333333333, 8.5], [2.5, 3.1666666666666665, 3.833333333333333, 4.5, 5.166666666666666, 5.833333333333333, 6.5, 7.166666666666666, 7.833333333333333, 8.5], [2.5, 3.1666666666666665, 3.833333333333333, 4.5, 5.166666666666666, 5.833333333333333, 6.5, 7.166666666666666, 7.833333333333333, 8.5], [2.5, 3.1666666666666665, 3.833333333333333, 4.5, 5.166666666666666, 5.833333333333333, 6.5, 7.166666666666666, 7.833333333333333, 8.5], [2.5, 3.1666666666666665, 3.833333333333333, 4.5, 5.166666666666666, 5.833333333333333, 6.5, 7.166666666666666, 7.833333333333333, 8.5], [2.5, 3.1666666666666665, 3.833333333333333, 4.5, 5.166666666666666, 5.833333333333333, 6.5, 7.166666666666666, 7.833333333333333, 8.5], [2.5, 3.1666666666666665, 3.833333333333333, 4.5, 5.166666666666666, 5.833333333333333, 6.5, 7.166666666666666, 7.833333333333333, 8.5]], \"y\": [[2.0, 2.0, 2.0, 2.0, 2.0, 2.0, 2.0, 2.0, 2.0, 2.0], [2.2222222222222223, 2.2222222222222223, 2.2222222222222223, 2.2222222222222223, 2.2222222222222223, 2.2222222222222223, 2.2222222222222223, 2.2222222222222223, 2.2222222222222223, 2.2222222222222223], [2.4444444444444446, 2.4444444444444446, 2.4444444444444446, 2.4444444444444446, 2.4444444444444446, 2.4444444444444446, 2.4444444444444446, 2.4444444444444446, 2.4444444444444446, 2.4444444444444446], [2.6666666666666665, 2.6666666666666665, 2.6666666666666665, 2.6666666666666665, 2.6666666666666665, 2.6666666666666665, 2.6666666666666665, 2.6666666666666665, 2.6666666666666665, 2.6666666666666665], [2.888888888888889, 2.888888888888889, 2.888888888888889, 2.888888888888889, 2.888888888888889, 2.888888888888889, 2.888888888888889, 2.888888888888889, 2.888888888888889, 2.888888888888889], [3.111111111111111, 3.111111111111111, 3.111111111111111, 3.111111111111111, 3.111111111111111, 3.111111111111111, 3.111111111111111, 3.111111111111111, 3.111111111111111, 3.111111111111111], [3.333333333333333, 3.333333333333333, 3.333333333333333, 3.333333333333333, 3.333333333333333, 3.333333333333333, 3.333333333333333, 3.333333333333333, 3.333333333333333, 3.333333333333333], [3.5555555555555554, 3.5555555555555554, 3.5555555555555554, 3.5555555555555554, 3.5555555555555554, 3.5555555555555554, 3.5555555555555554, 3.5555555555555554, 3.5555555555555554, 3.5555555555555554], [3.7777777777777777, 3.7777777777777777, 3.7777777777777777, 3.7777777777777777, 3.7777777777777777, 3.7777777777777777, 3.7777777777777777, 3.7777777777777777, 3.7777777777777777, 3.7777777777777777], [4.0, 4.0, 4.0, 4.0, 4.0, 4.0, 4.0, 4.0, 4.0, 4.0]], \"z\": [[248.8044881138192, 268.8258707170899, 288.8472533203606, 308.86863592363136, 328.89001852690205, 348.9114011301728, 368.9327837334435, 388.9541663367142, 408.97554893998495, 428.9969315432557], [248.8044881138192, 268.8258707170899, 288.8472533203606, 308.86863592363136, 328.89001852690205, 348.9114011301728, 368.9327837334435, 388.9541663367142, 408.97554893998495, 428.9969315432557], [248.8044881138192, 268.8258707170899, 288.8472533203606, 308.86863592363136, 328.89001852690205, 348.9114011301728, 368.9327837334435, 388.9541663367142, 408.97554893998495, 428.9969315432557], [248.8044881138192, 268.8258707170899, 288.8472533203606, 308.86863592363136, 328.89001852690205, 348.9114011301728, 368.9327837334435, 388.9541663367142, 408.97554893998495, 428.9969315432557], [248.8044881138192, 268.8258707170899, 288.8472533203606, 308.86863592363136, 328.89001852690205, 348.9114011301728, 368.9327837334435, 388.9541663367142, 408.97554893998495, 428.9969315432557], [248.8044881138192, 268.8258707170899, 288.8472533203606, 308.86863592363136, 328.89001852690205, 348.9114011301728, 368.9327837334435, 388.9541663367142, 408.97554893998495, 428.9969315432557], [248.8044881138192, 268.8258707170899, 288.8472533203606, 308.86863592363136, 328.89001852690205, 348.9114011301728, 368.9327837334435, 388.9541663367142, 408.97554893998495, 428.9969315432557], [248.8044881138192, 268.8258707170899, 288.8472533203606, 308.86863592363136, 328.89001852690205, 348.9114011301728, 368.9327837334435, 388.9541663367142, 408.97554893998495, 428.9969315432557], [248.8044881138192, 268.8258707170899, 288.8472533203606, 308.86863592363136, 328.89001852690205, 348.9114011301728, 368.9327837334435, 388.9541663367142, 408.97554893998495, 428.9969315432557], [248.8044881138192, 268.8258707170899, 288.8472533203606, 308.86863592363136, 328.89001852690205, 348.9114011301728, 368.9327837334435, 388.9541663367142, 408.97554893998495, 428.9969315432557]]}, {\"coloraxis\": \"coloraxis\", \"colorbar\": {\"thickness\": 5}, \"name\": \"PU+0.3%EG\", \"opacity\": 0.6, \"type\": \"surface\", \"visible\": false, \"x\": [[2.5, 3.1666666666666665, 3.833333333333333, 4.5, 5.166666666666666, 5.833333333333333, 6.5, 7.166666666666666, 7.833333333333333, 8.5], [2.5, 3.1666666666666665, 3.833333333333333, 4.5, 5.166666666666666, 5.833333333333333, 6.5, 7.166666666666666, 7.833333333333333, 8.5], [2.5, 3.1666666666666665, 3.833333333333333, 4.5, 5.166666666666666, 5.833333333333333, 6.5, 7.166666666666666, 7.833333333333333, 8.5], [2.5, 3.1666666666666665, 3.833333333333333, 4.5, 5.166666666666666, 5.833333333333333, 6.5, 7.166666666666666, 7.833333333333333, 8.5], [2.5, 3.1666666666666665, 3.833333333333333, 4.5, 5.166666666666666, 5.833333333333333, 6.5, 7.166666666666666, 7.833333333333333, 8.5], [2.5, 3.1666666666666665, 3.833333333333333, 4.5, 5.166666666666666, 5.833333333333333, 6.5, 7.166666666666666, 7.833333333333333, 8.5], [2.5, 3.1666666666666665, 3.833333333333333, 4.5, 5.166666666666666, 5.833333333333333, 6.5, 7.166666666666666, 7.833333333333333, 8.5], [2.5, 3.1666666666666665, 3.833333333333333, 4.5, 5.166666666666666, 5.833333333333333, 6.5, 7.166666666666666, 7.833333333333333, 8.5], [2.5, 3.1666666666666665, 3.833333333333333, 4.5, 5.166666666666666, 5.833333333333333, 6.5, 7.166666666666666, 7.833333333333333, 8.5], [2.5, 3.1666666666666665, 3.833333333333333, 4.5, 5.166666666666666, 5.833333333333333, 6.5, 7.166666666666666, 7.833333333333333, 8.5]], \"y\": [[2.0, 2.0, 2.0, 2.0, 2.0, 2.0, 2.0, 2.0, 2.0, 2.0], [2.2222222222222223, 2.2222222222222223, 2.2222222222222223, 2.2222222222222223, 2.2222222222222223, 2.2222222222222223, 2.2222222222222223, 2.2222222222222223, 2.2222222222222223, 2.2222222222222223], [2.4444444444444446, 2.4444444444444446, 2.4444444444444446, 2.4444444444444446, 2.4444444444444446, 2.4444444444444446, 2.4444444444444446, 2.4444444444444446, 2.4444444444444446, 2.4444444444444446], [2.6666666666666665, 2.6666666666666665, 2.6666666666666665, 2.6666666666666665, 2.6666666666666665, 2.6666666666666665, 2.6666666666666665, 2.6666666666666665, 2.6666666666666665, 2.6666666666666665], [2.888888888888889, 2.888888888888889, 2.888888888888889, 2.888888888888889, 2.888888888888889, 2.888888888888889, 2.888888888888889, 2.888888888888889, 2.888888888888889, 2.888888888888889], [3.111111111111111, 3.111111111111111, 3.111111111111111, 3.111111111111111, 3.111111111111111, 3.111111111111111, 3.111111111111111, 3.111111111111111, 3.111111111111111, 3.111111111111111], [3.333333333333333, 3.333333333333333, 3.333333333333333, 3.333333333333333, 3.333333333333333, 3.333333333333333, 3.333333333333333, 3.333333333333333, 3.333333333333333, 3.333333333333333], [3.5555555555555554, 3.5555555555555554, 3.5555555555555554, 3.5555555555555554, 3.5555555555555554, 3.5555555555555554, 3.5555555555555554, 3.5555555555555554, 3.5555555555555554, 3.5555555555555554], [3.7777777777777777, 3.7777777777777777, 3.7777777777777777, 3.7777777777777777, 3.7777777777777777, 3.7777777777777777, 3.7777777777777777, 3.7777777777777777, 3.7777777777777777, 3.7777777777777777], [4.0, 4.0, 4.0, 4.0, 4.0, 4.0, 4.0, 4.0, 4.0, 4.0]], \"z\": [[251.37243662542835, 271.39381922869904, 291.41520183196974, 311.4365844352405, 331.4579670385112, 351.47934964178194, 371.50073224505263, 391.5221148483233, 411.5434974515941, 431.56488005486483], [251.37243662542835, 271.39381922869904, 291.41520183196974, 311.4365844352405, 331.4579670385112, 351.47934964178194, 371.50073224505263, 391.5221148483233, 411.5434974515941, 431.56488005486483], [251.37243662542835, 271.39381922869904, 291.41520183196974, 311.4365844352405, 331.4579670385112, 351.47934964178194, 371.50073224505263, 391.5221148483233, 411.5434974515941, 431.56488005486483], [251.37243662542835, 271.39381922869904, 291.41520183196974, 311.4365844352405, 331.4579670385112, 351.47934964178194, 371.50073224505263, 391.5221148483233, 411.5434974515941, 431.56488005486483], [251.37243662542835, 271.39381922869904, 291.41520183196974, 311.4365844352405, 331.4579670385112, 351.47934964178194, 371.50073224505263, 391.5221148483233, 411.5434974515941, 431.56488005486483], [251.37243662542835, 271.39381922869904, 291.41520183196974, 311.4365844352405, 331.4579670385112, 351.47934964178194, 371.50073224505263, 391.5221148483233, 411.5434974515941, 431.56488005486483], [251.37243662542835, 271.39381922869904, 291.41520183196974, 311.4365844352405, 331.4579670385112, 351.47934964178194, 371.50073224505263, 391.5221148483233, 411.5434974515941, 431.56488005486483], [251.37243662542835, 271.39381922869904, 291.41520183196974, 311.4365844352405, 331.4579670385112, 351.47934964178194, 371.50073224505263, 391.5221148483233, 411.5434974515941, 431.56488005486483], [251.37243662542835, 271.39381922869904, 291.41520183196974, 311.4365844352405, 331.4579670385112, 351.47934964178194, 371.50073224505263, 391.5221148483233, 411.5434974515941, 431.56488005486483], [251.37243662542835, 271.39381922869904, 291.41520183196974, 311.4365844352405, 331.4579670385112, 351.47934964178194, 371.50073224505263, 391.5221148483233, 411.5434974515941, 431.56488005486483]]}, {\"coloraxis\": \"coloraxis\", \"colorbar\": {\"thickness\": 5}, \"name\": \"PU+0.4%EG\", \"opacity\": 0.6, \"type\": \"surface\", \"visible\": false, \"x\": [[2.5, 3.1666666666666665, 3.833333333333333, 4.5, 5.166666666666666, 5.833333333333333, 6.5, 7.166666666666666, 7.833333333333333, 8.5], [2.5, 3.1666666666666665, 3.833333333333333, 4.5, 5.166666666666666, 5.833333333333333, 6.5, 7.166666666666666, 7.833333333333333, 8.5], [2.5, 3.1666666666666665, 3.833333333333333, 4.5, 5.166666666666666, 5.833333333333333, 6.5, 7.166666666666666, 7.833333333333333, 8.5], [2.5, 3.1666666666666665, 3.833333333333333, 4.5, 5.166666666666666, 5.833333333333333, 6.5, 7.166666666666666, 7.833333333333333, 8.5], [2.5, 3.1666666666666665, 3.833333333333333, 4.5, 5.166666666666666, 5.833333333333333, 6.5, 7.166666666666666, 7.833333333333333, 8.5], [2.5, 3.1666666666666665, 3.833333333333333, 4.5, 5.166666666666666, 5.833333333333333, 6.5, 7.166666666666666, 7.833333333333333, 8.5], [2.5, 3.1666666666666665, 3.833333333333333, 4.5, 5.166666666666666, 5.833333333333333, 6.5, 7.166666666666666, 7.833333333333333, 8.5], [2.5, 3.1666666666666665, 3.833333333333333, 4.5, 5.166666666666666, 5.833333333333333, 6.5, 7.166666666666666, 7.833333333333333, 8.5], [2.5, 3.1666666666666665, 3.833333333333333, 4.5, 5.166666666666666, 5.833333333333333, 6.5, 7.166666666666666, 7.833333333333333, 8.5], [2.5, 3.1666666666666665, 3.833333333333333, 4.5, 5.166666666666666, 5.833333333333333, 6.5, 7.166666666666666, 7.833333333333333, 8.5]], \"y\": [[2.0, 2.0, 2.0, 2.0, 2.0, 2.0, 2.0, 2.0, 2.0, 2.0], [2.2222222222222223, 2.2222222222222223, 2.2222222222222223, 2.2222222222222223, 2.2222222222222223, 2.2222222222222223, 2.2222222222222223, 2.2222222222222223, 2.2222222222222223, 2.2222222222222223], [2.4444444444444446, 2.4444444444444446, 2.4444444444444446, 2.4444444444444446, 2.4444444444444446, 2.4444444444444446, 2.4444444444444446, 2.4444444444444446, 2.4444444444444446, 2.4444444444444446], [2.6666666666666665, 2.6666666666666665, 2.6666666666666665, 2.6666666666666665, 2.6666666666666665, 2.6666666666666665, 2.6666666666666665, 2.6666666666666665, 2.6666666666666665, 2.6666666666666665], [2.888888888888889, 2.888888888888889, 2.888888888888889, 2.888888888888889, 2.888888888888889, 2.888888888888889, 2.888888888888889, 2.888888888888889, 2.888888888888889, 2.888888888888889], [3.111111111111111, 3.111111111111111, 3.111111111111111, 3.111111111111111, 3.111111111111111, 3.111111111111111, 3.111111111111111, 3.111111111111111, 3.111111111111111, 3.111111111111111], [3.333333333333333, 3.333333333333333, 3.333333333333333, 3.333333333333333, 3.333333333333333, 3.333333333333333, 3.333333333333333, 3.333333333333333, 3.333333333333333, 3.333333333333333], [3.5555555555555554, 3.5555555555555554, 3.5555555555555554, 3.5555555555555554, 3.5555555555555554, 3.5555555555555554, 3.5555555555555554, 3.5555555555555554, 3.5555555555555554, 3.5555555555555554], [3.7777777777777777, 3.7777777777777777, 3.7777777777777777, 3.7777777777777777, 3.7777777777777777, 3.7777777777777777, 3.7777777777777777, 3.7777777777777777, 3.7777777777777777, 3.7777777777777777], [4.0, 4.0, 4.0, 4.0, 4.0, 4.0, 4.0, 4.0, 4.0, 4.0]], \"z\": [[253.94038513703748, 273.96176774030823, 293.9831503435789, 314.0045329468497, 334.0259155501204, 354.0472981533911, 374.0686807566618, 394.0900633599325, 414.11144596320327, 434.132828566474], [253.94038513703748, 273.96176774030823, 293.9831503435789, 314.0045329468497, 334.0259155501204, 354.0472981533911, 374.0686807566618, 394.0900633599325, 414.11144596320327, 434.132828566474], [253.94038513703748, 273.96176774030823, 293.9831503435789, 314.0045329468497, 334.0259155501204, 354.0472981533911, 374.0686807566618, 394.0900633599325, 414.11144596320327, 434.132828566474], [253.94038513703748, 273.96176774030823, 293.9831503435789, 314.0045329468497, 334.0259155501204, 354.0472981533911, 374.0686807566618, 394.0900633599325, 414.11144596320327, 434.132828566474], [253.94038513703748, 273.96176774030823, 293.9831503435789, 314.0045329468497, 334.0259155501204, 354.0472981533911, 374.0686807566618, 394.0900633599325, 414.11144596320327, 434.132828566474], [253.94038513703748, 273.96176774030823, 293.9831503435789, 314.0045329468497, 334.0259155501204, 354.0472981533911, 374.0686807566618, 394.0900633599325, 414.11144596320327, 434.132828566474], [253.94038513703748, 273.96176774030823, 293.9831503435789, 314.0045329468497, 334.0259155501204, 354.0472981533911, 374.0686807566618, 394.0900633599325, 414.11144596320327, 434.132828566474], [253.94038513703748, 273.96176774030823, 293.9831503435789, 314.0045329468497, 334.0259155501204, 354.0472981533911, 374.0686807566618, 394.0900633599325, 414.11144596320327, 434.132828566474], [253.94038513703748, 273.96176774030823, 293.9831503435789, 314.0045329468497, 334.0259155501204, 354.0472981533911, 374.0686807566618, 394.0900633599325, 414.11144596320327, 434.132828566474], [253.94038513703748, 273.96176774030823, 293.9831503435789, 314.0045329468497, 334.0259155501204, 354.0472981533911, 374.0686807566618, 394.0900633599325, 414.11144596320327, 434.132828566474]]}, {\"coloraxis\": \"coloraxis\", \"colorbar\": {\"thickness\": 5}, \"name\": \"PU+0.5%EG\", \"opacity\": 0.6, \"type\": \"surface\", \"visible\": false, \"x\": [[2.5, 3.1666666666666665, 3.833333333333333, 4.5, 5.166666666666666, 5.833333333333333, 6.5, 7.166666666666666, 7.833333333333333, 8.5], [2.5, 3.1666666666666665, 3.833333333333333, 4.5, 5.166666666666666, 5.833333333333333, 6.5, 7.166666666666666, 7.833333333333333, 8.5], [2.5, 3.1666666666666665, 3.833333333333333, 4.5, 5.166666666666666, 5.833333333333333, 6.5, 7.166666666666666, 7.833333333333333, 8.5], [2.5, 3.1666666666666665, 3.833333333333333, 4.5, 5.166666666666666, 5.833333333333333, 6.5, 7.166666666666666, 7.833333333333333, 8.5], [2.5, 3.1666666666666665, 3.833333333333333, 4.5, 5.166666666666666, 5.833333333333333, 6.5, 7.166666666666666, 7.833333333333333, 8.5], [2.5, 3.1666666666666665, 3.833333333333333, 4.5, 5.166666666666666, 5.833333333333333, 6.5, 7.166666666666666, 7.833333333333333, 8.5], [2.5, 3.1666666666666665, 3.833333333333333, 4.5, 5.166666666666666, 5.833333333333333, 6.5, 7.166666666666666, 7.833333333333333, 8.5], [2.5, 3.1666666666666665, 3.833333333333333, 4.5, 5.166666666666666, 5.833333333333333, 6.5, 7.166666666666666, 7.833333333333333, 8.5], [2.5, 3.1666666666666665, 3.833333333333333, 4.5, 5.166666666666666, 5.833333333333333, 6.5, 7.166666666666666, 7.833333333333333, 8.5], [2.5, 3.1666666666666665, 3.833333333333333, 4.5, 5.166666666666666, 5.833333333333333, 6.5, 7.166666666666666, 7.833333333333333, 8.5]], \"y\": [[2.0, 2.0, 2.0, 2.0, 2.0, 2.0, 2.0, 2.0, 2.0, 2.0], [2.2222222222222223, 2.2222222222222223, 2.2222222222222223, 2.2222222222222223, 2.2222222222222223, 2.2222222222222223, 2.2222222222222223, 2.2222222222222223, 2.2222222222222223, 2.2222222222222223], [2.4444444444444446, 2.4444444444444446, 2.4444444444444446, 2.4444444444444446, 2.4444444444444446, 2.4444444444444446, 2.4444444444444446, 2.4444444444444446, 2.4444444444444446, 2.4444444444444446], [2.6666666666666665, 2.6666666666666665, 2.6666666666666665, 2.6666666666666665, 2.6666666666666665, 2.6666666666666665, 2.6666666666666665, 2.6666666666666665, 2.6666666666666665, 2.6666666666666665], [2.888888888888889, 2.888888888888889, 2.888888888888889, 2.888888888888889, 2.888888888888889, 2.888888888888889, 2.888888888888889, 2.888888888888889, 2.888888888888889, 2.888888888888889], [3.111111111111111, 3.111111111111111, 3.111111111111111, 3.111111111111111, 3.111111111111111, 3.111111111111111, 3.111111111111111, 3.111111111111111, 3.111111111111111, 3.111111111111111], [3.333333333333333, 3.333333333333333, 3.333333333333333, 3.333333333333333, 3.333333333333333, 3.333333333333333, 3.333333333333333, 3.333333333333333, 3.333333333333333, 3.333333333333333], [3.5555555555555554, 3.5555555555555554, 3.5555555555555554, 3.5555555555555554, 3.5555555555555554, 3.5555555555555554, 3.5555555555555554, 3.5555555555555554, 3.5555555555555554, 3.5555555555555554], [3.7777777777777777, 3.7777777777777777, 3.7777777777777777, 3.7777777777777777, 3.7777777777777777, 3.7777777777777777, 3.7777777777777777, 3.7777777777777777, 3.7777777777777777, 3.7777777777777777], [4.0, 4.0, 4.0, 4.0, 4.0, 4.0, 4.0, 4.0, 4.0, 4.0]], \"z\": [[256.50833364864667, 276.52971625191736, 296.55109885518806, 316.5724814584588, 336.5938640617295, 356.61524666500026, 376.63662926827095, 396.65801187154165, 416.6793944748124, 436.70077707808315], [256.50833364864667, 276.52971625191736, 296.55109885518806, 316.5724814584588, 336.5938640617295, 356.61524666500026, 376.63662926827095, 396.65801187154165, 416.6793944748124, 436.70077707808315], [256.50833364864667, 276.52971625191736, 296.55109885518806, 316.5724814584588, 336.5938640617295, 356.61524666500026, 376.63662926827095, 396.65801187154165, 416.6793944748124, 436.70077707808315], [256.50833364864667, 276.52971625191736, 296.55109885518806, 316.5724814584588, 336.5938640617295, 356.61524666500026, 376.63662926827095, 396.65801187154165, 416.6793944748124, 436.70077707808315], [256.50833364864667, 276.52971625191736, 296.55109885518806, 316.5724814584588, 336.5938640617295, 356.61524666500026, 376.63662926827095, 396.65801187154165, 416.6793944748124, 436.70077707808315], [256.50833364864667, 276.52971625191736, 296.55109885518806, 316.5724814584588, 336.5938640617295, 356.61524666500026, 376.63662926827095, 396.65801187154165, 416.6793944748124, 436.70077707808315], [256.50833364864667, 276.52971625191736, 296.55109885518806, 316.5724814584588, 336.5938640617295, 356.61524666500026, 376.63662926827095, 396.65801187154165, 416.6793944748124, 436.70077707808315], [256.50833364864667, 276.52971625191736, 296.55109885518806, 316.5724814584588, 336.5938640617295, 356.61524666500026, 376.63662926827095, 396.65801187154165, 416.6793944748124, 436.70077707808315], [256.50833364864667, 276.52971625191736, 296.55109885518806, 316.5724814584588, 336.5938640617295, 356.61524666500026, 376.63662926827095, 396.65801187154165, 416.6793944748124, 436.70077707808315], [256.50833364864667, 276.52971625191736, 296.55109885518806, 316.5724814584588, 336.5938640617295, 356.61524666500026, 376.63662926827095, 396.65801187154165, 416.6793944748124, 436.70077707808315]]}, {\"coloraxis\": \"coloraxis\", \"colorbar\": {\"thickness\": 5}, \"name\": \"PU+0.6%EG\", \"opacity\": 0.6, \"type\": \"surface\", \"visible\": false, \"x\": [[2.5, 3.1666666666666665, 3.833333333333333, 4.5, 5.166666666666666, 5.833333333333333, 6.5, 7.166666666666666, 7.833333333333333, 8.5], [2.5, 3.1666666666666665, 3.833333333333333, 4.5, 5.166666666666666, 5.833333333333333, 6.5, 7.166666666666666, 7.833333333333333, 8.5], [2.5, 3.1666666666666665, 3.833333333333333, 4.5, 5.166666666666666, 5.833333333333333, 6.5, 7.166666666666666, 7.833333333333333, 8.5], [2.5, 3.1666666666666665, 3.833333333333333, 4.5, 5.166666666666666, 5.833333333333333, 6.5, 7.166666666666666, 7.833333333333333, 8.5], [2.5, 3.1666666666666665, 3.833333333333333, 4.5, 5.166666666666666, 5.833333333333333, 6.5, 7.166666666666666, 7.833333333333333, 8.5], [2.5, 3.1666666666666665, 3.833333333333333, 4.5, 5.166666666666666, 5.833333333333333, 6.5, 7.166666666666666, 7.833333333333333, 8.5], [2.5, 3.1666666666666665, 3.833333333333333, 4.5, 5.166666666666666, 5.833333333333333, 6.5, 7.166666666666666, 7.833333333333333, 8.5], [2.5, 3.1666666666666665, 3.833333333333333, 4.5, 5.166666666666666, 5.833333333333333, 6.5, 7.166666666666666, 7.833333333333333, 8.5], [2.5, 3.1666666666666665, 3.833333333333333, 4.5, 5.166666666666666, 5.833333333333333, 6.5, 7.166666666666666, 7.833333333333333, 8.5], [2.5, 3.1666666666666665, 3.833333333333333, 4.5, 5.166666666666666, 5.833333333333333, 6.5, 7.166666666666666, 7.833333333333333, 8.5]], \"y\": [[2.0, 2.0, 2.0, 2.0, 2.0, 2.0, 2.0, 2.0, 2.0, 2.0], [2.2222222222222223, 2.2222222222222223, 2.2222222222222223, 2.2222222222222223, 2.2222222222222223, 2.2222222222222223, 2.2222222222222223, 2.2222222222222223, 2.2222222222222223, 2.2222222222222223], [2.4444444444444446, 2.4444444444444446, 2.4444444444444446, 2.4444444444444446, 2.4444444444444446, 2.4444444444444446, 2.4444444444444446, 2.4444444444444446, 2.4444444444444446, 2.4444444444444446], [2.6666666666666665, 2.6666666666666665, 2.6666666666666665, 2.6666666666666665, 2.6666666666666665, 2.6666666666666665, 2.6666666666666665, 2.6666666666666665, 2.6666666666666665, 2.6666666666666665], [2.888888888888889, 2.888888888888889, 2.888888888888889, 2.888888888888889, 2.888888888888889, 2.888888888888889, 2.888888888888889, 2.888888888888889, 2.888888888888889, 2.888888888888889], [3.111111111111111, 3.111111111111111, 3.111111111111111, 3.111111111111111, 3.111111111111111, 3.111111111111111, 3.111111111111111, 3.111111111111111, 3.111111111111111, 3.111111111111111], [3.333333333333333, 3.333333333333333, 3.333333333333333, 3.333333333333333, 3.333333333333333, 3.333333333333333, 3.333333333333333, 3.333333333333333, 3.333333333333333, 3.333333333333333], [3.5555555555555554, 3.5555555555555554, 3.5555555555555554, 3.5555555555555554, 3.5555555555555554, 3.5555555555555554, 3.5555555555555554, 3.5555555555555554, 3.5555555555555554, 3.5555555555555554], [3.7777777777777777, 3.7777777777777777, 3.7777777777777777, 3.7777777777777777, 3.7777777777777777, 3.7777777777777777, 3.7777777777777777, 3.7777777777777777, 3.7777777777777777, 3.7777777777777777], [4.0, 4.0, 4.0, 4.0, 4.0, 4.0, 4.0, 4.0, 4.0, 4.0]], \"z\": [[259.0762821602558, 279.09766476352655, 299.11904736679725, 319.140429970068, 339.1618125733387, 359.18319517660944, 379.20457777988014, 399.22596038315083, 419.2473429864216, 439.26872558969234], [259.0762821602558, 279.09766476352655, 299.11904736679725, 319.140429970068, 339.1618125733387, 359.18319517660944, 379.20457777988014, 399.22596038315083, 419.2473429864216, 439.26872558969234], [259.0762821602558, 279.09766476352655, 299.11904736679725, 319.140429970068, 339.1618125733387, 359.18319517660944, 379.20457777988014, 399.22596038315083, 419.2473429864216, 439.26872558969234], [259.0762821602558, 279.09766476352655, 299.11904736679725, 319.140429970068, 339.1618125733387, 359.18319517660944, 379.20457777988014, 399.22596038315083, 419.2473429864216, 439.26872558969234], [259.0762821602558, 279.09766476352655, 299.11904736679725, 319.140429970068, 339.1618125733387, 359.18319517660944, 379.20457777988014, 399.22596038315083, 419.2473429864216, 439.26872558969234], [259.0762821602558, 279.09766476352655, 299.11904736679725, 319.140429970068, 339.1618125733387, 359.18319517660944, 379.20457777988014, 399.22596038315083, 419.2473429864216, 439.26872558969234], [259.0762821602558, 279.09766476352655, 299.11904736679725, 319.140429970068, 339.1618125733387, 359.18319517660944, 379.20457777988014, 399.22596038315083, 419.2473429864216, 439.26872558969234], [259.0762821602558, 279.09766476352655, 299.11904736679725, 319.140429970068, 339.1618125733387, 359.18319517660944, 379.20457777988014, 399.22596038315083, 419.2473429864216, 439.26872558969234], [259.0762821602558, 279.09766476352655, 299.11904736679725, 319.140429970068, 339.1618125733387, 359.18319517660944, 379.20457777988014, 399.22596038315083, 419.2473429864216, 439.26872558969234], [259.0762821602558, 279.09766476352655, 299.11904736679725, 319.140429970068, 339.1618125733387, 359.18319517660944, 379.20457777988014, 399.22596038315083, 419.2473429864216, 439.26872558969234]]}, {\"coloraxis\": \"coloraxis\", \"colorbar\": {\"thickness\": 5}, \"name\": \"PU+0.7%EG\", \"opacity\": 0.6, \"type\": \"surface\", \"visible\": false, \"x\": [[2.5, 3.1666666666666665, 3.833333333333333, 4.5, 5.166666666666666, 5.833333333333333, 6.5, 7.166666666666666, 7.833333333333333, 8.5], [2.5, 3.1666666666666665, 3.833333333333333, 4.5, 5.166666666666666, 5.833333333333333, 6.5, 7.166666666666666, 7.833333333333333, 8.5], [2.5, 3.1666666666666665, 3.833333333333333, 4.5, 5.166666666666666, 5.833333333333333, 6.5, 7.166666666666666, 7.833333333333333, 8.5], [2.5, 3.1666666666666665, 3.833333333333333, 4.5, 5.166666666666666, 5.833333333333333, 6.5, 7.166666666666666, 7.833333333333333, 8.5], [2.5, 3.1666666666666665, 3.833333333333333, 4.5, 5.166666666666666, 5.833333333333333, 6.5, 7.166666666666666, 7.833333333333333, 8.5], [2.5, 3.1666666666666665, 3.833333333333333, 4.5, 5.166666666666666, 5.833333333333333, 6.5, 7.166666666666666, 7.833333333333333, 8.5], [2.5, 3.1666666666666665, 3.833333333333333, 4.5, 5.166666666666666, 5.833333333333333, 6.5, 7.166666666666666, 7.833333333333333, 8.5], [2.5, 3.1666666666666665, 3.833333333333333, 4.5, 5.166666666666666, 5.833333333333333, 6.5, 7.166666666666666, 7.833333333333333, 8.5], [2.5, 3.1666666666666665, 3.833333333333333, 4.5, 5.166666666666666, 5.833333333333333, 6.5, 7.166666666666666, 7.833333333333333, 8.5], [2.5, 3.1666666666666665, 3.833333333333333, 4.5, 5.166666666666666, 5.833333333333333, 6.5, 7.166666666666666, 7.833333333333333, 8.5]], \"y\": [[2.0, 2.0, 2.0, 2.0, 2.0, 2.0, 2.0, 2.0, 2.0, 2.0], [2.2222222222222223, 2.2222222222222223, 2.2222222222222223, 2.2222222222222223, 2.2222222222222223, 2.2222222222222223, 2.2222222222222223, 2.2222222222222223, 2.2222222222222223, 2.2222222222222223], [2.4444444444444446, 2.4444444444444446, 2.4444444444444446, 2.4444444444444446, 2.4444444444444446, 2.4444444444444446, 2.4444444444444446, 2.4444444444444446, 2.4444444444444446, 2.4444444444444446], [2.6666666666666665, 2.6666666666666665, 2.6666666666666665, 2.6666666666666665, 2.6666666666666665, 2.6666666666666665, 2.6666666666666665, 2.6666666666666665, 2.6666666666666665, 2.6666666666666665], [2.888888888888889, 2.888888888888889, 2.888888888888889, 2.888888888888889, 2.888888888888889, 2.888888888888889, 2.888888888888889, 2.888888888888889, 2.888888888888889, 2.888888888888889], [3.111111111111111, 3.111111111111111, 3.111111111111111, 3.111111111111111, 3.111111111111111, 3.111111111111111, 3.111111111111111, 3.111111111111111, 3.111111111111111, 3.111111111111111], [3.333333333333333, 3.333333333333333, 3.333333333333333, 3.333333333333333, 3.333333333333333, 3.333333333333333, 3.333333333333333, 3.333333333333333, 3.333333333333333, 3.333333333333333], [3.5555555555555554, 3.5555555555555554, 3.5555555555555554, 3.5555555555555554, 3.5555555555555554, 3.5555555555555554, 3.5555555555555554, 3.5555555555555554, 3.5555555555555554, 3.5555555555555554], [3.7777777777777777, 3.7777777777777777, 3.7777777777777777, 3.7777777777777777, 3.7777777777777777, 3.7777777777777777, 3.7777777777777777, 3.7777777777777777, 3.7777777777777777, 3.7777777777777777], [4.0, 4.0, 4.0, 4.0, 4.0, 4.0, 4.0, 4.0, 4.0, 4.0]], \"z\": [[261.644230671865, 281.6656132751357, 301.6869958784064, 321.70837848167713, 341.7297610849478, 361.7511436882186, 381.77252629148927, 401.79390889475997, 421.8152914980307, 441.83667410130147], [261.644230671865, 281.6656132751357, 301.6869958784064, 321.70837848167713, 341.7297610849478, 361.7511436882186, 381.77252629148927, 401.79390889475997, 421.8152914980307, 441.83667410130147], [261.644230671865, 281.6656132751357, 301.6869958784064, 321.70837848167713, 341.7297610849478, 361.7511436882186, 381.77252629148927, 401.79390889475997, 421.8152914980307, 441.83667410130147], [261.644230671865, 281.6656132751357, 301.6869958784064, 321.70837848167713, 341.7297610849478, 361.7511436882186, 381.77252629148927, 401.79390889475997, 421.8152914980307, 441.83667410130147], [261.644230671865, 281.6656132751357, 301.6869958784064, 321.70837848167713, 341.7297610849478, 361.7511436882186, 381.77252629148927, 401.79390889475997, 421.8152914980307, 441.83667410130147], [261.644230671865, 281.6656132751357, 301.6869958784064, 321.70837848167713, 341.7297610849478, 361.7511436882186, 381.77252629148927, 401.79390889475997, 421.8152914980307, 441.83667410130147], [261.644230671865, 281.6656132751357, 301.6869958784064, 321.70837848167713, 341.7297610849478, 361.7511436882186, 381.77252629148927, 401.79390889475997, 421.8152914980307, 441.83667410130147], [261.644230671865, 281.6656132751357, 301.6869958784064, 321.70837848167713, 341.7297610849478, 361.7511436882186, 381.77252629148927, 401.79390889475997, 421.8152914980307, 441.83667410130147], [261.644230671865, 281.6656132751357, 301.6869958784064, 321.70837848167713, 341.7297610849478, 361.7511436882186, 381.77252629148927, 401.79390889475997, 421.8152914980307, 441.83667410130147], [261.644230671865, 281.6656132751357, 301.6869958784064, 321.70837848167713, 341.7297610849478, 361.7511436882186, 381.77252629148927, 401.79390889475997, 421.8152914980307, 441.83667410130147]]}, {\"coloraxis\": \"coloraxis\", \"colorbar\": {\"thickness\": 5}, \"name\": \"PU+0.8%EG\", \"opacity\": 0.6, \"type\": \"surface\", \"visible\": false, \"x\": [[2.5, 3.1666666666666665, 3.833333333333333, 4.5, 5.166666666666666, 5.833333333333333, 6.5, 7.166666666666666, 7.833333333333333, 8.5], [2.5, 3.1666666666666665, 3.833333333333333, 4.5, 5.166666666666666, 5.833333333333333, 6.5, 7.166666666666666, 7.833333333333333, 8.5], [2.5, 3.1666666666666665, 3.833333333333333, 4.5, 5.166666666666666, 5.833333333333333, 6.5, 7.166666666666666, 7.833333333333333, 8.5], [2.5, 3.1666666666666665, 3.833333333333333, 4.5, 5.166666666666666, 5.833333333333333, 6.5, 7.166666666666666, 7.833333333333333, 8.5], [2.5, 3.1666666666666665, 3.833333333333333, 4.5, 5.166666666666666, 5.833333333333333, 6.5, 7.166666666666666, 7.833333333333333, 8.5], [2.5, 3.1666666666666665, 3.833333333333333, 4.5, 5.166666666666666, 5.833333333333333, 6.5, 7.166666666666666, 7.833333333333333, 8.5], [2.5, 3.1666666666666665, 3.833333333333333, 4.5, 5.166666666666666, 5.833333333333333, 6.5, 7.166666666666666, 7.833333333333333, 8.5], [2.5, 3.1666666666666665, 3.833333333333333, 4.5, 5.166666666666666, 5.833333333333333, 6.5, 7.166666666666666, 7.833333333333333, 8.5], [2.5, 3.1666666666666665, 3.833333333333333, 4.5, 5.166666666666666, 5.833333333333333, 6.5, 7.166666666666666, 7.833333333333333, 8.5], [2.5, 3.1666666666666665, 3.833333333333333, 4.5, 5.166666666666666, 5.833333333333333, 6.5, 7.166666666666666, 7.833333333333333, 8.5]], \"y\": [[2.0, 2.0, 2.0, 2.0, 2.0, 2.0, 2.0, 2.0, 2.0, 2.0], [2.2222222222222223, 2.2222222222222223, 2.2222222222222223, 2.2222222222222223, 2.2222222222222223, 2.2222222222222223, 2.2222222222222223, 2.2222222222222223, 2.2222222222222223, 2.2222222222222223], [2.4444444444444446, 2.4444444444444446, 2.4444444444444446, 2.4444444444444446, 2.4444444444444446, 2.4444444444444446, 2.4444444444444446, 2.4444444444444446, 2.4444444444444446, 2.4444444444444446], [2.6666666666666665, 2.6666666666666665, 2.6666666666666665, 2.6666666666666665, 2.6666666666666665, 2.6666666666666665, 2.6666666666666665, 2.6666666666666665, 2.6666666666666665, 2.6666666666666665], [2.888888888888889, 2.888888888888889, 2.888888888888889, 2.888888888888889, 2.888888888888889, 2.888888888888889, 2.888888888888889, 2.888888888888889, 2.888888888888889, 2.888888888888889], [3.111111111111111, 3.111111111111111, 3.111111111111111, 3.111111111111111, 3.111111111111111, 3.111111111111111, 3.111111111111111, 3.111111111111111, 3.111111111111111, 3.111111111111111], [3.333333333333333, 3.333333333333333, 3.333333333333333, 3.333333333333333, 3.333333333333333, 3.333333333333333, 3.333333333333333, 3.333333333333333, 3.333333333333333, 3.333333333333333], [3.5555555555555554, 3.5555555555555554, 3.5555555555555554, 3.5555555555555554, 3.5555555555555554, 3.5555555555555554, 3.5555555555555554, 3.5555555555555554, 3.5555555555555554, 3.5555555555555554], [3.7777777777777777, 3.7777777777777777, 3.7777777777777777, 3.7777777777777777, 3.7777777777777777, 3.7777777777777777, 3.7777777777777777, 3.7777777777777777, 3.7777777777777777, 3.7777777777777777], [4.0, 4.0, 4.0, 4.0, 4.0, 4.0, 4.0, 4.0, 4.0, 4.0]], \"z\": [[264.2121791834741, 284.2335617867449, 304.25494439001557, 324.27632699328626, 344.29770959655696, 364.31909219982776, 384.34047480309846, 404.36185740636915, 424.38324000963985, 444.40462261291066], [264.2121791834741, 284.2335617867449, 304.25494439001557, 324.27632699328626, 344.29770959655696, 364.31909219982776, 384.34047480309846, 404.36185740636915, 424.38324000963985, 444.40462261291066], [264.2121791834741, 284.2335617867449, 304.25494439001557, 324.27632699328626, 344.29770959655696, 364.31909219982776, 384.34047480309846, 404.36185740636915, 424.38324000963985, 444.40462261291066], [264.2121791834741, 284.2335617867449, 304.25494439001557, 324.27632699328626, 344.29770959655696, 364.31909219982776, 384.34047480309846, 404.36185740636915, 424.38324000963985, 444.40462261291066], [264.2121791834741, 284.2335617867449, 304.25494439001557, 324.27632699328626, 344.29770959655696, 364.31909219982776, 384.34047480309846, 404.36185740636915, 424.38324000963985, 444.40462261291066], [264.2121791834741, 284.2335617867449, 304.25494439001557, 324.27632699328626, 344.29770959655696, 364.31909219982776, 384.34047480309846, 404.36185740636915, 424.38324000963985, 444.40462261291066], [264.2121791834741, 284.2335617867449, 304.25494439001557, 324.27632699328626, 344.29770959655696, 364.31909219982776, 384.34047480309846, 404.36185740636915, 424.38324000963985, 444.40462261291066], [264.2121791834741, 284.2335617867449, 304.25494439001557, 324.27632699328626, 344.29770959655696, 364.31909219982776, 384.34047480309846, 404.36185740636915, 424.38324000963985, 444.40462261291066], [264.2121791834741, 284.2335617867449, 304.25494439001557, 324.27632699328626, 344.29770959655696, 364.31909219982776, 384.34047480309846, 404.36185740636915, 424.38324000963985, 444.40462261291066], [264.2121791834741, 284.2335617867449, 304.25494439001557, 324.27632699328626, 344.29770959655696, 364.31909219982776, 384.34047480309846, 404.36185740636915, 424.38324000963985, 444.40462261291066]]}, {\"coloraxis\": \"coloraxis\", \"colorbar\": {\"thickness\": 5}, \"name\": \"PU+0.9%EG\", \"opacity\": 0.6, \"type\": \"surface\", \"visible\": false, \"x\": [[2.5, 3.1666666666666665, 3.833333333333333, 4.5, 5.166666666666666, 5.833333333333333, 6.5, 7.166666666666666, 7.833333333333333, 8.5], [2.5, 3.1666666666666665, 3.833333333333333, 4.5, 5.166666666666666, 5.833333333333333, 6.5, 7.166666666666666, 7.833333333333333, 8.5], [2.5, 3.1666666666666665, 3.833333333333333, 4.5, 5.166666666666666, 5.833333333333333, 6.5, 7.166666666666666, 7.833333333333333, 8.5], [2.5, 3.1666666666666665, 3.833333333333333, 4.5, 5.166666666666666, 5.833333333333333, 6.5, 7.166666666666666, 7.833333333333333, 8.5], [2.5, 3.1666666666666665, 3.833333333333333, 4.5, 5.166666666666666, 5.833333333333333, 6.5, 7.166666666666666, 7.833333333333333, 8.5], [2.5, 3.1666666666666665, 3.833333333333333, 4.5, 5.166666666666666, 5.833333333333333, 6.5, 7.166666666666666, 7.833333333333333, 8.5], [2.5, 3.1666666666666665, 3.833333333333333, 4.5, 5.166666666666666, 5.833333333333333, 6.5, 7.166666666666666, 7.833333333333333, 8.5], [2.5, 3.1666666666666665, 3.833333333333333, 4.5, 5.166666666666666, 5.833333333333333, 6.5, 7.166666666666666, 7.833333333333333, 8.5], [2.5, 3.1666666666666665, 3.833333333333333, 4.5, 5.166666666666666, 5.833333333333333, 6.5, 7.166666666666666, 7.833333333333333, 8.5], [2.5, 3.1666666666666665, 3.833333333333333, 4.5, 5.166666666666666, 5.833333333333333, 6.5, 7.166666666666666, 7.833333333333333, 8.5]], \"y\": [[2.0, 2.0, 2.0, 2.0, 2.0, 2.0, 2.0, 2.0, 2.0, 2.0], [2.2222222222222223, 2.2222222222222223, 2.2222222222222223, 2.2222222222222223, 2.2222222222222223, 2.2222222222222223, 2.2222222222222223, 2.2222222222222223, 2.2222222222222223, 2.2222222222222223], [2.4444444444444446, 2.4444444444444446, 2.4444444444444446, 2.4444444444444446, 2.4444444444444446, 2.4444444444444446, 2.4444444444444446, 2.4444444444444446, 2.4444444444444446, 2.4444444444444446], [2.6666666666666665, 2.6666666666666665, 2.6666666666666665, 2.6666666666666665, 2.6666666666666665, 2.6666666666666665, 2.6666666666666665, 2.6666666666666665, 2.6666666666666665, 2.6666666666666665], [2.888888888888889, 2.888888888888889, 2.888888888888889, 2.888888888888889, 2.888888888888889, 2.888888888888889, 2.888888888888889, 2.888888888888889, 2.888888888888889, 2.888888888888889], [3.111111111111111, 3.111111111111111, 3.111111111111111, 3.111111111111111, 3.111111111111111, 3.111111111111111, 3.111111111111111, 3.111111111111111, 3.111111111111111, 3.111111111111111], [3.333333333333333, 3.333333333333333, 3.333333333333333, 3.333333333333333, 3.333333333333333, 3.333333333333333, 3.333333333333333, 3.333333333333333, 3.333333333333333, 3.333333333333333], [3.5555555555555554, 3.5555555555555554, 3.5555555555555554, 3.5555555555555554, 3.5555555555555554, 3.5555555555555554, 3.5555555555555554, 3.5555555555555554, 3.5555555555555554, 3.5555555555555554], [3.7777777777777777, 3.7777777777777777, 3.7777777777777777, 3.7777777777777777, 3.7777777777777777, 3.7777777777777777, 3.7777777777777777, 3.7777777777777777, 3.7777777777777777, 3.7777777777777777], [4.0, 4.0, 4.0, 4.0, 4.0, 4.0, 4.0, 4.0, 4.0, 4.0]], \"z\": [[266.78012769508325, 286.801510298354, 306.8228929016247, 326.84427550489545, 346.86565810816614, 366.8870407114369, 386.9084233147076, 406.9298059179783, 426.95118852124904, 446.9725711245198], [266.78012769508325, 286.801510298354, 306.8228929016247, 326.84427550489545, 346.86565810816614, 366.8870407114369, 386.9084233147076, 406.9298059179783, 426.95118852124904, 446.9725711245198], [266.78012769508325, 286.801510298354, 306.8228929016247, 326.84427550489545, 346.86565810816614, 366.8870407114369, 386.9084233147076, 406.9298059179783, 426.95118852124904, 446.9725711245198], [266.78012769508325, 286.801510298354, 306.8228929016247, 326.84427550489545, 346.86565810816614, 366.8870407114369, 386.9084233147076, 406.9298059179783, 426.95118852124904, 446.9725711245198], [266.78012769508325, 286.801510298354, 306.8228929016247, 326.84427550489545, 346.86565810816614, 366.8870407114369, 386.9084233147076, 406.9298059179783, 426.95118852124904, 446.9725711245198], [266.78012769508325, 286.801510298354, 306.8228929016247, 326.84427550489545, 346.86565810816614, 366.8870407114369, 386.9084233147076, 406.9298059179783, 426.95118852124904, 446.9725711245198], [266.78012769508325, 286.801510298354, 306.8228929016247, 326.84427550489545, 346.86565810816614, 366.8870407114369, 386.9084233147076, 406.9298059179783, 426.95118852124904, 446.9725711245198], [266.78012769508325, 286.801510298354, 306.8228929016247, 326.84427550489545, 346.86565810816614, 366.8870407114369, 386.9084233147076, 406.9298059179783, 426.95118852124904, 446.9725711245198], [266.78012769508325, 286.801510298354, 306.8228929016247, 326.84427550489545, 346.86565810816614, 366.8870407114369, 386.9084233147076, 406.9298059179783, 426.95118852124904, 446.9725711245198], [266.78012769508325, 286.801510298354, 306.8228929016247, 326.84427550489545, 346.86565810816614, 366.8870407114369, 386.9084233147076, 406.9298059179783, 426.95118852124904, 446.9725711245198]]}, {\"coloraxis\": \"coloraxis\", \"colorbar\": {\"thickness\": 5}, \"name\": \"PU+1.0%EG\", \"opacity\": 0.6, \"type\": \"surface\", \"visible\": true, \"x\": [[2.5, 3.1666666666666665, 3.833333333333333, 4.5, 5.166666666666666, 5.833333333333333, 6.5, 7.166666666666666, 7.833333333333333, 8.5], [2.5, 3.1666666666666665, 3.833333333333333, 4.5, 5.166666666666666, 5.833333333333333, 6.5, 7.166666666666666, 7.833333333333333, 8.5], [2.5, 3.1666666666666665, 3.833333333333333, 4.5, 5.166666666666666, 5.833333333333333, 6.5, 7.166666666666666, 7.833333333333333, 8.5], [2.5, 3.1666666666666665, 3.833333333333333, 4.5, 5.166666666666666, 5.833333333333333, 6.5, 7.166666666666666, 7.833333333333333, 8.5], [2.5, 3.1666666666666665, 3.833333333333333, 4.5, 5.166666666666666, 5.833333333333333, 6.5, 7.166666666666666, 7.833333333333333, 8.5], [2.5, 3.1666666666666665, 3.833333333333333, 4.5, 5.166666666666666, 5.833333333333333, 6.5, 7.166666666666666, 7.833333333333333, 8.5], [2.5, 3.1666666666666665, 3.833333333333333, 4.5, 5.166666666666666, 5.833333333333333, 6.5, 7.166666666666666, 7.833333333333333, 8.5], [2.5, 3.1666666666666665, 3.833333333333333, 4.5, 5.166666666666666, 5.833333333333333, 6.5, 7.166666666666666, 7.833333333333333, 8.5], [2.5, 3.1666666666666665, 3.833333333333333, 4.5, 5.166666666666666, 5.833333333333333, 6.5, 7.166666666666666, 7.833333333333333, 8.5], [2.5, 3.1666666666666665, 3.833333333333333, 4.5, 5.166666666666666, 5.833333333333333, 6.5, 7.166666666666666, 7.833333333333333, 8.5]], \"y\": [[2.0, 2.0, 2.0, 2.0, 2.0, 2.0, 2.0, 2.0, 2.0, 2.0], [2.2222222222222223, 2.2222222222222223, 2.2222222222222223, 2.2222222222222223, 2.2222222222222223, 2.2222222222222223, 2.2222222222222223, 2.2222222222222223, 2.2222222222222223, 2.2222222222222223], [2.4444444444444446, 2.4444444444444446, 2.4444444444444446, 2.4444444444444446, 2.4444444444444446, 2.4444444444444446, 2.4444444444444446, 2.4444444444444446, 2.4444444444444446, 2.4444444444444446], [2.6666666666666665, 2.6666666666666665, 2.6666666666666665, 2.6666666666666665, 2.6666666666666665, 2.6666666666666665, 2.6666666666666665, 2.6666666666666665, 2.6666666666666665, 2.6666666666666665], [2.888888888888889, 2.888888888888889, 2.888888888888889, 2.888888888888889, 2.888888888888889, 2.888888888888889, 2.888888888888889, 2.888888888888889, 2.888888888888889, 2.888888888888889], [3.111111111111111, 3.111111111111111, 3.111111111111111, 3.111111111111111, 3.111111111111111, 3.111111111111111, 3.111111111111111, 3.111111111111111, 3.111111111111111, 3.111111111111111], [3.333333333333333, 3.333333333333333, 3.333333333333333, 3.333333333333333, 3.333333333333333, 3.333333333333333, 3.333333333333333, 3.333333333333333, 3.333333333333333, 3.333333333333333], [3.5555555555555554, 3.5555555555555554, 3.5555555555555554, 3.5555555555555554, 3.5555555555555554, 3.5555555555555554, 3.5555555555555554, 3.5555555555555554, 3.5555555555555554, 3.5555555555555554], [3.7777777777777777, 3.7777777777777777, 3.7777777777777777, 3.7777777777777777, 3.7777777777777777, 3.7777777777777777, 3.7777777777777777, 3.7777777777777777, 3.7777777777777777, 3.7777777777777777], [4.0, 4.0, 4.0, 4.0, 4.0, 4.0, 4.0, 4.0, 4.0, 4.0]], \"z\": [[269.34807620669244, 289.36945880996313, 309.39084141323383, 329.4122240165046, 349.4336066197753, 369.454989223046, 389.4763718263167, 409.4977544295874, 429.51913703285817, 449.5405196361289], [269.34807620669244, 289.36945880996313, 309.39084141323383, 329.4122240165046, 349.4336066197753, 369.454989223046, 389.4763718263167, 409.4977544295874, 429.51913703285817, 449.5405196361289], [269.34807620669244, 289.36945880996313, 309.39084141323383, 329.4122240165046, 349.4336066197753, 369.454989223046, 389.4763718263167, 409.4977544295874, 429.51913703285817, 449.5405196361289], [269.34807620669244, 289.36945880996313, 309.39084141323383, 329.4122240165046, 349.4336066197753, 369.454989223046, 389.4763718263167, 409.4977544295874, 429.51913703285817, 449.5405196361289], [269.34807620669244, 289.36945880996313, 309.39084141323383, 329.4122240165046, 349.4336066197753, 369.454989223046, 389.4763718263167, 409.4977544295874, 429.51913703285817, 449.5405196361289], [269.34807620669244, 289.36945880996313, 309.39084141323383, 329.4122240165046, 349.4336066197753, 369.454989223046, 389.4763718263167, 409.4977544295874, 429.51913703285817, 449.5405196361289], [269.34807620669244, 289.36945880996313, 309.39084141323383, 329.4122240165046, 349.4336066197753, 369.454989223046, 389.4763718263167, 409.4977544295874, 429.51913703285817, 449.5405196361289], [269.34807620669244, 289.36945880996313, 309.39084141323383, 329.4122240165046, 349.4336066197753, 369.454989223046, 389.4763718263167, 409.4977544295874, 429.51913703285817, 449.5405196361289], [269.34807620669244, 289.36945880996313, 309.39084141323383, 329.4122240165046, 349.4336066197753, 369.454989223046, 389.4763718263167, 409.4977544295874, 429.51913703285817, 449.5405196361289], [269.34807620669244, 289.36945880996313, 309.39084141323383, 329.4122240165046, 349.4336066197753, 369.454989223046, 389.4763718263167, 409.4977544295874, 429.51913703285817, 449.5405196361289]]}, {\"coloraxis\": \"coloraxis\", \"colorbar\": {\"thickness\": 5}, \"name\": \"PU+1.1%EG\", \"opacity\": 0.6, \"type\": \"surface\", \"visible\": false, \"x\": [[2.5, 3.1666666666666665, 3.833333333333333, 4.5, 5.166666666666666, 5.833333333333333, 6.5, 7.166666666666666, 7.833333333333333, 8.5], [2.5, 3.1666666666666665, 3.833333333333333, 4.5, 5.166666666666666, 5.833333333333333, 6.5, 7.166666666666666, 7.833333333333333, 8.5], [2.5, 3.1666666666666665, 3.833333333333333, 4.5, 5.166666666666666, 5.833333333333333, 6.5, 7.166666666666666, 7.833333333333333, 8.5], [2.5, 3.1666666666666665, 3.833333333333333, 4.5, 5.166666666666666, 5.833333333333333, 6.5, 7.166666666666666, 7.833333333333333, 8.5], [2.5, 3.1666666666666665, 3.833333333333333, 4.5, 5.166666666666666, 5.833333333333333, 6.5, 7.166666666666666, 7.833333333333333, 8.5], [2.5, 3.1666666666666665, 3.833333333333333, 4.5, 5.166666666666666, 5.833333333333333, 6.5, 7.166666666666666, 7.833333333333333, 8.5], [2.5, 3.1666666666666665, 3.833333333333333, 4.5, 5.166666666666666, 5.833333333333333, 6.5, 7.166666666666666, 7.833333333333333, 8.5], [2.5, 3.1666666666666665, 3.833333333333333, 4.5, 5.166666666666666, 5.833333333333333, 6.5, 7.166666666666666, 7.833333333333333, 8.5], [2.5, 3.1666666666666665, 3.833333333333333, 4.5, 5.166666666666666, 5.833333333333333, 6.5, 7.166666666666666, 7.833333333333333, 8.5], [2.5, 3.1666666666666665, 3.833333333333333, 4.5, 5.166666666666666, 5.833333333333333, 6.5, 7.166666666666666, 7.833333333333333, 8.5]], \"y\": [[2.0, 2.0, 2.0, 2.0, 2.0, 2.0, 2.0, 2.0, 2.0, 2.0], [2.2222222222222223, 2.2222222222222223, 2.2222222222222223, 2.2222222222222223, 2.2222222222222223, 2.2222222222222223, 2.2222222222222223, 2.2222222222222223, 2.2222222222222223, 2.2222222222222223], [2.4444444444444446, 2.4444444444444446, 2.4444444444444446, 2.4444444444444446, 2.4444444444444446, 2.4444444444444446, 2.4444444444444446, 2.4444444444444446, 2.4444444444444446, 2.4444444444444446], [2.6666666666666665, 2.6666666666666665, 2.6666666666666665, 2.6666666666666665, 2.6666666666666665, 2.6666666666666665, 2.6666666666666665, 2.6666666666666665, 2.6666666666666665, 2.6666666666666665], [2.888888888888889, 2.888888888888889, 2.888888888888889, 2.888888888888889, 2.888888888888889, 2.888888888888889, 2.888888888888889, 2.888888888888889, 2.888888888888889, 2.888888888888889], [3.111111111111111, 3.111111111111111, 3.111111111111111, 3.111111111111111, 3.111111111111111, 3.111111111111111, 3.111111111111111, 3.111111111111111, 3.111111111111111, 3.111111111111111], [3.333333333333333, 3.333333333333333, 3.333333333333333, 3.333333333333333, 3.333333333333333, 3.333333333333333, 3.333333333333333, 3.333333333333333, 3.333333333333333, 3.333333333333333], [3.5555555555555554, 3.5555555555555554, 3.5555555555555554, 3.5555555555555554, 3.5555555555555554, 3.5555555555555554, 3.5555555555555554, 3.5555555555555554, 3.5555555555555554, 3.5555555555555554], [3.7777777777777777, 3.7777777777777777, 3.7777777777777777, 3.7777777777777777, 3.7777777777777777, 3.7777777777777777, 3.7777777777777777, 3.7777777777777777, 3.7777777777777777, 3.7777777777777777], [4.0, 4.0, 4.0, 4.0, 4.0, 4.0, 4.0, 4.0, 4.0, 4.0]], \"z\": [[271.91602471830157, 291.9374073215723, 311.958789924843, 331.98017252811377, 352.00155513138446, 372.0229377346552, 392.0443203379259, 412.0657029411966, 432.08708554446736, 452.1084681477381], [271.91602471830157, 291.9374073215723, 311.958789924843, 331.98017252811377, 352.00155513138446, 372.0229377346552, 392.0443203379259, 412.0657029411966, 432.08708554446736, 452.1084681477381], [271.91602471830157, 291.9374073215723, 311.958789924843, 331.98017252811377, 352.00155513138446, 372.0229377346552, 392.0443203379259, 412.0657029411966, 432.08708554446736, 452.1084681477381], [271.91602471830157, 291.9374073215723, 311.958789924843, 331.98017252811377, 352.00155513138446, 372.0229377346552, 392.0443203379259, 412.0657029411966, 432.08708554446736, 452.1084681477381], [271.91602471830157, 291.9374073215723, 311.958789924843, 331.98017252811377, 352.00155513138446, 372.0229377346552, 392.0443203379259, 412.0657029411966, 432.08708554446736, 452.1084681477381], [271.91602471830157, 291.9374073215723, 311.958789924843, 331.98017252811377, 352.00155513138446, 372.0229377346552, 392.0443203379259, 412.0657029411966, 432.08708554446736, 452.1084681477381], [271.91602471830157, 291.9374073215723, 311.958789924843, 331.98017252811377, 352.00155513138446, 372.0229377346552, 392.0443203379259, 412.0657029411966, 432.08708554446736, 452.1084681477381], [271.91602471830157, 291.9374073215723, 311.958789924843, 331.98017252811377, 352.00155513138446, 372.0229377346552, 392.0443203379259, 412.0657029411966, 432.08708554446736, 452.1084681477381], [271.91602471830157, 291.9374073215723, 311.958789924843, 331.98017252811377, 352.00155513138446, 372.0229377346552, 392.0443203379259, 412.0657029411966, 432.08708554446736, 452.1084681477381], [271.91602471830157, 291.9374073215723, 311.958789924843, 331.98017252811377, 352.00155513138446, 372.0229377346552, 392.0443203379259, 412.0657029411966, 432.08708554446736, 452.1084681477381]]}, {\"coloraxis\": \"coloraxis\", \"colorbar\": {\"thickness\": 5}, \"name\": \"PU+1.2%EG\", \"opacity\": 0.6, \"type\": \"surface\", \"visible\": false, \"x\": [[2.5, 3.1666666666666665, 3.833333333333333, 4.5, 5.166666666666666, 5.833333333333333, 6.5, 7.166666666666666, 7.833333333333333, 8.5], [2.5, 3.1666666666666665, 3.833333333333333, 4.5, 5.166666666666666, 5.833333333333333, 6.5, 7.166666666666666, 7.833333333333333, 8.5], [2.5, 3.1666666666666665, 3.833333333333333, 4.5, 5.166666666666666, 5.833333333333333, 6.5, 7.166666666666666, 7.833333333333333, 8.5], [2.5, 3.1666666666666665, 3.833333333333333, 4.5, 5.166666666666666, 5.833333333333333, 6.5, 7.166666666666666, 7.833333333333333, 8.5], [2.5, 3.1666666666666665, 3.833333333333333, 4.5, 5.166666666666666, 5.833333333333333, 6.5, 7.166666666666666, 7.833333333333333, 8.5], [2.5, 3.1666666666666665, 3.833333333333333, 4.5, 5.166666666666666, 5.833333333333333, 6.5, 7.166666666666666, 7.833333333333333, 8.5], [2.5, 3.1666666666666665, 3.833333333333333, 4.5, 5.166666666666666, 5.833333333333333, 6.5, 7.166666666666666, 7.833333333333333, 8.5], [2.5, 3.1666666666666665, 3.833333333333333, 4.5, 5.166666666666666, 5.833333333333333, 6.5, 7.166666666666666, 7.833333333333333, 8.5], [2.5, 3.1666666666666665, 3.833333333333333, 4.5, 5.166666666666666, 5.833333333333333, 6.5, 7.166666666666666, 7.833333333333333, 8.5], [2.5, 3.1666666666666665, 3.833333333333333, 4.5, 5.166666666666666, 5.833333333333333, 6.5, 7.166666666666666, 7.833333333333333, 8.5]], \"y\": [[2.0, 2.0, 2.0, 2.0, 2.0, 2.0, 2.0, 2.0, 2.0, 2.0], [2.2222222222222223, 2.2222222222222223, 2.2222222222222223, 2.2222222222222223, 2.2222222222222223, 2.2222222222222223, 2.2222222222222223, 2.2222222222222223, 2.2222222222222223, 2.2222222222222223], [2.4444444444444446, 2.4444444444444446, 2.4444444444444446, 2.4444444444444446, 2.4444444444444446, 2.4444444444444446, 2.4444444444444446, 2.4444444444444446, 2.4444444444444446, 2.4444444444444446], [2.6666666666666665, 2.6666666666666665, 2.6666666666666665, 2.6666666666666665, 2.6666666666666665, 2.6666666666666665, 2.6666666666666665, 2.6666666666666665, 2.6666666666666665, 2.6666666666666665], [2.888888888888889, 2.888888888888889, 2.888888888888889, 2.888888888888889, 2.888888888888889, 2.888888888888889, 2.888888888888889, 2.888888888888889, 2.888888888888889, 2.888888888888889], [3.111111111111111, 3.111111111111111, 3.111111111111111, 3.111111111111111, 3.111111111111111, 3.111111111111111, 3.111111111111111, 3.111111111111111, 3.111111111111111, 3.111111111111111], [3.333333333333333, 3.333333333333333, 3.333333333333333, 3.333333333333333, 3.333333333333333, 3.333333333333333, 3.333333333333333, 3.333333333333333, 3.333333333333333, 3.333333333333333], [3.5555555555555554, 3.5555555555555554, 3.5555555555555554, 3.5555555555555554, 3.5555555555555554, 3.5555555555555554, 3.5555555555555554, 3.5555555555555554, 3.5555555555555554, 3.5555555555555554], [3.7777777777777777, 3.7777777777777777, 3.7777777777777777, 3.7777777777777777, 3.7777777777777777, 3.7777777777777777, 3.7777777777777777, 3.7777777777777777, 3.7777777777777777, 3.7777777777777777], [4.0, 4.0, 4.0, 4.0, 4.0, 4.0, 4.0, 4.0, 4.0, 4.0]], \"z\": [[274.48397322991076, 294.50535583318145, 314.52673843645215, 334.5481210397229, 354.5695036429936, 374.59088624626435, 394.61226884953504, 414.63365145280574, 434.6550340560765, 454.67641665934724], [274.48397322991076, 294.50535583318145, 314.52673843645215, 334.5481210397229, 354.5695036429936, 374.59088624626435, 394.61226884953504, 414.63365145280574, 434.6550340560765, 454.67641665934724], [274.48397322991076, 294.50535583318145, 314.52673843645215, 334.5481210397229, 354.5695036429936, 374.59088624626435, 394.61226884953504, 414.63365145280574, 434.6550340560765, 454.67641665934724], [274.48397322991076, 294.50535583318145, 314.52673843645215, 334.5481210397229, 354.5695036429936, 374.59088624626435, 394.61226884953504, 414.63365145280574, 434.6550340560765, 454.67641665934724], [274.48397322991076, 294.50535583318145, 314.52673843645215, 334.5481210397229, 354.5695036429936, 374.59088624626435, 394.61226884953504, 414.63365145280574, 434.6550340560765, 454.67641665934724], [274.48397322991076, 294.50535583318145, 314.52673843645215, 334.5481210397229, 354.5695036429936, 374.59088624626435, 394.61226884953504, 414.63365145280574, 434.6550340560765, 454.67641665934724], [274.48397322991076, 294.50535583318145, 314.52673843645215, 334.5481210397229, 354.5695036429936, 374.59088624626435, 394.61226884953504, 414.63365145280574, 434.6550340560765, 454.67641665934724], [274.48397322991076, 294.50535583318145, 314.52673843645215, 334.5481210397229, 354.5695036429936, 374.59088624626435, 394.61226884953504, 414.63365145280574, 434.6550340560765, 454.67641665934724], [274.48397322991076, 294.50535583318145, 314.52673843645215, 334.5481210397229, 354.5695036429936, 374.59088624626435, 394.61226884953504, 414.63365145280574, 434.6550340560765, 454.67641665934724], [274.48397322991076, 294.50535583318145, 314.52673843645215, 334.5481210397229, 354.5695036429936, 374.59088624626435, 394.61226884953504, 414.63365145280574, 434.6550340560765, 454.67641665934724]]}, {\"coloraxis\": \"coloraxis\", \"colorbar\": {\"thickness\": 5}, \"name\": \"PU+1.3%EG\", \"opacity\": 0.6, \"type\": \"surface\", \"visible\": false, \"x\": [[2.5, 3.1666666666666665, 3.833333333333333, 4.5, 5.166666666666666, 5.833333333333333, 6.5, 7.166666666666666, 7.833333333333333, 8.5], [2.5, 3.1666666666666665, 3.833333333333333, 4.5, 5.166666666666666, 5.833333333333333, 6.5, 7.166666666666666, 7.833333333333333, 8.5], [2.5, 3.1666666666666665, 3.833333333333333, 4.5, 5.166666666666666, 5.833333333333333, 6.5, 7.166666666666666, 7.833333333333333, 8.5], [2.5, 3.1666666666666665, 3.833333333333333, 4.5, 5.166666666666666, 5.833333333333333, 6.5, 7.166666666666666, 7.833333333333333, 8.5], [2.5, 3.1666666666666665, 3.833333333333333, 4.5, 5.166666666666666, 5.833333333333333, 6.5, 7.166666666666666, 7.833333333333333, 8.5], [2.5, 3.1666666666666665, 3.833333333333333, 4.5, 5.166666666666666, 5.833333333333333, 6.5, 7.166666666666666, 7.833333333333333, 8.5], [2.5, 3.1666666666666665, 3.833333333333333, 4.5, 5.166666666666666, 5.833333333333333, 6.5, 7.166666666666666, 7.833333333333333, 8.5], [2.5, 3.1666666666666665, 3.833333333333333, 4.5, 5.166666666666666, 5.833333333333333, 6.5, 7.166666666666666, 7.833333333333333, 8.5], [2.5, 3.1666666666666665, 3.833333333333333, 4.5, 5.166666666666666, 5.833333333333333, 6.5, 7.166666666666666, 7.833333333333333, 8.5], [2.5, 3.1666666666666665, 3.833333333333333, 4.5, 5.166666666666666, 5.833333333333333, 6.5, 7.166666666666666, 7.833333333333333, 8.5]], \"y\": [[2.0, 2.0, 2.0, 2.0, 2.0, 2.0, 2.0, 2.0, 2.0, 2.0], [2.2222222222222223, 2.2222222222222223, 2.2222222222222223, 2.2222222222222223, 2.2222222222222223, 2.2222222222222223, 2.2222222222222223, 2.2222222222222223, 2.2222222222222223, 2.2222222222222223], [2.4444444444444446, 2.4444444444444446, 2.4444444444444446, 2.4444444444444446, 2.4444444444444446, 2.4444444444444446, 2.4444444444444446, 2.4444444444444446, 2.4444444444444446, 2.4444444444444446], [2.6666666666666665, 2.6666666666666665, 2.6666666666666665, 2.6666666666666665, 2.6666666666666665, 2.6666666666666665, 2.6666666666666665, 2.6666666666666665, 2.6666666666666665, 2.6666666666666665], [2.888888888888889, 2.888888888888889, 2.888888888888889, 2.888888888888889, 2.888888888888889, 2.888888888888889, 2.888888888888889, 2.888888888888889, 2.888888888888889, 2.888888888888889], [3.111111111111111, 3.111111111111111, 3.111111111111111, 3.111111111111111, 3.111111111111111, 3.111111111111111, 3.111111111111111, 3.111111111111111, 3.111111111111111, 3.111111111111111], [3.333333333333333, 3.333333333333333, 3.333333333333333, 3.333333333333333, 3.333333333333333, 3.333333333333333, 3.333333333333333, 3.333333333333333, 3.333333333333333, 3.333333333333333], [3.5555555555555554, 3.5555555555555554, 3.5555555555555554, 3.5555555555555554, 3.5555555555555554, 3.5555555555555554, 3.5555555555555554, 3.5555555555555554, 3.5555555555555554, 3.5555555555555554], [3.7777777777777777, 3.7777777777777777, 3.7777777777777777, 3.7777777777777777, 3.7777777777777777, 3.7777777777777777, 3.7777777777777777, 3.7777777777777777, 3.7777777777777777, 3.7777777777777777], [4.0, 4.0, 4.0, 4.0, 4.0, 4.0, 4.0, 4.0, 4.0, 4.0]], \"z\": [[277.0519217415199, 297.07330434479064, 317.09468694806134, 337.1160695513321, 357.1374521546028, 377.15883475787354, 397.18021736114423, 417.2015999644149, 437.2229825676857, 457.2443651709564], [277.0519217415199, 297.07330434479064, 317.09468694806134, 337.1160695513321, 357.1374521546028, 377.15883475787354, 397.18021736114423, 417.2015999644149, 437.2229825676857, 457.2443651709564], [277.0519217415199, 297.07330434479064, 317.09468694806134, 337.1160695513321, 357.1374521546028, 377.15883475787354, 397.18021736114423, 417.2015999644149, 437.2229825676857, 457.2443651709564], [277.0519217415199, 297.07330434479064, 317.09468694806134, 337.1160695513321, 357.1374521546028, 377.15883475787354, 397.18021736114423, 417.2015999644149, 437.2229825676857, 457.2443651709564], [277.0519217415199, 297.07330434479064, 317.09468694806134, 337.1160695513321, 357.1374521546028, 377.15883475787354, 397.18021736114423, 417.2015999644149, 437.2229825676857, 457.2443651709564], [277.0519217415199, 297.07330434479064, 317.09468694806134, 337.1160695513321, 357.1374521546028, 377.15883475787354, 397.18021736114423, 417.2015999644149, 437.2229825676857, 457.2443651709564], [277.0519217415199, 297.07330434479064, 317.09468694806134, 337.1160695513321, 357.1374521546028, 377.15883475787354, 397.18021736114423, 417.2015999644149, 437.2229825676857, 457.2443651709564], [277.0519217415199, 297.07330434479064, 317.09468694806134, 337.1160695513321, 357.1374521546028, 377.15883475787354, 397.18021736114423, 417.2015999644149, 437.2229825676857, 457.2443651709564], [277.0519217415199, 297.07330434479064, 317.09468694806134, 337.1160695513321, 357.1374521546028, 377.15883475787354, 397.18021736114423, 417.2015999644149, 437.2229825676857, 457.2443651709564], [277.0519217415199, 297.07330434479064, 317.09468694806134, 337.1160695513321, 357.1374521546028, 377.15883475787354, 397.18021736114423, 417.2015999644149, 437.2229825676857, 457.2443651709564]]}, {\"coloraxis\": \"coloraxis\", \"colorbar\": {\"thickness\": 5}, \"name\": \"PU+1.4%EG\", \"opacity\": 0.6, \"type\": \"surface\", \"visible\": false, \"x\": [[2.5, 3.1666666666666665, 3.833333333333333, 4.5, 5.166666666666666, 5.833333333333333, 6.5, 7.166666666666666, 7.833333333333333, 8.5], [2.5, 3.1666666666666665, 3.833333333333333, 4.5, 5.166666666666666, 5.833333333333333, 6.5, 7.166666666666666, 7.833333333333333, 8.5], [2.5, 3.1666666666666665, 3.833333333333333, 4.5, 5.166666666666666, 5.833333333333333, 6.5, 7.166666666666666, 7.833333333333333, 8.5], [2.5, 3.1666666666666665, 3.833333333333333, 4.5, 5.166666666666666, 5.833333333333333, 6.5, 7.166666666666666, 7.833333333333333, 8.5], [2.5, 3.1666666666666665, 3.833333333333333, 4.5, 5.166666666666666, 5.833333333333333, 6.5, 7.166666666666666, 7.833333333333333, 8.5], [2.5, 3.1666666666666665, 3.833333333333333, 4.5, 5.166666666666666, 5.833333333333333, 6.5, 7.166666666666666, 7.833333333333333, 8.5], [2.5, 3.1666666666666665, 3.833333333333333, 4.5, 5.166666666666666, 5.833333333333333, 6.5, 7.166666666666666, 7.833333333333333, 8.5], [2.5, 3.1666666666666665, 3.833333333333333, 4.5, 5.166666666666666, 5.833333333333333, 6.5, 7.166666666666666, 7.833333333333333, 8.5], [2.5, 3.1666666666666665, 3.833333333333333, 4.5, 5.166666666666666, 5.833333333333333, 6.5, 7.166666666666666, 7.833333333333333, 8.5], [2.5, 3.1666666666666665, 3.833333333333333, 4.5, 5.166666666666666, 5.833333333333333, 6.5, 7.166666666666666, 7.833333333333333, 8.5]], \"y\": [[2.0, 2.0, 2.0, 2.0, 2.0, 2.0, 2.0, 2.0, 2.0, 2.0], [2.2222222222222223, 2.2222222222222223, 2.2222222222222223, 2.2222222222222223, 2.2222222222222223, 2.2222222222222223, 2.2222222222222223, 2.2222222222222223, 2.2222222222222223, 2.2222222222222223], [2.4444444444444446, 2.4444444444444446, 2.4444444444444446, 2.4444444444444446, 2.4444444444444446, 2.4444444444444446, 2.4444444444444446, 2.4444444444444446, 2.4444444444444446, 2.4444444444444446], [2.6666666666666665, 2.6666666666666665, 2.6666666666666665, 2.6666666666666665, 2.6666666666666665, 2.6666666666666665, 2.6666666666666665, 2.6666666666666665, 2.6666666666666665, 2.6666666666666665], [2.888888888888889, 2.888888888888889, 2.888888888888889, 2.888888888888889, 2.888888888888889, 2.888888888888889, 2.888888888888889, 2.888888888888889, 2.888888888888889, 2.888888888888889], [3.111111111111111, 3.111111111111111, 3.111111111111111, 3.111111111111111, 3.111111111111111, 3.111111111111111, 3.111111111111111, 3.111111111111111, 3.111111111111111, 3.111111111111111], [3.333333333333333, 3.333333333333333, 3.333333333333333, 3.333333333333333, 3.333333333333333, 3.333333333333333, 3.333333333333333, 3.333333333333333, 3.333333333333333, 3.333333333333333], [3.5555555555555554, 3.5555555555555554, 3.5555555555555554, 3.5555555555555554, 3.5555555555555554, 3.5555555555555554, 3.5555555555555554, 3.5555555555555554, 3.5555555555555554, 3.5555555555555554], [3.7777777777777777, 3.7777777777777777, 3.7777777777777777, 3.7777777777777777, 3.7777777777777777, 3.7777777777777777, 3.7777777777777777, 3.7777777777777777, 3.7777777777777777, 3.7777777777777777], [4.0, 4.0, 4.0, 4.0, 4.0, 4.0, 4.0, 4.0, 4.0, 4.0]], \"z\": [[279.6198702531291, 299.6412528563998, 319.66263545967047, 339.6840180629412, 359.7054006662119, 379.72678326948267, 399.74816587275336, 419.76954847602406, 439.7909310792948, 459.81231368256556], [279.6198702531291, 299.6412528563998, 319.66263545967047, 339.6840180629412, 359.7054006662119, 379.72678326948267, 399.74816587275336, 419.76954847602406, 439.7909310792948, 459.81231368256556], [279.6198702531291, 299.6412528563998, 319.66263545967047, 339.6840180629412, 359.7054006662119, 379.72678326948267, 399.74816587275336, 419.76954847602406, 439.7909310792948, 459.81231368256556], [279.6198702531291, 299.6412528563998, 319.66263545967047, 339.6840180629412, 359.7054006662119, 379.72678326948267, 399.74816587275336, 419.76954847602406, 439.7909310792948, 459.81231368256556], [279.6198702531291, 299.6412528563998, 319.66263545967047, 339.6840180629412, 359.7054006662119, 379.72678326948267, 399.74816587275336, 419.76954847602406, 439.7909310792948, 459.81231368256556], [279.6198702531291, 299.6412528563998, 319.66263545967047, 339.6840180629412, 359.7054006662119, 379.72678326948267, 399.74816587275336, 419.76954847602406, 439.7909310792948, 459.81231368256556], [279.6198702531291, 299.6412528563998, 319.66263545967047, 339.6840180629412, 359.7054006662119, 379.72678326948267, 399.74816587275336, 419.76954847602406, 439.7909310792948, 459.81231368256556], [279.6198702531291, 299.6412528563998, 319.66263545967047, 339.6840180629412, 359.7054006662119, 379.72678326948267, 399.74816587275336, 419.76954847602406, 439.7909310792948, 459.81231368256556], [279.6198702531291, 299.6412528563998, 319.66263545967047, 339.6840180629412, 359.7054006662119, 379.72678326948267, 399.74816587275336, 419.76954847602406, 439.7909310792948, 459.81231368256556], [279.6198702531291, 299.6412528563998, 319.66263545967047, 339.6840180629412, 359.7054006662119, 379.72678326948267, 399.74816587275336, 419.76954847602406, 439.7909310792948, 459.81231368256556]]}, {\"coloraxis\": \"coloraxis\", \"colorbar\": {\"thickness\": 5}, \"name\": \"PU+1.5%EG\", \"opacity\": 0.6, \"type\": \"surface\", \"visible\": false, \"x\": [[2.5, 3.1666666666666665, 3.833333333333333, 4.5, 5.166666666666666, 5.833333333333333, 6.5, 7.166666666666666, 7.833333333333333, 8.5], [2.5, 3.1666666666666665, 3.833333333333333, 4.5, 5.166666666666666, 5.833333333333333, 6.5, 7.166666666666666, 7.833333333333333, 8.5], [2.5, 3.1666666666666665, 3.833333333333333, 4.5, 5.166666666666666, 5.833333333333333, 6.5, 7.166666666666666, 7.833333333333333, 8.5], [2.5, 3.1666666666666665, 3.833333333333333, 4.5, 5.166666666666666, 5.833333333333333, 6.5, 7.166666666666666, 7.833333333333333, 8.5], [2.5, 3.1666666666666665, 3.833333333333333, 4.5, 5.166666666666666, 5.833333333333333, 6.5, 7.166666666666666, 7.833333333333333, 8.5], [2.5, 3.1666666666666665, 3.833333333333333, 4.5, 5.166666666666666, 5.833333333333333, 6.5, 7.166666666666666, 7.833333333333333, 8.5], [2.5, 3.1666666666666665, 3.833333333333333, 4.5, 5.166666666666666, 5.833333333333333, 6.5, 7.166666666666666, 7.833333333333333, 8.5], [2.5, 3.1666666666666665, 3.833333333333333, 4.5, 5.166666666666666, 5.833333333333333, 6.5, 7.166666666666666, 7.833333333333333, 8.5], [2.5, 3.1666666666666665, 3.833333333333333, 4.5, 5.166666666666666, 5.833333333333333, 6.5, 7.166666666666666, 7.833333333333333, 8.5], [2.5, 3.1666666666666665, 3.833333333333333, 4.5, 5.166666666666666, 5.833333333333333, 6.5, 7.166666666666666, 7.833333333333333, 8.5]], \"y\": [[2.0, 2.0, 2.0, 2.0, 2.0, 2.0, 2.0, 2.0, 2.0, 2.0], [2.2222222222222223, 2.2222222222222223, 2.2222222222222223, 2.2222222222222223, 2.2222222222222223, 2.2222222222222223, 2.2222222222222223, 2.2222222222222223, 2.2222222222222223, 2.2222222222222223], [2.4444444444444446, 2.4444444444444446, 2.4444444444444446, 2.4444444444444446, 2.4444444444444446, 2.4444444444444446, 2.4444444444444446, 2.4444444444444446, 2.4444444444444446, 2.4444444444444446], [2.6666666666666665, 2.6666666666666665, 2.6666666666666665, 2.6666666666666665, 2.6666666666666665, 2.6666666666666665, 2.6666666666666665, 2.6666666666666665, 2.6666666666666665, 2.6666666666666665], [2.888888888888889, 2.888888888888889, 2.888888888888889, 2.888888888888889, 2.888888888888889, 2.888888888888889, 2.888888888888889, 2.888888888888889, 2.888888888888889, 2.888888888888889], [3.111111111111111, 3.111111111111111, 3.111111111111111, 3.111111111111111, 3.111111111111111, 3.111111111111111, 3.111111111111111, 3.111111111111111, 3.111111111111111, 3.111111111111111], [3.333333333333333, 3.333333333333333, 3.333333333333333, 3.333333333333333, 3.333333333333333, 3.333333333333333, 3.333333333333333, 3.333333333333333, 3.333333333333333, 3.333333333333333], [3.5555555555555554, 3.5555555555555554, 3.5555555555555554, 3.5555555555555554, 3.5555555555555554, 3.5555555555555554, 3.5555555555555554, 3.5555555555555554, 3.5555555555555554, 3.5555555555555554], [3.7777777777777777, 3.7777777777777777, 3.7777777777777777, 3.7777777777777777, 3.7777777777777777, 3.7777777777777777, 3.7777777777777777, 3.7777777777777777, 3.7777777777777777, 3.7777777777777777], [4.0, 4.0, 4.0, 4.0, 4.0, 4.0, 4.0, 4.0, 4.0, 4.0]], \"z\": [[282.1878187647382, 302.20920136800896, 322.23058397127966, 342.25196657455035, 362.27334917782105, 382.29473178109185, 402.31611438436255, 422.33749698763324, 442.35887959090394, 462.38026219417475], [282.1878187647382, 302.20920136800896, 322.23058397127966, 342.25196657455035, 362.27334917782105, 382.29473178109185, 402.31611438436255, 422.33749698763324, 442.35887959090394, 462.38026219417475], [282.1878187647382, 302.20920136800896, 322.23058397127966, 342.25196657455035, 362.27334917782105, 382.29473178109185, 402.31611438436255, 422.33749698763324, 442.35887959090394, 462.38026219417475], [282.1878187647382, 302.20920136800896, 322.23058397127966, 342.25196657455035, 362.27334917782105, 382.29473178109185, 402.31611438436255, 422.33749698763324, 442.35887959090394, 462.38026219417475], [282.1878187647382, 302.20920136800896, 322.23058397127966, 342.25196657455035, 362.27334917782105, 382.29473178109185, 402.31611438436255, 422.33749698763324, 442.35887959090394, 462.38026219417475], [282.1878187647382, 302.20920136800896, 322.23058397127966, 342.25196657455035, 362.27334917782105, 382.29473178109185, 402.31611438436255, 422.33749698763324, 442.35887959090394, 462.38026219417475], [282.1878187647382, 302.20920136800896, 322.23058397127966, 342.25196657455035, 362.27334917782105, 382.29473178109185, 402.31611438436255, 422.33749698763324, 442.35887959090394, 462.38026219417475], [282.1878187647382, 302.20920136800896, 322.23058397127966, 342.25196657455035, 362.27334917782105, 382.29473178109185, 402.31611438436255, 422.33749698763324, 442.35887959090394, 462.38026219417475], [282.1878187647382, 302.20920136800896, 322.23058397127966, 342.25196657455035, 362.27334917782105, 382.29473178109185, 402.31611438436255, 422.33749698763324, 442.35887959090394, 462.38026219417475], [282.1878187647382, 302.20920136800896, 322.23058397127966, 342.25196657455035, 362.27334917782105, 382.29473178109185, 402.31611438436255, 422.33749698763324, 442.35887959090394, 462.38026219417475]]}, {\"coloraxis\": \"coloraxis\", \"colorbar\": {\"thickness\": 5}, \"name\": \"PU+1.6%EG\", \"opacity\": 0.6, \"type\": \"surface\", \"visible\": false, \"x\": [[2.5, 3.1666666666666665, 3.833333333333333, 4.5, 5.166666666666666, 5.833333333333333, 6.5, 7.166666666666666, 7.833333333333333, 8.5], [2.5, 3.1666666666666665, 3.833333333333333, 4.5, 5.166666666666666, 5.833333333333333, 6.5, 7.166666666666666, 7.833333333333333, 8.5], [2.5, 3.1666666666666665, 3.833333333333333, 4.5, 5.166666666666666, 5.833333333333333, 6.5, 7.166666666666666, 7.833333333333333, 8.5], [2.5, 3.1666666666666665, 3.833333333333333, 4.5, 5.166666666666666, 5.833333333333333, 6.5, 7.166666666666666, 7.833333333333333, 8.5], [2.5, 3.1666666666666665, 3.833333333333333, 4.5, 5.166666666666666, 5.833333333333333, 6.5, 7.166666666666666, 7.833333333333333, 8.5], [2.5, 3.1666666666666665, 3.833333333333333, 4.5, 5.166666666666666, 5.833333333333333, 6.5, 7.166666666666666, 7.833333333333333, 8.5], [2.5, 3.1666666666666665, 3.833333333333333, 4.5, 5.166666666666666, 5.833333333333333, 6.5, 7.166666666666666, 7.833333333333333, 8.5], [2.5, 3.1666666666666665, 3.833333333333333, 4.5, 5.166666666666666, 5.833333333333333, 6.5, 7.166666666666666, 7.833333333333333, 8.5], [2.5, 3.1666666666666665, 3.833333333333333, 4.5, 5.166666666666666, 5.833333333333333, 6.5, 7.166666666666666, 7.833333333333333, 8.5], [2.5, 3.1666666666666665, 3.833333333333333, 4.5, 5.166666666666666, 5.833333333333333, 6.5, 7.166666666666666, 7.833333333333333, 8.5]], \"y\": [[2.0, 2.0, 2.0, 2.0, 2.0, 2.0, 2.0, 2.0, 2.0, 2.0], [2.2222222222222223, 2.2222222222222223, 2.2222222222222223, 2.2222222222222223, 2.2222222222222223, 2.2222222222222223, 2.2222222222222223, 2.2222222222222223, 2.2222222222222223, 2.2222222222222223], [2.4444444444444446, 2.4444444444444446, 2.4444444444444446, 2.4444444444444446, 2.4444444444444446, 2.4444444444444446, 2.4444444444444446, 2.4444444444444446, 2.4444444444444446, 2.4444444444444446], [2.6666666666666665, 2.6666666666666665, 2.6666666666666665, 2.6666666666666665, 2.6666666666666665, 2.6666666666666665, 2.6666666666666665, 2.6666666666666665, 2.6666666666666665, 2.6666666666666665], [2.888888888888889, 2.888888888888889, 2.888888888888889, 2.888888888888889, 2.888888888888889, 2.888888888888889, 2.888888888888889, 2.888888888888889, 2.888888888888889, 2.888888888888889], [3.111111111111111, 3.111111111111111, 3.111111111111111, 3.111111111111111, 3.111111111111111, 3.111111111111111, 3.111111111111111, 3.111111111111111, 3.111111111111111, 3.111111111111111], [3.333333333333333, 3.333333333333333, 3.333333333333333, 3.333333333333333, 3.333333333333333, 3.333333333333333, 3.333333333333333, 3.333333333333333, 3.333333333333333, 3.333333333333333], [3.5555555555555554, 3.5555555555555554, 3.5555555555555554, 3.5555555555555554, 3.5555555555555554, 3.5555555555555554, 3.5555555555555554, 3.5555555555555554, 3.5555555555555554, 3.5555555555555554], [3.7777777777777777, 3.7777777777777777, 3.7777777777777777, 3.7777777777777777, 3.7777777777777777, 3.7777777777777777, 3.7777777777777777, 3.7777777777777777, 3.7777777777777777, 3.7777777777777777], [4.0, 4.0, 4.0, 4.0, 4.0, 4.0, 4.0, 4.0, 4.0, 4.0]], \"z\": [[284.75576727634734, 304.7771498796181, 324.7985324828888, 344.81991508615954, 364.84129768943023, 384.862680292701, 404.8840628959717, 424.9054454992424, 444.9268281025131, 464.9482107057839], [284.75576727634734, 304.7771498796181, 324.7985324828888, 344.81991508615954, 364.84129768943023, 384.862680292701, 404.8840628959717, 424.9054454992424, 444.9268281025131, 464.9482107057839], [284.75576727634734, 304.7771498796181, 324.7985324828888, 344.81991508615954, 364.84129768943023, 384.862680292701, 404.8840628959717, 424.9054454992424, 444.9268281025131, 464.9482107057839], [284.75576727634734, 304.7771498796181, 324.7985324828888, 344.81991508615954, 364.84129768943023, 384.862680292701, 404.8840628959717, 424.9054454992424, 444.9268281025131, 464.9482107057839], [284.75576727634734, 304.7771498796181, 324.7985324828888, 344.81991508615954, 364.84129768943023, 384.862680292701, 404.8840628959717, 424.9054454992424, 444.9268281025131, 464.9482107057839], [284.75576727634734, 304.7771498796181, 324.7985324828888, 344.81991508615954, 364.84129768943023, 384.862680292701, 404.8840628959717, 424.9054454992424, 444.9268281025131, 464.9482107057839], [284.75576727634734, 304.7771498796181, 324.7985324828888, 344.81991508615954, 364.84129768943023, 384.862680292701, 404.8840628959717, 424.9054454992424, 444.9268281025131, 464.9482107057839], [284.75576727634734, 304.7771498796181, 324.7985324828888, 344.81991508615954, 364.84129768943023, 384.862680292701, 404.8840628959717, 424.9054454992424, 444.9268281025131, 464.9482107057839], [284.75576727634734, 304.7771498796181, 324.7985324828888, 344.81991508615954, 364.84129768943023, 384.862680292701, 404.8840628959717, 424.9054454992424, 444.9268281025131, 464.9482107057839], [284.75576727634734, 304.7771498796181, 324.7985324828888, 344.81991508615954, 364.84129768943023, 384.862680292701, 404.8840628959717, 424.9054454992424, 444.9268281025131, 464.9482107057839]]}, {\"coloraxis\": \"coloraxis\", \"colorbar\": {\"thickness\": 5}, \"name\": \"PU+1.7%EG\", \"opacity\": 0.6, \"type\": \"surface\", \"visible\": false, \"x\": [[2.5, 3.1666666666666665, 3.833333333333333, 4.5, 5.166666666666666, 5.833333333333333, 6.5, 7.166666666666666, 7.833333333333333, 8.5], [2.5, 3.1666666666666665, 3.833333333333333, 4.5, 5.166666666666666, 5.833333333333333, 6.5, 7.166666666666666, 7.833333333333333, 8.5], [2.5, 3.1666666666666665, 3.833333333333333, 4.5, 5.166666666666666, 5.833333333333333, 6.5, 7.166666666666666, 7.833333333333333, 8.5], [2.5, 3.1666666666666665, 3.833333333333333, 4.5, 5.166666666666666, 5.833333333333333, 6.5, 7.166666666666666, 7.833333333333333, 8.5], [2.5, 3.1666666666666665, 3.833333333333333, 4.5, 5.166666666666666, 5.833333333333333, 6.5, 7.166666666666666, 7.833333333333333, 8.5], [2.5, 3.1666666666666665, 3.833333333333333, 4.5, 5.166666666666666, 5.833333333333333, 6.5, 7.166666666666666, 7.833333333333333, 8.5], [2.5, 3.1666666666666665, 3.833333333333333, 4.5, 5.166666666666666, 5.833333333333333, 6.5, 7.166666666666666, 7.833333333333333, 8.5], [2.5, 3.1666666666666665, 3.833333333333333, 4.5, 5.166666666666666, 5.833333333333333, 6.5, 7.166666666666666, 7.833333333333333, 8.5], [2.5, 3.1666666666666665, 3.833333333333333, 4.5, 5.166666666666666, 5.833333333333333, 6.5, 7.166666666666666, 7.833333333333333, 8.5], [2.5, 3.1666666666666665, 3.833333333333333, 4.5, 5.166666666666666, 5.833333333333333, 6.5, 7.166666666666666, 7.833333333333333, 8.5]], \"y\": [[2.0, 2.0, 2.0, 2.0, 2.0, 2.0, 2.0, 2.0, 2.0, 2.0], [2.2222222222222223, 2.2222222222222223, 2.2222222222222223, 2.2222222222222223, 2.2222222222222223, 2.2222222222222223, 2.2222222222222223, 2.2222222222222223, 2.2222222222222223, 2.2222222222222223], [2.4444444444444446, 2.4444444444444446, 2.4444444444444446, 2.4444444444444446, 2.4444444444444446, 2.4444444444444446, 2.4444444444444446, 2.4444444444444446, 2.4444444444444446, 2.4444444444444446], [2.6666666666666665, 2.6666666666666665, 2.6666666666666665, 2.6666666666666665, 2.6666666666666665, 2.6666666666666665, 2.6666666666666665, 2.6666666666666665, 2.6666666666666665, 2.6666666666666665], [2.888888888888889, 2.888888888888889, 2.888888888888889, 2.888888888888889, 2.888888888888889, 2.888888888888889, 2.888888888888889, 2.888888888888889, 2.888888888888889, 2.888888888888889], [3.111111111111111, 3.111111111111111, 3.111111111111111, 3.111111111111111, 3.111111111111111, 3.111111111111111, 3.111111111111111, 3.111111111111111, 3.111111111111111, 3.111111111111111], [3.333333333333333, 3.333333333333333, 3.333333333333333, 3.333333333333333, 3.333333333333333, 3.333333333333333, 3.333333333333333, 3.333333333333333, 3.333333333333333, 3.333333333333333], [3.5555555555555554, 3.5555555555555554, 3.5555555555555554, 3.5555555555555554, 3.5555555555555554, 3.5555555555555554, 3.5555555555555554, 3.5555555555555554, 3.5555555555555554, 3.5555555555555554], [3.7777777777777777, 3.7777777777777777, 3.7777777777777777, 3.7777777777777777, 3.7777777777777777, 3.7777777777777777, 3.7777777777777777, 3.7777777777777777, 3.7777777777777777, 3.7777777777777777], [4.0, 4.0, 4.0, 4.0, 4.0, 4.0, 4.0, 4.0, 4.0, 4.0]], \"z\": [[287.32371578795653, 307.3450983912272, 327.3664809944979, 347.3878635977687, 367.4092462010394, 387.4306288043101, 407.4520114075808, 427.4733940108515, 447.4947766141223, 467.516159217393], [287.32371578795653, 307.3450983912272, 327.3664809944979, 347.3878635977687, 367.4092462010394, 387.4306288043101, 407.4520114075808, 427.4733940108515, 447.4947766141223, 467.516159217393], [287.32371578795653, 307.3450983912272, 327.3664809944979, 347.3878635977687, 367.4092462010394, 387.4306288043101, 407.4520114075808, 427.4733940108515, 447.4947766141223, 467.516159217393], [287.32371578795653, 307.3450983912272, 327.3664809944979, 347.3878635977687, 367.4092462010394, 387.4306288043101, 407.4520114075808, 427.4733940108515, 447.4947766141223, 467.516159217393], [287.32371578795653, 307.3450983912272, 327.3664809944979, 347.3878635977687, 367.4092462010394, 387.4306288043101, 407.4520114075808, 427.4733940108515, 447.4947766141223, 467.516159217393], [287.32371578795653, 307.3450983912272, 327.3664809944979, 347.3878635977687, 367.4092462010394, 387.4306288043101, 407.4520114075808, 427.4733940108515, 447.4947766141223, 467.516159217393], [287.32371578795653, 307.3450983912272, 327.3664809944979, 347.3878635977687, 367.4092462010394, 387.4306288043101, 407.4520114075808, 427.4733940108515, 447.4947766141223, 467.516159217393], [287.32371578795653, 307.3450983912272, 327.3664809944979, 347.3878635977687, 367.4092462010394, 387.4306288043101, 407.4520114075808, 427.4733940108515, 447.4947766141223, 467.516159217393], [287.32371578795653, 307.3450983912272, 327.3664809944979, 347.3878635977687, 367.4092462010394, 387.4306288043101, 407.4520114075808, 427.4733940108515, 447.4947766141223, 467.516159217393], [287.32371578795653, 307.3450983912272, 327.3664809944979, 347.3878635977687, 367.4092462010394, 387.4306288043101, 407.4520114075808, 427.4733940108515, 447.4947766141223, 467.516159217393]]}, {\"coloraxis\": \"coloraxis\", \"colorbar\": {\"thickness\": 5}, \"name\": \"PU+1.8%EG\", \"opacity\": 0.6, \"type\": \"surface\", \"visible\": false, \"x\": [[2.5, 3.1666666666666665, 3.833333333333333, 4.5, 5.166666666666666, 5.833333333333333, 6.5, 7.166666666666666, 7.833333333333333, 8.5], [2.5, 3.1666666666666665, 3.833333333333333, 4.5, 5.166666666666666, 5.833333333333333, 6.5, 7.166666666666666, 7.833333333333333, 8.5], [2.5, 3.1666666666666665, 3.833333333333333, 4.5, 5.166666666666666, 5.833333333333333, 6.5, 7.166666666666666, 7.833333333333333, 8.5], [2.5, 3.1666666666666665, 3.833333333333333, 4.5, 5.166666666666666, 5.833333333333333, 6.5, 7.166666666666666, 7.833333333333333, 8.5], [2.5, 3.1666666666666665, 3.833333333333333, 4.5, 5.166666666666666, 5.833333333333333, 6.5, 7.166666666666666, 7.833333333333333, 8.5], [2.5, 3.1666666666666665, 3.833333333333333, 4.5, 5.166666666666666, 5.833333333333333, 6.5, 7.166666666666666, 7.833333333333333, 8.5], [2.5, 3.1666666666666665, 3.833333333333333, 4.5, 5.166666666666666, 5.833333333333333, 6.5, 7.166666666666666, 7.833333333333333, 8.5], [2.5, 3.1666666666666665, 3.833333333333333, 4.5, 5.166666666666666, 5.833333333333333, 6.5, 7.166666666666666, 7.833333333333333, 8.5], [2.5, 3.1666666666666665, 3.833333333333333, 4.5, 5.166666666666666, 5.833333333333333, 6.5, 7.166666666666666, 7.833333333333333, 8.5], [2.5, 3.1666666666666665, 3.833333333333333, 4.5, 5.166666666666666, 5.833333333333333, 6.5, 7.166666666666666, 7.833333333333333, 8.5]], \"y\": [[2.0, 2.0, 2.0, 2.0, 2.0, 2.0, 2.0, 2.0, 2.0, 2.0], [2.2222222222222223, 2.2222222222222223, 2.2222222222222223, 2.2222222222222223, 2.2222222222222223, 2.2222222222222223, 2.2222222222222223, 2.2222222222222223, 2.2222222222222223, 2.2222222222222223], [2.4444444444444446, 2.4444444444444446, 2.4444444444444446, 2.4444444444444446, 2.4444444444444446, 2.4444444444444446, 2.4444444444444446, 2.4444444444444446, 2.4444444444444446, 2.4444444444444446], [2.6666666666666665, 2.6666666666666665, 2.6666666666666665, 2.6666666666666665, 2.6666666666666665, 2.6666666666666665, 2.6666666666666665, 2.6666666666666665, 2.6666666666666665, 2.6666666666666665], [2.888888888888889, 2.888888888888889, 2.888888888888889, 2.888888888888889, 2.888888888888889, 2.888888888888889, 2.888888888888889, 2.888888888888889, 2.888888888888889, 2.888888888888889], [3.111111111111111, 3.111111111111111, 3.111111111111111, 3.111111111111111, 3.111111111111111, 3.111111111111111, 3.111111111111111, 3.111111111111111, 3.111111111111111, 3.111111111111111], [3.333333333333333, 3.333333333333333, 3.333333333333333, 3.333333333333333, 3.333333333333333, 3.333333333333333, 3.333333333333333, 3.333333333333333, 3.333333333333333, 3.333333333333333], [3.5555555555555554, 3.5555555555555554, 3.5555555555555554, 3.5555555555555554, 3.5555555555555554, 3.5555555555555554, 3.5555555555555554, 3.5555555555555554, 3.5555555555555554, 3.5555555555555554], [3.7777777777777777, 3.7777777777777777, 3.7777777777777777, 3.7777777777777777, 3.7777777777777777, 3.7777777777777777, 3.7777777777777777, 3.7777777777777777, 3.7777777777777777, 3.7777777777777777], [4.0, 4.0, 4.0, 4.0, 4.0, 4.0, 4.0, 4.0, 4.0, 4.0]], \"z\": [[289.89166429956566, 309.9130469028364, 329.9344295061071, 349.95581210937786, 369.97719471264855, 389.9985773159193, 410.01995991919, 430.0413425224607, 450.06272512573145, 470.0841077290022], [289.89166429956566, 309.9130469028364, 329.9344295061071, 349.95581210937786, 369.97719471264855, 389.9985773159193, 410.01995991919, 430.0413425224607, 450.06272512573145, 470.0841077290022], [289.89166429956566, 309.9130469028364, 329.9344295061071, 349.95581210937786, 369.97719471264855, 389.9985773159193, 410.01995991919, 430.0413425224607, 450.06272512573145, 470.0841077290022], [289.89166429956566, 309.9130469028364, 329.9344295061071, 349.95581210937786, 369.97719471264855, 389.9985773159193, 410.01995991919, 430.0413425224607, 450.06272512573145, 470.0841077290022], [289.89166429956566, 309.9130469028364, 329.9344295061071, 349.95581210937786, 369.97719471264855, 389.9985773159193, 410.01995991919, 430.0413425224607, 450.06272512573145, 470.0841077290022], [289.89166429956566, 309.9130469028364, 329.9344295061071, 349.95581210937786, 369.97719471264855, 389.9985773159193, 410.01995991919, 430.0413425224607, 450.06272512573145, 470.0841077290022], [289.89166429956566, 309.9130469028364, 329.9344295061071, 349.95581210937786, 369.97719471264855, 389.9985773159193, 410.01995991919, 430.0413425224607, 450.06272512573145, 470.0841077290022], [289.89166429956566, 309.9130469028364, 329.9344295061071, 349.95581210937786, 369.97719471264855, 389.9985773159193, 410.01995991919, 430.0413425224607, 450.06272512573145, 470.0841077290022], [289.89166429956566, 309.9130469028364, 329.9344295061071, 349.95581210937786, 369.97719471264855, 389.9985773159193, 410.01995991919, 430.0413425224607, 450.06272512573145, 470.0841077290022], [289.89166429956566, 309.9130469028364, 329.9344295061071, 349.95581210937786, 369.97719471264855, 389.9985773159193, 410.01995991919, 430.0413425224607, 450.06272512573145, 470.0841077290022]]}, {\"coloraxis\": \"coloraxis\", \"colorbar\": {\"thickness\": 5}, \"name\": \"PU+1.9%EG\", \"opacity\": 0.6, \"type\": \"surface\", \"visible\": false, \"x\": [[2.5, 3.1666666666666665, 3.833333333333333, 4.5, 5.166666666666666, 5.833333333333333, 6.5, 7.166666666666666, 7.833333333333333, 8.5], [2.5, 3.1666666666666665, 3.833333333333333, 4.5, 5.166666666666666, 5.833333333333333, 6.5, 7.166666666666666, 7.833333333333333, 8.5], [2.5, 3.1666666666666665, 3.833333333333333, 4.5, 5.166666666666666, 5.833333333333333, 6.5, 7.166666666666666, 7.833333333333333, 8.5], [2.5, 3.1666666666666665, 3.833333333333333, 4.5, 5.166666666666666, 5.833333333333333, 6.5, 7.166666666666666, 7.833333333333333, 8.5], [2.5, 3.1666666666666665, 3.833333333333333, 4.5, 5.166666666666666, 5.833333333333333, 6.5, 7.166666666666666, 7.833333333333333, 8.5], [2.5, 3.1666666666666665, 3.833333333333333, 4.5, 5.166666666666666, 5.833333333333333, 6.5, 7.166666666666666, 7.833333333333333, 8.5], [2.5, 3.1666666666666665, 3.833333333333333, 4.5, 5.166666666666666, 5.833333333333333, 6.5, 7.166666666666666, 7.833333333333333, 8.5], [2.5, 3.1666666666666665, 3.833333333333333, 4.5, 5.166666666666666, 5.833333333333333, 6.5, 7.166666666666666, 7.833333333333333, 8.5], [2.5, 3.1666666666666665, 3.833333333333333, 4.5, 5.166666666666666, 5.833333333333333, 6.5, 7.166666666666666, 7.833333333333333, 8.5], [2.5, 3.1666666666666665, 3.833333333333333, 4.5, 5.166666666666666, 5.833333333333333, 6.5, 7.166666666666666, 7.833333333333333, 8.5]], \"y\": [[2.0, 2.0, 2.0, 2.0, 2.0, 2.0, 2.0, 2.0, 2.0, 2.0], [2.2222222222222223, 2.2222222222222223, 2.2222222222222223, 2.2222222222222223, 2.2222222222222223, 2.2222222222222223, 2.2222222222222223, 2.2222222222222223, 2.2222222222222223, 2.2222222222222223], [2.4444444444444446, 2.4444444444444446, 2.4444444444444446, 2.4444444444444446, 2.4444444444444446, 2.4444444444444446, 2.4444444444444446, 2.4444444444444446, 2.4444444444444446, 2.4444444444444446], [2.6666666666666665, 2.6666666666666665, 2.6666666666666665, 2.6666666666666665, 2.6666666666666665, 2.6666666666666665, 2.6666666666666665, 2.6666666666666665, 2.6666666666666665, 2.6666666666666665], [2.888888888888889, 2.888888888888889, 2.888888888888889, 2.888888888888889, 2.888888888888889, 2.888888888888889, 2.888888888888889, 2.888888888888889, 2.888888888888889, 2.888888888888889], [3.111111111111111, 3.111111111111111, 3.111111111111111, 3.111111111111111, 3.111111111111111, 3.111111111111111, 3.111111111111111, 3.111111111111111, 3.111111111111111, 3.111111111111111], [3.333333333333333, 3.333333333333333, 3.333333333333333, 3.333333333333333, 3.333333333333333, 3.333333333333333, 3.333333333333333, 3.333333333333333, 3.333333333333333, 3.333333333333333], [3.5555555555555554, 3.5555555555555554, 3.5555555555555554, 3.5555555555555554, 3.5555555555555554, 3.5555555555555554, 3.5555555555555554, 3.5555555555555554, 3.5555555555555554, 3.5555555555555554], [3.7777777777777777, 3.7777777777777777, 3.7777777777777777, 3.7777777777777777, 3.7777777777777777, 3.7777777777777777, 3.7777777777777777, 3.7777777777777777, 3.7777777777777777, 3.7777777777777777], [4.0, 4.0, 4.0, 4.0, 4.0, 4.0, 4.0, 4.0, 4.0, 4.0]], \"z\": [[292.45961281117485, 312.48099541444554, 332.50237801771624, 352.523760620987, 372.5451432242577, 392.56652582752844, 412.58790843079913, 432.6092910340698, 452.6306736373406, 472.65205624061133], [292.45961281117485, 312.48099541444554, 332.50237801771624, 352.523760620987, 372.5451432242577, 392.56652582752844, 412.58790843079913, 432.6092910340698, 452.6306736373406, 472.65205624061133], [292.45961281117485, 312.48099541444554, 332.50237801771624, 352.523760620987, 372.5451432242577, 392.56652582752844, 412.58790843079913, 432.6092910340698, 452.6306736373406, 472.65205624061133], [292.45961281117485, 312.48099541444554, 332.50237801771624, 352.523760620987, 372.5451432242577, 392.56652582752844, 412.58790843079913, 432.6092910340698, 452.6306736373406, 472.65205624061133], [292.45961281117485, 312.48099541444554, 332.50237801771624, 352.523760620987, 372.5451432242577, 392.56652582752844, 412.58790843079913, 432.6092910340698, 452.6306736373406, 472.65205624061133], [292.45961281117485, 312.48099541444554, 332.50237801771624, 352.523760620987, 372.5451432242577, 392.56652582752844, 412.58790843079913, 432.6092910340698, 452.6306736373406, 472.65205624061133], [292.45961281117485, 312.48099541444554, 332.50237801771624, 352.523760620987, 372.5451432242577, 392.56652582752844, 412.58790843079913, 432.6092910340698, 452.6306736373406, 472.65205624061133], [292.45961281117485, 312.48099541444554, 332.50237801771624, 352.523760620987, 372.5451432242577, 392.56652582752844, 412.58790843079913, 432.6092910340698, 452.6306736373406, 472.65205624061133], [292.45961281117485, 312.48099541444554, 332.50237801771624, 352.523760620987, 372.5451432242577, 392.56652582752844, 412.58790843079913, 432.6092910340698, 452.6306736373406, 472.65205624061133], [292.45961281117485, 312.48099541444554, 332.50237801771624, 352.523760620987, 372.5451432242577, 392.56652582752844, 412.58790843079913, 432.6092910340698, 452.6306736373406, 472.65205624061133]]}, {\"coloraxis\": \"coloraxis\", \"colorbar\": {\"thickness\": 5}, \"name\": \"PU+2.0%EG\", \"opacity\": 0.6, \"type\": \"surface\", \"visible\": false, \"x\": [[2.5, 3.1666666666666665, 3.833333333333333, 4.5, 5.166666666666666, 5.833333333333333, 6.5, 7.166666666666666, 7.833333333333333, 8.5], [2.5, 3.1666666666666665, 3.833333333333333, 4.5, 5.166666666666666, 5.833333333333333, 6.5, 7.166666666666666, 7.833333333333333, 8.5], [2.5, 3.1666666666666665, 3.833333333333333, 4.5, 5.166666666666666, 5.833333333333333, 6.5, 7.166666666666666, 7.833333333333333, 8.5], [2.5, 3.1666666666666665, 3.833333333333333, 4.5, 5.166666666666666, 5.833333333333333, 6.5, 7.166666666666666, 7.833333333333333, 8.5], [2.5, 3.1666666666666665, 3.833333333333333, 4.5, 5.166666666666666, 5.833333333333333, 6.5, 7.166666666666666, 7.833333333333333, 8.5], [2.5, 3.1666666666666665, 3.833333333333333, 4.5, 5.166666666666666, 5.833333333333333, 6.5, 7.166666666666666, 7.833333333333333, 8.5], [2.5, 3.1666666666666665, 3.833333333333333, 4.5, 5.166666666666666, 5.833333333333333, 6.5, 7.166666666666666, 7.833333333333333, 8.5], [2.5, 3.1666666666666665, 3.833333333333333, 4.5, 5.166666666666666, 5.833333333333333, 6.5, 7.166666666666666, 7.833333333333333, 8.5], [2.5, 3.1666666666666665, 3.833333333333333, 4.5, 5.166666666666666, 5.833333333333333, 6.5, 7.166666666666666, 7.833333333333333, 8.5], [2.5, 3.1666666666666665, 3.833333333333333, 4.5, 5.166666666666666, 5.833333333333333, 6.5, 7.166666666666666, 7.833333333333333, 8.5]], \"y\": [[2.0, 2.0, 2.0, 2.0, 2.0, 2.0, 2.0, 2.0, 2.0, 2.0], [2.2222222222222223, 2.2222222222222223, 2.2222222222222223, 2.2222222222222223, 2.2222222222222223, 2.2222222222222223, 2.2222222222222223, 2.2222222222222223, 2.2222222222222223, 2.2222222222222223], [2.4444444444444446, 2.4444444444444446, 2.4444444444444446, 2.4444444444444446, 2.4444444444444446, 2.4444444444444446, 2.4444444444444446, 2.4444444444444446, 2.4444444444444446, 2.4444444444444446], [2.6666666666666665, 2.6666666666666665, 2.6666666666666665, 2.6666666666666665, 2.6666666666666665, 2.6666666666666665, 2.6666666666666665, 2.6666666666666665, 2.6666666666666665, 2.6666666666666665], [2.888888888888889, 2.888888888888889, 2.888888888888889, 2.888888888888889, 2.888888888888889, 2.888888888888889, 2.888888888888889, 2.888888888888889, 2.888888888888889, 2.888888888888889], [3.111111111111111, 3.111111111111111, 3.111111111111111, 3.111111111111111, 3.111111111111111, 3.111111111111111, 3.111111111111111, 3.111111111111111, 3.111111111111111, 3.111111111111111], [3.333333333333333, 3.333333333333333, 3.333333333333333, 3.333333333333333, 3.333333333333333, 3.333333333333333, 3.333333333333333, 3.333333333333333, 3.333333333333333, 3.333333333333333], [3.5555555555555554, 3.5555555555555554, 3.5555555555555554, 3.5555555555555554, 3.5555555555555554, 3.5555555555555554, 3.5555555555555554, 3.5555555555555554, 3.5555555555555554, 3.5555555555555554], [3.7777777777777777, 3.7777777777777777, 3.7777777777777777, 3.7777777777777777, 3.7777777777777777, 3.7777777777777777, 3.7777777777777777, 3.7777777777777777, 3.7777777777777777, 3.7777777777777777], [4.0, 4.0, 4.0, 4.0, 4.0, 4.0, 4.0, 4.0, 4.0, 4.0]], \"z\": [[295.027561322784, 315.04894392605473, 335.0703265293254, 355.0917091325962, 375.1130917358669, 395.1344743391376, 415.1558569424083, 435.177239545679, 455.19862214894977, 475.2200047522205], [295.027561322784, 315.04894392605473, 335.0703265293254, 355.0917091325962, 375.1130917358669, 395.1344743391376, 415.1558569424083, 435.177239545679, 455.19862214894977, 475.2200047522205], [295.027561322784, 315.04894392605473, 335.0703265293254, 355.0917091325962, 375.1130917358669, 395.1344743391376, 415.1558569424083, 435.177239545679, 455.19862214894977, 475.2200047522205], [295.027561322784, 315.04894392605473, 335.0703265293254, 355.0917091325962, 375.1130917358669, 395.1344743391376, 415.1558569424083, 435.177239545679, 455.19862214894977, 475.2200047522205], [295.027561322784, 315.04894392605473, 335.0703265293254, 355.0917091325962, 375.1130917358669, 395.1344743391376, 415.1558569424083, 435.177239545679, 455.19862214894977, 475.2200047522205], [295.027561322784, 315.04894392605473, 335.0703265293254, 355.0917091325962, 375.1130917358669, 395.1344743391376, 415.1558569424083, 435.177239545679, 455.19862214894977, 475.2200047522205], [295.027561322784, 315.04894392605473, 335.0703265293254, 355.0917091325962, 375.1130917358669, 395.1344743391376, 415.1558569424083, 435.177239545679, 455.19862214894977, 475.2200047522205], [295.027561322784, 315.04894392605473, 335.0703265293254, 355.0917091325962, 375.1130917358669, 395.1344743391376, 415.1558569424083, 435.177239545679, 455.19862214894977, 475.2200047522205], [295.027561322784, 315.04894392605473, 335.0703265293254, 355.0917091325962, 375.1130917358669, 395.1344743391376, 415.1558569424083, 435.177239545679, 455.19862214894977, 475.2200047522205], [295.027561322784, 315.04894392605473, 335.0703265293254, 355.0917091325962, 375.1130917358669, 395.1344743391376, 415.1558569424083, 435.177239545679, 455.19862214894977, 475.2200047522205]]}],\n",
       "                        {\"coloraxis\": {\"colorbar\": {\"thickness\": 5}, \"colorscale\": [[0.0, \"rgb(0,0,0)\"], [0.3333333333333333, \"rgb(230,0,0)\"], [0.6666666666666666, \"rgb(255,210,0)\"], [1.0, \"rgb(255,255,255)\"]]}, \"legend\": {\"x\": 0.05, \"xanchor\": \"left\", \"y\": 0.95, \"yanchor\": \"top\"}, \"margin\": {\"b\": 65, \"l\": 65, \"r\": 50, \"t\": 90}, \"scene\": {\"xaxis\": {\"showspikes\": false, \"title\": {\"text\": \"Normal Load (N)\"}}, \"yaxis\": {\"showspikes\": false, \"title\": {\"text\": \"Frequency (Hz)\"}}, \"zaxis\": {\"range\": [220, 500], \"title\": {\"text\": \"Wear Width (\\u00b5m)\"}}}, \"showlegend\": true, \"sliders\": [{\"active\": 10, \"currentvalue\": {\"prefix\": \"Content: \"}, \"pad\": {\"t\": 50}, \"steps\": [{\"args\": [{\"visible\": [true, false, false, false, false, false, false, false, false, false, false, false, false, false, false, false, false, false, false, false, false]}, {\"title\": \"PU + 0.0% Expanded Graphite\"}], \"label\": \"0.0% EG\", \"method\": \"update\"}, {\"args\": [{\"visible\": [false, true, false, false, false, false, false, false, false, false, false, false, false, false, false, false, false, false, false, false, false]}, {\"title\": \"PU + 0.1% Expanded Graphite\"}], \"label\": \"0.1% EG\", \"method\": \"update\"}, {\"args\": [{\"visible\": [false, false, true, false, false, false, false, false, false, false, false, false, false, false, false, false, false, false, false, false, false]}, {\"title\": \"PU + 0.2% Expanded Graphite\"}], \"label\": \"0.2% EG\", \"method\": \"update\"}, {\"args\": [{\"visible\": [false, false, false, true, false, false, false, false, false, false, false, false, false, false, false, false, false, false, false, false, false]}, {\"title\": \"PU + 0.3% Expanded Graphite\"}], \"label\": \"0.3% EG\", \"method\": \"update\"}, {\"args\": [{\"visible\": [false, false, false, false, true, false, false, false, false, false, false, false, false, false, false, false, false, false, false, false, false]}, {\"title\": \"PU + 0.4% Expanded Graphite\"}], \"label\": \"0.4% EG\", \"method\": \"update\"}, {\"args\": [{\"visible\": [false, false, false, false, false, true, false, false, false, false, false, false, false, false, false, false, false, false, false, false, false]}, {\"title\": \"PU + 0.5% Expanded Graphite\"}], \"label\": \"0.5% EG\", \"method\": \"update\"}, {\"args\": [{\"visible\": [false, false, false, false, false, false, true, false, false, false, false, false, false, false, false, false, false, false, false, false, false]}, {\"title\": \"PU + 0.6% Expanded Graphite\"}], \"label\": \"0.6% EG\", \"method\": \"update\"}, {\"args\": [{\"visible\": [false, false, false, false, false, false, false, true, false, false, false, false, false, false, false, false, false, false, false, false, false]}, {\"title\": \"PU + 0.7% Expanded Graphite\"}], \"label\": \"0.7% EG\", \"method\": \"update\"}, {\"args\": [{\"visible\": [false, false, false, false, false, false, false, false, true, false, false, false, false, false, false, false, false, false, false, false, false]}, {\"title\": \"PU + 0.8% Expanded Graphite\"}], \"label\": \"0.8% EG\", \"method\": \"update\"}, {\"args\": [{\"visible\": [false, false, false, false, false, false, false, false, false, true, false, false, false, false, false, false, false, false, false, false, false]}, {\"title\": \"PU + 0.9% Expanded Graphite\"}], \"label\": \"0.9% EG\", \"method\": \"update\"}, {\"args\": [{\"visible\": [false, false, false, false, false, false, false, false, false, false, true, false, false, false, false, false, false, false, false, false, false]}, {\"title\": \"PU + 1.0% Expanded Graphite\"}], \"label\": \"1.0% EG\", \"method\": \"update\"}, {\"args\": [{\"visible\": [false, false, false, false, false, false, false, false, false, false, false, true, false, false, false, false, false, false, false, false, false]}, {\"title\": \"PU + 1.1% Expanded Graphite\"}], \"label\": \"1.1% EG\", \"method\": \"update\"}, {\"args\": [{\"visible\": [false, false, false, false, false, false, false, false, false, false, false, false, true, false, false, false, false, false, false, false, false]}, {\"title\": \"PU + 1.2% Expanded Graphite\"}], \"label\": \"1.2% EG\", \"method\": \"update\"}, {\"args\": [{\"visible\": [false, false, false, false, false, false, false, false, false, false, false, false, false, true, false, false, false, false, false, false, false]}, {\"title\": \"PU + 1.3% Expanded Graphite\"}], \"label\": \"1.3% EG\", \"method\": \"update\"}, {\"args\": [{\"visible\": [false, false, false, false, false, false, false, false, false, false, false, false, false, false, true, false, false, false, false, false, false]}, {\"title\": \"PU + 1.4% Expanded Graphite\"}], \"label\": \"1.4% EG\", \"method\": \"update\"}, {\"args\": [{\"visible\": [false, false, false, false, false, false, false, false, false, false, false, false, false, false, false, true, false, false, false, false, false]}, {\"title\": \"PU + 1.5% Expanded Graphite\"}], \"label\": \"1.5% EG\", \"method\": \"update\"}, {\"args\": [{\"visible\": [false, false, false, false, false, false, false, false, false, false, false, false, false, false, false, false, true, false, false, false, false]}, {\"title\": \"PU + 1.6% Expanded Graphite\"}], \"label\": \"1.6% EG\", \"method\": \"update\"}, {\"args\": [{\"visible\": [false, false, false, false, false, false, false, false, false, false, false, false, false, false, false, false, false, true, false, false, false]}, {\"title\": \"PU + 1.7% Expanded Graphite\"}], \"label\": \"1.7% EG\", \"method\": \"update\"}, {\"args\": [{\"visible\": [false, false, false, false, false, false, false, false, false, false, false, false, false, false, false, false, false, false, true, false, false]}, {\"title\": \"PU + 1.8% Expanded Graphite\"}], \"label\": \"1.8% EG\", \"method\": \"update\"}, {\"args\": [{\"visible\": [false, false, false, false, false, false, false, false, false, false, false, false, false, false, false, false, false, false, false, true, false]}, {\"title\": \"PU + 1.9% Expanded Graphite\"}], \"label\": \"1.9% EG\", \"method\": \"update\"}, {\"args\": [{\"visible\": [false, false, false, false, false, false, false, false, false, false, false, false, false, false, false, false, false, false, false, false, true]}, {\"title\": \"PU + 2.0% Expanded Graphite\"}], \"label\": \"2.0% EG\", \"method\": \"update\"}]}], \"template\": {\"data\": {\"bar\": [{\"error_x\": {\"color\": \"#2a3f5f\"}, \"error_y\": {\"color\": \"#2a3f5f\"}, \"marker\": {\"line\": {\"color\": \"#E5ECF6\", \"width\": 0.5}}, \"type\": \"bar\"}], \"barpolar\": [{\"marker\": {\"line\": {\"color\": \"#E5ECF6\", \"width\": 0.5}}, \"type\": \"barpolar\"}], \"carpet\": [{\"aaxis\": {\"endlinecolor\": \"#2a3f5f\", \"gridcolor\": \"white\", \"linecolor\": \"white\", \"minorgridcolor\": \"white\", \"startlinecolor\": \"#2a3f5f\"}, \"baxis\": {\"endlinecolor\": \"#2a3f5f\", \"gridcolor\": \"white\", \"linecolor\": \"white\", \"minorgridcolor\": \"white\", \"startlinecolor\": \"#2a3f5f\"}, \"type\": \"carpet\"}], \"choropleth\": [{\"colorbar\": {\"outlinewidth\": 0, \"ticks\": \"\"}, \"type\": \"choropleth\"}], \"contour\": [{\"colorbar\": {\"outlinewidth\": 0, \"ticks\": \"\"}, \"colorscale\": [[0.0, \"#0d0887\"], [0.1111111111111111, \"#46039f\"], [0.2222222222222222, \"#7201a8\"], [0.3333333333333333, \"#9c179e\"], [0.4444444444444444, \"#bd3786\"], [0.5555555555555556, \"#d8576b\"], [0.6666666666666666, \"#ed7953\"], [0.7777777777777778, \"#fb9f3a\"], [0.8888888888888888, \"#fdca26\"], [1.0, \"#f0f921\"]], \"type\": \"contour\"}], \"contourcarpet\": [{\"colorbar\": {\"outlinewidth\": 0, \"ticks\": \"\"}, \"type\": \"contourcarpet\"}], \"heatmap\": [{\"colorbar\": {\"outlinewidth\": 0, \"ticks\": \"\"}, \"colorscale\": [[0.0, \"#0d0887\"], [0.1111111111111111, \"#46039f\"], [0.2222222222222222, \"#7201a8\"], [0.3333333333333333, \"#9c179e\"], [0.4444444444444444, \"#bd3786\"], [0.5555555555555556, \"#d8576b\"], [0.6666666666666666, \"#ed7953\"], [0.7777777777777778, \"#fb9f3a\"], [0.8888888888888888, \"#fdca26\"], [1.0, \"#f0f921\"]], \"type\": \"heatmap\"}], \"heatmapgl\": [{\"colorbar\": {\"outlinewidth\": 0, \"ticks\": \"\"}, \"colorscale\": [[0.0, \"#0d0887\"], [0.1111111111111111, \"#46039f\"], [0.2222222222222222, \"#7201a8\"], [0.3333333333333333, \"#9c179e\"], [0.4444444444444444, \"#bd3786\"], [0.5555555555555556, \"#d8576b\"], [0.6666666666666666, \"#ed7953\"], [0.7777777777777778, \"#fb9f3a\"], [0.8888888888888888, \"#fdca26\"], [1.0, \"#f0f921\"]], \"type\": \"heatmapgl\"}], \"histogram\": [{\"marker\": {\"colorbar\": {\"outlinewidth\": 0, \"ticks\": \"\"}}, \"type\": \"histogram\"}], \"histogram2d\": [{\"colorbar\": {\"outlinewidth\": 0, \"ticks\": \"\"}, \"colorscale\": [[0.0, \"#0d0887\"], [0.1111111111111111, \"#46039f\"], [0.2222222222222222, \"#7201a8\"], [0.3333333333333333, \"#9c179e\"], [0.4444444444444444, \"#bd3786\"], [0.5555555555555556, \"#d8576b\"], [0.6666666666666666, \"#ed7953\"], [0.7777777777777778, \"#fb9f3a\"], [0.8888888888888888, \"#fdca26\"], [1.0, \"#f0f921\"]], \"type\": \"histogram2d\"}], \"histogram2dcontour\": [{\"colorbar\": {\"outlinewidth\": 0, \"ticks\": \"\"}, \"colorscale\": [[0.0, \"#0d0887\"], [0.1111111111111111, \"#46039f\"], [0.2222222222222222, \"#7201a8\"], [0.3333333333333333, \"#9c179e\"], [0.4444444444444444, \"#bd3786\"], [0.5555555555555556, \"#d8576b\"], [0.6666666666666666, \"#ed7953\"], [0.7777777777777778, \"#fb9f3a\"], [0.8888888888888888, \"#fdca26\"], [1.0, \"#f0f921\"]], \"type\": \"histogram2dcontour\"}], \"mesh3d\": [{\"colorbar\": {\"outlinewidth\": 0, \"ticks\": \"\"}, \"type\": \"mesh3d\"}], \"parcoords\": [{\"line\": {\"colorbar\": {\"outlinewidth\": 0, \"ticks\": \"\"}}, \"type\": \"parcoords\"}], \"pie\": [{\"automargin\": true, \"type\": \"pie\"}], \"scatter\": [{\"marker\": {\"colorbar\": {\"outlinewidth\": 0, \"ticks\": \"\"}}, \"type\": \"scatter\"}], \"scatter3d\": [{\"line\": {\"colorbar\": {\"outlinewidth\": 0, \"ticks\": \"\"}}, \"marker\": {\"colorbar\": {\"outlinewidth\": 0, \"ticks\": \"\"}}, \"type\": \"scatter3d\"}], \"scattercarpet\": [{\"marker\": {\"colorbar\": {\"outlinewidth\": 0, \"ticks\": \"\"}}, \"type\": \"scattercarpet\"}], \"scattergeo\": [{\"marker\": {\"colorbar\": {\"outlinewidth\": 0, \"ticks\": \"\"}}, \"type\": \"scattergeo\"}], \"scattergl\": [{\"marker\": {\"colorbar\": {\"outlinewidth\": 0, \"ticks\": \"\"}}, \"type\": \"scattergl\"}], \"scattermapbox\": [{\"marker\": {\"colorbar\": {\"outlinewidth\": 0, \"ticks\": \"\"}}, \"type\": \"scattermapbox\"}], \"scatterpolar\": [{\"marker\": {\"colorbar\": {\"outlinewidth\": 0, \"ticks\": \"\"}}, \"type\": \"scatterpolar\"}], \"scatterpolargl\": [{\"marker\": {\"colorbar\": {\"outlinewidth\": 0, \"ticks\": \"\"}}, \"type\": \"scatterpolargl\"}], \"scatterternary\": [{\"marker\": {\"colorbar\": {\"outlinewidth\": 0, \"ticks\": \"\"}}, \"type\": \"scatterternary\"}], \"surface\": [{\"colorbar\": {\"outlinewidth\": 0, \"ticks\": \"\"}, \"colorscale\": [[0.0, \"#0d0887\"], [0.1111111111111111, \"#46039f\"], [0.2222222222222222, \"#7201a8\"], [0.3333333333333333, \"#9c179e\"], [0.4444444444444444, \"#bd3786\"], [0.5555555555555556, \"#d8576b\"], [0.6666666666666666, \"#ed7953\"], [0.7777777777777778, \"#fb9f3a\"], [0.8888888888888888, \"#fdca26\"], [1.0, \"#f0f921\"]], \"type\": \"surface\"}], \"table\": [{\"cells\": {\"fill\": {\"color\": \"#EBF0F8\"}, \"line\": {\"color\": \"white\"}}, \"header\": {\"fill\": {\"color\": \"#C8D4E3\"}, \"line\": {\"color\": \"white\"}}, \"type\": \"table\"}]}, \"layout\": {\"annotationdefaults\": {\"arrowcolor\": \"#2a3f5f\", \"arrowhead\": 0, \"arrowwidth\": 1}, \"coloraxis\": {\"colorbar\": {\"outlinewidth\": 0, \"ticks\": \"\"}}, \"colorscale\": {\"diverging\": [[0, \"#8e0152\"], [0.1, \"#c51b7d\"], [0.2, \"#de77ae\"], [0.3, \"#f1b6da\"], [0.4, \"#fde0ef\"], [0.5, \"#f7f7f7\"], [0.6, \"#e6f5d0\"], [0.7, \"#b8e186\"], [0.8, \"#7fbc41\"], [0.9, \"#4d9221\"], [1, \"#276419\"]], \"sequential\": [[0.0, \"#0d0887\"], [0.1111111111111111, \"#46039f\"], [0.2222222222222222, \"#7201a8\"], [0.3333333333333333, \"#9c179e\"], [0.4444444444444444, \"#bd3786\"], [0.5555555555555556, \"#d8576b\"], [0.6666666666666666, \"#ed7953\"], [0.7777777777777778, \"#fb9f3a\"], [0.8888888888888888, \"#fdca26\"], [1.0, \"#f0f921\"]], \"sequentialminus\": [[0.0, \"#0d0887\"], [0.1111111111111111, \"#46039f\"], [0.2222222222222222, \"#7201a8\"], [0.3333333333333333, \"#9c179e\"], [0.4444444444444444, \"#bd3786\"], [0.5555555555555556, \"#d8576b\"], [0.6666666666666666, \"#ed7953\"], [0.7777777777777778, \"#fb9f3a\"], [0.8888888888888888, \"#fdca26\"], [1.0, \"#f0f921\"]]}, \"colorway\": [\"#636efa\", \"#EF553B\", \"#00cc96\", \"#ab63fa\", \"#FFA15A\", \"#19d3f3\", \"#FF6692\", \"#B6E880\", \"#FF97FF\", \"#FECB52\"], \"font\": {\"color\": \"#2a3f5f\"}, \"geo\": {\"bgcolor\": \"white\", \"lakecolor\": \"white\", \"landcolor\": \"#E5ECF6\", \"showlakes\": true, \"showland\": true, \"subunitcolor\": \"white\"}, \"hoverlabel\": {\"align\": \"left\"}, \"hovermode\": \"closest\", \"mapbox\": {\"style\": \"light\"}, \"paper_bgcolor\": \"white\", \"plot_bgcolor\": \"#E5ECF6\", \"polar\": {\"angularaxis\": {\"gridcolor\": \"white\", \"linecolor\": \"white\", \"ticks\": \"\"}, \"bgcolor\": \"#E5ECF6\", \"radialaxis\": {\"gridcolor\": \"white\", \"linecolor\": \"white\", \"ticks\": \"\"}}, \"scene\": {\"xaxis\": {\"backgroundcolor\": \"#E5ECF6\", \"gridcolor\": \"white\", \"gridwidth\": 2, \"linecolor\": \"white\", \"showbackground\": true, \"ticks\": \"\", \"zerolinecolor\": \"white\"}, \"yaxis\": {\"backgroundcolor\": \"#E5ECF6\", \"gridcolor\": \"white\", \"gridwidth\": 2, \"linecolor\": \"white\", \"showbackground\": true, \"ticks\": \"\", \"zerolinecolor\": \"white\"}, \"zaxis\": {\"backgroundcolor\": \"#E5ECF6\", \"gridcolor\": \"white\", \"gridwidth\": 2, \"linecolor\": \"white\", \"showbackground\": true, \"ticks\": \"\", \"zerolinecolor\": \"white\"}}, \"shapedefaults\": {\"line\": {\"color\": \"#2a3f5f\"}}, \"ternary\": {\"aaxis\": {\"gridcolor\": \"white\", \"linecolor\": \"white\", \"ticks\": \"\"}, \"baxis\": {\"gridcolor\": \"white\", \"linecolor\": \"white\", \"ticks\": \"\"}, \"bgcolor\": \"#E5ECF6\", \"caxis\": {\"gridcolor\": \"white\", \"linecolor\": \"white\", \"ticks\": \"\"}}, \"title\": {\"x\": 0.05}, \"xaxis\": {\"automargin\": true, \"gridcolor\": \"white\", \"linecolor\": \"white\", \"ticks\": \"\", \"title\": {\"standoff\": 15}, \"zerolinecolor\": \"white\", \"zerolinewidth\": 2}, \"yaxis\": {\"automargin\": true, \"gridcolor\": \"white\", \"linecolor\": \"white\", \"ticks\": \"\", \"title\": {\"standoff\": 15}, \"zerolinecolor\": \"white\", \"zerolinewidth\": 2}}}, \"title\": {\"text\": \"PU + 1.0% Expanded Graphite\"}},\n",
       "                        {\"responsive\": true}\n",
       "                    ).then(function(){\n",
       "                            \n",
       "var gd = document.getElementById('9c4b6541-632e-45f1-ab70-a20394ac1e3e');\n",
       "var x = new MutationObserver(function (mutations, observer) {{\n",
       "        var display = window.getComputedStyle(gd).display;\n",
       "        if (!display || display === 'none') {{\n",
       "            console.log([gd, 'removed!']);\n",
       "            Plotly.purge(gd);\n",
       "            observer.disconnect();\n",
       "        }}\n",
       "}});\n",
       "\n",
       "// Listen for the removal of the full notebook cells\n",
       "var notebookContainer = gd.closest('#notebook-container');\n",
       "if (notebookContainer) {{\n",
       "    x.observe(notebookContainer, {childList: true});\n",
       "}}\n",
       "\n",
       "// Listen for the clearing of the current output cell\n",
       "var outputEl = gd.closest('.output');\n",
       "if (outputEl) {{\n",
       "    x.observe(outputEl, {childList: true});\n",
       "}}\n",
       "\n",
       "                        })\n",
       "                };\n",
       "                });\n",
       "            </script>\n",
       "        </div>"
      ]
     },
     "metadata": {},
     "output_type": "display_data"
    }
   ],
   "source": [
    "fig = go.Figure()\n",
    "\n",
    "for e_slider in np.arange(0,2.1,0.1): \n",
    "    fig.add_trace(go.Surface(z=answer2d(e_slider,Fr,Fo),\n",
    "                              x=Ff,\n",
    "                              y=ff,\n",
    "                              opacity=0.6,\n",
    "                              name='PU+{:.1f}%EG'.format(e_slider),\n",
    "                              coloraxis = 'coloraxis',\n",
    "                              colorbar = dict(thickness=5),\n",
    "                              visible = False\n",
    "                              ))\n",
    "fig.data[10].visible = True\n",
    "steps = []\n",
    "for i in range(len(fig.data)):\n",
    "    step = dict(\n",
    "        method=\"update\",\n",
    "        label = '{:.1f}% EG'.format(i/10),\n",
    "        args=[{\"visible\": [False] * len(fig.data)}, \n",
    "              \n",
    "              {\"title\": \"PU + {:.1f}% Expanded Graphite\".format(i/10)}],  # layout attribute\n",
    "    )\n",
    "    step[\"args\"][0][\"visible\"][i] = True  # Toggle i'th trace to \"visible\"\n",
    "    steps.append(step)\n",
    "\n",
    "sliders = [dict(\n",
    "    active=10,\n",
    "    currentvalue={\"prefix\": \"Content: \"},\n",
    "    pad={\"t\": 50},\n",
    "    steps=steps\n",
    ")]\n",
    "\n",
    "fig.update_layout(sliders=sliders)\n",
    "\n",
    "fig.update_layout(coloraxis = dict(colorscale = 'hot', colorbar = dict(thickness = 5)))\n",
    "\n",
    "fig.update_layout(title='PU + 1.0% Expanded Graphite',\n",
    "                  margin=dict(l=65, r=50, b=65, t=90),\n",
    "                  )\n",
    "fig.update_layout(scene = dict(xaxis_title = 'Normal Load (N)',\n",
    "                  yaxis_title = 'Frequency (Hz)',\n",
    "                  zaxis_title = 'Wear Width (µm)'))\n",
    "fig.update_layout(showlegend=True)\n",
    "fig.update_layout(legend=dict(\n",
    "    yanchor=\"top\",\n",
    "    y=0.95,\n",
    "    xanchor=\"left\",\n",
    "    x=0.05\n",
    "))\n",
    "fig.update_layout(scene_zaxis=dict(range=[220, 500]),\n",
    "                  scene_xaxis=dict(showspikes = False),\n",
    "                  scene_yaxis=dict(showspikes = False)\n",
    "                  )\n"
   ]
  },
  {
   "cell_type": "code",
   "execution_count": null,
   "metadata": {},
   "outputs": [],
   "source": []
  },
  {
   "cell_type": "code",
   "execution_count": null,
   "metadata": {},
   "outputs": [],
   "source": []
  }
 ],
 "metadata": {
  "kernelspec": {
   "display_name": "Python 3",
   "language": "python",
   "name": "python3"
  },
  "language_info": {
   "codemirror_mode": {
    "name": "ipython",
    "version": 3
   },
   "file_extension": ".py",
   "mimetype": "text/x-python",
   "name": "python",
   "nbconvert_exporter": "python",
   "pygments_lexer": "ipython3",
   "version": "3.7.6"
  }
 },
 "nbformat": 4,
 "nbformat_minor": 4
}
