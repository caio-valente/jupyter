{
 "cells": [
  {
   "cell_type": "markdown",
   "metadata": {},
   "source": [
    "# Combinando Dados - Atrito e Umidade/Temperatura\n",
    "\n",
    "Neste script foram combinados os dados de umidade e temperatura com os dados de atrito obtidos do tribômetro. Apenas os dados de PU Puro estão sendo mostrados neste arquivo, para fins de exemplificação. No entanto, no trabalho de mestrado e nos dados observáveis no website, todos os ensaios foram combinados para visualização das condições ao longo do ensaio.\n",
    "\n",
    "## Bibliotecas Utilizadas\n",
    "\n",
    "Foram utilizadas as bibliotecas do Plotly para construir os gráficos, além de outras bibliotecas para torná-los interativos (`ipywidgets`), para lidar com os arquivos e pastas (`pathlib`, `os`) e para manipular os dados (`numpy` e `pandas`)."
   ]
  },
  {
   "cell_type": "code",
   "execution_count": 1,
   "metadata": {},
   "outputs": [],
   "source": [
    "import pandas as pd\n",
    "import numpy as np\n",
    "import plotly.express as px\n",
    "pd.options.plotting.backend = 'plotly'\n",
    "import plotly.graph_objects as go\n",
    "from plotly.subplots import make_subplots\n",
    "from pathlib import Path\n",
    "from os import listdir\n",
    "from os.path import isfile, join\n",
    "from ipywidgets import interact, widgets"
   ]
  },
  {
   "cell_type": "markdown",
   "metadata": {},
   "source": [
    "## Etapa 1: Abrindo os Arquivos de Dados\n",
    "\n",
    "Vários arquivos serão utilizados neste script:  `summary_pu.csv`, com o resumo dos resultados de atrito obtidos em outro script; `umidade_combinada.csv`, com todos os dados de umidade combinados em outro script; e os arquivos individuais de coeficiente de atrito, diretamente após serem exportados pelo software *Viewer*. Nesta etapa os arquivos de umidade e o sumário de atrito são abertos, e é gerada uma lista de endereços dos arquivos individuais de atrito."
   ]
  },
  {
   "cell_type": "code",
   "execution_count": 2,
   "metadata": {},
   "outputs": [],
   "source": [
    "p = Path('src/')\n",
    "cof_path = p/'PU_atrito'\n",
    "cof_files = [cof_path/f for f in listdir(cof_path) if isfile(join(cof_path, f))]\n",
    "hum_path = p/'umidade_combinada.csv'\n",
    "cof_summary_path = p/'summary_pu.csv'\n",
    "parse_dates = ['Timestamp']"
   ]
  },
  {
   "cell_type": "code",
   "execution_count": 3,
   "metadata": {},
   "outputs": [],
   "source": [
    "hum_df = pd.read_csv(\n",
    "    hum_path,\n",
    "    usecols = ['Timestamp','Temperatura','Umidade'],\n",
    "    parse_dates = parse_dates,\n",
    "    dtype = np.float64\n",
    ")"
   ]
  },
  {
   "cell_type": "code",
   "execution_count": 4,
   "metadata": {},
   "outputs": [],
   "source": [
    "summary_df = pd.read_csv(cof_summary_path, parse_dates = ['Início'])"
   ]
  },
  {
   "cell_type": "markdown",
   "metadata": {},
   "source": [
    "## Etapa 2: Determinação do Tempo\n",
    "\n",
    "Nesta etapa, usamos os valores de Início do ensaio já compilados no DataFrame `summary_pu` para determinar o tempo de cada leitura de força/atrito no tribômetro. No entanto, há uma diferença de tempo entre o relógio do computador do  tribômetro (que está adiantado 50 minutos e 50 segundos) e o computador ao qual estava ligado o Arduino. Deste modo, essas diferenças são computadas antes de gravar os Timestamps nos DataFrames."
   ]
  },
  {
   "cell_type": "code",
   "execution_count": 5,
   "metadata": {},
   "outputs": [],
   "source": [
    "starts = summary_df.sort_values(by = 'Início').reset_index(drop = True)['Início']\n",
    "corr_time_diffs = pd.Timedelta(value = 50, unit = 'min') + pd.Timedelta(value = 50, unit = 'sec')"
   ]
  },
  {
   "cell_type": "code",
   "execution_count": 6,
   "metadata": {},
   "outputs": [],
   "source": [
    "frames = {}\n",
    "for i, file in enumerate(cof_files):\n",
    "    cof_df = pd.read_csv(\n",
    "        file,\n",
    "        header=17,\n",
    "        skiprows = [21],\n",
    "        dtype = {'T': np.float64,'COF': np.float64},\n",
    "        usecols = ['T','COF']\n",
    "    )\n",
    "    cof_df['Timedeltas'] = pd.Timedelta(value = 1, unit = 'ms') * cof_df.index\n",
    "    cof_df['Timestamp'] = starts[i] + cof_df['Timedeltas'] - corr_time_diffs\n",
    "    if i < 10:\n",
    "        cof_df['Timestamp'] = (\n",
    "            starts[i]\n",
    "            + cof_df['Timedeltas']\n",
    "            - corr_time_diffs\n",
    "            - pd.Timedelta(value = 12, unit = 'sec')\n",
    "        )\n",
    "    cof_df = cof_df.drop(columns = 'Timedeltas')\n",
    "    frames[str(file)] = cof_df"
   ]
  },
  {
   "cell_type": "markdown",
   "metadata": {},
   "source": [
    "Na sequência, são arredondados os tempos para segundos, e assim fazer a correlação do tempo de ensaio tribológico e o tempo gravado pelo Arduino, realizando uma operação de junção (`.join`) nos dois DataFrames. A junção é feita sobre os tempos, de modo que para cada entrada de tempo que existe nos dois DataFrames, é gerada uma entrada de tempo no DataFrame resultante, juntamente com os outros dados dos dois DataFrames."
   ]
  },
  {
   "cell_type": "code",
   "execution_count": 7,
   "metadata": {},
   "outputs": [],
   "source": [
    "hum_df['Time_round'] = hum_df['Timestamp'].round('S')\n",
    "for key, frame in frames.items():\n",
    "    frame['Time_round'] = frame['Timestamp'].round('S')"
   ]
  },
  {
   "cell_type": "code",
   "execution_count": 8,
   "metadata": {},
   "outputs": [],
   "source": [
    "for key, frame in frames.items():\n",
    "    frame = frame.set_index('Time_round').join(hum_df[['Time_round','Umidade','Temperatura']].set_index('Time_round'))\n",
    "    frames[key] = frame.reset_index(drop = True)"
   ]
  },
  {
   "cell_type": "code",
   "execution_count": 9,
   "metadata": {},
   "outputs": [],
   "source": [
    "for key, frame in frames.items():\n",
    "    frame['COF_roll'] = frame['COF'].rolling(1000).mean()"
   ]
  },
  {
   "cell_type": "markdown",
   "metadata": {},
   "source": [
    "## Etapa 3: Visualização dos Dados\n",
    "\n",
    "Aqui são plotados os gráficos de atrito/umidade/temperatura ao longo do ensaio."
   ]
  },
  {
   "cell_type": "code",
   "execution_count": 10,
   "metadata": {},
   "outputs": [],
   "source": [
    "def timeline_plot(key):\n",
    "    df = frames[key].sample(frac = 0.001).sort_values(by = 'Timestamp')\n",
    "    fig = go.Figure()\n",
    "    fig.add_trace(\n",
    "        go.Scatter(\n",
    "            x = df['Timestamp'], \n",
    "            y = df['COF_roll'],\n",
    "            mode = 'lines',\n",
    "            name = 'µ (-)',\n",
    "            marker_color = '#636EFA',\n",
    "            yaxis = 'y1',\n",
    "        ),\n",
    "    )\n",
    "    fig.add_trace(\n",
    "        go.Scatter(\n",
    "            x = df['Timestamp'],\n",
    "            y = df['Umidade'], \n",
    "            mode = 'lines',\n",
    "            name = 'Umidade',\n",
    "            marker_color = '#00CC96',\n",
    "            yaxis = 'y2',\n",
    "        ),\n",
    "    )\n",
    "    fig.add_trace(\n",
    "        go.Scatter(\n",
    "            x = df['Timestamp'],\n",
    "            y = df['Temperatura'],\n",
    "            mode = 'lines',\n",
    "            name = 'Temperatura (°C)',\n",
    "            marker_color = '#EF553B',\n",
    "            yaxis = 'y3',\n",
    "        )\n",
    "    )\n",
    "    fig.update_layout(\n",
    "        template = 'plotly',\n",
    "        xaxis_title_text = 'Tempo (hh:mm)',\n",
    "        font_size = 16,\n",
    "        legend = dict(\n",
    "            xanchor = 'right',\n",
    "            yanchor = 'bottom',\n",
    "            x=0.88, y=0.03,\n",
    "            font_size = 14,\n",
    "        ),\n",
    "        margin = dict(t=50,b=50,l=50,r=50,pad=5),\n",
    "        height = 600,\n",
    "        width = 1000,\n",
    "    )\n",
    "    fig.update_layout(\n",
    "        xaxis = dict(domain=[0, .9]),\n",
    "        yaxis = dict(\n",
    "            title_text = 'Coeficiente de Atrito Cinético',\n",
    "            title_font_color = '#636EFA',\n",
    "            tickfont_color = '#636EFA',\n",
    "            range = [0,0.5],\n",
    "            dtick = 0.5/5,\n",
    "        ),\n",
    "        yaxis2 = dict(\n",
    "            title = 'Umidade Relativa do Ar (%)',\n",
    "            title_font_color = '#00CC96',\n",
    "            tickfont_color = '#00CC96',\n",
    "            range = [20,80],\n",
    "            dtick = 60/5,\n",
    "            tick0 = 20,\n",
    "            anchor = 'free',\n",
    "            overlaying = 'y',\n",
    "            side = 'right',\n",
    "            position = 1,\n",
    "        ),\n",
    "        yaxis3 = dict(\n",
    "            title = 'Temperatura (°C)',\n",
    "            title_font_color = '#EF553B',\n",
    "            tickfont_color = '#EF553B',\n",
    "            range = [0,30],\n",
    "            dtick = 30/5,\n",
    "            anchor = 'x',\n",
    "            overlaying = 'y',\n",
    "            side = 'right',\n",
    "        ),\n",
    "    )\n",
    "    return fig"
   ]
  },
  {
   "cell_type": "code",
   "execution_count": 11,
   "metadata": {
    "scrolled": false
   },
   "outputs": [
    {
     "data": {
      "application/vnd.jupyter.widget-view+json": {
       "model_id": "1900cebe43804b24be5685d29609f518",
       "version_major": 2,
       "version_minor": 0
      },
      "text/plain": [
       "interactive(children=(Dropdown(description='key', options=('src\\\\PU_atrito\\\\Umidade_FC_001.zip', 'src\\\\PU_atri…"
      ]
     },
     "metadata": {},
     "output_type": "display_data"
    },
    {
     "data": {
      "text/plain": [
       "<function __main__.timeline_plot(key)>"
      ]
     },
     "execution_count": 11,
     "metadata": {},
     "output_type": "execute_result"
    }
   ],
   "source": [
    "interact(timeline_plot, key = list(frames.keys()))"
   ]
  },
  {
   "cell_type": "markdown",
   "metadata": {},
   "source": [
    "## Etapa 4: Salvando os Dados\n",
    "\n",
    "Os dados são comprimidos e salvos na pasta `src/combinados/`."
   ]
  },
  {
   "cell_type": "code",
   "execution_count": 12,
   "metadata": {
    "scrolled": true
   },
   "outputs": [],
   "source": [
    "i = 0\n",
    "for filename in cof_files:\n",
    "    frames[str(filename)].to_csv('src/combinados/{}'.format(filename.stem+'.gz'), compression='gzip')"
   ]
  }
 ],
 "metadata": {
  "kernelspec": {
   "display_name": "Python 3",
   "language": "python",
   "name": "python3"
  },
  "language_info": {
   "codemirror_mode": {
    "name": "ipython",
    "version": 3
   },
   "file_extension": ".py",
   "mimetype": "text/x-python",
   "name": "python",
   "nbconvert_exporter": "python",
   "pygments_lexer": "ipython3",
   "version": "3.7.6"
  }
 },
 "nbformat": 4,
 "nbformat_minor": 4
}
