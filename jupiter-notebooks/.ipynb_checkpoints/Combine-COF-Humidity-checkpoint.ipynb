{
 "cells": [
  {
   "cell_type": "code",
   "execution_count": 139,
   "metadata": {},
   "outputs": [],
   "source": [
    "import pandas as pd\n",
    "import numpy as np\n",
    "import plotly.express as px\n",
    "import plotly.graph_objects as go\n",
    "from plotly.subplots import make_subplots\n",
    "from pathlib import Path\n",
    "from os import listdir\n",
    "from os.path import isfile, join\n",
    "\n",
    "from ipywidgets import interact, widgets"
   ]
  },
  {
   "cell_type": "code",
   "execution_count": 140,
   "metadata": {},
   "outputs": [],
   "source": [
    "p = Path.home()\n",
    "cof_path = p/'OneDrive'/'Documentos'/'Python'/'Results'/'CSV'\n",
    "folders = ['PU/Umidade', 'PUEG4/Umidade', 'PP4', 'GPP11']\n",
    "cof_files = []\n",
    "for folder in folders:\n",
    "    cof_files.extend([cof_path/folder/f for f in listdir(cof_path/folder) if isfile(join(cof_path/folder, f))])\n",
    "hum_path = p/'OneDrive'/'Documentos'/'Python'/'Results'/'CSV'/'Umidade'/'umidade_combinada.csv'\n",
    "cof_summary_path = p/'OneDrive'/'Documentos'/'Python'/'Results'/'Outputs'/'Umidade'/'data.csv'\n",
    "parse_dates = ['Timestamp']"
   ]
  },
  {
   "cell_type": "code",
   "execution_count": 141,
   "metadata": {},
   "outputs": [],
   "source": [
    "hum_df = pd.read_csv(hum_path,\n",
    "                     usecols = ['Timestamp','Temperatura','Umidade'],\n",
    "                     parse_dates = parse_dates,\n",
    "                     dtype = np.float64\n",
    "                    )"
   ]
  },
  {
   "cell_type": "code",
   "execution_count": 142,
   "metadata": {},
   "outputs": [],
   "source": [
    "summary_df = pd.read_csv(cof_summary_path, parse_dates = ['Início'])"
   ]
  },
  {
   "cell_type": "code",
   "execution_count": 143,
   "metadata": {},
   "outputs": [
    {
     "data": {
      "text/html": [
       "<div>\n",
       "<style scoped>\n",
       "    .dataframe tbody tr th:only-of-type {\n",
       "        vertical-align: middle;\n",
       "    }\n",
       "\n",
       "    .dataframe tbody tr th {\n",
       "        vertical-align: top;\n",
       "    }\n",
       "\n",
       "    .dataframe thead th {\n",
       "        text-align: right;\n",
       "    }\n",
       "</style>\n",
       "<table border=\"1\" class=\"dataframe\">\n",
       "  <thead>\n",
       "    <tr style=\"text-align: right;\">\n",
       "      <th></th>\n",
       "      <th>T</th>\n",
       "      <th>COF</th>\n",
       "      <th>Timestamp</th>\n",
       "    </tr>\n",
       "  </thead>\n",
       "  <tbody>\n",
       "    <tr>\n",
       "      <th>0</th>\n",
       "      <td>0.000</td>\n",
       "      <td>0.005</td>\n",
       "      <td>2020-12-05 13:07:12.000</td>\n",
       "    </tr>\n",
       "    <tr>\n",
       "      <th>1</th>\n",
       "      <td>0.001</td>\n",
       "      <td>0.005</td>\n",
       "      <td>2020-12-05 13:07:12.001</td>\n",
       "    </tr>\n",
       "    <tr>\n",
       "      <th>2</th>\n",
       "      <td>0.002</td>\n",
       "      <td>0.005</td>\n",
       "      <td>2020-12-05 13:07:12.002</td>\n",
       "    </tr>\n",
       "    <tr>\n",
       "      <th>3</th>\n",
       "      <td>0.003</td>\n",
       "      <td>0.007</td>\n",
       "      <td>2020-12-05 13:07:12.003</td>\n",
       "    </tr>\n",
       "    <tr>\n",
       "      <th>4</th>\n",
       "      <td>0.004</td>\n",
       "      <td>0.014</td>\n",
       "      <td>2020-12-05 13:07:12.004</td>\n",
       "    </tr>\n",
       "    <tr>\n",
       "      <th>...</th>\n",
       "      <td>...</td>\n",
       "      <td>...</td>\n",
       "      <td>...</td>\n",
       "    </tr>\n",
       "    <tr>\n",
       "      <th>809044</th>\n",
       "      <td>809.044</td>\n",
       "      <td>0.307</td>\n",
       "      <td>2020-12-05 13:20:41.044</td>\n",
       "    </tr>\n",
       "    <tr>\n",
       "      <th>809045</th>\n",
       "      <td>809.045</td>\n",
       "      <td>0.342</td>\n",
       "      <td>2020-12-05 13:20:41.045</td>\n",
       "    </tr>\n",
       "    <tr>\n",
       "      <th>809046</th>\n",
       "      <td>809.046</td>\n",
       "      <td>0.364</td>\n",
       "      <td>2020-12-05 13:20:41.046</td>\n",
       "    </tr>\n",
       "    <tr>\n",
       "      <th>809047</th>\n",
       "      <td>809.047</td>\n",
       "      <td>0.350</td>\n",
       "      <td>2020-12-05 13:20:41.047</td>\n",
       "    </tr>\n",
       "    <tr>\n",
       "      <th>809048</th>\n",
       "      <td>809.048</td>\n",
       "      <td>0.331</td>\n",
       "      <td>2020-12-05 13:20:41.048</td>\n",
       "    </tr>\n",
       "  </tbody>\n",
       "</table>\n",
       "<p>809049 rows × 3 columns</p>\n",
       "</div>"
      ],
      "text/plain": [
       "              T    COF               Timestamp\n",
       "0         0.000  0.005 2020-12-05 13:07:12.000\n",
       "1         0.001  0.005 2020-12-05 13:07:12.001\n",
       "2         0.002  0.005 2020-12-05 13:07:12.002\n",
       "3         0.003  0.007 2020-12-05 13:07:12.003\n",
       "4         0.004  0.014 2020-12-05 13:07:12.004\n",
       "...         ...    ...                     ...\n",
       "809044  809.044  0.307 2020-12-05 13:20:41.044\n",
       "809045  809.045  0.342 2020-12-05 13:20:41.045\n",
       "809046  809.046  0.364 2020-12-05 13:20:41.046\n",
       "809047  809.047  0.350 2020-12-05 13:20:41.047\n",
       "809048  809.048  0.331 2020-12-05 13:20:41.048\n",
       "\n",
       "[809049 rows x 3 columns]"
      ]
     },
     "execution_count": 143,
     "metadata": {},
     "output_type": "execute_result"
    }
   ],
   "source": [
    "cof_df"
   ]
  },
  {
   "cell_type": "code",
   "execution_count": 144,
   "metadata": {},
   "outputs": [],
   "source": [
    "starts = summary_df.sort_values(by = 'Início').reset_index(drop = True)['Início']\n",
    "corr_time_diffs = pd.Timedelta(value = 50, unit = 'min') + pd.Timedelta(value = 50, unit = 'sec')"
   ]
  },
  {
   "cell_type": "code",
   "execution_count": 145,
   "metadata": {},
   "outputs": [],
   "source": [
    "frames = {}\n",
    "for i, file in enumerate(cof_files):\n",
    "    cof_df = pd.read_csv(cof_files[0],\n",
    "                     header=17,\n",
    "                     skiprows = [21],\n",
    "                     dtype = {'T': np.float64,'COF': np.float64},\n",
    "                     usecols = ['T','COF']\n",
    "                    )\n",
    "    cof_df['Timedeltas'] = pd.Timedelta(value = 1, unit = 'ms') * cof_df.index\n",
    "    cof_df['Timestamp'] = starts[i] + cof_df['Timedeltas'] - corr_time_diffs\n",
    "    if i < 10:\n",
    "        cof_df['Timestamp'] = starts[i] + cof_df['Timedeltas'] - corr_time_diffs - pd.Timedelta(value = 12, unit = 'min')\n",
    "    cof_df = cof_df.drop(columns = 'Timedeltas')\n",
    "    frames[str(file)] = cof_df"
   ]
  },
  {
   "cell_type": "code",
   "execution_count": 146,
   "metadata": {},
   "outputs": [
    {
     "data": {
      "application/vnd.jupyter.widget-view+json": {
       "model_id": "f1d49d6284e04bf990cf502d96ca5524",
       "version_major": 2,
       "version_minor": 0
      },
      "text/plain": [
       "interactive(children=(Dropdown(description='key', options=('C:\\\\Users\\\\Caio\\\\OneDrive\\\\Documentos\\\\Python\\\\Res…"
      ]
     },
     "metadata": {},
     "output_type": "display_data"
    },
    {
     "data": {
      "text/plain": [
       "<function __main__.<lambda>(key)>"
      ]
     },
     "execution_count": 146,
     "metadata": {},
     "output_type": "execute_result"
    }
   ],
   "source": [
    "interact(lambda key: frames[key], key = list(frames.keys()))"
   ]
  },
  {
   "cell_type": "code",
   "execution_count": 147,
   "metadata": {},
   "outputs": [],
   "source": [
    "dfs = {}\n",
    "for key, frame in frames.items():\n",
    "    df = frame.set_index('Timestamp').join(hum_df.set_index('Timestamp'))\n",
    "    dfs[key] = df.reset_index()"
   ]
  },
  {
   "cell_type": "code",
   "execution_count": 148,
   "metadata": {},
   "outputs": [
    {
     "data": {
      "application/vnd.jupyter.widget-view+json": {
       "model_id": "f3e6821b8cf547b9868908d437c2288d",
       "version_major": 2,
       "version_minor": 0
      },
      "text/plain": [
       "interactive(children=(Dropdown(description='key', options=('C:\\\\Users\\\\Caio\\\\OneDrive\\\\Documentos\\\\Python\\\\Res…"
      ]
     },
     "metadata": {},
     "output_type": "display_data"
    },
    {
     "data": {
      "text/plain": [
       "<function __main__.<lambda>(key)>"
      ]
     },
     "execution_count": 148,
     "metadata": {},
     "output_type": "execute_result"
    }
   ],
   "source": [
    "interact(lambda key: dfs[key], key = list(dfs.keys()))"
   ]
  },
  {
   "cell_type": "code",
   "execution_count": 149,
   "metadata": {},
   "outputs": [],
   "source": [
    "def timeline_plot(key):\n",
    "    df = dfs[key]\n",
    "    df = df.sort_values(by = 'Timestamp')\n",
    "    dff = df.sample(frac = 0.001).sort_values(by = 'Timestamp')\n",
    "    df = df.dropna(axis = 'index')\n",
    "    fig = make_subplots(specs=[[{\"secondary_y\": True}]])\n",
    "    fig.add_trace(go.Scatter(\n",
    "        x=dff['Timestamp'], \n",
    "        y=dff['COF'],\n",
    "        mode = 'lines',\n",
    "        name = 'COF',\n",
    "        marker_color = 'red',\n",
    "        legendgroup = 'COF',\n",
    "         ),\n",
    "        secondary_y = True,)\n",
    "    fig.add_trace(go.Scatter(   \n",
    "        x=df['Timestamp'],           \n",
    "        y=df['Umidade'],            \n",
    "        mode = 'lines',\n",
    "        name = 'Umidade',\n",
    "        marker_color = 'blue',\n",
    "        legendgroup = 'Umidade',\n",
    "         ),\n",
    "        secondary_y = False,)\n",
    "    fig.update_yaxes(title_text = 'COF (-)',\n",
    "                     title_font_color = 'red',\n",
    "                     range = [0,1],\n",
    "                     secondary_y = True) #only temperature\n",
    "    fig.update_yaxes(title_text = 'Umidade Relativa (%)',\n",
    "                     title_font_color = 'blue',\n",
    "                     range = [0,100],\n",
    "                     secondary_y = False) #only humidity\n",
    "    fig.update_layout(template = 'plotly')\n",
    "    return fig"
   ]
  },
  {
   "cell_type": "code",
   "execution_count": 150,
   "metadata": {
    "scrolled": false
   },
   "outputs": [
    {
     "data": {
      "application/vnd.jupyter.widget-view+json": {
       "model_id": "41b5ad2a8c944b508341ea876ae5a86e",
       "version_major": 2,
       "version_minor": 0
      },
      "text/plain": [
       "interactive(children=(Dropdown(description='key', options=('C:\\\\Users\\\\Caio\\\\OneDrive\\\\Documentos\\\\Python\\\\Res…"
      ]
     },
     "metadata": {},
     "output_type": "display_data"
    },
    {
     "data": {
      "text/plain": [
       "<function __main__.timeline_plot(key)>"
      ]
     },
     "execution_count": 150,
     "metadata": {},
     "output_type": "execute_result"
    }
   ],
   "source": [
    "interact(timeline_plot, key = list(dfs.keys()))"
   ]
  }
 ],
 "metadata": {
  "kernelspec": {
   "display_name": "Python 3",
   "language": "python",
   "name": "python3"
  },
  "language_info": {
   "codemirror_mode": {
    "name": "ipython",
    "version": 3
   },
   "file_extension": ".py",
   "mimetype": "text/x-python",
   "name": "python",
   "nbconvert_exporter": "python",
   "pygments_lexer": "ipython3",
   "version": "3.7.6"
  }
 },
 "nbformat": 4,
 "nbformat_minor": 4
}
