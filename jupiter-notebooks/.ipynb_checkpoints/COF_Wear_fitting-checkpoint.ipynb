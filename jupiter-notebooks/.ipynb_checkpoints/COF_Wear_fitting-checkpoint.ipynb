{
 "cells": [
  {
   "cell_type": "markdown",
   "metadata": {},
   "source": [
    "# Visualização de Resultados\n",
    "## Largura de desgaste"
   ]
  },
  {
   "cell_type": "code",
   "execution_count": 77,
   "metadata": {},
   "outputs": [],
   "source": [
    "import plotly.express as px\n",
    "import plotly.graph_objects as go\n",
    "import plotly.io as pio #graph output\n",
    "\n",
    "import pandas as pd\n",
    "pd.options.plotting.backend = \"plotly\"\n",
    "import numpy as np"
   ]
  },
  {
   "cell_type": "code",
   "execution_count": 78,
   "metadata": {},
   "outputs": [],
   "source": [
    "filename = r'C:\\Users\\Caio\\OneDrive\\Documentos\\Python\\Results\\Excel\\Resultados Largura de Desgaste.xlsx'\n",
    "\n",
    "df = pd.read_excel(filename) "
   ]
  },
  {
   "cell_type": "code",
   "execution_count": 79,
   "metadata": {},
   "outputs": [],
   "source": [
    "filename = r'C:\\Users\\Caio\\OneDrive\\Documentos\\Python\\Results\\CSV\\Compilado\\reciprocating_data.csv'\n",
    "\n",
    "df2 = pd.read_csv(filename)"
   ]
  },
  {
   "cell_type": "code",
   "execution_count": 80,
   "metadata": {},
   "outputs": [],
   "source": [
    "df['Largura Média'] = df[['Largura 1', 'Largura 2', 'Largura 3']].mean(1)\n",
    "df['Largura Desv. Pad.'] = df[['Largura 1', 'Largura 2', 'Largura 3']].std(1)\n",
    "df['Ensaio - Geral'] = 12*df['EG']+df['Ensaio']\n",
    "df.sort_values(by = ['EG', 'Força Normal', 'Frequência'], inplace = True)"
   ]
  },
  {
   "cell_type": "code",
   "execution_count": 243,
   "metadata": {},
   "outputs": [
    {
     "data": {
      "text/html": [
       "<div>\n",
       "<style scoped>\n",
       "    .dataframe tbody tr th:only-of-type {\n",
       "        vertical-align: middle;\n",
       "    }\n",
       "\n",
       "    .dataframe tbody tr th {\n",
       "        vertical-align: top;\n",
       "    }\n",
       "\n",
       "    .dataframe thead th {\n",
       "        text-align: right;\n",
       "    }\n",
       "</style>\n",
       "<table border=\"1\" class=\"dataframe\">\n",
       "  <thead>\n",
       "    <tr style=\"text-align: right;\">\n",
       "      <th></th>\n",
       "      <th>Foto</th>\n",
       "      <th>PU</th>\n",
       "      <th>EG</th>\n",
       "      <th>Posição</th>\n",
       "      <th>Ensaio</th>\n",
       "      <th>Largura 1</th>\n",
       "      <th>Largura 2</th>\n",
       "      <th>Largura 3</th>\n",
       "      <th>Força Normal</th>\n",
       "      <th>Frequência</th>\n",
       "      <th>Largura Média</th>\n",
       "      <th>Largura Desv. Pad.</th>\n",
       "      <th>Ensaio - Geral</th>\n",
       "      <th>Intercept</th>\n",
       "    </tr>\n",
       "  </thead>\n",
       "  <tbody>\n",
       "    <tr>\n",
       "      <th>56</th>\n",
       "      <td>NaN</td>\n",
       "      <td>100</td>\n",
       "      <td>0</td>\n",
       "      <td>Meio</td>\n",
       "      <td>4</td>\n",
       "      <td>264.30</td>\n",
       "      <td>NaN</td>\n",
       "      <td>NaN</td>\n",
       "      <td>2.5</td>\n",
       "      <td>2</td>\n",
       "      <td>264.300000</td>\n",
       "      <td>NaN</td>\n",
       "      <td>4</td>\n",
       "      <td>1</td>\n",
       "    </tr>\n",
       "    <tr>\n",
       "      <th>62</th>\n",
       "      <td>NaN</td>\n",
       "      <td>100</td>\n",
       "      <td>0</td>\n",
       "      <td>Meio</td>\n",
       "      <td>10</td>\n",
       "      <td>262.40</td>\n",
       "      <td>NaN</td>\n",
       "      <td>NaN</td>\n",
       "      <td>2.5</td>\n",
       "      <td>2</td>\n",
       "      <td>262.400000</td>\n",
       "      <td>NaN</td>\n",
       "      <td>10</td>\n",
       "      <td>1</td>\n",
       "    </tr>\n",
       "    <tr>\n",
       "      <th>57</th>\n",
       "      <td>NaN</td>\n",
       "      <td>100</td>\n",
       "      <td>0</td>\n",
       "      <td>Meio</td>\n",
       "      <td>5</td>\n",
       "      <td>255.10</td>\n",
       "      <td>NaN</td>\n",
       "      <td>NaN</td>\n",
       "      <td>2.5</td>\n",
       "      <td>4</td>\n",
       "      <td>255.100000</td>\n",
       "      <td>NaN</td>\n",
       "      <td>5</td>\n",
       "      <td>1</td>\n",
       "    </tr>\n",
       "    <tr>\n",
       "      <th>58</th>\n",
       "      <td>NaN</td>\n",
       "      <td>100</td>\n",
       "      <td>0</td>\n",
       "      <td>Meio</td>\n",
       "      <td>6</td>\n",
       "      <td>241.30</td>\n",
       "      <td>NaN</td>\n",
       "      <td>NaN</td>\n",
       "      <td>2.5</td>\n",
       "      <td>4</td>\n",
       "      <td>241.300000</td>\n",
       "      <td>NaN</td>\n",
       "      <td>6</td>\n",
       "      <td>1</td>\n",
       "    </tr>\n",
       "    <tr>\n",
       "      <th>59</th>\n",
       "      <td>NaN</td>\n",
       "      <td>100</td>\n",
       "      <td>0</td>\n",
       "      <td>Meio</td>\n",
       "      <td>7</td>\n",
       "      <td>324.80</td>\n",
       "      <td>NaN</td>\n",
       "      <td>NaN</td>\n",
       "      <td>5.0</td>\n",
       "      <td>2</td>\n",
       "      <td>324.800000</td>\n",
       "      <td>NaN</td>\n",
       "      <td>7</td>\n",
       "      <td>1</td>\n",
       "    </tr>\n",
       "    <tr>\n",
       "      <th>...</th>\n",
       "      <td>...</td>\n",
       "      <td>...</td>\n",
       "      <td>...</td>\n",
       "      <td>...</td>\n",
       "      <td>...</td>\n",
       "      <td>...</td>\n",
       "      <td>...</td>\n",
       "      <td>...</td>\n",
       "      <td>...</td>\n",
       "      <td>...</td>\n",
       "      <td>...</td>\n",
       "      <td>...</td>\n",
       "      <td>...</td>\n",
       "      <td>...</td>\n",
       "    </tr>\n",
       "    <tr>\n",
       "      <th>30</th>\n",
       "      <td>PU+2GE-5-b</td>\n",
       "      <td>99</td>\n",
       "      <td>2</td>\n",
       "      <td>Meio</td>\n",
       "      <td>5</td>\n",
       "      <td>462.45</td>\n",
       "      <td>473.94</td>\n",
       "      <td>455.11</td>\n",
       "      <td>8.0</td>\n",
       "      <td>4</td>\n",
       "      <td>463.833333</td>\n",
       "      <td>9.490913</td>\n",
       "      <td>29</td>\n",
       "      <td>1</td>\n",
       "    </tr>\n",
       "    <tr>\n",
       "      <th>31</th>\n",
       "      <td>PU+2GE-5-c</td>\n",
       "      <td>99</td>\n",
       "      <td>2</td>\n",
       "      <td>Ponta</td>\n",
       "      <td>5</td>\n",
       "      <td>452.33</td>\n",
       "      <td>474.99</td>\n",
       "      <td>486.47</td>\n",
       "      <td>8.0</td>\n",
       "      <td>4</td>\n",
       "      <td>471.263333</td>\n",
       "      <td>17.372419</td>\n",
       "      <td>29</td>\n",
       "      <td>1</td>\n",
       "    </tr>\n",
       "    <tr>\n",
       "      <th>38</th>\n",
       "      <td>PU+2GE-8-a</td>\n",
       "      <td>99</td>\n",
       "      <td>2</td>\n",
       "      <td>Ponta</td>\n",
       "      <td>8</td>\n",
       "      <td>463.71</td>\n",
       "      <td>462.39</td>\n",
       "      <td>439.37</td>\n",
       "      <td>8.0</td>\n",
       "      <td>4</td>\n",
       "      <td>455.156667</td>\n",
       "      <td>13.687576</td>\n",
       "      <td>32</td>\n",
       "      <td>1</td>\n",
       "    </tr>\n",
       "    <tr>\n",
       "      <th>39</th>\n",
       "      <td>PU+2GE-8-b</td>\n",
       "      <td>99</td>\n",
       "      <td>2</td>\n",
       "      <td>Meio</td>\n",
       "      <td>8</td>\n",
       "      <td>439.68</td>\n",
       "      <td>453.71</td>\n",
       "      <td>442.21</td>\n",
       "      <td>8.0</td>\n",
       "      <td>4</td>\n",
       "      <td>445.200000</td>\n",
       "      <td>7.477653</td>\n",
       "      <td>32</td>\n",
       "      <td>1</td>\n",
       "    </tr>\n",
       "    <tr>\n",
       "      <th>40</th>\n",
       "      <td>PU+2GE-8-c</td>\n",
       "      <td>99</td>\n",
       "      <td>2</td>\n",
       "      <td>Ponta</td>\n",
       "      <td>8</td>\n",
       "      <td>454.86</td>\n",
       "      <td>457.23</td>\n",
       "      <td>464.92</td>\n",
       "      <td>8.0</td>\n",
       "      <td>4</td>\n",
       "      <td>459.003333</td>\n",
       "      <td>5.259224</td>\n",
       "      <td>32</td>\n",
       "      <td>1</td>\n",
       "    </tr>\n",
       "  </tbody>\n",
       "</table>\n",
       "<p>65 rows × 14 columns</p>\n",
       "</div>"
      ],
      "text/plain": [
       "          Foto   PU  EG Posição  Ensaio  Largura 1  Largura 2  Largura 3  \\\n",
       "56         NaN  100   0    Meio       4     264.30        NaN        NaN   \n",
       "62         NaN  100   0    Meio      10     262.40        NaN        NaN   \n",
       "57         NaN  100   0    Meio       5     255.10        NaN        NaN   \n",
       "58         NaN  100   0    Meio       6     241.30        NaN        NaN   \n",
       "59         NaN  100   0    Meio       7     324.80        NaN        NaN   \n",
       "..         ...  ...  ..     ...     ...        ...        ...        ...   \n",
       "30  PU+2GE-5-b   99   2    Meio       5     462.45     473.94     455.11   \n",
       "31  PU+2GE-5-c   99   2   Ponta       5     452.33     474.99     486.47   \n",
       "38  PU+2GE-8-a   99   2   Ponta       8     463.71     462.39     439.37   \n",
       "39  PU+2GE-8-b   99   2    Meio       8     439.68     453.71     442.21   \n",
       "40  PU+2GE-8-c   99   2   Ponta       8     454.86     457.23     464.92   \n",
       "\n",
       "    Força Normal  Frequência  Largura Média  Largura Desv. Pad.  \\\n",
       "56           2.5           2     264.300000                 NaN   \n",
       "62           2.5           2     262.400000                 NaN   \n",
       "57           2.5           4     255.100000                 NaN   \n",
       "58           2.5           4     241.300000                 NaN   \n",
       "59           5.0           2     324.800000                 NaN   \n",
       "..           ...         ...            ...                 ...   \n",
       "30           8.0           4     463.833333            9.490913   \n",
       "31           8.0           4     471.263333           17.372419   \n",
       "38           8.0           4     455.156667           13.687576   \n",
       "39           8.0           4     445.200000            7.477653   \n",
       "40           8.0           4     459.003333            5.259224   \n",
       "\n",
       "    Ensaio - Geral  Intercept  \n",
       "56               4          1  \n",
       "62              10          1  \n",
       "57               5          1  \n",
       "58               6          1  \n",
       "59               7          1  \n",
       "..             ...        ...  \n",
       "30              29          1  \n",
       "31              29          1  \n",
       "38              32          1  \n",
       "39              32          1  \n",
       "40              32          1  \n",
       "\n",
       "[65 rows x 14 columns]"
      ]
     },
     "execution_count": 243,
     "metadata": {},
     "output_type": "execute_result"
    }
   ],
   "source": [
    "ndf"
   ]
  },
  {
   "cell_type": "code",
   "execution_count": 82,
   "metadata": {},
   "outputs": [],
   "source": [
    "mat = {'PU': 0,\n",
    "       'PUEG1': 1,\n",
    "       'PUEG2': 2\n",
    "      }\n",
    "for material in df2['Material'].unique():\n",
    "    df2.loc[df2['Material']==material,'EG'] = mat[material]\n",
    "    df2.loc[df2['Material']==material,'PU'] = 100-mat[material]"
   ]
  },
  {
   "cell_type": "code",
   "execution_count": 102,
   "metadata": {},
   "outputs": [],
   "source": [
    "for m in df['EG'].unique():\n",
    "    for f in df['Força Normal'].unique():\n",
    "        for fr in df['Frequência'].unique():\n",
    "            mask = (df['EG']==m)&(df['Força Normal']==f)&(df['Frequência']==fr)\n",
    "            mask2 = (df2['EG']==m)&(df2['Força Normal (N)']==f)&(df2['Frequência (Hz)']==fr)\n",
    "            df2.loc[mask2,'Ensaio - Geral'] = df.loc[mask,'Ensaio - Geral'].unique()"
   ]
  },
  {
   "cell_type": "code",
   "execution_count": 111,
   "metadata": {},
   "outputs": [],
   "source": [
    "for ensaio in df['Ensaio - Geral'].unique():\n",
    "    df2.loc[df2['Ensaio - Geral']==ensaio,'Largura Média'] = df.loc[df['Ensaio - Geral']==ensaio,'Largura Média'].mean()"
   ]
  },
  {
   "cell_type": "code",
   "execution_count": 113,
   "metadata": {},
   "outputs": [],
   "source": [
    "df2.columns = ['indice',\n",
    "               'Material',\n",
    "               'Força Normal',\n",
    "               'Frequência',\n",
    "               'Distância',\n",
    "               'COF Médio',\n",
    "               'COF Desv. Pad.',\n",
    "               'EG',\n",
    "               'PU',\n",
    "               'Ensaio - Geral',\n",
    "               'Largura Média']"
   ]
  },
  {
   "cell_type": "code",
   "execution_count": 147,
   "metadata": {},
   "outputs": [
    {
     "data": {
      "text/html": [
       "<div>\n",
       "<style scoped>\n",
       "    .dataframe tbody tr th:only-of-type {\n",
       "        vertical-align: middle;\n",
       "    }\n",
       "\n",
       "    .dataframe tbody tr th {\n",
       "        vertical-align: top;\n",
       "    }\n",
       "\n",
       "    .dataframe thead th {\n",
       "        text-align: right;\n",
       "    }\n",
       "</style>\n",
       "<table border=\"1\" class=\"dataframe\">\n",
       "  <thead>\n",
       "    <tr style=\"text-align: right;\">\n",
       "      <th></th>\n",
       "      <th>indice</th>\n",
       "      <th>Material</th>\n",
       "      <th>Força Normal</th>\n",
       "      <th>Frequência</th>\n",
       "      <th>Distância</th>\n",
       "      <th>COF Médio</th>\n",
       "      <th>COF Desv. Pad.</th>\n",
       "      <th>EG</th>\n",
       "      <th>PU</th>\n",
       "      <th>Ensaio - Geral</th>\n",
       "      <th>Largura Média</th>\n",
       "    </tr>\n",
       "  </thead>\n",
       "  <tbody>\n",
       "    <tr>\n",
       "      <th>0</th>\n",
       "      <td>0</td>\n",
       "      <td>PU</td>\n",
       "      <td>2.50</td>\n",
       "      <td>2.0</td>\n",
       "      <td>30.0</td>\n",
       "      <td>0.253219</td>\n",
       "      <td>0.018631</td>\n",
       "      <td>0.0</td>\n",
       "      <td>100.0</td>\n",
       "      <td>4.0</td>\n",
       "      <td>264.300000</td>\n",
       "    </tr>\n",
       "    <tr>\n",
       "      <th>1</th>\n",
       "      <td>1</td>\n",
       "      <td>PU</td>\n",
       "      <td>2.50</td>\n",
       "      <td>4.0</td>\n",
       "      <td>30.0</td>\n",
       "      <td>0.406186</td>\n",
       "      <td>0.023616</td>\n",
       "      <td>0.0</td>\n",
       "      <td>100.0</td>\n",
       "      <td>5.0</td>\n",
       "      <td>255.100000</td>\n",
       "    </tr>\n",
       "    <tr>\n",
       "      <th>2</th>\n",
       "      <td>2</td>\n",
       "      <td>PU</td>\n",
       "      <td>5.00</td>\n",
       "      <td>2.0</td>\n",
       "      <td>30.0</td>\n",
       "      <td>0.310460</td>\n",
       "      <td>0.020355</td>\n",
       "      <td>0.0</td>\n",
       "      <td>100.0</td>\n",
       "      <td>7.0</td>\n",
       "      <td>324.800000</td>\n",
       "    </tr>\n",
       "    <tr>\n",
       "      <th>3</th>\n",
       "      <td>3</td>\n",
       "      <td>PU</td>\n",
       "      <td>5.00</td>\n",
       "      <td>4.0</td>\n",
       "      <td>30.0</td>\n",
       "      <td>0.310110</td>\n",
       "      <td>0.010158</td>\n",
       "      <td>0.0</td>\n",
       "      <td>100.0</td>\n",
       "      <td>2.0</td>\n",
       "      <td>329.200000</td>\n",
       "    </tr>\n",
       "    <tr>\n",
       "      <th>4</th>\n",
       "      <td>4</td>\n",
       "      <td>PU</td>\n",
       "      <td>8.00</td>\n",
       "      <td>2.0</td>\n",
       "      <td>30.0</td>\n",
       "      <td>0.242132</td>\n",
       "      <td>0.016337</td>\n",
       "      <td>0.0</td>\n",
       "      <td>100.0</td>\n",
       "      <td>8.0</td>\n",
       "      <td>413.500000</td>\n",
       "    </tr>\n",
       "    <tr>\n",
       "      <th>5</th>\n",
       "      <td>5</td>\n",
       "      <td>PU</td>\n",
       "      <td>8.00</td>\n",
       "      <td>4.0</td>\n",
       "      <td>30.0</td>\n",
       "      <td>0.238020</td>\n",
       "      <td>0.015080</td>\n",
       "      <td>0.0</td>\n",
       "      <td>100.0</td>\n",
       "      <td>1.0</td>\n",
       "      <td>389.600000</td>\n",
       "    </tr>\n",
       "    <tr>\n",
       "      <th>6</th>\n",
       "      <td>6</td>\n",
       "      <td>PU</td>\n",
       "      <td>2.50</td>\n",
       "      <td>2.0</td>\n",
       "      <td>30.0</td>\n",
       "      <td>0.268530</td>\n",
       "      <td>0.019913</td>\n",
       "      <td>0.0</td>\n",
       "      <td>100.0</td>\n",
       "      <td>10.0</td>\n",
       "      <td>262.400000</td>\n",
       "    </tr>\n",
       "    <tr>\n",
       "      <th>7</th>\n",
       "      <td>7</td>\n",
       "      <td>PU</td>\n",
       "      <td>2.50</td>\n",
       "      <td>4.0</td>\n",
       "      <td>30.0</td>\n",
       "      <td>0.403931</td>\n",
       "      <td>0.028861</td>\n",
       "      <td>0.0</td>\n",
       "      <td>100.0</td>\n",
       "      <td>6.0</td>\n",
       "      <td>241.300000</td>\n",
       "    </tr>\n",
       "    <tr>\n",
       "      <th>8</th>\n",
       "      <td>8</td>\n",
       "      <td>PU</td>\n",
       "      <td>5.00</td>\n",
       "      <td>2.0</td>\n",
       "      <td>30.0</td>\n",
       "      <td>0.229576</td>\n",
       "      <td>0.021822</td>\n",
       "      <td>0.0</td>\n",
       "      <td>100.0</td>\n",
       "      <td>11.0</td>\n",
       "      <td>321.000000</td>\n",
       "    </tr>\n",
       "    <tr>\n",
       "      <th>9</th>\n",
       "      <td>9</td>\n",
       "      <td>PU</td>\n",
       "      <td>5.00</td>\n",
       "      <td>4.0</td>\n",
       "      <td>30.0</td>\n",
       "      <td>0.285305</td>\n",
       "      <td>0.014574</td>\n",
       "      <td>0.0</td>\n",
       "      <td>100.0</td>\n",
       "      <td>3.0</td>\n",
       "      <td>339.400000</td>\n",
       "    </tr>\n",
       "    <tr>\n",
       "      <th>10</th>\n",
       "      <td>10</td>\n",
       "      <td>PU</td>\n",
       "      <td>8.00</td>\n",
       "      <td>2.0</td>\n",
       "      <td>30.0</td>\n",
       "      <td>0.223851</td>\n",
       "      <td>0.013416</td>\n",
       "      <td>0.0</td>\n",
       "      <td>100.0</td>\n",
       "      <td>9.0</td>\n",
       "      <td>384.700000</td>\n",
       "    </tr>\n",
       "    <tr>\n",
       "      <th>11</th>\n",
       "      <td>11</td>\n",
       "      <td>PU</td>\n",
       "      <td>8.00</td>\n",
       "      <td>4.0</td>\n",
       "      <td>30.0</td>\n",
       "      <td>0.211569</td>\n",
       "      <td>0.014948</td>\n",
       "      <td>0.0</td>\n",
       "      <td>100.0</td>\n",
       "      <td>12.0</td>\n",
       "      <td>408.000000</td>\n",
       "    </tr>\n",
       "    <tr>\n",
       "      <th>12</th>\n",
       "      <td>12</td>\n",
       "      <td>PUEG1</td>\n",
       "      <td>8.00</td>\n",
       "      <td>4.0</td>\n",
       "      <td>30.0</td>\n",
       "      <td>0.139746</td>\n",
       "      <td>0.011856</td>\n",
       "      <td>1.0</td>\n",
       "      <td>99.0</td>\n",
       "      <td>13.0</td>\n",
       "      <td>412.230556</td>\n",
       "    </tr>\n",
       "    <tr>\n",
       "      <th>13</th>\n",
       "      <td>13</td>\n",
       "      <td>PUEG1</td>\n",
       "      <td>5.00</td>\n",
       "      <td>2.0</td>\n",
       "      <td>30.0</td>\n",
       "      <td>0.156586</td>\n",
       "      <td>0.015388</td>\n",
       "      <td>1.0</td>\n",
       "      <td>99.0</td>\n",
       "      <td>14.0</td>\n",
       "      <td>321.123333</td>\n",
       "    </tr>\n",
       "    <tr>\n",
       "      <th>14</th>\n",
       "      <td>14</td>\n",
       "      <td>PUEG1</td>\n",
       "      <td>5.00</td>\n",
       "      <td>4.0</td>\n",
       "      <td>30.0</td>\n",
       "      <td>0.153966</td>\n",
       "      <td>0.019922</td>\n",
       "      <td>1.0</td>\n",
       "      <td>99.0</td>\n",
       "      <td>15.0</td>\n",
       "      <td>316.023333</td>\n",
       "    </tr>\n",
       "    <tr>\n",
       "      <th>15</th>\n",
       "      <td>15</td>\n",
       "      <td>PUEG1</td>\n",
       "      <td>2.50</td>\n",
       "      <td>4.0</td>\n",
       "      <td>30.0</td>\n",
       "      <td>0.190053</td>\n",
       "      <td>0.015023</td>\n",
       "      <td>1.0</td>\n",
       "      <td>99.0</td>\n",
       "      <td>21.0</td>\n",
       "      <td>258.245000</td>\n",
       "    </tr>\n",
       "    <tr>\n",
       "      <th>16</th>\n",
       "      <td>16</td>\n",
       "      <td>PUEG1</td>\n",
       "      <td>2.50</td>\n",
       "      <td>2.0</td>\n",
       "      <td>30.0</td>\n",
       "      <td>0.171088</td>\n",
       "      <td>0.014856</td>\n",
       "      <td>1.0</td>\n",
       "      <td>99.0</td>\n",
       "      <td>17.0</td>\n",
       "      <td>273.958889</td>\n",
       "    </tr>\n",
       "    <tr>\n",
       "      <th>17</th>\n",
       "      <td>17</td>\n",
       "      <td>PUEG1</td>\n",
       "      <td>8.00</td>\n",
       "      <td>2.0</td>\n",
       "      <td>30.0</td>\n",
       "      <td>0.194731</td>\n",
       "      <td>0.008617</td>\n",
       "      <td>1.0</td>\n",
       "      <td>99.0</td>\n",
       "      <td>18.0</td>\n",
       "      <td>452.421111</td>\n",
       "    </tr>\n",
       "    <tr>\n",
       "      <th>18</th>\n",
       "      <td>18</td>\n",
       "      <td>PUEG1</td>\n",
       "      <td>8.00</td>\n",
       "      <td>4.0</td>\n",
       "      <td>30.0</td>\n",
       "      <td>0.153985</td>\n",
       "      <td>0.013713</td>\n",
       "      <td>1.0</td>\n",
       "      <td>99.0</td>\n",
       "      <td>19.0</td>\n",
       "      <td>440.540000</td>\n",
       "    </tr>\n",
       "    <tr>\n",
       "      <th>19</th>\n",
       "      <td>19</td>\n",
       "      <td>PUEG1</td>\n",
       "      <td>5.00</td>\n",
       "      <td>4.0</td>\n",
       "      <td>30.0</td>\n",
       "      <td>0.169516</td>\n",
       "      <td>0.010749</td>\n",
       "      <td>1.0</td>\n",
       "      <td>99.0</td>\n",
       "      <td>20.0</td>\n",
       "      <td>348.367778</td>\n",
       "    </tr>\n",
       "    <tr>\n",
       "      <th>20</th>\n",
       "      <td>20</td>\n",
       "      <td>PUEG1</td>\n",
       "      <td>2.50</td>\n",
       "      <td>4.0</td>\n",
       "      <td>30.0</td>\n",
       "      <td>0.275818</td>\n",
       "      <td>0.021140</td>\n",
       "      <td>1.0</td>\n",
       "      <td>99.0</td>\n",
       "      <td>21.0</td>\n",
       "      <td>258.245000</td>\n",
       "    </tr>\n",
       "    <tr>\n",
       "      <th>21</th>\n",
       "      <td>21</td>\n",
       "      <td>PUEG1</td>\n",
       "      <td>5.00</td>\n",
       "      <td>2.0</td>\n",
       "      <td>30.0</td>\n",
       "      <td>0.233601</td>\n",
       "      <td>0.010018</td>\n",
       "      <td>1.0</td>\n",
       "      <td>99.0</td>\n",
       "      <td>22.0</td>\n",
       "      <td>350.020000</td>\n",
       "    </tr>\n",
       "    <tr>\n",
       "      <th>22</th>\n",
       "      <td>22</td>\n",
       "      <td>PUEG1</td>\n",
       "      <td>2.50</td>\n",
       "      <td>2.0</td>\n",
       "      <td>30.0</td>\n",
       "      <td>0.224888</td>\n",
       "      <td>0.019259</td>\n",
       "      <td>1.0</td>\n",
       "      <td>99.0</td>\n",
       "      <td>23.0</td>\n",
       "      <td>274.915556</td>\n",
       "    </tr>\n",
       "    <tr>\n",
       "      <th>23</th>\n",
       "      <td>23</td>\n",
       "      <td>PUEG1</td>\n",
       "      <td>8.00</td>\n",
       "      <td>2.0</td>\n",
       "      <td>30.0</td>\n",
       "      <td>0.101855</td>\n",
       "      <td>0.011846</td>\n",
       "      <td>1.0</td>\n",
       "      <td>99.0</td>\n",
       "      <td>24.0</td>\n",
       "      <td>423.068889</td>\n",
       "    </tr>\n",
       "    <tr>\n",
       "      <th>24</th>\n",
       "      <td>24</td>\n",
       "      <td>PUEG2</td>\n",
       "      <td>5.00</td>\n",
       "      <td>4.0</td>\n",
       "      <td>30.0</td>\n",
       "      <td>0.172368</td>\n",
       "      <td>0.014938</td>\n",
       "      <td>2.0</td>\n",
       "      <td>98.0</td>\n",
       "      <td>31.0</td>\n",
       "      <td>366.702222</td>\n",
       "    </tr>\n",
       "    <tr>\n",
       "      <th>25</th>\n",
       "      <td>25</td>\n",
       "      <td>PUEG2</td>\n",
       "      <td>5.00</td>\n",
       "      <td>2.0</td>\n",
       "      <td>30.0</td>\n",
       "      <td>0.189202</td>\n",
       "      <td>0.011526</td>\n",
       "      <td>2.0</td>\n",
       "      <td>98.0</td>\n",
       "      <td>35.0</td>\n",
       "      <td>374.928889</td>\n",
       "    </tr>\n",
       "    <tr>\n",
       "      <th>26</th>\n",
       "      <td>26</td>\n",
       "      <td>PUEG2</td>\n",
       "      <td>2.50</td>\n",
       "      <td>2.0</td>\n",
       "      <td>30.0</td>\n",
       "      <td>0.222596</td>\n",
       "      <td>0.013723</td>\n",
       "      <td>2.0</td>\n",
       "      <td>98.0</td>\n",
       "      <td>33.0</td>\n",
       "      <td>294.324444</td>\n",
       "    </tr>\n",
       "    <tr>\n",
       "      <th>27</th>\n",
       "      <td>27</td>\n",
       "      <td>PUEG2</td>\n",
       "      <td>2.50</td>\n",
       "      <td>4.0</td>\n",
       "      <td>30.0</td>\n",
       "      <td>0.218876</td>\n",
       "      <td>0.015872</td>\n",
       "      <td>2.0</td>\n",
       "      <td>98.0</td>\n",
       "      <td>34.0</td>\n",
       "      <td>282.570000</td>\n",
       "    </tr>\n",
       "    <tr>\n",
       "      <th>28</th>\n",
       "      <td>28</td>\n",
       "      <td>PUEG2</td>\n",
       "      <td>8.00</td>\n",
       "      <td>4.0</td>\n",
       "      <td>30.0</td>\n",
       "      <td>0.160592</td>\n",
       "      <td>0.031817</td>\n",
       "      <td>2.0</td>\n",
       "      <td>98.0</td>\n",
       "      <td>29.0</td>\n",
       "      <td>474.934444</td>\n",
       "    </tr>\n",
       "    <tr>\n",
       "      <th>29</th>\n",
       "      <td>29</td>\n",
       "      <td>PUEG2</td>\n",
       "      <td>8.00</td>\n",
       "      <td>2.0</td>\n",
       "      <td>30.0</td>\n",
       "      <td>0.208408</td>\n",
       "      <td>0.025501</td>\n",
       "      <td>2.0</td>\n",
       "      <td>98.0</td>\n",
       "      <td>30.0</td>\n",
       "      <td>472.467778</td>\n",
       "    </tr>\n",
       "    <tr>\n",
       "      <th>30</th>\n",
       "      <td>30</td>\n",
       "      <td>PUEG2</td>\n",
       "      <td>5.00</td>\n",
       "      <td>4.0</td>\n",
       "      <td>30.0</td>\n",
       "      <td>0.159418</td>\n",
       "      <td>0.007501</td>\n",
       "      <td>2.0</td>\n",
       "      <td>98.0</td>\n",
       "      <td>31.0</td>\n",
       "      <td>366.702222</td>\n",
       "    </tr>\n",
       "    <tr>\n",
       "      <th>31</th>\n",
       "      <td>31</td>\n",
       "      <td>PUEG2</td>\n",
       "      <td>8.00</td>\n",
       "      <td>4.0</td>\n",
       "      <td>30.0</td>\n",
       "      <td>0.139402</td>\n",
       "      <td>0.009366</td>\n",
       "      <td>2.0</td>\n",
       "      <td>98.0</td>\n",
       "      <td>32.0</td>\n",
       "      <td>453.120000</td>\n",
       "    </tr>\n",
       "    <tr>\n",
       "      <th>32</th>\n",
       "      <td>32</td>\n",
       "      <td>PUEG2</td>\n",
       "      <td>2.50</td>\n",
       "      <td>2.0</td>\n",
       "      <td>30.0</td>\n",
       "      <td>0.270596</td>\n",
       "      <td>0.017415</td>\n",
       "      <td>2.0</td>\n",
       "      <td>98.0</td>\n",
       "      <td>33.0</td>\n",
       "      <td>294.324444</td>\n",
       "    </tr>\n",
       "    <tr>\n",
       "      <th>33</th>\n",
       "      <td>33</td>\n",
       "      <td>PUEG2</td>\n",
       "      <td>2.50</td>\n",
       "      <td>4.0</td>\n",
       "      <td>30.0</td>\n",
       "      <td>0.231287</td>\n",
       "      <td>0.016745</td>\n",
       "      <td>2.0</td>\n",
       "      <td>98.0</td>\n",
       "      <td>34.0</td>\n",
       "      <td>282.570000</td>\n",
       "    </tr>\n",
       "    <tr>\n",
       "      <th>34</th>\n",
       "      <td>34</td>\n",
       "      <td>PUEG2</td>\n",
       "      <td>5.00</td>\n",
       "      <td>2.0</td>\n",
       "      <td>30.0</td>\n",
       "      <td>0.219577</td>\n",
       "      <td>0.016523</td>\n",
       "      <td>2.0</td>\n",
       "      <td>98.0</td>\n",
       "      <td>35.0</td>\n",
       "      <td>374.928889</td>\n",
       "    </tr>\n",
       "    <tr>\n",
       "      <th>35</th>\n",
       "      <td>35</td>\n",
       "      <td>PUEG2</td>\n",
       "      <td>8.00</td>\n",
       "      <td>2.0</td>\n",
       "      <td>30.0</td>\n",
       "      <td>0.199177</td>\n",
       "      <td>0.019989</td>\n",
       "      <td>2.0</td>\n",
       "      <td>98.0</td>\n",
       "      <td>36.0</td>\n",
       "      <td>468.122222</td>\n",
       "    </tr>\n",
       "    <tr>\n",
       "      <th>36</th>\n",
       "      <td>36</td>\n",
       "      <td>PUEG1</td>\n",
       "      <td>5.17</td>\n",
       "      <td>3.0</td>\n",
       "      <td>30.0</td>\n",
       "      <td>0.261716</td>\n",
       "      <td>0.009801</td>\n",
       "      <td>1.0</td>\n",
       "      <td>99.0</td>\n",
       "      <td>NaN</td>\n",
       "      <td>NaN</td>\n",
       "    </tr>\n",
       "    <tr>\n",
       "      <th>37</th>\n",
       "      <td>37</td>\n",
       "      <td>PUEG1</td>\n",
       "      <td>5.17</td>\n",
       "      <td>3.0</td>\n",
       "      <td>30.0</td>\n",
       "      <td>0.260094</td>\n",
       "      <td>0.008520</td>\n",
       "      <td>1.0</td>\n",
       "      <td>99.0</td>\n",
       "      <td>NaN</td>\n",
       "      <td>NaN</td>\n",
       "    </tr>\n",
       "    <tr>\n",
       "      <th>38</th>\n",
       "      <td>38</td>\n",
       "      <td>PUEG1</td>\n",
       "      <td>5.17</td>\n",
       "      <td>3.0</td>\n",
       "      <td>30.0</td>\n",
       "      <td>0.268289</td>\n",
       "      <td>0.009019</td>\n",
       "      <td>1.0</td>\n",
       "      <td>99.0</td>\n",
       "      <td>NaN</td>\n",
       "      <td>NaN</td>\n",
       "    </tr>\n",
       "    <tr>\n",
       "      <th>39</th>\n",
       "      <td>39</td>\n",
       "      <td>PUEG1</td>\n",
       "      <td>5.17</td>\n",
       "      <td>3.0</td>\n",
       "      <td>30.0</td>\n",
       "      <td>0.267520</td>\n",
       "      <td>0.007214</td>\n",
       "      <td>1.0</td>\n",
       "      <td>99.0</td>\n",
       "      <td>NaN</td>\n",
       "      <td>NaN</td>\n",
       "    </tr>\n",
       "    <tr>\n",
       "      <th>40</th>\n",
       "      <td>40</td>\n",
       "      <td>PUEG2</td>\n",
       "      <td>5.17</td>\n",
       "      <td>3.0</td>\n",
       "      <td>30.0</td>\n",
       "      <td>0.246482</td>\n",
       "      <td>0.012844</td>\n",
       "      <td>2.0</td>\n",
       "      <td>98.0</td>\n",
       "      <td>NaN</td>\n",
       "      <td>NaN</td>\n",
       "    </tr>\n",
       "    <tr>\n",
       "      <th>41</th>\n",
       "      <td>41</td>\n",
       "      <td>PUEG2</td>\n",
       "      <td>5.17</td>\n",
       "      <td>3.0</td>\n",
       "      <td>30.0</td>\n",
       "      <td>0.240938</td>\n",
       "      <td>0.012263</td>\n",
       "      <td>2.0</td>\n",
       "      <td>98.0</td>\n",
       "      <td>NaN</td>\n",
       "      <td>NaN</td>\n",
       "    </tr>\n",
       "    <tr>\n",
       "      <th>42</th>\n",
       "      <td>42</td>\n",
       "      <td>PUEG2</td>\n",
       "      <td>5.17</td>\n",
       "      <td>3.0</td>\n",
       "      <td>30.0</td>\n",
       "      <td>0.238010</td>\n",
       "      <td>0.010001</td>\n",
       "      <td>2.0</td>\n",
       "      <td>98.0</td>\n",
       "      <td>NaN</td>\n",
       "      <td>NaN</td>\n",
       "    </tr>\n",
       "    <tr>\n",
       "      <th>43</th>\n",
       "      <td>43</td>\n",
       "      <td>PUEG2</td>\n",
       "      <td>5.17</td>\n",
       "      <td>3.0</td>\n",
       "      <td>30.0</td>\n",
       "      <td>0.190731</td>\n",
       "      <td>0.017155</td>\n",
       "      <td>2.0</td>\n",
       "      <td>98.0</td>\n",
       "      <td>NaN</td>\n",
       "      <td>NaN</td>\n",
       "    </tr>\n",
       "  </tbody>\n",
       "</table>\n",
       "</div>"
      ],
      "text/plain": [
       "    indice Material  Força Normal  Frequência  Distância  COF Médio  \\\n",
       "0        0       PU          2.50         2.0       30.0   0.253219   \n",
       "1        1       PU          2.50         4.0       30.0   0.406186   \n",
       "2        2       PU          5.00         2.0       30.0   0.310460   \n",
       "3        3       PU          5.00         4.0       30.0   0.310110   \n",
       "4        4       PU          8.00         2.0       30.0   0.242132   \n",
       "5        5       PU          8.00         4.0       30.0   0.238020   \n",
       "6        6       PU          2.50         2.0       30.0   0.268530   \n",
       "7        7       PU          2.50         4.0       30.0   0.403931   \n",
       "8        8       PU          5.00         2.0       30.0   0.229576   \n",
       "9        9       PU          5.00         4.0       30.0   0.285305   \n",
       "10      10       PU          8.00         2.0       30.0   0.223851   \n",
       "11      11       PU          8.00         4.0       30.0   0.211569   \n",
       "12      12    PUEG1          8.00         4.0       30.0   0.139746   \n",
       "13      13    PUEG1          5.00         2.0       30.0   0.156586   \n",
       "14      14    PUEG1          5.00         4.0       30.0   0.153966   \n",
       "15      15    PUEG1          2.50         4.0       30.0   0.190053   \n",
       "16      16    PUEG1          2.50         2.0       30.0   0.171088   \n",
       "17      17    PUEG1          8.00         2.0       30.0   0.194731   \n",
       "18      18    PUEG1          8.00         4.0       30.0   0.153985   \n",
       "19      19    PUEG1          5.00         4.0       30.0   0.169516   \n",
       "20      20    PUEG1          2.50         4.0       30.0   0.275818   \n",
       "21      21    PUEG1          5.00         2.0       30.0   0.233601   \n",
       "22      22    PUEG1          2.50         2.0       30.0   0.224888   \n",
       "23      23    PUEG1          8.00         2.0       30.0   0.101855   \n",
       "24      24    PUEG2          5.00         4.0       30.0   0.172368   \n",
       "25      25    PUEG2          5.00         2.0       30.0   0.189202   \n",
       "26      26    PUEG2          2.50         2.0       30.0   0.222596   \n",
       "27      27    PUEG2          2.50         4.0       30.0   0.218876   \n",
       "28      28    PUEG2          8.00         4.0       30.0   0.160592   \n",
       "29      29    PUEG2          8.00         2.0       30.0   0.208408   \n",
       "30      30    PUEG2          5.00         4.0       30.0   0.159418   \n",
       "31      31    PUEG2          8.00         4.0       30.0   0.139402   \n",
       "32      32    PUEG2          2.50         2.0       30.0   0.270596   \n",
       "33      33    PUEG2          2.50         4.0       30.0   0.231287   \n",
       "34      34    PUEG2          5.00         2.0       30.0   0.219577   \n",
       "35      35    PUEG2          8.00         2.0       30.0   0.199177   \n",
       "36      36    PUEG1          5.17         3.0       30.0   0.261716   \n",
       "37      37    PUEG1          5.17         3.0       30.0   0.260094   \n",
       "38      38    PUEG1          5.17         3.0       30.0   0.268289   \n",
       "39      39    PUEG1          5.17         3.0       30.0   0.267520   \n",
       "40      40    PUEG2          5.17         3.0       30.0   0.246482   \n",
       "41      41    PUEG2          5.17         3.0       30.0   0.240938   \n",
       "42      42    PUEG2          5.17         3.0       30.0   0.238010   \n",
       "43      43    PUEG2          5.17         3.0       30.0   0.190731   \n",
       "\n",
       "    COF Desv. Pad.   EG     PU  Ensaio - Geral  Largura Média  \n",
       "0         0.018631  0.0  100.0             4.0     264.300000  \n",
       "1         0.023616  0.0  100.0             5.0     255.100000  \n",
       "2         0.020355  0.0  100.0             7.0     324.800000  \n",
       "3         0.010158  0.0  100.0             2.0     329.200000  \n",
       "4         0.016337  0.0  100.0             8.0     413.500000  \n",
       "5         0.015080  0.0  100.0             1.0     389.600000  \n",
       "6         0.019913  0.0  100.0            10.0     262.400000  \n",
       "7         0.028861  0.0  100.0             6.0     241.300000  \n",
       "8         0.021822  0.0  100.0            11.0     321.000000  \n",
       "9         0.014574  0.0  100.0             3.0     339.400000  \n",
       "10        0.013416  0.0  100.0             9.0     384.700000  \n",
       "11        0.014948  0.0  100.0            12.0     408.000000  \n",
       "12        0.011856  1.0   99.0            13.0     412.230556  \n",
       "13        0.015388  1.0   99.0            14.0     321.123333  \n",
       "14        0.019922  1.0   99.0            15.0     316.023333  \n",
       "15        0.015023  1.0   99.0            21.0     258.245000  \n",
       "16        0.014856  1.0   99.0            17.0     273.958889  \n",
       "17        0.008617  1.0   99.0            18.0     452.421111  \n",
       "18        0.013713  1.0   99.0            19.0     440.540000  \n",
       "19        0.010749  1.0   99.0            20.0     348.367778  \n",
       "20        0.021140  1.0   99.0            21.0     258.245000  \n",
       "21        0.010018  1.0   99.0            22.0     350.020000  \n",
       "22        0.019259  1.0   99.0            23.0     274.915556  \n",
       "23        0.011846  1.0   99.0            24.0     423.068889  \n",
       "24        0.014938  2.0   98.0            31.0     366.702222  \n",
       "25        0.011526  2.0   98.0            35.0     374.928889  \n",
       "26        0.013723  2.0   98.0            33.0     294.324444  \n",
       "27        0.015872  2.0   98.0            34.0     282.570000  \n",
       "28        0.031817  2.0   98.0            29.0     474.934444  \n",
       "29        0.025501  2.0   98.0            30.0     472.467778  \n",
       "30        0.007501  2.0   98.0            31.0     366.702222  \n",
       "31        0.009366  2.0   98.0            32.0     453.120000  \n",
       "32        0.017415  2.0   98.0            33.0     294.324444  \n",
       "33        0.016745  2.0   98.0            34.0     282.570000  \n",
       "34        0.016523  2.0   98.0            35.0     374.928889  \n",
       "35        0.019989  2.0   98.0            36.0     468.122222  \n",
       "36        0.009801  1.0   99.0             NaN            NaN  \n",
       "37        0.008520  1.0   99.0             NaN            NaN  \n",
       "38        0.009019  1.0   99.0             NaN            NaN  \n",
       "39        0.007214  1.0   99.0             NaN            NaN  \n",
       "40        0.012844  2.0   98.0             NaN            NaN  \n",
       "41        0.012263  2.0   98.0             NaN            NaN  \n",
       "42        0.010001  2.0   98.0             NaN            NaN  \n",
       "43        0.017155  2.0   98.0             NaN            NaN  "
      ]
     },
     "execution_count": 147,
     "metadata": {},
     "output_type": "execute_result"
    }
   ],
   "source": [
    "df2"
   ]
  },
  {
   "cell_type": "markdown",
   "metadata": {},
   "source": [
    "### Visão geral dos ensaios (ordem cronológica)\n",
    "\n",
    "Os ensaios foram realizados em ordem aleatorizada de força normal e frequência. Os primeiros 12 ensaios foram PU Puro, depois PU+1%EG e por último PU+2%EG."
   ]
  },
  {
   "cell_type": "code",
   "execution_count": 116,
   "metadata": {},
   "outputs": [
    {
     "data": {
      "application/vnd.plotly.v1+json": {
       "config": {
        "plotlyServerURL": "https://plot.ly"
       },
       "data": [
        {
         "error_y": {
          "array": [
           null,
           null,
           null,
           null,
           10.291231926256428,
           5.015264300114183,
           7.5234985726942885,
           34.79653824007977,
           9.992258646238778,
           7.049908667020638,
           null,
           null,
           2.4794064558545457,
           16.13908559987218,
           18.094763451709827,
           18.660356336719158,
           16.293063183248677,
           20.379781165982454
          ],
          "thickness": 1,
          "type": "data",
          "visible": true
         },
         "hovertemplate": "Ensaio - Geral=%{x}<br>Largura Média=%{y}<br>EG=%{marker.color}<extra></extra>",
         "legendgroup": "",
         "marker": {
          "color": [
           0,
           0,
           0,
           0,
           1,
           1,
           1,
           1,
           1,
           1,
           1,
           1,
           2,
           2,
           2,
           2,
           2,
           2
          ],
          "coloraxis": "coloraxis",
          "symbol": "circle"
         },
         "mode": "markers",
         "name": "2,5N",
         "orientation": "v",
         "showlegend": true,
         "type": "scatter",
         "x": [
          4,
          10,
          5,
          6,
          17,
          17,
          17,
          23,
          23,
          23,
          21,
          21,
          33,
          33,
          33,
          34,
          34,
          34
         ],
         "xaxis": "x",
         "y": [
          264.3,
          262.4,
          255.1,
          241.3,
          267.62000000000006,
          274.02,
          280.2366666666667,
          287.9166666666667,
          268.83333333333337,
          267.99666666666667,
          260.76,
          255.73,
          298.9866666666667,
          293.02,
          290.9666666666667,
          279.0466666666667,
          274.8566666666666,
          293.8066666666667
         ],
         "yaxis": "y"
        },
        {
         "error_y": {
          "array": [
           null,
           null,
           null,
           null,
           24.974348405780937,
           14.456436154645221,
           24.465817273902772,
           null,
           null,
           15.958605178816017,
           9.289000879176047,
           6.2260575690666995,
           45.38336018645307,
           19.895287314671627,
           8.739607545727322,
           41.919760129720814,
           16.853040747987677,
           2.374864419989728,
           23.80444812550794
          ],
          "thickness": 1,
          "type": "data",
          "visible": true
         },
         "hovertemplate": "Ensaio - Geral=%{x}<br>Largura Média=%{y}<br>EG=%{marker.color}<extra></extra>",
         "legendgroup": "",
         "marker": {
          "color": [
           0,
           0,
           0,
           0,
           1,
           1,
           1,
           1,
           1,
           1,
           1,
           1,
           1,
           2,
           2,
           2,
           2,
           2,
           2
          ],
          "coloraxis": "coloraxis",
          "symbol": "square"
         },
         "mode": "markers",
         "name": "5N",
         "orientation": "v",
         "showlegend": true,
         "type": "scatter",
         "x": [
          7,
          11,
          2,
          3,
          14,
          14,
          14,
          22,
          22,
          15,
          20,
          20,
          20,
          35,
          35,
          35,
          31,
          31,
          31
         ],
         "xaxis": "x",
         "y": [
          324.8,
          321,
          329.2,
          339.4,
          326.17333333333335,
          311.0466666666666,
          326.15000000000003,
          359.51,
          340.53,
          316.02333333333337,
          345.2833333333333,
          341.4266666666667,
          358.3933333333334,
          377.3666666666666,
          370.3566666666666,
          377.06333333333333,
          372.8833333333334,
          361.0833333333333,
          366.14000000000004
         ],
         "yaxis": "y"
        },
        {
         "error_y": {
          "array": [
           null,
           null,
           null,
           null,
           20.006957019330358,
           10.429023524760153,
           21.36939381451893,
           35.09775562739018,
           12.603048934814648,
           38.613762633202846,
           2.4598065072955,
           42.076813278574235,
           28.06506814529407,
           12.53812372778848,
           1.3305402411552096,
           23.829032676408243,
           33.56621937444451,
           28.660890406266148,
           29.052932632696475,
           11.065567054606786,
           13.704409141586517,
           21.08257063769346,
           20.273775511565006,
           18.602189868220698,
           34.04994075609143,
           26.82764871496069,
           14.656200615439168,
           10.308078341443343
          ],
          "thickness": 1,
          "type": "data",
          "visible": true
         },
         "hovertemplate": "Ensaio - Geral=%{x}<br>Largura Média=%{y}<br>EG=%{marker.color}<extra></extra>",
         "legendgroup": "",
         "marker": {
          "color": [
           0,
           0,
           0,
           0,
           1,
           1,
           1,
           1,
           1,
           1,
           1,
           1,
           1,
           1,
           1,
           1,
           2,
           2,
           2,
           2,
           2,
           2,
           2,
           2,
           2,
           2,
           2,
           2
          ],
          "coloraxis": "coloraxis",
          "symbol": "diamond"
         },
         "mode": "markers",
         "name": "8N",
         "orientation": "v",
         "showlegend": true,
         "type": "scatter",
         "x": [
          8,
          9,
          1,
          12,
          18,
          18,
          18,
          24,
          24,
          24,
          13,
          13,
          13,
          19,
          19,
          19,
          30,
          30,
          30,
          36,
          36,
          36,
          29,
          29,
          29,
          32,
          32,
          32
         ],
         "xaxis": "x",
         "y": [
          413.5,
          384.7,
          389.6,
          408,
          452.92333333333335,
          445.27,
          459.07,
          433.08,
          418.7033333333334,
          417.42333333333335,
          396.20666666666665,
          424.05,
          416.435,
          445.3333333333333,
          428.79333333333335,
          447.49333333333334,
          474.48333333333335,
          455.99,
          486.93,
          470.48,
          461.12999999999994,
          472.75666666666666,
          489.70666666666665,
          463.8333333333333,
          471.2633333333333,
          455.1566666666666,
          445.2,
          459.00333333333333
         ],
         "yaxis": "y"
        }
       ],
       "layout": {
        "annotations": [
         {
          "showarrow": false,
          "text": "Os pontos sem barra de erro representam uma única medição",
          "visible": true,
          "x": 1,
          "xanchor": "right",
          "xref": "paper",
          "y": 1,
          "yanchor": "bottom",
          "yref": "paper"
         }
        ],
        "coloraxis": {
         "colorbar": {
          "title": {
           "text": "EG (%)"
          }
         },
         "colorscale": [
          [
           0,
           "#440154"
          ],
          [
           0.1111111111111111,
           "#482878"
          ],
          [
           0.2222222222222222,
           "#3e4989"
          ],
          [
           0.3333333333333333,
           "#31688e"
          ],
          [
           0.4444444444444444,
           "#26828e"
          ],
          [
           0.5555555555555556,
           "#1f9e89"
          ],
          [
           0.6666666666666666,
           "#35b779"
          ],
          [
           0.7777777777777778,
           "#6ece58"
          ],
          [
           0.8888888888888888,
           "#b5de2b"
          ],
          [
           1,
           "#fde725"
          ]
         ]
        },
        "legend": {
         "orientation": "h",
         "title": {
          "text": "Força Normal: "
         },
         "x": 0,
         "xanchor": "left",
         "y": 1,
         "yanchor": "bottom"
        },
        "showlegend": true,
        "template": {
         "data": {
          "bar": [
           {
            "error_x": {
             "color": "#2a3f5f"
            },
            "error_y": {
             "color": "#2a3f5f"
            },
            "marker": {
             "line": {
              "color": "#E5ECF6",
              "width": 0.5
             }
            },
            "type": "bar"
           }
          ],
          "barpolar": [
           {
            "marker": {
             "line": {
              "color": "#E5ECF6",
              "width": 0.5
             }
            },
            "type": "barpolar"
           }
          ],
          "carpet": [
           {
            "aaxis": {
             "endlinecolor": "#2a3f5f",
             "gridcolor": "white",
             "linecolor": "white",
             "minorgridcolor": "white",
             "startlinecolor": "#2a3f5f"
            },
            "baxis": {
             "endlinecolor": "#2a3f5f",
             "gridcolor": "white",
             "linecolor": "white",
             "minorgridcolor": "white",
             "startlinecolor": "#2a3f5f"
            },
            "type": "carpet"
           }
          ],
          "choropleth": [
           {
            "colorbar": {
             "outlinewidth": 0,
             "ticks": ""
            },
            "type": "choropleth"
           }
          ],
          "contour": [
           {
            "colorbar": {
             "outlinewidth": 0,
             "ticks": ""
            },
            "colorscale": [
             [
              0,
              "#0d0887"
             ],
             [
              0.1111111111111111,
              "#46039f"
             ],
             [
              0.2222222222222222,
              "#7201a8"
             ],
             [
              0.3333333333333333,
              "#9c179e"
             ],
             [
              0.4444444444444444,
              "#bd3786"
             ],
             [
              0.5555555555555556,
              "#d8576b"
             ],
             [
              0.6666666666666666,
              "#ed7953"
             ],
             [
              0.7777777777777778,
              "#fb9f3a"
             ],
             [
              0.8888888888888888,
              "#fdca26"
             ],
             [
              1,
              "#f0f921"
             ]
            ],
            "type": "contour"
           }
          ],
          "contourcarpet": [
           {
            "colorbar": {
             "outlinewidth": 0,
             "ticks": ""
            },
            "type": "contourcarpet"
           }
          ],
          "heatmap": [
           {
            "colorbar": {
             "outlinewidth": 0,
             "ticks": ""
            },
            "colorscale": [
             [
              0,
              "#0d0887"
             ],
             [
              0.1111111111111111,
              "#46039f"
             ],
             [
              0.2222222222222222,
              "#7201a8"
             ],
             [
              0.3333333333333333,
              "#9c179e"
             ],
             [
              0.4444444444444444,
              "#bd3786"
             ],
             [
              0.5555555555555556,
              "#d8576b"
             ],
             [
              0.6666666666666666,
              "#ed7953"
             ],
             [
              0.7777777777777778,
              "#fb9f3a"
             ],
             [
              0.8888888888888888,
              "#fdca26"
             ],
             [
              1,
              "#f0f921"
             ]
            ],
            "type": "heatmap"
           }
          ],
          "heatmapgl": [
           {
            "colorbar": {
             "outlinewidth": 0,
             "ticks": ""
            },
            "colorscale": [
             [
              0,
              "#0d0887"
             ],
             [
              0.1111111111111111,
              "#46039f"
             ],
             [
              0.2222222222222222,
              "#7201a8"
             ],
             [
              0.3333333333333333,
              "#9c179e"
             ],
             [
              0.4444444444444444,
              "#bd3786"
             ],
             [
              0.5555555555555556,
              "#d8576b"
             ],
             [
              0.6666666666666666,
              "#ed7953"
             ],
             [
              0.7777777777777778,
              "#fb9f3a"
             ],
             [
              0.8888888888888888,
              "#fdca26"
             ],
             [
              1,
              "#f0f921"
             ]
            ],
            "type": "heatmapgl"
           }
          ],
          "histogram": [
           {
            "marker": {
             "colorbar": {
              "outlinewidth": 0,
              "ticks": ""
             }
            },
            "type": "histogram"
           }
          ],
          "histogram2d": [
           {
            "colorbar": {
             "outlinewidth": 0,
             "ticks": ""
            },
            "colorscale": [
             [
              0,
              "#0d0887"
             ],
             [
              0.1111111111111111,
              "#46039f"
             ],
             [
              0.2222222222222222,
              "#7201a8"
             ],
             [
              0.3333333333333333,
              "#9c179e"
             ],
             [
              0.4444444444444444,
              "#bd3786"
             ],
             [
              0.5555555555555556,
              "#d8576b"
             ],
             [
              0.6666666666666666,
              "#ed7953"
             ],
             [
              0.7777777777777778,
              "#fb9f3a"
             ],
             [
              0.8888888888888888,
              "#fdca26"
             ],
             [
              1,
              "#f0f921"
             ]
            ],
            "type": "histogram2d"
           }
          ],
          "histogram2dcontour": [
           {
            "colorbar": {
             "outlinewidth": 0,
             "ticks": ""
            },
            "colorscale": [
             [
              0,
              "#0d0887"
             ],
             [
              0.1111111111111111,
              "#46039f"
             ],
             [
              0.2222222222222222,
              "#7201a8"
             ],
             [
              0.3333333333333333,
              "#9c179e"
             ],
             [
              0.4444444444444444,
              "#bd3786"
             ],
             [
              0.5555555555555556,
              "#d8576b"
             ],
             [
              0.6666666666666666,
              "#ed7953"
             ],
             [
              0.7777777777777778,
              "#fb9f3a"
             ],
             [
              0.8888888888888888,
              "#fdca26"
             ],
             [
              1,
              "#f0f921"
             ]
            ],
            "type": "histogram2dcontour"
           }
          ],
          "mesh3d": [
           {
            "colorbar": {
             "outlinewidth": 0,
             "ticks": ""
            },
            "type": "mesh3d"
           }
          ],
          "parcoords": [
           {
            "line": {
             "colorbar": {
              "outlinewidth": 0,
              "ticks": ""
             }
            },
            "type": "parcoords"
           }
          ],
          "pie": [
           {
            "automargin": true,
            "type": "pie"
           }
          ],
          "scatter": [
           {
            "marker": {
             "colorbar": {
              "outlinewidth": 0,
              "ticks": ""
             }
            },
            "type": "scatter"
           }
          ],
          "scatter3d": [
           {
            "line": {
             "colorbar": {
              "outlinewidth": 0,
              "ticks": ""
             }
            },
            "marker": {
             "colorbar": {
              "outlinewidth": 0,
              "ticks": ""
             }
            },
            "type": "scatter3d"
           }
          ],
          "scattercarpet": [
           {
            "marker": {
             "colorbar": {
              "outlinewidth": 0,
              "ticks": ""
             }
            },
            "type": "scattercarpet"
           }
          ],
          "scattergeo": [
           {
            "marker": {
             "colorbar": {
              "outlinewidth": 0,
              "ticks": ""
             }
            },
            "type": "scattergeo"
           }
          ],
          "scattergl": [
           {
            "marker": {
             "colorbar": {
              "outlinewidth": 0,
              "ticks": ""
             }
            },
            "type": "scattergl"
           }
          ],
          "scattermapbox": [
           {
            "marker": {
             "colorbar": {
              "outlinewidth": 0,
              "ticks": ""
             }
            },
            "type": "scattermapbox"
           }
          ],
          "scatterpolar": [
           {
            "marker": {
             "colorbar": {
              "outlinewidth": 0,
              "ticks": ""
             }
            },
            "type": "scatterpolar"
           }
          ],
          "scatterpolargl": [
           {
            "marker": {
             "colorbar": {
              "outlinewidth": 0,
              "ticks": ""
             }
            },
            "type": "scatterpolargl"
           }
          ],
          "scatterternary": [
           {
            "marker": {
             "colorbar": {
              "outlinewidth": 0,
              "ticks": ""
             }
            },
            "type": "scatterternary"
           }
          ],
          "surface": [
           {
            "colorbar": {
             "outlinewidth": 0,
             "ticks": ""
            },
            "colorscale": [
             [
              0,
              "#0d0887"
             ],
             [
              0.1111111111111111,
              "#46039f"
             ],
             [
              0.2222222222222222,
              "#7201a8"
             ],
             [
              0.3333333333333333,
              "#9c179e"
             ],
             [
              0.4444444444444444,
              "#bd3786"
             ],
             [
              0.5555555555555556,
              "#d8576b"
             ],
             [
              0.6666666666666666,
              "#ed7953"
             ],
             [
              0.7777777777777778,
              "#fb9f3a"
             ],
             [
              0.8888888888888888,
              "#fdca26"
             ],
             [
              1,
              "#f0f921"
             ]
            ],
            "type": "surface"
           }
          ],
          "table": [
           {
            "cells": {
             "fill": {
              "color": "#EBF0F8"
             },
             "line": {
              "color": "white"
             }
            },
            "header": {
             "fill": {
              "color": "#C8D4E3"
             },
             "line": {
              "color": "white"
             }
            },
            "type": "table"
           }
          ]
         },
         "layout": {
          "annotationdefaults": {
           "arrowcolor": "#2a3f5f",
           "arrowhead": 0,
           "arrowwidth": 1
          },
          "coloraxis": {
           "colorbar": {
            "outlinewidth": 0,
            "ticks": ""
           }
          },
          "colorscale": {
           "diverging": [
            [
             0,
             "#8e0152"
            ],
            [
             0.1,
             "#c51b7d"
            ],
            [
             0.2,
             "#de77ae"
            ],
            [
             0.3,
             "#f1b6da"
            ],
            [
             0.4,
             "#fde0ef"
            ],
            [
             0.5,
             "#f7f7f7"
            ],
            [
             0.6,
             "#e6f5d0"
            ],
            [
             0.7,
             "#b8e186"
            ],
            [
             0.8,
             "#7fbc41"
            ],
            [
             0.9,
             "#4d9221"
            ],
            [
             1,
             "#276419"
            ]
           ],
           "sequential": [
            [
             0,
             "#0d0887"
            ],
            [
             0.1111111111111111,
             "#46039f"
            ],
            [
             0.2222222222222222,
             "#7201a8"
            ],
            [
             0.3333333333333333,
             "#9c179e"
            ],
            [
             0.4444444444444444,
             "#bd3786"
            ],
            [
             0.5555555555555556,
             "#d8576b"
            ],
            [
             0.6666666666666666,
             "#ed7953"
            ],
            [
             0.7777777777777778,
             "#fb9f3a"
            ],
            [
             0.8888888888888888,
             "#fdca26"
            ],
            [
             1,
             "#f0f921"
            ]
           ],
           "sequentialminus": [
            [
             0,
             "#0d0887"
            ],
            [
             0.1111111111111111,
             "#46039f"
            ],
            [
             0.2222222222222222,
             "#7201a8"
            ],
            [
             0.3333333333333333,
             "#9c179e"
            ],
            [
             0.4444444444444444,
             "#bd3786"
            ],
            [
             0.5555555555555556,
             "#d8576b"
            ],
            [
             0.6666666666666666,
             "#ed7953"
            ],
            [
             0.7777777777777778,
             "#fb9f3a"
            ],
            [
             0.8888888888888888,
             "#fdca26"
            ],
            [
             1,
             "#f0f921"
            ]
           ]
          },
          "colorway": [
           "#636efa",
           "#EF553B",
           "#00cc96",
           "#ab63fa",
           "#FFA15A",
           "#19d3f3",
           "#FF6692",
           "#B6E880",
           "#FF97FF",
           "#FECB52"
          ],
          "font": {
           "color": "#2a3f5f"
          },
          "geo": {
           "bgcolor": "white",
           "lakecolor": "white",
           "landcolor": "#E5ECF6",
           "showlakes": true,
           "showland": true,
           "subunitcolor": "white"
          },
          "hoverlabel": {
           "align": "left"
          },
          "hovermode": "closest",
          "mapbox": {
           "style": "light"
          },
          "paper_bgcolor": "white",
          "plot_bgcolor": "#E5ECF6",
          "polar": {
           "angularaxis": {
            "gridcolor": "white",
            "linecolor": "white",
            "ticks": ""
           },
           "bgcolor": "#E5ECF6",
           "radialaxis": {
            "gridcolor": "white",
            "linecolor": "white",
            "ticks": ""
           }
          },
          "scene": {
           "xaxis": {
            "backgroundcolor": "#E5ECF6",
            "gridcolor": "white",
            "gridwidth": 2,
            "linecolor": "white",
            "showbackground": true,
            "ticks": "",
            "zerolinecolor": "white"
           },
           "yaxis": {
            "backgroundcolor": "#E5ECF6",
            "gridcolor": "white",
            "gridwidth": 2,
            "linecolor": "white",
            "showbackground": true,
            "ticks": "",
            "zerolinecolor": "white"
           },
           "zaxis": {
            "backgroundcolor": "#E5ECF6",
            "gridcolor": "white",
            "gridwidth": 2,
            "linecolor": "white",
            "showbackground": true,
            "ticks": "",
            "zerolinecolor": "white"
           }
          },
          "shapedefaults": {
           "line": {
            "color": "#2a3f5f"
           }
          },
          "ternary": {
           "aaxis": {
            "gridcolor": "white",
            "linecolor": "white",
            "ticks": ""
           },
           "baxis": {
            "gridcolor": "white",
            "linecolor": "white",
            "ticks": ""
           },
           "bgcolor": "#E5ECF6",
           "caxis": {
            "gridcolor": "white",
            "linecolor": "white",
            "ticks": ""
           }
          },
          "title": {
           "x": 0.05
          },
          "xaxis": {
           "automargin": true,
           "gridcolor": "white",
           "linecolor": "white",
           "ticks": "",
           "title": {
            "standoff": 15
           },
           "zerolinecolor": "white",
           "zerolinewidth": 2
          },
          "yaxis": {
           "automargin": true,
           "gridcolor": "white",
           "linecolor": "white",
           "ticks": "",
           "title": {
            "standoff": 15
           },
           "zerolinecolor": "white",
           "zerolinewidth": 2
          }
         }
        }
       }
      },
      "text/html": [
       "<div>\n",
       "        \n",
       "        \n",
       "            <div id=\"f5a6eea4-d789-49bf-989c-a56f7e6c149f\" class=\"plotly-graph-div\" style=\"height:525px; width:100%;\"></div>\n",
       "            <script type=\"text/javascript\">\n",
       "                require([\"plotly\"], function(Plotly) {\n",
       "                    window.PLOTLYENV=window.PLOTLYENV || {};\n",
       "                    \n",
       "                if (document.getElementById(\"f5a6eea4-d789-49bf-989c-a56f7e6c149f\")) {\n",
       "                    Plotly.newPlot(\n",
       "                        'f5a6eea4-d789-49bf-989c-a56f7e6c149f',\n",
       "                        [{\"error_y\": {\"array\": [null, null, null, null, 10.291231926256428, 5.015264300114183, 7.5234985726942885, 34.79653824007977, 9.992258646238778, 7.049908667020638, null, null, 2.4794064558545457, 16.13908559987218, 18.094763451709827, 18.660356336719158, 16.293063183248677, 20.379781165982454], \"thickness\": 1, \"type\": \"data\", \"visible\": true}, \"hovertemplate\": \"Ensaio - Geral=%{x}<br>Largura M\\u00e9dia=%{y}<br>EG=%{marker.color}<extra></extra>\", \"legendgroup\": \"\", \"marker\": {\"color\": [0, 0, 0, 0, 1, 1, 1, 1, 1, 1, 1, 1, 2, 2, 2, 2, 2, 2], \"coloraxis\": \"coloraxis\", \"symbol\": \"circle\"}, \"mode\": \"markers\", \"name\": \"2,5N\", \"orientation\": \"v\", \"showlegend\": true, \"type\": \"scatter\", \"x\": [4, 10, 5, 6, 17, 17, 17, 23, 23, 23, 21, 21, 33, 33, 33, 34, 34, 34], \"xaxis\": \"x\", \"y\": [264.3, 262.4, 255.1, 241.3, 267.62000000000006, 274.02, 280.2366666666667, 287.9166666666667, 268.83333333333337, 267.99666666666667, 260.76, 255.73, 298.9866666666667, 293.02, 290.9666666666667, 279.0466666666667, 274.8566666666666, 293.8066666666667], \"yaxis\": \"y\"}, {\"error_y\": {\"array\": [null, null, null, null, 24.974348405780937, 14.456436154645221, 24.465817273902772, null, null, 15.958605178816017, 9.289000879176047, 6.2260575690666995, 45.38336018645307, 19.895287314671627, 8.739607545727322, 41.919760129720814, 16.853040747987677, 2.374864419989728, 23.80444812550794], \"thickness\": 1, \"type\": \"data\", \"visible\": true}, \"hovertemplate\": \"Ensaio - Geral=%{x}<br>Largura M\\u00e9dia=%{y}<br>EG=%{marker.color}<extra></extra>\", \"legendgroup\": \"\", \"marker\": {\"color\": [0, 0, 0, 0, 1, 1, 1, 1, 1, 1, 1, 1, 1, 2, 2, 2, 2, 2, 2], \"coloraxis\": \"coloraxis\", \"symbol\": \"square\"}, \"mode\": \"markers\", \"name\": \"5N\", \"orientation\": \"v\", \"showlegend\": true, \"type\": \"scatter\", \"x\": [7, 11, 2, 3, 14, 14, 14, 22, 22, 15, 20, 20, 20, 35, 35, 35, 31, 31, 31], \"xaxis\": \"x\", \"y\": [324.8, 321.0, 329.2, 339.4, 326.17333333333335, 311.0466666666666, 326.15000000000003, 359.51, 340.53, 316.02333333333337, 345.2833333333333, 341.4266666666667, 358.3933333333334, 377.3666666666666, 370.3566666666666, 377.06333333333333, 372.8833333333334, 361.0833333333333, 366.14000000000004], \"yaxis\": \"y\"}, {\"error_y\": {\"array\": [null, null, null, null, 20.006957019330358, 10.429023524760153, 21.36939381451893, 35.09775562739018, 12.603048934814648, 38.613762633202846, 2.4598065072955, 42.076813278574235, 28.06506814529407, 12.53812372778848, 1.3305402411552096, 23.829032676408243, 33.56621937444451, 28.660890406266148, 29.052932632696475, 11.065567054606786, 13.704409141586517, 21.08257063769346, 20.273775511565006, 18.602189868220698, 34.04994075609143, 26.82764871496069, 14.656200615439168, 10.308078341443343], \"thickness\": 1, \"type\": \"data\", \"visible\": true}, \"hovertemplate\": \"Ensaio - Geral=%{x}<br>Largura M\\u00e9dia=%{y}<br>EG=%{marker.color}<extra></extra>\", \"legendgroup\": \"\", \"marker\": {\"color\": [0, 0, 0, 0, 1, 1, 1, 1, 1, 1, 1, 1, 1, 1, 1, 1, 2, 2, 2, 2, 2, 2, 2, 2, 2, 2, 2, 2], \"coloraxis\": \"coloraxis\", \"symbol\": \"diamond\"}, \"mode\": \"markers\", \"name\": \"8N\", \"orientation\": \"v\", \"showlegend\": true, \"type\": \"scatter\", \"x\": [8, 9, 1, 12, 18, 18, 18, 24, 24, 24, 13, 13, 13, 19, 19, 19, 30, 30, 30, 36, 36, 36, 29, 29, 29, 32, 32, 32], \"xaxis\": \"x\", \"y\": [413.5, 384.7, 389.6, 408.0, 452.92333333333335, 445.27, 459.07, 433.08, 418.7033333333334, 417.42333333333335, 396.20666666666665, 424.05, 416.435, 445.3333333333333, 428.79333333333335, 447.49333333333334, 474.48333333333335, 455.99, 486.93, 470.48, 461.12999999999994, 472.75666666666666, 489.70666666666665, 463.8333333333333, 471.2633333333333, 455.1566666666666, 445.2, 459.00333333333333], \"yaxis\": \"y\"}],\n",
       "                        {\"annotations\": [{\"showarrow\": false, \"text\": \"Os pontos sem barra de erro representam uma \\u00fanica medi\\u00e7\\u00e3o\", \"visible\": true, \"x\": 1, \"xanchor\": \"right\", \"xref\": \"paper\", \"y\": 1, \"yanchor\": \"bottom\", \"yref\": \"paper\"}], \"coloraxis\": {\"colorbar\": {\"title\": {\"text\": \"EG (%)\"}}, \"colorscale\": [[0.0, \"#440154\"], [0.1111111111111111, \"#482878\"], [0.2222222222222222, \"#3e4989\"], [0.3333333333333333, \"#31688e\"], [0.4444444444444444, \"#26828e\"], [0.5555555555555556, \"#1f9e89\"], [0.6666666666666666, \"#35b779\"], [0.7777777777777778, \"#6ece58\"], [0.8888888888888888, \"#b5de2b\"], [1.0, \"#fde725\"]]}, \"legend\": {\"orientation\": \"h\", \"title\": {\"text\": \"For\\u00e7a Normal: \"}, \"x\": 0, \"xanchor\": \"left\", \"y\": 1, \"yanchor\": \"bottom\"}, \"showlegend\": true, \"template\": {\"data\": {\"bar\": [{\"error_x\": {\"color\": \"#2a3f5f\"}, \"error_y\": {\"color\": \"#2a3f5f\"}, \"marker\": {\"line\": {\"color\": \"#E5ECF6\", \"width\": 0.5}}, \"type\": \"bar\"}], \"barpolar\": [{\"marker\": {\"line\": {\"color\": \"#E5ECF6\", \"width\": 0.5}}, \"type\": \"barpolar\"}], \"carpet\": [{\"aaxis\": {\"endlinecolor\": \"#2a3f5f\", \"gridcolor\": \"white\", \"linecolor\": \"white\", \"minorgridcolor\": \"white\", \"startlinecolor\": \"#2a3f5f\"}, \"baxis\": {\"endlinecolor\": \"#2a3f5f\", \"gridcolor\": \"white\", \"linecolor\": \"white\", \"minorgridcolor\": \"white\", \"startlinecolor\": \"#2a3f5f\"}, \"type\": \"carpet\"}], \"choropleth\": [{\"colorbar\": {\"outlinewidth\": 0, \"ticks\": \"\"}, \"type\": \"choropleth\"}], \"contour\": [{\"colorbar\": {\"outlinewidth\": 0, \"ticks\": \"\"}, \"colorscale\": [[0.0, \"#0d0887\"], [0.1111111111111111, \"#46039f\"], [0.2222222222222222, \"#7201a8\"], [0.3333333333333333, \"#9c179e\"], [0.4444444444444444, \"#bd3786\"], [0.5555555555555556, \"#d8576b\"], [0.6666666666666666, \"#ed7953\"], [0.7777777777777778, \"#fb9f3a\"], [0.8888888888888888, \"#fdca26\"], [1.0, \"#f0f921\"]], \"type\": \"contour\"}], \"contourcarpet\": [{\"colorbar\": {\"outlinewidth\": 0, \"ticks\": \"\"}, \"type\": \"contourcarpet\"}], \"heatmap\": [{\"colorbar\": {\"outlinewidth\": 0, \"ticks\": \"\"}, \"colorscale\": [[0.0, \"#0d0887\"], [0.1111111111111111, \"#46039f\"], [0.2222222222222222, \"#7201a8\"], [0.3333333333333333, \"#9c179e\"], [0.4444444444444444, \"#bd3786\"], [0.5555555555555556, \"#d8576b\"], [0.6666666666666666, \"#ed7953\"], [0.7777777777777778, \"#fb9f3a\"], [0.8888888888888888, \"#fdca26\"], [1.0, \"#f0f921\"]], \"type\": \"heatmap\"}], \"heatmapgl\": [{\"colorbar\": {\"outlinewidth\": 0, \"ticks\": \"\"}, \"colorscale\": [[0.0, \"#0d0887\"], [0.1111111111111111, \"#46039f\"], [0.2222222222222222, \"#7201a8\"], [0.3333333333333333, \"#9c179e\"], [0.4444444444444444, \"#bd3786\"], [0.5555555555555556, \"#d8576b\"], [0.6666666666666666, \"#ed7953\"], [0.7777777777777778, \"#fb9f3a\"], [0.8888888888888888, \"#fdca26\"], [1.0, \"#f0f921\"]], \"type\": \"heatmapgl\"}], \"histogram\": [{\"marker\": {\"colorbar\": {\"outlinewidth\": 0, \"ticks\": \"\"}}, \"type\": \"histogram\"}], \"histogram2d\": [{\"colorbar\": {\"outlinewidth\": 0, \"ticks\": \"\"}, \"colorscale\": [[0.0, \"#0d0887\"], [0.1111111111111111, \"#46039f\"], [0.2222222222222222, \"#7201a8\"], [0.3333333333333333, \"#9c179e\"], [0.4444444444444444, \"#bd3786\"], [0.5555555555555556, \"#d8576b\"], [0.6666666666666666, \"#ed7953\"], [0.7777777777777778, \"#fb9f3a\"], [0.8888888888888888, \"#fdca26\"], [1.0, \"#f0f921\"]], \"type\": \"histogram2d\"}], \"histogram2dcontour\": [{\"colorbar\": {\"outlinewidth\": 0, \"ticks\": \"\"}, \"colorscale\": [[0.0, \"#0d0887\"], [0.1111111111111111, \"#46039f\"], [0.2222222222222222, \"#7201a8\"], [0.3333333333333333, \"#9c179e\"], [0.4444444444444444, \"#bd3786\"], [0.5555555555555556, \"#d8576b\"], [0.6666666666666666, \"#ed7953\"], [0.7777777777777778, \"#fb9f3a\"], [0.8888888888888888, \"#fdca26\"], [1.0, \"#f0f921\"]], \"type\": \"histogram2dcontour\"}], \"mesh3d\": [{\"colorbar\": {\"outlinewidth\": 0, \"ticks\": \"\"}, \"type\": \"mesh3d\"}], \"parcoords\": [{\"line\": {\"colorbar\": {\"outlinewidth\": 0, \"ticks\": \"\"}}, \"type\": \"parcoords\"}], \"pie\": [{\"automargin\": true, \"type\": \"pie\"}], \"scatter\": [{\"marker\": {\"colorbar\": {\"outlinewidth\": 0, \"ticks\": \"\"}}, \"type\": \"scatter\"}], \"scatter3d\": [{\"line\": {\"colorbar\": {\"outlinewidth\": 0, \"ticks\": \"\"}}, \"marker\": {\"colorbar\": {\"outlinewidth\": 0, \"ticks\": \"\"}}, \"type\": \"scatter3d\"}], \"scattercarpet\": [{\"marker\": {\"colorbar\": {\"outlinewidth\": 0, \"ticks\": \"\"}}, \"type\": \"scattercarpet\"}], \"scattergeo\": [{\"marker\": {\"colorbar\": {\"outlinewidth\": 0, \"ticks\": \"\"}}, \"type\": \"scattergeo\"}], \"scattergl\": [{\"marker\": {\"colorbar\": {\"outlinewidth\": 0, \"ticks\": \"\"}}, \"type\": \"scattergl\"}], \"scattermapbox\": [{\"marker\": {\"colorbar\": {\"outlinewidth\": 0, \"ticks\": \"\"}}, \"type\": \"scattermapbox\"}], \"scatterpolar\": [{\"marker\": {\"colorbar\": {\"outlinewidth\": 0, \"ticks\": \"\"}}, \"type\": \"scatterpolar\"}], \"scatterpolargl\": [{\"marker\": {\"colorbar\": {\"outlinewidth\": 0, \"ticks\": \"\"}}, \"type\": \"scatterpolargl\"}], \"scatterternary\": [{\"marker\": {\"colorbar\": {\"outlinewidth\": 0, \"ticks\": \"\"}}, \"type\": \"scatterternary\"}], \"surface\": [{\"colorbar\": {\"outlinewidth\": 0, \"ticks\": \"\"}, \"colorscale\": [[0.0, \"#0d0887\"], [0.1111111111111111, \"#46039f\"], [0.2222222222222222, \"#7201a8\"], [0.3333333333333333, \"#9c179e\"], [0.4444444444444444, \"#bd3786\"], [0.5555555555555556, \"#d8576b\"], [0.6666666666666666, \"#ed7953\"], [0.7777777777777778, \"#fb9f3a\"], [0.8888888888888888, \"#fdca26\"], [1.0, \"#f0f921\"]], \"type\": \"surface\"}], \"table\": [{\"cells\": {\"fill\": {\"color\": \"#EBF0F8\"}, \"line\": {\"color\": \"white\"}}, \"header\": {\"fill\": {\"color\": \"#C8D4E3\"}, \"line\": {\"color\": \"white\"}}, \"type\": \"table\"}]}, \"layout\": {\"annotationdefaults\": {\"arrowcolor\": \"#2a3f5f\", \"arrowhead\": 0, \"arrowwidth\": 1}, \"coloraxis\": {\"colorbar\": {\"outlinewidth\": 0, \"ticks\": \"\"}}, \"colorscale\": {\"diverging\": [[0, \"#8e0152\"], [0.1, \"#c51b7d\"], [0.2, \"#de77ae\"], [0.3, \"#f1b6da\"], [0.4, \"#fde0ef\"], [0.5, \"#f7f7f7\"], [0.6, \"#e6f5d0\"], [0.7, \"#b8e186\"], [0.8, \"#7fbc41\"], [0.9, \"#4d9221\"], [1, \"#276419\"]], \"sequential\": [[0.0, \"#0d0887\"], [0.1111111111111111, \"#46039f\"], [0.2222222222222222, \"#7201a8\"], [0.3333333333333333, \"#9c179e\"], [0.4444444444444444, \"#bd3786\"], [0.5555555555555556, \"#d8576b\"], [0.6666666666666666, \"#ed7953\"], [0.7777777777777778, \"#fb9f3a\"], [0.8888888888888888, \"#fdca26\"], [1.0, \"#f0f921\"]], \"sequentialminus\": [[0.0, \"#0d0887\"], [0.1111111111111111, \"#46039f\"], [0.2222222222222222, \"#7201a8\"], [0.3333333333333333, \"#9c179e\"], [0.4444444444444444, \"#bd3786\"], [0.5555555555555556, \"#d8576b\"], [0.6666666666666666, \"#ed7953\"], [0.7777777777777778, \"#fb9f3a\"], [0.8888888888888888, \"#fdca26\"], [1.0, \"#f0f921\"]]}, \"colorway\": [\"#636efa\", \"#EF553B\", \"#00cc96\", \"#ab63fa\", \"#FFA15A\", \"#19d3f3\", \"#FF6692\", \"#B6E880\", \"#FF97FF\", \"#FECB52\"], \"font\": {\"color\": \"#2a3f5f\"}, \"geo\": {\"bgcolor\": \"white\", \"lakecolor\": \"white\", \"landcolor\": \"#E5ECF6\", \"showlakes\": true, \"showland\": true, \"subunitcolor\": \"white\"}, \"hoverlabel\": {\"align\": \"left\"}, \"hovermode\": \"closest\", \"mapbox\": {\"style\": \"light\"}, \"paper_bgcolor\": \"white\", \"plot_bgcolor\": \"#E5ECF6\", \"polar\": {\"angularaxis\": {\"gridcolor\": \"white\", \"linecolor\": \"white\", \"ticks\": \"\"}, \"bgcolor\": \"#E5ECF6\", \"radialaxis\": {\"gridcolor\": \"white\", \"linecolor\": \"white\", \"ticks\": \"\"}}, \"scene\": {\"xaxis\": {\"backgroundcolor\": \"#E5ECF6\", \"gridcolor\": \"white\", \"gridwidth\": 2, \"linecolor\": \"white\", \"showbackground\": true, \"ticks\": \"\", \"zerolinecolor\": \"white\"}, \"yaxis\": {\"backgroundcolor\": \"#E5ECF6\", \"gridcolor\": \"white\", \"gridwidth\": 2, \"linecolor\": \"white\", \"showbackground\": true, \"ticks\": \"\", \"zerolinecolor\": \"white\"}, \"zaxis\": {\"backgroundcolor\": \"#E5ECF6\", \"gridcolor\": \"white\", \"gridwidth\": 2, \"linecolor\": \"white\", \"showbackground\": true, \"ticks\": \"\", \"zerolinecolor\": \"white\"}}, \"shapedefaults\": {\"line\": {\"color\": \"#2a3f5f\"}}, \"ternary\": {\"aaxis\": {\"gridcolor\": \"white\", \"linecolor\": \"white\", \"ticks\": \"\"}, \"baxis\": {\"gridcolor\": \"white\", \"linecolor\": \"white\", \"ticks\": \"\"}, \"bgcolor\": \"#E5ECF6\", \"caxis\": {\"gridcolor\": \"white\", \"linecolor\": \"white\", \"ticks\": \"\"}}, \"title\": {\"x\": 0.05}, \"xaxis\": {\"automargin\": true, \"gridcolor\": \"white\", \"linecolor\": \"white\", \"ticks\": \"\", \"title\": {\"standoff\": 15}, \"zerolinecolor\": \"white\", \"zerolinewidth\": 2}, \"yaxis\": {\"automargin\": true, \"gridcolor\": \"white\", \"linecolor\": \"white\", \"ticks\": \"\", \"title\": {\"standoff\": 15}, \"zerolinecolor\": \"white\", \"zerolinewidth\": 2}}}},\n",
       "                        {\"responsive\": true}\n",
       "                    ).then(function(){\n",
       "                            \n",
       "var gd = document.getElementById('f5a6eea4-d789-49bf-989c-a56f7e6c149f');\n",
       "var x = new MutationObserver(function (mutations, observer) {{\n",
       "        var display = window.getComputedStyle(gd).display;\n",
       "        if (!display || display === 'none') {{\n",
       "            console.log([gd, 'removed!']);\n",
       "            Plotly.purge(gd);\n",
       "            observer.disconnect();\n",
       "        }}\n",
       "}});\n",
       "\n",
       "// Listen for the removal of the full notebook cells\n",
       "var notebookContainer = gd.closest('#notebook-container');\n",
       "if (notebookContainer) {{\n",
       "    x.observe(notebookContainer, {childList: true});\n",
       "}}\n",
       "\n",
       "// Listen for the clearing of the current output cell\n",
       "var outputEl = gd.closest('.output');\n",
       "if (outputEl) {{\n",
       "    x.observe(outputEl, {childList: true});\n",
       "}}\n",
       "\n",
       "                        })\n",
       "                };\n",
       "                });\n",
       "            </script>\n",
       "        </div>"
      ]
     },
     "metadata": {},
     "output_type": "display_data"
    }
   ],
   "source": [
    "fig = go.Figure()\n",
    "\n",
    "fig.add_trace(df[df['Força Normal']==2.5].plot(kind = 'scatter', x = 'Ensaio - Geral', y = 'Largura Média', color = 'EG').data[0])\n",
    "fig.add_trace(df[df['Força Normal']==5].plot(kind = 'scatter', x = 'Ensaio - Geral', y = 'Largura Média', color = 'EG').data[0])\n",
    "fig.add_trace(df[df['Força Normal']==8].plot(kind = 'scatter', x = 'Ensaio - Geral', y = 'Largura Média', color = 'EG').data[0])\n",
    "\n",
    "\n",
    "fig.data[0].error_y= dict(array = 1.96*df[df['Força Normal']==2.5]['Largura Desv. Pad.'],\n",
    "                          type = 'data',\n",
    "                          visible = True,\n",
    "                          thickness = 1)\n",
    "fig.data[1].error_y= dict(array = 1.96*df[df['Força Normal']==5]['Largura Desv. Pad.'],\n",
    "                          type = 'data',\n",
    "                          visible = True,\n",
    "                          thickness = 1)\n",
    "fig.data[2].error_y= dict(array = 1.96*df[df['Força Normal']==8]['Largura Desv. Pad.'],\n",
    "                          type = 'data',\n",
    "                          visible = True,\n",
    "                          thickness = 1)\n",
    "\n",
    "fig.data[0].marker.symbol = 'circle'\n",
    "fig.data[1].marker.symbol = 'square'\n",
    "fig.data[2].marker.symbol = 'diamond'\n",
    "\n",
    "fig.data[0].name = '2,5N'\n",
    "fig.data[1].name = '5N'\n",
    "fig.data[2].name = '8N'\n",
    "\n",
    "fig.data[0].showlegend = True\n",
    "fig.data[1].showlegend = True\n",
    "fig.data[2].showlegend = True\n",
    "\n",
    "fig.update_layout(showlegend = True,\n",
    "                  legend = dict(\n",
    "                      xanchor = 'left',\n",
    "                      yanchor = 'bottom',\n",
    "                      x = 0,\n",
    "                      y = 1,\n",
    "                      orientation = 'h',\n",
    "                      title_text = 'Força Normal: '\n",
    "                  ),\n",
    "                  coloraxis = dict(colorscale = 'Viridis',\n",
    "                                  colorbar_title = 'EG (%)',\n",
    "                                  ),\n",
    "                  annotations = (dict(text = 'Os pontos sem barra de erro representam uma única medição',\n",
    "                                      visible = True,\n",
    "                                      x=1,\n",
    "                                      y=1,\n",
    "                                      showarrow = False,\n",
    "                                      xref = 'paper',\n",
    "                                      yref = 'paper',\n",
    "                                      xanchor = 'right',\n",
    "                                      yanchor = 'bottom'\n",
    "                                    ),)\n",
    "                 )"
   ]
  },
  {
   "cell_type": "code",
   "execution_count": 6,
   "metadata": {},
   "outputs": [
    {
     "data": {
      "application/vnd.plotly.v1+json": {
       "config": {
        "plotlyServerURL": "https://plot.ly"
       },
       "data": [
        {
         "alignmentgroup": "True",
         "hovertemplate": "Força Normal=2.5<br>EG=%{x}<br>Largura Média=%{y}<extra></extra>",
         "legendgroup": "2.5",
         "marker": {
          "color": "#636efa"
         },
         "name": "2.5",
         "notched": false,
         "offsetgroup": "2.5",
         "orientation": "v",
         "showlegend": true,
         "type": "box",
         "visible": true,
         "x": [
          0,
          0,
          1,
          1,
          1,
          1,
          1,
          1,
          2,
          2,
          2
         ],
         "x0": " ",
         "xaxis": "x",
         "y": [
          264.3,
          262.4,
          267.62000000000006,
          274.02,
          280.2366666666667,
          287.9166666666667,
          268.83333333333337,
          267.99666666666667,
          298.9866666666667,
          293.02,
          290.9666666666667
         ],
         "y0": " ",
         "yaxis": "y"
        },
        {
         "alignmentgroup": "True",
         "hovertemplate": "Força Normal=5.0<br>EG=%{x}<br>Largura Média=%{y}<extra></extra>",
         "legendgroup": "5.0",
         "marker": {
          "color": "#EF553B"
         },
         "name": "5.0",
         "notched": false,
         "offsetgroup": "5.0",
         "orientation": "v",
         "showlegend": true,
         "type": "box",
         "visible": true,
         "x": [
          0,
          0,
          1,
          1,
          1,
          1,
          1,
          2,
          2,
          2
         ],
         "x0": " ",
         "xaxis": "x",
         "y": [
          324.8,
          321,
          326.17333333333335,
          311.0466666666666,
          326.15000000000003,
          359.51,
          340.53,
          377.3666666666666,
          370.3566666666666,
          377.06333333333333
         ],
         "y0": " ",
         "yaxis": "y"
        },
        {
         "alignmentgroup": "True",
         "hovertemplate": "Força Normal=8.0<br>EG=%{x}<br>Largura Média=%{y}<extra></extra>",
         "legendgroup": "8.0",
         "marker": {
          "color": "#00cc96"
         },
         "name": "8.0",
         "notched": false,
         "offsetgroup": "8.0",
         "orientation": "v",
         "showlegend": true,
         "type": "box",
         "visible": true,
         "x": [
          0,
          0,
          1,
          1,
          1,
          1,
          1,
          1,
          2,
          2,
          2,
          2,
          2,
          2
         ],
         "x0": " ",
         "xaxis": "x",
         "y": [
          413.5,
          384.7,
          452.92333333333335,
          445.27,
          459.07,
          433.08,
          418.7033333333334,
          417.42333333333335,
          474.48333333333335,
          455.99,
          486.93,
          470.48,
          461.12999999999994,
          472.75666666666666
         ],
         "y0": " ",
         "yaxis": "y"
        },
        {
         "alignmentgroup": "True",
         "hovertemplate": "Força Normal=2.5<br>EG=%{x}<br>Largura Média=%{y}<extra></extra>",
         "legendgroup": "2.5",
         "marker": {
          "color": "#636efa"
         },
         "name": "2.5",
         "notched": false,
         "offsetgroup": "2.5",
         "orientation": "v",
         "showlegend": true,
         "type": "box",
         "visible": false,
         "x": [
          0,
          0,
          1,
          1,
          2,
          2,
          2
         ],
         "x0": " ",
         "xaxis": "x",
         "y": [
          255.1,
          241.3,
          260.76,
          255.73,
          279.0466666666667,
          274.8566666666666,
          293.8066666666667
         ],
         "y0": " ",
         "yaxis": "y"
        },
        {
         "alignmentgroup": "True",
         "hovertemplate": "Força Normal=5.0<br>EG=%{x}<br>Largura Média=%{y}<extra></extra>",
         "legendgroup": "5.0",
         "marker": {
          "color": "#EF553B"
         },
         "name": "5.0",
         "notched": false,
         "offsetgroup": "5.0",
         "orientation": "v",
         "showlegend": true,
         "type": "box",
         "visible": false,
         "x": [
          0,
          0,
          1,
          1,
          1,
          1,
          2,
          2,
          2
         ],
         "x0": " ",
         "xaxis": "x",
         "y": [
          329.2,
          339.4,
          316.02333333333337,
          345.2833333333333,
          341.4266666666667,
          358.3933333333334,
          372.8833333333334,
          361.0833333333333,
          366.14000000000004
         ],
         "y0": " ",
         "yaxis": "y"
        },
        {
         "alignmentgroup": "True",
         "hovertemplate": "Força Normal=8.0<br>EG=%{x}<br>Largura Média=%{y}<extra></extra>",
         "legendgroup": "8.0",
         "marker": {
          "color": "#00cc96"
         },
         "name": "8.0",
         "notched": false,
         "offsetgroup": "8.0",
         "orientation": "v",
         "showlegend": true,
         "type": "box",
         "visible": false,
         "x": [
          0,
          0,
          1,
          1,
          1,
          1,
          1,
          1,
          2,
          2,
          2,
          2,
          2,
          2
         ],
         "x0": " ",
         "xaxis": "x",
         "y": [
          389.6,
          408,
          396.20666666666665,
          424.05,
          416.435,
          445.3333333333333,
          428.79333333333335,
          447.49333333333334,
          489.70666666666665,
          463.8333333333333,
          471.2633333333333,
          455.1566666666666,
          445.2,
          459.00333333333333
         ],
         "y0": " ",
         "yaxis": "y"
        }
       ],
       "layout": {
        "legend": {
         "orientation": "h",
         "title": {
          "text": "Força Normal (N):"
         },
         "x": 1,
         "xanchor": "right",
         "y": 1.05,
         "yanchor": "bottom"
        },
        "template": {
         "data": {
          "bar": [
           {
            "error_x": {
             "color": "#2a3f5f"
            },
            "error_y": {
             "color": "#2a3f5f"
            },
            "marker": {
             "line": {
              "color": "#E5ECF6",
              "width": 0.5
             }
            },
            "type": "bar"
           }
          ],
          "barpolar": [
           {
            "marker": {
             "line": {
              "color": "#E5ECF6",
              "width": 0.5
             }
            },
            "type": "barpolar"
           }
          ],
          "carpet": [
           {
            "aaxis": {
             "endlinecolor": "#2a3f5f",
             "gridcolor": "white",
             "linecolor": "white",
             "minorgridcolor": "white",
             "startlinecolor": "#2a3f5f"
            },
            "baxis": {
             "endlinecolor": "#2a3f5f",
             "gridcolor": "white",
             "linecolor": "white",
             "minorgridcolor": "white",
             "startlinecolor": "#2a3f5f"
            },
            "type": "carpet"
           }
          ],
          "choropleth": [
           {
            "colorbar": {
             "outlinewidth": 0,
             "ticks": ""
            },
            "type": "choropleth"
           }
          ],
          "contour": [
           {
            "colorbar": {
             "outlinewidth": 0,
             "ticks": ""
            },
            "colorscale": [
             [
              0,
              "#0d0887"
             ],
             [
              0.1111111111111111,
              "#46039f"
             ],
             [
              0.2222222222222222,
              "#7201a8"
             ],
             [
              0.3333333333333333,
              "#9c179e"
             ],
             [
              0.4444444444444444,
              "#bd3786"
             ],
             [
              0.5555555555555556,
              "#d8576b"
             ],
             [
              0.6666666666666666,
              "#ed7953"
             ],
             [
              0.7777777777777778,
              "#fb9f3a"
             ],
             [
              0.8888888888888888,
              "#fdca26"
             ],
             [
              1,
              "#f0f921"
             ]
            ],
            "type": "contour"
           }
          ],
          "contourcarpet": [
           {
            "colorbar": {
             "outlinewidth": 0,
             "ticks": ""
            },
            "type": "contourcarpet"
           }
          ],
          "heatmap": [
           {
            "colorbar": {
             "outlinewidth": 0,
             "ticks": ""
            },
            "colorscale": [
             [
              0,
              "#0d0887"
             ],
             [
              0.1111111111111111,
              "#46039f"
             ],
             [
              0.2222222222222222,
              "#7201a8"
             ],
             [
              0.3333333333333333,
              "#9c179e"
             ],
             [
              0.4444444444444444,
              "#bd3786"
             ],
             [
              0.5555555555555556,
              "#d8576b"
             ],
             [
              0.6666666666666666,
              "#ed7953"
             ],
             [
              0.7777777777777778,
              "#fb9f3a"
             ],
             [
              0.8888888888888888,
              "#fdca26"
             ],
             [
              1,
              "#f0f921"
             ]
            ],
            "type": "heatmap"
           }
          ],
          "heatmapgl": [
           {
            "colorbar": {
             "outlinewidth": 0,
             "ticks": ""
            },
            "colorscale": [
             [
              0,
              "#0d0887"
             ],
             [
              0.1111111111111111,
              "#46039f"
             ],
             [
              0.2222222222222222,
              "#7201a8"
             ],
             [
              0.3333333333333333,
              "#9c179e"
             ],
             [
              0.4444444444444444,
              "#bd3786"
             ],
             [
              0.5555555555555556,
              "#d8576b"
             ],
             [
              0.6666666666666666,
              "#ed7953"
             ],
             [
              0.7777777777777778,
              "#fb9f3a"
             ],
             [
              0.8888888888888888,
              "#fdca26"
             ],
             [
              1,
              "#f0f921"
             ]
            ],
            "type": "heatmapgl"
           }
          ],
          "histogram": [
           {
            "marker": {
             "colorbar": {
              "outlinewidth": 0,
              "ticks": ""
             }
            },
            "type": "histogram"
           }
          ],
          "histogram2d": [
           {
            "colorbar": {
             "outlinewidth": 0,
             "ticks": ""
            },
            "colorscale": [
             [
              0,
              "#0d0887"
             ],
             [
              0.1111111111111111,
              "#46039f"
             ],
             [
              0.2222222222222222,
              "#7201a8"
             ],
             [
              0.3333333333333333,
              "#9c179e"
             ],
             [
              0.4444444444444444,
              "#bd3786"
             ],
             [
              0.5555555555555556,
              "#d8576b"
             ],
             [
              0.6666666666666666,
              "#ed7953"
             ],
             [
              0.7777777777777778,
              "#fb9f3a"
             ],
             [
              0.8888888888888888,
              "#fdca26"
             ],
             [
              1,
              "#f0f921"
             ]
            ],
            "type": "histogram2d"
           }
          ],
          "histogram2dcontour": [
           {
            "colorbar": {
             "outlinewidth": 0,
             "ticks": ""
            },
            "colorscale": [
             [
              0,
              "#0d0887"
             ],
             [
              0.1111111111111111,
              "#46039f"
             ],
             [
              0.2222222222222222,
              "#7201a8"
             ],
             [
              0.3333333333333333,
              "#9c179e"
             ],
             [
              0.4444444444444444,
              "#bd3786"
             ],
             [
              0.5555555555555556,
              "#d8576b"
             ],
             [
              0.6666666666666666,
              "#ed7953"
             ],
             [
              0.7777777777777778,
              "#fb9f3a"
             ],
             [
              0.8888888888888888,
              "#fdca26"
             ],
             [
              1,
              "#f0f921"
             ]
            ],
            "type": "histogram2dcontour"
           }
          ],
          "mesh3d": [
           {
            "colorbar": {
             "outlinewidth": 0,
             "ticks": ""
            },
            "type": "mesh3d"
           }
          ],
          "parcoords": [
           {
            "line": {
             "colorbar": {
              "outlinewidth": 0,
              "ticks": ""
             }
            },
            "type": "parcoords"
           }
          ],
          "pie": [
           {
            "automargin": true,
            "type": "pie"
           }
          ],
          "scatter": [
           {
            "marker": {
             "colorbar": {
              "outlinewidth": 0,
              "ticks": ""
             }
            },
            "type": "scatter"
           }
          ],
          "scatter3d": [
           {
            "line": {
             "colorbar": {
              "outlinewidth": 0,
              "ticks": ""
             }
            },
            "marker": {
             "colorbar": {
              "outlinewidth": 0,
              "ticks": ""
             }
            },
            "type": "scatter3d"
           }
          ],
          "scattercarpet": [
           {
            "marker": {
             "colorbar": {
              "outlinewidth": 0,
              "ticks": ""
             }
            },
            "type": "scattercarpet"
           }
          ],
          "scattergeo": [
           {
            "marker": {
             "colorbar": {
              "outlinewidth": 0,
              "ticks": ""
             }
            },
            "type": "scattergeo"
           }
          ],
          "scattergl": [
           {
            "marker": {
             "colorbar": {
              "outlinewidth": 0,
              "ticks": ""
             }
            },
            "type": "scattergl"
           }
          ],
          "scattermapbox": [
           {
            "marker": {
             "colorbar": {
              "outlinewidth": 0,
              "ticks": ""
             }
            },
            "type": "scattermapbox"
           }
          ],
          "scatterpolar": [
           {
            "marker": {
             "colorbar": {
              "outlinewidth": 0,
              "ticks": ""
             }
            },
            "type": "scatterpolar"
           }
          ],
          "scatterpolargl": [
           {
            "marker": {
             "colorbar": {
              "outlinewidth": 0,
              "ticks": ""
             }
            },
            "type": "scatterpolargl"
           }
          ],
          "scatterternary": [
           {
            "marker": {
             "colorbar": {
              "outlinewidth": 0,
              "ticks": ""
             }
            },
            "type": "scatterternary"
           }
          ],
          "surface": [
           {
            "colorbar": {
             "outlinewidth": 0,
             "ticks": ""
            },
            "colorscale": [
             [
              0,
              "#0d0887"
             ],
             [
              0.1111111111111111,
              "#46039f"
             ],
             [
              0.2222222222222222,
              "#7201a8"
             ],
             [
              0.3333333333333333,
              "#9c179e"
             ],
             [
              0.4444444444444444,
              "#bd3786"
             ],
             [
              0.5555555555555556,
              "#d8576b"
             ],
             [
              0.6666666666666666,
              "#ed7953"
             ],
             [
              0.7777777777777778,
              "#fb9f3a"
             ],
             [
              0.8888888888888888,
              "#fdca26"
             ],
             [
              1,
              "#f0f921"
             ]
            ],
            "type": "surface"
           }
          ],
          "table": [
           {
            "cells": {
             "fill": {
              "color": "#EBF0F8"
             },
             "line": {
              "color": "white"
             }
            },
            "header": {
             "fill": {
              "color": "#C8D4E3"
             },
             "line": {
              "color": "white"
             }
            },
            "type": "table"
           }
          ]
         },
         "layout": {
          "annotationdefaults": {
           "arrowcolor": "#2a3f5f",
           "arrowhead": 0,
           "arrowwidth": 1
          },
          "coloraxis": {
           "colorbar": {
            "outlinewidth": 0,
            "ticks": ""
           }
          },
          "colorscale": {
           "diverging": [
            [
             0,
             "#8e0152"
            ],
            [
             0.1,
             "#c51b7d"
            ],
            [
             0.2,
             "#de77ae"
            ],
            [
             0.3,
             "#f1b6da"
            ],
            [
             0.4,
             "#fde0ef"
            ],
            [
             0.5,
             "#f7f7f7"
            ],
            [
             0.6,
             "#e6f5d0"
            ],
            [
             0.7,
             "#b8e186"
            ],
            [
             0.8,
             "#7fbc41"
            ],
            [
             0.9,
             "#4d9221"
            ],
            [
             1,
             "#276419"
            ]
           ],
           "sequential": [
            [
             0,
             "#0d0887"
            ],
            [
             0.1111111111111111,
             "#46039f"
            ],
            [
             0.2222222222222222,
             "#7201a8"
            ],
            [
             0.3333333333333333,
             "#9c179e"
            ],
            [
             0.4444444444444444,
             "#bd3786"
            ],
            [
             0.5555555555555556,
             "#d8576b"
            ],
            [
             0.6666666666666666,
             "#ed7953"
            ],
            [
             0.7777777777777778,
             "#fb9f3a"
            ],
            [
             0.8888888888888888,
             "#fdca26"
            ],
            [
             1,
             "#f0f921"
            ]
           ],
           "sequentialminus": [
            [
             0,
             "#0d0887"
            ],
            [
             0.1111111111111111,
             "#46039f"
            ],
            [
             0.2222222222222222,
             "#7201a8"
            ],
            [
             0.3333333333333333,
             "#9c179e"
            ],
            [
             0.4444444444444444,
             "#bd3786"
            ],
            [
             0.5555555555555556,
             "#d8576b"
            ],
            [
             0.6666666666666666,
             "#ed7953"
            ],
            [
             0.7777777777777778,
             "#fb9f3a"
            ],
            [
             0.8888888888888888,
             "#fdca26"
            ],
            [
             1,
             "#f0f921"
            ]
           ]
          },
          "colorway": [
           "#636efa",
           "#EF553B",
           "#00cc96",
           "#ab63fa",
           "#FFA15A",
           "#19d3f3",
           "#FF6692",
           "#B6E880",
           "#FF97FF",
           "#FECB52"
          ],
          "font": {
           "color": "#2a3f5f"
          },
          "geo": {
           "bgcolor": "white",
           "lakecolor": "white",
           "landcolor": "#E5ECF6",
           "showlakes": true,
           "showland": true,
           "subunitcolor": "white"
          },
          "hoverlabel": {
           "align": "left"
          },
          "hovermode": "closest",
          "mapbox": {
           "style": "light"
          },
          "paper_bgcolor": "white",
          "plot_bgcolor": "#E5ECF6",
          "polar": {
           "angularaxis": {
            "gridcolor": "white",
            "linecolor": "white",
            "ticks": ""
           },
           "bgcolor": "#E5ECF6",
           "radialaxis": {
            "gridcolor": "white",
            "linecolor": "white",
            "ticks": ""
           }
          },
          "scene": {
           "xaxis": {
            "backgroundcolor": "#E5ECF6",
            "gridcolor": "white",
            "gridwidth": 2,
            "linecolor": "white",
            "showbackground": true,
            "ticks": "",
            "zerolinecolor": "white"
           },
           "yaxis": {
            "backgroundcolor": "#E5ECF6",
            "gridcolor": "white",
            "gridwidth": 2,
            "linecolor": "white",
            "showbackground": true,
            "ticks": "",
            "zerolinecolor": "white"
           },
           "zaxis": {
            "backgroundcolor": "#E5ECF6",
            "gridcolor": "white",
            "gridwidth": 2,
            "linecolor": "white",
            "showbackground": true,
            "ticks": "",
            "zerolinecolor": "white"
           }
          },
          "shapedefaults": {
           "line": {
            "color": "#2a3f5f"
           }
          },
          "ternary": {
           "aaxis": {
            "gridcolor": "white",
            "linecolor": "white",
            "ticks": ""
           },
           "baxis": {
            "gridcolor": "white",
            "linecolor": "white",
            "ticks": ""
           },
           "bgcolor": "#E5ECF6",
           "caxis": {
            "gridcolor": "white",
            "linecolor": "white",
            "ticks": ""
           }
          },
          "title": {
           "x": 0.05
          },
          "xaxis": {
           "automargin": true,
           "gridcolor": "white",
           "linecolor": "white",
           "ticks": "",
           "title": {
            "standoff": 15
           },
           "zerolinecolor": "white",
           "zerolinewidth": 2
          },
          "yaxis": {
           "automargin": true,
           "gridcolor": "white",
           "linecolor": "white",
           "ticks": "",
           "title": {
            "standoff": 15
           },
           "zerolinecolor": "white",
           "zerolinewidth": 2
          }
         }
        },
        "updatemenus": [
         {
          "active": 0,
          "buttons": [
           {
            "args": [
             {
              "visible": [
               true,
               true,
               true,
               false,
               false,
               false
              ]
             }
            ],
            "label": "2 Hz",
            "method": "update"
           },
           {
            "args": [
             {
              "visible": [
               false,
               false,
               false,
               true,
               true,
               true
              ]
             }
            ],
            "label": "4 Hz",
            "method": "update"
           }
          ],
          "direction": "right",
          "type": "buttons",
          "x": 0.57,
          "y": 1.2
         }
        ],
        "xaxis": {
         "ticksuffix": "%",
         "title": {
          "text": "Fração de Grafite Expandido"
         }
        },
        "yaxis": {
         "dtick": 50,
         "tick0": 200,
         "tickmode": "linear",
         "title": {
          "text": "Largura de Desgaste (µm)"
         }
        }
       }
      },
      "text/html": [
       "<div>\n",
       "        \n",
       "        \n",
       "            <div id=\"48897b3d-d3fb-46a4-8712-c2d607a1a826\" class=\"plotly-graph-div\" style=\"height:525px; width:100%;\"></div>\n",
       "            <script type=\"text/javascript\">\n",
       "                require([\"plotly\"], function(Plotly) {\n",
       "                    window.PLOTLYENV=window.PLOTLYENV || {};\n",
       "                    \n",
       "                if (document.getElementById(\"48897b3d-d3fb-46a4-8712-c2d607a1a826\")) {\n",
       "                    Plotly.newPlot(\n",
       "                        '48897b3d-d3fb-46a4-8712-c2d607a1a826',\n",
       "                        [{\"alignmentgroup\": \"True\", \"hovertemplate\": \"For\\u00e7a Normal=2.5<br>EG=%{x}<br>Largura M\\u00e9dia=%{y}<extra></extra>\", \"legendgroup\": \"2.5\", \"marker\": {\"color\": \"#636efa\"}, \"name\": \"2.5\", \"notched\": false, \"offsetgroup\": \"2.5\", \"orientation\": \"v\", \"showlegend\": true, \"type\": \"box\", \"visible\": true, \"x\": [0, 0, 1, 1, 1, 1, 1, 1, 2, 2, 2], \"x0\": \" \", \"xaxis\": \"x\", \"y\": [264.3, 262.4, 267.62000000000006, 274.02, 280.2366666666667, 287.9166666666667, 268.83333333333337, 267.99666666666667, 298.9866666666667, 293.02, 290.9666666666667], \"y0\": \" \", \"yaxis\": \"y\"}, {\"alignmentgroup\": \"True\", \"hovertemplate\": \"For\\u00e7a Normal=5.0<br>EG=%{x}<br>Largura M\\u00e9dia=%{y}<extra></extra>\", \"legendgroup\": \"5.0\", \"marker\": {\"color\": \"#EF553B\"}, \"name\": \"5.0\", \"notched\": false, \"offsetgroup\": \"5.0\", \"orientation\": \"v\", \"showlegend\": true, \"type\": \"box\", \"visible\": true, \"x\": [0, 0, 1, 1, 1, 1, 1, 2, 2, 2], \"x0\": \" \", \"xaxis\": \"x\", \"y\": [324.8, 321.0, 326.17333333333335, 311.0466666666666, 326.15000000000003, 359.51, 340.53, 377.3666666666666, 370.3566666666666, 377.06333333333333], \"y0\": \" \", \"yaxis\": \"y\"}, {\"alignmentgroup\": \"True\", \"hovertemplate\": \"For\\u00e7a Normal=8.0<br>EG=%{x}<br>Largura M\\u00e9dia=%{y}<extra></extra>\", \"legendgroup\": \"8.0\", \"marker\": {\"color\": \"#00cc96\"}, \"name\": \"8.0\", \"notched\": false, \"offsetgroup\": \"8.0\", \"orientation\": \"v\", \"showlegend\": true, \"type\": \"box\", \"visible\": true, \"x\": [0, 0, 1, 1, 1, 1, 1, 1, 2, 2, 2, 2, 2, 2], \"x0\": \" \", \"xaxis\": \"x\", \"y\": [413.5, 384.7, 452.92333333333335, 445.27, 459.07, 433.08, 418.7033333333334, 417.42333333333335, 474.48333333333335, 455.99, 486.93, 470.48, 461.12999999999994, 472.75666666666666], \"y0\": \" \", \"yaxis\": \"y\"}, {\"alignmentgroup\": \"True\", \"hovertemplate\": \"For\\u00e7a Normal=2.5<br>EG=%{x}<br>Largura M\\u00e9dia=%{y}<extra></extra>\", \"legendgroup\": \"2.5\", \"marker\": {\"color\": \"#636efa\"}, \"name\": \"2.5\", \"notched\": false, \"offsetgroup\": \"2.5\", \"orientation\": \"v\", \"showlegend\": true, \"type\": \"box\", \"visible\": false, \"x\": [0, 0, 1, 1, 2, 2, 2], \"x0\": \" \", \"xaxis\": \"x\", \"y\": [255.1, 241.3, 260.76, 255.73, 279.0466666666667, 274.8566666666666, 293.8066666666667], \"y0\": \" \", \"yaxis\": \"y\"}, {\"alignmentgroup\": \"True\", \"hovertemplate\": \"For\\u00e7a Normal=5.0<br>EG=%{x}<br>Largura M\\u00e9dia=%{y}<extra></extra>\", \"legendgroup\": \"5.0\", \"marker\": {\"color\": \"#EF553B\"}, \"name\": \"5.0\", \"notched\": false, \"offsetgroup\": \"5.0\", \"orientation\": \"v\", \"showlegend\": true, \"type\": \"box\", \"visible\": false, \"x\": [0, 0, 1, 1, 1, 1, 2, 2, 2], \"x0\": \" \", \"xaxis\": \"x\", \"y\": [329.2, 339.4, 316.02333333333337, 345.2833333333333, 341.4266666666667, 358.3933333333334, 372.8833333333334, 361.0833333333333, 366.14000000000004], \"y0\": \" \", \"yaxis\": \"y\"}, {\"alignmentgroup\": \"True\", \"hovertemplate\": \"For\\u00e7a Normal=8.0<br>EG=%{x}<br>Largura M\\u00e9dia=%{y}<extra></extra>\", \"legendgroup\": \"8.0\", \"marker\": {\"color\": \"#00cc96\"}, \"name\": \"8.0\", \"notched\": false, \"offsetgroup\": \"8.0\", \"orientation\": \"v\", \"showlegend\": true, \"type\": \"box\", \"visible\": false, \"x\": [0, 0, 1, 1, 1, 1, 1, 1, 2, 2, 2, 2, 2, 2], \"x0\": \" \", \"xaxis\": \"x\", \"y\": [389.6, 408.0, 396.20666666666665, 424.05, 416.435, 445.3333333333333, 428.79333333333335, 447.49333333333334, 489.70666666666665, 463.8333333333333, 471.2633333333333, 455.1566666666666, 445.2, 459.00333333333333], \"y0\": \" \", \"yaxis\": \"y\"}],\n",
       "                        {\"legend\": {\"orientation\": \"h\", \"title\": {\"text\": \"For\\u00e7a Normal (N):\"}, \"x\": 1.0, \"xanchor\": \"right\", \"y\": 1.05, \"yanchor\": \"bottom\"}, \"template\": {\"data\": {\"bar\": [{\"error_x\": {\"color\": \"#2a3f5f\"}, \"error_y\": {\"color\": \"#2a3f5f\"}, \"marker\": {\"line\": {\"color\": \"#E5ECF6\", \"width\": 0.5}}, \"type\": \"bar\"}], \"barpolar\": [{\"marker\": {\"line\": {\"color\": \"#E5ECF6\", \"width\": 0.5}}, \"type\": \"barpolar\"}], \"carpet\": [{\"aaxis\": {\"endlinecolor\": \"#2a3f5f\", \"gridcolor\": \"white\", \"linecolor\": \"white\", \"minorgridcolor\": \"white\", \"startlinecolor\": \"#2a3f5f\"}, \"baxis\": {\"endlinecolor\": \"#2a3f5f\", \"gridcolor\": \"white\", \"linecolor\": \"white\", \"minorgridcolor\": \"white\", \"startlinecolor\": \"#2a3f5f\"}, \"type\": \"carpet\"}], \"choropleth\": [{\"colorbar\": {\"outlinewidth\": 0, \"ticks\": \"\"}, \"type\": \"choropleth\"}], \"contour\": [{\"colorbar\": {\"outlinewidth\": 0, \"ticks\": \"\"}, \"colorscale\": [[0.0, \"#0d0887\"], [0.1111111111111111, \"#46039f\"], [0.2222222222222222, \"#7201a8\"], [0.3333333333333333, \"#9c179e\"], [0.4444444444444444, \"#bd3786\"], [0.5555555555555556, \"#d8576b\"], [0.6666666666666666, \"#ed7953\"], [0.7777777777777778, \"#fb9f3a\"], [0.8888888888888888, \"#fdca26\"], [1.0, \"#f0f921\"]], \"type\": \"contour\"}], \"contourcarpet\": [{\"colorbar\": {\"outlinewidth\": 0, \"ticks\": \"\"}, \"type\": \"contourcarpet\"}], \"heatmap\": [{\"colorbar\": {\"outlinewidth\": 0, \"ticks\": \"\"}, \"colorscale\": [[0.0, \"#0d0887\"], [0.1111111111111111, \"#46039f\"], [0.2222222222222222, \"#7201a8\"], [0.3333333333333333, \"#9c179e\"], [0.4444444444444444, \"#bd3786\"], [0.5555555555555556, \"#d8576b\"], [0.6666666666666666, \"#ed7953\"], [0.7777777777777778, \"#fb9f3a\"], [0.8888888888888888, \"#fdca26\"], [1.0, \"#f0f921\"]], \"type\": \"heatmap\"}], \"heatmapgl\": [{\"colorbar\": {\"outlinewidth\": 0, \"ticks\": \"\"}, \"colorscale\": [[0.0, \"#0d0887\"], [0.1111111111111111, \"#46039f\"], [0.2222222222222222, \"#7201a8\"], [0.3333333333333333, \"#9c179e\"], [0.4444444444444444, \"#bd3786\"], [0.5555555555555556, \"#d8576b\"], [0.6666666666666666, \"#ed7953\"], [0.7777777777777778, \"#fb9f3a\"], [0.8888888888888888, \"#fdca26\"], [1.0, \"#f0f921\"]], \"type\": \"heatmapgl\"}], \"histogram\": [{\"marker\": {\"colorbar\": {\"outlinewidth\": 0, \"ticks\": \"\"}}, \"type\": \"histogram\"}], \"histogram2d\": [{\"colorbar\": {\"outlinewidth\": 0, \"ticks\": \"\"}, \"colorscale\": [[0.0, \"#0d0887\"], [0.1111111111111111, \"#46039f\"], [0.2222222222222222, \"#7201a8\"], [0.3333333333333333, \"#9c179e\"], [0.4444444444444444, \"#bd3786\"], [0.5555555555555556, \"#d8576b\"], [0.6666666666666666, \"#ed7953\"], [0.7777777777777778, \"#fb9f3a\"], [0.8888888888888888, \"#fdca26\"], [1.0, \"#f0f921\"]], \"type\": \"histogram2d\"}], \"histogram2dcontour\": [{\"colorbar\": {\"outlinewidth\": 0, \"ticks\": \"\"}, \"colorscale\": [[0.0, \"#0d0887\"], [0.1111111111111111, \"#46039f\"], [0.2222222222222222, \"#7201a8\"], [0.3333333333333333, \"#9c179e\"], [0.4444444444444444, \"#bd3786\"], [0.5555555555555556, \"#d8576b\"], [0.6666666666666666, \"#ed7953\"], [0.7777777777777778, \"#fb9f3a\"], [0.8888888888888888, \"#fdca26\"], [1.0, \"#f0f921\"]], \"type\": \"histogram2dcontour\"}], \"mesh3d\": [{\"colorbar\": {\"outlinewidth\": 0, \"ticks\": \"\"}, \"type\": \"mesh3d\"}], \"parcoords\": [{\"line\": {\"colorbar\": {\"outlinewidth\": 0, \"ticks\": \"\"}}, \"type\": \"parcoords\"}], \"pie\": [{\"automargin\": true, \"type\": \"pie\"}], \"scatter\": [{\"marker\": {\"colorbar\": {\"outlinewidth\": 0, \"ticks\": \"\"}}, \"type\": \"scatter\"}], \"scatter3d\": [{\"line\": {\"colorbar\": {\"outlinewidth\": 0, \"ticks\": \"\"}}, \"marker\": {\"colorbar\": {\"outlinewidth\": 0, \"ticks\": \"\"}}, \"type\": \"scatter3d\"}], \"scattercarpet\": [{\"marker\": {\"colorbar\": {\"outlinewidth\": 0, \"ticks\": \"\"}}, \"type\": \"scattercarpet\"}], \"scattergeo\": [{\"marker\": {\"colorbar\": {\"outlinewidth\": 0, \"ticks\": \"\"}}, \"type\": \"scattergeo\"}], \"scattergl\": [{\"marker\": {\"colorbar\": {\"outlinewidth\": 0, \"ticks\": \"\"}}, \"type\": \"scattergl\"}], \"scattermapbox\": [{\"marker\": {\"colorbar\": {\"outlinewidth\": 0, \"ticks\": \"\"}}, \"type\": \"scattermapbox\"}], \"scatterpolar\": [{\"marker\": {\"colorbar\": {\"outlinewidth\": 0, \"ticks\": \"\"}}, \"type\": \"scatterpolar\"}], \"scatterpolargl\": [{\"marker\": {\"colorbar\": {\"outlinewidth\": 0, \"ticks\": \"\"}}, \"type\": \"scatterpolargl\"}], \"scatterternary\": [{\"marker\": {\"colorbar\": {\"outlinewidth\": 0, \"ticks\": \"\"}}, \"type\": \"scatterternary\"}], \"surface\": [{\"colorbar\": {\"outlinewidth\": 0, \"ticks\": \"\"}, \"colorscale\": [[0.0, \"#0d0887\"], [0.1111111111111111, \"#46039f\"], [0.2222222222222222, \"#7201a8\"], [0.3333333333333333, \"#9c179e\"], [0.4444444444444444, \"#bd3786\"], [0.5555555555555556, \"#d8576b\"], [0.6666666666666666, \"#ed7953\"], [0.7777777777777778, \"#fb9f3a\"], [0.8888888888888888, \"#fdca26\"], [1.0, \"#f0f921\"]], \"type\": \"surface\"}], \"table\": [{\"cells\": {\"fill\": {\"color\": \"#EBF0F8\"}, \"line\": {\"color\": \"white\"}}, \"header\": {\"fill\": {\"color\": \"#C8D4E3\"}, \"line\": {\"color\": \"white\"}}, \"type\": \"table\"}]}, \"layout\": {\"annotationdefaults\": {\"arrowcolor\": \"#2a3f5f\", \"arrowhead\": 0, \"arrowwidth\": 1}, \"coloraxis\": {\"colorbar\": {\"outlinewidth\": 0, \"ticks\": \"\"}}, \"colorscale\": {\"diverging\": [[0, \"#8e0152\"], [0.1, \"#c51b7d\"], [0.2, \"#de77ae\"], [0.3, \"#f1b6da\"], [0.4, \"#fde0ef\"], [0.5, \"#f7f7f7\"], [0.6, \"#e6f5d0\"], [0.7, \"#b8e186\"], [0.8, \"#7fbc41\"], [0.9, \"#4d9221\"], [1, \"#276419\"]], \"sequential\": [[0.0, \"#0d0887\"], [0.1111111111111111, \"#46039f\"], [0.2222222222222222, \"#7201a8\"], [0.3333333333333333, \"#9c179e\"], [0.4444444444444444, \"#bd3786\"], [0.5555555555555556, \"#d8576b\"], [0.6666666666666666, \"#ed7953\"], [0.7777777777777778, \"#fb9f3a\"], [0.8888888888888888, \"#fdca26\"], [1.0, \"#f0f921\"]], \"sequentialminus\": [[0.0, \"#0d0887\"], [0.1111111111111111, \"#46039f\"], [0.2222222222222222, \"#7201a8\"], [0.3333333333333333, \"#9c179e\"], [0.4444444444444444, \"#bd3786\"], [0.5555555555555556, \"#d8576b\"], [0.6666666666666666, \"#ed7953\"], [0.7777777777777778, \"#fb9f3a\"], [0.8888888888888888, \"#fdca26\"], [1.0, \"#f0f921\"]]}, \"colorway\": [\"#636efa\", \"#EF553B\", \"#00cc96\", \"#ab63fa\", \"#FFA15A\", \"#19d3f3\", \"#FF6692\", \"#B6E880\", \"#FF97FF\", \"#FECB52\"], \"font\": {\"color\": \"#2a3f5f\"}, \"geo\": {\"bgcolor\": \"white\", \"lakecolor\": \"white\", \"landcolor\": \"#E5ECF6\", \"showlakes\": true, \"showland\": true, \"subunitcolor\": \"white\"}, \"hoverlabel\": {\"align\": \"left\"}, \"hovermode\": \"closest\", \"mapbox\": {\"style\": \"light\"}, \"paper_bgcolor\": \"white\", \"plot_bgcolor\": \"#E5ECF6\", \"polar\": {\"angularaxis\": {\"gridcolor\": \"white\", \"linecolor\": \"white\", \"ticks\": \"\"}, \"bgcolor\": \"#E5ECF6\", \"radialaxis\": {\"gridcolor\": \"white\", \"linecolor\": \"white\", \"ticks\": \"\"}}, \"scene\": {\"xaxis\": {\"backgroundcolor\": \"#E5ECF6\", \"gridcolor\": \"white\", \"gridwidth\": 2, \"linecolor\": \"white\", \"showbackground\": true, \"ticks\": \"\", \"zerolinecolor\": \"white\"}, \"yaxis\": {\"backgroundcolor\": \"#E5ECF6\", \"gridcolor\": \"white\", \"gridwidth\": 2, \"linecolor\": \"white\", \"showbackground\": true, \"ticks\": \"\", \"zerolinecolor\": \"white\"}, \"zaxis\": {\"backgroundcolor\": \"#E5ECF6\", \"gridcolor\": \"white\", \"gridwidth\": 2, \"linecolor\": \"white\", \"showbackground\": true, \"ticks\": \"\", \"zerolinecolor\": \"white\"}}, \"shapedefaults\": {\"line\": {\"color\": \"#2a3f5f\"}}, \"ternary\": {\"aaxis\": {\"gridcolor\": \"white\", \"linecolor\": \"white\", \"ticks\": \"\"}, \"baxis\": {\"gridcolor\": \"white\", \"linecolor\": \"white\", \"ticks\": \"\"}, \"bgcolor\": \"#E5ECF6\", \"caxis\": {\"gridcolor\": \"white\", \"linecolor\": \"white\", \"ticks\": \"\"}}, \"title\": {\"x\": 0.05}, \"xaxis\": {\"automargin\": true, \"gridcolor\": \"white\", \"linecolor\": \"white\", \"ticks\": \"\", \"title\": {\"standoff\": 15}, \"zerolinecolor\": \"white\", \"zerolinewidth\": 2}, \"yaxis\": {\"automargin\": true, \"gridcolor\": \"white\", \"linecolor\": \"white\", \"ticks\": \"\", \"title\": {\"standoff\": 15}, \"zerolinecolor\": \"white\", \"zerolinewidth\": 2}}}, \"updatemenus\": [{\"active\": 0, \"buttons\": [{\"args\": [{\"visible\": [true, true, true, false, false, false]}], \"label\": \"2 Hz\", \"method\": \"update\"}, {\"args\": [{\"visible\": [false, false, false, true, true, true]}], \"label\": \"4 Hz\", \"method\": \"update\"}], \"direction\": \"right\", \"type\": \"buttons\", \"x\": 0.57, \"y\": 1.2}], \"xaxis\": {\"ticksuffix\": \"%\", \"title\": {\"text\": \"Fra\\u00e7\\u00e3o de Grafite Expandido\"}}, \"yaxis\": {\"dtick\": 50, \"tick0\": 200, \"tickmode\": \"linear\", \"title\": {\"text\": \"Largura de Desgaste (\\u00b5m)\"}}},\n",
       "                        {\"responsive\": true}\n",
       "                    ).then(function(){\n",
       "                            \n",
       "var gd = document.getElementById('48897b3d-d3fb-46a4-8712-c2d607a1a826');\n",
       "var x = new MutationObserver(function (mutations, observer) {{\n",
       "        var display = window.getComputedStyle(gd).display;\n",
       "        if (!display || display === 'none') {{\n",
       "            console.log([gd, 'removed!']);\n",
       "            Plotly.purge(gd);\n",
       "            observer.disconnect();\n",
       "        }}\n",
       "}});\n",
       "\n",
       "// Listen for the removal of the full notebook cells\n",
       "var notebookContainer = gd.closest('#notebook-container');\n",
       "if (notebookContainer) {{\n",
       "    x.observe(notebookContainer, {childList: true});\n",
       "}}\n",
       "\n",
       "// Listen for the clearing of the current output cell\n",
       "var outputEl = gd.closest('.output');\n",
       "if (outputEl) {{\n",
       "    x.observe(outputEl, {childList: true});\n",
       "}}\n",
       "\n",
       "                        })\n",
       "                };\n",
       "                });\n",
       "            </script>\n",
       "        </div>"
      ]
     },
     "metadata": {},
     "output_type": "display_data"
    }
   ],
   "source": [
    "fig = go.Figure()\n",
    "\n",
    "f2 = px.box(df[df['Frequência']==2],\n",
    "             y='Largura Média',\n",
    "             x = 'EG',\n",
    "             color = 'Força Normal',\n",
    "            )\n",
    "\n",
    "f4 = px.box(df[df['Frequência']==4],\n",
    "             y='Largura Média',\n",
    "             x = 'EG',\n",
    "             color = 'Força Normal',\n",
    "            )\n",
    "\n",
    "for data in f2.data:\n",
    "    data.visible = True\n",
    "    fig.add_trace(data)\n",
    "for data in f4.data:\n",
    "    data.visible = False\n",
    "    fig.add_trace(data)\n",
    "\n",
    "fig.update_layout(xaxis_title = 'Fração de Grafite Expandido',\n",
    "                  yaxis_title = 'Largura de Desgaste (µm)',\n",
    "                  xaxis_ticksuffix = '%',\n",
    "                  yaxis_tickmode = 'linear',\n",
    "                  yaxis_dtick = 50,\n",
    "                  yaxis_tick0 = 200,\n",
    "                  legend = dict(orientation = 'h',\n",
    "                                y = 1.05,\n",
    "                                x = 1.0,\n",
    "                                xanchor= 'right',\n",
    "                                yanchor= 'bottom',\n",
    "                                title = dict(text = 'Força Normal (N):')\n",
    "                               )\n",
    "                 )\n",
    "\n",
    "updatemenus=[\n",
    "       dict(\n",
    "            type=\"buttons\",\n",
    "            direction=\"right\",\n",
    "            active=0,\n",
    "            x=0.57,\n",
    "            y=1.2,\n",
    "            buttons=list([\n",
    "                dict(label='2 Hz',\n",
    "                     method=\"update\",\n",
    "                     args=[{\"visible\": [True]*3+[False]*3},\n",
    "                           ]),\n",
    "                dict(label='4 Hz',\n",
    "                     method=\"update\",\n",
    "                     args=[{\"visible\": [False]*3+[True]*3},\n",
    "                           ]),\n",
    "\n",
    "            ]),\n",
    "        )\n",
    "    ]\n",
    "fig.update_layout(updatemenus=updatemenus)"
   ]
  },
  {
   "cell_type": "code",
   "execution_count": 122,
   "metadata": {},
   "outputs": [
    {
     "data": {
      "application/vnd.plotly.v1+json": {
       "config": {
        "plotlyServerURL": "https://plot.ly"
       },
       "data": [
        {
         "hovertemplate": "Largura Média=%{x}<br>COF Médio=%{y}<br>EG=%{marker.color}<extra></extra>",
         "legendgroup": "",
         "marker": {
          "color": [
           0,
           0,
           0,
           0,
           1,
           1,
           1,
           1,
           2,
           2,
           2,
           2
          ],
          "coloraxis": "coloraxis",
          "symbol": "circle"
         },
         "mode": "markers",
         "name": "2,5N",
         "orientation": "v",
         "showlegend": true,
         "type": "scatter",
         "x": [
          264.3,
          255.1,
          262.4,
          241.3,
          258.245,
          273.9588888888889,
          258.245,
          274.91555555555556,
          294.32444444444445,
          282.57,
          294.32444444444445,
          282.57
         ],
         "xaxis": "x",
         "y": [
          0.25321853338838485,
          0.40618569006922295,
          0.2685295522493547,
          0.4039308846901071,
          0.19005304608864648,
          0.17108793623172805,
          0.27581771964202184,
          0.22488755197735286,
          0.2225957990274361,
          0.21887577255869856,
          0.2705955307753017,
          0.23128675613631114
         ],
         "yaxis": "y"
        },
        {
         "hovertemplate": "Largura Média=%{x}<br>COF Médio=%{y}<br>EG=%{marker.color}<extra></extra>",
         "legendgroup": "",
         "marker": {
          "color": [
           0,
           0,
           0,
           0,
           1,
           1,
           1,
           1,
           2,
           2,
           2,
           2
          ],
          "coloraxis": "coloraxis",
          "symbol": "square"
         },
         "mode": "markers",
         "name": "5N",
         "orientation": "v",
         "showlegend": true,
         "type": "scatter",
         "x": [
          324.8,
          329.2,
          321,
          339.4,
          321.1233333333334,
          316.02333333333337,
          348.3677777777778,
          350.02,
          366.70222222222225,
          374.9288888888889,
          366.70222222222225,
          374.9288888888889
         ],
         "xaxis": "x",
         "y": [
          0.3104597362364957,
          0.31010994172700473,
          0.2295760486823908,
          0.28530486211646283,
          0.1565856607285783,
          0.15396607805050294,
          0.16951580099573174,
          0.23360099361000455,
          0.17236847960445448,
          0.18920154092138985,
          0.15941794102066614,
          0.21957670187640044
         ],
         "yaxis": "y"
        },
        {
         "hovertemplate": "Largura Média=%{x}<br>COF Médio=%{y}<br>EG=%{marker.color}<extra></extra>",
         "legendgroup": "",
         "marker": {
          "color": [
           0,
           0,
           0,
           0,
           1,
           1,
           1,
           1,
           2,
           2,
           2,
           2
          ],
          "coloraxis": "coloraxis",
          "symbol": "diamond"
         },
         "mode": "markers",
         "name": "8N",
         "orientation": "v",
         "showlegend": true,
         "type": "scatter",
         "x": [
          413.5,
          389.6,
          384.7,
          408,
          412.23055555555555,
          452.4211111111111,
          440.53999999999996,
          423.0688888888889,
          474.9344444444444,
          472.4677777777778,
          453.11999999999995,
          468.1222222222222
         ],
         "xaxis": "x",
         "y": [
          0.2421318169842722,
          0.2380204456371949,
          0.22385098930809266,
          0.2115688680911057,
          0.13974644181530094,
          0.19473148375768368,
          0.15398469846985066,
          0.10185537925113278,
          0.16059199887009573,
          0.20840804042179306,
          0.13940222496910376,
          0.19917676191144396
         ],
         "yaxis": "y"
        }
       ],
       "layout": {
        "coloraxis": {
         "colorbar": {
          "title": {
           "text": "EG (%)"
          }
         },
         "colorscale": [
          [
           0,
           "rgb(0,0,255)"
          ],
          [
           1,
           "rgb(255,0,0)"
          ]
         ]
        },
        "legend": {
         "orientation": "h",
         "title": {
          "text": "Força Normal: "
         },
         "x": 0,
         "xanchor": "left",
         "y": 1,
         "yanchor": "bottom"
        },
        "showlegend": true,
        "template": {
         "data": {
          "bar": [
           {
            "error_x": {
             "color": "#2a3f5f"
            },
            "error_y": {
             "color": "#2a3f5f"
            },
            "marker": {
             "line": {
              "color": "#E5ECF6",
              "width": 0.5
             }
            },
            "type": "bar"
           }
          ],
          "barpolar": [
           {
            "marker": {
             "line": {
              "color": "#E5ECF6",
              "width": 0.5
             }
            },
            "type": "barpolar"
           }
          ],
          "carpet": [
           {
            "aaxis": {
             "endlinecolor": "#2a3f5f",
             "gridcolor": "white",
             "linecolor": "white",
             "minorgridcolor": "white",
             "startlinecolor": "#2a3f5f"
            },
            "baxis": {
             "endlinecolor": "#2a3f5f",
             "gridcolor": "white",
             "linecolor": "white",
             "minorgridcolor": "white",
             "startlinecolor": "#2a3f5f"
            },
            "type": "carpet"
           }
          ],
          "choropleth": [
           {
            "colorbar": {
             "outlinewidth": 0,
             "ticks": ""
            },
            "type": "choropleth"
           }
          ],
          "contour": [
           {
            "colorbar": {
             "outlinewidth": 0,
             "ticks": ""
            },
            "colorscale": [
             [
              0,
              "#0d0887"
             ],
             [
              0.1111111111111111,
              "#46039f"
             ],
             [
              0.2222222222222222,
              "#7201a8"
             ],
             [
              0.3333333333333333,
              "#9c179e"
             ],
             [
              0.4444444444444444,
              "#bd3786"
             ],
             [
              0.5555555555555556,
              "#d8576b"
             ],
             [
              0.6666666666666666,
              "#ed7953"
             ],
             [
              0.7777777777777778,
              "#fb9f3a"
             ],
             [
              0.8888888888888888,
              "#fdca26"
             ],
             [
              1,
              "#f0f921"
             ]
            ],
            "type": "contour"
           }
          ],
          "contourcarpet": [
           {
            "colorbar": {
             "outlinewidth": 0,
             "ticks": ""
            },
            "type": "contourcarpet"
           }
          ],
          "heatmap": [
           {
            "colorbar": {
             "outlinewidth": 0,
             "ticks": ""
            },
            "colorscale": [
             [
              0,
              "#0d0887"
             ],
             [
              0.1111111111111111,
              "#46039f"
             ],
             [
              0.2222222222222222,
              "#7201a8"
             ],
             [
              0.3333333333333333,
              "#9c179e"
             ],
             [
              0.4444444444444444,
              "#bd3786"
             ],
             [
              0.5555555555555556,
              "#d8576b"
             ],
             [
              0.6666666666666666,
              "#ed7953"
             ],
             [
              0.7777777777777778,
              "#fb9f3a"
             ],
             [
              0.8888888888888888,
              "#fdca26"
             ],
             [
              1,
              "#f0f921"
             ]
            ],
            "type": "heatmap"
           }
          ],
          "heatmapgl": [
           {
            "colorbar": {
             "outlinewidth": 0,
             "ticks": ""
            },
            "colorscale": [
             [
              0,
              "#0d0887"
             ],
             [
              0.1111111111111111,
              "#46039f"
             ],
             [
              0.2222222222222222,
              "#7201a8"
             ],
             [
              0.3333333333333333,
              "#9c179e"
             ],
             [
              0.4444444444444444,
              "#bd3786"
             ],
             [
              0.5555555555555556,
              "#d8576b"
             ],
             [
              0.6666666666666666,
              "#ed7953"
             ],
             [
              0.7777777777777778,
              "#fb9f3a"
             ],
             [
              0.8888888888888888,
              "#fdca26"
             ],
             [
              1,
              "#f0f921"
             ]
            ],
            "type": "heatmapgl"
           }
          ],
          "histogram": [
           {
            "marker": {
             "colorbar": {
              "outlinewidth": 0,
              "ticks": ""
             }
            },
            "type": "histogram"
           }
          ],
          "histogram2d": [
           {
            "colorbar": {
             "outlinewidth": 0,
             "ticks": ""
            },
            "colorscale": [
             [
              0,
              "#0d0887"
             ],
             [
              0.1111111111111111,
              "#46039f"
             ],
             [
              0.2222222222222222,
              "#7201a8"
             ],
             [
              0.3333333333333333,
              "#9c179e"
             ],
             [
              0.4444444444444444,
              "#bd3786"
             ],
             [
              0.5555555555555556,
              "#d8576b"
             ],
             [
              0.6666666666666666,
              "#ed7953"
             ],
             [
              0.7777777777777778,
              "#fb9f3a"
             ],
             [
              0.8888888888888888,
              "#fdca26"
             ],
             [
              1,
              "#f0f921"
             ]
            ],
            "type": "histogram2d"
           }
          ],
          "histogram2dcontour": [
           {
            "colorbar": {
             "outlinewidth": 0,
             "ticks": ""
            },
            "colorscale": [
             [
              0,
              "#0d0887"
             ],
             [
              0.1111111111111111,
              "#46039f"
             ],
             [
              0.2222222222222222,
              "#7201a8"
             ],
             [
              0.3333333333333333,
              "#9c179e"
             ],
             [
              0.4444444444444444,
              "#bd3786"
             ],
             [
              0.5555555555555556,
              "#d8576b"
             ],
             [
              0.6666666666666666,
              "#ed7953"
             ],
             [
              0.7777777777777778,
              "#fb9f3a"
             ],
             [
              0.8888888888888888,
              "#fdca26"
             ],
             [
              1,
              "#f0f921"
             ]
            ],
            "type": "histogram2dcontour"
           }
          ],
          "mesh3d": [
           {
            "colorbar": {
             "outlinewidth": 0,
             "ticks": ""
            },
            "type": "mesh3d"
           }
          ],
          "parcoords": [
           {
            "line": {
             "colorbar": {
              "outlinewidth": 0,
              "ticks": ""
             }
            },
            "type": "parcoords"
           }
          ],
          "pie": [
           {
            "automargin": true,
            "type": "pie"
           }
          ],
          "scatter": [
           {
            "marker": {
             "colorbar": {
              "outlinewidth": 0,
              "ticks": ""
             }
            },
            "type": "scatter"
           }
          ],
          "scatter3d": [
           {
            "line": {
             "colorbar": {
              "outlinewidth": 0,
              "ticks": ""
             }
            },
            "marker": {
             "colorbar": {
              "outlinewidth": 0,
              "ticks": ""
             }
            },
            "type": "scatter3d"
           }
          ],
          "scattercarpet": [
           {
            "marker": {
             "colorbar": {
              "outlinewidth": 0,
              "ticks": ""
             }
            },
            "type": "scattercarpet"
           }
          ],
          "scattergeo": [
           {
            "marker": {
             "colorbar": {
              "outlinewidth": 0,
              "ticks": ""
             }
            },
            "type": "scattergeo"
           }
          ],
          "scattergl": [
           {
            "marker": {
             "colorbar": {
              "outlinewidth": 0,
              "ticks": ""
             }
            },
            "type": "scattergl"
           }
          ],
          "scattermapbox": [
           {
            "marker": {
             "colorbar": {
              "outlinewidth": 0,
              "ticks": ""
             }
            },
            "type": "scattermapbox"
           }
          ],
          "scatterpolar": [
           {
            "marker": {
             "colorbar": {
              "outlinewidth": 0,
              "ticks": ""
             }
            },
            "type": "scatterpolar"
           }
          ],
          "scatterpolargl": [
           {
            "marker": {
             "colorbar": {
              "outlinewidth": 0,
              "ticks": ""
             }
            },
            "type": "scatterpolargl"
           }
          ],
          "scatterternary": [
           {
            "marker": {
             "colorbar": {
              "outlinewidth": 0,
              "ticks": ""
             }
            },
            "type": "scatterternary"
           }
          ],
          "surface": [
           {
            "colorbar": {
             "outlinewidth": 0,
             "ticks": ""
            },
            "colorscale": [
             [
              0,
              "#0d0887"
             ],
             [
              0.1111111111111111,
              "#46039f"
             ],
             [
              0.2222222222222222,
              "#7201a8"
             ],
             [
              0.3333333333333333,
              "#9c179e"
             ],
             [
              0.4444444444444444,
              "#bd3786"
             ],
             [
              0.5555555555555556,
              "#d8576b"
             ],
             [
              0.6666666666666666,
              "#ed7953"
             ],
             [
              0.7777777777777778,
              "#fb9f3a"
             ],
             [
              0.8888888888888888,
              "#fdca26"
             ],
             [
              1,
              "#f0f921"
             ]
            ],
            "type": "surface"
           }
          ],
          "table": [
           {
            "cells": {
             "fill": {
              "color": "#EBF0F8"
             },
             "line": {
              "color": "white"
             }
            },
            "header": {
             "fill": {
              "color": "#C8D4E3"
             },
             "line": {
              "color": "white"
             }
            },
            "type": "table"
           }
          ]
         },
         "layout": {
          "annotationdefaults": {
           "arrowcolor": "#2a3f5f",
           "arrowhead": 0,
           "arrowwidth": 1
          },
          "coloraxis": {
           "colorbar": {
            "outlinewidth": 0,
            "ticks": ""
           }
          },
          "colorscale": {
           "diverging": [
            [
             0,
             "#8e0152"
            ],
            [
             0.1,
             "#c51b7d"
            ],
            [
             0.2,
             "#de77ae"
            ],
            [
             0.3,
             "#f1b6da"
            ],
            [
             0.4,
             "#fde0ef"
            ],
            [
             0.5,
             "#f7f7f7"
            ],
            [
             0.6,
             "#e6f5d0"
            ],
            [
             0.7,
             "#b8e186"
            ],
            [
             0.8,
             "#7fbc41"
            ],
            [
             0.9,
             "#4d9221"
            ],
            [
             1,
             "#276419"
            ]
           ],
           "sequential": [
            [
             0,
             "#0d0887"
            ],
            [
             0.1111111111111111,
             "#46039f"
            ],
            [
             0.2222222222222222,
             "#7201a8"
            ],
            [
             0.3333333333333333,
             "#9c179e"
            ],
            [
             0.4444444444444444,
             "#bd3786"
            ],
            [
             0.5555555555555556,
             "#d8576b"
            ],
            [
             0.6666666666666666,
             "#ed7953"
            ],
            [
             0.7777777777777778,
             "#fb9f3a"
            ],
            [
             0.8888888888888888,
             "#fdca26"
            ],
            [
             1,
             "#f0f921"
            ]
           ],
           "sequentialminus": [
            [
             0,
             "#0d0887"
            ],
            [
             0.1111111111111111,
             "#46039f"
            ],
            [
             0.2222222222222222,
             "#7201a8"
            ],
            [
             0.3333333333333333,
             "#9c179e"
            ],
            [
             0.4444444444444444,
             "#bd3786"
            ],
            [
             0.5555555555555556,
             "#d8576b"
            ],
            [
             0.6666666666666666,
             "#ed7953"
            ],
            [
             0.7777777777777778,
             "#fb9f3a"
            ],
            [
             0.8888888888888888,
             "#fdca26"
            ],
            [
             1,
             "#f0f921"
            ]
           ]
          },
          "colorway": [
           "#636efa",
           "#EF553B",
           "#00cc96",
           "#ab63fa",
           "#FFA15A",
           "#19d3f3",
           "#FF6692",
           "#B6E880",
           "#FF97FF",
           "#FECB52"
          ],
          "font": {
           "color": "#2a3f5f"
          },
          "geo": {
           "bgcolor": "white",
           "lakecolor": "white",
           "landcolor": "#E5ECF6",
           "showlakes": true,
           "showland": true,
           "subunitcolor": "white"
          },
          "hoverlabel": {
           "align": "left"
          },
          "hovermode": "closest",
          "mapbox": {
           "style": "light"
          },
          "paper_bgcolor": "white",
          "plot_bgcolor": "#E5ECF6",
          "polar": {
           "angularaxis": {
            "gridcolor": "white",
            "linecolor": "white",
            "ticks": ""
           },
           "bgcolor": "#E5ECF6",
           "radialaxis": {
            "gridcolor": "white",
            "linecolor": "white",
            "ticks": ""
           }
          },
          "scene": {
           "xaxis": {
            "backgroundcolor": "#E5ECF6",
            "gridcolor": "white",
            "gridwidth": 2,
            "linecolor": "white",
            "showbackground": true,
            "ticks": "",
            "zerolinecolor": "white"
           },
           "yaxis": {
            "backgroundcolor": "#E5ECF6",
            "gridcolor": "white",
            "gridwidth": 2,
            "linecolor": "white",
            "showbackground": true,
            "ticks": "",
            "zerolinecolor": "white"
           },
           "zaxis": {
            "backgroundcolor": "#E5ECF6",
            "gridcolor": "white",
            "gridwidth": 2,
            "linecolor": "white",
            "showbackground": true,
            "ticks": "",
            "zerolinecolor": "white"
           }
          },
          "shapedefaults": {
           "line": {
            "color": "#2a3f5f"
           }
          },
          "ternary": {
           "aaxis": {
            "gridcolor": "white",
            "linecolor": "white",
            "ticks": ""
           },
           "baxis": {
            "gridcolor": "white",
            "linecolor": "white",
            "ticks": ""
           },
           "bgcolor": "#E5ECF6",
           "caxis": {
            "gridcolor": "white",
            "linecolor": "white",
            "ticks": ""
           }
          },
          "title": {
           "x": 0.05
          },
          "xaxis": {
           "automargin": true,
           "gridcolor": "white",
           "linecolor": "white",
           "ticks": "",
           "title": {
            "standoff": 15
           },
           "zerolinecolor": "white",
           "zerolinewidth": 2
          },
          "yaxis": {
           "automargin": true,
           "gridcolor": "white",
           "linecolor": "white",
           "ticks": "",
           "title": {
            "standoff": 15
           },
           "zerolinecolor": "white",
           "zerolinewidth": 2
          }
         }
        },
        "xaxis": {
         "title": {
          "text": "Largura de Desgaste Média (µm)"
         }
        },
        "yaxis": {
         "title": {
          "text": "COF Médio (-)"
         }
        }
       }
      },
      "text/html": [
       "<div>\n",
       "        \n",
       "        \n",
       "            <div id=\"15382cd9-482e-42f5-9270-00d3d7433dc6\" class=\"plotly-graph-div\" style=\"height:525px; width:100%;\"></div>\n",
       "            <script type=\"text/javascript\">\n",
       "                require([\"plotly\"], function(Plotly) {\n",
       "                    window.PLOTLYENV=window.PLOTLYENV || {};\n",
       "                    \n",
       "                if (document.getElementById(\"15382cd9-482e-42f5-9270-00d3d7433dc6\")) {\n",
       "                    Plotly.newPlot(\n",
       "                        '15382cd9-482e-42f5-9270-00d3d7433dc6',\n",
       "                        [{\"hovertemplate\": \"Largura M\\u00e9dia=%{x}<br>COF M\\u00e9dio=%{y}<br>EG=%{marker.color}<extra></extra>\", \"legendgroup\": \"\", \"marker\": {\"color\": [0.0, 0.0, 0.0, 0.0, 1.0, 1.0, 1.0, 1.0, 2.0, 2.0, 2.0, 2.0], \"coloraxis\": \"coloraxis\", \"symbol\": \"circle\"}, \"mode\": \"markers\", \"name\": \"2,5N\", \"orientation\": \"v\", \"showlegend\": true, \"type\": \"scatter\", \"x\": [264.3, 255.1, 262.4, 241.3, 258.245, 273.9588888888889, 258.245, 274.91555555555556, 294.32444444444445, 282.57, 294.32444444444445, 282.57], \"xaxis\": \"x\", \"y\": [0.25321853338838485, 0.40618569006922295, 0.2685295522493547, 0.4039308846901071, 0.19005304608864648, 0.17108793623172805, 0.27581771964202184, 0.22488755197735286, 0.2225957990274361, 0.21887577255869856, 0.2705955307753017, 0.23128675613631114], \"yaxis\": \"y\"}, {\"hovertemplate\": \"Largura M\\u00e9dia=%{x}<br>COF M\\u00e9dio=%{y}<br>EG=%{marker.color}<extra></extra>\", \"legendgroup\": \"\", \"marker\": {\"color\": [0.0, 0.0, 0.0, 0.0, 1.0, 1.0, 1.0, 1.0, 2.0, 2.0, 2.0, 2.0], \"coloraxis\": \"coloraxis\", \"symbol\": \"square\"}, \"mode\": \"markers\", \"name\": \"5N\", \"orientation\": \"v\", \"showlegend\": true, \"type\": \"scatter\", \"x\": [324.8, 329.2, 321.0, 339.4, 321.1233333333334, 316.02333333333337, 348.3677777777778, 350.02, 366.70222222222225, 374.9288888888889, 366.70222222222225, 374.9288888888889], \"xaxis\": \"x\", \"y\": [0.3104597362364957, 0.31010994172700473, 0.2295760486823908, 0.28530486211646283, 0.1565856607285783, 0.15396607805050294, 0.16951580099573174, 0.23360099361000455, 0.17236847960445448, 0.18920154092138985, 0.15941794102066614, 0.21957670187640044], \"yaxis\": \"y\"}, {\"hovertemplate\": \"Largura M\\u00e9dia=%{x}<br>COF M\\u00e9dio=%{y}<br>EG=%{marker.color}<extra></extra>\", \"legendgroup\": \"\", \"marker\": {\"color\": [0.0, 0.0, 0.0, 0.0, 1.0, 1.0, 1.0, 1.0, 2.0, 2.0, 2.0, 2.0], \"coloraxis\": \"coloraxis\", \"symbol\": \"diamond\"}, \"mode\": \"markers\", \"name\": \"8N\", \"orientation\": \"v\", \"showlegend\": true, \"type\": \"scatter\", \"x\": [413.5, 389.6, 384.7, 408.0, 412.23055555555555, 452.4211111111111, 440.53999999999996, 423.0688888888889, 474.9344444444444, 472.4677777777778, 453.11999999999995, 468.1222222222222], \"xaxis\": \"x\", \"y\": [0.2421318169842722, 0.2380204456371949, 0.22385098930809266, 0.2115688680911057, 0.13974644181530094, 0.19473148375768368, 0.15398469846985066, 0.10185537925113278, 0.16059199887009573, 0.20840804042179306, 0.13940222496910376, 0.19917676191144396], \"yaxis\": \"y\"}],\n",
       "                        {\"coloraxis\": {\"colorbar\": {\"title\": {\"text\": \"EG (%)\"}}, \"colorscale\": [[0.0, \"rgb(0,0,255)\"], [1.0, \"rgb(255,0,0)\"]]}, \"legend\": {\"orientation\": \"h\", \"title\": {\"text\": \"For\\u00e7a Normal: \"}, \"x\": 0, \"xanchor\": \"left\", \"y\": 1, \"yanchor\": \"bottom\"}, \"showlegend\": true, \"template\": {\"data\": {\"bar\": [{\"error_x\": {\"color\": \"#2a3f5f\"}, \"error_y\": {\"color\": \"#2a3f5f\"}, \"marker\": {\"line\": {\"color\": \"#E5ECF6\", \"width\": 0.5}}, \"type\": \"bar\"}], \"barpolar\": [{\"marker\": {\"line\": {\"color\": \"#E5ECF6\", \"width\": 0.5}}, \"type\": \"barpolar\"}], \"carpet\": [{\"aaxis\": {\"endlinecolor\": \"#2a3f5f\", \"gridcolor\": \"white\", \"linecolor\": \"white\", \"minorgridcolor\": \"white\", \"startlinecolor\": \"#2a3f5f\"}, \"baxis\": {\"endlinecolor\": \"#2a3f5f\", \"gridcolor\": \"white\", \"linecolor\": \"white\", \"minorgridcolor\": \"white\", \"startlinecolor\": \"#2a3f5f\"}, \"type\": \"carpet\"}], \"choropleth\": [{\"colorbar\": {\"outlinewidth\": 0, \"ticks\": \"\"}, \"type\": \"choropleth\"}], \"contour\": [{\"colorbar\": {\"outlinewidth\": 0, \"ticks\": \"\"}, \"colorscale\": [[0.0, \"#0d0887\"], [0.1111111111111111, \"#46039f\"], [0.2222222222222222, \"#7201a8\"], [0.3333333333333333, \"#9c179e\"], [0.4444444444444444, \"#bd3786\"], [0.5555555555555556, \"#d8576b\"], [0.6666666666666666, \"#ed7953\"], [0.7777777777777778, \"#fb9f3a\"], [0.8888888888888888, \"#fdca26\"], [1.0, \"#f0f921\"]], \"type\": \"contour\"}], \"contourcarpet\": [{\"colorbar\": {\"outlinewidth\": 0, \"ticks\": \"\"}, \"type\": \"contourcarpet\"}], \"heatmap\": [{\"colorbar\": {\"outlinewidth\": 0, \"ticks\": \"\"}, \"colorscale\": [[0.0, \"#0d0887\"], [0.1111111111111111, \"#46039f\"], [0.2222222222222222, \"#7201a8\"], [0.3333333333333333, \"#9c179e\"], [0.4444444444444444, \"#bd3786\"], [0.5555555555555556, \"#d8576b\"], [0.6666666666666666, \"#ed7953\"], [0.7777777777777778, \"#fb9f3a\"], [0.8888888888888888, \"#fdca26\"], [1.0, \"#f0f921\"]], \"type\": \"heatmap\"}], \"heatmapgl\": [{\"colorbar\": {\"outlinewidth\": 0, \"ticks\": \"\"}, \"colorscale\": [[0.0, \"#0d0887\"], [0.1111111111111111, \"#46039f\"], [0.2222222222222222, \"#7201a8\"], [0.3333333333333333, \"#9c179e\"], [0.4444444444444444, \"#bd3786\"], [0.5555555555555556, \"#d8576b\"], [0.6666666666666666, \"#ed7953\"], [0.7777777777777778, \"#fb9f3a\"], [0.8888888888888888, \"#fdca26\"], [1.0, \"#f0f921\"]], \"type\": \"heatmapgl\"}], \"histogram\": [{\"marker\": {\"colorbar\": {\"outlinewidth\": 0, \"ticks\": \"\"}}, \"type\": \"histogram\"}], \"histogram2d\": [{\"colorbar\": {\"outlinewidth\": 0, \"ticks\": \"\"}, \"colorscale\": [[0.0, \"#0d0887\"], [0.1111111111111111, \"#46039f\"], [0.2222222222222222, \"#7201a8\"], [0.3333333333333333, \"#9c179e\"], [0.4444444444444444, \"#bd3786\"], [0.5555555555555556, \"#d8576b\"], [0.6666666666666666, \"#ed7953\"], [0.7777777777777778, \"#fb9f3a\"], [0.8888888888888888, \"#fdca26\"], [1.0, \"#f0f921\"]], \"type\": \"histogram2d\"}], \"histogram2dcontour\": [{\"colorbar\": {\"outlinewidth\": 0, \"ticks\": \"\"}, \"colorscale\": [[0.0, \"#0d0887\"], [0.1111111111111111, \"#46039f\"], [0.2222222222222222, \"#7201a8\"], [0.3333333333333333, \"#9c179e\"], [0.4444444444444444, \"#bd3786\"], [0.5555555555555556, \"#d8576b\"], [0.6666666666666666, \"#ed7953\"], [0.7777777777777778, \"#fb9f3a\"], [0.8888888888888888, \"#fdca26\"], [1.0, \"#f0f921\"]], \"type\": \"histogram2dcontour\"}], \"mesh3d\": [{\"colorbar\": {\"outlinewidth\": 0, \"ticks\": \"\"}, \"type\": \"mesh3d\"}], \"parcoords\": [{\"line\": {\"colorbar\": {\"outlinewidth\": 0, \"ticks\": \"\"}}, \"type\": \"parcoords\"}], \"pie\": [{\"automargin\": true, \"type\": \"pie\"}], \"scatter\": [{\"marker\": {\"colorbar\": {\"outlinewidth\": 0, \"ticks\": \"\"}}, \"type\": \"scatter\"}], \"scatter3d\": [{\"line\": {\"colorbar\": {\"outlinewidth\": 0, \"ticks\": \"\"}}, \"marker\": {\"colorbar\": {\"outlinewidth\": 0, \"ticks\": \"\"}}, \"type\": \"scatter3d\"}], \"scattercarpet\": [{\"marker\": {\"colorbar\": {\"outlinewidth\": 0, \"ticks\": \"\"}}, \"type\": \"scattercarpet\"}], \"scattergeo\": [{\"marker\": {\"colorbar\": {\"outlinewidth\": 0, \"ticks\": \"\"}}, \"type\": \"scattergeo\"}], \"scattergl\": [{\"marker\": {\"colorbar\": {\"outlinewidth\": 0, \"ticks\": \"\"}}, \"type\": \"scattergl\"}], \"scattermapbox\": [{\"marker\": {\"colorbar\": {\"outlinewidth\": 0, \"ticks\": \"\"}}, \"type\": \"scattermapbox\"}], \"scatterpolar\": [{\"marker\": {\"colorbar\": {\"outlinewidth\": 0, \"ticks\": \"\"}}, \"type\": \"scatterpolar\"}], \"scatterpolargl\": [{\"marker\": {\"colorbar\": {\"outlinewidth\": 0, \"ticks\": \"\"}}, \"type\": \"scatterpolargl\"}], \"scatterternary\": [{\"marker\": {\"colorbar\": {\"outlinewidth\": 0, \"ticks\": \"\"}}, \"type\": \"scatterternary\"}], \"surface\": [{\"colorbar\": {\"outlinewidth\": 0, \"ticks\": \"\"}, \"colorscale\": [[0.0, \"#0d0887\"], [0.1111111111111111, \"#46039f\"], [0.2222222222222222, \"#7201a8\"], [0.3333333333333333, \"#9c179e\"], [0.4444444444444444, \"#bd3786\"], [0.5555555555555556, \"#d8576b\"], [0.6666666666666666, \"#ed7953\"], [0.7777777777777778, \"#fb9f3a\"], [0.8888888888888888, \"#fdca26\"], [1.0, \"#f0f921\"]], \"type\": \"surface\"}], \"table\": [{\"cells\": {\"fill\": {\"color\": \"#EBF0F8\"}, \"line\": {\"color\": \"white\"}}, \"header\": {\"fill\": {\"color\": \"#C8D4E3\"}, \"line\": {\"color\": \"white\"}}, \"type\": \"table\"}]}, \"layout\": {\"annotationdefaults\": {\"arrowcolor\": \"#2a3f5f\", \"arrowhead\": 0, \"arrowwidth\": 1}, \"coloraxis\": {\"colorbar\": {\"outlinewidth\": 0, \"ticks\": \"\"}}, \"colorscale\": {\"diverging\": [[0, \"#8e0152\"], [0.1, \"#c51b7d\"], [0.2, \"#de77ae\"], [0.3, \"#f1b6da\"], [0.4, \"#fde0ef\"], [0.5, \"#f7f7f7\"], [0.6, \"#e6f5d0\"], [0.7, \"#b8e186\"], [0.8, \"#7fbc41\"], [0.9, \"#4d9221\"], [1, \"#276419\"]], \"sequential\": [[0.0, \"#0d0887\"], [0.1111111111111111, \"#46039f\"], [0.2222222222222222, \"#7201a8\"], [0.3333333333333333, \"#9c179e\"], [0.4444444444444444, \"#bd3786\"], [0.5555555555555556, \"#d8576b\"], [0.6666666666666666, \"#ed7953\"], [0.7777777777777778, \"#fb9f3a\"], [0.8888888888888888, \"#fdca26\"], [1.0, \"#f0f921\"]], \"sequentialminus\": [[0.0, \"#0d0887\"], [0.1111111111111111, \"#46039f\"], [0.2222222222222222, \"#7201a8\"], [0.3333333333333333, \"#9c179e\"], [0.4444444444444444, \"#bd3786\"], [0.5555555555555556, \"#d8576b\"], [0.6666666666666666, \"#ed7953\"], [0.7777777777777778, \"#fb9f3a\"], [0.8888888888888888, \"#fdca26\"], [1.0, \"#f0f921\"]]}, \"colorway\": [\"#636efa\", \"#EF553B\", \"#00cc96\", \"#ab63fa\", \"#FFA15A\", \"#19d3f3\", \"#FF6692\", \"#B6E880\", \"#FF97FF\", \"#FECB52\"], \"font\": {\"color\": \"#2a3f5f\"}, \"geo\": {\"bgcolor\": \"white\", \"lakecolor\": \"white\", \"landcolor\": \"#E5ECF6\", \"showlakes\": true, \"showland\": true, \"subunitcolor\": \"white\"}, \"hoverlabel\": {\"align\": \"left\"}, \"hovermode\": \"closest\", \"mapbox\": {\"style\": \"light\"}, \"paper_bgcolor\": \"white\", \"plot_bgcolor\": \"#E5ECF6\", \"polar\": {\"angularaxis\": {\"gridcolor\": \"white\", \"linecolor\": \"white\", \"ticks\": \"\"}, \"bgcolor\": \"#E5ECF6\", \"radialaxis\": {\"gridcolor\": \"white\", \"linecolor\": \"white\", \"ticks\": \"\"}}, \"scene\": {\"xaxis\": {\"backgroundcolor\": \"#E5ECF6\", \"gridcolor\": \"white\", \"gridwidth\": 2, \"linecolor\": \"white\", \"showbackground\": true, \"ticks\": \"\", \"zerolinecolor\": \"white\"}, \"yaxis\": {\"backgroundcolor\": \"#E5ECF6\", \"gridcolor\": \"white\", \"gridwidth\": 2, \"linecolor\": \"white\", \"showbackground\": true, \"ticks\": \"\", \"zerolinecolor\": \"white\"}, \"zaxis\": {\"backgroundcolor\": \"#E5ECF6\", \"gridcolor\": \"white\", \"gridwidth\": 2, \"linecolor\": \"white\", \"showbackground\": true, \"ticks\": \"\", \"zerolinecolor\": \"white\"}}, \"shapedefaults\": {\"line\": {\"color\": \"#2a3f5f\"}}, \"ternary\": {\"aaxis\": {\"gridcolor\": \"white\", \"linecolor\": \"white\", \"ticks\": \"\"}, \"baxis\": {\"gridcolor\": \"white\", \"linecolor\": \"white\", \"ticks\": \"\"}, \"bgcolor\": \"#E5ECF6\", \"caxis\": {\"gridcolor\": \"white\", \"linecolor\": \"white\", \"ticks\": \"\"}}, \"title\": {\"x\": 0.05}, \"xaxis\": {\"automargin\": true, \"gridcolor\": \"white\", \"linecolor\": \"white\", \"ticks\": \"\", \"title\": {\"standoff\": 15}, \"zerolinecolor\": \"white\", \"zerolinewidth\": 2}, \"yaxis\": {\"automargin\": true, \"gridcolor\": \"white\", \"linecolor\": \"white\", \"ticks\": \"\", \"title\": {\"standoff\": 15}, \"zerolinecolor\": \"white\", \"zerolinewidth\": 2}}}, \"xaxis\": {\"title\": {\"text\": \"Largura de Desgaste M\\u00e9dia (\\u00b5m)\"}}, \"yaxis\": {\"title\": {\"text\": \"COF M\\u00e9dio (-)\"}}},\n",
       "                        {\"responsive\": true}\n",
       "                    ).then(function(){\n",
       "                            \n",
       "var gd = document.getElementById('15382cd9-482e-42f5-9270-00d3d7433dc6');\n",
       "var x = new MutationObserver(function (mutations, observer) {{\n",
       "        var display = window.getComputedStyle(gd).display;\n",
       "        if (!display || display === 'none') {{\n",
       "            console.log([gd, 'removed!']);\n",
       "            Plotly.purge(gd);\n",
       "            observer.disconnect();\n",
       "        }}\n",
       "}});\n",
       "\n",
       "// Listen for the removal of the full notebook cells\n",
       "var notebookContainer = gd.closest('#notebook-container');\n",
       "if (notebookContainer) {{\n",
       "    x.observe(notebookContainer, {childList: true});\n",
       "}}\n",
       "\n",
       "// Listen for the clearing of the current output cell\n",
       "var outputEl = gd.closest('.output');\n",
       "if (outputEl) {{\n",
       "    x.observe(outputEl, {childList: true});\n",
       "}}\n",
       "\n",
       "                        })\n",
       "                };\n",
       "                });\n",
       "            </script>\n",
       "        </div>"
      ]
     },
     "metadata": {},
     "output_type": "display_data"
    }
   ],
   "source": [
    "fig = go.Figure()\n",
    "\n",
    "fig.add_trace(df2[df2['Força Normal']==2.5].plot(kind = 'scatter', y = 'COF Médio', x = 'Largura Média', color = 'EG').data[0])\n",
    "fig.add_trace(df2[df2['Força Normal']==5].plot(kind = 'scatter', y = 'COF Médio', x = 'Largura Média', color = 'EG').data[0])\n",
    "fig.add_trace(df2[df2['Força Normal']==8].plot(kind = 'scatter', y = 'COF Médio', x = 'Largura Média', color = 'EG').data[0])\n",
    "\n",
    "fig.data[0].marker.symbol = 'circle'\n",
    "fig.data[1].marker.symbol = 'square'\n",
    "fig.data[2].marker.symbol = 'diamond'\n",
    "\n",
    "fig.data[0].name = '2,5N'\n",
    "fig.data[1].name = '5N'\n",
    "fig.data[2].name = '8N'\n",
    "\n",
    "fig.data[0].showlegend = True\n",
    "fig.data[1].showlegend = True\n",
    "fig.data[2].showlegend = True\n",
    "\n",
    "fig.update_layout(showlegend = True,\n",
    "                  yaxis_title = 'COF Médio (-)',\n",
    "                  xaxis_title = 'Largura de Desgaste Média (µm)',\n",
    "                  legend = dict(\n",
    "                      xanchor = 'left',\n",
    "                      yanchor = 'bottom',\n",
    "                      x = 0,\n",
    "                      y = 1,\n",
    "                      orientation = 'h',\n",
    "                      title_text = 'Força Normal: '\n",
    "                  ),\n",
    "                  coloraxis = dict(colorscale = 'Bluered',\n",
    "                                  colorbar_title = 'EG (%)',\n",
    "                                  ),\n",
    "                  \n",
    "                 )"
   ]
  },
  {
   "cell_type": "code",
   "execution_count": 123,
   "metadata": {},
   "outputs": [
    {
     "data": {
      "application/vnd.plotly.v1+json": {
       "config": {
        "plotlyServerURL": "https://plot.ly"
       },
       "data": [
        {
         "legendgroup": "PU Puro",
         "mode": "markers",
         "name": "PU Puro",
         "type": "scatter3d",
         "x": [
          2.5,
          2.5,
          2.5,
          2.5,
          5,
          5,
          5,
          5,
          8,
          8,
          8,
          8
         ],
         "y": [
          2,
          2,
          4,
          4,
          2,
          2,
          4,
          4,
          2,
          2,
          4,
          4
         ],
         "z": [
          264.3,
          262.4,
          255.1,
          241.3,
          324.8,
          321,
          329.2,
          339.4,
          413.5,
          384.7,
          389.6,
          408
         ]
        },
        {
         "legendgroup": "PU + 1% EG",
         "mode": "markers",
         "name": "PU + 1% EG",
         "type": "scatter3d",
         "x": [
          2.5,
          2.5,
          2.5,
          2.5,
          2.5,
          2.5,
          2.5,
          2.5,
          5,
          5,
          5,
          5,
          5,
          5,
          5,
          5,
          5,
          8,
          8,
          8,
          8,
          8,
          8,
          8,
          8,
          8,
          8,
          8,
          8
         ],
         "y": [
          2,
          2,
          2,
          2,
          2,
          2,
          4,
          4,
          2,
          2,
          2,
          2,
          2,
          4,
          4,
          4,
          4,
          2,
          2,
          2,
          2,
          2,
          2,
          4,
          4,
          4,
          4,
          4,
          4
         ],
         "z": [
          267.62000000000006,
          274.02,
          280.2366666666667,
          287.9166666666667,
          268.83333333333337,
          267.99666666666667,
          260.76,
          255.73,
          326.17333333333335,
          311.0466666666666,
          326.15000000000003,
          359.51,
          340.53,
          316.02333333333337,
          345.2833333333333,
          341.4266666666667,
          358.3933333333334,
          452.92333333333335,
          445.27,
          459.07,
          433.08,
          418.7033333333334,
          417.42333333333335,
          396.20666666666665,
          424.05,
          416.435,
          445.3333333333333,
          428.79333333333335,
          447.49333333333334
         ]
        },
        {
         "legendgroup": "PU + 2% EG",
         "mode": "markers",
         "name": "PU + 2% EG",
         "type": "scatter3d",
         "x": [
          2.5,
          2.5,
          2.5,
          2.5,
          2.5,
          2.5,
          5,
          5,
          5,
          5,
          5,
          5,
          8,
          8,
          8,
          8,
          8,
          8,
          8,
          8,
          8,
          8,
          8,
          8
         ],
         "y": [
          2,
          2,
          2,
          4,
          4,
          4,
          2,
          2,
          2,
          4,
          4,
          4,
          2,
          2,
          2,
          2,
          2,
          2,
          4,
          4,
          4,
          4,
          4,
          4
         ],
         "z": [
          298.9866666666667,
          293.02,
          290.9666666666667,
          279.0466666666667,
          274.8566666666666,
          293.8066666666667,
          377.3666666666666,
          370.3566666666666,
          377.06333333333333,
          372.8833333333334,
          361.0833333333333,
          366.14000000000004,
          474.48333333333335,
          455.99,
          486.93,
          470.48,
          461.12999999999994,
          472.75666666666666,
          489.70666666666665,
          463.8333333333333,
          471.2633333333333,
          455.1566666666666,
          445.2,
          459.00333333333333
         ]
        }
       ],
       "layout": {
        "scene": {
         "xaxis": {
          "title": {
           "text": "Força Normal (N)"
          }
         },
         "yaxis": {
          "title": {
           "text": "Frequência (Hz)"
          }
         },
         "zaxis": {
          "title": {
           "text": "Largura de desgaste (µm)"
          }
         }
        },
        "template": {
         "data": {
          "bar": [
           {
            "error_x": {
             "color": "#2a3f5f"
            },
            "error_y": {
             "color": "#2a3f5f"
            },
            "marker": {
             "line": {
              "color": "#E5ECF6",
              "width": 0.5
             }
            },
            "type": "bar"
           }
          ],
          "barpolar": [
           {
            "marker": {
             "line": {
              "color": "#E5ECF6",
              "width": 0.5
             }
            },
            "type": "barpolar"
           }
          ],
          "carpet": [
           {
            "aaxis": {
             "endlinecolor": "#2a3f5f",
             "gridcolor": "white",
             "linecolor": "white",
             "minorgridcolor": "white",
             "startlinecolor": "#2a3f5f"
            },
            "baxis": {
             "endlinecolor": "#2a3f5f",
             "gridcolor": "white",
             "linecolor": "white",
             "minorgridcolor": "white",
             "startlinecolor": "#2a3f5f"
            },
            "type": "carpet"
           }
          ],
          "choropleth": [
           {
            "colorbar": {
             "outlinewidth": 0,
             "ticks": ""
            },
            "type": "choropleth"
           }
          ],
          "contour": [
           {
            "colorbar": {
             "outlinewidth": 0,
             "ticks": ""
            },
            "colorscale": [
             [
              0,
              "#0d0887"
             ],
             [
              0.1111111111111111,
              "#46039f"
             ],
             [
              0.2222222222222222,
              "#7201a8"
             ],
             [
              0.3333333333333333,
              "#9c179e"
             ],
             [
              0.4444444444444444,
              "#bd3786"
             ],
             [
              0.5555555555555556,
              "#d8576b"
             ],
             [
              0.6666666666666666,
              "#ed7953"
             ],
             [
              0.7777777777777778,
              "#fb9f3a"
             ],
             [
              0.8888888888888888,
              "#fdca26"
             ],
             [
              1,
              "#f0f921"
             ]
            ],
            "type": "contour"
           }
          ],
          "contourcarpet": [
           {
            "colorbar": {
             "outlinewidth": 0,
             "ticks": ""
            },
            "type": "contourcarpet"
           }
          ],
          "heatmap": [
           {
            "colorbar": {
             "outlinewidth": 0,
             "ticks": ""
            },
            "colorscale": [
             [
              0,
              "#0d0887"
             ],
             [
              0.1111111111111111,
              "#46039f"
             ],
             [
              0.2222222222222222,
              "#7201a8"
             ],
             [
              0.3333333333333333,
              "#9c179e"
             ],
             [
              0.4444444444444444,
              "#bd3786"
             ],
             [
              0.5555555555555556,
              "#d8576b"
             ],
             [
              0.6666666666666666,
              "#ed7953"
             ],
             [
              0.7777777777777778,
              "#fb9f3a"
             ],
             [
              0.8888888888888888,
              "#fdca26"
             ],
             [
              1,
              "#f0f921"
             ]
            ],
            "type": "heatmap"
           }
          ],
          "heatmapgl": [
           {
            "colorbar": {
             "outlinewidth": 0,
             "ticks": ""
            },
            "colorscale": [
             [
              0,
              "#0d0887"
             ],
             [
              0.1111111111111111,
              "#46039f"
             ],
             [
              0.2222222222222222,
              "#7201a8"
             ],
             [
              0.3333333333333333,
              "#9c179e"
             ],
             [
              0.4444444444444444,
              "#bd3786"
             ],
             [
              0.5555555555555556,
              "#d8576b"
             ],
             [
              0.6666666666666666,
              "#ed7953"
             ],
             [
              0.7777777777777778,
              "#fb9f3a"
             ],
             [
              0.8888888888888888,
              "#fdca26"
             ],
             [
              1,
              "#f0f921"
             ]
            ],
            "type": "heatmapgl"
           }
          ],
          "histogram": [
           {
            "marker": {
             "colorbar": {
              "outlinewidth": 0,
              "ticks": ""
             }
            },
            "type": "histogram"
           }
          ],
          "histogram2d": [
           {
            "colorbar": {
             "outlinewidth": 0,
             "ticks": ""
            },
            "colorscale": [
             [
              0,
              "#0d0887"
             ],
             [
              0.1111111111111111,
              "#46039f"
             ],
             [
              0.2222222222222222,
              "#7201a8"
             ],
             [
              0.3333333333333333,
              "#9c179e"
             ],
             [
              0.4444444444444444,
              "#bd3786"
             ],
             [
              0.5555555555555556,
              "#d8576b"
             ],
             [
              0.6666666666666666,
              "#ed7953"
             ],
             [
              0.7777777777777778,
              "#fb9f3a"
             ],
             [
              0.8888888888888888,
              "#fdca26"
             ],
             [
              1,
              "#f0f921"
             ]
            ],
            "type": "histogram2d"
           }
          ],
          "histogram2dcontour": [
           {
            "colorbar": {
             "outlinewidth": 0,
             "ticks": ""
            },
            "colorscale": [
             [
              0,
              "#0d0887"
             ],
             [
              0.1111111111111111,
              "#46039f"
             ],
             [
              0.2222222222222222,
              "#7201a8"
             ],
             [
              0.3333333333333333,
              "#9c179e"
             ],
             [
              0.4444444444444444,
              "#bd3786"
             ],
             [
              0.5555555555555556,
              "#d8576b"
             ],
             [
              0.6666666666666666,
              "#ed7953"
             ],
             [
              0.7777777777777778,
              "#fb9f3a"
             ],
             [
              0.8888888888888888,
              "#fdca26"
             ],
             [
              1,
              "#f0f921"
             ]
            ],
            "type": "histogram2dcontour"
           }
          ],
          "mesh3d": [
           {
            "colorbar": {
             "outlinewidth": 0,
             "ticks": ""
            },
            "type": "mesh3d"
           }
          ],
          "parcoords": [
           {
            "line": {
             "colorbar": {
              "outlinewidth": 0,
              "ticks": ""
             }
            },
            "type": "parcoords"
           }
          ],
          "pie": [
           {
            "automargin": true,
            "type": "pie"
           }
          ],
          "scatter": [
           {
            "marker": {
             "colorbar": {
              "outlinewidth": 0,
              "ticks": ""
             }
            },
            "type": "scatter"
           }
          ],
          "scatter3d": [
           {
            "line": {
             "colorbar": {
              "outlinewidth": 0,
              "ticks": ""
             }
            },
            "marker": {
             "colorbar": {
              "outlinewidth": 0,
              "ticks": ""
             }
            },
            "type": "scatter3d"
           }
          ],
          "scattercarpet": [
           {
            "marker": {
             "colorbar": {
              "outlinewidth": 0,
              "ticks": ""
             }
            },
            "type": "scattercarpet"
           }
          ],
          "scattergeo": [
           {
            "marker": {
             "colorbar": {
              "outlinewidth": 0,
              "ticks": ""
             }
            },
            "type": "scattergeo"
           }
          ],
          "scattergl": [
           {
            "marker": {
             "colorbar": {
              "outlinewidth": 0,
              "ticks": ""
             }
            },
            "type": "scattergl"
           }
          ],
          "scattermapbox": [
           {
            "marker": {
             "colorbar": {
              "outlinewidth": 0,
              "ticks": ""
             }
            },
            "type": "scattermapbox"
           }
          ],
          "scatterpolar": [
           {
            "marker": {
             "colorbar": {
              "outlinewidth": 0,
              "ticks": ""
             }
            },
            "type": "scatterpolar"
           }
          ],
          "scatterpolargl": [
           {
            "marker": {
             "colorbar": {
              "outlinewidth": 0,
              "ticks": ""
             }
            },
            "type": "scatterpolargl"
           }
          ],
          "scatterternary": [
           {
            "marker": {
             "colorbar": {
              "outlinewidth": 0,
              "ticks": ""
             }
            },
            "type": "scatterternary"
           }
          ],
          "surface": [
           {
            "colorbar": {
             "outlinewidth": 0,
             "ticks": ""
            },
            "colorscale": [
             [
              0,
              "#0d0887"
             ],
             [
              0.1111111111111111,
              "#46039f"
             ],
             [
              0.2222222222222222,
              "#7201a8"
             ],
             [
              0.3333333333333333,
              "#9c179e"
             ],
             [
              0.4444444444444444,
              "#bd3786"
             ],
             [
              0.5555555555555556,
              "#d8576b"
             ],
             [
              0.6666666666666666,
              "#ed7953"
             ],
             [
              0.7777777777777778,
              "#fb9f3a"
             ],
             [
              0.8888888888888888,
              "#fdca26"
             ],
             [
              1,
              "#f0f921"
             ]
            ],
            "type": "surface"
           }
          ],
          "table": [
           {
            "cells": {
             "fill": {
              "color": "#EBF0F8"
             },
             "line": {
              "color": "white"
             }
            },
            "header": {
             "fill": {
              "color": "#C8D4E3"
             },
             "line": {
              "color": "white"
             }
            },
            "type": "table"
           }
          ]
         },
         "layout": {
          "annotationdefaults": {
           "arrowcolor": "#2a3f5f",
           "arrowhead": 0,
           "arrowwidth": 1
          },
          "coloraxis": {
           "colorbar": {
            "outlinewidth": 0,
            "ticks": ""
           }
          },
          "colorscale": {
           "diverging": [
            [
             0,
             "#8e0152"
            ],
            [
             0.1,
             "#c51b7d"
            ],
            [
             0.2,
             "#de77ae"
            ],
            [
             0.3,
             "#f1b6da"
            ],
            [
             0.4,
             "#fde0ef"
            ],
            [
             0.5,
             "#f7f7f7"
            ],
            [
             0.6,
             "#e6f5d0"
            ],
            [
             0.7,
             "#b8e186"
            ],
            [
             0.8,
             "#7fbc41"
            ],
            [
             0.9,
             "#4d9221"
            ],
            [
             1,
             "#276419"
            ]
           ],
           "sequential": [
            [
             0,
             "#0d0887"
            ],
            [
             0.1111111111111111,
             "#46039f"
            ],
            [
             0.2222222222222222,
             "#7201a8"
            ],
            [
             0.3333333333333333,
             "#9c179e"
            ],
            [
             0.4444444444444444,
             "#bd3786"
            ],
            [
             0.5555555555555556,
             "#d8576b"
            ],
            [
             0.6666666666666666,
             "#ed7953"
            ],
            [
             0.7777777777777778,
             "#fb9f3a"
            ],
            [
             0.8888888888888888,
             "#fdca26"
            ],
            [
             1,
             "#f0f921"
            ]
           ],
           "sequentialminus": [
            [
             0,
             "#0d0887"
            ],
            [
             0.1111111111111111,
             "#46039f"
            ],
            [
             0.2222222222222222,
             "#7201a8"
            ],
            [
             0.3333333333333333,
             "#9c179e"
            ],
            [
             0.4444444444444444,
             "#bd3786"
            ],
            [
             0.5555555555555556,
             "#d8576b"
            ],
            [
             0.6666666666666666,
             "#ed7953"
            ],
            [
             0.7777777777777778,
             "#fb9f3a"
            ],
            [
             0.8888888888888888,
             "#fdca26"
            ],
            [
             1,
             "#f0f921"
            ]
           ]
          },
          "colorway": [
           "#636efa",
           "#EF553B",
           "#00cc96",
           "#ab63fa",
           "#FFA15A",
           "#19d3f3",
           "#FF6692",
           "#B6E880",
           "#FF97FF",
           "#FECB52"
          ],
          "font": {
           "color": "#2a3f5f"
          },
          "geo": {
           "bgcolor": "white",
           "lakecolor": "white",
           "landcolor": "#E5ECF6",
           "showlakes": true,
           "showland": true,
           "subunitcolor": "white"
          },
          "hoverlabel": {
           "align": "left"
          },
          "hovermode": "closest",
          "mapbox": {
           "style": "light"
          },
          "paper_bgcolor": "white",
          "plot_bgcolor": "#E5ECF6",
          "polar": {
           "angularaxis": {
            "gridcolor": "white",
            "linecolor": "white",
            "ticks": ""
           },
           "bgcolor": "#E5ECF6",
           "radialaxis": {
            "gridcolor": "white",
            "linecolor": "white",
            "ticks": ""
           }
          },
          "scene": {
           "xaxis": {
            "backgroundcolor": "#E5ECF6",
            "gridcolor": "white",
            "gridwidth": 2,
            "linecolor": "white",
            "showbackground": true,
            "ticks": "",
            "zerolinecolor": "white"
           },
           "yaxis": {
            "backgroundcolor": "#E5ECF6",
            "gridcolor": "white",
            "gridwidth": 2,
            "linecolor": "white",
            "showbackground": true,
            "ticks": "",
            "zerolinecolor": "white"
           },
           "zaxis": {
            "backgroundcolor": "#E5ECF6",
            "gridcolor": "white",
            "gridwidth": 2,
            "linecolor": "white",
            "showbackground": true,
            "ticks": "",
            "zerolinecolor": "white"
           }
          },
          "shapedefaults": {
           "line": {
            "color": "#2a3f5f"
           }
          },
          "ternary": {
           "aaxis": {
            "gridcolor": "white",
            "linecolor": "white",
            "ticks": ""
           },
           "baxis": {
            "gridcolor": "white",
            "linecolor": "white",
            "ticks": ""
           },
           "bgcolor": "#E5ECF6",
           "caxis": {
            "gridcolor": "white",
            "linecolor": "white",
            "ticks": ""
           }
          },
          "title": {
           "x": 0.05
          },
          "xaxis": {
           "automargin": true,
           "gridcolor": "white",
           "linecolor": "white",
           "ticks": "",
           "title": {
            "standoff": 15
           },
           "zerolinecolor": "white",
           "zerolinewidth": 2
          },
          "yaxis": {
           "automargin": true,
           "gridcolor": "white",
           "linecolor": "white",
           "ticks": "",
           "title": {
            "standoff": 15
           },
           "zerolinecolor": "white",
           "zerolinewidth": 2
          }
         }
        }
       }
      },
      "text/html": [
       "<div>\n",
       "        \n",
       "        \n",
       "            <div id=\"2673d866-0807-4d68-a2d6-70a6e594189f\" class=\"plotly-graph-div\" style=\"height:525px; width:100%;\"></div>\n",
       "            <script type=\"text/javascript\">\n",
       "                require([\"plotly\"], function(Plotly) {\n",
       "                    window.PLOTLYENV=window.PLOTLYENV || {};\n",
       "                    \n",
       "                if (document.getElementById(\"2673d866-0807-4d68-a2d6-70a6e594189f\")) {\n",
       "                    Plotly.newPlot(\n",
       "                        '2673d866-0807-4d68-a2d6-70a6e594189f',\n",
       "                        [{\"legendgroup\": \"PU Puro\", \"mode\": \"markers\", \"name\": \"PU Puro\", \"type\": \"scatter3d\", \"x\": [2.5, 2.5, 2.5, 2.5, 5.0, 5.0, 5.0, 5.0, 8.0, 8.0, 8.0, 8.0], \"y\": [2, 2, 4, 4, 2, 2, 4, 4, 2, 2, 4, 4], \"z\": [264.3, 262.4, 255.1, 241.3, 324.8, 321.0, 329.2, 339.4, 413.5, 384.7, 389.6, 408.0]}, {\"legendgroup\": \"PU + 1% EG\", \"mode\": \"markers\", \"name\": \"PU + 1% EG\", \"type\": \"scatter3d\", \"x\": [2.5, 2.5, 2.5, 2.5, 2.5, 2.5, 2.5, 2.5, 5.0, 5.0, 5.0, 5.0, 5.0, 5.0, 5.0, 5.0, 5.0, 8.0, 8.0, 8.0, 8.0, 8.0, 8.0, 8.0, 8.0, 8.0, 8.0, 8.0, 8.0], \"y\": [2, 2, 2, 2, 2, 2, 4, 4, 2, 2, 2, 2, 2, 4, 4, 4, 4, 2, 2, 2, 2, 2, 2, 4, 4, 4, 4, 4, 4], \"z\": [267.62000000000006, 274.02, 280.2366666666667, 287.9166666666667, 268.83333333333337, 267.99666666666667, 260.76, 255.73, 326.17333333333335, 311.0466666666666, 326.15000000000003, 359.51, 340.53, 316.02333333333337, 345.2833333333333, 341.4266666666667, 358.3933333333334, 452.92333333333335, 445.27, 459.07, 433.08, 418.7033333333334, 417.42333333333335, 396.20666666666665, 424.05, 416.435, 445.3333333333333, 428.79333333333335, 447.49333333333334]}, {\"legendgroup\": \"PU + 2% EG\", \"mode\": \"markers\", \"name\": \"PU + 2% EG\", \"type\": \"scatter3d\", \"x\": [2.5, 2.5, 2.5, 2.5, 2.5, 2.5, 5.0, 5.0, 5.0, 5.0, 5.0, 5.0, 8.0, 8.0, 8.0, 8.0, 8.0, 8.0, 8.0, 8.0, 8.0, 8.0, 8.0, 8.0], \"y\": [2, 2, 2, 4, 4, 4, 2, 2, 2, 4, 4, 4, 2, 2, 2, 2, 2, 2, 4, 4, 4, 4, 4, 4], \"z\": [298.9866666666667, 293.02, 290.9666666666667, 279.0466666666667, 274.8566666666666, 293.8066666666667, 377.3666666666666, 370.3566666666666, 377.06333333333333, 372.8833333333334, 361.0833333333333, 366.14000000000004, 474.48333333333335, 455.99, 486.93, 470.48, 461.12999999999994, 472.75666666666666, 489.70666666666665, 463.8333333333333, 471.2633333333333, 455.1566666666666, 445.2, 459.00333333333333]}],\n",
       "                        {\"scene\": {\"xaxis\": {\"title\": {\"text\": \"For\\u00e7a Normal (N)\"}}, \"yaxis\": {\"title\": {\"text\": \"Frequ\\u00eancia (Hz)\"}}, \"zaxis\": {\"title\": {\"text\": \"Largura de desgaste (\\u00b5m)\"}}}, \"template\": {\"data\": {\"bar\": [{\"error_x\": {\"color\": \"#2a3f5f\"}, \"error_y\": {\"color\": \"#2a3f5f\"}, \"marker\": {\"line\": {\"color\": \"#E5ECF6\", \"width\": 0.5}}, \"type\": \"bar\"}], \"barpolar\": [{\"marker\": {\"line\": {\"color\": \"#E5ECF6\", \"width\": 0.5}}, \"type\": \"barpolar\"}], \"carpet\": [{\"aaxis\": {\"endlinecolor\": \"#2a3f5f\", \"gridcolor\": \"white\", \"linecolor\": \"white\", \"minorgridcolor\": \"white\", \"startlinecolor\": \"#2a3f5f\"}, \"baxis\": {\"endlinecolor\": \"#2a3f5f\", \"gridcolor\": \"white\", \"linecolor\": \"white\", \"minorgridcolor\": \"white\", \"startlinecolor\": \"#2a3f5f\"}, \"type\": \"carpet\"}], \"choropleth\": [{\"colorbar\": {\"outlinewidth\": 0, \"ticks\": \"\"}, \"type\": \"choropleth\"}], \"contour\": [{\"colorbar\": {\"outlinewidth\": 0, \"ticks\": \"\"}, \"colorscale\": [[0.0, \"#0d0887\"], [0.1111111111111111, \"#46039f\"], [0.2222222222222222, \"#7201a8\"], [0.3333333333333333, \"#9c179e\"], [0.4444444444444444, \"#bd3786\"], [0.5555555555555556, \"#d8576b\"], [0.6666666666666666, \"#ed7953\"], [0.7777777777777778, \"#fb9f3a\"], [0.8888888888888888, \"#fdca26\"], [1.0, \"#f0f921\"]], \"type\": \"contour\"}], \"contourcarpet\": [{\"colorbar\": {\"outlinewidth\": 0, \"ticks\": \"\"}, \"type\": \"contourcarpet\"}], \"heatmap\": [{\"colorbar\": {\"outlinewidth\": 0, \"ticks\": \"\"}, \"colorscale\": [[0.0, \"#0d0887\"], [0.1111111111111111, \"#46039f\"], [0.2222222222222222, \"#7201a8\"], [0.3333333333333333, \"#9c179e\"], [0.4444444444444444, \"#bd3786\"], [0.5555555555555556, \"#d8576b\"], [0.6666666666666666, \"#ed7953\"], [0.7777777777777778, \"#fb9f3a\"], [0.8888888888888888, \"#fdca26\"], [1.0, \"#f0f921\"]], \"type\": \"heatmap\"}], \"heatmapgl\": [{\"colorbar\": {\"outlinewidth\": 0, \"ticks\": \"\"}, \"colorscale\": [[0.0, \"#0d0887\"], [0.1111111111111111, \"#46039f\"], [0.2222222222222222, \"#7201a8\"], [0.3333333333333333, \"#9c179e\"], [0.4444444444444444, \"#bd3786\"], [0.5555555555555556, \"#d8576b\"], [0.6666666666666666, \"#ed7953\"], [0.7777777777777778, \"#fb9f3a\"], [0.8888888888888888, \"#fdca26\"], [1.0, \"#f0f921\"]], \"type\": \"heatmapgl\"}], \"histogram\": [{\"marker\": {\"colorbar\": {\"outlinewidth\": 0, \"ticks\": \"\"}}, \"type\": \"histogram\"}], \"histogram2d\": [{\"colorbar\": {\"outlinewidth\": 0, \"ticks\": \"\"}, \"colorscale\": [[0.0, \"#0d0887\"], [0.1111111111111111, \"#46039f\"], [0.2222222222222222, \"#7201a8\"], [0.3333333333333333, \"#9c179e\"], [0.4444444444444444, \"#bd3786\"], [0.5555555555555556, \"#d8576b\"], [0.6666666666666666, \"#ed7953\"], [0.7777777777777778, \"#fb9f3a\"], [0.8888888888888888, \"#fdca26\"], [1.0, \"#f0f921\"]], \"type\": \"histogram2d\"}], \"histogram2dcontour\": [{\"colorbar\": {\"outlinewidth\": 0, \"ticks\": \"\"}, \"colorscale\": [[0.0, \"#0d0887\"], [0.1111111111111111, \"#46039f\"], [0.2222222222222222, \"#7201a8\"], [0.3333333333333333, \"#9c179e\"], [0.4444444444444444, \"#bd3786\"], [0.5555555555555556, \"#d8576b\"], [0.6666666666666666, \"#ed7953\"], [0.7777777777777778, \"#fb9f3a\"], [0.8888888888888888, \"#fdca26\"], [1.0, \"#f0f921\"]], \"type\": \"histogram2dcontour\"}], \"mesh3d\": [{\"colorbar\": {\"outlinewidth\": 0, \"ticks\": \"\"}, \"type\": \"mesh3d\"}], \"parcoords\": [{\"line\": {\"colorbar\": {\"outlinewidth\": 0, \"ticks\": \"\"}}, \"type\": \"parcoords\"}], \"pie\": [{\"automargin\": true, \"type\": \"pie\"}], \"scatter\": [{\"marker\": {\"colorbar\": {\"outlinewidth\": 0, \"ticks\": \"\"}}, \"type\": \"scatter\"}], \"scatter3d\": [{\"line\": {\"colorbar\": {\"outlinewidth\": 0, \"ticks\": \"\"}}, \"marker\": {\"colorbar\": {\"outlinewidth\": 0, \"ticks\": \"\"}}, \"type\": \"scatter3d\"}], \"scattercarpet\": [{\"marker\": {\"colorbar\": {\"outlinewidth\": 0, \"ticks\": \"\"}}, \"type\": \"scattercarpet\"}], \"scattergeo\": [{\"marker\": {\"colorbar\": {\"outlinewidth\": 0, \"ticks\": \"\"}}, \"type\": \"scattergeo\"}], \"scattergl\": [{\"marker\": {\"colorbar\": {\"outlinewidth\": 0, \"ticks\": \"\"}}, \"type\": \"scattergl\"}], \"scattermapbox\": [{\"marker\": {\"colorbar\": {\"outlinewidth\": 0, \"ticks\": \"\"}}, \"type\": \"scattermapbox\"}], \"scatterpolar\": [{\"marker\": {\"colorbar\": {\"outlinewidth\": 0, \"ticks\": \"\"}}, \"type\": \"scatterpolar\"}], \"scatterpolargl\": [{\"marker\": {\"colorbar\": {\"outlinewidth\": 0, \"ticks\": \"\"}}, \"type\": \"scatterpolargl\"}], \"scatterternary\": [{\"marker\": {\"colorbar\": {\"outlinewidth\": 0, \"ticks\": \"\"}}, \"type\": \"scatterternary\"}], \"surface\": [{\"colorbar\": {\"outlinewidth\": 0, \"ticks\": \"\"}, \"colorscale\": [[0.0, \"#0d0887\"], [0.1111111111111111, \"#46039f\"], [0.2222222222222222, \"#7201a8\"], [0.3333333333333333, \"#9c179e\"], [0.4444444444444444, \"#bd3786\"], [0.5555555555555556, \"#d8576b\"], [0.6666666666666666, \"#ed7953\"], [0.7777777777777778, \"#fb9f3a\"], [0.8888888888888888, \"#fdca26\"], [1.0, \"#f0f921\"]], \"type\": \"surface\"}], \"table\": [{\"cells\": {\"fill\": {\"color\": \"#EBF0F8\"}, \"line\": {\"color\": \"white\"}}, \"header\": {\"fill\": {\"color\": \"#C8D4E3\"}, \"line\": {\"color\": \"white\"}}, \"type\": \"table\"}]}, \"layout\": {\"annotationdefaults\": {\"arrowcolor\": \"#2a3f5f\", \"arrowhead\": 0, \"arrowwidth\": 1}, \"coloraxis\": {\"colorbar\": {\"outlinewidth\": 0, \"ticks\": \"\"}}, \"colorscale\": {\"diverging\": [[0, \"#8e0152\"], [0.1, \"#c51b7d\"], [0.2, \"#de77ae\"], [0.3, \"#f1b6da\"], [0.4, \"#fde0ef\"], [0.5, \"#f7f7f7\"], [0.6, \"#e6f5d0\"], [0.7, \"#b8e186\"], [0.8, \"#7fbc41\"], [0.9, \"#4d9221\"], [1, \"#276419\"]], \"sequential\": [[0.0, \"#0d0887\"], [0.1111111111111111, \"#46039f\"], [0.2222222222222222, \"#7201a8\"], [0.3333333333333333, \"#9c179e\"], [0.4444444444444444, \"#bd3786\"], [0.5555555555555556, \"#d8576b\"], [0.6666666666666666, \"#ed7953\"], [0.7777777777777778, \"#fb9f3a\"], [0.8888888888888888, \"#fdca26\"], [1.0, \"#f0f921\"]], \"sequentialminus\": [[0.0, \"#0d0887\"], [0.1111111111111111, \"#46039f\"], [0.2222222222222222, \"#7201a8\"], [0.3333333333333333, \"#9c179e\"], [0.4444444444444444, \"#bd3786\"], [0.5555555555555556, \"#d8576b\"], [0.6666666666666666, \"#ed7953\"], [0.7777777777777778, \"#fb9f3a\"], [0.8888888888888888, \"#fdca26\"], [1.0, \"#f0f921\"]]}, \"colorway\": [\"#636efa\", \"#EF553B\", \"#00cc96\", \"#ab63fa\", \"#FFA15A\", \"#19d3f3\", \"#FF6692\", \"#B6E880\", \"#FF97FF\", \"#FECB52\"], \"font\": {\"color\": \"#2a3f5f\"}, \"geo\": {\"bgcolor\": \"white\", \"lakecolor\": \"white\", \"landcolor\": \"#E5ECF6\", \"showlakes\": true, \"showland\": true, \"subunitcolor\": \"white\"}, \"hoverlabel\": {\"align\": \"left\"}, \"hovermode\": \"closest\", \"mapbox\": {\"style\": \"light\"}, \"paper_bgcolor\": \"white\", \"plot_bgcolor\": \"#E5ECF6\", \"polar\": {\"angularaxis\": {\"gridcolor\": \"white\", \"linecolor\": \"white\", \"ticks\": \"\"}, \"bgcolor\": \"#E5ECF6\", \"radialaxis\": {\"gridcolor\": \"white\", \"linecolor\": \"white\", \"ticks\": \"\"}}, \"scene\": {\"xaxis\": {\"backgroundcolor\": \"#E5ECF6\", \"gridcolor\": \"white\", \"gridwidth\": 2, \"linecolor\": \"white\", \"showbackground\": true, \"ticks\": \"\", \"zerolinecolor\": \"white\"}, \"yaxis\": {\"backgroundcolor\": \"#E5ECF6\", \"gridcolor\": \"white\", \"gridwidth\": 2, \"linecolor\": \"white\", \"showbackground\": true, \"ticks\": \"\", \"zerolinecolor\": \"white\"}, \"zaxis\": {\"backgroundcolor\": \"#E5ECF6\", \"gridcolor\": \"white\", \"gridwidth\": 2, \"linecolor\": \"white\", \"showbackground\": true, \"ticks\": \"\", \"zerolinecolor\": \"white\"}}, \"shapedefaults\": {\"line\": {\"color\": \"#2a3f5f\"}}, \"ternary\": {\"aaxis\": {\"gridcolor\": \"white\", \"linecolor\": \"white\", \"ticks\": \"\"}, \"baxis\": {\"gridcolor\": \"white\", \"linecolor\": \"white\", \"ticks\": \"\"}, \"bgcolor\": \"#E5ECF6\", \"caxis\": {\"gridcolor\": \"white\", \"linecolor\": \"white\", \"ticks\": \"\"}}, \"title\": {\"x\": 0.05}, \"xaxis\": {\"automargin\": true, \"gridcolor\": \"white\", \"linecolor\": \"white\", \"ticks\": \"\", \"title\": {\"standoff\": 15}, \"zerolinecolor\": \"white\", \"zerolinewidth\": 2}, \"yaxis\": {\"automargin\": true, \"gridcolor\": \"white\", \"linecolor\": \"white\", \"ticks\": \"\", \"title\": {\"standoff\": 15}, \"zerolinecolor\": \"white\", \"zerolinewidth\": 2}}}},\n",
       "                        {\"responsive\": true}\n",
       "                    ).then(function(){\n",
       "                            \n",
       "var gd = document.getElementById('2673d866-0807-4d68-a2d6-70a6e594189f');\n",
       "var x = new MutationObserver(function (mutations, observer) {{\n",
       "        var display = window.getComputedStyle(gd).display;\n",
       "        if (!display || display === 'none') {{\n",
       "            console.log([gd, 'removed!']);\n",
       "            Plotly.purge(gd);\n",
       "            observer.disconnect();\n",
       "        }}\n",
       "}});\n",
       "\n",
       "// Listen for the removal of the full notebook cells\n",
       "var notebookContainer = gd.closest('#notebook-container');\n",
       "if (notebookContainer) {{\n",
       "    x.observe(notebookContainer, {childList: true});\n",
       "}}\n",
       "\n",
       "// Listen for the clearing of the current output cell\n",
       "var outputEl = gd.closest('.output');\n",
       "if (outputEl) {{\n",
       "    x.observe(outputEl, {childList: true});\n",
       "}}\n",
       "\n",
       "                        })\n",
       "                };\n",
       "                });\n",
       "            </script>\n",
       "        </div>"
      ]
     },
     "metadata": {},
     "output_type": "display_data"
    }
   ],
   "source": [
    "titles = {0: 'PU Puro',\n",
    "          1: 'PU + 1% EG',\n",
    "          2: 'PU + 2% EG',\n",
    "            }\n",
    "\n",
    "fig = go.Figure()\n",
    "for eg in df['EG'].unique():\n",
    "    mask = (df['EG']==eg)\n",
    "    fig.add_trace(go.Scatter3d(\n",
    "                                x=df[mask]['Força Normal'],\n",
    "                                y=df[mask]['Frequência'],\n",
    "                                z=df[mask]['Largura Média'],\n",
    "                                mode=\"markers\",\n",
    "                                legendgroup=titles[eg],\n",
    "                                name = titles[eg],\n",
    "                                ))\n",
    "scene = dict(xaxis_title = 'Força Normal (N)',\n",
    "             yaxis_title = 'Frequência (Hz)',\n",
    "             zaxis_title = 'Largura de desgaste (µm)'\n",
    "            )\n",
    "fig.update_layout(scene = scene)\n",
    "fig.show()"
   ]
  },
  {
   "cell_type": "code",
   "execution_count": 124,
   "metadata": {},
   "outputs": [
    {
     "data": {
      "application/vnd.plotly.v1+json": {
       "config": {
        "plotlyServerURL": "https://plot.ly"
       },
       "data": [
        {
         "legendgroup": "PU Puro",
         "mode": "markers",
         "name": "PU Puro",
         "type": "scatter3d",
         "x": [
          2.5,
          2.5,
          5,
          5,
          8,
          8,
          2.5,
          2.5,
          5,
          5,
          8,
          8
         ],
         "y": [
          2,
          4,
          2,
          4,
          2,
          4,
          2,
          4,
          2,
          4,
          2,
          4
         ],
         "z": [
          0.25321853338838485,
          0.40618569006922295,
          0.3104597362364957,
          0.31010994172700473,
          0.2421318169842722,
          0.2380204456371949,
          0.2685295522493547,
          0.4039308846901071,
          0.2295760486823908,
          0.28530486211646283,
          0.22385098930809266,
          0.2115688680911057
         ]
        },
        {
         "legendgroup": "PU + 1% EG",
         "mode": "markers",
         "name": "PU + 1% EG",
         "type": "scatter3d",
         "x": [
          8,
          5,
          5,
          2.5,
          2.5,
          8,
          8,
          5,
          2.5,
          5,
          2.5,
          8,
          5.17,
          5.17,
          5.17,
          5.17
         ],
         "y": [
          4,
          2,
          4,
          4,
          2,
          2,
          4,
          4,
          4,
          2,
          2,
          2,
          3,
          3,
          3,
          3
         ],
         "z": [
          0.13974644181530094,
          0.1565856607285783,
          0.15396607805050294,
          0.19005304608864648,
          0.17108793623172805,
          0.19473148375768368,
          0.15398469846985066,
          0.16951580099573174,
          0.27581771964202184,
          0.23360099361000455,
          0.22488755197735286,
          0.10185537925113278,
          0.2617162926183269,
          0.26009353833917964,
          0.2682886357615912,
          0.26752010539272203
         ]
        },
        {
         "legendgroup": "PU + 2% EG",
         "mode": "markers",
         "name": "PU + 2% EG",
         "type": "scatter3d",
         "x": [
          5,
          5,
          2.5,
          2.5,
          8,
          8,
          5,
          8,
          2.5,
          2.5,
          5,
          8,
          5.17,
          5.17,
          5.17,
          5.17
         ],
         "y": [
          4,
          2,
          2,
          4,
          4,
          2,
          4,
          4,
          2,
          4,
          2,
          2,
          3,
          3,
          3,
          3
         ],
         "z": [
          0.17236847960445448,
          0.18920154092138985,
          0.2225957990274361,
          0.21887577255869856,
          0.16059199887009573,
          0.20840804042179306,
          0.15941794102066614,
          0.13940222496910376,
          0.2705955307753017,
          0.23128675613631114,
          0.21957670187640044,
          0.19917676191144396,
          0.2464823831726284,
          0.24093771772963715,
          0.23801008870648505,
          0.19073114775812605
         ]
        }
       ],
       "layout": {
        "scene": {
         "xaxis": {
          "title": {
           "text": "Força Normal (N)"
          }
         },
         "yaxis": {
          "title": {
           "text": "Frequência (Hz)"
          }
         },
         "zaxis": {
          "title": {
           "text": "Largura de desgaste (µm)"
          }
         }
        },
        "template": {
         "data": {
          "bar": [
           {
            "error_x": {
             "color": "#2a3f5f"
            },
            "error_y": {
             "color": "#2a3f5f"
            },
            "marker": {
             "line": {
              "color": "#E5ECF6",
              "width": 0.5
             }
            },
            "type": "bar"
           }
          ],
          "barpolar": [
           {
            "marker": {
             "line": {
              "color": "#E5ECF6",
              "width": 0.5
             }
            },
            "type": "barpolar"
           }
          ],
          "carpet": [
           {
            "aaxis": {
             "endlinecolor": "#2a3f5f",
             "gridcolor": "white",
             "linecolor": "white",
             "minorgridcolor": "white",
             "startlinecolor": "#2a3f5f"
            },
            "baxis": {
             "endlinecolor": "#2a3f5f",
             "gridcolor": "white",
             "linecolor": "white",
             "minorgridcolor": "white",
             "startlinecolor": "#2a3f5f"
            },
            "type": "carpet"
           }
          ],
          "choropleth": [
           {
            "colorbar": {
             "outlinewidth": 0,
             "ticks": ""
            },
            "type": "choropleth"
           }
          ],
          "contour": [
           {
            "colorbar": {
             "outlinewidth": 0,
             "ticks": ""
            },
            "colorscale": [
             [
              0,
              "#0d0887"
             ],
             [
              0.1111111111111111,
              "#46039f"
             ],
             [
              0.2222222222222222,
              "#7201a8"
             ],
             [
              0.3333333333333333,
              "#9c179e"
             ],
             [
              0.4444444444444444,
              "#bd3786"
             ],
             [
              0.5555555555555556,
              "#d8576b"
             ],
             [
              0.6666666666666666,
              "#ed7953"
             ],
             [
              0.7777777777777778,
              "#fb9f3a"
             ],
             [
              0.8888888888888888,
              "#fdca26"
             ],
             [
              1,
              "#f0f921"
             ]
            ],
            "type": "contour"
           }
          ],
          "contourcarpet": [
           {
            "colorbar": {
             "outlinewidth": 0,
             "ticks": ""
            },
            "type": "contourcarpet"
           }
          ],
          "heatmap": [
           {
            "colorbar": {
             "outlinewidth": 0,
             "ticks": ""
            },
            "colorscale": [
             [
              0,
              "#0d0887"
             ],
             [
              0.1111111111111111,
              "#46039f"
             ],
             [
              0.2222222222222222,
              "#7201a8"
             ],
             [
              0.3333333333333333,
              "#9c179e"
             ],
             [
              0.4444444444444444,
              "#bd3786"
             ],
             [
              0.5555555555555556,
              "#d8576b"
             ],
             [
              0.6666666666666666,
              "#ed7953"
             ],
             [
              0.7777777777777778,
              "#fb9f3a"
             ],
             [
              0.8888888888888888,
              "#fdca26"
             ],
             [
              1,
              "#f0f921"
             ]
            ],
            "type": "heatmap"
           }
          ],
          "heatmapgl": [
           {
            "colorbar": {
             "outlinewidth": 0,
             "ticks": ""
            },
            "colorscale": [
             [
              0,
              "#0d0887"
             ],
             [
              0.1111111111111111,
              "#46039f"
             ],
             [
              0.2222222222222222,
              "#7201a8"
             ],
             [
              0.3333333333333333,
              "#9c179e"
             ],
             [
              0.4444444444444444,
              "#bd3786"
             ],
             [
              0.5555555555555556,
              "#d8576b"
             ],
             [
              0.6666666666666666,
              "#ed7953"
             ],
             [
              0.7777777777777778,
              "#fb9f3a"
             ],
             [
              0.8888888888888888,
              "#fdca26"
             ],
             [
              1,
              "#f0f921"
             ]
            ],
            "type": "heatmapgl"
           }
          ],
          "histogram": [
           {
            "marker": {
             "colorbar": {
              "outlinewidth": 0,
              "ticks": ""
             }
            },
            "type": "histogram"
           }
          ],
          "histogram2d": [
           {
            "colorbar": {
             "outlinewidth": 0,
             "ticks": ""
            },
            "colorscale": [
             [
              0,
              "#0d0887"
             ],
             [
              0.1111111111111111,
              "#46039f"
             ],
             [
              0.2222222222222222,
              "#7201a8"
             ],
             [
              0.3333333333333333,
              "#9c179e"
             ],
             [
              0.4444444444444444,
              "#bd3786"
             ],
             [
              0.5555555555555556,
              "#d8576b"
             ],
             [
              0.6666666666666666,
              "#ed7953"
             ],
             [
              0.7777777777777778,
              "#fb9f3a"
             ],
             [
              0.8888888888888888,
              "#fdca26"
             ],
             [
              1,
              "#f0f921"
             ]
            ],
            "type": "histogram2d"
           }
          ],
          "histogram2dcontour": [
           {
            "colorbar": {
             "outlinewidth": 0,
             "ticks": ""
            },
            "colorscale": [
             [
              0,
              "#0d0887"
             ],
             [
              0.1111111111111111,
              "#46039f"
             ],
             [
              0.2222222222222222,
              "#7201a8"
             ],
             [
              0.3333333333333333,
              "#9c179e"
             ],
             [
              0.4444444444444444,
              "#bd3786"
             ],
             [
              0.5555555555555556,
              "#d8576b"
             ],
             [
              0.6666666666666666,
              "#ed7953"
             ],
             [
              0.7777777777777778,
              "#fb9f3a"
             ],
             [
              0.8888888888888888,
              "#fdca26"
             ],
             [
              1,
              "#f0f921"
             ]
            ],
            "type": "histogram2dcontour"
           }
          ],
          "mesh3d": [
           {
            "colorbar": {
             "outlinewidth": 0,
             "ticks": ""
            },
            "type": "mesh3d"
           }
          ],
          "parcoords": [
           {
            "line": {
             "colorbar": {
              "outlinewidth": 0,
              "ticks": ""
             }
            },
            "type": "parcoords"
           }
          ],
          "pie": [
           {
            "automargin": true,
            "type": "pie"
           }
          ],
          "scatter": [
           {
            "marker": {
             "colorbar": {
              "outlinewidth": 0,
              "ticks": ""
             }
            },
            "type": "scatter"
           }
          ],
          "scatter3d": [
           {
            "line": {
             "colorbar": {
              "outlinewidth": 0,
              "ticks": ""
             }
            },
            "marker": {
             "colorbar": {
              "outlinewidth": 0,
              "ticks": ""
             }
            },
            "type": "scatter3d"
           }
          ],
          "scattercarpet": [
           {
            "marker": {
             "colorbar": {
              "outlinewidth": 0,
              "ticks": ""
             }
            },
            "type": "scattercarpet"
           }
          ],
          "scattergeo": [
           {
            "marker": {
             "colorbar": {
              "outlinewidth": 0,
              "ticks": ""
             }
            },
            "type": "scattergeo"
           }
          ],
          "scattergl": [
           {
            "marker": {
             "colorbar": {
              "outlinewidth": 0,
              "ticks": ""
             }
            },
            "type": "scattergl"
           }
          ],
          "scattermapbox": [
           {
            "marker": {
             "colorbar": {
              "outlinewidth": 0,
              "ticks": ""
             }
            },
            "type": "scattermapbox"
           }
          ],
          "scatterpolar": [
           {
            "marker": {
             "colorbar": {
              "outlinewidth": 0,
              "ticks": ""
             }
            },
            "type": "scatterpolar"
           }
          ],
          "scatterpolargl": [
           {
            "marker": {
             "colorbar": {
              "outlinewidth": 0,
              "ticks": ""
             }
            },
            "type": "scatterpolargl"
           }
          ],
          "scatterternary": [
           {
            "marker": {
             "colorbar": {
              "outlinewidth": 0,
              "ticks": ""
             }
            },
            "type": "scatterternary"
           }
          ],
          "surface": [
           {
            "colorbar": {
             "outlinewidth": 0,
             "ticks": ""
            },
            "colorscale": [
             [
              0,
              "#0d0887"
             ],
             [
              0.1111111111111111,
              "#46039f"
             ],
             [
              0.2222222222222222,
              "#7201a8"
             ],
             [
              0.3333333333333333,
              "#9c179e"
             ],
             [
              0.4444444444444444,
              "#bd3786"
             ],
             [
              0.5555555555555556,
              "#d8576b"
             ],
             [
              0.6666666666666666,
              "#ed7953"
             ],
             [
              0.7777777777777778,
              "#fb9f3a"
             ],
             [
              0.8888888888888888,
              "#fdca26"
             ],
             [
              1,
              "#f0f921"
             ]
            ],
            "type": "surface"
           }
          ],
          "table": [
           {
            "cells": {
             "fill": {
              "color": "#EBF0F8"
             },
             "line": {
              "color": "white"
             }
            },
            "header": {
             "fill": {
              "color": "#C8D4E3"
             },
             "line": {
              "color": "white"
             }
            },
            "type": "table"
           }
          ]
         },
         "layout": {
          "annotationdefaults": {
           "arrowcolor": "#2a3f5f",
           "arrowhead": 0,
           "arrowwidth": 1
          },
          "coloraxis": {
           "colorbar": {
            "outlinewidth": 0,
            "ticks": ""
           }
          },
          "colorscale": {
           "diverging": [
            [
             0,
             "#8e0152"
            ],
            [
             0.1,
             "#c51b7d"
            ],
            [
             0.2,
             "#de77ae"
            ],
            [
             0.3,
             "#f1b6da"
            ],
            [
             0.4,
             "#fde0ef"
            ],
            [
             0.5,
             "#f7f7f7"
            ],
            [
             0.6,
             "#e6f5d0"
            ],
            [
             0.7,
             "#b8e186"
            ],
            [
             0.8,
             "#7fbc41"
            ],
            [
             0.9,
             "#4d9221"
            ],
            [
             1,
             "#276419"
            ]
           ],
           "sequential": [
            [
             0,
             "#0d0887"
            ],
            [
             0.1111111111111111,
             "#46039f"
            ],
            [
             0.2222222222222222,
             "#7201a8"
            ],
            [
             0.3333333333333333,
             "#9c179e"
            ],
            [
             0.4444444444444444,
             "#bd3786"
            ],
            [
             0.5555555555555556,
             "#d8576b"
            ],
            [
             0.6666666666666666,
             "#ed7953"
            ],
            [
             0.7777777777777778,
             "#fb9f3a"
            ],
            [
             0.8888888888888888,
             "#fdca26"
            ],
            [
             1,
             "#f0f921"
            ]
           ],
           "sequentialminus": [
            [
             0,
             "#0d0887"
            ],
            [
             0.1111111111111111,
             "#46039f"
            ],
            [
             0.2222222222222222,
             "#7201a8"
            ],
            [
             0.3333333333333333,
             "#9c179e"
            ],
            [
             0.4444444444444444,
             "#bd3786"
            ],
            [
             0.5555555555555556,
             "#d8576b"
            ],
            [
             0.6666666666666666,
             "#ed7953"
            ],
            [
             0.7777777777777778,
             "#fb9f3a"
            ],
            [
             0.8888888888888888,
             "#fdca26"
            ],
            [
             1,
             "#f0f921"
            ]
           ]
          },
          "colorway": [
           "#636efa",
           "#EF553B",
           "#00cc96",
           "#ab63fa",
           "#FFA15A",
           "#19d3f3",
           "#FF6692",
           "#B6E880",
           "#FF97FF",
           "#FECB52"
          ],
          "font": {
           "color": "#2a3f5f"
          },
          "geo": {
           "bgcolor": "white",
           "lakecolor": "white",
           "landcolor": "#E5ECF6",
           "showlakes": true,
           "showland": true,
           "subunitcolor": "white"
          },
          "hoverlabel": {
           "align": "left"
          },
          "hovermode": "closest",
          "mapbox": {
           "style": "light"
          },
          "paper_bgcolor": "white",
          "plot_bgcolor": "#E5ECF6",
          "polar": {
           "angularaxis": {
            "gridcolor": "white",
            "linecolor": "white",
            "ticks": ""
           },
           "bgcolor": "#E5ECF6",
           "radialaxis": {
            "gridcolor": "white",
            "linecolor": "white",
            "ticks": ""
           }
          },
          "scene": {
           "xaxis": {
            "backgroundcolor": "#E5ECF6",
            "gridcolor": "white",
            "gridwidth": 2,
            "linecolor": "white",
            "showbackground": true,
            "ticks": "",
            "zerolinecolor": "white"
           },
           "yaxis": {
            "backgroundcolor": "#E5ECF6",
            "gridcolor": "white",
            "gridwidth": 2,
            "linecolor": "white",
            "showbackground": true,
            "ticks": "",
            "zerolinecolor": "white"
           },
           "zaxis": {
            "backgroundcolor": "#E5ECF6",
            "gridcolor": "white",
            "gridwidth": 2,
            "linecolor": "white",
            "showbackground": true,
            "ticks": "",
            "zerolinecolor": "white"
           }
          },
          "shapedefaults": {
           "line": {
            "color": "#2a3f5f"
           }
          },
          "ternary": {
           "aaxis": {
            "gridcolor": "white",
            "linecolor": "white",
            "ticks": ""
           },
           "baxis": {
            "gridcolor": "white",
            "linecolor": "white",
            "ticks": ""
           },
           "bgcolor": "#E5ECF6",
           "caxis": {
            "gridcolor": "white",
            "linecolor": "white",
            "ticks": ""
           }
          },
          "title": {
           "x": 0.05
          },
          "xaxis": {
           "automargin": true,
           "gridcolor": "white",
           "linecolor": "white",
           "ticks": "",
           "title": {
            "standoff": 15
           },
           "zerolinecolor": "white",
           "zerolinewidth": 2
          },
          "yaxis": {
           "automargin": true,
           "gridcolor": "white",
           "linecolor": "white",
           "ticks": "",
           "title": {
            "standoff": 15
           },
           "zerolinecolor": "white",
           "zerolinewidth": 2
          }
         }
        }
       }
      },
      "text/html": [
       "<div>\n",
       "        \n",
       "        \n",
       "            <div id=\"7742b561-9ce3-4add-a9fa-20587bb6163f\" class=\"plotly-graph-div\" style=\"height:525px; width:100%;\"></div>\n",
       "            <script type=\"text/javascript\">\n",
       "                require([\"plotly\"], function(Plotly) {\n",
       "                    window.PLOTLYENV=window.PLOTLYENV || {};\n",
       "                    \n",
       "                if (document.getElementById(\"7742b561-9ce3-4add-a9fa-20587bb6163f\")) {\n",
       "                    Plotly.newPlot(\n",
       "                        '7742b561-9ce3-4add-a9fa-20587bb6163f',\n",
       "                        [{\"legendgroup\": \"PU Puro\", \"mode\": \"markers\", \"name\": \"PU Puro\", \"type\": \"scatter3d\", \"x\": [2.5, 2.5, 5.0, 5.0, 8.0, 8.0, 2.5, 2.5, 5.0, 5.0, 8.0, 8.0], \"y\": [2.0, 4.0, 2.0, 4.0, 2.0, 4.0, 2.0, 4.0, 2.0, 4.0, 2.0, 4.0], \"z\": [0.25321853338838485, 0.40618569006922295, 0.3104597362364957, 0.31010994172700473, 0.2421318169842722, 0.2380204456371949, 0.2685295522493547, 0.4039308846901071, 0.2295760486823908, 0.28530486211646283, 0.22385098930809266, 0.2115688680911057]}, {\"legendgroup\": \"PU + 1% EG\", \"mode\": \"markers\", \"name\": \"PU + 1% EG\", \"type\": \"scatter3d\", \"x\": [8.0, 5.0, 5.0, 2.5, 2.5, 8.0, 8.0, 5.0, 2.5, 5.0, 2.5, 8.0, 5.17, 5.17, 5.17, 5.17], \"y\": [4.0, 2.0, 4.0, 4.0, 2.0, 2.0, 4.0, 4.0, 4.0, 2.0, 2.0, 2.0, 3.0, 3.0, 3.0, 3.0], \"z\": [0.13974644181530094, 0.1565856607285783, 0.15396607805050294, 0.19005304608864648, 0.17108793623172805, 0.19473148375768368, 0.15398469846985066, 0.16951580099573174, 0.27581771964202184, 0.23360099361000455, 0.22488755197735286, 0.10185537925113278, 0.2617162926183269, 0.26009353833917964, 0.2682886357615912, 0.26752010539272203]}, {\"legendgroup\": \"PU + 2% EG\", \"mode\": \"markers\", \"name\": \"PU + 2% EG\", \"type\": \"scatter3d\", \"x\": [5.0, 5.0, 2.5, 2.5, 8.0, 8.0, 5.0, 8.0, 2.5, 2.5, 5.0, 8.0, 5.17, 5.17, 5.17, 5.17], \"y\": [4.0, 2.0, 2.0, 4.0, 4.0, 2.0, 4.0, 4.0, 2.0, 4.0, 2.0, 2.0, 3.0, 3.0, 3.0, 3.0], \"z\": [0.17236847960445448, 0.18920154092138985, 0.2225957990274361, 0.21887577255869856, 0.16059199887009573, 0.20840804042179306, 0.15941794102066614, 0.13940222496910376, 0.2705955307753017, 0.23128675613631114, 0.21957670187640044, 0.19917676191144396, 0.2464823831726284, 0.24093771772963715, 0.23801008870648505, 0.19073114775812605]}],\n",
       "                        {\"scene\": {\"xaxis\": {\"title\": {\"text\": \"For\\u00e7a Normal (N)\"}}, \"yaxis\": {\"title\": {\"text\": \"Frequ\\u00eancia (Hz)\"}}, \"zaxis\": {\"title\": {\"text\": \"Largura de desgaste (\\u00b5m)\"}}}, \"template\": {\"data\": {\"bar\": [{\"error_x\": {\"color\": \"#2a3f5f\"}, \"error_y\": {\"color\": \"#2a3f5f\"}, \"marker\": {\"line\": {\"color\": \"#E5ECF6\", \"width\": 0.5}}, \"type\": \"bar\"}], \"barpolar\": [{\"marker\": {\"line\": {\"color\": \"#E5ECF6\", \"width\": 0.5}}, \"type\": \"barpolar\"}], \"carpet\": [{\"aaxis\": {\"endlinecolor\": \"#2a3f5f\", \"gridcolor\": \"white\", \"linecolor\": \"white\", \"minorgridcolor\": \"white\", \"startlinecolor\": \"#2a3f5f\"}, \"baxis\": {\"endlinecolor\": \"#2a3f5f\", \"gridcolor\": \"white\", \"linecolor\": \"white\", \"minorgridcolor\": \"white\", \"startlinecolor\": \"#2a3f5f\"}, \"type\": \"carpet\"}], \"choropleth\": [{\"colorbar\": {\"outlinewidth\": 0, \"ticks\": \"\"}, \"type\": \"choropleth\"}], \"contour\": [{\"colorbar\": {\"outlinewidth\": 0, \"ticks\": \"\"}, \"colorscale\": [[0.0, \"#0d0887\"], [0.1111111111111111, \"#46039f\"], [0.2222222222222222, \"#7201a8\"], [0.3333333333333333, \"#9c179e\"], [0.4444444444444444, \"#bd3786\"], [0.5555555555555556, \"#d8576b\"], [0.6666666666666666, \"#ed7953\"], [0.7777777777777778, \"#fb9f3a\"], [0.8888888888888888, \"#fdca26\"], [1.0, \"#f0f921\"]], \"type\": \"contour\"}], \"contourcarpet\": [{\"colorbar\": {\"outlinewidth\": 0, \"ticks\": \"\"}, \"type\": \"contourcarpet\"}], \"heatmap\": [{\"colorbar\": {\"outlinewidth\": 0, \"ticks\": \"\"}, \"colorscale\": [[0.0, \"#0d0887\"], [0.1111111111111111, \"#46039f\"], [0.2222222222222222, \"#7201a8\"], [0.3333333333333333, \"#9c179e\"], [0.4444444444444444, \"#bd3786\"], [0.5555555555555556, \"#d8576b\"], [0.6666666666666666, \"#ed7953\"], [0.7777777777777778, \"#fb9f3a\"], [0.8888888888888888, \"#fdca26\"], [1.0, \"#f0f921\"]], \"type\": \"heatmap\"}], \"heatmapgl\": [{\"colorbar\": {\"outlinewidth\": 0, \"ticks\": \"\"}, \"colorscale\": [[0.0, \"#0d0887\"], [0.1111111111111111, \"#46039f\"], [0.2222222222222222, \"#7201a8\"], [0.3333333333333333, \"#9c179e\"], [0.4444444444444444, \"#bd3786\"], [0.5555555555555556, \"#d8576b\"], [0.6666666666666666, \"#ed7953\"], [0.7777777777777778, \"#fb9f3a\"], [0.8888888888888888, \"#fdca26\"], [1.0, \"#f0f921\"]], \"type\": \"heatmapgl\"}], \"histogram\": [{\"marker\": {\"colorbar\": {\"outlinewidth\": 0, \"ticks\": \"\"}}, \"type\": \"histogram\"}], \"histogram2d\": [{\"colorbar\": {\"outlinewidth\": 0, \"ticks\": \"\"}, \"colorscale\": [[0.0, \"#0d0887\"], [0.1111111111111111, \"#46039f\"], [0.2222222222222222, \"#7201a8\"], [0.3333333333333333, \"#9c179e\"], [0.4444444444444444, \"#bd3786\"], [0.5555555555555556, \"#d8576b\"], [0.6666666666666666, \"#ed7953\"], [0.7777777777777778, \"#fb9f3a\"], [0.8888888888888888, \"#fdca26\"], [1.0, \"#f0f921\"]], \"type\": \"histogram2d\"}], \"histogram2dcontour\": [{\"colorbar\": {\"outlinewidth\": 0, \"ticks\": \"\"}, \"colorscale\": [[0.0, \"#0d0887\"], [0.1111111111111111, \"#46039f\"], [0.2222222222222222, \"#7201a8\"], [0.3333333333333333, \"#9c179e\"], [0.4444444444444444, \"#bd3786\"], [0.5555555555555556, \"#d8576b\"], [0.6666666666666666, \"#ed7953\"], [0.7777777777777778, \"#fb9f3a\"], [0.8888888888888888, \"#fdca26\"], [1.0, \"#f0f921\"]], \"type\": \"histogram2dcontour\"}], \"mesh3d\": [{\"colorbar\": {\"outlinewidth\": 0, \"ticks\": \"\"}, \"type\": \"mesh3d\"}], \"parcoords\": [{\"line\": {\"colorbar\": {\"outlinewidth\": 0, \"ticks\": \"\"}}, \"type\": \"parcoords\"}], \"pie\": [{\"automargin\": true, \"type\": \"pie\"}], \"scatter\": [{\"marker\": {\"colorbar\": {\"outlinewidth\": 0, \"ticks\": \"\"}}, \"type\": \"scatter\"}], \"scatter3d\": [{\"line\": {\"colorbar\": {\"outlinewidth\": 0, \"ticks\": \"\"}}, \"marker\": {\"colorbar\": {\"outlinewidth\": 0, \"ticks\": \"\"}}, \"type\": \"scatter3d\"}], \"scattercarpet\": [{\"marker\": {\"colorbar\": {\"outlinewidth\": 0, \"ticks\": \"\"}}, \"type\": \"scattercarpet\"}], \"scattergeo\": [{\"marker\": {\"colorbar\": {\"outlinewidth\": 0, \"ticks\": \"\"}}, \"type\": \"scattergeo\"}], \"scattergl\": [{\"marker\": {\"colorbar\": {\"outlinewidth\": 0, \"ticks\": \"\"}}, \"type\": \"scattergl\"}], \"scattermapbox\": [{\"marker\": {\"colorbar\": {\"outlinewidth\": 0, \"ticks\": \"\"}}, \"type\": \"scattermapbox\"}], \"scatterpolar\": [{\"marker\": {\"colorbar\": {\"outlinewidth\": 0, \"ticks\": \"\"}}, \"type\": \"scatterpolar\"}], \"scatterpolargl\": [{\"marker\": {\"colorbar\": {\"outlinewidth\": 0, \"ticks\": \"\"}}, \"type\": \"scatterpolargl\"}], \"scatterternary\": [{\"marker\": {\"colorbar\": {\"outlinewidth\": 0, \"ticks\": \"\"}}, \"type\": \"scatterternary\"}], \"surface\": [{\"colorbar\": {\"outlinewidth\": 0, \"ticks\": \"\"}, \"colorscale\": [[0.0, \"#0d0887\"], [0.1111111111111111, \"#46039f\"], [0.2222222222222222, \"#7201a8\"], [0.3333333333333333, \"#9c179e\"], [0.4444444444444444, \"#bd3786\"], [0.5555555555555556, \"#d8576b\"], [0.6666666666666666, \"#ed7953\"], [0.7777777777777778, \"#fb9f3a\"], [0.8888888888888888, \"#fdca26\"], [1.0, \"#f0f921\"]], \"type\": \"surface\"}], \"table\": [{\"cells\": {\"fill\": {\"color\": \"#EBF0F8\"}, \"line\": {\"color\": \"white\"}}, \"header\": {\"fill\": {\"color\": \"#C8D4E3\"}, \"line\": {\"color\": \"white\"}}, \"type\": \"table\"}]}, \"layout\": {\"annotationdefaults\": {\"arrowcolor\": \"#2a3f5f\", \"arrowhead\": 0, \"arrowwidth\": 1}, \"coloraxis\": {\"colorbar\": {\"outlinewidth\": 0, \"ticks\": \"\"}}, \"colorscale\": {\"diverging\": [[0, \"#8e0152\"], [0.1, \"#c51b7d\"], [0.2, \"#de77ae\"], [0.3, \"#f1b6da\"], [0.4, \"#fde0ef\"], [0.5, \"#f7f7f7\"], [0.6, \"#e6f5d0\"], [0.7, \"#b8e186\"], [0.8, \"#7fbc41\"], [0.9, \"#4d9221\"], [1, \"#276419\"]], \"sequential\": [[0.0, \"#0d0887\"], [0.1111111111111111, \"#46039f\"], [0.2222222222222222, \"#7201a8\"], [0.3333333333333333, \"#9c179e\"], [0.4444444444444444, \"#bd3786\"], [0.5555555555555556, \"#d8576b\"], [0.6666666666666666, \"#ed7953\"], [0.7777777777777778, \"#fb9f3a\"], [0.8888888888888888, \"#fdca26\"], [1.0, \"#f0f921\"]], \"sequentialminus\": [[0.0, \"#0d0887\"], [0.1111111111111111, \"#46039f\"], [0.2222222222222222, \"#7201a8\"], [0.3333333333333333, \"#9c179e\"], [0.4444444444444444, \"#bd3786\"], [0.5555555555555556, \"#d8576b\"], [0.6666666666666666, \"#ed7953\"], [0.7777777777777778, \"#fb9f3a\"], [0.8888888888888888, \"#fdca26\"], [1.0, \"#f0f921\"]]}, \"colorway\": [\"#636efa\", \"#EF553B\", \"#00cc96\", \"#ab63fa\", \"#FFA15A\", \"#19d3f3\", \"#FF6692\", \"#B6E880\", \"#FF97FF\", \"#FECB52\"], \"font\": {\"color\": \"#2a3f5f\"}, \"geo\": {\"bgcolor\": \"white\", \"lakecolor\": \"white\", \"landcolor\": \"#E5ECF6\", \"showlakes\": true, \"showland\": true, \"subunitcolor\": \"white\"}, \"hoverlabel\": {\"align\": \"left\"}, \"hovermode\": \"closest\", \"mapbox\": {\"style\": \"light\"}, \"paper_bgcolor\": \"white\", \"plot_bgcolor\": \"#E5ECF6\", \"polar\": {\"angularaxis\": {\"gridcolor\": \"white\", \"linecolor\": \"white\", \"ticks\": \"\"}, \"bgcolor\": \"#E5ECF6\", \"radialaxis\": {\"gridcolor\": \"white\", \"linecolor\": \"white\", \"ticks\": \"\"}}, \"scene\": {\"xaxis\": {\"backgroundcolor\": \"#E5ECF6\", \"gridcolor\": \"white\", \"gridwidth\": 2, \"linecolor\": \"white\", \"showbackground\": true, \"ticks\": \"\", \"zerolinecolor\": \"white\"}, \"yaxis\": {\"backgroundcolor\": \"#E5ECF6\", \"gridcolor\": \"white\", \"gridwidth\": 2, \"linecolor\": \"white\", \"showbackground\": true, \"ticks\": \"\", \"zerolinecolor\": \"white\"}, \"zaxis\": {\"backgroundcolor\": \"#E5ECF6\", \"gridcolor\": \"white\", \"gridwidth\": 2, \"linecolor\": \"white\", \"showbackground\": true, \"ticks\": \"\", \"zerolinecolor\": \"white\"}}, \"shapedefaults\": {\"line\": {\"color\": \"#2a3f5f\"}}, \"ternary\": {\"aaxis\": {\"gridcolor\": \"white\", \"linecolor\": \"white\", \"ticks\": \"\"}, \"baxis\": {\"gridcolor\": \"white\", \"linecolor\": \"white\", \"ticks\": \"\"}, \"bgcolor\": \"#E5ECF6\", \"caxis\": {\"gridcolor\": \"white\", \"linecolor\": \"white\", \"ticks\": \"\"}}, \"title\": {\"x\": 0.05}, \"xaxis\": {\"automargin\": true, \"gridcolor\": \"white\", \"linecolor\": \"white\", \"ticks\": \"\", \"title\": {\"standoff\": 15}, \"zerolinecolor\": \"white\", \"zerolinewidth\": 2}, \"yaxis\": {\"automargin\": true, \"gridcolor\": \"white\", \"linecolor\": \"white\", \"ticks\": \"\", \"title\": {\"standoff\": 15}, \"zerolinecolor\": \"white\", \"zerolinewidth\": 2}}}},\n",
       "                        {\"responsive\": true}\n",
       "                    ).then(function(){\n",
       "                            \n",
       "var gd = document.getElementById('7742b561-9ce3-4add-a9fa-20587bb6163f');\n",
       "var x = new MutationObserver(function (mutations, observer) {{\n",
       "        var display = window.getComputedStyle(gd).display;\n",
       "        if (!display || display === 'none') {{\n",
       "            console.log([gd, 'removed!']);\n",
       "            Plotly.purge(gd);\n",
       "            observer.disconnect();\n",
       "        }}\n",
       "}});\n",
       "\n",
       "// Listen for the removal of the full notebook cells\n",
       "var notebookContainer = gd.closest('#notebook-container');\n",
       "if (notebookContainer) {{\n",
       "    x.observe(notebookContainer, {childList: true});\n",
       "}}\n",
       "\n",
       "// Listen for the clearing of the current output cell\n",
       "var outputEl = gd.closest('.output');\n",
       "if (outputEl) {{\n",
       "    x.observe(outputEl, {childList: true});\n",
       "}}\n",
       "\n",
       "                        })\n",
       "                };\n",
       "                });\n",
       "            </script>\n",
       "        </div>"
      ]
     },
     "metadata": {},
     "output_type": "display_data"
    }
   ],
   "source": [
    "titles = {0: 'PU Puro',\n",
    "          1: 'PU + 1% EG',\n",
    "          2: 'PU + 2% EG',\n",
    "            }\n",
    "\n",
    "fig = go.Figure()\n",
    "for eg in df2['EG'].unique():\n",
    "    mask = (df2['EG']==eg)\n",
    "    fig.add_trace(go.Scatter3d(\n",
    "                                x=df2[mask]['Força Normal'],\n",
    "                                y=df2[mask]['Frequência'],\n",
    "                                z=df2[mask]['COF Médio'],\n",
    "                                mode=\"markers\",\n",
    "                                legendgroup=titles[eg],\n",
    "                                name = titles[eg],\n",
    "                                ))\n",
    "scene = dict(xaxis_title = 'Força Normal (N)',\n",
    "             yaxis_title = 'Frequência (Hz)',\n",
    "             zaxis_title = 'Largura de desgaste (µm)'\n",
    "            )\n",
    "fig.update_layout(scene = scene)\n",
    "fig.show()"
   ]
  },
  {
   "cell_type": "code",
   "execution_count": 258,
   "metadata": {},
   "outputs": [],
   "source": [
    "ndf = (df.assign(Intercept=1) #inclui uma coluna de 'intercepto' (fatorial) para o cálculo do coeficiente b0\n",
    "#Aqui devem ser incluídos os parâmetros do modelo, até o máximo de N < número de níveis usados no experimento\n",
    "          #.assign(**{'Força²' : ndf['Força Normal']**2}) #inclui parâmetro quadrático de força normal no modelo\n",
    "          #.assign(**{'EG Percentage²' : ndf['EG Percentage']**2}) #inclui um parâmetro exponencial de porcentagem de grafite expandido\n",
    "          #.assign(**{'Frequência * EG Percentage' : ndf['Frequência']*ndf['EG Percentage']}) #10\n",
    "          .assign(**{'Força * EG' : ndf['Força Normal']*ndf['EG']}) #11\n",
    "          #.assign(**{'Força * Frequência' : ndf['Força Normal']*ndf['Frequência']}) #12\n",
    "          #.assign(**{'Força * Frequência * EG Percentage': ndf['Força Normal']*ndf['Frequência']*ndf['EG Percentage']}) #13\n",
    "          #.assign(**{'Nome do novo parâmetro': definição do novo parâmetro}) #14\n",
    "          )"
   ]
  },
  {
   "cell_type": "code",
   "execution_count": 259,
   "metadata": {},
   "outputs": [],
   "source": [
    "ndf2 = (df2.assign(Intercept=1) #inclui uma coluna de 'intercepto' (fatorial) para o cálculo do coeficiente b0\n",
    "#Aqui devem ser incluídos os parâmetros do modelo, até o máximo de N < número de níveis usados no experimento\n",
    "          .assign(**{'Força²' : ndf['Força Normal']**2}) #inclui parâmetro quadrático de força normal no modelo\n",
    "          .assign(**{'EG²' : ndf['EG']**2}) #inclui um parâmetro exponencial de porcentagem de grafite expandido\n",
    "          .assign(**{'Frequência * EG' : ndf['Frequência']*ndf['EG']}) #10\n",
    "          .assign(**{'Força * EG' : ndf['Força Normal']*ndf['EG']}) #11\n",
    "          .assign(**{'Força * Frequência' : ndf['Força Normal']*ndf['Frequência']}) #12\n",
    "          .assign(**{'Força * Frequência * EG': ndf['Força Normal']*ndf['Frequência']*ndf['EG']}) #13\n",
    "          #.assign(**{'Nome do novo parâmetro': definição do novo parâmetro}) #14\n",
    "          )"
   ]
  },
  {
   "cell_type": "markdown",
   "metadata": {},
   "source": [
    "#### Estimativa do desvio padrão"
   ]
  },
  {
   "cell_type": "code",
   "execution_count": 260,
   "metadata": {},
   "outputs": [
    {
     "data": {
      "text/plain": [
       "9.69726717683032"
      ]
     },
     "execution_count": 260,
     "metadata": {},
     "output_type": "execute_result"
    }
   ],
   "source": [
    "s = ndf['Largura Desv. Pad.'].mean()\n",
    "s"
   ]
  },
  {
   "cell_type": "code",
   "execution_count": 261,
   "metadata": {},
   "outputs": [
    {
     "data": {
      "text/plain": [
       "0.03181661369043549"
      ]
     },
     "execution_count": 261,
     "metadata": {},
     "output_type": "execute_result"
    }
   ],
   "source": [
    "s2 = df2['COF Desv. Pad.'].max()\n",
    "s2"
   ]
  },
  {
   "cell_type": "code",
   "execution_count": 262,
   "metadata": {},
   "outputs": [
    {
     "data": {
      "text/plain": [
       "['Foto',\n",
       " 'PU',\n",
       " 'EG',\n",
       " 'Posição',\n",
       " 'Ensaio',\n",
       " 'Largura 1',\n",
       " 'Largura 2',\n",
       " 'Largura 3',\n",
       " 'Força Normal',\n",
       " 'Frequência',\n",
       " 'Largura Média',\n",
       " 'Largura Desv. Pad.',\n",
       " 'Ensaio - Geral',\n",
       " 'Intercept',\n",
       " 'Força * EG']"
      ]
     },
     "execution_count": 262,
     "metadata": {},
     "output_type": "execute_result"
    }
   ],
   "source": [
    "P = ndf.columns.to_list()\n",
    "P"
   ]
  },
  {
   "cell_type": "code",
   "execution_count": 286,
   "metadata": {},
   "outputs": [],
   "source": [
    "parametros = [P[13], #intercept\n",
    "              P[8], # força\n",
    "              #P[9], # freq\n",
    "              P[2], # egp\n",
    "              #P[14], #força*eg\n",
    "              ]\n",
    "resposta = P[10]"
   ]
  },
  {
   "cell_type": "code",
   "execution_count": 287,
   "metadata": {},
   "outputs": [
    {
     "data": {
      "text/plain": [
       "['indice',\n",
       " 'Material',\n",
       " 'Força Normal',\n",
       " 'Frequência',\n",
       " 'Distância',\n",
       " 'COF Médio',\n",
       " 'COF Desv. Pad.',\n",
       " 'EG',\n",
       " 'PU',\n",
       " 'Ensaio - Geral',\n",
       " 'Largura Média',\n",
       " 'Intercept',\n",
       " 'Força²',\n",
       " 'EG²',\n",
       " 'Frequência * EG',\n",
       " 'Força * EG',\n",
       " 'Força * Frequência',\n",
       " 'Força * Frequência * EG']"
      ]
     },
     "execution_count": 287,
     "metadata": {},
     "output_type": "execute_result"
    }
   ],
   "source": [
    "P2 = ndf2.columns.to_list()\n",
    "P2"
   ]
  },
  {
   "cell_type": "code",
   "execution_count": 288,
   "metadata": {},
   "outputs": [],
   "source": [
    "parametros2 = [P2[11], #intercept\n",
    "               P2[2], # força\n",
    "               P2[3], # freq\n",
    "               P2[7], # egp\n",
    "               P2[12], #força²\n",
    "               P2[13], #eg²\n",
    "               P2[14], #freq*eg\n",
    "               P2[15], #força*eg\n",
    "               P2[16], #força*freq\n",
    "               P2[17], #força*freq*eg\n",
    "              ]\n",
    "resposta2 = P2[5]"
   ]
  },
  {
   "cell_type": "code",
   "execution_count": 289,
   "metadata": {},
   "outputs": [],
   "source": [
    "X = np.asmatrix(ndf[parametros].to_numpy()) #matriz de parâmetros X\n",
    "Y = np.asmatrix(ndf[resposta].to_numpy()).T #matriz de respostas Y\n",
    "\n",
    "b = np.dot(np.dot(np.dot(X.T,X).I,X.T),Y) #cálculo do vetor de parâmetros b \n",
    "Vb = (np.dot(X.T,X).I)*s**2 #variância/covariância dos parâmetros b, com base na variância calculada na primeira parte do programa\n",
    "Vb = np.asmatrix(np.diag(Vb)).T #organizada como o vetor b (exclui covariancias)"
   ]
  },
  {
   "cell_type": "code",
   "execution_count": 290,
   "metadata": {},
   "outputs": [
    {
     "data": {
      "text/plain": [
       "matrix([[12.85864559],\n",
       "        [ 0.27905924],\n",
       "        [ 2.81746899]])"
      ]
     },
     "execution_count": 290,
     "metadata": {},
     "output_type": "execute_result"
    }
   ],
   "source": [
    "Vb"
   ]
  },
  {
   "cell_type": "code",
   "execution_count": 291,
   "metadata": {},
   "outputs": [],
   "source": [
    "X2 = np.asmatrix(ndf2[parametros2].to_numpy()) #matriz de parâmetros X\n",
    "Y2 = np.asmatrix(ndf2[resposta2].to_numpy()).T #matriz de respostas Y\n",
    "\n",
    "b2 = np.dot(np.dot(np.dot(X2.T,X2).I,X2.T),Y2) #cálculo do vetor de parâmetros b \n",
    "Vb2 = (np.dot(X2.T,X2).I)*s2**2 #variância/covariância dos parâmetros b, com base na variância calculada na primeira parte do programa\n",
    "Vb2 = np.asmatrix(np.diag(Vb2)).T #organizada como o vetor b (exclui covariancias)"
   ]
  },
  {
   "cell_type": "code",
   "execution_count": 292,
   "metadata": {},
   "outputs": [],
   "source": [
    "def anova(ndf,parametros,b,Vb,X,nome):\n",
    "    #cálculo das variáveis para a ANOVA\n",
    "    #respostas calculadas com o modelo\n",
    "    y_hat = 0\n",
    "    for i in range(len(b)):\n",
    "        param = ndf[parametros]\n",
    "        y_hat = y_hat + (b.item(i)*param[param.columns[i]])\n",
    "\n",
    "    #respostas médias para as repetiçoes de ensaios\n",
    "    y_bar = []\n",
    "    m = 0\n",
    "    for eg in ndf['EG'].unique():\n",
    "        for forca in ndf['Força Normal'].unique():\n",
    "            for freq in ndf['Frequência'].unique():\n",
    "                mask = (ndf['EG']==eg)&(ndf['Força Normal']==forca)&(ndf['Frequência']==freq)\n",
    "                if ndf.loc[mask,'Largura Média'].size>0:\n",
    "                    m = m+1\n",
    "                    for i in range(ndf.loc[mask,'Largura Média'].size):\n",
    "                        y_bar.append(ndf.loc[mask,'Largura Média'].mean())\n",
    "\n",
    "\n",
    "    p = X.shape[1] #número de parâmetros do modelo\n",
    "    n = ndf['Largura Média'].count() #número total de observações\n",
    "\n",
    "    SQR = ((y_hat-ndf['Largura Média'].mean())**2).sum() #soma quadrática da regressão\n",
    "    GLR = p-1 #graus de liberdade da regressão\n",
    "    MQR = SQR/GLR #média quadrática da regressão\n",
    "\n",
    "    SQr = ((ndf['Largura Média']-y_hat)**2).sum() #soma quadrática dos resíduos\n",
    "    GLr = n-p #graus de liberdade dos resíduos\n",
    "    MQr = SQr/GLr #média quadrática dos resíduos\n",
    "\n",
    "    SQep = ((ndf['Largura Média']-y_bar)**2).sum() #soma quadrática devido ao erro puro\n",
    "    GLep = n-m #graus de liberdade devido ao erro puro\n",
    "    MQep = SQep/GLep #média quadrática devido ao erro puro\n",
    "\n",
    "    SQfaj = SQr - SQep #soma quadrática devido a falta de ajuste\n",
    "    GLfaj = m-p #graus de liberdade devido a falta de ajuste\n",
    "    MQfaj = SQfaj/GLfaj #média quadrática devido a falta de ajuste\n",
    "\n",
    "    SQT = SQR+SQr #soma quadrática total\n",
    "    GLT = n-1 #graus de liberdade total\n",
    "\n",
    "    pve = SQR/SQT #porcentagem de variação explicada\n",
    "\n",
    "    pmve = (SQT-SQep)/SQT #porcentagem de variação máxima explicável\n",
    "\n",
    "    #imprime o modelo e a ANOVA\n",
    "    print('Modelo:\\n')\n",
    "    for value,error,parametro in zip(b,Vb,parametros):\n",
    "        if parametro == 'Intercept':\n",
    "            print('{:.4f}±{:.5f} +'.format(value.item(0),1.96*error.item(0)))\n",
    "            #print('\\n')\n",
    "        else:\n",
    "            print('{:.4f}±{:.5f} {} +'.format(value.item(0),1.96*error.item(0),parametro))\n",
    "                  \n",
    "    print( #imprime a tabela de ANOVA para o modelo\n",
    "    \"\"\"\n",
    "    Fonte de variação     Soma Quadrática      No de G. L.     Média Quadrática\n",
    "    Regressão             {:>7.6f}              {:>2}              {:<6.6f}\n",
    "    Resíduos              {:>7.6f}              {:>2}              {:<6.6f}\n",
    "    Falta de ajuste       {:>7.6f}              {:>2}              {:<6.6f}\n",
    "    Erro puro             {:>7.6f}              {:>2}              {:<6.6f}\n",
    "    Total                 {:>7.6f}              {:>2}               \n",
    "    % de variação explicada: {:.4f}\n",
    "    % máxima de variação explicável: {:.4f}\n",
    "    \"\"\".format(SQR,GLR,MQR,\n",
    "               SQr,GLr,MQr,\n",
    "               SQfaj,GLfaj,MQfaj,\n",
    "               SQep,GLep,MQep,\n",
    "               SQT,GLT,\n",
    "               pve,\n",
    "               pmve))\n"
   ]
  },
  {
   "cell_type": "code",
   "execution_count": 293,
   "metadata": {},
   "outputs": [
    {
     "name": "stdout",
     "output_type": "stream",
     "text": [
      "Modelo:\n",
      "\n",
      "168.5884±25.20295 +\n",
      "30.0321±0.54696 Força Normal +\n",
      "25.6795±5.52224 EG +\n",
      "\n",
      "    Fonte de variação     Soma Quadrática      No de G. L.     Média Quadrática\n",
      "    Regressão             348126.078976               2              174063.039488\n",
      "    Resíduos              13439.550913              62              216.766950\n",
      "    Falta de ajuste       4616.232895              15              307.748860\n",
      "    Erro puro             8823.318018              47              187.730171\n",
      "    Total                 361565.629889              64               \n",
      "    % de variação explicada: 0.9628\n",
      "    % máxima de variação explicável: 0.9756\n",
      "    \n"
     ]
    }
   ],
   "source": [
    "anova(ndf,parametros,b,Vb,X,'L')"
   ]
  },
  {
   "cell_type": "code",
   "execution_count": 281,
   "metadata": {},
   "outputs": [
    {
     "name": "stdout",
     "output_type": "stream",
     "text": [
      "Modelo:\n",
      "\n",
      "0.3548±0.00269 +\n",
      "-0.0161±0.00001 Força Normal +\n",
      "0.0030±0.00006 Frequência +\n",
      "-0.0617±0.00012 EG +\n",
      "0.0011±0.00000 Força² +\n",
      "0.0269±0.00030 EG² +\n",
      "-0.0028±0.00029 Frequência * EG +\n",
      "-0.0073±0.00011 Força * EG +\n",
      "-0.0040±0.00001 Força * Frequência +\n",
      "0.0022±0.00001 Força * Frequência * EG +\n",
      "\n",
      "    Fonte de variação     Soma Quadrática      No de G. L.     Média Quadrática\n",
      "    Regressão             5355869.338538               9              595096.593171\n",
      "    Resíduos              4560823.835008              26              175416.301346\n",
      "    Falta de ajuste       4269176.893354              10              426917.689335\n",
      "    Erro puro             291646.941654              16              18227.933853\n",
      "    Total                 9916693.173546              35               \n",
      "    % de variação explicada: 0.5401\n",
      "    % máxima de variação explicável: 0.9706\n",
      "    \n"
     ]
    }
   ],
   "source": [
    "anova(ndf2,parametros2,b2,Vb2,X2,'COF')"
   ]
  },
  {
   "cell_type": "code",
   "execution_count": 282,
   "metadata": {},
   "outputs": [],
   "source": [
    "Fo = np.linspace(2.5, 8.5, 10) #entradas de força de 2,5 a 8,0 N de 0,5 em 0,5N\n",
    "Eg = np.linspace(0, 2.3, 10) #entradas de porcentagem de EG de 0 a 2 %, de 0,1 em 0,1%\n",
    "Fr = np.linspace(2,4,10) #entradas de frequencia de 2 a 4 Hz, de 0,2 em 0,2"
   ]
  },
  {
   "cell_type": "code",
   "execution_count": 283,
   "metadata": {},
   "outputs": [],
   "source": [
    "Ff,ff = np.meshgrid(Fo,Fr)"
   ]
  },
  {
   "cell_type": "code",
   "execution_count": 294,
   "metadata": {},
   "outputs": [],
   "source": [
    "def answer2d(egp,freq,F):\n",
    "    resposta = []\n",
    "    for fr in freq:\n",
    "        #parametros do modelo\n",
    "        P2 = np.array((1,\n",
    "                       F,\n",
    "                       #fr,\n",
    "                       egp,\n",
    "                       ),)\n",
    "        resposta.append(np.diag(b*P2).sum())\n",
    "    return np.array(resposta)"
   ]
  },
  {
   "cell_type": "code",
   "execution_count": 295,
   "metadata": {},
   "outputs": [
    {
     "data": {
      "application/vnd.plotly.v1+json": {
       "config": {
        "plotlyServerURL": "https://plot.ly"
       },
       "data": [
        {
         "coloraxis": "coloraxis",
         "colorbar": {
          "thickness": 5
         },
         "name": "PU+0.0%EG",
         "opacity": 0.6,
         "type": "surface",
         "visible": false,
         "x": [
          [
           2.5,
           3.1666666666666665,
           3.833333333333333,
           4.5,
           5.166666666666666,
           5.833333333333333,
           6.5,
           7.166666666666666,
           7.833333333333333,
           8.5
          ],
          [
           2.5,
           3.1666666666666665,
           3.833333333333333,
           4.5,
           5.166666666666666,
           5.833333333333333,
           6.5,
           7.166666666666666,
           7.833333333333333,
           8.5
          ],
          [
           2.5,
           3.1666666666666665,
           3.833333333333333,
           4.5,
           5.166666666666666,
           5.833333333333333,
           6.5,
           7.166666666666666,
           7.833333333333333,
           8.5
          ],
          [
           2.5,
           3.1666666666666665,
           3.833333333333333,
           4.5,
           5.166666666666666,
           5.833333333333333,
           6.5,
           7.166666666666666,
           7.833333333333333,
           8.5
          ],
          [
           2.5,
           3.1666666666666665,
           3.833333333333333,
           4.5,
           5.166666666666666,
           5.833333333333333,
           6.5,
           7.166666666666666,
           7.833333333333333,
           8.5
          ],
          [
           2.5,
           3.1666666666666665,
           3.833333333333333,
           4.5,
           5.166666666666666,
           5.833333333333333,
           6.5,
           7.166666666666666,
           7.833333333333333,
           8.5
          ],
          [
           2.5,
           3.1666666666666665,
           3.833333333333333,
           4.5,
           5.166666666666666,
           5.833333333333333,
           6.5,
           7.166666666666666,
           7.833333333333333,
           8.5
          ],
          [
           2.5,
           3.1666666666666665,
           3.833333333333333,
           4.5,
           5.166666666666666,
           5.833333333333333,
           6.5,
           7.166666666666666,
           7.833333333333333,
           8.5
          ],
          [
           2.5,
           3.1666666666666665,
           3.833333333333333,
           4.5,
           5.166666666666666,
           5.833333333333333,
           6.5,
           7.166666666666666,
           7.833333333333333,
           8.5
          ],
          [
           2.5,
           3.1666666666666665,
           3.833333333333333,
           4.5,
           5.166666666666666,
           5.833333333333333,
           6.5,
           7.166666666666666,
           7.833333333333333,
           8.5
          ]
         ],
         "y": [
          [
           2,
           2,
           2,
           2,
           2,
           2,
           2,
           2,
           2,
           2
          ],
          [
           2.2222222222222223,
           2.2222222222222223,
           2.2222222222222223,
           2.2222222222222223,
           2.2222222222222223,
           2.2222222222222223,
           2.2222222222222223,
           2.2222222222222223,
           2.2222222222222223,
           2.2222222222222223
          ],
          [
           2.4444444444444446,
           2.4444444444444446,
           2.4444444444444446,
           2.4444444444444446,
           2.4444444444444446,
           2.4444444444444446,
           2.4444444444444446,
           2.4444444444444446,
           2.4444444444444446,
           2.4444444444444446
          ],
          [
           2.6666666666666665,
           2.6666666666666665,
           2.6666666666666665,
           2.6666666666666665,
           2.6666666666666665,
           2.6666666666666665,
           2.6666666666666665,
           2.6666666666666665,
           2.6666666666666665,
           2.6666666666666665
          ],
          [
           2.888888888888889,
           2.888888888888889,
           2.888888888888889,
           2.888888888888889,
           2.888888888888889,
           2.888888888888889,
           2.888888888888889,
           2.888888888888889,
           2.888888888888889,
           2.888888888888889
          ],
          [
           3.111111111111111,
           3.111111111111111,
           3.111111111111111,
           3.111111111111111,
           3.111111111111111,
           3.111111111111111,
           3.111111111111111,
           3.111111111111111,
           3.111111111111111,
           3.111111111111111
          ],
          [
           3.333333333333333,
           3.333333333333333,
           3.333333333333333,
           3.333333333333333,
           3.333333333333333,
           3.333333333333333,
           3.333333333333333,
           3.333333333333333,
           3.333333333333333,
           3.333333333333333
          ],
          [
           3.5555555555555554,
           3.5555555555555554,
           3.5555555555555554,
           3.5555555555555554,
           3.5555555555555554,
           3.5555555555555554,
           3.5555555555555554,
           3.5555555555555554,
           3.5555555555555554,
           3.5555555555555554
          ],
          [
           3.7777777777777777,
           3.7777777777777777,
           3.7777777777777777,
           3.7777777777777777,
           3.7777777777777777,
           3.7777777777777777,
           3.7777777777777777,
           3.7777777777777777,
           3.7777777777777777,
           3.7777777777777777
          ],
          [
           4,
           4,
           4,
           4,
           4,
           4,
           4,
           4,
           4,
           4
          ]
         ],
         "z": [
          [
           243.66859109060087,
           263.6899736938716,
           283.7113562971423,
           303.73273890041304,
           323.75412150368373,
           343.7755041069545,
           363.7968867102252,
           383.8182693134959,
           403.8396519167666,
           423.8610345200374
          ],
          [
           243.66859109060087,
           263.6899736938716,
           283.7113562971423,
           303.73273890041304,
           323.75412150368373,
           343.7755041069545,
           363.7968867102252,
           383.8182693134959,
           403.8396519167666,
           423.8610345200374
          ],
          [
           243.66859109060087,
           263.6899736938716,
           283.7113562971423,
           303.73273890041304,
           323.75412150368373,
           343.7755041069545,
           363.7968867102252,
           383.8182693134959,
           403.8396519167666,
           423.8610345200374
          ],
          [
           243.66859109060087,
           263.6899736938716,
           283.7113562971423,
           303.73273890041304,
           323.75412150368373,
           343.7755041069545,
           363.7968867102252,
           383.8182693134959,
           403.8396519167666,
           423.8610345200374
          ],
          [
           243.66859109060087,
           263.6899736938716,
           283.7113562971423,
           303.73273890041304,
           323.75412150368373,
           343.7755041069545,
           363.7968867102252,
           383.8182693134959,
           403.8396519167666,
           423.8610345200374
          ],
          [
           243.66859109060087,
           263.6899736938716,
           283.7113562971423,
           303.73273890041304,
           323.75412150368373,
           343.7755041069545,
           363.7968867102252,
           383.8182693134959,
           403.8396519167666,
           423.8610345200374
          ],
          [
           243.66859109060087,
           263.6899736938716,
           283.7113562971423,
           303.73273890041304,
           323.75412150368373,
           343.7755041069545,
           363.7968867102252,
           383.8182693134959,
           403.8396519167666,
           423.8610345200374
          ],
          [
           243.66859109060087,
           263.6899736938716,
           283.7113562971423,
           303.73273890041304,
           323.75412150368373,
           343.7755041069545,
           363.7968867102252,
           383.8182693134959,
           403.8396519167666,
           423.8610345200374
          ],
          [
           243.66859109060087,
           263.6899736938716,
           283.7113562971423,
           303.73273890041304,
           323.75412150368373,
           343.7755041069545,
           363.7968867102252,
           383.8182693134959,
           403.8396519167666,
           423.8610345200374
          ],
          [
           243.66859109060087,
           263.6899736938716,
           283.7113562971423,
           303.73273890041304,
           323.75412150368373,
           343.7755041069545,
           363.7968867102252,
           383.8182693134959,
           403.8396519167666,
           423.8610345200374
          ]
         ]
        },
        {
         "coloraxis": "coloraxis",
         "colorbar": {
          "thickness": 5
         },
         "name": "PU+0.1%EG",
         "opacity": 0.6,
         "type": "surface",
         "visible": false,
         "x": [
          [
           2.5,
           3.1666666666666665,
           3.833333333333333,
           4.5,
           5.166666666666666,
           5.833333333333333,
           6.5,
           7.166666666666666,
           7.833333333333333,
           8.5
          ],
          [
           2.5,
           3.1666666666666665,
           3.833333333333333,
           4.5,
           5.166666666666666,
           5.833333333333333,
           6.5,
           7.166666666666666,
           7.833333333333333,
           8.5
          ],
          [
           2.5,
           3.1666666666666665,
           3.833333333333333,
           4.5,
           5.166666666666666,
           5.833333333333333,
           6.5,
           7.166666666666666,
           7.833333333333333,
           8.5
          ],
          [
           2.5,
           3.1666666666666665,
           3.833333333333333,
           4.5,
           5.166666666666666,
           5.833333333333333,
           6.5,
           7.166666666666666,
           7.833333333333333,
           8.5
          ],
          [
           2.5,
           3.1666666666666665,
           3.833333333333333,
           4.5,
           5.166666666666666,
           5.833333333333333,
           6.5,
           7.166666666666666,
           7.833333333333333,
           8.5
          ],
          [
           2.5,
           3.1666666666666665,
           3.833333333333333,
           4.5,
           5.166666666666666,
           5.833333333333333,
           6.5,
           7.166666666666666,
           7.833333333333333,
           8.5
          ],
          [
           2.5,
           3.1666666666666665,
           3.833333333333333,
           4.5,
           5.166666666666666,
           5.833333333333333,
           6.5,
           7.166666666666666,
           7.833333333333333,
           8.5
          ],
          [
           2.5,
           3.1666666666666665,
           3.833333333333333,
           4.5,
           5.166666666666666,
           5.833333333333333,
           6.5,
           7.166666666666666,
           7.833333333333333,
           8.5
          ],
          [
           2.5,
           3.1666666666666665,
           3.833333333333333,
           4.5,
           5.166666666666666,
           5.833333333333333,
           6.5,
           7.166666666666666,
           7.833333333333333,
           8.5
          ],
          [
           2.5,
           3.1666666666666665,
           3.833333333333333,
           4.5,
           5.166666666666666,
           5.833333333333333,
           6.5,
           7.166666666666666,
           7.833333333333333,
           8.5
          ]
         ],
         "y": [
          [
           2,
           2,
           2,
           2,
           2,
           2,
           2,
           2,
           2,
           2
          ],
          [
           2.2222222222222223,
           2.2222222222222223,
           2.2222222222222223,
           2.2222222222222223,
           2.2222222222222223,
           2.2222222222222223,
           2.2222222222222223,
           2.2222222222222223,
           2.2222222222222223,
           2.2222222222222223
          ],
          [
           2.4444444444444446,
           2.4444444444444446,
           2.4444444444444446,
           2.4444444444444446,
           2.4444444444444446,
           2.4444444444444446,
           2.4444444444444446,
           2.4444444444444446,
           2.4444444444444446,
           2.4444444444444446
          ],
          [
           2.6666666666666665,
           2.6666666666666665,
           2.6666666666666665,
           2.6666666666666665,
           2.6666666666666665,
           2.6666666666666665,
           2.6666666666666665,
           2.6666666666666665,
           2.6666666666666665,
           2.6666666666666665
          ],
          [
           2.888888888888889,
           2.888888888888889,
           2.888888888888889,
           2.888888888888889,
           2.888888888888889,
           2.888888888888889,
           2.888888888888889,
           2.888888888888889,
           2.888888888888889,
           2.888888888888889
          ],
          [
           3.111111111111111,
           3.111111111111111,
           3.111111111111111,
           3.111111111111111,
           3.111111111111111,
           3.111111111111111,
           3.111111111111111,
           3.111111111111111,
           3.111111111111111,
           3.111111111111111
          ],
          [
           3.333333333333333,
           3.333333333333333,
           3.333333333333333,
           3.333333333333333,
           3.333333333333333,
           3.333333333333333,
           3.333333333333333,
           3.333333333333333,
           3.333333333333333,
           3.333333333333333
          ],
          [
           3.5555555555555554,
           3.5555555555555554,
           3.5555555555555554,
           3.5555555555555554,
           3.5555555555555554,
           3.5555555555555554,
           3.5555555555555554,
           3.5555555555555554,
           3.5555555555555554,
           3.5555555555555554
          ],
          [
           3.7777777777777777,
           3.7777777777777777,
           3.7777777777777777,
           3.7777777777777777,
           3.7777777777777777,
           3.7777777777777777,
           3.7777777777777777,
           3.7777777777777777,
           3.7777777777777777,
           3.7777777777777777
          ],
          [
           4,
           4,
           4,
           4,
           4,
           4,
           4,
           4,
           4,
           4
          ]
         ],
         "z": [
          [
           246.23653960221003,
           266.2579222054807,
           286.2793048087514,
           306.30068741202217,
           326.32207001529287,
           346.3434526185636,
           366.3648352218343,
           386.386217825105,
           406.40760042837576,
           426.4289830316465
          ],
          [
           246.23653960221003,
           266.2579222054807,
           286.2793048087514,
           306.30068741202217,
           326.32207001529287,
           346.3434526185636,
           366.3648352218343,
           386.386217825105,
           406.40760042837576,
           426.4289830316465
          ],
          [
           246.23653960221003,
           266.2579222054807,
           286.2793048087514,
           306.30068741202217,
           326.32207001529287,
           346.3434526185636,
           366.3648352218343,
           386.386217825105,
           406.40760042837576,
           426.4289830316465
          ],
          [
           246.23653960221003,
           266.2579222054807,
           286.2793048087514,
           306.30068741202217,
           326.32207001529287,
           346.3434526185636,
           366.3648352218343,
           386.386217825105,
           406.40760042837576,
           426.4289830316465
          ],
          [
           246.23653960221003,
           266.2579222054807,
           286.2793048087514,
           306.30068741202217,
           326.32207001529287,
           346.3434526185636,
           366.3648352218343,
           386.386217825105,
           406.40760042837576,
           426.4289830316465
          ],
          [
           246.23653960221003,
           266.2579222054807,
           286.2793048087514,
           306.30068741202217,
           326.32207001529287,
           346.3434526185636,
           366.3648352218343,
           386.386217825105,
           406.40760042837576,
           426.4289830316465
          ],
          [
           246.23653960221003,
           266.2579222054807,
           286.2793048087514,
           306.30068741202217,
           326.32207001529287,
           346.3434526185636,
           366.3648352218343,
           386.386217825105,
           406.40760042837576,
           426.4289830316465
          ],
          [
           246.23653960221003,
           266.2579222054807,
           286.2793048087514,
           306.30068741202217,
           326.32207001529287,
           346.3434526185636,
           366.3648352218343,
           386.386217825105,
           406.40760042837576,
           426.4289830316465
          ],
          [
           246.23653960221003,
           266.2579222054807,
           286.2793048087514,
           306.30068741202217,
           326.32207001529287,
           346.3434526185636,
           366.3648352218343,
           386.386217825105,
           406.40760042837576,
           426.4289830316465
          ],
          [
           246.23653960221003,
           266.2579222054807,
           286.2793048087514,
           306.30068741202217,
           326.32207001529287,
           346.3434526185636,
           366.3648352218343,
           386.386217825105,
           406.40760042837576,
           426.4289830316465
          ]
         ]
        },
        {
         "coloraxis": "coloraxis",
         "colorbar": {
          "thickness": 5
         },
         "name": "PU+0.2%EG",
         "opacity": 0.6,
         "type": "surface",
         "visible": false,
         "x": [
          [
           2.5,
           3.1666666666666665,
           3.833333333333333,
           4.5,
           5.166666666666666,
           5.833333333333333,
           6.5,
           7.166666666666666,
           7.833333333333333,
           8.5
          ],
          [
           2.5,
           3.1666666666666665,
           3.833333333333333,
           4.5,
           5.166666666666666,
           5.833333333333333,
           6.5,
           7.166666666666666,
           7.833333333333333,
           8.5
          ],
          [
           2.5,
           3.1666666666666665,
           3.833333333333333,
           4.5,
           5.166666666666666,
           5.833333333333333,
           6.5,
           7.166666666666666,
           7.833333333333333,
           8.5
          ],
          [
           2.5,
           3.1666666666666665,
           3.833333333333333,
           4.5,
           5.166666666666666,
           5.833333333333333,
           6.5,
           7.166666666666666,
           7.833333333333333,
           8.5
          ],
          [
           2.5,
           3.1666666666666665,
           3.833333333333333,
           4.5,
           5.166666666666666,
           5.833333333333333,
           6.5,
           7.166666666666666,
           7.833333333333333,
           8.5
          ],
          [
           2.5,
           3.1666666666666665,
           3.833333333333333,
           4.5,
           5.166666666666666,
           5.833333333333333,
           6.5,
           7.166666666666666,
           7.833333333333333,
           8.5
          ],
          [
           2.5,
           3.1666666666666665,
           3.833333333333333,
           4.5,
           5.166666666666666,
           5.833333333333333,
           6.5,
           7.166666666666666,
           7.833333333333333,
           8.5
          ],
          [
           2.5,
           3.1666666666666665,
           3.833333333333333,
           4.5,
           5.166666666666666,
           5.833333333333333,
           6.5,
           7.166666666666666,
           7.833333333333333,
           8.5
          ],
          [
           2.5,
           3.1666666666666665,
           3.833333333333333,
           4.5,
           5.166666666666666,
           5.833333333333333,
           6.5,
           7.166666666666666,
           7.833333333333333,
           8.5
          ],
          [
           2.5,
           3.1666666666666665,
           3.833333333333333,
           4.5,
           5.166666666666666,
           5.833333333333333,
           6.5,
           7.166666666666666,
           7.833333333333333,
           8.5
          ]
         ],
         "y": [
          [
           2,
           2,
           2,
           2,
           2,
           2,
           2,
           2,
           2,
           2
          ],
          [
           2.2222222222222223,
           2.2222222222222223,
           2.2222222222222223,
           2.2222222222222223,
           2.2222222222222223,
           2.2222222222222223,
           2.2222222222222223,
           2.2222222222222223,
           2.2222222222222223,
           2.2222222222222223
          ],
          [
           2.4444444444444446,
           2.4444444444444446,
           2.4444444444444446,
           2.4444444444444446,
           2.4444444444444446,
           2.4444444444444446,
           2.4444444444444446,
           2.4444444444444446,
           2.4444444444444446,
           2.4444444444444446
          ],
          [
           2.6666666666666665,
           2.6666666666666665,
           2.6666666666666665,
           2.6666666666666665,
           2.6666666666666665,
           2.6666666666666665,
           2.6666666666666665,
           2.6666666666666665,
           2.6666666666666665,
           2.6666666666666665
          ],
          [
           2.888888888888889,
           2.888888888888889,
           2.888888888888889,
           2.888888888888889,
           2.888888888888889,
           2.888888888888889,
           2.888888888888889,
           2.888888888888889,
           2.888888888888889,
           2.888888888888889
          ],
          [
           3.111111111111111,
           3.111111111111111,
           3.111111111111111,
           3.111111111111111,
           3.111111111111111,
           3.111111111111111,
           3.111111111111111,
           3.111111111111111,
           3.111111111111111,
           3.111111111111111
          ],
          [
           3.333333333333333,
           3.333333333333333,
           3.333333333333333,
           3.333333333333333,
           3.333333333333333,
           3.333333333333333,
           3.333333333333333,
           3.333333333333333,
           3.333333333333333,
           3.333333333333333
          ],
          [
           3.5555555555555554,
           3.5555555555555554,
           3.5555555555555554,
           3.5555555555555554,
           3.5555555555555554,
           3.5555555555555554,
           3.5555555555555554,
           3.5555555555555554,
           3.5555555555555554,
           3.5555555555555554
          ],
          [
           3.7777777777777777,
           3.7777777777777777,
           3.7777777777777777,
           3.7777777777777777,
           3.7777777777777777,
           3.7777777777777777,
           3.7777777777777777,
           3.7777777777777777,
           3.7777777777777777,
           3.7777777777777777
          ],
          [
           4,
           4,
           4,
           4,
           4,
           4,
           4,
           4,
           4,
           4
          ]
         ],
         "z": [
          [
           248.8044881138192,
           268.8258707170899,
           288.8472533203606,
           308.86863592363136,
           328.89001852690205,
           348.9114011301728,
           368.9327837334435,
           388.9541663367142,
           408.97554893998495,
           428.9969315432557
          ],
          [
           248.8044881138192,
           268.8258707170899,
           288.8472533203606,
           308.86863592363136,
           328.89001852690205,
           348.9114011301728,
           368.9327837334435,
           388.9541663367142,
           408.97554893998495,
           428.9969315432557
          ],
          [
           248.8044881138192,
           268.8258707170899,
           288.8472533203606,
           308.86863592363136,
           328.89001852690205,
           348.9114011301728,
           368.9327837334435,
           388.9541663367142,
           408.97554893998495,
           428.9969315432557
          ],
          [
           248.8044881138192,
           268.8258707170899,
           288.8472533203606,
           308.86863592363136,
           328.89001852690205,
           348.9114011301728,
           368.9327837334435,
           388.9541663367142,
           408.97554893998495,
           428.9969315432557
          ],
          [
           248.8044881138192,
           268.8258707170899,
           288.8472533203606,
           308.86863592363136,
           328.89001852690205,
           348.9114011301728,
           368.9327837334435,
           388.9541663367142,
           408.97554893998495,
           428.9969315432557
          ],
          [
           248.8044881138192,
           268.8258707170899,
           288.8472533203606,
           308.86863592363136,
           328.89001852690205,
           348.9114011301728,
           368.9327837334435,
           388.9541663367142,
           408.97554893998495,
           428.9969315432557
          ],
          [
           248.8044881138192,
           268.8258707170899,
           288.8472533203606,
           308.86863592363136,
           328.89001852690205,
           348.9114011301728,
           368.9327837334435,
           388.9541663367142,
           408.97554893998495,
           428.9969315432557
          ],
          [
           248.8044881138192,
           268.8258707170899,
           288.8472533203606,
           308.86863592363136,
           328.89001852690205,
           348.9114011301728,
           368.9327837334435,
           388.9541663367142,
           408.97554893998495,
           428.9969315432557
          ],
          [
           248.8044881138192,
           268.8258707170899,
           288.8472533203606,
           308.86863592363136,
           328.89001852690205,
           348.9114011301728,
           368.9327837334435,
           388.9541663367142,
           408.97554893998495,
           428.9969315432557
          ],
          [
           248.8044881138192,
           268.8258707170899,
           288.8472533203606,
           308.86863592363136,
           328.89001852690205,
           348.9114011301728,
           368.9327837334435,
           388.9541663367142,
           408.97554893998495,
           428.9969315432557
          ]
         ]
        },
        {
         "coloraxis": "coloraxis",
         "colorbar": {
          "thickness": 5
         },
         "name": "PU+0.3%EG",
         "opacity": 0.6,
         "type": "surface",
         "visible": false,
         "x": [
          [
           2.5,
           3.1666666666666665,
           3.833333333333333,
           4.5,
           5.166666666666666,
           5.833333333333333,
           6.5,
           7.166666666666666,
           7.833333333333333,
           8.5
          ],
          [
           2.5,
           3.1666666666666665,
           3.833333333333333,
           4.5,
           5.166666666666666,
           5.833333333333333,
           6.5,
           7.166666666666666,
           7.833333333333333,
           8.5
          ],
          [
           2.5,
           3.1666666666666665,
           3.833333333333333,
           4.5,
           5.166666666666666,
           5.833333333333333,
           6.5,
           7.166666666666666,
           7.833333333333333,
           8.5
          ],
          [
           2.5,
           3.1666666666666665,
           3.833333333333333,
           4.5,
           5.166666666666666,
           5.833333333333333,
           6.5,
           7.166666666666666,
           7.833333333333333,
           8.5
          ],
          [
           2.5,
           3.1666666666666665,
           3.833333333333333,
           4.5,
           5.166666666666666,
           5.833333333333333,
           6.5,
           7.166666666666666,
           7.833333333333333,
           8.5
          ],
          [
           2.5,
           3.1666666666666665,
           3.833333333333333,
           4.5,
           5.166666666666666,
           5.833333333333333,
           6.5,
           7.166666666666666,
           7.833333333333333,
           8.5
          ],
          [
           2.5,
           3.1666666666666665,
           3.833333333333333,
           4.5,
           5.166666666666666,
           5.833333333333333,
           6.5,
           7.166666666666666,
           7.833333333333333,
           8.5
          ],
          [
           2.5,
           3.1666666666666665,
           3.833333333333333,
           4.5,
           5.166666666666666,
           5.833333333333333,
           6.5,
           7.166666666666666,
           7.833333333333333,
           8.5
          ],
          [
           2.5,
           3.1666666666666665,
           3.833333333333333,
           4.5,
           5.166666666666666,
           5.833333333333333,
           6.5,
           7.166666666666666,
           7.833333333333333,
           8.5
          ],
          [
           2.5,
           3.1666666666666665,
           3.833333333333333,
           4.5,
           5.166666666666666,
           5.833333333333333,
           6.5,
           7.166666666666666,
           7.833333333333333,
           8.5
          ]
         ],
         "y": [
          [
           2,
           2,
           2,
           2,
           2,
           2,
           2,
           2,
           2,
           2
          ],
          [
           2.2222222222222223,
           2.2222222222222223,
           2.2222222222222223,
           2.2222222222222223,
           2.2222222222222223,
           2.2222222222222223,
           2.2222222222222223,
           2.2222222222222223,
           2.2222222222222223,
           2.2222222222222223
          ],
          [
           2.4444444444444446,
           2.4444444444444446,
           2.4444444444444446,
           2.4444444444444446,
           2.4444444444444446,
           2.4444444444444446,
           2.4444444444444446,
           2.4444444444444446,
           2.4444444444444446,
           2.4444444444444446
          ],
          [
           2.6666666666666665,
           2.6666666666666665,
           2.6666666666666665,
           2.6666666666666665,
           2.6666666666666665,
           2.6666666666666665,
           2.6666666666666665,
           2.6666666666666665,
           2.6666666666666665,
           2.6666666666666665
          ],
          [
           2.888888888888889,
           2.888888888888889,
           2.888888888888889,
           2.888888888888889,
           2.888888888888889,
           2.888888888888889,
           2.888888888888889,
           2.888888888888889,
           2.888888888888889,
           2.888888888888889
          ],
          [
           3.111111111111111,
           3.111111111111111,
           3.111111111111111,
           3.111111111111111,
           3.111111111111111,
           3.111111111111111,
           3.111111111111111,
           3.111111111111111,
           3.111111111111111,
           3.111111111111111
          ],
          [
           3.333333333333333,
           3.333333333333333,
           3.333333333333333,
           3.333333333333333,
           3.333333333333333,
           3.333333333333333,
           3.333333333333333,
           3.333333333333333,
           3.333333333333333,
           3.333333333333333
          ],
          [
           3.5555555555555554,
           3.5555555555555554,
           3.5555555555555554,
           3.5555555555555554,
           3.5555555555555554,
           3.5555555555555554,
           3.5555555555555554,
           3.5555555555555554,
           3.5555555555555554,
           3.5555555555555554
          ],
          [
           3.7777777777777777,
           3.7777777777777777,
           3.7777777777777777,
           3.7777777777777777,
           3.7777777777777777,
           3.7777777777777777,
           3.7777777777777777,
           3.7777777777777777,
           3.7777777777777777,
           3.7777777777777777
          ],
          [
           4,
           4,
           4,
           4,
           4,
           4,
           4,
           4,
           4,
           4
          ]
         ],
         "z": [
          [
           251.37243662542835,
           271.39381922869904,
           291.41520183196974,
           311.4365844352405,
           331.4579670385112,
           351.47934964178194,
           371.50073224505263,
           391.5221148483233,
           411.5434974515941,
           431.56488005486483
          ],
          [
           251.37243662542835,
           271.39381922869904,
           291.41520183196974,
           311.4365844352405,
           331.4579670385112,
           351.47934964178194,
           371.50073224505263,
           391.5221148483233,
           411.5434974515941,
           431.56488005486483
          ],
          [
           251.37243662542835,
           271.39381922869904,
           291.41520183196974,
           311.4365844352405,
           331.4579670385112,
           351.47934964178194,
           371.50073224505263,
           391.5221148483233,
           411.5434974515941,
           431.56488005486483
          ],
          [
           251.37243662542835,
           271.39381922869904,
           291.41520183196974,
           311.4365844352405,
           331.4579670385112,
           351.47934964178194,
           371.50073224505263,
           391.5221148483233,
           411.5434974515941,
           431.56488005486483
          ],
          [
           251.37243662542835,
           271.39381922869904,
           291.41520183196974,
           311.4365844352405,
           331.4579670385112,
           351.47934964178194,
           371.50073224505263,
           391.5221148483233,
           411.5434974515941,
           431.56488005486483
          ],
          [
           251.37243662542835,
           271.39381922869904,
           291.41520183196974,
           311.4365844352405,
           331.4579670385112,
           351.47934964178194,
           371.50073224505263,
           391.5221148483233,
           411.5434974515941,
           431.56488005486483
          ],
          [
           251.37243662542835,
           271.39381922869904,
           291.41520183196974,
           311.4365844352405,
           331.4579670385112,
           351.47934964178194,
           371.50073224505263,
           391.5221148483233,
           411.5434974515941,
           431.56488005486483
          ],
          [
           251.37243662542835,
           271.39381922869904,
           291.41520183196974,
           311.4365844352405,
           331.4579670385112,
           351.47934964178194,
           371.50073224505263,
           391.5221148483233,
           411.5434974515941,
           431.56488005486483
          ],
          [
           251.37243662542835,
           271.39381922869904,
           291.41520183196974,
           311.4365844352405,
           331.4579670385112,
           351.47934964178194,
           371.50073224505263,
           391.5221148483233,
           411.5434974515941,
           431.56488005486483
          ],
          [
           251.37243662542835,
           271.39381922869904,
           291.41520183196974,
           311.4365844352405,
           331.4579670385112,
           351.47934964178194,
           371.50073224505263,
           391.5221148483233,
           411.5434974515941,
           431.56488005486483
          ]
         ]
        },
        {
         "coloraxis": "coloraxis",
         "colorbar": {
          "thickness": 5
         },
         "name": "PU+0.4%EG",
         "opacity": 0.6,
         "type": "surface",
         "visible": false,
         "x": [
          [
           2.5,
           3.1666666666666665,
           3.833333333333333,
           4.5,
           5.166666666666666,
           5.833333333333333,
           6.5,
           7.166666666666666,
           7.833333333333333,
           8.5
          ],
          [
           2.5,
           3.1666666666666665,
           3.833333333333333,
           4.5,
           5.166666666666666,
           5.833333333333333,
           6.5,
           7.166666666666666,
           7.833333333333333,
           8.5
          ],
          [
           2.5,
           3.1666666666666665,
           3.833333333333333,
           4.5,
           5.166666666666666,
           5.833333333333333,
           6.5,
           7.166666666666666,
           7.833333333333333,
           8.5
          ],
          [
           2.5,
           3.1666666666666665,
           3.833333333333333,
           4.5,
           5.166666666666666,
           5.833333333333333,
           6.5,
           7.166666666666666,
           7.833333333333333,
           8.5
          ],
          [
           2.5,
           3.1666666666666665,
           3.833333333333333,
           4.5,
           5.166666666666666,
           5.833333333333333,
           6.5,
           7.166666666666666,
           7.833333333333333,
           8.5
          ],
          [
           2.5,
           3.1666666666666665,
           3.833333333333333,
           4.5,
           5.166666666666666,
           5.833333333333333,
           6.5,
           7.166666666666666,
           7.833333333333333,
           8.5
          ],
          [
           2.5,
           3.1666666666666665,
           3.833333333333333,
           4.5,
           5.166666666666666,
           5.833333333333333,
           6.5,
           7.166666666666666,
           7.833333333333333,
           8.5
          ],
          [
           2.5,
           3.1666666666666665,
           3.833333333333333,
           4.5,
           5.166666666666666,
           5.833333333333333,
           6.5,
           7.166666666666666,
           7.833333333333333,
           8.5
          ],
          [
           2.5,
           3.1666666666666665,
           3.833333333333333,
           4.5,
           5.166666666666666,
           5.833333333333333,
           6.5,
           7.166666666666666,
           7.833333333333333,
           8.5
          ],
          [
           2.5,
           3.1666666666666665,
           3.833333333333333,
           4.5,
           5.166666666666666,
           5.833333333333333,
           6.5,
           7.166666666666666,
           7.833333333333333,
           8.5
          ]
         ],
         "y": [
          [
           2,
           2,
           2,
           2,
           2,
           2,
           2,
           2,
           2,
           2
          ],
          [
           2.2222222222222223,
           2.2222222222222223,
           2.2222222222222223,
           2.2222222222222223,
           2.2222222222222223,
           2.2222222222222223,
           2.2222222222222223,
           2.2222222222222223,
           2.2222222222222223,
           2.2222222222222223
          ],
          [
           2.4444444444444446,
           2.4444444444444446,
           2.4444444444444446,
           2.4444444444444446,
           2.4444444444444446,
           2.4444444444444446,
           2.4444444444444446,
           2.4444444444444446,
           2.4444444444444446,
           2.4444444444444446
          ],
          [
           2.6666666666666665,
           2.6666666666666665,
           2.6666666666666665,
           2.6666666666666665,
           2.6666666666666665,
           2.6666666666666665,
           2.6666666666666665,
           2.6666666666666665,
           2.6666666666666665,
           2.6666666666666665
          ],
          [
           2.888888888888889,
           2.888888888888889,
           2.888888888888889,
           2.888888888888889,
           2.888888888888889,
           2.888888888888889,
           2.888888888888889,
           2.888888888888889,
           2.888888888888889,
           2.888888888888889
          ],
          [
           3.111111111111111,
           3.111111111111111,
           3.111111111111111,
           3.111111111111111,
           3.111111111111111,
           3.111111111111111,
           3.111111111111111,
           3.111111111111111,
           3.111111111111111,
           3.111111111111111
          ],
          [
           3.333333333333333,
           3.333333333333333,
           3.333333333333333,
           3.333333333333333,
           3.333333333333333,
           3.333333333333333,
           3.333333333333333,
           3.333333333333333,
           3.333333333333333,
           3.333333333333333
          ],
          [
           3.5555555555555554,
           3.5555555555555554,
           3.5555555555555554,
           3.5555555555555554,
           3.5555555555555554,
           3.5555555555555554,
           3.5555555555555554,
           3.5555555555555554,
           3.5555555555555554,
           3.5555555555555554
          ],
          [
           3.7777777777777777,
           3.7777777777777777,
           3.7777777777777777,
           3.7777777777777777,
           3.7777777777777777,
           3.7777777777777777,
           3.7777777777777777,
           3.7777777777777777,
           3.7777777777777777,
           3.7777777777777777
          ],
          [
           4,
           4,
           4,
           4,
           4,
           4,
           4,
           4,
           4,
           4
          ]
         ],
         "z": [
          [
           253.94038513703748,
           273.96176774030823,
           293.9831503435789,
           314.0045329468497,
           334.0259155501204,
           354.0472981533911,
           374.0686807566618,
           394.0900633599325,
           414.11144596320327,
           434.132828566474
          ],
          [
           253.94038513703748,
           273.96176774030823,
           293.9831503435789,
           314.0045329468497,
           334.0259155501204,
           354.0472981533911,
           374.0686807566618,
           394.0900633599325,
           414.11144596320327,
           434.132828566474
          ],
          [
           253.94038513703748,
           273.96176774030823,
           293.9831503435789,
           314.0045329468497,
           334.0259155501204,
           354.0472981533911,
           374.0686807566618,
           394.0900633599325,
           414.11144596320327,
           434.132828566474
          ],
          [
           253.94038513703748,
           273.96176774030823,
           293.9831503435789,
           314.0045329468497,
           334.0259155501204,
           354.0472981533911,
           374.0686807566618,
           394.0900633599325,
           414.11144596320327,
           434.132828566474
          ],
          [
           253.94038513703748,
           273.96176774030823,
           293.9831503435789,
           314.0045329468497,
           334.0259155501204,
           354.0472981533911,
           374.0686807566618,
           394.0900633599325,
           414.11144596320327,
           434.132828566474
          ],
          [
           253.94038513703748,
           273.96176774030823,
           293.9831503435789,
           314.0045329468497,
           334.0259155501204,
           354.0472981533911,
           374.0686807566618,
           394.0900633599325,
           414.11144596320327,
           434.132828566474
          ],
          [
           253.94038513703748,
           273.96176774030823,
           293.9831503435789,
           314.0045329468497,
           334.0259155501204,
           354.0472981533911,
           374.0686807566618,
           394.0900633599325,
           414.11144596320327,
           434.132828566474
          ],
          [
           253.94038513703748,
           273.96176774030823,
           293.9831503435789,
           314.0045329468497,
           334.0259155501204,
           354.0472981533911,
           374.0686807566618,
           394.0900633599325,
           414.11144596320327,
           434.132828566474
          ],
          [
           253.94038513703748,
           273.96176774030823,
           293.9831503435789,
           314.0045329468497,
           334.0259155501204,
           354.0472981533911,
           374.0686807566618,
           394.0900633599325,
           414.11144596320327,
           434.132828566474
          ],
          [
           253.94038513703748,
           273.96176774030823,
           293.9831503435789,
           314.0045329468497,
           334.0259155501204,
           354.0472981533911,
           374.0686807566618,
           394.0900633599325,
           414.11144596320327,
           434.132828566474
          ]
         ]
        },
        {
         "coloraxis": "coloraxis",
         "colorbar": {
          "thickness": 5
         },
         "name": "PU+0.5%EG",
         "opacity": 0.6,
         "type": "surface",
         "visible": false,
         "x": [
          [
           2.5,
           3.1666666666666665,
           3.833333333333333,
           4.5,
           5.166666666666666,
           5.833333333333333,
           6.5,
           7.166666666666666,
           7.833333333333333,
           8.5
          ],
          [
           2.5,
           3.1666666666666665,
           3.833333333333333,
           4.5,
           5.166666666666666,
           5.833333333333333,
           6.5,
           7.166666666666666,
           7.833333333333333,
           8.5
          ],
          [
           2.5,
           3.1666666666666665,
           3.833333333333333,
           4.5,
           5.166666666666666,
           5.833333333333333,
           6.5,
           7.166666666666666,
           7.833333333333333,
           8.5
          ],
          [
           2.5,
           3.1666666666666665,
           3.833333333333333,
           4.5,
           5.166666666666666,
           5.833333333333333,
           6.5,
           7.166666666666666,
           7.833333333333333,
           8.5
          ],
          [
           2.5,
           3.1666666666666665,
           3.833333333333333,
           4.5,
           5.166666666666666,
           5.833333333333333,
           6.5,
           7.166666666666666,
           7.833333333333333,
           8.5
          ],
          [
           2.5,
           3.1666666666666665,
           3.833333333333333,
           4.5,
           5.166666666666666,
           5.833333333333333,
           6.5,
           7.166666666666666,
           7.833333333333333,
           8.5
          ],
          [
           2.5,
           3.1666666666666665,
           3.833333333333333,
           4.5,
           5.166666666666666,
           5.833333333333333,
           6.5,
           7.166666666666666,
           7.833333333333333,
           8.5
          ],
          [
           2.5,
           3.1666666666666665,
           3.833333333333333,
           4.5,
           5.166666666666666,
           5.833333333333333,
           6.5,
           7.166666666666666,
           7.833333333333333,
           8.5
          ],
          [
           2.5,
           3.1666666666666665,
           3.833333333333333,
           4.5,
           5.166666666666666,
           5.833333333333333,
           6.5,
           7.166666666666666,
           7.833333333333333,
           8.5
          ],
          [
           2.5,
           3.1666666666666665,
           3.833333333333333,
           4.5,
           5.166666666666666,
           5.833333333333333,
           6.5,
           7.166666666666666,
           7.833333333333333,
           8.5
          ]
         ],
         "y": [
          [
           2,
           2,
           2,
           2,
           2,
           2,
           2,
           2,
           2,
           2
          ],
          [
           2.2222222222222223,
           2.2222222222222223,
           2.2222222222222223,
           2.2222222222222223,
           2.2222222222222223,
           2.2222222222222223,
           2.2222222222222223,
           2.2222222222222223,
           2.2222222222222223,
           2.2222222222222223
          ],
          [
           2.4444444444444446,
           2.4444444444444446,
           2.4444444444444446,
           2.4444444444444446,
           2.4444444444444446,
           2.4444444444444446,
           2.4444444444444446,
           2.4444444444444446,
           2.4444444444444446,
           2.4444444444444446
          ],
          [
           2.6666666666666665,
           2.6666666666666665,
           2.6666666666666665,
           2.6666666666666665,
           2.6666666666666665,
           2.6666666666666665,
           2.6666666666666665,
           2.6666666666666665,
           2.6666666666666665,
           2.6666666666666665
          ],
          [
           2.888888888888889,
           2.888888888888889,
           2.888888888888889,
           2.888888888888889,
           2.888888888888889,
           2.888888888888889,
           2.888888888888889,
           2.888888888888889,
           2.888888888888889,
           2.888888888888889
          ],
          [
           3.111111111111111,
           3.111111111111111,
           3.111111111111111,
           3.111111111111111,
           3.111111111111111,
           3.111111111111111,
           3.111111111111111,
           3.111111111111111,
           3.111111111111111,
           3.111111111111111
          ],
          [
           3.333333333333333,
           3.333333333333333,
           3.333333333333333,
           3.333333333333333,
           3.333333333333333,
           3.333333333333333,
           3.333333333333333,
           3.333333333333333,
           3.333333333333333,
           3.333333333333333
          ],
          [
           3.5555555555555554,
           3.5555555555555554,
           3.5555555555555554,
           3.5555555555555554,
           3.5555555555555554,
           3.5555555555555554,
           3.5555555555555554,
           3.5555555555555554,
           3.5555555555555554,
           3.5555555555555554
          ],
          [
           3.7777777777777777,
           3.7777777777777777,
           3.7777777777777777,
           3.7777777777777777,
           3.7777777777777777,
           3.7777777777777777,
           3.7777777777777777,
           3.7777777777777777,
           3.7777777777777777,
           3.7777777777777777
          ],
          [
           4,
           4,
           4,
           4,
           4,
           4,
           4,
           4,
           4,
           4
          ]
         ],
         "z": [
          [
           256.50833364864667,
           276.52971625191736,
           296.55109885518806,
           316.5724814584588,
           336.5938640617295,
           356.61524666500026,
           376.63662926827095,
           396.65801187154165,
           416.6793944748124,
           436.70077707808315
          ],
          [
           256.50833364864667,
           276.52971625191736,
           296.55109885518806,
           316.5724814584588,
           336.5938640617295,
           356.61524666500026,
           376.63662926827095,
           396.65801187154165,
           416.6793944748124,
           436.70077707808315
          ],
          [
           256.50833364864667,
           276.52971625191736,
           296.55109885518806,
           316.5724814584588,
           336.5938640617295,
           356.61524666500026,
           376.63662926827095,
           396.65801187154165,
           416.6793944748124,
           436.70077707808315
          ],
          [
           256.50833364864667,
           276.52971625191736,
           296.55109885518806,
           316.5724814584588,
           336.5938640617295,
           356.61524666500026,
           376.63662926827095,
           396.65801187154165,
           416.6793944748124,
           436.70077707808315
          ],
          [
           256.50833364864667,
           276.52971625191736,
           296.55109885518806,
           316.5724814584588,
           336.5938640617295,
           356.61524666500026,
           376.63662926827095,
           396.65801187154165,
           416.6793944748124,
           436.70077707808315
          ],
          [
           256.50833364864667,
           276.52971625191736,
           296.55109885518806,
           316.5724814584588,
           336.5938640617295,
           356.61524666500026,
           376.63662926827095,
           396.65801187154165,
           416.6793944748124,
           436.70077707808315
          ],
          [
           256.50833364864667,
           276.52971625191736,
           296.55109885518806,
           316.5724814584588,
           336.5938640617295,
           356.61524666500026,
           376.63662926827095,
           396.65801187154165,
           416.6793944748124,
           436.70077707808315
          ],
          [
           256.50833364864667,
           276.52971625191736,
           296.55109885518806,
           316.5724814584588,
           336.5938640617295,
           356.61524666500026,
           376.63662926827095,
           396.65801187154165,
           416.6793944748124,
           436.70077707808315
          ],
          [
           256.50833364864667,
           276.52971625191736,
           296.55109885518806,
           316.5724814584588,
           336.5938640617295,
           356.61524666500026,
           376.63662926827095,
           396.65801187154165,
           416.6793944748124,
           436.70077707808315
          ],
          [
           256.50833364864667,
           276.52971625191736,
           296.55109885518806,
           316.5724814584588,
           336.5938640617295,
           356.61524666500026,
           376.63662926827095,
           396.65801187154165,
           416.6793944748124,
           436.70077707808315
          ]
         ]
        },
        {
         "coloraxis": "coloraxis",
         "colorbar": {
          "thickness": 5
         },
         "name": "PU+0.6%EG",
         "opacity": 0.6,
         "type": "surface",
         "visible": false,
         "x": [
          [
           2.5,
           3.1666666666666665,
           3.833333333333333,
           4.5,
           5.166666666666666,
           5.833333333333333,
           6.5,
           7.166666666666666,
           7.833333333333333,
           8.5
          ],
          [
           2.5,
           3.1666666666666665,
           3.833333333333333,
           4.5,
           5.166666666666666,
           5.833333333333333,
           6.5,
           7.166666666666666,
           7.833333333333333,
           8.5
          ],
          [
           2.5,
           3.1666666666666665,
           3.833333333333333,
           4.5,
           5.166666666666666,
           5.833333333333333,
           6.5,
           7.166666666666666,
           7.833333333333333,
           8.5
          ],
          [
           2.5,
           3.1666666666666665,
           3.833333333333333,
           4.5,
           5.166666666666666,
           5.833333333333333,
           6.5,
           7.166666666666666,
           7.833333333333333,
           8.5
          ],
          [
           2.5,
           3.1666666666666665,
           3.833333333333333,
           4.5,
           5.166666666666666,
           5.833333333333333,
           6.5,
           7.166666666666666,
           7.833333333333333,
           8.5
          ],
          [
           2.5,
           3.1666666666666665,
           3.833333333333333,
           4.5,
           5.166666666666666,
           5.833333333333333,
           6.5,
           7.166666666666666,
           7.833333333333333,
           8.5
          ],
          [
           2.5,
           3.1666666666666665,
           3.833333333333333,
           4.5,
           5.166666666666666,
           5.833333333333333,
           6.5,
           7.166666666666666,
           7.833333333333333,
           8.5
          ],
          [
           2.5,
           3.1666666666666665,
           3.833333333333333,
           4.5,
           5.166666666666666,
           5.833333333333333,
           6.5,
           7.166666666666666,
           7.833333333333333,
           8.5
          ],
          [
           2.5,
           3.1666666666666665,
           3.833333333333333,
           4.5,
           5.166666666666666,
           5.833333333333333,
           6.5,
           7.166666666666666,
           7.833333333333333,
           8.5
          ],
          [
           2.5,
           3.1666666666666665,
           3.833333333333333,
           4.5,
           5.166666666666666,
           5.833333333333333,
           6.5,
           7.166666666666666,
           7.833333333333333,
           8.5
          ]
         ],
         "y": [
          [
           2,
           2,
           2,
           2,
           2,
           2,
           2,
           2,
           2,
           2
          ],
          [
           2.2222222222222223,
           2.2222222222222223,
           2.2222222222222223,
           2.2222222222222223,
           2.2222222222222223,
           2.2222222222222223,
           2.2222222222222223,
           2.2222222222222223,
           2.2222222222222223,
           2.2222222222222223
          ],
          [
           2.4444444444444446,
           2.4444444444444446,
           2.4444444444444446,
           2.4444444444444446,
           2.4444444444444446,
           2.4444444444444446,
           2.4444444444444446,
           2.4444444444444446,
           2.4444444444444446,
           2.4444444444444446
          ],
          [
           2.6666666666666665,
           2.6666666666666665,
           2.6666666666666665,
           2.6666666666666665,
           2.6666666666666665,
           2.6666666666666665,
           2.6666666666666665,
           2.6666666666666665,
           2.6666666666666665,
           2.6666666666666665
          ],
          [
           2.888888888888889,
           2.888888888888889,
           2.888888888888889,
           2.888888888888889,
           2.888888888888889,
           2.888888888888889,
           2.888888888888889,
           2.888888888888889,
           2.888888888888889,
           2.888888888888889
          ],
          [
           3.111111111111111,
           3.111111111111111,
           3.111111111111111,
           3.111111111111111,
           3.111111111111111,
           3.111111111111111,
           3.111111111111111,
           3.111111111111111,
           3.111111111111111,
           3.111111111111111
          ],
          [
           3.333333333333333,
           3.333333333333333,
           3.333333333333333,
           3.333333333333333,
           3.333333333333333,
           3.333333333333333,
           3.333333333333333,
           3.333333333333333,
           3.333333333333333,
           3.333333333333333
          ],
          [
           3.5555555555555554,
           3.5555555555555554,
           3.5555555555555554,
           3.5555555555555554,
           3.5555555555555554,
           3.5555555555555554,
           3.5555555555555554,
           3.5555555555555554,
           3.5555555555555554,
           3.5555555555555554
          ],
          [
           3.7777777777777777,
           3.7777777777777777,
           3.7777777777777777,
           3.7777777777777777,
           3.7777777777777777,
           3.7777777777777777,
           3.7777777777777777,
           3.7777777777777777,
           3.7777777777777777,
           3.7777777777777777
          ],
          [
           4,
           4,
           4,
           4,
           4,
           4,
           4,
           4,
           4,
           4
          ]
         ],
         "z": [
          [
           259.0762821602558,
           279.09766476352655,
           299.11904736679725,
           319.140429970068,
           339.1618125733387,
           359.18319517660944,
           379.20457777988014,
           399.22596038315083,
           419.2473429864216,
           439.26872558969234
          ],
          [
           259.0762821602558,
           279.09766476352655,
           299.11904736679725,
           319.140429970068,
           339.1618125733387,
           359.18319517660944,
           379.20457777988014,
           399.22596038315083,
           419.2473429864216,
           439.26872558969234
          ],
          [
           259.0762821602558,
           279.09766476352655,
           299.11904736679725,
           319.140429970068,
           339.1618125733387,
           359.18319517660944,
           379.20457777988014,
           399.22596038315083,
           419.2473429864216,
           439.26872558969234
          ],
          [
           259.0762821602558,
           279.09766476352655,
           299.11904736679725,
           319.140429970068,
           339.1618125733387,
           359.18319517660944,
           379.20457777988014,
           399.22596038315083,
           419.2473429864216,
           439.26872558969234
          ],
          [
           259.0762821602558,
           279.09766476352655,
           299.11904736679725,
           319.140429970068,
           339.1618125733387,
           359.18319517660944,
           379.20457777988014,
           399.22596038315083,
           419.2473429864216,
           439.26872558969234
          ],
          [
           259.0762821602558,
           279.09766476352655,
           299.11904736679725,
           319.140429970068,
           339.1618125733387,
           359.18319517660944,
           379.20457777988014,
           399.22596038315083,
           419.2473429864216,
           439.26872558969234
          ],
          [
           259.0762821602558,
           279.09766476352655,
           299.11904736679725,
           319.140429970068,
           339.1618125733387,
           359.18319517660944,
           379.20457777988014,
           399.22596038315083,
           419.2473429864216,
           439.26872558969234
          ],
          [
           259.0762821602558,
           279.09766476352655,
           299.11904736679725,
           319.140429970068,
           339.1618125733387,
           359.18319517660944,
           379.20457777988014,
           399.22596038315083,
           419.2473429864216,
           439.26872558969234
          ],
          [
           259.0762821602558,
           279.09766476352655,
           299.11904736679725,
           319.140429970068,
           339.1618125733387,
           359.18319517660944,
           379.20457777988014,
           399.22596038315083,
           419.2473429864216,
           439.26872558969234
          ],
          [
           259.0762821602558,
           279.09766476352655,
           299.11904736679725,
           319.140429970068,
           339.1618125733387,
           359.18319517660944,
           379.20457777988014,
           399.22596038315083,
           419.2473429864216,
           439.26872558969234
          ]
         ]
        },
        {
         "coloraxis": "coloraxis",
         "colorbar": {
          "thickness": 5
         },
         "name": "PU+0.7%EG",
         "opacity": 0.6,
         "type": "surface",
         "visible": false,
         "x": [
          [
           2.5,
           3.1666666666666665,
           3.833333333333333,
           4.5,
           5.166666666666666,
           5.833333333333333,
           6.5,
           7.166666666666666,
           7.833333333333333,
           8.5
          ],
          [
           2.5,
           3.1666666666666665,
           3.833333333333333,
           4.5,
           5.166666666666666,
           5.833333333333333,
           6.5,
           7.166666666666666,
           7.833333333333333,
           8.5
          ],
          [
           2.5,
           3.1666666666666665,
           3.833333333333333,
           4.5,
           5.166666666666666,
           5.833333333333333,
           6.5,
           7.166666666666666,
           7.833333333333333,
           8.5
          ],
          [
           2.5,
           3.1666666666666665,
           3.833333333333333,
           4.5,
           5.166666666666666,
           5.833333333333333,
           6.5,
           7.166666666666666,
           7.833333333333333,
           8.5
          ],
          [
           2.5,
           3.1666666666666665,
           3.833333333333333,
           4.5,
           5.166666666666666,
           5.833333333333333,
           6.5,
           7.166666666666666,
           7.833333333333333,
           8.5
          ],
          [
           2.5,
           3.1666666666666665,
           3.833333333333333,
           4.5,
           5.166666666666666,
           5.833333333333333,
           6.5,
           7.166666666666666,
           7.833333333333333,
           8.5
          ],
          [
           2.5,
           3.1666666666666665,
           3.833333333333333,
           4.5,
           5.166666666666666,
           5.833333333333333,
           6.5,
           7.166666666666666,
           7.833333333333333,
           8.5
          ],
          [
           2.5,
           3.1666666666666665,
           3.833333333333333,
           4.5,
           5.166666666666666,
           5.833333333333333,
           6.5,
           7.166666666666666,
           7.833333333333333,
           8.5
          ],
          [
           2.5,
           3.1666666666666665,
           3.833333333333333,
           4.5,
           5.166666666666666,
           5.833333333333333,
           6.5,
           7.166666666666666,
           7.833333333333333,
           8.5
          ],
          [
           2.5,
           3.1666666666666665,
           3.833333333333333,
           4.5,
           5.166666666666666,
           5.833333333333333,
           6.5,
           7.166666666666666,
           7.833333333333333,
           8.5
          ]
         ],
         "y": [
          [
           2,
           2,
           2,
           2,
           2,
           2,
           2,
           2,
           2,
           2
          ],
          [
           2.2222222222222223,
           2.2222222222222223,
           2.2222222222222223,
           2.2222222222222223,
           2.2222222222222223,
           2.2222222222222223,
           2.2222222222222223,
           2.2222222222222223,
           2.2222222222222223,
           2.2222222222222223
          ],
          [
           2.4444444444444446,
           2.4444444444444446,
           2.4444444444444446,
           2.4444444444444446,
           2.4444444444444446,
           2.4444444444444446,
           2.4444444444444446,
           2.4444444444444446,
           2.4444444444444446,
           2.4444444444444446
          ],
          [
           2.6666666666666665,
           2.6666666666666665,
           2.6666666666666665,
           2.6666666666666665,
           2.6666666666666665,
           2.6666666666666665,
           2.6666666666666665,
           2.6666666666666665,
           2.6666666666666665,
           2.6666666666666665
          ],
          [
           2.888888888888889,
           2.888888888888889,
           2.888888888888889,
           2.888888888888889,
           2.888888888888889,
           2.888888888888889,
           2.888888888888889,
           2.888888888888889,
           2.888888888888889,
           2.888888888888889
          ],
          [
           3.111111111111111,
           3.111111111111111,
           3.111111111111111,
           3.111111111111111,
           3.111111111111111,
           3.111111111111111,
           3.111111111111111,
           3.111111111111111,
           3.111111111111111,
           3.111111111111111
          ],
          [
           3.333333333333333,
           3.333333333333333,
           3.333333333333333,
           3.333333333333333,
           3.333333333333333,
           3.333333333333333,
           3.333333333333333,
           3.333333333333333,
           3.333333333333333,
           3.333333333333333
          ],
          [
           3.5555555555555554,
           3.5555555555555554,
           3.5555555555555554,
           3.5555555555555554,
           3.5555555555555554,
           3.5555555555555554,
           3.5555555555555554,
           3.5555555555555554,
           3.5555555555555554,
           3.5555555555555554
          ],
          [
           3.7777777777777777,
           3.7777777777777777,
           3.7777777777777777,
           3.7777777777777777,
           3.7777777777777777,
           3.7777777777777777,
           3.7777777777777777,
           3.7777777777777777,
           3.7777777777777777,
           3.7777777777777777
          ],
          [
           4,
           4,
           4,
           4,
           4,
           4,
           4,
           4,
           4,
           4
          ]
         ],
         "z": [
          [
           261.644230671865,
           281.6656132751357,
           301.6869958784064,
           321.70837848167713,
           341.7297610849478,
           361.7511436882186,
           381.77252629148927,
           401.79390889475997,
           421.8152914980307,
           441.83667410130147
          ],
          [
           261.644230671865,
           281.6656132751357,
           301.6869958784064,
           321.70837848167713,
           341.7297610849478,
           361.7511436882186,
           381.77252629148927,
           401.79390889475997,
           421.8152914980307,
           441.83667410130147
          ],
          [
           261.644230671865,
           281.6656132751357,
           301.6869958784064,
           321.70837848167713,
           341.7297610849478,
           361.7511436882186,
           381.77252629148927,
           401.79390889475997,
           421.8152914980307,
           441.83667410130147
          ],
          [
           261.644230671865,
           281.6656132751357,
           301.6869958784064,
           321.70837848167713,
           341.7297610849478,
           361.7511436882186,
           381.77252629148927,
           401.79390889475997,
           421.8152914980307,
           441.83667410130147
          ],
          [
           261.644230671865,
           281.6656132751357,
           301.6869958784064,
           321.70837848167713,
           341.7297610849478,
           361.7511436882186,
           381.77252629148927,
           401.79390889475997,
           421.8152914980307,
           441.83667410130147
          ],
          [
           261.644230671865,
           281.6656132751357,
           301.6869958784064,
           321.70837848167713,
           341.7297610849478,
           361.7511436882186,
           381.77252629148927,
           401.79390889475997,
           421.8152914980307,
           441.83667410130147
          ],
          [
           261.644230671865,
           281.6656132751357,
           301.6869958784064,
           321.70837848167713,
           341.7297610849478,
           361.7511436882186,
           381.77252629148927,
           401.79390889475997,
           421.8152914980307,
           441.83667410130147
          ],
          [
           261.644230671865,
           281.6656132751357,
           301.6869958784064,
           321.70837848167713,
           341.7297610849478,
           361.7511436882186,
           381.77252629148927,
           401.79390889475997,
           421.8152914980307,
           441.83667410130147
          ],
          [
           261.644230671865,
           281.6656132751357,
           301.6869958784064,
           321.70837848167713,
           341.7297610849478,
           361.7511436882186,
           381.77252629148927,
           401.79390889475997,
           421.8152914980307,
           441.83667410130147
          ],
          [
           261.644230671865,
           281.6656132751357,
           301.6869958784064,
           321.70837848167713,
           341.7297610849478,
           361.7511436882186,
           381.77252629148927,
           401.79390889475997,
           421.8152914980307,
           441.83667410130147
          ]
         ]
        },
        {
         "coloraxis": "coloraxis",
         "colorbar": {
          "thickness": 5
         },
         "name": "PU+0.8%EG",
         "opacity": 0.6,
         "type": "surface",
         "visible": false,
         "x": [
          [
           2.5,
           3.1666666666666665,
           3.833333333333333,
           4.5,
           5.166666666666666,
           5.833333333333333,
           6.5,
           7.166666666666666,
           7.833333333333333,
           8.5
          ],
          [
           2.5,
           3.1666666666666665,
           3.833333333333333,
           4.5,
           5.166666666666666,
           5.833333333333333,
           6.5,
           7.166666666666666,
           7.833333333333333,
           8.5
          ],
          [
           2.5,
           3.1666666666666665,
           3.833333333333333,
           4.5,
           5.166666666666666,
           5.833333333333333,
           6.5,
           7.166666666666666,
           7.833333333333333,
           8.5
          ],
          [
           2.5,
           3.1666666666666665,
           3.833333333333333,
           4.5,
           5.166666666666666,
           5.833333333333333,
           6.5,
           7.166666666666666,
           7.833333333333333,
           8.5
          ],
          [
           2.5,
           3.1666666666666665,
           3.833333333333333,
           4.5,
           5.166666666666666,
           5.833333333333333,
           6.5,
           7.166666666666666,
           7.833333333333333,
           8.5
          ],
          [
           2.5,
           3.1666666666666665,
           3.833333333333333,
           4.5,
           5.166666666666666,
           5.833333333333333,
           6.5,
           7.166666666666666,
           7.833333333333333,
           8.5
          ],
          [
           2.5,
           3.1666666666666665,
           3.833333333333333,
           4.5,
           5.166666666666666,
           5.833333333333333,
           6.5,
           7.166666666666666,
           7.833333333333333,
           8.5
          ],
          [
           2.5,
           3.1666666666666665,
           3.833333333333333,
           4.5,
           5.166666666666666,
           5.833333333333333,
           6.5,
           7.166666666666666,
           7.833333333333333,
           8.5
          ],
          [
           2.5,
           3.1666666666666665,
           3.833333333333333,
           4.5,
           5.166666666666666,
           5.833333333333333,
           6.5,
           7.166666666666666,
           7.833333333333333,
           8.5
          ],
          [
           2.5,
           3.1666666666666665,
           3.833333333333333,
           4.5,
           5.166666666666666,
           5.833333333333333,
           6.5,
           7.166666666666666,
           7.833333333333333,
           8.5
          ]
         ],
         "y": [
          [
           2,
           2,
           2,
           2,
           2,
           2,
           2,
           2,
           2,
           2
          ],
          [
           2.2222222222222223,
           2.2222222222222223,
           2.2222222222222223,
           2.2222222222222223,
           2.2222222222222223,
           2.2222222222222223,
           2.2222222222222223,
           2.2222222222222223,
           2.2222222222222223,
           2.2222222222222223
          ],
          [
           2.4444444444444446,
           2.4444444444444446,
           2.4444444444444446,
           2.4444444444444446,
           2.4444444444444446,
           2.4444444444444446,
           2.4444444444444446,
           2.4444444444444446,
           2.4444444444444446,
           2.4444444444444446
          ],
          [
           2.6666666666666665,
           2.6666666666666665,
           2.6666666666666665,
           2.6666666666666665,
           2.6666666666666665,
           2.6666666666666665,
           2.6666666666666665,
           2.6666666666666665,
           2.6666666666666665,
           2.6666666666666665
          ],
          [
           2.888888888888889,
           2.888888888888889,
           2.888888888888889,
           2.888888888888889,
           2.888888888888889,
           2.888888888888889,
           2.888888888888889,
           2.888888888888889,
           2.888888888888889,
           2.888888888888889
          ],
          [
           3.111111111111111,
           3.111111111111111,
           3.111111111111111,
           3.111111111111111,
           3.111111111111111,
           3.111111111111111,
           3.111111111111111,
           3.111111111111111,
           3.111111111111111,
           3.111111111111111
          ],
          [
           3.333333333333333,
           3.333333333333333,
           3.333333333333333,
           3.333333333333333,
           3.333333333333333,
           3.333333333333333,
           3.333333333333333,
           3.333333333333333,
           3.333333333333333,
           3.333333333333333
          ],
          [
           3.5555555555555554,
           3.5555555555555554,
           3.5555555555555554,
           3.5555555555555554,
           3.5555555555555554,
           3.5555555555555554,
           3.5555555555555554,
           3.5555555555555554,
           3.5555555555555554,
           3.5555555555555554
          ],
          [
           3.7777777777777777,
           3.7777777777777777,
           3.7777777777777777,
           3.7777777777777777,
           3.7777777777777777,
           3.7777777777777777,
           3.7777777777777777,
           3.7777777777777777,
           3.7777777777777777,
           3.7777777777777777
          ],
          [
           4,
           4,
           4,
           4,
           4,
           4,
           4,
           4,
           4,
           4
          ]
         ],
         "z": [
          [
           264.2121791834741,
           284.2335617867449,
           304.25494439001557,
           324.27632699328626,
           344.29770959655696,
           364.31909219982776,
           384.34047480309846,
           404.36185740636915,
           424.38324000963985,
           444.40462261291066
          ],
          [
           264.2121791834741,
           284.2335617867449,
           304.25494439001557,
           324.27632699328626,
           344.29770959655696,
           364.31909219982776,
           384.34047480309846,
           404.36185740636915,
           424.38324000963985,
           444.40462261291066
          ],
          [
           264.2121791834741,
           284.2335617867449,
           304.25494439001557,
           324.27632699328626,
           344.29770959655696,
           364.31909219982776,
           384.34047480309846,
           404.36185740636915,
           424.38324000963985,
           444.40462261291066
          ],
          [
           264.2121791834741,
           284.2335617867449,
           304.25494439001557,
           324.27632699328626,
           344.29770959655696,
           364.31909219982776,
           384.34047480309846,
           404.36185740636915,
           424.38324000963985,
           444.40462261291066
          ],
          [
           264.2121791834741,
           284.2335617867449,
           304.25494439001557,
           324.27632699328626,
           344.29770959655696,
           364.31909219982776,
           384.34047480309846,
           404.36185740636915,
           424.38324000963985,
           444.40462261291066
          ],
          [
           264.2121791834741,
           284.2335617867449,
           304.25494439001557,
           324.27632699328626,
           344.29770959655696,
           364.31909219982776,
           384.34047480309846,
           404.36185740636915,
           424.38324000963985,
           444.40462261291066
          ],
          [
           264.2121791834741,
           284.2335617867449,
           304.25494439001557,
           324.27632699328626,
           344.29770959655696,
           364.31909219982776,
           384.34047480309846,
           404.36185740636915,
           424.38324000963985,
           444.40462261291066
          ],
          [
           264.2121791834741,
           284.2335617867449,
           304.25494439001557,
           324.27632699328626,
           344.29770959655696,
           364.31909219982776,
           384.34047480309846,
           404.36185740636915,
           424.38324000963985,
           444.40462261291066
          ],
          [
           264.2121791834741,
           284.2335617867449,
           304.25494439001557,
           324.27632699328626,
           344.29770959655696,
           364.31909219982776,
           384.34047480309846,
           404.36185740636915,
           424.38324000963985,
           444.40462261291066
          ],
          [
           264.2121791834741,
           284.2335617867449,
           304.25494439001557,
           324.27632699328626,
           344.29770959655696,
           364.31909219982776,
           384.34047480309846,
           404.36185740636915,
           424.38324000963985,
           444.40462261291066
          ]
         ]
        },
        {
         "coloraxis": "coloraxis",
         "colorbar": {
          "thickness": 5
         },
         "name": "PU+0.9%EG",
         "opacity": 0.6,
         "type": "surface",
         "visible": false,
         "x": [
          [
           2.5,
           3.1666666666666665,
           3.833333333333333,
           4.5,
           5.166666666666666,
           5.833333333333333,
           6.5,
           7.166666666666666,
           7.833333333333333,
           8.5
          ],
          [
           2.5,
           3.1666666666666665,
           3.833333333333333,
           4.5,
           5.166666666666666,
           5.833333333333333,
           6.5,
           7.166666666666666,
           7.833333333333333,
           8.5
          ],
          [
           2.5,
           3.1666666666666665,
           3.833333333333333,
           4.5,
           5.166666666666666,
           5.833333333333333,
           6.5,
           7.166666666666666,
           7.833333333333333,
           8.5
          ],
          [
           2.5,
           3.1666666666666665,
           3.833333333333333,
           4.5,
           5.166666666666666,
           5.833333333333333,
           6.5,
           7.166666666666666,
           7.833333333333333,
           8.5
          ],
          [
           2.5,
           3.1666666666666665,
           3.833333333333333,
           4.5,
           5.166666666666666,
           5.833333333333333,
           6.5,
           7.166666666666666,
           7.833333333333333,
           8.5
          ],
          [
           2.5,
           3.1666666666666665,
           3.833333333333333,
           4.5,
           5.166666666666666,
           5.833333333333333,
           6.5,
           7.166666666666666,
           7.833333333333333,
           8.5
          ],
          [
           2.5,
           3.1666666666666665,
           3.833333333333333,
           4.5,
           5.166666666666666,
           5.833333333333333,
           6.5,
           7.166666666666666,
           7.833333333333333,
           8.5
          ],
          [
           2.5,
           3.1666666666666665,
           3.833333333333333,
           4.5,
           5.166666666666666,
           5.833333333333333,
           6.5,
           7.166666666666666,
           7.833333333333333,
           8.5
          ],
          [
           2.5,
           3.1666666666666665,
           3.833333333333333,
           4.5,
           5.166666666666666,
           5.833333333333333,
           6.5,
           7.166666666666666,
           7.833333333333333,
           8.5
          ],
          [
           2.5,
           3.1666666666666665,
           3.833333333333333,
           4.5,
           5.166666666666666,
           5.833333333333333,
           6.5,
           7.166666666666666,
           7.833333333333333,
           8.5
          ]
         ],
         "y": [
          [
           2,
           2,
           2,
           2,
           2,
           2,
           2,
           2,
           2,
           2
          ],
          [
           2.2222222222222223,
           2.2222222222222223,
           2.2222222222222223,
           2.2222222222222223,
           2.2222222222222223,
           2.2222222222222223,
           2.2222222222222223,
           2.2222222222222223,
           2.2222222222222223,
           2.2222222222222223
          ],
          [
           2.4444444444444446,
           2.4444444444444446,
           2.4444444444444446,
           2.4444444444444446,
           2.4444444444444446,
           2.4444444444444446,
           2.4444444444444446,
           2.4444444444444446,
           2.4444444444444446,
           2.4444444444444446
          ],
          [
           2.6666666666666665,
           2.6666666666666665,
           2.6666666666666665,
           2.6666666666666665,
           2.6666666666666665,
           2.6666666666666665,
           2.6666666666666665,
           2.6666666666666665,
           2.6666666666666665,
           2.6666666666666665
          ],
          [
           2.888888888888889,
           2.888888888888889,
           2.888888888888889,
           2.888888888888889,
           2.888888888888889,
           2.888888888888889,
           2.888888888888889,
           2.888888888888889,
           2.888888888888889,
           2.888888888888889
          ],
          [
           3.111111111111111,
           3.111111111111111,
           3.111111111111111,
           3.111111111111111,
           3.111111111111111,
           3.111111111111111,
           3.111111111111111,
           3.111111111111111,
           3.111111111111111,
           3.111111111111111
          ],
          [
           3.333333333333333,
           3.333333333333333,
           3.333333333333333,
           3.333333333333333,
           3.333333333333333,
           3.333333333333333,
           3.333333333333333,
           3.333333333333333,
           3.333333333333333,
           3.333333333333333
          ],
          [
           3.5555555555555554,
           3.5555555555555554,
           3.5555555555555554,
           3.5555555555555554,
           3.5555555555555554,
           3.5555555555555554,
           3.5555555555555554,
           3.5555555555555554,
           3.5555555555555554,
           3.5555555555555554
          ],
          [
           3.7777777777777777,
           3.7777777777777777,
           3.7777777777777777,
           3.7777777777777777,
           3.7777777777777777,
           3.7777777777777777,
           3.7777777777777777,
           3.7777777777777777,
           3.7777777777777777,
           3.7777777777777777
          ],
          [
           4,
           4,
           4,
           4,
           4,
           4,
           4,
           4,
           4,
           4
          ]
         ],
         "z": [
          [
           266.78012769508325,
           286.801510298354,
           306.8228929016247,
           326.84427550489545,
           346.86565810816614,
           366.8870407114369,
           386.9084233147076,
           406.9298059179783,
           426.95118852124904,
           446.9725711245198
          ],
          [
           266.78012769508325,
           286.801510298354,
           306.8228929016247,
           326.84427550489545,
           346.86565810816614,
           366.8870407114369,
           386.9084233147076,
           406.9298059179783,
           426.95118852124904,
           446.9725711245198
          ],
          [
           266.78012769508325,
           286.801510298354,
           306.8228929016247,
           326.84427550489545,
           346.86565810816614,
           366.8870407114369,
           386.9084233147076,
           406.9298059179783,
           426.95118852124904,
           446.9725711245198
          ],
          [
           266.78012769508325,
           286.801510298354,
           306.8228929016247,
           326.84427550489545,
           346.86565810816614,
           366.8870407114369,
           386.9084233147076,
           406.9298059179783,
           426.95118852124904,
           446.9725711245198
          ],
          [
           266.78012769508325,
           286.801510298354,
           306.8228929016247,
           326.84427550489545,
           346.86565810816614,
           366.8870407114369,
           386.9084233147076,
           406.9298059179783,
           426.95118852124904,
           446.9725711245198
          ],
          [
           266.78012769508325,
           286.801510298354,
           306.8228929016247,
           326.84427550489545,
           346.86565810816614,
           366.8870407114369,
           386.9084233147076,
           406.9298059179783,
           426.95118852124904,
           446.9725711245198
          ],
          [
           266.78012769508325,
           286.801510298354,
           306.8228929016247,
           326.84427550489545,
           346.86565810816614,
           366.8870407114369,
           386.9084233147076,
           406.9298059179783,
           426.95118852124904,
           446.9725711245198
          ],
          [
           266.78012769508325,
           286.801510298354,
           306.8228929016247,
           326.84427550489545,
           346.86565810816614,
           366.8870407114369,
           386.9084233147076,
           406.9298059179783,
           426.95118852124904,
           446.9725711245198
          ],
          [
           266.78012769508325,
           286.801510298354,
           306.8228929016247,
           326.84427550489545,
           346.86565810816614,
           366.8870407114369,
           386.9084233147076,
           406.9298059179783,
           426.95118852124904,
           446.9725711245198
          ],
          [
           266.78012769508325,
           286.801510298354,
           306.8228929016247,
           326.84427550489545,
           346.86565810816614,
           366.8870407114369,
           386.9084233147076,
           406.9298059179783,
           426.95118852124904,
           446.9725711245198
          ]
         ]
        },
        {
         "coloraxis": "coloraxis",
         "colorbar": {
          "thickness": 5
         },
         "name": "PU+1.0%EG",
         "opacity": 0.6,
         "type": "surface",
         "visible": true,
         "x": [
          [
           2.5,
           3.1666666666666665,
           3.833333333333333,
           4.5,
           5.166666666666666,
           5.833333333333333,
           6.5,
           7.166666666666666,
           7.833333333333333,
           8.5
          ],
          [
           2.5,
           3.1666666666666665,
           3.833333333333333,
           4.5,
           5.166666666666666,
           5.833333333333333,
           6.5,
           7.166666666666666,
           7.833333333333333,
           8.5
          ],
          [
           2.5,
           3.1666666666666665,
           3.833333333333333,
           4.5,
           5.166666666666666,
           5.833333333333333,
           6.5,
           7.166666666666666,
           7.833333333333333,
           8.5
          ],
          [
           2.5,
           3.1666666666666665,
           3.833333333333333,
           4.5,
           5.166666666666666,
           5.833333333333333,
           6.5,
           7.166666666666666,
           7.833333333333333,
           8.5
          ],
          [
           2.5,
           3.1666666666666665,
           3.833333333333333,
           4.5,
           5.166666666666666,
           5.833333333333333,
           6.5,
           7.166666666666666,
           7.833333333333333,
           8.5
          ],
          [
           2.5,
           3.1666666666666665,
           3.833333333333333,
           4.5,
           5.166666666666666,
           5.833333333333333,
           6.5,
           7.166666666666666,
           7.833333333333333,
           8.5
          ],
          [
           2.5,
           3.1666666666666665,
           3.833333333333333,
           4.5,
           5.166666666666666,
           5.833333333333333,
           6.5,
           7.166666666666666,
           7.833333333333333,
           8.5
          ],
          [
           2.5,
           3.1666666666666665,
           3.833333333333333,
           4.5,
           5.166666666666666,
           5.833333333333333,
           6.5,
           7.166666666666666,
           7.833333333333333,
           8.5
          ],
          [
           2.5,
           3.1666666666666665,
           3.833333333333333,
           4.5,
           5.166666666666666,
           5.833333333333333,
           6.5,
           7.166666666666666,
           7.833333333333333,
           8.5
          ],
          [
           2.5,
           3.1666666666666665,
           3.833333333333333,
           4.5,
           5.166666666666666,
           5.833333333333333,
           6.5,
           7.166666666666666,
           7.833333333333333,
           8.5
          ]
         ],
         "y": [
          [
           2,
           2,
           2,
           2,
           2,
           2,
           2,
           2,
           2,
           2
          ],
          [
           2.2222222222222223,
           2.2222222222222223,
           2.2222222222222223,
           2.2222222222222223,
           2.2222222222222223,
           2.2222222222222223,
           2.2222222222222223,
           2.2222222222222223,
           2.2222222222222223,
           2.2222222222222223
          ],
          [
           2.4444444444444446,
           2.4444444444444446,
           2.4444444444444446,
           2.4444444444444446,
           2.4444444444444446,
           2.4444444444444446,
           2.4444444444444446,
           2.4444444444444446,
           2.4444444444444446,
           2.4444444444444446
          ],
          [
           2.6666666666666665,
           2.6666666666666665,
           2.6666666666666665,
           2.6666666666666665,
           2.6666666666666665,
           2.6666666666666665,
           2.6666666666666665,
           2.6666666666666665,
           2.6666666666666665,
           2.6666666666666665
          ],
          [
           2.888888888888889,
           2.888888888888889,
           2.888888888888889,
           2.888888888888889,
           2.888888888888889,
           2.888888888888889,
           2.888888888888889,
           2.888888888888889,
           2.888888888888889,
           2.888888888888889
          ],
          [
           3.111111111111111,
           3.111111111111111,
           3.111111111111111,
           3.111111111111111,
           3.111111111111111,
           3.111111111111111,
           3.111111111111111,
           3.111111111111111,
           3.111111111111111,
           3.111111111111111
          ],
          [
           3.333333333333333,
           3.333333333333333,
           3.333333333333333,
           3.333333333333333,
           3.333333333333333,
           3.333333333333333,
           3.333333333333333,
           3.333333333333333,
           3.333333333333333,
           3.333333333333333
          ],
          [
           3.5555555555555554,
           3.5555555555555554,
           3.5555555555555554,
           3.5555555555555554,
           3.5555555555555554,
           3.5555555555555554,
           3.5555555555555554,
           3.5555555555555554,
           3.5555555555555554,
           3.5555555555555554
          ],
          [
           3.7777777777777777,
           3.7777777777777777,
           3.7777777777777777,
           3.7777777777777777,
           3.7777777777777777,
           3.7777777777777777,
           3.7777777777777777,
           3.7777777777777777,
           3.7777777777777777,
           3.7777777777777777
          ],
          [
           4,
           4,
           4,
           4,
           4,
           4,
           4,
           4,
           4,
           4
          ]
         ],
         "z": [
          [
           269.34807620669244,
           289.36945880996313,
           309.39084141323383,
           329.4122240165046,
           349.4336066197753,
           369.454989223046,
           389.4763718263167,
           409.4977544295874,
           429.51913703285817,
           449.5405196361289
          ],
          [
           269.34807620669244,
           289.36945880996313,
           309.39084141323383,
           329.4122240165046,
           349.4336066197753,
           369.454989223046,
           389.4763718263167,
           409.4977544295874,
           429.51913703285817,
           449.5405196361289
          ],
          [
           269.34807620669244,
           289.36945880996313,
           309.39084141323383,
           329.4122240165046,
           349.4336066197753,
           369.454989223046,
           389.4763718263167,
           409.4977544295874,
           429.51913703285817,
           449.5405196361289
          ],
          [
           269.34807620669244,
           289.36945880996313,
           309.39084141323383,
           329.4122240165046,
           349.4336066197753,
           369.454989223046,
           389.4763718263167,
           409.4977544295874,
           429.51913703285817,
           449.5405196361289
          ],
          [
           269.34807620669244,
           289.36945880996313,
           309.39084141323383,
           329.4122240165046,
           349.4336066197753,
           369.454989223046,
           389.4763718263167,
           409.4977544295874,
           429.51913703285817,
           449.5405196361289
          ],
          [
           269.34807620669244,
           289.36945880996313,
           309.39084141323383,
           329.4122240165046,
           349.4336066197753,
           369.454989223046,
           389.4763718263167,
           409.4977544295874,
           429.51913703285817,
           449.5405196361289
          ],
          [
           269.34807620669244,
           289.36945880996313,
           309.39084141323383,
           329.4122240165046,
           349.4336066197753,
           369.454989223046,
           389.4763718263167,
           409.4977544295874,
           429.51913703285817,
           449.5405196361289
          ],
          [
           269.34807620669244,
           289.36945880996313,
           309.39084141323383,
           329.4122240165046,
           349.4336066197753,
           369.454989223046,
           389.4763718263167,
           409.4977544295874,
           429.51913703285817,
           449.5405196361289
          ],
          [
           269.34807620669244,
           289.36945880996313,
           309.39084141323383,
           329.4122240165046,
           349.4336066197753,
           369.454989223046,
           389.4763718263167,
           409.4977544295874,
           429.51913703285817,
           449.5405196361289
          ],
          [
           269.34807620669244,
           289.36945880996313,
           309.39084141323383,
           329.4122240165046,
           349.4336066197753,
           369.454989223046,
           389.4763718263167,
           409.4977544295874,
           429.51913703285817,
           449.5405196361289
          ]
         ]
        },
        {
         "coloraxis": "coloraxis",
         "colorbar": {
          "thickness": 5
         },
         "name": "PU+1.1%EG",
         "opacity": 0.6,
         "type": "surface",
         "visible": false,
         "x": [
          [
           2.5,
           3.1666666666666665,
           3.833333333333333,
           4.5,
           5.166666666666666,
           5.833333333333333,
           6.5,
           7.166666666666666,
           7.833333333333333,
           8.5
          ],
          [
           2.5,
           3.1666666666666665,
           3.833333333333333,
           4.5,
           5.166666666666666,
           5.833333333333333,
           6.5,
           7.166666666666666,
           7.833333333333333,
           8.5
          ],
          [
           2.5,
           3.1666666666666665,
           3.833333333333333,
           4.5,
           5.166666666666666,
           5.833333333333333,
           6.5,
           7.166666666666666,
           7.833333333333333,
           8.5
          ],
          [
           2.5,
           3.1666666666666665,
           3.833333333333333,
           4.5,
           5.166666666666666,
           5.833333333333333,
           6.5,
           7.166666666666666,
           7.833333333333333,
           8.5
          ],
          [
           2.5,
           3.1666666666666665,
           3.833333333333333,
           4.5,
           5.166666666666666,
           5.833333333333333,
           6.5,
           7.166666666666666,
           7.833333333333333,
           8.5
          ],
          [
           2.5,
           3.1666666666666665,
           3.833333333333333,
           4.5,
           5.166666666666666,
           5.833333333333333,
           6.5,
           7.166666666666666,
           7.833333333333333,
           8.5
          ],
          [
           2.5,
           3.1666666666666665,
           3.833333333333333,
           4.5,
           5.166666666666666,
           5.833333333333333,
           6.5,
           7.166666666666666,
           7.833333333333333,
           8.5
          ],
          [
           2.5,
           3.1666666666666665,
           3.833333333333333,
           4.5,
           5.166666666666666,
           5.833333333333333,
           6.5,
           7.166666666666666,
           7.833333333333333,
           8.5
          ],
          [
           2.5,
           3.1666666666666665,
           3.833333333333333,
           4.5,
           5.166666666666666,
           5.833333333333333,
           6.5,
           7.166666666666666,
           7.833333333333333,
           8.5
          ],
          [
           2.5,
           3.1666666666666665,
           3.833333333333333,
           4.5,
           5.166666666666666,
           5.833333333333333,
           6.5,
           7.166666666666666,
           7.833333333333333,
           8.5
          ]
         ],
         "y": [
          [
           2,
           2,
           2,
           2,
           2,
           2,
           2,
           2,
           2,
           2
          ],
          [
           2.2222222222222223,
           2.2222222222222223,
           2.2222222222222223,
           2.2222222222222223,
           2.2222222222222223,
           2.2222222222222223,
           2.2222222222222223,
           2.2222222222222223,
           2.2222222222222223,
           2.2222222222222223
          ],
          [
           2.4444444444444446,
           2.4444444444444446,
           2.4444444444444446,
           2.4444444444444446,
           2.4444444444444446,
           2.4444444444444446,
           2.4444444444444446,
           2.4444444444444446,
           2.4444444444444446,
           2.4444444444444446
          ],
          [
           2.6666666666666665,
           2.6666666666666665,
           2.6666666666666665,
           2.6666666666666665,
           2.6666666666666665,
           2.6666666666666665,
           2.6666666666666665,
           2.6666666666666665,
           2.6666666666666665,
           2.6666666666666665
          ],
          [
           2.888888888888889,
           2.888888888888889,
           2.888888888888889,
           2.888888888888889,
           2.888888888888889,
           2.888888888888889,
           2.888888888888889,
           2.888888888888889,
           2.888888888888889,
           2.888888888888889
          ],
          [
           3.111111111111111,
           3.111111111111111,
           3.111111111111111,
           3.111111111111111,
           3.111111111111111,
           3.111111111111111,
           3.111111111111111,
           3.111111111111111,
           3.111111111111111,
           3.111111111111111
          ],
          [
           3.333333333333333,
           3.333333333333333,
           3.333333333333333,
           3.333333333333333,
           3.333333333333333,
           3.333333333333333,
           3.333333333333333,
           3.333333333333333,
           3.333333333333333,
           3.333333333333333
          ],
          [
           3.5555555555555554,
           3.5555555555555554,
           3.5555555555555554,
           3.5555555555555554,
           3.5555555555555554,
           3.5555555555555554,
           3.5555555555555554,
           3.5555555555555554,
           3.5555555555555554,
           3.5555555555555554
          ],
          [
           3.7777777777777777,
           3.7777777777777777,
           3.7777777777777777,
           3.7777777777777777,
           3.7777777777777777,
           3.7777777777777777,
           3.7777777777777777,
           3.7777777777777777,
           3.7777777777777777,
           3.7777777777777777
          ],
          [
           4,
           4,
           4,
           4,
           4,
           4,
           4,
           4,
           4,
           4
          ]
         ],
         "z": [
          [
           271.91602471830157,
           291.9374073215723,
           311.958789924843,
           331.98017252811377,
           352.00155513138446,
           372.0229377346552,
           392.0443203379259,
           412.0657029411966,
           432.08708554446736,
           452.1084681477381
          ],
          [
           271.91602471830157,
           291.9374073215723,
           311.958789924843,
           331.98017252811377,
           352.00155513138446,
           372.0229377346552,
           392.0443203379259,
           412.0657029411966,
           432.08708554446736,
           452.1084681477381
          ],
          [
           271.91602471830157,
           291.9374073215723,
           311.958789924843,
           331.98017252811377,
           352.00155513138446,
           372.0229377346552,
           392.0443203379259,
           412.0657029411966,
           432.08708554446736,
           452.1084681477381
          ],
          [
           271.91602471830157,
           291.9374073215723,
           311.958789924843,
           331.98017252811377,
           352.00155513138446,
           372.0229377346552,
           392.0443203379259,
           412.0657029411966,
           432.08708554446736,
           452.1084681477381
          ],
          [
           271.91602471830157,
           291.9374073215723,
           311.958789924843,
           331.98017252811377,
           352.00155513138446,
           372.0229377346552,
           392.0443203379259,
           412.0657029411966,
           432.08708554446736,
           452.1084681477381
          ],
          [
           271.91602471830157,
           291.9374073215723,
           311.958789924843,
           331.98017252811377,
           352.00155513138446,
           372.0229377346552,
           392.0443203379259,
           412.0657029411966,
           432.08708554446736,
           452.1084681477381
          ],
          [
           271.91602471830157,
           291.9374073215723,
           311.958789924843,
           331.98017252811377,
           352.00155513138446,
           372.0229377346552,
           392.0443203379259,
           412.0657029411966,
           432.08708554446736,
           452.1084681477381
          ],
          [
           271.91602471830157,
           291.9374073215723,
           311.958789924843,
           331.98017252811377,
           352.00155513138446,
           372.0229377346552,
           392.0443203379259,
           412.0657029411966,
           432.08708554446736,
           452.1084681477381
          ],
          [
           271.91602471830157,
           291.9374073215723,
           311.958789924843,
           331.98017252811377,
           352.00155513138446,
           372.0229377346552,
           392.0443203379259,
           412.0657029411966,
           432.08708554446736,
           452.1084681477381
          ],
          [
           271.91602471830157,
           291.9374073215723,
           311.958789924843,
           331.98017252811377,
           352.00155513138446,
           372.0229377346552,
           392.0443203379259,
           412.0657029411966,
           432.08708554446736,
           452.1084681477381
          ]
         ]
        },
        {
         "coloraxis": "coloraxis",
         "colorbar": {
          "thickness": 5
         },
         "name": "PU+1.2%EG",
         "opacity": 0.6,
         "type": "surface",
         "visible": false,
         "x": [
          [
           2.5,
           3.1666666666666665,
           3.833333333333333,
           4.5,
           5.166666666666666,
           5.833333333333333,
           6.5,
           7.166666666666666,
           7.833333333333333,
           8.5
          ],
          [
           2.5,
           3.1666666666666665,
           3.833333333333333,
           4.5,
           5.166666666666666,
           5.833333333333333,
           6.5,
           7.166666666666666,
           7.833333333333333,
           8.5
          ],
          [
           2.5,
           3.1666666666666665,
           3.833333333333333,
           4.5,
           5.166666666666666,
           5.833333333333333,
           6.5,
           7.166666666666666,
           7.833333333333333,
           8.5
          ],
          [
           2.5,
           3.1666666666666665,
           3.833333333333333,
           4.5,
           5.166666666666666,
           5.833333333333333,
           6.5,
           7.166666666666666,
           7.833333333333333,
           8.5
          ],
          [
           2.5,
           3.1666666666666665,
           3.833333333333333,
           4.5,
           5.166666666666666,
           5.833333333333333,
           6.5,
           7.166666666666666,
           7.833333333333333,
           8.5
          ],
          [
           2.5,
           3.1666666666666665,
           3.833333333333333,
           4.5,
           5.166666666666666,
           5.833333333333333,
           6.5,
           7.166666666666666,
           7.833333333333333,
           8.5
          ],
          [
           2.5,
           3.1666666666666665,
           3.833333333333333,
           4.5,
           5.166666666666666,
           5.833333333333333,
           6.5,
           7.166666666666666,
           7.833333333333333,
           8.5
          ],
          [
           2.5,
           3.1666666666666665,
           3.833333333333333,
           4.5,
           5.166666666666666,
           5.833333333333333,
           6.5,
           7.166666666666666,
           7.833333333333333,
           8.5
          ],
          [
           2.5,
           3.1666666666666665,
           3.833333333333333,
           4.5,
           5.166666666666666,
           5.833333333333333,
           6.5,
           7.166666666666666,
           7.833333333333333,
           8.5
          ],
          [
           2.5,
           3.1666666666666665,
           3.833333333333333,
           4.5,
           5.166666666666666,
           5.833333333333333,
           6.5,
           7.166666666666666,
           7.833333333333333,
           8.5
          ]
         ],
         "y": [
          [
           2,
           2,
           2,
           2,
           2,
           2,
           2,
           2,
           2,
           2
          ],
          [
           2.2222222222222223,
           2.2222222222222223,
           2.2222222222222223,
           2.2222222222222223,
           2.2222222222222223,
           2.2222222222222223,
           2.2222222222222223,
           2.2222222222222223,
           2.2222222222222223,
           2.2222222222222223
          ],
          [
           2.4444444444444446,
           2.4444444444444446,
           2.4444444444444446,
           2.4444444444444446,
           2.4444444444444446,
           2.4444444444444446,
           2.4444444444444446,
           2.4444444444444446,
           2.4444444444444446,
           2.4444444444444446
          ],
          [
           2.6666666666666665,
           2.6666666666666665,
           2.6666666666666665,
           2.6666666666666665,
           2.6666666666666665,
           2.6666666666666665,
           2.6666666666666665,
           2.6666666666666665,
           2.6666666666666665,
           2.6666666666666665
          ],
          [
           2.888888888888889,
           2.888888888888889,
           2.888888888888889,
           2.888888888888889,
           2.888888888888889,
           2.888888888888889,
           2.888888888888889,
           2.888888888888889,
           2.888888888888889,
           2.888888888888889
          ],
          [
           3.111111111111111,
           3.111111111111111,
           3.111111111111111,
           3.111111111111111,
           3.111111111111111,
           3.111111111111111,
           3.111111111111111,
           3.111111111111111,
           3.111111111111111,
           3.111111111111111
          ],
          [
           3.333333333333333,
           3.333333333333333,
           3.333333333333333,
           3.333333333333333,
           3.333333333333333,
           3.333333333333333,
           3.333333333333333,
           3.333333333333333,
           3.333333333333333,
           3.333333333333333
          ],
          [
           3.5555555555555554,
           3.5555555555555554,
           3.5555555555555554,
           3.5555555555555554,
           3.5555555555555554,
           3.5555555555555554,
           3.5555555555555554,
           3.5555555555555554,
           3.5555555555555554,
           3.5555555555555554
          ],
          [
           3.7777777777777777,
           3.7777777777777777,
           3.7777777777777777,
           3.7777777777777777,
           3.7777777777777777,
           3.7777777777777777,
           3.7777777777777777,
           3.7777777777777777,
           3.7777777777777777,
           3.7777777777777777
          ],
          [
           4,
           4,
           4,
           4,
           4,
           4,
           4,
           4,
           4,
           4
          ]
         ],
         "z": [
          [
           274.48397322991076,
           294.50535583318145,
           314.52673843645215,
           334.5481210397229,
           354.5695036429936,
           374.59088624626435,
           394.61226884953504,
           414.63365145280574,
           434.6550340560765,
           454.67641665934724
          ],
          [
           274.48397322991076,
           294.50535583318145,
           314.52673843645215,
           334.5481210397229,
           354.5695036429936,
           374.59088624626435,
           394.61226884953504,
           414.63365145280574,
           434.6550340560765,
           454.67641665934724
          ],
          [
           274.48397322991076,
           294.50535583318145,
           314.52673843645215,
           334.5481210397229,
           354.5695036429936,
           374.59088624626435,
           394.61226884953504,
           414.63365145280574,
           434.6550340560765,
           454.67641665934724
          ],
          [
           274.48397322991076,
           294.50535583318145,
           314.52673843645215,
           334.5481210397229,
           354.5695036429936,
           374.59088624626435,
           394.61226884953504,
           414.63365145280574,
           434.6550340560765,
           454.67641665934724
          ],
          [
           274.48397322991076,
           294.50535583318145,
           314.52673843645215,
           334.5481210397229,
           354.5695036429936,
           374.59088624626435,
           394.61226884953504,
           414.63365145280574,
           434.6550340560765,
           454.67641665934724
          ],
          [
           274.48397322991076,
           294.50535583318145,
           314.52673843645215,
           334.5481210397229,
           354.5695036429936,
           374.59088624626435,
           394.61226884953504,
           414.63365145280574,
           434.6550340560765,
           454.67641665934724
          ],
          [
           274.48397322991076,
           294.50535583318145,
           314.52673843645215,
           334.5481210397229,
           354.5695036429936,
           374.59088624626435,
           394.61226884953504,
           414.63365145280574,
           434.6550340560765,
           454.67641665934724
          ],
          [
           274.48397322991076,
           294.50535583318145,
           314.52673843645215,
           334.5481210397229,
           354.5695036429936,
           374.59088624626435,
           394.61226884953504,
           414.63365145280574,
           434.6550340560765,
           454.67641665934724
          ],
          [
           274.48397322991076,
           294.50535583318145,
           314.52673843645215,
           334.5481210397229,
           354.5695036429936,
           374.59088624626435,
           394.61226884953504,
           414.63365145280574,
           434.6550340560765,
           454.67641665934724
          ],
          [
           274.48397322991076,
           294.50535583318145,
           314.52673843645215,
           334.5481210397229,
           354.5695036429936,
           374.59088624626435,
           394.61226884953504,
           414.63365145280574,
           434.6550340560765,
           454.67641665934724
          ]
         ]
        },
        {
         "coloraxis": "coloraxis",
         "colorbar": {
          "thickness": 5
         },
         "name": "PU+1.3%EG",
         "opacity": 0.6,
         "type": "surface",
         "visible": false,
         "x": [
          [
           2.5,
           3.1666666666666665,
           3.833333333333333,
           4.5,
           5.166666666666666,
           5.833333333333333,
           6.5,
           7.166666666666666,
           7.833333333333333,
           8.5
          ],
          [
           2.5,
           3.1666666666666665,
           3.833333333333333,
           4.5,
           5.166666666666666,
           5.833333333333333,
           6.5,
           7.166666666666666,
           7.833333333333333,
           8.5
          ],
          [
           2.5,
           3.1666666666666665,
           3.833333333333333,
           4.5,
           5.166666666666666,
           5.833333333333333,
           6.5,
           7.166666666666666,
           7.833333333333333,
           8.5
          ],
          [
           2.5,
           3.1666666666666665,
           3.833333333333333,
           4.5,
           5.166666666666666,
           5.833333333333333,
           6.5,
           7.166666666666666,
           7.833333333333333,
           8.5
          ],
          [
           2.5,
           3.1666666666666665,
           3.833333333333333,
           4.5,
           5.166666666666666,
           5.833333333333333,
           6.5,
           7.166666666666666,
           7.833333333333333,
           8.5
          ],
          [
           2.5,
           3.1666666666666665,
           3.833333333333333,
           4.5,
           5.166666666666666,
           5.833333333333333,
           6.5,
           7.166666666666666,
           7.833333333333333,
           8.5
          ],
          [
           2.5,
           3.1666666666666665,
           3.833333333333333,
           4.5,
           5.166666666666666,
           5.833333333333333,
           6.5,
           7.166666666666666,
           7.833333333333333,
           8.5
          ],
          [
           2.5,
           3.1666666666666665,
           3.833333333333333,
           4.5,
           5.166666666666666,
           5.833333333333333,
           6.5,
           7.166666666666666,
           7.833333333333333,
           8.5
          ],
          [
           2.5,
           3.1666666666666665,
           3.833333333333333,
           4.5,
           5.166666666666666,
           5.833333333333333,
           6.5,
           7.166666666666666,
           7.833333333333333,
           8.5
          ],
          [
           2.5,
           3.1666666666666665,
           3.833333333333333,
           4.5,
           5.166666666666666,
           5.833333333333333,
           6.5,
           7.166666666666666,
           7.833333333333333,
           8.5
          ]
         ],
         "y": [
          [
           2,
           2,
           2,
           2,
           2,
           2,
           2,
           2,
           2,
           2
          ],
          [
           2.2222222222222223,
           2.2222222222222223,
           2.2222222222222223,
           2.2222222222222223,
           2.2222222222222223,
           2.2222222222222223,
           2.2222222222222223,
           2.2222222222222223,
           2.2222222222222223,
           2.2222222222222223
          ],
          [
           2.4444444444444446,
           2.4444444444444446,
           2.4444444444444446,
           2.4444444444444446,
           2.4444444444444446,
           2.4444444444444446,
           2.4444444444444446,
           2.4444444444444446,
           2.4444444444444446,
           2.4444444444444446
          ],
          [
           2.6666666666666665,
           2.6666666666666665,
           2.6666666666666665,
           2.6666666666666665,
           2.6666666666666665,
           2.6666666666666665,
           2.6666666666666665,
           2.6666666666666665,
           2.6666666666666665,
           2.6666666666666665
          ],
          [
           2.888888888888889,
           2.888888888888889,
           2.888888888888889,
           2.888888888888889,
           2.888888888888889,
           2.888888888888889,
           2.888888888888889,
           2.888888888888889,
           2.888888888888889,
           2.888888888888889
          ],
          [
           3.111111111111111,
           3.111111111111111,
           3.111111111111111,
           3.111111111111111,
           3.111111111111111,
           3.111111111111111,
           3.111111111111111,
           3.111111111111111,
           3.111111111111111,
           3.111111111111111
          ],
          [
           3.333333333333333,
           3.333333333333333,
           3.333333333333333,
           3.333333333333333,
           3.333333333333333,
           3.333333333333333,
           3.333333333333333,
           3.333333333333333,
           3.333333333333333,
           3.333333333333333
          ],
          [
           3.5555555555555554,
           3.5555555555555554,
           3.5555555555555554,
           3.5555555555555554,
           3.5555555555555554,
           3.5555555555555554,
           3.5555555555555554,
           3.5555555555555554,
           3.5555555555555554,
           3.5555555555555554
          ],
          [
           3.7777777777777777,
           3.7777777777777777,
           3.7777777777777777,
           3.7777777777777777,
           3.7777777777777777,
           3.7777777777777777,
           3.7777777777777777,
           3.7777777777777777,
           3.7777777777777777,
           3.7777777777777777
          ],
          [
           4,
           4,
           4,
           4,
           4,
           4,
           4,
           4,
           4,
           4
          ]
         ],
         "z": [
          [
           277.0519217415199,
           297.07330434479064,
           317.09468694806134,
           337.1160695513321,
           357.1374521546028,
           377.15883475787354,
           397.18021736114423,
           417.2015999644149,
           437.2229825676857,
           457.2443651709564
          ],
          [
           277.0519217415199,
           297.07330434479064,
           317.09468694806134,
           337.1160695513321,
           357.1374521546028,
           377.15883475787354,
           397.18021736114423,
           417.2015999644149,
           437.2229825676857,
           457.2443651709564
          ],
          [
           277.0519217415199,
           297.07330434479064,
           317.09468694806134,
           337.1160695513321,
           357.1374521546028,
           377.15883475787354,
           397.18021736114423,
           417.2015999644149,
           437.2229825676857,
           457.2443651709564
          ],
          [
           277.0519217415199,
           297.07330434479064,
           317.09468694806134,
           337.1160695513321,
           357.1374521546028,
           377.15883475787354,
           397.18021736114423,
           417.2015999644149,
           437.2229825676857,
           457.2443651709564
          ],
          [
           277.0519217415199,
           297.07330434479064,
           317.09468694806134,
           337.1160695513321,
           357.1374521546028,
           377.15883475787354,
           397.18021736114423,
           417.2015999644149,
           437.2229825676857,
           457.2443651709564
          ],
          [
           277.0519217415199,
           297.07330434479064,
           317.09468694806134,
           337.1160695513321,
           357.1374521546028,
           377.15883475787354,
           397.18021736114423,
           417.2015999644149,
           437.2229825676857,
           457.2443651709564
          ],
          [
           277.0519217415199,
           297.07330434479064,
           317.09468694806134,
           337.1160695513321,
           357.1374521546028,
           377.15883475787354,
           397.18021736114423,
           417.2015999644149,
           437.2229825676857,
           457.2443651709564
          ],
          [
           277.0519217415199,
           297.07330434479064,
           317.09468694806134,
           337.1160695513321,
           357.1374521546028,
           377.15883475787354,
           397.18021736114423,
           417.2015999644149,
           437.2229825676857,
           457.2443651709564
          ],
          [
           277.0519217415199,
           297.07330434479064,
           317.09468694806134,
           337.1160695513321,
           357.1374521546028,
           377.15883475787354,
           397.18021736114423,
           417.2015999644149,
           437.2229825676857,
           457.2443651709564
          ],
          [
           277.0519217415199,
           297.07330434479064,
           317.09468694806134,
           337.1160695513321,
           357.1374521546028,
           377.15883475787354,
           397.18021736114423,
           417.2015999644149,
           437.2229825676857,
           457.2443651709564
          ]
         ]
        },
        {
         "coloraxis": "coloraxis",
         "colorbar": {
          "thickness": 5
         },
         "name": "PU+1.4%EG",
         "opacity": 0.6,
         "type": "surface",
         "visible": false,
         "x": [
          [
           2.5,
           3.1666666666666665,
           3.833333333333333,
           4.5,
           5.166666666666666,
           5.833333333333333,
           6.5,
           7.166666666666666,
           7.833333333333333,
           8.5
          ],
          [
           2.5,
           3.1666666666666665,
           3.833333333333333,
           4.5,
           5.166666666666666,
           5.833333333333333,
           6.5,
           7.166666666666666,
           7.833333333333333,
           8.5
          ],
          [
           2.5,
           3.1666666666666665,
           3.833333333333333,
           4.5,
           5.166666666666666,
           5.833333333333333,
           6.5,
           7.166666666666666,
           7.833333333333333,
           8.5
          ],
          [
           2.5,
           3.1666666666666665,
           3.833333333333333,
           4.5,
           5.166666666666666,
           5.833333333333333,
           6.5,
           7.166666666666666,
           7.833333333333333,
           8.5
          ],
          [
           2.5,
           3.1666666666666665,
           3.833333333333333,
           4.5,
           5.166666666666666,
           5.833333333333333,
           6.5,
           7.166666666666666,
           7.833333333333333,
           8.5
          ],
          [
           2.5,
           3.1666666666666665,
           3.833333333333333,
           4.5,
           5.166666666666666,
           5.833333333333333,
           6.5,
           7.166666666666666,
           7.833333333333333,
           8.5
          ],
          [
           2.5,
           3.1666666666666665,
           3.833333333333333,
           4.5,
           5.166666666666666,
           5.833333333333333,
           6.5,
           7.166666666666666,
           7.833333333333333,
           8.5
          ],
          [
           2.5,
           3.1666666666666665,
           3.833333333333333,
           4.5,
           5.166666666666666,
           5.833333333333333,
           6.5,
           7.166666666666666,
           7.833333333333333,
           8.5
          ],
          [
           2.5,
           3.1666666666666665,
           3.833333333333333,
           4.5,
           5.166666666666666,
           5.833333333333333,
           6.5,
           7.166666666666666,
           7.833333333333333,
           8.5
          ],
          [
           2.5,
           3.1666666666666665,
           3.833333333333333,
           4.5,
           5.166666666666666,
           5.833333333333333,
           6.5,
           7.166666666666666,
           7.833333333333333,
           8.5
          ]
         ],
         "y": [
          [
           2,
           2,
           2,
           2,
           2,
           2,
           2,
           2,
           2,
           2
          ],
          [
           2.2222222222222223,
           2.2222222222222223,
           2.2222222222222223,
           2.2222222222222223,
           2.2222222222222223,
           2.2222222222222223,
           2.2222222222222223,
           2.2222222222222223,
           2.2222222222222223,
           2.2222222222222223
          ],
          [
           2.4444444444444446,
           2.4444444444444446,
           2.4444444444444446,
           2.4444444444444446,
           2.4444444444444446,
           2.4444444444444446,
           2.4444444444444446,
           2.4444444444444446,
           2.4444444444444446,
           2.4444444444444446
          ],
          [
           2.6666666666666665,
           2.6666666666666665,
           2.6666666666666665,
           2.6666666666666665,
           2.6666666666666665,
           2.6666666666666665,
           2.6666666666666665,
           2.6666666666666665,
           2.6666666666666665,
           2.6666666666666665
          ],
          [
           2.888888888888889,
           2.888888888888889,
           2.888888888888889,
           2.888888888888889,
           2.888888888888889,
           2.888888888888889,
           2.888888888888889,
           2.888888888888889,
           2.888888888888889,
           2.888888888888889
          ],
          [
           3.111111111111111,
           3.111111111111111,
           3.111111111111111,
           3.111111111111111,
           3.111111111111111,
           3.111111111111111,
           3.111111111111111,
           3.111111111111111,
           3.111111111111111,
           3.111111111111111
          ],
          [
           3.333333333333333,
           3.333333333333333,
           3.333333333333333,
           3.333333333333333,
           3.333333333333333,
           3.333333333333333,
           3.333333333333333,
           3.333333333333333,
           3.333333333333333,
           3.333333333333333
          ],
          [
           3.5555555555555554,
           3.5555555555555554,
           3.5555555555555554,
           3.5555555555555554,
           3.5555555555555554,
           3.5555555555555554,
           3.5555555555555554,
           3.5555555555555554,
           3.5555555555555554,
           3.5555555555555554
          ],
          [
           3.7777777777777777,
           3.7777777777777777,
           3.7777777777777777,
           3.7777777777777777,
           3.7777777777777777,
           3.7777777777777777,
           3.7777777777777777,
           3.7777777777777777,
           3.7777777777777777,
           3.7777777777777777
          ],
          [
           4,
           4,
           4,
           4,
           4,
           4,
           4,
           4,
           4,
           4
          ]
         ],
         "z": [
          [
           279.6198702531291,
           299.6412528563998,
           319.66263545967047,
           339.6840180629412,
           359.7054006662119,
           379.72678326948267,
           399.74816587275336,
           419.76954847602406,
           439.7909310792948,
           459.81231368256556
          ],
          [
           279.6198702531291,
           299.6412528563998,
           319.66263545967047,
           339.6840180629412,
           359.7054006662119,
           379.72678326948267,
           399.74816587275336,
           419.76954847602406,
           439.7909310792948,
           459.81231368256556
          ],
          [
           279.6198702531291,
           299.6412528563998,
           319.66263545967047,
           339.6840180629412,
           359.7054006662119,
           379.72678326948267,
           399.74816587275336,
           419.76954847602406,
           439.7909310792948,
           459.81231368256556
          ],
          [
           279.6198702531291,
           299.6412528563998,
           319.66263545967047,
           339.6840180629412,
           359.7054006662119,
           379.72678326948267,
           399.74816587275336,
           419.76954847602406,
           439.7909310792948,
           459.81231368256556
          ],
          [
           279.6198702531291,
           299.6412528563998,
           319.66263545967047,
           339.6840180629412,
           359.7054006662119,
           379.72678326948267,
           399.74816587275336,
           419.76954847602406,
           439.7909310792948,
           459.81231368256556
          ],
          [
           279.6198702531291,
           299.6412528563998,
           319.66263545967047,
           339.6840180629412,
           359.7054006662119,
           379.72678326948267,
           399.74816587275336,
           419.76954847602406,
           439.7909310792948,
           459.81231368256556
          ],
          [
           279.6198702531291,
           299.6412528563998,
           319.66263545967047,
           339.6840180629412,
           359.7054006662119,
           379.72678326948267,
           399.74816587275336,
           419.76954847602406,
           439.7909310792948,
           459.81231368256556
          ],
          [
           279.6198702531291,
           299.6412528563998,
           319.66263545967047,
           339.6840180629412,
           359.7054006662119,
           379.72678326948267,
           399.74816587275336,
           419.76954847602406,
           439.7909310792948,
           459.81231368256556
          ],
          [
           279.6198702531291,
           299.6412528563998,
           319.66263545967047,
           339.6840180629412,
           359.7054006662119,
           379.72678326948267,
           399.74816587275336,
           419.76954847602406,
           439.7909310792948,
           459.81231368256556
          ],
          [
           279.6198702531291,
           299.6412528563998,
           319.66263545967047,
           339.6840180629412,
           359.7054006662119,
           379.72678326948267,
           399.74816587275336,
           419.76954847602406,
           439.7909310792948,
           459.81231368256556
          ]
         ]
        },
        {
         "coloraxis": "coloraxis",
         "colorbar": {
          "thickness": 5
         },
         "name": "PU+1.5%EG",
         "opacity": 0.6,
         "type": "surface",
         "visible": false,
         "x": [
          [
           2.5,
           3.1666666666666665,
           3.833333333333333,
           4.5,
           5.166666666666666,
           5.833333333333333,
           6.5,
           7.166666666666666,
           7.833333333333333,
           8.5
          ],
          [
           2.5,
           3.1666666666666665,
           3.833333333333333,
           4.5,
           5.166666666666666,
           5.833333333333333,
           6.5,
           7.166666666666666,
           7.833333333333333,
           8.5
          ],
          [
           2.5,
           3.1666666666666665,
           3.833333333333333,
           4.5,
           5.166666666666666,
           5.833333333333333,
           6.5,
           7.166666666666666,
           7.833333333333333,
           8.5
          ],
          [
           2.5,
           3.1666666666666665,
           3.833333333333333,
           4.5,
           5.166666666666666,
           5.833333333333333,
           6.5,
           7.166666666666666,
           7.833333333333333,
           8.5
          ],
          [
           2.5,
           3.1666666666666665,
           3.833333333333333,
           4.5,
           5.166666666666666,
           5.833333333333333,
           6.5,
           7.166666666666666,
           7.833333333333333,
           8.5
          ],
          [
           2.5,
           3.1666666666666665,
           3.833333333333333,
           4.5,
           5.166666666666666,
           5.833333333333333,
           6.5,
           7.166666666666666,
           7.833333333333333,
           8.5
          ],
          [
           2.5,
           3.1666666666666665,
           3.833333333333333,
           4.5,
           5.166666666666666,
           5.833333333333333,
           6.5,
           7.166666666666666,
           7.833333333333333,
           8.5
          ],
          [
           2.5,
           3.1666666666666665,
           3.833333333333333,
           4.5,
           5.166666666666666,
           5.833333333333333,
           6.5,
           7.166666666666666,
           7.833333333333333,
           8.5
          ],
          [
           2.5,
           3.1666666666666665,
           3.833333333333333,
           4.5,
           5.166666666666666,
           5.833333333333333,
           6.5,
           7.166666666666666,
           7.833333333333333,
           8.5
          ],
          [
           2.5,
           3.1666666666666665,
           3.833333333333333,
           4.5,
           5.166666666666666,
           5.833333333333333,
           6.5,
           7.166666666666666,
           7.833333333333333,
           8.5
          ]
         ],
         "y": [
          [
           2,
           2,
           2,
           2,
           2,
           2,
           2,
           2,
           2,
           2
          ],
          [
           2.2222222222222223,
           2.2222222222222223,
           2.2222222222222223,
           2.2222222222222223,
           2.2222222222222223,
           2.2222222222222223,
           2.2222222222222223,
           2.2222222222222223,
           2.2222222222222223,
           2.2222222222222223
          ],
          [
           2.4444444444444446,
           2.4444444444444446,
           2.4444444444444446,
           2.4444444444444446,
           2.4444444444444446,
           2.4444444444444446,
           2.4444444444444446,
           2.4444444444444446,
           2.4444444444444446,
           2.4444444444444446
          ],
          [
           2.6666666666666665,
           2.6666666666666665,
           2.6666666666666665,
           2.6666666666666665,
           2.6666666666666665,
           2.6666666666666665,
           2.6666666666666665,
           2.6666666666666665,
           2.6666666666666665,
           2.6666666666666665
          ],
          [
           2.888888888888889,
           2.888888888888889,
           2.888888888888889,
           2.888888888888889,
           2.888888888888889,
           2.888888888888889,
           2.888888888888889,
           2.888888888888889,
           2.888888888888889,
           2.888888888888889
          ],
          [
           3.111111111111111,
           3.111111111111111,
           3.111111111111111,
           3.111111111111111,
           3.111111111111111,
           3.111111111111111,
           3.111111111111111,
           3.111111111111111,
           3.111111111111111,
           3.111111111111111
          ],
          [
           3.333333333333333,
           3.333333333333333,
           3.333333333333333,
           3.333333333333333,
           3.333333333333333,
           3.333333333333333,
           3.333333333333333,
           3.333333333333333,
           3.333333333333333,
           3.333333333333333
          ],
          [
           3.5555555555555554,
           3.5555555555555554,
           3.5555555555555554,
           3.5555555555555554,
           3.5555555555555554,
           3.5555555555555554,
           3.5555555555555554,
           3.5555555555555554,
           3.5555555555555554,
           3.5555555555555554
          ],
          [
           3.7777777777777777,
           3.7777777777777777,
           3.7777777777777777,
           3.7777777777777777,
           3.7777777777777777,
           3.7777777777777777,
           3.7777777777777777,
           3.7777777777777777,
           3.7777777777777777,
           3.7777777777777777
          ],
          [
           4,
           4,
           4,
           4,
           4,
           4,
           4,
           4,
           4,
           4
          ]
         ],
         "z": [
          [
           282.1878187647382,
           302.20920136800896,
           322.23058397127966,
           342.25196657455035,
           362.27334917782105,
           382.29473178109185,
           402.31611438436255,
           422.33749698763324,
           442.35887959090394,
           462.38026219417475
          ],
          [
           282.1878187647382,
           302.20920136800896,
           322.23058397127966,
           342.25196657455035,
           362.27334917782105,
           382.29473178109185,
           402.31611438436255,
           422.33749698763324,
           442.35887959090394,
           462.38026219417475
          ],
          [
           282.1878187647382,
           302.20920136800896,
           322.23058397127966,
           342.25196657455035,
           362.27334917782105,
           382.29473178109185,
           402.31611438436255,
           422.33749698763324,
           442.35887959090394,
           462.38026219417475
          ],
          [
           282.1878187647382,
           302.20920136800896,
           322.23058397127966,
           342.25196657455035,
           362.27334917782105,
           382.29473178109185,
           402.31611438436255,
           422.33749698763324,
           442.35887959090394,
           462.38026219417475
          ],
          [
           282.1878187647382,
           302.20920136800896,
           322.23058397127966,
           342.25196657455035,
           362.27334917782105,
           382.29473178109185,
           402.31611438436255,
           422.33749698763324,
           442.35887959090394,
           462.38026219417475
          ],
          [
           282.1878187647382,
           302.20920136800896,
           322.23058397127966,
           342.25196657455035,
           362.27334917782105,
           382.29473178109185,
           402.31611438436255,
           422.33749698763324,
           442.35887959090394,
           462.38026219417475
          ],
          [
           282.1878187647382,
           302.20920136800896,
           322.23058397127966,
           342.25196657455035,
           362.27334917782105,
           382.29473178109185,
           402.31611438436255,
           422.33749698763324,
           442.35887959090394,
           462.38026219417475
          ],
          [
           282.1878187647382,
           302.20920136800896,
           322.23058397127966,
           342.25196657455035,
           362.27334917782105,
           382.29473178109185,
           402.31611438436255,
           422.33749698763324,
           442.35887959090394,
           462.38026219417475
          ],
          [
           282.1878187647382,
           302.20920136800896,
           322.23058397127966,
           342.25196657455035,
           362.27334917782105,
           382.29473178109185,
           402.31611438436255,
           422.33749698763324,
           442.35887959090394,
           462.38026219417475
          ],
          [
           282.1878187647382,
           302.20920136800896,
           322.23058397127966,
           342.25196657455035,
           362.27334917782105,
           382.29473178109185,
           402.31611438436255,
           422.33749698763324,
           442.35887959090394,
           462.38026219417475
          ]
         ]
        },
        {
         "coloraxis": "coloraxis",
         "colorbar": {
          "thickness": 5
         },
         "name": "PU+1.6%EG",
         "opacity": 0.6,
         "type": "surface",
         "visible": false,
         "x": [
          [
           2.5,
           3.1666666666666665,
           3.833333333333333,
           4.5,
           5.166666666666666,
           5.833333333333333,
           6.5,
           7.166666666666666,
           7.833333333333333,
           8.5
          ],
          [
           2.5,
           3.1666666666666665,
           3.833333333333333,
           4.5,
           5.166666666666666,
           5.833333333333333,
           6.5,
           7.166666666666666,
           7.833333333333333,
           8.5
          ],
          [
           2.5,
           3.1666666666666665,
           3.833333333333333,
           4.5,
           5.166666666666666,
           5.833333333333333,
           6.5,
           7.166666666666666,
           7.833333333333333,
           8.5
          ],
          [
           2.5,
           3.1666666666666665,
           3.833333333333333,
           4.5,
           5.166666666666666,
           5.833333333333333,
           6.5,
           7.166666666666666,
           7.833333333333333,
           8.5
          ],
          [
           2.5,
           3.1666666666666665,
           3.833333333333333,
           4.5,
           5.166666666666666,
           5.833333333333333,
           6.5,
           7.166666666666666,
           7.833333333333333,
           8.5
          ],
          [
           2.5,
           3.1666666666666665,
           3.833333333333333,
           4.5,
           5.166666666666666,
           5.833333333333333,
           6.5,
           7.166666666666666,
           7.833333333333333,
           8.5
          ],
          [
           2.5,
           3.1666666666666665,
           3.833333333333333,
           4.5,
           5.166666666666666,
           5.833333333333333,
           6.5,
           7.166666666666666,
           7.833333333333333,
           8.5
          ],
          [
           2.5,
           3.1666666666666665,
           3.833333333333333,
           4.5,
           5.166666666666666,
           5.833333333333333,
           6.5,
           7.166666666666666,
           7.833333333333333,
           8.5
          ],
          [
           2.5,
           3.1666666666666665,
           3.833333333333333,
           4.5,
           5.166666666666666,
           5.833333333333333,
           6.5,
           7.166666666666666,
           7.833333333333333,
           8.5
          ],
          [
           2.5,
           3.1666666666666665,
           3.833333333333333,
           4.5,
           5.166666666666666,
           5.833333333333333,
           6.5,
           7.166666666666666,
           7.833333333333333,
           8.5
          ]
         ],
         "y": [
          [
           2,
           2,
           2,
           2,
           2,
           2,
           2,
           2,
           2,
           2
          ],
          [
           2.2222222222222223,
           2.2222222222222223,
           2.2222222222222223,
           2.2222222222222223,
           2.2222222222222223,
           2.2222222222222223,
           2.2222222222222223,
           2.2222222222222223,
           2.2222222222222223,
           2.2222222222222223
          ],
          [
           2.4444444444444446,
           2.4444444444444446,
           2.4444444444444446,
           2.4444444444444446,
           2.4444444444444446,
           2.4444444444444446,
           2.4444444444444446,
           2.4444444444444446,
           2.4444444444444446,
           2.4444444444444446
          ],
          [
           2.6666666666666665,
           2.6666666666666665,
           2.6666666666666665,
           2.6666666666666665,
           2.6666666666666665,
           2.6666666666666665,
           2.6666666666666665,
           2.6666666666666665,
           2.6666666666666665,
           2.6666666666666665
          ],
          [
           2.888888888888889,
           2.888888888888889,
           2.888888888888889,
           2.888888888888889,
           2.888888888888889,
           2.888888888888889,
           2.888888888888889,
           2.888888888888889,
           2.888888888888889,
           2.888888888888889
          ],
          [
           3.111111111111111,
           3.111111111111111,
           3.111111111111111,
           3.111111111111111,
           3.111111111111111,
           3.111111111111111,
           3.111111111111111,
           3.111111111111111,
           3.111111111111111,
           3.111111111111111
          ],
          [
           3.333333333333333,
           3.333333333333333,
           3.333333333333333,
           3.333333333333333,
           3.333333333333333,
           3.333333333333333,
           3.333333333333333,
           3.333333333333333,
           3.333333333333333,
           3.333333333333333
          ],
          [
           3.5555555555555554,
           3.5555555555555554,
           3.5555555555555554,
           3.5555555555555554,
           3.5555555555555554,
           3.5555555555555554,
           3.5555555555555554,
           3.5555555555555554,
           3.5555555555555554,
           3.5555555555555554
          ],
          [
           3.7777777777777777,
           3.7777777777777777,
           3.7777777777777777,
           3.7777777777777777,
           3.7777777777777777,
           3.7777777777777777,
           3.7777777777777777,
           3.7777777777777777,
           3.7777777777777777,
           3.7777777777777777
          ],
          [
           4,
           4,
           4,
           4,
           4,
           4,
           4,
           4,
           4,
           4
          ]
         ],
         "z": [
          [
           284.75576727634734,
           304.7771498796181,
           324.7985324828888,
           344.81991508615954,
           364.84129768943023,
           384.862680292701,
           404.8840628959717,
           424.9054454992424,
           444.9268281025131,
           464.9482107057839
          ],
          [
           284.75576727634734,
           304.7771498796181,
           324.7985324828888,
           344.81991508615954,
           364.84129768943023,
           384.862680292701,
           404.8840628959717,
           424.9054454992424,
           444.9268281025131,
           464.9482107057839
          ],
          [
           284.75576727634734,
           304.7771498796181,
           324.7985324828888,
           344.81991508615954,
           364.84129768943023,
           384.862680292701,
           404.8840628959717,
           424.9054454992424,
           444.9268281025131,
           464.9482107057839
          ],
          [
           284.75576727634734,
           304.7771498796181,
           324.7985324828888,
           344.81991508615954,
           364.84129768943023,
           384.862680292701,
           404.8840628959717,
           424.9054454992424,
           444.9268281025131,
           464.9482107057839
          ],
          [
           284.75576727634734,
           304.7771498796181,
           324.7985324828888,
           344.81991508615954,
           364.84129768943023,
           384.862680292701,
           404.8840628959717,
           424.9054454992424,
           444.9268281025131,
           464.9482107057839
          ],
          [
           284.75576727634734,
           304.7771498796181,
           324.7985324828888,
           344.81991508615954,
           364.84129768943023,
           384.862680292701,
           404.8840628959717,
           424.9054454992424,
           444.9268281025131,
           464.9482107057839
          ],
          [
           284.75576727634734,
           304.7771498796181,
           324.7985324828888,
           344.81991508615954,
           364.84129768943023,
           384.862680292701,
           404.8840628959717,
           424.9054454992424,
           444.9268281025131,
           464.9482107057839
          ],
          [
           284.75576727634734,
           304.7771498796181,
           324.7985324828888,
           344.81991508615954,
           364.84129768943023,
           384.862680292701,
           404.8840628959717,
           424.9054454992424,
           444.9268281025131,
           464.9482107057839
          ],
          [
           284.75576727634734,
           304.7771498796181,
           324.7985324828888,
           344.81991508615954,
           364.84129768943023,
           384.862680292701,
           404.8840628959717,
           424.9054454992424,
           444.9268281025131,
           464.9482107057839
          ],
          [
           284.75576727634734,
           304.7771498796181,
           324.7985324828888,
           344.81991508615954,
           364.84129768943023,
           384.862680292701,
           404.8840628959717,
           424.9054454992424,
           444.9268281025131,
           464.9482107057839
          ]
         ]
        },
        {
         "coloraxis": "coloraxis",
         "colorbar": {
          "thickness": 5
         },
         "name": "PU+1.7%EG",
         "opacity": 0.6,
         "type": "surface",
         "visible": false,
         "x": [
          [
           2.5,
           3.1666666666666665,
           3.833333333333333,
           4.5,
           5.166666666666666,
           5.833333333333333,
           6.5,
           7.166666666666666,
           7.833333333333333,
           8.5
          ],
          [
           2.5,
           3.1666666666666665,
           3.833333333333333,
           4.5,
           5.166666666666666,
           5.833333333333333,
           6.5,
           7.166666666666666,
           7.833333333333333,
           8.5
          ],
          [
           2.5,
           3.1666666666666665,
           3.833333333333333,
           4.5,
           5.166666666666666,
           5.833333333333333,
           6.5,
           7.166666666666666,
           7.833333333333333,
           8.5
          ],
          [
           2.5,
           3.1666666666666665,
           3.833333333333333,
           4.5,
           5.166666666666666,
           5.833333333333333,
           6.5,
           7.166666666666666,
           7.833333333333333,
           8.5
          ],
          [
           2.5,
           3.1666666666666665,
           3.833333333333333,
           4.5,
           5.166666666666666,
           5.833333333333333,
           6.5,
           7.166666666666666,
           7.833333333333333,
           8.5
          ],
          [
           2.5,
           3.1666666666666665,
           3.833333333333333,
           4.5,
           5.166666666666666,
           5.833333333333333,
           6.5,
           7.166666666666666,
           7.833333333333333,
           8.5
          ],
          [
           2.5,
           3.1666666666666665,
           3.833333333333333,
           4.5,
           5.166666666666666,
           5.833333333333333,
           6.5,
           7.166666666666666,
           7.833333333333333,
           8.5
          ],
          [
           2.5,
           3.1666666666666665,
           3.833333333333333,
           4.5,
           5.166666666666666,
           5.833333333333333,
           6.5,
           7.166666666666666,
           7.833333333333333,
           8.5
          ],
          [
           2.5,
           3.1666666666666665,
           3.833333333333333,
           4.5,
           5.166666666666666,
           5.833333333333333,
           6.5,
           7.166666666666666,
           7.833333333333333,
           8.5
          ],
          [
           2.5,
           3.1666666666666665,
           3.833333333333333,
           4.5,
           5.166666666666666,
           5.833333333333333,
           6.5,
           7.166666666666666,
           7.833333333333333,
           8.5
          ]
         ],
         "y": [
          [
           2,
           2,
           2,
           2,
           2,
           2,
           2,
           2,
           2,
           2
          ],
          [
           2.2222222222222223,
           2.2222222222222223,
           2.2222222222222223,
           2.2222222222222223,
           2.2222222222222223,
           2.2222222222222223,
           2.2222222222222223,
           2.2222222222222223,
           2.2222222222222223,
           2.2222222222222223
          ],
          [
           2.4444444444444446,
           2.4444444444444446,
           2.4444444444444446,
           2.4444444444444446,
           2.4444444444444446,
           2.4444444444444446,
           2.4444444444444446,
           2.4444444444444446,
           2.4444444444444446,
           2.4444444444444446
          ],
          [
           2.6666666666666665,
           2.6666666666666665,
           2.6666666666666665,
           2.6666666666666665,
           2.6666666666666665,
           2.6666666666666665,
           2.6666666666666665,
           2.6666666666666665,
           2.6666666666666665,
           2.6666666666666665
          ],
          [
           2.888888888888889,
           2.888888888888889,
           2.888888888888889,
           2.888888888888889,
           2.888888888888889,
           2.888888888888889,
           2.888888888888889,
           2.888888888888889,
           2.888888888888889,
           2.888888888888889
          ],
          [
           3.111111111111111,
           3.111111111111111,
           3.111111111111111,
           3.111111111111111,
           3.111111111111111,
           3.111111111111111,
           3.111111111111111,
           3.111111111111111,
           3.111111111111111,
           3.111111111111111
          ],
          [
           3.333333333333333,
           3.333333333333333,
           3.333333333333333,
           3.333333333333333,
           3.333333333333333,
           3.333333333333333,
           3.333333333333333,
           3.333333333333333,
           3.333333333333333,
           3.333333333333333
          ],
          [
           3.5555555555555554,
           3.5555555555555554,
           3.5555555555555554,
           3.5555555555555554,
           3.5555555555555554,
           3.5555555555555554,
           3.5555555555555554,
           3.5555555555555554,
           3.5555555555555554,
           3.5555555555555554
          ],
          [
           3.7777777777777777,
           3.7777777777777777,
           3.7777777777777777,
           3.7777777777777777,
           3.7777777777777777,
           3.7777777777777777,
           3.7777777777777777,
           3.7777777777777777,
           3.7777777777777777,
           3.7777777777777777
          ],
          [
           4,
           4,
           4,
           4,
           4,
           4,
           4,
           4,
           4,
           4
          ]
         ],
         "z": [
          [
           287.32371578795653,
           307.3450983912272,
           327.3664809944979,
           347.3878635977687,
           367.4092462010394,
           387.4306288043101,
           407.4520114075808,
           427.4733940108515,
           447.4947766141223,
           467.516159217393
          ],
          [
           287.32371578795653,
           307.3450983912272,
           327.3664809944979,
           347.3878635977687,
           367.4092462010394,
           387.4306288043101,
           407.4520114075808,
           427.4733940108515,
           447.4947766141223,
           467.516159217393
          ],
          [
           287.32371578795653,
           307.3450983912272,
           327.3664809944979,
           347.3878635977687,
           367.4092462010394,
           387.4306288043101,
           407.4520114075808,
           427.4733940108515,
           447.4947766141223,
           467.516159217393
          ],
          [
           287.32371578795653,
           307.3450983912272,
           327.3664809944979,
           347.3878635977687,
           367.4092462010394,
           387.4306288043101,
           407.4520114075808,
           427.4733940108515,
           447.4947766141223,
           467.516159217393
          ],
          [
           287.32371578795653,
           307.3450983912272,
           327.3664809944979,
           347.3878635977687,
           367.4092462010394,
           387.4306288043101,
           407.4520114075808,
           427.4733940108515,
           447.4947766141223,
           467.516159217393
          ],
          [
           287.32371578795653,
           307.3450983912272,
           327.3664809944979,
           347.3878635977687,
           367.4092462010394,
           387.4306288043101,
           407.4520114075808,
           427.4733940108515,
           447.4947766141223,
           467.516159217393
          ],
          [
           287.32371578795653,
           307.3450983912272,
           327.3664809944979,
           347.3878635977687,
           367.4092462010394,
           387.4306288043101,
           407.4520114075808,
           427.4733940108515,
           447.4947766141223,
           467.516159217393
          ],
          [
           287.32371578795653,
           307.3450983912272,
           327.3664809944979,
           347.3878635977687,
           367.4092462010394,
           387.4306288043101,
           407.4520114075808,
           427.4733940108515,
           447.4947766141223,
           467.516159217393
          ],
          [
           287.32371578795653,
           307.3450983912272,
           327.3664809944979,
           347.3878635977687,
           367.4092462010394,
           387.4306288043101,
           407.4520114075808,
           427.4733940108515,
           447.4947766141223,
           467.516159217393
          ],
          [
           287.32371578795653,
           307.3450983912272,
           327.3664809944979,
           347.3878635977687,
           367.4092462010394,
           387.4306288043101,
           407.4520114075808,
           427.4733940108515,
           447.4947766141223,
           467.516159217393
          ]
         ]
        },
        {
         "coloraxis": "coloraxis",
         "colorbar": {
          "thickness": 5
         },
         "name": "PU+1.8%EG",
         "opacity": 0.6,
         "type": "surface",
         "visible": false,
         "x": [
          [
           2.5,
           3.1666666666666665,
           3.833333333333333,
           4.5,
           5.166666666666666,
           5.833333333333333,
           6.5,
           7.166666666666666,
           7.833333333333333,
           8.5
          ],
          [
           2.5,
           3.1666666666666665,
           3.833333333333333,
           4.5,
           5.166666666666666,
           5.833333333333333,
           6.5,
           7.166666666666666,
           7.833333333333333,
           8.5
          ],
          [
           2.5,
           3.1666666666666665,
           3.833333333333333,
           4.5,
           5.166666666666666,
           5.833333333333333,
           6.5,
           7.166666666666666,
           7.833333333333333,
           8.5
          ],
          [
           2.5,
           3.1666666666666665,
           3.833333333333333,
           4.5,
           5.166666666666666,
           5.833333333333333,
           6.5,
           7.166666666666666,
           7.833333333333333,
           8.5
          ],
          [
           2.5,
           3.1666666666666665,
           3.833333333333333,
           4.5,
           5.166666666666666,
           5.833333333333333,
           6.5,
           7.166666666666666,
           7.833333333333333,
           8.5
          ],
          [
           2.5,
           3.1666666666666665,
           3.833333333333333,
           4.5,
           5.166666666666666,
           5.833333333333333,
           6.5,
           7.166666666666666,
           7.833333333333333,
           8.5
          ],
          [
           2.5,
           3.1666666666666665,
           3.833333333333333,
           4.5,
           5.166666666666666,
           5.833333333333333,
           6.5,
           7.166666666666666,
           7.833333333333333,
           8.5
          ],
          [
           2.5,
           3.1666666666666665,
           3.833333333333333,
           4.5,
           5.166666666666666,
           5.833333333333333,
           6.5,
           7.166666666666666,
           7.833333333333333,
           8.5
          ],
          [
           2.5,
           3.1666666666666665,
           3.833333333333333,
           4.5,
           5.166666666666666,
           5.833333333333333,
           6.5,
           7.166666666666666,
           7.833333333333333,
           8.5
          ],
          [
           2.5,
           3.1666666666666665,
           3.833333333333333,
           4.5,
           5.166666666666666,
           5.833333333333333,
           6.5,
           7.166666666666666,
           7.833333333333333,
           8.5
          ]
         ],
         "y": [
          [
           2,
           2,
           2,
           2,
           2,
           2,
           2,
           2,
           2,
           2
          ],
          [
           2.2222222222222223,
           2.2222222222222223,
           2.2222222222222223,
           2.2222222222222223,
           2.2222222222222223,
           2.2222222222222223,
           2.2222222222222223,
           2.2222222222222223,
           2.2222222222222223,
           2.2222222222222223
          ],
          [
           2.4444444444444446,
           2.4444444444444446,
           2.4444444444444446,
           2.4444444444444446,
           2.4444444444444446,
           2.4444444444444446,
           2.4444444444444446,
           2.4444444444444446,
           2.4444444444444446,
           2.4444444444444446
          ],
          [
           2.6666666666666665,
           2.6666666666666665,
           2.6666666666666665,
           2.6666666666666665,
           2.6666666666666665,
           2.6666666666666665,
           2.6666666666666665,
           2.6666666666666665,
           2.6666666666666665,
           2.6666666666666665
          ],
          [
           2.888888888888889,
           2.888888888888889,
           2.888888888888889,
           2.888888888888889,
           2.888888888888889,
           2.888888888888889,
           2.888888888888889,
           2.888888888888889,
           2.888888888888889,
           2.888888888888889
          ],
          [
           3.111111111111111,
           3.111111111111111,
           3.111111111111111,
           3.111111111111111,
           3.111111111111111,
           3.111111111111111,
           3.111111111111111,
           3.111111111111111,
           3.111111111111111,
           3.111111111111111
          ],
          [
           3.333333333333333,
           3.333333333333333,
           3.333333333333333,
           3.333333333333333,
           3.333333333333333,
           3.333333333333333,
           3.333333333333333,
           3.333333333333333,
           3.333333333333333,
           3.333333333333333
          ],
          [
           3.5555555555555554,
           3.5555555555555554,
           3.5555555555555554,
           3.5555555555555554,
           3.5555555555555554,
           3.5555555555555554,
           3.5555555555555554,
           3.5555555555555554,
           3.5555555555555554,
           3.5555555555555554
          ],
          [
           3.7777777777777777,
           3.7777777777777777,
           3.7777777777777777,
           3.7777777777777777,
           3.7777777777777777,
           3.7777777777777777,
           3.7777777777777777,
           3.7777777777777777,
           3.7777777777777777,
           3.7777777777777777
          ],
          [
           4,
           4,
           4,
           4,
           4,
           4,
           4,
           4,
           4,
           4
          ]
         ],
         "z": [
          [
           289.89166429956566,
           309.9130469028364,
           329.9344295061071,
           349.95581210937786,
           369.97719471264855,
           389.9985773159193,
           410.01995991919,
           430.0413425224607,
           450.06272512573145,
           470.0841077290022
          ],
          [
           289.89166429956566,
           309.9130469028364,
           329.9344295061071,
           349.95581210937786,
           369.97719471264855,
           389.9985773159193,
           410.01995991919,
           430.0413425224607,
           450.06272512573145,
           470.0841077290022
          ],
          [
           289.89166429956566,
           309.9130469028364,
           329.9344295061071,
           349.95581210937786,
           369.97719471264855,
           389.9985773159193,
           410.01995991919,
           430.0413425224607,
           450.06272512573145,
           470.0841077290022
          ],
          [
           289.89166429956566,
           309.9130469028364,
           329.9344295061071,
           349.95581210937786,
           369.97719471264855,
           389.9985773159193,
           410.01995991919,
           430.0413425224607,
           450.06272512573145,
           470.0841077290022
          ],
          [
           289.89166429956566,
           309.9130469028364,
           329.9344295061071,
           349.95581210937786,
           369.97719471264855,
           389.9985773159193,
           410.01995991919,
           430.0413425224607,
           450.06272512573145,
           470.0841077290022
          ],
          [
           289.89166429956566,
           309.9130469028364,
           329.9344295061071,
           349.95581210937786,
           369.97719471264855,
           389.9985773159193,
           410.01995991919,
           430.0413425224607,
           450.06272512573145,
           470.0841077290022
          ],
          [
           289.89166429956566,
           309.9130469028364,
           329.9344295061071,
           349.95581210937786,
           369.97719471264855,
           389.9985773159193,
           410.01995991919,
           430.0413425224607,
           450.06272512573145,
           470.0841077290022
          ],
          [
           289.89166429956566,
           309.9130469028364,
           329.9344295061071,
           349.95581210937786,
           369.97719471264855,
           389.9985773159193,
           410.01995991919,
           430.0413425224607,
           450.06272512573145,
           470.0841077290022
          ],
          [
           289.89166429956566,
           309.9130469028364,
           329.9344295061071,
           349.95581210937786,
           369.97719471264855,
           389.9985773159193,
           410.01995991919,
           430.0413425224607,
           450.06272512573145,
           470.0841077290022
          ],
          [
           289.89166429956566,
           309.9130469028364,
           329.9344295061071,
           349.95581210937786,
           369.97719471264855,
           389.9985773159193,
           410.01995991919,
           430.0413425224607,
           450.06272512573145,
           470.0841077290022
          ]
         ]
        },
        {
         "coloraxis": "coloraxis",
         "colorbar": {
          "thickness": 5
         },
         "name": "PU+1.9%EG",
         "opacity": 0.6,
         "type": "surface",
         "visible": false,
         "x": [
          [
           2.5,
           3.1666666666666665,
           3.833333333333333,
           4.5,
           5.166666666666666,
           5.833333333333333,
           6.5,
           7.166666666666666,
           7.833333333333333,
           8.5
          ],
          [
           2.5,
           3.1666666666666665,
           3.833333333333333,
           4.5,
           5.166666666666666,
           5.833333333333333,
           6.5,
           7.166666666666666,
           7.833333333333333,
           8.5
          ],
          [
           2.5,
           3.1666666666666665,
           3.833333333333333,
           4.5,
           5.166666666666666,
           5.833333333333333,
           6.5,
           7.166666666666666,
           7.833333333333333,
           8.5
          ],
          [
           2.5,
           3.1666666666666665,
           3.833333333333333,
           4.5,
           5.166666666666666,
           5.833333333333333,
           6.5,
           7.166666666666666,
           7.833333333333333,
           8.5
          ],
          [
           2.5,
           3.1666666666666665,
           3.833333333333333,
           4.5,
           5.166666666666666,
           5.833333333333333,
           6.5,
           7.166666666666666,
           7.833333333333333,
           8.5
          ],
          [
           2.5,
           3.1666666666666665,
           3.833333333333333,
           4.5,
           5.166666666666666,
           5.833333333333333,
           6.5,
           7.166666666666666,
           7.833333333333333,
           8.5
          ],
          [
           2.5,
           3.1666666666666665,
           3.833333333333333,
           4.5,
           5.166666666666666,
           5.833333333333333,
           6.5,
           7.166666666666666,
           7.833333333333333,
           8.5
          ],
          [
           2.5,
           3.1666666666666665,
           3.833333333333333,
           4.5,
           5.166666666666666,
           5.833333333333333,
           6.5,
           7.166666666666666,
           7.833333333333333,
           8.5
          ],
          [
           2.5,
           3.1666666666666665,
           3.833333333333333,
           4.5,
           5.166666666666666,
           5.833333333333333,
           6.5,
           7.166666666666666,
           7.833333333333333,
           8.5
          ],
          [
           2.5,
           3.1666666666666665,
           3.833333333333333,
           4.5,
           5.166666666666666,
           5.833333333333333,
           6.5,
           7.166666666666666,
           7.833333333333333,
           8.5
          ]
         ],
         "y": [
          [
           2,
           2,
           2,
           2,
           2,
           2,
           2,
           2,
           2,
           2
          ],
          [
           2.2222222222222223,
           2.2222222222222223,
           2.2222222222222223,
           2.2222222222222223,
           2.2222222222222223,
           2.2222222222222223,
           2.2222222222222223,
           2.2222222222222223,
           2.2222222222222223,
           2.2222222222222223
          ],
          [
           2.4444444444444446,
           2.4444444444444446,
           2.4444444444444446,
           2.4444444444444446,
           2.4444444444444446,
           2.4444444444444446,
           2.4444444444444446,
           2.4444444444444446,
           2.4444444444444446,
           2.4444444444444446
          ],
          [
           2.6666666666666665,
           2.6666666666666665,
           2.6666666666666665,
           2.6666666666666665,
           2.6666666666666665,
           2.6666666666666665,
           2.6666666666666665,
           2.6666666666666665,
           2.6666666666666665,
           2.6666666666666665
          ],
          [
           2.888888888888889,
           2.888888888888889,
           2.888888888888889,
           2.888888888888889,
           2.888888888888889,
           2.888888888888889,
           2.888888888888889,
           2.888888888888889,
           2.888888888888889,
           2.888888888888889
          ],
          [
           3.111111111111111,
           3.111111111111111,
           3.111111111111111,
           3.111111111111111,
           3.111111111111111,
           3.111111111111111,
           3.111111111111111,
           3.111111111111111,
           3.111111111111111,
           3.111111111111111
          ],
          [
           3.333333333333333,
           3.333333333333333,
           3.333333333333333,
           3.333333333333333,
           3.333333333333333,
           3.333333333333333,
           3.333333333333333,
           3.333333333333333,
           3.333333333333333,
           3.333333333333333
          ],
          [
           3.5555555555555554,
           3.5555555555555554,
           3.5555555555555554,
           3.5555555555555554,
           3.5555555555555554,
           3.5555555555555554,
           3.5555555555555554,
           3.5555555555555554,
           3.5555555555555554,
           3.5555555555555554
          ],
          [
           3.7777777777777777,
           3.7777777777777777,
           3.7777777777777777,
           3.7777777777777777,
           3.7777777777777777,
           3.7777777777777777,
           3.7777777777777777,
           3.7777777777777777,
           3.7777777777777777,
           3.7777777777777777
          ],
          [
           4,
           4,
           4,
           4,
           4,
           4,
           4,
           4,
           4,
           4
          ]
         ],
         "z": [
          [
           292.45961281117485,
           312.48099541444554,
           332.50237801771624,
           352.523760620987,
           372.5451432242577,
           392.56652582752844,
           412.58790843079913,
           432.6092910340698,
           452.6306736373406,
           472.65205624061133
          ],
          [
           292.45961281117485,
           312.48099541444554,
           332.50237801771624,
           352.523760620987,
           372.5451432242577,
           392.56652582752844,
           412.58790843079913,
           432.6092910340698,
           452.6306736373406,
           472.65205624061133
          ],
          [
           292.45961281117485,
           312.48099541444554,
           332.50237801771624,
           352.523760620987,
           372.5451432242577,
           392.56652582752844,
           412.58790843079913,
           432.6092910340698,
           452.6306736373406,
           472.65205624061133
          ],
          [
           292.45961281117485,
           312.48099541444554,
           332.50237801771624,
           352.523760620987,
           372.5451432242577,
           392.56652582752844,
           412.58790843079913,
           432.6092910340698,
           452.6306736373406,
           472.65205624061133
          ],
          [
           292.45961281117485,
           312.48099541444554,
           332.50237801771624,
           352.523760620987,
           372.5451432242577,
           392.56652582752844,
           412.58790843079913,
           432.6092910340698,
           452.6306736373406,
           472.65205624061133
          ],
          [
           292.45961281117485,
           312.48099541444554,
           332.50237801771624,
           352.523760620987,
           372.5451432242577,
           392.56652582752844,
           412.58790843079913,
           432.6092910340698,
           452.6306736373406,
           472.65205624061133
          ],
          [
           292.45961281117485,
           312.48099541444554,
           332.50237801771624,
           352.523760620987,
           372.5451432242577,
           392.56652582752844,
           412.58790843079913,
           432.6092910340698,
           452.6306736373406,
           472.65205624061133
          ],
          [
           292.45961281117485,
           312.48099541444554,
           332.50237801771624,
           352.523760620987,
           372.5451432242577,
           392.56652582752844,
           412.58790843079913,
           432.6092910340698,
           452.6306736373406,
           472.65205624061133
          ],
          [
           292.45961281117485,
           312.48099541444554,
           332.50237801771624,
           352.523760620987,
           372.5451432242577,
           392.56652582752844,
           412.58790843079913,
           432.6092910340698,
           452.6306736373406,
           472.65205624061133
          ],
          [
           292.45961281117485,
           312.48099541444554,
           332.50237801771624,
           352.523760620987,
           372.5451432242577,
           392.56652582752844,
           412.58790843079913,
           432.6092910340698,
           452.6306736373406,
           472.65205624061133
          ]
         ]
        },
        {
         "coloraxis": "coloraxis",
         "colorbar": {
          "thickness": 5
         },
         "name": "PU+2.0%EG",
         "opacity": 0.6,
         "type": "surface",
         "visible": false,
         "x": [
          [
           2.5,
           3.1666666666666665,
           3.833333333333333,
           4.5,
           5.166666666666666,
           5.833333333333333,
           6.5,
           7.166666666666666,
           7.833333333333333,
           8.5
          ],
          [
           2.5,
           3.1666666666666665,
           3.833333333333333,
           4.5,
           5.166666666666666,
           5.833333333333333,
           6.5,
           7.166666666666666,
           7.833333333333333,
           8.5
          ],
          [
           2.5,
           3.1666666666666665,
           3.833333333333333,
           4.5,
           5.166666666666666,
           5.833333333333333,
           6.5,
           7.166666666666666,
           7.833333333333333,
           8.5
          ],
          [
           2.5,
           3.1666666666666665,
           3.833333333333333,
           4.5,
           5.166666666666666,
           5.833333333333333,
           6.5,
           7.166666666666666,
           7.833333333333333,
           8.5
          ],
          [
           2.5,
           3.1666666666666665,
           3.833333333333333,
           4.5,
           5.166666666666666,
           5.833333333333333,
           6.5,
           7.166666666666666,
           7.833333333333333,
           8.5
          ],
          [
           2.5,
           3.1666666666666665,
           3.833333333333333,
           4.5,
           5.166666666666666,
           5.833333333333333,
           6.5,
           7.166666666666666,
           7.833333333333333,
           8.5
          ],
          [
           2.5,
           3.1666666666666665,
           3.833333333333333,
           4.5,
           5.166666666666666,
           5.833333333333333,
           6.5,
           7.166666666666666,
           7.833333333333333,
           8.5
          ],
          [
           2.5,
           3.1666666666666665,
           3.833333333333333,
           4.5,
           5.166666666666666,
           5.833333333333333,
           6.5,
           7.166666666666666,
           7.833333333333333,
           8.5
          ],
          [
           2.5,
           3.1666666666666665,
           3.833333333333333,
           4.5,
           5.166666666666666,
           5.833333333333333,
           6.5,
           7.166666666666666,
           7.833333333333333,
           8.5
          ],
          [
           2.5,
           3.1666666666666665,
           3.833333333333333,
           4.5,
           5.166666666666666,
           5.833333333333333,
           6.5,
           7.166666666666666,
           7.833333333333333,
           8.5
          ]
         ],
         "y": [
          [
           2,
           2,
           2,
           2,
           2,
           2,
           2,
           2,
           2,
           2
          ],
          [
           2.2222222222222223,
           2.2222222222222223,
           2.2222222222222223,
           2.2222222222222223,
           2.2222222222222223,
           2.2222222222222223,
           2.2222222222222223,
           2.2222222222222223,
           2.2222222222222223,
           2.2222222222222223
          ],
          [
           2.4444444444444446,
           2.4444444444444446,
           2.4444444444444446,
           2.4444444444444446,
           2.4444444444444446,
           2.4444444444444446,
           2.4444444444444446,
           2.4444444444444446,
           2.4444444444444446,
           2.4444444444444446
          ],
          [
           2.6666666666666665,
           2.6666666666666665,
           2.6666666666666665,
           2.6666666666666665,
           2.6666666666666665,
           2.6666666666666665,
           2.6666666666666665,
           2.6666666666666665,
           2.6666666666666665,
           2.6666666666666665
          ],
          [
           2.888888888888889,
           2.888888888888889,
           2.888888888888889,
           2.888888888888889,
           2.888888888888889,
           2.888888888888889,
           2.888888888888889,
           2.888888888888889,
           2.888888888888889,
           2.888888888888889
          ],
          [
           3.111111111111111,
           3.111111111111111,
           3.111111111111111,
           3.111111111111111,
           3.111111111111111,
           3.111111111111111,
           3.111111111111111,
           3.111111111111111,
           3.111111111111111,
           3.111111111111111
          ],
          [
           3.333333333333333,
           3.333333333333333,
           3.333333333333333,
           3.333333333333333,
           3.333333333333333,
           3.333333333333333,
           3.333333333333333,
           3.333333333333333,
           3.333333333333333,
           3.333333333333333
          ],
          [
           3.5555555555555554,
           3.5555555555555554,
           3.5555555555555554,
           3.5555555555555554,
           3.5555555555555554,
           3.5555555555555554,
           3.5555555555555554,
           3.5555555555555554,
           3.5555555555555554,
           3.5555555555555554
          ],
          [
           3.7777777777777777,
           3.7777777777777777,
           3.7777777777777777,
           3.7777777777777777,
           3.7777777777777777,
           3.7777777777777777,
           3.7777777777777777,
           3.7777777777777777,
           3.7777777777777777,
           3.7777777777777777
          ],
          [
           4,
           4,
           4,
           4,
           4,
           4,
           4,
           4,
           4,
           4
          ]
         ],
         "z": [
          [
           295.027561322784,
           315.04894392605473,
           335.0703265293254,
           355.0917091325962,
           375.1130917358669,
           395.1344743391376,
           415.1558569424083,
           435.177239545679,
           455.19862214894977,
           475.2200047522205
          ],
          [
           295.027561322784,
           315.04894392605473,
           335.0703265293254,
           355.0917091325962,
           375.1130917358669,
           395.1344743391376,
           415.1558569424083,
           435.177239545679,
           455.19862214894977,
           475.2200047522205
          ],
          [
           295.027561322784,
           315.04894392605473,
           335.0703265293254,
           355.0917091325962,
           375.1130917358669,
           395.1344743391376,
           415.1558569424083,
           435.177239545679,
           455.19862214894977,
           475.2200047522205
          ],
          [
           295.027561322784,
           315.04894392605473,
           335.0703265293254,
           355.0917091325962,
           375.1130917358669,
           395.1344743391376,
           415.1558569424083,
           435.177239545679,
           455.19862214894977,
           475.2200047522205
          ],
          [
           295.027561322784,
           315.04894392605473,
           335.0703265293254,
           355.0917091325962,
           375.1130917358669,
           395.1344743391376,
           415.1558569424083,
           435.177239545679,
           455.19862214894977,
           475.2200047522205
          ],
          [
           295.027561322784,
           315.04894392605473,
           335.0703265293254,
           355.0917091325962,
           375.1130917358669,
           395.1344743391376,
           415.1558569424083,
           435.177239545679,
           455.19862214894977,
           475.2200047522205
          ],
          [
           295.027561322784,
           315.04894392605473,
           335.0703265293254,
           355.0917091325962,
           375.1130917358669,
           395.1344743391376,
           415.1558569424083,
           435.177239545679,
           455.19862214894977,
           475.2200047522205
          ],
          [
           295.027561322784,
           315.04894392605473,
           335.0703265293254,
           355.0917091325962,
           375.1130917358669,
           395.1344743391376,
           415.1558569424083,
           435.177239545679,
           455.19862214894977,
           475.2200047522205
          ],
          [
           295.027561322784,
           315.04894392605473,
           335.0703265293254,
           355.0917091325962,
           375.1130917358669,
           395.1344743391376,
           415.1558569424083,
           435.177239545679,
           455.19862214894977,
           475.2200047522205
          ],
          [
           295.027561322784,
           315.04894392605473,
           335.0703265293254,
           355.0917091325962,
           375.1130917358669,
           395.1344743391376,
           415.1558569424083,
           435.177239545679,
           455.19862214894977,
           475.2200047522205
          ]
         ]
        }
       ],
       "layout": {
        "coloraxis": {
         "colorbar": {
          "thickness": 5
         },
         "colorscale": [
          [
           0,
           "rgb(0,0,0)"
          ],
          [
           0.3333333333333333,
           "rgb(230,0,0)"
          ],
          [
           0.6666666666666666,
           "rgb(255,210,0)"
          ],
          [
           1,
           "rgb(255,255,255)"
          ]
         ]
        },
        "legend": {
         "x": 0.05,
         "xanchor": "left",
         "y": 0.95,
         "yanchor": "top"
        },
        "margin": {
         "b": 65,
         "l": 65,
         "r": 50,
         "t": 90
        },
        "scene": {
         "xaxis": {
          "showspikes": false,
          "title": {
           "text": "Normal Load (N)"
          }
         },
         "yaxis": {
          "showspikes": false,
          "title": {
           "text": "Frequency (Hz)"
          }
         },
         "zaxis": {
          "range": [
           220,
           500
          ],
          "title": {
           "text": "Wear Width (µm)"
          }
         }
        },
        "showlegend": true,
        "sliders": [
         {
          "active": 10,
          "currentvalue": {
           "prefix": "Content: "
          },
          "pad": {
           "t": 50
          },
          "steps": [
           {
            "args": [
             {
              "visible": [
               true,
               false,
               false,
               false,
               false,
               false,
               false,
               false,
               false,
               false,
               false,
               false,
               false,
               false,
               false,
               false,
               false,
               false,
               false,
               false,
               false
              ]
             },
             {
              "title": "PU + 0.0% Expanded Graphite"
             }
            ],
            "label": "0.0% EG",
            "method": "update"
           },
           {
            "args": [
             {
              "visible": [
               false,
               true,
               false,
               false,
               false,
               false,
               false,
               false,
               false,
               false,
               false,
               false,
               false,
               false,
               false,
               false,
               false,
               false,
               false,
               false,
               false
              ]
             },
             {
              "title": "PU + 0.1% Expanded Graphite"
             }
            ],
            "label": "0.1% EG",
            "method": "update"
           },
           {
            "args": [
             {
              "visible": [
               false,
               false,
               true,
               false,
               false,
               false,
               false,
               false,
               false,
               false,
               false,
               false,
               false,
               false,
               false,
               false,
               false,
               false,
               false,
               false,
               false
              ]
             },
             {
              "title": "PU + 0.2% Expanded Graphite"
             }
            ],
            "label": "0.2% EG",
            "method": "update"
           },
           {
            "args": [
             {
              "visible": [
               false,
               false,
               false,
               true,
               false,
               false,
               false,
               false,
               false,
               false,
               false,
               false,
               false,
               false,
               false,
               false,
               false,
               false,
               false,
               false,
               false
              ]
             },
             {
              "title": "PU + 0.3% Expanded Graphite"
             }
            ],
            "label": "0.3% EG",
            "method": "update"
           },
           {
            "args": [
             {
              "visible": [
               false,
               false,
               false,
               false,
               true,
               false,
               false,
               false,
               false,
               false,
               false,
               false,
               false,
               false,
               false,
               false,
               false,
               false,
               false,
               false,
               false
              ]
             },
             {
              "title": "PU + 0.4% Expanded Graphite"
             }
            ],
            "label": "0.4% EG",
            "method": "update"
           },
           {
            "args": [
             {
              "visible": [
               false,
               false,
               false,
               false,
               false,
               true,
               false,
               false,
               false,
               false,
               false,
               false,
               false,
               false,
               false,
               false,
               false,
               false,
               false,
               false,
               false
              ]
             },
             {
              "title": "PU + 0.5% Expanded Graphite"
             }
            ],
            "label": "0.5% EG",
            "method": "update"
           },
           {
            "args": [
             {
              "visible": [
               false,
               false,
               false,
               false,
               false,
               false,
               true,
               false,
               false,
               false,
               false,
               false,
               false,
               false,
               false,
               false,
               false,
               false,
               false,
               false,
               false
              ]
             },
             {
              "title": "PU + 0.6% Expanded Graphite"
             }
            ],
            "label": "0.6% EG",
            "method": "update"
           },
           {
            "args": [
             {
              "visible": [
               false,
               false,
               false,
               false,
               false,
               false,
               false,
               true,
               false,
               false,
               false,
               false,
               false,
               false,
               false,
               false,
               false,
               false,
               false,
               false,
               false
              ]
             },
             {
              "title": "PU + 0.7% Expanded Graphite"
             }
            ],
            "label": "0.7% EG",
            "method": "update"
           },
           {
            "args": [
             {
              "visible": [
               false,
               false,
               false,
               false,
               false,
               false,
               false,
               false,
               true,
               false,
               false,
               false,
               false,
               false,
               false,
               false,
               false,
               false,
               false,
               false,
               false
              ]
             },
             {
              "title": "PU + 0.8% Expanded Graphite"
             }
            ],
            "label": "0.8% EG",
            "method": "update"
           },
           {
            "args": [
             {
              "visible": [
               false,
               false,
               false,
               false,
               false,
               false,
               false,
               false,
               false,
               true,
               false,
               false,
               false,
               false,
               false,
               false,
               false,
               false,
               false,
               false,
               false
              ]
             },
             {
              "title": "PU + 0.9% Expanded Graphite"
             }
            ],
            "label": "0.9% EG",
            "method": "update"
           },
           {
            "args": [
             {
              "visible": [
               false,
               false,
               false,
               false,
               false,
               false,
               false,
               false,
               false,
               false,
               true,
               false,
               false,
               false,
               false,
               false,
               false,
               false,
               false,
               false,
               false
              ]
             },
             {
              "title": "PU + 1.0% Expanded Graphite"
             }
            ],
            "label": "1.0% EG",
            "method": "update"
           },
           {
            "args": [
             {
              "visible": [
               false,
               false,
               false,
               false,
               false,
               false,
               false,
               false,
               false,
               false,
               false,
               true,
               false,
               false,
               false,
               false,
               false,
               false,
               false,
               false,
               false
              ]
             },
             {
              "title": "PU + 1.1% Expanded Graphite"
             }
            ],
            "label": "1.1% EG",
            "method": "update"
           },
           {
            "args": [
             {
              "visible": [
               false,
               false,
               false,
               false,
               false,
               false,
               false,
               false,
               false,
               false,
               false,
               false,
               true,
               false,
               false,
               false,
               false,
               false,
               false,
               false,
               false
              ]
             },
             {
              "title": "PU + 1.2% Expanded Graphite"
             }
            ],
            "label": "1.2% EG",
            "method": "update"
           },
           {
            "args": [
             {
              "visible": [
               false,
               false,
               false,
               false,
               false,
               false,
               false,
               false,
               false,
               false,
               false,
               false,
               false,
               true,
               false,
               false,
               false,
               false,
               false,
               false,
               false
              ]
             },
             {
              "title": "PU + 1.3% Expanded Graphite"
             }
            ],
            "label": "1.3% EG",
            "method": "update"
           },
           {
            "args": [
             {
              "visible": [
               false,
               false,
               false,
               false,
               false,
               false,
               false,
               false,
               false,
               false,
               false,
               false,
               false,
               false,
               true,
               false,
               false,
               false,
               false,
               false,
               false
              ]
             },
             {
              "title": "PU + 1.4% Expanded Graphite"
             }
            ],
            "label": "1.4% EG",
            "method": "update"
           },
           {
            "args": [
             {
              "visible": [
               false,
               false,
               false,
               false,
               false,
               false,
               false,
               false,
               false,
               false,
               false,
               false,
               false,
               false,
               false,
               true,
               false,
               false,
               false,
               false,
               false
              ]
             },
             {
              "title": "PU + 1.5% Expanded Graphite"
             }
            ],
            "label": "1.5% EG",
            "method": "update"
           },
           {
            "args": [
             {
              "visible": [
               false,
               false,
               false,
               false,
               false,
               false,
               false,
               false,
               false,
               false,
               false,
               false,
               false,
               false,
               false,
               false,
               true,
               false,
               false,
               false,
               false
              ]
             },
             {
              "title": "PU + 1.6% Expanded Graphite"
             }
            ],
            "label": "1.6% EG",
            "method": "update"
           },
           {
            "args": [
             {
              "visible": [
               false,
               false,
               false,
               false,
               false,
               false,
               false,
               false,
               false,
               false,
               false,
               false,
               false,
               false,
               false,
               false,
               false,
               true,
               false,
               false,
               false
              ]
             },
             {
              "title": "PU + 1.7% Expanded Graphite"
             }
            ],
            "label": "1.7% EG",
            "method": "update"
           },
           {
            "args": [
             {
              "visible": [
               false,
               false,
               false,
               false,
               false,
               false,
               false,
               false,
               false,
               false,
               false,
               false,
               false,
               false,
               false,
               false,
               false,
               false,
               true,
               false,
               false
              ]
             },
             {
              "title": "PU + 1.8% Expanded Graphite"
             }
            ],
            "label": "1.8% EG",
            "method": "update"
           },
           {
            "args": [
             {
              "visible": [
               false,
               false,
               false,
               false,
               false,
               false,
               false,
               false,
               false,
               false,
               false,
               false,
               false,
               false,
               false,
               false,
               false,
               false,
               false,
               true,
               false
              ]
             },
             {
              "title": "PU + 1.9% Expanded Graphite"
             }
            ],
            "label": "1.9% EG",
            "method": "update"
           },
           {
            "args": [
             {
              "visible": [
               false,
               false,
               false,
               false,
               false,
               false,
               false,
               false,
               false,
               false,
               false,
               false,
               false,
               false,
               false,
               false,
               false,
               false,
               false,
               false,
               true
              ]
             },
             {
              "title": "PU + 2.0% Expanded Graphite"
             }
            ],
            "label": "2.0% EG",
            "method": "update"
           }
          ]
         }
        ],
        "template": {
         "data": {
          "bar": [
           {
            "error_x": {
             "color": "#2a3f5f"
            },
            "error_y": {
             "color": "#2a3f5f"
            },
            "marker": {
             "line": {
              "color": "#E5ECF6",
              "width": 0.5
             }
            },
            "type": "bar"
           }
          ],
          "barpolar": [
           {
            "marker": {
             "line": {
              "color": "#E5ECF6",
              "width": 0.5
             }
            },
            "type": "barpolar"
           }
          ],
          "carpet": [
           {
            "aaxis": {
             "endlinecolor": "#2a3f5f",
             "gridcolor": "white",
             "linecolor": "white",
             "minorgridcolor": "white",
             "startlinecolor": "#2a3f5f"
            },
            "baxis": {
             "endlinecolor": "#2a3f5f",
             "gridcolor": "white",
             "linecolor": "white",
             "minorgridcolor": "white",
             "startlinecolor": "#2a3f5f"
            },
            "type": "carpet"
           }
          ],
          "choropleth": [
           {
            "colorbar": {
             "outlinewidth": 0,
             "ticks": ""
            },
            "type": "choropleth"
           }
          ],
          "contour": [
           {
            "colorbar": {
             "outlinewidth": 0,
             "ticks": ""
            },
            "colorscale": [
             [
              0,
              "#0d0887"
             ],
             [
              0.1111111111111111,
              "#46039f"
             ],
             [
              0.2222222222222222,
              "#7201a8"
             ],
             [
              0.3333333333333333,
              "#9c179e"
             ],
             [
              0.4444444444444444,
              "#bd3786"
             ],
             [
              0.5555555555555556,
              "#d8576b"
             ],
             [
              0.6666666666666666,
              "#ed7953"
             ],
             [
              0.7777777777777778,
              "#fb9f3a"
             ],
             [
              0.8888888888888888,
              "#fdca26"
             ],
             [
              1,
              "#f0f921"
             ]
            ],
            "type": "contour"
           }
          ],
          "contourcarpet": [
           {
            "colorbar": {
             "outlinewidth": 0,
             "ticks": ""
            },
            "type": "contourcarpet"
           }
          ],
          "heatmap": [
           {
            "colorbar": {
             "outlinewidth": 0,
             "ticks": ""
            },
            "colorscale": [
             [
              0,
              "#0d0887"
             ],
             [
              0.1111111111111111,
              "#46039f"
             ],
             [
              0.2222222222222222,
              "#7201a8"
             ],
             [
              0.3333333333333333,
              "#9c179e"
             ],
             [
              0.4444444444444444,
              "#bd3786"
             ],
             [
              0.5555555555555556,
              "#d8576b"
             ],
             [
              0.6666666666666666,
              "#ed7953"
             ],
             [
              0.7777777777777778,
              "#fb9f3a"
             ],
             [
              0.8888888888888888,
              "#fdca26"
             ],
             [
              1,
              "#f0f921"
             ]
            ],
            "type": "heatmap"
           }
          ],
          "heatmapgl": [
           {
            "colorbar": {
             "outlinewidth": 0,
             "ticks": ""
            },
            "colorscale": [
             [
              0,
              "#0d0887"
             ],
             [
              0.1111111111111111,
              "#46039f"
             ],
             [
              0.2222222222222222,
              "#7201a8"
             ],
             [
              0.3333333333333333,
              "#9c179e"
             ],
             [
              0.4444444444444444,
              "#bd3786"
             ],
             [
              0.5555555555555556,
              "#d8576b"
             ],
             [
              0.6666666666666666,
              "#ed7953"
             ],
             [
              0.7777777777777778,
              "#fb9f3a"
             ],
             [
              0.8888888888888888,
              "#fdca26"
             ],
             [
              1,
              "#f0f921"
             ]
            ],
            "type": "heatmapgl"
           }
          ],
          "histogram": [
           {
            "marker": {
             "colorbar": {
              "outlinewidth": 0,
              "ticks": ""
             }
            },
            "type": "histogram"
           }
          ],
          "histogram2d": [
           {
            "colorbar": {
             "outlinewidth": 0,
             "ticks": ""
            },
            "colorscale": [
             [
              0,
              "#0d0887"
             ],
             [
              0.1111111111111111,
              "#46039f"
             ],
             [
              0.2222222222222222,
              "#7201a8"
             ],
             [
              0.3333333333333333,
              "#9c179e"
             ],
             [
              0.4444444444444444,
              "#bd3786"
             ],
             [
              0.5555555555555556,
              "#d8576b"
             ],
             [
              0.6666666666666666,
              "#ed7953"
             ],
             [
              0.7777777777777778,
              "#fb9f3a"
             ],
             [
              0.8888888888888888,
              "#fdca26"
             ],
             [
              1,
              "#f0f921"
             ]
            ],
            "type": "histogram2d"
           }
          ],
          "histogram2dcontour": [
           {
            "colorbar": {
             "outlinewidth": 0,
             "ticks": ""
            },
            "colorscale": [
             [
              0,
              "#0d0887"
             ],
             [
              0.1111111111111111,
              "#46039f"
             ],
             [
              0.2222222222222222,
              "#7201a8"
             ],
             [
              0.3333333333333333,
              "#9c179e"
             ],
             [
              0.4444444444444444,
              "#bd3786"
             ],
             [
              0.5555555555555556,
              "#d8576b"
             ],
             [
              0.6666666666666666,
              "#ed7953"
             ],
             [
              0.7777777777777778,
              "#fb9f3a"
             ],
             [
              0.8888888888888888,
              "#fdca26"
             ],
             [
              1,
              "#f0f921"
             ]
            ],
            "type": "histogram2dcontour"
           }
          ],
          "mesh3d": [
           {
            "colorbar": {
             "outlinewidth": 0,
             "ticks": ""
            },
            "type": "mesh3d"
           }
          ],
          "parcoords": [
           {
            "line": {
             "colorbar": {
              "outlinewidth": 0,
              "ticks": ""
             }
            },
            "type": "parcoords"
           }
          ],
          "pie": [
           {
            "automargin": true,
            "type": "pie"
           }
          ],
          "scatter": [
           {
            "marker": {
             "colorbar": {
              "outlinewidth": 0,
              "ticks": ""
             }
            },
            "type": "scatter"
           }
          ],
          "scatter3d": [
           {
            "line": {
             "colorbar": {
              "outlinewidth": 0,
              "ticks": ""
             }
            },
            "marker": {
             "colorbar": {
              "outlinewidth": 0,
              "ticks": ""
             }
            },
            "type": "scatter3d"
           }
          ],
          "scattercarpet": [
           {
            "marker": {
             "colorbar": {
              "outlinewidth": 0,
              "ticks": ""
             }
            },
            "type": "scattercarpet"
           }
          ],
          "scattergeo": [
           {
            "marker": {
             "colorbar": {
              "outlinewidth": 0,
              "ticks": ""
             }
            },
            "type": "scattergeo"
           }
          ],
          "scattergl": [
           {
            "marker": {
             "colorbar": {
              "outlinewidth": 0,
              "ticks": ""
             }
            },
            "type": "scattergl"
           }
          ],
          "scattermapbox": [
           {
            "marker": {
             "colorbar": {
              "outlinewidth": 0,
              "ticks": ""
             }
            },
            "type": "scattermapbox"
           }
          ],
          "scatterpolar": [
           {
            "marker": {
             "colorbar": {
              "outlinewidth": 0,
              "ticks": ""
             }
            },
            "type": "scatterpolar"
           }
          ],
          "scatterpolargl": [
           {
            "marker": {
             "colorbar": {
              "outlinewidth": 0,
              "ticks": ""
             }
            },
            "type": "scatterpolargl"
           }
          ],
          "scatterternary": [
           {
            "marker": {
             "colorbar": {
              "outlinewidth": 0,
              "ticks": ""
             }
            },
            "type": "scatterternary"
           }
          ],
          "surface": [
           {
            "colorbar": {
             "outlinewidth": 0,
             "ticks": ""
            },
            "colorscale": [
             [
              0,
              "#0d0887"
             ],
             [
              0.1111111111111111,
              "#46039f"
             ],
             [
              0.2222222222222222,
              "#7201a8"
             ],
             [
              0.3333333333333333,
              "#9c179e"
             ],
             [
              0.4444444444444444,
              "#bd3786"
             ],
             [
              0.5555555555555556,
              "#d8576b"
             ],
             [
              0.6666666666666666,
              "#ed7953"
             ],
             [
              0.7777777777777778,
              "#fb9f3a"
             ],
             [
              0.8888888888888888,
              "#fdca26"
             ],
             [
              1,
              "#f0f921"
             ]
            ],
            "type": "surface"
           }
          ],
          "table": [
           {
            "cells": {
             "fill": {
              "color": "#EBF0F8"
             },
             "line": {
              "color": "white"
             }
            },
            "header": {
             "fill": {
              "color": "#C8D4E3"
             },
             "line": {
              "color": "white"
             }
            },
            "type": "table"
           }
          ]
         },
         "layout": {
          "annotationdefaults": {
           "arrowcolor": "#2a3f5f",
           "arrowhead": 0,
           "arrowwidth": 1
          },
          "coloraxis": {
           "colorbar": {
            "outlinewidth": 0,
            "ticks": ""
           }
          },
          "colorscale": {
           "diverging": [
            [
             0,
             "#8e0152"
            ],
            [
             0.1,
             "#c51b7d"
            ],
            [
             0.2,
             "#de77ae"
            ],
            [
             0.3,
             "#f1b6da"
            ],
            [
             0.4,
             "#fde0ef"
            ],
            [
             0.5,
             "#f7f7f7"
            ],
            [
             0.6,
             "#e6f5d0"
            ],
            [
             0.7,
             "#b8e186"
            ],
            [
             0.8,
             "#7fbc41"
            ],
            [
             0.9,
             "#4d9221"
            ],
            [
             1,
             "#276419"
            ]
           ],
           "sequential": [
            [
             0,
             "#0d0887"
            ],
            [
             0.1111111111111111,
             "#46039f"
            ],
            [
             0.2222222222222222,
             "#7201a8"
            ],
            [
             0.3333333333333333,
             "#9c179e"
            ],
            [
             0.4444444444444444,
             "#bd3786"
            ],
            [
             0.5555555555555556,
             "#d8576b"
            ],
            [
             0.6666666666666666,
             "#ed7953"
            ],
            [
             0.7777777777777778,
             "#fb9f3a"
            ],
            [
             0.8888888888888888,
             "#fdca26"
            ],
            [
             1,
             "#f0f921"
            ]
           ],
           "sequentialminus": [
            [
             0,
             "#0d0887"
            ],
            [
             0.1111111111111111,
             "#46039f"
            ],
            [
             0.2222222222222222,
             "#7201a8"
            ],
            [
             0.3333333333333333,
             "#9c179e"
            ],
            [
             0.4444444444444444,
             "#bd3786"
            ],
            [
             0.5555555555555556,
             "#d8576b"
            ],
            [
             0.6666666666666666,
             "#ed7953"
            ],
            [
             0.7777777777777778,
             "#fb9f3a"
            ],
            [
             0.8888888888888888,
             "#fdca26"
            ],
            [
             1,
             "#f0f921"
            ]
           ]
          },
          "colorway": [
           "#636efa",
           "#EF553B",
           "#00cc96",
           "#ab63fa",
           "#FFA15A",
           "#19d3f3",
           "#FF6692",
           "#B6E880",
           "#FF97FF",
           "#FECB52"
          ],
          "font": {
           "color": "#2a3f5f"
          },
          "geo": {
           "bgcolor": "white",
           "lakecolor": "white",
           "landcolor": "#E5ECF6",
           "showlakes": true,
           "showland": true,
           "subunitcolor": "white"
          },
          "hoverlabel": {
           "align": "left"
          },
          "hovermode": "closest",
          "mapbox": {
           "style": "light"
          },
          "paper_bgcolor": "white",
          "plot_bgcolor": "#E5ECF6",
          "polar": {
           "angularaxis": {
            "gridcolor": "white",
            "linecolor": "white",
            "ticks": ""
           },
           "bgcolor": "#E5ECF6",
           "radialaxis": {
            "gridcolor": "white",
            "linecolor": "white",
            "ticks": ""
           }
          },
          "scene": {
           "xaxis": {
            "backgroundcolor": "#E5ECF6",
            "gridcolor": "white",
            "gridwidth": 2,
            "linecolor": "white",
            "showbackground": true,
            "ticks": "",
            "zerolinecolor": "white"
           },
           "yaxis": {
            "backgroundcolor": "#E5ECF6",
            "gridcolor": "white",
            "gridwidth": 2,
            "linecolor": "white",
            "showbackground": true,
            "ticks": "",
            "zerolinecolor": "white"
           },
           "zaxis": {
            "backgroundcolor": "#E5ECF6",
            "gridcolor": "white",
            "gridwidth": 2,
            "linecolor": "white",
            "showbackground": true,
            "ticks": "",
            "zerolinecolor": "white"
           }
          },
          "shapedefaults": {
           "line": {
            "color": "#2a3f5f"
           }
          },
          "ternary": {
           "aaxis": {
            "gridcolor": "white",
            "linecolor": "white",
            "ticks": ""
           },
           "baxis": {
            "gridcolor": "white",
            "linecolor": "white",
            "ticks": ""
           },
           "bgcolor": "#E5ECF6",
           "caxis": {
            "gridcolor": "white",
            "linecolor": "white",
            "ticks": ""
           }
          },
          "title": {
           "x": 0.05
          },
          "xaxis": {
           "automargin": true,
           "gridcolor": "white",
           "linecolor": "white",
           "ticks": "",
           "title": {
            "standoff": 15
           },
           "zerolinecolor": "white",
           "zerolinewidth": 2
          },
          "yaxis": {
           "automargin": true,
           "gridcolor": "white",
           "linecolor": "white",
           "ticks": "",
           "title": {
            "standoff": 15
           },
           "zerolinecolor": "white",
           "zerolinewidth": 2
          }
         }
        },
        "title": {
         "text": "PU + 1.0% Expanded Graphite"
        }
       }
      },
      "text/html": [
       "<div>\n",
       "        \n",
       "        \n",
       "            <div id=\"f9b64671-e2a7-465d-b330-8699f5fa2c64\" class=\"plotly-graph-div\" style=\"height:525px; width:100%;\"></div>\n",
       "            <script type=\"text/javascript\">\n",
       "                require([\"plotly\"], function(Plotly) {\n",
       "                    window.PLOTLYENV=window.PLOTLYENV || {};\n",
       "                    \n",
       "                if (document.getElementById(\"f9b64671-e2a7-465d-b330-8699f5fa2c64\")) {\n",
       "                    Plotly.newPlot(\n",
       "                        'f9b64671-e2a7-465d-b330-8699f5fa2c64',\n",
       "                        [{\"coloraxis\": \"coloraxis\", \"colorbar\": {\"thickness\": 5}, \"name\": \"PU+0.0%EG\", \"opacity\": 0.6, \"type\": \"surface\", \"visible\": false, \"x\": [[2.5, 3.1666666666666665, 3.833333333333333, 4.5, 5.166666666666666, 5.833333333333333, 6.5, 7.166666666666666, 7.833333333333333, 8.5], [2.5, 3.1666666666666665, 3.833333333333333, 4.5, 5.166666666666666, 5.833333333333333, 6.5, 7.166666666666666, 7.833333333333333, 8.5], [2.5, 3.1666666666666665, 3.833333333333333, 4.5, 5.166666666666666, 5.833333333333333, 6.5, 7.166666666666666, 7.833333333333333, 8.5], [2.5, 3.1666666666666665, 3.833333333333333, 4.5, 5.166666666666666, 5.833333333333333, 6.5, 7.166666666666666, 7.833333333333333, 8.5], [2.5, 3.1666666666666665, 3.833333333333333, 4.5, 5.166666666666666, 5.833333333333333, 6.5, 7.166666666666666, 7.833333333333333, 8.5], [2.5, 3.1666666666666665, 3.833333333333333, 4.5, 5.166666666666666, 5.833333333333333, 6.5, 7.166666666666666, 7.833333333333333, 8.5], [2.5, 3.1666666666666665, 3.833333333333333, 4.5, 5.166666666666666, 5.833333333333333, 6.5, 7.166666666666666, 7.833333333333333, 8.5], [2.5, 3.1666666666666665, 3.833333333333333, 4.5, 5.166666666666666, 5.833333333333333, 6.5, 7.166666666666666, 7.833333333333333, 8.5], [2.5, 3.1666666666666665, 3.833333333333333, 4.5, 5.166666666666666, 5.833333333333333, 6.5, 7.166666666666666, 7.833333333333333, 8.5], [2.5, 3.1666666666666665, 3.833333333333333, 4.5, 5.166666666666666, 5.833333333333333, 6.5, 7.166666666666666, 7.833333333333333, 8.5]], \"y\": [[2.0, 2.0, 2.0, 2.0, 2.0, 2.0, 2.0, 2.0, 2.0, 2.0], [2.2222222222222223, 2.2222222222222223, 2.2222222222222223, 2.2222222222222223, 2.2222222222222223, 2.2222222222222223, 2.2222222222222223, 2.2222222222222223, 2.2222222222222223, 2.2222222222222223], [2.4444444444444446, 2.4444444444444446, 2.4444444444444446, 2.4444444444444446, 2.4444444444444446, 2.4444444444444446, 2.4444444444444446, 2.4444444444444446, 2.4444444444444446, 2.4444444444444446], [2.6666666666666665, 2.6666666666666665, 2.6666666666666665, 2.6666666666666665, 2.6666666666666665, 2.6666666666666665, 2.6666666666666665, 2.6666666666666665, 2.6666666666666665, 2.6666666666666665], [2.888888888888889, 2.888888888888889, 2.888888888888889, 2.888888888888889, 2.888888888888889, 2.888888888888889, 2.888888888888889, 2.888888888888889, 2.888888888888889, 2.888888888888889], [3.111111111111111, 3.111111111111111, 3.111111111111111, 3.111111111111111, 3.111111111111111, 3.111111111111111, 3.111111111111111, 3.111111111111111, 3.111111111111111, 3.111111111111111], [3.333333333333333, 3.333333333333333, 3.333333333333333, 3.333333333333333, 3.333333333333333, 3.333333333333333, 3.333333333333333, 3.333333333333333, 3.333333333333333, 3.333333333333333], [3.5555555555555554, 3.5555555555555554, 3.5555555555555554, 3.5555555555555554, 3.5555555555555554, 3.5555555555555554, 3.5555555555555554, 3.5555555555555554, 3.5555555555555554, 3.5555555555555554], [3.7777777777777777, 3.7777777777777777, 3.7777777777777777, 3.7777777777777777, 3.7777777777777777, 3.7777777777777777, 3.7777777777777777, 3.7777777777777777, 3.7777777777777777, 3.7777777777777777], [4.0, 4.0, 4.0, 4.0, 4.0, 4.0, 4.0, 4.0, 4.0, 4.0]], \"z\": [[243.66859109060087, 263.6899736938716, 283.7113562971423, 303.73273890041304, 323.75412150368373, 343.7755041069545, 363.7968867102252, 383.8182693134959, 403.8396519167666, 423.8610345200374], [243.66859109060087, 263.6899736938716, 283.7113562971423, 303.73273890041304, 323.75412150368373, 343.7755041069545, 363.7968867102252, 383.8182693134959, 403.8396519167666, 423.8610345200374], [243.66859109060087, 263.6899736938716, 283.7113562971423, 303.73273890041304, 323.75412150368373, 343.7755041069545, 363.7968867102252, 383.8182693134959, 403.8396519167666, 423.8610345200374], [243.66859109060087, 263.6899736938716, 283.7113562971423, 303.73273890041304, 323.75412150368373, 343.7755041069545, 363.7968867102252, 383.8182693134959, 403.8396519167666, 423.8610345200374], [243.66859109060087, 263.6899736938716, 283.7113562971423, 303.73273890041304, 323.75412150368373, 343.7755041069545, 363.7968867102252, 383.8182693134959, 403.8396519167666, 423.8610345200374], [243.66859109060087, 263.6899736938716, 283.7113562971423, 303.73273890041304, 323.75412150368373, 343.7755041069545, 363.7968867102252, 383.8182693134959, 403.8396519167666, 423.8610345200374], [243.66859109060087, 263.6899736938716, 283.7113562971423, 303.73273890041304, 323.75412150368373, 343.7755041069545, 363.7968867102252, 383.8182693134959, 403.8396519167666, 423.8610345200374], [243.66859109060087, 263.6899736938716, 283.7113562971423, 303.73273890041304, 323.75412150368373, 343.7755041069545, 363.7968867102252, 383.8182693134959, 403.8396519167666, 423.8610345200374], [243.66859109060087, 263.6899736938716, 283.7113562971423, 303.73273890041304, 323.75412150368373, 343.7755041069545, 363.7968867102252, 383.8182693134959, 403.8396519167666, 423.8610345200374], [243.66859109060087, 263.6899736938716, 283.7113562971423, 303.73273890041304, 323.75412150368373, 343.7755041069545, 363.7968867102252, 383.8182693134959, 403.8396519167666, 423.8610345200374]]}, {\"coloraxis\": \"coloraxis\", \"colorbar\": {\"thickness\": 5}, \"name\": \"PU+0.1%EG\", \"opacity\": 0.6, \"type\": \"surface\", \"visible\": false, \"x\": [[2.5, 3.1666666666666665, 3.833333333333333, 4.5, 5.166666666666666, 5.833333333333333, 6.5, 7.166666666666666, 7.833333333333333, 8.5], [2.5, 3.1666666666666665, 3.833333333333333, 4.5, 5.166666666666666, 5.833333333333333, 6.5, 7.166666666666666, 7.833333333333333, 8.5], [2.5, 3.1666666666666665, 3.833333333333333, 4.5, 5.166666666666666, 5.833333333333333, 6.5, 7.166666666666666, 7.833333333333333, 8.5], [2.5, 3.1666666666666665, 3.833333333333333, 4.5, 5.166666666666666, 5.833333333333333, 6.5, 7.166666666666666, 7.833333333333333, 8.5], [2.5, 3.1666666666666665, 3.833333333333333, 4.5, 5.166666666666666, 5.833333333333333, 6.5, 7.166666666666666, 7.833333333333333, 8.5], [2.5, 3.1666666666666665, 3.833333333333333, 4.5, 5.166666666666666, 5.833333333333333, 6.5, 7.166666666666666, 7.833333333333333, 8.5], [2.5, 3.1666666666666665, 3.833333333333333, 4.5, 5.166666666666666, 5.833333333333333, 6.5, 7.166666666666666, 7.833333333333333, 8.5], [2.5, 3.1666666666666665, 3.833333333333333, 4.5, 5.166666666666666, 5.833333333333333, 6.5, 7.166666666666666, 7.833333333333333, 8.5], [2.5, 3.1666666666666665, 3.833333333333333, 4.5, 5.166666666666666, 5.833333333333333, 6.5, 7.166666666666666, 7.833333333333333, 8.5], [2.5, 3.1666666666666665, 3.833333333333333, 4.5, 5.166666666666666, 5.833333333333333, 6.5, 7.166666666666666, 7.833333333333333, 8.5]], \"y\": [[2.0, 2.0, 2.0, 2.0, 2.0, 2.0, 2.0, 2.0, 2.0, 2.0], [2.2222222222222223, 2.2222222222222223, 2.2222222222222223, 2.2222222222222223, 2.2222222222222223, 2.2222222222222223, 2.2222222222222223, 2.2222222222222223, 2.2222222222222223, 2.2222222222222223], [2.4444444444444446, 2.4444444444444446, 2.4444444444444446, 2.4444444444444446, 2.4444444444444446, 2.4444444444444446, 2.4444444444444446, 2.4444444444444446, 2.4444444444444446, 2.4444444444444446], [2.6666666666666665, 2.6666666666666665, 2.6666666666666665, 2.6666666666666665, 2.6666666666666665, 2.6666666666666665, 2.6666666666666665, 2.6666666666666665, 2.6666666666666665, 2.6666666666666665], [2.888888888888889, 2.888888888888889, 2.888888888888889, 2.888888888888889, 2.888888888888889, 2.888888888888889, 2.888888888888889, 2.888888888888889, 2.888888888888889, 2.888888888888889], [3.111111111111111, 3.111111111111111, 3.111111111111111, 3.111111111111111, 3.111111111111111, 3.111111111111111, 3.111111111111111, 3.111111111111111, 3.111111111111111, 3.111111111111111], [3.333333333333333, 3.333333333333333, 3.333333333333333, 3.333333333333333, 3.333333333333333, 3.333333333333333, 3.333333333333333, 3.333333333333333, 3.333333333333333, 3.333333333333333], [3.5555555555555554, 3.5555555555555554, 3.5555555555555554, 3.5555555555555554, 3.5555555555555554, 3.5555555555555554, 3.5555555555555554, 3.5555555555555554, 3.5555555555555554, 3.5555555555555554], [3.7777777777777777, 3.7777777777777777, 3.7777777777777777, 3.7777777777777777, 3.7777777777777777, 3.7777777777777777, 3.7777777777777777, 3.7777777777777777, 3.7777777777777777, 3.7777777777777777], [4.0, 4.0, 4.0, 4.0, 4.0, 4.0, 4.0, 4.0, 4.0, 4.0]], \"z\": [[246.23653960221003, 266.2579222054807, 286.2793048087514, 306.30068741202217, 326.32207001529287, 346.3434526185636, 366.3648352218343, 386.386217825105, 406.40760042837576, 426.4289830316465], [246.23653960221003, 266.2579222054807, 286.2793048087514, 306.30068741202217, 326.32207001529287, 346.3434526185636, 366.3648352218343, 386.386217825105, 406.40760042837576, 426.4289830316465], [246.23653960221003, 266.2579222054807, 286.2793048087514, 306.30068741202217, 326.32207001529287, 346.3434526185636, 366.3648352218343, 386.386217825105, 406.40760042837576, 426.4289830316465], [246.23653960221003, 266.2579222054807, 286.2793048087514, 306.30068741202217, 326.32207001529287, 346.3434526185636, 366.3648352218343, 386.386217825105, 406.40760042837576, 426.4289830316465], [246.23653960221003, 266.2579222054807, 286.2793048087514, 306.30068741202217, 326.32207001529287, 346.3434526185636, 366.3648352218343, 386.386217825105, 406.40760042837576, 426.4289830316465], [246.23653960221003, 266.2579222054807, 286.2793048087514, 306.30068741202217, 326.32207001529287, 346.3434526185636, 366.3648352218343, 386.386217825105, 406.40760042837576, 426.4289830316465], [246.23653960221003, 266.2579222054807, 286.2793048087514, 306.30068741202217, 326.32207001529287, 346.3434526185636, 366.3648352218343, 386.386217825105, 406.40760042837576, 426.4289830316465], [246.23653960221003, 266.2579222054807, 286.2793048087514, 306.30068741202217, 326.32207001529287, 346.3434526185636, 366.3648352218343, 386.386217825105, 406.40760042837576, 426.4289830316465], [246.23653960221003, 266.2579222054807, 286.2793048087514, 306.30068741202217, 326.32207001529287, 346.3434526185636, 366.3648352218343, 386.386217825105, 406.40760042837576, 426.4289830316465], [246.23653960221003, 266.2579222054807, 286.2793048087514, 306.30068741202217, 326.32207001529287, 346.3434526185636, 366.3648352218343, 386.386217825105, 406.40760042837576, 426.4289830316465]]}, {\"coloraxis\": \"coloraxis\", \"colorbar\": {\"thickness\": 5}, \"name\": \"PU+0.2%EG\", \"opacity\": 0.6, \"type\": \"surface\", \"visible\": false, \"x\": [[2.5, 3.1666666666666665, 3.833333333333333, 4.5, 5.166666666666666, 5.833333333333333, 6.5, 7.166666666666666, 7.833333333333333, 8.5], [2.5, 3.1666666666666665, 3.833333333333333, 4.5, 5.166666666666666, 5.833333333333333, 6.5, 7.166666666666666, 7.833333333333333, 8.5], [2.5, 3.1666666666666665, 3.833333333333333, 4.5, 5.166666666666666, 5.833333333333333, 6.5, 7.166666666666666, 7.833333333333333, 8.5], [2.5, 3.1666666666666665, 3.833333333333333, 4.5, 5.166666666666666, 5.833333333333333, 6.5, 7.166666666666666, 7.833333333333333, 8.5], [2.5, 3.1666666666666665, 3.833333333333333, 4.5, 5.166666666666666, 5.833333333333333, 6.5, 7.166666666666666, 7.833333333333333, 8.5], [2.5, 3.1666666666666665, 3.833333333333333, 4.5, 5.166666666666666, 5.833333333333333, 6.5, 7.166666666666666, 7.833333333333333, 8.5], [2.5, 3.1666666666666665, 3.833333333333333, 4.5, 5.166666666666666, 5.833333333333333, 6.5, 7.166666666666666, 7.833333333333333, 8.5], [2.5, 3.1666666666666665, 3.833333333333333, 4.5, 5.166666666666666, 5.833333333333333, 6.5, 7.166666666666666, 7.833333333333333, 8.5], [2.5, 3.1666666666666665, 3.833333333333333, 4.5, 5.166666666666666, 5.833333333333333, 6.5, 7.166666666666666, 7.833333333333333, 8.5], [2.5, 3.1666666666666665, 3.833333333333333, 4.5, 5.166666666666666, 5.833333333333333, 6.5, 7.166666666666666, 7.833333333333333, 8.5]], \"y\": [[2.0, 2.0, 2.0, 2.0, 2.0, 2.0, 2.0, 2.0, 2.0, 2.0], [2.2222222222222223, 2.2222222222222223, 2.2222222222222223, 2.2222222222222223, 2.2222222222222223, 2.2222222222222223, 2.2222222222222223, 2.2222222222222223, 2.2222222222222223, 2.2222222222222223], [2.4444444444444446, 2.4444444444444446, 2.4444444444444446, 2.4444444444444446, 2.4444444444444446, 2.4444444444444446, 2.4444444444444446, 2.4444444444444446, 2.4444444444444446, 2.4444444444444446], [2.6666666666666665, 2.6666666666666665, 2.6666666666666665, 2.6666666666666665, 2.6666666666666665, 2.6666666666666665, 2.6666666666666665, 2.6666666666666665, 2.6666666666666665, 2.6666666666666665], [2.888888888888889, 2.888888888888889, 2.888888888888889, 2.888888888888889, 2.888888888888889, 2.888888888888889, 2.888888888888889, 2.888888888888889, 2.888888888888889, 2.888888888888889], [3.111111111111111, 3.111111111111111, 3.111111111111111, 3.111111111111111, 3.111111111111111, 3.111111111111111, 3.111111111111111, 3.111111111111111, 3.111111111111111, 3.111111111111111], [3.333333333333333, 3.333333333333333, 3.333333333333333, 3.333333333333333, 3.333333333333333, 3.333333333333333, 3.333333333333333, 3.333333333333333, 3.333333333333333, 3.333333333333333], [3.5555555555555554, 3.5555555555555554, 3.5555555555555554, 3.5555555555555554, 3.5555555555555554, 3.5555555555555554, 3.5555555555555554, 3.5555555555555554, 3.5555555555555554, 3.5555555555555554], [3.7777777777777777, 3.7777777777777777, 3.7777777777777777, 3.7777777777777777, 3.7777777777777777, 3.7777777777777777, 3.7777777777777777, 3.7777777777777777, 3.7777777777777777, 3.7777777777777777], [4.0, 4.0, 4.0, 4.0, 4.0, 4.0, 4.0, 4.0, 4.0, 4.0]], \"z\": [[248.8044881138192, 268.8258707170899, 288.8472533203606, 308.86863592363136, 328.89001852690205, 348.9114011301728, 368.9327837334435, 388.9541663367142, 408.97554893998495, 428.9969315432557], [248.8044881138192, 268.8258707170899, 288.8472533203606, 308.86863592363136, 328.89001852690205, 348.9114011301728, 368.9327837334435, 388.9541663367142, 408.97554893998495, 428.9969315432557], [248.8044881138192, 268.8258707170899, 288.8472533203606, 308.86863592363136, 328.89001852690205, 348.9114011301728, 368.9327837334435, 388.9541663367142, 408.97554893998495, 428.9969315432557], [248.8044881138192, 268.8258707170899, 288.8472533203606, 308.86863592363136, 328.89001852690205, 348.9114011301728, 368.9327837334435, 388.9541663367142, 408.97554893998495, 428.9969315432557], [248.8044881138192, 268.8258707170899, 288.8472533203606, 308.86863592363136, 328.89001852690205, 348.9114011301728, 368.9327837334435, 388.9541663367142, 408.97554893998495, 428.9969315432557], [248.8044881138192, 268.8258707170899, 288.8472533203606, 308.86863592363136, 328.89001852690205, 348.9114011301728, 368.9327837334435, 388.9541663367142, 408.97554893998495, 428.9969315432557], [248.8044881138192, 268.8258707170899, 288.8472533203606, 308.86863592363136, 328.89001852690205, 348.9114011301728, 368.9327837334435, 388.9541663367142, 408.97554893998495, 428.9969315432557], [248.8044881138192, 268.8258707170899, 288.8472533203606, 308.86863592363136, 328.89001852690205, 348.9114011301728, 368.9327837334435, 388.9541663367142, 408.97554893998495, 428.9969315432557], [248.8044881138192, 268.8258707170899, 288.8472533203606, 308.86863592363136, 328.89001852690205, 348.9114011301728, 368.9327837334435, 388.9541663367142, 408.97554893998495, 428.9969315432557], [248.8044881138192, 268.8258707170899, 288.8472533203606, 308.86863592363136, 328.89001852690205, 348.9114011301728, 368.9327837334435, 388.9541663367142, 408.97554893998495, 428.9969315432557]]}, {\"coloraxis\": \"coloraxis\", \"colorbar\": {\"thickness\": 5}, \"name\": \"PU+0.3%EG\", \"opacity\": 0.6, \"type\": \"surface\", \"visible\": false, \"x\": [[2.5, 3.1666666666666665, 3.833333333333333, 4.5, 5.166666666666666, 5.833333333333333, 6.5, 7.166666666666666, 7.833333333333333, 8.5], [2.5, 3.1666666666666665, 3.833333333333333, 4.5, 5.166666666666666, 5.833333333333333, 6.5, 7.166666666666666, 7.833333333333333, 8.5], [2.5, 3.1666666666666665, 3.833333333333333, 4.5, 5.166666666666666, 5.833333333333333, 6.5, 7.166666666666666, 7.833333333333333, 8.5], [2.5, 3.1666666666666665, 3.833333333333333, 4.5, 5.166666666666666, 5.833333333333333, 6.5, 7.166666666666666, 7.833333333333333, 8.5], [2.5, 3.1666666666666665, 3.833333333333333, 4.5, 5.166666666666666, 5.833333333333333, 6.5, 7.166666666666666, 7.833333333333333, 8.5], [2.5, 3.1666666666666665, 3.833333333333333, 4.5, 5.166666666666666, 5.833333333333333, 6.5, 7.166666666666666, 7.833333333333333, 8.5], [2.5, 3.1666666666666665, 3.833333333333333, 4.5, 5.166666666666666, 5.833333333333333, 6.5, 7.166666666666666, 7.833333333333333, 8.5], [2.5, 3.1666666666666665, 3.833333333333333, 4.5, 5.166666666666666, 5.833333333333333, 6.5, 7.166666666666666, 7.833333333333333, 8.5], [2.5, 3.1666666666666665, 3.833333333333333, 4.5, 5.166666666666666, 5.833333333333333, 6.5, 7.166666666666666, 7.833333333333333, 8.5], [2.5, 3.1666666666666665, 3.833333333333333, 4.5, 5.166666666666666, 5.833333333333333, 6.5, 7.166666666666666, 7.833333333333333, 8.5]], \"y\": [[2.0, 2.0, 2.0, 2.0, 2.0, 2.0, 2.0, 2.0, 2.0, 2.0], [2.2222222222222223, 2.2222222222222223, 2.2222222222222223, 2.2222222222222223, 2.2222222222222223, 2.2222222222222223, 2.2222222222222223, 2.2222222222222223, 2.2222222222222223, 2.2222222222222223], [2.4444444444444446, 2.4444444444444446, 2.4444444444444446, 2.4444444444444446, 2.4444444444444446, 2.4444444444444446, 2.4444444444444446, 2.4444444444444446, 2.4444444444444446, 2.4444444444444446], [2.6666666666666665, 2.6666666666666665, 2.6666666666666665, 2.6666666666666665, 2.6666666666666665, 2.6666666666666665, 2.6666666666666665, 2.6666666666666665, 2.6666666666666665, 2.6666666666666665], [2.888888888888889, 2.888888888888889, 2.888888888888889, 2.888888888888889, 2.888888888888889, 2.888888888888889, 2.888888888888889, 2.888888888888889, 2.888888888888889, 2.888888888888889], [3.111111111111111, 3.111111111111111, 3.111111111111111, 3.111111111111111, 3.111111111111111, 3.111111111111111, 3.111111111111111, 3.111111111111111, 3.111111111111111, 3.111111111111111], [3.333333333333333, 3.333333333333333, 3.333333333333333, 3.333333333333333, 3.333333333333333, 3.333333333333333, 3.333333333333333, 3.333333333333333, 3.333333333333333, 3.333333333333333], [3.5555555555555554, 3.5555555555555554, 3.5555555555555554, 3.5555555555555554, 3.5555555555555554, 3.5555555555555554, 3.5555555555555554, 3.5555555555555554, 3.5555555555555554, 3.5555555555555554], [3.7777777777777777, 3.7777777777777777, 3.7777777777777777, 3.7777777777777777, 3.7777777777777777, 3.7777777777777777, 3.7777777777777777, 3.7777777777777777, 3.7777777777777777, 3.7777777777777777], [4.0, 4.0, 4.0, 4.0, 4.0, 4.0, 4.0, 4.0, 4.0, 4.0]], \"z\": [[251.37243662542835, 271.39381922869904, 291.41520183196974, 311.4365844352405, 331.4579670385112, 351.47934964178194, 371.50073224505263, 391.5221148483233, 411.5434974515941, 431.56488005486483], [251.37243662542835, 271.39381922869904, 291.41520183196974, 311.4365844352405, 331.4579670385112, 351.47934964178194, 371.50073224505263, 391.5221148483233, 411.5434974515941, 431.56488005486483], [251.37243662542835, 271.39381922869904, 291.41520183196974, 311.4365844352405, 331.4579670385112, 351.47934964178194, 371.50073224505263, 391.5221148483233, 411.5434974515941, 431.56488005486483], [251.37243662542835, 271.39381922869904, 291.41520183196974, 311.4365844352405, 331.4579670385112, 351.47934964178194, 371.50073224505263, 391.5221148483233, 411.5434974515941, 431.56488005486483], [251.37243662542835, 271.39381922869904, 291.41520183196974, 311.4365844352405, 331.4579670385112, 351.47934964178194, 371.50073224505263, 391.5221148483233, 411.5434974515941, 431.56488005486483], [251.37243662542835, 271.39381922869904, 291.41520183196974, 311.4365844352405, 331.4579670385112, 351.47934964178194, 371.50073224505263, 391.5221148483233, 411.5434974515941, 431.56488005486483], [251.37243662542835, 271.39381922869904, 291.41520183196974, 311.4365844352405, 331.4579670385112, 351.47934964178194, 371.50073224505263, 391.5221148483233, 411.5434974515941, 431.56488005486483], [251.37243662542835, 271.39381922869904, 291.41520183196974, 311.4365844352405, 331.4579670385112, 351.47934964178194, 371.50073224505263, 391.5221148483233, 411.5434974515941, 431.56488005486483], [251.37243662542835, 271.39381922869904, 291.41520183196974, 311.4365844352405, 331.4579670385112, 351.47934964178194, 371.50073224505263, 391.5221148483233, 411.5434974515941, 431.56488005486483], [251.37243662542835, 271.39381922869904, 291.41520183196974, 311.4365844352405, 331.4579670385112, 351.47934964178194, 371.50073224505263, 391.5221148483233, 411.5434974515941, 431.56488005486483]]}, {\"coloraxis\": \"coloraxis\", \"colorbar\": {\"thickness\": 5}, \"name\": \"PU+0.4%EG\", \"opacity\": 0.6, \"type\": \"surface\", \"visible\": false, \"x\": [[2.5, 3.1666666666666665, 3.833333333333333, 4.5, 5.166666666666666, 5.833333333333333, 6.5, 7.166666666666666, 7.833333333333333, 8.5], [2.5, 3.1666666666666665, 3.833333333333333, 4.5, 5.166666666666666, 5.833333333333333, 6.5, 7.166666666666666, 7.833333333333333, 8.5], [2.5, 3.1666666666666665, 3.833333333333333, 4.5, 5.166666666666666, 5.833333333333333, 6.5, 7.166666666666666, 7.833333333333333, 8.5], [2.5, 3.1666666666666665, 3.833333333333333, 4.5, 5.166666666666666, 5.833333333333333, 6.5, 7.166666666666666, 7.833333333333333, 8.5], [2.5, 3.1666666666666665, 3.833333333333333, 4.5, 5.166666666666666, 5.833333333333333, 6.5, 7.166666666666666, 7.833333333333333, 8.5], [2.5, 3.1666666666666665, 3.833333333333333, 4.5, 5.166666666666666, 5.833333333333333, 6.5, 7.166666666666666, 7.833333333333333, 8.5], [2.5, 3.1666666666666665, 3.833333333333333, 4.5, 5.166666666666666, 5.833333333333333, 6.5, 7.166666666666666, 7.833333333333333, 8.5], [2.5, 3.1666666666666665, 3.833333333333333, 4.5, 5.166666666666666, 5.833333333333333, 6.5, 7.166666666666666, 7.833333333333333, 8.5], [2.5, 3.1666666666666665, 3.833333333333333, 4.5, 5.166666666666666, 5.833333333333333, 6.5, 7.166666666666666, 7.833333333333333, 8.5], [2.5, 3.1666666666666665, 3.833333333333333, 4.5, 5.166666666666666, 5.833333333333333, 6.5, 7.166666666666666, 7.833333333333333, 8.5]], \"y\": [[2.0, 2.0, 2.0, 2.0, 2.0, 2.0, 2.0, 2.0, 2.0, 2.0], [2.2222222222222223, 2.2222222222222223, 2.2222222222222223, 2.2222222222222223, 2.2222222222222223, 2.2222222222222223, 2.2222222222222223, 2.2222222222222223, 2.2222222222222223, 2.2222222222222223], [2.4444444444444446, 2.4444444444444446, 2.4444444444444446, 2.4444444444444446, 2.4444444444444446, 2.4444444444444446, 2.4444444444444446, 2.4444444444444446, 2.4444444444444446, 2.4444444444444446], [2.6666666666666665, 2.6666666666666665, 2.6666666666666665, 2.6666666666666665, 2.6666666666666665, 2.6666666666666665, 2.6666666666666665, 2.6666666666666665, 2.6666666666666665, 2.6666666666666665], [2.888888888888889, 2.888888888888889, 2.888888888888889, 2.888888888888889, 2.888888888888889, 2.888888888888889, 2.888888888888889, 2.888888888888889, 2.888888888888889, 2.888888888888889], [3.111111111111111, 3.111111111111111, 3.111111111111111, 3.111111111111111, 3.111111111111111, 3.111111111111111, 3.111111111111111, 3.111111111111111, 3.111111111111111, 3.111111111111111], [3.333333333333333, 3.333333333333333, 3.333333333333333, 3.333333333333333, 3.333333333333333, 3.333333333333333, 3.333333333333333, 3.333333333333333, 3.333333333333333, 3.333333333333333], [3.5555555555555554, 3.5555555555555554, 3.5555555555555554, 3.5555555555555554, 3.5555555555555554, 3.5555555555555554, 3.5555555555555554, 3.5555555555555554, 3.5555555555555554, 3.5555555555555554], [3.7777777777777777, 3.7777777777777777, 3.7777777777777777, 3.7777777777777777, 3.7777777777777777, 3.7777777777777777, 3.7777777777777777, 3.7777777777777777, 3.7777777777777777, 3.7777777777777777], [4.0, 4.0, 4.0, 4.0, 4.0, 4.0, 4.0, 4.0, 4.0, 4.0]], \"z\": [[253.94038513703748, 273.96176774030823, 293.9831503435789, 314.0045329468497, 334.0259155501204, 354.0472981533911, 374.0686807566618, 394.0900633599325, 414.11144596320327, 434.132828566474], [253.94038513703748, 273.96176774030823, 293.9831503435789, 314.0045329468497, 334.0259155501204, 354.0472981533911, 374.0686807566618, 394.0900633599325, 414.11144596320327, 434.132828566474], [253.94038513703748, 273.96176774030823, 293.9831503435789, 314.0045329468497, 334.0259155501204, 354.0472981533911, 374.0686807566618, 394.0900633599325, 414.11144596320327, 434.132828566474], [253.94038513703748, 273.96176774030823, 293.9831503435789, 314.0045329468497, 334.0259155501204, 354.0472981533911, 374.0686807566618, 394.0900633599325, 414.11144596320327, 434.132828566474], [253.94038513703748, 273.96176774030823, 293.9831503435789, 314.0045329468497, 334.0259155501204, 354.0472981533911, 374.0686807566618, 394.0900633599325, 414.11144596320327, 434.132828566474], [253.94038513703748, 273.96176774030823, 293.9831503435789, 314.0045329468497, 334.0259155501204, 354.0472981533911, 374.0686807566618, 394.0900633599325, 414.11144596320327, 434.132828566474], [253.94038513703748, 273.96176774030823, 293.9831503435789, 314.0045329468497, 334.0259155501204, 354.0472981533911, 374.0686807566618, 394.0900633599325, 414.11144596320327, 434.132828566474], [253.94038513703748, 273.96176774030823, 293.9831503435789, 314.0045329468497, 334.0259155501204, 354.0472981533911, 374.0686807566618, 394.0900633599325, 414.11144596320327, 434.132828566474], [253.94038513703748, 273.96176774030823, 293.9831503435789, 314.0045329468497, 334.0259155501204, 354.0472981533911, 374.0686807566618, 394.0900633599325, 414.11144596320327, 434.132828566474], [253.94038513703748, 273.96176774030823, 293.9831503435789, 314.0045329468497, 334.0259155501204, 354.0472981533911, 374.0686807566618, 394.0900633599325, 414.11144596320327, 434.132828566474]]}, {\"coloraxis\": \"coloraxis\", \"colorbar\": {\"thickness\": 5}, \"name\": \"PU+0.5%EG\", \"opacity\": 0.6, \"type\": \"surface\", \"visible\": false, \"x\": [[2.5, 3.1666666666666665, 3.833333333333333, 4.5, 5.166666666666666, 5.833333333333333, 6.5, 7.166666666666666, 7.833333333333333, 8.5], [2.5, 3.1666666666666665, 3.833333333333333, 4.5, 5.166666666666666, 5.833333333333333, 6.5, 7.166666666666666, 7.833333333333333, 8.5], [2.5, 3.1666666666666665, 3.833333333333333, 4.5, 5.166666666666666, 5.833333333333333, 6.5, 7.166666666666666, 7.833333333333333, 8.5], [2.5, 3.1666666666666665, 3.833333333333333, 4.5, 5.166666666666666, 5.833333333333333, 6.5, 7.166666666666666, 7.833333333333333, 8.5], [2.5, 3.1666666666666665, 3.833333333333333, 4.5, 5.166666666666666, 5.833333333333333, 6.5, 7.166666666666666, 7.833333333333333, 8.5], [2.5, 3.1666666666666665, 3.833333333333333, 4.5, 5.166666666666666, 5.833333333333333, 6.5, 7.166666666666666, 7.833333333333333, 8.5], [2.5, 3.1666666666666665, 3.833333333333333, 4.5, 5.166666666666666, 5.833333333333333, 6.5, 7.166666666666666, 7.833333333333333, 8.5], [2.5, 3.1666666666666665, 3.833333333333333, 4.5, 5.166666666666666, 5.833333333333333, 6.5, 7.166666666666666, 7.833333333333333, 8.5], [2.5, 3.1666666666666665, 3.833333333333333, 4.5, 5.166666666666666, 5.833333333333333, 6.5, 7.166666666666666, 7.833333333333333, 8.5], [2.5, 3.1666666666666665, 3.833333333333333, 4.5, 5.166666666666666, 5.833333333333333, 6.5, 7.166666666666666, 7.833333333333333, 8.5]], \"y\": [[2.0, 2.0, 2.0, 2.0, 2.0, 2.0, 2.0, 2.0, 2.0, 2.0], [2.2222222222222223, 2.2222222222222223, 2.2222222222222223, 2.2222222222222223, 2.2222222222222223, 2.2222222222222223, 2.2222222222222223, 2.2222222222222223, 2.2222222222222223, 2.2222222222222223], [2.4444444444444446, 2.4444444444444446, 2.4444444444444446, 2.4444444444444446, 2.4444444444444446, 2.4444444444444446, 2.4444444444444446, 2.4444444444444446, 2.4444444444444446, 2.4444444444444446], [2.6666666666666665, 2.6666666666666665, 2.6666666666666665, 2.6666666666666665, 2.6666666666666665, 2.6666666666666665, 2.6666666666666665, 2.6666666666666665, 2.6666666666666665, 2.6666666666666665], [2.888888888888889, 2.888888888888889, 2.888888888888889, 2.888888888888889, 2.888888888888889, 2.888888888888889, 2.888888888888889, 2.888888888888889, 2.888888888888889, 2.888888888888889], [3.111111111111111, 3.111111111111111, 3.111111111111111, 3.111111111111111, 3.111111111111111, 3.111111111111111, 3.111111111111111, 3.111111111111111, 3.111111111111111, 3.111111111111111], [3.333333333333333, 3.333333333333333, 3.333333333333333, 3.333333333333333, 3.333333333333333, 3.333333333333333, 3.333333333333333, 3.333333333333333, 3.333333333333333, 3.333333333333333], [3.5555555555555554, 3.5555555555555554, 3.5555555555555554, 3.5555555555555554, 3.5555555555555554, 3.5555555555555554, 3.5555555555555554, 3.5555555555555554, 3.5555555555555554, 3.5555555555555554], [3.7777777777777777, 3.7777777777777777, 3.7777777777777777, 3.7777777777777777, 3.7777777777777777, 3.7777777777777777, 3.7777777777777777, 3.7777777777777777, 3.7777777777777777, 3.7777777777777777], [4.0, 4.0, 4.0, 4.0, 4.0, 4.0, 4.0, 4.0, 4.0, 4.0]], \"z\": [[256.50833364864667, 276.52971625191736, 296.55109885518806, 316.5724814584588, 336.5938640617295, 356.61524666500026, 376.63662926827095, 396.65801187154165, 416.6793944748124, 436.70077707808315], [256.50833364864667, 276.52971625191736, 296.55109885518806, 316.5724814584588, 336.5938640617295, 356.61524666500026, 376.63662926827095, 396.65801187154165, 416.6793944748124, 436.70077707808315], [256.50833364864667, 276.52971625191736, 296.55109885518806, 316.5724814584588, 336.5938640617295, 356.61524666500026, 376.63662926827095, 396.65801187154165, 416.6793944748124, 436.70077707808315], [256.50833364864667, 276.52971625191736, 296.55109885518806, 316.5724814584588, 336.5938640617295, 356.61524666500026, 376.63662926827095, 396.65801187154165, 416.6793944748124, 436.70077707808315], [256.50833364864667, 276.52971625191736, 296.55109885518806, 316.5724814584588, 336.5938640617295, 356.61524666500026, 376.63662926827095, 396.65801187154165, 416.6793944748124, 436.70077707808315], [256.50833364864667, 276.52971625191736, 296.55109885518806, 316.5724814584588, 336.5938640617295, 356.61524666500026, 376.63662926827095, 396.65801187154165, 416.6793944748124, 436.70077707808315], [256.50833364864667, 276.52971625191736, 296.55109885518806, 316.5724814584588, 336.5938640617295, 356.61524666500026, 376.63662926827095, 396.65801187154165, 416.6793944748124, 436.70077707808315], [256.50833364864667, 276.52971625191736, 296.55109885518806, 316.5724814584588, 336.5938640617295, 356.61524666500026, 376.63662926827095, 396.65801187154165, 416.6793944748124, 436.70077707808315], [256.50833364864667, 276.52971625191736, 296.55109885518806, 316.5724814584588, 336.5938640617295, 356.61524666500026, 376.63662926827095, 396.65801187154165, 416.6793944748124, 436.70077707808315], [256.50833364864667, 276.52971625191736, 296.55109885518806, 316.5724814584588, 336.5938640617295, 356.61524666500026, 376.63662926827095, 396.65801187154165, 416.6793944748124, 436.70077707808315]]}, {\"coloraxis\": \"coloraxis\", \"colorbar\": {\"thickness\": 5}, \"name\": \"PU+0.6%EG\", \"opacity\": 0.6, \"type\": \"surface\", \"visible\": false, \"x\": [[2.5, 3.1666666666666665, 3.833333333333333, 4.5, 5.166666666666666, 5.833333333333333, 6.5, 7.166666666666666, 7.833333333333333, 8.5], [2.5, 3.1666666666666665, 3.833333333333333, 4.5, 5.166666666666666, 5.833333333333333, 6.5, 7.166666666666666, 7.833333333333333, 8.5], [2.5, 3.1666666666666665, 3.833333333333333, 4.5, 5.166666666666666, 5.833333333333333, 6.5, 7.166666666666666, 7.833333333333333, 8.5], [2.5, 3.1666666666666665, 3.833333333333333, 4.5, 5.166666666666666, 5.833333333333333, 6.5, 7.166666666666666, 7.833333333333333, 8.5], [2.5, 3.1666666666666665, 3.833333333333333, 4.5, 5.166666666666666, 5.833333333333333, 6.5, 7.166666666666666, 7.833333333333333, 8.5], [2.5, 3.1666666666666665, 3.833333333333333, 4.5, 5.166666666666666, 5.833333333333333, 6.5, 7.166666666666666, 7.833333333333333, 8.5], [2.5, 3.1666666666666665, 3.833333333333333, 4.5, 5.166666666666666, 5.833333333333333, 6.5, 7.166666666666666, 7.833333333333333, 8.5], [2.5, 3.1666666666666665, 3.833333333333333, 4.5, 5.166666666666666, 5.833333333333333, 6.5, 7.166666666666666, 7.833333333333333, 8.5], [2.5, 3.1666666666666665, 3.833333333333333, 4.5, 5.166666666666666, 5.833333333333333, 6.5, 7.166666666666666, 7.833333333333333, 8.5], [2.5, 3.1666666666666665, 3.833333333333333, 4.5, 5.166666666666666, 5.833333333333333, 6.5, 7.166666666666666, 7.833333333333333, 8.5]], \"y\": [[2.0, 2.0, 2.0, 2.0, 2.0, 2.0, 2.0, 2.0, 2.0, 2.0], [2.2222222222222223, 2.2222222222222223, 2.2222222222222223, 2.2222222222222223, 2.2222222222222223, 2.2222222222222223, 2.2222222222222223, 2.2222222222222223, 2.2222222222222223, 2.2222222222222223], [2.4444444444444446, 2.4444444444444446, 2.4444444444444446, 2.4444444444444446, 2.4444444444444446, 2.4444444444444446, 2.4444444444444446, 2.4444444444444446, 2.4444444444444446, 2.4444444444444446], [2.6666666666666665, 2.6666666666666665, 2.6666666666666665, 2.6666666666666665, 2.6666666666666665, 2.6666666666666665, 2.6666666666666665, 2.6666666666666665, 2.6666666666666665, 2.6666666666666665], [2.888888888888889, 2.888888888888889, 2.888888888888889, 2.888888888888889, 2.888888888888889, 2.888888888888889, 2.888888888888889, 2.888888888888889, 2.888888888888889, 2.888888888888889], [3.111111111111111, 3.111111111111111, 3.111111111111111, 3.111111111111111, 3.111111111111111, 3.111111111111111, 3.111111111111111, 3.111111111111111, 3.111111111111111, 3.111111111111111], [3.333333333333333, 3.333333333333333, 3.333333333333333, 3.333333333333333, 3.333333333333333, 3.333333333333333, 3.333333333333333, 3.333333333333333, 3.333333333333333, 3.333333333333333], [3.5555555555555554, 3.5555555555555554, 3.5555555555555554, 3.5555555555555554, 3.5555555555555554, 3.5555555555555554, 3.5555555555555554, 3.5555555555555554, 3.5555555555555554, 3.5555555555555554], [3.7777777777777777, 3.7777777777777777, 3.7777777777777777, 3.7777777777777777, 3.7777777777777777, 3.7777777777777777, 3.7777777777777777, 3.7777777777777777, 3.7777777777777777, 3.7777777777777777], [4.0, 4.0, 4.0, 4.0, 4.0, 4.0, 4.0, 4.0, 4.0, 4.0]], \"z\": [[259.0762821602558, 279.09766476352655, 299.11904736679725, 319.140429970068, 339.1618125733387, 359.18319517660944, 379.20457777988014, 399.22596038315083, 419.2473429864216, 439.26872558969234], [259.0762821602558, 279.09766476352655, 299.11904736679725, 319.140429970068, 339.1618125733387, 359.18319517660944, 379.20457777988014, 399.22596038315083, 419.2473429864216, 439.26872558969234], [259.0762821602558, 279.09766476352655, 299.11904736679725, 319.140429970068, 339.1618125733387, 359.18319517660944, 379.20457777988014, 399.22596038315083, 419.2473429864216, 439.26872558969234], [259.0762821602558, 279.09766476352655, 299.11904736679725, 319.140429970068, 339.1618125733387, 359.18319517660944, 379.20457777988014, 399.22596038315083, 419.2473429864216, 439.26872558969234], [259.0762821602558, 279.09766476352655, 299.11904736679725, 319.140429970068, 339.1618125733387, 359.18319517660944, 379.20457777988014, 399.22596038315083, 419.2473429864216, 439.26872558969234], [259.0762821602558, 279.09766476352655, 299.11904736679725, 319.140429970068, 339.1618125733387, 359.18319517660944, 379.20457777988014, 399.22596038315083, 419.2473429864216, 439.26872558969234], [259.0762821602558, 279.09766476352655, 299.11904736679725, 319.140429970068, 339.1618125733387, 359.18319517660944, 379.20457777988014, 399.22596038315083, 419.2473429864216, 439.26872558969234], [259.0762821602558, 279.09766476352655, 299.11904736679725, 319.140429970068, 339.1618125733387, 359.18319517660944, 379.20457777988014, 399.22596038315083, 419.2473429864216, 439.26872558969234], [259.0762821602558, 279.09766476352655, 299.11904736679725, 319.140429970068, 339.1618125733387, 359.18319517660944, 379.20457777988014, 399.22596038315083, 419.2473429864216, 439.26872558969234], [259.0762821602558, 279.09766476352655, 299.11904736679725, 319.140429970068, 339.1618125733387, 359.18319517660944, 379.20457777988014, 399.22596038315083, 419.2473429864216, 439.26872558969234]]}, {\"coloraxis\": \"coloraxis\", \"colorbar\": {\"thickness\": 5}, \"name\": \"PU+0.7%EG\", \"opacity\": 0.6, \"type\": \"surface\", \"visible\": false, \"x\": [[2.5, 3.1666666666666665, 3.833333333333333, 4.5, 5.166666666666666, 5.833333333333333, 6.5, 7.166666666666666, 7.833333333333333, 8.5], [2.5, 3.1666666666666665, 3.833333333333333, 4.5, 5.166666666666666, 5.833333333333333, 6.5, 7.166666666666666, 7.833333333333333, 8.5], [2.5, 3.1666666666666665, 3.833333333333333, 4.5, 5.166666666666666, 5.833333333333333, 6.5, 7.166666666666666, 7.833333333333333, 8.5], [2.5, 3.1666666666666665, 3.833333333333333, 4.5, 5.166666666666666, 5.833333333333333, 6.5, 7.166666666666666, 7.833333333333333, 8.5], [2.5, 3.1666666666666665, 3.833333333333333, 4.5, 5.166666666666666, 5.833333333333333, 6.5, 7.166666666666666, 7.833333333333333, 8.5], [2.5, 3.1666666666666665, 3.833333333333333, 4.5, 5.166666666666666, 5.833333333333333, 6.5, 7.166666666666666, 7.833333333333333, 8.5], [2.5, 3.1666666666666665, 3.833333333333333, 4.5, 5.166666666666666, 5.833333333333333, 6.5, 7.166666666666666, 7.833333333333333, 8.5], [2.5, 3.1666666666666665, 3.833333333333333, 4.5, 5.166666666666666, 5.833333333333333, 6.5, 7.166666666666666, 7.833333333333333, 8.5], [2.5, 3.1666666666666665, 3.833333333333333, 4.5, 5.166666666666666, 5.833333333333333, 6.5, 7.166666666666666, 7.833333333333333, 8.5], [2.5, 3.1666666666666665, 3.833333333333333, 4.5, 5.166666666666666, 5.833333333333333, 6.5, 7.166666666666666, 7.833333333333333, 8.5]], \"y\": [[2.0, 2.0, 2.0, 2.0, 2.0, 2.0, 2.0, 2.0, 2.0, 2.0], [2.2222222222222223, 2.2222222222222223, 2.2222222222222223, 2.2222222222222223, 2.2222222222222223, 2.2222222222222223, 2.2222222222222223, 2.2222222222222223, 2.2222222222222223, 2.2222222222222223], [2.4444444444444446, 2.4444444444444446, 2.4444444444444446, 2.4444444444444446, 2.4444444444444446, 2.4444444444444446, 2.4444444444444446, 2.4444444444444446, 2.4444444444444446, 2.4444444444444446], [2.6666666666666665, 2.6666666666666665, 2.6666666666666665, 2.6666666666666665, 2.6666666666666665, 2.6666666666666665, 2.6666666666666665, 2.6666666666666665, 2.6666666666666665, 2.6666666666666665], [2.888888888888889, 2.888888888888889, 2.888888888888889, 2.888888888888889, 2.888888888888889, 2.888888888888889, 2.888888888888889, 2.888888888888889, 2.888888888888889, 2.888888888888889], [3.111111111111111, 3.111111111111111, 3.111111111111111, 3.111111111111111, 3.111111111111111, 3.111111111111111, 3.111111111111111, 3.111111111111111, 3.111111111111111, 3.111111111111111], [3.333333333333333, 3.333333333333333, 3.333333333333333, 3.333333333333333, 3.333333333333333, 3.333333333333333, 3.333333333333333, 3.333333333333333, 3.333333333333333, 3.333333333333333], [3.5555555555555554, 3.5555555555555554, 3.5555555555555554, 3.5555555555555554, 3.5555555555555554, 3.5555555555555554, 3.5555555555555554, 3.5555555555555554, 3.5555555555555554, 3.5555555555555554], [3.7777777777777777, 3.7777777777777777, 3.7777777777777777, 3.7777777777777777, 3.7777777777777777, 3.7777777777777777, 3.7777777777777777, 3.7777777777777777, 3.7777777777777777, 3.7777777777777777], [4.0, 4.0, 4.0, 4.0, 4.0, 4.0, 4.0, 4.0, 4.0, 4.0]], \"z\": [[261.644230671865, 281.6656132751357, 301.6869958784064, 321.70837848167713, 341.7297610849478, 361.7511436882186, 381.77252629148927, 401.79390889475997, 421.8152914980307, 441.83667410130147], [261.644230671865, 281.6656132751357, 301.6869958784064, 321.70837848167713, 341.7297610849478, 361.7511436882186, 381.77252629148927, 401.79390889475997, 421.8152914980307, 441.83667410130147], [261.644230671865, 281.6656132751357, 301.6869958784064, 321.70837848167713, 341.7297610849478, 361.7511436882186, 381.77252629148927, 401.79390889475997, 421.8152914980307, 441.83667410130147], [261.644230671865, 281.6656132751357, 301.6869958784064, 321.70837848167713, 341.7297610849478, 361.7511436882186, 381.77252629148927, 401.79390889475997, 421.8152914980307, 441.83667410130147], [261.644230671865, 281.6656132751357, 301.6869958784064, 321.70837848167713, 341.7297610849478, 361.7511436882186, 381.77252629148927, 401.79390889475997, 421.8152914980307, 441.83667410130147], [261.644230671865, 281.6656132751357, 301.6869958784064, 321.70837848167713, 341.7297610849478, 361.7511436882186, 381.77252629148927, 401.79390889475997, 421.8152914980307, 441.83667410130147], [261.644230671865, 281.6656132751357, 301.6869958784064, 321.70837848167713, 341.7297610849478, 361.7511436882186, 381.77252629148927, 401.79390889475997, 421.8152914980307, 441.83667410130147], [261.644230671865, 281.6656132751357, 301.6869958784064, 321.70837848167713, 341.7297610849478, 361.7511436882186, 381.77252629148927, 401.79390889475997, 421.8152914980307, 441.83667410130147], [261.644230671865, 281.6656132751357, 301.6869958784064, 321.70837848167713, 341.7297610849478, 361.7511436882186, 381.77252629148927, 401.79390889475997, 421.8152914980307, 441.83667410130147], [261.644230671865, 281.6656132751357, 301.6869958784064, 321.70837848167713, 341.7297610849478, 361.7511436882186, 381.77252629148927, 401.79390889475997, 421.8152914980307, 441.83667410130147]]}, {\"coloraxis\": \"coloraxis\", \"colorbar\": {\"thickness\": 5}, \"name\": \"PU+0.8%EG\", \"opacity\": 0.6, \"type\": \"surface\", \"visible\": false, \"x\": [[2.5, 3.1666666666666665, 3.833333333333333, 4.5, 5.166666666666666, 5.833333333333333, 6.5, 7.166666666666666, 7.833333333333333, 8.5], [2.5, 3.1666666666666665, 3.833333333333333, 4.5, 5.166666666666666, 5.833333333333333, 6.5, 7.166666666666666, 7.833333333333333, 8.5], [2.5, 3.1666666666666665, 3.833333333333333, 4.5, 5.166666666666666, 5.833333333333333, 6.5, 7.166666666666666, 7.833333333333333, 8.5], [2.5, 3.1666666666666665, 3.833333333333333, 4.5, 5.166666666666666, 5.833333333333333, 6.5, 7.166666666666666, 7.833333333333333, 8.5], [2.5, 3.1666666666666665, 3.833333333333333, 4.5, 5.166666666666666, 5.833333333333333, 6.5, 7.166666666666666, 7.833333333333333, 8.5], [2.5, 3.1666666666666665, 3.833333333333333, 4.5, 5.166666666666666, 5.833333333333333, 6.5, 7.166666666666666, 7.833333333333333, 8.5], [2.5, 3.1666666666666665, 3.833333333333333, 4.5, 5.166666666666666, 5.833333333333333, 6.5, 7.166666666666666, 7.833333333333333, 8.5], [2.5, 3.1666666666666665, 3.833333333333333, 4.5, 5.166666666666666, 5.833333333333333, 6.5, 7.166666666666666, 7.833333333333333, 8.5], [2.5, 3.1666666666666665, 3.833333333333333, 4.5, 5.166666666666666, 5.833333333333333, 6.5, 7.166666666666666, 7.833333333333333, 8.5], [2.5, 3.1666666666666665, 3.833333333333333, 4.5, 5.166666666666666, 5.833333333333333, 6.5, 7.166666666666666, 7.833333333333333, 8.5]], \"y\": [[2.0, 2.0, 2.0, 2.0, 2.0, 2.0, 2.0, 2.0, 2.0, 2.0], [2.2222222222222223, 2.2222222222222223, 2.2222222222222223, 2.2222222222222223, 2.2222222222222223, 2.2222222222222223, 2.2222222222222223, 2.2222222222222223, 2.2222222222222223, 2.2222222222222223], [2.4444444444444446, 2.4444444444444446, 2.4444444444444446, 2.4444444444444446, 2.4444444444444446, 2.4444444444444446, 2.4444444444444446, 2.4444444444444446, 2.4444444444444446, 2.4444444444444446], [2.6666666666666665, 2.6666666666666665, 2.6666666666666665, 2.6666666666666665, 2.6666666666666665, 2.6666666666666665, 2.6666666666666665, 2.6666666666666665, 2.6666666666666665, 2.6666666666666665], [2.888888888888889, 2.888888888888889, 2.888888888888889, 2.888888888888889, 2.888888888888889, 2.888888888888889, 2.888888888888889, 2.888888888888889, 2.888888888888889, 2.888888888888889], [3.111111111111111, 3.111111111111111, 3.111111111111111, 3.111111111111111, 3.111111111111111, 3.111111111111111, 3.111111111111111, 3.111111111111111, 3.111111111111111, 3.111111111111111], [3.333333333333333, 3.333333333333333, 3.333333333333333, 3.333333333333333, 3.333333333333333, 3.333333333333333, 3.333333333333333, 3.333333333333333, 3.333333333333333, 3.333333333333333], [3.5555555555555554, 3.5555555555555554, 3.5555555555555554, 3.5555555555555554, 3.5555555555555554, 3.5555555555555554, 3.5555555555555554, 3.5555555555555554, 3.5555555555555554, 3.5555555555555554], [3.7777777777777777, 3.7777777777777777, 3.7777777777777777, 3.7777777777777777, 3.7777777777777777, 3.7777777777777777, 3.7777777777777777, 3.7777777777777777, 3.7777777777777777, 3.7777777777777777], [4.0, 4.0, 4.0, 4.0, 4.0, 4.0, 4.0, 4.0, 4.0, 4.0]], \"z\": [[264.2121791834741, 284.2335617867449, 304.25494439001557, 324.27632699328626, 344.29770959655696, 364.31909219982776, 384.34047480309846, 404.36185740636915, 424.38324000963985, 444.40462261291066], [264.2121791834741, 284.2335617867449, 304.25494439001557, 324.27632699328626, 344.29770959655696, 364.31909219982776, 384.34047480309846, 404.36185740636915, 424.38324000963985, 444.40462261291066], [264.2121791834741, 284.2335617867449, 304.25494439001557, 324.27632699328626, 344.29770959655696, 364.31909219982776, 384.34047480309846, 404.36185740636915, 424.38324000963985, 444.40462261291066], [264.2121791834741, 284.2335617867449, 304.25494439001557, 324.27632699328626, 344.29770959655696, 364.31909219982776, 384.34047480309846, 404.36185740636915, 424.38324000963985, 444.40462261291066], [264.2121791834741, 284.2335617867449, 304.25494439001557, 324.27632699328626, 344.29770959655696, 364.31909219982776, 384.34047480309846, 404.36185740636915, 424.38324000963985, 444.40462261291066], [264.2121791834741, 284.2335617867449, 304.25494439001557, 324.27632699328626, 344.29770959655696, 364.31909219982776, 384.34047480309846, 404.36185740636915, 424.38324000963985, 444.40462261291066], [264.2121791834741, 284.2335617867449, 304.25494439001557, 324.27632699328626, 344.29770959655696, 364.31909219982776, 384.34047480309846, 404.36185740636915, 424.38324000963985, 444.40462261291066], [264.2121791834741, 284.2335617867449, 304.25494439001557, 324.27632699328626, 344.29770959655696, 364.31909219982776, 384.34047480309846, 404.36185740636915, 424.38324000963985, 444.40462261291066], [264.2121791834741, 284.2335617867449, 304.25494439001557, 324.27632699328626, 344.29770959655696, 364.31909219982776, 384.34047480309846, 404.36185740636915, 424.38324000963985, 444.40462261291066], [264.2121791834741, 284.2335617867449, 304.25494439001557, 324.27632699328626, 344.29770959655696, 364.31909219982776, 384.34047480309846, 404.36185740636915, 424.38324000963985, 444.40462261291066]]}, {\"coloraxis\": \"coloraxis\", \"colorbar\": {\"thickness\": 5}, \"name\": \"PU+0.9%EG\", \"opacity\": 0.6, \"type\": \"surface\", \"visible\": false, \"x\": [[2.5, 3.1666666666666665, 3.833333333333333, 4.5, 5.166666666666666, 5.833333333333333, 6.5, 7.166666666666666, 7.833333333333333, 8.5], [2.5, 3.1666666666666665, 3.833333333333333, 4.5, 5.166666666666666, 5.833333333333333, 6.5, 7.166666666666666, 7.833333333333333, 8.5], [2.5, 3.1666666666666665, 3.833333333333333, 4.5, 5.166666666666666, 5.833333333333333, 6.5, 7.166666666666666, 7.833333333333333, 8.5], [2.5, 3.1666666666666665, 3.833333333333333, 4.5, 5.166666666666666, 5.833333333333333, 6.5, 7.166666666666666, 7.833333333333333, 8.5], [2.5, 3.1666666666666665, 3.833333333333333, 4.5, 5.166666666666666, 5.833333333333333, 6.5, 7.166666666666666, 7.833333333333333, 8.5], [2.5, 3.1666666666666665, 3.833333333333333, 4.5, 5.166666666666666, 5.833333333333333, 6.5, 7.166666666666666, 7.833333333333333, 8.5], [2.5, 3.1666666666666665, 3.833333333333333, 4.5, 5.166666666666666, 5.833333333333333, 6.5, 7.166666666666666, 7.833333333333333, 8.5], [2.5, 3.1666666666666665, 3.833333333333333, 4.5, 5.166666666666666, 5.833333333333333, 6.5, 7.166666666666666, 7.833333333333333, 8.5], [2.5, 3.1666666666666665, 3.833333333333333, 4.5, 5.166666666666666, 5.833333333333333, 6.5, 7.166666666666666, 7.833333333333333, 8.5], [2.5, 3.1666666666666665, 3.833333333333333, 4.5, 5.166666666666666, 5.833333333333333, 6.5, 7.166666666666666, 7.833333333333333, 8.5]], \"y\": [[2.0, 2.0, 2.0, 2.0, 2.0, 2.0, 2.0, 2.0, 2.0, 2.0], [2.2222222222222223, 2.2222222222222223, 2.2222222222222223, 2.2222222222222223, 2.2222222222222223, 2.2222222222222223, 2.2222222222222223, 2.2222222222222223, 2.2222222222222223, 2.2222222222222223], [2.4444444444444446, 2.4444444444444446, 2.4444444444444446, 2.4444444444444446, 2.4444444444444446, 2.4444444444444446, 2.4444444444444446, 2.4444444444444446, 2.4444444444444446, 2.4444444444444446], [2.6666666666666665, 2.6666666666666665, 2.6666666666666665, 2.6666666666666665, 2.6666666666666665, 2.6666666666666665, 2.6666666666666665, 2.6666666666666665, 2.6666666666666665, 2.6666666666666665], [2.888888888888889, 2.888888888888889, 2.888888888888889, 2.888888888888889, 2.888888888888889, 2.888888888888889, 2.888888888888889, 2.888888888888889, 2.888888888888889, 2.888888888888889], [3.111111111111111, 3.111111111111111, 3.111111111111111, 3.111111111111111, 3.111111111111111, 3.111111111111111, 3.111111111111111, 3.111111111111111, 3.111111111111111, 3.111111111111111], [3.333333333333333, 3.333333333333333, 3.333333333333333, 3.333333333333333, 3.333333333333333, 3.333333333333333, 3.333333333333333, 3.333333333333333, 3.333333333333333, 3.333333333333333], [3.5555555555555554, 3.5555555555555554, 3.5555555555555554, 3.5555555555555554, 3.5555555555555554, 3.5555555555555554, 3.5555555555555554, 3.5555555555555554, 3.5555555555555554, 3.5555555555555554], [3.7777777777777777, 3.7777777777777777, 3.7777777777777777, 3.7777777777777777, 3.7777777777777777, 3.7777777777777777, 3.7777777777777777, 3.7777777777777777, 3.7777777777777777, 3.7777777777777777], [4.0, 4.0, 4.0, 4.0, 4.0, 4.0, 4.0, 4.0, 4.0, 4.0]], \"z\": [[266.78012769508325, 286.801510298354, 306.8228929016247, 326.84427550489545, 346.86565810816614, 366.8870407114369, 386.9084233147076, 406.9298059179783, 426.95118852124904, 446.9725711245198], [266.78012769508325, 286.801510298354, 306.8228929016247, 326.84427550489545, 346.86565810816614, 366.8870407114369, 386.9084233147076, 406.9298059179783, 426.95118852124904, 446.9725711245198], [266.78012769508325, 286.801510298354, 306.8228929016247, 326.84427550489545, 346.86565810816614, 366.8870407114369, 386.9084233147076, 406.9298059179783, 426.95118852124904, 446.9725711245198], [266.78012769508325, 286.801510298354, 306.8228929016247, 326.84427550489545, 346.86565810816614, 366.8870407114369, 386.9084233147076, 406.9298059179783, 426.95118852124904, 446.9725711245198], [266.78012769508325, 286.801510298354, 306.8228929016247, 326.84427550489545, 346.86565810816614, 366.8870407114369, 386.9084233147076, 406.9298059179783, 426.95118852124904, 446.9725711245198], [266.78012769508325, 286.801510298354, 306.8228929016247, 326.84427550489545, 346.86565810816614, 366.8870407114369, 386.9084233147076, 406.9298059179783, 426.95118852124904, 446.9725711245198], [266.78012769508325, 286.801510298354, 306.8228929016247, 326.84427550489545, 346.86565810816614, 366.8870407114369, 386.9084233147076, 406.9298059179783, 426.95118852124904, 446.9725711245198], [266.78012769508325, 286.801510298354, 306.8228929016247, 326.84427550489545, 346.86565810816614, 366.8870407114369, 386.9084233147076, 406.9298059179783, 426.95118852124904, 446.9725711245198], [266.78012769508325, 286.801510298354, 306.8228929016247, 326.84427550489545, 346.86565810816614, 366.8870407114369, 386.9084233147076, 406.9298059179783, 426.95118852124904, 446.9725711245198], [266.78012769508325, 286.801510298354, 306.8228929016247, 326.84427550489545, 346.86565810816614, 366.8870407114369, 386.9084233147076, 406.9298059179783, 426.95118852124904, 446.9725711245198]]}, {\"coloraxis\": \"coloraxis\", \"colorbar\": {\"thickness\": 5}, \"name\": \"PU+1.0%EG\", \"opacity\": 0.6, \"type\": \"surface\", \"visible\": true, \"x\": [[2.5, 3.1666666666666665, 3.833333333333333, 4.5, 5.166666666666666, 5.833333333333333, 6.5, 7.166666666666666, 7.833333333333333, 8.5], [2.5, 3.1666666666666665, 3.833333333333333, 4.5, 5.166666666666666, 5.833333333333333, 6.5, 7.166666666666666, 7.833333333333333, 8.5], [2.5, 3.1666666666666665, 3.833333333333333, 4.5, 5.166666666666666, 5.833333333333333, 6.5, 7.166666666666666, 7.833333333333333, 8.5], [2.5, 3.1666666666666665, 3.833333333333333, 4.5, 5.166666666666666, 5.833333333333333, 6.5, 7.166666666666666, 7.833333333333333, 8.5], [2.5, 3.1666666666666665, 3.833333333333333, 4.5, 5.166666666666666, 5.833333333333333, 6.5, 7.166666666666666, 7.833333333333333, 8.5], [2.5, 3.1666666666666665, 3.833333333333333, 4.5, 5.166666666666666, 5.833333333333333, 6.5, 7.166666666666666, 7.833333333333333, 8.5], [2.5, 3.1666666666666665, 3.833333333333333, 4.5, 5.166666666666666, 5.833333333333333, 6.5, 7.166666666666666, 7.833333333333333, 8.5], [2.5, 3.1666666666666665, 3.833333333333333, 4.5, 5.166666666666666, 5.833333333333333, 6.5, 7.166666666666666, 7.833333333333333, 8.5], [2.5, 3.1666666666666665, 3.833333333333333, 4.5, 5.166666666666666, 5.833333333333333, 6.5, 7.166666666666666, 7.833333333333333, 8.5], [2.5, 3.1666666666666665, 3.833333333333333, 4.5, 5.166666666666666, 5.833333333333333, 6.5, 7.166666666666666, 7.833333333333333, 8.5]], \"y\": [[2.0, 2.0, 2.0, 2.0, 2.0, 2.0, 2.0, 2.0, 2.0, 2.0], [2.2222222222222223, 2.2222222222222223, 2.2222222222222223, 2.2222222222222223, 2.2222222222222223, 2.2222222222222223, 2.2222222222222223, 2.2222222222222223, 2.2222222222222223, 2.2222222222222223], [2.4444444444444446, 2.4444444444444446, 2.4444444444444446, 2.4444444444444446, 2.4444444444444446, 2.4444444444444446, 2.4444444444444446, 2.4444444444444446, 2.4444444444444446, 2.4444444444444446], [2.6666666666666665, 2.6666666666666665, 2.6666666666666665, 2.6666666666666665, 2.6666666666666665, 2.6666666666666665, 2.6666666666666665, 2.6666666666666665, 2.6666666666666665, 2.6666666666666665], [2.888888888888889, 2.888888888888889, 2.888888888888889, 2.888888888888889, 2.888888888888889, 2.888888888888889, 2.888888888888889, 2.888888888888889, 2.888888888888889, 2.888888888888889], [3.111111111111111, 3.111111111111111, 3.111111111111111, 3.111111111111111, 3.111111111111111, 3.111111111111111, 3.111111111111111, 3.111111111111111, 3.111111111111111, 3.111111111111111], [3.333333333333333, 3.333333333333333, 3.333333333333333, 3.333333333333333, 3.333333333333333, 3.333333333333333, 3.333333333333333, 3.333333333333333, 3.333333333333333, 3.333333333333333], [3.5555555555555554, 3.5555555555555554, 3.5555555555555554, 3.5555555555555554, 3.5555555555555554, 3.5555555555555554, 3.5555555555555554, 3.5555555555555554, 3.5555555555555554, 3.5555555555555554], [3.7777777777777777, 3.7777777777777777, 3.7777777777777777, 3.7777777777777777, 3.7777777777777777, 3.7777777777777777, 3.7777777777777777, 3.7777777777777777, 3.7777777777777777, 3.7777777777777777], [4.0, 4.0, 4.0, 4.0, 4.0, 4.0, 4.0, 4.0, 4.0, 4.0]], \"z\": [[269.34807620669244, 289.36945880996313, 309.39084141323383, 329.4122240165046, 349.4336066197753, 369.454989223046, 389.4763718263167, 409.4977544295874, 429.51913703285817, 449.5405196361289], [269.34807620669244, 289.36945880996313, 309.39084141323383, 329.4122240165046, 349.4336066197753, 369.454989223046, 389.4763718263167, 409.4977544295874, 429.51913703285817, 449.5405196361289], [269.34807620669244, 289.36945880996313, 309.39084141323383, 329.4122240165046, 349.4336066197753, 369.454989223046, 389.4763718263167, 409.4977544295874, 429.51913703285817, 449.5405196361289], [269.34807620669244, 289.36945880996313, 309.39084141323383, 329.4122240165046, 349.4336066197753, 369.454989223046, 389.4763718263167, 409.4977544295874, 429.51913703285817, 449.5405196361289], [269.34807620669244, 289.36945880996313, 309.39084141323383, 329.4122240165046, 349.4336066197753, 369.454989223046, 389.4763718263167, 409.4977544295874, 429.51913703285817, 449.5405196361289], [269.34807620669244, 289.36945880996313, 309.39084141323383, 329.4122240165046, 349.4336066197753, 369.454989223046, 389.4763718263167, 409.4977544295874, 429.51913703285817, 449.5405196361289], [269.34807620669244, 289.36945880996313, 309.39084141323383, 329.4122240165046, 349.4336066197753, 369.454989223046, 389.4763718263167, 409.4977544295874, 429.51913703285817, 449.5405196361289], [269.34807620669244, 289.36945880996313, 309.39084141323383, 329.4122240165046, 349.4336066197753, 369.454989223046, 389.4763718263167, 409.4977544295874, 429.51913703285817, 449.5405196361289], [269.34807620669244, 289.36945880996313, 309.39084141323383, 329.4122240165046, 349.4336066197753, 369.454989223046, 389.4763718263167, 409.4977544295874, 429.51913703285817, 449.5405196361289], [269.34807620669244, 289.36945880996313, 309.39084141323383, 329.4122240165046, 349.4336066197753, 369.454989223046, 389.4763718263167, 409.4977544295874, 429.51913703285817, 449.5405196361289]]}, {\"coloraxis\": \"coloraxis\", \"colorbar\": {\"thickness\": 5}, \"name\": \"PU+1.1%EG\", \"opacity\": 0.6, \"type\": \"surface\", \"visible\": false, \"x\": [[2.5, 3.1666666666666665, 3.833333333333333, 4.5, 5.166666666666666, 5.833333333333333, 6.5, 7.166666666666666, 7.833333333333333, 8.5], [2.5, 3.1666666666666665, 3.833333333333333, 4.5, 5.166666666666666, 5.833333333333333, 6.5, 7.166666666666666, 7.833333333333333, 8.5], [2.5, 3.1666666666666665, 3.833333333333333, 4.5, 5.166666666666666, 5.833333333333333, 6.5, 7.166666666666666, 7.833333333333333, 8.5], [2.5, 3.1666666666666665, 3.833333333333333, 4.5, 5.166666666666666, 5.833333333333333, 6.5, 7.166666666666666, 7.833333333333333, 8.5], [2.5, 3.1666666666666665, 3.833333333333333, 4.5, 5.166666666666666, 5.833333333333333, 6.5, 7.166666666666666, 7.833333333333333, 8.5], [2.5, 3.1666666666666665, 3.833333333333333, 4.5, 5.166666666666666, 5.833333333333333, 6.5, 7.166666666666666, 7.833333333333333, 8.5], [2.5, 3.1666666666666665, 3.833333333333333, 4.5, 5.166666666666666, 5.833333333333333, 6.5, 7.166666666666666, 7.833333333333333, 8.5], [2.5, 3.1666666666666665, 3.833333333333333, 4.5, 5.166666666666666, 5.833333333333333, 6.5, 7.166666666666666, 7.833333333333333, 8.5], [2.5, 3.1666666666666665, 3.833333333333333, 4.5, 5.166666666666666, 5.833333333333333, 6.5, 7.166666666666666, 7.833333333333333, 8.5], [2.5, 3.1666666666666665, 3.833333333333333, 4.5, 5.166666666666666, 5.833333333333333, 6.5, 7.166666666666666, 7.833333333333333, 8.5]], \"y\": [[2.0, 2.0, 2.0, 2.0, 2.0, 2.0, 2.0, 2.0, 2.0, 2.0], [2.2222222222222223, 2.2222222222222223, 2.2222222222222223, 2.2222222222222223, 2.2222222222222223, 2.2222222222222223, 2.2222222222222223, 2.2222222222222223, 2.2222222222222223, 2.2222222222222223], [2.4444444444444446, 2.4444444444444446, 2.4444444444444446, 2.4444444444444446, 2.4444444444444446, 2.4444444444444446, 2.4444444444444446, 2.4444444444444446, 2.4444444444444446, 2.4444444444444446], [2.6666666666666665, 2.6666666666666665, 2.6666666666666665, 2.6666666666666665, 2.6666666666666665, 2.6666666666666665, 2.6666666666666665, 2.6666666666666665, 2.6666666666666665, 2.6666666666666665], [2.888888888888889, 2.888888888888889, 2.888888888888889, 2.888888888888889, 2.888888888888889, 2.888888888888889, 2.888888888888889, 2.888888888888889, 2.888888888888889, 2.888888888888889], [3.111111111111111, 3.111111111111111, 3.111111111111111, 3.111111111111111, 3.111111111111111, 3.111111111111111, 3.111111111111111, 3.111111111111111, 3.111111111111111, 3.111111111111111], [3.333333333333333, 3.333333333333333, 3.333333333333333, 3.333333333333333, 3.333333333333333, 3.333333333333333, 3.333333333333333, 3.333333333333333, 3.333333333333333, 3.333333333333333], [3.5555555555555554, 3.5555555555555554, 3.5555555555555554, 3.5555555555555554, 3.5555555555555554, 3.5555555555555554, 3.5555555555555554, 3.5555555555555554, 3.5555555555555554, 3.5555555555555554], [3.7777777777777777, 3.7777777777777777, 3.7777777777777777, 3.7777777777777777, 3.7777777777777777, 3.7777777777777777, 3.7777777777777777, 3.7777777777777777, 3.7777777777777777, 3.7777777777777777], [4.0, 4.0, 4.0, 4.0, 4.0, 4.0, 4.0, 4.0, 4.0, 4.0]], \"z\": [[271.91602471830157, 291.9374073215723, 311.958789924843, 331.98017252811377, 352.00155513138446, 372.0229377346552, 392.0443203379259, 412.0657029411966, 432.08708554446736, 452.1084681477381], [271.91602471830157, 291.9374073215723, 311.958789924843, 331.98017252811377, 352.00155513138446, 372.0229377346552, 392.0443203379259, 412.0657029411966, 432.08708554446736, 452.1084681477381], [271.91602471830157, 291.9374073215723, 311.958789924843, 331.98017252811377, 352.00155513138446, 372.0229377346552, 392.0443203379259, 412.0657029411966, 432.08708554446736, 452.1084681477381], [271.91602471830157, 291.9374073215723, 311.958789924843, 331.98017252811377, 352.00155513138446, 372.0229377346552, 392.0443203379259, 412.0657029411966, 432.08708554446736, 452.1084681477381], [271.91602471830157, 291.9374073215723, 311.958789924843, 331.98017252811377, 352.00155513138446, 372.0229377346552, 392.0443203379259, 412.0657029411966, 432.08708554446736, 452.1084681477381], [271.91602471830157, 291.9374073215723, 311.958789924843, 331.98017252811377, 352.00155513138446, 372.0229377346552, 392.0443203379259, 412.0657029411966, 432.08708554446736, 452.1084681477381], [271.91602471830157, 291.9374073215723, 311.958789924843, 331.98017252811377, 352.00155513138446, 372.0229377346552, 392.0443203379259, 412.0657029411966, 432.08708554446736, 452.1084681477381], [271.91602471830157, 291.9374073215723, 311.958789924843, 331.98017252811377, 352.00155513138446, 372.0229377346552, 392.0443203379259, 412.0657029411966, 432.08708554446736, 452.1084681477381], [271.91602471830157, 291.9374073215723, 311.958789924843, 331.98017252811377, 352.00155513138446, 372.0229377346552, 392.0443203379259, 412.0657029411966, 432.08708554446736, 452.1084681477381], [271.91602471830157, 291.9374073215723, 311.958789924843, 331.98017252811377, 352.00155513138446, 372.0229377346552, 392.0443203379259, 412.0657029411966, 432.08708554446736, 452.1084681477381]]}, {\"coloraxis\": \"coloraxis\", \"colorbar\": {\"thickness\": 5}, \"name\": \"PU+1.2%EG\", \"opacity\": 0.6, \"type\": \"surface\", \"visible\": false, \"x\": [[2.5, 3.1666666666666665, 3.833333333333333, 4.5, 5.166666666666666, 5.833333333333333, 6.5, 7.166666666666666, 7.833333333333333, 8.5], [2.5, 3.1666666666666665, 3.833333333333333, 4.5, 5.166666666666666, 5.833333333333333, 6.5, 7.166666666666666, 7.833333333333333, 8.5], [2.5, 3.1666666666666665, 3.833333333333333, 4.5, 5.166666666666666, 5.833333333333333, 6.5, 7.166666666666666, 7.833333333333333, 8.5], [2.5, 3.1666666666666665, 3.833333333333333, 4.5, 5.166666666666666, 5.833333333333333, 6.5, 7.166666666666666, 7.833333333333333, 8.5], [2.5, 3.1666666666666665, 3.833333333333333, 4.5, 5.166666666666666, 5.833333333333333, 6.5, 7.166666666666666, 7.833333333333333, 8.5], [2.5, 3.1666666666666665, 3.833333333333333, 4.5, 5.166666666666666, 5.833333333333333, 6.5, 7.166666666666666, 7.833333333333333, 8.5], [2.5, 3.1666666666666665, 3.833333333333333, 4.5, 5.166666666666666, 5.833333333333333, 6.5, 7.166666666666666, 7.833333333333333, 8.5], [2.5, 3.1666666666666665, 3.833333333333333, 4.5, 5.166666666666666, 5.833333333333333, 6.5, 7.166666666666666, 7.833333333333333, 8.5], [2.5, 3.1666666666666665, 3.833333333333333, 4.5, 5.166666666666666, 5.833333333333333, 6.5, 7.166666666666666, 7.833333333333333, 8.5], [2.5, 3.1666666666666665, 3.833333333333333, 4.5, 5.166666666666666, 5.833333333333333, 6.5, 7.166666666666666, 7.833333333333333, 8.5]], \"y\": [[2.0, 2.0, 2.0, 2.0, 2.0, 2.0, 2.0, 2.0, 2.0, 2.0], [2.2222222222222223, 2.2222222222222223, 2.2222222222222223, 2.2222222222222223, 2.2222222222222223, 2.2222222222222223, 2.2222222222222223, 2.2222222222222223, 2.2222222222222223, 2.2222222222222223], [2.4444444444444446, 2.4444444444444446, 2.4444444444444446, 2.4444444444444446, 2.4444444444444446, 2.4444444444444446, 2.4444444444444446, 2.4444444444444446, 2.4444444444444446, 2.4444444444444446], [2.6666666666666665, 2.6666666666666665, 2.6666666666666665, 2.6666666666666665, 2.6666666666666665, 2.6666666666666665, 2.6666666666666665, 2.6666666666666665, 2.6666666666666665, 2.6666666666666665], [2.888888888888889, 2.888888888888889, 2.888888888888889, 2.888888888888889, 2.888888888888889, 2.888888888888889, 2.888888888888889, 2.888888888888889, 2.888888888888889, 2.888888888888889], [3.111111111111111, 3.111111111111111, 3.111111111111111, 3.111111111111111, 3.111111111111111, 3.111111111111111, 3.111111111111111, 3.111111111111111, 3.111111111111111, 3.111111111111111], [3.333333333333333, 3.333333333333333, 3.333333333333333, 3.333333333333333, 3.333333333333333, 3.333333333333333, 3.333333333333333, 3.333333333333333, 3.333333333333333, 3.333333333333333], [3.5555555555555554, 3.5555555555555554, 3.5555555555555554, 3.5555555555555554, 3.5555555555555554, 3.5555555555555554, 3.5555555555555554, 3.5555555555555554, 3.5555555555555554, 3.5555555555555554], [3.7777777777777777, 3.7777777777777777, 3.7777777777777777, 3.7777777777777777, 3.7777777777777777, 3.7777777777777777, 3.7777777777777777, 3.7777777777777777, 3.7777777777777777, 3.7777777777777777], [4.0, 4.0, 4.0, 4.0, 4.0, 4.0, 4.0, 4.0, 4.0, 4.0]], \"z\": [[274.48397322991076, 294.50535583318145, 314.52673843645215, 334.5481210397229, 354.5695036429936, 374.59088624626435, 394.61226884953504, 414.63365145280574, 434.6550340560765, 454.67641665934724], [274.48397322991076, 294.50535583318145, 314.52673843645215, 334.5481210397229, 354.5695036429936, 374.59088624626435, 394.61226884953504, 414.63365145280574, 434.6550340560765, 454.67641665934724], [274.48397322991076, 294.50535583318145, 314.52673843645215, 334.5481210397229, 354.5695036429936, 374.59088624626435, 394.61226884953504, 414.63365145280574, 434.6550340560765, 454.67641665934724], [274.48397322991076, 294.50535583318145, 314.52673843645215, 334.5481210397229, 354.5695036429936, 374.59088624626435, 394.61226884953504, 414.63365145280574, 434.6550340560765, 454.67641665934724], [274.48397322991076, 294.50535583318145, 314.52673843645215, 334.5481210397229, 354.5695036429936, 374.59088624626435, 394.61226884953504, 414.63365145280574, 434.6550340560765, 454.67641665934724], [274.48397322991076, 294.50535583318145, 314.52673843645215, 334.5481210397229, 354.5695036429936, 374.59088624626435, 394.61226884953504, 414.63365145280574, 434.6550340560765, 454.67641665934724], [274.48397322991076, 294.50535583318145, 314.52673843645215, 334.5481210397229, 354.5695036429936, 374.59088624626435, 394.61226884953504, 414.63365145280574, 434.6550340560765, 454.67641665934724], [274.48397322991076, 294.50535583318145, 314.52673843645215, 334.5481210397229, 354.5695036429936, 374.59088624626435, 394.61226884953504, 414.63365145280574, 434.6550340560765, 454.67641665934724], [274.48397322991076, 294.50535583318145, 314.52673843645215, 334.5481210397229, 354.5695036429936, 374.59088624626435, 394.61226884953504, 414.63365145280574, 434.6550340560765, 454.67641665934724], [274.48397322991076, 294.50535583318145, 314.52673843645215, 334.5481210397229, 354.5695036429936, 374.59088624626435, 394.61226884953504, 414.63365145280574, 434.6550340560765, 454.67641665934724]]}, {\"coloraxis\": \"coloraxis\", \"colorbar\": {\"thickness\": 5}, \"name\": \"PU+1.3%EG\", \"opacity\": 0.6, \"type\": \"surface\", \"visible\": false, \"x\": [[2.5, 3.1666666666666665, 3.833333333333333, 4.5, 5.166666666666666, 5.833333333333333, 6.5, 7.166666666666666, 7.833333333333333, 8.5], [2.5, 3.1666666666666665, 3.833333333333333, 4.5, 5.166666666666666, 5.833333333333333, 6.5, 7.166666666666666, 7.833333333333333, 8.5], [2.5, 3.1666666666666665, 3.833333333333333, 4.5, 5.166666666666666, 5.833333333333333, 6.5, 7.166666666666666, 7.833333333333333, 8.5], [2.5, 3.1666666666666665, 3.833333333333333, 4.5, 5.166666666666666, 5.833333333333333, 6.5, 7.166666666666666, 7.833333333333333, 8.5], [2.5, 3.1666666666666665, 3.833333333333333, 4.5, 5.166666666666666, 5.833333333333333, 6.5, 7.166666666666666, 7.833333333333333, 8.5], [2.5, 3.1666666666666665, 3.833333333333333, 4.5, 5.166666666666666, 5.833333333333333, 6.5, 7.166666666666666, 7.833333333333333, 8.5], [2.5, 3.1666666666666665, 3.833333333333333, 4.5, 5.166666666666666, 5.833333333333333, 6.5, 7.166666666666666, 7.833333333333333, 8.5], [2.5, 3.1666666666666665, 3.833333333333333, 4.5, 5.166666666666666, 5.833333333333333, 6.5, 7.166666666666666, 7.833333333333333, 8.5], [2.5, 3.1666666666666665, 3.833333333333333, 4.5, 5.166666666666666, 5.833333333333333, 6.5, 7.166666666666666, 7.833333333333333, 8.5], [2.5, 3.1666666666666665, 3.833333333333333, 4.5, 5.166666666666666, 5.833333333333333, 6.5, 7.166666666666666, 7.833333333333333, 8.5]], \"y\": [[2.0, 2.0, 2.0, 2.0, 2.0, 2.0, 2.0, 2.0, 2.0, 2.0], [2.2222222222222223, 2.2222222222222223, 2.2222222222222223, 2.2222222222222223, 2.2222222222222223, 2.2222222222222223, 2.2222222222222223, 2.2222222222222223, 2.2222222222222223, 2.2222222222222223], [2.4444444444444446, 2.4444444444444446, 2.4444444444444446, 2.4444444444444446, 2.4444444444444446, 2.4444444444444446, 2.4444444444444446, 2.4444444444444446, 2.4444444444444446, 2.4444444444444446], [2.6666666666666665, 2.6666666666666665, 2.6666666666666665, 2.6666666666666665, 2.6666666666666665, 2.6666666666666665, 2.6666666666666665, 2.6666666666666665, 2.6666666666666665, 2.6666666666666665], [2.888888888888889, 2.888888888888889, 2.888888888888889, 2.888888888888889, 2.888888888888889, 2.888888888888889, 2.888888888888889, 2.888888888888889, 2.888888888888889, 2.888888888888889], [3.111111111111111, 3.111111111111111, 3.111111111111111, 3.111111111111111, 3.111111111111111, 3.111111111111111, 3.111111111111111, 3.111111111111111, 3.111111111111111, 3.111111111111111], [3.333333333333333, 3.333333333333333, 3.333333333333333, 3.333333333333333, 3.333333333333333, 3.333333333333333, 3.333333333333333, 3.333333333333333, 3.333333333333333, 3.333333333333333], [3.5555555555555554, 3.5555555555555554, 3.5555555555555554, 3.5555555555555554, 3.5555555555555554, 3.5555555555555554, 3.5555555555555554, 3.5555555555555554, 3.5555555555555554, 3.5555555555555554], [3.7777777777777777, 3.7777777777777777, 3.7777777777777777, 3.7777777777777777, 3.7777777777777777, 3.7777777777777777, 3.7777777777777777, 3.7777777777777777, 3.7777777777777777, 3.7777777777777777], [4.0, 4.0, 4.0, 4.0, 4.0, 4.0, 4.0, 4.0, 4.0, 4.0]], \"z\": [[277.0519217415199, 297.07330434479064, 317.09468694806134, 337.1160695513321, 357.1374521546028, 377.15883475787354, 397.18021736114423, 417.2015999644149, 437.2229825676857, 457.2443651709564], [277.0519217415199, 297.07330434479064, 317.09468694806134, 337.1160695513321, 357.1374521546028, 377.15883475787354, 397.18021736114423, 417.2015999644149, 437.2229825676857, 457.2443651709564], [277.0519217415199, 297.07330434479064, 317.09468694806134, 337.1160695513321, 357.1374521546028, 377.15883475787354, 397.18021736114423, 417.2015999644149, 437.2229825676857, 457.2443651709564], [277.0519217415199, 297.07330434479064, 317.09468694806134, 337.1160695513321, 357.1374521546028, 377.15883475787354, 397.18021736114423, 417.2015999644149, 437.2229825676857, 457.2443651709564], [277.0519217415199, 297.07330434479064, 317.09468694806134, 337.1160695513321, 357.1374521546028, 377.15883475787354, 397.18021736114423, 417.2015999644149, 437.2229825676857, 457.2443651709564], [277.0519217415199, 297.07330434479064, 317.09468694806134, 337.1160695513321, 357.1374521546028, 377.15883475787354, 397.18021736114423, 417.2015999644149, 437.2229825676857, 457.2443651709564], [277.0519217415199, 297.07330434479064, 317.09468694806134, 337.1160695513321, 357.1374521546028, 377.15883475787354, 397.18021736114423, 417.2015999644149, 437.2229825676857, 457.2443651709564], [277.0519217415199, 297.07330434479064, 317.09468694806134, 337.1160695513321, 357.1374521546028, 377.15883475787354, 397.18021736114423, 417.2015999644149, 437.2229825676857, 457.2443651709564], [277.0519217415199, 297.07330434479064, 317.09468694806134, 337.1160695513321, 357.1374521546028, 377.15883475787354, 397.18021736114423, 417.2015999644149, 437.2229825676857, 457.2443651709564], [277.0519217415199, 297.07330434479064, 317.09468694806134, 337.1160695513321, 357.1374521546028, 377.15883475787354, 397.18021736114423, 417.2015999644149, 437.2229825676857, 457.2443651709564]]}, {\"coloraxis\": \"coloraxis\", \"colorbar\": {\"thickness\": 5}, \"name\": \"PU+1.4%EG\", \"opacity\": 0.6, \"type\": \"surface\", \"visible\": false, \"x\": [[2.5, 3.1666666666666665, 3.833333333333333, 4.5, 5.166666666666666, 5.833333333333333, 6.5, 7.166666666666666, 7.833333333333333, 8.5], [2.5, 3.1666666666666665, 3.833333333333333, 4.5, 5.166666666666666, 5.833333333333333, 6.5, 7.166666666666666, 7.833333333333333, 8.5], [2.5, 3.1666666666666665, 3.833333333333333, 4.5, 5.166666666666666, 5.833333333333333, 6.5, 7.166666666666666, 7.833333333333333, 8.5], [2.5, 3.1666666666666665, 3.833333333333333, 4.5, 5.166666666666666, 5.833333333333333, 6.5, 7.166666666666666, 7.833333333333333, 8.5], [2.5, 3.1666666666666665, 3.833333333333333, 4.5, 5.166666666666666, 5.833333333333333, 6.5, 7.166666666666666, 7.833333333333333, 8.5], [2.5, 3.1666666666666665, 3.833333333333333, 4.5, 5.166666666666666, 5.833333333333333, 6.5, 7.166666666666666, 7.833333333333333, 8.5], [2.5, 3.1666666666666665, 3.833333333333333, 4.5, 5.166666666666666, 5.833333333333333, 6.5, 7.166666666666666, 7.833333333333333, 8.5], [2.5, 3.1666666666666665, 3.833333333333333, 4.5, 5.166666666666666, 5.833333333333333, 6.5, 7.166666666666666, 7.833333333333333, 8.5], [2.5, 3.1666666666666665, 3.833333333333333, 4.5, 5.166666666666666, 5.833333333333333, 6.5, 7.166666666666666, 7.833333333333333, 8.5], [2.5, 3.1666666666666665, 3.833333333333333, 4.5, 5.166666666666666, 5.833333333333333, 6.5, 7.166666666666666, 7.833333333333333, 8.5]], \"y\": [[2.0, 2.0, 2.0, 2.0, 2.0, 2.0, 2.0, 2.0, 2.0, 2.0], [2.2222222222222223, 2.2222222222222223, 2.2222222222222223, 2.2222222222222223, 2.2222222222222223, 2.2222222222222223, 2.2222222222222223, 2.2222222222222223, 2.2222222222222223, 2.2222222222222223], [2.4444444444444446, 2.4444444444444446, 2.4444444444444446, 2.4444444444444446, 2.4444444444444446, 2.4444444444444446, 2.4444444444444446, 2.4444444444444446, 2.4444444444444446, 2.4444444444444446], [2.6666666666666665, 2.6666666666666665, 2.6666666666666665, 2.6666666666666665, 2.6666666666666665, 2.6666666666666665, 2.6666666666666665, 2.6666666666666665, 2.6666666666666665, 2.6666666666666665], [2.888888888888889, 2.888888888888889, 2.888888888888889, 2.888888888888889, 2.888888888888889, 2.888888888888889, 2.888888888888889, 2.888888888888889, 2.888888888888889, 2.888888888888889], [3.111111111111111, 3.111111111111111, 3.111111111111111, 3.111111111111111, 3.111111111111111, 3.111111111111111, 3.111111111111111, 3.111111111111111, 3.111111111111111, 3.111111111111111], [3.333333333333333, 3.333333333333333, 3.333333333333333, 3.333333333333333, 3.333333333333333, 3.333333333333333, 3.333333333333333, 3.333333333333333, 3.333333333333333, 3.333333333333333], [3.5555555555555554, 3.5555555555555554, 3.5555555555555554, 3.5555555555555554, 3.5555555555555554, 3.5555555555555554, 3.5555555555555554, 3.5555555555555554, 3.5555555555555554, 3.5555555555555554], [3.7777777777777777, 3.7777777777777777, 3.7777777777777777, 3.7777777777777777, 3.7777777777777777, 3.7777777777777777, 3.7777777777777777, 3.7777777777777777, 3.7777777777777777, 3.7777777777777777], [4.0, 4.0, 4.0, 4.0, 4.0, 4.0, 4.0, 4.0, 4.0, 4.0]], \"z\": [[279.6198702531291, 299.6412528563998, 319.66263545967047, 339.6840180629412, 359.7054006662119, 379.72678326948267, 399.74816587275336, 419.76954847602406, 439.7909310792948, 459.81231368256556], [279.6198702531291, 299.6412528563998, 319.66263545967047, 339.6840180629412, 359.7054006662119, 379.72678326948267, 399.74816587275336, 419.76954847602406, 439.7909310792948, 459.81231368256556], [279.6198702531291, 299.6412528563998, 319.66263545967047, 339.6840180629412, 359.7054006662119, 379.72678326948267, 399.74816587275336, 419.76954847602406, 439.7909310792948, 459.81231368256556], [279.6198702531291, 299.6412528563998, 319.66263545967047, 339.6840180629412, 359.7054006662119, 379.72678326948267, 399.74816587275336, 419.76954847602406, 439.7909310792948, 459.81231368256556], [279.6198702531291, 299.6412528563998, 319.66263545967047, 339.6840180629412, 359.7054006662119, 379.72678326948267, 399.74816587275336, 419.76954847602406, 439.7909310792948, 459.81231368256556], [279.6198702531291, 299.6412528563998, 319.66263545967047, 339.6840180629412, 359.7054006662119, 379.72678326948267, 399.74816587275336, 419.76954847602406, 439.7909310792948, 459.81231368256556], [279.6198702531291, 299.6412528563998, 319.66263545967047, 339.6840180629412, 359.7054006662119, 379.72678326948267, 399.74816587275336, 419.76954847602406, 439.7909310792948, 459.81231368256556], [279.6198702531291, 299.6412528563998, 319.66263545967047, 339.6840180629412, 359.7054006662119, 379.72678326948267, 399.74816587275336, 419.76954847602406, 439.7909310792948, 459.81231368256556], [279.6198702531291, 299.6412528563998, 319.66263545967047, 339.6840180629412, 359.7054006662119, 379.72678326948267, 399.74816587275336, 419.76954847602406, 439.7909310792948, 459.81231368256556], [279.6198702531291, 299.6412528563998, 319.66263545967047, 339.6840180629412, 359.7054006662119, 379.72678326948267, 399.74816587275336, 419.76954847602406, 439.7909310792948, 459.81231368256556]]}, {\"coloraxis\": \"coloraxis\", \"colorbar\": {\"thickness\": 5}, \"name\": \"PU+1.5%EG\", \"opacity\": 0.6, \"type\": \"surface\", \"visible\": false, \"x\": [[2.5, 3.1666666666666665, 3.833333333333333, 4.5, 5.166666666666666, 5.833333333333333, 6.5, 7.166666666666666, 7.833333333333333, 8.5], [2.5, 3.1666666666666665, 3.833333333333333, 4.5, 5.166666666666666, 5.833333333333333, 6.5, 7.166666666666666, 7.833333333333333, 8.5], [2.5, 3.1666666666666665, 3.833333333333333, 4.5, 5.166666666666666, 5.833333333333333, 6.5, 7.166666666666666, 7.833333333333333, 8.5], [2.5, 3.1666666666666665, 3.833333333333333, 4.5, 5.166666666666666, 5.833333333333333, 6.5, 7.166666666666666, 7.833333333333333, 8.5], [2.5, 3.1666666666666665, 3.833333333333333, 4.5, 5.166666666666666, 5.833333333333333, 6.5, 7.166666666666666, 7.833333333333333, 8.5], [2.5, 3.1666666666666665, 3.833333333333333, 4.5, 5.166666666666666, 5.833333333333333, 6.5, 7.166666666666666, 7.833333333333333, 8.5], [2.5, 3.1666666666666665, 3.833333333333333, 4.5, 5.166666666666666, 5.833333333333333, 6.5, 7.166666666666666, 7.833333333333333, 8.5], [2.5, 3.1666666666666665, 3.833333333333333, 4.5, 5.166666666666666, 5.833333333333333, 6.5, 7.166666666666666, 7.833333333333333, 8.5], [2.5, 3.1666666666666665, 3.833333333333333, 4.5, 5.166666666666666, 5.833333333333333, 6.5, 7.166666666666666, 7.833333333333333, 8.5], [2.5, 3.1666666666666665, 3.833333333333333, 4.5, 5.166666666666666, 5.833333333333333, 6.5, 7.166666666666666, 7.833333333333333, 8.5]], \"y\": [[2.0, 2.0, 2.0, 2.0, 2.0, 2.0, 2.0, 2.0, 2.0, 2.0], [2.2222222222222223, 2.2222222222222223, 2.2222222222222223, 2.2222222222222223, 2.2222222222222223, 2.2222222222222223, 2.2222222222222223, 2.2222222222222223, 2.2222222222222223, 2.2222222222222223], [2.4444444444444446, 2.4444444444444446, 2.4444444444444446, 2.4444444444444446, 2.4444444444444446, 2.4444444444444446, 2.4444444444444446, 2.4444444444444446, 2.4444444444444446, 2.4444444444444446], [2.6666666666666665, 2.6666666666666665, 2.6666666666666665, 2.6666666666666665, 2.6666666666666665, 2.6666666666666665, 2.6666666666666665, 2.6666666666666665, 2.6666666666666665, 2.6666666666666665], [2.888888888888889, 2.888888888888889, 2.888888888888889, 2.888888888888889, 2.888888888888889, 2.888888888888889, 2.888888888888889, 2.888888888888889, 2.888888888888889, 2.888888888888889], [3.111111111111111, 3.111111111111111, 3.111111111111111, 3.111111111111111, 3.111111111111111, 3.111111111111111, 3.111111111111111, 3.111111111111111, 3.111111111111111, 3.111111111111111], [3.333333333333333, 3.333333333333333, 3.333333333333333, 3.333333333333333, 3.333333333333333, 3.333333333333333, 3.333333333333333, 3.333333333333333, 3.333333333333333, 3.333333333333333], [3.5555555555555554, 3.5555555555555554, 3.5555555555555554, 3.5555555555555554, 3.5555555555555554, 3.5555555555555554, 3.5555555555555554, 3.5555555555555554, 3.5555555555555554, 3.5555555555555554], [3.7777777777777777, 3.7777777777777777, 3.7777777777777777, 3.7777777777777777, 3.7777777777777777, 3.7777777777777777, 3.7777777777777777, 3.7777777777777777, 3.7777777777777777, 3.7777777777777777], [4.0, 4.0, 4.0, 4.0, 4.0, 4.0, 4.0, 4.0, 4.0, 4.0]], \"z\": [[282.1878187647382, 302.20920136800896, 322.23058397127966, 342.25196657455035, 362.27334917782105, 382.29473178109185, 402.31611438436255, 422.33749698763324, 442.35887959090394, 462.38026219417475], [282.1878187647382, 302.20920136800896, 322.23058397127966, 342.25196657455035, 362.27334917782105, 382.29473178109185, 402.31611438436255, 422.33749698763324, 442.35887959090394, 462.38026219417475], [282.1878187647382, 302.20920136800896, 322.23058397127966, 342.25196657455035, 362.27334917782105, 382.29473178109185, 402.31611438436255, 422.33749698763324, 442.35887959090394, 462.38026219417475], [282.1878187647382, 302.20920136800896, 322.23058397127966, 342.25196657455035, 362.27334917782105, 382.29473178109185, 402.31611438436255, 422.33749698763324, 442.35887959090394, 462.38026219417475], [282.1878187647382, 302.20920136800896, 322.23058397127966, 342.25196657455035, 362.27334917782105, 382.29473178109185, 402.31611438436255, 422.33749698763324, 442.35887959090394, 462.38026219417475], [282.1878187647382, 302.20920136800896, 322.23058397127966, 342.25196657455035, 362.27334917782105, 382.29473178109185, 402.31611438436255, 422.33749698763324, 442.35887959090394, 462.38026219417475], [282.1878187647382, 302.20920136800896, 322.23058397127966, 342.25196657455035, 362.27334917782105, 382.29473178109185, 402.31611438436255, 422.33749698763324, 442.35887959090394, 462.38026219417475], [282.1878187647382, 302.20920136800896, 322.23058397127966, 342.25196657455035, 362.27334917782105, 382.29473178109185, 402.31611438436255, 422.33749698763324, 442.35887959090394, 462.38026219417475], [282.1878187647382, 302.20920136800896, 322.23058397127966, 342.25196657455035, 362.27334917782105, 382.29473178109185, 402.31611438436255, 422.33749698763324, 442.35887959090394, 462.38026219417475], [282.1878187647382, 302.20920136800896, 322.23058397127966, 342.25196657455035, 362.27334917782105, 382.29473178109185, 402.31611438436255, 422.33749698763324, 442.35887959090394, 462.38026219417475]]}, {\"coloraxis\": \"coloraxis\", \"colorbar\": {\"thickness\": 5}, \"name\": \"PU+1.6%EG\", \"opacity\": 0.6, \"type\": \"surface\", \"visible\": false, \"x\": [[2.5, 3.1666666666666665, 3.833333333333333, 4.5, 5.166666666666666, 5.833333333333333, 6.5, 7.166666666666666, 7.833333333333333, 8.5], [2.5, 3.1666666666666665, 3.833333333333333, 4.5, 5.166666666666666, 5.833333333333333, 6.5, 7.166666666666666, 7.833333333333333, 8.5], [2.5, 3.1666666666666665, 3.833333333333333, 4.5, 5.166666666666666, 5.833333333333333, 6.5, 7.166666666666666, 7.833333333333333, 8.5], [2.5, 3.1666666666666665, 3.833333333333333, 4.5, 5.166666666666666, 5.833333333333333, 6.5, 7.166666666666666, 7.833333333333333, 8.5], [2.5, 3.1666666666666665, 3.833333333333333, 4.5, 5.166666666666666, 5.833333333333333, 6.5, 7.166666666666666, 7.833333333333333, 8.5], [2.5, 3.1666666666666665, 3.833333333333333, 4.5, 5.166666666666666, 5.833333333333333, 6.5, 7.166666666666666, 7.833333333333333, 8.5], [2.5, 3.1666666666666665, 3.833333333333333, 4.5, 5.166666666666666, 5.833333333333333, 6.5, 7.166666666666666, 7.833333333333333, 8.5], [2.5, 3.1666666666666665, 3.833333333333333, 4.5, 5.166666666666666, 5.833333333333333, 6.5, 7.166666666666666, 7.833333333333333, 8.5], [2.5, 3.1666666666666665, 3.833333333333333, 4.5, 5.166666666666666, 5.833333333333333, 6.5, 7.166666666666666, 7.833333333333333, 8.5], [2.5, 3.1666666666666665, 3.833333333333333, 4.5, 5.166666666666666, 5.833333333333333, 6.5, 7.166666666666666, 7.833333333333333, 8.5]], \"y\": [[2.0, 2.0, 2.0, 2.0, 2.0, 2.0, 2.0, 2.0, 2.0, 2.0], [2.2222222222222223, 2.2222222222222223, 2.2222222222222223, 2.2222222222222223, 2.2222222222222223, 2.2222222222222223, 2.2222222222222223, 2.2222222222222223, 2.2222222222222223, 2.2222222222222223], [2.4444444444444446, 2.4444444444444446, 2.4444444444444446, 2.4444444444444446, 2.4444444444444446, 2.4444444444444446, 2.4444444444444446, 2.4444444444444446, 2.4444444444444446, 2.4444444444444446], [2.6666666666666665, 2.6666666666666665, 2.6666666666666665, 2.6666666666666665, 2.6666666666666665, 2.6666666666666665, 2.6666666666666665, 2.6666666666666665, 2.6666666666666665, 2.6666666666666665], [2.888888888888889, 2.888888888888889, 2.888888888888889, 2.888888888888889, 2.888888888888889, 2.888888888888889, 2.888888888888889, 2.888888888888889, 2.888888888888889, 2.888888888888889], [3.111111111111111, 3.111111111111111, 3.111111111111111, 3.111111111111111, 3.111111111111111, 3.111111111111111, 3.111111111111111, 3.111111111111111, 3.111111111111111, 3.111111111111111], [3.333333333333333, 3.333333333333333, 3.333333333333333, 3.333333333333333, 3.333333333333333, 3.333333333333333, 3.333333333333333, 3.333333333333333, 3.333333333333333, 3.333333333333333], [3.5555555555555554, 3.5555555555555554, 3.5555555555555554, 3.5555555555555554, 3.5555555555555554, 3.5555555555555554, 3.5555555555555554, 3.5555555555555554, 3.5555555555555554, 3.5555555555555554], [3.7777777777777777, 3.7777777777777777, 3.7777777777777777, 3.7777777777777777, 3.7777777777777777, 3.7777777777777777, 3.7777777777777777, 3.7777777777777777, 3.7777777777777777, 3.7777777777777777], [4.0, 4.0, 4.0, 4.0, 4.0, 4.0, 4.0, 4.0, 4.0, 4.0]], \"z\": [[284.75576727634734, 304.7771498796181, 324.7985324828888, 344.81991508615954, 364.84129768943023, 384.862680292701, 404.8840628959717, 424.9054454992424, 444.9268281025131, 464.9482107057839], [284.75576727634734, 304.7771498796181, 324.7985324828888, 344.81991508615954, 364.84129768943023, 384.862680292701, 404.8840628959717, 424.9054454992424, 444.9268281025131, 464.9482107057839], [284.75576727634734, 304.7771498796181, 324.7985324828888, 344.81991508615954, 364.84129768943023, 384.862680292701, 404.8840628959717, 424.9054454992424, 444.9268281025131, 464.9482107057839], [284.75576727634734, 304.7771498796181, 324.7985324828888, 344.81991508615954, 364.84129768943023, 384.862680292701, 404.8840628959717, 424.9054454992424, 444.9268281025131, 464.9482107057839], [284.75576727634734, 304.7771498796181, 324.7985324828888, 344.81991508615954, 364.84129768943023, 384.862680292701, 404.8840628959717, 424.9054454992424, 444.9268281025131, 464.9482107057839], [284.75576727634734, 304.7771498796181, 324.7985324828888, 344.81991508615954, 364.84129768943023, 384.862680292701, 404.8840628959717, 424.9054454992424, 444.9268281025131, 464.9482107057839], [284.75576727634734, 304.7771498796181, 324.7985324828888, 344.81991508615954, 364.84129768943023, 384.862680292701, 404.8840628959717, 424.9054454992424, 444.9268281025131, 464.9482107057839], [284.75576727634734, 304.7771498796181, 324.7985324828888, 344.81991508615954, 364.84129768943023, 384.862680292701, 404.8840628959717, 424.9054454992424, 444.9268281025131, 464.9482107057839], [284.75576727634734, 304.7771498796181, 324.7985324828888, 344.81991508615954, 364.84129768943023, 384.862680292701, 404.8840628959717, 424.9054454992424, 444.9268281025131, 464.9482107057839], [284.75576727634734, 304.7771498796181, 324.7985324828888, 344.81991508615954, 364.84129768943023, 384.862680292701, 404.8840628959717, 424.9054454992424, 444.9268281025131, 464.9482107057839]]}, {\"coloraxis\": \"coloraxis\", \"colorbar\": {\"thickness\": 5}, \"name\": \"PU+1.7%EG\", \"opacity\": 0.6, \"type\": \"surface\", \"visible\": false, \"x\": [[2.5, 3.1666666666666665, 3.833333333333333, 4.5, 5.166666666666666, 5.833333333333333, 6.5, 7.166666666666666, 7.833333333333333, 8.5], [2.5, 3.1666666666666665, 3.833333333333333, 4.5, 5.166666666666666, 5.833333333333333, 6.5, 7.166666666666666, 7.833333333333333, 8.5], [2.5, 3.1666666666666665, 3.833333333333333, 4.5, 5.166666666666666, 5.833333333333333, 6.5, 7.166666666666666, 7.833333333333333, 8.5], [2.5, 3.1666666666666665, 3.833333333333333, 4.5, 5.166666666666666, 5.833333333333333, 6.5, 7.166666666666666, 7.833333333333333, 8.5], [2.5, 3.1666666666666665, 3.833333333333333, 4.5, 5.166666666666666, 5.833333333333333, 6.5, 7.166666666666666, 7.833333333333333, 8.5], [2.5, 3.1666666666666665, 3.833333333333333, 4.5, 5.166666666666666, 5.833333333333333, 6.5, 7.166666666666666, 7.833333333333333, 8.5], [2.5, 3.1666666666666665, 3.833333333333333, 4.5, 5.166666666666666, 5.833333333333333, 6.5, 7.166666666666666, 7.833333333333333, 8.5], [2.5, 3.1666666666666665, 3.833333333333333, 4.5, 5.166666666666666, 5.833333333333333, 6.5, 7.166666666666666, 7.833333333333333, 8.5], [2.5, 3.1666666666666665, 3.833333333333333, 4.5, 5.166666666666666, 5.833333333333333, 6.5, 7.166666666666666, 7.833333333333333, 8.5], [2.5, 3.1666666666666665, 3.833333333333333, 4.5, 5.166666666666666, 5.833333333333333, 6.5, 7.166666666666666, 7.833333333333333, 8.5]], \"y\": [[2.0, 2.0, 2.0, 2.0, 2.0, 2.0, 2.0, 2.0, 2.0, 2.0], [2.2222222222222223, 2.2222222222222223, 2.2222222222222223, 2.2222222222222223, 2.2222222222222223, 2.2222222222222223, 2.2222222222222223, 2.2222222222222223, 2.2222222222222223, 2.2222222222222223], [2.4444444444444446, 2.4444444444444446, 2.4444444444444446, 2.4444444444444446, 2.4444444444444446, 2.4444444444444446, 2.4444444444444446, 2.4444444444444446, 2.4444444444444446, 2.4444444444444446], [2.6666666666666665, 2.6666666666666665, 2.6666666666666665, 2.6666666666666665, 2.6666666666666665, 2.6666666666666665, 2.6666666666666665, 2.6666666666666665, 2.6666666666666665, 2.6666666666666665], [2.888888888888889, 2.888888888888889, 2.888888888888889, 2.888888888888889, 2.888888888888889, 2.888888888888889, 2.888888888888889, 2.888888888888889, 2.888888888888889, 2.888888888888889], [3.111111111111111, 3.111111111111111, 3.111111111111111, 3.111111111111111, 3.111111111111111, 3.111111111111111, 3.111111111111111, 3.111111111111111, 3.111111111111111, 3.111111111111111], [3.333333333333333, 3.333333333333333, 3.333333333333333, 3.333333333333333, 3.333333333333333, 3.333333333333333, 3.333333333333333, 3.333333333333333, 3.333333333333333, 3.333333333333333], [3.5555555555555554, 3.5555555555555554, 3.5555555555555554, 3.5555555555555554, 3.5555555555555554, 3.5555555555555554, 3.5555555555555554, 3.5555555555555554, 3.5555555555555554, 3.5555555555555554], [3.7777777777777777, 3.7777777777777777, 3.7777777777777777, 3.7777777777777777, 3.7777777777777777, 3.7777777777777777, 3.7777777777777777, 3.7777777777777777, 3.7777777777777777, 3.7777777777777777], [4.0, 4.0, 4.0, 4.0, 4.0, 4.0, 4.0, 4.0, 4.0, 4.0]], \"z\": [[287.32371578795653, 307.3450983912272, 327.3664809944979, 347.3878635977687, 367.4092462010394, 387.4306288043101, 407.4520114075808, 427.4733940108515, 447.4947766141223, 467.516159217393], [287.32371578795653, 307.3450983912272, 327.3664809944979, 347.3878635977687, 367.4092462010394, 387.4306288043101, 407.4520114075808, 427.4733940108515, 447.4947766141223, 467.516159217393], [287.32371578795653, 307.3450983912272, 327.3664809944979, 347.3878635977687, 367.4092462010394, 387.4306288043101, 407.4520114075808, 427.4733940108515, 447.4947766141223, 467.516159217393], [287.32371578795653, 307.3450983912272, 327.3664809944979, 347.3878635977687, 367.4092462010394, 387.4306288043101, 407.4520114075808, 427.4733940108515, 447.4947766141223, 467.516159217393], [287.32371578795653, 307.3450983912272, 327.3664809944979, 347.3878635977687, 367.4092462010394, 387.4306288043101, 407.4520114075808, 427.4733940108515, 447.4947766141223, 467.516159217393], [287.32371578795653, 307.3450983912272, 327.3664809944979, 347.3878635977687, 367.4092462010394, 387.4306288043101, 407.4520114075808, 427.4733940108515, 447.4947766141223, 467.516159217393], [287.32371578795653, 307.3450983912272, 327.3664809944979, 347.3878635977687, 367.4092462010394, 387.4306288043101, 407.4520114075808, 427.4733940108515, 447.4947766141223, 467.516159217393], [287.32371578795653, 307.3450983912272, 327.3664809944979, 347.3878635977687, 367.4092462010394, 387.4306288043101, 407.4520114075808, 427.4733940108515, 447.4947766141223, 467.516159217393], [287.32371578795653, 307.3450983912272, 327.3664809944979, 347.3878635977687, 367.4092462010394, 387.4306288043101, 407.4520114075808, 427.4733940108515, 447.4947766141223, 467.516159217393], [287.32371578795653, 307.3450983912272, 327.3664809944979, 347.3878635977687, 367.4092462010394, 387.4306288043101, 407.4520114075808, 427.4733940108515, 447.4947766141223, 467.516159217393]]}, {\"coloraxis\": \"coloraxis\", \"colorbar\": {\"thickness\": 5}, \"name\": \"PU+1.8%EG\", \"opacity\": 0.6, \"type\": \"surface\", \"visible\": false, \"x\": [[2.5, 3.1666666666666665, 3.833333333333333, 4.5, 5.166666666666666, 5.833333333333333, 6.5, 7.166666666666666, 7.833333333333333, 8.5], [2.5, 3.1666666666666665, 3.833333333333333, 4.5, 5.166666666666666, 5.833333333333333, 6.5, 7.166666666666666, 7.833333333333333, 8.5], [2.5, 3.1666666666666665, 3.833333333333333, 4.5, 5.166666666666666, 5.833333333333333, 6.5, 7.166666666666666, 7.833333333333333, 8.5], [2.5, 3.1666666666666665, 3.833333333333333, 4.5, 5.166666666666666, 5.833333333333333, 6.5, 7.166666666666666, 7.833333333333333, 8.5], [2.5, 3.1666666666666665, 3.833333333333333, 4.5, 5.166666666666666, 5.833333333333333, 6.5, 7.166666666666666, 7.833333333333333, 8.5], [2.5, 3.1666666666666665, 3.833333333333333, 4.5, 5.166666666666666, 5.833333333333333, 6.5, 7.166666666666666, 7.833333333333333, 8.5], [2.5, 3.1666666666666665, 3.833333333333333, 4.5, 5.166666666666666, 5.833333333333333, 6.5, 7.166666666666666, 7.833333333333333, 8.5], [2.5, 3.1666666666666665, 3.833333333333333, 4.5, 5.166666666666666, 5.833333333333333, 6.5, 7.166666666666666, 7.833333333333333, 8.5], [2.5, 3.1666666666666665, 3.833333333333333, 4.5, 5.166666666666666, 5.833333333333333, 6.5, 7.166666666666666, 7.833333333333333, 8.5], [2.5, 3.1666666666666665, 3.833333333333333, 4.5, 5.166666666666666, 5.833333333333333, 6.5, 7.166666666666666, 7.833333333333333, 8.5]], \"y\": [[2.0, 2.0, 2.0, 2.0, 2.0, 2.0, 2.0, 2.0, 2.0, 2.0], [2.2222222222222223, 2.2222222222222223, 2.2222222222222223, 2.2222222222222223, 2.2222222222222223, 2.2222222222222223, 2.2222222222222223, 2.2222222222222223, 2.2222222222222223, 2.2222222222222223], [2.4444444444444446, 2.4444444444444446, 2.4444444444444446, 2.4444444444444446, 2.4444444444444446, 2.4444444444444446, 2.4444444444444446, 2.4444444444444446, 2.4444444444444446, 2.4444444444444446], [2.6666666666666665, 2.6666666666666665, 2.6666666666666665, 2.6666666666666665, 2.6666666666666665, 2.6666666666666665, 2.6666666666666665, 2.6666666666666665, 2.6666666666666665, 2.6666666666666665], [2.888888888888889, 2.888888888888889, 2.888888888888889, 2.888888888888889, 2.888888888888889, 2.888888888888889, 2.888888888888889, 2.888888888888889, 2.888888888888889, 2.888888888888889], [3.111111111111111, 3.111111111111111, 3.111111111111111, 3.111111111111111, 3.111111111111111, 3.111111111111111, 3.111111111111111, 3.111111111111111, 3.111111111111111, 3.111111111111111], [3.333333333333333, 3.333333333333333, 3.333333333333333, 3.333333333333333, 3.333333333333333, 3.333333333333333, 3.333333333333333, 3.333333333333333, 3.333333333333333, 3.333333333333333], [3.5555555555555554, 3.5555555555555554, 3.5555555555555554, 3.5555555555555554, 3.5555555555555554, 3.5555555555555554, 3.5555555555555554, 3.5555555555555554, 3.5555555555555554, 3.5555555555555554], [3.7777777777777777, 3.7777777777777777, 3.7777777777777777, 3.7777777777777777, 3.7777777777777777, 3.7777777777777777, 3.7777777777777777, 3.7777777777777777, 3.7777777777777777, 3.7777777777777777], [4.0, 4.0, 4.0, 4.0, 4.0, 4.0, 4.0, 4.0, 4.0, 4.0]], \"z\": [[289.89166429956566, 309.9130469028364, 329.9344295061071, 349.95581210937786, 369.97719471264855, 389.9985773159193, 410.01995991919, 430.0413425224607, 450.06272512573145, 470.0841077290022], [289.89166429956566, 309.9130469028364, 329.9344295061071, 349.95581210937786, 369.97719471264855, 389.9985773159193, 410.01995991919, 430.0413425224607, 450.06272512573145, 470.0841077290022], [289.89166429956566, 309.9130469028364, 329.9344295061071, 349.95581210937786, 369.97719471264855, 389.9985773159193, 410.01995991919, 430.0413425224607, 450.06272512573145, 470.0841077290022], [289.89166429956566, 309.9130469028364, 329.9344295061071, 349.95581210937786, 369.97719471264855, 389.9985773159193, 410.01995991919, 430.0413425224607, 450.06272512573145, 470.0841077290022], [289.89166429956566, 309.9130469028364, 329.9344295061071, 349.95581210937786, 369.97719471264855, 389.9985773159193, 410.01995991919, 430.0413425224607, 450.06272512573145, 470.0841077290022], [289.89166429956566, 309.9130469028364, 329.9344295061071, 349.95581210937786, 369.97719471264855, 389.9985773159193, 410.01995991919, 430.0413425224607, 450.06272512573145, 470.0841077290022], [289.89166429956566, 309.9130469028364, 329.9344295061071, 349.95581210937786, 369.97719471264855, 389.9985773159193, 410.01995991919, 430.0413425224607, 450.06272512573145, 470.0841077290022], [289.89166429956566, 309.9130469028364, 329.9344295061071, 349.95581210937786, 369.97719471264855, 389.9985773159193, 410.01995991919, 430.0413425224607, 450.06272512573145, 470.0841077290022], [289.89166429956566, 309.9130469028364, 329.9344295061071, 349.95581210937786, 369.97719471264855, 389.9985773159193, 410.01995991919, 430.0413425224607, 450.06272512573145, 470.0841077290022], [289.89166429956566, 309.9130469028364, 329.9344295061071, 349.95581210937786, 369.97719471264855, 389.9985773159193, 410.01995991919, 430.0413425224607, 450.06272512573145, 470.0841077290022]]}, {\"coloraxis\": \"coloraxis\", \"colorbar\": {\"thickness\": 5}, \"name\": \"PU+1.9%EG\", \"opacity\": 0.6, \"type\": \"surface\", \"visible\": false, \"x\": [[2.5, 3.1666666666666665, 3.833333333333333, 4.5, 5.166666666666666, 5.833333333333333, 6.5, 7.166666666666666, 7.833333333333333, 8.5], [2.5, 3.1666666666666665, 3.833333333333333, 4.5, 5.166666666666666, 5.833333333333333, 6.5, 7.166666666666666, 7.833333333333333, 8.5], [2.5, 3.1666666666666665, 3.833333333333333, 4.5, 5.166666666666666, 5.833333333333333, 6.5, 7.166666666666666, 7.833333333333333, 8.5], [2.5, 3.1666666666666665, 3.833333333333333, 4.5, 5.166666666666666, 5.833333333333333, 6.5, 7.166666666666666, 7.833333333333333, 8.5], [2.5, 3.1666666666666665, 3.833333333333333, 4.5, 5.166666666666666, 5.833333333333333, 6.5, 7.166666666666666, 7.833333333333333, 8.5], [2.5, 3.1666666666666665, 3.833333333333333, 4.5, 5.166666666666666, 5.833333333333333, 6.5, 7.166666666666666, 7.833333333333333, 8.5], [2.5, 3.1666666666666665, 3.833333333333333, 4.5, 5.166666666666666, 5.833333333333333, 6.5, 7.166666666666666, 7.833333333333333, 8.5], [2.5, 3.1666666666666665, 3.833333333333333, 4.5, 5.166666666666666, 5.833333333333333, 6.5, 7.166666666666666, 7.833333333333333, 8.5], [2.5, 3.1666666666666665, 3.833333333333333, 4.5, 5.166666666666666, 5.833333333333333, 6.5, 7.166666666666666, 7.833333333333333, 8.5], [2.5, 3.1666666666666665, 3.833333333333333, 4.5, 5.166666666666666, 5.833333333333333, 6.5, 7.166666666666666, 7.833333333333333, 8.5]], \"y\": [[2.0, 2.0, 2.0, 2.0, 2.0, 2.0, 2.0, 2.0, 2.0, 2.0], [2.2222222222222223, 2.2222222222222223, 2.2222222222222223, 2.2222222222222223, 2.2222222222222223, 2.2222222222222223, 2.2222222222222223, 2.2222222222222223, 2.2222222222222223, 2.2222222222222223], [2.4444444444444446, 2.4444444444444446, 2.4444444444444446, 2.4444444444444446, 2.4444444444444446, 2.4444444444444446, 2.4444444444444446, 2.4444444444444446, 2.4444444444444446, 2.4444444444444446], [2.6666666666666665, 2.6666666666666665, 2.6666666666666665, 2.6666666666666665, 2.6666666666666665, 2.6666666666666665, 2.6666666666666665, 2.6666666666666665, 2.6666666666666665, 2.6666666666666665], [2.888888888888889, 2.888888888888889, 2.888888888888889, 2.888888888888889, 2.888888888888889, 2.888888888888889, 2.888888888888889, 2.888888888888889, 2.888888888888889, 2.888888888888889], [3.111111111111111, 3.111111111111111, 3.111111111111111, 3.111111111111111, 3.111111111111111, 3.111111111111111, 3.111111111111111, 3.111111111111111, 3.111111111111111, 3.111111111111111], [3.333333333333333, 3.333333333333333, 3.333333333333333, 3.333333333333333, 3.333333333333333, 3.333333333333333, 3.333333333333333, 3.333333333333333, 3.333333333333333, 3.333333333333333], [3.5555555555555554, 3.5555555555555554, 3.5555555555555554, 3.5555555555555554, 3.5555555555555554, 3.5555555555555554, 3.5555555555555554, 3.5555555555555554, 3.5555555555555554, 3.5555555555555554], [3.7777777777777777, 3.7777777777777777, 3.7777777777777777, 3.7777777777777777, 3.7777777777777777, 3.7777777777777777, 3.7777777777777777, 3.7777777777777777, 3.7777777777777777, 3.7777777777777777], [4.0, 4.0, 4.0, 4.0, 4.0, 4.0, 4.0, 4.0, 4.0, 4.0]], \"z\": [[292.45961281117485, 312.48099541444554, 332.50237801771624, 352.523760620987, 372.5451432242577, 392.56652582752844, 412.58790843079913, 432.6092910340698, 452.6306736373406, 472.65205624061133], [292.45961281117485, 312.48099541444554, 332.50237801771624, 352.523760620987, 372.5451432242577, 392.56652582752844, 412.58790843079913, 432.6092910340698, 452.6306736373406, 472.65205624061133], [292.45961281117485, 312.48099541444554, 332.50237801771624, 352.523760620987, 372.5451432242577, 392.56652582752844, 412.58790843079913, 432.6092910340698, 452.6306736373406, 472.65205624061133], [292.45961281117485, 312.48099541444554, 332.50237801771624, 352.523760620987, 372.5451432242577, 392.56652582752844, 412.58790843079913, 432.6092910340698, 452.6306736373406, 472.65205624061133], [292.45961281117485, 312.48099541444554, 332.50237801771624, 352.523760620987, 372.5451432242577, 392.56652582752844, 412.58790843079913, 432.6092910340698, 452.6306736373406, 472.65205624061133], [292.45961281117485, 312.48099541444554, 332.50237801771624, 352.523760620987, 372.5451432242577, 392.56652582752844, 412.58790843079913, 432.6092910340698, 452.6306736373406, 472.65205624061133], [292.45961281117485, 312.48099541444554, 332.50237801771624, 352.523760620987, 372.5451432242577, 392.56652582752844, 412.58790843079913, 432.6092910340698, 452.6306736373406, 472.65205624061133], [292.45961281117485, 312.48099541444554, 332.50237801771624, 352.523760620987, 372.5451432242577, 392.56652582752844, 412.58790843079913, 432.6092910340698, 452.6306736373406, 472.65205624061133], [292.45961281117485, 312.48099541444554, 332.50237801771624, 352.523760620987, 372.5451432242577, 392.56652582752844, 412.58790843079913, 432.6092910340698, 452.6306736373406, 472.65205624061133], [292.45961281117485, 312.48099541444554, 332.50237801771624, 352.523760620987, 372.5451432242577, 392.56652582752844, 412.58790843079913, 432.6092910340698, 452.6306736373406, 472.65205624061133]]}, {\"coloraxis\": \"coloraxis\", \"colorbar\": {\"thickness\": 5}, \"name\": \"PU+2.0%EG\", \"opacity\": 0.6, \"type\": \"surface\", \"visible\": false, \"x\": [[2.5, 3.1666666666666665, 3.833333333333333, 4.5, 5.166666666666666, 5.833333333333333, 6.5, 7.166666666666666, 7.833333333333333, 8.5], [2.5, 3.1666666666666665, 3.833333333333333, 4.5, 5.166666666666666, 5.833333333333333, 6.5, 7.166666666666666, 7.833333333333333, 8.5], [2.5, 3.1666666666666665, 3.833333333333333, 4.5, 5.166666666666666, 5.833333333333333, 6.5, 7.166666666666666, 7.833333333333333, 8.5], [2.5, 3.1666666666666665, 3.833333333333333, 4.5, 5.166666666666666, 5.833333333333333, 6.5, 7.166666666666666, 7.833333333333333, 8.5], [2.5, 3.1666666666666665, 3.833333333333333, 4.5, 5.166666666666666, 5.833333333333333, 6.5, 7.166666666666666, 7.833333333333333, 8.5], [2.5, 3.1666666666666665, 3.833333333333333, 4.5, 5.166666666666666, 5.833333333333333, 6.5, 7.166666666666666, 7.833333333333333, 8.5], [2.5, 3.1666666666666665, 3.833333333333333, 4.5, 5.166666666666666, 5.833333333333333, 6.5, 7.166666666666666, 7.833333333333333, 8.5], [2.5, 3.1666666666666665, 3.833333333333333, 4.5, 5.166666666666666, 5.833333333333333, 6.5, 7.166666666666666, 7.833333333333333, 8.5], [2.5, 3.1666666666666665, 3.833333333333333, 4.5, 5.166666666666666, 5.833333333333333, 6.5, 7.166666666666666, 7.833333333333333, 8.5], [2.5, 3.1666666666666665, 3.833333333333333, 4.5, 5.166666666666666, 5.833333333333333, 6.5, 7.166666666666666, 7.833333333333333, 8.5]], \"y\": [[2.0, 2.0, 2.0, 2.0, 2.0, 2.0, 2.0, 2.0, 2.0, 2.0], [2.2222222222222223, 2.2222222222222223, 2.2222222222222223, 2.2222222222222223, 2.2222222222222223, 2.2222222222222223, 2.2222222222222223, 2.2222222222222223, 2.2222222222222223, 2.2222222222222223], [2.4444444444444446, 2.4444444444444446, 2.4444444444444446, 2.4444444444444446, 2.4444444444444446, 2.4444444444444446, 2.4444444444444446, 2.4444444444444446, 2.4444444444444446, 2.4444444444444446], [2.6666666666666665, 2.6666666666666665, 2.6666666666666665, 2.6666666666666665, 2.6666666666666665, 2.6666666666666665, 2.6666666666666665, 2.6666666666666665, 2.6666666666666665, 2.6666666666666665], [2.888888888888889, 2.888888888888889, 2.888888888888889, 2.888888888888889, 2.888888888888889, 2.888888888888889, 2.888888888888889, 2.888888888888889, 2.888888888888889, 2.888888888888889], [3.111111111111111, 3.111111111111111, 3.111111111111111, 3.111111111111111, 3.111111111111111, 3.111111111111111, 3.111111111111111, 3.111111111111111, 3.111111111111111, 3.111111111111111], [3.333333333333333, 3.333333333333333, 3.333333333333333, 3.333333333333333, 3.333333333333333, 3.333333333333333, 3.333333333333333, 3.333333333333333, 3.333333333333333, 3.333333333333333], [3.5555555555555554, 3.5555555555555554, 3.5555555555555554, 3.5555555555555554, 3.5555555555555554, 3.5555555555555554, 3.5555555555555554, 3.5555555555555554, 3.5555555555555554, 3.5555555555555554], [3.7777777777777777, 3.7777777777777777, 3.7777777777777777, 3.7777777777777777, 3.7777777777777777, 3.7777777777777777, 3.7777777777777777, 3.7777777777777777, 3.7777777777777777, 3.7777777777777777], [4.0, 4.0, 4.0, 4.0, 4.0, 4.0, 4.0, 4.0, 4.0, 4.0]], \"z\": [[295.027561322784, 315.04894392605473, 335.0703265293254, 355.0917091325962, 375.1130917358669, 395.1344743391376, 415.1558569424083, 435.177239545679, 455.19862214894977, 475.2200047522205], [295.027561322784, 315.04894392605473, 335.0703265293254, 355.0917091325962, 375.1130917358669, 395.1344743391376, 415.1558569424083, 435.177239545679, 455.19862214894977, 475.2200047522205], [295.027561322784, 315.04894392605473, 335.0703265293254, 355.0917091325962, 375.1130917358669, 395.1344743391376, 415.1558569424083, 435.177239545679, 455.19862214894977, 475.2200047522205], [295.027561322784, 315.04894392605473, 335.0703265293254, 355.0917091325962, 375.1130917358669, 395.1344743391376, 415.1558569424083, 435.177239545679, 455.19862214894977, 475.2200047522205], [295.027561322784, 315.04894392605473, 335.0703265293254, 355.0917091325962, 375.1130917358669, 395.1344743391376, 415.1558569424083, 435.177239545679, 455.19862214894977, 475.2200047522205], [295.027561322784, 315.04894392605473, 335.0703265293254, 355.0917091325962, 375.1130917358669, 395.1344743391376, 415.1558569424083, 435.177239545679, 455.19862214894977, 475.2200047522205], [295.027561322784, 315.04894392605473, 335.0703265293254, 355.0917091325962, 375.1130917358669, 395.1344743391376, 415.1558569424083, 435.177239545679, 455.19862214894977, 475.2200047522205], [295.027561322784, 315.04894392605473, 335.0703265293254, 355.0917091325962, 375.1130917358669, 395.1344743391376, 415.1558569424083, 435.177239545679, 455.19862214894977, 475.2200047522205], [295.027561322784, 315.04894392605473, 335.0703265293254, 355.0917091325962, 375.1130917358669, 395.1344743391376, 415.1558569424083, 435.177239545679, 455.19862214894977, 475.2200047522205], [295.027561322784, 315.04894392605473, 335.0703265293254, 355.0917091325962, 375.1130917358669, 395.1344743391376, 415.1558569424083, 435.177239545679, 455.19862214894977, 475.2200047522205]]}],\n",
       "                        {\"coloraxis\": {\"colorbar\": {\"thickness\": 5}, \"colorscale\": [[0.0, \"rgb(0,0,0)\"], [0.3333333333333333, \"rgb(230,0,0)\"], [0.6666666666666666, \"rgb(255,210,0)\"], [1.0, \"rgb(255,255,255)\"]]}, \"legend\": {\"x\": 0.05, \"xanchor\": \"left\", \"y\": 0.95, \"yanchor\": \"top\"}, \"margin\": {\"b\": 65, \"l\": 65, \"r\": 50, \"t\": 90}, \"scene\": {\"xaxis\": {\"showspikes\": false, \"title\": {\"text\": \"Normal Load (N)\"}}, \"yaxis\": {\"showspikes\": false, \"title\": {\"text\": \"Frequency (Hz)\"}}, \"zaxis\": {\"range\": [220, 500], \"title\": {\"text\": \"Wear Width (\\u00b5m)\"}}}, \"showlegend\": true, \"sliders\": [{\"active\": 10, \"currentvalue\": {\"prefix\": \"Content: \"}, \"pad\": {\"t\": 50}, \"steps\": [{\"args\": [{\"visible\": [true, false, false, false, false, false, false, false, false, false, false, false, false, false, false, false, false, false, false, false, false]}, {\"title\": \"PU + 0.0% Expanded Graphite\"}], \"label\": \"0.0% EG\", \"method\": \"update\"}, {\"args\": [{\"visible\": [false, true, false, false, false, false, false, false, false, false, false, false, false, false, false, false, false, false, false, false, false]}, {\"title\": \"PU + 0.1% Expanded Graphite\"}], \"label\": \"0.1% EG\", \"method\": \"update\"}, {\"args\": [{\"visible\": [false, false, true, false, false, false, false, false, false, false, false, false, false, false, false, false, false, false, false, false, false]}, {\"title\": \"PU + 0.2% Expanded Graphite\"}], \"label\": \"0.2% EG\", \"method\": \"update\"}, {\"args\": [{\"visible\": [false, false, false, true, false, false, false, false, false, false, false, false, false, false, false, false, false, false, false, false, false]}, {\"title\": \"PU + 0.3% Expanded Graphite\"}], \"label\": \"0.3% EG\", \"method\": \"update\"}, {\"args\": [{\"visible\": [false, false, false, false, true, false, false, false, false, false, false, false, false, false, false, false, false, false, false, false, false]}, {\"title\": \"PU + 0.4% Expanded Graphite\"}], \"label\": \"0.4% EG\", \"method\": \"update\"}, {\"args\": [{\"visible\": [false, false, false, false, false, true, false, false, false, false, false, false, false, false, false, false, false, false, false, false, false]}, {\"title\": \"PU + 0.5% Expanded Graphite\"}], \"label\": \"0.5% EG\", \"method\": \"update\"}, {\"args\": [{\"visible\": [false, false, false, false, false, false, true, false, false, false, false, false, false, false, false, false, false, false, false, false, false]}, {\"title\": \"PU + 0.6% Expanded Graphite\"}], \"label\": \"0.6% EG\", \"method\": \"update\"}, {\"args\": [{\"visible\": [false, false, false, false, false, false, false, true, false, false, false, false, false, false, false, false, false, false, false, false, false]}, {\"title\": \"PU + 0.7% Expanded Graphite\"}], \"label\": \"0.7% EG\", \"method\": \"update\"}, {\"args\": [{\"visible\": [false, false, false, false, false, false, false, false, true, false, false, false, false, false, false, false, false, false, false, false, false]}, {\"title\": \"PU + 0.8% Expanded Graphite\"}], \"label\": \"0.8% EG\", \"method\": \"update\"}, {\"args\": [{\"visible\": [false, false, false, false, false, false, false, false, false, true, false, false, false, false, false, false, false, false, false, false, false]}, {\"title\": \"PU + 0.9% Expanded Graphite\"}], \"label\": \"0.9% EG\", \"method\": \"update\"}, {\"args\": [{\"visible\": [false, false, false, false, false, false, false, false, false, false, true, false, false, false, false, false, false, false, false, false, false]}, {\"title\": \"PU + 1.0% Expanded Graphite\"}], \"label\": \"1.0% EG\", \"method\": \"update\"}, {\"args\": [{\"visible\": [false, false, false, false, false, false, false, false, false, false, false, true, false, false, false, false, false, false, false, false, false]}, {\"title\": \"PU + 1.1% Expanded Graphite\"}], \"label\": \"1.1% EG\", \"method\": \"update\"}, {\"args\": [{\"visible\": [false, false, false, false, false, false, false, false, false, false, false, false, true, false, false, false, false, false, false, false, false]}, {\"title\": \"PU + 1.2% Expanded Graphite\"}], \"label\": \"1.2% EG\", \"method\": \"update\"}, {\"args\": [{\"visible\": [false, false, false, false, false, false, false, false, false, false, false, false, false, true, false, false, false, false, false, false, false]}, {\"title\": \"PU + 1.3% Expanded Graphite\"}], \"label\": \"1.3% EG\", \"method\": \"update\"}, {\"args\": [{\"visible\": [false, false, false, false, false, false, false, false, false, false, false, false, false, false, true, false, false, false, false, false, false]}, {\"title\": \"PU + 1.4% Expanded Graphite\"}], \"label\": \"1.4% EG\", \"method\": \"update\"}, {\"args\": [{\"visible\": [false, false, false, false, false, false, false, false, false, false, false, false, false, false, false, true, false, false, false, false, false]}, {\"title\": \"PU + 1.5% Expanded Graphite\"}], \"label\": \"1.5% EG\", \"method\": \"update\"}, {\"args\": [{\"visible\": [false, false, false, false, false, false, false, false, false, false, false, false, false, false, false, false, true, false, false, false, false]}, {\"title\": \"PU + 1.6% Expanded Graphite\"}], \"label\": \"1.6% EG\", \"method\": \"update\"}, {\"args\": [{\"visible\": [false, false, false, false, false, false, false, false, false, false, false, false, false, false, false, false, false, true, false, false, false]}, {\"title\": \"PU + 1.7% Expanded Graphite\"}], \"label\": \"1.7% EG\", \"method\": \"update\"}, {\"args\": [{\"visible\": [false, false, false, false, false, false, false, false, false, false, false, false, false, false, false, false, false, false, true, false, false]}, {\"title\": \"PU + 1.8% Expanded Graphite\"}], \"label\": \"1.8% EG\", \"method\": \"update\"}, {\"args\": [{\"visible\": [false, false, false, false, false, false, false, false, false, false, false, false, false, false, false, false, false, false, false, true, false]}, {\"title\": \"PU + 1.9% Expanded Graphite\"}], \"label\": \"1.9% EG\", \"method\": \"update\"}, {\"args\": [{\"visible\": [false, false, false, false, false, false, false, false, false, false, false, false, false, false, false, false, false, false, false, false, true]}, {\"title\": \"PU + 2.0% Expanded Graphite\"}], \"label\": \"2.0% EG\", \"method\": \"update\"}]}], \"template\": {\"data\": {\"bar\": [{\"error_x\": {\"color\": \"#2a3f5f\"}, \"error_y\": {\"color\": \"#2a3f5f\"}, \"marker\": {\"line\": {\"color\": \"#E5ECF6\", \"width\": 0.5}}, \"type\": \"bar\"}], \"barpolar\": [{\"marker\": {\"line\": {\"color\": \"#E5ECF6\", \"width\": 0.5}}, \"type\": \"barpolar\"}], \"carpet\": [{\"aaxis\": {\"endlinecolor\": \"#2a3f5f\", \"gridcolor\": \"white\", \"linecolor\": \"white\", \"minorgridcolor\": \"white\", \"startlinecolor\": \"#2a3f5f\"}, \"baxis\": {\"endlinecolor\": \"#2a3f5f\", \"gridcolor\": \"white\", \"linecolor\": \"white\", \"minorgridcolor\": \"white\", \"startlinecolor\": \"#2a3f5f\"}, \"type\": \"carpet\"}], \"choropleth\": [{\"colorbar\": {\"outlinewidth\": 0, \"ticks\": \"\"}, \"type\": \"choropleth\"}], \"contour\": [{\"colorbar\": {\"outlinewidth\": 0, \"ticks\": \"\"}, \"colorscale\": [[0.0, \"#0d0887\"], [0.1111111111111111, \"#46039f\"], [0.2222222222222222, \"#7201a8\"], [0.3333333333333333, \"#9c179e\"], [0.4444444444444444, \"#bd3786\"], [0.5555555555555556, \"#d8576b\"], [0.6666666666666666, \"#ed7953\"], [0.7777777777777778, \"#fb9f3a\"], [0.8888888888888888, \"#fdca26\"], [1.0, \"#f0f921\"]], \"type\": \"contour\"}], \"contourcarpet\": [{\"colorbar\": {\"outlinewidth\": 0, \"ticks\": \"\"}, \"type\": \"contourcarpet\"}], \"heatmap\": [{\"colorbar\": {\"outlinewidth\": 0, \"ticks\": \"\"}, \"colorscale\": [[0.0, \"#0d0887\"], [0.1111111111111111, \"#46039f\"], [0.2222222222222222, \"#7201a8\"], [0.3333333333333333, \"#9c179e\"], [0.4444444444444444, \"#bd3786\"], [0.5555555555555556, \"#d8576b\"], [0.6666666666666666, \"#ed7953\"], [0.7777777777777778, \"#fb9f3a\"], [0.8888888888888888, \"#fdca26\"], [1.0, \"#f0f921\"]], \"type\": \"heatmap\"}], \"heatmapgl\": [{\"colorbar\": {\"outlinewidth\": 0, \"ticks\": \"\"}, \"colorscale\": [[0.0, \"#0d0887\"], [0.1111111111111111, \"#46039f\"], [0.2222222222222222, \"#7201a8\"], [0.3333333333333333, \"#9c179e\"], [0.4444444444444444, \"#bd3786\"], [0.5555555555555556, \"#d8576b\"], [0.6666666666666666, \"#ed7953\"], [0.7777777777777778, \"#fb9f3a\"], [0.8888888888888888, \"#fdca26\"], [1.0, \"#f0f921\"]], \"type\": \"heatmapgl\"}], \"histogram\": [{\"marker\": {\"colorbar\": {\"outlinewidth\": 0, \"ticks\": \"\"}}, \"type\": \"histogram\"}], \"histogram2d\": [{\"colorbar\": {\"outlinewidth\": 0, \"ticks\": \"\"}, \"colorscale\": [[0.0, \"#0d0887\"], [0.1111111111111111, \"#46039f\"], [0.2222222222222222, \"#7201a8\"], [0.3333333333333333, \"#9c179e\"], [0.4444444444444444, \"#bd3786\"], [0.5555555555555556, \"#d8576b\"], [0.6666666666666666, \"#ed7953\"], [0.7777777777777778, \"#fb9f3a\"], [0.8888888888888888, \"#fdca26\"], [1.0, \"#f0f921\"]], \"type\": \"histogram2d\"}], \"histogram2dcontour\": [{\"colorbar\": {\"outlinewidth\": 0, \"ticks\": \"\"}, \"colorscale\": [[0.0, \"#0d0887\"], [0.1111111111111111, \"#46039f\"], [0.2222222222222222, \"#7201a8\"], [0.3333333333333333, \"#9c179e\"], [0.4444444444444444, \"#bd3786\"], [0.5555555555555556, \"#d8576b\"], [0.6666666666666666, \"#ed7953\"], [0.7777777777777778, \"#fb9f3a\"], [0.8888888888888888, \"#fdca26\"], [1.0, \"#f0f921\"]], \"type\": \"histogram2dcontour\"}], \"mesh3d\": [{\"colorbar\": {\"outlinewidth\": 0, \"ticks\": \"\"}, \"type\": \"mesh3d\"}], \"parcoords\": [{\"line\": {\"colorbar\": {\"outlinewidth\": 0, \"ticks\": \"\"}}, \"type\": \"parcoords\"}], \"pie\": [{\"automargin\": true, \"type\": \"pie\"}], \"scatter\": [{\"marker\": {\"colorbar\": {\"outlinewidth\": 0, \"ticks\": \"\"}}, \"type\": \"scatter\"}], \"scatter3d\": [{\"line\": {\"colorbar\": {\"outlinewidth\": 0, \"ticks\": \"\"}}, \"marker\": {\"colorbar\": {\"outlinewidth\": 0, \"ticks\": \"\"}}, \"type\": \"scatter3d\"}], \"scattercarpet\": [{\"marker\": {\"colorbar\": {\"outlinewidth\": 0, \"ticks\": \"\"}}, \"type\": \"scattercarpet\"}], \"scattergeo\": [{\"marker\": {\"colorbar\": {\"outlinewidth\": 0, \"ticks\": \"\"}}, \"type\": \"scattergeo\"}], \"scattergl\": [{\"marker\": {\"colorbar\": {\"outlinewidth\": 0, \"ticks\": \"\"}}, \"type\": \"scattergl\"}], \"scattermapbox\": [{\"marker\": {\"colorbar\": {\"outlinewidth\": 0, \"ticks\": \"\"}}, \"type\": \"scattermapbox\"}], \"scatterpolar\": [{\"marker\": {\"colorbar\": {\"outlinewidth\": 0, \"ticks\": \"\"}}, \"type\": \"scatterpolar\"}], \"scatterpolargl\": [{\"marker\": {\"colorbar\": {\"outlinewidth\": 0, \"ticks\": \"\"}}, \"type\": \"scatterpolargl\"}], \"scatterternary\": [{\"marker\": {\"colorbar\": {\"outlinewidth\": 0, \"ticks\": \"\"}}, \"type\": \"scatterternary\"}], \"surface\": [{\"colorbar\": {\"outlinewidth\": 0, \"ticks\": \"\"}, \"colorscale\": [[0.0, \"#0d0887\"], [0.1111111111111111, \"#46039f\"], [0.2222222222222222, \"#7201a8\"], [0.3333333333333333, \"#9c179e\"], [0.4444444444444444, \"#bd3786\"], [0.5555555555555556, \"#d8576b\"], [0.6666666666666666, \"#ed7953\"], [0.7777777777777778, \"#fb9f3a\"], [0.8888888888888888, \"#fdca26\"], [1.0, \"#f0f921\"]], \"type\": \"surface\"}], \"table\": [{\"cells\": {\"fill\": {\"color\": \"#EBF0F8\"}, \"line\": {\"color\": \"white\"}}, \"header\": {\"fill\": {\"color\": \"#C8D4E3\"}, \"line\": {\"color\": \"white\"}}, \"type\": \"table\"}]}, \"layout\": {\"annotationdefaults\": {\"arrowcolor\": \"#2a3f5f\", \"arrowhead\": 0, \"arrowwidth\": 1}, \"coloraxis\": {\"colorbar\": {\"outlinewidth\": 0, \"ticks\": \"\"}}, \"colorscale\": {\"diverging\": [[0, \"#8e0152\"], [0.1, \"#c51b7d\"], [0.2, \"#de77ae\"], [0.3, \"#f1b6da\"], [0.4, \"#fde0ef\"], [0.5, \"#f7f7f7\"], [0.6, \"#e6f5d0\"], [0.7, \"#b8e186\"], [0.8, \"#7fbc41\"], [0.9, \"#4d9221\"], [1, \"#276419\"]], \"sequential\": [[0.0, \"#0d0887\"], [0.1111111111111111, \"#46039f\"], [0.2222222222222222, \"#7201a8\"], [0.3333333333333333, \"#9c179e\"], [0.4444444444444444, \"#bd3786\"], [0.5555555555555556, \"#d8576b\"], [0.6666666666666666, \"#ed7953\"], [0.7777777777777778, \"#fb9f3a\"], [0.8888888888888888, \"#fdca26\"], [1.0, \"#f0f921\"]], \"sequentialminus\": [[0.0, \"#0d0887\"], [0.1111111111111111, \"#46039f\"], [0.2222222222222222, \"#7201a8\"], [0.3333333333333333, \"#9c179e\"], [0.4444444444444444, \"#bd3786\"], [0.5555555555555556, \"#d8576b\"], [0.6666666666666666, \"#ed7953\"], [0.7777777777777778, \"#fb9f3a\"], [0.8888888888888888, \"#fdca26\"], [1.0, \"#f0f921\"]]}, \"colorway\": [\"#636efa\", \"#EF553B\", \"#00cc96\", \"#ab63fa\", \"#FFA15A\", \"#19d3f3\", \"#FF6692\", \"#B6E880\", \"#FF97FF\", \"#FECB52\"], \"font\": {\"color\": \"#2a3f5f\"}, \"geo\": {\"bgcolor\": \"white\", \"lakecolor\": \"white\", \"landcolor\": \"#E5ECF6\", \"showlakes\": true, \"showland\": true, \"subunitcolor\": \"white\"}, \"hoverlabel\": {\"align\": \"left\"}, \"hovermode\": \"closest\", \"mapbox\": {\"style\": \"light\"}, \"paper_bgcolor\": \"white\", \"plot_bgcolor\": \"#E5ECF6\", \"polar\": {\"angularaxis\": {\"gridcolor\": \"white\", \"linecolor\": \"white\", \"ticks\": \"\"}, \"bgcolor\": \"#E5ECF6\", \"radialaxis\": {\"gridcolor\": \"white\", \"linecolor\": \"white\", \"ticks\": \"\"}}, \"scene\": {\"xaxis\": {\"backgroundcolor\": \"#E5ECF6\", \"gridcolor\": \"white\", \"gridwidth\": 2, \"linecolor\": \"white\", \"showbackground\": true, \"ticks\": \"\", \"zerolinecolor\": \"white\"}, \"yaxis\": {\"backgroundcolor\": \"#E5ECF6\", \"gridcolor\": \"white\", \"gridwidth\": 2, \"linecolor\": \"white\", \"showbackground\": true, \"ticks\": \"\", \"zerolinecolor\": \"white\"}, \"zaxis\": {\"backgroundcolor\": \"#E5ECF6\", \"gridcolor\": \"white\", \"gridwidth\": 2, \"linecolor\": \"white\", \"showbackground\": true, \"ticks\": \"\", \"zerolinecolor\": \"white\"}}, \"shapedefaults\": {\"line\": {\"color\": \"#2a3f5f\"}}, \"ternary\": {\"aaxis\": {\"gridcolor\": \"white\", \"linecolor\": \"white\", \"ticks\": \"\"}, \"baxis\": {\"gridcolor\": \"white\", \"linecolor\": \"white\", \"ticks\": \"\"}, \"bgcolor\": \"#E5ECF6\", \"caxis\": {\"gridcolor\": \"white\", \"linecolor\": \"white\", \"ticks\": \"\"}}, \"title\": {\"x\": 0.05}, \"xaxis\": {\"automargin\": true, \"gridcolor\": \"white\", \"linecolor\": \"white\", \"ticks\": \"\", \"title\": {\"standoff\": 15}, \"zerolinecolor\": \"white\", \"zerolinewidth\": 2}, \"yaxis\": {\"automargin\": true, \"gridcolor\": \"white\", \"linecolor\": \"white\", \"ticks\": \"\", \"title\": {\"standoff\": 15}, \"zerolinecolor\": \"white\", \"zerolinewidth\": 2}}}, \"title\": {\"text\": \"PU + 1.0% Expanded Graphite\"}},\n",
       "                        {\"responsive\": true}\n",
       "                    ).then(function(){\n",
       "                            \n",
       "var gd = document.getElementById('f9b64671-e2a7-465d-b330-8699f5fa2c64');\n",
       "var x = new MutationObserver(function (mutations, observer) {{\n",
       "        var display = window.getComputedStyle(gd).display;\n",
       "        if (!display || display === 'none') {{\n",
       "            console.log([gd, 'removed!']);\n",
       "            Plotly.purge(gd);\n",
       "            observer.disconnect();\n",
       "        }}\n",
       "}});\n",
       "\n",
       "// Listen for the removal of the full notebook cells\n",
       "var notebookContainer = gd.closest('#notebook-container');\n",
       "if (notebookContainer) {{\n",
       "    x.observe(notebookContainer, {childList: true});\n",
       "}}\n",
       "\n",
       "// Listen for the clearing of the current output cell\n",
       "var outputEl = gd.closest('.output');\n",
       "if (outputEl) {{\n",
       "    x.observe(outputEl, {childList: true});\n",
       "}}\n",
       "\n",
       "                        })\n",
       "                };\n",
       "                });\n",
       "            </script>\n",
       "        </div>"
      ]
     },
     "metadata": {},
     "output_type": "display_data"
    }
   ],
   "source": [
    "fig = go.Figure()\n",
    "\n",
    "for e_slider in np.arange(0,2.1,0.1): \n",
    "    fig.add_trace(go.Surface(z=answer2d(e_slider,Fr,Fo),\n",
    "                              x=Ff,\n",
    "                              y=ff,\n",
    "                              opacity=0.6,\n",
    "                              name='PU+{:.1f}%EG'.format(e_slider),\n",
    "                              coloraxis = 'coloraxis',\n",
    "                              colorbar = dict(thickness=5),\n",
    "                              visible = False\n",
    "                              ))\n",
    "fig.data[10].visible = True\n",
    "steps = []\n",
    "for i in range(len(fig.data)):\n",
    "    step = dict(\n",
    "        method=\"update\",\n",
    "        label = '{:.1f}% EG'.format(i/10),\n",
    "        args=[{\"visible\": [False] * len(fig.data)}, \n",
    "              \n",
    "              {\"title\": \"PU + {:.1f}% Expanded Graphite\".format(i/10)}],  # layout attribute\n",
    "    )\n",
    "    step[\"args\"][0][\"visible\"][i] = True  # Toggle i'th trace to \"visible\"\n",
    "    steps.append(step)\n",
    "\n",
    "sliders = [dict(\n",
    "    active=10,\n",
    "    currentvalue={\"prefix\": \"Content: \"},\n",
    "    pad={\"t\": 50},\n",
    "    steps=steps\n",
    ")]\n",
    "\n",
    "fig.update_layout(sliders=sliders,\n",
    "                  coloraxis = dict(colorscale = 'hot',\n",
    "                                   colorbar = dict(thickness = 5)\n",
    "                                  ),\n",
    "                  title='PU + 1.0% Expanded Graphite',\n",
    "                  margin=dict(l=65, r=50, b=65, t=90),\n",
    "                  scene = dict(xaxis_title = 'Normal Load (N)',\n",
    "                               yaxis_title = 'Frequency (Hz)',\n",
    "                               zaxis_title = 'Wear Width (µm)'),\n",
    "                  showlegend=True,\n",
    "                  legend=dict(yanchor=\"top\",\n",
    "                              y=0.95,\n",
    "                              xanchor=\"left\",\n",
    "                              x=0.05),\n",
    "                  scene_zaxis=dict(range=[220, 500]),\n",
    "                  scene_xaxis=dict(showspikes = False),\n",
    "                  scene_yaxis=dict(showspikes = False)\n",
    "                  )\n"
   ]
  },
  {
   "cell_type": "code",
   "execution_count": null,
   "metadata": {},
   "outputs": [],
   "source": []
  },
  {
   "cell_type": "code",
   "execution_count": null,
   "metadata": {},
   "outputs": [],
   "source": []
  }
 ],
 "metadata": {
  "kernelspec": {
   "display_name": "Python 3",
   "language": "python",
   "name": "python3"
  },
  "language_info": {
   "codemirror_mode": {
    "name": "ipython",
    "version": 3
   },
   "file_extension": ".py",
   "mimetype": "text/x-python",
   "name": "python",
   "nbconvert_exporter": "python",
   "pygments_lexer": "ipython3",
   "version": "3.7.6"
  }
 },
 "nbformat": 4,
 "nbformat_minor": 4
}
