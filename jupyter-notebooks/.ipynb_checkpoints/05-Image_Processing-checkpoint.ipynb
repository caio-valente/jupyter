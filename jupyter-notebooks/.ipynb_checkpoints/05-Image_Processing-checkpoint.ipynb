{
 "cells": [
  {
   "cell_type": "markdown",
   "metadata": {},
   "source": [
    "# Processamento de Imagens\n",
    "\n",
    "Foi utilizado o processamento de imagens para rápida e automaticamente detectar as bordas dos riscos observados sob microscopia óptica. Este processamento gerou como resultados os valores de largura de desgaste utilizados posteriormente na análise estatística.\n",
    "\n",
    "## Bibliotecas Utilizadas\n",
    "\n",
    "Além das bibliotecas `numpy`, `pandas` e `plotly`, para tratamento e visualização de dados, foi utilizada a biblioteca `cv2` para manipular as imagens e obter representações matemáticas destas. Com essa representação matemática, é relativamente simples detectar as regiões da imagem."
   ]
  },
  {
   "cell_type": "code",
   "execution_count": 1,
   "metadata": {},
   "outputs": [],
   "source": [
    "import numpy as np\n",
    "import pandas as pd\n",
    "import plotly.express as px\n",
    "import plotly.graph_objects as go\n",
    "from cv2 import imread, imwrite\n",
    "from ipywidgets import interact, widgets\n",
    "from pathlib import Path\n",
    "from os import listdir\n",
    "from os.path import isfile, join"
   ]
  },
  {
   "cell_type": "markdown",
   "metadata": {},
   "source": [
    "## Importação das Imagens\n",
    "\n",
    "As imagens armazenadas na pasta `scr/Riscos_umidade2` são lidas e armazenadas em um dicionário `imgs` cujas chaves são o nome do arquivo e os valores são uma representação numérica do conteúdo da imagem.\n",
    "\n",
    "### Representação da Imagem\n",
    "\n",
    "As imagens são lidas como o tipo `np.ndarray`, ou seja, uma matriz tridimensional de inteiros. Cada inteiro representa a intensidade de uma cor primária (vermelho, verde ou azul) em um pixel da imagem. A imagem é, então, formada pela matriz de dimensões que correspondem a largura, altura e cor da imagem. Neste caso, as imagens possuem 2048 pixels de largura e 1532 pixels de altura. Portanto, a matriz possui ordem $1532 \\times 2048 \\times 3$."
   ]
  },
  {
   "cell_type": "code",
   "execution_count": 2,
   "metadata": {},
   "outputs": [],
   "source": [
    "p = Path('src/Riscos_umidade')"
   ]
  },
  {
   "cell_type": "code",
   "execution_count": 3,
   "metadata": {},
   "outputs": [],
   "source": [
    "filenames = [f for f in listdir(p) if isfile(join(p, f))]\n",
    "imgs = dict()\n",
    "\n",
    "for filename in filenames:\n",
    "    filepath = p/filename\n",
    "    try:\n",
    "        imgs[filepath.name] = imread(str(filepath))\n",
    "    except FileNotFoundError:\n",
    "        pass"
   ]
  },
  {
   "cell_type": "markdown",
   "metadata": {},
   "source": [
    "## Tratamento dos Dados\n",
    "\n",
    "Cada imagem foi armazenada em um DataFrame para facilitar a interpretação dos resultados. Cada coluna do DataFrame armazena uma cor, e cada linha armazena a soma do valor numérico em uma linha de pixels da imagem. Uma vez que os riscos estão alinhados horizontalmente à imagem, essa soma representa muito bem uma média de onde começa e onde acaba o risco na imagem.\n",
    "\n",
    "![Imagem-Soma](src/risco_soma.png)\n",
    "\n",
    "Definidas essas somas, foi escolhido um dos canais (vermelho) para se realizar a detecção das bordas, por ser o mais alto dentre os três canais de cor. No programa [06 - Image Processing Testing](06-Image_Processing-Testing_Old_Images.ipynb) foi observado que o melhor limiar para definir o início e final do risco é o de 85% da média entre o maior e o menor valor de cor. Ou seja, quando a intensidade de cor é 87,3% da intensidade média a leitura se refere à margem do risco.\n",
    "\n",
    "A largura em pixels entre as duas margens é calculada, e o valor é traduzido para micrometros a partir da calibração do microscópio (cada pixel representa 1,26576 µm)."
   ]
  },
  {
   "cell_type": "code",
   "execution_count": 4,
   "metadata": {},
   "outputs": [],
   "source": [
    "dfs = dict()\n",
    "left_edge_px = dict()\n",
    "right_edge_px = dict()\n",
    "high = dict()\n",
    "low = dict()\n",
    "width = dict()\n",
    "\n",
    "for key, img in imgs.items():\n",
    "    dfs[key] = pd.DataFrame({'Blue': imgs[key][:,:,0].sum(axis = 1),\n",
    "                       'Red': imgs[key][:,:,2].sum(axis = 1),\n",
    "                       'Green': imgs[key][:,:,1].sum(axis = 1)})\n",
    "    high[key] = max(dfs[key]['Blue'])\n",
    "    low[key] = min(dfs[key]['Blue'])\n",
    "    \n",
    "for key in list(imgs.keys()):\n",
    "    left_edge_px[key] = dfs[key][dfs[key]['Blue']>=0.873*np.mean((high[key],low[key]))].index.min()\n",
    "    right_edge_px[key] = dfs[key][dfs[key]['Blue']>=0.873*np.mean((high[key],low[key]))].index.max()\n",
    "    width[key] = 1.26576*(right_edge_px[key] - left_edge_px[key])"
   ]
  },
  {
   "cell_type": "markdown",
   "metadata": {},
   "source": [
    "## Gráficos\n",
    "\n",
    "Aqui são definidos dois gráficos. O primeiro mostra o nível de cada cor ao longo da imagem, considerando as somas realizadas no passo anterior. Foi adicionada uma anotação para mostrar onde foi considerado o limiar de detecção da margem do risco. O segundo gráfico mostra a imagem e as posições das margens detectadas, mostrando que a detecção é bem-sucedida."
   ]
  },
  {
   "cell_type": "code",
   "execution_count": 5,
   "metadata": {},
   "outputs": [],
   "source": [
    "def plot_colors(key):\n",
    "    fig = px.line(dfs[key])\n",
    "    fig.add_hline(y = 0.85*np.mean((high[key],low[key])), line_color = 'black',\n",
    "              annotation_text=\"Limiar de Detecção\", \n",
    "              annotation_position=\"bottom right\")\n",
    "    fig.show()"
   ]
  },
  {
   "cell_type": "code",
   "execution_count": 21,
   "metadata": {},
   "outputs": [],
   "source": [
    "def plot_overlay(key):\n",
    "    #path = p/key\n",
    "    # Create figure\n",
    "    fig = go.Figure()\n",
    "\n",
    "    # Constants\n",
    "    img_width = 2048\n",
    "    img_height = 1532\n",
    "    scale_factor = 0.3\n",
    "\n",
    "    # Add invisible scatter trace.\n",
    "    # This trace is added to help the autoresize logic work.\n",
    "    fig.add_trace(\n",
    "        go.Scatter(\n",
    "            x=[0, img_width * scale_factor],\n",
    "            y=[0, img_height * scale_factor],\n",
    "            mode=\"markers\",\n",
    "            marker_opacity=0\n",
    "        )\n",
    "    )\n",
    "\n",
    "    # Configure axes\n",
    "    fig.update_xaxes(\n",
    "        visible=False,\n",
    "        range=[0, img_width * scale_factor]\n",
    "    )\n",
    "\n",
    "    fig.update_yaxes(\n",
    "        visible=False,\n",
    "        range=[0, img_height * scale_factor],\n",
    "        # the scaleanchor attribute ensures that the aspect ratio stays constant\n",
    "        scaleanchor=\"x\"\n",
    "    )\n",
    "\n",
    "    # Add image\n",
    "    fig.add_layout_image(\n",
    "        dict(\n",
    "            x=0,\n",
    "            sizex=img_width * scale_factor,\n",
    "            y=img_height * scale_factor,\n",
    "            sizey=img_height * scale_factor,\n",
    "            xref=\"x\",\n",
    "            yref=\"y\",\n",
    "            opacity=1.0,\n",
    "            layer=\"below\",\n",
    "            sizing=\"stretch\",\n",
    "            source = 'https://drive.google.com/uc?export=view&id=1c5gGfB03VJXPe5OxjUvFJuzqIPJ9WGIg')\n",
    "            #source='src/riscos_umidade/{}'.format(key)[:-4]+'.jpg')\n",
    "        )\n",
    "    #fig.add_hline(y = 0.3*1532-0.3*left_edge_px[key], line_color = 'red')\n",
    "    #fig.add_hline(y = 0.3*1532-0.3*right_edge_px[key], line_color = 'red')\n",
    "\n",
    "    # Configure other layout\n",
    "    fig.update_layout(\n",
    "        width=img_width * scale_factor,\n",
    "        height=img_height * scale_factor,\n",
    "        margin={\"l\": 0, \"r\": 0, \"t\": 0, \"b\": 0},\n",
    "    )\n",
    "\n",
    "    # Disable the autosize on double click because it adds unwanted margins around the image\n",
    "    # More detail: https://plotly.com/python/configuration-options/\n",
    "    fig.show(config={'doubleClick': 'reset'})"
   ]
  },
  {
   "cell_type": "markdown",
   "metadata": {},
   "source": [
    "Cada gráfico se refere aos valores de uma imagem. Veja que para todas as amostras, exceto as de PU+4%PAni (PP4), são observados limites bem definidos do risco. Essas amostras foram as que apresentaram bolhas e a medida da largura não foi possível, como pode se ver no próximo gráfico."
   ]
  },
  {
   "cell_type": "code",
   "execution_count": 22,
   "metadata": {},
   "outputs": [
    {
     "data": {
      "application/vnd.plotly.v1+json": {
       "config": {
        "doubleClick": "reset",
        "plotlyServerURL": "https://plot.ly"
       },
       "data": [
        {
         "marker": {
          "opacity": 0
         },
         "mode": "markers",
         "type": "scatter",
         "x": [
          0,
          614.4
         ],
         "y": [
          0,
          459.59999999999997
         ]
        }
       ],
       "layout": {
        "height": 459.59999999999997,
        "images": [
         {
          "layer": "below",
          "opacity": 1,
          "sizex": 614.4,
          "sizey": 459.59999999999997,
          "sizing": "stretch",
          "source": "https://drive.google.com/uc?export=view&id=1c5gGfB03VJXPe5OxjUvFJuzqIPJ9WGIg",
          "x": 0,
          "xref": "x",
          "y": 459.59999999999997,
          "yref": "y"
         }
        ],
        "margin": {
         "b": 0,
         "l": 0,
         "r": 0,
         "t": 0
        },
        "template": {
         "data": {
          "bar": [
           {
            "error_x": {
             "color": "#2a3f5f"
            },
            "error_y": {
             "color": "#2a3f5f"
            },
            "marker": {
             "line": {
              "color": "#E5ECF6",
              "width": 0.5
             }
            },
            "type": "bar"
           }
          ],
          "barpolar": [
           {
            "marker": {
             "line": {
              "color": "#E5ECF6",
              "width": 0.5
             }
            },
            "type": "barpolar"
           }
          ],
          "carpet": [
           {
            "aaxis": {
             "endlinecolor": "#2a3f5f",
             "gridcolor": "white",
             "linecolor": "white",
             "minorgridcolor": "white",
             "startlinecolor": "#2a3f5f"
            },
            "baxis": {
             "endlinecolor": "#2a3f5f",
             "gridcolor": "white",
             "linecolor": "white",
             "minorgridcolor": "white",
             "startlinecolor": "#2a3f5f"
            },
            "type": "carpet"
           }
          ],
          "choropleth": [
           {
            "colorbar": {
             "outlinewidth": 0,
             "ticks": ""
            },
            "type": "choropleth"
           }
          ],
          "contour": [
           {
            "colorbar": {
             "outlinewidth": 0,
             "ticks": ""
            },
            "colorscale": [
             [
              0,
              "#0d0887"
             ],
             [
              0.1111111111111111,
              "#46039f"
             ],
             [
              0.2222222222222222,
              "#7201a8"
             ],
             [
              0.3333333333333333,
              "#9c179e"
             ],
             [
              0.4444444444444444,
              "#bd3786"
             ],
             [
              0.5555555555555556,
              "#d8576b"
             ],
             [
              0.6666666666666666,
              "#ed7953"
             ],
             [
              0.7777777777777778,
              "#fb9f3a"
             ],
             [
              0.8888888888888888,
              "#fdca26"
             ],
             [
              1,
              "#f0f921"
             ]
            ],
            "type": "contour"
           }
          ],
          "contourcarpet": [
           {
            "colorbar": {
             "outlinewidth": 0,
             "ticks": ""
            },
            "type": "contourcarpet"
           }
          ],
          "heatmap": [
           {
            "colorbar": {
             "outlinewidth": 0,
             "ticks": ""
            },
            "colorscale": [
             [
              0,
              "#0d0887"
             ],
             [
              0.1111111111111111,
              "#46039f"
             ],
             [
              0.2222222222222222,
              "#7201a8"
             ],
             [
              0.3333333333333333,
              "#9c179e"
             ],
             [
              0.4444444444444444,
              "#bd3786"
             ],
             [
              0.5555555555555556,
              "#d8576b"
             ],
             [
              0.6666666666666666,
              "#ed7953"
             ],
             [
              0.7777777777777778,
              "#fb9f3a"
             ],
             [
              0.8888888888888888,
              "#fdca26"
             ],
             [
              1,
              "#f0f921"
             ]
            ],
            "type": "heatmap"
           }
          ],
          "heatmapgl": [
           {
            "colorbar": {
             "outlinewidth": 0,
             "ticks": ""
            },
            "colorscale": [
             [
              0,
              "#0d0887"
             ],
             [
              0.1111111111111111,
              "#46039f"
             ],
             [
              0.2222222222222222,
              "#7201a8"
             ],
             [
              0.3333333333333333,
              "#9c179e"
             ],
             [
              0.4444444444444444,
              "#bd3786"
             ],
             [
              0.5555555555555556,
              "#d8576b"
             ],
             [
              0.6666666666666666,
              "#ed7953"
             ],
             [
              0.7777777777777778,
              "#fb9f3a"
             ],
             [
              0.8888888888888888,
              "#fdca26"
             ],
             [
              1,
              "#f0f921"
             ]
            ],
            "type": "heatmapgl"
           }
          ],
          "histogram": [
           {
            "marker": {
             "colorbar": {
              "outlinewidth": 0,
              "ticks": ""
             }
            },
            "type": "histogram"
           }
          ],
          "histogram2d": [
           {
            "colorbar": {
             "outlinewidth": 0,
             "ticks": ""
            },
            "colorscale": [
             [
              0,
              "#0d0887"
             ],
             [
              0.1111111111111111,
              "#46039f"
             ],
             [
              0.2222222222222222,
              "#7201a8"
             ],
             [
              0.3333333333333333,
              "#9c179e"
             ],
             [
              0.4444444444444444,
              "#bd3786"
             ],
             [
              0.5555555555555556,
              "#d8576b"
             ],
             [
              0.6666666666666666,
              "#ed7953"
             ],
             [
              0.7777777777777778,
              "#fb9f3a"
             ],
             [
              0.8888888888888888,
              "#fdca26"
             ],
             [
              1,
              "#f0f921"
             ]
            ],
            "type": "histogram2d"
           }
          ],
          "histogram2dcontour": [
           {
            "colorbar": {
             "outlinewidth": 0,
             "ticks": ""
            },
            "colorscale": [
             [
              0,
              "#0d0887"
             ],
             [
              0.1111111111111111,
              "#46039f"
             ],
             [
              0.2222222222222222,
              "#7201a8"
             ],
             [
              0.3333333333333333,
              "#9c179e"
             ],
             [
              0.4444444444444444,
              "#bd3786"
             ],
             [
              0.5555555555555556,
              "#d8576b"
             ],
             [
              0.6666666666666666,
              "#ed7953"
             ],
             [
              0.7777777777777778,
              "#fb9f3a"
             ],
             [
              0.8888888888888888,
              "#fdca26"
             ],
             [
              1,
              "#f0f921"
             ]
            ],
            "type": "histogram2dcontour"
           }
          ],
          "mesh3d": [
           {
            "colorbar": {
             "outlinewidth": 0,
             "ticks": ""
            },
            "type": "mesh3d"
           }
          ],
          "parcoords": [
           {
            "line": {
             "colorbar": {
              "outlinewidth": 0,
              "ticks": ""
             }
            },
            "type": "parcoords"
           }
          ],
          "pie": [
           {
            "automargin": true,
            "type": "pie"
           }
          ],
          "scatter": [
           {
            "marker": {
             "colorbar": {
              "outlinewidth": 0,
              "ticks": ""
             }
            },
            "type": "scatter"
           }
          ],
          "scatter3d": [
           {
            "line": {
             "colorbar": {
              "outlinewidth": 0,
              "ticks": ""
             }
            },
            "marker": {
             "colorbar": {
              "outlinewidth": 0,
              "ticks": ""
             }
            },
            "type": "scatter3d"
           }
          ],
          "scattercarpet": [
           {
            "marker": {
             "colorbar": {
              "outlinewidth": 0,
              "ticks": ""
             }
            },
            "type": "scattercarpet"
           }
          ],
          "scattergeo": [
           {
            "marker": {
             "colorbar": {
              "outlinewidth": 0,
              "ticks": ""
             }
            },
            "type": "scattergeo"
           }
          ],
          "scattergl": [
           {
            "marker": {
             "colorbar": {
              "outlinewidth": 0,
              "ticks": ""
             }
            },
            "type": "scattergl"
           }
          ],
          "scattermapbox": [
           {
            "marker": {
             "colorbar": {
              "outlinewidth": 0,
              "ticks": ""
             }
            },
            "type": "scattermapbox"
           }
          ],
          "scatterpolar": [
           {
            "marker": {
             "colorbar": {
              "outlinewidth": 0,
              "ticks": ""
             }
            },
            "type": "scatterpolar"
           }
          ],
          "scatterpolargl": [
           {
            "marker": {
             "colorbar": {
              "outlinewidth": 0,
              "ticks": ""
             }
            },
            "type": "scatterpolargl"
           }
          ],
          "scatterternary": [
           {
            "marker": {
             "colorbar": {
              "outlinewidth": 0,
              "ticks": ""
             }
            },
            "type": "scatterternary"
           }
          ],
          "surface": [
           {
            "colorbar": {
             "outlinewidth": 0,
             "ticks": ""
            },
            "colorscale": [
             [
              0,
              "#0d0887"
             ],
             [
              0.1111111111111111,
              "#46039f"
             ],
             [
              0.2222222222222222,
              "#7201a8"
             ],
             [
              0.3333333333333333,
              "#9c179e"
             ],
             [
              0.4444444444444444,
              "#bd3786"
             ],
             [
              0.5555555555555556,
              "#d8576b"
             ],
             [
              0.6666666666666666,
              "#ed7953"
             ],
             [
              0.7777777777777778,
              "#fb9f3a"
             ],
             [
              0.8888888888888888,
              "#fdca26"
             ],
             [
              1,
              "#f0f921"
             ]
            ],
            "type": "surface"
           }
          ],
          "table": [
           {
            "cells": {
             "fill": {
              "color": "#EBF0F8"
             },
             "line": {
              "color": "white"
             }
            },
            "header": {
             "fill": {
              "color": "#C8D4E3"
             },
             "line": {
              "color": "white"
             }
            },
            "type": "table"
           }
          ]
         },
         "layout": {
          "annotationdefaults": {
           "arrowcolor": "#2a3f5f",
           "arrowhead": 0,
           "arrowwidth": 1
          },
          "coloraxis": {
           "colorbar": {
            "outlinewidth": 0,
            "ticks": ""
           }
          },
          "colorscale": {
           "diverging": [
            [
             0,
             "#8e0152"
            ],
            [
             0.1,
             "#c51b7d"
            ],
            [
             0.2,
             "#de77ae"
            ],
            [
             0.3,
             "#f1b6da"
            ],
            [
             0.4,
             "#fde0ef"
            ],
            [
             0.5,
             "#f7f7f7"
            ],
            [
             0.6,
             "#e6f5d0"
            ],
            [
             0.7,
             "#b8e186"
            ],
            [
             0.8,
             "#7fbc41"
            ],
            [
             0.9,
             "#4d9221"
            ],
            [
             1,
             "#276419"
            ]
           ],
           "sequential": [
            [
             0,
             "#0d0887"
            ],
            [
             0.1111111111111111,
             "#46039f"
            ],
            [
             0.2222222222222222,
             "#7201a8"
            ],
            [
             0.3333333333333333,
             "#9c179e"
            ],
            [
             0.4444444444444444,
             "#bd3786"
            ],
            [
             0.5555555555555556,
             "#d8576b"
            ],
            [
             0.6666666666666666,
             "#ed7953"
            ],
            [
             0.7777777777777778,
             "#fb9f3a"
            ],
            [
             0.8888888888888888,
             "#fdca26"
            ],
            [
             1,
             "#f0f921"
            ]
           ],
           "sequentialminus": [
            [
             0,
             "#0d0887"
            ],
            [
             0.1111111111111111,
             "#46039f"
            ],
            [
             0.2222222222222222,
             "#7201a8"
            ],
            [
             0.3333333333333333,
             "#9c179e"
            ],
            [
             0.4444444444444444,
             "#bd3786"
            ],
            [
             0.5555555555555556,
             "#d8576b"
            ],
            [
             0.6666666666666666,
             "#ed7953"
            ],
            [
             0.7777777777777778,
             "#fb9f3a"
            ],
            [
             0.8888888888888888,
             "#fdca26"
            ],
            [
             1,
             "#f0f921"
            ]
           ]
          },
          "colorway": [
           "#636efa",
           "#EF553B",
           "#00cc96",
           "#ab63fa",
           "#FFA15A",
           "#19d3f3",
           "#FF6692",
           "#B6E880",
           "#FF97FF",
           "#FECB52"
          ],
          "font": {
           "color": "#2a3f5f"
          },
          "geo": {
           "bgcolor": "white",
           "lakecolor": "white",
           "landcolor": "#E5ECF6",
           "showlakes": true,
           "showland": true,
           "subunitcolor": "white"
          },
          "hoverlabel": {
           "align": "left"
          },
          "hovermode": "closest",
          "mapbox": {
           "style": "light"
          },
          "paper_bgcolor": "white",
          "plot_bgcolor": "#E5ECF6",
          "polar": {
           "angularaxis": {
            "gridcolor": "white",
            "linecolor": "white",
            "ticks": ""
           },
           "bgcolor": "#E5ECF6",
           "radialaxis": {
            "gridcolor": "white",
            "linecolor": "white",
            "ticks": ""
           }
          },
          "scene": {
           "xaxis": {
            "backgroundcolor": "#E5ECF6",
            "gridcolor": "white",
            "gridwidth": 2,
            "linecolor": "white",
            "showbackground": true,
            "ticks": "",
            "zerolinecolor": "white"
           },
           "yaxis": {
            "backgroundcolor": "#E5ECF6",
            "gridcolor": "white",
            "gridwidth": 2,
            "linecolor": "white",
            "showbackground": true,
            "ticks": "",
            "zerolinecolor": "white"
           },
           "zaxis": {
            "backgroundcolor": "#E5ECF6",
            "gridcolor": "white",
            "gridwidth": 2,
            "linecolor": "white",
            "showbackground": true,
            "ticks": "",
            "zerolinecolor": "white"
           }
          },
          "shapedefaults": {
           "line": {
            "color": "#2a3f5f"
           }
          },
          "ternary": {
           "aaxis": {
            "gridcolor": "white",
            "linecolor": "white",
            "ticks": ""
           },
           "baxis": {
            "gridcolor": "white",
            "linecolor": "white",
            "ticks": ""
           },
           "bgcolor": "#E5ECF6",
           "caxis": {
            "gridcolor": "white",
            "linecolor": "white",
            "ticks": ""
           }
          },
          "title": {
           "x": 0.05
          },
          "xaxis": {
           "automargin": true,
           "gridcolor": "white",
           "linecolor": "white",
           "ticks": "",
           "title": {
            "standoff": 15
           },
           "zerolinecolor": "white",
           "zerolinewidth": 2
          },
          "yaxis": {
           "automargin": true,
           "gridcolor": "white",
           "linecolor": "white",
           "ticks": "",
           "title": {
            "standoff": 15
           },
           "zerolinecolor": "white",
           "zerolinewidth": 2
          }
         }
        },
        "width": 614.4,
        "xaxis": {
         "range": [
          0,
          614.4
         ],
         "visible": false
        },
        "yaxis": {
         "range": [
          0,
          459.59999999999997
         ],
         "scaleanchor": "x",
         "visible": false
        }
       }
      },
      "text/html": [
       "<div>                            <div id=\"4cbba2a5-3ac9-4cfa-839f-7d66228ce3ef\" class=\"plotly-graph-div\" style=\"height:459.59999999999997px; width:614.4px;\"></div>            <script type=\"text/javascript\">                require([\"plotly\"], function(Plotly) {                    window.PLOTLYENV=window.PLOTLYENV || {};                                    if (document.getElementById(\"4cbba2a5-3ac9-4cfa-839f-7d66228ce3ef\")) {                    Plotly.newPlot(                        \"4cbba2a5-3ac9-4cfa-839f-7d66228ce3ef\",                        [{\"marker\": {\"opacity\": 0}, \"mode\": \"markers\", \"type\": \"scatter\", \"x\": [0, 614.4], \"y\": [0, 459.59999999999997]}],                        {\"height\": 459.59999999999997, \"images\": [{\"layer\": \"below\", \"opacity\": 1.0, \"sizex\": 614.4, \"sizey\": 459.59999999999997, \"sizing\": \"stretch\", \"source\": \"https://drive.google.com/uc?export=view&id=1c5gGfB03VJXPe5OxjUvFJuzqIPJ9WGIg\", \"x\": 0, \"xref\": \"x\", \"y\": 459.59999999999997, \"yref\": \"y\"}], \"margin\": {\"b\": 0, \"l\": 0, \"r\": 0, \"t\": 0}, \"template\": {\"data\": {\"bar\": [{\"error_x\": {\"color\": \"#2a3f5f\"}, \"error_y\": {\"color\": \"#2a3f5f\"}, \"marker\": {\"line\": {\"color\": \"#E5ECF6\", \"width\": 0.5}}, \"type\": \"bar\"}], \"barpolar\": [{\"marker\": {\"line\": {\"color\": \"#E5ECF6\", \"width\": 0.5}}, \"type\": \"barpolar\"}], \"carpet\": [{\"aaxis\": {\"endlinecolor\": \"#2a3f5f\", \"gridcolor\": \"white\", \"linecolor\": \"white\", \"minorgridcolor\": \"white\", \"startlinecolor\": \"#2a3f5f\"}, \"baxis\": {\"endlinecolor\": \"#2a3f5f\", \"gridcolor\": \"white\", \"linecolor\": \"white\", \"minorgridcolor\": \"white\", \"startlinecolor\": \"#2a3f5f\"}, \"type\": \"carpet\"}], \"choropleth\": [{\"colorbar\": {\"outlinewidth\": 0, \"ticks\": \"\"}, \"type\": \"choropleth\"}], \"contour\": [{\"colorbar\": {\"outlinewidth\": 0, \"ticks\": \"\"}, \"colorscale\": [[0.0, \"#0d0887\"], [0.1111111111111111, \"#46039f\"], [0.2222222222222222, \"#7201a8\"], [0.3333333333333333, \"#9c179e\"], [0.4444444444444444, \"#bd3786\"], [0.5555555555555556, \"#d8576b\"], [0.6666666666666666, \"#ed7953\"], [0.7777777777777778, \"#fb9f3a\"], [0.8888888888888888, \"#fdca26\"], [1.0, \"#f0f921\"]], \"type\": \"contour\"}], \"contourcarpet\": [{\"colorbar\": {\"outlinewidth\": 0, \"ticks\": \"\"}, \"type\": \"contourcarpet\"}], \"heatmap\": [{\"colorbar\": {\"outlinewidth\": 0, \"ticks\": \"\"}, \"colorscale\": [[0.0, \"#0d0887\"], [0.1111111111111111, \"#46039f\"], [0.2222222222222222, \"#7201a8\"], [0.3333333333333333, \"#9c179e\"], [0.4444444444444444, \"#bd3786\"], [0.5555555555555556, \"#d8576b\"], [0.6666666666666666, \"#ed7953\"], [0.7777777777777778, \"#fb9f3a\"], [0.8888888888888888, \"#fdca26\"], [1.0, \"#f0f921\"]], \"type\": \"heatmap\"}], \"heatmapgl\": [{\"colorbar\": {\"outlinewidth\": 0, \"ticks\": \"\"}, \"colorscale\": [[0.0, \"#0d0887\"], [0.1111111111111111, \"#46039f\"], [0.2222222222222222, \"#7201a8\"], [0.3333333333333333, \"#9c179e\"], [0.4444444444444444, \"#bd3786\"], [0.5555555555555556, \"#d8576b\"], [0.6666666666666666, \"#ed7953\"], [0.7777777777777778, \"#fb9f3a\"], [0.8888888888888888, \"#fdca26\"], [1.0, \"#f0f921\"]], \"type\": \"heatmapgl\"}], \"histogram\": [{\"marker\": {\"colorbar\": {\"outlinewidth\": 0, \"ticks\": \"\"}}, \"type\": \"histogram\"}], \"histogram2d\": [{\"colorbar\": {\"outlinewidth\": 0, \"ticks\": \"\"}, \"colorscale\": [[0.0, \"#0d0887\"], [0.1111111111111111, \"#46039f\"], [0.2222222222222222, \"#7201a8\"], [0.3333333333333333, \"#9c179e\"], [0.4444444444444444, \"#bd3786\"], [0.5555555555555556, \"#d8576b\"], [0.6666666666666666, \"#ed7953\"], [0.7777777777777778, \"#fb9f3a\"], [0.8888888888888888, \"#fdca26\"], [1.0, \"#f0f921\"]], \"type\": \"histogram2d\"}], \"histogram2dcontour\": [{\"colorbar\": {\"outlinewidth\": 0, \"ticks\": \"\"}, \"colorscale\": [[0.0, \"#0d0887\"], [0.1111111111111111, \"#46039f\"], [0.2222222222222222, \"#7201a8\"], [0.3333333333333333, \"#9c179e\"], [0.4444444444444444, \"#bd3786\"], [0.5555555555555556, \"#d8576b\"], [0.6666666666666666, \"#ed7953\"], [0.7777777777777778, \"#fb9f3a\"], [0.8888888888888888, \"#fdca26\"], [1.0, \"#f0f921\"]], \"type\": \"histogram2dcontour\"}], \"mesh3d\": [{\"colorbar\": {\"outlinewidth\": 0, \"ticks\": \"\"}, \"type\": \"mesh3d\"}], \"parcoords\": [{\"line\": {\"colorbar\": {\"outlinewidth\": 0, \"ticks\": \"\"}}, \"type\": \"parcoords\"}], \"pie\": [{\"automargin\": true, \"type\": \"pie\"}], \"scatter\": [{\"marker\": {\"colorbar\": {\"outlinewidth\": 0, \"ticks\": \"\"}}, \"type\": \"scatter\"}], \"scatter3d\": [{\"line\": {\"colorbar\": {\"outlinewidth\": 0, \"ticks\": \"\"}}, \"marker\": {\"colorbar\": {\"outlinewidth\": 0, \"ticks\": \"\"}}, \"type\": \"scatter3d\"}], \"scattercarpet\": [{\"marker\": {\"colorbar\": {\"outlinewidth\": 0, \"ticks\": \"\"}}, \"type\": \"scattercarpet\"}], \"scattergeo\": [{\"marker\": {\"colorbar\": {\"outlinewidth\": 0, \"ticks\": \"\"}}, \"type\": \"scattergeo\"}], \"scattergl\": [{\"marker\": {\"colorbar\": {\"outlinewidth\": 0, \"ticks\": \"\"}}, \"type\": \"scattergl\"}], \"scattermapbox\": [{\"marker\": {\"colorbar\": {\"outlinewidth\": 0, \"ticks\": \"\"}}, \"type\": \"scattermapbox\"}], \"scatterpolar\": [{\"marker\": {\"colorbar\": {\"outlinewidth\": 0, \"ticks\": \"\"}}, \"type\": \"scatterpolar\"}], \"scatterpolargl\": [{\"marker\": {\"colorbar\": {\"outlinewidth\": 0, \"ticks\": \"\"}}, \"type\": \"scatterpolargl\"}], \"scatterternary\": [{\"marker\": {\"colorbar\": {\"outlinewidth\": 0, \"ticks\": \"\"}}, \"type\": \"scatterternary\"}], \"surface\": [{\"colorbar\": {\"outlinewidth\": 0, \"ticks\": \"\"}, \"colorscale\": [[0.0, \"#0d0887\"], [0.1111111111111111, \"#46039f\"], [0.2222222222222222, \"#7201a8\"], [0.3333333333333333, \"#9c179e\"], [0.4444444444444444, \"#bd3786\"], [0.5555555555555556, \"#d8576b\"], [0.6666666666666666, \"#ed7953\"], [0.7777777777777778, \"#fb9f3a\"], [0.8888888888888888, \"#fdca26\"], [1.0, \"#f0f921\"]], \"type\": \"surface\"}], \"table\": [{\"cells\": {\"fill\": {\"color\": \"#EBF0F8\"}, \"line\": {\"color\": \"white\"}}, \"header\": {\"fill\": {\"color\": \"#C8D4E3\"}, \"line\": {\"color\": \"white\"}}, \"type\": \"table\"}]}, \"layout\": {\"annotationdefaults\": {\"arrowcolor\": \"#2a3f5f\", \"arrowhead\": 0, \"arrowwidth\": 1}, \"coloraxis\": {\"colorbar\": {\"outlinewidth\": 0, \"ticks\": \"\"}}, \"colorscale\": {\"diverging\": [[0, \"#8e0152\"], [0.1, \"#c51b7d\"], [0.2, \"#de77ae\"], [0.3, \"#f1b6da\"], [0.4, \"#fde0ef\"], [0.5, \"#f7f7f7\"], [0.6, \"#e6f5d0\"], [0.7, \"#b8e186\"], [0.8, \"#7fbc41\"], [0.9, \"#4d9221\"], [1, \"#276419\"]], \"sequential\": [[0.0, \"#0d0887\"], [0.1111111111111111, \"#46039f\"], [0.2222222222222222, \"#7201a8\"], [0.3333333333333333, \"#9c179e\"], [0.4444444444444444, \"#bd3786\"], [0.5555555555555556, \"#d8576b\"], [0.6666666666666666, \"#ed7953\"], [0.7777777777777778, \"#fb9f3a\"], [0.8888888888888888, \"#fdca26\"], [1.0, \"#f0f921\"]], \"sequentialminus\": [[0.0, \"#0d0887\"], [0.1111111111111111, \"#46039f\"], [0.2222222222222222, \"#7201a8\"], [0.3333333333333333, \"#9c179e\"], [0.4444444444444444, \"#bd3786\"], [0.5555555555555556, \"#d8576b\"], [0.6666666666666666, \"#ed7953\"], [0.7777777777777778, \"#fb9f3a\"], [0.8888888888888888, \"#fdca26\"], [1.0, \"#f0f921\"]]}, \"colorway\": [\"#636efa\", \"#EF553B\", \"#00cc96\", \"#ab63fa\", \"#FFA15A\", \"#19d3f3\", \"#FF6692\", \"#B6E880\", \"#FF97FF\", \"#FECB52\"], \"font\": {\"color\": \"#2a3f5f\"}, \"geo\": {\"bgcolor\": \"white\", \"lakecolor\": \"white\", \"landcolor\": \"#E5ECF6\", \"showlakes\": true, \"showland\": true, \"subunitcolor\": \"white\"}, \"hoverlabel\": {\"align\": \"left\"}, \"hovermode\": \"closest\", \"mapbox\": {\"style\": \"light\"}, \"paper_bgcolor\": \"white\", \"plot_bgcolor\": \"#E5ECF6\", \"polar\": {\"angularaxis\": {\"gridcolor\": \"white\", \"linecolor\": \"white\", \"ticks\": \"\"}, \"bgcolor\": \"#E5ECF6\", \"radialaxis\": {\"gridcolor\": \"white\", \"linecolor\": \"white\", \"ticks\": \"\"}}, \"scene\": {\"xaxis\": {\"backgroundcolor\": \"#E5ECF6\", \"gridcolor\": \"white\", \"gridwidth\": 2, \"linecolor\": \"white\", \"showbackground\": true, \"ticks\": \"\", \"zerolinecolor\": \"white\"}, \"yaxis\": {\"backgroundcolor\": \"#E5ECF6\", \"gridcolor\": \"white\", \"gridwidth\": 2, \"linecolor\": \"white\", \"showbackground\": true, \"ticks\": \"\", \"zerolinecolor\": \"white\"}, \"zaxis\": {\"backgroundcolor\": \"#E5ECF6\", \"gridcolor\": \"white\", \"gridwidth\": 2, \"linecolor\": \"white\", \"showbackground\": true, \"ticks\": \"\", \"zerolinecolor\": \"white\"}}, \"shapedefaults\": {\"line\": {\"color\": \"#2a3f5f\"}}, \"ternary\": {\"aaxis\": {\"gridcolor\": \"white\", \"linecolor\": \"white\", \"ticks\": \"\"}, \"baxis\": {\"gridcolor\": \"white\", \"linecolor\": \"white\", \"ticks\": \"\"}, \"bgcolor\": \"#E5ECF6\", \"caxis\": {\"gridcolor\": \"white\", \"linecolor\": \"white\", \"ticks\": \"\"}}, \"title\": {\"x\": 0.05}, \"xaxis\": {\"automargin\": true, \"gridcolor\": \"white\", \"linecolor\": \"white\", \"ticks\": \"\", \"title\": {\"standoff\": 15}, \"zerolinecolor\": \"white\", \"zerolinewidth\": 2}, \"yaxis\": {\"automargin\": true, \"gridcolor\": \"white\", \"linecolor\": \"white\", \"ticks\": \"\", \"title\": {\"standoff\": 15}, \"zerolinecolor\": \"white\", \"zerolinewidth\": 2}}}, \"width\": 614.4, \"xaxis\": {\"range\": [0, 614.4], \"visible\": false}, \"yaxis\": {\"range\": [0, 459.59999999999997], \"scaleanchor\": \"x\", \"visible\": false}},                        {\"doubleClick\": \"reset\", \"responsive\": true}                    ).then(function(){\n",
       "                            \n",
       "var gd = document.getElementById('4cbba2a5-3ac9-4cfa-839f-7d66228ce3ef');\n",
       "var x = new MutationObserver(function (mutations, observer) {{\n",
       "        var display = window.getComputedStyle(gd).display;\n",
       "        if (!display || display === 'none') {{\n",
       "            console.log([gd, 'removed!']);\n",
       "            Plotly.purge(gd);\n",
       "            observer.disconnect();\n",
       "        }}\n",
       "}});\n",
       "\n",
       "// Listen for the removal of the full notebook cells\n",
       "var notebookContainer = gd.closest('#notebook-container');\n",
       "if (notebookContainer) {{\n",
       "    x.observe(notebookContainer, {childList: true});\n",
       "}}\n",
       "\n",
       "// Listen for the clearing of the current output cell\n",
       "var outputEl = gd.closest('.output');\n",
       "if (outputEl) {{\n",
       "    x.observe(outputEl, {childList: true});\n",
       "}}\n",
       "\n",
       "                        })                };                });            </script>        </div>"
      ]
     },
     "metadata": {},
     "output_type": "display_data"
    }
   ],
   "source": [
    "plot_overlay(0)"
   ]
  },
  {
   "cell_type": "code",
   "execution_count": 7,
   "metadata": {},
   "outputs": [
    {
     "data": {
      "application/vnd.jupyter.widget-view+json": {
       "model_id": "2b53267cc6c241069e6a02ee3b0ad5f7",
       "version_major": 2,
       "version_minor": 0
      },
      "text/plain": [
       "interactive(children=(Dropdown(description='key', options=('GP4-01a.jpg', 'GP4-01b.jpg', 'GP4-01c.jpg', 'GP4-0…"
      ]
     },
     "metadata": {},
     "output_type": "display_data"
    },
    {
     "data": {
      "text/plain": [
       "<function __main__.plot_colors(key)>"
      ]
     },
     "execution_count": 7,
     "metadata": {},
     "output_type": "execute_result"
    }
   ],
   "source": [
    "interact(plot_colors, key = list(dfs.keys()))"
   ]
  },
  {
   "cell_type": "code",
   "execution_count": 8,
   "metadata": {},
   "outputs": [
    {
     "data": {
      "application/vnd.jupyter.widget-view+json": {
       "model_id": "658f3cba5fc1480287e44c532dc13823",
       "version_major": 2,
       "version_minor": 0
      },
      "text/plain": [
       "interactive(children=(Dropdown(description='key', options=('GP4-01a.jpg', 'GP4-01b.jpg', 'GP4-01c.jpg', 'GP4-0…"
      ]
     },
     "metadata": {},
     "output_type": "display_data"
    },
    {
     "data": {
      "text/plain": [
       "<function __main__.plot_overlay(key)>"
      ]
     },
     "execution_count": 8,
     "metadata": {},
     "output_type": "execute_result"
    }
   ],
   "source": [
    "interact(plot_overlay, key = list(imgs.keys()))"
   ]
  },
  {
   "cell_type": "markdown",
   "metadata": {},
   "source": [
    "## Resultados\n",
    "\n",
    "As larguras medidas são salvas no dicionário `width`, que será organizado em um DataFrame com as informações de material e número de ensaio e exportado para o arquivo `data_largura.csv` que será juntado aos dados de coeficiente de atrito e umidade/temperatura posteriormente."
   ]
  },
  {
   "cell_type": "code",
   "execution_count": 9,
   "metadata": {},
   "outputs": [
    {
     "data": {
      "text/plain": [
       "{'GP4-01a.jpg': 503.77248,\n",
       " 'GP4-01b.jpg': 493.64639999999997,\n",
       " 'GP4-01c.jpg': 497.44368,\n",
       " 'GP4-02a.jpg': 387.32256,\n",
       " 'GP4-02b.jpg': 383.52528,\n",
       " 'GP4-02c.jpg': 392.3856,\n",
       " 'GP4-03a_ne.jpg': 372.13344,\n",
       " 'GP4-03b.jpg': 372.13344,\n",
       " 'GP4-03c.jpg': 379.728,\n",
       " 'GP4-04a.jpg': 286.06176,\n",
       " 'GP4-04b.jpg': 293.65632,\n",
       " 'GP4-04c.jpg': 294.92208,\n",
       " 'GP4-05a.jpg': 373.3992,\n",
       " 'GP4-05b.jpg': 369.60192,\n",
       " 'GP4-05c.jpg': 370.86768,\n",
       " 'GP4-06a.jpg': 372.13344,\n",
       " 'GP4-06b.jpg': 373.3992,\n",
       " 'GP4-06c.jpg': 372.13344,\n",
       " 'GP4-07a.jpg': 373.3992,\n",
       " 'GP4-07b.jpg': 369.60192,\n",
       " 'GP4-07c.jpg': 372.13344,\n",
       " 'GP4-08a.jpg': 444.28176,\n",
       " 'GP4-08b.jpg': 441.75024,\n",
       " 'GP4-08c.jpg': 446.81328,\n",
       " 'GP4-09a.jpg': 268.34112,\n",
       " 'GP4-09b.jpg': 268.34112,\n",
       " 'GP4-09c.jpg': 270.87264,\n",
       " 'GP4-10a.jpg': 346.81824,\n",
       " 'GP4-10b.jpg': 345.55248,\n",
       " 'GP4-10c.jpg': 345.55248,\n",
       " 'GP4-11a.jpg': 372.13344,\n",
       " 'GP4-11b.jpg': 367.0704,\n",
       " 'GP4-11c.jpg': 375.93072,\n",
       " 'GP4-12a.jpg': 254.41776,\n",
       " 'GP4-12b.jpg': 237.96288,\n",
       " 'GP4-12c.jpg': 239.22864,\n",
       " 'GP4-13a.jpg': 273.40416,\n",
       " 'GP4-13b.jpg': 277.20144,\n",
       " 'GP4-13c.jpg': 283.53024,\n",
       " 'GP4-14a.jpg': 473.39424,\n",
       " 'GP4-14b.jpg': 474.66,\n",
       " 'GP4-14c.jpg': 479.72304,\n",
       " 'GP4-15a.jpg': 470.86272,\n",
       " 'GP4-15b.jpg': 478.45728,\n",
       " 'GP4-15c.jpg': 488.58335999999997,\n",
       " 'GP4-16a.jpg': 384.79104,\n",
       " 'GP4-16b.jpg': 386.0568,\n",
       " 'GP4-16c.jpg': 386.0568,\n",
       " 'GP4-17a.jpg': 372.13344,\n",
       " 'GP4-17b.jpg': 369.60192,\n",
       " 'GP4-17c.jpg': 369.60192,\n",
       " 'GPP11-01a.jpg': 453.14208,\n",
       " 'GPP11-01b.jpg': 443.016,\n",
       " 'GPP11-01c.jpg': 436.6872,\n",
       " 'GPP11-02a.jpg': 329.0976,\n",
       " 'GPP11-02b.jpg': 320.23728,\n",
       " 'GPP11-02c.jpg': 321.50304,\n",
       " 'GPP11-03a.jpg': 356.94432,\n",
       " 'GPP11-03b.jpg': 354.4128,\n",
       " 'GPP11-03c.jpg': 353.14704,\n",
       " 'GPP11-04a.jpg': 354.4128,\n",
       " 'GPP11-04b.jpg': 353.14704,\n",
       " 'GPP11-04c.jpg': 354.4128,\n",
       " 'GPP11-05a.jpg': 331.62912,\n",
       " 'GPP11-05b.jpg': 318.97152,\n",
       " 'GPP11-05c.jpg': 326.56608,\n",
       " 'GPP11-06a.jpg': 355.67856,\n",
       " 'GPP11-06b.jpg': 349.34976,\n",
       " 'GPP11-06c.jpg': 349.34976,\n",
       " 'GPP11-07a.jpg': 439.21872,\n",
       " 'GPP11-07b.jpg': 429.09264,\n",
       " 'GPP11-07c.jpg': 432.88992,\n",
       " 'GPP11-08a.jpg': 356.94432,\n",
       " 'GPP11-08b.jpg': 359.47584,\n",
       " 'GPP11-08c.jpg': 360.7416,\n",
       " 'GPP11-09a.jpg': 286.06176,\n",
       " 'GPP11-09b.jpg': 288.59328,\n",
       " 'GPP11-09c.jpg': 291.1248,\n",
       " 'GPP11-10a.jpg': 446.81328,\n",
       " 'GPP11-10b.jpg': 439.21872,\n",
       " 'GPP11-10c.jpg': 443.016,\n",
       " 'GPP11-11a.jpg': 349.34976,\n",
       " 'GPP11-11b.jpg': 345.55248,\n",
       " 'GPP11-11c.jpg': 362.00736,\n",
       " 'GPP11-12a.jpg': 273.40416,\n",
       " 'GPP11-12b.jpg': 273.40416,\n",
       " 'GPP11-12c.jpg': 274.66992,\n",
       " 'GPP11-13a.jpg': 279.73296,\n",
       " 'GPP11-13b.jpg': 279.73296,\n",
       " 'GPP11-13c.jpg': 275.93568,\n",
       " 'GPP11-14a.jpg': 262.01232,\n",
       " 'GPP11-14b.jpg': 262.01232,\n",
       " 'GPP11-14c.jpg': 258.21504,\n",
       " 'GPP11-15a.jpg': 356.94432,\n",
       " 'GPP11-15b.jpg': 353.14704,\n",
       " 'GPP11-15c.jpg': 356.94432,\n",
       " 'GPP11-16a.jpg': 437.95296,\n",
       " 'GPP11-16b.jpg': 432.88992,\n",
       " 'GPP11-16c.jpg': 446.81328,\n",
       " 'PP4-01a.jpg': 480.9888,\n",
       " 'PP4-01b.jpg': 526.55616,\n",
       " 'PP4-01c.jpg': 587.31264,\n",
       " 'PP4-02a.jpg': 831.60432,\n",
       " 'PP4-02b.jpg': 589.84416,\n",
       " 'PP4-02c.jpg': 665.78976,\n",
       " 'PP4-03a.jpg': 492.38063999999997,\n",
       " 'PP4-03b.jpg': 546.80832,\n",
       " 'PP4-03c.jpg': 692.37072,\n",
       " 'PP4-04a.jpg': 325.30032,\n",
       " 'PP4-04b.jpg': 446.81328,\n",
       " 'PP4-04c.jpg': 479.72304,\n",
       " 'PP4-05a.jpg': 705.02832,\n",
       " 'PP4-05b.jpg': 643.00608,\n",
       " 'PP4-05c.jpg': 554.40288,\n",
       " 'PP4-06a.jpg': 794.89728,\n",
       " 'PP4-06b.jpg': 715.1544,\n",
       " 'PP4-06c.jpg': 617.69088,\n",
       " 'PP4-07a.jpg': 553.13712,\n",
       " 'PP4-07b.jpg': 393.65136,\n",
       " 'PP4-07c.jpg': 646.80336,\n",
       " 'PP4-08a.jpg': 406.30896,\n",
       " 'PP4-08b.jpg': 599.97024,\n",
       " 'PP4-08c.jpg': 330.36336,\n",
       " 'PU-01a.jpg': 288.59328,\n",
       " 'PU-01b.jpg': 282.26448,\n",
       " 'PU-01c.jpg': 282.26448,\n",
       " 'PU-02a.jpg': 354.4128,\n",
       " 'PU-02b.jpg': 355.67856,\n",
       " 'PU-02c.jpg': 362.00736,\n",
       " 'PU-03a.jpg': 273.40416,\n",
       " 'PU-03b.jpg': 272.1384,\n",
       " 'PU-03c.jpg': 272.1384,\n",
       " 'PU-04a.jpg': 430.3584,\n",
       " 'PU-04b.jpg': 417.7008,\n",
       " 'PU-04c.jpg': 424.0296,\n",
       " 'PU-05a.jpg': 351.88128,\n",
       " 'PU-05b.jpg': 345.55248,\n",
       " 'PU-05c.jpg': 350.61552,\n",
       " 'PU-06a.jpg': 341.7552,\n",
       " 'PU-06b.jpg': 348.084,\n",
       " 'PU-06c.jpg': 358.21008,\n",
       " 'PU-07a.jpg': 349.34976,\n",
       " 'PU-07b.jpg': 351.88128,\n",
       " 'PU-07c.jpg': 358.21008,\n",
       " 'PU-08a.jpg': 351.88128,\n",
       " 'PU-08b.jpg': 349.34976,\n",
       " 'PU-08c.jpg': 355.67856,\n",
       " 'PU-09a.jpg': 444.28176,\n",
       " 'PU-09b.jpg': 432.88992,\n",
       " 'PU-09c.jpg': 431.62416,\n",
       " 'PU-10a.jpg': 283.53024,\n",
       " 'PU-10b.jpg': 277.20144,\n",
       " 'PU-10c.jpg': 279.73296,\n",
       " 'PU-11a.jpg': 351.88128,\n",
       " 'PU-11b.jpg': 344.28672,\n",
       " 'PU-11c.jpg': 343.02096,\n",
       " 'PU-12a.jpg': 349.34976,\n",
       " 'PU-12b.jpg': 340.48944,\n",
       " 'PU-12c.jpg': 343.02096,\n",
       " 'PU-13a.jpg': 278.4672,\n",
       " 'PU-13b.jpg': 274.66992,\n",
       " 'PU-13c.jpg': 273.40416,\n",
       " 'PU-14a.jpg': 426.56112,\n",
       " 'PU-14b.jpg': 426.56112,\n",
       " 'PU-14c.jpg': 432.88992,\n",
       " 'PU-15a.jpg': 420.23232,\n",
       " 'PU-15b.jpg': 422.76384,\n",
       " 'PU-15c.jpg': 431.62416,\n",
       " 'PU-16a.jpg': 354.4128,\n",
       " 'PU-16b.jpg': 351.88128,\n",
       " 'PU-16c_ne.jpg': 353.14704}"
      ]
     },
     "execution_count": 9,
     "metadata": {},
     "output_type": "execute_result"
    }
   ],
   "source": [
    "width"
   ]
  },
  {
   "cell_type": "code",
   "execution_count": 11,
   "metadata": {},
   "outputs": [],
   "source": [
    "df = pd.DataFrame()\n",
    "for key, value in width.items():\n",
    "    material, ensaio = key.split('-')\n",
    "    ensaio = ensaio.split('_')[0].split('.')[0]\n",
    "    df = df.append(pd.DataFrame([[material, ensaio[:2],value, key]], columns = ['Material', 'Ensaio', 'Largura', 'Arquivo']), ignore_index = True)"
   ]
  },
  {
   "cell_type": "code",
   "execution_count": 12,
   "metadata": {},
   "outputs": [],
   "source": [
    "df.to_csv('src/data_largura.csv', index = False)"
   ]
  }
 ],
 "metadata": {
  "kernelspec": {
   "display_name": "Python 3",
   "language": "python",
   "name": "python3"
  },
  "language_info": {
   "codemirror_mode": {
    "name": "ipython",
    "version": 3
   },
   "file_extension": ".py",
   "mimetype": "text/x-python",
   "name": "python",
   "nbconvert_exporter": "python",
   "pygments_lexer": "ipython3",
   "version": "3.9.1"
  }
 },
 "nbformat": 4,
 "nbformat_minor": 4
}
