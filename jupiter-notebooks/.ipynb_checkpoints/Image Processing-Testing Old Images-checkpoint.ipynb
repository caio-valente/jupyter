{
 "cells": [
  {
   "cell_type": "code",
   "execution_count": 136,
   "metadata": {},
   "outputs": [],
   "source": [
    "import numpy as np\n",
    "import pandas as pd\n",
    "import plotly.express as px\n",
    "import plotly.graph_objects as go\n",
    "from cv2 import imread, imwrite\n",
    "from ipywidgets import interact, widgets\n",
    "from pathlib import Path\n",
    "from os import listdir\n",
    "from os.path import isfile, join"
   ]
  },
  {
   "cell_type": "code",
   "execution_count": 137,
   "metadata": {},
   "outputs": [],
   "source": [
    "p = Path.home()\n",
    "p = p/'OneDrive'/'Documentos'/'GitHub'/'jupyter'/'jupiter-notebooks'/'src'/'riscos'/'teste'"
   ]
  },
  {
   "cell_type": "code",
   "execution_count": 138,
   "metadata": {},
   "outputs": [],
   "source": [
    "filenames = [f for f in listdir(p) if isfile(join(p, f))]\n",
    "imgs = dict()\n",
    "\n",
    "for filename in filenames:\n",
    "    filepath = p/filename\n",
    "    try:\n",
    "        imgs[filepath.name] = imread(str(filepath))\n",
    "    except FileNotFoundError:\n",
    "        pass"
   ]
  },
  {
   "cell_type": "code",
   "execution_count": 139,
   "metadata": {},
   "outputs": [],
   "source": [
    "dfs = dict()\n",
    "left_edge_px = dict()\n",
    "right_edge_px = dict()\n",
    "high = dict()\n",
    "low = dict()\n",
    "width = dict()\n",
    "\n",
    "for key, img in imgs.items():\n",
    "    dfs[key] = pd.DataFrame({'Blue': imgs[key][:,:,2].sum(axis = 0),\n",
    "                       'Red': imgs[key][:,:,0].sum(axis = 0),\n",
    "                       'Green': imgs[key][:,:,1].sum(axis = 0)})\n",
    "    high[key] = max(dfs[key]['Red'])\n",
    "    low[key] = min(dfs[key]['Red'])\n",
    "    \n",
    "for key in list(imgs.keys()):\n",
    "    df = dfs[key].reset_index()\n",
    "    mask = df['index']<1500\n",
    "    left_edge_px[key] = df.loc[mask & (df['Red']>=0.9*np.mean((high[key],low[key])))].index.min()\n",
    "    right_edge_px[key] = df.loc[mask & (df['Red']>=0.9*np.mean((high[key],low[key])))].index.max()\n",
    "    width[key] = 1.262626*(right_edge_px[key]-left_edge_px[key])"
   ]
  },
  {
   "cell_type": "code",
   "execution_count": 140,
   "metadata": {},
   "outputs": [],
   "source": [
    "def plot_colors(key):\n",
    "    fig = px.line(dfs[key])\n",
    "    fig.show()"
   ]
  },
  {
   "cell_type": "code",
   "execution_count": null,
   "metadata": {},
   "outputs": [],
   "source": []
  },
  {
   "cell_type": "code",
   "execution_count": 141,
   "metadata": {},
   "outputs": [
    {
     "data": {
      "text/plain": [
       "496.212018"
      ]
     },
     "execution_count": 141,
     "metadata": {},
     "output_type": "execute_result"
    }
   ],
   "source": [
    "1.262626*(right_edge_px[key]-left_edge_px[key])"
   ]
  },
  {
   "cell_type": "code",
   "execution_count": 142,
   "metadata": {},
   "outputs": [],
   "source": [
    "def plot_overlay(key):\n",
    "    path = p/key\n",
    "    # Create figure\n",
    "    fig = go.Figure()\n",
    "\n",
    "    # Constants\n",
    "    img_width = 2048\n",
    "    img_height = 1532\n",
    "    scale_factor = 0.3\n",
    "\n",
    "    # Add invisible scatter trace.\n",
    "    # This trace is added to help the autoresize logic work.\n",
    "    fig.add_trace(\n",
    "        go.Scatter(\n",
    "            x=[0, img_width * scale_factor],\n",
    "            y=[0, img_height * scale_factor],\n",
    "            mode=\"markers\",\n",
    "            marker_opacity=0\n",
    "        )\n",
    "    )\n",
    "\n",
    "    # Configure axes\n",
    "    fig.update_xaxes(\n",
    "        visible=False,\n",
    "        range=[0, img_width * scale_factor]\n",
    "    )\n",
    "\n",
    "    fig.update_yaxes(\n",
    "        visible=False,\n",
    "        range=[0, img_height * scale_factor],\n",
    "        # the scaleanchor attribute ensures that the aspect ratio stays constant\n",
    "        scaleanchor=\"x\"\n",
    "    )\n",
    "\n",
    "    # Add image\n",
    "    fig.add_layout_image(\n",
    "        dict(\n",
    "            x=0,\n",
    "            sizex=img_width * scale_factor,\n",
    "            y=img_height * scale_factor,\n",
    "            sizey=img_height * scale_factor,\n",
    "            xref=\"x\",\n",
    "            yref=\"y\",\n",
    "            opacity=1.0,\n",
    "            layer=\"below\",\n",
    "            sizing=\"stretch\",\n",
    "            source='src/riscos/teste/{}'.format(key)[:-4]+'.jpg')\n",
    "    )\n",
    "    fig.add_vline(x = 0.3*left_edge_px[key], line_color = 'red')\n",
    "    fig.add_vline(x = 0.3*right_edge_px[key], line_color = 'red')\n",
    "\n",
    "    # Configure other layout\n",
    "    fig.update_layout(\n",
    "        width=img_width * scale_factor,\n",
    "        height=img_height * scale_factor,\n",
    "        margin={\"l\": 0, \"r\": 0, \"t\": 0, \"b\": 0},\n",
    "    )\n",
    "\n",
    "    # Disable the autosize on double click because it adds unwanted margins around the image\n",
    "    # More detail: https://plotly.com/python/configuration-options/\n",
    "    fig.show(config={'doubleClick': 'reset'})"
   ]
  },
  {
   "cell_type": "code",
   "execution_count": 143,
   "metadata": {},
   "outputs": [
    {
     "data": {
      "application/vnd.jupyter.widget-view+json": {
       "model_id": "5e8ef89f524d472ea86de157950095fb",
       "version_major": 2,
       "version_minor": 0
      },
      "text/plain": [
       "interactive(children=(Dropdown(description='key', options=('PU+1GE-11-a.jpg', 'PU+1GE-11-b.jpg', 'PU+1GE-11-c.…"
      ]
     },
     "metadata": {},
     "output_type": "display_data"
    },
    {
     "data": {
      "text/plain": [
       "<function __main__.plot_colors(key)>"
      ]
     },
     "execution_count": 143,
     "metadata": {},
     "output_type": "execute_result"
    }
   ],
   "source": [
    "interact(plot_colors, key = list(dfs.keys()))"
   ]
  },
  {
   "cell_type": "code",
   "execution_count": 144,
   "metadata": {},
   "outputs": [
    {
     "data": {
      "application/vnd.jupyter.widget-view+json": {
       "model_id": "60a82d876c694e16ac878434b3ca2822",
       "version_major": 2,
       "version_minor": 0
      },
      "text/plain": [
       "interactive(children=(Dropdown(description='key', options=('PU+1GE-11-a.jpg', 'PU+1GE-11-b.jpg', 'PU+1GE-11-c.…"
      ]
     },
     "metadata": {},
     "output_type": "display_data"
    },
    {
     "data": {
      "text/plain": [
       "<function __main__.plot_overlay(key)>"
      ]
     },
     "execution_count": 144,
     "metadata": {},
     "output_type": "execute_result"
    }
   ],
   "source": [
    "interact(plot_overlay, key = list(imgs.keys()))"
   ]
  },
  {
   "cell_type": "code",
   "execution_count": 145,
   "metadata": {},
   "outputs": [
    {
     "data": {
      "text/plain": [
       "{'PU+1GE-11-a.jpg': 280.302972,\n",
       " 'PU+1GE-11-b.jpg': 253.787826,\n",
       " 'PU+1GE-11-c.jpg': 252.5252,\n",
       " 'PU+1GE-12-a.jpg': 421.717084,\n",
       " 'PU+1GE-12-b.jpg': 405.302946,\n",
       " 'PU+1GE-12-c.jpg': 450.757482,\n",
       " 'PU+1GE-6-b.jpg': 439.393848,\n",
       " 'PU+1GE-6-c.jpg': 452.020108,\n",
       " 'PU+1GE-7-a.jpg': 441.9191,\n",
       " 'PU+1GE-7-b.jpg': 421.717084,\n",
       " 'PU+1GE-7-c.jpg': 440.656474,\n",
       " 'PU+1GE-8-a.jpg': 338.38376800000003,\n",
       " 'PU+1GE-8-b.jpg': 345.959524,\n",
       " 'PU+1GE-8-c.jpg': 362.373662,\n",
       " 'PU+2GE-10-a.jpg': 282.828224,\n",
       " 'PU+2GE-10-b.jpg': 279.040346,\n",
       " 'PU+2GE-10-c.jpg': 284.09085,\n",
       " 'PU+2GE-11-a.jpg': 378.7878,\n",
       " 'PU+2GE-11-b.jpg': 378.7878,\n",
       " 'PU+2GE-11-c.jpg': 366.16154,\n",
       " 'PU+2GE-12-a.jpg': 474.74737600000003,\n",
       " 'PU+2GE-7-a.jpg': 357.32315800000003,\n",
       " 'PU+2GE-7-b.jpg': 359.84841,\n",
       " 'PU+2GE-7-c.jpg': 357.32315800000003,\n",
       " 'PU+2GE-8-a.jpg': 446.969604,\n",
       " 'PU+2GE-8-b.jpg': 436.868596,\n",
       " 'PU+2GE-8-c.jpg': 449.494856,\n",
       " 'PU+2GE-9-a.jpg': 311.868622,\n",
       " 'PU+2GE-9-b.jpg': 303.03024,\n",
       " 'PU+2GE-9-c.jpg': 300.504988,\n",
       " 'PU+4EG_50x_13_a.jpg': 276.51509400000003,\n",
       " 'PU+4EG_50x_13_b.jpg': 294.191858,\n",
       " 'PU+4EG_50x_13_c.jpg': 295.454484,\n",
       " 'PU+4EG_50x_14_a.jpg': 382.575678,\n",
       " 'PU+4EG_50x_14_b.jpg': 391.41406,\n",
       " 'PU+4EG_50x_14_c.jpg': 390.151434,\n",
       " 'PU+4EG_50x_1_a.jpg': 313.131248,\n",
       " 'PU+4EG_50x_1_b.jpg': 318.181752,\n",
       " 'PU+4EG_50x_1_c.jpg': 325.75750800000003,\n",
       " 'PU+4EG_50x_3_a.jpg': 374.999922,\n",
       " 'PU+4EG_50x_3_b.jpg': 372.47467,\n",
       " 'PU+4EG_50x_3_c.jpg': 395.201938,\n",
       " 'PU+4EG_50x_4_a.jpg': 272.727216,\n",
       " 'PU+4EG_50x_4_b.jpg': 276.51509400000003,\n",
       " 'PU+4EG_50x_4_c.jpg': 275.252468,\n",
       " 'PU+4EG_50x_7_a.jpg': 488.636262,\n",
       " 'PU+4EG_50x_7_b.jpg': 488.636262,\n",
       " 'PU+4EG_50x_7_c.jpg': 496.212018}"
      ]
     },
     "execution_count": 145,
     "metadata": {},
     "output_type": "execute_result"
    }
   ],
   "source": [
    "width"
   ]
  },
  {
   "cell_type": "code",
   "execution_count": 146,
   "metadata": {},
   "outputs": [],
   "source": [
    "width_measured = pd.read_excel(r'C:\\Users\\Caio\\OneDrive\\Documentos\\Python\\Results\\Excel\\Resultados Largura de Desgaste.xlsx')"
   ]
  },
  {
   "cell_type": "code",
   "execution_count": 147,
   "metadata": {},
   "outputs": [],
   "source": [
    "width_measured['width'] = width_measured[['Largura 1','Largura 2','Largura 3']].fillna(0).apply(np.mean, axis = 'columns')"
   ]
  },
  {
   "cell_type": "code",
   "execution_count": 148,
   "metadata": {},
   "outputs": [
    {
     "data": {
      "text/html": [
       "<div>\n",
       "<style scoped>\n",
       "    .dataframe tbody tr th:only-of-type {\n",
       "        vertical-align: middle;\n",
       "    }\n",
       "\n",
       "    .dataframe tbody tr th {\n",
       "        vertical-align: top;\n",
       "    }\n",
       "\n",
       "    .dataframe thead th {\n",
       "        text-align: right;\n",
       "    }\n",
       "</style>\n",
       "<table border=\"1\" class=\"dataframe\">\n",
       "  <thead>\n",
       "    <tr style=\"text-align: right;\">\n",
       "      <th></th>\n",
       "      <th>Foto</th>\n",
       "      <th>PU</th>\n",
       "      <th>EG</th>\n",
       "      <th>Posição</th>\n",
       "      <th>Ensaio</th>\n",
       "      <th>Largura 1</th>\n",
       "      <th>Largura 2</th>\n",
       "      <th>Largura 3</th>\n",
       "      <th>Força Normal</th>\n",
       "      <th>Frequência</th>\n",
       "      <th>width</th>\n",
       "    </tr>\n",
       "  </thead>\n",
       "  <tbody>\n",
       "    <tr>\n",
       "      <th>0</th>\n",
       "      <td>PU+1GE-1-a</td>\n",
       "      <td>99</td>\n",
       "      <td>1</td>\n",
       "      <td>Meio</td>\n",
       "      <td>1</td>\n",
       "      <td>397.46</td>\n",
       "      <td>394.95</td>\n",
       "      <td>396.21</td>\n",
       "      <td>8.00</td>\n",
       "      <td>4</td>\n",
       "      <td>396.206667</td>\n",
       "    </tr>\n",
       "    <tr>\n",
       "      <th>1</th>\n",
       "      <td>PU+1GE-1-b</td>\n",
       "      <td>99</td>\n",
       "      <td>1</td>\n",
       "      <td>Ponta</td>\n",
       "      <td>1</td>\n",
       "      <td>408.87</td>\n",
       "      <td>439.23</td>\n",
       "      <td>NaN</td>\n",
       "      <td>8.00</td>\n",
       "      <td>4</td>\n",
       "      <td>282.700000</td>\n",
       "    </tr>\n",
       "    <tr>\n",
       "      <th>2</th>\n",
       "      <td>PU+1GE-1-c</td>\n",
       "      <td>99</td>\n",
       "      <td>1</td>\n",
       "      <td>Ponta</td>\n",
       "      <td>1</td>\n",
       "      <td>426.56</td>\n",
       "      <td>406.31</td>\n",
       "      <td>NaN</td>\n",
       "      <td>8.00</td>\n",
       "      <td>4</td>\n",
       "      <td>277.623333</td>\n",
       "    </tr>\n",
       "    <tr>\n",
       "      <th>3</th>\n",
       "      <td>PU+1GE-2-a</td>\n",
       "      <td>99</td>\n",
       "      <td>1</td>\n",
       "      <td>Ponta</td>\n",
       "      <td>2</td>\n",
       "      <td>338.00</td>\n",
       "      <td>327.84</td>\n",
       "      <td>312.68</td>\n",
       "      <td>5.00</td>\n",
       "      <td>2</td>\n",
       "      <td>326.173333</td>\n",
       "    </tr>\n",
       "    <tr>\n",
       "      <th>4</th>\n",
       "      <td>PU+1GE-2-b</td>\n",
       "      <td>99</td>\n",
       "      <td>1</td>\n",
       "      <td>Meio</td>\n",
       "      <td>2</td>\n",
       "      <td>302.53</td>\n",
       "      <td>315.27</td>\n",
       "      <td>315.34</td>\n",
       "      <td>5.00</td>\n",
       "      <td>2</td>\n",
       "      <td>311.046667</td>\n",
       "    </tr>\n",
       "    <tr>\n",
       "      <th>...</th>\n",
       "      <td>...</td>\n",
       "      <td>...</td>\n",
       "      <td>...</td>\n",
       "      <td>...</td>\n",
       "      <td>...</td>\n",
       "      <td>...</td>\n",
       "      <td>...</td>\n",
       "      <td>...</td>\n",
       "      <td>...</td>\n",
       "      <td>...</td>\n",
       "      <td>...</td>\n",
       "    </tr>\n",
       "    <tr>\n",
       "      <th>145</th>\n",
       "      <td>PU+C_2GE-3-b</td>\n",
       "      <td>98</td>\n",
       "      <td>2</td>\n",
       "      <td>Meio</td>\n",
       "      <td>15</td>\n",
       "      <td>367.08</td>\n",
       "      <td>362.02</td>\n",
       "      <td>367.08</td>\n",
       "      <td>5.17</td>\n",
       "      <td>3</td>\n",
       "      <td>365.393333</td>\n",
       "    </tr>\n",
       "    <tr>\n",
       "      <th>146</th>\n",
       "      <td>PU+C_2GE-3-c</td>\n",
       "      <td>98</td>\n",
       "      <td>2</td>\n",
       "      <td>Ponta</td>\n",
       "      <td>15</td>\n",
       "      <td>362.01</td>\n",
       "      <td>362.02</td>\n",
       "      <td>369.60</td>\n",
       "      <td>5.17</td>\n",
       "      <td>3</td>\n",
       "      <td>364.543333</td>\n",
       "    </tr>\n",
       "    <tr>\n",
       "      <th>147</th>\n",
       "      <td>PU+C_2GE-4-a</td>\n",
       "      <td>98</td>\n",
       "      <td>2</td>\n",
       "      <td>Ponta</td>\n",
       "      <td>16</td>\n",
       "      <td>353.15</td>\n",
       "      <td>351.89</td>\n",
       "      <td>355.68</td>\n",
       "      <td>5.17</td>\n",
       "      <td>3</td>\n",
       "      <td>353.573333</td>\n",
       "    </tr>\n",
       "    <tr>\n",
       "      <th>148</th>\n",
       "      <td>PU+C_2GE-4-b</td>\n",
       "      <td>98</td>\n",
       "      <td>2</td>\n",
       "      <td>Meio</td>\n",
       "      <td>16</td>\n",
       "      <td>346.82</td>\n",
       "      <td>354.42</td>\n",
       "      <td>349.36</td>\n",
       "      <td>5.17</td>\n",
       "      <td>3</td>\n",
       "      <td>350.200000</td>\n",
       "    </tr>\n",
       "    <tr>\n",
       "      <th>149</th>\n",
       "      <td>PU+C_2GE-4-c</td>\n",
       "      <td>98</td>\n",
       "      <td>2</td>\n",
       "      <td>Ponta</td>\n",
       "      <td>16</td>\n",
       "      <td>349.36</td>\n",
       "      <td>351.88</td>\n",
       "      <td>364.54</td>\n",
       "      <td>5.17</td>\n",
       "      <td>3</td>\n",
       "      <td>355.260000</td>\n",
       "    </tr>\n",
       "  </tbody>\n",
       "</table>\n",
       "<p>150 rows × 11 columns</p>\n",
       "</div>"
      ],
      "text/plain": [
       "             Foto  PU  EG Posição  Ensaio  Largura 1  Largura 2  Largura 3  \\\n",
       "0      PU+1GE-1-a  99   1    Meio       1     397.46     394.95     396.21   \n",
       "1      PU+1GE-1-b  99   1   Ponta       1     408.87     439.23        NaN   \n",
       "2      PU+1GE-1-c  99   1   Ponta       1     426.56     406.31        NaN   \n",
       "3      PU+1GE-2-a  99   1   Ponta       2     338.00     327.84     312.68   \n",
       "4      PU+1GE-2-b  99   1    Meio       2     302.53     315.27     315.34   \n",
       "..            ...  ..  ..     ...     ...        ...        ...        ...   \n",
       "145  PU+C_2GE-3-b  98   2    Meio      15     367.08     362.02     367.08   \n",
       "146  PU+C_2GE-3-c  98   2   Ponta      15     362.01     362.02     369.60   \n",
       "147  PU+C_2GE-4-a  98   2   Ponta      16     353.15     351.89     355.68   \n",
       "148  PU+C_2GE-4-b  98   2    Meio      16     346.82     354.42     349.36   \n",
       "149  PU+C_2GE-4-c  98   2   Ponta      16     349.36     351.88     364.54   \n",
       "\n",
       "     Força Normal  Frequência       width  \n",
       "0            8.00           4  396.206667  \n",
       "1            8.00           4  282.700000  \n",
       "2            8.00           4  277.623333  \n",
       "3            5.00           2  326.173333  \n",
       "4            5.00           2  311.046667  \n",
       "..            ...         ...         ...  \n",
       "145          5.17           3  365.393333  \n",
       "146          5.17           3  364.543333  \n",
       "147          5.17           3  353.573333  \n",
       "148          5.17           3  350.200000  \n",
       "149          5.17           3  355.260000  \n",
       "\n",
       "[150 rows x 11 columns]"
      ]
     },
     "execution_count": 148,
     "metadata": {},
     "output_type": "execute_result"
    }
   ],
   "source": [
    "width_measured"
   ]
  },
  {
   "cell_type": "code",
   "execution_count": 149,
   "metadata": {},
   "outputs": [],
   "source": [
    "std_error = 0\n",
    "n = 0\n",
    "error = dict()\n",
    "for key, value in width.items():\n",
    "    mask = width_measured['Foto']==key[:-4]\n",
    "    error[key] = value - float(width_measured.loc[mask, 'width'])\n",
    "    std_error += error[key]**2\n",
    "    n += 1\n",
    "std_dev = np.sqrt(std_error/(n-1))"
   ]
  },
  {
   "cell_type": "code",
   "execution_count": 150,
   "metadata": {},
   "outputs": [
    {
     "data": {
      "text/plain": [
       "{'PU+1GE-11-a.jpg': -7.6136946666666745,\n",
       " 'PU+1GE-11-b.jpg': -15.045507333333376,\n",
       " 'PU+1GE-11-c.jpg': -15.471466666666657,\n",
       " 'PU+1GE-12-a.jpg': -11.362915999999984,\n",
       " 'PU+1GE-12-b.jpg': -13.400387333333356,\n",
       " 'PU+1GE-12-c.jpg': 33.334148666666636,\n",
       " 'PU+1GE-6-b.jpg': -5.8761519999999905,\n",
       " 'PU+1GE-6-c.jpg': -7.049892,\n",
       " 'PU+1GE-7-a.jpg': -3.4142333333333,\n",
       " 'PU+1GE-7-b.jpg': -7.076249333333351,\n",
       " 'PU+1GE-7-c.jpg': -6.8368593333333365,\n",
       " 'PU+1GE-8-a.jpg': -6.899565333333271,\n",
       " 'PU+1GE-8-b.jpg': 4.532857333333311,\n",
       " 'PU+1GE-8-c.jpg': 3.980328666666651,\n",
       " 'PU+2GE-10-a.jpg': 3.7815573333332964,\n",
       " 'PU+2GE-10-b.jpg': 4.183679333333373,\n",
       " 'PU+2GE-10-c.jpg': -9.715816666666683,\n",
       " 'PU+2GE-11-a.jpg': 1.4211333333333869,\n",
       " 'PU+2GE-11-b.jpg': 8.431133333333378,\n",
       " 'PU+2GE-11-c.jpg': -10.90179333333333,\n",
       " 'PU+2GE-12-a.jpg': 4.267376000000013,\n",
       " 'PU+2GE-7-a.jpg': -15.560175333333348,\n",
       " 'PU+2GE-7-b.jpg': -1.2349233333333132,\n",
       " 'PU+2GE-7-c.jpg': -8.816842000000008,\n",
       " 'PU+2GE-8-a.jpg': -8.187062666666577,\n",
       " 'PU+2GE-8-b.jpg': -8.331403999999964,\n",
       " 'PU+2GE-8-c.jpg': -9.508477333333303,\n",
       " 'PU+2GE-9-a.jpg': 12.881955333333337,\n",
       " 'PU+2GE-9-b.jpg': 10.01024000000001,\n",
       " 'PU+2GE-9-c.jpg': 9.538321333333329,\n",
       " 'PU+4EG_50x_13_a.jpg': -15.578239333333272,\n",
       " 'PU+4EG_50x_13_b.jpg': 3.695191333333355,\n",
       " 'PU+4EG_50x_13_c.jpg': -5.105516000000023,\n",
       " 'PU+4EG_50x_14_a.jpg': -17.610988666666685,\n",
       " 'PU+4EG_50x_14_b.jpg': -1.739273333333358,\n",
       " 'PU+4EG_50x_14_c.jpg': -12.111899333333326,\n",
       " 'PU+4EG_50x_1_a.jpg': -9.645418666666615,\n",
       " 'PU+4EG_50x_1_b.jpg': -10.088247999999965,\n",
       " 'PU+4EG_50x_1_c.jpg': -18.932491999999968,\n",
       " 'PU+4EG_50x_3_a.jpg': -6.416744666666659,\n",
       " 'PU+4EG_50x_3_b.jpg': -5.5686633333333475,\n",
       " 'PU+4EG_50x_3_c.jpg': -2.2747286666667037,\n",
       " 'PU+4EG_50x_4_a.jpg': -19.679450666666696,\n",
       " 'PU+4EG_50x_4_b.jpg': -25.168239333333304,\n",
       " 'PU+4EG_50x_4_c.jpg': -12.087531999999953,\n",
       " 'PU+4EG_50x_7_a.jpg': -36.24373800000001,\n",
       " 'PU+4EG_50x_7_b.jpg': -24.000404666666668,\n",
       " 'PU+4EG_50x_7_c.jpg': -5.9146486666667215}"
      ]
     },
     "execution_count": 150,
     "metadata": {},
     "output_type": "execute_result"
    }
   ],
   "source": [
    "error"
   ]
  },
  {
   "cell_type": "code",
   "execution_count": 151,
   "metadata": {},
   "outputs": [
    {
     "data": {
      "text/plain": [
       "12.986321500326737"
      ]
     },
     "execution_count": 151,
     "metadata": {},
     "output_type": "execute_result"
    }
   ],
   "source": [
    "std_dev"
   ]
  },
  {
   "cell_type": "code",
   "execution_count": null,
   "metadata": {},
   "outputs": [],
   "source": []
  }
 ],
 "metadata": {
  "kernelspec": {
   "display_name": "Python 3",
   "language": "python",
   "name": "python3"
  },
  "language_info": {
   "codemirror_mode": {
    "name": "ipython",
    "version": 3
   },
   "file_extension": ".py",
   "mimetype": "text/x-python",
   "name": "python",
   "nbconvert_exporter": "python",
   "pygments_lexer": "ipython3",
   "version": "3.7.6"
  }
 },
 "nbformat": 4,
 "nbformat_minor": 4
}
