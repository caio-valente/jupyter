{
 "cells": [
  {
   "cell_type": "code",
   "execution_count": 2,
   "metadata": {},
   "outputs": [],
   "source": [
    "import plotly.express as px\n",
    "import plotly.graph_objects as go\n",
    "import plotly.io as pio\n",
    "from plotly.subplots import make_subplots\n",
    "\n",
    "import pandas as pd\n",
    "pd.options.plotting.backend = \"plotly\"\n",
    "import numpy as np\n",
    "from ipywidgets import interact, widgets\n",
    "from pathlib import Path\n",
    "\n",
    "from os import listdir\n",
    "from os.path import isfile, join\n",
    "\n",
    "\n",
    "p = Path.home()\n",
    "p = p/'OneDrive'/'Documentos'/'Python'/'Results'/'CSV'/'FTIR'"
   ]
  },
  {
   "cell_type": "code",
   "execution_count": 3,
   "metadata": {},
   "outputs": [
    {
     "ename": "ValueError",
     "evalue": "Multiple files found in compressed zip file ['Espectros Carlos Henrique/A P1 LA.csv', 'Espectros Carlos Henrique/A P1 LB.csv', 'Espectros Carlos Henrique/B P1 LA.csv', 'Espectros Carlos Henrique/B P1 LB.csv', 'Espectros Carlos Henrique/html/', 'Espectros Carlos Henrique/html/A P1 LA_absorbance.html', 'Espectros Carlos Henrique/html/A P1 LA_transmitance.html', 'Espectros Carlos Henrique/html/A P1 LB_absorbance.html', 'Espectros Carlos Henrique/html/A P1 LB_transmitance.html', 'Espectros Carlos Henrique/html/B P1 LA_absorbance.html', 'Espectros Carlos Henrique/html/B P1 LA_transmitance.html', 'Espectros Carlos Henrique/html/B P1 LB_absorbance.html', 'Espectros Carlos Henrique/html/B P1 LB_transmitance.html', 'Espectros Carlos Henrique/html/espectrosftir.html', 'Espectros Carlos Henrique/html/ON_absorbance.html', 'Espectros Carlos Henrique/html/ON_transmitance.html', 'Espectros Carlos Henrique/ON.csv']",
     "output_type": "error",
     "traceback": [
      "\u001b[1;31m---------------------------------------------------------------------------\u001b[0m",
      "\u001b[1;31mValueError\u001b[0m                                Traceback (most recent call last)",
      "\u001b[1;32m<ipython-input-3-66211f12958e>\u001b[0m in \u001b[0;36m<module>\u001b[1;34m\u001b[0m\n\u001b[0;32m      4\u001b[0m         \u001b[0mfilepath\u001b[0m \u001b[1;33m=\u001b[0m \u001b[0mp\u001b[0m\u001b[1;33m/\u001b[0m\u001b[0mfilename\u001b[0m\u001b[1;33m\u001b[0m\u001b[1;33m\u001b[0m\u001b[0m\n\u001b[0;32m      5\u001b[0m         \u001b[1;32mtry\u001b[0m\u001b[1;33m:\u001b[0m\u001b[1;33m\u001b[0m\u001b[1;33m\u001b[0m\u001b[0m\n\u001b[1;32m----> 6\u001b[1;33m             \u001b[0mframes\u001b[0m\u001b[1;33m[\u001b[0m\u001b[0mfilepath\u001b[0m\u001b[1;33m.\u001b[0m\u001b[0mname\u001b[0m\u001b[1;33m]\u001b[0m \u001b[1;33m=\u001b[0m \u001b[1;33m(\u001b[0m\u001b[0mpd\u001b[0m\u001b[1;33m.\u001b[0m\u001b[0mread_csv\u001b[0m\u001b[1;33m(\u001b[0m\u001b[0mfilepath\u001b[0m\u001b[1;33m,\u001b[0m \u001b[0mskiprows\u001b[0m \u001b[1;33m=\u001b[0m \u001b[1;33m[\u001b[0m\u001b[1;36m0\u001b[0m\u001b[1;33m,\u001b[0m\u001b[1;36m1\u001b[0m\u001b[1;33m,\u001b[0m\u001b[1;36m2\u001b[0m\u001b[1;33m,\u001b[0m\u001b[1;36m3\u001b[0m\u001b[1;33m,\u001b[0m\u001b[1;36m4\u001b[0m\u001b[1;33m]\u001b[0m\u001b[1;33m)\u001b[0m\u001b[1;33m)\u001b[0m\u001b[1;33m\u001b[0m\u001b[1;33m\u001b[0m\u001b[0m\n\u001b[0m\u001b[0;32m      7\u001b[0m             \u001b[0mframes\u001b[0m\u001b[1;33m[\u001b[0m\u001b[0mfilepath\u001b[0m\u001b[1;33m.\u001b[0m\u001b[0mname\u001b[0m\u001b[1;33m]\u001b[0m\u001b[1;33m.\u001b[0m\u001b[0mcolumns\u001b[0m \u001b[1;33m=\u001b[0m \u001b[1;33m[\u001b[0m\u001b[1;34m'Wavenumber'\u001b[0m\u001b[1;33m,\u001b[0m\u001b[1;34m'%Transmitance'\u001b[0m\u001b[1;33m]\u001b[0m\u001b[1;33m\u001b[0m\u001b[1;33m\u001b[0m\u001b[0m\n\u001b[0;32m      8\u001b[0m         \u001b[1;32mexcept\u001b[0m \u001b[0mFileNotFoundError\u001b[0m\u001b[1;33m:\u001b[0m\u001b[1;33m\u001b[0m\u001b[1;33m\u001b[0m\u001b[0m\n",
      "\u001b[1;32m~\\anaconda3\\lib\\site-packages\\pandas\\io\\parsers.py\u001b[0m in \u001b[0;36mread_csv\u001b[1;34m(filepath_or_buffer, sep, delimiter, header, names, index_col, usecols, squeeze, prefix, mangle_dupe_cols, dtype, engine, converters, true_values, false_values, skipinitialspace, skiprows, skipfooter, nrows, na_values, keep_default_na, na_filter, verbose, skip_blank_lines, parse_dates, infer_datetime_format, keep_date_col, date_parser, dayfirst, cache_dates, iterator, chunksize, compression, thousands, decimal, lineterminator, quotechar, quoting, doublequote, escapechar, comment, encoding, dialect, error_bad_lines, warn_bad_lines, delim_whitespace, low_memory, memory_map, float_precision)\u001b[0m\n\u001b[0;32m    684\u001b[0m     )\n\u001b[0;32m    685\u001b[0m \u001b[1;33m\u001b[0m\u001b[0m\n\u001b[1;32m--> 686\u001b[1;33m     \u001b[1;32mreturn\u001b[0m \u001b[0m_read\u001b[0m\u001b[1;33m(\u001b[0m\u001b[0mfilepath_or_buffer\u001b[0m\u001b[1;33m,\u001b[0m \u001b[0mkwds\u001b[0m\u001b[1;33m)\u001b[0m\u001b[1;33m\u001b[0m\u001b[1;33m\u001b[0m\u001b[0m\n\u001b[0m\u001b[0;32m    687\u001b[0m \u001b[1;33m\u001b[0m\u001b[0m\n\u001b[0;32m    688\u001b[0m \u001b[1;33m\u001b[0m\u001b[0m\n",
      "\u001b[1;32m~\\anaconda3\\lib\\site-packages\\pandas\\io\\parsers.py\u001b[0m in \u001b[0;36m_read\u001b[1;34m(filepath_or_buffer, kwds)\u001b[0m\n\u001b[0;32m    450\u001b[0m \u001b[1;33m\u001b[0m\u001b[0m\n\u001b[0;32m    451\u001b[0m     \u001b[1;31m# Create the parser.\u001b[0m\u001b[1;33m\u001b[0m\u001b[1;33m\u001b[0m\u001b[1;33m\u001b[0m\u001b[0m\n\u001b[1;32m--> 452\u001b[1;33m     \u001b[0mparser\u001b[0m \u001b[1;33m=\u001b[0m \u001b[0mTextFileReader\u001b[0m\u001b[1;33m(\u001b[0m\u001b[0mfp_or_buf\u001b[0m\u001b[1;33m,\u001b[0m \u001b[1;33m**\u001b[0m\u001b[0mkwds\u001b[0m\u001b[1;33m)\u001b[0m\u001b[1;33m\u001b[0m\u001b[1;33m\u001b[0m\u001b[0m\n\u001b[0m\u001b[0;32m    453\u001b[0m \u001b[1;33m\u001b[0m\u001b[0m\n\u001b[0;32m    454\u001b[0m     \u001b[1;32mif\u001b[0m \u001b[0mchunksize\u001b[0m \u001b[1;32mor\u001b[0m \u001b[0miterator\u001b[0m\u001b[1;33m:\u001b[0m\u001b[1;33m\u001b[0m\u001b[1;33m\u001b[0m\u001b[0m\n",
      "\u001b[1;32m~\\anaconda3\\lib\\site-packages\\pandas\\io\\parsers.py\u001b[0m in \u001b[0;36m__init__\u001b[1;34m(self, f, engine, **kwds)\u001b[0m\n\u001b[0;32m    944\u001b[0m             \u001b[0mself\u001b[0m\u001b[1;33m.\u001b[0m\u001b[0moptions\u001b[0m\u001b[1;33m[\u001b[0m\u001b[1;34m\"has_index_names\"\u001b[0m\u001b[1;33m]\u001b[0m \u001b[1;33m=\u001b[0m \u001b[0mkwds\u001b[0m\u001b[1;33m[\u001b[0m\u001b[1;34m\"has_index_names\"\u001b[0m\u001b[1;33m]\u001b[0m\u001b[1;33m\u001b[0m\u001b[1;33m\u001b[0m\u001b[0m\n\u001b[0;32m    945\u001b[0m \u001b[1;33m\u001b[0m\u001b[0m\n\u001b[1;32m--> 946\u001b[1;33m         \u001b[0mself\u001b[0m\u001b[1;33m.\u001b[0m\u001b[0m_make_engine\u001b[0m\u001b[1;33m(\u001b[0m\u001b[0mself\u001b[0m\u001b[1;33m.\u001b[0m\u001b[0mengine\u001b[0m\u001b[1;33m)\u001b[0m\u001b[1;33m\u001b[0m\u001b[1;33m\u001b[0m\u001b[0m\n\u001b[0m\u001b[0;32m    947\u001b[0m \u001b[1;33m\u001b[0m\u001b[0m\n\u001b[0;32m    948\u001b[0m     \u001b[1;32mdef\u001b[0m \u001b[0mclose\u001b[0m\u001b[1;33m(\u001b[0m\u001b[0mself\u001b[0m\u001b[1;33m)\u001b[0m\u001b[1;33m:\u001b[0m\u001b[1;33m\u001b[0m\u001b[1;33m\u001b[0m\u001b[0m\n",
      "\u001b[1;32m~\\anaconda3\\lib\\site-packages\\pandas\\io\\parsers.py\u001b[0m in \u001b[0;36m_make_engine\u001b[1;34m(self, engine)\u001b[0m\n\u001b[0;32m   1176\u001b[0m     \u001b[1;32mdef\u001b[0m \u001b[0m_make_engine\u001b[0m\u001b[1;33m(\u001b[0m\u001b[0mself\u001b[0m\u001b[1;33m,\u001b[0m \u001b[0mengine\u001b[0m\u001b[1;33m=\u001b[0m\u001b[1;34m\"c\"\u001b[0m\u001b[1;33m)\u001b[0m\u001b[1;33m:\u001b[0m\u001b[1;33m\u001b[0m\u001b[1;33m\u001b[0m\u001b[0m\n\u001b[0;32m   1177\u001b[0m         \u001b[1;32mif\u001b[0m \u001b[0mengine\u001b[0m \u001b[1;33m==\u001b[0m \u001b[1;34m\"c\"\u001b[0m\u001b[1;33m:\u001b[0m\u001b[1;33m\u001b[0m\u001b[1;33m\u001b[0m\u001b[0m\n\u001b[1;32m-> 1178\u001b[1;33m             \u001b[0mself\u001b[0m\u001b[1;33m.\u001b[0m\u001b[0m_engine\u001b[0m \u001b[1;33m=\u001b[0m \u001b[0mCParserWrapper\u001b[0m\u001b[1;33m(\u001b[0m\u001b[0mself\u001b[0m\u001b[1;33m.\u001b[0m\u001b[0mf\u001b[0m\u001b[1;33m,\u001b[0m \u001b[1;33m**\u001b[0m\u001b[0mself\u001b[0m\u001b[1;33m.\u001b[0m\u001b[0moptions\u001b[0m\u001b[1;33m)\u001b[0m\u001b[1;33m\u001b[0m\u001b[1;33m\u001b[0m\u001b[0m\n\u001b[0m\u001b[0;32m   1179\u001b[0m         \u001b[1;32melse\u001b[0m\u001b[1;33m:\u001b[0m\u001b[1;33m\u001b[0m\u001b[1;33m\u001b[0m\u001b[0m\n\u001b[0;32m   1180\u001b[0m             \u001b[1;32mif\u001b[0m \u001b[0mengine\u001b[0m \u001b[1;33m==\u001b[0m \u001b[1;34m\"python\"\u001b[0m\u001b[1;33m:\u001b[0m\u001b[1;33m\u001b[0m\u001b[1;33m\u001b[0m\u001b[0m\n",
      "\u001b[1;32m~\\anaconda3\\lib\\site-packages\\pandas\\io\\parsers.py\u001b[0m in \u001b[0;36m__init__\u001b[1;34m(self, src, **kwds)\u001b[0m\n\u001b[0;32m   2006\u001b[0m         \u001b[0mkwds\u001b[0m\u001b[1;33m[\u001b[0m\u001b[1;34m\"usecols\"\u001b[0m\u001b[1;33m]\u001b[0m \u001b[1;33m=\u001b[0m \u001b[0mself\u001b[0m\u001b[1;33m.\u001b[0m\u001b[0musecols\u001b[0m\u001b[1;33m\u001b[0m\u001b[1;33m\u001b[0m\u001b[0m\n\u001b[0;32m   2007\u001b[0m \u001b[1;33m\u001b[0m\u001b[0m\n\u001b[1;32m-> 2008\u001b[1;33m         \u001b[0mself\u001b[0m\u001b[1;33m.\u001b[0m\u001b[0m_reader\u001b[0m \u001b[1;33m=\u001b[0m \u001b[0mparsers\u001b[0m\u001b[1;33m.\u001b[0m\u001b[0mTextReader\u001b[0m\u001b[1;33m(\u001b[0m\u001b[0msrc\u001b[0m\u001b[1;33m,\u001b[0m \u001b[1;33m**\u001b[0m\u001b[0mkwds\u001b[0m\u001b[1;33m)\u001b[0m\u001b[1;33m\u001b[0m\u001b[1;33m\u001b[0m\u001b[0m\n\u001b[0m\u001b[0;32m   2009\u001b[0m         \u001b[0mself\u001b[0m\u001b[1;33m.\u001b[0m\u001b[0munnamed_cols\u001b[0m \u001b[1;33m=\u001b[0m \u001b[0mself\u001b[0m\u001b[1;33m.\u001b[0m\u001b[0m_reader\u001b[0m\u001b[1;33m.\u001b[0m\u001b[0munnamed_cols\u001b[0m\u001b[1;33m\u001b[0m\u001b[1;33m\u001b[0m\u001b[0m\n\u001b[0;32m   2010\u001b[0m \u001b[1;33m\u001b[0m\u001b[0m\n",
      "\u001b[1;32mpandas\\_libs\\parsers.pyx\u001b[0m in \u001b[0;36mpandas._libs.parsers.TextReader.__cinit__\u001b[1;34m()\u001b[0m\n",
      "\u001b[1;32mpandas\\_libs\\parsers.pyx\u001b[0m in \u001b[0;36mpandas._libs.parsers.TextReader._setup_parser_source\u001b[1;34m()\u001b[0m\n",
      "\u001b[1;31mValueError\u001b[0m: Multiple files found in compressed zip file ['Espectros Carlos Henrique/A P1 LA.csv', 'Espectros Carlos Henrique/A P1 LB.csv', 'Espectros Carlos Henrique/B P1 LA.csv', 'Espectros Carlos Henrique/B P1 LB.csv', 'Espectros Carlos Henrique/html/', 'Espectros Carlos Henrique/html/A P1 LA_absorbance.html', 'Espectros Carlos Henrique/html/A P1 LA_transmitance.html', 'Espectros Carlos Henrique/html/A P1 LB_absorbance.html', 'Espectros Carlos Henrique/html/A P1 LB_transmitance.html', 'Espectros Carlos Henrique/html/B P1 LA_absorbance.html', 'Espectros Carlos Henrique/html/B P1 LA_transmitance.html', 'Espectros Carlos Henrique/html/B P1 LB_absorbance.html', 'Espectros Carlos Henrique/html/B P1 LB_transmitance.html', 'Espectros Carlos Henrique/html/espectrosftir.html', 'Espectros Carlos Henrique/html/ON_absorbance.html', 'Espectros Carlos Henrique/html/ON_transmitance.html', 'Espectros Carlos Henrique/ON.csv']"
     ]
    }
   ],
   "source": [
    "filenames = [f for f in listdir(p) if isfile(join(p, f))]\n",
    "frames = dict()\n",
    "for filename in filenames:\n",
    "        filepath = p/filename\n",
    "        try:\n",
    "            frames[filepath.name] = (pd.read_csv(filepath, skiprows = [0,1,2,3,4]))\n",
    "            frames[filepath.name].columns = ['Wavenumber','%Transmitance']\n",
    "        except FileNotFoundError:\n",
    "            pass"
   ]
  },
  {
   "cell_type": "code",
   "execution_count": null,
   "metadata": {},
   "outputs": [],
   "source": [
    "def plot_ftir(key):\n",
    "    fig  = frames[key].plot(x = 'Wavenumber', y='%Transmitance',kind='line')\n",
    "    fig.update_layout(xaxis_range = [4000,500])\n",
    "    return fig"
   ]
  },
  {
   "cell_type": "code",
   "execution_count": null,
   "metadata": {
    "scrolled": false
   },
   "outputs": [],
   "source": [
    "interact(plot_ftir,\n",
    "         key = list(frames.keys())\n",
    "        )"
   ]
  },
  {
   "cell_type": "code",
   "execution_count": null,
   "metadata": {},
   "outputs": [],
   "source": [
    "absorb = [\n",
    "    'Grafite-p1-pubgd.csv',\n",
    "    'Grafite-p1.csv',\n",
    "    'Grafite-p2-pubgd.csv',\n",
    "    'Grafite-p2.csv',\n",
    "    'Misto-p1-pubgd.csv',\n",
    "    'Misto-p1.csv',\n",
    "    'Misto-p2-pubgd.csv',\n",
    "    'Misto-p2.csv',\n",
    "    'PAni-ATR-Absor-11-s7.csv',\n",
    "    'PAni-ATR-Trans-12-s2.csv',\n",
    "    'PAni-ATR-Trans-12-s3.csv',\n",
    "    'PAni-ATR-Trans-12-s4.csv',\n",
    "    'Pani-p1-pubgd.csv',\n",
    "    'Pani-p1.csv',\n",
    "    'Pani-p2-pubgd.csv',\n",
    "    'Pani-p2.csv',\n",
    "    'PAni_antiga.csv',\n",
    "    'pu-p1.csv',\n",
    "    'pu-p2.csv',\n",
    "]\n",
    "for key in absorb:\n",
    "    frames[key]['%Transmitance'] *= -1"
   ]
  },
  {
   "cell_type": "code",
   "execution_count": null,
   "metadata": {},
   "outputs": [],
   "source": [
    "def normalize(x):\n",
    "    return np.interp(x,[x.min(), x.max()],[0,1])"
   ]
  },
  {
   "cell_type": "code",
   "execution_count": 4,
   "metadata": {},
   "outputs": [],
   "source": [
    "for key, frame in frames.items():\n",
    "    frame.loc[frame['Wavenumber']>=500,'%Transmitance'] = normalize(frame.loc[frame['Wavenumber']>=500,'%Transmitance'])"
   ]
  },
  {
   "cell_type": "code",
   "execution_count": 5,
   "metadata": {},
   "outputs": [],
   "source": [
    "excluidos = [\n",
    "    'Grafite-p2.csv',\n",
    "    'Grafite-p2-pubgd.csv',\n",
    "    'Grafite_expandido.csv',\n",
    "    'Grafite_nanoplaquetas.csv',\n",
    "    'Grafite_natural.csv',\n",
    "    'Misto-p1-pubgd.csv',\n",
    "    'Misto-p2.csv',\n",
    "    'PAni-ATR-Absor-11-s5.csv',\n",
    "    'PAni-ATR-Absor-11-s7.csv',\n",
    "    'PAni-ATR-Trans-12-s2.csv',\n",
    "    'PAni-ATR-Trans-12-s3.csv',\n",
    "    'PAni-ATR-Trans-12-s4.csv',\n",
    "    'PAni-NPM.csv',\n",
    "    'Pani-p1-pubgd.csv',\n",
    "    'Pani-p2.csv',\n",
    "    'PAni_antiga.csv',\n",
    "    'PAni-Po-Absor-12.csv',\n",
    "    'PAni-Po-Trans-14.csv',\n",
    "    'PAni-Po-Trans-15.csv',\n",
    "    'pu-p1.csv',\n",
    "    'TDI-PAni.csv',\n",
    "]\n",
    "names = {\n",
    "    'Grafite-p1-pubgd.csv': 'PU + 4% Grafite (bkgnd PU)',\n",
    "    'Misto-p2-pubgd.csv': 'PU + 2% Grafite + 2% PAni (bkgnd PU)',\n",
    "    'Pani-p2-pubgd.csv': 'PU + 4% PAni (bkgnd PU)',\n",
    "    'Grafite-p1.csv': 'PU + 4% Grafite',\n",
    "    'Misto-p1.csv': 'PU + 2% Grafite + 2% PAni',\n",
    "    'Pani-p1.csv': 'PU + 4% PAni',\n",
    "    'Iso-PAni.csv': 'Mistura líquida Isocianato-PAni',\n",
    "    'Iso-PAni_quente.csv': 'Mistura líquida Isocianato-PAni aquecida',\n",
    "    'Poliol-PAni.csv': 'Mistura líquida Poliol-PAni',\n",
    "    'Poliol-PAni_quente.csv': 'Mistura líquida Poliol-PAni aquecida',\n",
    "    'Poliol.csv': 'Poliol líquido',\n",
    "    'Isocianato.csv': 'Isocianato líquido',\n",
    "    'PAni-ATR-Absor-11-s4.csv': 'PAni ATR',\n",
    "    'Pani-NMP.csv': 'PAni + NMP',\n",
    "    'pu-p2.csv': 'PU Puro'\n",
    "}"
   ]
  },
  {
   "cell_type": "code",
   "execution_count": 6,
   "metadata": {},
   "outputs": [],
   "source": [
    "for item in list(frames.keys()):\n",
    "    if item in excluidos:\n",
    "        frames.pop(item)"
   ]
  },
  {
   "cell_type": "code",
   "execution_count": null,
   "metadata": {},
   "outputs": [],
   "source": [
    "fig = go.Figure()\n",
    "for key, frame in sorted(frames.items(), key=lambda item: names[item[0]]):\n",
    "    df = frame\n",
    "    fig.add_trace(go.Scatter(x = df['Wavenumber'], y = df['%Transmitance'], name = names[key], visible = 'legendonly'))\n",
    "fig.update_layout(xaxis_range = [4000,500], yaxis_range = [0,1],\n",
    "                  xaxis_title_text = 'Número de onda (1/cm)',\n",
    "                  yaxis_title_text = 'Transmitância (u.a.)',\n",
    "                  legend_title_text = 'Clique para mostrar!',\n",
    "                  title_text = 'Espectros de Infra-vermelho',\n",
    "                  yaxis = dict(tickvals = []),\n",
    "                 )\n",
    "fig"
   ]
  },
  {
   "cell_type": "code",
   "execution_count": 11,
   "metadata": {},
   "outputs": [],
   "source": [
    "fig.update_layout(newshape_line_color='grey',\n",
    "                  newshape_line_dash='dash',\n",
    "                  newshape_line_width=1,\n",
    "                 )\n",
    "fig.write_html(\"ftir.html\", config={'modeBarButtonsToAdd':['drawline',\n",
    "                                        'drawopenpath',\n",
    "                                        'drawclosedpath',\n",
    "                                        'drawcircle',\n",
    "                                        'drawrect',\n",
    "                                        'eraseshape'\n",
    "                                       ]})"
   ]
  },
  {
   "cell_type": "code",
   "execution_count": 12,
   "metadata": {},
   "outputs": [
    {
     "ename": "KeyError",
     "evalue": "'Iso.csv'",
     "output_type": "error",
     "traceback": [
      "\u001b[1;31m---------------------------------------------------------------------------\u001b[0m",
      "\u001b[1;31mKeyError\u001b[0m                                  Traceback (most recent call last)",
      "\u001b[1;32m<ipython-input-12-8de3af587b19>\u001b[0m in \u001b[0;36m<module>\u001b[1;34m\u001b[0m\n\u001b[0;32m      1\u001b[0m \u001b[0mfig\u001b[0m \u001b[1;33m=\u001b[0m \u001b[0mmake_subplots\u001b[0m\u001b[1;33m(\u001b[0m\u001b[0mrows\u001b[0m \u001b[1;33m=\u001b[0m \u001b[1;36m1\u001b[0m\u001b[1;33m,\u001b[0m \u001b[0mcols\u001b[0m \u001b[1;33m=\u001b[0m \u001b[1;36m2\u001b[0m\u001b[1;33m,\u001b[0m\u001b[0msubplot_titles\u001b[0m\u001b[1;33m=\u001b[0m\u001b[1;33m(\u001b[0m\u001b[1;34m\"Isocianato\"\u001b[0m\u001b[1;33m,\u001b[0m \u001b[1;34m\"Poliol\"\u001b[0m\u001b[1;33m)\u001b[0m\u001b[1;33m,\u001b[0m \u001b[0mshared_yaxes\u001b[0m\u001b[1;33m=\u001b[0m\u001b[1;32mTrue\u001b[0m\u001b[1;33m)\u001b[0m\u001b[1;33m\u001b[0m\u001b[1;33m\u001b[0m\u001b[0m\n\u001b[1;32m----> 2\u001b[1;33m \u001b[0mdf\u001b[0m \u001b[1;33m=\u001b[0m \u001b[0mframes\u001b[0m\u001b[1;33m[\u001b[0m\u001b[1;34m'Iso.csv'\u001b[0m\u001b[1;33m]\u001b[0m\u001b[1;33m\u001b[0m\u001b[1;33m\u001b[0m\u001b[0m\n\u001b[0m\u001b[0;32m      3\u001b[0m \u001b[0mfig\u001b[0m\u001b[1;33m.\u001b[0m\u001b[0madd_trace\u001b[0m\u001b[1;33m(\u001b[0m\u001b[0mgo\u001b[0m\u001b[1;33m.\u001b[0m\u001b[0mScatter\u001b[0m\u001b[1;33m(\u001b[0m\u001b[0mx\u001b[0m \u001b[1;33m=\u001b[0m \u001b[0mdf\u001b[0m\u001b[1;33m[\u001b[0m\u001b[1;34m'Wavenumber'\u001b[0m\u001b[1;33m]\u001b[0m\u001b[1;33m,\u001b[0m \u001b[0my\u001b[0m \u001b[1;33m=\u001b[0m \u001b[0mdf\u001b[0m\u001b[1;33m[\u001b[0m\u001b[1;34m'%Transmitance'\u001b[0m\u001b[1;33m]\u001b[0m\u001b[1;33m,\u001b[0m \u001b[0mline_color\u001b[0m \u001b[1;33m=\u001b[0m \u001b[1;34m'green'\u001b[0m\u001b[1;33m,\u001b[0m \u001b[0mname\u001b[0m \u001b[1;33m=\u001b[0m \u001b[1;34m'Puro'\u001b[0m\u001b[1;33m,\u001b[0m \u001b[0mlegendgroup\u001b[0m \u001b[1;33m=\u001b[0m \u001b[1;34m'P'\u001b[0m\u001b[1;33m)\u001b[0m\u001b[1;33m,\u001b[0m \u001b[0mrow\u001b[0m \u001b[1;33m=\u001b[0m \u001b[1;36m1\u001b[0m\u001b[1;33m,\u001b[0m \u001b[0mcol\u001b[0m \u001b[1;33m=\u001b[0m \u001b[1;36m1\u001b[0m\u001b[1;33m)\u001b[0m\u001b[1;33m\u001b[0m\u001b[1;33m\u001b[0m\u001b[0m\n\u001b[0;32m      4\u001b[0m \u001b[0mdf\u001b[0m \u001b[1;33m=\u001b[0m \u001b[0mframes\u001b[0m\u001b[1;33m[\u001b[0m\u001b[1;34m'Iso-PAni.csv'\u001b[0m\u001b[1;33m]\u001b[0m\u001b[1;33m\u001b[0m\u001b[1;33m\u001b[0m\u001b[0m\n\u001b[0;32m      5\u001b[0m \u001b[0mfig\u001b[0m\u001b[1;33m.\u001b[0m\u001b[0madd_trace\u001b[0m\u001b[1;33m(\u001b[0m\u001b[0mgo\u001b[0m\u001b[1;33m.\u001b[0m\u001b[0mScatter\u001b[0m\u001b[1;33m(\u001b[0m\u001b[0mx\u001b[0m \u001b[1;33m=\u001b[0m \u001b[0mdf\u001b[0m\u001b[1;33m[\u001b[0m\u001b[1;34m'Wavenumber'\u001b[0m\u001b[1;33m]\u001b[0m\u001b[1;33m,\u001b[0m \u001b[0my\u001b[0m \u001b[1;33m=\u001b[0m \u001b[0mdf\u001b[0m\u001b[1;33m[\u001b[0m\u001b[1;34m'%Transmitance'\u001b[0m\u001b[1;33m]\u001b[0m\u001b[1;33m,\u001b[0m \u001b[0mline_color\u001b[0m \u001b[1;33m=\u001b[0m \u001b[1;34m'red'\u001b[0m\u001b[1;33m,\u001b[0m \u001b[0mname\u001b[0m \u001b[1;33m=\u001b[0m \u001b[1;34m'Mistura'\u001b[0m\u001b[1;33m,\u001b[0m \u001b[0mlegendgroup\u001b[0m \u001b[1;33m=\u001b[0m \u001b[1;34m'M'\u001b[0m\u001b[1;33m)\u001b[0m\u001b[1;33m,\u001b[0m \u001b[0mrow\u001b[0m \u001b[1;33m=\u001b[0m \u001b[1;36m1\u001b[0m\u001b[1;33m,\u001b[0m \u001b[0mcol\u001b[0m \u001b[1;33m=\u001b[0m \u001b[1;36m1\u001b[0m\u001b[1;33m)\u001b[0m\u001b[1;33m\u001b[0m\u001b[1;33m\u001b[0m\u001b[0m\n",
      "\u001b[1;31mKeyError\u001b[0m: 'Iso.csv'"
     ]
    }
   ],
   "source": [
    "fig = make_subplots(rows = 1, cols = 2,subplot_titles=(\"Isocianato\", \"Poliol\"), shared_yaxes=True)\n",
    "df = frames['Iso.csv']\n",
    "fig.add_trace(go.Scatter(x = df['Wavenumber'], y = df['%Transmitance'], line_color = 'green', name = 'Puro', legendgroup = 'P'), row = 1, col = 1)\n",
    "df = frames['Iso-PAni.csv']\n",
    "fig.add_trace(go.Scatter(x = df['Wavenumber'], y = df['%Transmitance'], line_color = 'red', name = 'Mistura', legendgroup = 'M'), row = 1, col = 1)\n",
    "df = frames['TDI-PAni.csv']\n",
    "fig.add_trace(go.Scatter(x = df['Wavenumber'], y = df['%Transmitance'], line_color = 'orange', name = 'Mistura aquecida', legendgroup = 'MA'), row = 1, col = 1)\n",
    "df = frames['PAni.csv']\n",
    "fig.add_trace(go.Scatter(x = df['Wavenumber'], y = df['%Transmitance'], line_color = 'blue', name = 'PAni', legendgroup = 'PA'), row = 1, col = 1)\n",
    "df = frames['Poliol.csv']\n",
    "fig.add_trace(go.Scatter(x = df['Wavenumber'], y = df['%Transmitance'], line_color = 'green', showlegend = False, legendgroup = 'P'), row = 1, col = 2)\n",
    "df = frames['Poliol-PAni.csv']\n",
    "fig.add_trace(go.Scatter(x = df['Wavenumber'], y = df['%Transmitance'], line_color = 'red', showlegend = False, legendgroup = 'M'), row = 1, col = 2)\n",
    "df = frames['PAni.csv']\n",
    "fig.add_trace(go.Scatter(x = df['Wavenumber'], y = df['%Transmitance'], line_color = 'blue', showlegend = False, legendgroup = 'PA'), row = 1, col = 2)\n",
    "df = frames['Poliol-PAni2.csv']\n",
    "fig.add_trace(go.Scatter(x = df['Wavenumber'], y = df['%Transmitance'], line_color = 'orange', showlegend = False, legendgroup = 'MA'), row = 1, col = 2)\n",
    "fig.update_yaxes(showticklabels = False, title_text = 'Transmitância')\n",
    "fig.update_xaxes(title_text = 'Número de Onda', range = [4000,500])\n",
    "fig.write_html(\"ftir1.html\")"
   ]
  },
  {
   "cell_type": "code",
   "execution_count": null,
   "metadata": {},
   "outputs": [],
   "source": [
    "fig"
   ]
  },
  {
   "cell_type": "code",
   "execution_count": null,
   "metadata": {},
   "outputs": [],
   "source": [
    "fig = go.Figure()\n",
    "df = frames['Natural.csv']\n",
    "fig.add_trace(go.Scatter(x = df['Wavenumber'], y = df['%Transmitance'], name = 'Grafite Natural'))\n",
    "df = frames['EG-1000.csv']\n",
    "fig.add_trace(go.Scatter(x = df['Wavenumber'], y = df['%Transmitance'], name = 'EG'))\n",
    "df = frames['NP-6.csv']\n",
    "fig.add_trace(go.Scatter(x = df['Wavenumber'], y = df['%Transmitance']-70, name = 'NPG'))\n",
    "fig.update_yaxes(showticklabels = False, title_text = 'Transmitância (U.A.)')\n",
    "fig.update_xaxes(title_text = 'Número de Onda (1/cm)', range = [4000,500])\n",
    "fig.update_layout(font_size = 20, template = 'seaborn')\n",
    "fig.update_traces(line_width = 1)\n",
    "fig.write_html('ftir2.html')"
   ]
  },
  {
   "cell_type": "code",
   "execution_count": null,
   "metadata": {},
   "outputs": [],
   "source": [
    "fig"
   ]
  },
  {
   "cell_type": "markdown",
   "metadata": {},
   "source": [
    "## Picos\n",
    "\n",
    "~3400: Água\n",
    "\n",
    "1560 - 1600: N-H"
   ]
  },
  {
   "cell_type": "code",
   "execution_count": null,
   "metadata": {},
   "outputs": [],
   "source": [
    "df = frames['Natural.csv']\n",
    "df['Kind']='Natural'\n",
    "dfe = frames['EG-1000.csv']\n",
    "dfe['Kind']='Expandido'\n",
    "dfn = frames['NP-6.csv']\n",
    "dfn['Kind']='Nanoplaquetas'"
   ]
  },
  {
   "cell_type": "code",
   "execution_count": null,
   "metadata": {},
   "outputs": [],
   "source": [
    "df = df.merge(dfe, how='outer')\n",
    "df = df.merge(dfn, how='outer')"
   ]
  },
  {
   "cell_type": "code",
   "execution_count": null,
   "metadata": {},
   "outputs": [],
   "source": [
    "mask = (df['Kind']=='Expandido') | (df['Kind']=='Nanoplaquetas')\n",
    "df.loc[mask,'%Transmitance'] = df.loc[mask,'%Transmitance']-100\n",
    "fig = px.line_3d(df, y = 'Wavenumber', z = '%Transmitance', x = 'Kind', color='Kind')"
   ]
  },
  {
   "cell_type": "code",
   "execution_count": null,
   "metadata": {},
   "outputs": [],
   "source": [
    "fig.update_layout(scene_yaxis_range = [4000,400],\n",
    "                  scene_xaxis_visible = False,\n",
    "                  scene_yaxis_title_text = 'Número de onda (1/cm)',\n",
    "                  scene_zaxis_title_text = 'Transmitância (%)',\n",
    "                  legend_title_text = 'Tipo',\n",
    "                  scene_yaxis_showgrid = True,\n",
    "                  scene_zaxis_showgrid = False,\n",
    "                  scene_zaxis_showticklabels = False,\n",
    "                  scene_yaxis_showbackground = False,\n",
    "                  scene_zaxis_showbackground = True,\n",
    "                 )\n",
    "fig.write_html('ftir3.html')"
   ]
  },
  {
   "cell_type": "code",
   "execution_count": null,
   "metadata": {},
   "outputs": [],
   "source": [
    "fig"
   ]
  },
  {
   "cell_type": "code",
   "execution_count": null,
   "metadata": {},
   "outputs": [],
   "source": []
  }
 ],
 "metadata": {
  "kernelspec": {
   "display_name": "Python 3",
   "language": "python",
   "name": "python3"
  },
  "language_info": {
   "codemirror_mode": {
    "name": "ipython",
    "version": 3
   },
   "file_extension": ".py",
   "mimetype": "text/x-python",
   "name": "python",
   "nbconvert_exporter": "python",
   "pygments_lexer": "ipython3",
   "version": "3.7.6"
  }
 },
 "nbformat": 4,
 "nbformat_minor": 4
}
