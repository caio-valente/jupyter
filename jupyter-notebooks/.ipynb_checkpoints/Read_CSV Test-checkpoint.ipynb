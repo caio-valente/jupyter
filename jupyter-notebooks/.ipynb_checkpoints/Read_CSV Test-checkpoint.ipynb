{
 "cells": [
  {
   "cell_type": "code",
   "execution_count": 7,
   "metadata": {},
   "outputs": [],
   "source": [
    "import csv, string"
   ]
  },
  {
   "cell_type": "code",
   "execution_count": 26,
   "metadata": {},
   "outputs": [
    {
     "name": "stdout",
     "output_type": "stream",
     "text": [
      "Processed 60537 lines. Header in [0, 1].\n"
     ]
    }
   ],
   "source": [
    "with open('G:/Salvar/Caio/Trabalhos Acadêmicos/TCC/Resultados/Caio/Material A/Parâmetro 1/A-14.csv') as csv_file:\n",
    "    csv_reader = csv.reader(csv_file, delimiter=',')\n",
    "    line_count = 0\n",
    "    header_line = list()\n",
    "    for row in csv_reader:\n",
    "        if len(row)>0:\n",
    "            if \"Created\" in row[0]:\n",
    "                header_line.append(line_count)\n",
    "        line_count += 1\n",
    "    print(f'Processed {line_count} lines. Header in {header_line}.')"
   ]
  },
  {
   "cell_type": "code",
   "execution_count": null,
   "metadata": {},
   "outputs": [],
   "source": []
  }
 ],
 "metadata": {
  "kernelspec": {
   "display_name": "Python 3",
   "language": "python",
   "name": "python3"
  },
  "language_info": {
   "codemirror_mode": {
    "name": "ipython",
    "version": 3
   },
   "file_extension": ".py",
   "mimetype": "text/x-python",
   "name": "python",
   "nbconvert_exporter": "python",
   "pygments_lexer": "ipython3",
   "version": "3.7.6"
  }
 },
 "nbformat": 4,
 "nbformat_minor": 4
}
