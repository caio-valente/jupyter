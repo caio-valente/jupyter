{
 "cells": [
  {
   "cell_type": "markdown",
   "metadata": {},
   "source": [
    "# Aquisição, Preparo e Visualização dos Dados\n",
    "\n",
    "**Atenção!** para acessar as funcionalidades deste arquivo, interativamente, você pode compilar e rodar o código no site Binder. Clique no emblema para seguir para lá!\n",
    "\n",
    "[![Binder](https://mybinder.org/badge_logo.svg)](https://mybinder.org/v2/gh/caio-valente/jupyter/HEAD)\n",
    "\n",
    "Os dados utilizados neste trabalho são obtidos de fontes diversas. Cada uma delas possui uma particularidade para sua aquisição. Neste documento serão sumarizados os processos de aquisição de todos os dados utilizados no trabalho. Os dados foram adquiridos nas seguintes etapas:\n",
    "- Ensaio tribológico (durante)\n",
    " - Sinais da célula de carga\n",
    " - Temperatura e Umidade relativa do ar\n",
    " - Corrente elétrica através da amostra\n",
    "- Ensaio tribológico (após)\n",
    " - Largura de desgaste\n",
    "- Determinação da condutividade elétrica\n",
    " - Sinal de corrente elétrica (tensão constante)\n",
    "- Determinação da resistência mecânica\n",
    " - Sinal da célula de carga para fluência\n",
    " - Dados de microdureza Vickers\n",
    "- Espectroscopia de Infravermelhos com Transformada de Fourier\n",
    "\n",
    "\n",
    "Todos os dados foram subsequentemente preparados para visualização."
   ]
  },
  {
   "cell_type": "markdown",
   "metadata": {},
   "source": [
    "## Ensaio tribológico (durante)\n",
    "\n",
    "### Sinais da Célula de Carga\n",
    "\n"
   ]
  },
  {
   "cell_type": "markdown",
   "metadata": {},
   "source": [
    "### Corrente Elétrica Através da Amostra\n",
    "\n",
    "A corrente elétrica foi medida durante o ensaio para algumas amostras, que apresentavam melhor potencial de conduzir durante o ensaio tribológico. Essas amostras compreenderam o material de PU + 4% GNP, uma vez que foi o material mais condutor a ser testado tribologicamente. Os resultados não foram plenamente satisfatórios, devido a flutuações (ruído) do sistema devidas provavelmente à interferência eletromagnética.\n",
    "\n",
    "A aquisição de dados foi feita através do software [PSTrace 5.7](https://www.palmsens.com/software/ps-trace/) da PalmSens, juntamente ao potenciostato EMStat3+. A montagem do ensaio tribológico pode ser vista na imagem abaixo, e o potenciostato foi ligado com o eletrodo de trabalho na peça 1 (porta-esfera) e os eletrodos de referência e contra-eletrodo ligados à peça 6 (eletrodo). O eletrodo de aterramento foi ligado ao aterramento do tribômetro. As demais peças são:\n",
    "- **1**: Porta-esfera;\n",
    "- **2**: Esfera (contra-corpo);\n",
    "- **3**: Fixador da amostra;\n",
    "- **4**: Parafusos de fixação\n",
    "- **5**: Amostra;\n",
    "- **6**: Eletrodo;\n",
    "- **7**: Isolante de borracha;\n",
    "- **8**: Base do módulo de ensaio *reciprocating*.\n",
    "\n",
    "![Montagem](src/assembly_annotated.png)\n",
    "\n",
    "#### Tratamento e Análise de Dados\n",
    "\n",
    "O tratamento e análise dos dados foi realizado no arquivo [Triboconductivity](tribo_conductivity_visualization.ipynb)."
   ]
  },
  {
   "cell_type": "markdown",
   "metadata": {},
   "source": [
    "## Ensaio Tribológico (Após)\n",
    "\n",
    "### Largura de Desgaste\n",
    "\n",
    "A largura de desgaste foi obtida através da microscopia óptica das amostras após o ensaio tribológico. Para a automação da medição foi utilizado o programa [Image-Processing](Image_Processing.ipynb), sendo que a calibração e validação da metologia foi feita utilizando o programa [Image-Processing-Testing](Image_Processing-Testing_Old_Images.ipynb)."
   ]
  },
  {
   "cell_type": "markdown",
   "metadata": {},
   "source": [
    "### Análise Estatística e Visualização\n",
    "\n",
    "Os dados obtidos nas etapas anteriores foram analisados estatisticamente no programa [COF-Wear-Anova](cof_wear_anova-Umidade.ipynb). Várias visualizações foram obtidas, de modo a serem vistas na página de resultados do [Website](https://caiovalente.pythonanywhere.com/results). Os arquivos onde estas visualizações foram prototipadas são:\n",
    "- Triboconductivity]()\n",
    "- [COF-Wear-Anova](cof_wear_anova-Umidade.ipynb)\n",
    "- [Tribo_visualization](Tribo_visualization.ipynb)\n",
    "- Site-visualizacoes]()"
   ]
  },
  {
   "cell_type": "markdown",
   "metadata": {},
   "source": [
    "## Condutividade Elétrica\n",
    "\n",
    "O sinal foi adquirido pelo programa PSTrace 5.7, e exportado deste programa para a extensão `.csv`. Na sequência, os dados foram lidos e preparados pelo programa [Conductivity_Analysis](Conductivity_Analysis.ipynb), gerando como saída um DataFrame contendo todos os valores médios de condutividade observados para os diferentes compósitos.\n",
    "\n",
    "Este arquivo foi então utilizado no programa [Conductivity_Visualisation](conductivity_visualisation-New.ipynb), para gerar os gráficos de visualização dos resultados gerais de condutividade para os materiais gerados neste trabalho."
   ]
  },
  {
   "cell_type": "markdown",
   "metadata": {},
   "source": [
    "## Fluência\n",
    "\n",
    "Foi realizado um ensaio não padronizado no tribômetro. Na primeira etapa, foi aplicada uma deformação constante de 0.25 mm, com taxa de deformação de 0.005mm/s. Depois, a deformação foi mantida fixa e foi observada a força normal ao longo do tempo. Esses dados foram preparados e visualizados no arquivo [Fluência](Fluencia.ipynb)."
   ]
  },
  {
   "cell_type": "markdown",
   "metadata": {},
   "source": [
    "## FTIR\n",
    "\n",
    "Os dados obtidos no espectrômetro foram exportados pelo software do equipamento para a extensão `.csv`, sendo lidos, preparados e visualizados no arquivo [FTIR](FTIR.ipynb)"
   ]
  },
  {
   "cell_type": "code",
   "execution_count": null,
   "metadata": {},
   "outputs": [],
   "source": []
  }
 ],
 "metadata": {
  "kernelspec": {
   "display_name": "Python 3",
   "language": "python",
   "name": "python3"
  },
  "language_info": {
   "codemirror_mode": {
    "name": "ipython",
    "version": 3
   },
   "file_extension": ".py",
   "mimetype": "text/x-python",
   "name": "python",
   "nbconvert_exporter": "python",
   "pygments_lexer": "ipython3",
   "version": "3.7.6"
  }
 },
 "nbformat": 4,
 "nbformat_minor": 4
}
