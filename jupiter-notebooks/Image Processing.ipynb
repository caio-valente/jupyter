{
 "cells": [
  {
   "cell_type": "code",
   "execution_count": 1,
   "metadata": {},
   "outputs": [],
   "source": [
    "import numpy as np\n",
    "import pandas as pd\n",
    "import plotly.express as px\n",
    "import plotly.graph_objects as go\n",
    "from cv2 import imread, imwrite\n",
    "from ipywidgets import interact, widgets\n",
    "from pathlib import Path\n",
    "from os import listdir\n",
    "from os.path import isfile, join"
   ]
  },
  {
   "cell_type": "code",
   "execution_count": 2,
   "metadata": {},
   "outputs": [],
   "source": [
    "p = Path.home()\n",
    "p = p/'OneDrive'/'Documentos'/'Python'/'Results'/'Photos'/'Riscos_umidade'"
   ]
  },
  {
   "cell_type": "code",
   "execution_count": 3,
   "metadata": {},
   "outputs": [],
   "source": [
    "filenames = [f for f in listdir(p) if isfile(join(p, f))]\n",
    "imgs = dict()\n",
    "\n",
    "for filename in filenames:\n",
    "    filepath = p/filename\n",
    "    try:\n",
    "        imgs[filepath.name] = imread(str(filepath))\n",
    "    except FileNotFoundError:\n",
    "        pass"
   ]
  },
  {
   "cell_type": "code",
   "execution_count": 4,
   "metadata": {},
   "outputs": [],
   "source": [
    "for key, img in imgs.items():\n",
    "    imwrite('src/Riscos_umidade2/{}'.format(key[:-4]+'.png'), img)"
   ]
  },
  {
   "cell_type": "code",
   "execution_count": 5,
   "metadata": {},
   "outputs": [],
   "source": [
    "dfs = dict()\n",
    "left_edge_px = dict()\n",
    "right_edge_px = dict()\n",
    "high = dict()\n",
    "low = dict()\n",
    "width = dict()\n",
    "\n",
    "for key, img in imgs.items():\n",
    "    dfs[key] = pd.DataFrame({'Blue': imgs[key][:,:,2].sum(axis = 1),\n",
    "                       'Red': imgs[key][:,:,0].sum(axis = 1),\n",
    "                       'Green': imgs[key][:,:,1].sum(axis = 1)})\n",
    "    high[key] = max(dfs[key]['Red'])\n",
    "    low[key] = min(dfs[key]['Red'])\n",
    "    \n",
    "for key in list(imgs.keys()):\n",
    "    left_edge_px[key] = dfs[key][dfs[key]['Red']>=np.mean((high[key],low[key]))].index.min()\n",
    "    right_edge_px[key] = dfs[key][dfs[key]['Red']>=np.mean((high[key],low[key]))].index.max()\n",
    "    width[key] = 1.26576*(right_edge_px[key] - left_edge_px[key])"
   ]
  },
  {
   "cell_type": "code",
   "execution_count": 6,
   "metadata": {},
   "outputs": [],
   "source": [
    "def plot_colors(key):\n",
    "    fig = px.line(dfs[key])\n",
    "    fig.show()"
   ]
  },
  {
   "cell_type": "code",
   "execution_count": 7,
   "metadata": {},
   "outputs": [],
   "source": [
    "def plot_overlay(key):\n",
    "    path = p/key\n",
    "    # Create figure\n",
    "    fig = go.Figure()\n",
    "\n",
    "    # Constants\n",
    "    img_width = 2048\n",
    "    img_height = 1532\n",
    "    scale_factor = 0.3\n",
    "\n",
    "    # Add invisible scatter trace.\n",
    "    # This trace is added to help the autoresize logic work.\n",
    "    fig.add_trace(\n",
    "        go.Scatter(\n",
    "            x=[0, img_width * scale_factor],\n",
    "            y=[0, img_height * scale_factor],\n",
    "            mode=\"markers\",\n",
    "            marker_opacity=0\n",
    "        )\n",
    "    )\n",
    "\n",
    "    # Configure axes\n",
    "    fig.update_xaxes(\n",
    "        visible=False,\n",
    "        range=[0, img_width * scale_factor]\n",
    "    )\n",
    "\n",
    "    fig.update_yaxes(\n",
    "        visible=False,\n",
    "        range=[0, img_height * scale_factor],\n",
    "        # the scaleanchor attribute ensures that the aspect ratio stays constant\n",
    "        scaleanchor=\"x\"\n",
    "    )\n",
    "\n",
    "    # Add image\n",
    "    fig.add_layout_image(\n",
    "        dict(\n",
    "            x=0,\n",
    "            sizex=img_width * scale_factor,\n",
    "            y=img_height * scale_factor,\n",
    "            sizey=img_height * scale_factor,\n",
    "            xref=\"x\",\n",
    "            yref=\"y\",\n",
    "            opacity=1.0,\n",
    "            layer=\"below\",\n",
    "            sizing=\"stretch\",\n",
    "            source='src/riscos_umidade2/{}'.format(key)[:-4]+'.png')\n",
    "    )\n",
    "    fig.add_hline(y = 0.3*1532-0.3*left_edge_px[key], line_color = 'red')\n",
    "    fig.add_hline(y = 0.3*1532-0.3*right_edge_px[key], line_color = 'red')\n",
    "\n",
    "    # Configure other layout\n",
    "    fig.update_layout(\n",
    "        width=img_width * scale_factor,\n",
    "        height=img_height * scale_factor,\n",
    "        margin={\"l\": 0, \"r\": 0, \"t\": 0, \"b\": 0},\n",
    "    )\n",
    "\n",
    "    # Disable the autosize on double click because it adds unwanted margins around the image\n",
    "    # More detail: https://plotly.com/python/configuration-options/\n",
    "    fig.show(config={'doubleClick': 'reset'})"
   ]
  },
  {
   "cell_type": "code",
   "execution_count": 8,
   "metadata": {},
   "outputs": [
    {
     "data": {
      "application/vnd.jupyter.widget-view+json": {
       "model_id": "5ac7423ec07a4c68ab26d074dcb5a140",
       "version_major": 2,
       "version_minor": 0
      },
      "text/plain": [
       "interactive(children=(Dropdown(description='key', options=('GP4-01a.tif', 'GP4-01b.tif', 'GP4-01c.tif', 'GP4-0…"
      ]
     },
     "metadata": {},
     "output_type": "display_data"
    },
    {
     "data": {
      "text/plain": [
       "<function __main__.plot_colors(key)>"
      ]
     },
     "execution_count": 8,
     "metadata": {},
     "output_type": "execute_result"
    }
   ],
   "source": [
    "interact(plot_colors, key = list(dfs.keys()))"
   ]
  },
  {
   "cell_type": "code",
   "execution_count": 9,
   "metadata": {},
   "outputs": [
    {
     "data": {
      "application/vnd.jupyter.widget-view+json": {
       "model_id": "baa3746cd9a443e2b3eb2529c672119b",
       "version_major": 2,
       "version_minor": 0
      },
      "text/plain": [
       "interactive(children=(Dropdown(description='key', options=('GP4-01a.tif', 'GP4-01b.tif', 'GP4-01c.tif', 'GP4-0…"
      ]
     },
     "metadata": {},
     "output_type": "display_data"
    },
    {
     "data": {
      "text/plain": [
       "<function __main__.plot_overlay(key)>"
      ]
     },
     "execution_count": 9,
     "metadata": {},
     "output_type": "execute_result"
    }
   ],
   "source": [
    "interact(plot_overlay, key = list(imgs.keys()))"
   ]
  },
  {
   "cell_type": "code",
   "execution_count": 10,
   "metadata": {},
   "outputs": [
    {
     "data": {
      "text/plain": [
       "{'GP4-01a.tif': 491.11487999999997,\n",
       " 'GP4-01b.tif': 475.92576,\n",
       " 'GP4-01c.tif': 482.25456,\n",
       " 'GP4-02a.tif': 374.66496,\n",
       " 'GP4-02b.tif': 375.93072,\n",
       " 'GP4-02c.tif': 384.79104,\n",
       " 'GP4-03a_ne.tif': 364.53888,\n",
       " 'GP4-03b.tif': 365.80464,\n",
       " 'GP4-03c.tif': 373.3992,\n",
       " 'GP4-04a.tif': 278.4672,\n",
       " 'GP4-04b.tif': 280.99872,\n",
       " 'GP4-04c.tif': 279.73296,\n",
       " 'GP4-05a.tif': 363.27312,\n",
       " 'GP4-05b.tif': 363.27312,\n",
       " 'GP4-05c.tif': 363.27312,\n",
       " 'GP4-06a.tif': 358.21008,\n",
       " 'GP4-06b.tif': 360.7416,\n",
       " 'GP4-06c.tif': 353.14704,\n",
       " 'GP4-07a.tif': 362.00736,\n",
       " 'GP4-07b.tif': 354.4128,\n",
       " 'GP4-07c.tif': 356.94432,\n",
       " 'GP4-08a.tif': 431.62416,\n",
       " 'GP4-08b.tif': 431.62416,\n",
       " 'GP4-08c.tif': 429.09264,\n",
       " 'GP4-09a.tif': 259.4808,\n",
       " 'GP4-09b.tif': 259.4808,\n",
       " 'GP4-09c.tif': 262.01232,\n",
       " 'GP4-10a.tif': 297.4536,\n",
       " 'GP4-10b.tif': 298.71936,\n",
       " 'GP4-10c.tif': 301.25088,\n",
       " 'GP4-11a.tif': 363.27312,\n",
       " 'GP4-11b.tif': 359.47584,\n",
       " 'GP4-11c.tif': 368.33616,\n",
       " 'GP4-12a.tif': 231.63408,\n",
       " 'GP4-12b.tif': 226.57104,\n",
       " 'GP4-12c.tif': 225.30528,\n",
       " 'GP4-13a.tif': 263.27808,\n",
       " 'GP4-13b.tif': 260.74656,\n",
       " 'GP4-13c.tif': 272.1384,\n",
       " 'GP4-14a.tif': 459.47088,\n",
       " 'GP4-14b.tif': 467.06544,\n",
       " 'GP4-14c.tif': 470.86272,\n",
       " 'GP4-15a.tif': 456.93936,\n",
       " 'GP4-15b.tif': 464.53392,\n",
       " 'GP4-15c.tif': 472.12848,\n",
       " 'GP4-16a.tif': 373.3992,\n",
       " 'GP4-16b.tif': 373.3992,\n",
       " 'GP4-16c.tif': 375.93072,\n",
       " 'GP4-17a.tif': 354.4128,\n",
       " 'GP4-17b.tif': 354.4128,\n",
       " 'GP4-17c.tif': 354.4128,\n",
       " 'GPP11-01a.tif': 440.48448,\n",
       " 'GPP11-01b.tif': 431.62416,\n",
       " 'GPP11-01c.tif': 426.56112,\n",
       " 'GPP11-02a.tif': 311.37696,\n",
       " 'GPP11-02b.tif': 303.7824,\n",
       " 'GPP11-02c.tif': 307.57968,\n",
       " 'GPP11-03a.tif': 339.22368,\n",
       " 'GPP11-03b.tif': 336.69216,\n",
       " 'GPP11-03c.tif': 336.69216,\n",
       " 'GPP11-04a.tif': 348.084,\n",
       " 'GPP11-04b.tif': 341.7552,\n",
       " 'GPP11-04c.tif': 346.81824,\n",
       " 'GPP11-05a.tif': 310.1112,\n",
       " 'GPP11-05b.tif': 301.25088,\n",
       " 'GPP11-05c.tif': 308.84544,\n",
       " 'GPP11-06a.tif': 337.95792,\n",
       " 'GPP11-06b.tif': 332.89488,\n",
       " 'GPP11-06c.tif': 332.89488,\n",
       " 'GPP11-07a.tif': 424.0296,\n",
       " 'GPP11-07b.tif': 411.372,\n",
       " 'GPP11-07c.tif': 416.43504,\n",
       " 'GPP11-08a.tif': 344.28672,\n",
       " 'GPP11-08b.tif': 346.81824,\n",
       " 'GPP11-08c.tif': 349.34976,\n",
       " 'GPP11-09a.tif': 279.73296,\n",
       " 'GPP11-09b.tif': 283.53024,\n",
       " 'GPP11-09c.tif': 284.796,\n",
       " 'GPP11-10a.tif': 440.48448,\n",
       " 'GPP11-10b.tif': 430.3584,\n",
       " 'GPP11-10c.tif': 435.42144,\n",
       " 'GPP11-11a.tif': 336.69216,\n",
       " 'GPP11-11b.tif': 335.4264,\n",
       " 'GPP11-11c.tif': 350.61552,\n",
       " 'GPP11-12a.tif': 262.01232,\n",
       " 'GPP11-12b.tif': 258.21504,\n",
       " 'GPP11-12c.tif': 265.8096,\n",
       " 'GPP11-13a.tif': 269.60688,\n",
       " 'GPP11-13b.tif': 269.60688,\n",
       " 'GPP11-13c.tif': 262.01232,\n",
       " 'GPP11-14a.tif': 243.02591999999999,\n",
       " 'GPP11-14b.tif': 246.82319999999999,\n",
       " 'GPP11-14c.tif': 243.02591999999999,\n",
       " 'GPP11-15a.tif': 348.084,\n",
       " 'GPP11-15b.tif': 344.28672,\n",
       " 'GPP11-15c.tif': 345.55248,\n",
       " 'GPP11-16a.tif': 429.09264,\n",
       " 'GPP11-16b.tif': 424.0296,\n",
       " 'GPP11-16c.tif': 435.42144,\n",
       " 'PP4-01a.tif': 443.016,\n",
       " 'PP4-01b.tif': 451.87632,\n",
       " 'PP4-01c.tif': 478.45728,\n",
       " 'PP4-02a.tif': 491.11487999999997,\n",
       " 'PP4-02b.tif': 553.13712,\n",
       " 'PP4-02c.tif': 622.75392,\n",
       " 'PP4-03a.tif': 455.6736,\n",
       " 'PP4-03b.tif': 486.05183999999997,\n",
       " 'PP4-03c.tif': 660.72672,\n",
       " 'PP4-04a.tif': 246.82319999999999,\n",
       " 'PP4-04b.tif': 426.56112,\n",
       " 'PP4-04c.tif': 329.0976,\n",
       " 'PP4-05a.tif': 625.28544,\n",
       " 'PP4-05b.tif': 578.45232,\n",
       " 'PP4-05c.tif': 299.98512,\n",
       " 'PP4-06a.tif': 693.63648,\n",
       " 'PP4-06b.tif': 598.70448,\n",
       " 'PP4-06c.tif': 551.87136,\n",
       " 'PP4-07a.tif': 453.14208,\n",
       " 'PP4-07b.tif': 362.00736,\n",
       " 'PP4-07c.tif': 440.48448,\n",
       " 'PP4-08a.tif': 301.25088,\n",
       " 'PP4-08b.tif': 497.44368,\n",
       " 'PP4-08c.tif': 301.25088,\n",
       " 'PU-01a.tif': 273.40416,\n",
       " 'PU-01b.tif': 270.87264,\n",
       " 'PU-01c.tif': 269.60688,\n",
       " 'PU-02a.tif': 340.48944,\n",
       " 'PU-02b.tif': 343.02096,\n",
       " 'PU-02c.tif': 346.81824,\n",
       " 'PU-03a.tif': 256.94928,\n",
       " 'PU-03b.tif': 259.4808,\n",
       " 'PU-03c.tif': 259.4808,\n",
       " 'PU-04a.tif': 413.90352,\n",
       " 'PU-04b.tif': 405.0432,\n",
       " 'PU-04c.tif': 410.10624,\n",
       " 'PU-05a.tif': 331.62912,\n",
       " 'PU-05b.tif': 327.83184,\n",
       " 'PU-05c.tif': 331.62912,\n",
       " 'PU-06a.tif': 320.23728,\n",
       " 'PU-06b.tif': 324.03456,\n",
       " 'PU-06c.tif': 332.89488,\n",
       " 'PU-07a.tif': 331.62912,\n",
       " 'PU-07b.tif': 337.95792,\n",
       " 'PU-07c.tif': 344.28672,\n",
       " 'PU-08a.tif': 337.95792,\n",
       " 'PU-08b.tif': 335.4264,\n",
       " 'PU-08c.tif': 336.69216,\n",
       " 'PU-09a.tif': 427.82688,\n",
       " 'PU-09b.tif': 413.90352,\n",
       " 'PU-09c.tif': 413.90352,\n",
       " 'PU-10a.tif': 259.4808,\n",
       " 'PU-10b.tif': 262.01232,\n",
       " 'PU-10c.tif': 263.27808,\n",
       " 'PU-11a.tif': 332.89488,\n",
       " 'PU-11b.tif': 327.83184,\n",
       " 'PU-11c.tif': 326.56608,\n",
       " 'PU-12a.tif': 322.7688,\n",
       " 'PU-12b.tif': 316.44,\n",
       " 'PU-12c.tif': 321.50304,\n",
       " 'PU-13a.tif': 255.68352,\n",
       " 'PU-13b.tif': 254.41776,\n",
       " 'PU-13c.tif': 254.41776,\n",
       " 'PU-14a.tif': 416.43504,\n",
       " 'PU-14b.tif': 415.16928,\n",
       " 'PU-14c.tif': 420.23232,\n",
       " 'PU-15a.tif': 407.57472,\n",
       " 'PU-15b.tif': 410.10624,\n",
       " 'PU-15c.tif': 418.96656,\n",
       " 'PU-16a.tif': 339.22368,\n",
       " 'PU-16b.tif': 335.4264,\n",
       " 'PU-16c_ne.tif': 336.69216}"
      ]
     },
     "execution_count": 10,
     "metadata": {},
     "output_type": "execute_result"
    }
   ],
   "source": [
    "width"
   ]
  },
  {
   "cell_type": "code",
   "execution_count": 11,
   "metadata": {},
   "outputs": [],
   "source": [
    "df = pd.DataFrame()\n",
    "for key, value in width.items():\n",
    "    material, ensaio = key.split('-')\n",
    "    ensaio = ensaio.split('_')[0].split('.')[0]\n",
    "    df = df.append(pd.DataFrame([[material, ensaio[:2],value]], columns = ['Material', 'Ensaio', 'Largura']), ignore_index = True)"
   ]
  },
  {
   "cell_type": "code",
   "execution_count": 12,
   "metadata": {},
   "outputs": [],
   "source": [
    "df.to_csv('data_largura', index = False)"
   ]
  },
  {
   "cell_type": "code",
   "execution_count": null,
   "metadata": {},
   "outputs": [],
   "source": []
  }
 ],
 "metadata": {
  "kernelspec": {
   "display_name": "Python 3",
   "language": "python",
   "name": "python3"
  },
  "language_info": {
   "codemirror_mode": {
    "name": "ipython",
    "version": 3
   },
   "file_extension": ".py",
   "mimetype": "text/x-python",
   "name": "python",
   "nbconvert_exporter": "python",
   "pygments_lexer": "ipython3",
   "version": "3.7.6"
  }
 },
 "nbformat": 4,
 "nbformat_minor": 4
}
