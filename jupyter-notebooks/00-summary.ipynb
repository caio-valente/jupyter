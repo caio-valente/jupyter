{
 "cells": [
  {
   "cell_type": "markdown",
   "metadata": {},
   "source": [
    "# Aquisição, Preparo e Visualização dos Dados\n",
    "\n",
    "**Atenção!** para acessar as funcionalidades dos Jupyter Notebooks, interativamente, você pode compilar e rodar o código no site Binder. Clique no emblema para seguir para lá!\n",
    "\n",
    "[![Binder](https://mybinder.org/badge_logo.svg)](https://mybinder.org/v2/gh/caio-valente/jupyter/HEAD)\n",
    "\n",
    "Os dados utilizados neste trabalho são obtidos de fontes diversas. Cada uma delas possui uma particularidade para sua aquisição. Neste documento serão sumarizados os processos de aquisição de todos os dados utilizados no trabalho. Os dados foram adquiridos nas seguintes etapas:\n",
    "- Ensaio tribológico (durante)\n",
    " - Sinais da célula de carga\n",
    " - Temperatura e Umidade relativa do ar\n",
    " - Corrente elétrica através da amostra\n",
    "- Ensaio tribológico (após)\n",
    " - Largura de desgaste\n",
    "- Determinação da condutividade elétrica\n",
    " - Sinal de corrente elétrica (tensão constante)\n",
    "- Determinação da resistência mecânica\n",
    " - Sinal da célula de carga para fluência\n",
    " - Dados de microdureza Vickers\n",
    "- Espectroscopia de Infravermelhos com Transformada de Fourier\n",
    "\n",
    "\n",
    "Todos os dados foram subsequentemente preparados para visualização. A estrutura geral da organização dos softwares, entradas e saídas, é dada pelo fluxograma:\n",
    "\n",
    "![Fluxograma](src/Processos_Software.png)"
   ]
  },
  {
   "cell_type": "markdown",
   "metadata": {},
   "source": [
    "## Ensaio tribológico (durante)\n",
    "\n",
    "### Sinais da Célula de Carga\n",
    "\n",
    "Os dados obtidos diretamente do tribômetro foram tratados seguindo as etapas detalhadas em [Aquisição e Preparo de Dados - Atrito](01-Data_Acquire-Prepare-COF.ipynb). Em resumo, foram compilados os dados de todos os ensaios em um único arquivo `.csv` com os valores médios e de desvio-padrão do coeficiente de atrito, bem como os dados do ensaio como força normal, frequência de oscilação, material e descrição do ensaio. Estes dados foram analisados estatisticamente junto aos dados de desgaste, no arquivo [Análise Estatística - Atrito/Desgaste](02-Statistics-COF_Wear_Humidity.ipynb)."
   ]
  },
  {
   "cell_type": "markdown",
   "metadata": {},
   "source": [
    "### Umidade e Temperatura\n",
    "\n",
    "Os dados de umidade e temperatura foram adquiridos durante o ensaio tribológico através de um sistema Arduino ligado a um sensor HTU21D. O esquema de ligação do sensor pode ser visto na imagem.\n",
    "\n",
    "<img src=\"https://cdn.sparkfun.com/assets/learn_tutorials/1/4/3/Hookup_bb.png\" alt=\"Arduino-sensor\"\n",
    "\ttitle=\"Arduino Sensor System\" width=\"500\" height=\"325\" />\n",
    "*Fonte: Sparkfun Electronics*\n",
    "\n",
    "O [software](src/sketch_umidade_display.c) de controle foi baseado na [biblioteca](https://github.com/sparkfun/HTU21D_Breakout) de código aberto da Sparkfun Electronics. Utilizou-se o software livre CoolTerm para Windows da [Roger Meier's Freeware](https://www.freeware.the-meiers.org/) para gravar os dados enviados pelo Arduino pela porta serial. Estes dados foram salvos em um arquivo de texto para serem recuperados com a biblioteca `pandas` e mesclados aos dados de coeficiente de atrito.\n",
    "\n",
    "#### Combinação dos dados de diferentes arquivos\n",
    "\n",
    "Os dados foram adquiridos em diferentes dias em diferentes arquivos, e primeiramente foram combinados em um único `.csv` com todos os dados de temperatura e umidade. Este processo foi realizado no arquivo [Umidade - Aquisição](03-humidity-acquisition.ipynb).\n",
    "\n",
    "#### Combinação dos dados de Umidade/Temperatura e Coeficiente de Atrito\n",
    "\n",
    "Na sequência, os dataframes de Umidade/Temperatura e Coeficiente de Atrito foram mesclados, de modo que se saiba a umidade e temperatura durante todos os ensaios, e descartando os dados de umidade e temperatura que foram coletados fora da duração do ensaio tribológico. Este processo foi realizado no arquivo [Combinando Dados - Umidade/Atrito](04-cof_humidity_combination.ipynb)."
   ]
  },
  {
   "cell_type": "markdown",
   "metadata": {},
   "source": [
    "### Corrente Elétrica Através da Amostra\n",
    "\n",
    "A corrente elétrica foi medida durante o ensaio para algumas amostras, que apresentavam melhor potencial de conduzir durante o ensaio tribológico. Essas amostras compreenderam o material de PU + 4% GNP, uma vez que foi o material mais condutor a ser testado tribologicamente. Os resultados não foram plenamente satisfatórios, devido a flutuações (ruído) do sistema devidas provavelmente à interferência eletromagnética.\n",
    "\n",
    "A aquisição de dados foi feita através do software [PSTrace 5.7](https://www.palmsens.com/software/ps-trace/) da PalmSens, juntamente ao potenciostato EMStat3+. A montagem do ensaio tribológico pode ser vista na imagem abaixo, e o potenciostato foi ligado com o eletrodo de trabalho na peça 1 (porta-esfera) e os eletrodos de referência e contra-eletrodo ligados à peça 6 (eletrodo). O eletrodo de aterramento foi ligado ao aterramento do tribômetro. As demais peças são:\n",
    "- **1**: Porta-esfera;\n",
    "- **2**: Esfera (contra-corpo);\n",
    "- **3**: Fixador da amostra;\n",
    "- **4**: Parafusos de fixação\n",
    "- **5**: Amostra;\n",
    "- **6**: Eletrodo;\n",
    "- **7**: Isolante de borracha;\n",
    "- **8**: Base do módulo de ensaio *reciprocating*.\n",
    "\n",
    "![Montagem](src/assembly_annotated.png)\n",
    "\n",
    "#### Tratamento e Análise de Dados\n",
    "\n",
    "O tratamento e análise dos dados foi realizado no arquivo [Visualização de resultados de corrente elétrica durante ensaio tribológico](11-triboconductivity.ipynb)."
   ]
  },
  {
   "cell_type": "markdown",
   "metadata": {},
   "source": [
    "## Ensaio Tribológico (Após)\n",
    "\n",
    "### Largura de Desgaste\n",
    "\n",
    "A largura de desgaste foi obtida através da microscopia óptica das amostras após o ensaio tribológico. Para a automação da medição foi utilizado o programa [Processamento de Imagem](05-Image_Processing.ipynb), sendo que a calibração e validação da metologia foi feita utilizando o programa [Testando o Processamento de Imagem](06-Image_Processing-Testing_Old_Images.ipynb)."
   ]
  },
  {
   "cell_type": "markdown",
   "metadata": {},
   "source": [
    "### Sumário de Resultados\n",
    "\n",
    "Os resultados de atrito, desgaste, umidade e temperatura foram reunidos em um único DataFrame no arquivo [Sumário de Atrito, Umidade, Temperatura e Desgaste](07-Summarize-COF-Humidity-Wear.ipynb). Com estes dados foram realizadas as análises subsequentes."
   ]
  },
  {
   "cell_type": "markdown",
   "metadata": {},
   "source": [
    "### Análise Estatística e Visualização\n",
    "\n",
    "Os dados obtidos nas etapas anteriores foram analisados estatisticamente no programa [Visualização de Resultados](02-Statistics-COF_Wear_Humidity.ipynb). Várias visualizações dos dados tratados foram obtidas, de modo a serem vistas na página de resultados do [Website](https://caiovalente.pythonanywhere.com/results)"
   ]
  },
  {
   "cell_type": "markdown",
   "metadata": {},
   "source": [
    "## Condutividade Elétrica\n",
    "\n",
    "O sinal foi adquirido pelo programa PSTrace 5.7, e exportado deste programa para a extensão `.csv`. Os dados foram lidos e preparados no programa [Visualização de dados de Condutividade](08-conductivity_visualization.ipynb), gerando como saída um DataFrame contendo todos os valores médios de condutividade observados para os diferentes compósitos. Na sequência, foram gerados os gráficos de visualização dos resultados gerais de condutividade para os materiais gerados neste trabalho."
   ]
  },
  {
   "cell_type": "markdown",
   "metadata": {},
   "source": [
    "## Fluência\n",
    "\n",
    "Foi realizado um ensaio não padronizado no tribômetro. Na primeira etapa, foi aplicada uma deformação constante de 0.25 mm, com taxa de deformação de 0.005mm/s. Depois, a deformação foi mantida fixa e foi observada a força normal ao longo do tempo. Esses dados foram preparados e visualizados no arquivo [Visualização dos Resultados de Fluência](09-creep.ipynb)."
   ]
  },
  {
   "cell_type": "markdown",
   "metadata": {},
   "source": [
    "## FTIR\n",
    "\n",
    "Os dados obtidos no espectrômetro foram exportados pelo software do equipamento para a extensão `.csv`, sendo lidos, preparados e visualizados no arquivo [FTIR](10-FTIR.ipynb)"
   ]
  }
 ],
 "metadata": {
  "kernelspec": {
   "display_name": "Python 3",
   "language": "python",
   "name": "python3"
  },
  "language_info": {
   "codemirror_mode": {
    "name": "ipython",
    "version": 3
   },
   "file_extension": ".py",
   "mimetype": "text/x-python",
   "name": "python",
   "nbconvert_exporter": "python",
   "pygments_lexer": "ipython3",
   "version": "3.9.1"
  }
 },
 "nbformat": 4,
 "nbformat_minor": 4
}
