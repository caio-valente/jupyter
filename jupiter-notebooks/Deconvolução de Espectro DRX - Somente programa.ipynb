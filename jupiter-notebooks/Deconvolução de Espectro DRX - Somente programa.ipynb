{
 "cells": [
  {
   "cell_type": "markdown",
   "metadata": {},
   "source": [
    "# Deconvolução das curvas de DRX em Python"
   ]
  },
  {
   "cell_type": "markdown",
   "metadata": {},
   "source": [
    "## Importar bibliotecas necessárias"
   ]
  },
  {
   "cell_type": "code",
   "execution_count": 1,
   "metadata": {},
   "outputs": [],
   "source": [
    "import os\n",
    "import math\n",
    "import random\n",
    "\n",
    "import numpy as np\n",
    "import pandas as pd\n",
    "import matplotlib.pyplot as plt\n",
    "from scipy import optimize, signal\n",
    "\n",
    "from lmfit import models\n",
    "\n",
    "from pathlib import Path\n",
    "\n",
    "p = Path.home()\n",
    "p = p/'OneDrive'/'Documentos'/'Python'/'Results'/'CSV'/'DRX_EG'"
   ]
  },
  {
   "cell_type": "markdown",
   "metadata": {},
   "source": [
    "## Definição de funções"
   ]
  },
  {
   "cell_type": "code",
   "execution_count": 2,
   "metadata": {},
   "outputs": [],
   "source": [
    "# ignore used to produce images for blog\n",
    "image_dir = \"images\"\n",
    "def plot_to_blog(fig, figure_name):\n",
    "    filename = os.path.expanduser(f'{image_dir}/{figure_name}')\n",
    "    #fig.savefig(filename)\n",
    "    return filename\n",
    "\n",
    "def g(A, μ, σ, x = np.linspace(0, 45, 45*10)):\n",
    "    return A / (σ * math.sqrt(2 * math.pi)) * np.exp(-(x-μ)**2 / (2*σ**2))\n",
    "\n",
    "def generate_model(spec):\n",
    "    composite_model = None\n",
    "    params = None\n",
    "    x = spec['x']\n",
    "    y = spec['y']\n",
    "    x_min = np.min(x)\n",
    "    x_max = np.max(x)\n",
    "    x_range = x_max - x_min\n",
    "    y_max = np.max(y)\n",
    "    for i, basis_func in enumerate(spec['model']):\n",
    "        prefix = f'm{i}_'\n",
    "        model = getattr(models, basis_func['type'])(prefix=prefix)\n",
    "        if basis_func['type'] in ['GaussianModel', 'LorentzianModel', 'VoigtModel']:\n",
    "            model.set_param_hint('sigma', min=1e-6, max=x_range)\n",
    "            model.set_param_hint('center', min=x_min, max=x_max)\n",
    "            model.set_param_hint('height', min=1e-6, max=1.1*y_max)\n",
    "            model.set_param_hint('amplitude', min=1e-6)\n",
    "            #\n",
    "            default_params = {\n",
    "                prefix+'center': x_min + x_range * random.random(),\n",
    "                prefix+'height': y_max * random.random(),\n",
    "                prefix+'sigma': x_range * random.random()\n",
    "            }\n",
    "        else:\n",
    "            raise NotImplemented(f'model {basis_func[\"type\"]} not implemented yet')\n",
    "        if 'help' in basis_func:  # allow override of settings in parameter\n",
    "            for param, options in basis_func['help'].items():\n",
    "                model.set_param_hint(param, **options)\n",
    "        model_params = model.make_params(**default_params, **basis_func.get('params', {}))\n",
    "        if params is None:\n",
    "            params = model_params\n",
    "        else:\n",
    "            params.update(model_params)\n",
    "        if composite_model is None:\n",
    "            composite_model = model\n",
    "        else:\n",
    "            composite_model = composite_model + model\n",
    "    return composite_model, params\n",
    "\n",
    "def update_spec_from_peaks(spec, model_indicies, peak_widths=(10, 25), **kwargs):\n",
    "    x = spec['x']\n",
    "    y = spec['y']\n",
    "    x_range = np.max(x) - np.min(x)\n",
    "    peak_indicies = signal.find_peaks_cwt(y, peak_widths)\n",
    "    np.random.shuffle(peak_indicies)\n",
    "    for peak_indicie, model_indicie in zip(peak_indicies.tolist(), model_indicies):\n",
    "        model = spec['model'][model_indicie]\n",
    "        if model['type'] in ['GaussianModel', 'LorentzianModel', 'VoigtModel']:\n",
    "            params = {\n",
    "                'height': y[peak_indicie],\n",
    "                'sigma': x_range / len(x) * np.min(peak_widths),\n",
    "                'center': x[peak_indicie]\n",
    "            }\n",
    "            if 'params' in model:\n",
    "                model.update(params)\n",
    "            else:\n",
    "                model['params'] = params\n",
    "        else:\n",
    "            raise NotImplemented(f'model {basis_func[\"type\"]} not implemented yet')\n",
    "    return peak_indicies\n",
    "\n",
    "def print_best_values(spec, output):\n",
    "    model_params = {\n",
    "        'GaussianModel':   ['amplitude', 'sigma'],\n",
    "        'LorentzianModel': ['amplitude', 'sigma'],\n",
    "        'VoigtModel':      ['amplitude', 'sigma', 'gamma'],\n",
    "        'LinearModel': []\n",
    "    }\n",
    "    best_values = output.best_values\n",
    "    print('center   model            amplitude     sigma     gamma')\n",
    "    for i, model in enumerate(spec['model']):\n",
    "        prefix = f'm{i}_'\n",
    "        values = ', '.join(f'{best_values[prefix+param]:8.3f}' for param in model_params[model[\"type\"]])\n",
    "        print(f'[{best_values[prefix+\"center\"]:3.3f}] {model[\"type\"]:16}: {values}')\n",
    "\n",
    "def crystallinity(output,amorph_index):\n",
    "    a = 0\n",
    "    b = 0\n",
    "    for i, model in enumerate(spec['model']):\n",
    "        if i in amorph_index:\n",
    "            b = b+(output.best_values[f'm{i}_amplitude'])\n",
    "        else:\n",
    "            a = a+(output.best_values[f'm{i}_amplitude'])\n",
    "    \n",
    "    return a/(a+b)\n",
    "\n",
    "def crystallinity2(output,amorph_index):\n",
    "    a = 0\n",
    "    b = 0\n",
    "    for i, model in enumerate(spec['model']):\n",
    "        if i in amorph_index:\n",
    "            b = b+(output.values[f'm{i}_height'])\n",
    "        else:\n",
    "            a = a+(output.values[f'm{i}_height'])\n",
    "    \n",
    "    return a/(a+b)"
   ]
  },
  {
   "cell_type": "markdown",
   "metadata": {},
   "source": [
    "## Aquisição dos dados do arquivo .csv (como recebido do CMCM)\n",
    "\n",
    "### Correção do sinal\n",
    "\n",
    "Aqui eu faço uma correção da 'linha de base' do sinal, trazendo a base da curva do gráfico para o valor y = 0."
   ]
  },
  {
   "cell_type": "code",
   "execution_count": 30,
   "metadata": {},
   "outputs": [
    {
     "data": {
      "text/plain": [
       "<matplotlib.axes._subplots.AxesSubplot at 0x19ac542a148>"
      ]
     },
     "execution_count": 30,
     "metadata": {},
     "output_type": "execute_result"
    },
    {
     "data": {
      "image/png": "[encoded data removed]",
      "text/plain": [
       "<Figure size 432x288 with 1 Axes>"
      ]
     },
     "metadata": {
      "needs_background": "light"
     },
     "output_type": "display_data"
    }
   ],
   "source": [
    "#data import\n",
    "df = pd.read_csv(p/'1000.csv', delim_whitespace=True, skiprows=32,\n",
    "                 names=['2Theta','I'])\n",
    "#df = df[df['2Theta']<27.5]\n",
    "#df['I']=df['I']-df['I'].min()\n",
    "#alpha = (df['I'].iat[0]-df['I'].iat[-1])/(df['2Theta'].iat[0]-df['2Theta'].iat[-1])\n",
    "#beta = df['I'].iat[-1]-alpha*df['2Theta'].iat[-1]\n",
    "#correction = alpha*df['2Theta']+beta\n",
    "#df.plot(kind = 'line', x='2Theta',y='I',color='red')\n",
    "#df['I']=df['I']-correction\n",
    "df.plot(kind = 'line', x='2Theta',y='I',color='black')"
   ]
  },
  {
   "cell_type": "markdown",
   "metadata": {},
   "source": [
    "# Chutes iniciais automáticos"
   ]
  },
  {
   "cell_type": "code",
   "execution_count": 31,
   "metadata": {},
   "outputs": [
    {
     "data": {
      "image/png": "[encoded data removed]",
      "text/plain": [
       "<Figure size 432x288 with 1 Axes>"
      ]
     },
     "metadata": {
      "needs_background": "light"
     },
     "output_type": "display_data"
    }
   ],
   "source": [
    "#usar este código para os chutes iniciais automáticos em spec\n",
    "\n",
    "Manual = False\n",
    "\n",
    "if not Manual:\n",
    "    spec = {\n",
    "        'x': df['2Theta'].values,\n",
    "        'y': df['I'].values,\n",
    "        'model': [\n",
    "            {'type': 'GaussianModel'},\n",
    "            {'type': 'GaussianModel'},\n",
    "            {'type': 'GaussianModel'},\n",
    "            {'type': 'GaussianModel'},\n",
    "            ]\n",
    "    }\n",
    "\n",
    "    peaks_found = update_spec_from_peaks(spec, [0, 1, 2, 3], peak_widths = (100,110))\n",
    "    fig, ax = plt.subplots()\n",
    "    ax.scatter(spec['x'], spec['y'], s=4)\n",
    "    for i in peaks_found:\n",
    "        ax.axvline(x=spec['x'][i], c='black', linestyle='dotted')\n",
    "\n",
    "    plot_to_blog(fig, 'xrd-fitting-xrd-peaks.png')"
   ]
  },
  {
   "cell_type": "markdown",
   "metadata": {},
   "source": [
    "# Chutes iniciais manuais"
   ]
  },
  {
   "cell_type": "code",
   "execution_count": 32,
   "metadata": {},
   "outputs": [],
   "source": [
    "#usar este código para os chutes iniciais manuais em spec\n",
    "\n",
    "#Manual = True\n",
    "\n",
    "if Manual:\n",
    "    spec = {\n",
    "        'x': df['2Theta'].values,\n",
    "        'y': df['I'].values,\n",
    "        'model': [\n",
    "            {\n",
    "                'type': 'GaussianModel',\n",
    "                'params': {'center': 16.02, 'height': 743, 'sigma': 0.1},\n",
    "                'help': {'center': {'min': 15.9, 'max': 16.1}}\n",
    "            },\n",
    "            {\n",
    "                'type': 'GaussianModel',\n",
    "                'params': {'center': 16.78, 'height': 1008, 'sigma': 0.1},\n",
    "                'help': {'center': {'min': 16.7, 'max': 16.9}}\n",
    "            },\n",
    "            {\n",
    "                'type': 'GaussianModel',\n",
    "                'params': {'center': 18.39, 'height': 726, 'sigma': 0.1},\n",
    "                'help': {'center': {'min': 18.3, 'max': 18.5}}\n",
    "            },\n",
    "            {\n",
    "                'type': 'GaussianModel',\n",
    "                'params': {'center': 21, 'height': 721, 'sigma': 0.1},\n",
    "                'help': {'center': {'min': 20.8, 'max': 21.2}}\n",
    "            },\n",
    "            {\n",
    "                'type': 'GaussianModel',\n",
    "                'params': {'center': 21.7, 'height': 684, 'sigma': 0.1},\n",
    "                'help': {'center': {'min': 21.5, 'max': 21.9}}\n",
    "            },\n",
    "            {'type': 'VoigtModel', 'params': {'center': 18, 'height': 240, 'sigma': 0.05, 'gamma': 0.15}},\n",
    "            {\n",
    "                'type': 'GaussianModel',\n",
    "                'params': {'center': 25.5, 'height': 206, 'sigma': 0.1},\n",
    "                'help': {'center': {'min': 25, 'max': 26}}\n",
    "            },\n",
    "            {\n",
    "                'type': 'GaussianModel',\n",
    "                'params': {'center': 28.3, 'height': 164, 'sigma': 0.1},\n",
    "                'help': {'center': {'min': 27, 'max': 29}}\n",
    "            },\n",
    "            #{'type': 'GaussianModel', 'help': {'center': {'max': 39.2}}},\n",
    "            #{'type': 'GaussianModel'},\n",
    "            #{'type': 'GaussianModel'}\n",
    "        ]\n",
    "    }"
   ]
  },
  {
   "cell_type": "markdown",
   "metadata": {},
   "source": [
    "## Cálculo e Plotagem da modelagem\n",
    "\n",
    "### Pontos azuis: dados verdadeiros; Linha laranja: Ajuste do modelo\n",
    "#### Acima: resíduos dos pontos (qualidade do ajuste)"
   ]
  },
  {
   "cell_type": "code",
   "execution_count": 33,
   "metadata": {},
   "outputs": [
    {
     "data": {
      "text/plain": [
       "'images/xrd-fitting-xrd-total.png'"
      ]
     },
     "execution_count": 33,
     "metadata": {},
     "output_type": "execute_result"
    },
    {
     "data": {
      "image/png": "[encoded data removed]",
      "text/plain": [
       "<Figure size 432x432 with 2 Axes>"
      ]
     },
     "metadata": {
      "needs_background": "light"
     },
     "output_type": "display_data"
    }
   ],
   "source": [
    "model, params = generate_model(spec)\n",
    "output = model.fit(spec['y'], params, x=spec['x'])\n",
    "fig, gridspec = output.plot(data_kws={'markersize':  1})\n",
    "plot_to_blog(fig, 'xrd-fitting-xrd-total.png')"
   ]
  },
  {
   "cell_type": "markdown",
   "metadata": {},
   "source": [
    "## Plotagem das curvas individuais"
   ]
  },
  {
   "cell_type": "code",
   "execution_count": 34,
   "metadata": {},
   "outputs": [
    {
     "name": "stdout",
     "output_type": "stream",
     "text": [
      "4\n"
     ]
    },
    {
     "data": {
      "text/plain": [
       "'images/xrd-fitting-xrd-components.png'"
      ]
     },
     "execution_count": 34,
     "metadata": {},
     "output_type": "execute_result"
    },
    {
     "data": {
      "image/png": "[encoded data removed]",
      "text/plain": [
       "<Figure size 432x288 with 1 Axes>"
      ]
     },
     "metadata": {
      "needs_background": "light"
     },
     "output_type": "display_data"
    }
   ],
   "source": [
    "fig, ax = plt.subplots()\n",
    "ax.scatter(spec['x'], spec['y'], s=4)\n",
    "components = output.eval_components(x=spec['x'])\n",
    "print(len(spec['model']))\n",
    "for i, model in enumerate(spec['model']):\n",
    "    ax.plot(spec['x'], components[f'm{i}_'],)\n",
    "\n",
    "plot_to_blog(fig, 'xrd-fitting-xrd-components.png')"
   ]
  },
  {
   "cell_type": "markdown",
   "metadata": {},
   "source": [
    "## Ordem das cores padrão do matplotlib\n",
    "### Para ajudar a identificar a curva que representa a parte amorfa e parte cristalina\n",
    "As cores sempre estão na mesma ordem, de baixo pra cima."
   ]
  },
  {
   "cell_type": "code",
   "execution_count": 35,
   "metadata": {},
   "outputs": [
    {
     "data": {
      "image/png": "[encoded data removed]",
      "text/plain": [
       "<Figure size 432x288 with 1 Axes>"
      ]
     },
     "metadata": {
      "needs_background": "light"
     },
     "output_type": "display_data"
    }
   ],
   "source": [
    "temp = list()\n",
    "i = 0\n",
    "while i <= 10:\n",
    "    temp.append(i)\n",
    "    i+=1\n",
    "\n",
    "plt.plot([1,2],[temp,temp])\n",
    "\n",
    "plt.show()"
   ]
  },
  {
   "cell_type": "markdown",
   "metadata": {},
   "source": [
    "## Dados das curvas (centro, amplitude e desvio padrão)"
   ]
  },
  {
   "cell_type": "code",
   "execution_count": 36,
   "metadata": {},
   "outputs": [
    {
     "name": "stdout",
     "output_type": "stream",
     "text": [
      "center   model            amplitude     sigma     gamma\n",
      "[10.926] GaussianModel   : 1058.918,   11.307\n",
      "[39.745] GaussianModel   : 3415.710,   29.963\n",
      "[10.518] GaussianModel   :   10.290,    2.035\n",
      "[26.312] GaussianModel   : 1022.609,    0.261\n"
     ]
    }
   ],
   "source": [
    "print_best_values(spec,output)"
   ]
  },
  {
   "cell_type": "markdown",
   "metadata": {},
   "source": [
    "## Cálculo da cristalinidade a partir da área das curvas"
   ]
  },
  {
   "cell_type": "code",
   "execution_count": 37,
   "metadata": {},
   "outputs": [
    {
     "data": {
      "text/plain": [
       "0.18567474783830237"
      ]
     },
     "execution_count": 37,
     "metadata": {},
     "output_type": "execute_result"
    }
   ],
   "source": [
    "crystallinity(output, [0,1,2]) #o número entre as chaves corresponde a cor C4, que é da parte amorfa"
   ]
  },
  {
   "cell_type": "code",
   "execution_count": 39,
   "metadata": {},
   "outputs": [
    {
     "data": {
      "text/html": [
       "<h2> Model</h2> (((Model(gaussian, prefix='m0_') + Model(gaussian, prefix='m1_')) + Model(gaussian, prefix='m2_')) + Model(gaussian, prefix='m3_')) <h2>Fit Statistics</h2><table><tr><td>fitting method</td><td>leastsq</td><td></td></tr><tr><td># function evals</td><td>172</td><td></td></tr><tr><td># data points</td><td>1500</td><td></td></tr><tr><td># variables</td><td>12</td><td></td></tr><tr><td>chi-square</td><td> 2077970.21</td><td></td></tr><tr><td>reduced chi-square</td><td> 1396.48536</td><td></td></tr><tr><td>Akaike info crit.</td><td> 10874.5226</td><td></td></tr><tr><td>Bayesian info crit.</td><td> 10938.2812</td><td></td></tr></table><h2>Variables</h2><table><tr><th> name </th><th> value </th><th> standard error </th><th> relative error </th><th> initial value </th><th> min </th><th> max </th><th> vary </th><th> expression </th></tr><tr><td> m0_amplitude </td><td>  1058.91821 </td><td>  134210.531 </td><td> (12674.31%) </td><td> 1.0 </td><td>  1.0000e-06 </td><td>         inf </td><td> True </td><td>  </td></tr><tr><td> m0_center </td><td>  10.9263264 </td><td>  287.193858 </td><td> (2628.46%) </td><td> 37.86 </td><td>  10.0200000 </td><td>  40.0000000 </td><td> True </td><td>  </td></tr><tr><td> m0_sigma </td><td>  11.3074440 </td><td>  310.993023 </td><td> (2750.34%) </td><td> 1.9986666666666666 </td><td>  1.0000e-06 </td><td>  29.9800000 </td><td> True </td><td>  </td></tr><tr><td> m0_fwhm </td><td>  26.6269953 </td><td>  732.332590 </td><td> (2750.34%) </td><td> 4.7065002400000004 </td><td>        -inf </td><td>         inf </td><td> False </td><td> 2.3548200*m0_sigma </td></tr><tr><td> m0_height </td><td>  37.3601023 </td><td>  3709.47808 </td><td> (9928.98%) </td><td> 0.19960421947965312 </td><td>  1.0000e-06 </td><td>  1760.00000 </td><td> False </td><td> 0.3989423*m0_amplitude/max(2.220446049250313e-16, m0_sigma) </td></tr><tr><td> m1_amplitude </td><td>  3415.70999 </td><td>  358425.606 </td><td> (10493.44%) </td><td> 1.0 </td><td>  1.0000e-06 </td><td>         inf </td><td> True </td><td>  </td></tr><tr><td> m1_center </td><td>  39.7445650 </td><td>  1007.01223 </td><td> (2533.71%) </td><td> 11.88 </td><td>  10.0200000 </td><td>  40.0000000 </td><td> True </td><td>  </td></tr><tr><td> m1_sigma </td><td>  29.9626982 </td><td>  2938.89449 </td><td> (9808.51%) </td><td> 1.9986666666666666 </td><td>  1.0000e-06 </td><td>  29.9800000 </td><td> True </td><td>  </td></tr><tr><td> m1_fwhm </td><td>  70.5567609 </td><td>  6920.56751 </td><td> (9808.51%) </td><td> 4.7065002400000004 </td><td>        -inf </td><td>         inf </td><td> False </td><td> 2.3548200*m1_sigma </td></tr><tr><td> m1_height </td><td>  45.4789215 </td><td>  312.247248 </td><td> (686.58%) </td><td> 0.19960421947965312 </td><td>  1.0000e-06 </td><td>  1760.00000 </td><td> False </td><td> 0.3989423*m1_amplitude/max(2.220446049250313e-16, m1_sigma) </td></tr><tr><td> m2_amplitude </td><td>  10.2896184 </td><td>  354.939800 </td><td> (3449.49%) </td><td> 1.0 </td><td>  1.0000e-06 </td><td>         inf </td><td> True </td><td>  </td></tr><tr><td> m2_center </td><td>  10.5179425 </td><td>  34.0488200 </td><td> (323.72%) </td><td> 26.3 </td><td>  10.0200000 </td><td>  40.0000000 </td><td> True </td><td>  </td></tr><tr><td> m2_sigma </td><td>  2.03471052 </td><td>  27.0446434 </td><td> (1329.16%) </td><td> 1.9986666666666666 </td><td>  1.0000e-06 </td><td>  29.9800000 </td><td> True </td><td>  </td></tr><tr><td> m2_fwhm </td><td>  4.79137702 </td><td>  63.6852671 </td><td> (1329.16%) </td><td> 4.7065002400000004 </td><td>        -inf </td><td>         inf </td><td> False </td><td> 2.3548200*m2_sigma </td></tr><tr><td> m2_height </td><td>  2.01746832 </td><td>  45.3196928 </td><td> (2246.36%) </td><td> 0.19960421947965312 </td><td>  1.0000e-06 </td><td>  1760.00000 </td><td> False </td><td> 0.3989423*m2_amplitude/max(2.220446049250313e-16, m2_sigma) </td></tr><tr><td> m3_amplitude </td><td>  1022.60857 </td><td>  7.18611584 </td><td> (0.70%) </td><td> 1.0 </td><td>  1.0000e-06 </td><td>         inf </td><td> True </td><td>  </td></tr><tr><td> m3_center </td><td>  26.3117574 </td><td>  0.00183432 </td><td> (0.01%) </td><td> 10.122557389980773 </td><td>  10.0200000 </td><td>  40.0000000 </td><td> True </td><td>  </td></tr><tr><td> m3_sigma </td><td>  0.26077623 </td><td>  0.00193079 </td><td> (0.74%) </td><td> 26.276589092632488 </td><td>  1.0000e-06 </td><td>  29.9800000 </td><td> True </td><td>  </td></tr><tr><td> m3_fwhm </td><td>  0.61408109 </td><td>  0.00454666 </td><td> (0.74%) </td><td> 61.87663752711284 </td><td>        -inf </td><td>         inf </td><td> False </td><td> 2.3548200*m3_sigma </td></tr><tr><td> m3_height </td><td>  1564.41332 </td><td>  9.70364452 </td><td> (0.62%) </td><td> 0.015182423357674559 </td><td>  1.0000e-06 </td><td>  1760.00000 </td><td> False </td><td> 0.3989423*m3_amplitude/max(2.220446049250313e-16, m3_sigma) </td></tr></table><h2>Correlations (unreported correlations are < 0.100)</h2><table><tr><td>m1_amplitude</td><td>m1_sigma</td><td>1.0000</td></tr><tr><td>m0_center</td><td>m0_sigma</td><td>-0.9996</td></tr><tr><td>m0_sigma</td><td>m1_center</td><td>0.9995</td></tr><tr><td>m0_amplitude</td><td>m1_amplitude</td><td>-0.9987</td></tr><tr><td>m0_amplitude</td><td>m0_sigma</td><td>0.9986</td></tr><tr><td>m0_amplitude</td><td>m1_sigma</td><td>-0.9984</td></tr><tr><td>m0_amplitude</td><td>m0_center</td><td>-0.9984</td></tr><tr><td>m0_center</td><td>m1_center</td><td>-0.9983</td></tr><tr><td>m0_amplitude</td><td>m1_center</td><td>0.9981</td></tr><tr><td>m0_center</td><td>m1_amplitude</td><td>0.9947</td></tr><tr><td>m0_sigma</td><td>m1_amplitude</td><td>-0.9945</td></tr><tr><td>m0_center</td><td>m1_sigma</td><td>0.9943</td></tr><tr><td>m0_sigma</td><td>m1_sigma</td><td>-0.9940</td></tr><tr><td>m1_amplitude</td><td>m1_center</td><td>-0.9939</td></tr><tr><td>m1_center</td><td>m1_sigma</td><td>-0.9934</td></tr><tr><td>m2_amplitude</td><td>m2_sigma</td><td>0.9400</td></tr><tr><td>m2_amplitude</td><td>m2_center</td><td>-0.8652</td></tr><tr><td>m2_center</td><td>m2_sigma</td><td>-0.8294</td></tr><tr><td>m3_amplitude</td><td>m3_sigma</td><td>0.6316</td></tr><tr><td>m1_sigma</td><td>m2_center</td><td>0.5284</td></tr><tr><td>m1_amplitude</td><td>m2_center</td><td>0.5256</td></tr><tr><td>m0_amplitude</td><td>m2_center</td><td>-0.4928</td></tr><tr><td>m1_center</td><td>m2_center</td><td>-0.4622</td></tr><tr><td>m0_sigma</td><td>m2_center</td><td>-0.4566</td></tr><tr><td>m0_center</td><td>m2_center</td><td>0.4527</td></tr><tr><td>m1_center</td><td>m3_amplitude</td><td>-0.2440</td></tr><tr><td>m0_sigma</td><td>m3_amplitude</td><td>-0.2432</td></tr><tr><td>m0_center</td><td>m3_amplitude</td><td>0.2376</td></tr><tr><td>m0_amplitude</td><td>m3_amplitude</td><td>-0.2293</td></tr><tr><td>m1_amplitude</td><td>m3_amplitude</td><td>0.2160</td></tr><tr><td>m1_sigma</td><td>m3_amplitude</td><td>0.2147</td></tr><tr><td>m1_sigma</td><td>m2_amplitude</td><td>-0.1965</td></tr><tr><td>m1_amplitude</td><td>m2_amplitude</td><td>-0.1926</td></tr><tr><td>m1_center</td><td>m3_sigma</td><td>-0.1517</td></tr><tr><td>m0_sigma</td><td>m3_sigma</td><td>-0.1512</td></tr><tr><td>m0_amplitude</td><td>m2_amplitude</td><td>0.1488</td></tr><tr><td>m0_center</td><td>m3_sigma</td><td>0.1477</td></tr><tr><td>m0_amplitude</td><td>m3_sigma</td><td>-0.1425</td></tr><tr><td>m1_amplitude</td><td>m3_sigma</td><td>0.1343</td></tr><tr><td>m1_sigma</td><td>m3_sigma</td><td>0.1334</td></tr><tr><td>m2_amplitude</td><td>m3_amplitude</td><td>0.1290</td></tr><tr><td>m2_sigma</td><td>m3_amplitude</td><td>0.1161</td></tr><tr><td>m1_center</td><td>m2_amplitude</td><td>0.1100</td></tr><tr><td>m0_sigma</td><td>m2_amplitude</td><td>0.1015</td></tr></table>"
      ],
      "text/plain": [
       "<lmfit.model.ModelResult at 0x19ac5529ac8>"
      ]
     },
     "execution_count": 39,
     "metadata": {},
     "output_type": "execute_result"
    }
   ],
   "source": [
    "output"
   ]
  },
  {
   "cell_type": "code",
   "execution_count": null,
   "metadata": {},
   "outputs": [],
   "source": []
  }
 ],
 "metadata": {
  "kernelspec": {
   "display_name": "Python 3",
   "language": "python",
   "name": "python3"
  },
  "language_info": {
   "codemirror_mode": {
    "name": "ipython",
    "version": 3
   },
   "file_extension": ".py",
   "mimetype": "text/x-python",
   "name": "python",
   "nbconvert_exporter": "python",
   "pygments_lexer": "ipython3",
   "version": "3.7.6"
  },
  "widgets": {
   "application/vnd.jupyter.widget-state+json": {
    "state": {},
    "version_major": 2,
    "version_minor": 0
   }
  }
 },
 "nbformat": 4,
 "nbformat_minor": 4
}
