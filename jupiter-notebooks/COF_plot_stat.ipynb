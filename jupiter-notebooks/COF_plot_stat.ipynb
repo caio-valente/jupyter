{
 "cells": [
  {
   "cell_type": "markdown",
   "metadata": {},
   "source": [
    "# COF_plot_stat.py\n",
    "\n",
    "O seguinte programa faz a plotagem e tratamento estatístico dos arquivos .csv obtidos nos ensaios *reciprocating* em Tribômetro Bruker UMT. Após o ensaio, o arquivo .tst é interpretado pelo programa Viewer e exportado para .csv, o qual é lido pelo programa abaixo.  \n",
    "\n",
    "## Bibliotecas\n",
    "\n",
    "O programa utiliza as bibliotecas:  \n",
    "    - Numpy: para trabalhar com operações e constantes matemáticas  \n",
    "    - Pandas: para trabalhar com DataFrames e DataSeries, que são formas de armazenar os dados do ensaio. A primeira é multi-dimensional, enquanto a segunda é unidimensional  \n",
    "    - Matplotlib: para plotar os gráficos  \n",
    "    - Axes3D: para gráficos 3D  \n",
    "    - Matplotlib.cm: para esquemas de cores  "
   ]
  },
  {
   "cell_type": "code",
   "execution_count": 1,
   "metadata": {},
   "outputs": [],
   "source": [
    "#bibliotecas\n",
    "import numpy as np\n",
    "import pandas as pd\n",
    "import matplotlib.pyplot as plt\n",
    "from mpl_toolkits.mplot3d import Axes3D\n",
    "import matplotlib.cm as cmx"
   ]
  },
  {
   "cell_type": "markdown",
   "metadata": {},
   "source": [
    "## Funções\n",
    "As funções são utilizadas para deixar o programa mais limpo e de mais fácil leitura. São elas:\n",
    "- scatter3d(): para plotar um gráfico de dispersão tridimensional, onde um dos eixos tem codificação de cor\n",
    "- OpenCSVs(): abre os arquivos .csv e armazena em uma lista (data) em que cada elemento é um DataFrame de um arquivo\n",
    "- getDuration(): retorna a duração de um ensaio passado como parâmetro na forma de DataFrame\n",
    "- getFrequency(): retorna a frequência de oscilação utilizada no ensaio. Assume que a duração do ensaio é função apenas da frequência.\n",
    "- getZero(): retorna o tempo em segundos que aparece o mínimo coeficiente de atrito, ou seja, o tempo onde a velocidade é revertida.\n",
    "- getVelocity(): retorna a velocidade instantânea no MHS, com base nos parâmetros passados"
   ]
  },
  {
   "cell_type": "markdown",
   "metadata": {},
   "source": [
    "### scatter3d()\n",
    "**Entradas**\n",
    "- x: coluna de dados de um DataFrame correspondente ao eixo x do gráfico 3D\n",
    "- y: coluna de dados de um DataFrame correspondente ao eixo y do gráfico 3D\n",
    "- z: coluna de dados de um DataFrame correspondente ao eixo z do gráfico 3D\n",
    "- cs: coluna de dados de um DataFrame utilizada para determinar as cores dos pontos\n",
    "- it: número a ser colocado no arquivo de saída .png\n",
    "- colorsMap: esquema de cores utilizado; padrão 'coolwarm' azul(-) e vermelho(+)\n",
    "\n",
    "**Saídas**\n",
    "- retorna: nada\n",
    "- salva o arquivo .png em disco\n",
    "\n",
    "**Configurações**\n",
    "- ax.set_(x/y/z)label('string'): Muda o rótulo do eixo x/y/z para 'string'\n",
    "- ax.set_(x/y/z)lim(a,b): configura os pontos zero e máximo do eixo x/y/z para a e b, respectivamente\n",
    "- ax.(x/y/z)axis.labelpad=N: configura um espaçamento em torno dos rótulos dos eixos (x/y/z) igual a N\n",
    "- ax.dist = M: configura uma distância de 'observação' do gráfico, necessário para não cortar as legendas\n",
    "- shrink = 0.8 (em fig.colorbar): configura o redimensionamento da barra de cores em relação a altura da figura\n",
    "- local e material: variaveis globais (provavelmente seja melhor alterar para parâmetros)"
   ]
  },
  {
   "cell_type": "code",
   "execution_count": 3,
   "metadata": {},
   "outputs": [],
   "source": [
    "#funções\n",
    "def scatter3d(x,y,z, cs,it, colorsMap='coolwarm'):\n",
    "    cm = plt.get_cmap(colorsMap)\n",
    "    cNorm = cmx.colors.Normalize(vmin=min(cs), vmax=max(cs))\n",
    "    scalarMap = cmx.ScalarMappable(norm=cNorm, cmap=cm)\n",
    "    fig = plt.figure()\n",
    "    ax = Axes3D(fig)\n",
    "    ax.scatter(x, y, z, c=scalarMap.to_rgba(cs),s=0.1,)\n",
    "    ax.set_zlabel('COF')\n",
    "    ax.set_zlim(0,0.5)\n",
    "    ax.set_ylabel('Time')\n",
    "    ax.set_xlabel('Position')\n",
    "    ax.xaxis.labelpad=20\n",
    "    ax.yaxis.labelpad=20\n",
    "    ax.zaxis.labelpad=20\n",
    "    ax.dist = 13\n",
    "    scalarMap.set_array(cs)\n",
    "    fig.colorbar(scalarMap, shrink = 0.8)\n",
    "    plt.savefig(local+'/'+material+'/'+'Graphs'+'/'+'Triboscopia_'+str(it),dpi=300,)"
   ]
  },
  {
   "cell_type": "markdown",
   "metadata": {},
   "source": [
    "### OpenCSVs()\n",
    "**Entradas**\n",
    "- local: string com o local do arquivo (pasta com todos os CSVs). A notação deve ser com barras /, não com contrabarras \\\n",
    "- material: string com o nome da pasta com o material dentro de local\n",
    "- nome: string com o nome do arquivo (exceto _###)\n",
    "- inicio: int, primeiro número de arquivo\n",
    "- fim: int, último número de arquivo\n",
    "- colunas: quais colunas importar do arquivo do tribômetro\n",
    "\n",
    "**Saídas**\n",
    "- dados: lista retornada. Cada elemento da lista é um DataFrame com todos os dados de cada experimento. Caso um arquivo não seja encontrado, o elemento terá valor None"
   ]
  },
  {
   "cell_type": "code",
   "execution_count": null,
   "metadata": {},
   "outputs": [],
   "source": [
    "def OpenCSVs(local,material,nome,inicio,fim,colunas):\n",
    "    \"\"\"\n",
    "    abre os arquivos .csv na string 'local', string 'nome', desde o índice de\n",
    "    arquivo _00 inicio até _ fim. Somente importa as colunas passadas na lista\n",
    "    de inteiros colunas\n",
    "    \"\"\"\n",
    "    dados = []\n",
    "    for i in range(fim-inicio+1):\n",
    "        if i<=8:\n",
    "            filename = local+'/'+material+'/'+nome+'_00'+str(i+1)+'.csv'\n",
    "        elif i<=98:\n",
    "            filename = local+'/'+material+'/'+nome+'_0'+str(i+1)+'.csv'\n",
    "        else:\n",
    "            filename = local+'/'+material+'/'+nome+'_'+str(i+1)+'.csv'\n",
    "        try:\n",
    "            dados.append(pd.read_csv(filename, header=17, skiprows = [21], \n",
    "                        usecols = colunas,\n",
    "                        dtype = {'Fx': np.float64, 'Fz': np.float64,\n",
    "                                 'COF': np.float64}))\n",
    "        except FileNotFoundError:\n",
    "            data.append(None)\n",
    "            continue\n",
    "    return dados"
   ]
  },
  {
   "cell_type": "markdown",
   "metadata": {},
   "source": [
    "### getDuration()\n",
    "**Entradas**\n",
    "- ensaio: DataFrame com um ensaio\n",
    "\n",
    "**Saídas**\n",
    "- duracao: retorna um int com o número de milissegundos (assumindo taxa de aquisição de 1000Hz) de duracao\n",
    "\n",
    "**OBS**\n",
    "Não está sendo utilizado, substituido por DataFrame['T'].max()"
   ]
  },
  {
   "cell_type": "code",
   "execution_count": null,
   "metadata": {},
   "outputs": [],
   "source": [
    "def getDuration(ensaio):\n",
    "    duracao = ensaio.shape[0]\n",
    "    return duracao"
   ]
  },
  {
   "cell_type": "markdown",
   "metadata": {},
   "source": [
    "### getFrequency()\n",
    "**Entradas**\n",
    "- ensaio: DataFrame com um ensaio\n",
    "\n",
    "**Saídas**\n",
    "- freq: inteiro com valor 2 ou 4, dependendo da duração do ensaio *(funciona apenas para distância constante)*. Caso não consiga encontrar um valor, a frequência retorna 0."
   ]
  },
  {
   "cell_type": "code",
   "execution_count": null,
   "metadata": {},
   "outputs": [],
   "source": [
    "def getFrequency(ensaio):  \n",
    "    if ensaio.index.max() >= 1615000 and ensaio.index.max() <= 1616000:\n",
    "        freq = 2.\n",
    "    elif ensaio.index.max() >= 809000 and ensaio.index.max() <= 810000:\n",
    "        freq = 4.\n",
    "    else:\n",
    "        freq = 0\n",
    "    return freq"
   ]
  },
  {
   "cell_type": "markdown",
   "metadata": {},
   "source": [
    "### getZero()\n",
    "**Entradas**\n",
    "- ensaio: DataFrame com um ensaio\n",
    "\n",
    "**Saídas**\n",
    "- retorna o valor de 'T' (coluna 0) cujo COF seja o menor, considerando os últimos 100 segundos de ensaio"
   ]
  },
  {
   "cell_type": "code",
   "execution_count": null,
   "metadata": {},
   "outputs": [],
   "source": [
    "def getZero(ensaio):\n",
    "    return ensaio.tail(n = 100000).nsmallest(1,'COF').iat[0,0]"
   ]
  },
  {
   "cell_type": "markdown",
   "metadata": {},
   "source": [
    "### getVelocity()\n",
    "**Entradas**\n",
    "- t: tempo no instante que se deseja calcular a velocidade\n",
    "- t0: tempo no qual o coeficiente de atrito é mínimo (quando a velocidade reverte)\n",
    "- stroke: comprimento do stroke no ensaio\n",
    "- f: frequencia\n",
    "\n",
    "**Saídas**\n",
    "- V: float, retorna a velocidade instantânea em mm/s"
   ]
  },
  {
   "cell_type": "code",
   "execution_count": null,
   "metadata": {},
   "outputs": [],
   "source": [
    "def getVelocity(t,t0,stroke,f):\n",
    "    V = (- stroke * np.pi * f * np.sin(2.*np.pi*f*((t-t0))))\n",
    "    return V"
   ]
  },
  {
   "cell_type": "markdown",
   "metadata": {},
   "source": [
    "## Programa Principal\n",
    "### Dados de Entrada\n",
    "- startfile: número do primeiro arquivo a ser lido (int)\n",
    "- endfile: número do último arquivo a ser lido (int)\n",
    "- local: caminho para a pasta onde estão os arquivos .csv (string)\n",
    "- material: nome da pasta onde estão os arquivos de determinado material (string)\n",
    "- name: nome do arquivo (sem a parte \\_números) (string)\n",
    "- columns: colunas que devem ser importadas do .csv (lista de ints)"
   ]
  },
  {
   "cell_type": "code",
   "execution_count": null,
   "metadata": {},
   "outputs": [],
   "source": [
    "#DADOS ENTRADA\n",
    "startfile = 1\n",
    "endfile = 12\n",
    "local = 'C:/Users/caiot/OneDrive/Documentos/Python/Results/CSV'\n",
    "material = 'PUEG2'\n",
    "name = 'PV_Limite'\n",
    "columns = [0,1,2,3,6]"
   ]
  },
  {
   "cell_type": "markdown",
   "metadata": {},
   "source": [
    "### Dados de Ensaio\n",
    "- distancia: em metros, distancia total de deslizamento\n",
    "- stroke: em milímetros, distância de um semi-ciclo (amplitude MHS)"
   ]
  },
  {
   "cell_type": "code",
   "execution_count": null,
   "metadata": {},
   "outputs": [],
   "source": [
    "#DADOS ENSAIO\n",
    "distancia = 30\n",
    "stroke = 4.65"
   ]
  },
  {
   "cell_type": "markdown",
   "metadata": {},
   "source": [
    "### Dados da Análise\n",
    "- L: número inteiro, onde 1/L*100 representa a percentagem final do ensaio que será analisada (definição de steady-state)"
   ]
  },
  {
   "cell_type": "code",
   "execution_count": null,
   "metadata": {},
   "outputs": [],
   "source": [
    "#DADOS ANÁLISE\n",
    "L = 20 #região analisada (últimos [1/L]*100% do ensaio)"
   ]
  },
  {
   "cell_type": "markdown",
   "metadata": {},
   "source": [
    "### Passo 1\n",
    "Carrega os dados brutos na lista data (cada elemento é um DataFrame de dados brutos importados do .csv)."
   ]
  },
  {
   "cell_type": "code",
   "execution_count": null,
   "metadata": {},
   "outputs": [],
   "source": [
    "#PROGRAMA PRINCIPAL\n",
    "#%%\n",
    "#Lista data de dados brutos\n",
    "print('Carregando dados...')\n",
    "data = OpenCSVs(local,material,name,startfile,endfile,columns)\n",
    "print('Dados carregados com sucesso!')"
   ]
  },
  {
   "cell_type": "markdown",
   "metadata": {},
   "source": [
    "### Passo 2\n",
    "Seleciona os dados da percentagem final (tempo/tempo) do ensaio. Os elementos da lista **end** são dataframes com os dados da porção final dos ensaios."
   ]
  },
  {
   "cell_type": "code",
   "execution_count": null,
   "metadata": {},
   "outputs": [],
   "source": [
    "#%%\n",
    "#Lista end de últimos 100/L% segundos de ensaio\n",
    "end = []\n",
    "print('Selecionando dados de fim de ensaio (steady-state)...')\n",
    "for ensaio in data:\n",
    "    end.append(ensaio.tail(n = 1 + ensaio.shape[0]//L))\n",
    "print('Dados selecionados com sucesso! Total de: ' + str(len(end)) + ' ensaios.')"
   ]
  },
  {
   "cell_type": "markdown",
   "metadata": {},
   "source": [
    "### Passo 3\n",
    "Os elementos da lista **newend** contém duas colunas a mais que **end**:\n",
    "- X: Com as posições em relação ao MHS\n",
    "- V: Com as velocidades instantâneas a cada ponto"
   ]
  },
  {
   "cell_type": "code",
   "execution_count": null,
   "metadata": {},
   "outputs": [],
   "source": [
    "#%%\n",
    "#Lista newend = end + coluna(X) + coluna(V)\n",
    "newend = []\n",
    "for df in end:\n",
    "    f = getFrequency(df)\n",
    "    zero = getZero(df)\n",
    "    df = df.assign(V = - stroke * np.pi * f * \n",
    "                       np.sin((2.*np.pi*f)*(df['T'] - zero)),\n",
    "                    X = stroke * np.cos(2.*np.pi*f*(df['T']-zero)))\n",
    "    newend.append(df)"
   ]
  },
  {
   "cell_type": "markdown",
   "metadata": {},
   "source": [
    "### Passo 4\n",
    "Os elementos da lista **newdata** contêm duas colunas a mais que **data**:\n",
    "- X: Com as posições em relação ao MHS\n",
    "- V: Com as velocidades instantâneas a cada ponto\n",
    "\n",
    "OBS: Fazer este passo antes do Passo 2 e selecionando os pontos finais para a **end** por meio da **newdata** pode acelerar o programa."
   ]
  },
  {
   "cell_type": "code",
   "execution_count": null,
   "metadata": {},
   "outputs": [],
   "source": [
    "#%%\n",
    "#Lista newdata = data + coluna(X) + coluna(V)\n",
    "newdata = []\n",
    "for df in data:\n",
    "    f = getFrequency(df)\n",
    "    zero = getZero(df)\n",
    "    df = df.assign(V = - stroke * np.pi * f * \n",
    "                       np.sin((2.*np.pi*f)*(df['T'] - zero)),\n",
    "                    X = stroke * np.cos(2.*np.pi*f*(df['T']-zero)))\n",
    "    newdata.append(df)"
   ]
  },
  {
   "cell_type": "markdown",
   "metadata": {},
   "source": [
    "### Passo 5\n",
    "Listas **end_v(1/2)** são criadas, para separar o COF numa direção (e acima da velocidade média) da outra direção. "
   ]
  },
  {
   "cell_type": "code",
   "execution_count": null,
   "metadata": {},
   "outputs": [],
   "source": [
    "#%%\n",
    "# Lista end_v apenas com pontos onde V > Vmed\n",
    "print('Selecionando pontos com velocidade superior da média...')\n",
    "end_v1 = []\n",
    "end_v2 = []\n",
    "i = 0\n",
    "for df in newend:\n",
    "    i = i + 1\n",
    "    Vmed = (distancia * 1000) / df['T'].max()\n",
    "    print('... para o ensaio '+str(i)+'...')\n",
    "    end_v1.append(df[df.V >= Vmed])\n",
    "    end_v2.append(df[df.V <= -Vmed])\n",
    "print('Processo de seleção finalizado com sucesso!')"
   ]
  },
  {
   "cell_type": "markdown",
   "metadata": {},
   "source": [
    "### Passo 6\n",
    "As estatísticas são calculadas para as listas **end_v1** e **end_v2**. Então uma lista de estatísticas é gerada a partir das maiores observações de COF_médio para cada lista. Ou seja, está sendo considerado o coeficiente de atrito maior em relação as direções de deslizamento. O motivo para a discrepância de COFs para as direções pode ser a falta de nivelamento da amostra em relação ao movimento."
   ]
  },
  {
   "cell_type": "code",
   "execution_count": null,
   "metadata": {},
   "outputs": [],
   "source": [
    "#%%\n",
    "print('Calculando estatísticas...')\n",
    "stat1 = []\n",
    "stat2 = []\n",
    "stat = []\n",
    "dados_max = []\n",
    "for ensaio in end_v1:\n",
    "    stat1.append(ensaio.describe())\n",
    "for ensaio in end_v2:\n",
    "    stat2.append(ensaio.describe())\n",
    "for index in range(endfile-startfile+1):\n",
    "    if (stat1[index].at['mean','COF']>=stat2[index].at['mean','COF']):\n",
    "        stat.append(stat1[index])\n",
    "        dados_max.append(1)\n",
    "    else:\n",
    "        stat.append(stat2[index])\n",
    "        dados_max.append(2)\n",
    "print('Estatísticas calculadas com sucesso!')"
   ]
  },
  {
   "cell_type": "markdown",
   "metadata": {},
   "source": [
    "### Passo 7\n",
    "As estatísticas calculadas no passo anterior são gravadas em arquivo .csv, na mesma pasta do material, em uma sub-pasta de nome 'Stats'. Apenas o COF_médio e COF_desvpad são exportados."
   ]
  },
  {
   "cell_type": "code",
   "execution_count": null,
   "metadata": {},
   "outputs": [],
   "source": [
    "#%%    \n",
    "print('Gerando saída das estatísticas...')\n",
    "csv_out = pd.DataFrame()\n",
    "for result in stat:\n",
    "    output = pd.DataFrame([[result.at['mean','COF'],result.at['std','COF']]],\n",
    "                          columns = ['mean_COF','COF_stdev'])\n",
    "    csv_out = csv_out.append(output, ignore_index = True)\n",
    "\n",
    "csv_out.to_csv(local+'/'+material+'/'+'Stats'+'/'+'stats_'+name+'.csv')\n",
    "print('As estatísticas foram exportadas para o arquivo ' + name + '.csv')"
   ]
  },
  {
   "cell_type": "markdown",
   "metadata": {},
   "source": [
    "### Passo 8\n",
    "Plotagem dos gráficos 2D, a partir das listas **newend**, **end_v1** e **end_v2**"
   ]
  },
  {
   "cell_type": "code",
   "execution_count": null,
   "metadata": {},
   "outputs": [],
   "source": [
    "#%%\n",
    "print('Plotando gráficos 2D...')\n",
    "i = 0\n",
    "for ensaio in newend:          \n",
    "    i = i+1\n",
    "    ensaio.plot(kind='scatter',x='T',y='COF',s=0.1,ylim=[0,0.5],color='red')\n",
    "    plt.savefig(local+'/'+material+'/'+'Graphs'+'/'+'COF_'+str(i),dpi=300,)\n",
    "    \n",
    "i = 0\n",
    "for ensaio in end_v1:\n",
    "    i = i+1\n",
    "    if dados_max[i-1]==1:\n",
    "        n = 'COF_Vmed+'\n",
    "    else:\n",
    "        n = 'COF_Vmed-'\n",
    "    ensaio.plot(kind='scatter',x='T',y='COF',s=0.1,ylim=[0,0.5],color='blue')\n",
    "    plt.savefig(local+'/'+material+'/'+'Graphs'+'/'+n+str(i),dpi=300,)\n",
    "i = 0\n",
    "for ensaio in end_v2:\n",
    "    i = i+1\n",
    "    if dados_max[i-1]==2:\n",
    "        n = 'COF_Vmed+'\n",
    "    else:\n",
    "        n = 'COF_Vmed-'\n",
    "    ensaio.plot(kind='scatter',x='T',y='COF',s=0.1,ylim=[0,0.5],color='blue')\n",
    "    plt.savefig(local+'/'+material+'/'+'Graphs'+'/'+n+str(i),dpi=300,)\n",
    "print('Os gráficos foram plotados com sucesso!')"
   ]
  },
  {
   "cell_type": "markdown",
   "metadata": {},
   "source": [
    "### Passo 9\n",
    "Plotagem dos gráficos 3D, a partir de **newdata**"
   ]
  },
  {
   "cell_type": "code",
   "execution_count": null,
   "metadata": {},
   "outputs": [],
   "source": [
    "#%%\n",
    "print('Plotando gráficos 3D...')\n",
    "i = 0\n",
    "for ensaio in newdata:\n",
    "    i=i+1\n",
    "    scatter3d(ensaio['X'],ensaio['T'],ensaio['COF'],ensaio['COF'],i)\n",
    "print('Os gráficos foram plotados com sucesso!')"
   ]
  }
 ],
 "metadata": {
  "kernelspec": {
   "display_name": "Python 3",
   "language": "python",
   "name": "python3"
  },
  "language_info": {
   "codemirror_mode": {
    "name": "ipython",
    "version": 3
   },
   "file_extension": ".py",
   "mimetype": "text/x-python",
   "name": "python",
   "nbconvert_exporter": "python",
   "pygments_lexer": "ipython3",
   "version": "3.7.4"
  }
 },
 "nbformat": 4,
 "nbformat_minor": 4
}
