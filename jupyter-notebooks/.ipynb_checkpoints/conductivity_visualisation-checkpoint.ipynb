{
 "cells": [
  {
   "cell_type": "markdown",
   "metadata": {},
   "source": [
    "# Visualização de dados de Condutividade"
   ]
  },
  {
   "cell_type": "markdown",
   "metadata": {},
   "source": [
    "## Descrição\n",
    "Foram realizadas medições de corrente em tensão DC constante, em amostras de PU com 4% de grafite expandido (EG) e PU com 10% de polianilina (PAni). Esta polianilina é de uma síntese antiga do prof. Cruz, e utiliza um método diferente do atual.\n",
    "\n",
    "A amostra de PU+4%EG foi submetida a uma tensão em corrente contínua constante e igual a 2V, em três repetições deste ensaio.\n",
    "\n",
    "A amostra de PU+10%PAni foi submetida a tensões em corrente contínua constantes e iguais a 1V, 2V e 3V, em uma única repetição destes ensaios.\n",
    "\n",
    "**Novos ensaios:**\n",
    "\n",
    "Tensões:\n",
    " - 1V\n",
    " - 2V\n",
    " - 3V\n",
    "\n",
    "Repetições: 3\n",
    "\n",
    "Materiais:\n",
    "- PU Puro\n",
    "- PU + 1% NPG\n",
    "- PU + 2% NPG\n",
    "- PU + 4% NPG\n",
    "- PU + 10% NPG\n",
    "\n",
    "Os dados foram obtidos no software PSTrace 5.7 e exportados para arquivos .csv\n",
    "> OBS: Os arquivos exportados pelo programa dão um erro na leitura com a biblioteca Pandas, então eu manualmente copiei o conteúdo do arquivo para um .csv vazio. To do: descobrir o problema de exportação."
   ]
  },
  {
   "cell_type": "markdown",
   "metadata": {},
   "source": [
    "### Importando as bibliotecas necessárias e os dados dos arquivos .csv"
   ]
  },
  {
   "cell_type": "code",
   "execution_count": 1,
   "metadata": {},
   "outputs": [],
   "source": [
    "import plotly.express as px\n",
    "import plotly.graph_objects as go\n",
    "import plotly.io as pio #graph output\n",
    "\n",
    "import pandas as pd\n",
    "pd.options.plotting.backend = \"plotly\"\n",
    "import numpy as np\n",
    "\n",
    "from ipywidgets import interact\n",
    "from pathlib import Path"
   ]
  },
  {
   "cell_type": "code",
   "execution_count": 2,
   "metadata": {},
   "outputs": [],
   "source": [
    "p = Path.home()\n",
    "p = p/'OneDrive'/'Documentos'/'Python'/'Results'/'Chronoamperometry'/'Final'\n",
    "\n",
    "materials = ['PU', 'PUEG1', 'PUEG2', 'PUEG4', 'PUEG10']\n",
    "# filename = r'C:\\Users\\Caio\\OneDrive\\Documentos\\Python\\Results\\CSV\\PUPAni10\\Condutividade\\1V-2V-3V10schronoamperometry.csv'\n",
    "\n",
    "# df = pd.read_csv(filename,\n",
    "#                  header=4,\n",
    "#                  #verbose=True\n",
    "#                 )\n",
    "# df['Material'] = 'PUPANI10'\n",
    "# df.columns=['s','ÂµA','s.1','ÂµA.1','s.2','ÂµA.2','Material']\n",
    "df =  pd.DataFrame()\n",
    "for material in materials:\n",
    "    filename = p/material\n",
    "    ndf = pd.read_csv(filename.with_suffix('.csv'),\n",
    "                     header=4,\n",
    "                     #verbose=True,\n",
    "                     skipfooter=1,\n",
    "                     engine = 'python'\n",
    "                    )\n",
    "    ndf['Material'] = material\n",
    "    df = df.append(ndf, ignore_index = True)"
   ]
  },
  {
   "cell_type": "code",
   "execution_count": 3,
   "metadata": {},
   "outputs": [
    {
     "data": {
      "text/html": [
       "<div>\n",
       "<style scoped>\n",
       "    .dataframe tbody tr th:only-of-type {\n",
       "        vertical-align: middle;\n",
       "    }\n",
       "\n",
       "    .dataframe tbody tr th {\n",
       "        vertical-align: top;\n",
       "    }\n",
       "\n",
       "    .dataframe thead th {\n",
       "        text-align: right;\n",
       "    }\n",
       "</style>\n",
       "<table border=\"1\" class=\"dataframe\">\n",
       "  <thead>\n",
       "    <tr style=\"text-align: right;\">\n",
       "      <th></th>\n",
       "      <th>s</th>\n",
       "      <th>ÂµA</th>\n",
       "      <th>s.1</th>\n",
       "      <th>ÂµA.1</th>\n",
       "      <th>s.2</th>\n",
       "      <th>ÂµA.2</th>\n",
       "      <th>s.3</th>\n",
       "      <th>ÂµA.3</th>\n",
       "      <th>s.4</th>\n",
       "      <th>ÂµA.4</th>\n",
       "      <th>s.5</th>\n",
       "      <th>ÂµA.5</th>\n",
       "      <th>s.6</th>\n",
       "      <th>ÂµA.6</th>\n",
       "      <th>s.7</th>\n",
       "      <th>ÂµA.7</th>\n",
       "      <th>s.8</th>\n",
       "      <th>ÂµA.8</th>\n",
       "      <th>Material</th>\n",
       "    </tr>\n",
       "  </thead>\n",
       "  <tbody>\n",
       "    <tr>\n",
       "      <th>0</th>\n",
       "      <td>0.00</td>\n",
       "      <td>0.000428</td>\n",
       "      <td>0.00</td>\n",
       "      <td>0.000228</td>\n",
       "      <td>0.00</td>\n",
       "      <td>0.000345</td>\n",
       "      <td>0.00</td>\n",
       "      <td>0.000149</td>\n",
       "      <td>0.00</td>\n",
       "      <td>0.000088</td>\n",
       "      <td>0.00</td>\n",
       "      <td>0.000140</td>\n",
       "      <td>0.00</td>\n",
       "      <td>0.000032</td>\n",
       "      <td>0.00</td>\n",
       "      <td>0.000081</td>\n",
       "      <td>0.00</td>\n",
       "      <td>0.000104</td>\n",
       "      <td>PU</td>\n",
       "    </tr>\n",
       "    <tr>\n",
       "      <th>1</th>\n",
       "      <td>0.01</td>\n",
       "      <td>0.000233</td>\n",
       "      <td>0.01</td>\n",
       "      <td>0.000138</td>\n",
       "      <td>0.01</td>\n",
       "      <td>0.000266</td>\n",
       "      <td>0.01</td>\n",
       "      <td>0.000158</td>\n",
       "      <td>0.01</td>\n",
       "      <td>0.000038</td>\n",
       "      <td>0.01</td>\n",
       "      <td>0.000015</td>\n",
       "      <td>0.01</td>\n",
       "      <td>0.000091</td>\n",
       "      <td>0.01</td>\n",
       "      <td>-0.000032</td>\n",
       "      <td>0.01</td>\n",
       "      <td>0.000070</td>\n",
       "      <td>PU</td>\n",
       "    </tr>\n",
       "    <tr>\n",
       "      <th>2</th>\n",
       "      <td>0.02</td>\n",
       "      <td>0.000195</td>\n",
       "      <td>0.02</td>\n",
       "      <td>0.000115</td>\n",
       "      <td>0.02</td>\n",
       "      <td>0.000155</td>\n",
       "      <td>0.02</td>\n",
       "      <td>0.000056</td>\n",
       "      <td>0.02</td>\n",
       "      <td>0.000096</td>\n",
       "      <td>0.02</td>\n",
       "      <td>0.000078</td>\n",
       "      <td>0.02</td>\n",
       "      <td>0.000030</td>\n",
       "      <td>0.02</td>\n",
       "      <td>0.000074</td>\n",
       "      <td>0.02</td>\n",
       "      <td>-0.000002</td>\n",
       "      <td>PU</td>\n",
       "    </tr>\n",
       "    <tr>\n",
       "      <th>3</th>\n",
       "      <td>0.03</td>\n",
       "      <td>0.000181</td>\n",
       "      <td>0.03</td>\n",
       "      <td>0.000111</td>\n",
       "      <td>0.03</td>\n",
       "      <td>0.000208</td>\n",
       "      <td>0.03</td>\n",
       "      <td>0.000102</td>\n",
       "      <td>0.03</td>\n",
       "      <td>0.000018</td>\n",
       "      <td>0.03</td>\n",
       "      <td>0.000064</td>\n",
       "      <td>0.03</td>\n",
       "      <td>-0.000006</td>\n",
       "      <td>0.03</td>\n",
       "      <td>-0.000003</td>\n",
       "      <td>0.03</td>\n",
       "      <td>0.000066</td>\n",
       "      <td>PU</td>\n",
       "    </tr>\n",
       "    <tr>\n",
       "      <th>4</th>\n",
       "      <td>0.04</td>\n",
       "      <td>0.000072</td>\n",
       "      <td>0.04</td>\n",
       "      <td>0.000055</td>\n",
       "      <td>0.04</td>\n",
       "      <td>0.000080</td>\n",
       "      <td>0.04</td>\n",
       "      <td>0.000058</td>\n",
       "      <td>0.04</td>\n",
       "      <td>0.000053</td>\n",
       "      <td>0.04</td>\n",
       "      <td>0.000012</td>\n",
       "      <td>0.04</td>\n",
       "      <td>0.000063</td>\n",
       "      <td>0.04</td>\n",
       "      <td>0.000025</td>\n",
       "      <td>0.04</td>\n",
       "      <td>-0.000022</td>\n",
       "      <td>PU</td>\n",
       "    </tr>\n",
       "    <tr>\n",
       "      <th>...</th>\n",
       "      <td>...</td>\n",
       "      <td>...</td>\n",
       "      <td>...</td>\n",
       "      <td>...</td>\n",
       "      <td>...</td>\n",
       "      <td>...</td>\n",
       "      <td>...</td>\n",
       "      <td>...</td>\n",
       "      <td>...</td>\n",
       "      <td>...</td>\n",
       "      <td>...</td>\n",
       "      <td>...</td>\n",
       "      <td>...</td>\n",
       "      <td>...</td>\n",
       "      <td>...</td>\n",
       "      <td>...</td>\n",
       "      <td>...</td>\n",
       "      <td>...</td>\n",
       "      <td>...</td>\n",
       "    </tr>\n",
       "    <tr>\n",
       "      <th>4999</th>\n",
       "      <td>9.96</td>\n",
       "      <td>6616.660000</td>\n",
       "      <td>9.96</td>\n",
       "      <td>13847.400000</td>\n",
       "      <td>9.96</td>\n",
       "      <td>28622.300000</td>\n",
       "      <td>9.96</td>\n",
       "      <td>6641.660000</td>\n",
       "      <td>9.96</td>\n",
       "      <td>13900.500000</td>\n",
       "      <td>9.96</td>\n",
       "      <td>27091.000000</td>\n",
       "      <td>9.96</td>\n",
       "      <td>6652.910000</td>\n",
       "      <td>9.96</td>\n",
       "      <td>13931.800000</td>\n",
       "      <td>9.96</td>\n",
       "      <td>26366.000000</td>\n",
       "      <td>PUEG10</td>\n",
       "    </tr>\n",
       "    <tr>\n",
       "      <th>5000</th>\n",
       "      <td>9.97</td>\n",
       "      <td>6621.040000</td>\n",
       "      <td>9.97</td>\n",
       "      <td>13839.300000</td>\n",
       "      <td>9.97</td>\n",
       "      <td>28647.300000</td>\n",
       "      <td>9.97</td>\n",
       "      <td>6641.660000</td>\n",
       "      <td>9.97</td>\n",
       "      <td>13899.900000</td>\n",
       "      <td>9.97</td>\n",
       "      <td>27084.800000</td>\n",
       "      <td>9.97</td>\n",
       "      <td>6648.540000</td>\n",
       "      <td>9.97</td>\n",
       "      <td>13933.000000</td>\n",
       "      <td>9.97</td>\n",
       "      <td>26366.000000</td>\n",
       "      <td>PUEG10</td>\n",
       "    </tr>\n",
       "    <tr>\n",
       "      <th>5001</th>\n",
       "      <td>9.98</td>\n",
       "      <td>6617.290000</td>\n",
       "      <td>9.98</td>\n",
       "      <td>13843.600000</td>\n",
       "      <td>9.98</td>\n",
       "      <td>28634.800000</td>\n",
       "      <td>9.98</td>\n",
       "      <td>6642.290000</td>\n",
       "      <td>9.98</td>\n",
       "      <td>13901.800000</td>\n",
       "      <td>9.98</td>\n",
       "      <td>27084.800000</td>\n",
       "      <td>9.98</td>\n",
       "      <td>6650.410000</td>\n",
       "      <td>9.98</td>\n",
       "      <td>13926.200000</td>\n",
       "      <td>9.98</td>\n",
       "      <td>26353.500000</td>\n",
       "      <td>PUEG10</td>\n",
       "    </tr>\n",
       "    <tr>\n",
       "      <th>5002</th>\n",
       "      <td>9.99</td>\n",
       "      <td>6619.160000</td>\n",
       "      <td>9.99</td>\n",
       "      <td>13856.100000</td>\n",
       "      <td>9.99</td>\n",
       "      <td>28641.100000</td>\n",
       "      <td>9.99</td>\n",
       "      <td>6642.290000</td>\n",
       "      <td>9.99</td>\n",
       "      <td>13902.400000</td>\n",
       "      <td>9.99</td>\n",
       "      <td>27097.300000</td>\n",
       "      <td>9.99</td>\n",
       "      <td>6653.540000</td>\n",
       "      <td>9.99</td>\n",
       "      <td>13919.900000</td>\n",
       "      <td>9.99</td>\n",
       "      <td>26359.800000</td>\n",
       "      <td>PUEG10</td>\n",
       "    </tr>\n",
       "    <tr>\n",
       "      <th>5003</th>\n",
       "      <td>10.00</td>\n",
       "      <td>6619.790000</td>\n",
       "      <td>10.00</td>\n",
       "      <td>13850.500000</td>\n",
       "      <td>10.00</td>\n",
       "      <td>28641.100000</td>\n",
       "      <td>10.00</td>\n",
       "      <td>6637.290000</td>\n",
       "      <td>10.00</td>\n",
       "      <td>13901.200000</td>\n",
       "      <td>10.00</td>\n",
       "      <td>27097.300000</td>\n",
       "      <td>10.00</td>\n",
       "      <td>6657.290000</td>\n",
       "      <td>10.00</td>\n",
       "      <td>13921.200000</td>\n",
       "      <td>10.00</td>\n",
       "      <td>26372.300000</td>\n",
       "      <td>PUEG10</td>\n",
       "    </tr>\n",
       "  </tbody>\n",
       "</table>\n",
       "<p>5004 rows × 19 columns</p>\n",
       "</div>"
      ],
      "text/plain": [
       "          s          ÂµA    s.1         ÂµA.1    s.2         ÂµA.2    s.3  \\\n",
       "0      0.00     0.000428   0.00      0.000228   0.00      0.000345   0.00   \n",
       "1      0.01     0.000233   0.01      0.000138   0.01      0.000266   0.01   \n",
       "2      0.02     0.000195   0.02      0.000115   0.02      0.000155   0.02   \n",
       "3      0.03     0.000181   0.03      0.000111   0.03      0.000208   0.03   \n",
       "4      0.04     0.000072   0.04      0.000055   0.04      0.000080   0.04   \n",
       "...     ...          ...    ...           ...    ...           ...    ...   \n",
       "4999   9.96  6616.660000   9.96  13847.400000   9.96  28622.300000   9.96   \n",
       "5000   9.97  6621.040000   9.97  13839.300000   9.97  28647.300000   9.97   \n",
       "5001   9.98  6617.290000   9.98  13843.600000   9.98  28634.800000   9.98   \n",
       "5002   9.99  6619.160000   9.99  13856.100000   9.99  28641.100000   9.99   \n",
       "5003  10.00  6619.790000  10.00  13850.500000  10.00  28641.100000  10.00   \n",
       "\n",
       "            ÂµA.3    s.4         ÂµA.4    s.5         ÂµA.5    s.6  \\\n",
       "0        0.000149   0.00      0.000088   0.00      0.000140   0.00   \n",
       "1        0.000158   0.01      0.000038   0.01      0.000015   0.01   \n",
       "2        0.000056   0.02      0.000096   0.02      0.000078   0.02   \n",
       "3        0.000102   0.03      0.000018   0.03      0.000064   0.03   \n",
       "4        0.000058   0.04      0.000053   0.04      0.000012   0.04   \n",
       "...           ...    ...           ...    ...           ...    ...   \n",
       "4999  6641.660000   9.96  13900.500000   9.96  27091.000000   9.96   \n",
       "5000  6641.660000   9.97  13899.900000   9.97  27084.800000   9.97   \n",
       "5001  6642.290000   9.98  13901.800000   9.98  27084.800000   9.98   \n",
       "5002  6642.290000   9.99  13902.400000   9.99  27097.300000   9.99   \n",
       "5003  6637.290000  10.00  13901.200000  10.00  27097.300000  10.00   \n",
       "\n",
       "            ÂµA.6    s.7         ÂµA.7    s.8         ÂµA.8 Material  \n",
       "0        0.000032   0.00      0.000081   0.00      0.000104       PU  \n",
       "1        0.000091   0.01     -0.000032   0.01      0.000070       PU  \n",
       "2        0.000030   0.02      0.000074   0.02     -0.000002       PU  \n",
       "3       -0.000006   0.03     -0.000003   0.03      0.000066       PU  \n",
       "4        0.000063   0.04      0.000025   0.04     -0.000022       PU  \n",
       "...           ...    ...           ...    ...           ...      ...  \n",
       "4999  6652.910000   9.96  13931.800000   9.96  26366.000000   PUEG10  \n",
       "5000  6648.540000   9.97  13933.000000   9.97  26366.000000   PUEG10  \n",
       "5001  6650.410000   9.98  13926.200000   9.98  26353.500000   PUEG10  \n",
       "5002  6653.540000   9.99  13919.900000   9.99  26359.800000   PUEG10  \n",
       "5003  6657.290000  10.00  13921.200000  10.00  26372.300000   PUEG10  \n",
       "\n",
       "[5004 rows x 19 columns]"
      ]
     },
     "execution_count": 3,
     "metadata": {},
     "output_type": "execute_result"
    }
   ],
   "source": [
    "df"
   ]
  },
  {
   "cell_type": "markdown",
   "metadata": {},
   "source": [
    "### Reorganizando os dados em tabelas adequadas"
   ]
  },
  {
   "cell_type": "code",
   "execution_count": 4,
   "metadata": {
    "scrolled": false
   },
   "outputs": [],
   "source": [
    "ndf = pd.DataFrame()\n",
    "for material in df['Material'].unique():\n",
    "    frame = df[df['Material']==material][['s','ÂµA','Material']]\n",
    "    frame['i'] = '1'\n",
    "    for i in range(8):\n",
    "        k = 'ÂµA.{}'.format(i+1)\n",
    "        f = df[df['Material']==material][['s',k,'Material']]\n",
    "        f.columns = ['s','ÂµA','Material']\n",
    "        f['i'] = str(i+2)\n",
    "        frame = frame.append(f, ignore_index = True)\n",
    "    ndf = ndf.append(frame.dropna(axis='index'), ignore_index = True)\n",
    "ndf.columns=['Tempo','Corrente','Material','Indice']"
   ]
  },
  {
   "cell_type": "code",
   "execution_count": 5,
   "metadata": {},
   "outputs": [],
   "source": [
    "for material in materials:\n",
    "    n_ensaios = ndf[ndf['Material']==material]['Indice'].unique().size\n",
    "    if n_ensaios==3:\n",
    "        T = {'1': '3V', '2': '2V', '3': '1V'}\n",
    "        R = {'1': '1',  '2': '1', '3': '1'}\n",
    "    if n_ensaios==6:\n",
    "        T = {'1': '3V', '2': '3V', '3': '2V', '4': '2V', '5': '1V', '6': '1V'}\n",
    "        R = {'1': '1', '2': '2', '3': '1', '4': '2', '5': '1', '6': '2'}\n",
    "    if n_ensaios==8:\n",
    "        T = {'1': '3V', '2': '3V', '3': '3V', '4': '2V', '5': '2V', '6': '1V', '7': '1V', '8': '1V'}\n",
    "        R = {'1': '1', '2': '2', '3': '3', '4': '1', '5': '2', '6': '1', '7': '2', '8': '3'}\n",
    "    if n_ensaios==9:\n",
    "        T = {'1': '1V', '2': '2V', '3': '3V', '4': '1V', '5': '2V', '6': '3V', '7': '1V', '8': '2V', '9': '3V'}\n",
    "        R = {'1': '1','2': '1', '3': '1', '4': '2', '5': '2', '6': '2', '7': '3', '8': '3', '9': '3'}\n",
    "    for ind in ndf[ndf['Material']==material]['Indice'].unique():\n",
    "        mask = (ndf['Material']==material) & (ndf['Indice']==ind)\n",
    "        ndf.loc[mask,'Tensão'] = T[ind]\n",
    "        ndf.loc[mask,'Tensão_F'] = float(T[ind][0])\n",
    "        ndf.loc[mask,'Repetição'] = R[ind]\n",
    "ndf.sort_values(by=['Material','Tensão','Repetição'], inplace = True)"
   ]
  },
  {
   "cell_type": "markdown",
   "metadata": {},
   "source": [
    "### Saída: Tabela ndf\n",
    "\n",
    "Esta tabela está com a organização padrão, em que cada coluna é uma característica e cada linha é uma medida. A coluna Tensão possui uma string (texto) com o valor de tensão, para facilitar a montagem do gráfico depois. O valor float de tensão (número) fica na coluna Tensão_F."
   ]
  },
  {
   "cell_type": "code",
   "execution_count": 6,
   "metadata": {},
   "outputs": [
    {
     "data": {
      "text/html": [
       "<div>\n",
       "<style scoped>\n",
       "    .dataframe tbody tr th:only-of-type {\n",
       "        vertical-align: middle;\n",
       "    }\n",
       "\n",
       "    .dataframe tbody tr th {\n",
       "        vertical-align: top;\n",
       "    }\n",
       "\n",
       "    .dataframe thead th {\n",
       "        text-align: right;\n",
       "    }\n",
       "</style>\n",
       "<table border=\"1\" class=\"dataframe\">\n",
       "  <thead>\n",
       "    <tr style=\"text-align: right;\">\n",
       "      <th></th>\n",
       "      <th>Tempo</th>\n",
       "      <th>Corrente</th>\n",
       "      <th>Material</th>\n",
       "      <th>Indice</th>\n",
       "      <th>Tensão</th>\n",
       "      <th>Tensão_F</th>\n",
       "      <th>Repetição</th>\n",
       "    </tr>\n",
       "  </thead>\n",
       "  <tbody>\n",
       "    <tr>\n",
       "      <th>0</th>\n",
       "      <td>0.00</td>\n",
       "      <td>0.000428</td>\n",
       "      <td>PU</td>\n",
       "      <td>1</td>\n",
       "      <td>1V</td>\n",
       "      <td>1.0</td>\n",
       "      <td>1</td>\n",
       "    </tr>\n",
       "    <tr>\n",
       "      <th>1</th>\n",
       "      <td>0.01</td>\n",
       "      <td>0.000233</td>\n",
       "      <td>PU</td>\n",
       "      <td>1</td>\n",
       "      <td>1V</td>\n",
       "      <td>1.0</td>\n",
       "      <td>1</td>\n",
       "    </tr>\n",
       "    <tr>\n",
       "      <th>2</th>\n",
       "      <td>0.02</td>\n",
       "      <td>0.000195</td>\n",
       "      <td>PU</td>\n",
       "      <td>1</td>\n",
       "      <td>1V</td>\n",
       "      <td>1.0</td>\n",
       "      <td>1</td>\n",
       "    </tr>\n",
       "    <tr>\n",
       "      <th>3</th>\n",
       "      <td>0.03</td>\n",
       "      <td>0.000181</td>\n",
       "      <td>PU</td>\n",
       "      <td>1</td>\n",
       "      <td>1V</td>\n",
       "      <td>1.0</td>\n",
       "      <td>1</td>\n",
       "    </tr>\n",
       "    <tr>\n",
       "      <th>4</th>\n",
       "      <td>0.04</td>\n",
       "      <td>0.000072</td>\n",
       "      <td>PU</td>\n",
       "      <td>1</td>\n",
       "      <td>1V</td>\n",
       "      <td>1.0</td>\n",
       "      <td>1</td>\n",
       "    </tr>\n",
       "    <tr>\n",
       "      <th>...</th>\n",
       "      <td>...</td>\n",
       "      <td>...</td>\n",
       "      <td>...</td>\n",
       "      <td>...</td>\n",
       "      <td>...</td>\n",
       "      <td>...</td>\n",
       "      <td>...</td>\n",
       "    </tr>\n",
       "    <tr>\n",
       "      <th>36022</th>\n",
       "      <td>9.96</td>\n",
       "      <td>0.001468</td>\n",
       "      <td>PUEG4</td>\n",
       "      <td>9</td>\n",
       "      <td>3V</td>\n",
       "      <td>3.0</td>\n",
       "      <td>3</td>\n",
       "    </tr>\n",
       "    <tr>\n",
       "      <th>36023</th>\n",
       "      <td>9.97</td>\n",
       "      <td>0.001588</td>\n",
       "      <td>PUEG4</td>\n",
       "      <td>9</td>\n",
       "      <td>3V</td>\n",
       "      <td>3.0</td>\n",
       "      <td>3</td>\n",
       "    </tr>\n",
       "    <tr>\n",
       "      <th>36024</th>\n",
       "      <td>9.98</td>\n",
       "      <td>0.001487</td>\n",
       "      <td>PUEG4</td>\n",
       "      <td>9</td>\n",
       "      <td>3V</td>\n",
       "      <td>3.0</td>\n",
       "      <td>3</td>\n",
       "    </tr>\n",
       "    <tr>\n",
       "      <th>36025</th>\n",
       "      <td>9.99</td>\n",
       "      <td>0.001525</td>\n",
       "      <td>PUEG4</td>\n",
       "      <td>9</td>\n",
       "      <td>3V</td>\n",
       "      <td>3.0</td>\n",
       "      <td>3</td>\n",
       "    </tr>\n",
       "    <tr>\n",
       "      <th>36026</th>\n",
       "      <td>10.00</td>\n",
       "      <td>0.001571</td>\n",
       "      <td>PUEG4</td>\n",
       "      <td>9</td>\n",
       "      <td>3V</td>\n",
       "      <td>3.0</td>\n",
       "      <td>3</td>\n",
       "    </tr>\n",
       "  </tbody>\n",
       "</table>\n",
       "<p>45036 rows × 7 columns</p>\n",
       "</div>"
      ],
      "text/plain": [
       "       Tempo  Corrente Material Indice Tensão  Tensão_F Repetição\n",
       "0       0.00  0.000428       PU      1     1V       1.0         1\n",
       "1       0.01  0.000233       PU      1     1V       1.0         1\n",
       "2       0.02  0.000195       PU      1     1V       1.0         1\n",
       "3       0.03  0.000181       PU      1     1V       1.0         1\n",
       "4       0.04  0.000072       PU      1     1V       1.0         1\n",
       "...      ...       ...      ...    ...    ...       ...       ...\n",
       "36022   9.96  0.001468    PUEG4      9     3V       3.0         3\n",
       "36023   9.97  0.001588    PUEG4      9     3V       3.0         3\n",
       "36024   9.98  0.001487    PUEG4      9     3V       3.0         3\n",
       "36025   9.99  0.001525    PUEG4      9     3V       3.0         3\n",
       "36026  10.00  0.001571    PUEG4      9     3V       3.0         3\n",
       "\n",
       "[45036 rows x 7 columns]"
      ]
     },
     "execution_count": 6,
     "metadata": {},
     "output_type": "execute_result"
    }
   ],
   "source": [
    "ndf"
   ]
  },
  {
   "cell_type": "markdown",
   "metadata": {},
   "source": [
    "### Plotando os dados\n",
    "\n",
    "Plotagem dos dados de corrente (µA) em função do tempo (s). Note que ao clicar na legenda é possível mostrar ou esconder os dados de cada repetição."
   ]
  },
  {
   "cell_type": "code",
   "execution_count": 7,
   "metadata": {},
   "outputs": [],
   "source": [
    "titles = {\n",
    "    'PU': 'PU Puro',\n",
    "    'PUEG1': 'PU + 1% NPG',\n",
    "    'PUEG2': 'PU + 2% NPG',\n",
    "    'PUEG4': 'PU + 4% NPG',\n",
    "    'PUEG10': 'PU + 10% NPG',\n",
    "    'PUEG2PANI2': 'PU + 2% EG + 2% PAni',\n",
    "    'PUPANI4': 'PU + 4% PAni',\n",
    "    'PUPANI10': 'PU + 10% PAni',\n",
    "    'PANI': 'PAni 100% (amostra 1)',\n",
    "    'PANI2': 'PAni 100% (amostra 2)'\n",
    "}\n",
    "figs1 = dict()\n",
    "for material in materials:\n",
    "    df = ndf[ndf['Material']==material]\n",
    "    fig1 = go.Figure()\n",
    "    for t in df['Tensão'].unique():\n",
    "        f1 = df[df['Tensão']==t]\n",
    "        traces = px.scatter(f1,\n",
    "            x='Tempo',\n",
    "            y='Corrente',\n",
    "            color = 'Repetição',\n",
    "            color_discrete_sequence=px.colors.qualitative.Bold,\n",
    "            title=titles[material],\n",
    "        )\n",
    "        for trace in traces.data:\n",
    "            trace.visible = True\n",
    "            fig1.add_trace(trace)\n",
    "    fig1.update_layout(\n",
    "        title = titles[material],\n",
    "        xaxis_type=\"linear\",\n",
    "        xaxis_title = 'Tempo (s)',\n",
    "        yaxis_type=\"linear\",\n",
    "        yaxis_title='Corrente (µA)',\n",
    "        yaxis_tickformat = '.2e',\n",
    "        legend = dict(orientation = 'h',\n",
    "                      y=1.05, \n",
    "                      x=1.0,      \n",
    "                  xanchor= 'right',\n",
    "                      yanchor= 'bottom',\n",
    "                      title = dict(text = 'Repetição:')\n",
    "                     )\n",
    "    )\n",
    "    figs1.update({material:fig1})\n",
    "    \n",
    "    visibility = {9: {'1V': [True,True,True,False,False,False,False,False,False],\n",
    "                      '2V': [False,False,False,True,True,True,False,False,False],\n",
    "                      '3V': [False,False,False,False,False,False,True,True,True]\n",
    "                     },\n",
    "                  8: {'1V': [True,True,True,False,False,False,False,False],\n",
    "                      '2V': [False,False,False,True,True,False,False,False],\n",
    "                      '3V': [False,False,False,False,False,True,True,True]\n",
    "                     },\n",
    "                  6: {'1V': [True,True,False,False,False,False],\n",
    "                      '2V': [False,False,True,True,False,False],\n",
    "                      '3V': [False,False,False,False,True,True]\n",
    "                     },\n",
    "                  3: {'1V': [True,False,False],\n",
    "                      '2V': [False,True,False],\n",
    "                      '3V': [False,False,True]\n",
    "                     },\n",
    "                 }\n",
    "    n = ndf[ndf['Material']==material]['Indice'].unique().size\n",
    "    updatemenus=[\n",
    "       dict(\n",
    "            type=\"buttons\",\n",
    "            direction=\"right\",\n",
    "            active=0,\n",
    "            x=0.57,\n",
    "            y=1.2,\n",
    "            buttons=list([\n",
    "                dict(label='Todos',\n",
    "                     method=\"update\",\n",
    "                     args=[{\"visible\": True},\n",
    "                           ]),\n",
    "                dict(label='1V',\n",
    "                     method=\"update\",\n",
    "                     args=[{\"visible\": visibility[n]['1V']},\n",
    "                           ]),\n",
    "                dict(label='2V',\n",
    "                     method=\"update\",\n",
    "                     args=[{\"visible\": visibility[n]['2V']},\n",
    "                           ]),\n",
    "                dict(label='3V',\n",
    "                     method=\"update\",\n",
    "                     args=[{\"visible\": visibility[n]['3V']},\n",
    "                           ]),\n",
    "            ]),\n",
    "        )\n",
    "    ]\n",
    "    fig1.update_layout(updatemenus=updatemenus)"
   ]
  },
  {
   "cell_type": "code",
   "execution_count": 8,
   "metadata": {
    "scrolled": false
   },
   "outputs": [
    {
     "data": {
      "application/vnd.jupyter.widget-view+json": {
       "model_id": "2afcc54fcba44f4a8c9a187bd7dcc28b",
       "version_major": 2,
       "version_minor": 0
      },
      "text/plain": [
       "interactive(children=(Dropdown(description='Material', options=('PU', 'PUEG1', 'PUEG2', 'PUEG4', 'PUEG10'), va…"
      ]
     },
     "metadata": {},
     "output_type": "display_data"
    },
    {
     "data": {
      "text/plain": [
       "<function __main__.<lambda>(Material)>"
      ]
     },
     "execution_count": 8,
     "metadata": {},
     "output_type": "execute_result"
    }
   ],
   "source": [
    "interact(lambda Material: figs1[Material],\n",
    "         Material = list(figs1.keys())\n",
    "        )"
   ]
  },
  {
   "cell_type": "markdown",
   "metadata": {},
   "source": [
    "### Estatísticas\n",
    "\n",
    "Descrição estatística dos dados de corrente em µA. Note que os cálculos são feitos com os pontos em que t>2s, uma vez que neste tempo já há quase total estabilização do valor de corrente.\n",
    "\n",
    "Os materiais isolantes possuem o valor (1.96 x desvio padrão) maior que a média. Isso indica que não se pode afirmar com 95% de confiança que o valor médio é diferente de zero. Ou seja, há boas chances da hipótese nula (corrente é igual a zero) ser verdadeira. Isso pode ser visto no gráfico boxplot, quando a caixa é cortada pelo eixo x."
   ]
  },
  {
   "cell_type": "code",
   "execution_count": 9,
   "metadata": {
    "scrolled": true
   },
   "outputs": [
    {
     "name": "stdout",
     "output_type": "stream",
     "text": [
      "PU Puro 1V\n",
      "count    2397.000000\n",
      "mean        0.000017\n",
      "std         0.000031\n",
      "min        -0.000055\n",
      "25%        -0.000012\n",
      "50%         0.000017\n",
      "75%         0.000045\n",
      "max         0.000083\n",
      "Name: Corrente, dtype: float64\n",
      "Isolante!\n",
      "\n",
      "\n",
      "PU Puro 2V\n",
      "count    2397.000000\n",
      "mean        0.000016\n",
      "std         0.000032\n",
      "min        -0.000052\n",
      "25%        -0.000013\n",
      "50%         0.000014\n",
      "75%         0.000047\n",
      "max         0.000089\n",
      "Name: Corrente, dtype: float64\n",
      "Isolante!\n",
      "\n",
      "\n",
      "PU Puro 3V\n",
      "count    2397.000000\n",
      "mean        0.000017\n",
      "std         0.000035\n",
      "min        -0.000053\n",
      "25%        -0.000015\n",
      "50%         0.000015\n",
      "75%         0.000050\n",
      "max         0.000092\n",
      "Name: Corrente, dtype: float64\n",
      "Isolante!\n",
      "\n",
      "\n",
      "PU + 1% NPG 1V\n",
      "count    2400.000000\n",
      "mean        0.000014\n",
      "std         0.000034\n",
      "min        -0.000077\n",
      "25%        -0.000017\n",
      "50%         0.000013\n",
      "75%         0.000045\n",
      "max         0.000100\n",
      "Name: Corrente, dtype: float64\n",
      "Isolante!\n",
      "\n",
      "\n",
      "PU + 1% NPG 2V\n",
      "count    2400.000000\n",
      "mean        0.000015\n",
      "std         0.000034\n",
      "min        -0.000055\n",
      "25%        -0.000017\n",
      "50%         0.000012\n",
      "75%         0.000048\n",
      "max         0.000080\n",
      "Name: Corrente, dtype: float64\n",
      "Isolante!\n",
      "\n",
      "\n",
      "PU + 1% NPG 3V\n",
      "count    2400.000000\n",
      "mean        0.000016\n",
      "std         0.000035\n",
      "min        -0.000053\n",
      "25%        -0.000017\n",
      "50%         0.000015\n",
      "75%         0.000049\n",
      "max         0.000092\n",
      "Name: Corrente, dtype: float64\n",
      "Isolante!\n",
      "\n",
      "\n",
      "PU + 2% NPG 1V\n",
      "count    2400.000000\n",
      "mean        0.000015\n",
      "std         0.000063\n",
      "min        -0.000208\n",
      "25%        -0.000030\n",
      "50%         0.000015\n",
      "75%         0.000061\n",
      "max         0.000260\n",
      "Name: Corrente, dtype: float64\n",
      "Isolante!\n",
      "\n",
      "\n",
      "PU + 2% NPG 2V\n",
      "count    2400.000000\n",
      "mean        0.000017\n",
      "std         0.000050\n",
      "min        -0.000072\n",
      "25%        -0.000031\n",
      "50%         0.000012\n",
      "75%         0.000067\n",
      "max         0.000108\n",
      "Name: Corrente, dtype: float64\n",
      "Isolante!\n",
      "\n",
      "\n",
      "PU + 2% NPG 3V\n",
      "count    2400.000000\n",
      "mean        0.000019\n",
      "std         0.000060\n",
      "min        -0.000263\n",
      "25%        -0.000025\n",
      "50%         0.000019\n",
      "75%         0.000064\n",
      "max         0.000279\n",
      "Name: Corrente, dtype: float64\n",
      "Isolante!\n",
      "\n",
      "\n",
      "PU + 4% NPG 1V\n",
      "count    2400.000000\n",
      "mean        0.000247\n",
      "std         0.000043\n",
      "min         0.000146\n",
      "25%         0.000213\n",
      "50%         0.000247\n",
      "75%         0.000284\n",
      "max         0.000332\n",
      "Name: Corrente, dtype: float64\n",
      "Condutor!\n",
      "\n",
      "\n",
      "PU + 4% NPG 2V\n",
      "count    2400.000000\n",
      "mean        0.000806\n",
      "std         0.000043\n",
      "min         0.000698\n",
      "25%         0.000769\n",
      "50%         0.000807\n",
      "75%         0.000843\n",
      "max         0.000922\n",
      "Name: Corrente, dtype: float64\n",
      "Condutor!\n",
      "\n",
      "\n",
      "PU + 4% NPG 3V\n",
      "count    2400.000000\n",
      "mean        0.001563\n",
      "std         0.000047\n",
      "min         0.001457\n",
      "25%         0.001525\n",
      "50%         0.001563\n",
      "75%         0.001600\n",
      "max         0.001714\n",
      "Name: Corrente, dtype: float64\n",
      "Condutor!\n",
      "\n",
      "\n",
      "PU + 10% NPG 1V\n",
      "count    2400.000000\n",
      "mean     6611.923562\n",
      "std        29.203867\n",
      "min      6530.410000\n",
      "25%      6594.160000\n",
      "50%      6618.540000\n",
      "75%      6635.410000\n",
      "max      6662.290000\n",
      "Name: Corrente, dtype: float64\n",
      "Condutor!\n",
      "\n",
      "\n",
      "PU + 10% NPG 2V\n",
      "count     2400.000000\n",
      "mean     13819.294583\n",
      "std         60.944765\n",
      "min      13666.800000\n",
      "25%      13777.250000\n",
      "50%      13817.400000\n",
      "75%      13873.600000\n",
      "max      13934.300000\n",
      "Name: Corrente, dtype: float64\n",
      "Condutor!\n",
      "\n",
      "\n",
      "PU + 10% NPG 3V\n",
      "count     2400.000000\n",
      "mean     26775.481042\n",
      "std       1034.898038\n",
      "min      24978.500000\n",
      "25%      25972.300000\n",
      "50%      26516.000000\n",
      "75%      27780.150000\n",
      "max      28647.300000\n",
      "Name: Corrente, dtype: float64\n",
      "Condutor!\n",
      "\n",
      "\n"
     ]
    }
   ],
   "source": [
    "condutor = []\n",
    "for material in materials:\n",
    "    for tensao in ndf[(ndf['Tempo']>2) & (ndf['Material']==material)]['Tensão'].unique():\n",
    "        print(titles[material],tensao)\n",
    "        stat = ndf[(ndf['Tempo']>2) & (ndf['Material']==material) & (ndf['Tensão']==tensao)]['Corrente'].describe()\n",
    "        print(stat)\n",
    "        if ((stat['mean']) - (stat['std']))>0:\n",
    "            print('Condutor!')\n",
    "            condutor.append(material)\n",
    "        else:\n",
    "            print('Isolante!')\n",
    "        print('\\n')"
   ]
  },
  {
   "cell_type": "markdown",
   "metadata": {},
   "source": [
    "### Gráfico Boxplot\n",
    "\n",
    "O gráfico Boxplot é um recurso gráfico interessante para mostrar a descrição estatística calculada antes. As cores representam as tensões (aqui há só uma!), e as repetições estão ao longo do eixo X."
   ]
  },
  {
   "cell_type": "code",
   "execution_count": 10,
   "metadata": {},
   "outputs": [],
   "source": [
    "volt_colors = {\n",
    "                \"1V\": px.colors.qualitative.Plotly[0],\n",
    "                \"2V\": px.colors.qualitative.Plotly[1],\n",
    "                \"3V\": px.colors.qualitative.Plotly[2],\n",
    "             }"
   ]
  },
  {
   "cell_type": "code",
   "execution_count": 11,
   "metadata": {},
   "outputs": [],
   "source": [
    "boxplots = dict()\n",
    "for material in materials:\n",
    "    df = ndf[(ndf['Tempo']>2)&(ndf['Material']==material)]\n",
    "    fig = px.box(df,\n",
    "                 y='Corrente',\n",
    "                 x = 'Repetição',\n",
    "                 color = 'Tensão',\n",
    "                 title = titles[material],\n",
    "                 color_discrete_map= volt_colors\n",
    "                )\n",
    "    fig.update_layout(yaxis_title = 'Corrente (µA)',\n",
    "                      yaxis_tickformat = '.2e',\n",
    "                      legend = dict(orientation = 'h',\n",
    "                                    y = 1.05,\n",
    "                                    x = 1.0,\n",
    "                                    xanchor= 'right',\n",
    "                                    yanchor= 'bottom',\n",
    "                                    title = dict(text = 'Tensão:')\n",
    "                                   )\n",
    "                     )\n",
    "    boxplots.update({material : fig})"
   ]
  },
  {
   "cell_type": "code",
   "execution_count": 12,
   "metadata": {},
   "outputs": [
    {
     "data": {
      "text/html": [
       "<div>\n",
       "<style scoped>\n",
       "    .dataframe tbody tr th:only-of-type {\n",
       "        vertical-align: middle;\n",
       "    }\n",
       "\n",
       "    .dataframe tbody tr th {\n",
       "        vertical-align: top;\n",
       "    }\n",
       "\n",
       "    .dataframe thead th {\n",
       "        text-align: right;\n",
       "    }\n",
       "</style>\n",
       "<table border=\"1\" class=\"dataframe\">\n",
       "  <thead>\n",
       "    <tr style=\"text-align: right;\">\n",
       "      <th></th>\n",
       "      <th>Tempo</th>\n",
       "      <th>Corrente</th>\n",
       "      <th>Material</th>\n",
       "      <th>Indice</th>\n",
       "      <th>Tensão</th>\n",
       "      <th>Tensão_F</th>\n",
       "      <th>Repetição</th>\n",
       "    </tr>\n",
       "  </thead>\n",
       "  <tbody>\n",
       "    <tr>\n",
       "      <th>0</th>\n",
       "      <td>0.00</td>\n",
       "      <td>0.000428</td>\n",
       "      <td>PU</td>\n",
       "      <td>1</td>\n",
       "      <td>1V</td>\n",
       "      <td>1.0</td>\n",
       "      <td>1</td>\n",
       "    </tr>\n",
       "    <tr>\n",
       "      <th>1</th>\n",
       "      <td>0.01</td>\n",
       "      <td>0.000233</td>\n",
       "      <td>PU</td>\n",
       "      <td>1</td>\n",
       "      <td>1V</td>\n",
       "      <td>1.0</td>\n",
       "      <td>1</td>\n",
       "    </tr>\n",
       "    <tr>\n",
       "      <th>2</th>\n",
       "      <td>0.02</td>\n",
       "      <td>0.000195</td>\n",
       "      <td>PU</td>\n",
       "      <td>1</td>\n",
       "      <td>1V</td>\n",
       "      <td>1.0</td>\n",
       "      <td>1</td>\n",
       "    </tr>\n",
       "    <tr>\n",
       "      <th>3</th>\n",
       "      <td>0.03</td>\n",
       "      <td>0.000181</td>\n",
       "      <td>PU</td>\n",
       "      <td>1</td>\n",
       "      <td>1V</td>\n",
       "      <td>1.0</td>\n",
       "      <td>1</td>\n",
       "    </tr>\n",
       "    <tr>\n",
       "      <th>4</th>\n",
       "      <td>0.04</td>\n",
       "      <td>0.000072</td>\n",
       "      <td>PU</td>\n",
       "      <td>1</td>\n",
       "      <td>1V</td>\n",
       "      <td>1.0</td>\n",
       "      <td>1</td>\n",
       "    </tr>\n",
       "    <tr>\n",
       "      <th>...</th>\n",
       "      <td>...</td>\n",
       "      <td>...</td>\n",
       "      <td>...</td>\n",
       "      <td>...</td>\n",
       "      <td>...</td>\n",
       "      <td>...</td>\n",
       "      <td>...</td>\n",
       "    </tr>\n",
       "    <tr>\n",
       "      <th>36022</th>\n",
       "      <td>9.96</td>\n",
       "      <td>0.001468</td>\n",
       "      <td>PUEG4</td>\n",
       "      <td>9</td>\n",
       "      <td>3V</td>\n",
       "      <td>3.0</td>\n",
       "      <td>3</td>\n",
       "    </tr>\n",
       "    <tr>\n",
       "      <th>36023</th>\n",
       "      <td>9.97</td>\n",
       "      <td>0.001588</td>\n",
       "      <td>PUEG4</td>\n",
       "      <td>9</td>\n",
       "      <td>3V</td>\n",
       "      <td>3.0</td>\n",
       "      <td>3</td>\n",
       "    </tr>\n",
       "    <tr>\n",
       "      <th>36024</th>\n",
       "      <td>9.98</td>\n",
       "      <td>0.001487</td>\n",
       "      <td>PUEG4</td>\n",
       "      <td>9</td>\n",
       "      <td>3V</td>\n",
       "      <td>3.0</td>\n",
       "      <td>3</td>\n",
       "    </tr>\n",
       "    <tr>\n",
       "      <th>36025</th>\n",
       "      <td>9.99</td>\n",
       "      <td>0.001525</td>\n",
       "      <td>PUEG4</td>\n",
       "      <td>9</td>\n",
       "      <td>3V</td>\n",
       "      <td>3.0</td>\n",
       "      <td>3</td>\n",
       "    </tr>\n",
       "    <tr>\n",
       "      <th>36026</th>\n",
       "      <td>10.00</td>\n",
       "      <td>0.001571</td>\n",
       "      <td>PUEG4</td>\n",
       "      <td>9</td>\n",
       "      <td>3V</td>\n",
       "      <td>3.0</td>\n",
       "      <td>3</td>\n",
       "    </tr>\n",
       "  </tbody>\n",
       "</table>\n",
       "<p>45036 rows × 7 columns</p>\n",
       "</div>"
      ],
      "text/plain": [
       "       Tempo  Corrente Material Indice Tensão  Tensão_F Repetição\n",
       "0       0.00  0.000428       PU      1     1V       1.0         1\n",
       "1       0.01  0.000233       PU      1     1V       1.0         1\n",
       "2       0.02  0.000195       PU      1     1V       1.0         1\n",
       "3       0.03  0.000181       PU      1     1V       1.0         1\n",
       "4       0.04  0.000072       PU      1     1V       1.0         1\n",
       "...      ...       ...      ...    ...    ...       ...       ...\n",
       "36022   9.96  0.001468    PUEG4      9     3V       3.0         3\n",
       "36023   9.97  0.001588    PUEG4      9     3V       3.0         3\n",
       "36024   9.98  0.001487    PUEG4      9     3V       3.0         3\n",
       "36025   9.99  0.001525    PUEG4      9     3V       3.0         3\n",
       "36026  10.00  0.001571    PUEG4      9     3V       3.0         3\n",
       "\n",
       "[45036 rows x 7 columns]"
      ]
     },
     "execution_count": 12,
     "metadata": {},
     "output_type": "execute_result"
    }
   ],
   "source": [
    "ndf"
   ]
  },
  {
   "cell_type": "code",
   "execution_count": 13,
   "metadata": {
    "scrolled": false
   },
   "outputs": [
    {
     "data": {
      "application/vnd.jupyter.widget-view+json": {
       "model_id": "9ebe64bc07af4ae9a83f2e35474f8c12",
       "version_major": 2,
       "version_minor": 0
      },
      "text/plain": [
       "interactive(children=(Dropdown(description='Material', options=('PU', 'PUEG1', 'PUEG2', 'PUEG4', 'PUEG10'), va…"
      ]
     },
     "metadata": {},
     "output_type": "display_data"
    },
    {
     "data": {
      "text/plain": [
       "<function __main__.<lambda>(Material)>"
      ]
     },
     "execution_count": 13,
     "metadata": {},
     "output_type": "execute_result"
    }
   ],
   "source": [
    "interact(lambda Material: boxplots[Material].show(),\n",
    "         Material = list(boxplots.keys())        \n",
    "        )"
   ]
  },
  {
   "cell_type": "raw",
   "metadata": {},
   "source": [
    "fig = px.box(ndf[(ndf['Tempo']>2)&(ndf['Material']!='PANI')&(ndf['Material']!='PANI2')],\n",
    "       x = 'Material', y = 'Corrente', color = 'Tensão')\n",
    "fig.update_layout(xaxis = dict(tickvals = ['PU','PUEG1','PUEG2','PUEG2PANI2','PUEG4','PUPANI10','PUPANI4'],\n",
    "                               ticktext = ['PU Puro','PU+1%NPG','PU+2%NPG','PU+2%NPG+2%PAni','PU+4%NPG','PU+10%PAni','PU+4%PAni']),\n",
    "                  yaxis_title_text = 'Corrente (µA)'\n",
    "                 )"
   ]
  },
  {
   "cell_type": "markdown",
   "metadata": {},
   "source": [
    "### Calculando as resistências a partir dos dados\n",
    "\n",
    "A resistência em todos os pontos é calculada utilizando a equação da resistência ohmica, dada por:\n",
    "\n",
    "$$ R = \\frac{U}{i} $$\n",
    "\n",
    "Onde $R$ é a resistência (em Ω), $U$ é a tensão aplicada (em V) e $i$ é a corrente elétrica (em A).\n"
   ]
  },
  {
   "cell_type": "code",
   "execution_count": 14,
   "metadata": {},
   "outputs": [],
   "source": [
    "ndf['Resistência']=ndf['Tensão_F']*10**6/abs(ndf['Corrente'])"
   ]
  },
  {
   "cell_type": "markdown",
   "metadata": {},
   "source": [
    "### Gráfico da resistência ao longo do tempo\n",
    "\n",
    "Semelhante ao primeiro gráfico, mas o eixo das ordenadas mostra a resistência em ohms (Ω). Note que os materiais isolantes estão em escala logarítmica, para melhor visualizar os elevados valores quando $i\\rightarrow0$."
   ]
  },
  {
   "cell_type": "code",
   "execution_count": 15,
   "metadata": {},
   "outputs": [],
   "source": [
    "figs2 = dict()\n",
    "for material in materials:\n",
    "    df = ndf[ndf['Material']==material]\n",
    "    fig2 = go.Figure()\n",
    "    for t in df['Tensão'].unique():\n",
    "        f2 = df[df['Tensão']==t]\n",
    "        traces = px.scatter(f2,\n",
    "            x='Tempo',\n",
    "            y='Resistência',\n",
    "            color = 'Repetição',\n",
    "            color_discrete_sequence=px.colors.qualitative.Bold,\n",
    "            title=titles[material],\n",
    "        )\n",
    "        for trace in traces.data:\n",
    "            fig2.add_trace(trace)\n",
    "    fig2.update_layout(\n",
    "        title = titles[material],\n",
    "        xaxis_type=\"linear\",\n",
    "        xaxis_title = 'Tempo (s)',\n",
    "        yaxis_type=\"linear\",\n",
    "        yaxis_title='Resistência (Ω)',\n",
    "        yaxis_tickformat = '.2s',\n",
    "        legend = dict(orientation = 'h',\n",
    "                      y=1.05, \n",
    "                      x=1.0,      \n",
    "                  xanchor= 'right',\n",
    "                      yanchor= 'bottom',\n",
    "                      title = dict(text = 'Repetição:')\n",
    "                     )\n",
    "    )\n",
    "    figs2.update({material:fig2})\n",
    "    \n",
    "    visibility = {9: {'1V': [True,True,True,False,False,False,False,False,False],\n",
    "                      '2V': [False,False,False,False,False,False,True,True,True],\n",
    "                      '3V': [False,False,False,True,True,True,False,False,False]\n",
    "                     },\n",
    "                  8: {'1V': [True,True,True,False,False,False,False,False],\n",
    "                      '2V': [False,False,False,True,True,False,False,False],\n",
    "                      '3V': [False,False,False,False,False,True,True,True]\n",
    "                     },\n",
    "                  6: {'1V': [True,True,False,False,False,False],\n",
    "                      '2V': [False,False,True,True,False,False],\n",
    "                      '3V': [False,False,False,False,True,True]\n",
    "                     },\n",
    "                  3: {'1V': [True,False,False],\n",
    "                      '2V': [False,True,False],\n",
    "                      '3V': [False,False,True]\n",
    "                     },\n",
    "                 }\n",
    "    n = ndf[ndf['Material']==material]['Indice'].unique().size\n",
    "    updatemenus=[\n",
    "       dict(\n",
    "            type=\"buttons\",\n",
    "            direction=\"right\",\n",
    "            active=0,\n",
    "            x=0.57,\n",
    "            y=1.2,\n",
    "            buttons=list([\n",
    "                dict(label='Todos',\n",
    "                     method=\"update\",\n",
    "                     args=[{\"visible\": True},\n",
    "                           ]),\n",
    "                dict(label='1V',\n",
    "                     method=\"update\",\n",
    "                     args=[{\"visible\": visibility[n]['1V']},\n",
    "                           ]),\n",
    "                dict(label='2V',\n",
    "                     method=\"update\",\n",
    "                     args=[{\"visible\": visibility[n]['2V']},\n",
    "                           ]),\n",
    "                dict(label='3V',\n",
    "                     method=\"update\",\n",
    "                     args=[{\"visible\": visibility[n]['3V']},\n",
    "                           ]),\n",
    "            ]),\n",
    "        )\n",
    "    ]\n",
    "    fig2.update_layout(updatemenus=updatemenus)\n",
    "    if material not in condutor:\n",
    "        fig2.update_layout(yaxis_type = 'log')"
   ]
  },
  {
   "cell_type": "code",
   "execution_count": 16,
   "metadata": {},
   "outputs": [
    {
     "data": {
      "application/vnd.jupyter.widget-view+json": {
       "model_id": "866b80c1725444608f11bc703c0b9166",
       "version_major": 2,
       "version_minor": 0
      },
      "text/plain": [
       "interactive(children=(Dropdown(description='Material', options=('PU', 'PUEG1', 'PUEG2', 'PUEG4', 'PUEG10'), va…"
      ]
     },
     "metadata": {},
     "output_type": "display_data"
    },
    {
     "data": {
      "text/plain": [
       "<function __main__.<lambda>(Material)>"
      ]
     },
     "execution_count": 16,
     "metadata": {},
     "output_type": "execute_result"
    }
   ],
   "source": [
    "interact(lambda Material: figs2[Material],\n",
    "         Material = list(figs2.keys())\n",
    "        )"
   ]
  },
  {
   "cell_type": "markdown",
   "metadata": {},
   "source": [
    "### Gráfico Boxplot da resistência\n",
    "\n",
    "A descrição estatística dos valores de resistência (após estabilização em 2 segundos) é mostrada neste gráfico. Novamente, os materiais isolantes estão com escala logarítmica no eixo y."
   ]
  },
  {
   "cell_type": "code",
   "execution_count": 17,
   "metadata": {
    "scrolled": false
   },
   "outputs": [],
   "source": [
    "boxresist = dict()\n",
    "for material in materials:\n",
    "    df = ndf[(ndf['Tempo']>2)&(ndf['Material']==material)]\n",
    "    fig = px.box(df,\n",
    "                 y='Resistência',\n",
    "                 x = 'Repetição',\n",
    "                 color = 'Tensão',\n",
    "                 title = titles[material],\n",
    "                 color_discrete_map= volt_colors\n",
    "                )\n",
    "    fig.update_layout(yaxis_title = 'Resistência (Ω)',\n",
    "                      yaxis_tickformat = '.2s',\n",
    "                      legend = dict(orientation = 'h',\n",
    "                                    y = 1.05,\n",
    "                                    x = 1.0,\n",
    "                                    xanchor= 'right',\n",
    "                                    yanchor= 'bottom',\n",
    "                                    title = dict(text = 'Tensão:')\n",
    "                                   )\n",
    "                     )\n",
    "    if material not in condutor:\n",
    "        fig.update_traces(boxpoints = False)\n",
    "        fig.update_layout(yaxis_type = 'log')\n",
    "    boxresist.update({material : fig})"
   ]
  },
  {
   "cell_type": "code",
   "execution_count": 18,
   "metadata": {},
   "outputs": [
    {
     "data": {
      "application/vnd.jupyter.widget-view+json": {
       "model_id": "7cfc073382f34fdd845064ba71feac9d",
       "version_major": 2,
       "version_minor": 0
      },
      "text/plain": [
       "interactive(children=(Dropdown(description='Material', options=('PU', 'PUEG1', 'PUEG2', 'PUEG4', 'PUEG10'), va…"
      ]
     },
     "metadata": {},
     "output_type": "display_data"
    },
    {
     "data": {
      "text/plain": [
       "<function __main__.<lambda>(Material)>"
      ]
     },
     "execution_count": 18,
     "metadata": {},
     "output_type": "execute_result"
    }
   ],
   "source": [
    "interact(lambda Material: boxresist[Material],\n",
    "         Material = list(boxplots.keys())\n",
    "        )"
   ]
  },
  {
   "cell_type": "markdown",
   "metadata": {},
   "source": [
    "### Resistividade Média\n",
    "\n",
    "A resistividade ($\\rho$) é calculada a partir da resistência e dos parâmetros dimensionais segundo a equação:\n",
    "\n",
    "$$\\rho = R\\frac{A}{l}$$\n",
    "\n",
    "Em que $A$ é a área do eletrodo em contato com a amostra e $l$ é a espessura da amostra. Portanto, sua unidade no SI é \n",
    "Ω.m.\n",
    "\n",
    "A resistência considerada foi a medida a 3V, uma vez que apresentou os resultados com menor dispersão. Provavelmente isso ocorre por que nesse nível de tensão a influência do ruído no sinal é menor."
   ]
  },
  {
   "cell_type": "code",
   "execution_count": 19,
   "metadata": {
    "scrolled": true
   },
   "outputs": [
    {
     "name": "stdout",
     "output_type": "stream",
     "text": [
      "PU Puro\n",
      "𝜌 = 5.85e+13±8.1e+12 Ω.cm\n",
      "\n",
      "\n",
      "PU + 1% NPG\n",
      "𝜌 = 1.14e+14±3.4e+13 Ω.cm\n",
      "\n",
      "\n",
      "PU + 2% NPG\n",
      "𝜌 = 6.88e+13±5.8e+13 Ω.cm\n",
      "\n",
      "\n",
      "PU + 4% NPG\n",
      "𝜌 = 2.54e+11±2.6e+09 Ω.cm\n",
      "\n",
      "\n",
      "PU + 10% NPG\n",
      "𝜌 = 1.25e+04±8.7e+02 Ω.cm\n",
      "\n",
      "\n"
     ]
    }
   ],
   "source": [
    "dimensoes = {'PU': ((.565+.580+.580+.555)/4,2.935),\n",
    "             'PUEG1': ((.355+.355+.330+.330)/4,2.970),\n",
    "             'PUEG2': ((.415+.420+.415+.410)/4,2.985),\n",
    "             'PUEG4': ((.590+.590+.590+.590)/4,2.985),\n",
    "             'PUEG10': ((.695+.700+.705+.700)/4,2.985),\n",
    "\n",
    "            }\n",
    "\n",
    "output = pd.DataFrame(columns = ['Material','Descrição','Resistividade','Res. Desv. Pad.'])\n",
    "for material in materials:\n",
    "    rho = []\n",
    "    rho_std = []\n",
    "    df = ndf[(ndf['Material']==material) & (ndf['Tensão']=='3V')]\n",
    "    for rep in df['Repetição'].unique():\n",
    "        A = (dimensoes[material][1]*26.125)\n",
    "        l = dimensoes[material][0]\n",
    "        mask = (df['Tempo']>2)&(df['Repetição']==rep)\n",
    "        rho.append(df[mask][['Corrente', 'Resistência']].describe().loc['mean','Resistência']*A/l)\n",
    "        #rho_std[rep] = (df[df['Tempo']>2][['Corrente', 'Resistência']].describe().loc['std','Resistência']*((2.5**2)/espessura[material]))\n",
    "    #print(rho)\n",
    "    rho_std = np.std(rho)\n",
    "    rho = np.mean(rho)\n",
    "    \n",
    "    output = output.append({'Material': material,\n",
    "                            'Resistividade': rho,\n",
    "                            'Descrição': titles[material],\n",
    "                            'Res. Desv. Pad.': rho_std},\n",
    "                           ignore_index = True,\n",
    "                          )\n",
    "    print(titles[material])\n",
    "    print('𝜌 = {:.2e}±{:.1e} Ω.cm'.format(rho,1.96*rho_std))\n",
    "    print('\\n')"
   ]
  },
  {
   "cell_type": "markdown",
   "metadata": {},
   "source": [
    "Note que o valor após o sinal $\\pm$ representa 1,96 desvios-padrão, para 95% de confiabilidade."
   ]
  },
  {
   "cell_type": "code",
   "execution_count": 20,
   "metadata": {},
   "outputs": [
    {
     "data": {
      "text/html": [
       "<div>\n",
       "<style scoped>\n",
       "    .dataframe tbody tr th:only-of-type {\n",
       "        vertical-align: middle;\n",
       "    }\n",
       "\n",
       "    .dataframe tbody tr th {\n",
       "        vertical-align: top;\n",
       "    }\n",
       "\n",
       "    .dataframe thead th {\n",
       "        text-align: right;\n",
       "    }\n",
       "</style>\n",
       "<table border=\"1\" class=\"dataframe\">\n",
       "  <thead>\n",
       "    <tr style=\"text-align: right;\">\n",
       "      <th></th>\n",
       "      <th>Material</th>\n",
       "      <th>Descrição</th>\n",
       "      <th>Resistividade</th>\n",
       "      <th>Res. Desv. Pad.</th>\n",
       "    </tr>\n",
       "  </thead>\n",
       "  <tbody>\n",
       "    <tr>\n",
       "      <th>0</th>\n",
       "      <td>PU</td>\n",
       "      <td>PU Puro</td>\n",
       "      <td>5.853508e+13</td>\n",
       "      <td>4.127139e+12</td>\n",
       "    </tr>\n",
       "    <tr>\n",
       "      <th>1</th>\n",
       "      <td>PUEG1</td>\n",
       "      <td>PU + 1% NPG</td>\n",
       "      <td>1.139829e+14</td>\n",
       "      <td>1.730867e+13</td>\n",
       "    </tr>\n",
       "    <tr>\n",
       "      <th>2</th>\n",
       "      <td>PUEG2</td>\n",
       "      <td>PU + 2% NPG</td>\n",
       "      <td>6.879353e+13</td>\n",
       "      <td>2.946358e+13</td>\n",
       "    </tr>\n",
       "    <tr>\n",
       "      <th>3</th>\n",
       "      <td>PUEG4</td>\n",
       "      <td>PU + 4% NPG</td>\n",
       "      <td>2.539743e+11</td>\n",
       "      <td>1.338928e+09</td>\n",
       "    </tr>\n",
       "    <tr>\n",
       "      <th>4</th>\n",
       "      <td>PUEG10</td>\n",
       "      <td>PU + 10% NPG</td>\n",
       "      <td>1.250055e+04</td>\n",
       "      <td>4.463358e+02</td>\n",
       "    </tr>\n",
       "  </tbody>\n",
       "</table>\n",
       "</div>"
      ],
      "text/plain": [
       "  Material     Descrição  Resistividade  Res. Desv. Pad.\n",
       "0       PU       PU Puro   5.853508e+13     4.127139e+12\n",
       "1    PUEG1   PU + 1% NPG   1.139829e+14     1.730867e+13\n",
       "2    PUEG2   PU + 2% NPG   6.879353e+13     2.946358e+13\n",
       "3    PUEG4   PU + 4% NPG   2.539743e+11     1.338928e+09\n",
       "4   PUEG10  PU + 10% NPG   1.250055e+04     4.463358e+02"
      ]
     },
     "execution_count": 20,
     "metadata": {},
     "output_type": "execute_result"
    }
   ],
   "source": [
    "output"
   ]
  },
  {
   "cell_type": "markdown",
   "metadata": {},
   "source": [
    "### Condutividade Média\n",
    "\n",
    "A condutividade $\\sigma$ é o inverso da resistividade. Sua unidade no SI é siemens/metro (S/m), sendo que:\n",
    "\n",
    "$$ 1S = \\frac{1}{\\Omega} $$"
   ]
  },
  {
   "cell_type": "code",
   "execution_count": 21,
   "metadata": {
    "scrolled": true
   },
   "outputs": [
    {
     "name": "stdout",
     "output_type": "stream",
     "text": [
      "PU Puro\n",
      "𝜎 = 1.71e-14±2.4e-15 S/cm\n",
      "\n",
      "\n",
      "PU + 1% NPG\n",
      "𝜎 = 8.77e-15±2.9e-15 S/cm\n",
      "\n",
      "\n",
      "PU + 2% NPG\n",
      "𝜎 = 1.45e-14±4.1e-14 S/cm\n",
      "\n",
      "\n",
      "PU + 4% NPG\n",
      "𝜎 = 3.94e-12±4.1e-14 S/cm\n",
      "\n",
      "\n",
      "PU + 10% NPG\n",
      "𝜎 = 8.00e-05±5.6e-06 S/cm\n",
      "\n",
      "\n"
     ]
    }
   ],
   "source": [
    "output['Condutividade'] = 1/output['Resistividade']\n",
    "r2 = output['Resistividade']+1.96*output['Res. Desv. Pad.']\n",
    "r1 = output['Resistividade']-1.96*output['Res. Desv. Pad.']\n",
    "s1 = 1/r1\n",
    "s2 = 1/r2\n",
    "for material in materials:\n",
    "#     if material in condutor:\n",
    "    output.loc[output['Material']==material,'Cond. Desv. Pad.'] = (s1-s2)/(2*1.96)\n",
    "#     else:\n",
    "#         output.loc[output['Material']==material,'Cond. Desv. Pad.'] = 0\n",
    "    print(titles[material])\n",
    "    print('𝜎 = {:.2e}±{:.1e} S/cm'.format(output[output['Material']==material]['Condutividade'].values[0],\n",
    "                                           1.96*output[output['Material']==material]['Cond. Desv. Pad.'].values[0]))\n",
    "    print('\\n')"
   ]
  },
  {
   "cell_type": "code",
   "execution_count": 22,
   "metadata": {},
   "outputs": [
    {
     "data": {
      "text/html": [
       "<div>\n",
       "<style scoped>\n",
       "    .dataframe tbody tr th:only-of-type {\n",
       "        vertical-align: middle;\n",
       "    }\n",
       "\n",
       "    .dataframe tbody tr th {\n",
       "        vertical-align: top;\n",
       "    }\n",
       "\n",
       "    .dataframe thead th {\n",
       "        text-align: right;\n",
       "    }\n",
       "</style>\n",
       "<table border=\"1\" class=\"dataframe\">\n",
       "  <thead>\n",
       "    <tr style=\"text-align: right;\">\n",
       "      <th></th>\n",
       "      <th>Material</th>\n",
       "      <th>Descrição</th>\n",
       "      <th>Resistividade</th>\n",
       "      <th>Res. Desv. Pad.</th>\n",
       "      <th>Condutividade</th>\n",
       "      <th>Cond. Desv. Pad.</th>\n",
       "    </tr>\n",
       "  </thead>\n",
       "  <tbody>\n",
       "    <tr>\n",
       "      <th>0</th>\n",
       "      <td>PU</td>\n",
       "      <td>PU Puro</td>\n",
       "      <td>5.853508e+13</td>\n",
       "      <td>4.127139e+12</td>\n",
       "      <td>1.708377e-14</td>\n",
       "      <td>1.227979e-15</td>\n",
       "    </tr>\n",
       "    <tr>\n",
       "      <th>1</th>\n",
       "      <td>PUEG1</td>\n",
       "      <td>PU + 1% NPG</td>\n",
       "      <td>1.139829e+14</td>\n",
       "      <td>1.730867e+13</td>\n",
       "      <td>8.773246e-15</td>\n",
       "      <td>1.461733e-15</td>\n",
       "    </tr>\n",
       "    <tr>\n",
       "      <th>2</th>\n",
       "      <td>PUEG2</td>\n",
       "      <td>PU + 2% NPG</td>\n",
       "      <td>6.879353e+13</td>\n",
       "      <td>2.946358e+13</td>\n",
       "      <td>1.453625e-14</td>\n",
       "      <td>2.108084e-14</td>\n",
       "    </tr>\n",
       "    <tr>\n",
       "      <th>3</th>\n",
       "      <td>PUEG4</td>\n",
       "      <td>PU + 4% NPG</td>\n",
       "      <td>2.539743e+11</td>\n",
       "      <td>1.338928e+09</td>\n",
       "      <td>3.937407e-12</td>\n",
       "      <td>2.075985e-14</td>\n",
       "    </tr>\n",
       "    <tr>\n",
       "      <th>4</th>\n",
       "      <td>PUEG10</td>\n",
       "      <td>PU + 10% NPG</td>\n",
       "      <td>1.250055e+04</td>\n",
       "      <td>4.463358e+02</td>\n",
       "      <td>7.999651e-05</td>\n",
       "      <td>2.870357e-06</td>\n",
       "    </tr>\n",
       "  </tbody>\n",
       "</table>\n",
       "</div>"
      ],
      "text/plain": [
       "  Material     Descrição  Resistividade  Res. Desv. Pad.  Condutividade  \\\n",
       "0       PU       PU Puro   5.853508e+13     4.127139e+12   1.708377e-14   \n",
       "1    PUEG1   PU + 1% NPG   1.139829e+14     1.730867e+13   8.773246e-15   \n",
       "2    PUEG2   PU + 2% NPG   6.879353e+13     2.946358e+13   1.453625e-14   \n",
       "3    PUEG4   PU + 4% NPG   2.539743e+11     1.338928e+09   3.937407e-12   \n",
       "4   PUEG10  PU + 10% NPG   1.250055e+04     4.463358e+02   7.999651e-05   \n",
       "\n",
       "   Cond. Desv. Pad.  \n",
       "0      1.227979e-15  \n",
       "1      1.461733e-15  \n",
       "2      2.108084e-14  \n",
       "3      2.075985e-14  \n",
       "4      2.870357e-06  "
      ]
     },
     "execution_count": 22,
     "metadata": {},
     "output_type": "execute_result"
    }
   ],
   "source": [
    "output"
   ]
  },
  {
   "cell_type": "markdown",
   "metadata": {},
   "source": [
    "### Resumo das Condutividades Obtidas\n",
    "\n",
    "Podemos plotar um gráfico triangular representando as frações de cada material em cada um dos três eixos. Cada ponto é uma formulação de compósito. Note que ao passar o cursor do mouse aparecem os valores de condutividade média e desvio padrão para cada ponto."
   ]
  },
  {
   "cell_type": "code",
   "execution_count": 23,
   "metadata": {},
   "outputs": [],
   "source": [
    "output.index = output['Material']\n",
    "output.drop('Material', axis='columns', inplace = True)"
   ]
  },
  {
   "cell_type": "code",
   "execution_count": 24,
   "metadata": {},
   "outputs": [],
   "source": [
    "output = output.append({'Descrição': 'PU + 4% PAni', 'Resistividade':5.310467e+14,'Condutividade':1.883074e-15}, ignore_index = True)\n",
    "output = output.append({'Descrição': 'PU + 10% PAni', 'Resistividade':8.75e+10,'Condutividade':1.14e-11}, ignore_index = True)\n",
    "output = output.append({'Descrição': 'PAni', 'Resistividade':1.469943e+07,'Condutividade':6.802984e-8}, ignore_index = True)\n",
    "output = output.append({'Descrição': 'PU + 2% EG + 2% PAni', 'Resistividade':1.962490e+14,'Condutividade':5.095568e-15}, ignore_index = True)"
   ]
  },
  {
   "cell_type": "code",
   "execution_count": 25,
   "metadata": {},
   "outputs": [],
   "source": [
    "output['Condutividade'] = output['Condutividade']*100\n",
    "output['Cond. Desv. Pad.'] = output['Cond. Desv. Pad.']*100"
   ]
  },
  {
   "cell_type": "code",
   "execution_count": 26,
   "metadata": {},
   "outputs": [],
   "source": [
    "output['Condutividade_log'] = np.log10(output['Condutividade'])"
   ]
  },
  {
   "cell_type": "code",
   "execution_count": 27,
   "metadata": {},
   "outputs": [
    {
     "data": {
      "text/html": [
       "<div>\n",
       "<style scoped>\n",
       "    .dataframe tbody tr th:only-of-type {\n",
       "        vertical-align: middle;\n",
       "    }\n",
       "\n",
       "    .dataframe tbody tr th {\n",
       "        vertical-align: top;\n",
       "    }\n",
       "\n",
       "    .dataframe thead th {\n",
       "        text-align: right;\n",
       "    }\n",
       "</style>\n",
       "<table border=\"1\" class=\"dataframe\">\n",
       "  <thead>\n",
       "    <tr style=\"text-align: right;\">\n",
       "      <th></th>\n",
       "      <th>Descrição</th>\n",
       "      <th>Resistividade</th>\n",
       "      <th>Res. Desv. Pad.</th>\n",
       "      <th>Condutividade</th>\n",
       "      <th>Cond. Desv. Pad.</th>\n",
       "      <th>Condutividade_log</th>\n",
       "    </tr>\n",
       "  </thead>\n",
       "  <tbody>\n",
       "    <tr>\n",
       "      <th>0</th>\n",
       "      <td>PU Puro</td>\n",
       "      <td>5.853508e+13</td>\n",
       "      <td>4.127139e+12</td>\n",
       "      <td>1.708377e-12</td>\n",
       "      <td>1.227979e-13</td>\n",
       "      <td>-11.767416</td>\n",
       "    </tr>\n",
       "    <tr>\n",
       "      <th>1</th>\n",
       "      <td>PU + 1% NPG</td>\n",
       "      <td>1.139829e+14</td>\n",
       "      <td>1.730867e+13</td>\n",
       "      <td>8.773246e-13</td>\n",
       "      <td>1.461733e-13</td>\n",
       "      <td>-12.056840</td>\n",
       "    </tr>\n",
       "    <tr>\n",
       "      <th>2</th>\n",
       "      <td>PU + 2% NPG</td>\n",
       "      <td>6.879353e+13</td>\n",
       "      <td>2.946358e+13</td>\n",
       "      <td>1.453625e-12</td>\n",
       "      <td>2.108084e-12</td>\n",
       "      <td>-11.837548</td>\n",
       "    </tr>\n",
       "    <tr>\n",
       "      <th>3</th>\n",
       "      <td>PU + 4% NPG</td>\n",
       "      <td>2.539743e+11</td>\n",
       "      <td>1.338928e+09</td>\n",
       "      <td>3.937407e-10</td>\n",
       "      <td>2.075985e-12</td>\n",
       "      <td>-9.404790</td>\n",
       "    </tr>\n",
       "    <tr>\n",
       "      <th>4</th>\n",
       "      <td>PU + 10% NPG</td>\n",
       "      <td>1.250055e+04</td>\n",
       "      <td>4.463358e+02</td>\n",
       "      <td>7.999651e-03</td>\n",
       "      <td>2.870357e-04</td>\n",
       "      <td>-2.096929</td>\n",
       "    </tr>\n",
       "    <tr>\n",
       "      <th>5</th>\n",
       "      <td>PU + 4% PAni</td>\n",
       "      <td>5.310467e+14</td>\n",
       "      <td>NaN</td>\n",
       "      <td>1.883074e-13</td>\n",
       "      <td>NaN</td>\n",
       "      <td>-12.725133</td>\n",
       "    </tr>\n",
       "    <tr>\n",
       "      <th>6</th>\n",
       "      <td>PU + 10% PAni</td>\n",
       "      <td>8.750000e+10</td>\n",
       "      <td>NaN</td>\n",
       "      <td>1.140000e-09</td>\n",
       "      <td>NaN</td>\n",
       "      <td>-8.943095</td>\n",
       "    </tr>\n",
       "    <tr>\n",
       "      <th>7</th>\n",
       "      <td>PAni</td>\n",
       "      <td>1.469943e+07</td>\n",
       "      <td>NaN</td>\n",
       "      <td>6.802984e-06</td>\n",
       "      <td>NaN</td>\n",
       "      <td>-5.167301</td>\n",
       "    </tr>\n",
       "    <tr>\n",
       "      <th>8</th>\n",
       "      <td>PU + 2% EG + 2% PAni</td>\n",
       "      <td>1.962490e+14</td>\n",
       "      <td>NaN</td>\n",
       "      <td>5.095568e-13</td>\n",
       "      <td>NaN</td>\n",
       "      <td>-12.292807</td>\n",
       "    </tr>\n",
       "  </tbody>\n",
       "</table>\n",
       "</div>"
      ],
      "text/plain": [
       "              Descrição  Resistividade  Res. Desv. Pad.  Condutividade  \\\n",
       "0               PU Puro   5.853508e+13     4.127139e+12   1.708377e-12   \n",
       "1           PU + 1% NPG   1.139829e+14     1.730867e+13   8.773246e-13   \n",
       "2           PU + 2% NPG   6.879353e+13     2.946358e+13   1.453625e-12   \n",
       "3           PU + 4% NPG   2.539743e+11     1.338928e+09   3.937407e-10   \n",
       "4          PU + 10% NPG   1.250055e+04     4.463358e+02   7.999651e-03   \n",
       "5          PU + 4% PAni   5.310467e+14              NaN   1.883074e-13   \n",
       "6         PU + 10% PAni   8.750000e+10              NaN   1.140000e-09   \n",
       "7                  PAni   1.469943e+07              NaN   6.802984e-06   \n",
       "8  PU + 2% EG + 2% PAni   1.962490e+14              NaN   5.095568e-13   \n",
       "\n",
       "   Cond. Desv. Pad.  Condutividade_log  \n",
       "0      1.227979e-13         -11.767416  \n",
       "1      1.461733e-13         -12.056840  \n",
       "2      2.108084e-12         -11.837548  \n",
       "3      2.075985e-12          -9.404790  \n",
       "4      2.870357e-04          -2.096929  \n",
       "5               NaN         -12.725133  \n",
       "6               NaN          -8.943095  \n",
       "7               NaN          -5.167301  \n",
       "8               NaN         -12.292807  "
      ]
     },
     "execution_count": 27,
     "metadata": {},
     "output_type": "execute_result"
    }
   ],
   "source": [
    "output"
   ]
  },
  {
   "cell_type": "code",
   "execution_count": 28,
   "metadata": {
    "scrolled": false
   },
   "outputs": [
    {
     "data": {
      "application/vnd.plotly.v1+json": {
       "config": {
        "plotlyServerURL": "https://plot.ly"
       },
       "data": [
        {
         "a": [
          1,
          0.99,
          0.98,
          0.96,
          0.9,
          0.96,
          0.9,
          0,
          0.96
         ],
         "b": [
          0,
          0.01,
          0.02,
          0.04,
          0.1,
          0,
          0,
          0,
          0.02
         ],
         "c": [
          0,
          0,
          0,
          0,
          0,
          0.04,
          0.1,
          1,
          0.02
         ],
         "customdata": [
          [
           1,
           0,
           0,
           1.7083772085406592e-12,
           1.2279785986605132e-13
          ],
          [
           0.99,
           0.01,
           0,
           8.773245739252601e-13,
           1.4617334378978962e-13
          ],
          [
           0.98,
           0.02,
           0,
           1.4536250545631452e-12,
           2.1080839734627372e-12
          ],
          [
           0.96,
           0.04,
           0,
           3.937406694269215e-10,
           2.0759852610003947e-12
          ],
          [
           0.9,
           0.1,
           0,
           0.007999650817745292,
           0.00028703573305652254
          ],
          [
           0.96,
           0,
           0.04,
           1.8830740000000002e-13,
           null
          ],
          [
           0.9,
           0,
           0.1,
           1.14e-09,
           null
          ],
          [
           0,
           0,
           1,
           6.8029839999999995e-06,
           null
          ],
          [
           0.96,
           0.02,
           0.02,
           5.095568e-13,
           null
          ]
         ],
         "hovertemplate": "<b>%{hovertext}</b><br><br>PU=%{customdata[0]:.0%}<br>EG=%{customdata[1]:.0%}<br>PAni=%{customdata[2]:.0%}<br>Condutividade=%{customdata[3]:.2e}<br>Cond. Desv. Pad.=%{customdata[4]:.1e}<br>Condutividade_log=%{marker.color}<extra></extra>",
         "hovertext": [
          "PU Puro",
          "PU + 1% NPG",
          "PU + 2% NPG",
          "PU + 4% NPG",
          "PU + 10% NPG",
          "PU + 4% PAni",
          "PU + 10% PAni",
          "PAni",
          "PU + 2% EG + 2% PAni"
         ],
         "legendgroup": "",
         "marker": {
          "color": [
           -11.767416231128994,
           -12.056839705850976,
           -11.837547600171165,
           -9.404789724667522,
           -2.096928969412562,
           -12.725132612983767,
           -8.943095148663527,
           -5.167300550459377,
           -12.292807398406012
          ],
          "coloraxis": "coloraxis",
          "size": 22,
          "symbol": "circle"
         },
         "mode": "markers",
         "name": "",
         "showlegend": false,
         "subplot": "ternary",
         "type": "scatterternary"
        }
       ],
       "layout": {
        "coloraxis": {
         "colorbar": {
          "ticktext": [
           "1m",
           "100µ",
           "10µ",
           "1µ",
           "100n",
           "10n",
           "1n",
           "100p",
           "10p",
           "1p",
           "100f",
           "10f",
           "1f"
          ],
          "tickvals": [
           -3,
           -4,
           -5,
           -6,
           -7,
           -8,
           -9,
           -10,
           -11,
           -12,
           -13,
           -14,
           -15
          ],
          "title": {
           "side": "right",
           "text": "Condutividade (S/m)"
          }
         },
         "colorscale": [
          [
           0,
           "rgb(0,0,255)"
          ],
          [
           1,
           "rgb(255,0,0)"
          ]
         ]
        },
        "legend": {
         "tracegroupgap": 0
        },
        "margin": {
         "t": 60
        },
        "template": {
         "data": {
          "pie": [
           {
            "automargin": true,
            "type": "pie"
           }
          ],
          "scatter": [
           {
            "line": {
             "width": 3
            },
            "marker": {
             "size": 9
            },
            "type": "scatter"
           }
          ],
          "scatter3d": [
           {
            "line": {
             "width": 3
            },
            "marker": {
             "size": 9
            },
            "type": "scatter3d"
           }
          ],
          "scattergeo": [
           {
            "line": {
             "width": 3
            },
            "marker": {
             "size": 9
            },
            "type": "scattergeo"
           }
          ],
          "scattergl": [
           {
            "line": {
             "width": 3
            },
            "marker": {
             "size": 9
            },
            "type": "scattergl"
           }
          ],
          "scatterpolar": [
           {
            "line": {
             "width": 3
            },
            "marker": {
             "size": 9
            },
            "type": "scatterpolar"
           }
          ],
          "scatterpolargl": [
           {
            "line": {
             "width": 3
            },
            "marker": {
             "size": 9
            },
            "type": "scatterpolargl"
           }
          ],
          "scatterternary": [
           {
            "line": {
             "width": 3
            },
            "marker": {
             "size": 9
            },
            "type": "scatterternary"
           }
          ],
          "table": [
           {
            "cells": {
             "height": 30
            },
            "header": {
             "height": 36
            },
            "type": "table"
           }
          ]
         },
         "layout": {
          "font": {
           "size": 18
          },
          "xaxis": {
           "title": {
            "standoff": 15
           }
          },
          "yaxis": {
           "title": {
            "standoff": 15
           }
          }
         }
        },
        "ternary": {
         "aaxis": {
          "linewidth": 2,
          "min": 0,
          "ticks": "outside",
          "title": {
           "text": "PU"
          }
         },
         "baxis": {
          "linewidth": 2,
          "min": 0,
          "ticks": "outside",
          "title": {
           "text": "NPG"
          }
         },
         "caxis": {
          "linewidth": 2,
          "min": 0,
          "ticks": "outside",
          "title": {
           "text": "PAni"
          }
         },
         "domain": {
          "x": [
           0,
           1
          ],
          "y": [
           0,
           1
          ]
         },
         "sum": 1
        }
       }
      },
      "text/html": [
       "<div>\n",
       "        \n",
       "        \n",
       "            <div id=\"9d8fdae7-670d-4aee-a819-d5b1e65b4ac9\" class=\"plotly-graph-div\" style=\"height:525px; width:100%;\"></div>\n",
       "            <script type=\"text/javascript\">\n",
       "                require([\"plotly\"], function(Plotly) {\n",
       "                    window.PLOTLYENV=window.PLOTLYENV || {};\n",
       "                    \n",
       "                if (document.getElementById(\"9d8fdae7-670d-4aee-a819-d5b1e65b4ac9\")) {\n",
       "                    Plotly.newPlot(\n",
       "                        '9d8fdae7-670d-4aee-a819-d5b1e65b4ac9',\n",
       "                        [{\"a\": [1.0, 0.99, 0.98, 0.96, 0.9, 0.96, 0.9, 0.0, 0.96], \"b\": [0.0, 0.01, 0.02, 0.04, 0.1, 0.0, 0.0, 0.0, 0.02], \"c\": [0.0, 0.0, 0.0, 0.0, 0.0, 0.04, 0.1, 1.0, 0.02], \"customdata\": [[1.0, 0.0, 0.0, 1.7083772085406592e-12, 1.2279785986605132e-13], [0.99, 0.01, 0.0, 8.773245739252601e-13, 1.4617334378978962e-13], [0.98, 0.02, 0.0, 1.4536250545631452e-12, 2.1080839734627372e-12], [0.96, 0.04, 0.0, 3.937406694269215e-10, 2.0759852610003947e-12], [0.9, 0.1, 0.0, 0.007999650817745292, 0.00028703573305652254], [0.96, 0.0, 0.04, 1.8830740000000002e-13, null], [0.9, 0.0, 0.1, 1.14e-09, null], [0.0, 0.0, 1.0, 6.8029839999999995e-06, null], [0.96, 0.02, 0.02, 5.095568e-13, null]], \"hovertemplate\": \"<b>%{hovertext}</b><br><br>PU=%{customdata[0]:.0%}<br>EG=%{customdata[1]:.0%}<br>PAni=%{customdata[2]:.0%}<br>Condutividade=%{customdata[3]:.2e}<br>Cond. Desv. Pad.=%{customdata[4]:.1e}<br>Condutividade_log=%{marker.color}<extra></extra>\", \"hovertext\": [\"PU Puro\", \"PU + 1% NPG\", \"PU + 2% NPG\", \"PU + 4% NPG\", \"PU + 10% NPG\", \"PU + 4% PAni\", \"PU + 10% PAni\", \"PAni\", \"PU + 2% EG + 2% PAni\"], \"legendgroup\": \"\", \"marker\": {\"color\": [-11.767416231128994, -12.056839705850976, -11.837547600171165, -9.404789724667522, -2.096928969412562, -12.725132612983767, -8.943095148663527, -5.167300550459377, -12.292807398406012], \"coloraxis\": \"coloraxis\", \"size\": 22, \"symbol\": \"circle\"}, \"mode\": \"markers\", \"name\": \"\", \"showlegend\": false, \"subplot\": \"ternary\", \"type\": \"scatterternary\"}],\n",
       "                        {\"coloraxis\": {\"colorbar\": {\"ticktext\": [\"1m\", \"100\\u00b5\", \"10\\u00b5\", \"1\\u00b5\", \"100n\", \"10n\", \"1n\", \"100p\", \"10p\", \"1p\", \"100f\", \"10f\", \"1f\"], \"tickvals\": [-3, -4, -5, -6, -7, -8, -9, -10, -11, -12, -13, -14, -15], \"title\": {\"side\": \"right\", \"text\": \"Condutividade (S/m)\"}}, \"colorscale\": [[0.0, \"rgb(0,0,255)\"], [1.0, \"rgb(255,0,0)\"]]}, \"legend\": {\"tracegroupgap\": 0}, \"margin\": {\"t\": 60}, \"template\": {\"data\": {\"pie\": [{\"automargin\": true, \"type\": \"pie\"}], \"scatter\": [{\"line\": {\"width\": 3}, \"marker\": {\"size\": 9}, \"type\": \"scatter\"}], \"scatter3d\": [{\"line\": {\"width\": 3}, \"marker\": {\"size\": 9}, \"type\": \"scatter3d\"}], \"scattergeo\": [{\"line\": {\"width\": 3}, \"marker\": {\"size\": 9}, \"type\": \"scattergeo\"}], \"scattergl\": [{\"line\": {\"width\": 3}, \"marker\": {\"size\": 9}, \"type\": \"scattergl\"}], \"scatterpolar\": [{\"line\": {\"width\": 3}, \"marker\": {\"size\": 9}, \"type\": \"scatterpolar\"}], \"scatterpolargl\": [{\"line\": {\"width\": 3}, \"marker\": {\"size\": 9}, \"type\": \"scatterpolargl\"}], \"scatterternary\": [{\"line\": {\"width\": 3}, \"marker\": {\"size\": 9}, \"type\": \"scatterternary\"}], \"table\": [{\"cells\": {\"height\": 30}, \"header\": {\"height\": 36}, \"type\": \"table\"}]}, \"layout\": {\"font\": {\"size\": 18}, \"xaxis\": {\"title\": {\"standoff\": 15}}, \"yaxis\": {\"title\": {\"standoff\": 15}}}}, \"ternary\": {\"aaxis\": {\"linewidth\": 2, \"min\": 0, \"ticks\": \"outside\", \"title\": {\"text\": \"PU\"}}, \"baxis\": {\"linewidth\": 2, \"min\": 0, \"ticks\": \"outside\", \"title\": {\"text\": \"NPG\"}}, \"caxis\": {\"linewidth\": 2, \"min\": 0, \"ticks\": \"outside\", \"title\": {\"text\": \"PAni\"}}, \"domain\": {\"x\": [0.0, 1.0], \"y\": [0.0, 1.0]}, \"sum\": 1}},\n",
       "                        {\"responsive\": true}\n",
       "                    ).then(function(){\n",
       "                            \n",
       "var gd = document.getElementById('9d8fdae7-670d-4aee-a819-d5b1e65b4ac9');\n",
       "var x = new MutationObserver(function (mutations, observer) {{\n",
       "        var display = window.getComputedStyle(gd).display;\n",
       "        if (!display || display === 'none') {{\n",
       "            console.log([gd, 'removed!']);\n",
       "            Plotly.purge(gd);\n",
       "            observer.disconnect();\n",
       "        }}\n",
       "}});\n",
       "\n",
       "// Listen for the removal of the full notebook cells\n",
       "var notebookContainer = gd.closest('#notebook-container');\n",
       "if (notebookContainer) {{\n",
       "    x.observe(notebookContainer, {childList: true});\n",
       "}}\n",
       "\n",
       "// Listen for the clearing of the current output cell\n",
       "var outputEl = gd.closest('.output');\n",
       "if (outputEl) {{\n",
       "    x.observe(outputEl, {childList: true});\n",
       "}}\n",
       "\n",
       "                        })\n",
       "                };\n",
       "                });\n",
       "            </script>\n",
       "        </div>"
      ]
     },
     "metadata": {},
     "output_type": "display_data"
    }
   ],
   "source": [
    "output['PU'] = 1,.99,.98,.96,.9,.96,.9,0,.96\n",
    "output['EG'] = 0,.01,.02,.04,.1,0,0,0,.02\n",
    "output['PAni'] = 0,0,.0,.0,0,.04,.1,1,.02\n",
    "\n",
    "fig = px.scatter_ternary(output,\n",
    "                         a=\"PU\",\n",
    "                         b=\"EG\",\n",
    "                         c=\"PAni\",\n",
    "                         hover_name=\"Descrição\",\n",
    "                         hover_data= {'PU': ':.0%',\n",
    "                                      'EG': ':.0%',\n",
    "                                      'PAni': ':.0%',\n",
    "                                      'Condutividade': ':.2e',\n",
    "                                      'Cond. Desv. Pad.': ':.1e'\n",
    "                                     },\n",
    "                         color=\"Condutividade_log\",\n",
    "                         color_continuous_scale = 'Bluered',\n",
    "                         template = 'presentation'\n",
    "                        )\n",
    "fig.data[0].marker.size = 22\n",
    "fig.data[0].marker.symbol = 'circle'\n",
    "fig.update_layout({\n",
    "        'ternary':\n",
    "            {\n",
    "            'sum':1,\n",
    "            'aaxis':{'min': 0, \n",
    "                     'linewidth':2, 'ticks':'outside',\n",
    "                     'title_text':'PU',\n",
    "                     #'tickmode':'array','tickvals':[.98,.96,.94,.92]\n",
    "                    },\n",
    "            'baxis':{'min': 0, \n",
    "                     'linewidth':2, 'ticks':'outside',\n",
    "                     'title_text':'NPG',\n",
    "                     #'tickmode':'array','tickvals':[0,.02,.04,.06,.08]\n",
    "                    },\n",
    "            'caxis':{'min': 0, \n",
    "                     'linewidth':2, 'ticks':'outside',\n",
    "                     'title_text':'PAni',\n",
    "                     #'tickmode':'array','tickvals':[0,.02,.04,.06,.08]\n",
    "                    }\n",
    "            },\n",
    "        'coloraxis': {'colorbar': {'title':{'text': 'Condutividade (S/m)',\n",
    "                                            'side':'right',\n",
    "                                           },\n",
    "                                   'tickvals': [-3,-4,-5,-6,-7,-8,-9,-10,-11,-12,-13,-14,-15],\n",
    "                                   'ticktext': ['1m','100µ','10µ','1µ','100n','10n','1n','100p','10p','1p','100f','10f','1f']\n",
    "                                  }}})"
   ]
  },
  {
   "cell_type": "code",
   "execution_count": 29,
   "metadata": {},
   "outputs": [
    {
     "data": {
      "application/vnd.plotly.v1+json": {
       "config": {
        "plotlyServerURL": "https://plot.ly"
       },
       "data": [
        {
         "a": [
          1,
          0.99,
          0.98,
          0.96,
          0.9,
          0.96,
          0.9,
          0,
          0.96
         ],
         "b": [
          0,
          0.01,
          0.02,
          0.04,
          0.1,
          0,
          0,
          0,
          0.02
         ],
         "c": [
          0,
          0,
          0,
          0,
          0,
          0.04,
          0.1,
          1,
          0.02
         ],
         "customdata": [
          [
           1,
           0,
           0,
           1.7083772085406592e-12,
           1.2279785986605132e-13
          ],
          [
           0.99,
           0.01,
           0,
           8.773245739252601e-13,
           1.4617334378978962e-13
          ],
          [
           0.98,
           0.02,
           0,
           1.4536250545631452e-12,
           2.1080839734627372e-12
          ],
          [
           0.96,
           0.04,
           0,
           3.937406694269215e-10,
           2.0759852610003947e-12
          ],
          [
           0.9,
           0.1,
           0,
           0.007999650817745292,
           0.00028703573305652254
          ],
          [
           0.96,
           0,
           0.04,
           1.8830740000000002e-13,
           null
          ],
          [
           0.9,
           0,
           0.1,
           1.14e-09,
           null
          ],
          [
           0,
           0,
           1,
           6.8029839999999995e-06,
           null
          ],
          [
           0.96,
           0.02,
           0.02,
           5.095568e-13,
           null
          ]
         ],
         "hovertemplate": "<b>%{hovertext}</b><br><br>PU=%{customdata[0]:.0%}<br>EG=%{customdata[1]:.0%}<br>PAni=%{customdata[2]:.0%}<br>Condutividade=%{customdata[3]:.2e}<br>Cond. Desv. Pad.=%{customdata[4]:.1e}<br>Condutividade_log=%{marker.color}<extra></extra>",
         "hovertext": [
          "PU Puro",
          "PU + 1% NPG",
          "PU + 2% NPG",
          "PU + 4% NPG",
          "PU + 10% NPG",
          "PU + 4% PAni",
          "PU + 10% PAni",
          "PAni",
          "PU + 2% EG + 2% PAni"
         ],
         "legendgroup": "",
         "marker": {
          "color": [
           -11.767416231128994,
           -12.056839705850976,
           -11.837547600171165,
           -9.404789724667522,
           -2.096928969412562,
           -12.725132612983767,
           -8.943095148663527,
           -5.167300550459377,
           -12.292807398406012
          ],
          "coloraxis": "coloraxis",
          "size": 22,
          "symbol": "circle"
         },
         "mode": "markers",
         "name": "",
         "showlegend": false,
         "subplot": "ternary",
         "type": "scatterternary"
        }
       ],
       "layout": {
        "coloraxis": {
         "colorbar": {
          "ticktext": [
           "1m",
           "100µ",
           "10µ",
           "1µ",
           "100n",
           "10n",
           "1n",
           "100p",
           "10p",
           "1p",
           "100f",
           "10f",
           "1f"
          ],
          "tickvals": [
           -3,
           -4,
           -5,
           -6,
           -7,
           -8,
           -9,
           -10,
           -11,
           -12,
           -13,
           -14,
           -15
          ],
          "title": {
           "side": "right",
           "text": "Condutividade (S/m)"
          }
         },
         "colorscale": [
          [
           0,
           "rgb(0,0,255)"
          ],
          [
           1,
           "rgb(255,0,0)"
          ]
         ]
        },
        "legend": {
         "tracegroupgap": 0
        },
        "margin": {
         "t": 60
        },
        "template": {
         "data": {
          "pie": [
           {
            "automargin": true,
            "type": "pie"
           }
          ],
          "scatter": [
           {
            "line": {
             "width": 3
            },
            "marker": {
             "size": 9
            },
            "type": "scatter"
           }
          ],
          "scatter3d": [
           {
            "line": {
             "width": 3
            },
            "marker": {
             "size": 9
            },
            "type": "scatter3d"
           }
          ],
          "scattergeo": [
           {
            "line": {
             "width": 3
            },
            "marker": {
             "size": 9
            },
            "type": "scattergeo"
           }
          ],
          "scattergl": [
           {
            "line": {
             "width": 3
            },
            "marker": {
             "size": 9
            },
            "type": "scattergl"
           }
          ],
          "scatterpolar": [
           {
            "line": {
             "width": 3
            },
            "marker": {
             "size": 9
            },
            "type": "scatterpolar"
           }
          ],
          "scatterpolargl": [
           {
            "line": {
             "width": 3
            },
            "marker": {
             "size": 9
            },
            "type": "scatterpolargl"
           }
          ],
          "scatterternary": [
           {
            "line": {
             "width": 3
            },
            "marker": {
             "size": 9
            },
            "type": "scatterternary"
           }
          ],
          "table": [
           {
            "cells": {
             "height": 30
            },
            "header": {
             "height": 36
            },
            "type": "table"
           }
          ]
         },
         "layout": {
          "font": {
           "size": 18
          },
          "xaxis": {
           "title": {
            "standoff": 15
           }
          },
          "yaxis": {
           "title": {
            "standoff": 15
           }
          }
         }
        },
        "ternary": {
         "aaxis": {
          "linewidth": 2,
          "min": 0.9,
          "ticks": "outside",
          "title": {
           "text": "PU"
          }
         },
         "baxis": {
          "linewidth": 2,
          "min": 0,
          "ticks": "outside",
          "title": {
           "text": "NPG"
          }
         },
         "caxis": {
          "linewidth": 2,
          "min": 0,
          "ticks": "outside",
          "title": {
           "text": "PAni"
          }
         },
         "domain": {
          "x": [
           0,
           1
          ],
          "y": [
           0,
           1
          ]
         },
         "sum": 1
        }
       }
      },
      "text/html": [
       "<div>\n",
       "        \n",
       "        \n",
       "            <div id=\"06aac661-8d7e-40b9-9781-93f7654a8bb9\" class=\"plotly-graph-div\" style=\"height:525px; width:100%;\"></div>\n",
       "            <script type=\"text/javascript\">\n",
       "                require([\"plotly\"], function(Plotly) {\n",
       "                    window.PLOTLYENV=window.PLOTLYENV || {};\n",
       "                    \n",
       "                if (document.getElementById(\"06aac661-8d7e-40b9-9781-93f7654a8bb9\")) {\n",
       "                    Plotly.newPlot(\n",
       "                        '06aac661-8d7e-40b9-9781-93f7654a8bb9',\n",
       "                        [{\"a\": [1.0, 0.99, 0.98, 0.96, 0.9, 0.96, 0.9, 0.0, 0.96], \"b\": [0.0, 0.01, 0.02, 0.04, 0.1, 0.0, 0.0, 0.0, 0.02], \"c\": [0.0, 0.0, 0.0, 0.0, 0.0, 0.04, 0.1, 1.0, 0.02], \"customdata\": [[1.0, 0.0, 0.0, 1.7083772085406592e-12, 1.2279785986605132e-13], [0.99, 0.01, 0.0, 8.773245739252601e-13, 1.4617334378978962e-13], [0.98, 0.02, 0.0, 1.4536250545631452e-12, 2.1080839734627372e-12], [0.96, 0.04, 0.0, 3.937406694269215e-10, 2.0759852610003947e-12], [0.9, 0.1, 0.0, 0.007999650817745292, 0.00028703573305652254], [0.96, 0.0, 0.04, 1.8830740000000002e-13, null], [0.9, 0.0, 0.1, 1.14e-09, null], [0.0, 0.0, 1.0, 6.8029839999999995e-06, null], [0.96, 0.02, 0.02, 5.095568e-13, null]], \"hovertemplate\": \"<b>%{hovertext}</b><br><br>PU=%{customdata[0]:.0%}<br>EG=%{customdata[1]:.0%}<br>PAni=%{customdata[2]:.0%}<br>Condutividade=%{customdata[3]:.2e}<br>Cond. Desv. Pad.=%{customdata[4]:.1e}<br>Condutividade_log=%{marker.color}<extra></extra>\", \"hovertext\": [\"PU Puro\", \"PU + 1% NPG\", \"PU + 2% NPG\", \"PU + 4% NPG\", \"PU + 10% NPG\", \"PU + 4% PAni\", \"PU + 10% PAni\", \"PAni\", \"PU + 2% EG + 2% PAni\"], \"legendgroup\": \"\", \"marker\": {\"color\": [-11.767416231128994, -12.056839705850976, -11.837547600171165, -9.404789724667522, -2.096928969412562, -12.725132612983767, -8.943095148663527, -5.167300550459377, -12.292807398406012], \"coloraxis\": \"coloraxis\", \"size\": 22, \"symbol\": \"circle\"}, \"mode\": \"markers\", \"name\": \"\", \"showlegend\": false, \"subplot\": \"ternary\", \"type\": \"scatterternary\"}],\n",
       "                        {\"coloraxis\": {\"colorbar\": {\"ticktext\": [\"1m\", \"100\\u00b5\", \"10\\u00b5\", \"1\\u00b5\", \"100n\", \"10n\", \"1n\", \"100p\", \"10p\", \"1p\", \"100f\", \"10f\", \"1f\"], \"tickvals\": [-3, -4, -5, -6, -7, -8, -9, -10, -11, -12, -13, -14, -15], \"title\": {\"side\": \"right\", \"text\": \"Condutividade (S/m)\"}}, \"colorscale\": [[0.0, \"rgb(0,0,255)\"], [1.0, \"rgb(255,0,0)\"]]}, \"legend\": {\"tracegroupgap\": 0}, \"margin\": {\"t\": 60}, \"template\": {\"data\": {\"pie\": [{\"automargin\": true, \"type\": \"pie\"}], \"scatter\": [{\"line\": {\"width\": 3}, \"marker\": {\"size\": 9}, \"type\": \"scatter\"}], \"scatter3d\": [{\"line\": {\"width\": 3}, \"marker\": {\"size\": 9}, \"type\": \"scatter3d\"}], \"scattergeo\": [{\"line\": {\"width\": 3}, \"marker\": {\"size\": 9}, \"type\": \"scattergeo\"}], \"scattergl\": [{\"line\": {\"width\": 3}, \"marker\": {\"size\": 9}, \"type\": \"scattergl\"}], \"scatterpolar\": [{\"line\": {\"width\": 3}, \"marker\": {\"size\": 9}, \"type\": \"scatterpolar\"}], \"scatterpolargl\": [{\"line\": {\"width\": 3}, \"marker\": {\"size\": 9}, \"type\": \"scatterpolargl\"}], \"scatterternary\": [{\"line\": {\"width\": 3}, \"marker\": {\"size\": 9}, \"type\": \"scatterternary\"}], \"table\": [{\"cells\": {\"height\": 30}, \"header\": {\"height\": 36}, \"type\": \"table\"}]}, \"layout\": {\"font\": {\"size\": 18}, \"xaxis\": {\"title\": {\"standoff\": 15}}, \"yaxis\": {\"title\": {\"standoff\": 15}}}}, \"ternary\": {\"aaxis\": {\"linewidth\": 2, \"min\": 0.9, \"ticks\": \"outside\", \"title\": {\"text\": \"PU\"}}, \"baxis\": {\"linewidth\": 2, \"min\": 0, \"ticks\": \"outside\", \"title\": {\"text\": \"NPG\"}}, \"caxis\": {\"linewidth\": 2, \"min\": 0, \"ticks\": \"outside\", \"title\": {\"text\": \"PAni\"}}, \"domain\": {\"x\": [0.0, 1.0], \"y\": [0.0, 1.0]}, \"sum\": 1}},\n",
       "                        {\"responsive\": true}\n",
       "                    ).then(function(){\n",
       "                            \n",
       "var gd = document.getElementById('06aac661-8d7e-40b9-9781-93f7654a8bb9');\n",
       "var x = new MutationObserver(function (mutations, observer) {{\n",
       "        var display = window.getComputedStyle(gd).display;\n",
       "        if (!display || display === 'none') {{\n",
       "            console.log([gd, 'removed!']);\n",
       "            Plotly.purge(gd);\n",
       "            observer.disconnect();\n",
       "        }}\n",
       "}});\n",
       "\n",
       "// Listen for the removal of the full notebook cells\n",
       "var notebookContainer = gd.closest('#notebook-container');\n",
       "if (notebookContainer) {{\n",
       "    x.observe(notebookContainer, {childList: true});\n",
       "}}\n",
       "\n",
       "// Listen for the clearing of the current output cell\n",
       "var outputEl = gd.closest('.output');\n",
       "if (outputEl) {{\n",
       "    x.observe(outputEl, {childList: true});\n",
       "}}\n",
       "\n",
       "                        })\n",
       "                };\n",
       "                });\n",
       "            </script>\n",
       "        </div>"
      ]
     },
     "metadata": {},
     "output_type": "display_data"
    }
   ],
   "source": [
    "fig.update_layout({\n",
    "        'ternary':\n",
    "            {\n",
    "            'sum':1,\n",
    "            'aaxis':{'min': .9, \n",
    "                     'linewidth':2, 'ticks':'outside',\n",
    "                     'title_text':'PU',\n",
    "                     #'tickmode':'array','tickvals':[.98,.96,.94,.92]\n",
    "                    },\n",
    "            'baxis':{'min': .0, \n",
    "                     'linewidth':2, 'ticks':'outside',\n",
    "                     'title_text':'NPG',\n",
    "                     #'tickmode':'array','tickvals':[0,.02,.04,.06,.08]\n",
    "                    },\n",
    "            'caxis':{'min': .0, \n",
    "                     'linewidth':2, 'ticks':'outside',\n",
    "                     'title_text':'PAni',\n",
    "                     #'tickmode':'array','tickvals':[0,.02,.04,.06,.08]\n",
    "                    }\n",
    "            },})"
   ]
  },
  {
   "cell_type": "markdown",
   "metadata": {},
   "source": [
    "Posteriormente poderá ser feita uma interpolação e um gráfico tipo curvas de nível neste triângulo"
   ]
  },
  {
   "cell_type": "code",
   "execution_count": 30,
   "metadata": {},
   "outputs": [],
   "source": [
    "fig = px.line(output, x='EG', y='Condutividade', log_x = False, log_y = True)"
   ]
  },
  {
   "cell_type": "code",
   "execution_count": 31,
   "metadata": {},
   "outputs": [
    {
     "data": {
      "application/vnd.plotly.v1+json": {
       "config": {
        "plotlyServerURL": "https://plot.ly"
       },
       "data": [
        {
         "hovertemplate": "EG=%{x}<br>Condutividade=%{y}<extra></extra>",
         "legendgroup": "",
         "line": {
          "color": "#636efa",
          "dash": "solid"
         },
         "mode": "lines",
         "name": "",
         "orientation": "v",
         "showlegend": false,
         "type": "scatter",
         "x": [
          0,
          0.01,
          0.02,
          0.04,
          0.1,
          0,
          0,
          0,
          0.02
         ],
         "xaxis": "x",
         "y": [
          1.7083772085406592e-12,
          8.773245739252601e-13,
          1.4536250545631452e-12,
          3.937406694269215e-10,
          0.007999650817745292,
          1.8830740000000002e-13,
          1.14e-09,
          6.8029839999999995e-06,
          5.095568e-13
         ],
         "yaxis": "y"
        }
       ],
       "layout": {
        "legend": {
         "tracegroupgap": 0
        },
        "margin": {
         "t": 60
        },
        "template": {
         "data": {
          "bar": [
           {
            "error_x": {
             "color": "#2a3f5f"
            },
            "error_y": {
             "color": "#2a3f5f"
            },
            "marker": {
             "line": {
              "color": "#E5ECF6",
              "width": 0.5
             }
            },
            "type": "bar"
           }
          ],
          "barpolar": [
           {
            "marker": {
             "line": {
              "color": "#E5ECF6",
              "width": 0.5
             }
            },
            "type": "barpolar"
           }
          ],
          "carpet": [
           {
            "aaxis": {
             "endlinecolor": "#2a3f5f",
             "gridcolor": "white",
             "linecolor": "white",
             "minorgridcolor": "white",
             "startlinecolor": "#2a3f5f"
            },
            "baxis": {
             "endlinecolor": "#2a3f5f",
             "gridcolor": "white",
             "linecolor": "white",
             "minorgridcolor": "white",
             "startlinecolor": "#2a3f5f"
            },
            "type": "carpet"
           }
          ],
          "choropleth": [
           {
            "colorbar": {
             "outlinewidth": 0,
             "ticks": ""
            },
            "type": "choropleth"
           }
          ],
          "contour": [
           {
            "colorbar": {
             "outlinewidth": 0,
             "ticks": ""
            },
            "colorscale": [
             [
              0,
              "#0d0887"
             ],
             [
              0.1111111111111111,
              "#46039f"
             ],
             [
              0.2222222222222222,
              "#7201a8"
             ],
             [
              0.3333333333333333,
              "#9c179e"
             ],
             [
              0.4444444444444444,
              "#bd3786"
             ],
             [
              0.5555555555555556,
              "#d8576b"
             ],
             [
              0.6666666666666666,
              "#ed7953"
             ],
             [
              0.7777777777777778,
              "#fb9f3a"
             ],
             [
              0.8888888888888888,
              "#fdca26"
             ],
             [
              1,
              "#f0f921"
             ]
            ],
            "type": "contour"
           }
          ],
          "contourcarpet": [
           {
            "colorbar": {
             "outlinewidth": 0,
             "ticks": ""
            },
            "type": "contourcarpet"
           }
          ],
          "heatmap": [
           {
            "colorbar": {
             "outlinewidth": 0,
             "ticks": ""
            },
            "colorscale": [
             [
              0,
              "#0d0887"
             ],
             [
              0.1111111111111111,
              "#46039f"
             ],
             [
              0.2222222222222222,
              "#7201a8"
             ],
             [
              0.3333333333333333,
              "#9c179e"
             ],
             [
              0.4444444444444444,
              "#bd3786"
             ],
             [
              0.5555555555555556,
              "#d8576b"
             ],
             [
              0.6666666666666666,
              "#ed7953"
             ],
             [
              0.7777777777777778,
              "#fb9f3a"
             ],
             [
              0.8888888888888888,
              "#fdca26"
             ],
             [
              1,
              "#f0f921"
             ]
            ],
            "type": "heatmap"
           }
          ],
          "heatmapgl": [
           {
            "colorbar": {
             "outlinewidth": 0,
             "ticks": ""
            },
            "colorscale": [
             [
              0,
              "#0d0887"
             ],
             [
              0.1111111111111111,
              "#46039f"
             ],
             [
              0.2222222222222222,
              "#7201a8"
             ],
             [
              0.3333333333333333,
              "#9c179e"
             ],
             [
              0.4444444444444444,
              "#bd3786"
             ],
             [
              0.5555555555555556,
              "#d8576b"
             ],
             [
              0.6666666666666666,
              "#ed7953"
             ],
             [
              0.7777777777777778,
              "#fb9f3a"
             ],
             [
              0.8888888888888888,
              "#fdca26"
             ],
             [
              1,
              "#f0f921"
             ]
            ],
            "type": "heatmapgl"
           }
          ],
          "histogram": [
           {
            "marker": {
             "colorbar": {
              "outlinewidth": 0,
              "ticks": ""
             }
            },
            "type": "histogram"
           }
          ],
          "histogram2d": [
           {
            "colorbar": {
             "outlinewidth": 0,
             "ticks": ""
            },
            "colorscale": [
             [
              0,
              "#0d0887"
             ],
             [
              0.1111111111111111,
              "#46039f"
             ],
             [
              0.2222222222222222,
              "#7201a8"
             ],
             [
              0.3333333333333333,
              "#9c179e"
             ],
             [
              0.4444444444444444,
              "#bd3786"
             ],
             [
              0.5555555555555556,
              "#d8576b"
             ],
             [
              0.6666666666666666,
              "#ed7953"
             ],
             [
              0.7777777777777778,
              "#fb9f3a"
             ],
             [
              0.8888888888888888,
              "#fdca26"
             ],
             [
              1,
              "#f0f921"
             ]
            ],
            "type": "histogram2d"
           }
          ],
          "histogram2dcontour": [
           {
            "colorbar": {
             "outlinewidth": 0,
             "ticks": ""
            },
            "colorscale": [
             [
              0,
              "#0d0887"
             ],
             [
              0.1111111111111111,
              "#46039f"
             ],
             [
              0.2222222222222222,
              "#7201a8"
             ],
             [
              0.3333333333333333,
              "#9c179e"
             ],
             [
              0.4444444444444444,
              "#bd3786"
             ],
             [
              0.5555555555555556,
              "#d8576b"
             ],
             [
              0.6666666666666666,
              "#ed7953"
             ],
             [
              0.7777777777777778,
              "#fb9f3a"
             ],
             [
              0.8888888888888888,
              "#fdca26"
             ],
             [
              1,
              "#f0f921"
             ]
            ],
            "type": "histogram2dcontour"
           }
          ],
          "mesh3d": [
           {
            "colorbar": {
             "outlinewidth": 0,
             "ticks": ""
            },
            "type": "mesh3d"
           }
          ],
          "parcoords": [
           {
            "line": {
             "colorbar": {
              "outlinewidth": 0,
              "ticks": ""
             }
            },
            "type": "parcoords"
           }
          ],
          "pie": [
           {
            "automargin": true,
            "type": "pie"
           }
          ],
          "scatter": [
           {
            "marker": {
             "colorbar": {
              "outlinewidth": 0,
              "ticks": ""
             }
            },
            "type": "scatter"
           }
          ],
          "scatter3d": [
           {
            "line": {
             "colorbar": {
              "outlinewidth": 0,
              "ticks": ""
             }
            },
            "marker": {
             "colorbar": {
              "outlinewidth": 0,
              "ticks": ""
             }
            },
            "type": "scatter3d"
           }
          ],
          "scattercarpet": [
           {
            "marker": {
             "colorbar": {
              "outlinewidth": 0,
              "ticks": ""
             }
            },
            "type": "scattercarpet"
           }
          ],
          "scattergeo": [
           {
            "marker": {
             "colorbar": {
              "outlinewidth": 0,
              "ticks": ""
             }
            },
            "type": "scattergeo"
           }
          ],
          "scattergl": [
           {
            "marker": {
             "colorbar": {
              "outlinewidth": 0,
              "ticks": ""
             }
            },
            "type": "scattergl"
           }
          ],
          "scattermapbox": [
           {
            "marker": {
             "colorbar": {
              "outlinewidth": 0,
              "ticks": ""
             }
            },
            "type": "scattermapbox"
           }
          ],
          "scatterpolar": [
           {
            "marker": {
             "colorbar": {
              "outlinewidth": 0,
              "ticks": ""
             }
            },
            "type": "scatterpolar"
           }
          ],
          "scatterpolargl": [
           {
            "marker": {
             "colorbar": {
              "outlinewidth": 0,
              "ticks": ""
             }
            },
            "type": "scatterpolargl"
           }
          ],
          "scatterternary": [
           {
            "marker": {
             "colorbar": {
              "outlinewidth": 0,
              "ticks": ""
             }
            },
            "type": "scatterternary"
           }
          ],
          "surface": [
           {
            "colorbar": {
             "outlinewidth": 0,
             "ticks": ""
            },
            "colorscale": [
             [
              0,
              "#0d0887"
             ],
             [
              0.1111111111111111,
              "#46039f"
             ],
             [
              0.2222222222222222,
              "#7201a8"
             ],
             [
              0.3333333333333333,
              "#9c179e"
             ],
             [
              0.4444444444444444,
              "#bd3786"
             ],
             [
              0.5555555555555556,
              "#d8576b"
             ],
             [
              0.6666666666666666,
              "#ed7953"
             ],
             [
              0.7777777777777778,
              "#fb9f3a"
             ],
             [
              0.8888888888888888,
              "#fdca26"
             ],
             [
              1,
              "#f0f921"
             ]
            ],
            "type": "surface"
           }
          ],
          "table": [
           {
            "cells": {
             "fill": {
              "color": "#EBF0F8"
             },
             "line": {
              "color": "white"
             }
            },
            "header": {
             "fill": {
              "color": "#C8D4E3"
             },
             "line": {
              "color": "white"
             }
            },
            "type": "table"
           }
          ]
         },
         "layout": {
          "annotationdefaults": {
           "arrowcolor": "#2a3f5f",
           "arrowhead": 0,
           "arrowwidth": 1
          },
          "coloraxis": {
           "colorbar": {
            "outlinewidth": 0,
            "ticks": ""
           }
          },
          "colorscale": {
           "diverging": [
            [
             0,
             "#8e0152"
            ],
            [
             0.1,
             "#c51b7d"
            ],
            [
             0.2,
             "#de77ae"
            ],
            [
             0.3,
             "#f1b6da"
            ],
            [
             0.4,
             "#fde0ef"
            ],
            [
             0.5,
             "#f7f7f7"
            ],
            [
             0.6,
             "#e6f5d0"
            ],
            [
             0.7,
             "#b8e186"
            ],
            [
             0.8,
             "#7fbc41"
            ],
            [
             0.9,
             "#4d9221"
            ],
            [
             1,
             "#276419"
            ]
           ],
           "sequential": [
            [
             0,
             "#0d0887"
            ],
            [
             0.1111111111111111,
             "#46039f"
            ],
            [
             0.2222222222222222,
             "#7201a8"
            ],
            [
             0.3333333333333333,
             "#9c179e"
            ],
            [
             0.4444444444444444,
             "#bd3786"
            ],
            [
             0.5555555555555556,
             "#d8576b"
            ],
            [
             0.6666666666666666,
             "#ed7953"
            ],
            [
             0.7777777777777778,
             "#fb9f3a"
            ],
            [
             0.8888888888888888,
             "#fdca26"
            ],
            [
             1,
             "#f0f921"
            ]
           ],
           "sequentialminus": [
            [
             0,
             "#0d0887"
            ],
            [
             0.1111111111111111,
             "#46039f"
            ],
            [
             0.2222222222222222,
             "#7201a8"
            ],
            [
             0.3333333333333333,
             "#9c179e"
            ],
            [
             0.4444444444444444,
             "#bd3786"
            ],
            [
             0.5555555555555556,
             "#d8576b"
            ],
            [
             0.6666666666666666,
             "#ed7953"
            ],
            [
             0.7777777777777778,
             "#fb9f3a"
            ],
            [
             0.8888888888888888,
             "#fdca26"
            ],
            [
             1,
             "#f0f921"
            ]
           ]
          },
          "colorway": [
           "#636efa",
           "#EF553B",
           "#00cc96",
           "#ab63fa",
           "#FFA15A",
           "#19d3f3",
           "#FF6692",
           "#B6E880",
           "#FF97FF",
           "#FECB52"
          ],
          "font": {
           "color": "#2a3f5f"
          },
          "geo": {
           "bgcolor": "white",
           "lakecolor": "white",
           "landcolor": "#E5ECF6",
           "showlakes": true,
           "showland": true,
           "subunitcolor": "white"
          },
          "hoverlabel": {
           "align": "left"
          },
          "hovermode": "closest",
          "mapbox": {
           "style": "light"
          },
          "paper_bgcolor": "white",
          "plot_bgcolor": "#E5ECF6",
          "polar": {
           "angularaxis": {
            "gridcolor": "white",
            "linecolor": "white",
            "ticks": ""
           },
           "bgcolor": "#E5ECF6",
           "radialaxis": {
            "gridcolor": "white",
            "linecolor": "white",
            "ticks": ""
           }
          },
          "scene": {
           "xaxis": {
            "backgroundcolor": "#E5ECF6",
            "gridcolor": "white",
            "gridwidth": 2,
            "linecolor": "white",
            "showbackground": true,
            "ticks": "",
            "zerolinecolor": "white"
           },
           "yaxis": {
            "backgroundcolor": "#E5ECF6",
            "gridcolor": "white",
            "gridwidth": 2,
            "linecolor": "white",
            "showbackground": true,
            "ticks": "",
            "zerolinecolor": "white"
           },
           "zaxis": {
            "backgroundcolor": "#E5ECF6",
            "gridcolor": "white",
            "gridwidth": 2,
            "linecolor": "white",
            "showbackground": true,
            "ticks": "",
            "zerolinecolor": "white"
           }
          },
          "shapedefaults": {
           "line": {
            "color": "#2a3f5f"
           }
          },
          "ternary": {
           "aaxis": {
            "gridcolor": "white",
            "linecolor": "white",
            "ticks": ""
           },
           "baxis": {
            "gridcolor": "white",
            "linecolor": "white",
            "ticks": ""
           },
           "bgcolor": "#E5ECF6",
           "caxis": {
            "gridcolor": "white",
            "linecolor": "white",
            "ticks": ""
           }
          },
          "title": {
           "x": 0.05
          },
          "xaxis": {
           "automargin": true,
           "gridcolor": "white",
           "linecolor": "white",
           "ticks": "",
           "title": {
            "standoff": 15
           },
           "zerolinecolor": "white",
           "zerolinewidth": 2
          },
          "yaxis": {
           "automargin": true,
           "gridcolor": "white",
           "linecolor": "white",
           "ticks": "",
           "title": {
            "standoff": 15
           },
           "zerolinecolor": "white",
           "zerolinewidth": 2
          }
         }
        },
        "xaxis": {
         "anchor": "y",
         "domain": [
          0,
          1
         ],
         "title": {
          "text": "EG"
         }
        },
        "yaxis": {
         "anchor": "x",
         "domain": [
          0,
          1
         ],
         "title": {
          "text": "Condutividade"
         },
         "type": "log"
        }
       }
      },
      "text/html": [
       "<div>\n",
       "        \n",
       "        \n",
       "            <div id=\"16103a6a-4d0f-466f-84d2-44b7b885920a\" class=\"plotly-graph-div\" style=\"height:525px; width:100%;\"></div>\n",
       "            <script type=\"text/javascript\">\n",
       "                require([\"plotly\"], function(Plotly) {\n",
       "                    window.PLOTLYENV=window.PLOTLYENV || {};\n",
       "                    \n",
       "                if (document.getElementById(\"16103a6a-4d0f-466f-84d2-44b7b885920a\")) {\n",
       "                    Plotly.newPlot(\n",
       "                        '16103a6a-4d0f-466f-84d2-44b7b885920a',\n",
       "                        [{\"hovertemplate\": \"EG=%{x}<br>Condutividade=%{y}<extra></extra>\", \"legendgroup\": \"\", \"line\": {\"color\": \"#636efa\", \"dash\": \"solid\"}, \"mode\": \"lines\", \"name\": \"\", \"orientation\": \"v\", \"showlegend\": false, \"type\": \"scatter\", \"x\": [0.0, 0.01, 0.02, 0.04, 0.1, 0.0, 0.0, 0.0, 0.02], \"xaxis\": \"x\", \"y\": [1.7083772085406592e-12, 8.773245739252601e-13, 1.4536250545631452e-12, 3.937406694269215e-10, 0.007999650817745292, 1.8830740000000002e-13, 1.14e-09, 6.8029839999999995e-06, 5.095568e-13], \"yaxis\": \"y\"}],\n",
       "                        {\"legend\": {\"tracegroupgap\": 0}, \"margin\": {\"t\": 60}, \"template\": {\"data\": {\"bar\": [{\"error_x\": {\"color\": \"#2a3f5f\"}, \"error_y\": {\"color\": \"#2a3f5f\"}, \"marker\": {\"line\": {\"color\": \"#E5ECF6\", \"width\": 0.5}}, \"type\": \"bar\"}], \"barpolar\": [{\"marker\": {\"line\": {\"color\": \"#E5ECF6\", \"width\": 0.5}}, \"type\": \"barpolar\"}], \"carpet\": [{\"aaxis\": {\"endlinecolor\": \"#2a3f5f\", \"gridcolor\": \"white\", \"linecolor\": \"white\", \"minorgridcolor\": \"white\", \"startlinecolor\": \"#2a3f5f\"}, \"baxis\": {\"endlinecolor\": \"#2a3f5f\", \"gridcolor\": \"white\", \"linecolor\": \"white\", \"minorgridcolor\": \"white\", \"startlinecolor\": \"#2a3f5f\"}, \"type\": \"carpet\"}], \"choropleth\": [{\"colorbar\": {\"outlinewidth\": 0, \"ticks\": \"\"}, \"type\": \"choropleth\"}], \"contour\": [{\"colorbar\": {\"outlinewidth\": 0, \"ticks\": \"\"}, \"colorscale\": [[0.0, \"#0d0887\"], [0.1111111111111111, \"#46039f\"], [0.2222222222222222, \"#7201a8\"], [0.3333333333333333, \"#9c179e\"], [0.4444444444444444, \"#bd3786\"], [0.5555555555555556, \"#d8576b\"], [0.6666666666666666, \"#ed7953\"], [0.7777777777777778, \"#fb9f3a\"], [0.8888888888888888, \"#fdca26\"], [1.0, \"#f0f921\"]], \"type\": \"contour\"}], \"contourcarpet\": [{\"colorbar\": {\"outlinewidth\": 0, \"ticks\": \"\"}, \"type\": \"contourcarpet\"}], \"heatmap\": [{\"colorbar\": {\"outlinewidth\": 0, \"ticks\": \"\"}, \"colorscale\": [[0.0, \"#0d0887\"], [0.1111111111111111, \"#46039f\"], [0.2222222222222222, \"#7201a8\"], [0.3333333333333333, \"#9c179e\"], [0.4444444444444444, \"#bd3786\"], [0.5555555555555556, \"#d8576b\"], [0.6666666666666666, \"#ed7953\"], [0.7777777777777778, \"#fb9f3a\"], [0.8888888888888888, \"#fdca26\"], [1.0, \"#f0f921\"]], \"type\": \"heatmap\"}], \"heatmapgl\": [{\"colorbar\": {\"outlinewidth\": 0, \"ticks\": \"\"}, \"colorscale\": [[0.0, \"#0d0887\"], [0.1111111111111111, \"#46039f\"], [0.2222222222222222, \"#7201a8\"], [0.3333333333333333, \"#9c179e\"], [0.4444444444444444, \"#bd3786\"], [0.5555555555555556, \"#d8576b\"], [0.6666666666666666, \"#ed7953\"], [0.7777777777777778, \"#fb9f3a\"], [0.8888888888888888, \"#fdca26\"], [1.0, \"#f0f921\"]], \"type\": \"heatmapgl\"}], \"histogram\": [{\"marker\": {\"colorbar\": {\"outlinewidth\": 0, \"ticks\": \"\"}}, \"type\": \"histogram\"}], \"histogram2d\": [{\"colorbar\": {\"outlinewidth\": 0, \"ticks\": \"\"}, \"colorscale\": [[0.0, \"#0d0887\"], [0.1111111111111111, \"#46039f\"], [0.2222222222222222, \"#7201a8\"], [0.3333333333333333, \"#9c179e\"], [0.4444444444444444, \"#bd3786\"], [0.5555555555555556, \"#d8576b\"], [0.6666666666666666, \"#ed7953\"], [0.7777777777777778, \"#fb9f3a\"], [0.8888888888888888, \"#fdca26\"], [1.0, \"#f0f921\"]], \"type\": \"histogram2d\"}], \"histogram2dcontour\": [{\"colorbar\": {\"outlinewidth\": 0, \"ticks\": \"\"}, \"colorscale\": [[0.0, \"#0d0887\"], [0.1111111111111111, \"#46039f\"], [0.2222222222222222, \"#7201a8\"], [0.3333333333333333, \"#9c179e\"], [0.4444444444444444, \"#bd3786\"], [0.5555555555555556, \"#d8576b\"], [0.6666666666666666, \"#ed7953\"], [0.7777777777777778, \"#fb9f3a\"], [0.8888888888888888, \"#fdca26\"], [1.0, \"#f0f921\"]], \"type\": \"histogram2dcontour\"}], \"mesh3d\": [{\"colorbar\": {\"outlinewidth\": 0, \"ticks\": \"\"}, \"type\": \"mesh3d\"}], \"parcoords\": [{\"line\": {\"colorbar\": {\"outlinewidth\": 0, \"ticks\": \"\"}}, \"type\": \"parcoords\"}], \"pie\": [{\"automargin\": true, \"type\": \"pie\"}], \"scatter\": [{\"marker\": {\"colorbar\": {\"outlinewidth\": 0, \"ticks\": \"\"}}, \"type\": \"scatter\"}], \"scatter3d\": [{\"line\": {\"colorbar\": {\"outlinewidth\": 0, \"ticks\": \"\"}}, \"marker\": {\"colorbar\": {\"outlinewidth\": 0, \"ticks\": \"\"}}, \"type\": \"scatter3d\"}], \"scattercarpet\": [{\"marker\": {\"colorbar\": {\"outlinewidth\": 0, \"ticks\": \"\"}}, \"type\": \"scattercarpet\"}], \"scattergeo\": [{\"marker\": {\"colorbar\": {\"outlinewidth\": 0, \"ticks\": \"\"}}, \"type\": \"scattergeo\"}], \"scattergl\": [{\"marker\": {\"colorbar\": {\"outlinewidth\": 0, \"ticks\": \"\"}}, \"type\": \"scattergl\"}], \"scattermapbox\": [{\"marker\": {\"colorbar\": {\"outlinewidth\": 0, \"ticks\": \"\"}}, \"type\": \"scattermapbox\"}], \"scatterpolar\": [{\"marker\": {\"colorbar\": {\"outlinewidth\": 0, \"ticks\": \"\"}}, \"type\": \"scatterpolar\"}], \"scatterpolargl\": [{\"marker\": {\"colorbar\": {\"outlinewidth\": 0, \"ticks\": \"\"}}, \"type\": \"scatterpolargl\"}], \"scatterternary\": [{\"marker\": {\"colorbar\": {\"outlinewidth\": 0, \"ticks\": \"\"}}, \"type\": \"scatterternary\"}], \"surface\": [{\"colorbar\": {\"outlinewidth\": 0, \"ticks\": \"\"}, \"colorscale\": [[0.0, \"#0d0887\"], [0.1111111111111111, \"#46039f\"], [0.2222222222222222, \"#7201a8\"], [0.3333333333333333, \"#9c179e\"], [0.4444444444444444, \"#bd3786\"], [0.5555555555555556, \"#d8576b\"], [0.6666666666666666, \"#ed7953\"], [0.7777777777777778, \"#fb9f3a\"], [0.8888888888888888, \"#fdca26\"], [1.0, \"#f0f921\"]], \"type\": \"surface\"}], \"table\": [{\"cells\": {\"fill\": {\"color\": \"#EBF0F8\"}, \"line\": {\"color\": \"white\"}}, \"header\": {\"fill\": {\"color\": \"#C8D4E3\"}, \"line\": {\"color\": \"white\"}}, \"type\": \"table\"}]}, \"layout\": {\"annotationdefaults\": {\"arrowcolor\": \"#2a3f5f\", \"arrowhead\": 0, \"arrowwidth\": 1}, \"coloraxis\": {\"colorbar\": {\"outlinewidth\": 0, \"ticks\": \"\"}}, \"colorscale\": {\"diverging\": [[0, \"#8e0152\"], [0.1, \"#c51b7d\"], [0.2, \"#de77ae\"], [0.3, \"#f1b6da\"], [0.4, \"#fde0ef\"], [0.5, \"#f7f7f7\"], [0.6, \"#e6f5d0\"], [0.7, \"#b8e186\"], [0.8, \"#7fbc41\"], [0.9, \"#4d9221\"], [1, \"#276419\"]], \"sequential\": [[0.0, \"#0d0887\"], [0.1111111111111111, \"#46039f\"], [0.2222222222222222, \"#7201a8\"], [0.3333333333333333, \"#9c179e\"], [0.4444444444444444, \"#bd3786\"], [0.5555555555555556, \"#d8576b\"], [0.6666666666666666, \"#ed7953\"], [0.7777777777777778, \"#fb9f3a\"], [0.8888888888888888, \"#fdca26\"], [1.0, \"#f0f921\"]], \"sequentialminus\": [[0.0, \"#0d0887\"], [0.1111111111111111, \"#46039f\"], [0.2222222222222222, \"#7201a8\"], [0.3333333333333333, \"#9c179e\"], [0.4444444444444444, \"#bd3786\"], [0.5555555555555556, \"#d8576b\"], [0.6666666666666666, \"#ed7953\"], [0.7777777777777778, \"#fb9f3a\"], [0.8888888888888888, \"#fdca26\"], [1.0, \"#f0f921\"]]}, \"colorway\": [\"#636efa\", \"#EF553B\", \"#00cc96\", \"#ab63fa\", \"#FFA15A\", \"#19d3f3\", \"#FF6692\", \"#B6E880\", \"#FF97FF\", \"#FECB52\"], \"font\": {\"color\": \"#2a3f5f\"}, \"geo\": {\"bgcolor\": \"white\", \"lakecolor\": \"white\", \"landcolor\": \"#E5ECF6\", \"showlakes\": true, \"showland\": true, \"subunitcolor\": \"white\"}, \"hoverlabel\": {\"align\": \"left\"}, \"hovermode\": \"closest\", \"mapbox\": {\"style\": \"light\"}, \"paper_bgcolor\": \"white\", \"plot_bgcolor\": \"#E5ECF6\", \"polar\": {\"angularaxis\": {\"gridcolor\": \"white\", \"linecolor\": \"white\", \"ticks\": \"\"}, \"bgcolor\": \"#E5ECF6\", \"radialaxis\": {\"gridcolor\": \"white\", \"linecolor\": \"white\", \"ticks\": \"\"}}, \"scene\": {\"xaxis\": {\"backgroundcolor\": \"#E5ECF6\", \"gridcolor\": \"white\", \"gridwidth\": 2, \"linecolor\": \"white\", \"showbackground\": true, \"ticks\": \"\", \"zerolinecolor\": \"white\"}, \"yaxis\": {\"backgroundcolor\": \"#E5ECF6\", \"gridcolor\": \"white\", \"gridwidth\": 2, \"linecolor\": \"white\", \"showbackground\": true, \"ticks\": \"\", \"zerolinecolor\": \"white\"}, \"zaxis\": {\"backgroundcolor\": \"#E5ECF6\", \"gridcolor\": \"white\", \"gridwidth\": 2, \"linecolor\": \"white\", \"showbackground\": true, \"ticks\": \"\", \"zerolinecolor\": \"white\"}}, \"shapedefaults\": {\"line\": {\"color\": \"#2a3f5f\"}}, \"ternary\": {\"aaxis\": {\"gridcolor\": \"white\", \"linecolor\": \"white\", \"ticks\": \"\"}, \"baxis\": {\"gridcolor\": \"white\", \"linecolor\": \"white\", \"ticks\": \"\"}, \"bgcolor\": \"#E5ECF6\", \"caxis\": {\"gridcolor\": \"white\", \"linecolor\": \"white\", \"ticks\": \"\"}}, \"title\": {\"x\": 0.05}, \"xaxis\": {\"automargin\": true, \"gridcolor\": \"white\", \"linecolor\": \"white\", \"ticks\": \"\", \"title\": {\"standoff\": 15}, \"zerolinecolor\": \"white\", \"zerolinewidth\": 2}, \"yaxis\": {\"automargin\": true, \"gridcolor\": \"white\", \"linecolor\": \"white\", \"ticks\": \"\", \"title\": {\"standoff\": 15}, \"zerolinecolor\": \"white\", \"zerolinewidth\": 2}}}, \"xaxis\": {\"anchor\": \"y\", \"domain\": [0.0, 1.0], \"title\": {\"text\": \"EG\"}}, \"yaxis\": {\"anchor\": \"x\", \"domain\": [0.0, 1.0], \"title\": {\"text\": \"Condutividade\"}, \"type\": \"log\"}},\n",
       "                        {\"responsive\": true}\n",
       "                    ).then(function(){\n",
       "                            \n",
       "var gd = document.getElementById('16103a6a-4d0f-466f-84d2-44b7b885920a');\n",
       "var x = new MutationObserver(function (mutations, observer) {{\n",
       "        var display = window.getComputedStyle(gd).display;\n",
       "        if (!display || display === 'none') {{\n",
       "            console.log([gd, 'removed!']);\n",
       "            Plotly.purge(gd);\n",
       "            observer.disconnect();\n",
       "        }}\n",
       "}});\n",
       "\n",
       "// Listen for the removal of the full notebook cells\n",
       "var notebookContainer = gd.closest('#notebook-container');\n",
       "if (notebookContainer) {{\n",
       "    x.observe(notebookContainer, {childList: true});\n",
       "}}\n",
       "\n",
       "// Listen for the clearing of the current output cell\n",
       "var outputEl = gd.closest('.output');\n",
       "if (outputEl) {{\n",
       "    x.observe(outputEl, {childList: true});\n",
       "}}\n",
       "\n",
       "                        })\n",
       "                };\n",
       "                });\n",
       "            </script>\n",
       "        </div>"
      ]
     },
     "metadata": {},
     "output_type": "display_data"
    }
   ],
   "source": [
    "fig"
   ]
  },
  {
   "cell_type": "code",
   "execution_count": 32,
   "metadata": {},
   "outputs": [],
   "source": [
    "output.to_csv('conductivity.csv')"
   ]
  },
  {
   "cell_type": "code",
   "execution_count": null,
   "metadata": {},
   "outputs": [],
   "source": []
  },
  {
   "cell_type": "code",
   "execution_count": 33,
   "metadata": {},
   "outputs": [
    {
     "data": {
      "text/plain": [
       "0     13.912109\n",
       "1      6.001946\n",
       "2      0.689548\n",
       "3    189.664482\n",
       "4     27.869878\n",
       "5           NaN\n",
       "6           NaN\n",
       "7           NaN\n",
       "8           NaN\n",
       "dtype: float64"
      ]
     },
     "execution_count": 33,
     "metadata": {},
     "output_type": "execute_result"
    }
   ],
   "source": [
    "output['Condutividade']/output['Cond. Desv. Pad.']"
   ]
  },
  {
   "cell_type": "code",
   "execution_count": 45,
   "metadata": {},
   "outputs": [
    {
     "data": {
      "application/vnd.plotly.v1+json": {
       "config": {
        "plotlyServerURL": "https://plot.ly"
       },
       "data": [
        {
         "error_y": {
          "array": [
           1.2279785986605132e-13,
           1.4617334378978962e-13,
           2.1080839734627372e-12,
           2.0759852610003947e-12,
           0.00028703573305652254
          ]
         },
         "hovertemplate": "EG=%{x}<br>Condutividade=%{y}<extra></extra>",
         "legendgroup": "",
         "line": {
          "color": "#636efa",
          "dash": "solid",
          "width": 2
         },
         "marker": {
          "size": 5
         },
         "mode": "markers+lines",
         "name": "",
         "orientation": "v",
         "showlegend": false,
         "type": "scatter",
         "x": [
          0,
          0.01,
          0.02,
          0.04,
          0.1
         ],
         "xaxis": "x",
         "y": [
          1.7083772085406592e-12,
          8.773245739252601e-13,
          1.4536250545631452e-12,
          3.937406694269215e-10,
          0.007999650817745292
         ],
         "yaxis": "y"
        }
       ],
       "layout": {
        "autosize": true,
        "font": {
         "size": 20
        },
        "legend": {
         "tracegroupgap": 0
        },
        "margin": {
         "t": 60
        },
        "template": {
         "data": {
          "bar": [
           {
            "error_x": {
             "color": "rgb(36,36,36)"
            },
            "error_y": {
             "color": "rgb(36,36,36)"
            },
            "marker": {
             "line": {
              "color": "rgb(234,234,242)",
              "width": 0.5
             }
            },
            "type": "bar"
           }
          ],
          "barpolar": [
           {
            "marker": {
             "line": {
              "color": "rgb(234,234,242)",
              "width": 0.5
             }
            },
            "type": "barpolar"
           }
          ],
          "carpet": [
           {
            "aaxis": {
             "endlinecolor": "rgb(36,36,36)",
             "gridcolor": "white",
             "linecolor": "white",
             "minorgridcolor": "white",
             "startlinecolor": "rgb(36,36,36)"
            },
            "baxis": {
             "endlinecolor": "rgb(36,36,36)",
             "gridcolor": "white",
             "linecolor": "white",
             "minorgridcolor": "white",
             "startlinecolor": "rgb(36,36,36)"
            },
            "type": "carpet"
           }
          ],
          "choropleth": [
           {
            "colorbar": {
             "outlinewidth": 0,
             "tickcolor": "rgb(36,36,36)",
             "ticklen": 8,
             "ticks": "outside",
             "tickwidth": 2
            },
            "type": "choropleth"
           }
          ],
          "contour": [
           {
            "colorbar": {
             "outlinewidth": 0,
             "tickcolor": "rgb(36,36,36)",
             "ticklen": 8,
             "ticks": "outside",
             "tickwidth": 2
            },
            "colorscale": [
             [
              0,
              "rgb(2,4,25)"
             ],
             [
              0.06274509803921569,
              "rgb(24,15,41)"
             ],
             [
              0.12549019607843137,
              "rgb(47,23,57)"
             ],
             [
              0.18823529411764706,
              "rgb(71,28,72)"
             ],
             [
              0.25098039215686274,
              "rgb(97,30,82)"
             ],
             [
              0.3137254901960784,
              "rgb(123,30,89)"
             ],
             [
              0.3764705882352941,
              "rgb(150,27,91)"
             ],
             [
              0.4392156862745098,
              "rgb(177,22,88)"
             ],
             [
              0.5019607843137255,
              "rgb(203,26,79)"
             ],
             [
              0.5647058823529412,
              "rgb(223,47,67)"
             ],
             [
              0.6274509803921569,
              "rgb(236,76,61)"
             ],
             [
              0.6901960784313725,
              "rgb(242,107,73)"
             ],
             [
              0.7529411764705882,
              "rgb(244,135,95)"
             ],
             [
              0.8156862745098039,
              "rgb(245,162,122)"
             ],
             [
              0.8784313725490196,
              "rgb(246,188,153)"
             ],
             [
              0.9411764705882353,
              "rgb(247,212,187)"
             ],
             [
              1,
              "rgb(250,234,220)"
             ]
            ],
            "type": "contour"
           }
          ],
          "contourcarpet": [
           {
            "colorbar": {
             "outlinewidth": 0,
             "tickcolor": "rgb(36,36,36)",
             "ticklen": 8,
             "ticks": "outside",
             "tickwidth": 2
            },
            "type": "contourcarpet"
           }
          ],
          "heatmap": [
           {
            "colorbar": {
             "outlinewidth": 0,
             "tickcolor": "rgb(36,36,36)",
             "ticklen": 8,
             "ticks": "outside",
             "tickwidth": 2
            },
            "colorscale": [
             [
              0,
              "rgb(2,4,25)"
             ],
             [
              0.06274509803921569,
              "rgb(24,15,41)"
             ],
             [
              0.12549019607843137,
              "rgb(47,23,57)"
             ],
             [
              0.18823529411764706,
              "rgb(71,28,72)"
             ],
             [
              0.25098039215686274,
              "rgb(97,30,82)"
             ],
             [
              0.3137254901960784,
              "rgb(123,30,89)"
             ],
             [
              0.3764705882352941,
              "rgb(150,27,91)"
             ],
             [
              0.4392156862745098,
              "rgb(177,22,88)"
             ],
             [
              0.5019607843137255,
              "rgb(203,26,79)"
             ],
             [
              0.5647058823529412,
              "rgb(223,47,67)"
             ],
             [
              0.6274509803921569,
              "rgb(236,76,61)"
             ],
             [
              0.6901960784313725,
              "rgb(242,107,73)"
             ],
             [
              0.7529411764705882,
              "rgb(244,135,95)"
             ],
             [
              0.8156862745098039,
              "rgb(245,162,122)"
             ],
             [
              0.8784313725490196,
              "rgb(246,188,153)"
             ],
             [
              0.9411764705882353,
              "rgb(247,212,187)"
             ],
             [
              1,
              "rgb(250,234,220)"
             ]
            ],
            "type": "heatmap"
           }
          ],
          "heatmapgl": [
           {
            "colorbar": {
             "outlinewidth": 0,
             "tickcolor": "rgb(36,36,36)",
             "ticklen": 8,
             "ticks": "outside",
             "tickwidth": 2
            },
            "colorscale": [
             [
              0,
              "rgb(2,4,25)"
             ],
             [
              0.06274509803921569,
              "rgb(24,15,41)"
             ],
             [
              0.12549019607843137,
              "rgb(47,23,57)"
             ],
             [
              0.18823529411764706,
              "rgb(71,28,72)"
             ],
             [
              0.25098039215686274,
              "rgb(97,30,82)"
             ],
             [
              0.3137254901960784,
              "rgb(123,30,89)"
             ],
             [
              0.3764705882352941,
              "rgb(150,27,91)"
             ],
             [
              0.4392156862745098,
              "rgb(177,22,88)"
             ],
             [
              0.5019607843137255,
              "rgb(203,26,79)"
             ],
             [
              0.5647058823529412,
              "rgb(223,47,67)"
             ],
             [
              0.6274509803921569,
              "rgb(236,76,61)"
             ],
             [
              0.6901960784313725,
              "rgb(242,107,73)"
             ],
             [
              0.7529411764705882,
              "rgb(244,135,95)"
             ],
             [
              0.8156862745098039,
              "rgb(245,162,122)"
             ],
             [
              0.8784313725490196,
              "rgb(246,188,153)"
             ],
             [
              0.9411764705882353,
              "rgb(247,212,187)"
             ],
             [
              1,
              "rgb(250,234,220)"
             ]
            ],
            "type": "heatmapgl"
           }
          ],
          "histogram": [
           {
            "marker": {
             "colorbar": {
              "outlinewidth": 0,
              "tickcolor": "rgb(36,36,36)",
              "ticklen": 8,
              "ticks": "outside",
              "tickwidth": 2
             }
            },
            "type": "histogram"
           }
          ],
          "histogram2d": [
           {
            "colorbar": {
             "outlinewidth": 0,
             "tickcolor": "rgb(36,36,36)",
             "ticklen": 8,
             "ticks": "outside",
             "tickwidth": 2
            },
            "colorscale": [
             [
              0,
              "rgb(2,4,25)"
             ],
             [
              0.06274509803921569,
              "rgb(24,15,41)"
             ],
             [
              0.12549019607843137,
              "rgb(47,23,57)"
             ],
             [
              0.18823529411764706,
              "rgb(71,28,72)"
             ],
             [
              0.25098039215686274,
              "rgb(97,30,82)"
             ],
             [
              0.3137254901960784,
              "rgb(123,30,89)"
             ],
             [
              0.3764705882352941,
              "rgb(150,27,91)"
             ],
             [
              0.4392156862745098,
              "rgb(177,22,88)"
             ],
             [
              0.5019607843137255,
              "rgb(203,26,79)"
             ],
             [
              0.5647058823529412,
              "rgb(223,47,67)"
             ],
             [
              0.6274509803921569,
              "rgb(236,76,61)"
             ],
             [
              0.6901960784313725,
              "rgb(242,107,73)"
             ],
             [
              0.7529411764705882,
              "rgb(244,135,95)"
             ],
             [
              0.8156862745098039,
              "rgb(245,162,122)"
             ],
             [
              0.8784313725490196,
              "rgb(246,188,153)"
             ],
             [
              0.9411764705882353,
              "rgb(247,212,187)"
             ],
             [
              1,
              "rgb(250,234,220)"
             ]
            ],
            "type": "histogram2d"
           }
          ],
          "histogram2dcontour": [
           {
            "colorbar": {
             "outlinewidth": 0,
             "tickcolor": "rgb(36,36,36)",
             "ticklen": 8,
             "ticks": "outside",
             "tickwidth": 2
            },
            "colorscale": [
             [
              0,
              "rgb(2,4,25)"
             ],
             [
              0.06274509803921569,
              "rgb(24,15,41)"
             ],
             [
              0.12549019607843137,
              "rgb(47,23,57)"
             ],
             [
              0.18823529411764706,
              "rgb(71,28,72)"
             ],
             [
              0.25098039215686274,
              "rgb(97,30,82)"
             ],
             [
              0.3137254901960784,
              "rgb(123,30,89)"
             ],
             [
              0.3764705882352941,
              "rgb(150,27,91)"
             ],
             [
              0.4392156862745098,
              "rgb(177,22,88)"
             ],
             [
              0.5019607843137255,
              "rgb(203,26,79)"
             ],
             [
              0.5647058823529412,
              "rgb(223,47,67)"
             ],
             [
              0.6274509803921569,
              "rgb(236,76,61)"
             ],
             [
              0.6901960784313725,
              "rgb(242,107,73)"
             ],
             [
              0.7529411764705882,
              "rgb(244,135,95)"
             ],
             [
              0.8156862745098039,
              "rgb(245,162,122)"
             ],
             [
              0.8784313725490196,
              "rgb(246,188,153)"
             ],
             [
              0.9411764705882353,
              "rgb(247,212,187)"
             ],
             [
              1,
              "rgb(250,234,220)"
             ]
            ],
            "type": "histogram2dcontour"
           }
          ],
          "mesh3d": [
           {
            "colorbar": {
             "outlinewidth": 0,
             "tickcolor": "rgb(36,36,36)",
             "ticklen": 8,
             "ticks": "outside",
             "tickwidth": 2
            },
            "type": "mesh3d"
           }
          ],
          "parcoords": [
           {
            "line": {
             "colorbar": {
              "outlinewidth": 0,
              "tickcolor": "rgb(36,36,36)",
              "ticklen": 8,
              "ticks": "outside",
              "tickwidth": 2
             }
            },
            "type": "parcoords"
           }
          ],
          "pie": [
           {
            "automargin": true,
            "type": "pie"
           }
          ],
          "scatter": [
           {
            "marker": {
             "colorbar": {
              "outlinewidth": 0,
              "tickcolor": "rgb(36,36,36)",
              "ticklen": 8,
              "ticks": "outside",
              "tickwidth": 2
             }
            },
            "type": "scatter"
           }
          ],
          "scatter3d": [
           {
            "line": {
             "colorbar": {
              "outlinewidth": 0,
              "tickcolor": "rgb(36,36,36)",
              "ticklen": 8,
              "ticks": "outside",
              "tickwidth": 2
             }
            },
            "marker": {
             "colorbar": {
              "outlinewidth": 0,
              "tickcolor": "rgb(36,36,36)",
              "ticklen": 8,
              "ticks": "outside",
              "tickwidth": 2
             }
            },
            "type": "scatter3d"
           }
          ],
          "scattercarpet": [
           {
            "marker": {
             "colorbar": {
              "outlinewidth": 0,
              "tickcolor": "rgb(36,36,36)",
              "ticklen": 8,
              "ticks": "outside",
              "tickwidth": 2
             }
            },
            "type": "scattercarpet"
           }
          ],
          "scattergeo": [
           {
            "marker": {
             "colorbar": {
              "outlinewidth": 0,
              "tickcolor": "rgb(36,36,36)",
              "ticklen": 8,
              "ticks": "outside",
              "tickwidth": 2
             }
            },
            "type": "scattergeo"
           }
          ],
          "scattergl": [
           {
            "marker": {
             "colorbar": {
              "outlinewidth": 0,
              "tickcolor": "rgb(36,36,36)",
              "ticklen": 8,
              "ticks": "outside",
              "tickwidth": 2
             }
            },
            "type": "scattergl"
           }
          ],
          "scattermapbox": [
           {
            "marker": {
             "colorbar": {
              "outlinewidth": 0,
              "tickcolor": "rgb(36,36,36)",
              "ticklen": 8,
              "ticks": "outside",
              "tickwidth": 2
             }
            },
            "type": "scattermapbox"
           }
          ],
          "scatterpolar": [
           {
            "marker": {
             "colorbar": {
              "outlinewidth": 0,
              "tickcolor": "rgb(36,36,36)",
              "ticklen": 8,
              "ticks": "outside",
              "tickwidth": 2
             }
            },
            "type": "scatterpolar"
           }
          ],
          "scatterpolargl": [
           {
            "marker": {
             "colorbar": {
              "outlinewidth": 0,
              "tickcolor": "rgb(36,36,36)",
              "ticklen": 8,
              "ticks": "outside",
              "tickwidth": 2
             }
            },
            "type": "scatterpolargl"
           }
          ],
          "scatterternary": [
           {
            "marker": {
             "colorbar": {
              "outlinewidth": 0,
              "tickcolor": "rgb(36,36,36)",
              "ticklen": 8,
              "ticks": "outside",
              "tickwidth": 2
             }
            },
            "type": "scatterternary"
           }
          ],
          "surface": [
           {
            "colorbar": {
             "outlinewidth": 0,
             "tickcolor": "rgb(36,36,36)",
             "ticklen": 8,
             "ticks": "outside",
             "tickwidth": 2
            },
            "colorscale": [
             [
              0,
              "rgb(2,4,25)"
             ],
             [
              0.06274509803921569,
              "rgb(24,15,41)"
             ],
             [
              0.12549019607843137,
              "rgb(47,23,57)"
             ],
             [
              0.18823529411764706,
              "rgb(71,28,72)"
             ],
             [
              0.25098039215686274,
              "rgb(97,30,82)"
             ],
             [
              0.3137254901960784,
              "rgb(123,30,89)"
             ],
             [
              0.3764705882352941,
              "rgb(150,27,91)"
             ],
             [
              0.4392156862745098,
              "rgb(177,22,88)"
             ],
             [
              0.5019607843137255,
              "rgb(203,26,79)"
             ],
             [
              0.5647058823529412,
              "rgb(223,47,67)"
             ],
             [
              0.6274509803921569,
              "rgb(236,76,61)"
             ],
             [
              0.6901960784313725,
              "rgb(242,107,73)"
             ],
             [
              0.7529411764705882,
              "rgb(244,135,95)"
             ],
             [
              0.8156862745098039,
              "rgb(245,162,122)"
             ],
             [
              0.8784313725490196,
              "rgb(246,188,153)"
             ],
             [
              0.9411764705882353,
              "rgb(247,212,187)"
             ],
             [
              1,
              "rgb(250,234,220)"
             ]
            ],
            "type": "surface"
           }
          ],
          "table": [
           {
            "cells": {
             "fill": {
              "color": "rgb(231,231,240)"
             },
             "line": {
              "color": "white"
             }
            },
            "header": {
             "fill": {
              "color": "rgb(183,183,191)"
             },
             "line": {
              "color": "white"
             }
            },
            "type": "table"
           }
          ]
         },
         "layout": {
          "annotationdefaults": {
           "arrowcolor": "rgb(67,103,167)"
          },
          "coloraxis": {
           "colorbar": {
            "outlinewidth": 0,
            "tickcolor": "rgb(36,36,36)",
            "ticklen": 8,
            "ticks": "outside",
            "tickwidth": 2
           }
          },
          "colorscale": {
           "sequential": [
            [
             0,
             "rgb(2,4,25)"
            ],
            [
             0.06274509803921569,
             "rgb(24,15,41)"
            ],
            [
             0.12549019607843137,
             "rgb(47,23,57)"
            ],
            [
             0.18823529411764706,
             "rgb(71,28,72)"
            ],
            [
             0.25098039215686274,
             "rgb(97,30,82)"
            ],
            [
             0.3137254901960784,
             "rgb(123,30,89)"
            ],
            [
             0.3764705882352941,
             "rgb(150,27,91)"
            ],
            [
             0.4392156862745098,
             "rgb(177,22,88)"
            ],
            [
             0.5019607843137255,
             "rgb(203,26,79)"
            ],
            [
             0.5647058823529412,
             "rgb(223,47,67)"
            ],
            [
             0.6274509803921569,
             "rgb(236,76,61)"
            ],
            [
             0.6901960784313725,
             "rgb(242,107,73)"
            ],
            [
             0.7529411764705882,
             "rgb(244,135,95)"
            ],
            [
             0.8156862745098039,
             "rgb(245,162,122)"
            ],
            [
             0.8784313725490196,
             "rgb(246,188,153)"
            ],
            [
             0.9411764705882353,
             "rgb(247,212,187)"
            ],
            [
             1,
             "rgb(250,234,220)"
            ]
           ],
           "sequentialminus": [
            [
             0,
             "rgb(2,4,25)"
            ],
            [
             0.06274509803921569,
             "rgb(24,15,41)"
            ],
            [
             0.12549019607843137,
             "rgb(47,23,57)"
            ],
            [
             0.18823529411764706,
             "rgb(71,28,72)"
            ],
            [
             0.25098039215686274,
             "rgb(97,30,82)"
            ],
            [
             0.3137254901960784,
             "rgb(123,30,89)"
            ],
            [
             0.3764705882352941,
             "rgb(150,27,91)"
            ],
            [
             0.4392156862745098,
             "rgb(177,22,88)"
            ],
            [
             0.5019607843137255,
             "rgb(203,26,79)"
            ],
            [
             0.5647058823529412,
             "rgb(223,47,67)"
            ],
            [
             0.6274509803921569,
             "rgb(236,76,61)"
            ],
            [
             0.6901960784313725,
             "rgb(242,107,73)"
            ],
            [
             0.7529411764705882,
             "rgb(244,135,95)"
            ],
            [
             0.8156862745098039,
             "rgb(245,162,122)"
            ],
            [
             0.8784313725490196,
             "rgb(246,188,153)"
            ],
            [
             0.9411764705882353,
             "rgb(247,212,187)"
            ],
            [
             1,
             "rgb(250,234,220)"
            ]
           ]
          },
          "colorway": [
           "rgb(76,114,176)",
           "rgb(221,132,82)",
           "rgb(85,168,104)",
           "rgb(196,78,82)",
           "rgb(129,114,179)",
           "rgb(147,120,96)",
           "rgb(218,139,195)",
           "rgb(140,140,140)",
           "rgb(204,185,116)",
           "rgb(100,181,205)"
          ],
          "font": {
           "color": "rgb(36,36,36)"
          },
          "geo": {
           "bgcolor": "white",
           "lakecolor": "white",
           "landcolor": "rgb(234,234,242)",
           "showlakes": true,
           "showland": true,
           "subunitcolor": "white"
          },
          "hoverlabel": {
           "align": "left"
          },
          "hovermode": "closest",
          "paper_bgcolor": "white",
          "plot_bgcolor": "rgb(234,234,242)",
          "polar": {
           "angularaxis": {
            "gridcolor": "white",
            "linecolor": "white",
            "showgrid": true,
            "ticks": ""
           },
           "bgcolor": "rgb(234,234,242)",
           "radialaxis": {
            "gridcolor": "white",
            "linecolor": "white",
            "showgrid": true,
            "ticks": ""
           }
          },
          "scene": {
           "xaxis": {
            "backgroundcolor": "rgb(234,234,242)",
            "gridcolor": "white",
            "gridwidth": 2,
            "linecolor": "white",
            "showbackground": true,
            "showgrid": true,
            "ticks": "",
            "zerolinecolor": "white"
           },
           "yaxis": {
            "backgroundcolor": "rgb(234,234,242)",
            "gridcolor": "white",
            "gridwidth": 2,
            "linecolor": "white",
            "showbackground": true,
            "showgrid": true,
            "ticks": "",
            "zerolinecolor": "white"
           },
           "zaxis": {
            "backgroundcolor": "rgb(234,234,242)",
            "gridcolor": "white",
            "gridwidth": 2,
            "linecolor": "white",
            "showbackground": true,
            "showgrid": true,
            "ticks": "",
            "zerolinecolor": "white"
           }
          },
          "shapedefaults": {
           "fillcolor": "rgb(67,103,167)",
           "line": {
            "width": 0
           },
           "opacity": 0.5
          },
          "ternary": {
           "aaxis": {
            "gridcolor": "white",
            "linecolor": "white",
            "showgrid": true,
            "ticks": ""
           },
           "baxis": {
            "gridcolor": "white",
            "linecolor": "white",
            "showgrid": true,
            "ticks": ""
           },
           "bgcolor": "rgb(234,234,242)",
           "caxis": {
            "gridcolor": "white",
            "linecolor": "white",
            "showgrid": true,
            "ticks": ""
           }
          },
          "xaxis": {
           "automargin": true,
           "gridcolor": "white",
           "linecolor": "white",
           "showgrid": true,
           "ticks": "",
           "title": {
            "standoff": 15
           },
           "zerolinecolor": "white"
          },
          "yaxis": {
           "automargin": true,
           "gridcolor": "white",
           "linecolor": "white",
           "showgrid": true,
           "ticks": "",
           "title": {
            "standoff": 15
           },
           "zerolinecolor": "white"
          }
         }
        },
        "xaxis": {
         "anchor": "y",
         "domain": [
          0,
          1
         ],
         "dtick": 0.02,
         "tickformat": "%",
         "title": {
          "text": "GNP"
         },
         "type": "linear"
        },
        "yaxis": {
         "anchor": "x",
         "domain": [
          0,
          1
         ],
         "title": {
          "text": "Condutividade (S/m)"
         },
         "type": "log"
        }
       }
      },
      "text/html": [
       "<div>\n",
       "        \n",
       "        \n",
       "            <div id=\"1e114479-c3e5-4133-9080-e6d9c0959789\" class=\"plotly-graph-div\" style=\"height:525px; width:100%;\"></div>\n",
       "            <script type=\"text/javascript\">\n",
       "                require([\"plotly\"], function(Plotly) {\n",
       "                    window.PLOTLYENV=window.PLOTLYENV || {};\n",
       "                    \n",
       "                if (document.getElementById(\"1e114479-c3e5-4133-9080-e6d9c0959789\")) {\n",
       "                    Plotly.newPlot(\n",
       "                        '1e114479-c3e5-4133-9080-e6d9c0959789',\n",
       "                        [{\"error_y\": {\"array\": [1.2279785986605132e-13, 1.4617334378978962e-13, 2.1080839734627372e-12, 2.0759852610003947e-12, 0.00028703573305652254]}, \"hovertemplate\": \"EG=%{x}<br>Condutividade=%{y}<extra></extra>\", \"legendgroup\": \"\", \"line\": {\"color\": \"#636efa\", \"dash\": \"solid\", \"width\": 2}, \"marker\": {\"size\": 5}, \"mode\": \"markers+lines\", \"name\": \"\", \"orientation\": \"v\", \"showlegend\": false, \"type\": \"scatter\", \"x\": [0.0, 0.01, 0.02, 0.04, 0.1], \"xaxis\": \"x\", \"y\": [1.7083772085406592e-12, 8.773245739252601e-13, 1.4536250545631452e-12, 3.937406694269215e-10, 0.007999650817745292], \"yaxis\": \"y\"}],\n",
       "                        {\"autosize\": true, \"font\": {\"size\": 20}, \"legend\": {\"tracegroupgap\": 0}, \"margin\": {\"t\": 60}, \"template\": {\"data\": {\"bar\": [{\"error_x\": {\"color\": \"rgb(36,36,36)\"}, \"error_y\": {\"color\": \"rgb(36,36,36)\"}, \"marker\": {\"line\": {\"color\": \"rgb(234,234,242)\", \"width\": 0.5}}, \"type\": \"bar\"}], \"barpolar\": [{\"marker\": {\"line\": {\"color\": \"rgb(234,234,242)\", \"width\": 0.5}}, \"type\": \"barpolar\"}], \"carpet\": [{\"aaxis\": {\"endlinecolor\": \"rgb(36,36,36)\", \"gridcolor\": \"white\", \"linecolor\": \"white\", \"minorgridcolor\": \"white\", \"startlinecolor\": \"rgb(36,36,36)\"}, \"baxis\": {\"endlinecolor\": \"rgb(36,36,36)\", \"gridcolor\": \"white\", \"linecolor\": \"white\", \"minorgridcolor\": \"white\", \"startlinecolor\": \"rgb(36,36,36)\"}, \"type\": \"carpet\"}], \"choropleth\": [{\"colorbar\": {\"outlinewidth\": 0, \"tickcolor\": \"rgb(36,36,36)\", \"ticklen\": 8, \"ticks\": \"outside\", \"tickwidth\": 2}, \"type\": \"choropleth\"}], \"contour\": [{\"colorbar\": {\"outlinewidth\": 0, \"tickcolor\": \"rgb(36,36,36)\", \"ticklen\": 8, \"ticks\": \"outside\", \"tickwidth\": 2}, \"colorscale\": [[0.0, \"rgb(2,4,25)\"], [0.06274509803921569, \"rgb(24,15,41)\"], [0.12549019607843137, \"rgb(47,23,57)\"], [0.18823529411764706, \"rgb(71,28,72)\"], [0.25098039215686274, \"rgb(97,30,82)\"], [0.3137254901960784, \"rgb(123,30,89)\"], [0.3764705882352941, \"rgb(150,27,91)\"], [0.4392156862745098, \"rgb(177,22,88)\"], [0.5019607843137255, \"rgb(203,26,79)\"], [0.5647058823529412, \"rgb(223,47,67)\"], [0.6274509803921569, \"rgb(236,76,61)\"], [0.6901960784313725, \"rgb(242,107,73)\"], [0.7529411764705882, \"rgb(244,135,95)\"], [0.8156862745098039, \"rgb(245,162,122)\"], [0.8784313725490196, \"rgb(246,188,153)\"], [0.9411764705882353, \"rgb(247,212,187)\"], [1.0, \"rgb(250,234,220)\"]], \"type\": \"contour\"}], \"contourcarpet\": [{\"colorbar\": {\"outlinewidth\": 0, \"tickcolor\": \"rgb(36,36,36)\", \"ticklen\": 8, \"ticks\": \"outside\", \"tickwidth\": 2}, \"type\": \"contourcarpet\"}], \"heatmap\": [{\"colorbar\": {\"outlinewidth\": 0, \"tickcolor\": \"rgb(36,36,36)\", \"ticklen\": 8, \"ticks\": \"outside\", \"tickwidth\": 2}, \"colorscale\": [[0.0, \"rgb(2,4,25)\"], [0.06274509803921569, \"rgb(24,15,41)\"], [0.12549019607843137, \"rgb(47,23,57)\"], [0.18823529411764706, \"rgb(71,28,72)\"], [0.25098039215686274, \"rgb(97,30,82)\"], [0.3137254901960784, \"rgb(123,30,89)\"], [0.3764705882352941, \"rgb(150,27,91)\"], [0.4392156862745098, \"rgb(177,22,88)\"], [0.5019607843137255, \"rgb(203,26,79)\"], [0.5647058823529412, \"rgb(223,47,67)\"], [0.6274509803921569, \"rgb(236,76,61)\"], [0.6901960784313725, \"rgb(242,107,73)\"], [0.7529411764705882, \"rgb(244,135,95)\"], [0.8156862745098039, \"rgb(245,162,122)\"], [0.8784313725490196, \"rgb(246,188,153)\"], [0.9411764705882353, \"rgb(247,212,187)\"], [1.0, \"rgb(250,234,220)\"]], \"type\": \"heatmap\"}], \"heatmapgl\": [{\"colorbar\": {\"outlinewidth\": 0, \"tickcolor\": \"rgb(36,36,36)\", \"ticklen\": 8, \"ticks\": \"outside\", \"tickwidth\": 2}, \"colorscale\": [[0.0, \"rgb(2,4,25)\"], [0.06274509803921569, \"rgb(24,15,41)\"], [0.12549019607843137, \"rgb(47,23,57)\"], [0.18823529411764706, \"rgb(71,28,72)\"], [0.25098039215686274, \"rgb(97,30,82)\"], [0.3137254901960784, \"rgb(123,30,89)\"], [0.3764705882352941, \"rgb(150,27,91)\"], [0.4392156862745098, \"rgb(177,22,88)\"], [0.5019607843137255, \"rgb(203,26,79)\"], [0.5647058823529412, \"rgb(223,47,67)\"], [0.6274509803921569, \"rgb(236,76,61)\"], [0.6901960784313725, \"rgb(242,107,73)\"], [0.7529411764705882, \"rgb(244,135,95)\"], [0.8156862745098039, \"rgb(245,162,122)\"], [0.8784313725490196, \"rgb(246,188,153)\"], [0.9411764705882353, \"rgb(247,212,187)\"], [1.0, \"rgb(250,234,220)\"]], \"type\": \"heatmapgl\"}], \"histogram\": [{\"marker\": {\"colorbar\": {\"outlinewidth\": 0, \"tickcolor\": \"rgb(36,36,36)\", \"ticklen\": 8, \"ticks\": \"outside\", \"tickwidth\": 2}}, \"type\": \"histogram\"}], \"histogram2d\": [{\"colorbar\": {\"outlinewidth\": 0, \"tickcolor\": \"rgb(36,36,36)\", \"ticklen\": 8, \"ticks\": \"outside\", \"tickwidth\": 2}, \"colorscale\": [[0.0, \"rgb(2,4,25)\"], [0.06274509803921569, \"rgb(24,15,41)\"], [0.12549019607843137, \"rgb(47,23,57)\"], [0.18823529411764706, \"rgb(71,28,72)\"], [0.25098039215686274, \"rgb(97,30,82)\"], [0.3137254901960784, \"rgb(123,30,89)\"], [0.3764705882352941, \"rgb(150,27,91)\"], [0.4392156862745098, \"rgb(177,22,88)\"], [0.5019607843137255, \"rgb(203,26,79)\"], [0.5647058823529412, \"rgb(223,47,67)\"], [0.6274509803921569, \"rgb(236,76,61)\"], [0.6901960784313725, \"rgb(242,107,73)\"], [0.7529411764705882, \"rgb(244,135,95)\"], [0.8156862745098039, \"rgb(245,162,122)\"], [0.8784313725490196, \"rgb(246,188,153)\"], [0.9411764705882353, \"rgb(247,212,187)\"], [1.0, \"rgb(250,234,220)\"]], \"type\": \"histogram2d\"}], \"histogram2dcontour\": [{\"colorbar\": {\"outlinewidth\": 0, \"tickcolor\": \"rgb(36,36,36)\", \"ticklen\": 8, \"ticks\": \"outside\", \"tickwidth\": 2}, \"colorscale\": [[0.0, \"rgb(2,4,25)\"], [0.06274509803921569, \"rgb(24,15,41)\"], [0.12549019607843137, \"rgb(47,23,57)\"], [0.18823529411764706, \"rgb(71,28,72)\"], [0.25098039215686274, \"rgb(97,30,82)\"], [0.3137254901960784, \"rgb(123,30,89)\"], [0.3764705882352941, \"rgb(150,27,91)\"], [0.4392156862745098, \"rgb(177,22,88)\"], [0.5019607843137255, \"rgb(203,26,79)\"], [0.5647058823529412, \"rgb(223,47,67)\"], [0.6274509803921569, \"rgb(236,76,61)\"], [0.6901960784313725, \"rgb(242,107,73)\"], [0.7529411764705882, \"rgb(244,135,95)\"], [0.8156862745098039, \"rgb(245,162,122)\"], [0.8784313725490196, \"rgb(246,188,153)\"], [0.9411764705882353, \"rgb(247,212,187)\"], [1.0, \"rgb(250,234,220)\"]], \"type\": \"histogram2dcontour\"}], \"mesh3d\": [{\"colorbar\": {\"outlinewidth\": 0, \"tickcolor\": \"rgb(36,36,36)\", \"ticklen\": 8, \"ticks\": \"outside\", \"tickwidth\": 2}, \"type\": \"mesh3d\"}], \"parcoords\": [{\"line\": {\"colorbar\": {\"outlinewidth\": 0, \"tickcolor\": \"rgb(36,36,36)\", \"ticklen\": 8, \"ticks\": \"outside\", \"tickwidth\": 2}}, \"type\": \"parcoords\"}], \"pie\": [{\"automargin\": true, \"type\": \"pie\"}], \"scatter\": [{\"marker\": {\"colorbar\": {\"outlinewidth\": 0, \"tickcolor\": \"rgb(36,36,36)\", \"ticklen\": 8, \"ticks\": \"outside\", \"tickwidth\": 2}}, \"type\": \"scatter\"}], \"scatter3d\": [{\"line\": {\"colorbar\": {\"outlinewidth\": 0, \"tickcolor\": \"rgb(36,36,36)\", \"ticklen\": 8, \"ticks\": \"outside\", \"tickwidth\": 2}}, \"marker\": {\"colorbar\": {\"outlinewidth\": 0, \"tickcolor\": \"rgb(36,36,36)\", \"ticklen\": 8, \"ticks\": \"outside\", \"tickwidth\": 2}}, \"type\": \"scatter3d\"}], \"scattercarpet\": [{\"marker\": {\"colorbar\": {\"outlinewidth\": 0, \"tickcolor\": \"rgb(36,36,36)\", \"ticklen\": 8, \"ticks\": \"outside\", \"tickwidth\": 2}}, \"type\": \"scattercarpet\"}], \"scattergeo\": [{\"marker\": {\"colorbar\": {\"outlinewidth\": 0, \"tickcolor\": \"rgb(36,36,36)\", \"ticklen\": 8, \"ticks\": \"outside\", \"tickwidth\": 2}}, \"type\": \"scattergeo\"}], \"scattergl\": [{\"marker\": {\"colorbar\": {\"outlinewidth\": 0, \"tickcolor\": \"rgb(36,36,36)\", \"ticklen\": 8, \"ticks\": \"outside\", \"tickwidth\": 2}}, \"type\": \"scattergl\"}], \"scattermapbox\": [{\"marker\": {\"colorbar\": {\"outlinewidth\": 0, \"tickcolor\": \"rgb(36,36,36)\", \"ticklen\": 8, \"ticks\": \"outside\", \"tickwidth\": 2}}, \"type\": \"scattermapbox\"}], \"scatterpolar\": [{\"marker\": {\"colorbar\": {\"outlinewidth\": 0, \"tickcolor\": \"rgb(36,36,36)\", \"ticklen\": 8, \"ticks\": \"outside\", \"tickwidth\": 2}}, \"type\": \"scatterpolar\"}], \"scatterpolargl\": [{\"marker\": {\"colorbar\": {\"outlinewidth\": 0, \"tickcolor\": \"rgb(36,36,36)\", \"ticklen\": 8, \"ticks\": \"outside\", \"tickwidth\": 2}}, \"type\": \"scatterpolargl\"}], \"scatterternary\": [{\"marker\": {\"colorbar\": {\"outlinewidth\": 0, \"tickcolor\": \"rgb(36,36,36)\", \"ticklen\": 8, \"ticks\": \"outside\", \"tickwidth\": 2}}, \"type\": \"scatterternary\"}], \"surface\": [{\"colorbar\": {\"outlinewidth\": 0, \"tickcolor\": \"rgb(36,36,36)\", \"ticklen\": 8, \"ticks\": \"outside\", \"tickwidth\": 2}, \"colorscale\": [[0.0, \"rgb(2,4,25)\"], [0.06274509803921569, \"rgb(24,15,41)\"], [0.12549019607843137, \"rgb(47,23,57)\"], [0.18823529411764706, \"rgb(71,28,72)\"], [0.25098039215686274, \"rgb(97,30,82)\"], [0.3137254901960784, \"rgb(123,30,89)\"], [0.3764705882352941, \"rgb(150,27,91)\"], [0.4392156862745098, \"rgb(177,22,88)\"], [0.5019607843137255, \"rgb(203,26,79)\"], [0.5647058823529412, \"rgb(223,47,67)\"], [0.6274509803921569, \"rgb(236,76,61)\"], [0.6901960784313725, \"rgb(242,107,73)\"], [0.7529411764705882, \"rgb(244,135,95)\"], [0.8156862745098039, \"rgb(245,162,122)\"], [0.8784313725490196, \"rgb(246,188,153)\"], [0.9411764705882353, \"rgb(247,212,187)\"], [1.0, \"rgb(250,234,220)\"]], \"type\": \"surface\"}], \"table\": [{\"cells\": {\"fill\": {\"color\": \"rgb(231,231,240)\"}, \"line\": {\"color\": \"white\"}}, \"header\": {\"fill\": {\"color\": \"rgb(183,183,191)\"}, \"line\": {\"color\": \"white\"}}, \"type\": \"table\"}]}, \"layout\": {\"annotationdefaults\": {\"arrowcolor\": \"rgb(67,103,167)\"}, \"coloraxis\": {\"colorbar\": {\"outlinewidth\": 0, \"tickcolor\": \"rgb(36,36,36)\", \"ticklen\": 8, \"ticks\": \"outside\", \"tickwidth\": 2}}, \"colorscale\": {\"sequential\": [[0.0, \"rgb(2,4,25)\"], [0.06274509803921569, \"rgb(24,15,41)\"], [0.12549019607843137, \"rgb(47,23,57)\"], [0.18823529411764706, \"rgb(71,28,72)\"], [0.25098039215686274, \"rgb(97,30,82)\"], [0.3137254901960784, \"rgb(123,30,89)\"], [0.3764705882352941, \"rgb(150,27,91)\"], [0.4392156862745098, \"rgb(177,22,88)\"], [0.5019607843137255, \"rgb(203,26,79)\"], [0.5647058823529412, \"rgb(223,47,67)\"], [0.6274509803921569, \"rgb(236,76,61)\"], [0.6901960784313725, \"rgb(242,107,73)\"], [0.7529411764705882, \"rgb(244,135,95)\"], [0.8156862745098039, \"rgb(245,162,122)\"], [0.8784313725490196, \"rgb(246,188,153)\"], [0.9411764705882353, \"rgb(247,212,187)\"], [1.0, \"rgb(250,234,220)\"]], \"sequentialminus\": [[0.0, \"rgb(2,4,25)\"], [0.06274509803921569, \"rgb(24,15,41)\"], [0.12549019607843137, \"rgb(47,23,57)\"], [0.18823529411764706, \"rgb(71,28,72)\"], [0.25098039215686274, \"rgb(97,30,82)\"], [0.3137254901960784, \"rgb(123,30,89)\"], [0.3764705882352941, \"rgb(150,27,91)\"], [0.4392156862745098, \"rgb(177,22,88)\"], [0.5019607843137255, \"rgb(203,26,79)\"], [0.5647058823529412, \"rgb(223,47,67)\"], [0.6274509803921569, \"rgb(236,76,61)\"], [0.6901960784313725, \"rgb(242,107,73)\"], [0.7529411764705882, \"rgb(244,135,95)\"], [0.8156862745098039, \"rgb(245,162,122)\"], [0.8784313725490196, \"rgb(246,188,153)\"], [0.9411764705882353, \"rgb(247,212,187)\"], [1.0, \"rgb(250,234,220)\"]]}, \"colorway\": [\"rgb(76,114,176)\", \"rgb(221,132,82)\", \"rgb(85,168,104)\", \"rgb(196,78,82)\", \"rgb(129,114,179)\", \"rgb(147,120,96)\", \"rgb(218,139,195)\", \"rgb(140,140,140)\", \"rgb(204,185,116)\", \"rgb(100,181,205)\"], \"font\": {\"color\": \"rgb(36,36,36)\"}, \"geo\": {\"bgcolor\": \"white\", \"lakecolor\": \"white\", \"landcolor\": \"rgb(234,234,242)\", \"showlakes\": true, \"showland\": true, \"subunitcolor\": \"white\"}, \"hoverlabel\": {\"align\": \"left\"}, \"hovermode\": \"closest\", \"paper_bgcolor\": \"white\", \"plot_bgcolor\": \"rgb(234,234,242)\", \"polar\": {\"angularaxis\": {\"gridcolor\": \"white\", \"linecolor\": \"white\", \"showgrid\": true, \"ticks\": \"\"}, \"bgcolor\": \"rgb(234,234,242)\", \"radialaxis\": {\"gridcolor\": \"white\", \"linecolor\": \"white\", \"showgrid\": true, \"ticks\": \"\"}}, \"scene\": {\"xaxis\": {\"backgroundcolor\": \"rgb(234,234,242)\", \"gridcolor\": \"white\", \"gridwidth\": 2, \"linecolor\": \"white\", \"showbackground\": true, \"showgrid\": true, \"ticks\": \"\", \"zerolinecolor\": \"white\"}, \"yaxis\": {\"backgroundcolor\": \"rgb(234,234,242)\", \"gridcolor\": \"white\", \"gridwidth\": 2, \"linecolor\": \"white\", \"showbackground\": true, \"showgrid\": true, \"ticks\": \"\", \"zerolinecolor\": \"white\"}, \"zaxis\": {\"backgroundcolor\": \"rgb(234,234,242)\", \"gridcolor\": \"white\", \"gridwidth\": 2, \"linecolor\": \"white\", \"showbackground\": true, \"showgrid\": true, \"ticks\": \"\", \"zerolinecolor\": \"white\"}}, \"shapedefaults\": {\"fillcolor\": \"rgb(67,103,167)\", \"line\": {\"width\": 0}, \"opacity\": 0.5}, \"ternary\": {\"aaxis\": {\"gridcolor\": \"white\", \"linecolor\": \"white\", \"showgrid\": true, \"ticks\": \"\"}, \"baxis\": {\"gridcolor\": \"white\", \"linecolor\": \"white\", \"showgrid\": true, \"ticks\": \"\"}, \"bgcolor\": \"rgb(234,234,242)\", \"caxis\": {\"gridcolor\": \"white\", \"linecolor\": \"white\", \"showgrid\": true, \"ticks\": \"\"}}, \"xaxis\": {\"automargin\": true, \"gridcolor\": \"white\", \"linecolor\": \"white\", \"showgrid\": true, \"ticks\": \"\", \"title\": {\"standoff\": 15}, \"zerolinecolor\": \"white\"}, \"yaxis\": {\"automargin\": true, \"gridcolor\": \"white\", \"linecolor\": \"white\", \"showgrid\": true, \"ticks\": \"\", \"title\": {\"standoff\": 15}, \"zerolinecolor\": \"white\"}}}, \"xaxis\": {\"anchor\": \"y\", \"domain\": [0.0, 1.0], \"dtick\": 0.02, \"tickformat\": \"%\", \"title\": {\"text\": \"GNP\"}, \"type\": \"linear\"}, \"yaxis\": {\"anchor\": \"x\", \"domain\": [0.0, 1.0], \"title\": {\"text\": \"Condutividade (S/m)\"}, \"type\": \"log\"}},\n",
       "                        {\"responsive\": true}\n",
       "                    ).then(function(){\n",
       "                            \n",
       "var gd = document.getElementById('1e114479-c3e5-4133-9080-e6d9c0959789');\n",
       "var x = new MutationObserver(function (mutations, observer) {{\n",
       "        var display = window.getComputedStyle(gd).display;\n",
       "        if (!display || display === 'none') {{\n",
       "            console.log([gd, 'removed!']);\n",
       "            Plotly.purge(gd);\n",
       "            observer.disconnect();\n",
       "        }}\n",
       "}});\n",
       "\n",
       "// Listen for the removal of the full notebook cells\n",
       "var notebookContainer = gd.closest('#notebook-container');\n",
       "if (notebookContainer) {{\n",
       "    x.observe(notebookContainer, {childList: true});\n",
       "}}\n",
       "\n",
       "// Listen for the clearing of the current output cell\n",
       "var outputEl = gd.closest('.output');\n",
       "if (outputEl) {{\n",
       "    x.observe(outputEl, {childList: true});\n",
       "}}\n",
       "\n",
       "                        })\n",
       "                };\n",
       "                });\n",
       "            </script>\n",
       "        </div>"
      ]
     },
     "metadata": {},
     "output_type": "display_data"
    }
   ],
   "source": [
    "fig = px.line(output[output['PAni']==0],y = 'Condutividade', x = 'EG', error_y = 'Cond. Desv. Pad.')\n",
    "fig.update_layout(yaxis_type='log',\n",
    "                  xaxis_type='linear',\n",
    "                  autosize = True,\n",
    "                  #width=800,\n",
    "                  #height=600,\n",
    "                  yaxis_title_text = 'Condutividade (S/m)',\n",
    "                  xaxis_title_text = 'GNP',\n",
    "                  xaxis_dtick = 0.02,\n",
    "                  xaxis_tickformat = '%',\n",
    "                  template = \"seaborn\",\n",
    "                  font_size = 20,\n",
    "                 )\n",
    "fig.update_traces(mode = 'markers+lines', line_width=2, marker_size=5)"
   ]
  },
  {
   "cell_type": "code",
   "execution_count": 35,
   "metadata": {},
   "outputs": [
    {
     "data": {
      "application/vnd.plotly.v1+json": {
       "config": {
        "plotlyServerURL": "https://plot.ly"
       },
       "data": [
        {
         "hovertemplate": "PAni=%{x}<br>Condutividade=%{y}<extra></extra>",
         "legendgroup": "",
         "line": {
          "color": "#636efa",
          "dash": "solid",
          "width": 2
         },
         "marker": {
          "size": 5
         },
         "mode": "markers+lines",
         "name": "",
         "orientation": "v",
         "showlegend": false,
         "type": "scatter",
         "x": [
          0,
          0.04,
          0.1,
          1
         ],
         "xaxis": "x",
         "y": [
          1.7083772085406592e-12,
          1.8830740000000002e-13,
          1.14e-09,
          6.8029839999999995e-06
         ],
         "yaxis": "y"
        }
       ],
       "layout": {
        "autosize": true,
        "font": {
         "size": 20
        },
        "legend": {
         "tracegroupgap": 0
        },
        "margin": {
         "t": 60
        },
        "template": {
         "data": {
          "bar": [
           {
            "error_x": {
             "color": "rgb(36,36,36)"
            },
            "error_y": {
             "color": "rgb(36,36,36)"
            },
            "marker": {
             "line": {
              "color": "rgb(234,234,242)",
              "width": 0.5
             }
            },
            "type": "bar"
           }
          ],
          "barpolar": [
           {
            "marker": {
             "line": {
              "color": "rgb(234,234,242)",
              "width": 0.5
             }
            },
            "type": "barpolar"
           }
          ],
          "carpet": [
           {
            "aaxis": {
             "endlinecolor": "rgb(36,36,36)",
             "gridcolor": "white",
             "linecolor": "white",
             "minorgridcolor": "white",
             "startlinecolor": "rgb(36,36,36)"
            },
            "baxis": {
             "endlinecolor": "rgb(36,36,36)",
             "gridcolor": "white",
             "linecolor": "white",
             "minorgridcolor": "white",
             "startlinecolor": "rgb(36,36,36)"
            },
            "type": "carpet"
           }
          ],
          "choropleth": [
           {
            "colorbar": {
             "outlinewidth": 0,
             "tickcolor": "rgb(36,36,36)",
             "ticklen": 8,
             "ticks": "outside",
             "tickwidth": 2
            },
            "type": "choropleth"
           }
          ],
          "contour": [
           {
            "colorbar": {
             "outlinewidth": 0,
             "tickcolor": "rgb(36,36,36)",
             "ticklen": 8,
             "ticks": "outside",
             "tickwidth": 2
            },
            "colorscale": [
             [
              0,
              "rgb(2,4,25)"
             ],
             [
              0.06274509803921569,
              "rgb(24,15,41)"
             ],
             [
              0.12549019607843137,
              "rgb(47,23,57)"
             ],
             [
              0.18823529411764706,
              "rgb(71,28,72)"
             ],
             [
              0.25098039215686274,
              "rgb(97,30,82)"
             ],
             [
              0.3137254901960784,
              "rgb(123,30,89)"
             ],
             [
              0.3764705882352941,
              "rgb(150,27,91)"
             ],
             [
              0.4392156862745098,
              "rgb(177,22,88)"
             ],
             [
              0.5019607843137255,
              "rgb(203,26,79)"
             ],
             [
              0.5647058823529412,
              "rgb(223,47,67)"
             ],
             [
              0.6274509803921569,
              "rgb(236,76,61)"
             ],
             [
              0.6901960784313725,
              "rgb(242,107,73)"
             ],
             [
              0.7529411764705882,
              "rgb(244,135,95)"
             ],
             [
              0.8156862745098039,
              "rgb(245,162,122)"
             ],
             [
              0.8784313725490196,
              "rgb(246,188,153)"
             ],
             [
              0.9411764705882353,
              "rgb(247,212,187)"
             ],
             [
              1,
              "rgb(250,234,220)"
             ]
            ],
            "type": "contour"
           }
          ],
          "contourcarpet": [
           {
            "colorbar": {
             "outlinewidth": 0,
             "tickcolor": "rgb(36,36,36)",
             "ticklen": 8,
             "ticks": "outside",
             "tickwidth": 2
            },
            "type": "contourcarpet"
           }
          ],
          "heatmap": [
           {
            "colorbar": {
             "outlinewidth": 0,
             "tickcolor": "rgb(36,36,36)",
             "ticklen": 8,
             "ticks": "outside",
             "tickwidth": 2
            },
            "colorscale": [
             [
              0,
              "rgb(2,4,25)"
             ],
             [
              0.06274509803921569,
              "rgb(24,15,41)"
             ],
             [
              0.12549019607843137,
              "rgb(47,23,57)"
             ],
             [
              0.18823529411764706,
              "rgb(71,28,72)"
             ],
             [
              0.25098039215686274,
              "rgb(97,30,82)"
             ],
             [
              0.3137254901960784,
              "rgb(123,30,89)"
             ],
             [
              0.3764705882352941,
              "rgb(150,27,91)"
             ],
             [
              0.4392156862745098,
              "rgb(177,22,88)"
             ],
             [
              0.5019607843137255,
              "rgb(203,26,79)"
             ],
             [
              0.5647058823529412,
              "rgb(223,47,67)"
             ],
             [
              0.6274509803921569,
              "rgb(236,76,61)"
             ],
             [
              0.6901960784313725,
              "rgb(242,107,73)"
             ],
             [
              0.7529411764705882,
              "rgb(244,135,95)"
             ],
             [
              0.8156862745098039,
              "rgb(245,162,122)"
             ],
             [
              0.8784313725490196,
              "rgb(246,188,153)"
             ],
             [
              0.9411764705882353,
              "rgb(247,212,187)"
             ],
             [
              1,
              "rgb(250,234,220)"
             ]
            ],
            "type": "heatmap"
           }
          ],
          "heatmapgl": [
           {
            "colorbar": {
             "outlinewidth": 0,
             "tickcolor": "rgb(36,36,36)",
             "ticklen": 8,
             "ticks": "outside",
             "tickwidth": 2
            },
            "colorscale": [
             [
              0,
              "rgb(2,4,25)"
             ],
             [
              0.06274509803921569,
              "rgb(24,15,41)"
             ],
             [
              0.12549019607843137,
              "rgb(47,23,57)"
             ],
             [
              0.18823529411764706,
              "rgb(71,28,72)"
             ],
             [
              0.25098039215686274,
              "rgb(97,30,82)"
             ],
             [
              0.3137254901960784,
              "rgb(123,30,89)"
             ],
             [
              0.3764705882352941,
              "rgb(150,27,91)"
             ],
             [
              0.4392156862745098,
              "rgb(177,22,88)"
             ],
             [
              0.5019607843137255,
              "rgb(203,26,79)"
             ],
             [
              0.5647058823529412,
              "rgb(223,47,67)"
             ],
             [
              0.6274509803921569,
              "rgb(236,76,61)"
             ],
             [
              0.6901960784313725,
              "rgb(242,107,73)"
             ],
             [
              0.7529411764705882,
              "rgb(244,135,95)"
             ],
             [
              0.8156862745098039,
              "rgb(245,162,122)"
             ],
             [
              0.8784313725490196,
              "rgb(246,188,153)"
             ],
             [
              0.9411764705882353,
              "rgb(247,212,187)"
             ],
             [
              1,
              "rgb(250,234,220)"
             ]
            ],
            "type": "heatmapgl"
           }
          ],
          "histogram": [
           {
            "marker": {
             "colorbar": {
              "outlinewidth": 0,
              "tickcolor": "rgb(36,36,36)",
              "ticklen": 8,
              "ticks": "outside",
              "tickwidth": 2
             }
            },
            "type": "histogram"
           }
          ],
          "histogram2d": [
           {
            "colorbar": {
             "outlinewidth": 0,
             "tickcolor": "rgb(36,36,36)",
             "ticklen": 8,
             "ticks": "outside",
             "tickwidth": 2
            },
            "colorscale": [
             [
              0,
              "rgb(2,4,25)"
             ],
             [
              0.06274509803921569,
              "rgb(24,15,41)"
             ],
             [
              0.12549019607843137,
              "rgb(47,23,57)"
             ],
             [
              0.18823529411764706,
              "rgb(71,28,72)"
             ],
             [
              0.25098039215686274,
              "rgb(97,30,82)"
             ],
             [
              0.3137254901960784,
              "rgb(123,30,89)"
             ],
             [
              0.3764705882352941,
              "rgb(150,27,91)"
             ],
             [
              0.4392156862745098,
              "rgb(177,22,88)"
             ],
             [
              0.5019607843137255,
              "rgb(203,26,79)"
             ],
             [
              0.5647058823529412,
              "rgb(223,47,67)"
             ],
             [
              0.6274509803921569,
              "rgb(236,76,61)"
             ],
             [
              0.6901960784313725,
              "rgb(242,107,73)"
             ],
             [
              0.7529411764705882,
              "rgb(244,135,95)"
             ],
             [
              0.8156862745098039,
              "rgb(245,162,122)"
             ],
             [
              0.8784313725490196,
              "rgb(246,188,153)"
             ],
             [
              0.9411764705882353,
              "rgb(247,212,187)"
             ],
             [
              1,
              "rgb(250,234,220)"
             ]
            ],
            "type": "histogram2d"
           }
          ],
          "histogram2dcontour": [
           {
            "colorbar": {
             "outlinewidth": 0,
             "tickcolor": "rgb(36,36,36)",
             "ticklen": 8,
             "ticks": "outside",
             "tickwidth": 2
            },
            "colorscale": [
             [
              0,
              "rgb(2,4,25)"
             ],
             [
              0.06274509803921569,
              "rgb(24,15,41)"
             ],
             [
              0.12549019607843137,
              "rgb(47,23,57)"
             ],
             [
              0.18823529411764706,
              "rgb(71,28,72)"
             ],
             [
              0.25098039215686274,
              "rgb(97,30,82)"
             ],
             [
              0.3137254901960784,
              "rgb(123,30,89)"
             ],
             [
              0.3764705882352941,
              "rgb(150,27,91)"
             ],
             [
              0.4392156862745098,
              "rgb(177,22,88)"
             ],
             [
              0.5019607843137255,
              "rgb(203,26,79)"
             ],
             [
              0.5647058823529412,
              "rgb(223,47,67)"
             ],
             [
              0.6274509803921569,
              "rgb(236,76,61)"
             ],
             [
              0.6901960784313725,
              "rgb(242,107,73)"
             ],
             [
              0.7529411764705882,
              "rgb(244,135,95)"
             ],
             [
              0.8156862745098039,
              "rgb(245,162,122)"
             ],
             [
              0.8784313725490196,
              "rgb(246,188,153)"
             ],
             [
              0.9411764705882353,
              "rgb(247,212,187)"
             ],
             [
              1,
              "rgb(250,234,220)"
             ]
            ],
            "type": "histogram2dcontour"
           }
          ],
          "mesh3d": [
           {
            "colorbar": {
             "outlinewidth": 0,
             "tickcolor": "rgb(36,36,36)",
             "ticklen": 8,
             "ticks": "outside",
             "tickwidth": 2
            },
            "type": "mesh3d"
           }
          ],
          "parcoords": [
           {
            "line": {
             "colorbar": {
              "outlinewidth": 0,
              "tickcolor": "rgb(36,36,36)",
              "ticklen": 8,
              "ticks": "outside",
              "tickwidth": 2
             }
            },
            "type": "parcoords"
           }
          ],
          "pie": [
           {
            "automargin": true,
            "type": "pie"
           }
          ],
          "scatter": [
           {
            "marker": {
             "colorbar": {
              "outlinewidth": 0,
              "tickcolor": "rgb(36,36,36)",
              "ticklen": 8,
              "ticks": "outside",
              "tickwidth": 2
             }
            },
            "type": "scatter"
           }
          ],
          "scatter3d": [
           {
            "line": {
             "colorbar": {
              "outlinewidth": 0,
              "tickcolor": "rgb(36,36,36)",
              "ticklen": 8,
              "ticks": "outside",
              "tickwidth": 2
             }
            },
            "marker": {
             "colorbar": {
              "outlinewidth": 0,
              "tickcolor": "rgb(36,36,36)",
              "ticklen": 8,
              "ticks": "outside",
              "tickwidth": 2
             }
            },
            "type": "scatter3d"
           }
          ],
          "scattercarpet": [
           {
            "marker": {
             "colorbar": {
              "outlinewidth": 0,
              "tickcolor": "rgb(36,36,36)",
              "ticklen": 8,
              "ticks": "outside",
              "tickwidth": 2
             }
            },
            "type": "scattercarpet"
           }
          ],
          "scattergeo": [
           {
            "marker": {
             "colorbar": {
              "outlinewidth": 0,
              "tickcolor": "rgb(36,36,36)",
              "ticklen": 8,
              "ticks": "outside",
              "tickwidth": 2
             }
            },
            "type": "scattergeo"
           }
          ],
          "scattergl": [
           {
            "marker": {
             "colorbar": {
              "outlinewidth": 0,
              "tickcolor": "rgb(36,36,36)",
              "ticklen": 8,
              "ticks": "outside",
              "tickwidth": 2
             }
            },
            "type": "scattergl"
           }
          ],
          "scattermapbox": [
           {
            "marker": {
             "colorbar": {
              "outlinewidth": 0,
              "tickcolor": "rgb(36,36,36)",
              "ticklen": 8,
              "ticks": "outside",
              "tickwidth": 2
             }
            },
            "type": "scattermapbox"
           }
          ],
          "scatterpolar": [
           {
            "marker": {
             "colorbar": {
              "outlinewidth": 0,
              "tickcolor": "rgb(36,36,36)",
              "ticklen": 8,
              "ticks": "outside",
              "tickwidth": 2
             }
            },
            "type": "scatterpolar"
           }
          ],
          "scatterpolargl": [
           {
            "marker": {
             "colorbar": {
              "outlinewidth": 0,
              "tickcolor": "rgb(36,36,36)",
              "ticklen": 8,
              "ticks": "outside",
              "tickwidth": 2
             }
            },
            "type": "scatterpolargl"
           }
          ],
          "scatterternary": [
           {
            "marker": {
             "colorbar": {
              "outlinewidth": 0,
              "tickcolor": "rgb(36,36,36)",
              "ticklen": 8,
              "ticks": "outside",
              "tickwidth": 2
             }
            },
            "type": "scatterternary"
           }
          ],
          "surface": [
           {
            "colorbar": {
             "outlinewidth": 0,
             "tickcolor": "rgb(36,36,36)",
             "ticklen": 8,
             "ticks": "outside",
             "tickwidth": 2
            },
            "colorscale": [
             [
              0,
              "rgb(2,4,25)"
             ],
             [
              0.06274509803921569,
              "rgb(24,15,41)"
             ],
             [
              0.12549019607843137,
              "rgb(47,23,57)"
             ],
             [
              0.18823529411764706,
              "rgb(71,28,72)"
             ],
             [
              0.25098039215686274,
              "rgb(97,30,82)"
             ],
             [
              0.3137254901960784,
              "rgb(123,30,89)"
             ],
             [
              0.3764705882352941,
              "rgb(150,27,91)"
             ],
             [
              0.4392156862745098,
              "rgb(177,22,88)"
             ],
             [
              0.5019607843137255,
              "rgb(203,26,79)"
             ],
             [
              0.5647058823529412,
              "rgb(223,47,67)"
             ],
             [
              0.6274509803921569,
              "rgb(236,76,61)"
             ],
             [
              0.6901960784313725,
              "rgb(242,107,73)"
             ],
             [
              0.7529411764705882,
              "rgb(244,135,95)"
             ],
             [
              0.8156862745098039,
              "rgb(245,162,122)"
             ],
             [
              0.8784313725490196,
              "rgb(246,188,153)"
             ],
             [
              0.9411764705882353,
              "rgb(247,212,187)"
             ],
             [
              1,
              "rgb(250,234,220)"
             ]
            ],
            "type": "surface"
           }
          ],
          "table": [
           {
            "cells": {
             "fill": {
              "color": "rgb(231,231,240)"
             },
             "line": {
              "color": "white"
             }
            },
            "header": {
             "fill": {
              "color": "rgb(183,183,191)"
             },
             "line": {
              "color": "white"
             }
            },
            "type": "table"
           }
          ]
         },
         "layout": {
          "annotationdefaults": {
           "arrowcolor": "rgb(67,103,167)"
          },
          "coloraxis": {
           "colorbar": {
            "outlinewidth": 0,
            "tickcolor": "rgb(36,36,36)",
            "ticklen": 8,
            "ticks": "outside",
            "tickwidth": 2
           }
          },
          "colorscale": {
           "sequential": [
            [
             0,
             "rgb(2,4,25)"
            ],
            [
             0.06274509803921569,
             "rgb(24,15,41)"
            ],
            [
             0.12549019607843137,
             "rgb(47,23,57)"
            ],
            [
             0.18823529411764706,
             "rgb(71,28,72)"
            ],
            [
             0.25098039215686274,
             "rgb(97,30,82)"
            ],
            [
             0.3137254901960784,
             "rgb(123,30,89)"
            ],
            [
             0.3764705882352941,
             "rgb(150,27,91)"
            ],
            [
             0.4392156862745098,
             "rgb(177,22,88)"
            ],
            [
             0.5019607843137255,
             "rgb(203,26,79)"
            ],
            [
             0.5647058823529412,
             "rgb(223,47,67)"
            ],
            [
             0.6274509803921569,
             "rgb(236,76,61)"
            ],
            [
             0.6901960784313725,
             "rgb(242,107,73)"
            ],
            [
             0.7529411764705882,
             "rgb(244,135,95)"
            ],
            [
             0.8156862745098039,
             "rgb(245,162,122)"
            ],
            [
             0.8784313725490196,
             "rgb(246,188,153)"
            ],
            [
             0.9411764705882353,
             "rgb(247,212,187)"
            ],
            [
             1,
             "rgb(250,234,220)"
            ]
           ],
           "sequentialminus": [
            [
             0,
             "rgb(2,4,25)"
            ],
            [
             0.06274509803921569,
             "rgb(24,15,41)"
            ],
            [
             0.12549019607843137,
             "rgb(47,23,57)"
            ],
            [
             0.18823529411764706,
             "rgb(71,28,72)"
            ],
            [
             0.25098039215686274,
             "rgb(97,30,82)"
            ],
            [
             0.3137254901960784,
             "rgb(123,30,89)"
            ],
            [
             0.3764705882352941,
             "rgb(150,27,91)"
            ],
            [
             0.4392156862745098,
             "rgb(177,22,88)"
            ],
            [
             0.5019607843137255,
             "rgb(203,26,79)"
            ],
            [
             0.5647058823529412,
             "rgb(223,47,67)"
            ],
            [
             0.6274509803921569,
             "rgb(236,76,61)"
            ],
            [
             0.6901960784313725,
             "rgb(242,107,73)"
            ],
            [
             0.7529411764705882,
             "rgb(244,135,95)"
            ],
            [
             0.8156862745098039,
             "rgb(245,162,122)"
            ],
            [
             0.8784313725490196,
             "rgb(246,188,153)"
            ],
            [
             0.9411764705882353,
             "rgb(247,212,187)"
            ],
            [
             1,
             "rgb(250,234,220)"
            ]
           ]
          },
          "colorway": [
           "rgb(76,114,176)",
           "rgb(221,132,82)",
           "rgb(85,168,104)",
           "rgb(196,78,82)",
           "rgb(129,114,179)",
           "rgb(147,120,96)",
           "rgb(218,139,195)",
           "rgb(140,140,140)",
           "rgb(204,185,116)",
           "rgb(100,181,205)"
          ],
          "font": {
           "color": "rgb(36,36,36)"
          },
          "geo": {
           "bgcolor": "white",
           "lakecolor": "white",
           "landcolor": "rgb(234,234,242)",
           "showlakes": true,
           "showland": true,
           "subunitcolor": "white"
          },
          "hoverlabel": {
           "align": "left"
          },
          "hovermode": "closest",
          "paper_bgcolor": "white",
          "plot_bgcolor": "rgb(234,234,242)",
          "polar": {
           "angularaxis": {
            "gridcolor": "white",
            "linecolor": "white",
            "showgrid": true,
            "ticks": ""
           },
           "bgcolor": "rgb(234,234,242)",
           "radialaxis": {
            "gridcolor": "white",
            "linecolor": "white",
            "showgrid": true,
            "ticks": ""
           }
          },
          "scene": {
           "xaxis": {
            "backgroundcolor": "rgb(234,234,242)",
            "gridcolor": "white",
            "gridwidth": 2,
            "linecolor": "white",
            "showbackground": true,
            "showgrid": true,
            "ticks": "",
            "zerolinecolor": "white"
           },
           "yaxis": {
            "backgroundcolor": "rgb(234,234,242)",
            "gridcolor": "white",
            "gridwidth": 2,
            "linecolor": "white",
            "showbackground": true,
            "showgrid": true,
            "ticks": "",
            "zerolinecolor": "white"
           },
           "zaxis": {
            "backgroundcolor": "rgb(234,234,242)",
            "gridcolor": "white",
            "gridwidth": 2,
            "linecolor": "white",
            "showbackground": true,
            "showgrid": true,
            "ticks": "",
            "zerolinecolor": "white"
           }
          },
          "shapedefaults": {
           "fillcolor": "rgb(67,103,167)",
           "line": {
            "width": 0
           },
           "opacity": 0.5
          },
          "ternary": {
           "aaxis": {
            "gridcolor": "white",
            "linecolor": "white",
            "showgrid": true,
            "ticks": ""
           },
           "baxis": {
            "gridcolor": "white",
            "linecolor": "white",
            "showgrid": true,
            "ticks": ""
           },
           "bgcolor": "rgb(234,234,242)",
           "caxis": {
            "gridcolor": "white",
            "linecolor": "white",
            "showgrid": true,
            "ticks": ""
           }
          },
          "xaxis": {
           "automargin": true,
           "gridcolor": "white",
           "linecolor": "white",
           "showgrid": true,
           "ticks": "",
           "title": {
            "standoff": 15
           },
           "zerolinecolor": "white"
          },
          "yaxis": {
           "automargin": true,
           "gridcolor": "white",
           "linecolor": "white",
           "showgrid": true,
           "ticks": "",
           "title": {
            "standoff": 15
           },
           "zerolinecolor": "white"
          }
         }
        },
        "xaxis": {
         "anchor": "y",
         "domain": [
          0,
          1
         ],
         "dtick": 0.2,
         "tickformat": "%",
         "title": {
          "text": "PAni"
         }
        },
        "yaxis": {
         "anchor": "x",
         "domain": [
          0,
          1
         ],
         "title": {
          "text": "Condutividade (S/m)"
         },
         "type": "log"
        }
       }
      },
      "text/html": [
       "<div>\n",
       "        \n",
       "        \n",
       "            <div id=\"a41c3729-b205-4633-a4c0-e208d8dc1c37\" class=\"plotly-graph-div\" style=\"height:525px; width:100%;\"></div>\n",
       "            <script type=\"text/javascript\">\n",
       "                require([\"plotly\"], function(Plotly) {\n",
       "                    window.PLOTLYENV=window.PLOTLYENV || {};\n",
       "                    \n",
       "                if (document.getElementById(\"a41c3729-b205-4633-a4c0-e208d8dc1c37\")) {\n",
       "                    Plotly.newPlot(\n",
       "                        'a41c3729-b205-4633-a4c0-e208d8dc1c37',\n",
       "                        [{\"hovertemplate\": \"PAni=%{x}<br>Condutividade=%{y}<extra></extra>\", \"legendgroup\": \"\", \"line\": {\"color\": \"#636efa\", \"dash\": \"solid\", \"width\": 2}, \"marker\": {\"size\": 5}, \"mode\": \"markers+lines\", \"name\": \"\", \"orientation\": \"v\", \"showlegend\": false, \"type\": \"scatter\", \"x\": [0.0, 0.04, 0.1, 1.0], \"xaxis\": \"x\", \"y\": [1.7083772085406592e-12, 1.8830740000000002e-13, 1.14e-09, 6.8029839999999995e-06], \"yaxis\": \"y\"}],\n",
       "                        {\"autosize\": true, \"font\": {\"size\": 20}, \"legend\": {\"tracegroupgap\": 0}, \"margin\": {\"t\": 60}, \"template\": {\"data\": {\"bar\": [{\"error_x\": {\"color\": \"rgb(36,36,36)\"}, \"error_y\": {\"color\": \"rgb(36,36,36)\"}, \"marker\": {\"line\": {\"color\": \"rgb(234,234,242)\", \"width\": 0.5}}, \"type\": \"bar\"}], \"barpolar\": [{\"marker\": {\"line\": {\"color\": \"rgb(234,234,242)\", \"width\": 0.5}}, \"type\": \"barpolar\"}], \"carpet\": [{\"aaxis\": {\"endlinecolor\": \"rgb(36,36,36)\", \"gridcolor\": \"white\", \"linecolor\": \"white\", \"minorgridcolor\": \"white\", \"startlinecolor\": \"rgb(36,36,36)\"}, \"baxis\": {\"endlinecolor\": \"rgb(36,36,36)\", \"gridcolor\": \"white\", \"linecolor\": \"white\", \"minorgridcolor\": \"white\", \"startlinecolor\": \"rgb(36,36,36)\"}, \"type\": \"carpet\"}], \"choropleth\": [{\"colorbar\": {\"outlinewidth\": 0, \"tickcolor\": \"rgb(36,36,36)\", \"ticklen\": 8, \"ticks\": \"outside\", \"tickwidth\": 2}, \"type\": \"choropleth\"}], \"contour\": [{\"colorbar\": {\"outlinewidth\": 0, \"tickcolor\": \"rgb(36,36,36)\", \"ticklen\": 8, \"ticks\": \"outside\", \"tickwidth\": 2}, \"colorscale\": [[0.0, \"rgb(2,4,25)\"], [0.06274509803921569, \"rgb(24,15,41)\"], [0.12549019607843137, \"rgb(47,23,57)\"], [0.18823529411764706, \"rgb(71,28,72)\"], [0.25098039215686274, \"rgb(97,30,82)\"], [0.3137254901960784, \"rgb(123,30,89)\"], [0.3764705882352941, \"rgb(150,27,91)\"], [0.4392156862745098, \"rgb(177,22,88)\"], [0.5019607843137255, \"rgb(203,26,79)\"], [0.5647058823529412, \"rgb(223,47,67)\"], [0.6274509803921569, \"rgb(236,76,61)\"], [0.6901960784313725, \"rgb(242,107,73)\"], [0.7529411764705882, \"rgb(244,135,95)\"], [0.8156862745098039, \"rgb(245,162,122)\"], [0.8784313725490196, \"rgb(246,188,153)\"], [0.9411764705882353, \"rgb(247,212,187)\"], [1.0, \"rgb(250,234,220)\"]], \"type\": \"contour\"}], \"contourcarpet\": [{\"colorbar\": {\"outlinewidth\": 0, \"tickcolor\": \"rgb(36,36,36)\", \"ticklen\": 8, \"ticks\": \"outside\", \"tickwidth\": 2}, \"type\": \"contourcarpet\"}], \"heatmap\": [{\"colorbar\": {\"outlinewidth\": 0, \"tickcolor\": \"rgb(36,36,36)\", \"ticklen\": 8, \"ticks\": \"outside\", \"tickwidth\": 2}, \"colorscale\": [[0.0, \"rgb(2,4,25)\"], [0.06274509803921569, \"rgb(24,15,41)\"], [0.12549019607843137, \"rgb(47,23,57)\"], [0.18823529411764706, \"rgb(71,28,72)\"], [0.25098039215686274, \"rgb(97,30,82)\"], [0.3137254901960784, \"rgb(123,30,89)\"], [0.3764705882352941, \"rgb(150,27,91)\"], [0.4392156862745098, \"rgb(177,22,88)\"], [0.5019607843137255, \"rgb(203,26,79)\"], [0.5647058823529412, \"rgb(223,47,67)\"], [0.6274509803921569, \"rgb(236,76,61)\"], [0.6901960784313725, \"rgb(242,107,73)\"], [0.7529411764705882, \"rgb(244,135,95)\"], [0.8156862745098039, \"rgb(245,162,122)\"], [0.8784313725490196, \"rgb(246,188,153)\"], [0.9411764705882353, \"rgb(247,212,187)\"], [1.0, \"rgb(250,234,220)\"]], \"type\": \"heatmap\"}], \"heatmapgl\": [{\"colorbar\": {\"outlinewidth\": 0, \"tickcolor\": \"rgb(36,36,36)\", \"ticklen\": 8, \"ticks\": \"outside\", \"tickwidth\": 2}, \"colorscale\": [[0.0, \"rgb(2,4,25)\"], [0.06274509803921569, \"rgb(24,15,41)\"], [0.12549019607843137, \"rgb(47,23,57)\"], [0.18823529411764706, \"rgb(71,28,72)\"], [0.25098039215686274, \"rgb(97,30,82)\"], [0.3137254901960784, \"rgb(123,30,89)\"], [0.3764705882352941, \"rgb(150,27,91)\"], [0.4392156862745098, \"rgb(177,22,88)\"], [0.5019607843137255, \"rgb(203,26,79)\"], [0.5647058823529412, \"rgb(223,47,67)\"], [0.6274509803921569, \"rgb(236,76,61)\"], [0.6901960784313725, \"rgb(242,107,73)\"], [0.7529411764705882, \"rgb(244,135,95)\"], [0.8156862745098039, \"rgb(245,162,122)\"], [0.8784313725490196, \"rgb(246,188,153)\"], [0.9411764705882353, \"rgb(247,212,187)\"], [1.0, \"rgb(250,234,220)\"]], \"type\": \"heatmapgl\"}], \"histogram\": [{\"marker\": {\"colorbar\": {\"outlinewidth\": 0, \"tickcolor\": \"rgb(36,36,36)\", \"ticklen\": 8, \"ticks\": \"outside\", \"tickwidth\": 2}}, \"type\": \"histogram\"}], \"histogram2d\": [{\"colorbar\": {\"outlinewidth\": 0, \"tickcolor\": \"rgb(36,36,36)\", \"ticklen\": 8, \"ticks\": \"outside\", \"tickwidth\": 2}, \"colorscale\": [[0.0, \"rgb(2,4,25)\"], [0.06274509803921569, \"rgb(24,15,41)\"], [0.12549019607843137, \"rgb(47,23,57)\"], [0.18823529411764706, \"rgb(71,28,72)\"], [0.25098039215686274, \"rgb(97,30,82)\"], [0.3137254901960784, \"rgb(123,30,89)\"], [0.3764705882352941, \"rgb(150,27,91)\"], [0.4392156862745098, \"rgb(177,22,88)\"], [0.5019607843137255, \"rgb(203,26,79)\"], [0.5647058823529412, \"rgb(223,47,67)\"], [0.6274509803921569, \"rgb(236,76,61)\"], [0.6901960784313725, \"rgb(242,107,73)\"], [0.7529411764705882, \"rgb(244,135,95)\"], [0.8156862745098039, \"rgb(245,162,122)\"], [0.8784313725490196, \"rgb(246,188,153)\"], [0.9411764705882353, \"rgb(247,212,187)\"], [1.0, \"rgb(250,234,220)\"]], \"type\": \"histogram2d\"}], \"histogram2dcontour\": [{\"colorbar\": {\"outlinewidth\": 0, \"tickcolor\": \"rgb(36,36,36)\", \"ticklen\": 8, \"ticks\": \"outside\", \"tickwidth\": 2}, \"colorscale\": [[0.0, \"rgb(2,4,25)\"], [0.06274509803921569, \"rgb(24,15,41)\"], [0.12549019607843137, \"rgb(47,23,57)\"], [0.18823529411764706, \"rgb(71,28,72)\"], [0.25098039215686274, \"rgb(97,30,82)\"], [0.3137254901960784, \"rgb(123,30,89)\"], [0.3764705882352941, \"rgb(150,27,91)\"], [0.4392156862745098, \"rgb(177,22,88)\"], [0.5019607843137255, \"rgb(203,26,79)\"], [0.5647058823529412, \"rgb(223,47,67)\"], [0.6274509803921569, \"rgb(236,76,61)\"], [0.6901960784313725, \"rgb(242,107,73)\"], [0.7529411764705882, \"rgb(244,135,95)\"], [0.8156862745098039, \"rgb(245,162,122)\"], [0.8784313725490196, \"rgb(246,188,153)\"], [0.9411764705882353, \"rgb(247,212,187)\"], [1.0, \"rgb(250,234,220)\"]], \"type\": \"histogram2dcontour\"}], \"mesh3d\": [{\"colorbar\": {\"outlinewidth\": 0, \"tickcolor\": \"rgb(36,36,36)\", \"ticklen\": 8, \"ticks\": \"outside\", \"tickwidth\": 2}, \"type\": \"mesh3d\"}], \"parcoords\": [{\"line\": {\"colorbar\": {\"outlinewidth\": 0, \"tickcolor\": \"rgb(36,36,36)\", \"ticklen\": 8, \"ticks\": \"outside\", \"tickwidth\": 2}}, \"type\": \"parcoords\"}], \"pie\": [{\"automargin\": true, \"type\": \"pie\"}], \"scatter\": [{\"marker\": {\"colorbar\": {\"outlinewidth\": 0, \"tickcolor\": \"rgb(36,36,36)\", \"ticklen\": 8, \"ticks\": \"outside\", \"tickwidth\": 2}}, \"type\": \"scatter\"}], \"scatter3d\": [{\"line\": {\"colorbar\": {\"outlinewidth\": 0, \"tickcolor\": \"rgb(36,36,36)\", \"ticklen\": 8, \"ticks\": \"outside\", \"tickwidth\": 2}}, \"marker\": {\"colorbar\": {\"outlinewidth\": 0, \"tickcolor\": \"rgb(36,36,36)\", \"ticklen\": 8, \"ticks\": \"outside\", \"tickwidth\": 2}}, \"type\": \"scatter3d\"}], \"scattercarpet\": [{\"marker\": {\"colorbar\": {\"outlinewidth\": 0, \"tickcolor\": \"rgb(36,36,36)\", \"ticklen\": 8, \"ticks\": \"outside\", \"tickwidth\": 2}}, \"type\": \"scattercarpet\"}], \"scattergeo\": [{\"marker\": {\"colorbar\": {\"outlinewidth\": 0, \"tickcolor\": \"rgb(36,36,36)\", \"ticklen\": 8, \"ticks\": \"outside\", \"tickwidth\": 2}}, \"type\": \"scattergeo\"}], \"scattergl\": [{\"marker\": {\"colorbar\": {\"outlinewidth\": 0, \"tickcolor\": \"rgb(36,36,36)\", \"ticklen\": 8, \"ticks\": \"outside\", \"tickwidth\": 2}}, \"type\": \"scattergl\"}], \"scattermapbox\": [{\"marker\": {\"colorbar\": {\"outlinewidth\": 0, \"tickcolor\": \"rgb(36,36,36)\", \"ticklen\": 8, \"ticks\": \"outside\", \"tickwidth\": 2}}, \"type\": \"scattermapbox\"}], \"scatterpolar\": [{\"marker\": {\"colorbar\": {\"outlinewidth\": 0, \"tickcolor\": \"rgb(36,36,36)\", \"ticklen\": 8, \"ticks\": \"outside\", \"tickwidth\": 2}}, \"type\": \"scatterpolar\"}], \"scatterpolargl\": [{\"marker\": {\"colorbar\": {\"outlinewidth\": 0, \"tickcolor\": \"rgb(36,36,36)\", \"ticklen\": 8, \"ticks\": \"outside\", \"tickwidth\": 2}}, \"type\": \"scatterpolargl\"}], \"scatterternary\": [{\"marker\": {\"colorbar\": {\"outlinewidth\": 0, \"tickcolor\": \"rgb(36,36,36)\", \"ticklen\": 8, \"ticks\": \"outside\", \"tickwidth\": 2}}, \"type\": \"scatterternary\"}], \"surface\": [{\"colorbar\": {\"outlinewidth\": 0, \"tickcolor\": \"rgb(36,36,36)\", \"ticklen\": 8, \"ticks\": \"outside\", \"tickwidth\": 2}, \"colorscale\": [[0.0, \"rgb(2,4,25)\"], [0.06274509803921569, \"rgb(24,15,41)\"], [0.12549019607843137, \"rgb(47,23,57)\"], [0.18823529411764706, \"rgb(71,28,72)\"], [0.25098039215686274, \"rgb(97,30,82)\"], [0.3137254901960784, \"rgb(123,30,89)\"], [0.3764705882352941, \"rgb(150,27,91)\"], [0.4392156862745098, \"rgb(177,22,88)\"], [0.5019607843137255, \"rgb(203,26,79)\"], [0.5647058823529412, \"rgb(223,47,67)\"], [0.6274509803921569, \"rgb(236,76,61)\"], [0.6901960784313725, \"rgb(242,107,73)\"], [0.7529411764705882, \"rgb(244,135,95)\"], [0.8156862745098039, \"rgb(245,162,122)\"], [0.8784313725490196, \"rgb(246,188,153)\"], [0.9411764705882353, \"rgb(247,212,187)\"], [1.0, \"rgb(250,234,220)\"]], \"type\": \"surface\"}], \"table\": [{\"cells\": {\"fill\": {\"color\": \"rgb(231,231,240)\"}, \"line\": {\"color\": \"white\"}}, \"header\": {\"fill\": {\"color\": \"rgb(183,183,191)\"}, \"line\": {\"color\": \"white\"}}, \"type\": \"table\"}]}, \"layout\": {\"annotationdefaults\": {\"arrowcolor\": \"rgb(67,103,167)\"}, \"coloraxis\": {\"colorbar\": {\"outlinewidth\": 0, \"tickcolor\": \"rgb(36,36,36)\", \"ticklen\": 8, \"ticks\": \"outside\", \"tickwidth\": 2}}, \"colorscale\": {\"sequential\": [[0.0, \"rgb(2,4,25)\"], [0.06274509803921569, \"rgb(24,15,41)\"], [0.12549019607843137, \"rgb(47,23,57)\"], [0.18823529411764706, \"rgb(71,28,72)\"], [0.25098039215686274, \"rgb(97,30,82)\"], [0.3137254901960784, \"rgb(123,30,89)\"], [0.3764705882352941, \"rgb(150,27,91)\"], [0.4392156862745098, \"rgb(177,22,88)\"], [0.5019607843137255, \"rgb(203,26,79)\"], [0.5647058823529412, \"rgb(223,47,67)\"], [0.6274509803921569, \"rgb(236,76,61)\"], [0.6901960784313725, \"rgb(242,107,73)\"], [0.7529411764705882, \"rgb(244,135,95)\"], [0.8156862745098039, \"rgb(245,162,122)\"], [0.8784313725490196, \"rgb(246,188,153)\"], [0.9411764705882353, \"rgb(247,212,187)\"], [1.0, \"rgb(250,234,220)\"]], \"sequentialminus\": [[0.0, \"rgb(2,4,25)\"], [0.06274509803921569, \"rgb(24,15,41)\"], [0.12549019607843137, \"rgb(47,23,57)\"], [0.18823529411764706, \"rgb(71,28,72)\"], [0.25098039215686274, \"rgb(97,30,82)\"], [0.3137254901960784, \"rgb(123,30,89)\"], [0.3764705882352941, \"rgb(150,27,91)\"], [0.4392156862745098, \"rgb(177,22,88)\"], [0.5019607843137255, \"rgb(203,26,79)\"], [0.5647058823529412, \"rgb(223,47,67)\"], [0.6274509803921569, \"rgb(236,76,61)\"], [0.6901960784313725, \"rgb(242,107,73)\"], [0.7529411764705882, \"rgb(244,135,95)\"], [0.8156862745098039, \"rgb(245,162,122)\"], [0.8784313725490196, \"rgb(246,188,153)\"], [0.9411764705882353, \"rgb(247,212,187)\"], [1.0, \"rgb(250,234,220)\"]]}, \"colorway\": [\"rgb(76,114,176)\", \"rgb(221,132,82)\", \"rgb(85,168,104)\", \"rgb(196,78,82)\", \"rgb(129,114,179)\", \"rgb(147,120,96)\", \"rgb(218,139,195)\", \"rgb(140,140,140)\", \"rgb(204,185,116)\", \"rgb(100,181,205)\"], \"font\": {\"color\": \"rgb(36,36,36)\"}, \"geo\": {\"bgcolor\": \"white\", \"lakecolor\": \"white\", \"landcolor\": \"rgb(234,234,242)\", \"showlakes\": true, \"showland\": true, \"subunitcolor\": \"white\"}, \"hoverlabel\": {\"align\": \"left\"}, \"hovermode\": \"closest\", \"paper_bgcolor\": \"white\", \"plot_bgcolor\": \"rgb(234,234,242)\", \"polar\": {\"angularaxis\": {\"gridcolor\": \"white\", \"linecolor\": \"white\", \"showgrid\": true, \"ticks\": \"\"}, \"bgcolor\": \"rgb(234,234,242)\", \"radialaxis\": {\"gridcolor\": \"white\", \"linecolor\": \"white\", \"showgrid\": true, \"ticks\": \"\"}}, \"scene\": {\"xaxis\": {\"backgroundcolor\": \"rgb(234,234,242)\", \"gridcolor\": \"white\", \"gridwidth\": 2, \"linecolor\": \"white\", \"showbackground\": true, \"showgrid\": true, \"ticks\": \"\", \"zerolinecolor\": \"white\"}, \"yaxis\": {\"backgroundcolor\": \"rgb(234,234,242)\", \"gridcolor\": \"white\", \"gridwidth\": 2, \"linecolor\": \"white\", \"showbackground\": true, \"showgrid\": true, \"ticks\": \"\", \"zerolinecolor\": \"white\"}, \"zaxis\": {\"backgroundcolor\": \"rgb(234,234,242)\", \"gridcolor\": \"white\", \"gridwidth\": 2, \"linecolor\": \"white\", \"showbackground\": true, \"showgrid\": true, \"ticks\": \"\", \"zerolinecolor\": \"white\"}}, \"shapedefaults\": {\"fillcolor\": \"rgb(67,103,167)\", \"line\": {\"width\": 0}, \"opacity\": 0.5}, \"ternary\": {\"aaxis\": {\"gridcolor\": \"white\", \"linecolor\": \"white\", \"showgrid\": true, \"ticks\": \"\"}, \"baxis\": {\"gridcolor\": \"white\", \"linecolor\": \"white\", \"showgrid\": true, \"ticks\": \"\"}, \"bgcolor\": \"rgb(234,234,242)\", \"caxis\": {\"gridcolor\": \"white\", \"linecolor\": \"white\", \"showgrid\": true, \"ticks\": \"\"}}, \"xaxis\": {\"automargin\": true, \"gridcolor\": \"white\", \"linecolor\": \"white\", \"showgrid\": true, \"ticks\": \"\", \"title\": {\"standoff\": 15}, \"zerolinecolor\": \"white\"}, \"yaxis\": {\"automargin\": true, \"gridcolor\": \"white\", \"linecolor\": \"white\", \"showgrid\": true, \"ticks\": \"\", \"title\": {\"standoff\": 15}, \"zerolinecolor\": \"white\"}}}, \"xaxis\": {\"anchor\": \"y\", \"domain\": [0.0, 1.0], \"dtick\": 0.2, \"tickformat\": \"%\", \"title\": {\"text\": \"PAni\"}}, \"yaxis\": {\"anchor\": \"x\", \"domain\": [0.0, 1.0], \"title\": {\"text\": \"Condutividade (S/m)\"}, \"type\": \"log\"}},\n",
       "                        {\"responsive\": true}\n",
       "                    ).then(function(){\n",
       "                            \n",
       "var gd = document.getElementById('a41c3729-b205-4633-a4c0-e208d8dc1c37');\n",
       "var x = new MutationObserver(function (mutations, observer) {{\n",
       "        var display = window.getComputedStyle(gd).display;\n",
       "        if (!display || display === 'none') {{\n",
       "            console.log([gd, 'removed!']);\n",
       "            Plotly.purge(gd);\n",
       "            observer.disconnect();\n",
       "        }}\n",
       "}});\n",
       "\n",
       "// Listen for the removal of the full notebook cells\n",
       "var notebookContainer = gd.closest('#notebook-container');\n",
       "if (notebookContainer) {{\n",
       "    x.observe(notebookContainer, {childList: true});\n",
       "}}\n",
       "\n",
       "// Listen for the clearing of the current output cell\n",
       "var outputEl = gd.closest('.output');\n",
       "if (outputEl) {{\n",
       "    x.observe(outputEl, {childList: true});\n",
       "}}\n",
       "\n",
       "                        })\n",
       "                };\n",
       "                });\n",
       "            </script>\n",
       "        </div>"
      ]
     },
     "metadata": {},
     "output_type": "display_data"
    }
   ],
   "source": [
    "fig = px.line(output[output['EG']==0], y = 'Condutividade', x = 'PAni')\n",
    "fig.update_layout(yaxis_type='log',\n",
    "                  autosize = True,\n",
    "                  #width=800,\n",
    "                  #height=600,\n",
    "                  yaxis_title_text = 'Condutividade (S/m)',\n",
    "                  xaxis_title_text = 'PAni',\n",
    "                  xaxis_dtick = 0.2,\n",
    "                  xaxis_tickformat = '%',\n",
    "                  template = \"seaborn\",\n",
    "                  font_size = 20,\n",
    "                 )\n",
    "fig.update_traces(mode = 'markers+lines', line_width=2, marker_size=5)"
   ]
  },
  {
   "cell_type": "code",
   "execution_count": 36,
   "metadata": {},
   "outputs": [
    {
     "data": {
      "text/html": [
       "<div>\n",
       "<style scoped>\n",
       "    .dataframe tbody tr th:only-of-type {\n",
       "        vertical-align: middle;\n",
       "    }\n",
       "\n",
       "    .dataframe tbody tr th {\n",
       "        vertical-align: top;\n",
       "    }\n",
       "\n",
       "    .dataframe thead th {\n",
       "        text-align: right;\n",
       "    }\n",
       "</style>\n",
       "<table border=\"1\" class=\"dataframe\">\n",
       "  <thead>\n",
       "    <tr style=\"text-align: right;\">\n",
       "      <th></th>\n",
       "      <th>Descrição</th>\n",
       "      <th>Resistividade</th>\n",
       "      <th>Res. Desv. Pad.</th>\n",
       "      <th>Condutividade</th>\n",
       "      <th>Cond. Desv. Pad.</th>\n",
       "      <th>Condutividade_log</th>\n",
       "      <th>PU</th>\n",
       "      <th>EG</th>\n",
       "      <th>PAni</th>\n",
       "    </tr>\n",
       "  </thead>\n",
       "  <tbody>\n",
       "    <tr>\n",
       "      <th>0</th>\n",
       "      <td>PU Puro</td>\n",
       "      <td>5.853508e+13</td>\n",
       "      <td>4.127139e+12</td>\n",
       "      <td>1.708377e-12</td>\n",
       "      <td>1.227979e-13</td>\n",
       "      <td>-11.767416</td>\n",
       "      <td>1.00</td>\n",
       "      <td>0.00</td>\n",
       "      <td>0.00</td>\n",
       "    </tr>\n",
       "    <tr>\n",
       "      <th>1</th>\n",
       "      <td>PU + 1% NPG</td>\n",
       "      <td>1.139829e+14</td>\n",
       "      <td>1.730867e+13</td>\n",
       "      <td>8.773246e-13</td>\n",
       "      <td>1.461733e-13</td>\n",
       "      <td>-12.056840</td>\n",
       "      <td>0.99</td>\n",
       "      <td>0.01</td>\n",
       "      <td>0.00</td>\n",
       "    </tr>\n",
       "    <tr>\n",
       "      <th>2</th>\n",
       "      <td>PU + 2% NPG</td>\n",
       "      <td>6.879353e+13</td>\n",
       "      <td>2.946358e+13</td>\n",
       "      <td>1.453625e-12</td>\n",
       "      <td>2.108084e-12</td>\n",
       "      <td>-11.837548</td>\n",
       "      <td>0.98</td>\n",
       "      <td>0.02</td>\n",
       "      <td>0.00</td>\n",
       "    </tr>\n",
       "    <tr>\n",
       "      <th>3</th>\n",
       "      <td>PU + 4% NPG</td>\n",
       "      <td>2.539743e+11</td>\n",
       "      <td>1.338928e+09</td>\n",
       "      <td>3.937407e-10</td>\n",
       "      <td>2.075985e-12</td>\n",
       "      <td>-9.404790</td>\n",
       "      <td>0.96</td>\n",
       "      <td>0.04</td>\n",
       "      <td>0.00</td>\n",
       "    </tr>\n",
       "    <tr>\n",
       "      <th>4</th>\n",
       "      <td>PU + 10% NPG</td>\n",
       "      <td>1.250055e+04</td>\n",
       "      <td>4.463358e+02</td>\n",
       "      <td>7.999651e-03</td>\n",
       "      <td>2.870357e-04</td>\n",
       "      <td>-2.096929</td>\n",
       "      <td>0.90</td>\n",
       "      <td>0.10</td>\n",
       "      <td>0.00</td>\n",
       "    </tr>\n",
       "    <tr>\n",
       "      <th>5</th>\n",
       "      <td>PU + 4% PAni</td>\n",
       "      <td>5.310467e+14</td>\n",
       "      <td>NaN</td>\n",
       "      <td>1.883074e-13</td>\n",
       "      <td>NaN</td>\n",
       "      <td>-12.725133</td>\n",
       "      <td>0.96</td>\n",
       "      <td>0.00</td>\n",
       "      <td>0.04</td>\n",
       "    </tr>\n",
       "    <tr>\n",
       "      <th>6</th>\n",
       "      <td>PU + 10% PAni</td>\n",
       "      <td>8.750000e+10</td>\n",
       "      <td>NaN</td>\n",
       "      <td>1.140000e-09</td>\n",
       "      <td>NaN</td>\n",
       "      <td>-8.943095</td>\n",
       "      <td>0.90</td>\n",
       "      <td>0.00</td>\n",
       "      <td>0.10</td>\n",
       "    </tr>\n",
       "    <tr>\n",
       "      <th>7</th>\n",
       "      <td>PAni</td>\n",
       "      <td>1.469943e+07</td>\n",
       "      <td>NaN</td>\n",
       "      <td>6.802984e-06</td>\n",
       "      <td>NaN</td>\n",
       "      <td>-5.167301</td>\n",
       "      <td>0.00</td>\n",
       "      <td>0.00</td>\n",
       "      <td>1.00</td>\n",
       "    </tr>\n",
       "    <tr>\n",
       "      <th>8</th>\n",
       "      <td>PU + 2% EG + 2% PAni</td>\n",
       "      <td>1.962490e+14</td>\n",
       "      <td>NaN</td>\n",
       "      <td>5.095568e-13</td>\n",
       "      <td>NaN</td>\n",
       "      <td>-12.292807</td>\n",
       "      <td>0.96</td>\n",
       "      <td>0.02</td>\n",
       "      <td>0.02</td>\n",
       "    </tr>\n",
       "  </tbody>\n",
       "</table>\n",
       "</div>"
      ],
      "text/plain": [
       "              Descrição  Resistividade  Res. Desv. Pad.  Condutividade  \\\n",
       "0               PU Puro   5.853508e+13     4.127139e+12   1.708377e-12   \n",
       "1           PU + 1% NPG   1.139829e+14     1.730867e+13   8.773246e-13   \n",
       "2           PU + 2% NPG   6.879353e+13     2.946358e+13   1.453625e-12   \n",
       "3           PU + 4% NPG   2.539743e+11     1.338928e+09   3.937407e-10   \n",
       "4          PU + 10% NPG   1.250055e+04     4.463358e+02   7.999651e-03   \n",
       "5          PU + 4% PAni   5.310467e+14              NaN   1.883074e-13   \n",
       "6         PU + 10% PAni   8.750000e+10              NaN   1.140000e-09   \n",
       "7                  PAni   1.469943e+07              NaN   6.802984e-06   \n",
       "8  PU + 2% EG + 2% PAni   1.962490e+14              NaN   5.095568e-13   \n",
       "\n",
       "   Cond. Desv. Pad.  Condutividade_log    PU    EG  PAni  \n",
       "0      1.227979e-13         -11.767416  1.00  0.00  0.00  \n",
       "1      1.461733e-13         -12.056840  0.99  0.01  0.00  \n",
       "2      2.108084e-12         -11.837548  0.98  0.02  0.00  \n",
       "3      2.075985e-12          -9.404790  0.96  0.04  0.00  \n",
       "4      2.870357e-04          -2.096929  0.90  0.10  0.00  \n",
       "5               NaN         -12.725133  0.96  0.00  0.04  \n",
       "6               NaN          -8.943095  0.90  0.00  0.10  \n",
       "7               NaN          -5.167301  0.00  0.00  1.00  \n",
       "8               NaN         -12.292807  0.96  0.02  0.02  "
      ]
     },
     "execution_count": 36,
     "metadata": {},
     "output_type": "execute_result"
    }
   ],
   "source": [
    "output"
   ]
  },
  {
   "cell_type": "code",
   "execution_count": 37,
   "metadata": {},
   "outputs": [],
   "source": [
    "r = (3/2.5e-6)*3**2/0.7"
   ]
  },
  {
   "cell_type": "code",
   "execution_count": 38,
   "metadata": {},
   "outputs": [
    {
     "data": {
      "text/plain": [
       "6.481481481481481e-08"
      ]
     },
     "execution_count": 38,
     "metadata": {},
     "output_type": "execute_result"
    }
   ],
   "source": [
    "1/r"
   ]
  },
  {
   "cell_type": "code",
   "execution_count": 39,
   "metadata": {},
   "outputs": [
    {
     "data": {
      "application/vnd.plotly.v1+json": {
       "config": {
        "plotlyServerURL": "https://plot.ly"
       },
       "data": [
        {
         "a": [
          1,
          0.92,
          0.92,
          0.96,
          0.96,
          0.92,
          0.947
         ],
         "b": [
          0,
          0.08,
          0,
          0.04,
          0,
          0.04,
          0.026
         ],
         "c": [
          0,
          0,
          0.08,
          0,
          0.04,
          0.04,
          0.026
         ],
         "hovertemplate": "color=Centróide-simplex<br>a=%{a}<br>b=%{b}<br>c=%{c}<extra></extra>",
         "legendgroup": "Centróide-simplex",
         "marker": {
          "color": "#1F77B4",
          "size": 22,
          "symbol": "circle"
         },
         "mode": "markers",
         "name": "Centróide-simplex",
         "showlegend": true,
         "subplot": "ternary",
         "type": "scatterternary"
        },
        {
         "a": [
          0.974,
          0.937,
          0.937
         ],
         "b": [
          0.013,
          0.053,
          0.013
         ],
         "c": [
          0.013,
          0.013,
          0.053
         ],
         "hovertemplate": "color=Adicional<br>a=%{a}<br>b=%{b}<br>c=%{c}<extra></extra>",
         "legendgroup": "Adicional",
         "marker": {
          "color": "#FF7F0E",
          "size": 22,
          "symbol": "circle"
         },
         "mode": "markers",
         "name": "Adicional",
         "showlegend": true,
         "subplot": "ternary",
         "type": "scatterternary"
        }
       ],
       "layout": {
        "height": 500,
        "legend": {
         "title": {
          "text": ""
         },
         "tracegroupgap": 0,
         "x": 0.33,
         "xanchor": "right",
         "y": 0.99,
         "yanchor": "top"
        },
        "margin": {
         "t": 60
        },
        "template": {
         "data": {
          "pie": [
           {
            "automargin": true,
            "type": "pie"
           }
          ],
          "scatter": [
           {
            "line": {
             "width": 3
            },
            "marker": {
             "size": 9
            },
            "type": "scatter"
           }
          ],
          "scatter3d": [
           {
            "line": {
             "width": 3
            },
            "marker": {
             "size": 9
            },
            "type": "scatter3d"
           }
          ],
          "scattergeo": [
           {
            "line": {
             "width": 3
            },
            "marker": {
             "size": 9
            },
            "type": "scattergeo"
           }
          ],
          "scattergl": [
           {
            "line": {
             "width": 3
            },
            "marker": {
             "size": 9
            },
            "type": "scattergl"
           }
          ],
          "scatterpolar": [
           {
            "line": {
             "width": 3
            },
            "marker": {
             "size": 9
            },
            "type": "scatterpolar"
           }
          ],
          "scatterpolargl": [
           {
            "line": {
             "width": 3
            },
            "marker": {
             "size": 9
            },
            "type": "scatterpolargl"
           }
          ],
          "scatterternary": [
           {
            "line": {
             "width": 3
            },
            "marker": {
             "size": 9
            },
            "type": "scatterternary"
           }
          ],
          "table": [
           {
            "cells": {
             "height": 30
            },
            "header": {
             "height": 36
            },
            "type": "table"
           }
          ]
         },
         "layout": {
          "font": {
           "size": 18
          },
          "xaxis": {
           "title": {
            "standoff": 15
           }
          },
          "yaxis": {
           "title": {
            "standoff": 15
           }
          }
         }
        },
        "ternary": {
         "aaxis": {
          "linewidth": 2,
          "min": 0.9,
          "ticks": "outside",
          "title": {
           "text": "PU"
          }
         },
         "baxis": {
          "linewidth": 2,
          "min": 0,
          "ticks": "outside",
          "title": {
           "text": "NPG"
          }
         },
         "caxis": {
          "linewidth": 2,
          "min": 0,
          "ticks": "outside",
          "title": {
           "text": "PAni"
          }
         },
         "domain": {
          "x": [
           0,
           1
          ],
          "y": [
           0,
           1
          ]
         },
         "sum": 1
        },
        "width": 750
       }
      },
      "text/html": [
       "<div>\n",
       "        \n",
       "        \n",
       "            <div id=\"4a2a35c0-970a-440b-99ae-4144ac018fcd\" class=\"plotly-graph-div\" style=\"height:500px; width:750px;\"></div>\n",
       "            <script type=\"text/javascript\">\n",
       "                require([\"plotly\"], function(Plotly) {\n",
       "                    window.PLOTLYENV=window.PLOTLYENV || {};\n",
       "                    \n",
       "                if (document.getElementById(\"4a2a35c0-970a-440b-99ae-4144ac018fcd\")) {\n",
       "                    Plotly.newPlot(\n",
       "                        '4a2a35c0-970a-440b-99ae-4144ac018fcd',\n",
       "                        [{\"a\": [1.0, 0.92, 0.92, 0.96, 0.96, 0.92, 0.947], \"b\": [0.0, 0.08, 0.0, 0.04, 0.0, 0.04, 0.026], \"c\": [0.0, 0.0, 0.08, 0.0, 0.04, 0.04, 0.026], \"hovertemplate\": \"color=Centr\\u00f3ide-simplex<br>a=%{a}<br>b=%{b}<br>c=%{c}<extra></extra>\", \"legendgroup\": \"Centr\\u00f3ide-simplex\", \"marker\": {\"color\": \"#1F77B4\", \"size\": 22, \"symbol\": \"circle\"}, \"mode\": \"markers\", \"name\": \"Centr\\u00f3ide-simplex\", \"showlegend\": true, \"subplot\": \"ternary\", \"type\": \"scatterternary\"}, {\"a\": [0.974, 0.937, 0.937], \"b\": [0.013, 0.053, 0.013], \"c\": [0.013, 0.013, 0.053], \"hovertemplate\": \"color=Adicional<br>a=%{a}<br>b=%{b}<br>c=%{c}<extra></extra>\", \"legendgroup\": \"Adicional\", \"marker\": {\"color\": \"#FF7F0E\", \"size\": 22, \"symbol\": \"circle\"}, \"mode\": \"markers\", \"name\": \"Adicional\", \"showlegend\": true, \"subplot\": \"ternary\", \"type\": \"scatterternary\"}],\n",
       "                        {\"height\": 500, \"legend\": {\"title\": {\"text\": \"\"}, \"tracegroupgap\": 0, \"x\": 0.33, \"xanchor\": \"right\", \"y\": 0.99, \"yanchor\": \"top\"}, \"margin\": {\"t\": 60}, \"template\": {\"data\": {\"pie\": [{\"automargin\": true, \"type\": \"pie\"}], \"scatter\": [{\"line\": {\"width\": 3}, \"marker\": {\"size\": 9}, \"type\": \"scatter\"}], \"scatter3d\": [{\"line\": {\"width\": 3}, \"marker\": {\"size\": 9}, \"type\": \"scatter3d\"}], \"scattergeo\": [{\"line\": {\"width\": 3}, \"marker\": {\"size\": 9}, \"type\": \"scattergeo\"}], \"scattergl\": [{\"line\": {\"width\": 3}, \"marker\": {\"size\": 9}, \"type\": \"scattergl\"}], \"scatterpolar\": [{\"line\": {\"width\": 3}, \"marker\": {\"size\": 9}, \"type\": \"scatterpolar\"}], \"scatterpolargl\": [{\"line\": {\"width\": 3}, \"marker\": {\"size\": 9}, \"type\": \"scatterpolargl\"}], \"scatterternary\": [{\"line\": {\"width\": 3}, \"marker\": {\"size\": 9}, \"type\": \"scatterternary\"}], \"table\": [{\"cells\": {\"height\": 30}, \"header\": {\"height\": 36}, \"type\": \"table\"}]}, \"layout\": {\"font\": {\"size\": 18}, \"xaxis\": {\"title\": {\"standoff\": 15}}, \"yaxis\": {\"title\": {\"standoff\": 15}}}}, \"ternary\": {\"aaxis\": {\"linewidth\": 2, \"min\": 0.9, \"ticks\": \"outside\", \"title\": {\"text\": \"PU\"}}, \"baxis\": {\"linewidth\": 2, \"min\": 0, \"ticks\": \"outside\", \"title\": {\"text\": \"NPG\"}}, \"caxis\": {\"linewidth\": 2, \"min\": 0, \"ticks\": \"outside\", \"title\": {\"text\": \"PAni\"}}, \"domain\": {\"x\": [0.0, 1.0], \"y\": [0.0, 1.0]}, \"sum\": 1}, \"width\": 750},\n",
       "                        {\"responsive\": true}\n",
       "                    ).then(function(){\n",
       "                            \n",
       "var gd = document.getElementById('4a2a35c0-970a-440b-99ae-4144ac018fcd');\n",
       "var x = new MutationObserver(function (mutations, observer) {{\n",
       "        var display = window.getComputedStyle(gd).display;\n",
       "        if (!display || display === 'none') {{\n",
       "            console.log([gd, 'removed!']);\n",
       "            Plotly.purge(gd);\n",
       "            observer.disconnect();\n",
       "        }}\n",
       "}});\n",
       "\n",
       "// Listen for the removal of the full notebook cells\n",
       "var notebookContainer = gd.closest('#notebook-container');\n",
       "if (notebookContainer) {{\n",
       "    x.observe(notebookContainer, {childList: true});\n",
       "}}\n",
       "\n",
       "// Listen for the clearing of the current output cell\n",
       "var outputEl = gd.closest('.output');\n",
       "if (outputEl) {{\n",
       "    x.observe(outputEl, {childList: true});\n",
       "}}\n",
       "\n",
       "                        })\n",
       "                };\n",
       "                });\n",
       "            </script>\n",
       "        </div>"
      ]
     },
     "metadata": {},
     "output_type": "display_data"
    }
   ],
   "source": [
    "fig = px.scatter_ternary(a=[1,0.92,0.92,0.96,0.96,0.92,0.947,0.974,0.937,0.937],\n",
    "                         b=[0,0.08,0.00,0.04,0.00,0.04,0.026,0.013,0.053,0.013],\n",
    "                         c=[0,0.00,0.08,0.00,0.04,0.04,0.026,0.013,0.013,0.053],\n",
    "                         color = ['Centróide-simplex','Centróide-simplex','Centróide-simplex','Centróide-simplex',\n",
    "                                  'Centróide-simplex','Centróide-simplex','Centróide-simplex','Adicional','Adicional','Adicional'],\n",
    "                         template = 'presentation'\n",
    "                        )\n",
    "fig.data[0].marker.size = 22\n",
    "fig.data[1].marker.size = 22\n",
    "fig.data[0].marker.symbol = 'circle'\n",
    "fig.update_layout({\n",
    "        'ternary':\n",
    "            {\n",
    "            'sum':1,\n",
    "            'aaxis':{'min': 0.9, \n",
    "                     'linewidth':2, 'ticks':'outside', #'tickformat':'%',\n",
    "                     'title_text':'PU',\n",
    "                     #'tickmode':'array','tickvals':[.98,.96,.94,.92]\n",
    "                    },\n",
    "            'baxis':{'min': 0, \n",
    "                     'linewidth':2, 'ticks':'outside', #'tickformat':'%',\n",
    "                     'title_text':'NPG',\n",
    "                     #'tickmode':'array','tickvals':[0,.02,.04,.06,.08]\n",
    "                    },\n",
    "            'caxis':{'min': 0, \n",
    "                     'linewidth':2, 'ticks':'outside', #'tickformat':'%',\n",
    "                     'title_text':'PAni',\n",
    "                     #'tickmode':'array','tickvals':[0,.02,.04,.06,.08]\n",
    "                    }\n",
    "            },\n",
    "    'legend':dict(title = dict(text = ''), yanchor=\"top\",\n",
    "                  y=0.99,\n",
    "                  xanchor=\"right\",\n",
    "                  x=0.33),\n",
    "                  \n",
    "    'width':750,\n",
    "    'height':500,\n",
    "}\n",
    ")"
   ]
  },
  {
   "cell_type": "code",
   "execution_count": null,
   "metadata": {},
   "outputs": [],
   "source": []
  }
 ],
 "metadata": {
  "kernelspec": {
   "display_name": "Python 3",
   "language": "python",
   "name": "python3"
  },
  "language_info": {
   "codemirror_mode": {
    "name": "ipython",
    "version": 3
   },
   "file_extension": ".py",
   "mimetype": "text/x-python",
   "name": "python",
   "nbconvert_exporter": "python",
   "pygments_lexer": "ipython3",
   "version": "3.7.6"
  }
 },
 "nbformat": 4,
 "nbformat_minor": 4
}
