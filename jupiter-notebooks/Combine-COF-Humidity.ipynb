{
 "cells": [
  {
   "cell_type": "code",
   "execution_count": 79,
   "metadata": {},
   "outputs": [],
   "source": [
    "import pandas as pd\n",
    "import numpy as np\n",
    "import plotly.express as px\n",
    "import plotly.graph_objects as go\n",
    "from plotly.subplots import make_subplots\n",
    "from pathlib import Path\n",
    "from os import listdir\n",
    "from os.path import isfile, join\n",
    "\n",
    "from ipywidgets import interact, widgets"
   ]
  },
  {
   "cell_type": "code",
   "execution_count": 80,
   "metadata": {},
   "outputs": [],
   "source": [
    "p = Path.home()\n",
    "cof_path = p/'OneDrive'/'Documentos'/'Python'/'Results'/'CSV'\n",
    "folders = ['PU/Umidade', 'PUEG4/Umidade', 'PP4', 'GPP11']\n",
    "cof_files = []\n",
    "for folder in folders:\n",
    "    cof_files.extend([cof_path/folder/f for f in listdir(cof_path/folder) if isfile(join(cof_path/folder, f))])\n",
    "hum_path = p/'OneDrive'/'Documentos'/'Python'/'Results'/'CSV'/'Umidade'/'umidade_combinada.csv'\n",
    "cof_summary_path = p/'OneDrive'/'Documentos'/'Python'/'Results'/'Outputs'/'Umidade'/'data.csv'\n",
    "parse_dates = ['Timestamp']"
   ]
  },
  {
   "cell_type": "code",
   "execution_count": 81,
   "metadata": {},
   "outputs": [],
   "source": [
    "hum_df = pd.read_csv(hum_path,\n",
    "                     usecols = ['Timestamp','Temperatura','Umidade'],\n",
    "                     parse_dates = parse_dates,\n",
    "                     dtype = np.float64\n",
    "                    )"
   ]
  },
  {
   "cell_type": "code",
   "execution_count": 82,
   "metadata": {},
   "outputs": [],
   "source": [
    "summary_df = pd.read_csv(cof_summary_path, parse_dates = ['Início'])"
   ]
  },
  {
   "cell_type": "code",
   "execution_count": 83,
   "metadata": {},
   "outputs": [],
   "source": [
    "starts = summary_df.sort_values(by = 'Início').reset_index(drop = True)['Início']\n",
    "corr_time_diffs = pd.Timedelta(value = 50, unit = 'min') + pd.Timedelta(value = 50, unit = 'sec')"
   ]
  },
  {
   "cell_type": "code",
   "execution_count": 84,
   "metadata": {},
   "outputs": [],
   "source": [
    "frames = {}\n",
    "for i, file in enumerate(cof_files):\n",
    "    cof_df = pd.read_csv(cof_files[0],\n",
    "                     header=17,\n",
    "                     skiprows = [21],\n",
    "                     dtype = {'T': np.float64,'COF': np.float64},\n",
    "                     usecols = ['T','COF']\n",
    "                    )\n",
    "    cof_df['Timedeltas'] = pd.Timedelta(value = 1, unit = 'ms') * cof_df.index\n",
    "    cof_df['Timestamp'] = starts[i] + cof_df['Timedeltas'] - corr_time_diffs\n",
    "    if i < 10:\n",
    "        cof_df['Timestamp'] = starts[i] + cof_df['Timedeltas'] - corr_time_diffs - pd.Timedelta(value = 12, unit = 'min')\n",
    "    cof_df = cof_df.drop(columns = 'Timedeltas')\n",
    "    frames[str(file)] = cof_df"
   ]
  },
  {
   "cell_type": "code",
   "execution_count": 85,
   "metadata": {},
   "outputs": [
    {
     "data": {
      "application/vnd.jupyter.widget-view+json": {
       "model_id": "5c73f18709ac453daeb3f69bcf11b710",
       "version_major": 2,
       "version_minor": 0
      },
      "text/plain": [
       "interactive(children=(Dropdown(description='key', options=('C:\\\\Users\\\\Caio\\\\OneDrive\\\\Documentos\\\\Python\\\\Res…"
      ]
     },
     "metadata": {},
     "output_type": "display_data"
    },
    {
     "data": {
      "text/plain": [
       "<function __main__.<lambda>(key)>"
      ]
     },
     "execution_count": 85,
     "metadata": {},
     "output_type": "execute_result"
    }
   ],
   "source": [
    "interact(lambda key: frames[key], key = list(frames.keys()))"
   ]
  },
  {
   "cell_type": "raw",
   "metadata": {},
   "source": [
    "previous_time = hum_df.loc[0,'Timestamp']\n",
    "for time in hum_df['Timestamp'].unique():\n",
    "        if time <= max(frame['Timestamp']):\n",
    "            mask = (frame['Timestamp']<time)&(frame['Timestamp']>=previous_time)\n",
    "            umidade = hum_df.loc[hum_df['Timestamp']==time, 'Umidade'].iat[0]\n",
    "            temperatura = hum_df.loc[hum_df['Timestamp']==time, 'Temperatura'].iat[0]\n",
    "            frame.loc[mask, 'Umidade'] = umidade\n",
    "            frame.loc[mask, 'Temperatura'] = temperatura\n",
    "            previous_time = time\n",
    "        else:\n",
    "            break"
   ]
  },
  {
   "cell_type": "code",
   "execution_count": 86,
   "metadata": {},
   "outputs": [],
   "source": [
    "hum_df['Time_round'] = hum_df['Timestamp'].round('S')\n",
    "for key, frame in frames.items():\n",
    "    frame['Time_round'] = frame['Timestamp'].round('S')"
   ]
  },
  {
   "cell_type": "code",
   "execution_count": 87,
   "metadata": {},
   "outputs": [],
   "source": [
    "for key, frame in frames.items():\n",
    "    frame = frame.set_index('Time_round').join(hum_df[['Time_round','Umidade','Temperatura']].set_index('Time_round'))\n",
    "    frames[key] = frame.reset_index(drop = True)"
   ]
  },
  {
   "cell_type": "code",
   "execution_count": 88,
   "metadata": {},
   "outputs": [
    {
     "data": {
      "application/vnd.jupyter.widget-view+json": {
       "model_id": "00004c33f05940a2a0a120bb0562a094",
       "version_major": 2,
       "version_minor": 0
      },
      "text/plain": [
       "interactive(children=(Dropdown(description='key', options=('C:\\\\Users\\\\Caio\\\\OneDrive\\\\Documentos\\\\Python\\\\Res…"
      ]
     },
     "metadata": {},
     "output_type": "display_data"
    },
    {
     "data": {
      "text/plain": [
       "<function __main__.<lambda>(key)>"
      ]
     },
     "execution_count": 88,
     "metadata": {},
     "output_type": "execute_result"
    }
   ],
   "source": [
    "interact(lambda key: frames[key], key = list(frames.keys()))"
   ]
  },
  {
   "cell_type": "code",
   "execution_count": 112,
   "metadata": {},
   "outputs": [],
   "source": [
    "def timeline_plot(key):\n",
    "    df = frames[key].sample(frac = 0.001).sort_values(by = 'Timestamp')\n",
    "    fig = make_subplots(specs=[[{\"secondary_y\": True}]])\n",
    "    fig.add_trace(go.Scatter(\n",
    "        x = df['Timestamp'], \n",
    "        y = df['COF'],\n",
    "        mode = 'lines',\n",
    "        name = 'COF',\n",
    "        marker_color = 'darkgreen',\n",
    "        legendgroup = 'COF',\n",
    "         ),\n",
    "        secondary_y = True,)\n",
    "    fig.add_trace(go.Scatter(   \n",
    "        x = df['Timestamp'],           \n",
    "        y = df['Umidade'],            \n",
    "        mode = 'lines',\n",
    "        name = 'Umidade',\n",
    "        marker_color = 'blue',\n",
    "        legendgroup = 'Umidade',\n",
    "         ),\n",
    "        secondary_y = False,)\n",
    "    fig.add_trace(go.Scatter(   \n",
    "        x = df['Timestamp'],           \n",
    "        y = df['Temperatura'],            \n",
    "        mode = 'lines',\n",
    "        name = 'Temperatura',\n",
    "        marker_color = 'red',\n",
    "        legendgroup = 'Umidade',\n",
    "         ),\n",
    "        secondary_y = False,)\n",
    "    fig.update_yaxes(title_text = 'COF (-)',\n",
    "                     title_font_color = 'darkgreen',\n",
    "                     range = [0,1],\n",
    "                     secondary_y = True) #only temperature\n",
    "    fig.update_yaxes(title_text = 'Umidade Relativa (%) / Temperatura (°C)',\n",
    "                     title_font_color = 'black',\n",
    "                     range = [0,100],\n",
    "                     secondary_y = False) #only humidity\n",
    "    fig.update_layout(template = 'plotly')\n",
    "    return fig"
   ]
  },
  {
   "cell_type": "code",
   "execution_count": 113,
   "metadata": {
    "scrolled": false
   },
   "outputs": [
    {
     "data": {
      "application/vnd.jupyter.widget-view+json": {
       "model_id": "3889b4f0d8524408883e06257b1336fd",
       "version_major": 2,
       "version_minor": 0
      },
      "text/plain": [
       "interactive(children=(Dropdown(description='key', options=('C:\\\\Users\\\\Caio\\\\OneDrive\\\\Documentos\\\\Python\\\\Res…"
      ]
     },
     "metadata": {},
     "output_type": "display_data"
    },
    {
     "data": {
      "text/plain": [
       "<function __main__.timeline_plot(key)>"
      ]
     },
     "execution_count": 113,
     "metadata": {},
     "output_type": "execute_result"
    }
   ],
   "source": [
    "interact(timeline_plot, key = list(frames.keys()))"
   ]
  },
  {
   "cell_type": "code",
   "execution_count": 121,
   "metadata": {},
   "outputs": [
    {
     "data": {
      "text/plain": [
       "'Umidade_FC_001.csv'"
      ]
     },
     "execution_count": 121,
     "metadata": {},
     "output_type": "execute_result"
    }
   ],
   "source": [
    "list(frames.keys())[0][-18:]"
   ]
  },
  {
   "cell_type": "code",
   "execution_count": 116,
   "metadata": {},
   "outputs": [],
   "source": [
    "paths = {}\n",
    "for i, key in enumerate(frames.keys()):\n",
    "    if i < 16:\n",
    "        path = cof_path/'Umidade'/'PU'\n",
    "    elif i < 33:\n",
    "        path = cof_path/'Umidade'/'GP4'\n",
    "    elif i < 41:\n",
    "        path = cof_path/'Umidade'/'PP4'\n",
    "    else:\n",
    "        path = cof_path/'Umidade'/'GPP11'\n",
    "    paths[key] = path"
   ]
  },
  {
   "cell_type": "code",
   "execution_count": 123,
   "metadata": {},
   "outputs": [],
   "source": [
    "for key, frame in frames.items():\n",
    "    frame.to_csv(paths[key]/key[-18:])"
   ]
  },
  {
   "cell_type": "code",
   "execution_count": null,
   "metadata": {},
   "outputs": [],
   "source": []
  }
 ],
 "metadata": {
  "kernelspec": {
   "display_name": "Python 3",
   "language": "python",
   "name": "python3"
  },
  "language_info": {
   "codemirror_mode": {
    "name": "ipython",
    "version": 3
   },
   "file_extension": ".py",
   "mimetype": "text/x-python",
   "name": "python",
   "nbconvert_exporter": "python",
   "pygments_lexer": "ipython3",
   "version": "3.7.6"
  }
 },
 "nbformat": 4,
 "nbformat_minor": 4
}
